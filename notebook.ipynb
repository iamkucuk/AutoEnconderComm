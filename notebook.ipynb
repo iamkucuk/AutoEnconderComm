{
 "cells": [
  {
   "cell_type": "markdown",
   "metadata": {},
   "source": [
    "# Spatio-Temporal Event Prediction Project\n",
    "## Prepared by Furkan Küçük for DataBoss Analytics Job Application"
   ]
  },
  {
   "cell_type": "markdown",
   "metadata": {},
   "source": [
    "Spatio-Temporal prediction became as an important research topic for the field of Deep Learning applications. It may have wide applications for Video processing, sequential image processing and event prediction. \n",
    "\n",
    "This notebook will focus on the models designed for Spatio-Temporal event prediction."
   ]
  },
  {
   "cell_type": "code",
   "execution_count": 12,
   "metadata": {
    "pycharm": {
     "is_executing": false
    }
   },
   "outputs": [],
   "source": [
    "from torch.utils.data import DataLoader\n",
    "from model_utils import ModelEngine\n",
    "import numpy as np\n",
    "import torch\n",
    "from torch import nn, optim\n",
    "\n",
    "from CNN_RNN import CNNwithRNN\n",
    "from CRNN import CRNN\n",
    "from ConvNet import ConvNet\n",
    "from utils import train_test_split\n",
    "from DatasetUtils import *\n",
    "from evaluation_utils import calculate_f1_score_for_thresholds\n",
    "import matplotlib.pyplot as plt\n",
    "# Disabling warnings. This should be used with great caution as this might be suppress neccessary warnings.\n",
    "import warnings\n",
    "warnings.filterwarnings(\"ignore\")"
   ]
  },
  {
   "cell_type": "markdown",
   "metadata": {},
   "source": [
    "In this project, we have minimal information about the given dataset. However, one may develop some intuition with applying various machine learning models and evaluating them. "
   ]
  },
  {
   "cell_type": "code",
   "execution_count": 2,
   "metadata": {
    "jupyter": {
     "outputs_hidden": false
    },
    "pycharm": {
     "is_executing": false,
     "name": "#%%\n"
    }
   },
   "outputs": [],
   "source": [
    "dataset = np.load(\"data/train_set.npy\")\n",
    "trainset, testset = train_test_split(dataset)\n",
    "train_dataset, validation_dataset = train_test_split(dataset=trainset, train_set_ratio=1 - (len(testset) / len(trainset)))"
   ]
  },
  {
   "cell_type": "markdown",
   "metadata": {},
   "source": [
    "This network architecture type is first to be experimented on. The model architecture is as follows:\n",
    "\n",
    "- Transposed Convolution Layers employed as adaptive up-sampling. Intuition behind this step is simply finding a regression pattern between adjacent places.\n",
    "- Convolutional Layers employed for enriched pattern detection between previously found regression patterns. Both Transposed Convolutional and standard Convolutional layers are employed to capture spatial data.\n",
    "- GRU Layer employed to capture temporal data. Please note that some important spatial data might be lost due to transition from spatial feature extractor part of the model (previous layer).\n",
    "- Fully connected layer for decision making."
   ]
  },
  {
   "cell_type": "code",
   "execution_count": 3,
   "metadata": {
    "jupyter": {
     "outputs_hidden": false
    },
    "pycharm": {
     "name": "#%%\n"
    }
   },
   "outputs": [
    {
     "name": "stdout",
     "output_type": "stream",
     "text": [
      "Using device cuda:0\n"
     ]
    }
   ],
   "source": [
    "model1 = CNNwithRNN()\n",
    "optimizer1 = optim.Adam(model1.parameters())\n",
    "criterion1 = nn.BCEWithLogitsLoss()\n",
    "engine1 = ModelEngine(model1, criterion1, optimizer1, is_recurrent=True, model_name=\"CNNwithRNN1\")\n",
    "train_dataset1 = CNNwithRNNDataset(train_dataset)\n",
    "validation_dataset1 = CNNwithRNNDataset(validation_dataset)\n",
    "dataloaders1 = {\n",
    "    \"train\": DataLoader(train_dataset1, batch_size=32),\n",
    "    \"val\": DataLoader(validation_dataset1, batch_size=32)\n",
    "}"
   ]
  },
  {
   "cell_type": "code",
   "execution_count": 4,
   "metadata": {
    "scrolled": false
   },
   "outputs": [
    {
     "data": {
      "application/vnd.jupyter.widget-view+json": {
       "model_id": "1a83750ed2254be2bece396b8846986b",
       "version_major": 2,
       "version_minor": 0
      },
      "text/plain": [
       "HBox(children=(FloatProgress(value=0.0, description='Epochs', max=10.0, style=ProgressStyle(description_width=…"
      ]
     },
     "metadata": {},
     "output_type": "display_data"
    },
    {
     "data": {
      "application/vnd.jupyter.widget-view+json": {
       "model_id": "",
       "version_major": 2,
       "version_minor": 0
      },
      "text/plain": [
       "HBox(children=(FloatProgress(value=0.0, description='Iterations', max=99.0, style=ProgressStyle(description_wi…"
      ]
     },
     "metadata": {},
     "output_type": "display_data"
    },
    {
     "data": {
      "application/vnd.jupyter.widget-view+json": {
       "model_id": "",
       "version_major": 2,
       "version_minor": 0
      },
      "text/plain": [
       "HBox(children=(FloatProgress(value=0.0, description='Iterations', max=22.0, style=ProgressStyle(description_wi…"
      ]
     },
     "metadata": {},
     "output_type": "display_data"
    },
    {
     "data": {
      "application/vnd.jupyter.widget-view+json": {
       "model_id": "",
       "version_major": 2,
       "version_minor": 0
      },
      "text/plain": [
       "HBox(children=(FloatProgress(value=0.0, description='Iterations', max=99.0, style=ProgressStyle(description_wi…"
      ]
     },
     "metadata": {},
     "output_type": "display_data"
    },
    {
     "data": {
      "application/vnd.jupyter.widget-view+json": {
       "model_id": "",
       "version_major": 2,
       "version_minor": 0
      },
      "text/plain": [
       "HBox(children=(FloatProgress(value=0.0, description='Iterations', max=22.0, style=ProgressStyle(description_wi…"
      ]
     },
     "metadata": {},
     "output_type": "display_data"
    },
    {
     "data": {
      "application/vnd.jupyter.widget-view+json": {
       "model_id": "",
       "version_major": 2,
       "version_minor": 0
      },
      "text/plain": [
       "HBox(children=(FloatProgress(value=0.0, description='Iterations', max=99.0, style=ProgressStyle(description_wi…"
      ]
     },
     "metadata": {},
     "output_type": "display_data"
    },
    {
     "data": {
      "application/vnd.jupyter.widget-view+json": {
       "model_id": "",
       "version_major": 2,
       "version_minor": 0
      },
      "text/plain": [
       "HBox(children=(FloatProgress(value=0.0, description='Iterations', max=22.0, style=ProgressStyle(description_wi…"
      ]
     },
     "metadata": {},
     "output_type": "display_data"
    },
    {
     "data": {
      "application/vnd.jupyter.widget-view+json": {
       "model_id": "",
       "version_major": 2,
       "version_minor": 0
      },
      "text/plain": [
       "HBox(children=(FloatProgress(value=0.0, description='Iterations', max=99.0, style=ProgressStyle(description_wi…"
      ]
     },
     "metadata": {},
     "output_type": "display_data"
    },
    {
     "data": {
      "application/vnd.jupyter.widget-view+json": {
       "model_id": "",
       "version_major": 2,
       "version_minor": 0
      },
      "text/plain": [
       "HBox(children=(FloatProgress(value=0.0, description='Iterations', max=22.0, style=ProgressStyle(description_wi…"
      ]
     },
     "metadata": {},
     "output_type": "display_data"
    },
    {
     "name": "stdout",
     "output_type": "stream",
     "text": [
      "Loss diddn't decrease. Early stopping.\n"
     ]
    }
   ],
   "source": [
    "engine1.fit(dataloaders1, retain_graph=True)"
   ]
  },
  {
   "cell_type": "code",
   "execution_count": 13,
   "metadata": {},
   "outputs": [
    {
     "data": {
      "image/png": "[encoded data removed]",
      "text/plain": [
       "<Figure size 432x288 with 1 Axes>"
      ]
     },
     "metadata": {
      "needs_background": "light"
     },
     "output_type": "display_data"
    }
   ],
   "source": [
    "precision, recall = engine1.evaluate_model_with_probas(dataloaders1[\"val\"])\n",
    "plt.plot(recall, precision)\n",
    "plt.show()"
   ]
  },
  {
   "cell_type": "markdown",
   "metadata": {},
   "source": [
    "As we see in the figure above, the Precision-Recall curve appears to be at some acceptable level."
   ]
  },
  {
   "cell_type": "code",
   "execution_count": 14,
   "metadata": {},
   "outputs": [
    {
     "data": {
      "text/plain": [
       "0.9313640312771504"
      ]
     },
     "execution_count": 14,
     "metadata": {},
     "output_type": "execute_result"
    }
   ],
   "source": [
    "np.max(calculate_f1_score_for_thresholds(recall, precision))"
   ]
  },
  {
   "cell_type": "markdown",
   "metadata": {},
   "source": [
    "The best F1 score from the trained model is like 0.93."
   ]
  },
  {
   "cell_type": "markdown",
   "metadata": {},
   "source": [
    "2D Convolutional Networks are good for detecting robust spatial patterns. They are also translation invariant. That property enables us to detect spatial patterns from a whole matrix (in most cases, these matrices are images). One may want to take advantage of this property as treating temporal information as spatial information. Since the property of being translation invariant still holds, this experiment may enables us to have a very important intuition about the given dataset by answering an important question: Are there any patterns in dataset?\n",
    "\n",
    "The model architecture is as follows:\n",
    "- Transposed Convolution Layers employed as adaptive up-sampling. Intuition behind this step is simply finding a regression pattern between adjacent places and adjacent time steps.\n",
    "- Convolutional Layers employed for enriched pattern detection between previously found regression patterns. Both Transposed Convolutional and standard Convolutional layers are employed to capture spatial and temporal patterns.\n",
    "- Fully connected layer for decision making."
   ]
  },
  {
   "cell_type": "code",
   "execution_count": 5,
   "metadata": {
    "jupyter": {
     "outputs_hidden": false
    },
    "pycharm": {
     "is_executing": false,
     "name": "#%%\n"
    }
   },
   "outputs": [
    {
     "name": "stdout",
     "output_type": "stream",
     "text": [
      "Using device cuda:0\n"
     ]
    }
   ],
   "source": [
    "model2 = ConvNet()\n",
    "criterion2 = nn.BCEWithLogitsLoss()\n",
    "optimizer2 = optim.Adam(model2.parameters())\n",
    "train_dataset2 = ConvNetDataset(train_dataset)\n",
    "validation_dataset2 = ConvNetDataset(validation_dataset)\n",
    "dataloaders2 = {\n",
    "    \"train\": DataLoader(train_dataset2, batch_size=32),\n",
    "    \"val\": DataLoader(validation_dataset2, batch_size=32)\n",
    "}\n",
    "engine2 = ModelEngine(model2, criterion2, optimizer2, model_name=\"3DConvNet1\")"
   ]
  },
  {
   "cell_type": "code",
   "execution_count": 6,
   "metadata": {
    "pycharm": {
     "is_executing": false
    }
   },
   "outputs": [
    {
     "data": {
      "application/vnd.jupyter.widget-view+json": {
       "model_id": "258901cbccc94f098e2f5a64f7f4eef0",
       "version_major": 2,
       "version_minor": 0
      },
      "text/plain": [
       "HBox(children=(FloatProgress(value=0.0, description='Epochs', max=10.0, style=ProgressStyle(description_width=…"
      ]
     },
     "metadata": {},
     "output_type": "display_data"
    },
    {
     "data": {
      "application/vnd.jupyter.widget-view+json": {
       "model_id": "",
       "version_major": 2,
       "version_minor": 0
      },
      "text/plain": [
       "HBox(children=(FloatProgress(value=0.0, description='Iterations', max=99.0, style=ProgressStyle(description_wi…"
      ]
     },
     "metadata": {},
     "output_type": "display_data"
    },
    {
     "data": {
      "application/vnd.jupyter.widget-view+json": {
       "model_id": "",
       "version_major": 2,
       "version_minor": 0
      },
      "text/plain": [
       "HBox(children=(FloatProgress(value=0.0, description='Iterations', max=21.0, style=ProgressStyle(description_wi…"
      ]
     },
     "metadata": {},
     "output_type": "display_data"
    },
    {
     "data": {
      "application/vnd.jupyter.widget-view+json": {
       "model_id": "",
       "version_major": 2,
       "version_minor": 0
      },
      "text/plain": [
       "HBox(children=(FloatProgress(value=0.0, description='Iterations', max=99.0, style=ProgressStyle(description_wi…"
      ]
     },
     "metadata": {},
     "output_type": "display_data"
    },
    {
     "data": {
      "application/vnd.jupyter.widget-view+json": {
       "model_id": "",
       "version_major": 2,
       "version_minor": 0
      },
      "text/plain": [
       "HBox(children=(FloatProgress(value=0.0, description='Iterations', max=21.0, style=ProgressStyle(description_wi…"
      ]
     },
     "metadata": {},
     "output_type": "display_data"
    },
    {
     "data": {
      "application/vnd.jupyter.widget-view+json": {
       "model_id": "",
       "version_major": 2,
       "version_minor": 0
      },
      "text/plain": [
       "HBox(children=(FloatProgress(value=0.0, description='Iterations', max=99.0, style=ProgressStyle(description_wi…"
      ]
     },
     "metadata": {},
     "output_type": "display_data"
    },
    {
     "data": {
      "application/vnd.jupyter.widget-view+json": {
       "model_id": "",
       "version_major": 2,
       "version_minor": 0
      },
      "text/plain": [
       "HBox(children=(FloatProgress(value=0.0, description='Iterations', max=21.0, style=ProgressStyle(description_wi…"
      ]
     },
     "metadata": {},
     "output_type": "display_data"
    },
    {
     "data": {
      "application/vnd.jupyter.widget-view+json": {
       "model_id": "",
       "version_major": 2,
       "version_minor": 0
      },
      "text/plain": [
       "HBox(children=(FloatProgress(value=0.0, description='Iterations', max=99.0, style=ProgressStyle(description_wi…"
      ]
     },
     "metadata": {},
     "output_type": "display_data"
    },
    {
     "data": {
      "application/vnd.jupyter.widget-view+json": {
       "model_id": "",
       "version_major": 2,
       "version_minor": 0
      },
      "text/plain": [
       "HBox(children=(FloatProgress(value=0.0, description='Iterations', max=21.0, style=ProgressStyle(description_wi…"
      ]
     },
     "metadata": {},
     "output_type": "display_data"
    },
    {
     "data": {
      "application/vnd.jupyter.widget-view+json": {
       "model_id": "",
       "version_major": 2,
       "version_minor": 0
      },
      "text/plain": [
       "HBox(children=(FloatProgress(value=0.0, description='Iterations', max=99.0, style=ProgressStyle(description_wi…"
      ]
     },
     "metadata": {},
     "output_type": "display_data"
    },
    {
     "data": {
      "application/vnd.jupyter.widget-view+json": {
       "model_id": "",
       "version_major": 2,
       "version_minor": 0
      },
      "text/plain": [
       "HBox(children=(FloatProgress(value=0.0, description='Iterations', max=21.0, style=ProgressStyle(description_wi…"
      ]
     },
     "metadata": {},
     "output_type": "display_data"
    },
    {
     "data": {
      "application/vnd.jupyter.widget-view+json": {
       "model_id": "",
       "version_major": 2,
       "version_minor": 0
      },
      "text/plain": [
       "HBox(children=(FloatProgress(value=0.0, description='Iterations', max=99.0, style=ProgressStyle(description_wi…"
      ]
     },
     "metadata": {},
     "output_type": "display_data"
    },
    {
     "data": {
      "application/vnd.jupyter.widget-view+json": {
       "model_id": "",
       "version_major": 2,
       "version_minor": 0
      },
      "text/plain": [
       "HBox(children=(FloatProgress(value=0.0, description='Iterations', max=21.0, style=ProgressStyle(description_wi…"
      ]
     },
     "metadata": {},
     "output_type": "display_data"
    },
    {
     "data": {
      "application/vnd.jupyter.widget-view+json": {
       "model_id": "",
       "version_major": 2,
       "version_minor": 0
      },
      "text/plain": [
       "HBox(children=(FloatProgress(value=0.0, description='Iterations', max=99.0, style=ProgressStyle(description_wi…"
      ]
     },
     "metadata": {},
     "output_type": "display_data"
    },
    {
     "data": {
      "application/vnd.jupyter.widget-view+json": {
       "model_id": "",
       "version_major": 2,
       "version_minor": 0
      },
      "text/plain": [
       "HBox(children=(FloatProgress(value=0.0, description='Iterations', max=21.0, style=ProgressStyle(description_wi…"
      ]
     },
     "metadata": {},
     "output_type": "display_data"
    },
    {
     "data": {
      "application/vnd.jupyter.widget-view+json": {
       "model_id": "",
       "version_major": 2,
       "version_minor": 0
      },
      "text/plain": [
       "HBox(children=(FloatProgress(value=0.0, description='Iterations', max=99.0, style=ProgressStyle(description_wi…"
      ]
     },
     "metadata": {},
     "output_type": "display_data"
    },
    {
     "data": {
      "application/vnd.jupyter.widget-view+json": {
       "model_id": "",
       "version_major": 2,
       "version_minor": 0
      },
      "text/plain": [
       "HBox(children=(FloatProgress(value=0.0, description='Iterations', max=21.0, style=ProgressStyle(description_wi…"
      ]
     },
     "metadata": {},
     "output_type": "display_data"
    },
    {
     "data": {
      "application/vnd.jupyter.widget-view+json": {
       "model_id": "",
       "version_major": 2,
       "version_minor": 0
      },
      "text/plain": [
       "HBox(children=(FloatProgress(value=0.0, description='Iterations', max=99.0, style=ProgressStyle(description_wi…"
      ]
     },
     "metadata": {},
     "output_type": "display_data"
    },
    {
     "data": {
      "application/vnd.jupyter.widget-view+json": {
       "model_id": "",
       "version_major": 2,
       "version_minor": 0
      },
      "text/plain": [
       "HBox(children=(FloatProgress(value=0.0, description='Iterations', max=21.0, style=ProgressStyle(description_wi…"
      ]
     },
     "metadata": {},
     "output_type": "display_data"
    },
    {
     "data": {
      "application/vnd.jupyter.widget-view+json": {
       "model_id": "",
       "version_major": 2,
       "version_minor": 0
      },
      "text/plain": [
       "HBox(children=(FloatProgress(value=0.0, description='Iterations', max=99.0, style=ProgressStyle(description_wi…"
      ]
     },
     "metadata": {},
     "output_type": "display_data"
    },
    {
     "data": {
      "application/vnd.jupyter.widget-view+json": {
       "model_id": "",
       "version_major": 2,
       "version_minor": 0
      },
      "text/plain": [
       "HBox(children=(FloatProgress(value=0.0, description='Iterations', max=21.0, style=ProgressStyle(description_wi…"
      ]
     },
     "metadata": {},
     "output_type": "display_data"
    },
    {
     "name": "stdout",
     "output_type": "stream",
     "text": [
      "Loss diddn't decrease. Early stopping.\n"
     ]
    }
   ],
   "source": [
    "engine2.fit(dataloaders2)"
   ]
  },
  {
   "cell_type": "code",
   "execution_count": 15,
   "metadata": {},
   "outputs": [
    {
     "data": {
      "image/png": "[encoded data removed]",
      "text/plain": [
       "<Figure size 432x288 with 1 Axes>"
      ]
     },
     "metadata": {
      "needs_background": "light"
     },
     "output_type": "display_data"
    }
   ],
   "source": [
    "precision, recall = engine2.evaluate_model_with_probas(dataloaders2[\"val\"])\n",
    "plt.plot(recall, precision)\n",
    "plt.show()"
   ]
  },
  {
   "cell_type": "markdown",
   "metadata": {},
   "source": [
    "From Precision-Recall curve above we can infer that 3D CNN architecture performs better than CNN with GRU model. One can also infer from the performance of that model that, the dataset has learnable patterns both in Spatial and Temporal domains "
   ]
  },
  {
   "cell_type": "code",
   "execution_count": 16,
   "metadata": {},
   "outputs": [
    {
     "data": {
      "text/plain": [
       "0.970920138888889"
      ]
     },
     "execution_count": 16,
     "metadata": {},
     "output_type": "execute_result"
    }
   ],
   "source": [
    "np.max(calculate_f1_score_for_thresholds(recall, precision))"
   ]
  },
  {
   "cell_type": "markdown",
   "metadata": {},
   "source": [
    "The best F1 score from the trained model is 0.97."
   ]
  },
  {
   "cell_type": "markdown",
   "metadata": {},
   "source": [
    "3D Convolutional Networks are mainly pattern extractors. The prediction they made is somewhat similar to Bayesian inference. This means, 3D Convolutional Networks will not perform well on unseen data. Convolutional GRU Network is simply a GRU emulation using convolutional kernels. A single Convolutional GRU (GRU2D) cell consists the same gates as standard GRU cells: \n",
    "- Reset Gate: This gate is employed for how much information from past to take into account.\n",
    "- Update Gate: This gate controls which information to forget, and which information to take into account.\n",
    "- Out Gate: Output of the GRU cell."
   ]
  },
  {
   "cell_type": "code",
   "execution_count": 7,
   "metadata": {},
   "outputs": [
    {
     "name": "stdout",
     "output_type": "stream",
     "text": [
      "Using device cuda:0\n"
     ]
    }
   ],
   "source": [
    "model3 = CRNN()\n",
    "optimizer3 = optim.Adam(model3.parameters())\n",
    "criterion3 = nn.BCEWithLogitsLoss()\n",
    "engine3 = ModelEngine(model3, criterion3, optimizer3, is_recurrent=True, model_name=\"CRNN1\")\n",
    "train_dataset3 = CRNNDataset(train_dataset)\n",
    "validation_dataset3 = CRNNDataset(validation_dataset)\n",
    "dataloaders3 = {\n",
    "    \"train\": DataLoader(train_dataset3, batch_size=32),\n",
    "    \"val\": DataLoader(validation_dataset3, batch_size=32)\n",
    "}"
   ]
  },
  {
   "cell_type": "code",
   "execution_count": 8,
   "metadata": {},
   "outputs": [
    {
     "data": {
      "application/vnd.jupyter.widget-view+json": {
       "model_id": "318505b949894327801ddde16cd46cf2",
       "version_major": 2,
       "version_minor": 0
      },
      "text/plain": [
       "HBox(children=(FloatProgress(value=0.0, description='Epochs', max=10.0, style=ProgressStyle(description_width=…"
      ]
     },
     "metadata": {},
     "output_type": "display_data"
    },
    {
     "data": {
      "application/vnd.jupyter.widget-view+json": {
       "model_id": "",
       "version_major": 2,
       "version_minor": 0
      },
      "text/plain": [
       "HBox(children=(FloatProgress(value=0.0, description='Iterations', max=99.0, style=ProgressStyle(description_wi…"
      ]
     },
     "metadata": {},
     "output_type": "display_data"
    },
    {
     "data": {
      "application/vnd.jupyter.widget-view+json": {
       "model_id": "",
       "version_major": 2,
       "version_minor": 0
      },
      "text/plain": [
       "HBox(children=(FloatProgress(value=0.0, description='Iterations', max=22.0, style=ProgressStyle(description_wi…"
      ]
     },
     "metadata": {},
     "output_type": "display_data"
    },
    {
     "data": {
      "application/vnd.jupyter.widget-view+json": {
       "model_id": "",
       "version_major": 2,
       "version_minor": 0
      },
      "text/plain": [
       "HBox(children=(FloatProgress(value=0.0, description='Iterations', max=99.0, style=ProgressStyle(description_wi…"
      ]
     },
     "metadata": {},
     "output_type": "display_data"
    },
    {
     "data": {
      "application/vnd.jupyter.widget-view+json": {
       "model_id": "",
       "version_major": 2,
       "version_minor": 0
      },
      "text/plain": [
       "HBox(children=(FloatProgress(value=0.0, description='Iterations', max=22.0, style=ProgressStyle(description_wi…"
      ]
     },
     "metadata": {},
     "output_type": "display_data"
    },
    {
     "data": {
      "application/vnd.jupyter.widget-view+json": {
       "model_id": "",
       "version_major": 2,
       "version_minor": 0
      },
      "text/plain": [
       "HBox(children=(FloatProgress(value=0.0, description='Iterations', max=99.0, style=ProgressStyle(description_wi…"
      ]
     },
     "metadata": {},
     "output_type": "display_data"
    },
    {
     "data": {
      "application/vnd.jupyter.widget-view+json": {
       "model_id": "",
       "version_major": 2,
       "version_minor": 0
      },
      "text/plain": [
       "HBox(children=(FloatProgress(value=0.0, description='Iterations', max=22.0, style=ProgressStyle(description_wi…"
      ]
     },
     "metadata": {},
     "output_type": "display_data"
    },
    {
     "data": {
      "application/vnd.jupyter.widget-view+json": {
       "model_id": "",
       "version_major": 2,
       "version_minor": 0
      },
      "text/plain": [
       "HBox(children=(FloatProgress(value=0.0, description='Iterations', max=99.0, style=ProgressStyle(description_wi…"
      ]
     },
     "metadata": {},
     "output_type": "display_data"
    },
    {
     "data": {
      "application/vnd.jupyter.widget-view+json": {
       "model_id": "",
       "version_major": 2,
       "version_minor": 0
      },
      "text/plain": [
       "HBox(children=(FloatProgress(value=0.0, description='Iterations', max=22.0, style=ProgressStyle(description_wi…"
      ]
     },
     "metadata": {},
     "output_type": "display_data"
    },
    {
     "data": {
      "application/vnd.jupyter.widget-view+json": {
       "model_id": "",
       "version_major": 2,
       "version_minor": 0
      },
      "text/plain": [
       "HBox(children=(FloatProgress(value=0.0, description='Iterations', max=99.0, style=ProgressStyle(description_wi…"
      ]
     },
     "metadata": {},
     "output_type": "display_data"
    },
    {
     "data": {
      "application/vnd.jupyter.widget-view+json": {
       "model_id": "",
       "version_major": 2,
       "version_minor": 0
      },
      "text/plain": [
       "HBox(children=(FloatProgress(value=0.0, description='Iterations', max=22.0, style=ProgressStyle(description_wi…"
      ]
     },
     "metadata": {},
     "output_type": "display_data"
    },
    {
     "data": {
      "application/vnd.jupyter.widget-view+json": {
       "model_id": "",
       "version_major": 2,
       "version_minor": 0
      },
      "text/plain": [
       "HBox(children=(FloatProgress(value=0.0, description='Iterations', max=99.0, style=ProgressStyle(description_wi…"
      ]
     },
     "metadata": {},
     "output_type": "display_data"
    },
    {
     "data": {
      "application/vnd.jupyter.widget-view+json": {
       "model_id": "",
       "version_major": 2,
       "version_minor": 0
      },
      "text/plain": [
       "HBox(children=(FloatProgress(value=0.0, description='Iterations', max=22.0, style=ProgressStyle(description_wi…"
      ]
     },
     "metadata": {},
     "output_type": "display_data"
    },
    {
     "data": {
      "application/vnd.jupyter.widget-view+json": {
       "model_id": "",
       "version_major": 2,
       "version_minor": 0
      },
      "text/plain": [
       "HBox(children=(FloatProgress(value=0.0, description='Iterations', max=99.0, style=ProgressStyle(description_wi…"
      ]
     },
     "metadata": {},
     "output_type": "display_data"
    },
    {
     "data": {
      "application/vnd.jupyter.widget-view+json": {
       "model_id": "",
       "version_major": 2,
       "version_minor": 0
      },
      "text/plain": [
       "HBox(children=(FloatProgress(value=0.0, description='Iterations', max=22.0, style=ProgressStyle(description_wi…"
      ]
     },
     "metadata": {},
     "output_type": "display_data"
    },
    {
     "data": {
      "application/vnd.jupyter.widget-view+json": {
       "model_id": "",
       "version_major": 2,
       "version_minor": 0
      },
      "text/plain": [
       "HBox(children=(FloatProgress(value=0.0, description='Iterations', max=99.0, style=ProgressStyle(description_wi…"
      ]
     },
     "metadata": {},
     "output_type": "display_data"
    },
    {
     "data": {
      "application/vnd.jupyter.widget-view+json": {
       "model_id": "",
       "version_major": 2,
       "version_minor": 0
      },
      "text/plain": [
       "HBox(children=(FloatProgress(value=0.0, description='Iterations', max=22.0, style=ProgressStyle(description_wi…"
      ]
     },
     "metadata": {},
     "output_type": "display_data"
    },
    {
     "name": "stdout",
     "output_type": "stream",
     "text": [
      "Loss diddn't decrease. Early stopping.\n"
     ]
    }
   ],
   "source": [
    "engine3.fit(dataloaders3, retain_graph=True)"
   ]
  },
  {
   "cell_type": "code",
   "execution_count": 17,
   "metadata": {},
   "outputs": [
    {
     "data": {
      "image/png": "[encoded data removed]",
      "text/plain": [
       "<Figure size 432x288 with 1 Axes>"
      ]
     },
     "metadata": {
      "needs_background": "light"
     },
     "output_type": "display_data"
    }
   ],
   "source": [
    "precision, recall = engine3.evaluate_model_with_probas(dataloaders3[\"val\"])\n",
    "plt.plot(recall, precision)\n",
    "plt.show()"
   ]
  },
  {
   "cell_type": "code",
   "execution_count": 16,
   "metadata": {},
   "outputs": [
    {
     "data": {
      "text/plain": [
       "0.970920138888889"
      ]
     },
     "execution_count": 16,
     "metadata": {},
     "output_type": "execute_result"
    }
   ],
   "source": [
    "np.max(calculate_f1_score_for_thresholds(recall, precision))"
   ]
  },
  {
   "cell_type": "markdown",
   "metadata": {},
   "source": [
    "Convolutional GRU (or CRNN) architecture outputs the best Precision-Recall curve among other models which means by evaluating probabilities alone, CRNN model performs the best. F1 score is the same as 3D Conv Net but validation loss is even lower. This means this model is tops for robustness."
   ]
  },
  {
   "cell_type": "markdown",
   "metadata": {},
   "source": [
    "### Evaluation on Test Dataset"
   ]
  },
  {
   "cell_type": "markdown",
   "metadata": {},
   "source": [
    "It is a good practice to save a test set which is never seen before by the model, and evaluate the final results on it."
   ]
  },
  {
   "cell_type": "code",
   "execution_count": 28,
   "metadata": {
    "scrolled": true
   },
   "outputs": [
    {
     "data": {
      "image/png": "[encoded data removed]",
      "text/plain": [
       "<Figure size 432x288 with 1 Axes>"
      ]
     },
     "metadata": {
      "needs_background": "light"
     },
     "output_type": "display_data"
    }
   ],
   "source": [
    "testset1 = CNNwithRNNDataset(testset)\n",
    "dataloader_test1 = DataLoader(testset1, batch_size=32)\n",
    "precision, recall = engine1.evaluate_model_with_probas(dataloader_test1)\n",
    "plt.plot(recall, precision)\n",
    "plt.xlabel(\"Recall\")\n",
    "plt.ylabel(\"Precision\")\n",
    "f1_score = np.max(calculate_f1_score_for_thresholds(recall, precision))\n",
    "plt.title(\"Precision-Recall Curve CNN with GRU model - F1 Score: {0:.3f}\".format(f1_score))\n",
    "plt.show()"
   ]
  },
  {
   "cell_type": "markdown",
   "metadata": {},
   "source": [
    "As it can be seen, the precision-recall curve is similar with the validation dataset. F1 score of this model is at acceptable levels."
   ]
  },
  {
   "cell_type": "code",
   "execution_count": 29,
   "metadata": {
    "scrolled": true
   },
   "outputs": [
    {
     "data": {
      "image/png": "[encoded data removed]",
      "text/plain": [
       "<Figure size 432x288 with 1 Axes>"
      ]
     },
     "metadata": {
      "needs_background": "light"
     },
     "output_type": "display_data"
    }
   ],
   "source": [
    "testset2 = ConvNetDataset(testset)\n",
    "dataloader_test2 = DataLoader(testset2, batch_size=32)\n",
    "precision, recall = engine2.evaluate_model_with_probas(dataloader_test2)\n",
    "plt.plot(recall, precision)\n",
    "plt.xlabel(\"Recall\")\n",
    "plt.ylabel(\"Precision\")\n",
    "f1_score = np.max(calculate_f1_score_for_thresholds(recall, precision))\n",
    "plt.title(\"Precision-Recall Curve 3DConvNet model - F1 Score: {0:.3f}\".format(f1_score))\n",
    "plt.show()"
   ]
  },
  {
   "cell_type": "markdown",
   "metadata": {},
   "source": [
    "One may infer from the above figure, 3DCNN still outperforms the CNN with GRU structure."
   ]
  },
  {
   "cell_type": "code",
   "execution_count": 30,
   "metadata": {
    "scrolled": true
   },
   "outputs": [
    {
     "data": {
      "image/png": "[encoded data removed]",
      "text/plain": [
       "<Figure size 432x288 with 1 Axes>"
      ]
     },
     "metadata": {
      "needs_background": "light"
     },
     "output_type": "display_data"
    }
   ],
   "source": [
    "testset3 = CRNNDataset(testset)\n",
    "dataloader_test3 = DataLoader(testset3, batch_size=32)\n",
    "precision, recall = engine3.evaluate_model_with_probas(dataloader_test3)\n",
    "plt.plot(recall, precision)\n",
    "plt.xlabel(\"Recall\")\n",
    "plt.ylabel(\"Precision\")\n",
    "f1_score = np.max(calculate_f1_score_for_thresholds(recall, precision))\n",
    "plt.title(\"Precision-Recall Curve CRNN model - F1 Score: {0:.3f}\".format(f1_score))\n",
    "plt.show()"
   ]
  },
  {
   "cell_type": "markdown",
   "metadata": {},
   "source": [
    "As expected, the precision-recall curve for CRNN model appears to be best among other models. For the test set, best F1 score surpassed 3DConvNet's score."
   ]
  }
 ],
 "metadata": {
  "kernelspec": {
   "display_name": "Python 3",
   "language": "python",
   "name": "python3"
  },
  "language_info": {
   "codemirror_mode": {
    "name": "ipython",
    "version": 3
   },
   "file_extension": ".py",
   "mimetype": "text/x-python",
   "name": "python",
   "nbconvert_exporter": "python",
   "pygments_lexer": "ipython3",
   "version": "3.7.5"
  },
  "pycharm": {
   "stem_cell": {
    "cell_type": "raw",
    "source": [],
    "metadata": {
     "collapsed": false
    }
   }
  },
  "widgets": {
   "application/vnd.jupyter.widget-state+json": {
    "state": {
     "004f8e1a0d6544d985580c215b5a0380": {
      "model_module": "@jupyter-widgets/controls",
      "model_module_version": "1.5.0",
      "model_name": "ProgressStyleModel",
      "state": {
       "description_width": "initial"
      }
     },
     "006319ac968d4a73ab4783c8635c3c04": {
      "model_module": "@jupyter-widgets/controls",
      "model_module_version": "1.5.0",
      "model_name": "ProgressStyleModel",
      "state": {
       "description_width": "initial"
      }
     },
     "0072a5db39464511a5b1c37421766df4": {
      "model_module": "@jupyter-widgets/controls",
      "model_module_version": "1.5.0",
      "model_name": "FloatProgressModel",
      "state": {
       "bar_style": "danger",
       "description": "Train Loss: 0.0478 - Val Loss: 0.1108:  90%",
       "layout": "IPY_MODEL_e0d5281e9d844ba49d5a8b05abd25d09",
       "max": 10,
       "style": "IPY_MODEL_b8018f5b7cdc4334b92ad6ade2aed8c8",
       "value": 9
      }
     },
     "00a2a9a156f1490ba1e4fc6b215b81e2": {
      "model_module": "@jupyter-widgets/base",
      "model_module_version": "1.2.0",
      "model_name": "LayoutModel",
      "state": {}
     },
     "00ca2cf3070443fea20d9544e539093f": {
      "model_module": "@jupyter-widgets/controls",
      "model_module_version": "1.5.0",
      "model_name": "ProgressStyleModel",
      "state": {
       "description_width": "initial"
      }
     },
     "00cc41679d9a41fe8f8ac08250703c38": {
      "model_module": "@jupyter-widgets/controls",
      "model_module_version": "1.5.0",
      "model_name": "DescriptionStyleModel",
      "state": {
       "description_width": ""
      }
     },
     "00d87659a3d747d1a19550e98a164169": {
      "model_module": "@jupyter-widgets/controls",
      "model_module_version": "1.5.0",
      "model_name": "DescriptionStyleModel",
      "state": {
       "description_width": ""
      }
     },
     "00dfa0889f134cf593a8ff7ef5ee115e": {
      "model_module": "@jupyter-widgets/base",
      "model_module_version": "1.2.0",
      "model_name": "LayoutModel",
      "state": {}
     },
     "00f633747ec246e09be0e2ff70a194e1": {
      "model_module": "@jupyter-widgets/controls",
      "model_module_version": "1.5.0",
      "model_name": "ProgressStyleModel",
      "state": {
       "description_width": "initial"
      }
     },
     "013a36c4ce3f4e80bef8e2907a2e953b": {
      "model_module": "@jupyter-widgets/base",
      "model_module_version": "1.2.0",
      "model_name": "LayoutModel",
      "state": {}
     },
     "015193b9e0814f7a9a10bf08702a2c9c": {
      "model_module": "@jupyter-widgets/controls",
      "model_module_version": "1.5.0",
      "model_name": "ProgressStyleModel",
      "state": {
       "description_width": "initial"
      }
     },
     "01583df94fe24598af6ce96811de81c1": {
      "model_module": "@jupyter-widgets/controls",
      "model_module_version": "1.5.0",
      "model_name": "HBoxModel",
      "state": {
       "children": [
        "IPY_MODEL_7541320e6bc7445ca0e12690f187af81",
        "IPY_MODEL_8315417fd0a340c3aff4906eb5ec26c2"
       ],
       "layout": "IPY_MODEL_a5da6c821f784d9da587c8f7b330dbcc"
      }
     },
     "019f42ee189b4dfc90e6cb1670d11a90": {
      "model_module": "@jupyter-widgets/base",
      "model_module_version": "1.2.0",
      "model_name": "LayoutModel",
      "state": {}
     },
     "01c8d87abe3c4f41958d4f351022a7fd": {
      "model_module": "@jupyter-widgets/controls",
      "model_module_version": "1.5.0",
      "model_name": "FloatProgressModel",
      "state": {
       "description": "train loss: 0.0188: 100%",
       "layout": "IPY_MODEL_3cbab686cf26414ebc66da87fcd78839",
       "max": 50,
       "style": "IPY_MODEL_9b31380026af430bba4a2aad7bc39008",
       "value": 50
      }
     },
     "0209a3c9fc224ad88cb3a665cf13ee58": {
      "model_module": "@jupyter-widgets/controls",
      "model_module_version": "1.5.0",
      "model_name": "ProgressStyleModel",
      "state": {
       "description_width": "initial"
      }
     },
     "025a6424cf77465fb3cb91d18d94cd76": {
      "model_module": "@jupyter-widgets/base",
      "model_module_version": "1.2.0",
      "model_name": "LayoutModel",
      "state": {}
     },
     "0264c90f9b6d4fe0a61be7b6854550cb": {
      "model_module": "@jupyter-widgets/base",
      "model_module_version": "1.2.0",
      "model_name": "LayoutModel",
      "state": {}
     },
     "02f5287b816b4e5f96c96d56f7445519": {
      "model_module": "@jupyter-widgets/controls",
      "model_module_version": "1.5.0",
      "model_name": "DescriptionStyleModel",
      "state": {
       "description_width": ""
      }
     },
     "03011973c5114a7882d7cd0ec86d3c59": {
      "model_module": "@jupyter-widgets/controls",
      "model_module_version": "1.5.0",
      "model_name": "FloatProgressModel",
      "state": {
       "description": "train loss: 0.0186: 100%",
       "layout": "IPY_MODEL_2180f63e35e249ea90b6066b8fb857e5",
       "max": 99,
       "style": "IPY_MODEL_e91ab587d551403fa3bcc138311e08d6",
       "value": 99
      }
     },
     "0306add99b0e4e4282ccc3c562b3007d": {
      "model_module": "@jupyter-widgets/controls",
      "model_module_version": "1.5.0",
      "model_name": "FloatProgressModel",
      "state": {
       "description": "val loss: 0.2019: 100%",
       "layout": "IPY_MODEL_8e3fd0c0e5ab492c9d5811c4afda0e50",
       "max": 22,
       "style": "IPY_MODEL_e7f69a55f5e34f48baf26d95cbfc806d",
       "value": 22
      }
     },
     "03323ef98d014b97a957e85e6607f412": {
      "model_module": "@jupyter-widgets/controls",
      "model_module_version": "1.5.0",
      "model_name": "FloatProgressModel",
      "state": {
       "description": "train loss: 0.0726: 100%",
       "layout": "IPY_MODEL_27c793f92adf47c58afb89434b409a38",
       "max": 99,
       "style": "IPY_MODEL_14f0854721704ed3bbd122019d0a62e2",
       "value": 99
      }
     },
     "0346194f080245bca662679e7ea2722a": {
      "model_module": "@jupyter-widgets/controls",
      "model_module_version": "1.5.0",
      "model_name": "ProgressStyleModel",
      "state": {
       "description_width": "initial"
      }
     },
     "0346f10a1f9b4093aac22c3a23c37935": {
      "model_module": "@jupyter-widgets/controls",
      "model_module_version": "1.5.0",
      "model_name": "FloatProgressModel",
      "state": {
       "description": "val loss: 0.0671: 100%",
       "layout": "IPY_MODEL_ce1cf14311db4f87a43493557bb2f3e0",
       "max": 21,
       "style": "IPY_MODEL_5acdf8d7d4b24d50a77434d373870465",
       "value": 21
      }
     },
     "034c38e477d5487db7ef97454245a858": {
      "model_module": "@jupyter-widgets/base",
      "model_module_version": "1.2.0",
      "model_name": "LayoutModel",
      "state": {}
     },
     "036045104e4344a7910cd4dbdb6d799b": {
      "model_module": "@jupyter-widgets/controls",
      "model_module_version": "1.5.0",
      "model_name": "DescriptionStyleModel",
      "state": {
       "description_width": ""
      }
     },
     "03b3ad733e2649e2bdfc4283ed97bdd2": {
      "model_module": "@jupyter-widgets/controls",
      "model_module_version": "1.5.0",
      "model_name": "FloatProgressModel",
      "state": {
       "description": "val loss: 0.3204: 100%",
       "layout": "IPY_MODEL_5f9fc3f27b654755a682ead6c8cc0638",
       "max": 11,
       "style": "IPY_MODEL_a8d0c085f1eb4dfe9e05544e19f7a585",
       "value": 11
      }
     },
     "03c9e19ef6294352a132eed20b1c333c": {
      "model_module": "@jupyter-widgets/base",
      "model_module_version": "1.2.0",
      "model_name": "LayoutModel",
      "state": {}
     },
     "03d1da46ef8c4f0399cc8effbe57f54f": {
      "model_module": "@jupyter-widgets/controls",
      "model_module_version": "1.5.0",
      "model_name": "FloatProgressModel",
      "state": {
       "description": "val loss: 0.3353: 100%",
       "layout": "IPY_MODEL_9aa3162f15f4496e96a535a311ba7bcb",
       "max": 11,
       "style": "IPY_MODEL_8f15e88020504993b9d0fae655117b2f",
       "value": 11
      }
     },
     "0409deb1befa40b5ba6a38031eaef764": {
      "model_module": "@jupyter-widgets/base",
      "model_module_version": "1.2.0",
      "model_name": "LayoutModel",
      "state": {}
     },
     "040f7362f15c4711bf9835e249f55e87": {
      "model_module": "@jupyter-widgets/base",
      "model_module_version": "1.2.0",
      "model_name": "LayoutModel",
      "state": {}
     },
     "0423ab0dc1794bba84d9a00a2215cf2d": {
      "model_module": "@jupyter-widgets/controls",
      "model_module_version": "1.5.0",
      "model_name": "ProgressStyleModel",
      "state": {
       "description_width": "initial"
      }
     },
     "0438d78bd85f4522982fab1e238c0c0d": {
      "model_module": "@jupyter-widgets/base",
      "model_module_version": "1.2.0",
      "model_name": "LayoutModel",
      "state": {}
     },
     "047d996befe14852971d258a2edb97d7": {
      "model_module": "@jupyter-widgets/base",
      "model_module_version": "1.2.0",
      "model_name": "LayoutModel",
      "state": {}
     },
     "04947f7a7c944e7c9827ac7e5bc65e5e": {
      "model_module": "@jupyter-widgets/base",
      "model_module_version": "1.2.0",
      "model_name": "LayoutModel",
      "state": {}
     },
     "0497ef19ba864c6fa0290eadc618f522": {
      "model_module": "@jupyter-widgets/base",
      "model_module_version": "1.2.0",
      "model_name": "LayoutModel",
      "state": {}
     },
     "04e1a9e1d3dd4f0294fd64b914208208": {
      "model_module": "@jupyter-widgets/controls",
      "model_module_version": "1.5.0",
      "model_name": "ProgressStyleModel",
      "state": {
       "description_width": "initial"
      }
     },
     "04f031e69ca4488882a7cc4bef6d0c6c": {
      "model_module": "@jupyter-widgets/controls",
      "model_module_version": "1.5.0",
      "model_name": "DescriptionStyleModel",
      "state": {
       "description_width": ""
      }
     },
     "04f974f00ea848999805d4149a1113da": {
      "model_module": "@jupyter-widgets/base",
      "model_module_version": "1.2.0",
      "model_name": "LayoutModel",
      "state": {}
     },
     "058e8deecee64f8da47fbe1c51758353": {
      "model_module": "@jupyter-widgets/controls",
      "model_module_version": "1.5.0",
      "model_name": "HTMLModel",
      "state": {
       "layout": "IPY_MODEL_8bf0581d80e6495aaac7a59e30efab89",
       "style": "IPY_MODEL_866f49dc1b534a7fb8ac0406b6581219",
       "value": " 11/11 [00:00&lt;00:00, 193.50it/s]"
      }
     },
     "06222da547b148309071164f034e6f4d": {
      "model_module": "@jupyter-widgets/controls",
      "model_module_version": "1.5.0",
      "model_name": "HTMLModel",
      "state": {
       "layout": "IPY_MODEL_9a550773d07649a8904e877db2d35843",
       "style": "IPY_MODEL_a476eb9840e84a8caf0dae5eb616481d",
       "value": " 50/50 [00:00&lt;00:00, 96.98it/s]"
      }
     },
     "068295b5dde74ff0a7ff7bdbfcdc6930": {
      "model_module": "@jupyter-widgets/controls",
      "model_module_version": "1.5.0",
      "model_name": "HTMLModel",
      "state": {
       "layout": "IPY_MODEL_b3bdb39951454839ba56e17f1c3d467b",
       "style": "IPY_MODEL_aabcee65097e4b958ceb739153012d59",
       "value": " 11/11 [00:00&lt;00:00, 137.87it/s]"
      }
     },
     "069b83e328624aef80e0a35becd4fe09": {
      "model_module": "@jupyter-widgets/controls",
      "model_module_version": "1.5.0",
      "model_name": "DescriptionStyleModel",
      "state": {
       "description_width": ""
      }
     },
     "06bf1bcfe7ef418f81006e33098890fe": {
      "model_module": "@jupyter-widgets/base",
      "model_module_version": "1.2.0",
      "model_name": "LayoutModel",
      "state": {}
     },
     "06c0c98e2df844a5aa9b35bee9ac1975": {
      "model_module": "@jupyter-widgets/controls",
      "model_module_version": "1.5.0",
      "model_name": "ProgressStyleModel",
      "state": {
       "description_width": "initial"
      }
     },
     "06c4b909bf8f4526a0acc1729ed630a0": {
      "model_module": "@jupyter-widgets/controls",
      "model_module_version": "1.5.0",
      "model_name": "HTMLModel",
      "state": {
       "layout": "IPY_MODEL_51009b97ae034c859619505e02dbad62",
       "style": "IPY_MODEL_941264ab1239474db8e1f57e8db53408",
       "value": " 99/99 [00:27&lt;00:00,  1.91it/s]"
      }
     },
     "06c80ac982ca406bbc35ad489a60309e": {
      "model_module": "@jupyter-widgets/controls",
      "model_module_version": "1.5.0",
      "model_name": "DescriptionStyleModel",
      "state": {
       "description_width": ""
      }
     },
     "06dbb93d6aac49b9b3c934f9e3cbfe7d": {
      "model_module": "@jupyter-widgets/base",
      "model_module_version": "1.2.0",
      "model_name": "LayoutModel",
      "state": {}
     },
     "06ead258566c4407ad311c2aa2ca7a79": {
      "model_module": "@jupyter-widgets/controls",
      "model_module_version": "1.5.0",
      "model_name": "HTMLModel",
      "state": {
       "layout": "IPY_MODEL_dfac7a2e9966468a8547aac1deb3a775",
       "style": "IPY_MODEL_d16422faa51742edb2661ab9f2b194ef",
       "value": " 11/11 [00:00&lt;00:00, 200.62it/s]"
      }
     },
     "07602bda7db542ce87231cbb41af3037": {
      "model_module": "@jupyter-widgets/base",
      "model_module_version": "1.2.0",
      "model_name": "LayoutModel",
      "state": {}
     },
     "076656ed642e4c888676db1cbcbadd9e": {
      "model_module": "@jupyter-widgets/base",
      "model_module_version": "1.2.0",
      "model_name": "LayoutModel",
      "state": {}
     },
     "076e6311dab64932a0678674b4d61495": {
      "model_module": "@jupyter-widgets/controls",
      "model_module_version": "1.5.0",
      "model_name": "DescriptionStyleModel",
      "state": {
       "description_width": ""
      }
     },
     "077ebd3d2ed64fc6a0a374e7c94f7ca9": {
      "model_module": "@jupyter-widgets/controls",
      "model_module_version": "1.5.0",
      "model_name": "ProgressStyleModel",
      "state": {
       "description_width": "initial"
      }
     },
     "079f4f0c1e1a4cfd9f524f2207b0e679": {
      "model_module": "@jupyter-widgets/controls",
      "model_module_version": "1.5.0",
      "model_name": "FloatProgressModel",
      "state": {
       "description": "train loss: 0.0185: 100%",
       "layout": "IPY_MODEL_85cf78630149439fb63101143496e983",
       "max": 50,
       "style": "IPY_MODEL_2ccfb0d6f27644ca8f7d8369e23eb716",
       "value": 50
      }
     },
     "07c6c567ff03487ebf494b1f36080892": {
      "model_module": "@jupyter-widgets/base",
      "model_module_version": "1.2.0",
      "model_name": "LayoutModel",
      "state": {}
     },
     "07f1077657bf4082bc48f37fe74ed4c4": {
      "model_module": "@jupyter-widgets/base",
      "model_module_version": "1.2.0",
      "model_name": "LayoutModel",
      "state": {}
     },
     "07fdf858e24741ed86f30c7b957ce84f": {
      "model_module": "@jupyter-widgets/base",
      "model_module_version": "1.2.0",
      "model_name": "LayoutModel",
      "state": {}
     },
     "08033cdfb1bd432c9abb97cac7ce670b": {
      "model_module": "@jupyter-widgets/controls",
      "model_module_version": "1.5.0",
      "model_name": "HTMLModel",
      "state": {
       "layout": "IPY_MODEL_db2fe27b136547f882ca88406911ec65",
       "style": "IPY_MODEL_68e51c2240374dab982d87f028c09398",
       "value": " 11/11 [00:00&lt;00:00, 141.40it/s]"
      }
     },
     "0807048e3bea4e6389a7f050281e4991": {
      "model_module": "@jupyter-widgets/controls",
      "model_module_version": "1.5.0",
      "model_name": "HTMLModel",
      "state": {
       "layout": "IPY_MODEL_2af3dadb67ae4ce89b0e4d0be63b0d95",
       "style": "IPY_MODEL_30c846303ad049638c552ebbe76b47c4",
       "value": " 11/11 [00:00&lt;00:00, 180.73it/s]"
      }
     },
     "0844f5e75ece4067be6afe5d66091270": {
      "model_module": "@jupyter-widgets/controls",
      "model_module_version": "1.5.0",
      "model_name": "HTMLModel",
      "state": {
       "layout": "IPY_MODEL_0a0315eaefa4432ab06ac32eff8350dd",
       "style": "IPY_MODEL_5403ed87e7d644d08928e21d5b2a6b3d",
       "value": " 50/50 [00:00&lt;00:00, 93.65it/s]"
      }
     },
     "084ea3d625984c9f8f2b7bf0251a197d": {
      "model_module": "@jupyter-widgets/controls",
      "model_module_version": "1.5.0",
      "model_name": "FloatProgressModel",
      "state": {
       "description": "val loss: 0.0653: 100%",
       "layout": "IPY_MODEL_77986442cd2042dfb4a7252885c6ace8",
       "max": 21,
       "style": "IPY_MODEL_51b73e4b1c014b709d42d3a7dcd3dd19",
       "value": 21
      }
     },
     "0868b4db66b542d89e53c9dc077ae2ba": {
      "model_module": "@jupyter-widgets/controls",
      "model_module_version": "1.5.0",
      "model_name": "HTMLModel",
      "state": {
       "layout": "IPY_MODEL_2d7837f7b5ff4a93a4959f563b7cecc2",
       "style": "IPY_MODEL_569aba4392374f308c4b3f75e916d813",
       "value": " 50/50 [00:07&lt;00:00,  3.81it/s]"
      }
     },
     "08893f1473ef44938217f72ce90ffed2": {
      "model_module": "@jupyter-widgets/controls",
      "model_module_version": "1.5.0",
      "model_name": "FloatProgressModel",
      "state": {
       "description": "train loss: 0.0294: 100%",
       "layout": "IPY_MODEL_1b8838d146c24d7983b0e6b488d2c5b1",
       "max": 99,
       "style": "IPY_MODEL_9f4ffa99048e4b9180d0a296d96f24e6",
       "value": 99
      }
     },
     "088bf43d33294bff832dfed976c48608": {
      "model_module": "@jupyter-widgets/controls",
      "model_module_version": "1.5.0",
      "model_name": "HTMLModel",
      "state": {
       "layout": "IPY_MODEL_1eb0c3d534d3485c966f7a394495b1a3",
       "style": "IPY_MODEL_df3c1d4cf2624964afcfd43a68a86398",
       "value": " 99/99 [00:18&lt;00:00,  2.89it/s]"
      }
     },
     "089fb8dd658c48788a9a3f3a243c19e9": {
      "model_module": "@jupyter-widgets/base",
      "model_module_version": "1.2.0",
      "model_name": "LayoutModel",
      "state": {}
     },
     "08f013d1dac14c8e9211722c9effc5a5": {
      "model_module": "@jupyter-widgets/controls",
      "model_module_version": "1.5.0",
      "model_name": "HBoxModel",
      "state": {
       "children": [
        "IPY_MODEL_efbcd2fab8d54bdaa83711811e1292ff",
        "IPY_MODEL_7e5b80cf7ea046cb91169c894c07c770"
       ],
       "layout": "IPY_MODEL_15238f71890e4e40954d9e919a0b4196"
      }
     },
     "08f5920f60614726bb88957af321265f": {
      "model_module": "@jupyter-widgets/base",
      "model_module_version": "1.2.0",
      "model_name": "LayoutModel",
      "state": {}
     },
     "090d87be3a814609bc7a7023fbf9631d": {
      "model_module": "@jupyter-widgets/base",
      "model_module_version": "1.2.0",
      "model_name": "LayoutModel",
      "state": {}
     },
     "0922994462734a7baff09272720c73b5": {
      "model_module": "@jupyter-widgets/controls",
      "model_module_version": "1.5.0",
      "model_name": "DescriptionStyleModel",
      "state": {
       "description_width": ""
      }
     },
     "096b8a3655d344aa999ded921f8d64e5": {
      "model_module": "@jupyter-widgets/controls",
      "model_module_version": "1.5.0",
      "model_name": "DescriptionStyleModel",
      "state": {
       "description_width": ""
      }
     },
     "096dd742e27e48e08d05d7a8f25ec765": {
      "model_module": "@jupyter-widgets/base",
      "model_module_version": "1.2.0",
      "model_name": "LayoutModel",
      "state": {}
     },
     "09938c5e352a41f78bbeca90f155d090": {
      "model_module": "@jupyter-widgets/base",
      "model_module_version": "1.2.0",
      "model_name": "LayoutModel",
      "state": {}
     },
     "099c9064604f406781880c2bfabae27a": {
      "model_module": "@jupyter-widgets/base",
      "model_module_version": "1.2.0",
      "model_name": "LayoutModel",
      "state": {}
     },
     "09eea2fc854047289a47d954a931cc70": {
      "model_module": "@jupyter-widgets/controls",
      "model_module_version": "1.5.0",
      "model_name": "FloatProgressModel",
      "state": {
       "description": "val loss: 0.2947: 100%",
       "layout": "IPY_MODEL_aa897dc02f0246f8bd9ce957c6d04dbd",
       "max": 11,
       "style": "IPY_MODEL_d0bf8ed3e60b4e078e365f6ffa102903",
       "value": 11
      }
     },
     "09f63dc6d98b4e90bfac6aeaf3ca7583": {
      "model_module": "@jupyter-widgets/controls",
      "model_module_version": "1.5.0",
      "model_name": "DescriptionStyleModel",
      "state": {
       "description_width": ""
      }
     },
     "0a0315eaefa4432ab06ac32eff8350dd": {
      "model_module": "@jupyter-widgets/base",
      "model_module_version": "1.2.0",
      "model_name": "LayoutModel",
      "state": {}
     },
     "0a1d35e4c01b425caaba0af9dd3081ee": {
      "model_module": "@jupyter-widgets/controls",
      "model_module_version": "1.5.0",
      "model_name": "DescriptionStyleModel",
      "state": {
       "description_width": ""
      }
     },
     "0abf3ec787ed498ebb161dc7dbe7d4d7": {
      "model_module": "@jupyter-widgets/base",
      "model_module_version": "1.2.0",
      "model_name": "LayoutModel",
      "state": {}
     },
     "0ad5fd4d1f7f48ba8fbb6f30963aecf5": {
      "model_module": "@jupyter-widgets/base",
      "model_module_version": "1.2.0",
      "model_name": "LayoutModel",
      "state": {}
     },
     "0adc81e62a7a47769ca093410cb7f4dd": {
      "model_module": "@jupyter-widgets/base",
      "model_module_version": "1.2.0",
      "model_name": "LayoutModel",
      "state": {}
     },
     "0b2a97f050944dfab4d660e28294afda": {
      "model_module": "@jupyter-widgets/controls",
      "model_module_version": "1.5.0",
      "model_name": "HTMLModel",
      "state": {
       "layout": "IPY_MODEL_5e6e55c61779401c996a1a7cd44d2f65",
       "style": "IPY_MODEL_79f2a2eee7b94af080de12dd8ca6450e",
       "value": " 50/50 [00:07&lt;00:00,  3.84it/s]"
      }
     },
     "0b2f247979864e50946208b3f2a465eb": {
      "model_module": "@jupyter-widgets/controls",
      "model_module_version": "1.5.0",
      "model_name": "HTMLModel",
      "state": {
       "layout": "IPY_MODEL_3728fd6a6e4f4bada0ef8584ecd1faea",
       "style": "IPY_MODEL_f2468deaf1fa4864a1645dcade2b1afc",
       "value": " 11/11 [00:00&lt;00:00, 193.52it/s]"
      }
     },
     "0b4ad3d75a16442083f8a12fe3579b8a": {
      "model_module": "@jupyter-widgets/controls",
      "model_module_version": "1.5.0",
      "model_name": "DescriptionStyleModel",
      "state": {
       "description_width": ""
      }
     },
     "0b56ace50fcd43bd824c6d800b918119": {
      "model_module": "@jupyter-widgets/base",
      "model_module_version": "1.2.0",
      "model_name": "LayoutModel",
      "state": {}
     },
     "0b5a5833a6fb4adc976fed6908e19202": {
      "model_module": "@jupyter-widgets/controls",
      "model_module_version": "1.5.0",
      "model_name": "ProgressStyleModel",
      "state": {
       "description_width": "initial"
      }
     },
     "0b734ccada914916b55f5f987d5b3618": {
      "model_module": "@jupyter-widgets/controls",
      "model_module_version": "1.5.0",
      "model_name": "FloatProgressModel",
      "state": {
       "description": "train loss: 0.1222: 100%",
       "layout": "IPY_MODEL_7e40ed0368c24b0d896d5f4974a61cf1",
       "max": 50,
       "style": "IPY_MODEL_d317bac9fea242858500c329a941a45e",
       "value": 50
      }
     },
     "0b87d5cab41e4f5b99f953c89651efcf": {
      "model_module": "@jupyter-widgets/controls",
      "model_module_version": "1.5.0",
      "model_name": "DescriptionStyleModel",
      "state": {
       "description_width": ""
      }
     },
     "0b92775b437c41759659590c713d89d8": {
      "model_module": "@jupyter-widgets/controls",
      "model_module_version": "1.5.0",
      "model_name": "ProgressStyleModel",
      "state": {
       "description_width": "initial"
      }
     },
     "0b967f6cf2de4049baed6415bd554dcf": {
      "model_module": "@jupyter-widgets/base",
      "model_module_version": "1.2.0",
      "model_name": "LayoutModel",
      "state": {}
     },
     "0bacb83dcbc44de3b9e28f58904f0914": {
      "model_module": "@jupyter-widgets/controls",
      "model_module_version": "1.5.0",
      "model_name": "DescriptionStyleModel",
      "state": {
       "description_width": ""
      }
     },
     "0bb6aa3f85844a419242a2941c6a056a": {
      "model_module": "@jupyter-widgets/base",
      "model_module_version": "1.2.0",
      "model_name": "LayoutModel",
      "state": {}
     },
     "0bc2cf4a64d9400991affedee1dfed61": {
      "model_module": "@jupyter-widgets/controls",
      "model_module_version": "1.5.0",
      "model_name": "FloatProgressModel",
      "state": {
       "description": "val loss: 0.0804: 100%",
       "layout": "IPY_MODEL_040f7362f15c4711bf9835e249f55e87",
       "max": 11,
       "style": "IPY_MODEL_563d82a775574773b49d6a463b273b9e",
       "value": 11
      }
     },
     "0bc7833e05db4b479762c070793bd11e": {
      "model_module": "@jupyter-widgets/controls",
      "model_module_version": "1.5.0",
      "model_name": "ProgressStyleModel",
      "state": {
       "description_width": "initial"
      }
     },
     "0bfd9d93db314d60b85b878a31e6f59b": {
      "model_module": "@jupyter-widgets/controls",
      "model_module_version": "1.5.0",
      "model_name": "ProgressStyleModel",
      "state": {
       "description_width": "initial"
      }
     },
     "0c416d5198c043e6bdfd700b5ffbd965": {
      "model_module": "@jupyter-widgets/controls",
      "model_module_version": "1.5.0",
      "model_name": "DescriptionStyleModel",
      "state": {
       "description_width": ""
      }
     },
     "0c4cd4fd493c4ea2828ae4362f2161bb": {
      "model_module": "@jupyter-widgets/base",
      "model_module_version": "1.2.0",
      "model_name": "LayoutModel",
      "state": {}
     },
     "0c9248305c5947dfae4fe2ba189e1849": {
      "model_module": "@jupyter-widgets/controls",
      "model_module_version": "1.5.0",
      "model_name": "ProgressStyleModel",
      "state": {
       "description_width": "initial"
      }
     },
     "0cef46800bd14860816c5b7fbabe4e1b": {
      "model_module": "@jupyter-widgets/controls",
      "model_module_version": "1.5.0",
      "model_name": "HTMLModel",
      "state": {
       "layout": "IPY_MODEL_a23a79e0cf6e4e6e97d9623577717ef0",
       "style": "IPY_MODEL_e7905a8bcae6473ab497a958eb6a49c2",
       "value": " 50/50 [00:07&lt;00:00,  3.79it/s]"
      }
     },
     "0d146e344a254c2ab18c52935975a462": {
      "model_module": "@jupyter-widgets/controls",
      "model_module_version": "1.5.0",
      "model_name": "DescriptionStyleModel",
      "state": {
       "description_width": ""
      }
     },
     "0d16201382e64745b26d7b9b7fd63412": {
      "model_module": "@jupyter-widgets/controls",
      "model_module_version": "1.5.0",
      "model_name": "ProgressStyleModel",
      "state": {
       "description_width": "initial"
      }
     },
     "0d30c692086c4d92be8d22615b49fa46": {
      "model_module": "@jupyter-widgets/base",
      "model_module_version": "1.2.0",
      "model_name": "LayoutModel",
      "state": {}
     },
     "0d946902e31640ada92ac7886e81f0be": {
      "model_module": "@jupyter-widgets/controls",
      "model_module_version": "1.5.0",
      "model_name": "FloatProgressModel",
      "state": {
       "description": "val loss: 0.5727: 100%",
       "layout": "IPY_MODEL_8bbc755201ba4e9e9067b8e61d84ddd2",
       "max": 11,
       "style": "IPY_MODEL_d8f8b4fba41743489a91448c4abafd3a",
       "value": 11
      }
     },
     "0dc29b2a31aa474d8d7318ec2dde7a2a": {
      "model_module": "@jupyter-widgets/base",
      "model_module_version": "1.2.0",
      "model_name": "LayoutModel",
      "state": {}
     },
     "0dde3ef3f49b4b78a8bf4f525cc5a0ed": {
      "model_module": "@jupyter-widgets/controls",
      "model_module_version": "1.5.0",
      "model_name": "ProgressStyleModel",
      "state": {
       "description_width": "initial"
      }
     },
     "0dfc4d9a44f94d9398c255f49d009af7": {
      "model_module": "@jupyter-widgets/controls",
      "model_module_version": "1.5.0",
      "model_name": "HTMLModel",
      "state": {
       "layout": "IPY_MODEL_c30b3e3d52974c11beba1c4fd77bd0a6",
       "style": "IPY_MODEL_5b6af95141174e408fb6342949e3f3ec",
       "value": " 50/50 [00:00&lt;00:00, 92.25it/s]"
      }
     },
     "0e23d43731a14c259c4ccbf7d999b72b": {
      "model_module": "@jupyter-widgets/base",
      "model_module_version": "1.2.0",
      "model_name": "LayoutModel",
      "state": {}
     },
     "0e2fd93c09cf4785bb06f5764e1d3297": {
      "model_module": "@jupyter-widgets/base",
      "model_module_version": "1.2.0",
      "model_name": "LayoutModel",
      "state": {}
     },
     "0e3ad6c507bb4f2892e6ddc7d20210fc": {
      "model_module": "@jupyter-widgets/base",
      "model_module_version": "1.2.0",
      "model_name": "LayoutModel",
      "state": {}
     },
     "0e5fb58fc6d449a39df6d7507be3135f": {
      "model_module": "@jupyter-widgets/base",
      "model_module_version": "1.2.0",
      "model_name": "LayoutModel",
      "state": {}
     },
     "0e6d83b9fc5e41b59c9674975568703a": {
      "model_module": "@jupyter-widgets/base",
      "model_module_version": "1.2.0",
      "model_name": "LayoutModel",
      "state": {}
     },
     "0e7dddef473b4c0fbcc01f4445add82b": {
      "model_module": "@jupyter-widgets/controls",
      "model_module_version": "1.5.0",
      "model_name": "DescriptionStyleModel",
      "state": {
       "description_width": ""
      }
     },
     "0ea1ca817cd74ec1a5e0cb04145be378": {
      "model_module": "@jupyter-widgets/controls",
      "model_module_version": "1.5.0",
      "model_name": "FloatProgressModel",
      "state": {
       "description": "train loss: 0.6306: 100%",
       "layout": "IPY_MODEL_0c4cd4fd493c4ea2828ae4362f2161bb",
       "max": 50,
       "style": "IPY_MODEL_ac0488919f6e40acb4f27aa39169ed51",
       "value": 50
      }
     },
     "0ea8977b14b04d1ab61f53e753d6560b": {
      "model_module": "@jupyter-widgets/controls",
      "model_module_version": "1.5.0",
      "model_name": "FloatProgressModel",
      "state": {
       "description": "train loss: 0.1022: 100%",
       "layout": "IPY_MODEL_f37bea280b5c400091d9d8c555063aae",
       "max": 25,
       "style": "IPY_MODEL_cbf30125c13642fa9512c3c70ddde911",
       "value": 25
      }
     },
     "0eb2bba479424dd6bf79eb2fdf20b585": {
      "model_module": "@jupyter-widgets/base",
      "model_module_version": "1.2.0",
      "model_name": "LayoutModel",
      "state": {}
     },
     "0ed375194e09421b8b027ca2171d11a1": {
      "model_module": "@jupyter-widgets/base",
      "model_module_version": "1.2.0",
      "model_name": "LayoutModel",
      "state": {}
     },
     "0f468c86a90e465fa5e25cfe06e5f6b7": {
      "model_module": "@jupyter-widgets/controls",
      "model_module_version": "1.5.0",
      "model_name": "FloatProgressModel",
      "state": {
       "description": "train loss: 0.0242: 100%",
       "layout": "IPY_MODEL_a92d9d5532624492b7f690b4e24b7731",
       "max": 50,
       "style": "IPY_MODEL_3f0b0aab368a41a3b3082d41744c9389",
       "value": 50
      }
     },
     "0f473f925b274e7bb88c0382516e9462": {
      "model_module": "@jupyter-widgets/base",
      "model_module_version": "1.2.0",
      "model_name": "LayoutModel",
      "state": {}
     },
     "0f565d0387134aca939d48bbbd5a36a2": {
      "model_module": "@jupyter-widgets/controls",
      "model_module_version": "1.5.0",
      "model_name": "ProgressStyleModel",
      "state": {
       "description_width": "initial"
      }
     },
     "0f649a60480a4e3481e7cb8608be1c9d": {
      "model_module": "@jupyter-widgets/base",
      "model_module_version": "1.2.0",
      "model_name": "LayoutModel",
      "state": {}
     },
     "0f86537c1c4a48f384419e2204377f95": {
      "model_module": "@jupyter-widgets/controls",
      "model_module_version": "1.5.0",
      "model_name": "ProgressStyleModel",
      "state": {
       "description_width": "initial"
      }
     },
     "0f8c9a084abf4fd5bdb774b8a111a9e0": {
      "model_module": "@jupyter-widgets/base",
      "model_module_version": "1.2.0",
      "model_name": "LayoutModel",
      "state": {}
     },
     "0fb03eeba6704cb49b86f2d48575f242": {
      "model_module": "@jupyter-widgets/base",
      "model_module_version": "1.2.0",
      "model_name": "LayoutModel",
      "state": {}
     },
     "0fe981602b434590850e8e4c3608a1af": {
      "model_module": "@jupyter-widgets/controls",
      "model_module_version": "1.5.0",
      "model_name": "HTMLModel",
      "state": {
       "layout": "IPY_MODEL_77eadeb593a149e4b6c3a125ab42f73b",
       "style": "IPY_MODEL_492c7975a2114602b22e5474a295af9c",
       "value": " 11/11 [00:00&lt;00:00, 172.43it/s]"
      }
     },
     "101e5b77df4d420b89aa929f387e2249": {
      "model_module": "@jupyter-widgets/controls",
      "model_module_version": "1.5.0",
      "model_name": "ProgressStyleModel",
      "state": {
       "description_width": "initial"
      }
     },
     "1023035ac79e4237a4a30245d5872454": {
      "model_module": "@jupyter-widgets/controls",
      "model_module_version": "1.5.0",
      "model_name": "DescriptionStyleModel",
      "state": {
       "description_width": ""
      }
     },
     "102ca906045147359d1e94ec7b59db3c": {
      "model_module": "@jupyter-widgets/base",
      "model_module_version": "1.2.0",
      "model_name": "LayoutModel",
      "state": {}
     },
     "103cc30ac6ba472793da96b03de32de3": {
      "model_module": "@jupyter-widgets/controls",
      "model_module_version": "1.5.0",
      "model_name": "ProgressStyleModel",
      "state": {
       "description_width": "initial"
      }
     },
     "10514569d41f4e4b8fe61f162a371403": {
      "model_module": "@jupyter-widgets/base",
      "model_module_version": "1.2.0",
      "model_name": "LayoutModel",
      "state": {}
     },
     "10d8872314e347058c0f570e8e0121be": {
      "model_module": "@jupyter-widgets/controls",
      "model_module_version": "1.5.0",
      "model_name": "ProgressStyleModel",
      "state": {
       "description_width": "initial"
      }
     },
     "117ba3aaed184645a8fb08f844f30e7e": {
      "model_module": "@jupyter-widgets/controls",
      "model_module_version": "1.5.0",
      "model_name": "HTMLModel",
      "state": {
       "layout": "IPY_MODEL_195c630471c04fe89ef81dc5211022d7",
       "style": "IPY_MODEL_2a59b631163a444ba580afc5723d55d5",
       "value": " 6/10 [03:02&lt;02:01, 30.45s/it]"
      }
     },
     "118c05bf5cfd40949ecbf5419fa30ffa": {
      "model_module": "@jupyter-widgets/controls",
      "model_module_version": "1.5.0",
      "model_name": "ProgressStyleModel",
      "state": {
       "description_width": "initial"
      }
     },
     "11abbb08989a4883bf79100f0d30ef0f": {
      "model_module": "@jupyter-widgets/base",
      "model_module_version": "1.2.0",
      "model_name": "LayoutModel",
      "state": {}
     },
     "11afbe3692024fd2b89c1d67dc58cf36": {
      "model_module": "@jupyter-widgets/controls",
      "model_module_version": "1.5.0",
      "model_name": "ProgressStyleModel",
      "state": {
       "description_width": "initial"
      }
     },
     "11afc24a94824d27b5b810153bdd53e0": {
      "model_module": "@jupyter-widgets/controls",
      "model_module_version": "1.5.0",
      "model_name": "ProgressStyleModel",
      "state": {
       "description_width": "initial"
      }
     },
     "11b648807ae042d8b3eee359a5eb514a": {
      "model_module": "@jupyter-widgets/base",
      "model_module_version": "1.2.0",
      "model_name": "LayoutModel",
      "state": {}
     },
     "11b6c9796fc141cc90ec08d31312b3e6": {
      "model_module": "@jupyter-widgets/controls",
      "model_module_version": "1.5.0",
      "model_name": "ProgressStyleModel",
      "state": {
       "description_width": "initial"
      }
     },
     "120d0a2f4c52434889ca0c3347a7dc23": {
      "model_module": "@jupyter-widgets/base",
      "model_module_version": "1.2.0",
      "model_name": "LayoutModel",
      "state": {}
     },
     "12110ca56622486f90d72763b95ea1b3": {
      "model_module": "@jupyter-widgets/base",
      "model_module_version": "1.2.0",
      "model_name": "LayoutModel",
      "state": {}
     },
     "1248ec584b7448e68c7e6a2ebd9d916e": {
      "model_module": "@jupyter-widgets/controls",
      "model_module_version": "1.5.0",
      "model_name": "ProgressStyleModel",
      "state": {
       "description_width": "initial"
      }
     },
     "124f95f5e319478991f29532099f20b3": {
      "model_module": "@jupyter-widgets/controls",
      "model_module_version": "1.5.0",
      "model_name": "HTMLModel",
      "state": {
       "layout": "IPY_MODEL_555d190600fe4436ac2c4d900228d4ca",
       "style": "IPY_MODEL_9d7ff0e617064445b19acb668cdc53aa",
       "value": " 6/10 [23:50&lt;15:53, 238.36s/it]"
      }
     },
     "126bdd48437345089247aba096b7b765": {
      "model_module": "@jupyter-widgets/controls",
      "model_module_version": "1.5.0",
      "model_name": "ProgressStyleModel",
      "state": {
       "description_width": "initial"
      }
     },
     "12a4e324279e42568d8f6bf7c778f708": {
      "model_module": "@jupyter-widgets/base",
      "model_module_version": "1.2.0",
      "model_name": "LayoutModel",
      "state": {}
     },
     "12c1475df6fa4008a6c29d2cf3dd697d": {
      "model_module": "@jupyter-widgets/controls",
      "model_module_version": "1.5.0",
      "model_name": "DescriptionStyleModel",
      "state": {
       "description_width": ""
      }
     },
     "12d05e3ed0d44623bc6ad2b8d1d2a523": {
      "model_module": "@jupyter-widgets/controls",
      "model_module_version": "1.5.0",
      "model_name": "DescriptionStyleModel",
      "state": {
       "description_width": ""
      }
     },
     "12d0e681778a4f849c9cdbcf376c4f88": {
      "model_module": "@jupyter-widgets/controls",
      "model_module_version": "1.5.0",
      "model_name": "HTMLModel",
      "state": {
       "layout": "IPY_MODEL_0b967f6cf2de4049baed6415bd554dcf",
       "style": "IPY_MODEL_3ad98dca28234d95a610c7e4b462e873",
       "value": " 6/6 [00:00&lt;00:00, 139.91it/s]"
      }
     },
     "12e889f47d624c99ade628b29d5c404d": {
      "model_module": "@jupyter-widgets/base",
      "model_module_version": "1.2.0",
      "model_name": "LayoutModel",
      "state": {}
     },
     "12f966a016514f92a4b765bc7ccdd595": {
      "model_module": "@jupyter-widgets/controls",
      "model_module_version": "1.5.0",
      "model_name": "HTMLModel",
      "state": {
       "layout": "IPY_MODEL_6edfd5b076214a04a3642d9a06808d73",
       "style": "IPY_MODEL_b37f854ae8c441ddba712177a16ff78e",
       "value": " 21/21 [00:00&lt;00:00, 253.70it/s]"
      }
     },
     "1326ee34f63a46e5b72042214c9041aa": {
      "model_module": "@jupyter-widgets/controls",
      "model_module_version": "1.5.0",
      "model_name": "ProgressStyleModel",
      "state": {
       "description_width": "initial"
      }
     },
     "132e2714338b422599ccfd400266eff9": {
      "model_module": "@jupyter-widgets/controls",
      "model_module_version": "1.5.0",
      "model_name": "FloatProgressModel",
      "state": {
       "description": "train loss: 0.3616: 100%",
       "layout": "IPY_MODEL_474f7004edc44864a396bebb45d55cbe",
       "max": 50,
       "style": "IPY_MODEL_826c251634d14b05902fb23ba6aeb494",
       "value": 50
      }
     },
     "133718a3c9a5404cb858f68023ae6185": {
      "model_module": "@jupyter-widgets/controls",
      "model_module_version": "1.5.0",
      "model_name": "HTMLModel",
      "state": {
       "layout": "IPY_MODEL_aac00b1db6b1436195ef65e86c1946ce",
       "style": "IPY_MODEL_be834d416d7a4d298201422cf021f376",
       "value": " 22/22 [00:00&lt;00:00, 146.02it/s]"
      }
     },
     "135a762dfb764535bf7f7d1ebf70ad12": {
      "model_module": "@jupyter-widgets/base",
      "model_module_version": "1.2.0",
      "model_name": "LayoutModel",
      "state": {}
     },
     "139ef0958fac437690f61dc9c58a1e56": {
      "model_module": "@jupyter-widgets/base",
      "model_module_version": "1.2.0",
      "model_name": "LayoutModel",
      "state": {}
     },
     "14005fbd4d4a4cb9a10eb452b354dc17": {
      "model_module": "@jupyter-widgets/controls",
      "model_module_version": "1.5.0",
      "model_name": "DescriptionStyleModel",
      "state": {
       "description_width": ""
      }
     },
     "140a14a7d49d4bbfbcc4a688c825a802": {
      "model_module": "@jupyter-widgets/base",
      "model_module_version": "1.2.0",
      "model_name": "LayoutModel",
      "state": {}
     },
     "141d0b43ee5c420ca1bb20713fce11b2": {
      "model_module": "@jupyter-widgets/controls",
      "model_module_version": "1.5.0",
      "model_name": "DescriptionStyleModel",
      "state": {
       "description_width": ""
      }
     },
     "142be783b5604feda149ac4a76fc6cbb": {
      "model_module": "@jupyter-widgets/base",
      "model_module_version": "1.2.0",
      "model_name": "LayoutModel",
      "state": {}
     },
     "14574f2c0feb4a5c95925522c520b15e": {
      "model_module": "@jupyter-widgets/base",
      "model_module_version": "1.2.0",
      "model_name": "LayoutModel",
      "state": {}
     },
     "147cc657c75a4d18b6ab572368cfb510": {
      "model_module": "@jupyter-widgets/controls",
      "model_module_version": "1.5.0",
      "model_name": "HTMLModel",
      "state": {
       "layout": "IPY_MODEL_be6ae1f907354adf9302768069898784",
       "style": "IPY_MODEL_09f63dc6d98b4e90bfac6aeaf3ca7583",
       "value": " 50/50 [00:05&lt;00:00,  5.56it/s]"
      }
     },
     "14cb002e2f9442bf9ebdbd053a9d12b2": {
      "model_module": "@jupyter-widgets/controls",
      "model_module_version": "1.5.0",
      "model_name": "DescriptionStyleModel",
      "state": {
       "description_width": ""
      }
     },
     "14e643ebf2404dcfbeefb5763b1c1c4a": {
      "model_module": "@jupyter-widgets/controls",
      "model_module_version": "1.5.0",
      "model_name": "DescriptionStyleModel",
      "state": {
       "description_width": ""
      }
     },
     "14f0854721704ed3bbd122019d0a62e2": {
      "model_module": "@jupyter-widgets/controls",
      "model_module_version": "1.5.0",
      "model_name": "ProgressStyleModel",
      "state": {
       "description_width": "initial"
      }
     },
     "14f8133c54504e94b0b5b4e0b9c4cd2c": {
      "model_module": "@jupyter-widgets/controls",
      "model_module_version": "1.5.0",
      "model_name": "DescriptionStyleModel",
      "state": {
       "description_width": ""
      }
     },
     "1508ff8cc5744e2f83f656d8b87d6b81": {
      "model_module": "@jupyter-widgets/controls",
      "model_module_version": "1.5.0",
      "model_name": "DescriptionStyleModel",
      "state": {
       "description_width": ""
      }
     },
     "1513dea74019464a9ebbede649e2b3c6": {
      "model_module": "@jupyter-widgets/base",
      "model_module_version": "1.2.0",
      "model_name": "LayoutModel",
      "state": {}
     },
     "15238f71890e4e40954d9e919a0b4196": {
      "model_module": "@jupyter-widgets/base",
      "model_module_version": "1.2.0",
      "model_name": "LayoutModel",
      "state": {}
     },
     "158c5bb53488479c81337c557a22b0c2": {
      "model_module": "@jupyter-widgets/controls",
      "model_module_version": "1.5.0",
      "model_name": "HTMLModel",
      "state": {
       "layout": "IPY_MODEL_c6c98e2b8362484aac50cf4fe47ad7d5",
       "style": "IPY_MODEL_beeb256bb28942808e0c7eb2e80a885f",
       "value": " 50/50 [00:07&lt;00:00,  3.79it/s]"
      }
     },
     "159cae83ce844a69af2eba004350f803": {
      "model_module": "@jupyter-widgets/controls",
      "model_module_version": "1.5.0",
      "model_name": "DescriptionStyleModel",
      "state": {
       "description_width": ""
      }
     },
     "15a1e7f3c31c417db0e65e1fbc0c8b91": {
      "model_module": "@jupyter-widgets/base",
      "model_module_version": "1.2.0",
      "model_name": "LayoutModel",
      "state": {}
     },
     "15ed73600ad6456f991b9aaa02ed26b6": {
      "model_module": "@jupyter-widgets/controls",
      "model_module_version": "1.5.0",
      "model_name": "FloatProgressModel",
      "state": {
       "description": "train loss: 1.0552: 100%",
       "layout": "IPY_MODEL_f4a6ea23e7d748fbb8f6edc482c66770",
       "max": 99,
       "style": "IPY_MODEL_2bd301d5f8a34895876efb8246dbc312",
       "value": 99
      }
     },
     "15f7faf5aa3c481a8532603506309fe1": {
      "model_module": "@jupyter-widgets/controls",
      "model_module_version": "1.5.0",
      "model_name": "HTMLModel",
      "state": {
       "layout": "IPY_MODEL_ea15ab08ee684a9c83f91ac375cd4c68",
       "style": "IPY_MODEL_c979a90204284c158f7b781ba5edd342",
       "value": " 50/50 [00:00&lt;00:00, 98.87it/s]"
      }
     },
     "16004cccb7e541b690b198f84cf7f8d1": {
      "model_module": "@jupyter-widgets/base",
      "model_module_version": "1.2.0",
      "model_name": "LayoutModel",
      "state": {}
     },
     "160e2fec02a745ba95dd420e49c241bd": {
      "model_module": "@jupyter-widgets/controls",
      "model_module_version": "1.5.0",
      "model_name": "ProgressStyleModel",
      "state": {
       "description_width": "initial"
      }
     },
     "16140b4e30464cb4b8a187188b8b8c60": {
      "model_module": "@jupyter-widgets/base",
      "model_module_version": "1.2.0",
      "model_name": "LayoutModel",
      "state": {}
     },
     "16223f5d3f0a43768452db5b224badd6": {
      "model_module": "@jupyter-widgets/controls",
      "model_module_version": "1.5.0",
      "model_name": "ProgressStyleModel",
      "state": {
       "description_width": "initial"
      }
     },
     "1635c44b7949477e872606cc929c7997": {
      "model_module": "@jupyter-widgets/controls",
      "model_module_version": "1.5.0",
      "model_name": "DescriptionStyleModel",
      "state": {
       "description_width": ""
      }
     },
     "16a91c7a734d466f843c4b6d78860858": {
      "model_module": "@jupyter-widgets/base",
      "model_module_version": "1.2.0",
      "model_name": "LayoutModel",
      "state": {}
     },
     "170d2f524174435fb5859f8bb7ce6e43": {
      "model_module": "@jupyter-widgets/controls",
      "model_module_version": "1.5.0",
      "model_name": "FloatProgressModel",
      "state": {
       "description": "val loss: 0.4117: 100%",
       "layout": "IPY_MODEL_ce428bb45dfe4e4a9f3faad09e0d14d2",
       "max": 11,
       "style": "IPY_MODEL_b28e1335262a4ec29e069a04d9e099dc",
       "value": 11
      }
     },
     "171a41a51be640f29aaff5231990a181": {
      "model_module": "@jupyter-widgets/controls",
      "model_module_version": "1.5.0",
      "model_name": "ProgressStyleModel",
      "state": {
       "description_width": "initial"
      }
     },
     "17c1e686af9d48689260c95b7963ea91": {
      "model_module": "@jupyter-widgets/base",
      "model_module_version": "1.2.0",
      "model_name": "LayoutModel",
      "state": {}
     },
     "17ed30882888424fb149d4aca8f98ff9": {
      "model_module": "@jupyter-widgets/base",
      "model_module_version": "1.2.0",
      "model_name": "LayoutModel",
      "state": {}
     },
     "180dd1f9919a45169bb038e328e59c7f": {
      "model_module": "@jupyter-widgets/controls",
      "model_module_version": "1.5.0",
      "model_name": "HTMLModel",
      "state": {
       "layout": "IPY_MODEL_79c1d2eba69a4670ac5a48d9246a0b31",
       "style": "IPY_MODEL_8f7338b270f4472d970c5b34cb990f51",
       "value": " 50/50 [00:05&lt;00:00,  5.44it/s]"
      }
     },
     "186f6873bbfa407e8a60f1e5ede87e29": {
      "model_module": "@jupyter-widgets/controls",
      "model_module_version": "1.5.0",
      "model_name": "DescriptionStyleModel",
      "state": {
       "description_width": ""
      }
     },
     "188c02ba8cbe4085a68912293c8dd900": {
      "model_module": "@jupyter-widgets/base",
      "model_module_version": "1.2.0",
      "model_name": "LayoutModel",
      "state": {}
     },
     "18a3bba4e20043a1b1faea005d93e619": {
      "model_module": "@jupyter-widgets/controls",
      "model_module_version": "1.5.0",
      "model_name": "FloatProgressModel",
      "state": {
       "description": "train loss: 0.0079: 100%",
       "layout": "IPY_MODEL_53f6b32c81b3400c977b615027e9d1fe",
       "max": 99,
       "style": "IPY_MODEL_e68da25ff9944002b4574b6d2f00500f",
       "value": 99
      }
     },
     "18bf4f83572947278b7e2ce4fede83c0": {
      "model_module": "@jupyter-widgets/base",
      "model_module_version": "1.2.0",
      "model_name": "LayoutModel",
      "state": {}
     },
     "18cbd74b7da34ca68d3e7b7479bd2125": {
      "model_module": "@jupyter-widgets/controls",
      "model_module_version": "1.5.0",
      "model_name": "FloatProgressModel",
      "state": {
       "description": "train loss: 0.0242: 100%",
       "layout": "IPY_MODEL_dc39a147fb6b45229ccf1339f671da8a",
       "max": 50,
       "style": "IPY_MODEL_33cac155a4aa4b0f991892ab838caa7e",
       "value": 50
      }
     },
     "190239d8412444529e04bf4098c9663a": {
      "model_module": "@jupyter-widgets/base",
      "model_module_version": "1.2.0",
      "model_name": "LayoutModel",
      "state": {}
     },
     "193bcc02c0144415923411f996ba8092": {
      "model_module": "@jupyter-widgets/controls",
      "model_module_version": "1.5.0",
      "model_name": "ProgressStyleModel",
      "state": {
       "description_width": "initial"
      }
     },
     "19577da8257f44658e8dd0785c584641": {
      "model_module": "@jupyter-widgets/base",
      "model_module_version": "1.2.0",
      "model_name": "LayoutModel",
      "state": {}
     },
     "195c630471c04fe89ef81dc5211022d7": {
      "model_module": "@jupyter-widgets/base",
      "model_module_version": "1.2.0",
      "model_name": "LayoutModel",
      "state": {}
     },
     "195ea7def8434199b41803ae772c2aad": {
      "model_module": "@jupyter-widgets/base",
      "model_module_version": "1.2.0",
      "model_name": "LayoutModel",
      "state": {}
     },
     "19882b9e37ef419187db2af0cda505b5": {
      "model_module": "@jupyter-widgets/base",
      "model_module_version": "1.2.0",
      "model_name": "LayoutModel",
      "state": {}
     },
     "19b1ef23b8e34db79a00a4e194199d18": {
      "model_module": "@jupyter-widgets/base",
      "model_module_version": "1.2.0",
      "model_name": "LayoutModel",
      "state": {}
     },
     "19bddb51d2404640b6d7aac8f7fcd60d": {
      "model_module": "@jupyter-widgets/base",
      "model_module_version": "1.2.0",
      "model_name": "LayoutModel",
      "state": {}
     },
     "19c7f332343a4e9eb036ce379877d2a7": {
      "model_module": "@jupyter-widgets/controls",
      "model_module_version": "1.5.0",
      "model_name": "FloatProgressModel",
      "state": {
       "description": "val loss: 0.1004: 100%",
       "layout": "IPY_MODEL_605feb9334864f11a34f1c78ae64f697",
       "max": 11,
       "style": "IPY_MODEL_8bcc68e830934522a34aa6679905d7b4",
       "value": 11
      }
     },
     "19e85d39adda42c8b2a625b9bb4715e7": {
      "model_module": "@jupyter-widgets/controls",
      "model_module_version": "1.5.0",
      "model_name": "HTMLModel",
      "state": {
       "layout": "IPY_MODEL_5c4f361b00f949f1a9e5bd0eaa82a460",
       "style": "IPY_MODEL_eee3f78faee840dea439ee1e9a47e79e",
       "value": " 50/50 [00:00&lt;00:00, 93.01it/s]"
      }
     },
     "1a1ceb33856140a58bfeacd74ae7bba4": {
      "model_module": "@jupyter-widgets/controls",
      "model_module_version": "1.5.0",
      "model_name": "DescriptionStyleModel",
      "state": {
       "description_width": ""
      }
     },
     "1a2181c56b3a47ee8fc08d710e3a00fe": {
      "model_module": "@jupyter-widgets/base",
      "model_module_version": "1.2.0",
      "model_name": "LayoutModel",
      "state": {}
     },
     "1a65864c2656422dbe7b10ba23e1c885": {
      "model_module": "@jupyter-widgets/base",
      "model_module_version": "1.2.0",
      "model_name": "LayoutModel",
      "state": {}
     },
     "1a68c237bc0147bd8f1d30494e593d63": {
      "model_module": "@jupyter-widgets/base",
      "model_module_version": "1.2.0",
      "model_name": "LayoutModel",
      "state": {}
     },
     "1a6e031154f94dc99dd57c169bc3c038": {
      "model_module": "@jupyter-widgets/controls",
      "model_module_version": "1.5.0",
      "model_name": "HTMLModel",
      "state": {
       "layout": "IPY_MODEL_d8ff084c163d44e592f191294d9a4d47",
       "style": "IPY_MODEL_42b6bc10d90640b786945a3ac97937ac",
       "value": " 50/50 [00:07&lt;00:00,  3.68it/s]"
      }
     },
     "1a79dda9f0f24c6db998a6cfe84c2e4c": {
      "model_module": "@jupyter-widgets/base",
      "model_module_version": "1.2.0",
      "model_name": "LayoutModel",
      "state": {}
     },
     "1a83750ed2254be2bece396b8846986b": {
      "model_module": "@jupyter-widgets/controls",
      "model_module_version": "1.5.0",
      "model_name": "HBoxModel",
      "state": {
       "children": [
        "IPY_MODEL_ced66437a9a843b487b07544ff28bd46",
        "IPY_MODEL_9097b0814a164e179f8ace4e00df77c1"
       ],
       "layout": "IPY_MODEL_ba1665331e2348909e7b9113d8807adb"
      }
     },
     "1a867b3223cb436eb509cbe67f2a8810": {
      "model_module": "@jupyter-widgets/base",
      "model_module_version": "1.2.0",
      "model_name": "LayoutModel",
      "state": {}
     },
     "1a92c7e5548c46f486a93fd6a8b75ca8": {
      "model_module": "@jupyter-widgets/controls",
      "model_module_version": "1.5.0",
      "model_name": "DescriptionStyleModel",
      "state": {
       "description_width": ""
      }
     },
     "1a9623d63186479fb5257e8376f93117": {
      "model_module": "@jupyter-widgets/base",
      "model_module_version": "1.2.0",
      "model_name": "LayoutModel",
      "state": {}
     },
     "1abc2788f5d04d618b68937c8c24479b": {
      "model_module": "@jupyter-widgets/controls",
      "model_module_version": "1.5.0",
      "model_name": "DescriptionStyleModel",
      "state": {
       "description_width": ""
      }
     },
     "1ad51c670c4e44ed8e0a1b6ffb0139ac": {
      "model_module": "@jupyter-widgets/controls",
      "model_module_version": "1.5.0",
      "model_name": "HTMLModel",
      "state": {
       "layout": "IPY_MODEL_1f8db4e1e68945a29800c594757287da",
       "style": "IPY_MODEL_3a1b0fc7abb34fd09c98e370da76098a",
       "value": " 11/11 [00:00&lt;00:00, 110.29it/s]"
      }
     },
     "1aeb8ffb641f49dbaae4f2aff9b65f53": {
      "model_module": "@jupyter-widgets/base",
      "model_module_version": "1.2.0",
      "model_name": "LayoutModel",
      "state": {}
     },
     "1af3f4efdc0e44f4a5a6562c88329e96": {
      "model_module": "@jupyter-widgets/base",
      "model_module_version": "1.2.0",
      "model_name": "LayoutModel",
      "state": {}
     },
     "1b1130770a1647fbae20bf4763d6de61": {
      "model_module": "@jupyter-widgets/base",
      "model_module_version": "1.2.0",
      "model_name": "LayoutModel",
      "state": {}
     },
     "1b5e3b748f7f4866bbc8813e9629ebba": {
      "model_module": "@jupyter-widgets/base",
      "model_module_version": "1.2.0",
      "model_name": "LayoutModel",
      "state": {}
     },
     "1b81ca614a794b3c8586cf3d907609f1": {
      "model_module": "@jupyter-widgets/base",
      "model_module_version": "1.2.0",
      "model_name": "LayoutModel",
      "state": {}
     },
     "1b8838d146c24d7983b0e6b488d2c5b1": {
      "model_module": "@jupyter-widgets/base",
      "model_module_version": "1.2.0",
      "model_name": "LayoutModel",
      "state": {}
     },
     "1b892846b6c3404282d22cea973e0f59": {
      "model_module": "@jupyter-widgets/base",
      "model_module_version": "1.2.0",
      "model_name": "LayoutModel",
      "state": {}
     },
     "1bb5f6e3b3b0495db9668af127681c89": {
      "model_module": "@jupyter-widgets/base",
      "model_module_version": "1.2.0",
      "model_name": "LayoutModel",
      "state": {}
     },
     "1c0d61d0c8ae4076bfc76692c4bcd956": {
      "model_module": "@jupyter-widgets/base",
      "model_module_version": "1.2.0",
      "model_name": "LayoutModel",
      "state": {}
     },
     "1c35b97ee1c6441bbca5ac4c00bb4348": {
      "model_module": "@jupyter-widgets/base",
      "model_module_version": "1.2.0",
      "model_name": "LayoutModel",
      "state": {}
     },
     "1c77481d003c414bbbb556e2cff720d1": {
      "model_module": "@jupyter-widgets/base",
      "model_module_version": "1.2.0",
      "model_name": "LayoutModel",
      "state": {}
     },
     "1c86dc1b7eef41bca5a0e55627aba8cf": {
      "model_module": "@jupyter-widgets/controls",
      "model_module_version": "1.5.0",
      "model_name": "DescriptionStyleModel",
      "state": {
       "description_width": ""
      }
     },
     "1cd6b11278964f538b35df396d0e3270": {
      "model_module": "@jupyter-widgets/controls",
      "model_module_version": "1.5.0",
      "model_name": "FloatProgressModel",
      "state": {
       "description": "val loss: 0.4501: 100%",
       "layout": "IPY_MODEL_10514569d41f4e4b8fe61f162a371403",
       "max": 11,
       "style": "IPY_MODEL_6ba60be984964d9ab1565340f79a4684",
       "value": 11
      }
     },
     "1ce7e7681dba4cc8a119a7ccfef94aba": {
      "model_module": "@jupyter-widgets/controls",
      "model_module_version": "1.5.0",
      "model_name": "DescriptionStyleModel",
      "state": {
       "description_width": ""
      }
     },
     "1cfed3096b574c4b98aeecfdbe650d98": {
      "model_module": "@jupyter-widgets/base",
      "model_module_version": "1.2.0",
      "model_name": "LayoutModel",
      "state": {}
     },
     "1d157294bce34a82a047c7f84551ed6a": {
      "model_module": "@jupyter-widgets/base",
      "model_module_version": "1.2.0",
      "model_name": "LayoutModel",
      "state": {}
     },
     "1d56f8f80b354d3dbf51d047c900cd5e": {
      "model_module": "@jupyter-widgets/controls",
      "model_module_version": "1.5.0",
      "model_name": "ProgressStyleModel",
      "state": {
       "description_width": "initial"
      }
     },
     "1d7756a147b847b391c9afdee7cc21bb": {
      "model_module": "@jupyter-widgets/controls",
      "model_module_version": "1.5.0",
      "model_name": "FloatProgressModel",
      "state": {
       "description": "val loss: 0.3320: 100%",
       "layout": "IPY_MODEL_68f907fa69024adfb68f4194015b52d0",
       "max": 11,
       "style": "IPY_MODEL_b628ddbfdf6148a49759081107d6f51f",
       "value": 11
      }
     },
     "1d8c28bed991479f82043763dc02479a": {
      "model_module": "@jupyter-widgets/base",
      "model_module_version": "1.2.0",
      "model_name": "LayoutModel",
      "state": {}
     },
     "1d8d13c919e240d3a92c031e1435fa68": {
      "model_module": "@jupyter-widgets/controls",
      "model_module_version": "1.5.0",
      "model_name": "DescriptionStyleModel",
      "state": {
       "description_width": ""
      }
     },
     "1db4396fd499472a9d9a266135a24603": {
      "model_module": "@jupyter-widgets/base",
      "model_module_version": "1.2.0",
      "model_name": "LayoutModel",
      "state": {}
     },
     "1dd7d3d59bf942649fea096da6fa4fa8": {
      "model_module": "@jupyter-widgets/base",
      "model_module_version": "1.2.0",
      "model_name": "LayoutModel",
      "state": {}
     },
     "1df70c714ddc48679548fe40bc83e07c": {
      "model_module": "@jupyter-widgets/base",
      "model_module_version": "1.2.0",
      "model_name": "LayoutModel",
      "state": {}
     },
     "1e047ce73ec64af1867e5ee5964dcd72": {
      "model_module": "@jupyter-widgets/controls",
      "model_module_version": "1.5.0",
      "model_name": "ProgressStyleModel",
      "state": {
       "description_width": "initial"
      }
     },
     "1e4a9be053b24271acff02edbe48b02d": {
      "model_module": "@jupyter-widgets/controls",
      "model_module_version": "1.5.0",
      "model_name": "HTMLModel",
      "state": {
       "layout": "IPY_MODEL_7f76b51d17ae455abc4b9e73a64f130a",
       "style": "IPY_MODEL_6a8e3066f8ca44bab94b9e1b8e91aadf",
       "value": " 22/22 [00:00&lt;00:00, 152.79it/s]"
      }
     },
     "1eb0c3d534d3485c966f7a394495b1a3": {
      "model_module": "@jupyter-widgets/base",
      "model_module_version": "1.2.0",
      "model_name": "LayoutModel",
      "state": {}
     },
     "1eb1ddac74d744df93b8aef4c43d435f": {
      "model_module": "@jupyter-widgets/controls",
      "model_module_version": "1.5.0",
      "model_name": "HTMLModel",
      "state": {
       "layout": "IPY_MODEL_efa32f062a7e43b0bc2761fc21afe6eb",
       "style": "IPY_MODEL_ea869734a39c4105b880510a1020bde2",
       "value": " 10/10 [01:42&lt;00:00, 10.25s/it]"
      }
     },
     "1eb44bfe091f4091bd52327d8827825c": {
      "model_module": "@jupyter-widgets/controls",
      "model_module_version": "1.5.0",
      "model_name": "ProgressStyleModel",
      "state": {
       "description_width": "initial"
      }
     },
     "1eca4baf66a94718abff9c11a33bf8b2": {
      "model_module": "@jupyter-widgets/base",
      "model_module_version": "1.2.0",
      "model_name": "LayoutModel",
      "state": {}
     },
     "1ed684d993514dd1a882fb15ca2139b3": {
      "model_module": "@jupyter-widgets/controls",
      "model_module_version": "1.5.0",
      "model_name": "ProgressStyleModel",
      "state": {
       "description_width": "initial"
      }
     },
     "1ed714df3bbd4b368a82affb2a1faf04": {
      "model_module": "@jupyter-widgets/controls",
      "model_module_version": "1.5.0",
      "model_name": "FloatProgressModel",
      "state": {
       "description": "val loss: 0.4669: 100%",
       "layout": "IPY_MODEL_581b08e121594a428ca8e95f69979004",
       "max": 11,
       "style": "IPY_MODEL_a37f669f145e4513b77769e2be0156eb",
       "value": 11
      }
     },
     "1ee67da3643d444a80dfa09bddfb678e": {
      "model_module": "@jupyter-widgets/base",
      "model_module_version": "1.2.0",
      "model_name": "LayoutModel",
      "state": {}
     },
     "1f1c1cb7c953441ba4982013536e6c3a": {
      "model_module": "@jupyter-widgets/base",
      "model_module_version": "1.2.0",
      "model_name": "LayoutModel",
      "state": {}
     },
     "1f2244917f274f0c919262a949acb16a": {
      "model_module": "@jupyter-widgets/base",
      "model_module_version": "1.2.0",
      "model_name": "LayoutModel",
      "state": {}
     },
     "1f2ee88f84eb402a937da3138d1081af": {
      "model_module": "@jupyter-widgets/controls",
      "model_module_version": "1.5.0",
      "model_name": "FloatProgressModel",
      "state": {
       "description": "train loss: 0.0210: 100%",
       "layout": "IPY_MODEL_1513dea74019464a9ebbede649e2b3c6",
       "max": 99,
       "style": "IPY_MODEL_cfee65dcb52f4d0298da6c17531e4319",
       "value": 99
      }
     },
     "1f6454be4cd942ffaec949ad4c977f52": {
      "model_module": "@jupyter-widgets/controls",
      "model_module_version": "1.5.0",
      "model_name": "FloatProgressModel",
      "state": {
       "description": "train loss: 0.2156: 100%",
       "layout": "IPY_MODEL_5f7c473468f549788e4a3807d43f2161",
       "max": 99,
       "style": "IPY_MODEL_51671e621381401a8da736574302faff",
       "value": 99
      }
     },
     "1f7b7f35b2564bfeb74bba73c8902323": {
      "model_module": "@jupyter-widgets/base",
      "model_module_version": "1.2.0",
      "model_name": "LayoutModel",
      "state": {}
     },
     "1f8db4e1e68945a29800c594757287da": {
      "model_module": "@jupyter-widgets/base",
      "model_module_version": "1.2.0",
      "model_name": "LayoutModel",
      "state": {}
     },
     "20069cf9f198414e8880118ea4ebeb50": {
      "model_module": "@jupyter-widgets/controls",
      "model_module_version": "1.5.0",
      "model_name": "HTMLModel",
      "state": {
       "layout": "IPY_MODEL_2902f8bd2bfa4925bfdbf87bca5435ad",
       "style": "IPY_MODEL_c043f74fa52645028fc3689e9fd8dae6",
       "value": " 50/50 [00:00&lt;00:00, 98.16it/s]"
      }
     },
     "200ce6d3287b4c32bed64e4f0f138387": {
      "model_module": "@jupyter-widgets/controls",
      "model_module_version": "1.5.0",
      "model_name": "HTMLModel",
      "state": {
       "layout": "IPY_MODEL_49cdb74535ed43fd95fd4e7ce8e6c655",
       "style": "IPY_MODEL_02f5287b816b4e5f96c96d56f7445519",
       "value": " 50/50 [00:07&lt;00:00,  3.64it/s]"
      }
     },
     "204c6ba93c32410599703c7f3743b00a": {
      "model_module": "@jupyter-widgets/base",
      "model_module_version": "1.2.0",
      "model_name": "LayoutModel",
      "state": {}
     },
     "2061f069cc014c24ae48c4c08d136293": {
      "model_module": "@jupyter-widgets/controls",
      "model_module_version": "1.5.0",
      "model_name": "HBoxModel",
      "state": {
       "children": [
        "IPY_MODEL_661b7f66b6a140fcae0cd78b6aacd0e0",
        "IPY_MODEL_1eb1ddac74d744df93b8aef4c43d435f"
       ],
       "layout": "IPY_MODEL_a67b79051d8642c799c0dae34775cbf0"
      }
     },
     "20680f2a20cb434eaa75643975c107e9": {
      "model_module": "@jupyter-widgets/controls",
      "model_module_version": "1.5.0",
      "model_name": "ProgressStyleModel",
      "state": {
       "description_width": "initial"
      }
     },
     "2075babc8ae84aeb9410d06bae8420f5": {
      "model_module": "@jupyter-widgets/base",
      "model_module_version": "1.2.0",
      "model_name": "LayoutModel",
      "state": {}
     },
     "207bfadafdd34aa79b33ca047ff66c52": {
      "model_module": "@jupyter-widgets/controls",
      "model_module_version": "1.5.0",
      "model_name": "FloatProgressModel",
      "state": {
       "description": "val loss: 0.0663: 100%",
       "layout": "IPY_MODEL_ff8e2a327e3e41ab8d85f437dc642efb",
       "max": 11,
       "style": "IPY_MODEL_0b92775b437c41759659590c713d89d8",
       "value": 11
      }
     },
     "20c2665df1704d47b285ee6442ecca81": {
      "model_module": "@jupyter-widgets/controls",
      "model_module_version": "1.5.0",
      "model_name": "FloatProgressModel",
      "state": {
       "description": "val loss: 0.4775: 100%",
       "layout": "IPY_MODEL_8e827acaa6604d34ab2523711e49da0e",
       "max": 11,
       "style": "IPY_MODEL_28415c13657f48318ef92c03363403ba",
       "value": 11
      }
     },
     "2100e3baf8564173acabfde25a2f1b71": {
      "model_module": "@jupyter-widgets/base",
      "model_module_version": "1.2.0",
      "model_name": "LayoutModel",
      "state": {}
     },
     "2126de1a3d7245a29dc8c8451241793e": {
      "model_module": "@jupyter-widgets/base",
      "model_module_version": "1.2.0",
      "model_name": "LayoutModel",
      "state": {}
     },
     "2135b08bce644f6d9a57ce06128269cd": {
      "model_module": "@jupyter-widgets/base",
      "model_module_version": "1.2.0",
      "model_name": "LayoutModel",
      "state": {}
     },
     "217638e8a86c423a89c7cb7a00fb8125": {
      "model_module": "@jupyter-widgets/controls",
      "model_module_version": "1.5.0",
      "model_name": "DescriptionStyleModel",
      "state": {
       "description_width": ""
      }
     },
     "217aa1469fe04ef58e7e699a8a14fedf": {
      "model_module": "@jupyter-widgets/base",
      "model_module_version": "1.2.0",
      "model_name": "LayoutModel",
      "state": {}
     },
     "2180f63e35e249ea90b6066b8fb857e5": {
      "model_module": "@jupyter-widgets/base",
      "model_module_version": "1.2.0",
      "model_name": "LayoutModel",
      "state": {}
     },
     "221149bf77494038991789a1011e005a": {
      "model_module": "@jupyter-widgets/controls",
      "model_module_version": "1.5.0",
      "model_name": "HTMLModel",
      "state": {
       "layout": "IPY_MODEL_1ee67da3643d444a80dfa09bddfb678e",
       "style": "IPY_MODEL_0d146e344a254c2ab18c52935975a462",
       "value": " 21/21 [00:00&lt;00:00, 253.69it/s]"
      }
     },
     "221f84a71245468094cc7db33b919012": {
      "model_module": "@jupyter-widgets/base",
      "model_module_version": "1.2.0",
      "model_name": "LayoutModel",
      "state": {}
     },
     "2237e505560d47b0bbb6dc710175d854": {
      "model_module": "@jupyter-widgets/controls",
      "model_module_version": "1.5.0",
      "model_name": "ProgressStyleModel",
      "state": {
       "description_width": "initial"
      }
     },
     "22604ecfedec4eb7a4fbe6a0414cfe80": {
      "model_module": "@jupyter-widgets/controls",
      "model_module_version": "1.5.0",
      "model_name": "DescriptionStyleModel",
      "state": {
       "description_width": ""
      }
     },
     "22b0abd4e4b74793a51f608ffb98bf04": {
      "model_module": "@jupyter-widgets/controls",
      "model_module_version": "1.5.0",
      "model_name": "HTMLModel",
      "state": {
       "layout": "IPY_MODEL_5854abdeb3b2479eae9faf039b725a1d",
       "style": "IPY_MODEL_b9b4f093b25f4d028830db04ca241201",
       "value": " 99/99 [00:00&lt;00:00, 107.80it/s]"
      }
     },
     "22b52191e63944479e27a9e03e17bd48": {
      "model_module": "@jupyter-widgets/base",
      "model_module_version": "1.2.0",
      "model_name": "LayoutModel",
      "state": {}
     },
     "23279fc2d3004aafb6d5dcdcb07759cb": {
      "model_module": "@jupyter-widgets/controls",
      "model_module_version": "1.5.0",
      "model_name": "ProgressStyleModel",
      "state": {
       "description_width": "initial"
      }
     },
     "23e11fbe952246bdad5066877d9bc70f": {
      "model_module": "@jupyter-widgets/controls",
      "model_module_version": "1.5.0",
      "model_name": "ProgressStyleModel",
      "state": {
       "description_width": "initial"
      }
     },
     "23f2c7885b0448e2a2723aa4bb3009c3": {
      "model_module": "@jupyter-widgets/base",
      "model_module_version": "1.2.0",
      "model_name": "LayoutModel",
      "state": {}
     },
     "23f7bfff5ec5492ea66ce45d1ce43df0": {
      "model_module": "@jupyter-widgets/base",
      "model_module_version": "1.2.0",
      "model_name": "LayoutModel",
      "state": {}
     },
     "23fcf589bd2345e98b7c3c55afc36034": {
      "model_module": "@jupyter-widgets/controls",
      "model_module_version": "1.5.0",
      "model_name": "FloatProgressModel",
      "state": {
       "description": "val loss: 0.3805: 100%",
       "layout": "IPY_MODEL_fbfc6ab6122042dfb475810c9868757d",
       "max": 11,
       "style": "IPY_MODEL_92d5591a4c544dd5a1f97a2e18518ba2",
       "value": 11
      }
     },
     "242188f6651e463181a8f271add9bc10": {
      "model_module": "@jupyter-widgets/base",
      "model_module_version": "1.2.0",
      "model_name": "LayoutModel",
      "state": {}
     },
     "2424f6e3083b4b238dddcc0cccc889e6": {
      "model_module": "@jupyter-widgets/controls",
      "model_module_version": "1.5.0",
      "model_name": "HTMLModel",
      "state": {
       "layout": "IPY_MODEL_5169407c44c94ab6b3483ce67fc4f39f",
       "style": "IPY_MODEL_ffa7c7458f3a433290a8b72a41343c36",
       "value": " 11/11 [00:00&lt;00:00, 190.24it/s]"
      }
     },
     "24453e108c404709b82443d5e9bcf770": {
      "model_module": "@jupyter-widgets/base",
      "model_module_version": "1.2.0",
      "model_name": "LayoutModel",
      "state": {}
     },
     "246857414a7849dd90e207a92b31fe79": {
      "model_module": "@jupyter-widgets/controls",
      "model_module_version": "1.5.0",
      "model_name": "ProgressStyleModel",
      "state": {
       "description_width": "initial"
      }
     },
     "249b6634a5824fcbb0ac16832699f9b0": {
      "model_module": "@jupyter-widgets/controls",
      "model_module_version": "1.5.0",
      "model_name": "DescriptionStyleModel",
      "state": {
       "description_width": ""
      }
     },
     "24fc845e9dd0416d97e2d1bc13e5727d": {
      "model_module": "@jupyter-widgets/controls",
      "model_module_version": "1.5.0",
      "model_name": "ProgressStyleModel",
      "state": {
       "description_width": "initial"
      }
     },
     "250bb9e7b18341ae8b4e55494cf3dfd0": {
      "model_module": "@jupyter-widgets/controls",
      "model_module_version": "1.5.0",
      "model_name": "FloatProgressModel",
      "state": {
       "description": "train loss: 0.0248: 100%",
       "layout": "IPY_MODEL_7872c09325ce4d3d92811d41df1f562a",
       "max": 99,
       "style": "IPY_MODEL_7817b03acbba41199b18113f4e4c6566",
       "value": 99
      }
     },
     "251f63b19cfc404ab8806d6de6d1ed54": {
      "model_module": "@jupyter-widgets/controls",
      "model_module_version": "1.5.0",
      "model_name": "FloatProgressModel",
      "state": {
       "description": "train loss: 0.0921: 100%",
       "layout": "IPY_MODEL_7637df83ea074f02b2c7c1634ac5d6f4",
       "max": 99,
       "style": "IPY_MODEL_1e047ce73ec64af1867e5ee5964dcd72",
       "value": 99
      }
     },
     "252c1218fc464053a68340c5ac6f70bb": {
      "model_module": "@jupyter-widgets/controls",
      "model_module_version": "1.5.0",
      "model_name": "DescriptionStyleModel",
      "state": {
       "description_width": ""
      }
     },
     "2559431e0c194eb4983c66e195ab7bea": {
      "model_module": "@jupyter-widgets/controls",
      "model_module_version": "1.5.0",
      "model_name": "FloatProgressModel",
      "state": {
       "description": "train loss: 0.3851: 100%",
       "layout": "IPY_MODEL_6f10107aafff4b498f241a15a6945586",
       "max": 50,
       "style": "IPY_MODEL_b56c57213f4e44b6af076ce5d5bb48fa",
       "value": 50
      }
     },
     "257d103dab8e4925a537bea1298359b2": {
      "model_module": "@jupyter-widgets/base",
      "model_module_version": "1.2.0",
      "model_name": "LayoutModel",
      "state": {}
     },
     "2582144f883f4615800c24937a8f8fed": {
      "model_module": "@jupyter-widgets/controls",
      "model_module_version": "1.5.0",
      "model_name": "HTMLModel",
      "state": {
       "layout": "IPY_MODEL_5bb53eeccb4c418fb33bbd850f343c0e",
       "style": "IPY_MODEL_d63b236860534d0fbaef3dbfe90cd651",
       "value": " 11/11 [00:00&lt;00:00, 164.68it/s]"
      }
     },
     "258901cbccc94f098e2f5a64f7f4eef0": {
      "model_module": "@jupyter-widgets/controls",
      "model_module_version": "1.5.0",
      "model_name": "HBoxModel",
      "state": {
       "children": [
        "IPY_MODEL_dfee2a2b2cf1494993d4bc8c61c7e997",
        "IPY_MODEL_5ddb0ffbb32348afb5e87e60d74d2f54"
       ],
       "layout": "IPY_MODEL_0438d78bd85f4522982fab1e238c0c0d"
      }
     },
     "25f197d185a94136b5bb6f260f5b49eb": {
      "model_module": "@jupyter-widgets/controls",
      "model_module_version": "1.5.0",
      "model_name": "DescriptionStyleModel",
      "state": {
       "description_width": ""
      }
     },
     "25f1b104f11142bab1b516f448c906ef": {
      "model_module": "@jupyter-widgets/controls",
      "model_module_version": "1.5.0",
      "model_name": "FloatProgressModel",
      "state": {
       "description": "train loss: 0.2944: 100%",
       "layout": "IPY_MODEL_d8a8dfb9c82f4e18b9cadb0cf97746f9",
       "max": 99,
       "style": "IPY_MODEL_c72362c742664c49b89eecfb232d48c5",
       "value": 99
      }
     },
     "25f63d72f6dc4984ac78c316739b22d2": {
      "model_module": "@jupyter-widgets/controls",
      "model_module_version": "1.5.0",
      "model_name": "ProgressStyleModel",
      "state": {
       "description_width": "initial"
      }
     },
     "2603a6fb3fd643e091229d7eb8c54315": {
      "model_module": "@jupyter-widgets/base",
      "model_module_version": "1.2.0",
      "model_name": "LayoutModel",
      "state": {}
     },
     "26878abbebb94fd286d0de007f3ce6cf": {
      "model_module": "@jupyter-widgets/controls",
      "model_module_version": "1.5.0",
      "model_name": "FloatProgressModel",
      "state": {
       "description": "train loss: 0.0221: 100%",
       "layout": "IPY_MODEL_92e88272a4a0416e834d7a8850c1c34f",
       "max": 99,
       "style": "IPY_MODEL_f7b49fd4db8f4cd08066e5b69fec1253",
       "value": 99
      }
     },
     "2689b2cb7b0e44c5bade58d52b7fa75a": {
      "model_module": "@jupyter-widgets/controls",
      "model_module_version": "1.5.0",
      "model_name": "FloatProgressModel",
      "state": {
       "description": "val loss: 0.4978: 100%",
       "layout": "IPY_MODEL_217aa1469fe04ef58e7e699a8a14fedf",
       "max": 11,
       "style": "IPY_MODEL_5665319727a04ed79de3c2a4a234aeb7",
       "value": 11
      }
     },
     "268d4adb8b6d4827b2839d17a74e6066": {
      "model_module": "@jupyter-widgets/base",
      "model_module_version": "1.2.0",
      "model_name": "LayoutModel",
      "state": {}
     },
     "26c3bd68dd3748c78f8db915a231feaa": {
      "model_module": "@jupyter-widgets/base",
      "model_module_version": "1.2.0",
      "model_name": "LayoutModel",
      "state": {}
     },
     "26f6bf0b748348cb91d840d8af30a08b": {
      "model_module": "@jupyter-widgets/controls",
      "model_module_version": "1.5.0",
      "model_name": "FloatProgressModel",
      "state": {
       "description": "train loss: 0.0927: 100%",
       "layout": "IPY_MODEL_c179a42a17a2458f85bc070643003467",
       "max": 50,
       "style": "IPY_MODEL_bc1e066a047b409db42f79ca3d8994eb",
       "value": 50
      }
     },
     "26fc3a06e2584b108cb13ce1c5d369ba": {
      "model_module": "@jupyter-widgets/controls",
      "model_module_version": "1.5.0",
      "model_name": "DescriptionStyleModel",
      "state": {
       "description_width": ""
      }
     },
     "27770e5567444e398b8590cfb10879f1": {
      "model_module": "@jupyter-widgets/base",
      "model_module_version": "1.2.0",
      "model_name": "LayoutModel",
      "state": {}
     },
     "279e6c7ca2554808ad195cdd415329fe": {
      "model_module": "@jupyter-widgets/controls",
      "model_module_version": "1.5.0",
      "model_name": "DescriptionStyleModel",
      "state": {
       "description_width": ""
      }
     },
     "27c793f92adf47c58afb89434b409a38": {
      "model_module": "@jupyter-widgets/base",
      "model_module_version": "1.2.0",
      "model_name": "LayoutModel",
      "state": {}
     },
     "281c696061a5416693ddc221bb49f1b9": {
      "model_module": "@jupyter-widgets/controls",
      "model_module_version": "1.5.0",
      "model_name": "HTMLModel",
      "state": {
       "layout": "IPY_MODEL_c48bdd36c11843a8bf65ee43f28a4446",
       "style": "IPY_MODEL_141d0b43ee5c420ca1bb20713fce11b2",
       "value": " 50/50 [00:07&lt;00:00,  3.71it/s]"
      }
     },
     "28415c13657f48318ef92c03363403ba": {
      "model_module": "@jupyter-widgets/controls",
      "model_module_version": "1.5.0",
      "model_name": "ProgressStyleModel",
      "state": {
       "description_width": "initial"
      }
     },
     "28479e4e5f09423caea1d120d6b925e7": {
      "model_module": "@jupyter-widgets/controls",
      "model_module_version": "1.5.0",
      "model_name": "FloatProgressModel",
      "state": {
       "description": "train loss: 0.2169: 100%",
       "layout": "IPY_MODEL_f7eed8455fca4f3e95ab0c7326d3842f",
       "max": 50,
       "style": "IPY_MODEL_4705841f97e0421fad1ef8389dce08f0",
       "value": 50
      }
     },
     "284a72bdb47a4d7fa8f0701b23bf358d": {
      "model_module": "@jupyter-widgets/base",
      "model_module_version": "1.2.0",
      "model_name": "LayoutModel",
      "state": {}
     },
     "285189ab094e49e5a0f8a54ab3c72d2c": {
      "model_module": "@jupyter-widgets/base",
      "model_module_version": "1.2.0",
      "model_name": "LayoutModel",
      "state": {}
     },
     "285ec599c5994a3f8c3996635a8e77e5": {
      "model_module": "@jupyter-widgets/controls",
      "model_module_version": "1.5.0",
      "model_name": "HTMLModel",
      "state": {
       "layout": "IPY_MODEL_e45ed128d8c54d5bae056e4b3fb27b79",
       "style": "IPY_MODEL_0b4ad3d75a16442083f8a12fe3579b8a",
       "value": " 21/21 [00:00&lt;00:00, 244.84it/s]"
      }
     },
     "285f6e2d9fd94306a52ebb832dc41168": {
      "model_module": "@jupyter-widgets/controls",
      "model_module_version": "1.5.0",
      "model_name": "HTMLModel",
      "state": {
       "layout": "IPY_MODEL_1a867b3223cb436eb509cbe67f2a8810",
       "style": "IPY_MODEL_eb4bb5418ec741e4a9030f6140b28420",
       "value": " 50/50 [00:00&lt;00:00, 96.45it/s]"
      }
     },
     "2896ac21f191418f8da90713b61acbdc": {
      "model_module": "@jupyter-widgets/base",
      "model_module_version": "1.2.0",
      "model_name": "LayoutModel",
      "state": {}
     },
     "28aede65bb25404c99314d6456f20662": {
      "model_module": "@jupyter-widgets/base",
      "model_module_version": "1.2.0",
      "model_name": "LayoutModel",
      "state": {}
     },
     "28bbfd5e95404ea89dd8215085edca6b": {
      "model_module": "@jupyter-widgets/controls",
      "model_module_version": "1.5.0",
      "model_name": "HTMLModel",
      "state": {
       "layout": "IPY_MODEL_c22e3fdeb93f4f518dc869831413f96d",
       "style": "IPY_MODEL_6189371880124961b3da8de1cc2c3caf",
       "value": " 21/21 [00:00&lt;00:00, 247.64it/s]"
      }
     },
     "28c7d21cf59d44a1bcec56fbbc421120": {
      "model_module": "@jupyter-widgets/base",
      "model_module_version": "1.2.0",
      "model_name": "LayoutModel",
      "state": {}
     },
     "2902f8bd2bfa4925bfdbf87bca5435ad": {
      "model_module": "@jupyter-widgets/base",
      "model_module_version": "1.2.0",
      "model_name": "LayoutModel",
      "state": {}
     },
     "29156edbf5d242328adf083c7c394280": {
      "model_module": "@jupyter-widgets/controls",
      "model_module_version": "1.5.0",
      "model_name": "HTMLModel",
      "state": {
       "layout": "IPY_MODEL_f191d546b1d5428d94dd445788fa12de",
       "style": "IPY_MODEL_26fc3a06e2584b108cb13ce1c5d369ba",
       "value": " 99/99 [00:00&lt;00:00, 109.78it/s]"
      }
     },
     "297e386ac6154dc29e82313e7ac96d7d": {
      "model_module": "@jupyter-widgets/base",
      "model_module_version": "1.2.0",
      "model_name": "LayoutModel",
      "state": {}
     },
     "298f58d8aabf4d28a1d236e9cf602c5e": {
      "model_module": "@jupyter-widgets/controls",
      "model_module_version": "1.5.0",
      "model_name": "HTMLModel",
      "state": {
       "layout": "IPY_MODEL_dfd59eb1bcba4c15b9c87dbc07b93d1b",
       "style": "IPY_MODEL_5037558267a243419c773818481d43fc",
       "value": " 99/99 [00:27&lt;00:00,  1.87it/s]"
      }
     },
     "299ec0543e104a9b955b82a19497282f": {
      "model_module": "@jupyter-widgets/controls",
      "model_module_version": "1.5.0",
      "model_name": "FloatProgressModel",
      "state": {
       "description": "val loss: 0.2757: 100%",
       "layout": "IPY_MODEL_ea8be34767284f5882875a874de30d07",
       "max": 22,
       "style": "IPY_MODEL_0423ab0dc1794bba84d9a00a2215cf2d",
       "value": 22
      }
     },
     "29cea89cb8154033a413425dfce50bf3": {
      "model_module": "@jupyter-widgets/controls",
      "model_module_version": "1.5.0",
      "model_name": "ProgressStyleModel",
      "state": {
       "description_width": "initial"
      }
     },
     "29ef75dda78b4ffb8d1ee78bc11ae7b6": {
      "model_module": "@jupyter-widgets/base",
      "model_module_version": "1.2.0",
      "model_name": "LayoutModel",
      "state": {}
     },
     "2a168bfcad4041e3bfbe7848e26bec9f": {
      "model_module": "@jupyter-widgets/controls",
      "model_module_version": "1.5.0",
      "model_name": "HTMLModel",
      "state": {
       "layout": "IPY_MODEL_0ad5fd4d1f7f48ba8fbb6f30963aecf5",
       "style": "IPY_MODEL_ff326309ccc6475c828db56864447cc0",
       "value": " 50/50 [00:05&lt;00:00,  5.58it/s]"
      }
     },
     "2a45c5b18d854b268e378963c392b322": {
      "model_module": "@jupyter-widgets/controls",
      "model_module_version": "1.5.0",
      "model_name": "ProgressStyleModel",
      "state": {
       "description_width": "initial"
      }
     },
     "2a45f6907d32493db2c6ab42ec212404": {
      "model_module": "@jupyter-widgets/controls",
      "model_module_version": "1.5.0",
      "model_name": "FloatProgressModel",
      "state": {
       "description": "val loss: 0.2680: 100%",
       "layout": "IPY_MODEL_1a68c237bc0147bd8f1d30494e593d63",
       "max": 11,
       "style": "IPY_MODEL_701df1b29bda40cebb826171f0a4da36",
       "value": 11
      }
     },
     "2a4c26a4d5594e44a16d821a31b1e3a8": {
      "model_module": "@jupyter-widgets/controls",
      "model_module_version": "1.5.0",
      "model_name": "DescriptionStyleModel",
      "state": {
       "description_width": ""
      }
     },
     "2a59b631163a444ba580afc5723d55d5": {
      "model_module": "@jupyter-widgets/controls",
      "model_module_version": "1.5.0",
      "model_name": "DescriptionStyleModel",
      "state": {
       "description_width": ""
      }
     },
     "2a5bbb3bc205440391aeeb547a614fbf": {
      "model_module": "@jupyter-widgets/base",
      "model_module_version": "1.2.0",
      "model_name": "LayoutModel",
      "state": {}
     },
     "2a71e69a96364368b17189a636bcfe4e": {
      "model_module": "@jupyter-widgets/base",
      "model_module_version": "1.2.0",
      "model_name": "LayoutModel",
      "state": {}
     },
     "2ace2c8e014b45fcb85235b85099b060": {
      "model_module": "@jupyter-widgets/controls",
      "model_module_version": "1.5.0",
      "model_name": "HBoxModel",
      "state": {
       "children": [
        "IPY_MODEL_83467616fc7d487dba58948d29c3c688",
        "IPY_MODEL_cab0e314d7cb4f268b44af89ffacb662"
       ],
       "layout": "IPY_MODEL_3647cc83fbff485184a7712a7c3d74d9"
      }
     },
     "2ae6f2b13e1e4dd695d2f7468a8b5340": {
      "model_module": "@jupyter-widgets/base",
      "model_module_version": "1.2.0",
      "model_name": "LayoutModel",
      "state": {}
     },
     "2af3dadb67ae4ce89b0e4d0be63b0d95": {
      "model_module": "@jupyter-widgets/base",
      "model_module_version": "1.2.0",
      "model_name": "LayoutModel",
      "state": {}
     },
     "2b23988955d34121979757cfd61133a6": {
      "model_module": "@jupyter-widgets/controls",
      "model_module_version": "1.5.0",
      "model_name": "ProgressStyleModel",
      "state": {
       "description_width": "initial"
      }
     },
     "2b7732edcc464ef78b14beabe80f7624": {
      "model_module": "@jupyter-widgets/controls",
      "model_module_version": "1.5.0",
      "model_name": "HTMLModel",
      "state": {
       "layout": "IPY_MODEL_5e1335077a3f4caa85e92a90271da458",
       "style": "IPY_MODEL_877e632ad922406992cd199bc8a998c1",
       "value": " 99/99 [00:18&lt;00:00,  2.85it/s]"
      }
     },
     "2b787b12d2814799b578367efc75b0cb": {
      "model_module": "@jupyter-widgets/controls",
      "model_module_version": "1.5.0",
      "model_name": "HTMLModel",
      "state": {
       "layout": "IPY_MODEL_3df3e5fed3904d80bf62757582cebfcd",
       "style": "IPY_MODEL_8491a71c629f400c83a9aafc233a2736",
       "value": " 22/22 [00:00&lt;00:00, 173.60it/s]"
      }
     },
     "2badd5cb47d042ffab5db4e12479c20a": {
      "model_module": "@jupyter-widgets/base",
      "model_module_version": "1.2.0",
      "model_name": "LayoutModel",
      "state": {}
     },
     "2bd301d5f8a34895876efb8246dbc312": {
      "model_module": "@jupyter-widgets/controls",
      "model_module_version": "1.5.0",
      "model_name": "ProgressStyleModel",
      "state": {
       "description_width": "initial"
      }
     },
     "2be4b995907c4ed69649c94edbbf60ea": {
      "model_module": "@jupyter-widgets/base",
      "model_module_version": "1.2.0",
      "model_name": "LayoutModel",
      "state": {}
     },
     "2be64a66f0424e13b8044a785db2bee0": {
      "model_module": "@jupyter-widgets/controls",
      "model_module_version": "1.5.0",
      "model_name": "DescriptionStyleModel",
      "state": {
       "description_width": ""
      }
     },
     "2c05a18375024a4e8754d3c1755acb20": {
      "model_module": "@jupyter-widgets/controls",
      "model_module_version": "1.5.0",
      "model_name": "HTMLModel",
      "state": {
       "layout": "IPY_MODEL_4675a7379d96470f9fdfcaff57a1c149",
       "style": "IPY_MODEL_cecd72c92c17445b90f17c06abbe81fa",
       "value": " 25/25 [00:00&lt;00:00, 76.83it/s]"
      }
     },
     "2c11670616254f89857fa5cbd32befe3": {
      "model_module": "@jupyter-widgets/controls",
      "model_module_version": "1.5.0",
      "model_name": "HTMLModel",
      "state": {
       "layout": "IPY_MODEL_569e3c8cdd2a4900b204fce24038175d",
       "style": "IPY_MODEL_076e6311dab64932a0678674b4d61495",
       "value": " 11/11 [00:00&lt;00:00, 139.66it/s]"
      }
     },
     "2c12e705ddd2444bb06723632ea05732": {
      "model_module": "@jupyter-widgets/controls",
      "model_module_version": "1.5.0",
      "model_name": "ProgressStyleModel",
      "state": {
       "description_width": "initial"
      }
     },
     "2c385a14017543fc9fb42840d97cb9ad": {
      "model_module": "@jupyter-widgets/base",
      "model_module_version": "1.2.0",
      "model_name": "LayoutModel",
      "state": {}
     },
     "2c98871e74554479ba12c5193b6f0c44": {
      "model_module": "@jupyter-widgets/controls",
      "model_module_version": "1.5.0",
      "model_name": "DescriptionStyleModel",
      "state": {
       "description_width": ""
      }
     },
     "2cbd8870387348d3bb117ae685d2c679": {
      "model_module": "@jupyter-widgets/controls",
      "model_module_version": "1.5.0",
      "model_name": "ProgressStyleModel",
      "state": {
       "description_width": "initial"
      }
     },
     "2ccf1eec275d4db486fa4ed8b51d9d10": {
      "model_module": "@jupyter-widgets/base",
      "model_module_version": "1.2.0",
      "model_name": "LayoutModel",
      "state": {}
     },
     "2ccfb0d6f27644ca8f7d8369e23eb716": {
      "model_module": "@jupyter-widgets/controls",
      "model_module_version": "1.5.0",
      "model_name": "ProgressStyleModel",
      "state": {
       "description_width": "initial"
      }
     },
     "2d0c68e2e4bb4c9dac848599d333c7bb": {
      "model_module": "@jupyter-widgets/base",
      "model_module_version": "1.2.0",
      "model_name": "LayoutModel",
      "state": {}
     },
     "2d3551f502a74fd6940c57dbfa43f08c": {
      "model_module": "@jupyter-widgets/controls",
      "model_module_version": "1.5.0",
      "model_name": "DescriptionStyleModel",
      "state": {
       "description_width": ""
      }
     },
     "2d37942d87cf424caf2051028aae1afd": {
      "model_module": "@jupyter-widgets/base",
      "model_module_version": "1.2.0",
      "model_name": "LayoutModel",
      "state": {}
     },
     "2d495c6884a94862a65e07d0da264a78": {
      "model_module": "@jupyter-widgets/controls",
      "model_module_version": "1.5.0",
      "model_name": "FloatProgressModel",
      "state": {
       "description": "train loss: 0.0977: 100%",
       "layout": "IPY_MODEL_8574aee3a1df4a6ea34498b23da2c43c",
       "max": 25,
       "style": "IPY_MODEL_41c7d3d2ee1a4566ae3173e16a7b6b0b",
       "value": 25
      }
     },
     "2d4976edaf314f34b0e0d7eec189efa0": {
      "model_module": "@jupyter-widgets/controls",
      "model_module_version": "1.5.0",
      "model_name": "HTMLModel",
      "state": {
       "layout": "IPY_MODEL_8700138df5104ab58432e7b43537bb6c",
       "style": "IPY_MODEL_ddbb018781ac4a3ca2864685a14e12fd",
       "value": " 99/99 [00:02&lt;00:00, 11.48it/s]"
      }
     },
     "2d603fa7ab434d0c982fa71648ae1f2d": {
      "model_module": "@jupyter-widgets/controls",
      "model_module_version": "1.5.0",
      "model_name": "FloatProgressModel",
      "state": {
       "description": "train loss: 0.3430: 100%",
       "layout": "IPY_MODEL_2dc2960b0d2540f888da5feed420df88",
       "max": 50,
       "style": "IPY_MODEL_d25684f0bb534000abb4ff6cda45d34d",
       "value": 50
      }
     },
     "2d7837f7b5ff4a93a4959f563b7cecc2": {
      "model_module": "@jupyter-widgets/base",
      "model_module_version": "1.2.0",
      "model_name": "LayoutModel",
      "state": {}
     },
     "2d871ebd77a74554a050ebe108375484": {
      "model_module": "@jupyter-widgets/base",
      "model_module_version": "1.2.0",
      "model_name": "LayoutModel",
      "state": {}
     },
     "2da5ac7591b644a2b2eb119b87f270fb": {
      "model_module": "@jupyter-widgets/base",
      "model_module_version": "1.2.0",
      "model_name": "LayoutModel",
      "state": {}
     },
     "2daef7662f024eb183fbd737e64ed41f": {
      "model_module": "@jupyter-widgets/base",
      "model_module_version": "1.2.0",
      "model_name": "LayoutModel",
      "state": {}
     },
     "2dc2960b0d2540f888da5feed420df88": {
      "model_module": "@jupyter-widgets/base",
      "model_module_version": "1.2.0",
      "model_name": "LayoutModel",
      "state": {}
     },
     "2df98a8e5abb4bebbb42487d66781623": {
      "model_module": "@jupyter-widgets/base",
      "model_module_version": "1.2.0",
      "model_name": "LayoutModel",
      "state": {}
     },
     "2e079d44f87142e88174728850ca7a70": {
      "model_module": "@jupyter-widgets/controls",
      "model_module_version": "1.5.0",
      "model_name": "DescriptionStyleModel",
      "state": {
       "description_width": ""
      }
     },
     "2e091606638149699d53127ba280e14c": {
      "model_module": "@jupyter-widgets/base",
      "model_module_version": "1.2.0",
      "model_name": "LayoutModel",
      "state": {}
     },
     "2e3050ba6548406eaf6294e263960e68": {
      "model_module": "@jupyter-widgets/controls",
      "model_module_version": "1.5.0",
      "model_name": "ProgressStyleModel",
      "state": {
       "description_width": "initial"
      }
     },
     "2e3c25795ae44471aea66693d8836dcc": {
      "model_module": "@jupyter-widgets/controls",
      "model_module_version": "1.5.0",
      "model_name": "HTMLModel",
      "state": {
       "layout": "IPY_MODEL_59732cb318ae4a9ab4a526275f362992",
       "style": "IPY_MODEL_b8ac12f7722e4313a404e09406a298f7",
       "value": " 6/6 [00:00&lt;00:00, 143.24it/s]"
      }
     },
     "2e482b378bd8476db7aceda9dcf49835": {
      "model_module": "@jupyter-widgets/controls",
      "model_module_version": "1.5.0",
      "model_name": "FloatProgressModel",
      "state": {
       "description": "train loss: 0.0921: 100%",
       "layout": "IPY_MODEL_520eb418612f48f7a8b227c75f048abd",
       "max": 25,
       "style": "IPY_MODEL_a60359aba7944e74a1071888c1c8c8ad",
       "value": 25
      }
     },
     "2e5662d8f10d4e8b9fa9ab74a6955691": {
      "model_module": "@jupyter-widgets/controls",
      "model_module_version": "1.5.0",
      "model_name": "FloatProgressModel",
      "state": {
       "bar_style": "danger",
       "description": "Train Loss: 0.0875 - Val Loss: 0.1314:  90%",
       "layout": "IPY_MODEL_8868621008f54eaf9e2b4407304d340d",
       "max": 10,
       "style": "IPY_MODEL_dfa14936aaa0488097f95ded500232c6",
       "value": 9
      }
     },
     "2e6e992c9c7d4eac8f098f4f1af78720": {
      "model_module": "@jupyter-widgets/base",
      "model_module_version": "1.2.0",
      "model_name": "LayoutModel",
      "state": {}
     },
     "2ea506d9e3e949f5bb50715570d65e93": {
      "model_module": "@jupyter-widgets/controls",
      "model_module_version": "1.5.0",
      "model_name": "FloatProgressModel",
      "state": {
       "description": "val loss: 0.0917: 100%",
       "layout": "IPY_MODEL_d996026f9487437cbeb5b0595bfdd573",
       "max": 21,
       "style": "IPY_MODEL_a34219c065b34da9a2d8b9aec06a0f4d",
       "value": 21
      }
     },
     "2ea58613dcf948589d326eed81567334": {
      "model_module": "@jupyter-widgets/base",
      "model_module_version": "1.2.0",
      "model_name": "LayoutModel",
      "state": {}
     },
     "2ea6ec4eaffd4fa781d4a71bc8327a1d": {
      "model_module": "@jupyter-widgets/controls",
      "model_module_version": "1.5.0",
      "model_name": "HBoxModel",
      "state": {
       "children": [
        "IPY_MODEL_f2880d4ad77a43a2b7c0e3d14c8736d4",
        "IPY_MODEL_a620f2e0724c461b86d26a24ad757459"
       ],
       "layout": "IPY_MODEL_17ed30882888424fb149d4aca8f98ff9"
      }
     },
     "2ebf186bb4324befb1877222c16b71a6": {
      "model_module": "@jupyter-widgets/controls",
      "model_module_version": "1.5.0",
      "model_name": "HTMLModel",
      "state": {
       "layout": "IPY_MODEL_61afb336670f4ec5a522e64c161235a2",
       "style": "IPY_MODEL_14005fbd4d4a4cb9a10eb452b354dc17",
       "value": " 11/11 [00:00&lt;00:00, 137.87it/s]"
      }
     },
     "2eec51106b2d4c529ae4a1389f9e0ebf": {
      "model_module": "@jupyter-widgets/controls",
      "model_module_version": "1.5.0",
      "model_name": "HTMLModel",
      "state": {
       "layout": "IPY_MODEL_cf1d7ec6674b401184d9558c34dd98f2",
       "style": "IPY_MODEL_1a1ceb33856140a58bfeacd74ae7bba4",
       "value": " 11/11 [00:00&lt;00:00, 137.83it/s]"
      }
     },
     "2ef405e894564e279544d1de32f8901e": {
      "model_module": "@jupyter-widgets/base",
      "model_module_version": "1.2.0",
      "model_name": "LayoutModel",
      "state": {}
     },
     "2f7dccba6ea244919d5c67418f3b9b51": {
      "model_module": "@jupyter-widgets/controls",
      "model_module_version": "1.5.0",
      "model_name": "DescriptionStyleModel",
      "state": {
       "description_width": ""
      }
     },
     "2f9b527dd81c43c19acef908793c0faf": {
      "model_module": "@jupyter-widgets/controls",
      "model_module_version": "1.5.0",
      "model_name": "FloatProgressModel",
      "state": {
       "description": "train loss: 0.3608: 100%",
       "layout": "IPY_MODEL_88c110c27f584639a587cc38912e8f21",
       "max": 50,
       "style": "IPY_MODEL_b58eb4c042254215baac8263ab9d847e",
       "value": 50
      }
     },
     "2f9bb54cf853425eafcf997db3f21be3": {
      "model_module": "@jupyter-widgets/controls",
      "model_module_version": "1.5.0",
      "model_name": "HTMLModel",
      "state": {
       "layout": "IPY_MODEL_3faf6d93dc8a4ba2b0098ed1385ce34e",
       "style": "IPY_MODEL_588c2949596b47908e2d5170ce7c30da",
       "value": " 50/50 [00:07&lt;00:00,  3.68it/s]"
      }
     },
     "2fa48a5465814243a7c1c59ee3078d0a": {
      "model_module": "@jupyter-widgets/controls",
      "model_module_version": "1.5.0",
      "model_name": "HTMLModel",
      "state": {
       "layout": "IPY_MODEL_1c0d61d0c8ae4076bfc76692c4bcd956",
       "style": "IPY_MODEL_1508ff8cc5744e2f83f656d8b87d6b81",
       "value": " 22/22 [00:00&lt;00:00, 133.69it/s]"
      }
     },
     "2faf292da19d42e98a9d77d09391adfe": {
      "model_module": "@jupyter-widgets/controls",
      "model_module_version": "1.5.0",
      "model_name": "HTMLModel",
      "state": {
       "layout": "IPY_MODEL_6f92af9ab48e4bb780ff2ab92c0e3e52",
       "style": "IPY_MODEL_bc5033025a0b4930b34beb6f106f28bd",
       "value": " 10/10 [01:30&lt;00:00,  9.02s/it]"
      }
     },
     "2fcaea58db5945c0aea201a078ba9be5": {
      "model_module": "@jupyter-widgets/controls",
      "model_module_version": "1.5.0",
      "model_name": "HTMLModel",
      "state": {
       "layout": "IPY_MODEL_cbe147db947740abae11dfa2e5c7972e",
       "style": "IPY_MODEL_81f18cccf47c4c27955ed6c1259f41fa",
       "value": " 11/11 [00:00&lt;00:00, 123.93it/s]"
      }
     },
     "2fdf3a9448714bd89038727fc61508e9": {
      "model_module": "@jupyter-widgets/controls",
      "model_module_version": "1.5.0",
      "model_name": "HTMLModel",
      "state": {
       "layout": "IPY_MODEL_fa036eafa8734b37b8fcf9830d2e39ff",
       "style": "IPY_MODEL_e4fa52217f0148b786ae45da9db45f4c",
       "value": " 11/11 [00:00&lt;00:00, 139.66it/s]"
      }
     },
     "2ff7044357cc4c9caee5e2907965320c": {
      "model_module": "@jupyter-widgets/controls",
      "model_module_version": "1.5.0",
      "model_name": "DescriptionStyleModel",
      "state": {
       "description_width": ""
      }
     },
     "302adfdd20b14cb394c83963e12a1f5e": {
      "model_module": "@jupyter-widgets/controls",
      "model_module_version": "1.5.0",
      "model_name": "HTMLModel",
      "state": {
       "layout": "IPY_MODEL_4f00e34be77a4b69ae54b86d8fb0fc41",
       "style": "IPY_MODEL_48a544f0a5eb4e1fa0de76f0add9ab02",
       "value": " 22/22 [00:00&lt;00:00, 196.60it/s]"
      }
     },
     "305c976be2444cb087a669682ae219a0": {
      "model_module": "@jupyter-widgets/controls",
      "model_module_version": "1.5.0",
      "model_name": "HTMLModel",
      "state": {
       "layout": "IPY_MODEL_4aad9f100d4f4e3494b8d07a3a445e67",
       "style": "IPY_MODEL_036045104e4344a7910cd4dbdb6d799b",
       "value": " 99/99 [00:00&lt;00:00, 108.50it/s]"
      }
     },
     "30becbba45ee4da08ada4a9653942937": {
      "model_module": "@jupyter-widgets/base",
      "model_module_version": "1.2.0",
      "model_name": "LayoutModel",
      "state": {}
     },
     "30c0026c5b4048c18e0b7060d1142a69": {
      "model_module": "@jupyter-widgets/controls",
      "model_module_version": "1.5.0",
      "model_name": "DescriptionStyleModel",
      "state": {
       "description_width": ""
      }
     },
     "30c846303ad049638c552ebbe76b47c4": {
      "model_module": "@jupyter-widgets/controls",
      "model_module_version": "1.5.0",
      "model_name": "DescriptionStyleModel",
      "state": {
       "description_width": ""
      }
     },
     "30cac7a8e9e04ba19feef3d2c37b902b": {
      "model_module": "@jupyter-widgets/controls",
      "model_module_version": "1.5.0",
      "model_name": "FloatProgressModel",
      "state": {
       "description": "train loss: 0.0060: 100%",
       "layout": "IPY_MODEL_47ecfe1bc767457e8d09448a25d3021e",
       "max": 50,
       "style": "IPY_MODEL_3fe6cb900b2f4e7a9d09309c0b6d3c4b",
       "value": 50
      }
     },
     "30f3aaa91a9943ad81715d60284a32d1": {
      "model_module": "@jupyter-widgets/controls",
      "model_module_version": "1.5.0",
      "model_name": "ProgressStyleModel",
      "state": {
       "description_width": "initial"
      }
     },
     "30f46615d9944e83a0a982389a6efc57": {
      "model_module": "@jupyter-widgets/controls",
      "model_module_version": "1.5.0",
      "model_name": "HTMLModel",
      "state": {
       "layout": "IPY_MODEL_af916f68d58c4cabbc55cdee5d2e7eeb",
       "style": "IPY_MODEL_f326e60e56f843938ddd84206d834137",
       "value": " 99/99 [00:01&lt;00:00, 98.44it/s]"
      }
     },
     "3100074c406e4b42958d0bc30d05a03b": {
      "model_module": "@jupyter-widgets/controls",
      "model_module_version": "1.5.0",
      "model_name": "HTMLModel",
      "state": {
       "layout": "IPY_MODEL_3d8299af280d45b0a292f7691d7789ea",
       "style": "IPY_MODEL_93afdd4070444a878fc8896ff4741e0f",
       "value": " 11/11 [00:00&lt;00:00, 162.20it/s]"
      }
     },
     "310446ffd58c4426b3af648bcd010250": {
      "model_module": "@jupyter-widgets/controls",
      "model_module_version": "1.5.0",
      "model_name": "DescriptionStyleModel",
      "state": {
       "description_width": ""
      }
     },
     "3114665dcea5470cb8a8ceb7af94b96b": {
      "model_module": "@jupyter-widgets/controls",
      "model_module_version": "1.5.0",
      "model_name": "HTMLModel",
      "state": {
       "layout": "IPY_MODEL_608b73b03f464234bb018ad39c32a9fb",
       "style": "IPY_MODEL_1023035ac79e4237a4a30245d5872454",
       "value": " 7/10 [01:22&lt;00:35, 11.78s/it]"
      }
     },
     "31295084f18c4fa99878d8bead4442b7": {
      "model_module": "@jupyter-widgets/base",
      "model_module_version": "1.2.0",
      "model_name": "LayoutModel",
      "state": {}
     },
     "313c8734d6b64fba9466fe4b6796ea9d": {
      "model_module": "@jupyter-widgets/controls",
      "model_module_version": "1.5.0",
      "model_name": "DescriptionStyleModel",
      "state": {
       "description_width": ""
      }
     },
     "318505b949894327801ddde16cd46cf2": {
      "model_module": "@jupyter-widgets/controls",
      "model_module_version": "1.5.0",
      "model_name": "HBoxModel",
      "state": {
       "children": [
        "IPY_MODEL_dc59a8a47e3b4712baff658b9ebcb891",
        "IPY_MODEL_6bbce014c08646f39d0e804e1fec8cd4"
       ],
       "layout": "IPY_MODEL_950784d829274480bc31d94c1296b00e"
      }
     },
     "31b883c4517f4b04abf293bb395a23fe": {
      "model_module": "@jupyter-widgets/controls",
      "model_module_version": "1.5.0",
      "model_name": "HTMLModel",
      "state": {
       "layout": "IPY_MODEL_8e32bf815671475a9855e3eb7acc34ca",
       "style": "IPY_MODEL_e5d92e9b6098490d8034a67e7540c9c8",
       "value": " 50/50 [00:00&lt;00:00, 96.96it/s]"
      }
     },
     "31b9399164844f9b852320e5f8b3f00f": {
      "model_module": "@jupyter-widgets/base",
      "model_module_version": "1.2.0",
      "model_name": "LayoutModel",
      "state": {}
     },
     "324628f6803a424cbdb8c87993cca86c": {
      "model_module": "@jupyter-widgets/base",
      "model_module_version": "1.2.0",
      "model_name": "LayoutModel",
      "state": {}
     },
     "325e5c9d5cc148f8a19037c643847f61": {
      "model_module": "@jupyter-widgets/controls",
      "model_module_version": "1.5.0",
      "model_name": "FloatProgressModel",
      "state": {
       "description": "val loss: 0.2955: 100%",
       "layout": "IPY_MODEL_702b3a7740814a18b6beca51cf992f8e",
       "max": 11,
       "style": "IPY_MODEL_bf6fc5519b784edbab9d7198075f4a64",
       "value": 11
      }
     },
     "329a387c52984fbb966f3a7d79a76890": {
      "model_module": "@jupyter-widgets/controls",
      "model_module_version": "1.5.0",
      "model_name": "HTMLModel",
      "state": {
       "layout": "IPY_MODEL_a2a95ae3f3784fca8f6e0ab4eebf8d83",
       "style": "IPY_MODEL_e8ecc908d1a94cbf8f69cc522eebb58a",
       "value": " 11/11 [00:00&lt;00:00, 159.84it/s]"
      }
     },
     "32aff4bfc5f847a5a1e21bdf2c9b30ad": {
      "model_module": "@jupyter-widgets/controls",
      "model_module_version": "1.5.0",
      "model_name": "FloatProgressModel",
      "state": {
       "description": "val loss: 0.3971: 100%",
       "layout": "IPY_MODEL_d2866d6c16394a328404b6e9b809426e",
       "max": 22,
       "style": "IPY_MODEL_50ba4f62a2a846eba5ba2dca56edbcb7",
       "value": 22
      }
     },
     "32d2fc6f2eb84177a9eda36c67372865": {
      "model_module": "@jupyter-widgets/base",
      "model_module_version": "1.2.0",
      "model_name": "LayoutModel",
      "state": {}
     },
     "333efc3a74b44c7fabf701d529d09814": {
      "model_module": "@jupyter-widgets/base",
      "model_module_version": "1.2.0",
      "model_name": "LayoutModel",
      "state": {}
     },
     "33650e3c1ecc48d3b8b423c7c66b3c22": {
      "model_module": "@jupyter-widgets/base",
      "model_module_version": "1.2.0",
      "model_name": "LayoutModel",
      "state": {}
     },
     "33ad273d5680470da8f3e42c1ae47544": {
      "model_module": "@jupyter-widgets/controls",
      "model_module_version": "1.5.0",
      "model_name": "FloatProgressModel",
      "state": {
       "description": "train loss: 0.0141: 100%",
       "layout": "IPY_MODEL_e76c226b689849969bcd3015aabd0da7",
       "max": 99,
       "style": "IPY_MODEL_11afbe3692024fd2b89c1d67dc58cf36",
       "value": 99
      }
     },
     "33b912597cde4231b322b498de6ed37c": {
      "model_module": "@jupyter-widgets/controls",
      "model_module_version": "1.5.0",
      "model_name": "FloatProgressModel",
      "state": {
       "description": "val loss: 0.0535: 100%",
       "layout": "IPY_MODEL_957b4e179aec4cfb8fbdc7877f82ba67",
       "max": 21,
       "style": "IPY_MODEL_10d8872314e347058c0f570e8e0121be",
       "value": 21
      }
     },
     "33be5898b7174ef995b7fb83240ae290": {
      "model_module": "@jupyter-widgets/controls",
      "model_module_version": "1.5.0",
      "model_name": "DescriptionStyleModel",
      "state": {
       "description_width": ""
      }
     },
     "33c910c492e74b258d08ac2700d792cc": {
      "model_module": "@jupyter-widgets/base",
      "model_module_version": "1.2.0",
      "model_name": "LayoutModel",
      "state": {}
     },
     "33cac155a4aa4b0f991892ab838caa7e": {
      "model_module": "@jupyter-widgets/controls",
      "model_module_version": "1.5.0",
      "model_name": "ProgressStyleModel",
      "state": {
       "description_width": "initial"
      }
     },
     "33e872daebef401db2f00c9d3d6649ad": {
      "model_module": "@jupyter-widgets/controls",
      "model_module_version": "1.5.0",
      "model_name": "DescriptionStyleModel",
      "state": {
       "description_width": ""
      }
     },
     "34560488f743428fab8b575f41d9ee93": {
      "model_module": "@jupyter-widgets/base",
      "model_module_version": "1.2.0",
      "model_name": "LayoutModel",
      "state": {}
     },
     "3470561e9693418888cb5500af2e046b": {
      "model_module": "@jupyter-widgets/controls",
      "model_module_version": "1.5.0",
      "model_name": "HTMLModel",
      "state": {
       "layout": "IPY_MODEL_8773159a3a8d43d199571b7b107e13cd",
       "style": "IPY_MODEL_5e45f027284946499fba2086b0f2a817",
       "value": " 6/6 [00:00&lt;00:00, 133.77it/s]"
      }
     },
     "347f05cbf0a444c9847ab872f179f944": {
      "model_module": "@jupyter-widgets/base",
      "model_module_version": "1.2.0",
      "model_name": "LayoutModel",
      "state": {}
     },
     "34a438790867422c8637b97574ea9c5d": {
      "model_module": "@jupyter-widgets/controls",
      "model_module_version": "1.5.0",
      "model_name": "FloatProgressModel",
      "state": {
       "description": "train loss: 0.0041: 100%",
       "layout": "IPY_MODEL_a33f739d2c8942408dee2e4561d340e3",
       "max": 99,
       "style": "IPY_MODEL_759caf68e30d41b9b6ebb8ed993f4e33",
       "value": 99
      }
     },
     "34bf875fb9f64158b158ea63bed5fd0b": {
      "model_module": "@jupyter-widgets/base",
      "model_module_version": "1.2.0",
      "model_name": "LayoutModel",
      "state": {}
     },
     "34d6fde76f49405195fc447f1517da45": {
      "model_module": "@jupyter-widgets/base",
      "model_module_version": "1.2.0",
      "model_name": "LayoutModel",
      "state": {}
     },
     "34d9efb3532e4708a82167abfc1a6a6a": {
      "model_module": "@jupyter-widgets/controls",
      "model_module_version": "1.5.0",
      "model_name": "FloatProgressModel",
      "state": {
       "description": "train loss: 0.5071: 100%",
       "layout": "IPY_MODEL_4882c914e4144b0fafd202145839ef7a",
       "max": 99,
       "style": "IPY_MODEL_f68ef5aea8324673b733e562ebef86be",
       "value": 99
      }
     },
     "34e4cdb162d14af883198c60f4a137aa": {
      "model_module": "@jupyter-widgets/base",
      "model_module_version": "1.2.0",
      "model_name": "LayoutModel",
      "state": {}
     },
     "34f69c8abaa245198bfbe4d771ea7707": {
      "model_module": "@jupyter-widgets/controls",
      "model_module_version": "1.5.0",
      "model_name": "DescriptionStyleModel",
      "state": {
       "description_width": ""
      }
     },
     "350267a27ffe4c75b82ed1cd2656b843": {
      "model_module": "@jupyter-widgets/controls",
      "model_module_version": "1.5.0",
      "model_name": "FloatProgressModel",
      "state": {
       "description": "train loss: 0.0955: 100%",
       "layout": "IPY_MODEL_6356b389977f4c08bc869d6f762fd3e7",
       "max": 25,
       "style": "IPY_MODEL_d702cfe742294730b5f605aeca92fcd2",
       "value": 25
      }
     },
     "35285c36cfc347cab26faa10889c1902": {
      "model_module": "@jupyter-widgets/base",
      "model_module_version": "1.2.0",
      "model_name": "LayoutModel",
      "state": {}
     },
     "3528813850904cbb97d75bd906be9d2d": {
      "model_module": "@jupyter-widgets/controls",
      "model_module_version": "1.5.0",
      "model_name": "ProgressStyleModel",
      "state": {
       "description_width": "initial"
      }
     },
     "354646371f0a4da781c014082f869a18": {
      "model_module": "@jupyter-widgets/controls",
      "model_module_version": "1.5.0",
      "model_name": "HTMLModel",
      "state": {
       "layout": "IPY_MODEL_67f83f2a10e54d26b549e8500a5e260e",
       "style": "IPY_MODEL_f64f53b8c7d2443aad671acb5a456240",
       "value": " 21/21 [00:00&lt;00:00, 253.69it/s]"
      }
     },
     "35748759d7fd41cc983abb67383579c8": {
      "model_module": "@jupyter-widgets/base",
      "model_module_version": "1.2.0",
      "model_name": "LayoutModel",
      "state": {}
     },
     "35a0f7e79bf94002bec90cb64c7eb206": {
      "model_module": "@jupyter-widgets/base",
      "model_module_version": "1.2.0",
      "model_name": "LayoutModel",
      "state": {}
     },
     "35dda3da665d4d36bfa1cd1b84d96f3e": {
      "model_module": "@jupyter-widgets/controls",
      "model_module_version": "1.5.0",
      "model_name": "DescriptionStyleModel",
      "state": {
       "description_width": ""
      }
     },
     "35e8232bc47143a4b4b18a68c50cd2b0": {
      "model_module": "@jupyter-widgets/base",
      "model_module_version": "1.2.0",
      "model_name": "LayoutModel",
      "state": {}
     },
     "36012658ca704831b46843e39eaadbae": {
      "model_module": "@jupyter-widgets/controls",
      "model_module_version": "1.5.0",
      "model_name": "ProgressStyleModel",
      "state": {
       "description_width": "initial"
      }
     },
     "360a0526d4a3476b89a1b3057e81b238": {
      "model_module": "@jupyter-widgets/base",
      "model_module_version": "1.2.0",
      "model_name": "LayoutModel",
      "state": {}
     },
     "360c1127167d439a8da1661f27471202": {
      "model_module": "@jupyter-widgets/base",
      "model_module_version": "1.2.0",
      "model_name": "LayoutModel",
      "state": {}
     },
     "362468142cf54a9bb4d71c0b939cd19e": {
      "model_module": "@jupyter-widgets/base",
      "model_module_version": "1.2.0",
      "model_name": "LayoutModel",
      "state": {}
     },
     "362b9a04b7c848bf956574c389f4d677": {
      "model_module": "@jupyter-widgets/controls",
      "model_module_version": "1.5.0",
      "model_name": "HTMLModel",
      "state": {
       "layout": "IPY_MODEL_eb97343ed39648eab327973db71fe053",
       "style": "IPY_MODEL_310446ffd58c4426b3af648bcd010250",
       "value": " 99/99 [00:27&lt;00:00,  1.89it/s]"
      }
     },
     "3636e0532ed94fb7b27f98f851d8b8fa": {
      "model_module": "@jupyter-widgets/controls",
      "model_module_version": "1.5.0",
      "model_name": "FloatProgressModel",
      "state": {
       "description": "val loss: 0.3120: 100%",
       "layout": "IPY_MODEL_e6061472361745528e8be74881dd322d",
       "max": 22,
       "style": "IPY_MODEL_b3c0e9b66afd47048995926f6c3bd067",
       "value": 22
      }
     },
     "3647cc83fbff485184a7712a7c3d74d9": {
      "model_module": "@jupyter-widgets/base",
      "model_module_version": "1.2.0",
      "model_name": "LayoutModel",
      "state": {}
     },
     "3647f26df2cd478aa9ac1c813e4a793a": {
      "model_module": "@jupyter-widgets/controls",
      "model_module_version": "1.5.0",
      "model_name": "FloatProgressModel",
      "state": {
       "description": "train loss: 0.0055: 100%",
       "layout": "IPY_MODEL_5509dc29523c4fd4846e6c63e8ad2de9",
       "max": 99,
       "style": "IPY_MODEL_193bcc02c0144415923411f996ba8092",
       "value": 99
      }
     },
     "3667fbe5b9ff406ab9669af9d84a7604": {
      "model_module": "@jupyter-widgets/base",
      "model_module_version": "1.2.0",
      "model_name": "LayoutModel",
      "state": {}
     },
     "367d9988f563451996711954e08d6f75": {
      "model_module": "@jupyter-widgets/controls",
      "model_module_version": "1.5.0",
      "model_name": "ProgressStyleModel",
      "state": {
       "description_width": "initial"
      }
     },
     "36a1b52d523849bc96fd23cc91a08df6": {
      "model_module": "@jupyter-widgets/base",
      "model_module_version": "1.2.0",
      "model_name": "LayoutModel",
      "state": {}
     },
     "36df1b83fc1c457289bd2c1ef060ccb5": {
      "model_module": "@jupyter-widgets/controls",
      "model_module_version": "1.5.0",
      "model_name": "FloatProgressModel",
      "state": {
       "description": "val loss: 0.0537: 100%",
       "layout": "IPY_MODEL_c6d8714bdd234f05bdaab3983d8c8ed1",
       "max": 21,
       "style": "IPY_MODEL_7d7b790c8d3f451789273fc5bf1c9777",
       "value": 21
      }
     },
     "36e8bbbd5efd4437b007a5bd9e93af2b": {
      "model_module": "@jupyter-widgets/controls",
      "model_module_version": "1.5.0",
      "model_name": "FloatProgressModel",
      "state": {
       "description": "val loss: 0.0927: 100%",
       "layout": "IPY_MODEL_e43090e511f64543b2c7a9bb310e8131",
       "max": 6,
       "style": "IPY_MODEL_afdf2388452745199071adf0385c68c8",
       "value": 6
      }
     },
     "3707dadb3e6a4695976ee626f0a42d8f": {
      "model_module": "@jupyter-widgets/base",
      "model_module_version": "1.2.0",
      "model_name": "LayoutModel",
      "state": {}
     },
     "370a63a9a2074fd89cd19aa15a395221": {
      "model_module": "@jupyter-widgets/base",
      "model_module_version": "1.2.0",
      "model_name": "LayoutModel",
      "state": {}
     },
     "37145e2a64684238b95934b3735a5268": {
      "model_module": "@jupyter-widgets/controls",
      "model_module_version": "1.5.0",
      "model_name": "HTMLModel",
      "state": {
       "layout": "IPY_MODEL_74f8a05d12584c8d9dd6825d57e22401",
       "style": "IPY_MODEL_6e9e6626e871478b9ec7aac282298359",
       "value": " 11/11 [00:00&lt;00:00, 131.30it/s]"
      }
     },
     "3728fd6a6e4f4bada0ef8584ecd1faea": {
      "model_module": "@jupyter-widgets/base",
      "model_module_version": "1.2.0",
      "model_name": "LayoutModel",
      "state": {}
     },
     "3779aadb9cf14e51af19b474c97464a2": {
      "model_module": "@jupyter-widgets/controls",
      "model_module_version": "1.5.0",
      "model_name": "ProgressStyleModel",
      "state": {
       "description_width": "initial"
      }
     },
     "377b576c6602422f8caa10cea593da80": {
      "model_module": "@jupyter-widgets/controls",
      "model_module_version": "1.5.0",
      "model_name": "HTMLModel",
      "state": {
       "layout": "IPY_MODEL_975f6fc2cab9408ebce84a057133b15f",
       "style": "IPY_MODEL_e871508ccc6c48ebbe0f5440aa23374d",
       "value": " 99/99 [00:00&lt;00:00, 100.65it/s]"
      }
     },
     "378eefc1b5b74ab688cb54c13345ff0e": {
      "model_module": "@jupyter-widgets/base",
      "model_module_version": "1.2.0",
      "model_name": "LayoutModel",
      "state": {}
     },
     "37a8a513cd424fe1899e0ca570f084eb": {
      "model_module": "@jupyter-widgets/controls",
      "model_module_version": "1.5.0",
      "model_name": "DescriptionStyleModel",
      "state": {
       "description_width": ""
      }
     },
     "37b23d96bc8644cbb432250b721929fb": {
      "model_module": "@jupyter-widgets/base",
      "model_module_version": "1.2.0",
      "model_name": "LayoutModel",
      "state": {}
     },
     "37d88292bd4e44af81baa1b70420ba03": {
      "model_module": "@jupyter-widgets/base",
      "model_module_version": "1.2.0",
      "model_name": "LayoutModel",
      "state": {}
     },
     "386947fb10454148a8a5c6a718281cfc": {
      "model_module": "@jupyter-widgets/controls",
      "model_module_version": "1.5.0",
      "model_name": "FloatProgressModel",
      "state": {
       "description": "val loss: 0.0717: 100%",
       "layout": "IPY_MODEL_4d77c251a43e4e9895c9c67c16da77af",
       "max": 11,
       "style": "IPY_MODEL_3e871512e72b4e8db83efff3b85af0c3",
       "value": 11
      }
     },
     "388e893486294cf5afbddffd96f2e3ac": {
      "model_module": "@jupyter-widgets/controls",
      "model_module_version": "1.5.0",
      "model_name": "HTMLModel",
      "state": {
       "layout": "IPY_MODEL_a8c0d9936b93475d9e17dbfd75084c47",
       "style": "IPY_MODEL_c8ac30220b9b45dda7f2b4fe7a4dc6bc",
       "value": " 11/11 [00:00&lt;00:00, 164.63it/s]"
      }
     },
     "38a70f286d1c4b15962be622dd63e2b8": {
      "model_module": "@jupyter-widgets/controls",
      "model_module_version": "1.5.0",
      "model_name": "ProgressStyleModel",
      "state": {
       "description_width": "initial"
      }
     },
     "38b1af580b5c49a7857af976fc9eae03": {
      "model_module": "@jupyter-widgets/controls",
      "model_module_version": "1.5.0",
      "model_name": "HTMLModel",
      "state": {
       "layout": "IPY_MODEL_85c9936509a54362bc3cad82f7a46198",
       "style": "IPY_MODEL_252c1218fc464053a68340c5ac6f70bb",
       "value": " 11/11 [00:00&lt;00:00, 167.22it/s]"
      }
     },
     "38b35a090f514526a4426ed4a5f68e4c": {
      "model_module": "@jupyter-widgets/controls",
      "model_module_version": "1.5.0",
      "model_name": "FloatProgressModel",
      "state": {
       "description": "val loss: 0.0581: 100%",
       "layout": "IPY_MODEL_c77630df1e964c97999f8c045f780627",
       "max": 21,
       "style": "IPY_MODEL_66ac621fe45749e58e568a02fa2e9e44",
       "value": 21
      }
     },
     "38f890f4babe483093f04586bbf97d03": {
      "model_module": "@jupyter-widgets/controls",
      "model_module_version": "1.5.0",
      "model_name": "FloatProgressModel",
      "state": {
       "description": "val loss: 0.0628: 100%",
       "layout": "IPY_MODEL_e042750cb1bb4534a3ab3476f51239c0",
       "max": 11,
       "style": "IPY_MODEL_82fe29a0f8d4488e9ad6d6cb024c8f89",
       "value": 11
      }
     },
     "38ffbda69ed14758b521faf119ca7dcf": {
      "model_module": "@jupyter-widgets/base",
      "model_module_version": "1.2.0",
      "model_name": "LayoutModel",
      "state": {}
     },
     "391406db8e3f469daa62670399d21fe6": {
      "model_module": "@jupyter-widgets/controls",
      "model_module_version": "1.5.0",
      "model_name": "DescriptionStyleModel",
      "state": {
       "description_width": ""
      }
     },
     "3978e9be84f142eb9d147d4f5d84e81a": {
      "model_module": "@jupyter-widgets/controls",
      "model_module_version": "1.5.0",
      "model_name": "FloatProgressModel",
      "state": {
       "description": "val loss: 0.1526: 100%",
       "layout": "IPY_MODEL_86f857599fcb471b8cdde704b31af935",
       "max": 22,
       "style": "IPY_MODEL_faf91a8c9a2a4655ae471f0a7beee048",
       "value": 22
      }
     },
     "39827581f1004d6caadf94add38173dd": {
      "model_module": "@jupyter-widgets/base",
      "model_module_version": "1.2.0",
      "model_name": "LayoutModel",
      "state": {}
     },
     "39b61ece3b4b4ecd8f6b65406336b6f6": {
      "model_module": "@jupyter-widgets/controls",
      "model_module_version": "1.5.0",
      "model_name": "HTMLModel",
      "state": {
       "layout": "IPY_MODEL_96576c5feff140de9d9697dab4683135",
       "style": "IPY_MODEL_df6d27350e6043449649794b01ce99a3",
       "value": " 0/10 [05:22&lt;?, ?it/s]"
      }
     },
     "39c3ef6a19e64f289ebd3153eb8c96e9": {
      "model_module": "@jupyter-widgets/controls",
      "model_module_version": "1.5.0",
      "model_name": "DescriptionStyleModel",
      "state": {
       "description_width": ""
      }
     },
     "39f33bed362e428a8745e52acdaa9e05": {
      "model_module": "@jupyter-widgets/base",
      "model_module_version": "1.2.0",
      "model_name": "LayoutModel",
      "state": {}
     },
     "3a1b0fc7abb34fd09c98e370da76098a": {
      "model_module": "@jupyter-widgets/controls",
      "model_module_version": "1.5.0",
      "model_name": "DescriptionStyleModel",
      "state": {
       "description_width": ""
      }
     },
     "3a203d4117d04e89af424cd57959a6aa": {
      "model_module": "@jupyter-widgets/controls",
      "model_module_version": "1.5.0",
      "model_name": "FloatProgressModel",
      "state": {
       "description": "val loss: 0.2912: 100%",
       "layout": "IPY_MODEL_9251e2daf0cd4be4a2634f393069597c",
       "max": 11,
       "style": "IPY_MODEL_2c12e705ddd2444bb06723632ea05732",
       "value": 11
      }
     },
     "3a8941133e5349b1a2f335997840bf42": {
      "model_module": "@jupyter-widgets/controls",
      "model_module_version": "1.5.0",
      "model_name": "DescriptionStyleModel",
      "state": {
       "description_width": ""
      }
     },
     "3a8af87596b94765962fad4527d7c805": {
      "model_module": "@jupyter-widgets/controls",
      "model_module_version": "1.5.0",
      "model_name": "HTMLModel",
      "state": {
       "layout": "IPY_MODEL_d6dca725d8174609b17479f52db8e6b8",
       "style": "IPY_MODEL_2ff7044357cc4c9caee5e2907965320c",
       "value": " 99/99 [00:27&lt;00:00,  1.96it/s]"
      }
     },
     "3acdf7064c304ffeb709cc52801c7f91": {
      "model_module": "@jupyter-widgets/controls",
      "model_module_version": "1.5.0",
      "model_name": "HTMLModel",
      "state": {
       "layout": "IPY_MODEL_c3f5478c79264e00a58e770277c4ac32",
       "style": "IPY_MODEL_0bacb83dcbc44de3b9e28f58904f0914",
       "value": " 99/99 [00:00&lt;00:00, 108.59it/s]"
      }
     },
     "3ad98dca28234d95a610c7e4b462e873": {
      "model_module": "@jupyter-widgets/controls",
      "model_module_version": "1.5.0",
      "model_name": "DescriptionStyleModel",
      "state": {
       "description_width": ""
      }
     },
     "3ae72a5ed89f4dc9aff53bdc3015bf01": {
      "model_module": "@jupyter-widgets/controls",
      "model_module_version": "1.5.0",
      "model_name": "FloatProgressModel",
      "state": {
       "description": "val loss: 0.0863: 100%",
       "layout": "IPY_MODEL_b1adc52cb4ef4805ba027ea79cc460c1",
       "max": 11,
       "style": "IPY_MODEL_fa559e53d752443bab9404b400b54d04",
       "value": 11
      }
     },
     "3afe330f8a4e41f4af7edbf8146e4053": {
      "model_module": "@jupyter-widgets/controls",
      "model_module_version": "1.5.0",
      "model_name": "HTMLModel",
      "state": {
       "layout": "IPY_MODEL_c081cbaf4c054afcb3646762fe39cd3d",
       "style": "IPY_MODEL_6865601425a84ebe87930f335d608561",
       "value": " 21/21 [00:00&lt;00:00, 250.74it/s]"
      }
     },
     "3b2fe04cd1ee48ea91f06a1878b13c02": {
      "model_module": "@jupyter-widgets/controls",
      "model_module_version": "1.5.0",
      "model_name": "ProgressStyleModel",
      "state": {
       "description_width": "initial"
      }
     },
     "3b5205cd17f64550bb305c3180def190": {
      "model_module": "@jupyter-widgets/controls",
      "model_module_version": "1.5.0",
      "model_name": "HTMLModel",
      "state": {
       "layout": "IPY_MODEL_46c53f85fd6647e8b21f75895ab793d8",
       "style": "IPY_MODEL_c0e292d1c4034e3db014043a83dfe220",
       "value": " 11/11 [00:00&lt;00:00, 139.61it/s]"
      }
     },
     "3b52b19b6ee2427bacf254c2bb0c52ee": {
      "model_module": "@jupyter-widgets/base",
      "model_module_version": "1.2.0",
      "model_name": "LayoutModel",
      "state": {}
     },
     "3b6647b470a24400b187956667dde02a": {
      "model_module": "@jupyter-widgets/controls",
      "model_module_version": "1.5.0",
      "model_name": "HTMLModel",
      "state": {
       "layout": "IPY_MODEL_0bb6aa3f85844a419242a2941c6a056a",
       "style": "IPY_MODEL_fe3cd3d683564ad4957e00003be7b631",
       "value": " 99/99 [00:00&lt;00:00, 110.06it/s]"
      }
     },
     "3b80151f2c57443d9f19b59484fdcc7b": {
      "model_module": "@jupyter-widgets/base",
      "model_module_version": "1.2.0",
      "model_name": "LayoutModel",
      "state": {}
     },
     "3b962216fd9e4dfb9fc8b90dd3186027": {
      "model_module": "@jupyter-widgets/controls",
      "model_module_version": "1.5.0",
      "model_name": "DescriptionStyleModel",
      "state": {
       "description_width": ""
      }
     },
     "3babf0c52a7d48fda4020ea660d0703d": {
      "model_module": "@jupyter-widgets/base",
      "model_module_version": "1.2.0",
      "model_name": "LayoutModel",
      "state": {}
     },
     "3bbc775ad5004ccc997895524ce59131": {
      "model_module": "@jupyter-widgets/base",
      "model_module_version": "1.2.0",
      "model_name": "LayoutModel",
      "state": {}
     },
     "3bd9dea61a5646d6829cd83c09361cf9": {
      "model_module": "@jupyter-widgets/base",
      "model_module_version": "1.2.0",
      "model_name": "LayoutModel",
      "state": {}
     },
     "3bff4b03caf54e88a7dec97f64e957ef": {
      "model_module": "@jupyter-widgets/base",
      "model_module_version": "1.2.0",
      "model_name": "LayoutModel",
      "state": {}
     },
     "3c26292d4aa24abbaf41fbd1c7e28d8d": {
      "model_module": "@jupyter-widgets/controls",
      "model_module_version": "1.5.0",
      "model_name": "HTMLModel",
      "state": {
       "layout": "IPY_MODEL_5875f455f45042aebea9264ec8d0635b",
       "style": "IPY_MODEL_a4a2ae6504c2490da9b0f4609fe1c775",
       "value": " 25/25 [00:00&lt;00:00, 71.42it/s]"
      }
     },
     "3c32bb8f27234a7192bc8b17863a5991": {
      "model_module": "@jupyter-widgets/controls",
      "model_module_version": "1.5.0",
      "model_name": "FloatProgressModel",
      "state": {
       "description": "train loss: 0.2578: 100%",
       "layout": "IPY_MODEL_76253f2277cf43938320963cdee491c8",
       "max": 99,
       "style": "IPY_MODEL_0c9248305c5947dfae4fe2ba189e1849",
       "value": 99
      }
     },
     "3c3b776565764cfb8adf76d0ab01cebd": {
      "model_module": "@jupyter-widgets/base",
      "model_module_version": "1.2.0",
      "model_name": "LayoutModel",
      "state": {}
     },
     "3c4a788e6b7f406cbb6be2ee249b0753": {
      "model_module": "@jupyter-widgets/controls",
      "model_module_version": "1.5.0",
      "model_name": "DescriptionStyleModel",
      "state": {
       "description_width": ""
      }
     },
     "3c50c0269b5545918ad1e862b7af85e2": {
      "model_module": "@jupyter-widgets/base",
      "model_module_version": "1.2.0",
      "model_name": "LayoutModel",
      "state": {}
     },
     "3c584e33d47848f19e182b298b6af2b3": {
      "model_module": "@jupyter-widgets/controls",
      "model_module_version": "1.5.0",
      "model_name": "HTMLModel",
      "state": {
       "layout": "IPY_MODEL_be731019cc284722aa9064fec1b3b78b",
       "style": "IPY_MODEL_ffe926c70f254f7fba0bb174537ba7ac",
       "value": " 50/50 [00:07&lt;00:00,  3.62it/s]"
      }
     },
     "3c72121454a94cdd90687090806a8d57": {
      "model_module": "@jupyter-widgets/controls",
      "model_module_version": "1.5.0",
      "model_name": "ProgressStyleModel",
      "state": {
       "description_width": "initial"
      }
     },
     "3c7231906dc54f7cb1af6c52382b51e4": {
      "model_module": "@jupyter-widgets/base",
      "model_module_version": "1.2.0",
      "model_name": "LayoutModel",
      "state": {}
     },
     "3c77010348c149f0925ce8b2893f872b": {
      "model_module": "@jupyter-widgets/base",
      "model_module_version": "1.2.0",
      "model_name": "LayoutModel",
      "state": {}
     },
     "3c8f915c444b4231bc48aa813007c112": {
      "model_module": "@jupyter-widgets/base",
      "model_module_version": "1.2.0",
      "model_name": "LayoutModel",
      "state": {}
     },
     "3cbab686cf26414ebc66da87fcd78839": {
      "model_module": "@jupyter-widgets/base",
      "model_module_version": "1.2.0",
      "model_name": "LayoutModel",
      "state": {}
     },
     "3d1cd9be3773487fa772274c7fbe4e48": {
      "model_module": "@jupyter-widgets/controls",
      "model_module_version": "1.5.0",
      "model_name": "ProgressStyleModel",
      "state": {
       "description_width": "initial"
      }
     },
     "3d211bb9809f4455b575900717aaefa0": {
      "model_module": "@jupyter-widgets/controls",
      "model_module_version": "1.5.0",
      "model_name": "FloatProgressModel",
      "state": {
       "description": "train loss: 0.1457: 100%",
       "layout": "IPY_MODEL_15a1e7f3c31c417db0e65e1fbc0c8b91",
       "max": 50,
       "style": "IPY_MODEL_ce4601e369be45e6807c785ae742a0a8",
       "value": 50
      }
     },
     "3d27aabce0c747f6bc5d2bf596bc1f4f": {
      "model_module": "@jupyter-widgets/controls",
      "model_module_version": "1.5.0",
      "model_name": "FloatProgressModel",
      "state": {
       "description": "val loss: 0.4304: 100%",
       "layout": "IPY_MODEL_0ed375194e09421b8b027ca2171d11a1",
       "max": 22,
       "style": "IPY_MODEL_b8e4bcf83746430397b273f63691f963",
       "value": 22
      }
     },
     "3d525d9f2e9b41589288e31ab8242756": {
      "model_module": "@jupyter-widgets/controls",
      "model_module_version": "1.5.0",
      "model_name": "FloatProgressModel",
      "state": {
       "description": "val loss: 0.2876: 100%",
       "layout": "IPY_MODEL_b1504892b5004faa92bc462d210f8423",
       "max": 11,
       "style": "IPY_MODEL_0209a3c9fc224ad88cb3a665cf13ee58",
       "value": 11
      }
     },
     "3d8299af280d45b0a292f7691d7789ea": {
      "model_module": "@jupyter-widgets/base",
      "model_module_version": "1.2.0",
      "model_name": "LayoutModel",
      "state": {}
     },
     "3d90587747804835bb0f05bb8044dbeb": {
      "model_module": "@jupyter-widgets/base",
      "model_module_version": "1.2.0",
      "model_name": "LayoutModel",
      "state": {}
     },
     "3dd79bbf0bc540b9991c684906cf5900": {
      "model_module": "@jupyter-widgets/controls",
      "model_module_version": "1.5.0",
      "model_name": "HTMLModel",
      "state": {
       "layout": "IPY_MODEL_2be4b995907c4ed69649c94edbbf60ea",
       "style": "IPY_MODEL_ba3ae467ee22415882223b72671c2863",
       "value": " 99/99 [00:00&lt;00:00, 109.03it/s]"
      }
     },
     "3de4d0d310474c2cb5769dea9b016ab5": {
      "model_module": "@jupyter-widgets/controls",
      "model_module_version": "1.5.0",
      "model_name": "DescriptionStyleModel",
      "state": {
       "description_width": ""
      }
     },
     "3de86c85e67b400c9040e8e37d45246b": {
      "model_module": "@jupyter-widgets/controls",
      "model_module_version": "1.5.0",
      "model_name": "ProgressStyleModel",
      "state": {
       "description_width": "initial"
      }
     },
     "3df3e5fed3904d80bf62757582cebfcd": {
      "model_module": "@jupyter-widgets/base",
      "model_module_version": "1.2.0",
      "model_name": "LayoutModel",
      "state": {}
     },
     "3e01df28f8354d75994ab3a27ff2638b": {
      "model_module": "@jupyter-widgets/controls",
      "model_module_version": "1.5.0",
      "model_name": "FloatProgressModel",
      "state": {
       "description": "train loss: 0.7986: 100%",
       "layout": "IPY_MODEL_b50f6c49df2e4304bf5f06247ca9270f",
       "max": 50,
       "style": "IPY_MODEL_de436fef242249b28c4c6d9caee80c9a",
       "value": 50
      }
     },
     "3e448d083ff94f48856f95b468e9d48f": {
      "model_module": "@jupyter-widgets/controls",
      "model_module_version": "1.5.0",
      "model_name": "ProgressStyleModel",
      "state": {
       "description_width": "initial"
      }
     },
     "3e768a1f2e984ab3a79724bdf18d0c43": {
      "model_module": "@jupyter-widgets/controls",
      "model_module_version": "1.5.0",
      "model_name": "ProgressStyleModel",
      "state": {
       "description_width": "initial"
      }
     },
     "3e871512e72b4e8db83efff3b85af0c3": {
      "model_module": "@jupyter-widgets/controls",
      "model_module_version": "1.5.0",
      "model_name": "ProgressStyleModel",
      "state": {
       "description_width": "initial"
      }
     },
     "3ed63384164e4747a3fec8d87efb9f87": {
      "model_module": "@jupyter-widgets/controls",
      "model_module_version": "1.5.0",
      "model_name": "HTMLModel",
      "state": {
       "layout": "IPY_MODEL_ff279214af2a4a1cbfe4489afab8204c",
       "style": "IPY_MODEL_9af8cf0f9d3a41e08509373c4d6299e6",
       "value": " 99/99 [00:27&lt;00:00,  1.91it/s]"
      }
     },
     "3f0b0aab368a41a3b3082d41744c9389": {
      "model_module": "@jupyter-widgets/controls",
      "model_module_version": "1.5.0",
      "model_name": "ProgressStyleModel",
      "state": {
       "description_width": "initial"
      }
     },
     "3f56f484bb404f8ead892d74898292f0": {
      "model_module": "@jupyter-widgets/controls",
      "model_module_version": "1.5.0",
      "model_name": "HTMLModel",
      "state": {
       "layout": "IPY_MODEL_fbe467f15d6649a8b3846a7dda669f67",
       "style": "IPY_MODEL_7843dedd50da4190a02d763a954e9553",
       "value": " 99/99 [00:27&lt;00:00,  1.92it/s]"
      }
     },
     "3fa9b3352ae44de88cfd58264eca1a43": {
      "model_module": "@jupyter-widgets/controls",
      "model_module_version": "1.5.0",
      "model_name": "HTMLModel",
      "state": {
       "layout": "IPY_MODEL_11abbb08989a4883bf79100f0d30ef0f",
       "style": "IPY_MODEL_98da7c62898b40a6823873e78785b0eb",
       "value": " 21/21 [00:00&lt;00:00, 244.84it/s]"
      }
     },
     "3faf6d93dc8a4ba2b0098ed1385ce34e": {
      "model_module": "@jupyter-widgets/base",
      "model_module_version": "1.2.0",
      "model_name": "LayoutModel",
      "state": {}
     },
     "3fbec4c9195940dd94e0a11a9aaf7bf7": {
      "model_module": "@jupyter-widgets/controls",
      "model_module_version": "1.5.0",
      "model_name": "FloatProgressModel",
      "state": {
       "description": "val loss: 0.0728: 100%",
       "layout": "IPY_MODEL_31295084f18c4fa99878d8bead4442b7",
       "max": 21,
       "style": "IPY_MODEL_06c0c98e2df844a5aa9b35bee9ac1975",
       "value": 21
      }
     },
     "3fe6cb900b2f4e7a9d09309c0b6d3c4b": {
      "model_module": "@jupyter-widgets/controls",
      "model_module_version": "1.5.0",
      "model_name": "ProgressStyleModel",
      "state": {
       "description_width": "initial"
      }
     },
     "402eb15557784bb39f400502cb5e7b40": {
      "model_module": "@jupyter-widgets/base",
      "model_module_version": "1.2.0",
      "model_name": "LayoutModel",
      "state": {}
     },
     "40774b21765f496292f3431c6fa82d7f": {
      "model_module": "@jupyter-widgets/controls",
      "model_module_version": "1.5.0",
      "model_name": "ProgressStyleModel",
      "state": {
       "description_width": "initial"
      }
     },
     "408c24e0f37a4a45b4a13d8a4a0024b3": {
      "model_module": "@jupyter-widgets/controls",
      "model_module_version": "1.5.0",
      "model_name": "HTMLModel",
      "state": {
       "layout": "IPY_MODEL_ad91c877809741a8a19274f764095316",
       "style": "IPY_MODEL_1c86dc1b7eef41bca5a0e55627aba8cf",
       "value": " 11/11 [00:00&lt;00:00, 196.95it/s]"
      }
     },
     "40c386366e3c409e8fe4d5339a6c4ad5": {
      "model_module": "@jupyter-widgets/controls",
      "model_module_version": "1.5.0",
      "model_name": "FloatProgressModel",
      "state": {
       "description": "train loss: 0.3799: 100%",
       "layout": "IPY_MODEL_9a6a7e7ad38649dab39dfb0f9c47fafa",
       "max": 50,
       "style": "IPY_MODEL_bd76b308546649da9f5e4016a4048c06",
       "value": 50
      }
     },
     "40cd0d3099f14ec89a485e8311cbe905": {
      "model_module": "@jupyter-widgets/controls",
      "model_module_version": "1.5.0",
      "model_name": "ProgressStyleModel",
      "state": {
       "description_width": "initial"
      }
     },
     "410c74d05c814020896435845d34ca44": {
      "model_module": "@jupyter-widgets/controls",
      "model_module_version": "1.5.0",
      "model_name": "HTMLModel",
      "state": {
       "layout": "IPY_MODEL_4176db894f1242a7b2ccbdefdd2b9d2b",
       "style": "IPY_MODEL_8c1bbb3215dc4a2984dd1756281369d3",
       "value": " 50/50 [00:07&lt;00:00,  3.54it/s]"
      }
     },
     "411ef22b8bec42aabf8e5d41d0f1fbd3": {
      "model_module": "@jupyter-widgets/base",
      "model_module_version": "1.2.0",
      "model_name": "LayoutModel",
      "state": {}
     },
     "4135f199837a463e8a3570bd59ccab06": {
      "model_module": "@jupyter-widgets/base",
      "model_module_version": "1.2.0",
      "model_name": "LayoutModel",
      "state": {}
     },
     "41518dfea7ae4678b1271694dbf71556": {
      "model_module": "@jupyter-widgets/controls",
      "model_module_version": "1.5.0",
      "model_name": "ProgressStyleModel",
      "state": {
       "description_width": "initial"
      }
     },
     "4164ff5bf9a740d5b51227a69d83bcf1": {
      "model_module": "@jupyter-widgets/controls",
      "model_module_version": "1.5.0",
      "model_name": "FloatProgressModel",
      "state": {
       "description": "val loss: 0.0659: 100%",
       "layout": "IPY_MODEL_ef9829a7d44b452da21ed2ddb7ee5bd2",
       "max": 21,
       "style": "IPY_MODEL_852b6d1739c94592b22987ce73cebf10",
       "value": 21
      }
     },
     "4176db894f1242a7b2ccbdefdd2b9d2b": {
      "model_module": "@jupyter-widgets/base",
      "model_module_version": "1.2.0",
      "model_name": "LayoutModel",
      "state": {}
     },
     "4192d1f48c644a44978fd2909433ab46": {
      "model_module": "@jupyter-widgets/base",
      "model_module_version": "1.2.0",
      "model_name": "LayoutModel",
      "state": {}
     },
     "41c7d3d2ee1a4566ae3173e16a7b6b0b": {
      "model_module": "@jupyter-widgets/controls",
      "model_module_version": "1.5.0",
      "model_name": "ProgressStyleModel",
      "state": {
       "description_width": "initial"
      }
     },
     "41c9e81649aa407491830ca2b712337f": {
      "model_module": "@jupyter-widgets/base",
      "model_module_version": "1.2.0",
      "model_name": "LayoutModel",
      "state": {}
     },
     "41cbb7d77fec4ef5888d8613e13274d7": {
      "model_module": "@jupyter-widgets/base",
      "model_module_version": "1.2.0",
      "model_name": "LayoutModel",
      "state": {}
     },
     "41e346c5aad942178197b6d9520dea19": {
      "model_module": "@jupyter-widgets/controls",
      "model_module_version": "1.5.0",
      "model_name": "ProgressStyleModel",
      "state": {
       "description_width": "initial"
      }
     },
     "421a3e42f8bb4e60926e8dd0ddecfc4c": {
      "model_module": "@jupyter-widgets/controls",
      "model_module_version": "1.5.0",
      "model_name": "FloatProgressModel",
      "state": {
       "description": "train loss: 0.4298: 100%",
       "layout": "IPY_MODEL_d2d312c9097b4298b8679f0567d542c7",
       "max": 50,
       "style": "IPY_MODEL_cdbeb5e5e8574db29d249cc3ca212b40",
       "value": 50
      }
     },
     "425ef7d1e3c04e23b93408b7f6c37ce6": {
      "model_module": "@jupyter-widgets/controls",
      "model_module_version": "1.5.0",
      "model_name": "DescriptionStyleModel",
      "state": {
       "description_width": ""
      }
     },
     "428d1040f2d648d0b50009cf577121bd": {
      "model_module": "@jupyter-widgets/base",
      "model_module_version": "1.2.0",
      "model_name": "LayoutModel",
      "state": {}
     },
     "42b6bc10d90640b786945a3ac97937ac": {
      "model_module": "@jupyter-widgets/controls",
      "model_module_version": "1.5.0",
      "model_name": "DescriptionStyleModel",
      "state": {
       "description_width": ""
      }
     },
     "42d33a66d7c64be193a1623521dc442b": {
      "model_module": "@jupyter-widgets/controls",
      "model_module_version": "1.5.0",
      "model_name": "DescriptionStyleModel",
      "state": {
       "description_width": ""
      }
     },
     "432a046b161f467d8227ab93641eadde": {
      "model_module": "@jupyter-widgets/base",
      "model_module_version": "1.2.0",
      "model_name": "LayoutModel",
      "state": {}
     },
     "4330092050c94df8a4df192cf2c2b8d2": {
      "model_module": "@jupyter-widgets/base",
      "model_module_version": "1.2.0",
      "model_name": "LayoutModel",
      "state": {}
     },
     "43c04ddd3ad643dea895f3e417a254be": {
      "model_module": "@jupyter-widgets/controls",
      "model_module_version": "1.5.0",
      "model_name": "ProgressStyleModel",
      "state": {
       "description_width": "initial"
      }
     },
     "441bac7fa71546fda960581dc189fc07": {
      "model_module": "@jupyter-widgets/base",
      "model_module_version": "1.2.0",
      "model_name": "LayoutModel",
      "state": {}
     },
     "441d3675e1134077b8a02f343f8fca7a": {
      "model_module": "@jupyter-widgets/controls",
      "model_module_version": "1.5.0",
      "model_name": "DescriptionStyleModel",
      "state": {
       "description_width": ""
      }
     },
     "44699c02335647668a17a7384c5d4be4": {
      "model_module": "@jupyter-widgets/controls",
      "model_module_version": "1.5.0",
      "model_name": "FloatProgressModel",
      "state": {
       "description": "train loss: 0.0050: 100%",
       "layout": "IPY_MODEL_d979d949a4684e379c884f1e83c75153",
       "max": 50,
       "style": "IPY_MODEL_015193b9e0814f7a9a10bf08702a2c9c",
       "value": 50
      }
     },
     "447d97c1690e4f9a855cc3af5e2b76a3": {
      "model_module": "@jupyter-widgets/base",
      "model_module_version": "1.2.0",
      "model_name": "LayoutModel",
      "state": {}
     },
     "44896237caf54c6a88955d2b731344c4": {
      "model_module": "@jupyter-widgets/base",
      "model_module_version": "1.2.0",
      "model_name": "LayoutModel",
      "state": {}
     },
     "44a0f88242bd42f5897b7923e5ab605e": {
      "model_module": "@jupyter-widgets/base",
      "model_module_version": "1.2.0",
      "model_name": "LayoutModel",
      "state": {}
     },
     "44b07f4591b549319a139069f5dc3fe9": {
      "model_module": "@jupyter-widgets/base",
      "model_module_version": "1.2.0",
      "model_name": "LayoutModel",
      "state": {}
     },
     "44dda169fea244d2a418c4c2d0ae0470": {
      "model_module": "@jupyter-widgets/base",
      "model_module_version": "1.2.0",
      "model_name": "LayoutModel",
      "state": {}
     },
     "44e0eca7252449e0b0a68a700bf8c7ad": {
      "model_module": "@jupyter-widgets/base",
      "model_module_version": "1.2.0",
      "model_name": "LayoutModel",
      "state": {}
     },
     "44e5b31883b24fe7be3ee4ad84c6a4e0": {
      "model_module": "@jupyter-widgets/base",
      "model_module_version": "1.2.0",
      "model_name": "LayoutModel",
      "state": {}
     },
     "45081e882c994ecda2a3913c9a653443": {
      "model_module": "@jupyter-widgets/base",
      "model_module_version": "1.2.0",
      "model_name": "LayoutModel",
      "state": {}
     },
     "4533b1066dee433cae2a2d9cd44a327c": {
      "model_module": "@jupyter-widgets/base",
      "model_module_version": "1.2.0",
      "model_name": "LayoutModel",
      "state": {}
     },
     "45561d6676034d7f83d724879a8ff83d": {
      "model_module": "@jupyter-widgets/controls",
      "model_module_version": "1.5.0",
      "model_name": "FloatProgressModel",
      "state": {
       "description": "val loss: 0.0538: 100%",
       "layout": "IPY_MODEL_195ea7def8434199b41803ae772c2aad",
       "max": 21,
       "style": "IPY_MODEL_8f7cbeb819d344dd804a1fbdfb668255",
       "value": 21
      }
     },
     "45682e4e464e494e97c003c6adefaee1": {
      "model_module": "@jupyter-widgets/controls",
      "model_module_version": "1.5.0",
      "model_name": "FloatProgressModel",
      "state": {
       "description": "val loss: 0.3179: 100%",
       "layout": "IPY_MODEL_e644fd6910494adcbacb0758bf7cf97b",
       "max": 22,
       "style": "IPY_MODEL_006319ac968d4a73ab4783c8635c3c04",
       "value": 22
      }
     },
     "456cd92190684022a14ebc39437f0c03": {
      "model_module": "@jupyter-widgets/controls",
      "model_module_version": "1.5.0",
      "model_name": "DescriptionStyleModel",
      "state": {
       "description_width": ""
      }
     },
     "46035d60a12e40d583d5392907e1852e": {
      "model_module": "@jupyter-widgets/base",
      "model_module_version": "1.2.0",
      "model_name": "LayoutModel",
      "state": {}
     },
     "467263cb33cf4a36899605e50b80c368": {
      "model_module": "@jupyter-widgets/base",
      "model_module_version": "1.2.0",
      "model_name": "LayoutModel",
      "state": {}
     },
     "4675a7379d96470f9fdfcaff57a1c149": {
      "model_module": "@jupyter-widgets/base",
      "model_module_version": "1.2.0",
      "model_name": "LayoutModel",
      "state": {}
     },
     "46804e3146594b5ca6d5b19ad2c4fad1": {
      "model_module": "@jupyter-widgets/controls",
      "model_module_version": "1.5.0",
      "model_name": "HTMLModel",
      "state": {
       "layout": "IPY_MODEL_284a72bdb47a4d7fa8f0701b23bf358d",
       "style": "IPY_MODEL_391406db8e3f469daa62670399d21fe6",
       "value": " 50/50 [00:07&lt;00:00,  3.76it/s]"
      }
     },
     "46c53f85fd6647e8b21f75895ab793d8": {
      "model_module": "@jupyter-widgets/base",
      "model_module_version": "1.2.0",
      "model_name": "LayoutModel",
      "state": {}
     },
     "46d5cb0ae15942978686114b7751efca": {
      "model_module": "@jupyter-widgets/controls",
      "model_module_version": "1.5.0",
      "model_name": "FloatProgressModel",
      "state": {
       "description": "train loss: 0.1139: 100%",
       "layout": "IPY_MODEL_2100e3baf8564173acabfde25a2f1b71",
       "max": 50,
       "style": "IPY_MODEL_8658d0cf1a1d4c3b97ec985258f1955d",
       "value": 50
      }
     },
     "46d8e6a7ef624f44a9cf651755066c17": {
      "model_module": "@jupyter-widgets/base",
      "model_module_version": "1.2.0",
      "model_name": "LayoutModel",
      "state": {}
     },
     "4705841f97e0421fad1ef8389dce08f0": {
      "model_module": "@jupyter-widgets/controls",
      "model_module_version": "1.5.0",
      "model_name": "ProgressStyleModel",
      "state": {
       "description_width": "initial"
      }
     },
     "4709190c84b84e87ac627dc624c5c698": {
      "model_module": "@jupyter-widgets/base",
      "model_module_version": "1.2.0",
      "model_name": "LayoutModel",
      "state": {}
     },
     "471342cf134647b2aa64746fc9226c2c": {
      "model_module": "@jupyter-widgets/controls",
      "model_module_version": "1.5.0",
      "model_name": "ProgressStyleModel",
      "state": {
       "description_width": "initial"
      }
     },
     "474f7004edc44864a396bebb45d55cbe": {
      "model_module": "@jupyter-widgets/base",
      "model_module_version": "1.2.0",
      "model_name": "LayoutModel",
      "state": {}
     },
     "4754220a66a64d33a93839de2abc6571": {
      "model_module": "@jupyter-widgets/controls",
      "model_module_version": "1.5.0",
      "model_name": "HTMLModel",
      "state": {
       "layout": "IPY_MODEL_fded12a6bbbc4fafa4f9bec2ff5d557d",
       "style": "IPY_MODEL_f89ecce5067b4f06a06035b1995393b0",
       "value": " 21/21 [00:00&lt;00:00, 247.72it/s]"
      }
     },
     "47a2acab3f424f9b9fa3e9abc5c6d388": {
      "model_module": "@jupyter-widgets/controls",
      "model_module_version": "1.5.0",
      "model_name": "FloatProgressModel",
      "state": {
       "description": "val loss: 0.3955: 100%",
       "layout": "IPY_MODEL_4b0f92b3fba245ef882b4bae399e94fa",
       "max": 11,
       "style": "IPY_MODEL_43c04ddd3ad643dea895f3e417a254be",
       "value": 11
      }
     },
     "47c2edce13564936833a311afb4e0cd1": {
      "model_module": "@jupyter-widgets/controls",
      "model_module_version": "1.5.0",
      "model_name": "FloatProgressModel",
      "state": {
       "description": "val loss: 0.0510: 100%",
       "layout": "IPY_MODEL_98c467ead2f94e6f9cd98c28e311d65d",
       "max": 11,
       "style": "IPY_MODEL_b4cc1db9f4834d96a9b3db363f522933",
       "value": 11
      }
     },
     "47da6017963f4d2f904d6b16de6b0b3e": {
      "model_module": "@jupyter-widgets/controls",
      "model_module_version": "1.5.0",
      "model_name": "ProgressStyleModel",
      "state": {
       "description_width": "initial"
      }
     },
     "47ea5f23e95a4ec59e8a04b0fe1b7d56": {
      "model_module": "@jupyter-widgets/base",
      "model_module_version": "1.2.0",
      "model_name": "LayoutModel",
      "state": {}
     },
     "47ecfe1bc767457e8d09448a25d3021e": {
      "model_module": "@jupyter-widgets/base",
      "model_module_version": "1.2.0",
      "model_name": "LayoutModel",
      "state": {}
     },
     "47f6533e06a744728e7ef6f7c1f4c1c7": {
      "model_module": "@jupyter-widgets/base",
      "model_module_version": "1.2.0",
      "model_name": "LayoutModel",
      "state": {}
     },
     "4825e1f8ff5145d39f37b200ee3ab525": {
      "model_module": "@jupyter-widgets/controls",
      "model_module_version": "1.5.0",
      "model_name": "FloatProgressModel",
      "state": {
       "description": "val loss: 0.0534: 100%",
       "layout": "IPY_MODEL_8c1b407188a94e94a2e9d8f8bc078189",
       "max": 11,
       "style": "IPY_MODEL_d3eef944ad6244b892c3cd3740ed5d85",
       "value": 11
      }
     },
     "483a6750ddc3440c855553ff6bfcbf8a": {
      "model_module": "@jupyter-widgets/controls",
      "model_module_version": "1.5.0",
      "model_name": "HTMLModel",
      "state": {
       "layout": "IPY_MODEL_f4d30d472fe7429d9fa7b89ca94f3df7",
       "style": "IPY_MODEL_c0885ba5fc6d4c659470b32c44a032f3",
       "value": " 11/11 [00:00&lt;00:00, 139.56it/s]"
      }
     },
     "483bc6187bfa4c399944e08bd9d2d4c4": {
      "model_module": "@jupyter-widgets/controls",
      "model_module_version": "1.5.0",
      "model_name": "HTMLModel",
      "state": {
       "layout": "IPY_MODEL_bb677d7b648f4c9e8891018511a29e42",
       "style": "IPY_MODEL_ae784e6fe3904e2cb32de1debe3c5c1a",
       "value": " 99/99 [00:27&lt;00:00,  1.90it/s]"
      }
     },
     "48553e5a7ee34bb4bee9bca75c25e811": {
      "model_module": "@jupyter-widgets/controls",
      "model_module_version": "1.5.0",
      "model_name": "DescriptionStyleModel",
      "state": {
       "description_width": ""
      }
     },
     "4876900d3cf14952af9fadb36f0db798": {
      "model_module": "@jupyter-widgets/base",
      "model_module_version": "1.2.0",
      "model_name": "LayoutModel",
      "state": {}
     },
     "4882c914e4144b0fafd202145839ef7a": {
      "model_module": "@jupyter-widgets/base",
      "model_module_version": "1.2.0",
      "model_name": "LayoutModel",
      "state": {}
     },
     "489fa679809245cea076eda8f2205699": {
      "model_module": "@jupyter-widgets/controls",
      "model_module_version": "1.5.0",
      "model_name": "HTMLModel",
      "state": {
       "layout": "IPY_MODEL_48cd025aee414ca393d59c42ac481301",
       "style": "IPY_MODEL_e0674cfd737e411a9915ee428980a636",
       "value": " 50/50 [00:07&lt;00:00,  3.78it/s]"
      }
     },
     "48a0b7c0e053400a9a52f1026512d30c": {
      "model_module": "@jupyter-widgets/base",
      "model_module_version": "1.2.0",
      "model_name": "LayoutModel",
      "state": {}
     },
     "48a544f0a5eb4e1fa0de76f0add9ab02": {
      "model_module": "@jupyter-widgets/controls",
      "model_module_version": "1.5.0",
      "model_name": "DescriptionStyleModel",
      "state": {
       "description_width": ""
      }
     },
     "48b04d411b4a4180a05f4f9c7ba26ff0": {
      "model_module": "@jupyter-widgets/controls",
      "model_module_version": "1.5.0",
      "model_name": "HTMLModel",
      "state": {
       "layout": "IPY_MODEL_66715999e4ec4e049c105d3e9b132706",
       "style": "IPY_MODEL_ee8f64fc351749a1930b333fc7f19a3e",
       "value": " 22/22 [00:00&lt;00:00, 192.82it/s]"
      }
     },
     "48b307ad83db4701abf3016da7bee013": {
      "model_module": "@jupyter-widgets/base",
      "model_module_version": "1.2.0",
      "model_name": "LayoutModel",
      "state": {}
     },
     "48ccd274fe36421d96a357fe41c900f0": {
      "model_module": "@jupyter-widgets/controls",
      "model_module_version": "1.5.0",
      "model_name": "HTMLModel",
      "state": {
       "layout": "IPY_MODEL_347f05cbf0a444c9847ab872f179f944",
       "style": "IPY_MODEL_441d3675e1134077b8a02f343f8fca7a",
       "value": " 11/11 [00:00&lt;00:00, 136.17it/s]"
      }
     },
     "48cd025aee414ca393d59c42ac481301": {
      "model_module": "@jupyter-widgets/base",
      "model_module_version": "1.2.0",
      "model_name": "LayoutModel",
      "state": {}
     },
     "48e0bde51a034c358dec458332a19b48": {
      "model_module": "@jupyter-widgets/controls",
      "model_module_version": "1.5.0",
      "model_name": "FloatProgressModel",
      "state": {
       "bar_style": "danger",
       "description": "train loss: 0.6936:   2%",
       "layout": "IPY_MODEL_0dc29b2a31aa474d8d7318ec2dde7a2a",
       "max": 50,
       "style": "IPY_MODEL_c71bb111be1c448fb1c189bfc5010cfd",
       "value": 1
      }
     },
     "491a5331f5b04c6bb1bdd44cbca842c5": {
      "model_module": "@jupyter-widgets/controls",
      "model_module_version": "1.5.0",
      "model_name": "HTMLModel",
      "state": {
       "layout": "IPY_MODEL_5bce933ccd494621a05c419f9f1be28f",
       "style": "IPY_MODEL_c6cb413fb571478d8e2748a913284850",
       "value": " 11/11 [00:00&lt;00:00, 183.82it/s]"
      }
     },
     "49231cb048bc4bd5944c7ac4c6ec3e0e": {
      "model_module": "@jupyter-widgets/base",
      "model_module_version": "1.2.0",
      "model_name": "LayoutModel",
      "state": {}
     },
     "492c7975a2114602b22e5474a295af9c": {
      "model_module": "@jupyter-widgets/controls",
      "model_module_version": "1.5.0",
      "model_name": "DescriptionStyleModel",
      "state": {
       "description_width": ""
      }
     },
     "493e9d21fb334a06852117cc972e6e47": {
      "model_module": "@jupyter-widgets/base",
      "model_module_version": "1.2.0",
      "model_name": "LayoutModel",
      "state": {}
     },
     "49c8f5a076194816bdbc242742bc5cb3": {
      "model_module": "@jupyter-widgets/base",
      "model_module_version": "1.2.0",
      "model_name": "LayoutModel",
      "state": {}
     },
     "49cdb74535ed43fd95fd4e7ce8e6c655": {
      "model_module": "@jupyter-widgets/base",
      "model_module_version": "1.2.0",
      "model_name": "LayoutModel",
      "state": {}
     },
     "49d91f733a914692b93a506954a2e489": {
      "model_module": "@jupyter-widgets/controls",
      "model_module_version": "1.5.0",
      "model_name": "DescriptionStyleModel",
      "state": {
       "description_width": ""
      }
     },
     "4a049d4b9c524f429298d108089c0a2f": {
      "model_module": "@jupyter-widgets/controls",
      "model_module_version": "1.5.0",
      "model_name": "HTMLModel",
      "state": {
       "layout": "IPY_MODEL_2896ac21f191418f8da90713b61acbdc",
       "style": "IPY_MODEL_a9c062c28caa427da0de95f89592b465",
       "value": " 99/99 [00:00&lt;00:00, 109.99it/s]"
      }
     },
     "4a215a3659814511821e5403f970357b": {
      "model_module": "@jupyter-widgets/base",
      "model_module_version": "1.2.0",
      "model_name": "LayoutModel",
      "state": {}
     },
     "4a38b0a108ab400f98d0acf40e92a8fa": {
      "model_module": "@jupyter-widgets/controls",
      "model_module_version": "1.5.0",
      "model_name": "HTMLModel",
      "state": {
       "layout": "IPY_MODEL_9063f1c0889a4fe886dfea12a5459587",
       "style": "IPY_MODEL_12c1475df6fa4008a6c29d2cf3dd697d",
       "value": " 99/99 [00:00&lt;00:00, 108.26it/s]"
      }
     },
     "4a38e49d60c34d0791b0b9f40b871725": {
      "model_module": "@jupyter-widgets/controls",
      "model_module_version": "1.5.0",
      "model_name": "HTMLModel",
      "state": {
       "layout": "IPY_MODEL_102ca906045147359d1e94ec7b59db3c",
       "style": "IPY_MODEL_9506d358ce0f4bffaafce36917e598e1",
       "value": " 1/50 [05:22&lt;00:14,  3.34it/s]"
      }
     },
     "4a4058b0cb834e83b99e890bffd3bda5": {
      "model_module": "@jupyter-widgets/base",
      "model_module_version": "1.2.0",
      "model_name": "LayoutModel",
      "state": {}
     },
     "4a545a7a7a5f44b7945bea8ec657eb54": {
      "model_module": "@jupyter-widgets/controls",
      "model_module_version": "1.5.0",
      "model_name": "FloatProgressModel",
      "state": {
       "description": "train loss: 0.0937: 100%",
       "layout": "IPY_MODEL_87be279277b24518a95295ef13a807ee",
       "max": 25,
       "style": "IPY_MODEL_966d6da124ab492699172d813203cd5f",
       "value": 25
      }
     },
     "4a7f20c87c42455fbca4cdc9c74cfe2f": {
      "model_module": "@jupyter-widgets/base",
      "model_module_version": "1.2.0",
      "model_name": "LayoutModel",
      "state": {}
     },
     "4a85959a4328470e88bd5d90f35ce696": {
      "model_module": "@jupyter-widgets/controls",
      "model_module_version": "1.5.0",
      "model_name": "ProgressStyleModel",
      "state": {
       "description_width": "initial"
      }
     },
     "4aad9f100d4f4e3494b8d07a3a445e67": {
      "model_module": "@jupyter-widgets/base",
      "model_module_version": "1.2.0",
      "model_name": "LayoutModel",
      "state": {}
     },
     "4aae8e5d3df14cbd979b452842637bf0": {
      "model_module": "@jupyter-widgets/base",
      "model_module_version": "1.2.0",
      "model_name": "LayoutModel",
      "state": {}
     },
     "4ad6bb14e3af487eb1e24a823ceec23e": {
      "model_module": "@jupyter-widgets/controls",
      "model_module_version": "1.5.0",
      "model_name": "DescriptionStyleModel",
      "state": {
       "description_width": ""
      }
     },
     "4b0f92b3fba245ef882b4bae399e94fa": {
      "model_module": "@jupyter-widgets/base",
      "model_module_version": "1.2.0",
      "model_name": "LayoutModel",
      "state": {}
     },
     "4b1017c08bc74cea94c6c1efbcc3a3c6": {
      "model_module": "@jupyter-widgets/base",
      "model_module_version": "1.2.0",
      "model_name": "LayoutModel",
      "state": {}
     },
     "4b17fa2c0ad242d492a18684fa7e82ea": {
      "model_module": "@jupyter-widgets/controls",
      "model_module_version": "1.5.0",
      "model_name": "ProgressStyleModel",
      "state": {
       "description_width": "initial"
      }
     },
     "4b2db825d65a4619b178ab977b5b2ef7": {
      "model_module": "@jupyter-widgets/base",
      "model_module_version": "1.2.0",
      "model_name": "LayoutModel",
      "state": {}
     },
     "4b2df88ae695416fbeae139a0233a79a": {
      "model_module": "@jupyter-widgets/controls",
      "model_module_version": "1.5.0",
      "model_name": "DescriptionStyleModel",
      "state": {
       "description_width": ""
      }
     },
     "4b7a3d966b874a6bb9273feaec2e41a7": {
      "model_module": "@jupyter-widgets/base",
      "model_module_version": "1.2.0",
      "model_name": "LayoutModel",
      "state": {}
     },
     "4b83c028dba44a039fab74025ee44f55": {
      "model_module": "@jupyter-widgets/controls",
      "model_module_version": "1.5.0",
      "model_name": "HTMLModel",
      "state": {
       "layout": "IPY_MODEL_8254a5a2fde343c19167498db8018ad9",
       "style": "IPY_MODEL_cd9944f149824d73940d9de9d7658713",
       "value": " 50/50 [00:05&lt;00:00,  5.58it/s]"
      }
     },
     "4b862763189048058f0c2e8430a596b8": {
      "model_module": "@jupyter-widgets/controls",
      "model_module_version": "1.5.0",
      "model_name": "DescriptionStyleModel",
      "state": {
       "description_width": ""
      }
     },
     "4ba274663e814caa8ebc61cd7c5efac5": {
      "model_module": "@jupyter-widgets/controls",
      "model_module_version": "1.5.0",
      "model_name": "HTMLModel",
      "state": {
       "layout": "IPY_MODEL_0abf3ec787ed498ebb161dc7dbe7d4d7",
       "style": "IPY_MODEL_e19221527dd743489557ceec81c05ec8",
       "value": " 11/11 [00:00&lt;00:00, 164.55it/s]"
      }
     },
     "4bc4a75e29624e03891e4ea2f6742112": {
      "model_module": "@jupyter-widgets/controls",
      "model_module_version": "1.5.0",
      "model_name": "HBoxModel",
      "state": {
       "children": [
        "IPY_MODEL_bc58414f7525478a8555b0fd6ac0fcbd",
        "IPY_MODEL_fe01f4732fb947c1911c78c3edd65525"
       ],
       "layout": "IPY_MODEL_ba0f7e72714740198dd6e0728d8450fa"
      }
     },
     "4be0621d3eab4b06b2998088f949697f": {
      "model_module": "@jupyter-widgets/controls",
      "model_module_version": "1.5.0",
      "model_name": "ProgressStyleModel",
      "state": {
       "description_width": "initial"
      }
     },
     "4c2006025d9c49ffaffa2fcc670bbb79": {
      "model_module": "@jupyter-widgets/controls",
      "model_module_version": "1.5.0",
      "model_name": "DescriptionStyleModel",
      "state": {
       "description_width": ""
      }
     },
     "4c253f3fd51546fd8c7be63789b8339c": {
      "model_module": "@jupyter-widgets/controls",
      "model_module_version": "1.5.0",
      "model_name": "ProgressStyleModel",
      "state": {
       "description_width": "initial"
      }
     },
     "4c4316fc49fa40dbb607f074e65fe058": {
      "model_module": "@jupyter-widgets/base",
      "model_module_version": "1.2.0",
      "model_name": "LayoutModel",
      "state": {}
     },
     "4c90a7f093a64101be61237526c65b0e": {
      "model_module": "@jupyter-widgets/controls",
      "model_module_version": "1.5.0",
      "model_name": "HTMLModel",
      "state": {
       "layout": "IPY_MODEL_5f206d98b0f24695834ae7452e4350d6",
       "style": "IPY_MODEL_5c006a909ad04005b911b93e98c86265",
       "value": " 99/99 [00:18&lt;00:00,  2.88it/s]"
      }
     },
     "4c9493cd6581459f9b32df95ba569e20": {
      "model_module": "@jupyter-widgets/controls",
      "model_module_version": "1.5.0",
      "model_name": "FloatProgressModel",
      "state": {
       "description": "train loss: 0.3434: 100%",
       "layout": "IPY_MODEL_d1ffa53bb29845709152da585f32ef14",
       "max": 50,
       "style": "IPY_MODEL_a9344862aed34ebdb6eef0a06b01fecb",
       "value": 50
      }
     },
     "4cd2eb07852549e8b3ce1535e7224979": {
      "model_module": "@jupyter-widgets/base",
      "model_module_version": "1.2.0",
      "model_name": "LayoutModel",
      "state": {}
     },
     "4cf634e05e66439ba818d6391f59bce5": {
      "model_module": "@jupyter-widgets/controls",
      "model_module_version": "1.5.0",
      "model_name": "ProgressStyleModel",
      "state": {
       "description_width": "initial"
      }
     },
     "4d4f317959af4e95abd0ff9aab8f2766": {
      "model_module": "@jupyter-widgets/controls",
      "model_module_version": "1.5.0",
      "model_name": "DescriptionStyleModel",
      "state": {
       "description_width": ""
      }
     },
     "4d6acf4e1e3f46b1b634fedeb9e4d3d6": {
      "model_module": "@jupyter-widgets/controls",
      "model_module_version": "1.5.0",
      "model_name": "ProgressStyleModel",
      "state": {
       "description_width": "initial"
      }
     },
     "4d75b453a04c45b1861460330adf129e": {
      "model_module": "@jupyter-widgets/base",
      "model_module_version": "1.2.0",
      "model_name": "LayoutModel",
      "state": {}
     },
     "4d77c251a43e4e9895c9c67c16da77af": {
      "model_module": "@jupyter-widgets/base",
      "model_module_version": "1.2.0",
      "model_name": "LayoutModel",
      "state": {}
     },
     "4d7a23d33dbf41cbbe5d758ea5583ad3": {
      "model_module": "@jupyter-widgets/base",
      "model_module_version": "1.2.0",
      "model_name": "LayoutModel",
      "state": {}
     },
     "4dd79e6520cd46e2bfe150d7643dc716": {
      "model_module": "@jupyter-widgets/controls",
      "model_module_version": "1.5.0",
      "model_name": "DescriptionStyleModel",
      "state": {
       "description_width": ""
      }
     },
     "4dfe5899780a4146aa51c90810cace12": {
      "model_module": "@jupyter-widgets/base",
      "model_module_version": "1.2.0",
      "model_name": "LayoutModel",
      "state": {}
     },
     "4e0ef3e2122244fa8ed23081c6debd12": {
      "model_module": "@jupyter-widgets/base",
      "model_module_version": "1.2.0",
      "model_name": "LayoutModel",
      "state": {}
     },
     "4e82309d6b324649bfbc7cabc2b86cfb": {
      "model_module": "@jupyter-widgets/controls",
      "model_module_version": "1.5.0",
      "model_name": "FloatProgressModel",
      "state": {
       "description": "val loss: 0.0682: 100%",
       "layout": "IPY_MODEL_a71b0d29065c40698ed860edc4edbc7f",
       "max": 11,
       "style": "IPY_MODEL_b32dcf0d8f374a2c94b160a73ff0e981",
       "value": 11
      }
     },
     "4eac7398eedc4dd9bae8ea5775d2bbdf": {
      "model_module": "@jupyter-widgets/controls",
      "model_module_version": "1.5.0",
      "model_name": "FloatProgressModel",
      "state": {
       "description": "train loss: 0.0296: 100%",
       "layout": "IPY_MODEL_cdb2161447b644c189f137e54c6a5c41",
       "max": 99,
       "style": "IPY_MODEL_fd889382ac014460b2d1b9c681db4bf4",
       "value": 99
      }
     },
     "4ec644b8bab948598ffc366bf00a4ef2": {
      "model_module": "@jupyter-widgets/controls",
      "model_module_version": "1.5.0",
      "model_name": "ProgressStyleModel",
      "state": {
       "description_width": "initial"
      }
     },
     "4f00e34be77a4b69ae54b86d8fb0fc41": {
      "model_module": "@jupyter-widgets/base",
      "model_module_version": "1.2.0",
      "model_name": "LayoutModel",
      "state": {}
     },
     "4f0f4f1c706645b19280957a0a5a61a9": {
      "model_module": "@jupyter-widgets/base",
      "model_module_version": "1.2.0",
      "model_name": "LayoutModel",
      "state": {}
     },
     "4f411048997a48659a3194a1bd30c807": {
      "model_module": "@jupyter-widgets/base",
      "model_module_version": "1.2.0",
      "model_name": "LayoutModel",
      "state": {}
     },
     "4f5e57446d5441149ac553c83e1ccf86": {
      "model_module": "@jupyter-widgets/controls",
      "model_module_version": "1.5.0",
      "model_name": "FloatProgressModel",
      "state": {
       "description": "train loss: 0.1708: 100%",
       "layout": "IPY_MODEL_9dabdd48254d45ec82ef9b42cb438829",
       "max": 50,
       "style": "IPY_MODEL_818b56dbb96540968c65acda981e1f50",
       "value": 50
      }
     },
     "4f6cd61ed472425d9cc7b6a120013c04": {
      "model_module": "@jupyter-widgets/base",
      "model_module_version": "1.2.0",
      "model_name": "LayoutModel",
      "state": {}
     },
     "4f8ff2b9d73c4d7f94e8dcf19adea382": {
      "model_module": "@jupyter-widgets/base",
      "model_module_version": "1.2.0",
      "model_name": "LayoutModel",
      "state": {}
     },
     "4f909ff108ac41219d0c0ca0350c4d8f": {
      "model_module": "@jupyter-widgets/controls",
      "model_module_version": "1.5.0",
      "model_name": "FloatProgressModel",
      "state": {
       "description": "val loss: 0.0911: 100%",
       "layout": "IPY_MODEL_68dd5e1bbfc447669e5aed4c6b69df78",
       "max": 21,
       "style": "IPY_MODEL_1ed684d993514dd1a882fb15ca2139b3",
       "value": 21
      }
     },
     "4fc687e9b40243baad21ea18f5df1ec4": {
      "model_module": "@jupyter-widgets/base",
      "model_module_version": "1.2.0",
      "model_name": "LayoutModel",
      "state": {}
     },
     "4fccae8ddc5c46478628c654dfd39543": {
      "model_module": "@jupyter-widgets/base",
      "model_module_version": "1.2.0",
      "model_name": "LayoutModel",
      "state": {}
     },
     "4fdb68fd2633431582e35d79cdd1b32d": {
      "model_module": "@jupyter-widgets/base",
      "model_module_version": "1.2.0",
      "model_name": "LayoutModel",
      "state": {}
     },
     "4fdf21f7699a4143a4f9c38da3feee62": {
      "model_module": "@jupyter-widgets/base",
      "model_module_version": "1.2.0",
      "model_name": "LayoutModel",
      "state": {}
     },
     "502211ffdee849079397f4ea82a332fc": {
      "model_module": "@jupyter-widgets/controls",
      "model_module_version": "1.5.0",
      "model_name": "FloatProgressModel",
      "state": {
       "description": "train loss: 0.3067: 100%",
       "layout": "IPY_MODEL_8912880082204543a48e1a1b94c5e363",
       "max": 99,
       "style": "IPY_MODEL_50b326c7481e4ff5966d516d7158696b",
       "value": 99
      }
     },
     "50296d2036a341c8a4095ead33a1de24": {
      "model_module": "@jupyter-widgets/base",
      "model_module_version": "1.2.0",
      "model_name": "LayoutModel",
      "state": {}
     },
     "5037558267a243419c773818481d43fc": {
      "model_module": "@jupyter-widgets/controls",
      "model_module_version": "1.5.0",
      "model_name": "DescriptionStyleModel",
      "state": {
       "description_width": ""
      }
     },
     "507d30629cc2427291d09e7fcf36d1b9": {
      "model_module": "@jupyter-widgets/controls",
      "model_module_version": "1.5.0",
      "model_name": "HTMLModel",
      "state": {
       "layout": "IPY_MODEL_5888a32e183b436584eae79021c0ca6e",
       "style": "IPY_MODEL_069b83e328624aef80e0a35becd4fe09",
       "value": " 50/50 [00:07&lt;00:00,  3.67it/s]"
      }
     },
     "50a9572256c94f0ba481b70864f1bac9": {
      "model_module": "@jupyter-widgets/controls",
      "model_module_version": "1.5.0",
      "model_name": "FloatProgressModel",
      "state": {
       "description": "val loss: 0.3475: 100%",
       "layout": "IPY_MODEL_5eb138ff6a574b2889e9ae8f612bb794",
       "max": 11,
       "style": "IPY_MODEL_9f9b7078aa504fc18d00af8a248d18b4",
       "value": 11
      }
     },
     "50b326c7481e4ff5966d516d7158696b": {
      "model_module": "@jupyter-widgets/controls",
      "model_module_version": "1.5.0",
      "model_name": "ProgressStyleModel",
      "state": {
       "description_width": "initial"
      }
     },
     "50ba4f62a2a846eba5ba2dca56edbcb7": {
      "model_module": "@jupyter-widgets/controls",
      "model_module_version": "1.5.0",
      "model_name": "ProgressStyleModel",
      "state": {
       "description_width": "initial"
      }
     },
     "50c0880f7a454262916b9029b5a6ae63": {
      "model_module": "@jupyter-widgets/base",
      "model_module_version": "1.2.0",
      "model_name": "LayoutModel",
      "state": {}
     },
     "50d954e745da4a8c8e4bdb2ce136b3c0": {
      "model_module": "@jupyter-widgets/controls",
      "model_module_version": "1.5.0",
      "model_name": "HTMLModel",
      "state": {
       "layout": "IPY_MODEL_87363de3131d4a47ad0468d0a273a32c",
       "style": "IPY_MODEL_858bde53da994a52bcc54918137ff34a",
       "value": " 25/25 [00:00&lt;00:00, 73.62it/s]"
      }
     },
     "51009b97ae034c859619505e02dbad62": {
      "model_module": "@jupyter-widgets/base",
      "model_module_version": "1.2.0",
      "model_name": "LayoutModel",
      "state": {}
     },
     "51671e621381401a8da736574302faff": {
      "model_module": "@jupyter-widgets/controls",
      "model_module_version": "1.5.0",
      "model_name": "ProgressStyleModel",
      "state": {
       "description_width": "initial"
      }
     },
     "5169407c44c94ab6b3483ce67fc4f39f": {
      "model_module": "@jupyter-widgets/base",
      "model_module_version": "1.2.0",
      "model_name": "LayoutModel",
      "state": {}
     },
     "51b73e4b1c014b709d42d3a7dcd3dd19": {
      "model_module": "@jupyter-widgets/controls",
      "model_module_version": "1.5.0",
      "model_name": "ProgressStyleModel",
      "state": {
       "description_width": "initial"
      }
     },
     "51bf56b0f5824763801a06a78619e12b": {
      "model_module": "@jupyter-widgets/base",
      "model_module_version": "1.2.0",
      "model_name": "LayoutModel",
      "state": {}
     },
     "520eb418612f48f7a8b227c75f048abd": {
      "model_module": "@jupyter-widgets/base",
      "model_module_version": "1.2.0",
      "model_name": "LayoutModel",
      "state": {}
     },
     "52171abb3b654ca1b5f0bf69682c51c8": {
      "model_module": "@jupyter-widgets/controls",
      "model_module_version": "1.5.0",
      "model_name": "DescriptionStyleModel",
      "state": {
       "description_width": ""
      }
     },
     "521e2b4331f3462d921154788088a223": {
      "model_module": "@jupyter-widgets/controls",
      "model_module_version": "1.5.0",
      "model_name": "DescriptionStyleModel",
      "state": {
       "description_width": ""
      }
     },
     "5251b3af9cc744cdb16eaa881efb9bc4": {
      "model_module": "@jupyter-widgets/controls",
      "model_module_version": "1.5.0",
      "model_name": "DescriptionStyleModel",
      "state": {
       "description_width": ""
      }
     },
     "526a6ca9b05a402a93c4820662cfa8ca": {
      "model_module": "@jupyter-widgets/controls",
      "model_module_version": "1.5.0",
      "model_name": "DescriptionStyleModel",
      "state": {
       "description_width": ""
      }
     },
     "52b45ab1df4d40dc8f5fb5607909f782": {
      "model_module": "@jupyter-widgets/controls",
      "model_module_version": "1.5.0",
      "model_name": "ProgressStyleModel",
      "state": {
       "description_width": "initial"
      }
     },
     "52bf14bfb9404918b865abe3096c99d1": {
      "model_module": "@jupyter-widgets/controls",
      "model_module_version": "1.5.0",
      "model_name": "FloatProgressModel",
      "state": {
       "description": "val loss: 0.2357: 100%",
       "layout": "IPY_MODEL_f5dd17490a1748929e01f8232b99cd23",
       "max": 22,
       "style": "IPY_MODEL_cd8062dfbe8a40fabecabebe1eda009c",
       "value": 22
      }
     },
     "52fd4278f69e424c9e313a106f0be2c9": {
      "model_module": "@jupyter-widgets/controls",
      "model_module_version": "1.5.0",
      "model_name": "FloatProgressModel",
      "state": {
       "description": "train loss: 0.2977: 100%",
       "layout": "IPY_MODEL_5856d8f7842e4d5eaf0d851f9ab25c99",
       "max": 50,
       "style": "IPY_MODEL_ce82d20fb2e5400fb1be86665bc38f25",
       "value": 50
      }
     },
     "530d1ff56371442f9a5fb0df7fc6658f": {
      "model_module": "@jupyter-widgets/base",
      "model_module_version": "1.2.0",
      "model_name": "LayoutModel",
      "state": {}
     },
     "53229291681c4945aa60226f0228f8ca": {
      "model_module": "@jupyter-widgets/controls",
      "model_module_version": "1.5.0",
      "model_name": "ProgressStyleModel",
      "state": {
       "description_width": "initial"
      }
     },
     "532b735748a047c88d1fcdddd3f8540d": {
      "model_module": "@jupyter-widgets/controls",
      "model_module_version": "1.5.0",
      "model_name": "FloatProgressModel",
      "state": {
       "description": "val loss: 0.3434: 100%",
       "layout": "IPY_MODEL_025a6424cf77465fb3cb91d18d94cd76",
       "max": 22,
       "style": "IPY_MODEL_dc9afd397be941c288fc09cfeaf8b275",
       "value": 22
      }
     },
     "535600aebfa743d08ed107f103f937af": {
      "model_module": "@jupyter-widgets/controls",
      "model_module_version": "1.5.0",
      "model_name": "ProgressStyleModel",
      "state": {
       "description_width": "initial"
      }
     },
     "538b2b7d76264449bc01f8fea7a81e26": {
      "model_module": "@jupyter-widgets/controls",
      "model_module_version": "1.5.0",
      "model_name": "HTMLModel",
      "state": {
       "layout": "IPY_MODEL_b2c37788429c4dd7af8ed779001e5081",
       "style": "IPY_MODEL_ff0045611ff34aa5b6b89d5d9260a2e8",
       "value": " 25/25 [00:00&lt;00:00, 75.40it/s]"
      }
     },
     "53b51da1b1b0472497cf8fb2a27b7824": {
      "model_module": "@jupyter-widgets/controls",
      "model_module_version": "1.5.0",
      "model_name": "DescriptionStyleModel",
      "state": {
       "description_width": ""
      }
     },
     "53c7b6a0635a463e9a6c6ee3656a83b0": {
      "model_module": "@jupyter-widgets/base",
      "model_module_version": "1.2.0",
      "model_name": "LayoutModel",
      "state": {}
     },
     "53f17c3bf32a45a48d04497be57d212f": {
      "model_module": "@jupyter-widgets/controls",
      "model_module_version": "1.5.0",
      "model_name": "DescriptionStyleModel",
      "state": {
       "description_width": ""
      }
     },
     "53f6b32c81b3400c977b615027e9d1fe": {
      "model_module": "@jupyter-widgets/base",
      "model_module_version": "1.2.0",
      "model_name": "LayoutModel",
      "state": {}
     },
     "5403ed87e7d644d08928e21d5b2a6b3d": {
      "model_module": "@jupyter-widgets/controls",
      "model_module_version": "1.5.0",
      "model_name": "DescriptionStyleModel",
      "state": {
       "description_width": ""
      }
     },
     "540f40497bfc405d841d6a5484d3a68b": {
      "model_module": "@jupyter-widgets/base",
      "model_module_version": "1.2.0",
      "model_name": "LayoutModel",
      "state": {}
     },
     "5472ea80501a42ca9b4aea485caf5124": {
      "model_module": "@jupyter-widgets/controls",
      "model_module_version": "1.5.0",
      "model_name": "ProgressStyleModel",
      "state": {
       "description_width": "initial"
      }
     },
     "54a6af814c9946ecb4acd32c5b07ad28": {
      "model_module": "@jupyter-widgets/controls",
      "model_module_version": "1.5.0",
      "model_name": "HTMLModel",
      "state": {
       "layout": "IPY_MODEL_76019e66f2d14d728b362c14ce2c447d",
       "style": "IPY_MODEL_8c7c2ab618f6424e9fe41385eedc7c54",
       "value": " 99/99 [00:18&lt;00:00,  2.84it/s]"
      }
     },
     "54aae2a1813c4cb988e5311fb683ac6a": {
      "model_module": "@jupyter-widgets/base",
      "model_module_version": "1.2.0",
      "model_name": "LayoutModel",
      "state": {}
     },
     "54d47717b04e4a5bada8cc1ddc0f75fd": {
      "model_module": "@jupyter-widgets/controls",
      "model_module_version": "1.5.0",
      "model_name": "FloatProgressModel",
      "state": {
       "description": "val loss: 0.4282: 100%",
       "layout": "IPY_MODEL_7021263c05df4a78ad7d3dc42b7346e9",
       "max": 22,
       "style": "IPY_MODEL_de595635763442b5b98df6d9edde1850",
       "value": 22
      }
     },
     "54e63dded8944acb87d7252e6d2c6475": {
      "model_module": "@jupyter-widgets/controls",
      "model_module_version": "1.5.0",
      "model_name": "DescriptionStyleModel",
      "state": {
       "description_width": ""
      }
     },
     "5509dc29523c4fd4846e6c63e8ad2de9": {
      "model_module": "@jupyter-widgets/base",
      "model_module_version": "1.2.0",
      "model_name": "LayoutModel",
      "state": {}
     },
     "553c1497e9e34e72a855aa4d86828c6a": {
      "model_module": "@jupyter-widgets/base",
      "model_module_version": "1.2.0",
      "model_name": "LayoutModel",
      "state": {}
     },
     "554bad04cdfa4b8491903052bbd4df0b": {
      "model_module": "@jupyter-widgets/base",
      "model_module_version": "1.2.0",
      "model_name": "LayoutModel",
      "state": {}
     },
     "555d190600fe4436ac2c4d900228d4ca": {
      "model_module": "@jupyter-widgets/base",
      "model_module_version": "1.2.0",
      "model_name": "LayoutModel",
      "state": {}
     },
     "556eaed02dad4b47ad63fc4c5da25d34": {
      "model_module": "@jupyter-widgets/base",
      "model_module_version": "1.2.0",
      "model_name": "LayoutModel",
      "state": {}
     },
     "5577431fd9d7450095955752470e5446": {
      "model_module": "@jupyter-widgets/base",
      "model_module_version": "1.2.0",
      "model_name": "LayoutModel",
      "state": {}
     },
     "55a4e9756ca147b09a6fb21342722953": {
      "model_module": "@jupyter-widgets/base",
      "model_module_version": "1.2.0",
      "model_name": "LayoutModel",
      "state": {}
     },
     "55e21dc4929e4d8882ebb873b946a7d7": {
      "model_module": "@jupyter-widgets/controls",
      "model_module_version": "1.5.0",
      "model_name": "DescriptionStyleModel",
      "state": {
       "description_width": ""
      }
     },
     "56113754d1044138b58eb2af3bc1d391": {
      "model_module": "@jupyter-widgets/controls",
      "model_module_version": "1.5.0",
      "model_name": "DescriptionStyleModel",
      "state": {
       "description_width": ""
      }
     },
     "561a610eb5ad4ed9af8cf26c84613e99": {
      "model_module": "@jupyter-widgets/controls",
      "model_module_version": "1.5.0",
      "model_name": "HBoxModel",
      "state": {
       "children": [
        "IPY_MODEL_8c7aee9a7f5a4c7da33a8875c6114f59",
        "IPY_MODEL_124f95f5e319478991f29532099f20b3"
       ],
       "layout": "IPY_MODEL_a9c4524cbc184761899f062b30ece891"
      }
     },
     "563d82a775574773b49d6a463b273b9e": {
      "model_module": "@jupyter-widgets/controls",
      "model_module_version": "1.5.0",
      "model_name": "ProgressStyleModel",
      "state": {
       "description_width": "initial"
      }
     },
     "5644dfccd3274940b9c67f0095d832bd": {
      "model_module": "@jupyter-widgets/base",
      "model_module_version": "1.2.0",
      "model_name": "LayoutModel",
      "state": {}
     },
     "564b87ef727f45e58c2bec332d17b0af": {
      "model_module": "@jupyter-widgets/base",
      "model_module_version": "1.2.0",
      "model_name": "LayoutModel",
      "state": {}
     },
     "565483cba2c74ed590a41a82f2717262": {
      "model_module": "@jupyter-widgets/base",
      "model_module_version": "1.2.0",
      "model_name": "LayoutModel",
      "state": {}
     },
     "5663bfde0a9546089dacc99cdc48def2": {
      "model_module": "@jupyter-widgets/base",
      "model_module_version": "1.2.0",
      "model_name": "LayoutModel",
      "state": {}
     },
     "5665319727a04ed79de3c2a4a234aeb7": {
      "model_module": "@jupyter-widgets/controls",
      "model_module_version": "1.5.0",
      "model_name": "ProgressStyleModel",
      "state": {
       "description_width": "initial"
      }
     },
     "569aba4392374f308c4b3f75e916d813": {
      "model_module": "@jupyter-widgets/controls",
      "model_module_version": "1.5.0",
      "model_name": "DescriptionStyleModel",
      "state": {
       "description_width": ""
      }
     },
     "569e3c8cdd2a4900b204fce24038175d": {
      "model_module": "@jupyter-widgets/base",
      "model_module_version": "1.2.0",
      "model_name": "LayoutModel",
      "state": {}
     },
     "56a0e0bd56954bab99eb8f9c0a102187": {
      "model_module": "@jupyter-widgets/base",
      "model_module_version": "1.2.0",
      "model_name": "LayoutModel",
      "state": {}
     },
     "578c988712664048bc3db9b4721f697e": {
      "model_module": "@jupyter-widgets/controls",
      "model_module_version": "1.5.0",
      "model_name": "FloatProgressModel",
      "state": {
       "description": "val loss: 0.2831: 100%",
       "layout": "IPY_MODEL_957ce0a71042467c8bb6fba5220b979e",
       "max": 11,
       "style": "IPY_MODEL_6e8f38a7763b430f9c72ca5af8b0a377",
       "value": 11
      }
     },
     "57a2866436c642b89d53c8d2e5314505": {
      "model_module": "@jupyter-widgets/controls",
      "model_module_version": "1.5.0",
      "model_name": "ProgressStyleModel",
      "state": {
       "description_width": "initial"
      }
     },
     "57dc098606e4467fbe6ad64bf18586c1": {
      "model_module": "@jupyter-widgets/controls",
      "model_module_version": "1.5.0",
      "model_name": "DescriptionStyleModel",
      "state": {
       "description_width": ""
      }
     },
     "57e34410edce46c58d520ae62ecede23": {
      "model_module": "@jupyter-widgets/base",
      "model_module_version": "1.2.0",
      "model_name": "LayoutModel",
      "state": {}
     },
     "57e413f73ef1488fa573c639d931a007": {
      "model_module": "@jupyter-widgets/base",
      "model_module_version": "1.2.0",
      "model_name": "LayoutModel",
      "state": {}
     },
     "5806fdbe9f7e4794b94241cc0a5cf128": {
      "model_module": "@jupyter-widgets/controls",
      "model_module_version": "1.5.0",
      "model_name": "HTMLModel",
      "state": {
       "layout": "IPY_MODEL_4fc687e9b40243baad21ea18f5df1ec4",
       "style": "IPY_MODEL_5b5637c660eb458090cc7ce83b115e1b",
       "value": " 50/50 [00:07&lt;00:00,  3.74it/s]"
      }
     },
     "581b08e121594a428ca8e95f69979004": {
      "model_module": "@jupyter-widgets/base",
      "model_module_version": "1.2.0",
      "model_name": "LayoutModel",
      "state": {}
     },
     "58348f0744ca4708b77b5552d4a2e9b3": {
      "model_module": "@jupyter-widgets/controls",
      "model_module_version": "1.5.0",
      "model_name": "FloatProgressModel",
      "state": {
       "description": "val loss: 0.2995: 100%",
       "layout": "IPY_MODEL_140a14a7d49d4bbfbcc4a688c825a802",
       "max": 11,
       "style": "IPY_MODEL_077ebd3d2ed64fc6a0a374e7c94f7ca9",
       "value": 11
      }
     },
     "5854abdeb3b2479eae9faf039b725a1d": {
      "model_module": "@jupyter-widgets/base",
      "model_module_version": "1.2.0",
      "model_name": "LayoutModel",
      "state": {}
     },
     "5856d8f7842e4d5eaf0d851f9ab25c99": {
      "model_module": "@jupyter-widgets/base",
      "model_module_version": "1.2.0",
      "model_name": "LayoutModel",
      "state": {}
     },
     "585e83d6b3c94e44af32c5f3c5fe95fc": {
      "model_module": "@jupyter-widgets/controls",
      "model_module_version": "1.5.0",
      "model_name": "DescriptionStyleModel",
      "state": {
       "description_width": ""
      }
     },
     "586a7656555c4d7c930dcb54e35f36bf": {
      "model_module": "@jupyter-widgets/controls",
      "model_module_version": "1.5.0",
      "model_name": "ProgressStyleModel",
      "state": {
       "description_width": "initial"
      }
     },
     "5875f455f45042aebea9264ec8d0635b": {
      "model_module": "@jupyter-widgets/base",
      "model_module_version": "1.2.0",
      "model_name": "LayoutModel",
      "state": {}
     },
     "5888a32e183b436584eae79021c0ca6e": {
      "model_module": "@jupyter-widgets/base",
      "model_module_version": "1.2.0",
      "model_name": "LayoutModel",
      "state": {}
     },
     "588c2949596b47908e2d5170ce7c30da": {
      "model_module": "@jupyter-widgets/controls",
      "model_module_version": "1.5.0",
      "model_name": "DescriptionStyleModel",
      "state": {
       "description_width": ""
      }
     },
     "58e20ed7ca134558aea6d02b6b2daef3": {
      "model_module": "@jupyter-widgets/controls",
      "model_module_version": "1.5.0",
      "model_name": "HTMLModel",
      "state": {
       "layout": "IPY_MODEL_c079ef68c5ef4adb87a444072b8c6c46",
       "style": "IPY_MODEL_991872d170a843ef994db4610490bb0a",
       "value": " 21/21 [00:00&lt;00:00, 231.38it/s]"
      }
     },
     "58ffa299c03740dface57a23dee305c5": {
      "model_module": "@jupyter-widgets/controls",
      "model_module_version": "1.5.0",
      "model_name": "ProgressStyleModel",
      "state": {
       "description_width": "initial"
      }
     },
     "5936263a83464affb4cced65c1c9bc41": {
      "model_module": "@jupyter-widgets/base",
      "model_module_version": "1.2.0",
      "model_name": "LayoutModel",
      "state": {}
     },
     "595451bc1f434fd09f628c0d55cea0ba": {
      "model_module": "@jupyter-widgets/controls",
      "model_module_version": "1.5.0",
      "model_name": "DescriptionStyleModel",
      "state": {
       "description_width": ""
      }
     },
     "596261dfa0b94f8cb9e7f503d70f8b35": {
      "model_module": "@jupyter-widgets/controls",
      "model_module_version": "1.5.0",
      "model_name": "FloatProgressModel",
      "state": {
       "description": "val loss: 0.2887: 100%",
       "layout": "IPY_MODEL_6342590692a0439a8e43b86b06ea2ebf",
       "max": 11,
       "style": "IPY_MODEL_0b5a5833a6fb4adc976fed6908e19202",
       "value": 11
      }
     },
     "5966dd5e0fa84a3cab5908bea1c03210": {
      "model_module": "@jupyter-widgets/controls",
      "model_module_version": "1.5.0",
      "model_name": "DescriptionStyleModel",
      "state": {
       "description_width": ""
      }
     },
     "59732cb318ae4a9ab4a526275f362992": {
      "model_module": "@jupyter-widgets/base",
      "model_module_version": "1.2.0",
      "model_name": "LayoutModel",
      "state": {}
     },
     "597a245503fe4360810f7ca0655ab47d": {
      "model_module": "@jupyter-widgets/controls",
      "model_module_version": "1.5.0",
      "model_name": "FloatProgressModel",
      "state": {
       "description": "train loss: 0.3721: 100%",
       "layout": "IPY_MODEL_7ec53471e90742ce969a8a2fc7bc5dc0",
       "max": 50,
       "style": "IPY_MODEL_30f3aaa91a9943ad81715d60284a32d1",
       "value": 50
      }
     },
     "5996f0e53e0a4c14aeb358655cf29e80": {
      "model_module": "@jupyter-widgets/controls",
      "model_module_version": "1.5.0",
      "model_name": "FloatProgressModel",
      "state": {
       "description": "train loss: 0.2922: 100%",
       "layout": "IPY_MODEL_d23370e080bf4f778e5f66113352008a",
       "max": 50,
       "style": "IPY_MODEL_db148ca2c92e46c896a30d8094f94b8a",
       "value": 50
      }
     },
     "599ea392aef246d9bd2d99983ee17488": {
      "model_module": "@jupyter-widgets/base",
      "model_module_version": "1.2.0",
      "model_name": "LayoutModel",
      "state": {}
     },
     "599f9aa7f161404e87504b3503621871": {
      "model_module": "@jupyter-widgets/base",
      "model_module_version": "1.2.0",
      "model_name": "LayoutModel",
      "state": {}
     },
     "59a866bb9b0b4aa7b5a4cd79dc5e556e": {
      "model_module": "@jupyter-widgets/base",
      "model_module_version": "1.2.0",
      "model_name": "LayoutModel",
      "state": {}
     },
     "59c86bd8aac2434c99c12b8e5a85c118": {
      "model_module": "@jupyter-widgets/controls",
      "model_module_version": "1.5.0",
      "model_name": "DescriptionStyleModel",
      "state": {
       "description_width": ""
      }
     },
     "5a6519afc6f5485aa0aa544a8f860a21": {
      "model_module": "@jupyter-widgets/base",
      "model_module_version": "1.2.0",
      "model_name": "LayoutModel",
      "state": {}
     },
     "5a78d24815174f12947e017d293080a4": {
      "model_module": "@jupyter-widgets/controls",
      "model_module_version": "1.5.0",
      "model_name": "DescriptionStyleModel",
      "state": {
       "description_width": ""
      }
     },
     "5ab42af1803c4bb1a1d6c99e21c16818": {
      "model_module": "@jupyter-widgets/base",
      "model_module_version": "1.2.0",
      "model_name": "LayoutModel",
      "state": {}
     },
     "5acdf8d7d4b24d50a77434d373870465": {
      "model_module": "@jupyter-widgets/controls",
      "model_module_version": "1.5.0",
      "model_name": "ProgressStyleModel",
      "state": {
       "description_width": "initial"
      }
     },
     "5b16a634237c44459bca7f550488853e": {
      "model_module": "@jupyter-widgets/controls",
      "model_module_version": "1.5.0",
      "model_name": "FloatProgressModel",
      "state": {
       "description": "val loss: 0.3637: 100%",
       "layout": "IPY_MODEL_432a046b161f467d8227ab93641eadde",
       "max": 11,
       "style": "IPY_MODEL_bc69769deecd4c1180749fc349bc9ceb",
       "value": 11
      }
     },
     "5b2031a1536c4defb2f78dc533b4e87b": {
      "model_module": "@jupyter-widgets/base",
      "model_module_version": "1.2.0",
      "model_name": "LayoutModel",
      "state": {}
     },
     "5b2c5615c7964837b07813555ed98b59": {
      "model_module": "@jupyter-widgets/base",
      "model_module_version": "1.2.0",
      "model_name": "LayoutModel",
      "state": {}
     },
     "5b5637c660eb458090cc7ce83b115e1b": {
      "model_module": "@jupyter-widgets/controls",
      "model_module_version": "1.5.0",
      "model_name": "DescriptionStyleModel",
      "state": {
       "description_width": ""
      }
     },
     "5b66150b9e1341dbb4b640fa5e0b4237": {
      "model_module": "@jupyter-widgets/controls",
      "model_module_version": "1.5.0",
      "model_name": "FloatProgressModel",
      "state": {
       "description": "val loss: 0.3977: 100%",
       "layout": "IPY_MODEL_c9004da6529a437d837c7ccd1e1d8244",
       "max": 22,
       "style": "IPY_MODEL_11afc24a94824d27b5b810153bdd53e0",
       "value": 22
      }
     },
     "5b6af95141174e408fb6342949e3f3ec": {
      "model_module": "@jupyter-widgets/controls",
      "model_module_version": "1.5.0",
      "model_name": "DescriptionStyleModel",
      "state": {
       "description_width": ""
      }
     },
     "5b93fccf7e7b43b998aa5d4c1d3ec208": {
      "model_module": "@jupyter-widgets/base",
      "model_module_version": "1.2.0",
      "model_name": "LayoutModel",
      "state": {}
     },
     "5bb53eeccb4c418fb33bbd850f343c0e": {
      "model_module": "@jupyter-widgets/base",
      "model_module_version": "1.2.0",
      "model_name": "LayoutModel",
      "state": {}
     },
     "5bce933ccd494621a05c419f9f1be28f": {
      "model_module": "@jupyter-widgets/base",
      "model_module_version": "1.2.0",
      "model_name": "LayoutModel",
      "state": {}
     },
     "5be9fa074802446796f5d708a07ff846": {
      "model_module": "@jupyter-widgets/controls",
      "model_module_version": "1.5.0",
      "model_name": "DescriptionStyleModel",
      "state": {
       "description_width": ""
      }
     },
     "5c006a909ad04005b911b93e98c86265": {
      "model_module": "@jupyter-widgets/controls",
      "model_module_version": "1.5.0",
      "model_name": "DescriptionStyleModel",
      "state": {
       "description_width": ""
      }
     },
     "5c052cf8e5c34aaa94a45238884c98ec": {
      "model_module": "@jupyter-widgets/controls",
      "model_module_version": "1.5.0",
      "model_name": "HTMLModel",
      "state": {
       "layout": "IPY_MODEL_74d95e2a119d4630842d680e342f2623",
       "style": "IPY_MODEL_86c1219817bd4696af2706ba3ad2b445",
       "value": " 6/6 [00:00&lt;00:00, 139.81it/s]"
      }
     },
     "5c363e39a5194c31af544dbd1b3ae561": {
      "model_module": "@jupyter-widgets/controls",
      "model_module_version": "1.5.0",
      "model_name": "FloatProgressModel",
      "state": {
       "description": "val loss: 0.0611: 100%",
       "layout": "IPY_MODEL_7ce3b2f465fd4abd9b04d2c6ec05ab4c",
       "max": 11,
       "style": "IPY_MODEL_6f7ac4bfd5614bb58016ec897c78b5b5",
       "value": 11
      }
     },
     "5c4f361b00f949f1a9e5bd0eaa82a460": {
      "model_module": "@jupyter-widgets/base",
      "model_module_version": "1.2.0",
      "model_name": "LayoutModel",
      "state": {}
     },
     "5c7ea02ee1514ef993a7ab0220122c2a": {
      "model_module": "@jupyter-widgets/controls",
      "model_module_version": "1.5.0",
      "model_name": "FloatProgressModel",
      "state": {
       "description": "train loss: 0.4473: 100%",
       "layout": "IPY_MODEL_5e78f3d9aee94c50954185645e648d24",
       "max": 50,
       "style": "IPY_MODEL_fc37ed172c734f79a7b29b3a381f2c37",
       "value": 50
      }
     },
     "5cb182723ce84acf8d3c9629d4855099": {
      "model_module": "@jupyter-widgets/base",
      "model_module_version": "1.2.0",
      "model_name": "LayoutModel",
      "state": {}
     },
     "5d0fe20d2ce5469f88c55c55400a21fd": {
      "model_module": "@jupyter-widgets/controls",
      "model_module_version": "1.5.0",
      "model_name": "ProgressStyleModel",
      "state": {
       "description_width": "initial"
      }
     },
     "5d22aff5a5924b0a8173d9f5a3451483": {
      "model_module": "@jupyter-widgets/controls",
      "model_module_version": "1.5.0",
      "model_name": "DescriptionStyleModel",
      "state": {
       "description_width": ""
      }
     },
     "5d4b503ebb2449f9b66461c0ef391754": {
      "model_module": "@jupyter-widgets/controls",
      "model_module_version": "1.5.0",
      "model_name": "ProgressStyleModel",
      "state": {
       "description_width": "initial"
      }
     },
     "5daca54121d64d1385214b90c4a6bbcd": {
      "model_module": "@jupyter-widgets/controls",
      "model_module_version": "1.5.0",
      "model_name": "ProgressStyleModel",
      "state": {
       "description_width": "initial"
      }
     },
     "5ddb0ffbb32348afb5e87e60d74d2f54": {
      "model_module": "@jupyter-widgets/controls",
      "model_module_version": "1.5.0",
      "model_name": "HTMLModel",
      "state": {
       "layout": "IPY_MODEL_c8918dc30f6e4c2fab8c0cd7357a4afb",
       "style": "IPY_MODEL_ab0a8a026e884e59b0c78b26f7fffe37",
       "value": " 9/10 [00:10&lt;00:01,  1.01s/it]"
      }
     },
     "5df84dbb09594292bce3d53413536375": {
      "model_module": "@jupyter-widgets/controls",
      "model_module_version": "1.5.0",
      "model_name": "DescriptionStyleModel",
      "state": {
       "description_width": ""
      }
     },
     "5dffb79b0df241f8ab50ff35d5a08ce9": {
      "model_module": "@jupyter-widgets/controls",
      "model_module_version": "1.5.0",
      "model_name": "ProgressStyleModel",
      "state": {
       "description_width": "initial"
      }
     },
     "5e1335077a3f4caa85e92a90271da458": {
      "model_module": "@jupyter-widgets/base",
      "model_module_version": "1.2.0",
      "model_name": "LayoutModel",
      "state": {}
     },
     "5e23192bda864121ba772a7a5aeaef56": {
      "model_module": "@jupyter-widgets/controls",
      "model_module_version": "1.5.0",
      "model_name": "DescriptionStyleModel",
      "state": {
       "description_width": ""
      }
     },
     "5e2b22e7915f4fd9ad129b2eec15d3c3": {
      "model_module": "@jupyter-widgets/base",
      "model_module_version": "1.2.0",
      "model_name": "LayoutModel",
      "state": {}
     },
     "5e45f027284946499fba2086b0f2a817": {
      "model_module": "@jupyter-widgets/controls",
      "model_module_version": "1.5.0",
      "model_name": "DescriptionStyleModel",
      "state": {
       "description_width": ""
      }
     },
     "5e5a61ef62014018a677cec94039ad35": {
      "model_module": "@jupyter-widgets/controls",
      "model_module_version": "1.5.0",
      "model_name": "ProgressStyleModel",
      "state": {
       "description_width": "initial"
      }
     },
     "5e6e55c61779401c996a1a7cd44d2f65": {
      "model_module": "@jupyter-widgets/base",
      "model_module_version": "1.2.0",
      "model_name": "LayoutModel",
      "state": {}
     },
     "5e78f3d9aee94c50954185645e648d24": {
      "model_module": "@jupyter-widgets/base",
      "model_module_version": "1.2.0",
      "model_name": "LayoutModel",
      "state": {}
     },
     "5e9a3b7121c14790b3076ea456a2ef20": {
      "model_module": "@jupyter-widgets/base",
      "model_module_version": "1.2.0",
      "model_name": "LayoutModel",
      "state": {}
     },
     "5eb138ff6a574b2889e9ae8f612bb794": {
      "model_module": "@jupyter-widgets/base",
      "model_module_version": "1.2.0",
      "model_name": "LayoutModel",
      "state": {}
     },
     "5f056b1b68fb4f6885b6277206d9251c": {
      "model_module": "@jupyter-widgets/controls",
      "model_module_version": "1.5.0",
      "model_name": "HTMLModel",
      "state": {
       "layout": "IPY_MODEL_f380914c7d16480a8eecaf03978eef65",
       "style": "IPY_MODEL_14f8133c54504e94b0b5b4e0b9c4cd2c",
       "value": " 25/25 [00:00&lt;00:00, 73.54it/s]"
      }
     },
     "5f206d98b0f24695834ae7452e4350d6": {
      "model_module": "@jupyter-widgets/base",
      "model_module_version": "1.2.0",
      "model_name": "LayoutModel",
      "state": {}
     },
     "5f64886cf8ad4209b18f74bbdc6bb176": {
      "model_module": "@jupyter-widgets/controls",
      "model_module_version": "1.5.0",
      "model_name": "ProgressStyleModel",
      "state": {
       "description_width": "initial"
      }
     },
     "5f79a5e9914f49969af4bb9dc132626c": {
      "model_module": "@jupyter-widgets/controls",
      "model_module_version": "1.5.0",
      "model_name": "ProgressStyleModel",
      "state": {
       "description_width": "initial"
      }
     },
     "5f7c473468f549788e4a3807d43f2161": {
      "model_module": "@jupyter-widgets/base",
      "model_module_version": "1.2.0",
      "model_name": "LayoutModel",
      "state": {}
     },
     "5f88c082ba404486b6077ae9ec165212": {
      "model_module": "@jupyter-widgets/controls",
      "model_module_version": "1.5.0",
      "model_name": "ProgressStyleModel",
      "state": {
       "description_width": "initial"
      }
     },
     "5f9622c2e0614ce3be53f7affdeae6db": {
      "model_module": "@jupyter-widgets/base",
      "model_module_version": "1.2.0",
      "model_name": "LayoutModel",
      "state": {}
     },
     "5f9d9efb44e24e5082203284e33aaf2b": {
      "model_module": "@jupyter-widgets/base",
      "model_module_version": "1.2.0",
      "model_name": "LayoutModel",
      "state": {}
     },
     "5f9fc3f27b654755a682ead6c8cc0638": {
      "model_module": "@jupyter-widgets/base",
      "model_module_version": "1.2.0",
      "model_name": "LayoutModel",
      "state": {}
     },
     "5fb372e200b64dcb8400834a27fc81cd": {
      "model_module": "@jupyter-widgets/base",
      "model_module_version": "1.2.0",
      "model_name": "LayoutModel",
      "state": {}
     },
     "5fbd202e9781498190fa7bbb4451bbe9": {
      "model_module": "@jupyter-widgets/base",
      "model_module_version": "1.2.0",
      "model_name": "LayoutModel",
      "state": {}
     },
     "5ffb00cce92d4986a2b0086b4942cb14": {
      "model_module": "@jupyter-widgets/base",
      "model_module_version": "1.2.0",
      "model_name": "LayoutModel",
      "state": {}
     },
     "60242b55c06b4caabe5cb12d9c70d2ae": {
      "model_module": "@jupyter-widgets/controls",
      "model_module_version": "1.5.0",
      "model_name": "DescriptionStyleModel",
      "state": {
       "description_width": ""
      }
     },
     "605feb9334864f11a34f1c78ae64f697": {
      "model_module": "@jupyter-widgets/base",
      "model_module_version": "1.2.0",
      "model_name": "LayoutModel",
      "state": {}
     },
     "608b73b03f464234bb018ad39c32a9fb": {
      "model_module": "@jupyter-widgets/base",
      "model_module_version": "1.2.0",
      "model_name": "LayoutModel",
      "state": {}
     },
     "60988e91a25a4f99bc61901e6828b070": {
      "model_module": "@jupyter-widgets/controls",
      "model_module_version": "1.5.0",
      "model_name": "DescriptionStyleModel",
      "state": {
       "description_width": ""
      }
     },
     "60d7afc5f38f40119c6c215156ee2a48": {
      "model_module": "@jupyter-widgets/base",
      "model_module_version": "1.2.0",
      "model_name": "LayoutModel",
      "state": {}
     },
     "615fbf3ed24746e6b8265a9299791705": {
      "model_module": "@jupyter-widgets/base",
      "model_module_version": "1.2.0",
      "model_name": "LayoutModel",
      "state": {}
     },
     "6189371880124961b3da8de1cc2c3caf": {
      "model_module": "@jupyter-widgets/controls",
      "model_module_version": "1.5.0",
      "model_name": "DescriptionStyleModel",
      "state": {
       "description_width": ""
      }
     },
     "618d3aaa619d4640842bef4d77cc9575": {
      "model_module": "@jupyter-widgets/base",
      "model_module_version": "1.2.0",
      "model_name": "LayoutModel",
      "state": {}
     },
     "61951c2bad694de7b10775fe0b086718": {
      "model_module": "@jupyter-widgets/controls",
      "model_module_version": "1.5.0",
      "model_name": "FloatProgressModel",
      "state": {
       "description": "val loss: 0.2761: 100%",
       "layout": "IPY_MODEL_b6e774755e3148358fccee13fd7ff018",
       "max": 11,
       "style": "IPY_MODEL_f1e29b8ac99449f29d56a520a30662ad",
       "value": 11
      }
     },
     "619def91a9fd413eab53fa64518b4d7d": {
      "model_module": "@jupyter-widgets/controls",
      "model_module_version": "1.5.0",
      "model_name": "DescriptionStyleModel",
      "state": {
       "description_width": ""
      }
     },
     "61afb336670f4ec5a522e64c161235a2": {
      "model_module": "@jupyter-widgets/base",
      "model_module_version": "1.2.0",
      "model_name": "LayoutModel",
      "state": {}
     },
     "61c883fa7c02457e85e526f3488f0c21": {
      "model_module": "@jupyter-widgets/base",
      "model_module_version": "1.2.0",
      "model_name": "LayoutModel",
      "state": {}
     },
     "6217aa6de31944059aef41bc7b25d445": {
      "model_module": "@jupyter-widgets/controls",
      "model_module_version": "1.5.0",
      "model_name": "HTMLModel",
      "state": {
       "layout": "IPY_MODEL_982a3f4b3e5f4cc491d1af0d1e7c5510",
       "style": "IPY_MODEL_83ee4300eacd428e84d26079eae0d60a",
       "value": " 11/11 [00:00&lt;00:00, 167.18it/s]"
      }
     },
     "621e6fa8fb30436e9c0e3a24258d4a69": {
      "model_module": "@jupyter-widgets/controls",
      "model_module_version": "1.5.0",
      "model_name": "HTMLModel",
      "state": {
       "layout": "IPY_MODEL_35285c36cfc347cab26faa10889c1902",
       "style": "IPY_MODEL_0a1d35e4c01b425caaba0af9dd3081ee",
       "value": " 22/22 [00:00&lt;00:00, 144.57it/s]"
      }
     },
     "6229a8bd45dd46a38dacea14aea46f9e": {
      "model_module": "@jupyter-widgets/controls",
      "model_module_version": "1.5.0",
      "model_name": "FloatProgressModel",
      "state": {
       "description": "train loss: 0.4622: 100%",
       "layout": "IPY_MODEL_b2f39b90f3834ad8bed823ace727ca82",
       "max": 99,
       "style": "IPY_MODEL_a5b6f30a6bb343eb86063c585d686ab5",
       "value": 99
      }
     },
     "622bfc02b8e943558c66b53118f0b65e": {
      "model_module": "@jupyter-widgets/controls",
      "model_module_version": "1.5.0",
      "model_name": "HTMLModel",
      "state": {
       "layout": "IPY_MODEL_565483cba2c74ed590a41a82f2717262",
       "style": "IPY_MODEL_186f6873bbfa407e8a60f1e5ede87e29",
       "value": " 22/22 [00:00&lt;00:00, 138.98it/s]"
      }
     },
     "629d77ffef544c78a6c18db35b7812f7": {
      "model_module": "@jupyter-widgets/base",
      "model_module_version": "1.2.0",
      "model_name": "LayoutModel",
      "state": {}
     },
     "62a1ac24ebed4c46bebee1a79324285f": {
      "model_module": "@jupyter-widgets/base",
      "model_module_version": "1.2.0",
      "model_name": "LayoutModel",
      "state": {}
     },
     "62abbe3f679b4204aae71f1144a24a20": {
      "model_module": "@jupyter-widgets/base",
      "model_module_version": "1.2.0",
      "model_name": "LayoutModel",
      "state": {}
     },
     "62bdef93b5af46fea6cc19e496f8bc61": {
      "model_module": "@jupyter-widgets/controls",
      "model_module_version": "1.5.0",
      "model_name": "FloatProgressModel",
      "state": {
       "description": "val loss: 0.0747: 100%",
       "layout": "IPY_MODEL_06dbb93d6aac49b9b3c934f9e3cbfe7d",
       "max": 11,
       "style": "IPY_MODEL_47da6017963f4d2f904d6b16de6b0b3e",
       "value": 11
      }
     },
     "62c3e491e17e4395b98befffc0b5a0b8": {
      "model_module": "@jupyter-widgets/base",
      "model_module_version": "1.2.0",
      "model_name": "LayoutModel",
      "state": {}
     },
     "6326f215345b4cf7a5e277fd3987b54c": {
      "model_module": "@jupyter-widgets/controls",
      "model_module_version": "1.5.0",
      "model_name": "FloatProgressModel",
      "state": {
       "description": "train loss: 0.9744: 100%",
       "layout": "IPY_MODEL_4709190c84b84e87ac627dc624c5c698",
       "max": 99,
       "style": "IPY_MODEL_e3ea85f321bb4e6e8f7199b3b10d9dbd",
       "value": 99
      }
     },
     "6342590692a0439a8e43b86b06ea2ebf": {
      "model_module": "@jupyter-widgets/base",
      "model_module_version": "1.2.0",
      "model_name": "LayoutModel",
      "state": {}
     },
     "63451277d6af46d09b1ab32a4a65fa95": {
      "model_module": "@jupyter-widgets/controls",
      "model_module_version": "1.5.0",
      "model_name": "ProgressStyleModel",
      "state": {
       "description_width": "initial"
      }
     },
     "6356b389977f4c08bc869d6f762fd3e7": {
      "model_module": "@jupyter-widgets/base",
      "model_module_version": "1.2.0",
      "model_name": "LayoutModel",
      "state": {}
     },
     "638b924770534462833314b56508fa3b": {
      "model_module": "@jupyter-widgets/base",
      "model_module_version": "1.2.0",
      "model_name": "LayoutModel",
      "state": {}
     },
     "639ba2d42815494f812fa7a8152e860a": {
      "model_module": "@jupyter-widgets/controls",
      "model_module_version": "1.5.0",
      "model_name": "FloatProgressModel",
      "state": {
       "description": "val loss: 0.0910: 100%",
       "layout": "IPY_MODEL_8b925035233a428a8dd0c1ad9871183f",
       "max": 21,
       "style": "IPY_MODEL_4ec644b8bab948598ffc366bf00a4ef2",
       "value": 21
      }
     },
     "63d519a43fa94fe2a3e0a7a49920ff51": {
      "model_module": "@jupyter-widgets/controls",
      "model_module_version": "1.5.0",
      "model_name": "ProgressStyleModel",
      "state": {
       "description_width": "initial"
      }
     },
     "6416cd993bfa4606a206a721b0ffdfb9": {
      "model_module": "@jupyter-widgets/base",
      "model_module_version": "1.2.0",
      "model_name": "LayoutModel",
      "state": {}
     },
     "6472a5adec15406da7777c9ebbb92b5d": {
      "model_module": "@jupyter-widgets/base",
      "model_module_version": "1.2.0",
      "model_name": "LayoutModel",
      "state": {}
     },
     "648a4751eb8e4cc9b44074064c8c0321": {
      "model_module": "@jupyter-widgets/controls",
      "model_module_version": "1.5.0",
      "model_name": "FloatProgressModel",
      "state": {
       "description": "train loss: 0.0161: 100%",
       "layout": "IPY_MODEL_bd5af6c17ed3499bbef6a3b41c734550",
       "max": 99,
       "style": "IPY_MODEL_52b45ab1df4d40dc8f5fb5607909f782",
       "value": 99
      }
     },
     "649dbacc8a2d4978aa6994f8f3743d9f": {
      "model_module": "@jupyter-widgets/controls",
      "model_module_version": "1.5.0",
      "model_name": "HTMLModel",
      "state": {
       "layout": "IPY_MODEL_d65a949625ef451b8e19b5500ea99b3d",
       "style": "IPY_MODEL_c3fc3003ceed43058e0ef6e02bbda27b",
       "value": " 6/6 [00:00&lt;00:00, 139.83it/s]"
      }
     },
     "64c3c444e7d244078e313892dff434bb": {
      "model_module": "@jupyter-widgets/controls",
      "model_module_version": "1.5.0",
      "model_name": "DescriptionStyleModel",
      "state": {
       "description_width": ""
      }
     },
     "64de372dc92d4e82918d081d6fb47131": {
      "model_module": "@jupyter-widgets/base",
      "model_module_version": "1.2.0",
      "model_name": "LayoutModel",
      "state": {}
     },
     "64f5e487fdc544a5b559f53b481bbb71": {
      "model_module": "@jupyter-widgets/base",
      "model_module_version": "1.2.0",
      "model_name": "LayoutModel",
      "state": {}
     },
     "65058ae293fa48fcbca393a7ca5980cb": {
      "model_module": "@jupyter-widgets/base",
      "model_module_version": "1.2.0",
      "model_name": "LayoutModel",
      "state": {}
     },
     "6547d3c4e8784e0a81d58b5e1f485810": {
      "model_module": "@jupyter-widgets/controls",
      "model_module_version": "1.5.0",
      "model_name": "ProgressStyleModel",
      "state": {
       "description_width": "initial"
      }
     },
     "655a6c6aa508430fb1527b9052a88ae1": {
      "model_module": "@jupyter-widgets/base",
      "model_module_version": "1.2.0",
      "model_name": "LayoutModel",
      "state": {}
     },
     "6560b097944248a597c202802f80d99a": {
      "model_module": "@jupyter-widgets/controls",
      "model_module_version": "1.5.0",
      "model_name": "HTMLModel",
      "state": {
       "layout": "IPY_MODEL_c03519532cc14cd5b8e22f69bf74f3c0",
       "style": "IPY_MODEL_e10d648aa63f4fc38b14b560583899b6",
       "value": " 21/21 [00:00&lt;00:00, 228.81it/s]"
      }
     },
     "658a84e690f74a91b0707a28a36db94c": {
      "model_module": "@jupyter-widgets/controls",
      "model_module_version": "1.5.0",
      "model_name": "FloatProgressModel",
      "state": {
       "bar_style": "danger",
       "description": "Train Loss: 0.0846 - Val Loss: 0.1144:  70%",
       "layout": "IPY_MODEL_b8a43296572f4337a276947ad7ef1da9",
       "max": 10,
       "style": "IPY_MODEL_160e2fec02a745ba95dd420e49c241bd",
       "value": 7
      }
     },
     "65be298e5b634bc6af08b55d29e4cdbc": {
      "model_module": "@jupyter-widgets/controls",
      "model_module_version": "1.5.0",
      "model_name": "FloatProgressModel",
      "state": {
       "description": "val loss: 0.0708: 100%",
       "layout": "IPY_MODEL_88d41ff6803a49559fa22e24f732cadf",
       "max": 21,
       "style": "IPY_MODEL_f9062b7ea95e457283f22869a5f800b2",
       "value": 21
      }
     },
     "65d6caa16ff546eda71e66d7c711b2d1": {
      "model_module": "@jupyter-widgets/controls",
      "model_module_version": "1.5.0",
      "model_name": "FloatProgressModel",
      "state": {
       "description": "train loss: 0.1995: 100%",
       "layout": "IPY_MODEL_84214a2eb4f94f8097fdb36ef3a92f99",
       "max": 50,
       "style": "IPY_MODEL_b92206495e204baca3f3cb2445a5ad19",
       "value": 50
      }
     },
     "661b7f66b6a140fcae0cd78b6aacd0e0": {
      "model_module": "@jupyter-widgets/controls",
      "model_module_version": "1.5.0",
      "model_name": "FloatProgressModel",
      "state": {
       "bar_style": "success",
       "description": "Train Loss: 0.0733 - Val Loss: 0.0711: 100%",
       "layout": "IPY_MODEL_28c7d21cf59d44a1bcec56fbbc421120",
       "max": 10,
       "style": "IPY_MODEL_7ea9e3435330462a933443fb8f3c18b0",
       "value": 10
      }
     },
     "661e7ddbd0e746148e1f6ef9528fde37": {
      "model_module": "@jupyter-widgets/base",
      "model_module_version": "1.2.0",
      "model_name": "LayoutModel",
      "state": {}
     },
     "661f6ec8d91a4b70b212d41e16efbf27": {
      "model_module": "@jupyter-widgets/controls",
      "model_module_version": "1.5.0",
      "model_name": "HTMLModel",
      "state": {
       "layout": "IPY_MODEL_7780fcd7c075402e91f421d7373469f6",
       "style": "IPY_MODEL_585e83d6b3c94e44af32c5f3c5fe95fc",
       "value": " 0/50 [00:00&lt;?, ?it/s]"
      }
     },
     "66703ffebb9a4e969bda2b9c41f6337a": {
      "model_module": "@jupyter-widgets/controls",
      "model_module_version": "1.5.0",
      "model_name": "DescriptionStyleModel",
      "state": {
       "description_width": ""
      }
     },
     "66715999e4ec4e049c105d3e9b132706": {
      "model_module": "@jupyter-widgets/base",
      "model_module_version": "1.2.0",
      "model_name": "LayoutModel",
      "state": {}
     },
     "668744234e8d4391bcb1683f0df4d2c7": {
      "model_module": "@jupyter-widgets/base",
      "model_module_version": "1.2.0",
      "model_name": "LayoutModel",
      "state": {}
     },
     "66896e07145349bcb58a5bfee5def119": {
      "model_module": "@jupyter-widgets/controls",
      "model_module_version": "1.5.0",
      "model_name": "DescriptionStyleModel",
      "state": {
       "description_width": ""
      }
     },
     "66ac621fe45749e58e568a02fa2e9e44": {
      "model_module": "@jupyter-widgets/controls",
      "model_module_version": "1.5.0",
      "model_name": "ProgressStyleModel",
      "state": {
       "description_width": "initial"
      }
     },
     "66d31d75b1b34250851d831fc75b6048": {
      "model_module": "@jupyter-widgets/controls",
      "model_module_version": "1.5.0",
      "model_name": "ProgressStyleModel",
      "state": {
       "description_width": "initial"
      }
     },
     "66f72af653414065a8fe29a4f0c831a5": {
      "model_module": "@jupyter-widgets/controls",
      "model_module_version": "1.5.0",
      "model_name": "HTMLModel",
      "state": {
       "layout": "IPY_MODEL_deb15d7871804971ad898db62abac298",
       "style": "IPY_MODEL_59c86bd8aac2434c99c12b8e5a85c118",
       "value": " 21/21 [00:00&lt;00:00, 253.70it/s]"
      }
     },
     "6707ca053fa04db4b627d112238a3811": {
      "model_module": "@jupyter-widgets/controls",
      "model_module_version": "1.5.0",
      "model_name": "DescriptionStyleModel",
      "state": {
       "description_width": ""
      }
     },
     "6714a9cad5454b4cab67022343c521c4": {
      "model_module": "@jupyter-widgets/base",
      "model_module_version": "1.2.0",
      "model_name": "LayoutModel",
      "state": {}
     },
     "67e8ce7d4b08447a9e6de9b24547bb0a": {
      "model_module": "@jupyter-widgets/base",
      "model_module_version": "1.2.0",
      "model_name": "LayoutModel",
      "state": {}
     },
     "67ef6f0ca28046ac88e871f79d4f4bd1": {
      "model_module": "@jupyter-widgets/controls",
      "model_module_version": "1.5.0",
      "model_name": "HTMLModel",
      "state": {
       "layout": "IPY_MODEL_c2a0a50258bc47d093eea247a6fbcffa",
       "style": "IPY_MODEL_1635c44b7949477e872606cc929c7997",
       "value": " 99/99 [00:01&lt;00:00, 96.85it/s]"
      }
     },
     "67f83f2a10e54d26b549e8500a5e260e": {
      "model_module": "@jupyter-widgets/base",
      "model_module_version": "1.2.0",
      "model_name": "LayoutModel",
      "state": {}
     },
     "6852264da8b94e13b4d66c1f315d5e04": {
      "model_module": "@jupyter-widgets/controls",
      "model_module_version": "1.5.0",
      "model_name": "ProgressStyleModel",
      "state": {
       "description_width": "initial"
      }
     },
     "68643d384d6e4704a06f3b2e42cd2b01": {
      "model_module": "@jupyter-widgets/base",
      "model_module_version": "1.2.0",
      "model_name": "LayoutModel",
      "state": {}
     },
     "6865601425a84ebe87930f335d608561": {
      "model_module": "@jupyter-widgets/controls",
      "model_module_version": "1.5.0",
      "model_name": "DescriptionStyleModel",
      "state": {
       "description_width": ""
      }
     },
     "688c387a3a574ba9851444b358526689": {
      "model_module": "@jupyter-widgets/controls",
      "model_module_version": "1.5.0",
      "model_name": "FloatProgressModel",
      "state": {
       "description": "train loss: 0.4737: 100%",
       "layout": "IPY_MODEL_a0303ca33e1a471184f832048c08de81",
       "max": 50,
       "style": "IPY_MODEL_101e5b77df4d420b89aa929f387e2249",
       "value": 50
      }
     },
     "68a1524415e84c609db21480249c9298": {
      "model_module": "@jupyter-widgets/base",
      "model_module_version": "1.2.0",
      "model_name": "LayoutModel",
      "state": {}
     },
     "68bd08fb3ae244a7b7a1493067f95489": {
      "model_module": "@jupyter-widgets/controls",
      "model_module_version": "1.5.0",
      "model_name": "FloatProgressModel",
      "state": {
       "description": "val loss: 0.0697: 100%",
       "layout": "IPY_MODEL_a53d5de697ff41b2aa1c521784f6d29d",
       "max": 6,
       "style": "IPY_MODEL_5f79a5e9914f49969af4bb9dc132626c",
       "value": 6
      }
     },
     "68dd5e1bbfc447669e5aed4c6b69df78": {
      "model_module": "@jupyter-widgets/base",
      "model_module_version": "1.2.0",
      "model_name": "LayoutModel",
      "state": {}
     },
     "68e51c2240374dab982d87f028c09398": {
      "model_module": "@jupyter-widgets/controls",
      "model_module_version": "1.5.0",
      "model_name": "DescriptionStyleModel",
      "state": {
       "description_width": ""
      }
     },
     "68f907fa69024adfb68f4194015b52d0": {
      "model_module": "@jupyter-widgets/base",
      "model_module_version": "1.2.0",
      "model_name": "LayoutModel",
      "state": {}
     },
     "68fd761f7fe647c5ad07ea8943d098e0": {
      "model_module": "@jupyter-widgets/controls",
      "model_module_version": "1.5.0",
      "model_name": "DescriptionStyleModel",
      "state": {
       "description_width": ""
      }
     },
     "69193ac2d2814f99acf7e9dcfddc81f5": {
      "model_module": "@jupyter-widgets/base",
      "model_module_version": "1.2.0",
      "model_name": "LayoutModel",
      "state": {}
     },
     "6919e9f4cdf34806bbd38676f27ecfaf": {
      "model_module": "@jupyter-widgets/controls",
      "model_module_version": "1.5.0",
      "model_name": "FloatProgressModel",
      "state": {
       "description": "train loss: 0.0422: 100%",
       "layout": "IPY_MODEL_f947b89d689b4005a857463a565a72e3",
       "max": 99,
       "style": "IPY_MODEL_bb2cf61510cc40bf915a5a1d9df898bc",
       "value": 99
      }
     },
     "6937dbf401b34b04bb3a6e26ed00f310": {
      "model_module": "@jupyter-widgets/controls",
      "model_module_version": "1.5.0",
      "model_name": "DescriptionStyleModel",
      "state": {
       "description_width": ""
      }
     },
     "693f77777f6b4e3cbd4aa8729ab2163f": {
      "model_module": "@jupyter-widgets/controls",
      "model_module_version": "1.5.0",
      "model_name": "DescriptionStyleModel",
      "state": {
       "description_width": ""
      }
     },
     "6946f7cd3c994529894ef31006b4d1ef": {
      "model_module": "@jupyter-widgets/base",
      "model_module_version": "1.2.0",
      "model_name": "LayoutModel",
      "state": {}
     },
     "699dbe8cec054cfab20b0b2170962a10": {
      "model_module": "@jupyter-widgets/controls",
      "model_module_version": "1.5.0",
      "model_name": "DescriptionStyleModel",
      "state": {
       "description_width": ""
      }
     },
     "69a23059af1645348b8c2cd837b48c3c": {
      "model_module": "@jupyter-widgets/controls",
      "model_module_version": "1.5.0",
      "model_name": "ProgressStyleModel",
      "state": {
       "description_width": "initial"
      }
     },
     "69a851cc196b4942b2ac51092ce0b03c": {
      "model_module": "@jupyter-widgets/controls",
      "model_module_version": "1.5.0",
      "model_name": "HTMLModel",
      "state": {
       "layout": "IPY_MODEL_b62d513d93e14be79113a624e8117e5a",
       "style": "IPY_MODEL_456cd92190684022a14ebc39437f0c03",
       "value": " 50/50 [00:05&lt;00:00,  5.57it/s]"
      }
     },
     "69bc47375ea14fff9a8ff95c1a97637f": {
      "model_module": "@jupyter-widgets/controls",
      "model_module_version": "1.5.0",
      "model_name": "DescriptionStyleModel",
      "state": {
       "description_width": ""
      }
     },
     "69f69305e3794fa18bad8b286d959125": {
      "model_module": "@jupyter-widgets/base",
      "model_module_version": "1.2.0",
      "model_name": "LayoutModel",
      "state": {}
     },
     "6a356e1cacf446e486492647be26713d": {
      "model_module": "@jupyter-widgets/base",
      "model_module_version": "1.2.0",
      "model_name": "LayoutModel",
      "state": {}
     },
     "6a8e3066f8ca44bab94b9e1b8e91aadf": {
      "model_module": "@jupyter-widgets/controls",
      "model_module_version": "1.5.0",
      "model_name": "DescriptionStyleModel",
      "state": {
       "description_width": ""
      }
     },
     "6a91369a8e734941a0e7ef3be1959f38": {
      "model_module": "@jupyter-widgets/base",
      "model_module_version": "1.2.0",
      "model_name": "LayoutModel",
      "state": {}
     },
     "6ac9aaea41c24822bc3c3059b0925b2e": {
      "model_module": "@jupyter-widgets/base",
      "model_module_version": "1.2.0",
      "model_name": "LayoutModel",
      "state": {}
     },
     "6ae3ba7f996248d293a87f9268db4983": {
      "model_module": "@jupyter-widgets/base",
      "model_module_version": "1.2.0",
      "model_name": "LayoutModel",
      "state": {}
     },
     "6ba60be984964d9ab1565340f79a4684": {
      "model_module": "@jupyter-widgets/controls",
      "model_module_version": "1.5.0",
      "model_name": "ProgressStyleModel",
      "state": {
       "description_width": "initial"
      }
     },
     "6bbce014c08646f39d0e804e1fec8cd4": {
      "model_module": "@jupyter-widgets/controls",
      "model_module_version": "1.5.0",
      "model_name": "HTMLModel",
      "state": {
       "layout": "IPY_MODEL_076656ed642e4c888676db1cbcbadd9e",
       "style": "IPY_MODEL_06c80ac982ca406bbc35ad489a60309e",
       "value": " 7/10 [03:40&lt;01:22, 27.50s/it]"
      }
     },
     "6bc4f38428964350aa7ef2def070c01d": {
      "model_module": "@jupyter-widgets/base",
      "model_module_version": "1.2.0",
      "model_name": "LayoutModel",
      "state": {}
     },
     "6bcd8e698c3942c7bbfd59c885e1cf33": {
      "model_module": "@jupyter-widgets/base",
      "model_module_version": "1.2.0",
      "model_name": "LayoutModel",
      "state": {}
     },
     "6bfa7299bcf84a9eb1811b8c90d7a293": {
      "model_module": "@jupyter-widgets/controls",
      "model_module_version": "1.5.0",
      "model_name": "HTMLModel",
      "state": {
       "layout": "IPY_MODEL_65058ae293fa48fcbca393a7ca5980cb",
       "style": "IPY_MODEL_a39c837aca2247239ad6f5103d4adb41",
       "value": " 22/22 [00:00&lt;00:00, 181.44it/s]"
      }
     },
     "6c26899612ed40e4897169d8bc9fc610": {
      "model_module": "@jupyter-widgets/base",
      "model_module_version": "1.2.0",
      "model_name": "LayoutModel",
      "state": {}
     },
     "6c6860acd883421b848835b2bf4aa214": {
      "model_module": "@jupyter-widgets/controls",
      "model_module_version": "1.5.0",
      "model_name": "FloatProgressModel",
      "state": {
       "description": "val loss: 0.1120: 100%",
       "layout": "IPY_MODEL_35a0f7e79bf94002bec90cb64c7eb206",
       "max": 6,
       "style": "IPY_MODEL_53229291681c4945aa60226f0228f8ca",
       "value": 6
      }
     },
     "6cb26a4f4fe74973b830e79ef69671af": {
      "model_module": "@jupyter-widgets/base",
      "model_module_version": "1.2.0",
      "model_name": "LayoutModel",
      "state": {}
     },
     "6cb885af53884c3e86b98f3ebc0e8f03": {
      "model_module": "@jupyter-widgets/base",
      "model_module_version": "1.2.0",
      "model_name": "LayoutModel",
      "state": {}
     },
     "6cca868dd47c4caf84a35e4c50f37b0a": {
      "model_module": "@jupyter-widgets/controls",
      "model_module_version": "1.5.0",
      "model_name": "HTMLModel",
      "state": {
       "layout": "IPY_MODEL_7329224df04843d9aafa30a2d6489aa1",
       "style": "IPY_MODEL_217638e8a86c423a89c7cb7a00fb8125",
       "value": " 22/22 [00:00&lt;00:00, 192.82it/s]"
      }
     },
     "6d004b710ee44913b568839bc151733b": {
      "model_module": "@jupyter-widgets/controls",
      "model_module_version": "1.5.0",
      "model_name": "ProgressStyleModel",
      "state": {
       "description_width": "initial"
      }
     },
     "6d0d8adf057b4473902ae07ff5739a7b": {
      "model_module": "@jupyter-widgets/controls",
      "model_module_version": "1.5.0",
      "model_name": "HTMLModel",
      "state": {
       "layout": "IPY_MODEL_cba95ef14af54431a7e61301235aa9e4",
       "style": "IPY_MODEL_98b2a08a67a447c1aa0a8a66273ce895",
       "value": " 50/50 [00:07&lt;00:00,  3.76it/s]"
      }
     },
     "6d1faab5d28e4489998484493f53ad77": {
      "model_module": "@jupyter-widgets/controls",
      "model_module_version": "1.5.0",
      "model_name": "FloatProgressModel",
      "state": {
       "description": "val loss: 0.0648: 100%",
       "layout": "IPY_MODEL_e591a753ded24940a4d4289d36de89c8",
       "max": 11,
       "style": "IPY_MODEL_fcc1ba97923a4402b26bbc521b317542",
       "value": 11
      }
     },
     "6d992638771b449eb4cca7b266b4d39e": {
      "model_module": "@jupyter-widgets/controls",
      "model_module_version": "1.5.0",
      "model_name": "FloatProgressModel",
      "state": {
       "description": "train loss: 0.0896: 100%",
       "layout": "IPY_MODEL_de7bafb9a9ad47458fde6bddab374152",
       "max": 25,
       "style": "IPY_MODEL_e67ba1b4ce3e4c44b3b9d3b0a759fd73",
       "value": 25
      }
     },
     "6d9d8cdaf24e45bb8d26bef974c03eb4": {
      "model_module": "@jupyter-widgets/base",
      "model_module_version": "1.2.0",
      "model_name": "LayoutModel",
      "state": {}
     },
     "6da2527900df424294172fee19da98de": {
      "model_module": "@jupyter-widgets/controls",
      "model_module_version": "1.5.0",
      "model_name": "FloatProgressModel",
      "state": {
       "description": "train loss: 0.0190: 100%",
       "layout": "IPY_MODEL_7f7a9cd39ff54e2b9f6d8f1e0631b00d",
       "max": 99,
       "style": "IPY_MODEL_86ad58b0135b49b4a1540d1c7b899a27",
       "value": 99
      }
     },
     "6e264be0646e4a3c80c871c20904eac5": {
      "model_module": "@jupyter-widgets/controls",
      "model_module_version": "1.5.0",
      "model_name": "FloatProgressModel",
      "state": {
       "description": "train loss: 0.0210: 100%",
       "layout": "IPY_MODEL_24453e108c404709b82443d5e9bcf770",
       "max": 50,
       "style": "IPY_MODEL_5f64886cf8ad4209b18f74bbdc6bb176",
       "value": 50
      }
     },
     "6e312fe75930402d9c94804e3f33f5d6": {
      "model_module": "@jupyter-widgets/controls",
      "model_module_version": "1.5.0",
      "model_name": "ProgressStyleModel",
      "state": {
       "description_width": "initial"
      }
     },
     "6e361d4d2a9f46e3bcc5b2342ef29df3": {
      "model_module": "@jupyter-widgets/controls",
      "model_module_version": "1.5.0",
      "model_name": "FloatProgressModel",
      "state": {
       "description": "train loss: 0.0151: 100%",
       "layout": "IPY_MODEL_16a91c7a734d466f843c4b6d78860858",
       "max": 99,
       "style": "IPY_MODEL_6ee2f5ed65c84938a26a1fb1e118101d",
       "value": 99
      }
     },
     "6e4bc5e910ba4000967ca3140b4f2c85": {
      "model_module": "@jupyter-widgets/controls",
      "model_module_version": "1.5.0",
      "model_name": "FloatProgressModel",
      "state": {
       "description": "val loss: 0.3153: 100%",
       "layout": "IPY_MODEL_32d2fc6f2eb84177a9eda36c67372865",
       "max": 11,
       "style": "IPY_MODEL_2b23988955d34121979757cfd61133a6",
       "value": 11
      }
     },
     "6e4d77d01c2443de8265791d5d66e91c": {
      "model_module": "@jupyter-widgets/base",
      "model_module_version": "1.2.0",
      "model_name": "LayoutModel",
      "state": {}
     },
     "6e5e6e8c158743a2aa991c1a9d54dcb0": {
      "model_module": "@jupyter-widgets/controls",
      "model_module_version": "1.5.0",
      "model_name": "ProgressStyleModel",
      "state": {
       "description_width": "initial"
      }
     },
     "6e7be50ea3234f5eb7677ec795dab1a2": {
      "model_module": "@jupyter-widgets/controls",
      "model_module_version": "1.5.0",
      "model_name": "HTMLModel",
      "state": {
       "layout": "IPY_MODEL_69193ac2d2814f99acf7e9dcfddc81f5",
       "style": "IPY_MODEL_159cae83ce844a69af2eba004350f803",
       "value": " 99/99 [00:18&lt;00:00,  2.89it/s]"
      }
     },
     "6e841de374e44874832c0a99068c1758": {
      "model_module": "@jupyter-widgets/base",
      "model_module_version": "1.2.0",
      "model_name": "LayoutModel",
      "state": {}
     },
     "6e8f38a7763b430f9c72ca5af8b0a377": {
      "model_module": "@jupyter-widgets/controls",
      "model_module_version": "1.5.0",
      "model_name": "ProgressStyleModel",
      "state": {
       "description_width": "initial"
      }
     },
     "6e9e6626e871478b9ec7aac282298359": {
      "model_module": "@jupyter-widgets/controls",
      "model_module_version": "1.5.0",
      "model_name": "DescriptionStyleModel",
      "state": {
       "description_width": ""
      }
     },
     "6ebc2c3ad3c64b0392270ae481c97c55": {
      "model_module": "@jupyter-widgets/controls",
      "model_module_version": "1.5.0",
      "model_name": "HTMLModel",
      "state": {
       "layout": "IPY_MODEL_6ec17d0cbc9444468bf4169b778a8329",
       "style": "IPY_MODEL_22604ecfedec4eb7a4fbe6a0414cfe80",
       "value": " 21/21 [00:00&lt;00:00, 247.72it/s]"
      }
     },
     "6ec17d0cbc9444468bf4169b778a8329": {
      "model_module": "@jupyter-widgets/base",
      "model_module_version": "1.2.0",
      "model_name": "LayoutModel",
      "state": {}
     },
     "6edfd5b076214a04a3642d9a06808d73": {
      "model_module": "@jupyter-widgets/base",
      "model_module_version": "1.2.0",
      "model_name": "LayoutModel",
      "state": {}
     },
     "6ee2f5ed65c84938a26a1fb1e118101d": {
      "model_module": "@jupyter-widgets/controls",
      "model_module_version": "1.5.0",
      "model_name": "ProgressStyleModel",
      "state": {
       "description_width": "initial"
      }
     },
     "6f0a66a274984294a8efb60fed51d5cf": {
      "model_module": "@jupyter-widgets/controls",
      "model_module_version": "1.5.0",
      "model_name": "DescriptionStyleModel",
      "state": {
       "description_width": ""
      }
     },
     "6f10107aafff4b498f241a15a6945586": {
      "model_module": "@jupyter-widgets/base",
      "model_module_version": "1.2.0",
      "model_name": "LayoutModel",
      "state": {}
     },
     "6f3c9454f45f4f5992d0c72f1357c3ed": {
      "model_module": "@jupyter-widgets/controls",
      "model_module_version": "1.5.0",
      "model_name": "ProgressStyleModel",
      "state": {
       "description_width": "initial"
      }
     },
     "6f4659317fb441d69ba5b29fa56ce59b": {
      "model_module": "@jupyter-widgets/controls",
      "model_module_version": "1.5.0",
      "model_name": "ProgressStyleModel",
      "state": {
       "description_width": "initial"
      }
     },
     "6f5be129c95f4f3d87c0445c14236129": {
      "model_module": "@jupyter-widgets/base",
      "model_module_version": "1.2.0",
      "model_name": "LayoutModel",
      "state": {}
     },
     "6f7ac4bfd5614bb58016ec897c78b5b5": {
      "model_module": "@jupyter-widgets/controls",
      "model_module_version": "1.5.0",
      "model_name": "ProgressStyleModel",
      "state": {
       "description_width": "initial"
      }
     },
     "6f92af9ab48e4bb780ff2ab92c0e3e52": {
      "model_module": "@jupyter-widgets/base",
      "model_module_version": "1.2.0",
      "model_name": "LayoutModel",
      "state": {}
     },
     "6fa68aa5ae5f492e950cc811d15a32ba": {
      "model_module": "@jupyter-widgets/controls",
      "model_module_version": "1.5.0",
      "model_name": "ProgressStyleModel",
      "state": {
       "description_width": "initial"
      }
     },
     "6fd54218fe9b4117aa33ac6701f08fd3": {
      "model_module": "@jupyter-widgets/base",
      "model_module_version": "1.2.0",
      "model_name": "LayoutModel",
      "state": {}
     },
     "6ff17319a02c44e6bbbc24ae2943eda9": {
      "model_module": "@jupyter-widgets/base",
      "model_module_version": "1.2.0",
      "model_name": "LayoutModel",
      "state": {}
     },
     "701d9122970342f8b386e847663a8545": {
      "model_module": "@jupyter-widgets/base",
      "model_module_version": "1.2.0",
      "model_name": "LayoutModel",
      "state": {}
     },
     "701df1b29bda40cebb826171f0a4da36": {
      "model_module": "@jupyter-widgets/controls",
      "model_module_version": "1.5.0",
      "model_name": "ProgressStyleModel",
      "state": {
       "description_width": "initial"
      }
     },
     "7021263c05df4a78ad7d3dc42b7346e9": {
      "model_module": "@jupyter-widgets/base",
      "model_module_version": "1.2.0",
      "model_name": "LayoutModel",
      "state": {}
     },
     "702b3a7740814a18b6beca51cf992f8e": {
      "model_module": "@jupyter-widgets/base",
      "model_module_version": "1.2.0",
      "model_name": "LayoutModel",
      "state": {}
     },
     "7033fb63b0ac44e8a8087fcaa791edf6": {
      "model_module": "@jupyter-widgets/controls",
      "model_module_version": "1.5.0",
      "model_name": "FloatProgressModel",
      "state": {
       "description": "val loss: 0.0637: 100%",
       "layout": "IPY_MODEL_4fdf21f7699a4143a4f9c38da3feee62",
       "max": 11,
       "style": "IPY_MODEL_5dffb79b0df241f8ab50ff35d5a08ce9",
       "value": 11
      }
     },
     "70370de5baef490e88171b23bea4ad08": {
      "model_module": "@jupyter-widgets/controls",
      "model_module_version": "1.5.0",
      "model_name": "FloatProgressModel",
      "state": {
       "description": "val loss: 0.3271: 100%",
       "layout": "IPY_MODEL_f30acd9f17064f6f8fd7534d9facd112",
       "max": 11,
       "style": "IPY_MODEL_004f8e1a0d6544d985580c215b5a0380",
       "value": 11
      }
     },
     "707a45bc8dab45bcb3532f01be57bc34": {
      "model_module": "@jupyter-widgets/base",
      "model_module_version": "1.2.0",
      "model_name": "LayoutModel",
      "state": {}
     },
     "70cc9daac9a74fca9fa40004ff154bbb": {
      "model_module": "@jupyter-widgets/controls",
      "model_module_version": "1.5.0",
      "model_name": "FloatProgressModel",
      "state": {
       "description": "train loss: 0.0210: 100%",
       "layout": "IPY_MODEL_983d2e19f65a450da87ac4a2579410aa",
       "max": 50,
       "style": "IPY_MODEL_69a23059af1645348b8c2cd837b48c3c",
       "value": 50
      }
     },
     "70f5497a487a4329af3cfe8180249040": {
      "model_module": "@jupyter-widgets/controls",
      "model_module_version": "1.5.0",
      "model_name": "FloatProgressModel",
      "state": {
       "description": "val loss: 0.0577: 100%",
       "layout": "IPY_MODEL_1aeb8ffb641f49dbaae4f2aff9b65f53",
       "max": 21,
       "style": "IPY_MODEL_3c72121454a94cdd90687090806a8d57",
       "value": 21
      }
     },
     "70fa0c9b87604c1eaaaea7e0a1aaff26": {
      "model_module": "@jupyter-widgets/controls",
      "model_module_version": "1.5.0",
      "model_name": "DescriptionStyleModel",
      "state": {
       "description_width": ""
      }
     },
     "710d29f1309147889f4ff9742d4bd67f": {
      "model_module": "@jupyter-widgets/base",
      "model_module_version": "1.2.0",
      "model_name": "LayoutModel",
      "state": {}
     },
     "71196f24a33a4b6a966b4e05df3e10ae": {
      "model_module": "@jupyter-widgets/base",
      "model_module_version": "1.2.0",
      "model_name": "LayoutModel",
      "state": {}
     },
     "71c73471108f4d6b8cea6d6c3b22d846": {
      "model_module": "@jupyter-widgets/controls",
      "model_module_version": "1.5.0",
      "model_name": "FloatProgressModel",
      "state": {
       "description": "train loss: 0.1450: 100%",
       "layout": "IPY_MODEL_71ebebcfd7a04ea3a842503e0633956f",
       "max": 50,
       "style": "IPY_MODEL_8b4cd817bc1e4821a49d1ecc7faa5ba4",
       "value": 50
      }
     },
     "71cce58d2c984838881fedf5ce4a02cd": {
      "model_module": "@jupyter-widgets/controls",
      "model_module_version": "1.5.0",
      "model_name": "DescriptionStyleModel",
      "state": {
       "description_width": ""
      }
     },
     "71d85a7e751f45a9a6da9e823dc4b239": {
      "model_module": "@jupyter-widgets/base",
      "model_module_version": "1.2.0",
      "model_name": "LayoutModel",
      "state": {}
     },
     "71ebebcfd7a04ea3a842503e0633956f": {
      "model_module": "@jupyter-widgets/base",
      "model_module_version": "1.2.0",
      "model_name": "LayoutModel",
      "state": {}
     },
     "720188ede06d4313afc505fb40099723": {
      "model_module": "@jupyter-widgets/controls",
      "model_module_version": "1.5.0",
      "model_name": "FloatProgressModel",
      "state": {
       "description": "train loss: 0.0034: 100%",
       "layout": "IPY_MODEL_d2d0502b8ac14d15b4fcc433dcd97a96",
       "max": 99,
       "style": "IPY_MODEL_a354f5ae51474b1fb1a9436f6e49e5b2",
       "value": 99
      }
     },
     "7214b57c9ed941c0a98e4a397158c7c0": {
      "model_module": "@jupyter-widgets/controls",
      "model_module_version": "1.5.0",
      "model_name": "FloatProgressModel",
      "state": {
       "description": "train loss: 0.0048: 100%",
       "layout": "IPY_MODEL_db7ab5e6a5ad439cb71e244e341a59b7",
       "max": 99,
       "style": "IPY_MODEL_3b2fe04cd1ee48ea91f06a1878b13c02",
       "value": 99
      }
     },
     "7226a62eecb241f78df5af529b68a65f": {
      "model_module": "@jupyter-widgets/controls",
      "model_module_version": "1.5.0",
      "model_name": "ProgressStyleModel",
      "state": {
       "description_width": "initial"
      }
     },
     "724598f5649a40ff900331eb0e35fbc1": {
      "model_module": "@jupyter-widgets/base",
      "model_module_version": "1.2.0",
      "model_name": "LayoutModel",
      "state": {}
     },
     "7267a4aad4d64e0787138373c56acd6c": {
      "model_module": "@jupyter-widgets/controls",
      "model_module_version": "1.5.0",
      "model_name": "ProgressStyleModel",
      "state": {
       "description_width": "initial"
      }
     },
     "729f2b2283da428eb47419533074e47f": {
      "model_module": "@jupyter-widgets/controls",
      "model_module_version": "1.5.0",
      "model_name": "ProgressStyleModel",
      "state": {
       "description_width": "initial"
      }
     },
     "72a131e127b341ce9bc9bfb18816cab1": {
      "model_module": "@jupyter-widgets/base",
      "model_module_version": "1.2.0",
      "model_name": "LayoutModel",
      "state": {}
     },
     "72dd0ad677254c67aaef55ebc3ecf03e": {
      "model_module": "@jupyter-widgets/controls",
      "model_module_version": "1.5.0",
      "model_name": "FloatProgressModel",
      "state": {
       "description": "train loss: 0.3611: 100%",
       "layout": "IPY_MODEL_75ae59dc66dc454aa6bf01bc867c7660",
       "max": 50,
       "style": "IPY_MODEL_63d519a43fa94fe2a3e0a7a49920ff51",
       "value": 50
      }
     },
     "72f4982e309f40908373cfff4a059ab2": {
      "model_module": "@jupyter-widgets/controls",
      "model_module_version": "1.5.0",
      "model_name": "FloatProgressModel",
      "state": {
       "description": "train loss: 0.4966: 100%",
       "layout": "IPY_MODEL_dbcfe29807944bf9a04905acf8b9073a",
       "max": 99,
       "style": "IPY_MODEL_f27e8ecf8b5a45d3937116ac32742c10",
       "value": 99
      }
     },
     "73163633db9746ee972f17691d4f09a9": {
      "model_module": "@jupyter-widgets/base",
      "model_module_version": "1.2.0",
      "model_name": "LayoutModel",
      "state": {}
     },
     "7319fb575fc44acbb98ea2c0d17c430c": {
      "model_module": "@jupyter-widgets/controls",
      "model_module_version": "1.5.0",
      "model_name": "HTMLModel",
      "state": {
       "layout": "IPY_MODEL_fed3cf7e7f884d69a371d87860f9b115",
       "style": "IPY_MODEL_85176de452ea47438ced8287db59e4e3",
       "value": " 22/22 [00:00&lt;00:00, 202.41it/s]"
      }
     },
     "731bc173b9c34ea887cd55d774688574": {
      "model_module": "@jupyter-widgets/controls",
      "model_module_version": "1.5.0",
      "model_name": "DescriptionStyleModel",
      "state": {
       "description_width": ""
      }
     },
     "7329224df04843d9aafa30a2d6489aa1": {
      "model_module": "@jupyter-widgets/base",
      "model_module_version": "1.2.0",
      "model_name": "LayoutModel",
      "state": {}
     },
     "7340991f666a4be5a90087a84e98a68e": {
      "model_module": "@jupyter-widgets/controls",
      "model_module_version": "1.5.0",
      "model_name": "ProgressStyleModel",
      "state": {
       "description_width": "initial"
      }
     },
     "73f2d379549b4569a0c43eb4e5e8d4b1": {
      "model_module": "@jupyter-widgets/base",
      "model_module_version": "1.2.0",
      "model_name": "LayoutModel",
      "state": {}
     },
     "73f40805d8bb478cb0ceef31a56c574a": {
      "model_module": "@jupyter-widgets/controls",
      "model_module_version": "1.5.0",
      "model_name": "HTMLModel",
      "state": {
       "layout": "IPY_MODEL_4a215a3659814511821e5403f970357b",
       "style": "IPY_MODEL_feb333dfb4cc4ea296813790b2f0361c",
       "value": " 50/50 [00:07&lt;00:00,  3.71it/s]"
      }
     },
     "741a7ac5982840a29a640da04dd9afbc": {
      "model_module": "@jupyter-widgets/base",
      "model_module_version": "1.2.0",
      "model_name": "LayoutModel",
      "state": {}
     },
     "744671326ee8467f91c4f6cf51da9126": {
      "model_module": "@jupyter-widgets/controls",
      "model_module_version": "1.5.0",
      "model_name": "FloatProgressModel",
      "state": {
       "description": "train loss: 0.2993: 100%",
       "layout": "IPY_MODEL_47ea5f23e95a4ec59e8a04b0fe1b7d56",
       "max": 50,
       "style": "IPY_MODEL_6fa68aa5ae5f492e950cc811d15a32ba",
       "value": 50
      }
     },
     "746b020646554e43a66d3037f36cb29f": {
      "model_module": "@jupyter-widgets/controls",
      "model_module_version": "1.5.0",
      "model_name": "HTMLModel",
      "state": {
       "layout": "IPY_MODEL_8839ce7fe6a24ad7a84f76da93145c24",
       "style": "IPY_MODEL_f6c2b1f6fd32479ca277cd2034843d32",
       "value": " 11/11 [00:00&lt;00:00, 137.82it/s]"
      }
     },
     "74717a64bab44e50b992b9f4a2c20f51": {
      "model_module": "@jupyter-widgets/controls",
      "model_module_version": "1.5.0",
      "model_name": "DescriptionStyleModel",
      "state": {
       "description_width": ""
      }
     },
     "74bbb396b7354a1bbb877f495434c21a": {
      "model_module": "@jupyter-widgets/controls",
      "model_module_version": "1.5.0",
      "model_name": "FloatProgressModel",
      "state": {
       "description": "val loss: 0.4179: 100%",
       "layout": "IPY_MODEL_f4a2bdb1e65c44d29b474330c6e72ec1",
       "max": 11,
       "style": "IPY_MODEL_ce0dd9c95b354b4fa4cb87613d8183ea",
       "value": 11
      }
     },
     "74d95e2a119d4630842d680e342f2623": {
      "model_module": "@jupyter-widgets/base",
      "model_module_version": "1.2.0",
      "model_name": "LayoutModel",
      "state": {}
     },
     "74f8a05d12584c8d9dd6825d57e22401": {
      "model_module": "@jupyter-widgets/base",
      "model_module_version": "1.2.0",
      "model_name": "LayoutModel",
      "state": {}
     },
     "7528486101bb4228a9dc428cc745a1a7": {
      "model_module": "@jupyter-widgets/controls",
      "model_module_version": "1.5.0",
      "model_name": "FloatProgressModel",
      "state": {
       "description": "val loss: 0.0639: 100%",
       "layout": "IPY_MODEL_b58f9d8fce514170b9510c7b664654b0",
       "max": 11,
       "style": "IPY_MODEL_29cea89cb8154033a413425dfce50bf3",
       "value": 11
      }
     },
     "75355ba39d6145658a24567cb7779b1a": {
      "model_module": "@jupyter-widgets/controls",
      "model_module_version": "1.5.0",
      "model_name": "DescriptionStyleModel",
      "state": {
       "description_width": ""
      }
     },
     "7541320e6bc7445ca0e12690f187af81": {
      "model_module": "@jupyter-widgets/controls",
      "model_module_version": "1.5.0",
      "model_name": "FloatProgressModel",
      "state": {
       "bar_style": "success",
       "description": "Train Loss: 0.0554 - Val Loss: 0.1079: 100%",
       "layout": "IPY_MODEL_1b81ca614a794b3c8586cf3d907609f1",
       "max": 10,
       "style": "IPY_MODEL_0bc7833e05db4b479762c070793bd11e",
       "value": 10
      }
     },
     "755ba116d89d4e8ab0d3f6bf180589f9": {
      "model_module": "@jupyter-widgets/controls",
      "model_module_version": "1.5.0",
      "model_name": "HTMLModel",
      "state": {
       "layout": "IPY_MODEL_661e7ddbd0e746148e1f6ef9528fde37",
       "style": "IPY_MODEL_79db5f316bf34df18ea878ce5ee5a68f",
       "value": " 22/22 [00:00&lt;00:00, 144.61it/s]"
      }
     },
     "75906f6c750349848db1bfe58c18ec9d": {
      "model_module": "@jupyter-widgets/controls",
      "model_module_version": "1.5.0",
      "model_name": "DescriptionStyleModel",
      "state": {
       "description_width": ""
      }
     },
     "759caf68e30d41b9b6ebb8ed993f4e33": {
      "model_module": "@jupyter-widgets/controls",
      "model_module_version": "1.5.0",
      "model_name": "ProgressStyleModel",
      "state": {
       "description_width": "initial"
      }
     },
     "75ae59dc66dc454aa6bf01bc867c7660": {
      "model_module": "@jupyter-widgets/base",
      "model_module_version": "1.2.0",
      "model_name": "LayoutModel",
      "state": {}
     },
     "75d4071e173b4915a5c830d5dd2a21bf": {
      "model_module": "@jupyter-widgets/controls",
      "model_module_version": "1.5.0",
      "model_name": "ProgressStyleModel",
      "state": {
       "description_width": "initial"
      }
     },
     "76019e66f2d14d728b362c14ce2c447d": {
      "model_module": "@jupyter-widgets/base",
      "model_module_version": "1.2.0",
      "model_name": "LayoutModel",
      "state": {}
     },
     "760ee58a3cab4fad864981664b82fe31": {
      "model_module": "@jupyter-widgets/controls",
      "model_module_version": "1.5.0",
      "model_name": "ProgressStyleModel",
      "state": {
       "description_width": "initial"
      }
     },
     "76253f2277cf43938320963cdee491c8": {
      "model_module": "@jupyter-widgets/base",
      "model_module_version": "1.2.0",
      "model_name": "LayoutModel",
      "state": {}
     },
     "7637df83ea074f02b2c7c1634ac5d6f4": {
      "model_module": "@jupyter-widgets/base",
      "model_module_version": "1.2.0",
      "model_name": "LayoutModel",
      "state": {}
     },
     "763a4ca8931d4572a965889740508d4d": {
      "model_module": "@jupyter-widgets/controls",
      "model_module_version": "1.5.0",
      "model_name": "HBoxModel",
      "state": {
       "children": [
        "IPY_MODEL_2e5662d8f10d4e8b9fa9ab74a6955691",
        "IPY_MODEL_dbd8a46f730f40988d8d3d35fa108de3"
       ],
       "layout": "IPY_MODEL_72a131e127b341ce9bc9bfb18816cab1"
      }
     },
     "76539ddeac3745c2bc3d07d65f5a334c": {
      "model_module": "@jupyter-widgets/base",
      "model_module_version": "1.2.0",
      "model_name": "LayoutModel",
      "state": {}
     },
     "7681f3e3e28946ed93cd9038c0dbf4ed": {
      "model_module": "@jupyter-widgets/base",
      "model_module_version": "1.2.0",
      "model_name": "LayoutModel",
      "state": {}
     },
     "76a28d76ffe447068e09c6a928b11546": {
      "model_module": "@jupyter-widgets/controls",
      "model_module_version": "1.5.0",
      "model_name": "HTMLModel",
      "state": {
       "layout": "IPY_MODEL_d96c6ee9e8f546d4b47a290a23505bcf",
       "style": "IPY_MODEL_9da2ac60f07c4ae8841b49ae51e55b54",
       "value": " 50/50 [00:07&lt;00:00,  3.66it/s]"
      }
     },
     "76bb3913e70b44e3a0b211554563f653": {
      "model_module": "@jupyter-widgets/base",
      "model_module_version": "1.2.0",
      "model_name": "LayoutModel",
      "state": {}
     },
     "76ed07d7ebe64d4db157bcfcfe443f64": {
      "model_module": "@jupyter-widgets/base",
      "model_module_version": "1.2.0",
      "model_name": "LayoutModel",
      "state": {}
     },
     "7780fcd7c075402e91f421d7373469f6": {
      "model_module": "@jupyter-widgets/base",
      "model_module_version": "1.2.0",
      "model_name": "LayoutModel",
      "state": {}
     },
     "77986442cd2042dfb4a7252885c6ace8": {
      "model_module": "@jupyter-widgets/base",
      "model_module_version": "1.2.0",
      "model_name": "LayoutModel",
      "state": {}
     },
     "77ca578ef1ae4fa0a11e372b00c25ca1": {
      "model_module": "@jupyter-widgets/controls",
      "model_module_version": "1.5.0",
      "model_name": "HTMLModel",
      "state": {
       "layout": "IPY_MODEL_49231cb048bc4bd5944c7ac4c6ec3e0e",
       "style": "IPY_MODEL_00d87659a3d747d1a19550e98a164169",
       "value": " 22/22 [00:00&lt;00:00, 178.69it/s]"
      }
     },
     "77e74d9ad970457c95819a8f50723370": {
      "model_module": "@jupyter-widgets/controls",
      "model_module_version": "1.5.0",
      "model_name": "DescriptionStyleModel",
      "state": {
       "description_width": ""
      }
     },
     "77eadeb593a149e4b6c3a125ab42f73b": {
      "model_module": "@jupyter-widgets/base",
      "model_module_version": "1.2.0",
      "model_name": "LayoutModel",
      "state": {}
     },
     "7817b03acbba41199b18113f4e4c6566": {
      "model_module": "@jupyter-widgets/controls",
      "model_module_version": "1.5.0",
      "model_name": "ProgressStyleModel",
      "state": {
       "description_width": "initial"
      }
     },
     "783ff8f99a0940d39303c4d42a8afcd8": {
      "model_module": "@jupyter-widgets/base",
      "model_module_version": "1.2.0",
      "model_name": "LayoutModel",
      "state": {}
     },
     "7843dedd50da4190a02d763a954e9553": {
      "model_module": "@jupyter-widgets/controls",
      "model_module_version": "1.5.0",
      "model_name": "DescriptionStyleModel",
      "state": {
       "description_width": ""
      }
     },
     "7872c09325ce4d3d92811d41df1f562a": {
      "model_module": "@jupyter-widgets/base",
      "model_module_version": "1.2.0",
      "model_name": "LayoutModel",
      "state": {}
     },
     "78907cae66d64c4ab34e05143341c2d3": {
      "model_module": "@jupyter-widgets/controls",
      "model_module_version": "1.5.0",
      "model_name": "FloatProgressModel",
      "state": {
       "description": "train loss: 0.6401: 100%",
       "layout": "IPY_MODEL_360c1127167d439a8da1661f27471202",
       "max": 50,
       "style": "IPY_MODEL_0dde3ef3f49b4b78a8bf4f525cc5a0ed",
       "value": 50
      }
     },
     "78f916242b174b1ab937fca66ba1a435": {
      "model_module": "@jupyter-widgets/base",
      "model_module_version": "1.2.0",
      "model_name": "LayoutModel",
      "state": {}
     },
     "7907df214e3044bcae6d0ca379546b86": {
      "model_module": "@jupyter-widgets/controls",
      "model_module_version": "1.5.0",
      "model_name": "FloatProgressModel",
      "state": {
       "description": "train loss: 0.0310: 100%",
       "layout": "IPY_MODEL_b145e8c9c37042cab938b3deecc63bd4",
       "max": 50,
       "style": "IPY_MODEL_6547d3c4e8784e0a81d58b5e1f485810",
       "value": 50
      }
     },
     "7915c71c537e4ca6bfae21778c556632": {
      "model_module": "@jupyter-widgets/controls",
      "model_module_version": "1.5.0",
      "model_name": "HTMLModel",
      "state": {
       "layout": "IPY_MODEL_f3b2a91860c64ab089a27ab66ccc6daa",
       "style": "IPY_MODEL_4d4f317959af4e95abd0ff9aab8f2766",
       "value": " 25/25 [00:00&lt;00:00, 73.91it/s]"
      }
     },
     "793d918c1afc40c8936b976eeb11e738": {
      "model_module": "@jupyter-widgets/base",
      "model_module_version": "1.2.0",
      "model_name": "LayoutModel",
      "state": {}
     },
     "7989376cbf394ce0a9be99d85051b8d1": {
      "model_module": "@jupyter-widgets/controls",
      "model_module_version": "1.5.0",
      "model_name": "FloatProgressModel",
      "state": {
       "description": "train loss: 0.0124: 100%",
       "layout": "IPY_MODEL_e5aa2c36995848dd9cde00076ae46857",
       "max": 99,
       "style": "IPY_MODEL_f5a64b32506a48bab2d49388b21d855a",
       "value": 99
      }
     },
     "79926f7c999a447f97c1c5ace3ecd569": {
      "model_module": "@jupyter-widgets/base",
      "model_module_version": "1.2.0",
      "model_name": "LayoutModel",
      "state": {}
     },
     "79a3068c13b5495eae42d87bf4811724": {
      "model_module": "@jupyter-widgets/controls",
      "model_module_version": "1.5.0",
      "model_name": "DescriptionStyleModel",
      "state": {
       "description_width": ""
      }
     },
     "79c1d2eba69a4670ac5a48d9246a0b31": {
      "model_module": "@jupyter-widgets/base",
      "model_module_version": "1.2.0",
      "model_name": "LayoutModel",
      "state": {}
     },
     "79c89b76ac5a4a0096ab28fe1bc8fcb5": {
      "model_module": "@jupyter-widgets/controls",
      "model_module_version": "1.5.0",
      "model_name": "DescriptionStyleModel",
      "state": {
       "description_width": ""
      }
     },
     "79db5f316bf34df18ea878ce5ee5a68f": {
      "model_module": "@jupyter-widgets/controls",
      "model_module_version": "1.5.0",
      "model_name": "DescriptionStyleModel",
      "state": {
       "description_width": ""
      }
     },
     "79f2a2eee7b94af080de12dd8ca6450e": {
      "model_module": "@jupyter-widgets/controls",
      "model_module_version": "1.5.0",
      "model_name": "DescriptionStyleModel",
      "state": {
       "description_width": ""
      }
     },
     "7a1faef020b649f5a0fb11cf861e280e": {
      "model_module": "@jupyter-widgets/controls",
      "model_module_version": "1.5.0",
      "model_name": "FloatProgressModel",
      "state": {
       "description": "val loss: 0.0676: 100%",
       "layout": "IPY_MODEL_caf01583b7cf4843b86cc16fd04497ad",
       "max": 21,
       "style": "IPY_MODEL_5daca54121d64d1385214b90c4a6bbcd",
       "value": 21
      }
     },
     "7a512fade9e14544ba092b0ffe50d9da": {
      "model_module": "@jupyter-widgets/controls",
      "model_module_version": "1.5.0",
      "model_name": "FloatProgressModel",
      "state": {
       "description": "train loss: 0.0160: 100%",
       "layout": "IPY_MODEL_6bc4f38428964350aa7ef2def070c01d",
       "max": 50,
       "style": "IPY_MODEL_da15ec37e1dd47159cf211910e5a2ad5",
       "value": 50
      }
     },
     "7ade6111f32f4c12afaab502a31d0549": {
      "model_module": "@jupyter-widgets/controls",
      "model_module_version": "1.5.0",
      "model_name": "HTMLModel",
      "state": {
       "layout": "IPY_MODEL_0409deb1befa40b5ba6a38031eaef764",
       "style": "IPY_MODEL_49d91f733a914692b93a506954a2e489",
       "value": " 50/50 [00:00&lt;00:00, 90.53it/s]"
      }
     },
     "7afaf2ca4ea74fa683825cb7e40adb39": {
      "model_module": "@jupyter-widgets/controls",
      "model_module_version": "1.5.0",
      "model_name": "FloatProgressModel",
      "state": {
       "description": "train loss: 0.5688: 100%",
       "layout": "IPY_MODEL_b32a36befc1c4f3ab181bc0549e315f6",
       "max": 50,
       "style": "IPY_MODEL_3d1cd9be3773487fa772274c7fbe4e48",
       "value": 50
      }
     },
     "7b0a65e7d799443c83d418290dd2db21": {
      "model_module": "@jupyter-widgets/controls",
      "model_module_version": "1.5.0",
      "model_name": "ProgressStyleModel",
      "state": {
       "description_width": "initial"
      }
     },
     "7b1140764e70481897905550a8f512f2": {
      "model_module": "@jupyter-widgets/controls",
      "model_module_version": "1.5.0",
      "model_name": "DescriptionStyleModel",
      "state": {
       "description_width": ""
      }
     },
     "7b13f1f6050c4c8492022c1a64aaa22d": {
      "model_module": "@jupyter-widgets/base",
      "model_module_version": "1.2.0",
      "model_name": "LayoutModel",
      "state": {}
     },
     "7b17c1e0864d43089d6dfb679d5ba990": {
      "model_module": "@jupyter-widgets/controls",
      "model_module_version": "1.5.0",
      "model_name": "HTMLModel",
      "state": {
       "layout": "IPY_MODEL_8319f6bc203b44ac8462d110a6c37e83",
       "style": "IPY_MODEL_8932bf4f87e547fdb6b0bb5a2a6811f6",
       "value": " 50/50 [00:05&lt;00:00,  5.49it/s]"
      }
     },
     "7ba9509b0ea74a26a0596ec215be3343": {
      "model_module": "@jupyter-widgets/base",
      "model_module_version": "1.2.0",
      "model_name": "LayoutModel",
      "state": {}
     },
     "7bdaf55a7dff42c686abcc9cbabdd238": {
      "model_module": "@jupyter-widgets/controls",
      "model_module_version": "1.5.0",
      "model_name": "HTMLModel",
      "state": {
       "layout": "IPY_MODEL_d6ab9a1488e4400c803436416e4795ac",
       "style": "IPY_MODEL_6f0a66a274984294a8efb60fed51d5cf",
       "value": " 99/99 [00:18&lt;00:00,  2.88it/s]"
      }
     },
     "7bf2c77de5b34ec9b87efc2ecf24c155": {
      "model_module": "@jupyter-widgets/base",
      "model_module_version": "1.2.0",
      "model_name": "LayoutModel",
      "state": {}
     },
     "7c1db1e5f584482db1543aa066b9e1a5": {
      "model_module": "@jupyter-widgets/controls",
      "model_module_version": "1.5.0",
      "model_name": "ProgressStyleModel",
      "state": {
       "description_width": "initial"
      }
     },
     "7c366a095ac9431faa46a790ba7c6e7c": {
      "model_module": "@jupyter-widgets/base",
      "model_module_version": "1.2.0",
      "model_name": "LayoutModel",
      "state": {}
     },
     "7cb6f636d1da472188ed42223734c04f": {
      "model_module": "@jupyter-widgets/controls",
      "model_module_version": "1.5.0",
      "model_name": "ProgressStyleModel",
      "state": {
       "description_width": "initial"
      }
     },
     "7ce3b2f465fd4abd9b04d2c6ec05ab4c": {
      "model_module": "@jupyter-widgets/base",
      "model_module_version": "1.2.0",
      "model_name": "LayoutModel",
      "state": {}
     },
     "7d2a13136e2c4f11a962900e3e497fce": {
      "model_module": "@jupyter-widgets/base",
      "model_module_version": "1.2.0",
      "model_name": "LayoutModel",
      "state": {}
     },
     "7d4e58b4f9554b01960de5dbaa3d242a": {
      "model_module": "@jupyter-widgets/controls",
      "model_module_version": "1.5.0",
      "model_name": "HTMLModel",
      "state": {
       "layout": "IPY_MODEL_8957f3291d7b4317a42b4c9ca78057aa",
       "style": "IPY_MODEL_33be5898b7174ef995b7fb83240ae290",
       "value": " 21/21 [00:00&lt;00:00, 247.71it/s]"
      }
     },
     "7d7b790c8d3f451789273fc5bf1c9777": {
      "model_module": "@jupyter-widgets/controls",
      "model_module_version": "1.5.0",
      "model_name": "ProgressStyleModel",
      "state": {
       "description_width": "initial"
      }
     },
     "7dfba0f6cacd4d3a974d63571cf6be5a": {
      "model_module": "@jupyter-widgets/base",
      "model_module_version": "1.2.0",
      "model_name": "LayoutModel",
      "state": {}
     },
     "7e37bce229be4e0086b12bda9ca44a28": {
      "model_module": "@jupyter-widgets/controls",
      "model_module_version": "1.5.0",
      "model_name": "ProgressStyleModel",
      "state": {
       "description_width": "initial"
      }
     },
     "7e40ed0368c24b0d896d5f4974a61cf1": {
      "model_module": "@jupyter-widgets/base",
      "model_module_version": "1.2.0",
      "model_name": "LayoutModel",
      "state": {}
     },
     "7e43481e803e46119cb7683abb935eed": {
      "model_module": "@jupyter-widgets/controls",
      "model_module_version": "1.5.0",
      "model_name": "HTMLModel",
      "state": {
       "layout": "IPY_MODEL_3667fbe5b9ff406ab9669af9d84a7604",
       "style": "IPY_MODEL_a703caa36f554a7ebf367f615656945e",
       "value": " 21/21 [00:00&lt;00:00, 256.79it/s]"
      }
     },
     "7e5b80cf7ea046cb91169c894c07c770": {
      "model_module": "@jupyter-widgets/controls",
      "model_module_version": "1.5.0",
      "model_name": "HTMLModel",
      "state": {
       "layout": "IPY_MODEL_629d77ffef544c78a6c18db35b7812f7",
       "style": "IPY_MODEL_cb0ff10547154aea93b5f8436778a8b5",
       "value": " 8/10 [21:29&lt;05:22, 161.15s/it]"
      }
     },
     "7e89122070404e60887270ca69ff4a41": {
      "model_module": "@jupyter-widgets/controls",
      "model_module_version": "1.5.0",
      "model_name": "ProgressStyleModel",
      "state": {
       "description_width": "initial"
      }
     },
     "7ea9e3435330462a933443fb8f3c18b0": {
      "model_module": "@jupyter-widgets/controls",
      "model_module_version": "1.5.0",
      "model_name": "ProgressStyleModel",
      "state": {
       "description_width": "initial"
      }
     },
     "7eb1619fba0244969a89e47ed4c0c3d2": {
      "model_module": "@jupyter-widgets/controls",
      "model_module_version": "1.5.0",
      "model_name": "HTMLModel",
      "state": {
       "layout": "IPY_MODEL_2d37942d87cf424caf2051028aae1afd",
       "style": "IPY_MODEL_cfdadfc2bfd44b8a9a8882572592fb86",
       "value": " 11/11 [00:00&lt;00:00, 136.17it/s]"
      }
     },
     "7ec53471e90742ce969a8a2fc7bc5dc0": {
      "model_module": "@jupyter-widgets/base",
      "model_module_version": "1.2.0",
      "model_name": "LayoutModel",
      "state": {}
     },
     "7ed06d600c4541c48354896a1b88d70d": {
      "model_module": "@jupyter-widgets/controls",
      "model_module_version": "1.5.0",
      "model_name": "FloatProgressModel",
      "state": {
       "description": "train loss: 0.0173: 100%",
       "layout": "IPY_MODEL_c3e6b53b92d543449d17b917632d8c17",
       "max": 99,
       "style": "IPY_MODEL_fbe7b979612b4228a6cf7e501d5604a4",
       "value": 99
      }
     },
     "7ef3159c3b9c4762b2f6301a0b7f4df5": {
      "model_module": "@jupyter-widgets/controls",
      "model_module_version": "1.5.0",
      "model_name": "HTMLModel",
      "state": {
       "layout": "IPY_MODEL_62c3e491e17e4395b98befffc0b5a0b8",
       "style": "IPY_MODEL_48553e5a7ee34bb4bee9bca75c25e811",
       "value": " 6/6 [00:00&lt;00:00, 139.82it/s]"
      }
     },
     "7f4964b8d20d4bbeba3c645488d963f4": {
      "model_module": "@jupyter-widgets/controls",
      "model_module_version": "1.5.0",
      "model_name": "HTMLModel",
      "state": {
       "layout": "IPY_MODEL_9342212aa20b46b6b18d43e153d1a681",
       "style": "IPY_MODEL_30c0026c5b4048c18e0b7060d1142a69",
       "value": " 21/21 [00:00&lt;00:00, 233.96it/s]"
      }
     },
     "7f76b51d17ae455abc4b9e73a64f130a": {
      "model_module": "@jupyter-widgets/base",
      "model_module_version": "1.2.0",
      "model_name": "LayoutModel",
      "state": {}
     },
     "7f7a9cd39ff54e2b9f6d8f1e0631b00d": {
      "model_module": "@jupyter-widgets/base",
      "model_module_version": "1.2.0",
      "model_name": "LayoutModel",
      "state": {}
     },
     "7f905ddfc1354516922282d9e2f42f85": {
      "model_module": "@jupyter-widgets/base",
      "model_module_version": "1.2.0",
      "model_name": "LayoutModel",
      "state": {}
     },
     "7f913f4e6f734fd1aaba5a2360255a0a": {
      "model_module": "@jupyter-widgets/base",
      "model_module_version": "1.2.0",
      "model_name": "LayoutModel",
      "state": {}
     },
     "7f9d73b58d1e47bab40a0f7904029a4f": {
      "model_module": "@jupyter-widgets/controls",
      "model_module_version": "1.5.0",
      "model_name": "HTMLModel",
      "state": {
       "layout": "IPY_MODEL_06bf1bcfe7ef418f81006e33098890fe",
       "style": "IPY_MODEL_74717a64bab44e50b992b9f4a2c20f51",
       "value": " 99/99 [00:00&lt;00:00, 107.13it/s]"
      }
     },
     "800ddfa9f3824ea8a5670f11c3b1c2d7": {
      "model_module": "@jupyter-widgets/controls",
      "model_module_version": "1.5.0",
      "model_name": "HTMLModel",
      "state": {
       "layout": "IPY_MODEL_f6d6d0d735444ea0aa8619fb197ff5d8",
       "style": "IPY_MODEL_68fd761f7fe647c5ad07ea8943d098e0",
       "value": " 11/11 [00:00&lt;00:00, 136.17it/s]"
      }
     },
     "809ffc82c22447cbb1ee6b39c934c3b8": {
      "model_module": "@jupyter-widgets/base",
      "model_module_version": "1.2.0",
      "model_name": "LayoutModel",
      "state": {}
     },
     "8137c85d4fd14c6bb7b6414d7877f431": {
      "model_module": "@jupyter-widgets/controls",
      "model_module_version": "1.5.0",
      "model_name": "FloatProgressModel",
      "state": {
       "description": "val loss: 0.3016: 100%",
       "layout": "IPY_MODEL_51bf56b0f5824763801a06a78619e12b",
       "max": 11,
       "style": "IPY_MODEL_ff29e5d60a904cb6bf15f023c1872b17",
       "value": 11
      }
     },
     "816951dae75b4d67b6114b12f6ab576d": {
      "model_module": "@jupyter-widgets/base",
      "model_module_version": "1.2.0",
      "model_name": "LayoutModel",
      "state": {}
     },
     "818b56dbb96540968c65acda981e1f50": {
      "model_module": "@jupyter-widgets/controls",
      "model_module_version": "1.5.0",
      "model_name": "ProgressStyleModel",
      "state": {
       "description_width": "initial"
      }
     },
     "81c4ff24622f4862a9fa5383164e3bc4": {
      "model_module": "@jupyter-widgets/base",
      "model_module_version": "1.2.0",
      "model_name": "LayoutModel",
      "state": {}
     },
     "81f18cccf47c4c27955ed6c1259f41fa": {
      "model_module": "@jupyter-widgets/controls",
      "model_module_version": "1.5.0",
      "model_name": "DescriptionStyleModel",
      "state": {
       "description_width": ""
      }
     },
     "81f6fa7df47b4e83b02f80ce8876871e": {
      "model_module": "@jupyter-widgets/base",
      "model_module_version": "1.2.0",
      "model_name": "LayoutModel",
      "state": {}
     },
     "820eb188dc864074bbe87ebafee5ce4f": {
      "model_module": "@jupyter-widgets/base",
      "model_module_version": "1.2.0",
      "model_name": "LayoutModel",
      "state": {}
     },
     "8254a5a2fde343c19167498db8018ad9": {
      "model_module": "@jupyter-widgets/base",
      "model_module_version": "1.2.0",
      "model_name": "LayoutModel",
      "state": {}
     },
     "826c251634d14b05902fb23ba6aeb494": {
      "model_module": "@jupyter-widgets/controls",
      "model_module_version": "1.5.0",
      "model_name": "ProgressStyleModel",
      "state": {
       "description_width": "initial"
      }
     },
     "82a535af0d874a6ea96f1d9c882e3245": {
      "model_module": "@jupyter-widgets/controls",
      "model_module_version": "1.5.0",
      "model_name": "ProgressStyleModel",
      "state": {
       "description_width": "initial"
      }
     },
     "82ab3c340a5243f5b4faaeff1c333b1e": {
      "model_module": "@jupyter-widgets/controls",
      "model_module_version": "1.5.0",
      "model_name": "HBoxModel",
      "state": {
       "children": [
        "IPY_MODEL_f5ebec8520f84c3aac44c4163f20c07a",
        "IPY_MODEL_117ba3aaed184645a8fb08f844f30e7e"
       ],
       "layout": "IPY_MODEL_1c77481d003c414bbbb556e2cff720d1"
      }
     },
     "82ccf81c3506453e91d319c69bd8d530": {
      "model_module": "@jupyter-widgets/base",
      "model_module_version": "1.2.0",
      "model_name": "LayoutModel",
      "state": {}
     },
     "82e15c0698fe4df9bcee2691262458fd": {
      "model_module": "@jupyter-widgets/base",
      "model_module_version": "1.2.0",
      "model_name": "LayoutModel",
      "state": {}
     },
     "82fe29a0f8d4488e9ad6d6cb024c8f89": {
      "model_module": "@jupyter-widgets/controls",
      "model_module_version": "1.5.0",
      "model_name": "ProgressStyleModel",
      "state": {
       "description_width": "initial"
      }
     },
     "8315417fd0a340c3aff4906eb5ec26c2": {
      "model_module": "@jupyter-widgets/controls",
      "model_module_version": "1.5.0",
      "model_name": "HTMLModel",
      "state": {
       "layout": "IPY_MODEL_927569e05bf141e2b322a54e2717ca64",
       "style": "IPY_MODEL_53f17c3bf32a45a48d04497be57d212f",
       "value": " 10/10 [04:07&lt;00:00, 24.77s/it]"
      }
     },
     "8319f6bc203b44ac8462d110a6c37e83": {
      "model_module": "@jupyter-widgets/base",
      "model_module_version": "1.2.0",
      "model_name": "LayoutModel",
      "state": {}
     },
     "83467616fc7d487dba58948d29c3c688": {
      "model_module": "@jupyter-widgets/controls",
      "model_module_version": "1.5.0",
      "model_name": "FloatProgressModel",
      "state": {
       "bar_style": "success",
       "description": "Train Loss: 0.0949 - Val Loss: 0.0892: 100%",
       "layout": "IPY_MODEL_bedc451fe8104ffc84a3e064eb7c4937",
       "max": 10,
       "style": "IPY_MODEL_8fe452d6dd1745f6b45a75b30a17d40c",
       "value": 10
      }
     },
     "8367761241c74f6284be62a1421a3cc4": {
      "model_module": "@jupyter-widgets/controls",
      "model_module_version": "1.5.0",
      "model_name": "FloatProgressModel",
      "state": {
       "description": "val loss: 0.3338: 100%",
       "layout": "IPY_MODEL_87bfdbefc0c640eb9065020a68e646a9",
       "max": 22,
       "style": "IPY_MODEL_3e448d083ff94f48856f95b468e9d48f",
       "value": 22
      }
     },
     "83ee4300eacd428e84d26079eae0d60a": {
      "model_module": "@jupyter-widgets/controls",
      "model_module_version": "1.5.0",
      "model_name": "DescriptionStyleModel",
      "state": {
       "description_width": ""
      }
     },
     "8411840a09234536a098650be8827a56": {
      "model_module": "@jupyter-widgets/controls",
      "model_module_version": "1.5.0",
      "model_name": "ProgressStyleModel",
      "state": {
       "description_width": "initial"
      }
     },
     "84214a2eb4f94f8097fdb36ef3a92f99": {
      "model_module": "@jupyter-widgets/base",
      "model_module_version": "1.2.0",
      "model_name": "LayoutModel",
      "state": {}
     },
     "8455891c16384d9bb8dae24d264ec0bd": {
      "model_module": "@jupyter-widgets/base",
      "model_module_version": "1.2.0",
      "model_name": "LayoutModel",
      "state": {}
     },
     "8491a71c629f400c83a9aafc233a2736": {
      "model_module": "@jupyter-widgets/controls",
      "model_module_version": "1.5.0",
      "model_name": "DescriptionStyleModel",
      "state": {
       "description_width": ""
      }
     },
     "8496e76fed434c808e6c495513744fd8": {
      "model_module": "@jupyter-widgets/base",
      "model_module_version": "1.2.0",
      "model_name": "LayoutModel",
      "state": {}
     },
     "84d54d6eaef54f9d9b976b1d15711ccf": {
      "model_module": "@jupyter-widgets/controls",
      "model_module_version": "1.5.0",
      "model_name": "HTMLModel",
      "state": {
       "layout": "IPY_MODEL_07f1077657bf4082bc48f37fe74ed4c4",
       "style": "IPY_MODEL_313c8734d6b64fba9466fe4b6796ea9d",
       "value": " 11/11 [00:00&lt;00:00, 180.81it/s]"
      }
     },
     "84d9de255f22478cbd26b9ea45b0f7a3": {
      "model_module": "@jupyter-widgets/controls",
      "model_module_version": "1.5.0",
      "model_name": "FloatProgressModel",
      "state": {
       "description": "train loss: 0.4141: 100%",
       "layout": "IPY_MODEL_73f2d379549b4569a0c43eb4e5e8d4b1",
       "max": 99,
       "style": "IPY_MODEL_57a2866436c642b89d53c8d2e5314505",
       "value": 99
      }
     },
     "84e423369f784ae3a714dc47ba534359": {
      "model_module": "@jupyter-widgets/controls",
      "model_module_version": "1.5.0",
      "model_name": "HTMLModel",
      "state": {
       "layout": "IPY_MODEL_1bb5f6e3b3b0495db9668af127681c89",
       "style": "IPY_MODEL_0922994462734a7baff09272720c73b5",
       "value": " 50/50 [00:07&lt;00:00,  3.74it/s]"
      }
     },
     "84e54918a442470ca524ce1ba8f297eb": {
      "model_module": "@jupyter-widgets/base",
      "model_module_version": "1.2.0",
      "model_name": "LayoutModel",
      "state": {}
     },
     "84ffdb676a064cbf9fb5aa8496a46bfb": {
      "model_module": "@jupyter-widgets/base",
      "model_module_version": "1.2.0",
      "model_name": "LayoutModel",
      "state": {}
     },
     "85176de452ea47438ced8287db59e4e3": {
      "model_module": "@jupyter-widgets/controls",
      "model_module_version": "1.5.0",
      "model_name": "DescriptionStyleModel",
      "state": {
       "description_width": ""
      }
     },
     "851e4b3d466d4e1a8db20f1674f5d533": {
      "model_module": "@jupyter-widgets/controls",
      "model_module_version": "1.5.0",
      "model_name": "HTMLModel",
      "state": {
       "layout": "IPY_MODEL_19577da8257f44658e8dd0785c584641",
       "style": "IPY_MODEL_ba5d0aa96457435091f4ee77e1a7098e",
       "value": " 50/50 [00:00&lt;00:00, 99.93it/s]"
      }
     },
     "852b6d1739c94592b22987ce73cebf10": {
      "model_module": "@jupyter-widgets/controls",
      "model_module_version": "1.5.0",
      "model_name": "ProgressStyleModel",
      "state": {
       "description_width": "initial"
      }
     },
     "8530685ede214ae4bdc787dca91bc6c5": {
      "model_module": "@jupyter-widgets/controls",
      "model_module_version": "1.5.0",
      "model_name": "DescriptionStyleModel",
      "state": {
       "description_width": ""
      }
     },
     "8574aee3a1df4a6ea34498b23da2c43c": {
      "model_module": "@jupyter-widgets/base",
      "model_module_version": "1.2.0",
      "model_name": "LayoutModel",
      "state": {}
     },
     "858bde53da994a52bcc54918137ff34a": {
      "model_module": "@jupyter-widgets/controls",
      "model_module_version": "1.5.0",
      "model_name": "DescriptionStyleModel",
      "state": {
       "description_width": ""
      }
     },
     "85b4ae63bef1414f92f946b2fab7b70d": {
      "model_module": "@jupyter-widgets/controls",
      "model_module_version": "1.5.0",
      "model_name": "FloatProgressModel",
      "state": {
       "description": "train loss: 0.1554: 100%",
       "layout": "IPY_MODEL_bf1de6f2dbb3474a9a7e61eecbe713d7",
       "max": 50,
       "style": "IPY_MODEL_6f3c9454f45f4f5992d0c72f1357c3ed",
       "value": 50
      }
     },
     "85c9936509a54362bc3cad82f7a46198": {
      "model_module": "@jupyter-widgets/base",
      "model_module_version": "1.2.0",
      "model_name": "LayoutModel",
      "state": {}
     },
     "85cf78630149439fb63101143496e983": {
      "model_module": "@jupyter-widgets/base",
      "model_module_version": "1.2.0",
      "model_name": "LayoutModel",
      "state": {}
     },
     "860de8d0f02d4fca91ded0da814524d9": {
      "model_module": "@jupyter-widgets/controls",
      "model_module_version": "1.5.0",
      "model_name": "FloatProgressModel",
      "state": {
       "description": "val loss: 0.0788: 100%",
       "layout": "IPY_MODEL_5b2c5615c7964837b07813555ed98b59",
       "max": 21,
       "style": "IPY_MODEL_3779aadb9cf14e51af19b474c97464a2",
       "value": 21
      }
     },
     "8658d0cf1a1d4c3b97ec985258f1955d": {
      "model_module": "@jupyter-widgets/controls",
      "model_module_version": "1.5.0",
      "model_name": "ProgressStyleModel",
      "state": {
       "description_width": "initial"
      }
     },
     "866f49dc1b534a7fb8ac0406b6581219": {
      "model_module": "@jupyter-widgets/controls",
      "model_module_version": "1.5.0",
      "model_name": "DescriptionStyleModel",
      "state": {
       "description_width": ""
      }
     },
     "8678ca0bc4074cfea97dee40285c2420": {
      "model_module": "@jupyter-widgets/base",
      "model_module_version": "1.2.0",
      "model_name": "LayoutModel",
      "state": {}
     },
     "868e24da7720451e8024101919be3256": {
      "model_module": "@jupyter-widgets/controls",
      "model_module_version": "1.5.0",
      "model_name": "ProgressStyleModel",
      "state": {
       "description_width": "initial"
      }
     },
     "86ad58b0135b49b4a1540d1c7b899a27": {
      "model_module": "@jupyter-widgets/controls",
      "model_module_version": "1.5.0",
      "model_name": "ProgressStyleModel",
      "state": {
       "description_width": "initial"
      }
     },
     "86c1219817bd4696af2706ba3ad2b445": {
      "model_module": "@jupyter-widgets/controls",
      "model_module_version": "1.5.0",
      "model_name": "DescriptionStyleModel",
      "state": {
       "description_width": ""
      }
     },
     "86f857599fcb471b8cdde704b31af935": {
      "model_module": "@jupyter-widgets/base",
      "model_module_version": "1.2.0",
      "model_name": "LayoutModel",
      "state": {}
     },
     "8700138df5104ab58432e7b43537bb6c": {
      "model_module": "@jupyter-widgets/base",
      "model_module_version": "1.2.0",
      "model_name": "LayoutModel",
      "state": {}
     },
     "871e468e9cc0491c8fdd7b031c83b6fd": {
      "model_module": "@jupyter-widgets/base",
      "model_module_version": "1.2.0",
      "model_name": "LayoutModel",
      "state": {}
     },
     "87363de3131d4a47ad0468d0a273a32c": {
      "model_module": "@jupyter-widgets/base",
      "model_module_version": "1.2.0",
      "model_name": "LayoutModel",
      "state": {}
     },
     "8773159a3a8d43d199571b7b107e13cd": {
      "model_module": "@jupyter-widgets/base",
      "model_module_version": "1.2.0",
      "model_name": "LayoutModel",
      "state": {}
     },
     "877e632ad922406992cd199bc8a998c1": {
      "model_module": "@jupyter-widgets/controls",
      "model_module_version": "1.5.0",
      "model_name": "DescriptionStyleModel",
      "state": {
       "description_width": ""
      }
     },
     "8797c3317989429586d0ed4529a4ab7c": {
      "model_module": "@jupyter-widgets/controls",
      "model_module_version": "1.5.0",
      "model_name": "DescriptionStyleModel",
      "state": {
       "description_width": ""
      }
     },
     "879c168226cc401ba5d6d50aa52faba1": {
      "model_module": "@jupyter-widgets/controls",
      "model_module_version": "1.5.0",
      "model_name": "DescriptionStyleModel",
      "state": {
       "description_width": ""
      }
     },
     "87be279277b24518a95295ef13a807ee": {
      "model_module": "@jupyter-widgets/base",
      "model_module_version": "1.2.0",
      "model_name": "LayoutModel",
      "state": {}
     },
     "87bfdbefc0c640eb9065020a68e646a9": {
      "model_module": "@jupyter-widgets/base",
      "model_module_version": "1.2.0",
      "model_name": "LayoutModel",
      "state": {}
     },
     "87f6905f500b49a2ae2d7298557f1d2c": {
      "model_module": "@jupyter-widgets/controls",
      "model_module_version": "1.5.0",
      "model_name": "DescriptionStyleModel",
      "state": {
       "description_width": ""
      }
     },
     "880208ba57814a168cf0a9cf9ba92f3a": {
      "model_module": "@jupyter-widgets/controls",
      "model_module_version": "1.5.0",
      "model_name": "DescriptionStyleModel",
      "state": {
       "description_width": ""
      }
     },
     "8825c35704b747e88d05e8fd0f4b81d0": {
      "model_module": "@jupyter-widgets/controls",
      "model_module_version": "1.5.0",
      "model_name": "HTMLModel",
      "state": {
       "layout": "IPY_MODEL_8848b4306f2c4d07a176b87658494175",
       "style": "IPY_MODEL_75906f6c750349848db1bfe58c18ec9d",
       "value": " 6/6 [00:00&lt;00:00, 139.90it/s]"
      }
     },
     "882c8ba2d7d3410cbd1645b6628b4064": {
      "model_module": "@jupyter-widgets/base",
      "model_module_version": "1.2.0",
      "model_name": "LayoutModel",
      "state": {}
     },
     "8839ce7fe6a24ad7a84f76da93145c24": {
      "model_module": "@jupyter-widgets/base",
      "model_module_version": "1.2.0",
      "model_name": "LayoutModel",
      "state": {}
     },
     "8848b4306f2c4d07a176b87658494175": {
      "model_module": "@jupyter-widgets/base",
      "model_module_version": "1.2.0",
      "model_name": "LayoutModel",
      "state": {}
     },
     "8868621008f54eaf9e2b4407304d340d": {
      "model_module": "@jupyter-widgets/base",
      "model_module_version": "1.2.0",
      "model_name": "LayoutModel",
      "state": {}
     },
     "88a5ec216a5c4bd4a97794aadef3d1f7": {
      "model_module": "@jupyter-widgets/base",
      "model_module_version": "1.2.0",
      "model_name": "LayoutModel",
      "state": {}
     },
     "88c110c27f584639a587cc38912e8f21": {
      "model_module": "@jupyter-widgets/base",
      "model_module_version": "1.2.0",
      "model_name": "LayoutModel",
      "state": {}
     },
     "88d41ff6803a49559fa22e24f732cadf": {
      "model_module": "@jupyter-widgets/base",
      "model_module_version": "1.2.0",
      "model_name": "LayoutModel",
      "state": {}
     },
     "8901b88c220f42bf98415e859f0b9ac0": {
      "model_module": "@jupyter-widgets/controls",
      "model_module_version": "1.5.0",
      "model_name": "FloatProgressModel",
      "state": {
       "description": "train loss: 0.1993: 100%",
       "layout": "IPY_MODEL_b290d5f1adaa45629075ce38d947c5ab",
       "max": 99,
       "style": "IPY_MODEL_e49d7e2c9fd44e2a9123e6c9367ce24a",
       "value": 99
      }
     },
     "89120ff915c642e7855f820730900ea8": {
      "model_module": "@jupyter-widgets/controls",
      "model_module_version": "1.5.0",
      "model_name": "FloatProgressModel",
      "state": {
       "bar_style": "danger",
       "description": "Epochs:   0%",
       "layout": "IPY_MODEL_9455059c362e412d9412c788d6024e4f",
       "max": 10,
       "style": "IPY_MODEL_931d5530053044afb5327c32cf7c956d"
      }
     },
     "8912880082204543a48e1a1b94c5e363": {
      "model_module": "@jupyter-widgets/base",
      "model_module_version": "1.2.0",
      "model_name": "LayoutModel",
      "state": {}
     },
     "8927a1d812294ba2aed15958ff49652e": {
      "model_module": "@jupyter-widgets/controls",
      "model_module_version": "1.5.0",
      "model_name": "FloatProgressModel",
      "state": {
       "description": "val loss: 0.3738: 100%",
       "layout": "IPY_MODEL_29ef75dda78b4ffb8d1ee78bc11ae7b6",
       "max": 22,
       "style": "IPY_MODEL_0bfd9d93db314d60b85b878a31e6f59b",
       "value": 22
      }
     },
     "8932bf4f87e547fdb6b0bb5a2a6811f6": {
      "model_module": "@jupyter-widgets/controls",
      "model_module_version": "1.5.0",
      "model_name": "DescriptionStyleModel",
      "state": {
       "description_width": ""
      }
     },
     "89406b433e5840c791cb5a684406cb91": {
      "model_module": "@jupyter-widgets/base",
      "model_module_version": "1.2.0",
      "model_name": "LayoutModel",
      "state": {}
     },
     "894887186aff4c94b8ce9d72bb4dcbbd": {
      "model_module": "@jupyter-widgets/controls",
      "model_module_version": "1.5.0",
      "model_name": "ProgressStyleModel",
      "state": {
       "description_width": "initial"
      }
     },
     "8957f3291d7b4317a42b4c9ca78057aa": {
      "model_module": "@jupyter-widgets/base",
      "model_module_version": "1.2.0",
      "model_name": "LayoutModel",
      "state": {}
     },
     "8964fc366582420c94e536bc3892f801": {
      "model_module": "@jupyter-widgets/controls",
      "model_module_version": "1.5.0",
      "model_name": "HTMLModel",
      "state": {
       "layout": "IPY_MODEL_46d8e6a7ef624f44a9cf651755066c17",
       "style": "IPY_MODEL_00cc41679d9a41fe8f8ac08250703c38",
       "value": " 21/21 [00:00&lt;00:00, 250.67it/s]"
      }
     },
     "89ae90fa394b46e78e0ae58e30d1b14a": {
      "model_module": "@jupyter-widgets/controls",
      "model_module_version": "1.5.0",
      "model_name": "DescriptionStyleModel",
      "state": {
       "description_width": ""
      }
     },
     "89b333d18a77473da423b725818949a0": {
      "model_module": "@jupyter-widgets/controls",
      "model_module_version": "1.5.0",
      "model_name": "HTMLModel",
      "state": {
       "layout": "IPY_MODEL_ec3a62487c8344298777fbe665f67196",
       "style": "IPY_MODEL_79a3068c13b5495eae42d87bf4811724",
       "value": " 99/99 [00:00&lt;00:00, 103.49it/s]"
      }
     },
     "89c383b5395547e5994796b237403a17": {
      "model_module": "@jupyter-widgets/controls",
      "model_module_version": "1.5.0",
      "model_name": "HTMLModel",
      "state": {
       "layout": "IPY_MODEL_e4810ac1e91049c0a4034e9266d696ac",
       "style": "IPY_MODEL_b70445535cee46aab05fb15248c992e9",
       "value": " 11/11 [00:00&lt;00:00, 193.48it/s]"
      }
     },
     "8a2c7fc1a0bb4c6cb4721768ed49211f": {
      "model_module": "@jupyter-widgets/controls",
      "model_module_version": "1.5.0",
      "model_name": "FloatProgressModel",
      "state": {
       "description": "train loss: 0.0426: 100%",
       "layout": "IPY_MODEL_f43685729edc415dbc87d1102f91d060",
       "max": 99,
       "style": "IPY_MODEL_367d9988f563451996711954e08d6f75",
       "value": 99
      }
     },
     "8ae59821eee845f3a89e4c9ec1dc150e": {
      "model_module": "@jupyter-widgets/controls",
      "model_module_version": "1.5.0",
      "model_name": "DescriptionStyleModel",
      "state": {
       "description_width": ""
      }
     },
     "8af072a1677646b3aa0949c3c9d0d58d": {
      "model_module": "@jupyter-widgets/controls",
      "model_module_version": "1.5.0",
      "model_name": "ProgressStyleModel",
      "state": {
       "description_width": "initial"
      }
     },
     "8b4cd817bc1e4821a49d1ecc7faa5ba4": {
      "model_module": "@jupyter-widgets/controls",
      "model_module_version": "1.5.0",
      "model_name": "ProgressStyleModel",
      "state": {
       "description_width": "initial"
      }
     },
     "8b594c48cc2b418a835de17b3ca389c8": {
      "model_module": "@jupyter-widgets/controls",
      "model_module_version": "1.5.0",
      "model_name": "HTMLModel",
      "state": {
       "layout": "IPY_MODEL_1f1c1cb7c953441ba4982013536e6c3a",
       "style": "IPY_MODEL_8e7ad09675334588b97163c959a3a341",
       "value": " 22/22 [00:00&lt;00:00, 146.02it/s]"
      }
     },
     "8b6a8a9581e345f394500ac852cba266": {
      "model_module": "@jupyter-widgets/controls",
      "model_module_version": "1.5.0",
      "model_name": "FloatProgressModel",
      "state": {
       "description": "train loss: 0.2697: 100%",
       "layout": "IPY_MODEL_b8e829258ed44117b2a88b7c4b21a432",
       "max": 50,
       "style": "IPY_MODEL_bd465f11c1dd4df994c5ba37bf7d100d",
       "value": 50
      }
     },
     "8b84c62ece554a269920a161beb457b5": {
      "model_module": "@jupyter-widgets/base",
      "model_module_version": "1.2.0",
      "model_name": "LayoutModel",
      "state": {}
     },
     "8b925035233a428a8dd0c1ad9871183f": {
      "model_module": "@jupyter-widgets/base",
      "model_module_version": "1.2.0",
      "model_name": "LayoutModel",
      "state": {}
     },
     "8bbc755201ba4e9e9067b8e61d84ddd2": {
      "model_module": "@jupyter-widgets/base",
      "model_module_version": "1.2.0",
      "model_name": "LayoutModel",
      "state": {}
     },
     "8bbfebf0ea1d48f49a5c5d4da78d8859": {
      "model_module": "@jupyter-widgets/controls",
      "model_module_version": "1.5.0",
      "model_name": "DescriptionStyleModel",
      "state": {
       "description_width": ""
      }
     },
     "8bcc68e830934522a34aa6679905d7b4": {
      "model_module": "@jupyter-widgets/controls",
      "model_module_version": "1.5.0",
      "model_name": "ProgressStyleModel",
      "state": {
       "description_width": "initial"
      }
     },
     "8bd378b1d90d43488b82c87b670107ed": {
      "model_module": "@jupyter-widgets/base",
      "model_module_version": "1.2.0",
      "model_name": "LayoutModel",
      "state": {}
     },
     "8bf0581d80e6495aaac7a59e30efab89": {
      "model_module": "@jupyter-widgets/base",
      "model_module_version": "1.2.0",
      "model_name": "LayoutModel",
      "state": {}
     },
     "8bf7516167ee4d85a6525fadc4563c6b": {
      "model_module": "@jupyter-widgets/controls",
      "model_module_version": "1.5.0",
      "model_name": "DescriptionStyleModel",
      "state": {
       "description_width": ""
      }
     },
     "8c1b407188a94e94a2e9d8f8bc078189": {
      "model_module": "@jupyter-widgets/base",
      "model_module_version": "1.2.0",
      "model_name": "LayoutModel",
      "state": {}
     },
     "8c1bbb3215dc4a2984dd1756281369d3": {
      "model_module": "@jupyter-widgets/controls",
      "model_module_version": "1.5.0",
      "model_name": "DescriptionStyleModel",
      "state": {
       "description_width": ""
      }
     },
     "8c27468e0dee43079c30312565d0ee05": {
      "model_module": "@jupyter-widgets/controls",
      "model_module_version": "1.5.0",
      "model_name": "HTMLModel",
      "state": {
       "layout": "IPY_MODEL_638b924770534462833314b56508fa3b",
       "style": "IPY_MODEL_5251b3af9cc744cdb16eaa881efb9bc4",
       "value": " 22/22 [00:00&lt;00:00, 143.22it/s]"
      }
     },
     "8c32bae4e936499a998a3a8fbf51049a": {
      "model_module": "@jupyter-widgets/controls",
      "model_module_version": "1.5.0",
      "model_name": "HTMLModel",
      "state": {
       "layout": "IPY_MODEL_46035d60a12e40d583d5392907e1852e",
       "style": "IPY_MODEL_e732d19c11764dd9bc181d3346ab0835",
       "value": " 50/50 [00:07&lt;00:00,  3.78it/s]"
      }
     },
     "8c3547933fd8402eb6054317c7510aa5": {
      "model_module": "@jupyter-widgets/base",
      "model_module_version": "1.2.0",
      "model_name": "LayoutModel",
      "state": {}
     },
     "8c5293065a6f460c9a4577c1a85eddd1": {
      "model_module": "@jupyter-widgets/controls",
      "model_module_version": "1.5.0",
      "model_name": "HTMLModel",
      "state": {
       "layout": "IPY_MODEL_cdb2ae6367d841f19322e0c309b4bc44",
       "style": "IPY_MODEL_42d33a66d7c64be193a1623521dc442b",
       "value": " 50/50 [00:07&lt;00:00,  3.78it/s]"
      }
     },
     "8c7aee9a7f5a4c7da33a8875c6114f59": {
      "model_module": "@jupyter-widgets/controls",
      "model_module_version": "1.5.0",
      "model_name": "FloatProgressModel",
      "state": {
       "bar_style": "danger",
       "description": "Train Loss: 0.0614 - Val Loss: 0.0841:  60%",
       "layout": "IPY_MODEL_8dd83cd78e1a4813a4be1ae4b0bd445e",
       "max": 10,
       "style": "IPY_MODEL_1d56f8f80b354d3dbf51d047c900cd5e",
       "value": 6
      }
     },
     "8c7c2ab618f6424e9fe41385eedc7c54": {
      "model_module": "@jupyter-widgets/controls",
      "model_module_version": "1.5.0",
      "model_name": "DescriptionStyleModel",
      "state": {
       "description_width": ""
      }
     },
     "8c995b6c920544958fa474efc23d5d8a": {
      "model_module": "@jupyter-widgets/base",
      "model_module_version": "1.2.0",
      "model_name": "LayoutModel",
      "state": {}
     },
     "8cf90847d55c45868bf278a08f8f90f8": {
      "model_module": "@jupyter-widgets/base",
      "model_module_version": "1.2.0",
      "model_name": "LayoutModel",
      "state": {}
     },
     "8d4279520a9945829dbaf49c5a533122": {
      "model_module": "@jupyter-widgets/base",
      "model_module_version": "1.2.0",
      "model_name": "LayoutModel",
      "state": {}
     },
     "8d52ba84ffde4f01a1c496918c427b10": {
      "model_module": "@jupyter-widgets/controls",
      "model_module_version": "1.5.0",
      "model_name": "HTMLModel",
      "state": {
       "layout": "IPY_MODEL_4f0f4f1c706645b19280957a0a5a61a9",
       "style": "IPY_MODEL_4b2df88ae695416fbeae139a0233a79a",
       "value": " 9/10 [03:14&lt;00:21, 21.65s/it]"
      }
     },
     "8d56ed736caa48eba65b242545b5bf26": {
      "model_module": "@jupyter-widgets/controls",
      "model_module_version": "1.5.0",
      "model_name": "HTMLModel",
      "state": {
       "layout": "IPY_MODEL_91f0490b2ddd4dd4b46614f2aba8c742",
       "style": "IPY_MODEL_dc1c542848c649d284052656e9f249eb",
       "value": " 50/50 [00:00&lt;00:00, 98.18it/s]"
      }
     },
     "8d7f51f60152485f9440e6a3a108340a": {
      "model_module": "@jupyter-widgets/base",
      "model_module_version": "1.2.0",
      "model_name": "LayoutModel",
      "state": {}
     },
     "8d80bc84a76f4bc698b39e0322b38960": {
      "model_module": "@jupyter-widgets/base",
      "model_module_version": "1.2.0",
      "model_name": "LayoutModel",
      "state": {}
     },
     "8d926a47fd894ec4b469a66e496e961f": {
      "model_module": "@jupyter-widgets/controls",
      "model_module_version": "1.5.0",
      "model_name": "FloatProgressModel",
      "state": {
       "description": "train loss: 0.4756: 100%",
       "layout": "IPY_MODEL_428d1040f2d648d0b50009cf577121bd",
       "max": 50,
       "style": "IPY_MODEL_2e3050ba6548406eaf6294e263960e68",
       "value": 50
      }
     },
     "8dbb19922dc745ccb484ff880fd58886": {
      "model_module": "@jupyter-widgets/base",
      "model_module_version": "1.2.0",
      "model_name": "LayoutModel",
      "state": {}
     },
     "8dd83cd78e1a4813a4be1ae4b0bd445e": {
      "model_module": "@jupyter-widgets/base",
      "model_module_version": "1.2.0",
      "model_name": "LayoutModel",
      "state": {}
     },
     "8e175a97d2be4a8bb8e67dbfebaf9f22": {
      "model_module": "@jupyter-widgets/controls",
      "model_module_version": "1.5.0",
      "model_name": "HTMLModel",
      "state": {
       "layout": "IPY_MODEL_9fbdb126f05142f29e30af68fb1f0a44",
       "style": "IPY_MODEL_d8a08d63778544438594e4253dea7c14",
       "value": " 99/99 [00:18&lt;00:00,  2.84it/s]"
      }
     },
     "8e32bf815671475a9855e3eb7acc34ca": {
      "model_module": "@jupyter-widgets/base",
      "model_module_version": "1.2.0",
      "model_name": "LayoutModel",
      "state": {}
     },
     "8e3fd0c0e5ab492c9d5811c4afda0e50": {
      "model_module": "@jupyter-widgets/base",
      "model_module_version": "1.2.0",
      "model_name": "LayoutModel",
      "state": {}
     },
     "8e6ab38da32f4dc7ab00b77786d3e0f6": {
      "model_module": "@jupyter-widgets/base",
      "model_module_version": "1.2.0",
      "model_name": "LayoutModel",
      "state": {}
     },
     "8e7ad09675334588b97163c959a3a341": {
      "model_module": "@jupyter-widgets/controls",
      "model_module_version": "1.5.0",
      "model_name": "DescriptionStyleModel",
      "state": {
       "description_width": ""
      }
     },
     "8e827acaa6604d34ab2523711e49da0e": {
      "model_module": "@jupyter-widgets/base",
      "model_module_version": "1.2.0",
      "model_name": "LayoutModel",
      "state": {}
     },
     "8e8965f23cae4acb96fe41008ebd9a5c": {
      "model_module": "@jupyter-widgets/controls",
      "model_module_version": "1.5.0",
      "model_name": "DescriptionStyleModel",
      "state": {
       "description_width": ""
      }
     },
     "8eb4e786efe0462289068e108792323d": {
      "model_module": "@jupyter-widgets/controls",
      "model_module_version": "1.5.0",
      "model_name": "ProgressStyleModel",
      "state": {
       "description_width": "initial"
      }
     },
     "8ed4e8ee99994f988941b289c34135f1": {
      "model_module": "@jupyter-widgets/controls",
      "model_module_version": "1.5.0",
      "model_name": "FloatProgressModel",
      "state": {
       "bar_style": "success",
       "description": "Train Loss: 0.1116 - Val Loss: 0.1292: 100%",
       "layout": "IPY_MODEL_972b847ac8434e3fbff28305770aa73e",
       "max": 10,
       "style": "IPY_MODEL_40774b21765f496292f3431c6fa82d7f",
       "value": 10
      }
     },
     "8eef16b8d1724c96bba1ad6f06829519": {
      "model_module": "@jupyter-widgets/controls",
      "model_module_version": "1.5.0",
      "model_name": "HTMLModel",
      "state": {
       "layout": "IPY_MODEL_c7aa79a775e241e4ad0cd61488e819a7",
       "style": "IPY_MODEL_eb928e1348054c35b9a2e22538f2bb68",
       "value": " 99/99 [00:00&lt;00:00, 108.51it/s]"
      }
     },
     "8ef2a506eaf84dc38e61097e59c69da3": {
      "model_module": "@jupyter-widgets/controls",
      "model_module_version": "1.5.0",
      "model_name": "FloatProgressModel",
      "state": {
       "description": "val loss: 0.4352: 100%",
       "layout": "IPY_MODEL_3b52b19b6ee2427bacf254c2bb0c52ee",
       "max": 22,
       "style": "IPY_MODEL_ea8e73fc261044b8ad096c55a9fff588",
       "value": 22
      }
     },
     "8eff7d90d9b94a8797ab6bc8ff2a7f6a": {
      "model_module": "@jupyter-widgets/base",
      "model_module_version": "1.2.0",
      "model_name": "LayoutModel",
      "state": {}
     },
     "8f0a0dfcef8944c39a2c7b602366db94": {
      "model_module": "@jupyter-widgets/controls",
      "model_module_version": "1.5.0",
      "model_name": "FloatProgressModel",
      "state": {
       "description": "val loss: 0.0737: 100%",
       "layout": "IPY_MODEL_fe60698ed52e42b78a08b2a57cf22970",
       "max": 21,
       "style": "IPY_MODEL_868e24da7720451e8024101919be3256",
       "value": 21
      }
     },
     "8f15e88020504993b9d0fae655117b2f": {
      "model_module": "@jupyter-widgets/controls",
      "model_module_version": "1.5.0",
      "model_name": "ProgressStyleModel",
      "state": {
       "description_width": "initial"
      }
     },
     "8f185c2789154f50b27639fffc2e053b": {
      "model_module": "@jupyter-widgets/base",
      "model_module_version": "1.2.0",
      "model_name": "LayoutModel",
      "state": {}
     },
     "8f371617c5da44fb9879e3141f065d36": {
      "model_module": "@jupyter-widgets/controls",
      "model_module_version": "1.5.0",
      "model_name": "ProgressStyleModel",
      "state": {
       "description_width": "initial"
      }
     },
     "8f722a27c8aa4b008565d60ddce7e359": {
      "model_module": "@jupyter-widgets/controls",
      "model_module_version": "1.5.0",
      "model_name": "FloatProgressModel",
      "state": {
       "description": "val loss: 0.0794: 100%",
       "layout": "IPY_MODEL_cbd17223d62344a1b6d93962a4e454d6",
       "max": 21,
       "style": "IPY_MODEL_3e768a1f2e984ab3a79724bdf18d0c43",
       "value": 21
      }
     },
     "8f7338b270f4472d970c5b34cb990f51": {
      "model_module": "@jupyter-widgets/controls",
      "model_module_version": "1.5.0",
      "model_name": "DescriptionStyleModel",
      "state": {
       "description_width": ""
      }
     },
     "8f7cbeb819d344dd804a1fbdfb668255": {
      "model_module": "@jupyter-widgets/controls",
      "model_module_version": "1.5.0",
      "model_name": "ProgressStyleModel",
      "state": {
       "description_width": "initial"
      }
     },
     "8f9b41991daf43bd9d4a4be7d7a7a688": {
      "model_module": "@jupyter-widgets/controls",
      "model_module_version": "1.5.0",
      "model_name": "ProgressStyleModel",
      "state": {
       "description_width": "initial"
      }
     },
     "8fe42dcf04cf44e6ad8c42fce30fe960": {
      "model_module": "@jupyter-widgets/base",
      "model_module_version": "1.2.0",
      "model_name": "LayoutModel",
      "state": {}
     },
     "8fe452d6dd1745f6b45a75b30a17d40c": {
      "model_module": "@jupyter-widgets/controls",
      "model_module_version": "1.5.0",
      "model_name": "ProgressStyleModel",
      "state": {
       "description_width": "initial"
      }
     },
     "8ff9f033ce16402f80aec85eea3b43e4": {
      "model_module": "@jupyter-widgets/controls",
      "model_module_version": "1.5.0",
      "model_name": "HTMLModel",
      "state": {
       "layout": "IPY_MODEL_fce88941b17742c5a49a0839ce232d3f",
       "style": "IPY_MODEL_2d3551f502a74fd6940c57dbfa43f08c",
       "value": " 11/11 [00:00&lt;00:00, 136.10it/s]"
      }
     },
     "901910f430374c5c863466fd3ef1b4c5": {
      "model_module": "@jupyter-widgets/controls",
      "model_module_version": "1.5.0",
      "model_name": "DescriptionStyleModel",
      "state": {
       "description_width": ""
      }
     },
     "9023ddaef90a4550bde73f1c6e4e057e": {
      "model_module": "@jupyter-widgets/controls",
      "model_module_version": "1.5.0",
      "model_name": "FloatProgressModel",
      "state": {
       "description": "train loss: 0.4911: 100%",
       "layout": "IPY_MODEL_a2724e8d73a240e8ae04266ec9253f95",
       "max": 50,
       "style": "IPY_MODEL_4be0621d3eab4b06b2998088f949697f",
       "value": 50
      }
     },
     "9036403a434645618680c0131558f976": {
      "model_module": "@jupyter-widgets/controls",
      "model_module_version": "1.5.0",
      "model_name": "HTMLModel",
      "state": {
       "layout": "IPY_MODEL_e0e3be17e8034c8db0a24ab40c5ff9c6",
       "style": "IPY_MODEL_ba7d28bdb07542fbbf869f07fcec6d02",
       "value": " 22/22 [00:00&lt;00:00, 136.29it/s]"
      }
     },
     "90482f7b14bd41aa9b1d30409667d9a8": {
      "model_module": "@jupyter-widgets/base",
      "model_module_version": "1.2.0",
      "model_name": "LayoutModel",
      "state": {}
     },
     "9050a843d3ed47f296876995aa51e30c": {
      "model_module": "@jupyter-widgets/controls",
      "model_module_version": "1.5.0",
      "model_name": "HTMLModel",
      "state": {
       "layout": "IPY_MODEL_8f185c2789154f50b27639fffc2e053b",
       "style": "IPY_MODEL_a699692d57e84b42ab1b31a2f8605edd",
       "value": " 11/11 [00:00&lt;00:00, 134.51it/s]"
      }
     },
     "9063f1c0889a4fe886dfea12a5459587": {
      "model_module": "@jupyter-widgets/base",
      "model_module_version": "1.2.0",
      "model_name": "LayoutModel",
      "state": {}
     },
     "906d9a56409a4f9f9dbba15cab88cc44": {
      "model_module": "@jupyter-widgets/base",
      "model_module_version": "1.2.0",
      "model_name": "LayoutModel",
      "state": {}
     },
     "9097b0814a164e179f8ace4e00df77c1": {
      "model_module": "@jupyter-widgets/controls",
      "model_module_version": "1.5.0",
      "model_name": "HTMLModel",
      "state": {
       "layout": "IPY_MODEL_79926f7c999a447f97c1c5ace3ecd569",
       "style": "IPY_MODEL_b8390e97735c4c6187d44604561aac31",
       "value": " 3/10 [01:13&lt;02:09, 18.50s/it]"
      }
     },
     "910dbb5fb61f46e6b3a650905bc8d745": {
      "model_module": "@jupyter-widgets/controls",
      "model_module_version": "1.5.0",
      "model_name": "ProgressStyleModel",
      "state": {
       "description_width": "initial"
      }
     },
     "91287dbfe2194971a8b13d8d8615a40e": {
      "model_module": "@jupyter-widgets/base",
      "model_module_version": "1.2.0",
      "model_name": "LayoutModel",
      "state": {}
     },
     "9161567610204f17a9266b8678adbece": {
      "model_module": "@jupyter-widgets/controls",
      "model_module_version": "1.5.0",
      "model_name": "HTMLModel",
      "state": {
       "layout": "IPY_MODEL_120d0a2f4c52434889ca0c3347a7dc23",
       "style": "IPY_MODEL_2be64a66f0424e13b8044a785db2bee0",
       "value": " 11/11 [00:00&lt;00:00, 190.08it/s]"
      }
     },
     "91b3e23b10cb46e4b69461ca1671d3c8": {
      "model_module": "@jupyter-widgets/controls",
      "model_module_version": "1.5.0",
      "model_name": "HTMLModel",
      "state": {
       "layout": "IPY_MODEL_9af82b3c10ea4ee69ea4f68b997c67d0",
       "style": "IPY_MODEL_60242b55c06b4caabe5cb12d9c70d2ae",
       "value": " 99/99 [00:01&lt;00:00, 98.18it/s]"
      }
     },
     "91f0490b2ddd4dd4b46614f2aba8c742": {
      "model_module": "@jupyter-widgets/base",
      "model_module_version": "1.2.0",
      "model_name": "LayoutModel",
      "state": {}
     },
     "9203862456c54ec5b0d4b022877ee684": {
      "model_module": "@jupyter-widgets/base",
      "model_module_version": "1.2.0",
      "model_name": "LayoutModel",
      "state": {}
     },
     "9215e416c6bc433ea39e014fc9dbd211": {
      "model_module": "@jupyter-widgets/controls",
      "model_module_version": "1.5.0",
      "model_name": "DescriptionStyleModel",
      "state": {
       "description_width": ""
      }
     },
     "9251e2daf0cd4be4a2634f393069597c": {
      "model_module": "@jupyter-widgets/base",
      "model_module_version": "1.2.0",
      "model_name": "LayoutModel",
      "state": {}
     },
     "926689299000457eaa1d4b650b71bcef": {
      "model_module": "@jupyter-widgets/base",
      "model_module_version": "1.2.0",
      "model_name": "LayoutModel",
      "state": {}
     },
     "927569e05bf141e2b322a54e2717ca64": {
      "model_module": "@jupyter-widgets/base",
      "model_module_version": "1.2.0",
      "model_name": "LayoutModel",
      "state": {}
     },
     "92b356be591b404b8ada8191140ed15e": {
      "model_module": "@jupyter-widgets/base",
      "model_module_version": "1.2.0",
      "model_name": "LayoutModel",
      "state": {}
     },
     "92d5591a4c544dd5a1f97a2e18518ba2": {
      "model_module": "@jupyter-widgets/controls",
      "model_module_version": "1.5.0",
      "model_name": "ProgressStyleModel",
      "state": {
       "description_width": "initial"
      }
     },
     "92e85f2eddca42db9eb7b160fd0b95fa": {
      "model_module": "@jupyter-widgets/base",
      "model_module_version": "1.2.0",
      "model_name": "LayoutModel",
      "state": {}
     },
     "92e88272a4a0416e834d7a8850c1c34f": {
      "model_module": "@jupyter-widgets/base",
      "model_module_version": "1.2.0",
      "model_name": "LayoutModel",
      "state": {}
     },
     "931d5530053044afb5327c32cf7c956d": {
      "model_module": "@jupyter-widgets/controls",
      "model_module_version": "1.5.0",
      "model_name": "ProgressStyleModel",
      "state": {
       "description_width": "initial"
      }
     },
     "931e8bffc42d46d4836c500ed2c6b28c": {
      "model_module": "@jupyter-widgets/base",
      "model_module_version": "1.2.0",
      "model_name": "LayoutModel",
      "state": {}
     },
     "9342212aa20b46b6b18d43e153d1a681": {
      "model_module": "@jupyter-widgets/base",
      "model_module_version": "1.2.0",
      "model_name": "LayoutModel",
      "state": {}
     },
     "935ff4d978c14080bc5bb8acf3afbd5d": {
      "model_module": "@jupyter-widgets/base",
      "model_module_version": "1.2.0",
      "model_name": "LayoutModel",
      "state": {}
     },
     "939a31b8b9704128b66440f29b3f8266": {
      "model_module": "@jupyter-widgets/base",
      "model_module_version": "1.2.0",
      "model_name": "LayoutModel",
      "state": {}
     },
     "939c9da89ba94b908b29ef7f504b97c0": {
      "model_module": "@jupyter-widgets/controls",
      "model_module_version": "1.5.0",
      "model_name": "HTMLModel",
      "state": {
       "layout": "IPY_MODEL_9ca694b4fcf64dd9b399bf716d33da67",
       "style": "IPY_MODEL_75355ba39d6145658a24567cb7779b1a",
       "value": " 21/21 [00:00&lt;00:00, 244.84it/s]"
      }
     },
     "93afdd4070444a878fc8896ff4741e0f": {
      "model_module": "@jupyter-widgets/controls",
      "model_module_version": "1.5.0",
      "model_name": "DescriptionStyleModel",
      "state": {
       "description_width": ""
      }
     },
     "93dd624dd4cb4111ac90abb63462f180": {
      "model_module": "@jupyter-widgets/base",
      "model_module_version": "1.2.0",
      "model_name": "LayoutModel",
      "state": {}
     },
     "93f1ff331cd141a2912958267d6d93c8": {
      "model_module": "@jupyter-widgets/controls",
      "model_module_version": "1.5.0",
      "model_name": "FloatProgressModel",
      "state": {
       "description": "val loss: 0.0532: 100%",
       "layout": "IPY_MODEL_da243812d08f4244bb1a2c3c438fb3cd",
       "max": 21,
       "style": "IPY_MODEL_f5b692ed39164fe8932baa02d6c159ac",
       "value": 21
      }
     },
     "941264ab1239474db8e1f57e8db53408": {
      "model_module": "@jupyter-widgets/controls",
      "model_module_version": "1.5.0",
      "model_name": "DescriptionStyleModel",
      "state": {
       "description_width": ""
      }
     },
     "9448c9ad986e480ab8720302368c1727": {
      "model_module": "@jupyter-widgets/base",
      "model_module_version": "1.2.0",
      "model_name": "LayoutModel",
      "state": {}
     },
     "9455059c362e412d9412c788d6024e4f": {
      "model_module": "@jupyter-widgets/base",
      "model_module_version": "1.2.0",
      "model_name": "LayoutModel",
      "state": {}
     },
     "947185587fb540839ce8add2f0b07d88": {
      "model_module": "@jupyter-widgets/base",
      "model_module_version": "1.2.0",
      "model_name": "LayoutModel",
      "state": {}
     },
     "94bfb36d676d45738f977bf45d0211d6": {
      "model_module": "@jupyter-widgets/base",
      "model_module_version": "1.2.0",
      "model_name": "LayoutModel",
      "state": {}
     },
     "9506d358ce0f4bffaafce36917e598e1": {
      "model_module": "@jupyter-widgets/controls",
      "model_module_version": "1.5.0",
      "model_name": "DescriptionStyleModel",
      "state": {
       "description_width": ""
      }
     },
     "950784d829274480bc31d94c1296b00e": {
      "model_module": "@jupyter-widgets/base",
      "model_module_version": "1.2.0",
      "model_name": "LayoutModel",
      "state": {}
     },
     "951adbb2e3e24f9bb04ad93f2b95bab7": {
      "model_module": "@jupyter-widgets/base",
      "model_module_version": "1.2.0",
      "model_name": "LayoutModel",
      "state": {}
     },
     "956d1a061ccc47ec9376da6272c7fbf4": {
      "model_module": "@jupyter-widgets/base",
      "model_module_version": "1.2.0",
      "model_name": "LayoutModel",
      "state": {}
     },
     "957b4e179aec4cfb8fbdc7877f82ba67": {
      "model_module": "@jupyter-widgets/base",
      "model_module_version": "1.2.0",
      "model_name": "LayoutModel",
      "state": {}
     },
     "957ce0a71042467c8bb6fba5220b979e": {
      "model_module": "@jupyter-widgets/base",
      "model_module_version": "1.2.0",
      "model_name": "LayoutModel",
      "state": {}
     },
     "9595280037d14f8dbfa965c4c375dc6b": {
      "model_module": "@jupyter-widgets/controls",
      "model_module_version": "1.5.0",
      "model_name": "FloatProgressModel",
      "state": {
       "description": "val loss: 0.2968: 100%",
       "layout": "IPY_MODEL_7dfba0f6cacd4d3a974d63571cf6be5a",
       "max": 11,
       "style": "IPY_MODEL_4b17fa2c0ad242d492a18684fa7e82ea",
       "value": 11
      }
     },
     "95fd455a08fe4f32a3baa26c088f387a": {
      "model_module": "@jupyter-widgets/base",
      "model_module_version": "1.2.0",
      "model_name": "LayoutModel",
      "state": {}
     },
     "961e66d8a529434bbf14e5347c9d9db0": {
      "model_module": "@jupyter-widgets/controls",
      "model_module_version": "1.5.0",
      "model_name": "FloatProgressModel",
      "state": {
       "description": "train loss: 0.5482: 100%",
       "layout": "IPY_MODEL_e720539a85e24810998c7994395f70f8",
       "max": 50,
       "style": "IPY_MODEL_16223f5d3f0a43768452db5b224badd6",
       "value": 50
      }
     },
     "9635fb1c7f9b4fd99955e78656d2fc85": {
      "model_module": "@jupyter-widgets/controls",
      "model_module_version": "1.5.0",
      "model_name": "FloatProgressModel",
      "state": {
       "description": "val loss: 0.5036: 100%",
       "layout": "IPY_MODEL_e93c0bbd5fe649e6933cff7e42922c2c",
       "max": 22,
       "style": "IPY_MODEL_b4a2846a927b4b81971ea711a0ef253e",
       "value": 22
      }
     },
     "96576c5feff140de9d9697dab4683135": {
      "model_module": "@jupyter-widgets/base",
      "model_module_version": "1.2.0",
      "model_name": "LayoutModel",
      "state": {}
     },
     "966d6da124ab492699172d813203cd5f": {
      "model_module": "@jupyter-widgets/controls",
      "model_module_version": "1.5.0",
      "model_name": "ProgressStyleModel",
      "state": {
       "description_width": "initial"
      }
     },
     "9695e43cc8be4bfeb92f80f9fd6c3178": {
      "model_module": "@jupyter-widgets/controls",
      "model_module_version": "1.5.0",
      "model_name": "HTMLModel",
      "state": {
       "layout": "IPY_MODEL_4aae8e5d3df14cbd979b452842637bf0",
       "style": "IPY_MODEL_5966dd5e0fa84a3cab5908bea1c03210",
       "value": " 22/22 [00:00&lt;00:00, 192.82it/s]"
      }
     },
     "96d2dcf92309467f825f18d1e41125a3": {
      "model_module": "@jupyter-widgets/controls",
      "model_module_version": "1.5.0",
      "model_name": "FloatProgressModel",
      "state": {
       "description": "val loss: 0.3101: 100%",
       "layout": "IPY_MODEL_08f5920f60614726bb88957af321265f",
       "max": 11,
       "style": "IPY_MODEL_25f63d72f6dc4984ac78c316739b22d2",
       "value": 11
      }
     },
     "972b36419ab14b7b99dea8517d4ad699": {
      "model_module": "@jupyter-widgets/base",
      "model_module_version": "1.2.0",
      "model_name": "LayoutModel",
      "state": {}
     },
     "972b847ac8434e3fbff28305770aa73e": {
      "model_module": "@jupyter-widgets/base",
      "model_module_version": "1.2.0",
      "model_name": "LayoutModel",
      "state": {}
     },
     "975f6fc2cab9408ebce84a057133b15f": {
      "model_module": "@jupyter-widgets/base",
      "model_module_version": "1.2.0",
      "model_name": "LayoutModel",
      "state": {}
     },
     "978a503d21bd492fa72af59605382bd4": {
      "model_module": "@jupyter-widgets/controls",
      "model_module_version": "1.5.0",
      "model_name": "HTMLModel",
      "state": {
       "layout": "IPY_MODEL_ed3d50a506d9407d8433cac24dd82925",
       "style": "IPY_MODEL_c1929547671b4b048ab61705efe8912a",
       "value": " 21/21 [00:00&lt;00:00, 259.95it/s]"
      }
     },
     "97c91740eccc42e792db49afabead829": {
      "model_module": "@jupyter-widgets/base",
      "model_module_version": "1.2.0",
      "model_name": "LayoutModel",
      "state": {}
     },
     "982a3f4b3e5f4cc491d1af0d1e7c5510": {
      "model_module": "@jupyter-widgets/base",
      "model_module_version": "1.2.0",
      "model_name": "LayoutModel",
      "state": {}
     },
     "983d2e19f65a450da87ac4a2579410aa": {
      "model_module": "@jupyter-widgets/base",
      "model_module_version": "1.2.0",
      "model_name": "LayoutModel",
      "state": {}
     },
     "98b2a08a67a447c1aa0a8a66273ce895": {
      "model_module": "@jupyter-widgets/controls",
      "model_module_version": "1.5.0",
      "model_name": "DescriptionStyleModel",
      "state": {
       "description_width": ""
      }
     },
     "98c467ead2f94e6f9cd98c28e311d65d": {
      "model_module": "@jupyter-widgets/base",
      "model_module_version": "1.2.0",
      "model_name": "LayoutModel",
      "state": {}
     },
     "98da7c62898b40a6823873e78785b0eb": {
      "model_module": "@jupyter-widgets/controls",
      "model_module_version": "1.5.0",
      "model_name": "DescriptionStyleModel",
      "state": {
       "description_width": ""
      }
     },
     "98eaaae6c6df4aa68de9c4b753cf9f33": {
      "model_module": "@jupyter-widgets/controls",
      "model_module_version": "1.5.0",
      "model_name": "HTMLModel",
      "state": {
       "layout": "IPY_MODEL_a2b3fc927e994ad3a76d0ed0df2c079b",
       "style": "IPY_MODEL_a3d151434da543e2b16f5f38435423a4",
       "value": " 50/50 [00:05&lt;00:00,  5.68it/s]"
      }
     },
     "99141c3d45f14ad2a0ec7f58ef653da7": {
      "model_module": "@jupyter-widgets/controls",
      "model_module_version": "1.5.0",
      "model_name": "FloatProgressModel",
      "state": {
       "description": "train loss: 0.8244: 100%",
       "layout": "IPY_MODEL_fa89089ca8a64281bc210e46a1a94e87",
       "max": 99,
       "style": "IPY_MODEL_b9595dac248f4aadbd7d41076e21152b",
       "value": 99
      }
     },
     "9915abb15145427c85586789c9810f3f": {
      "model_module": "@jupyter-widgets/controls",
      "model_module_version": "1.5.0",
      "model_name": "DescriptionStyleModel",
      "state": {
       "description_width": ""
      }
     },
     "991872d170a843ef994db4610490bb0a": {
      "model_module": "@jupyter-widgets/controls",
      "model_module_version": "1.5.0",
      "model_name": "DescriptionStyleModel",
      "state": {
       "description_width": ""
      }
     },
     "9934f2ccf19a4756bd208a8c92fb0b61": {
      "model_module": "@jupyter-widgets/controls",
      "model_module_version": "1.5.0",
      "model_name": "HTMLModel",
      "state": {
       "layout": "IPY_MODEL_28aede65bb25404c99314d6456f20662",
       "style": "IPY_MODEL_a33d75af45c8474d9cb3a39423a9dae9",
       "value": " 11/11 [00:00&lt;00:00, 136.17it/s]"
      }
     },
     "997e034dbe294290ab8466f2ac793497": {
      "model_module": "@jupyter-widgets/controls",
      "model_module_version": "1.5.0",
      "model_name": "DescriptionStyleModel",
      "state": {
       "description_width": ""
      }
     },
     "9992883f67014907bfbea7e8f685c0c8": {
      "model_module": "@jupyter-widgets/controls",
      "model_module_version": "1.5.0",
      "model_name": "ProgressStyleModel",
      "state": {
       "description_width": "initial"
      }
     },
     "99b4f036cdd648cf9a376ce9fae26fb8": {
      "model_module": "@jupyter-widgets/controls",
      "model_module_version": "1.5.0",
      "model_name": "FloatProgressModel",
      "state": {
       "description": "train loss: 0.4427: 100%",
       "layout": "IPY_MODEL_2a5bbb3bc205440391aeeb547a614fbf",
       "max": 50,
       "style": "IPY_MODEL_3de86c85e67b400c9040e8e37d45246b",
       "value": 50
      }
     },
     "99d6c5969ad343c98ade8a0f43aed673": {
      "model_module": "@jupyter-widgets/controls",
      "model_module_version": "1.5.0",
      "model_name": "ProgressStyleModel",
      "state": {
       "description_width": "initial"
      }
     },
     "9a0e0285b895460492471dc6d2dc9daa": {
      "model_module": "@jupyter-widgets/controls",
      "model_module_version": "1.5.0",
      "model_name": "HTMLModel",
      "state": {
       "layout": "IPY_MODEL_4876900d3cf14952af9fadb36f0db798",
       "style": "IPY_MODEL_9215e416c6bc433ea39e014fc9dbd211",
       "value": " 50/50 [00:05&lt;00:00,  5.49it/s]"
      }
     },
     "9a550773d07649a8904e877db2d35843": {
      "model_module": "@jupyter-widgets/base",
      "model_module_version": "1.2.0",
      "model_name": "LayoutModel",
      "state": {}
     },
     "9a65616423204199a7e31ac27fe60a2c": {
      "model_module": "@jupyter-widgets/controls",
      "model_module_version": "1.5.0",
      "model_name": "FloatProgressModel",
      "state": {
       "description": "val loss: 0.0514: 100%",
       "layout": "IPY_MODEL_9f899a4f99324d3eaf34c839689277a7",
       "max": 11,
       "style": "IPY_MODEL_a04f7c2b6e1845ab993d1759d70e81fe",
       "value": 11
      }
     },
     "9a6a7e7ad38649dab39dfb0f9c47fafa": {
      "model_module": "@jupyter-widgets/base",
      "model_module_version": "1.2.0",
      "model_name": "LayoutModel",
      "state": {}
     },
     "9a74c14ae3b342b391a41d01c9ef21a9": {
      "model_module": "@jupyter-widgets/controls",
      "model_module_version": "1.5.0",
      "model_name": "FloatProgressModel",
      "state": {
       "description": "val loss: 0.4211: 100%",
       "layout": "IPY_MODEL_12110ca56622486f90d72763b95ea1b3",
       "max": 11,
       "style": "IPY_MODEL_1248ec584b7448e68c7e6a2ebd9d916e",
       "value": 11
      }
     },
     "9aa3162f15f4496e96a535a311ba7bcb": {
      "model_module": "@jupyter-widgets/base",
      "model_module_version": "1.2.0",
      "model_name": "LayoutModel",
      "state": {}
     },
     "9abdbccf223c4a89a360dbee9c555c00": {
      "model_module": "@jupyter-widgets/base",
      "model_module_version": "1.2.0",
      "model_name": "LayoutModel",
      "state": {}
     },
     "9af82b3c10ea4ee69ea4f68b997c67d0": {
      "model_module": "@jupyter-widgets/base",
      "model_module_version": "1.2.0",
      "model_name": "LayoutModel",
      "state": {}
     },
     "9af8cf0f9d3a41e08509373c4d6299e6": {
      "model_module": "@jupyter-widgets/controls",
      "model_module_version": "1.5.0",
      "model_name": "DescriptionStyleModel",
      "state": {
       "description_width": ""
      }
     },
     "9b208408055a4d64bdbcafd76733e548": {
      "model_module": "@jupyter-widgets/controls",
      "model_module_version": "1.5.0",
      "model_name": "HTMLModel",
      "state": {
       "layout": "IPY_MODEL_6bcd8e698c3942c7bbfd59c885e1cf33",
       "style": "IPY_MODEL_66896e07145349bcb58a5bfee5def119",
       "value": " 0/10 [00:00&lt;?, ?it/s]"
      }
     },
     "9b302746c23f424dbe4cb23dd8093896": {
      "model_module": "@jupyter-widgets/base",
      "model_module_version": "1.2.0",
      "model_name": "LayoutModel",
      "state": {}
     },
     "9b31380026af430bba4a2aad7bc39008": {
      "model_module": "@jupyter-widgets/controls",
      "model_module_version": "1.5.0",
      "model_name": "ProgressStyleModel",
      "state": {
       "description_width": "initial"
      }
     },
     "9b5a111f71df4748a6f3836fc649d780": {
      "model_module": "@jupyter-widgets/base",
      "model_module_version": "1.2.0",
      "model_name": "LayoutModel",
      "state": {}
     },
     "9b89cbec03c74814b21081ba65212ea4": {
      "model_module": "@jupyter-widgets/controls",
      "model_module_version": "1.5.0",
      "model_name": "FloatProgressModel",
      "state": {
       "description": "val loss: 0.2775: 100%",
       "layout": "IPY_MODEL_599ea392aef246d9bd2d99983ee17488",
       "max": 11,
       "style": "IPY_MODEL_126bdd48437345089247aba096b7b765",
       "value": 11
      }
     },
     "9bd8d0c9b432414b9cd99b5c200197ae": {
      "model_module": "@jupyter-widgets/controls",
      "model_module_version": "1.5.0",
      "model_name": "FloatProgressModel",
      "state": {
       "description": "val loss: 0.2678: 100%",
       "layout": "IPY_MODEL_1a9623d63186479fb5257e8376f93117",
       "max": 22,
       "style": "IPY_MODEL_6d004b710ee44913b568839bc151733b",
       "value": 22
      }
     },
     "9c43bc1857064c64ba28caea2c284367": {
      "model_module": "@jupyter-widgets/base",
      "model_module_version": "1.2.0",
      "model_name": "LayoutModel",
      "state": {}
     },
     "9ca694b4fcf64dd9b399bf716d33da67": {
      "model_module": "@jupyter-widgets/base",
      "model_module_version": "1.2.0",
      "model_name": "LayoutModel",
      "state": {}
     },
     "9cb0fb62c2fa4f8a869f3474280df578": {
      "model_module": "@jupyter-widgets/base",
      "model_module_version": "1.2.0",
      "model_name": "LayoutModel",
      "state": {}
     },
     "9cbdcbbb7d7a4dfaa3ba248e252a15e1": {
      "model_module": "@jupyter-widgets/base",
      "model_module_version": "1.2.0",
      "model_name": "LayoutModel",
      "state": {}
     },
     "9cd347aea81e45dca681876238a528a8": {
      "model_module": "@jupyter-widgets/controls",
      "model_module_version": "1.5.0",
      "model_name": "FloatProgressModel",
      "state": {
       "description": "train loss: 0.0172: 100%",
       "layout": "IPY_MODEL_5cb182723ce84acf8d3c9629d4855099",
       "max": 50,
       "style": "IPY_MODEL_75d4071e173b4915a5c830d5dd2a21bf",
       "value": 50
      }
     },
     "9cfba2c0297f447fa13dcac7983c0c2a": {
      "model_module": "@jupyter-widgets/base",
      "model_module_version": "1.2.0",
      "model_name": "LayoutModel",
      "state": {}
     },
     "9d1c7aa679aa4fdda257bb80c2269403": {
      "model_module": "@jupyter-widgets/base",
      "model_module_version": "1.2.0",
      "model_name": "LayoutModel",
      "state": {}
     },
     "9d41546014894fa3bc80b5958dbda30c": {
      "model_module": "@jupyter-widgets/base",
      "model_module_version": "1.2.0",
      "model_name": "LayoutModel",
      "state": {}
     },
     "9d432ace6bb84e8bb5389c410fb860ab": {
      "model_module": "@jupyter-widgets/base",
      "model_module_version": "1.2.0",
      "model_name": "LayoutModel",
      "state": {}
     },
     "9d597124dde14df281e86529e2078987": {
      "model_module": "@jupyter-widgets/base",
      "model_module_version": "1.2.0",
      "model_name": "LayoutModel",
      "state": {}
     },
     "9d7ff0e617064445b19acb668cdc53aa": {
      "model_module": "@jupyter-widgets/controls",
      "model_module_version": "1.5.0",
      "model_name": "DescriptionStyleModel",
      "state": {
       "description_width": ""
      }
     },
     "9d9d888fec3b4bfb8d5522be2cc1ce88": {
      "model_module": "@jupyter-widgets/controls",
      "model_module_version": "1.5.0",
      "model_name": "HTMLModel",
      "state": {
       "layout": "IPY_MODEL_af6b468c26ba4003a51b2ef963b4c7b5",
       "style": "IPY_MODEL_14cb002e2f9442bf9ebdbd053a9d12b2",
       "value": " 6/6 [00:00&lt;00:00, 136.81it/s]"
      }
     },
     "9da2ac60f07c4ae8841b49ae51e55b54": {
      "model_module": "@jupyter-widgets/controls",
      "model_module_version": "1.5.0",
      "model_name": "DescriptionStyleModel",
      "state": {
       "description_width": ""
      }
     },
     "9dab0a4a492e4338bc135c60f0a24c06": {
      "model_module": "@jupyter-widgets/base",
      "model_module_version": "1.2.0",
      "model_name": "LayoutModel",
      "state": {}
     },
     "9dabdd48254d45ec82ef9b42cb438829": {
      "model_module": "@jupyter-widgets/base",
      "model_module_version": "1.2.0",
      "model_name": "LayoutModel",
      "state": {}
     },
     "9deb12c59e0747fea1a8ada7ddf9cb7f": {
      "model_module": "@jupyter-widgets/base",
      "model_module_version": "1.2.0",
      "model_name": "LayoutModel",
      "state": {}
     },
     "9e0eb49a71e440c7b6cf42cd715df257": {
      "model_module": "@jupyter-widgets/base",
      "model_module_version": "1.2.0",
      "model_name": "LayoutModel",
      "state": {}
     },
     "9e4f8ba4e77643e1b63f572031389eeb": {
      "model_module": "@jupyter-widgets/base",
      "model_module_version": "1.2.0",
      "model_name": "LayoutModel",
      "state": {}
     },
     "9e5e52e4fb1d40289b648a92eecbad30": {
      "model_module": "@jupyter-widgets/base",
      "model_module_version": "1.2.0",
      "model_name": "LayoutModel",
      "state": {}
     },
     "9e6938ae6ae14a5d80b2dc9de8ec2c61": {
      "model_module": "@jupyter-widgets/controls",
      "model_module_version": "1.5.0",
      "model_name": "HTMLModel",
      "state": {
       "layout": "IPY_MODEL_ba1a18b3ae0041a48aa14e39fbab991b",
       "style": "IPY_MODEL_14e643ebf2404dcfbeefb5763b1c1c4a",
       "value": " 99/99 [00:27&lt;00:00,  1.90it/s]"
      }
     },
     "9e82321c89ab4064b60963cbe790812e": {
      "model_module": "@jupyter-widgets/base",
      "model_module_version": "1.2.0",
      "model_name": "LayoutModel",
      "state": {}
     },
     "9ecedfdda8354102b226010d059190c6": {
      "model_module": "@jupyter-widgets/controls",
      "model_module_version": "1.5.0",
      "model_name": "ProgressStyleModel",
      "state": {
       "description_width": "initial"
      }
     },
     "9f112adbbea246c1a2de1d88f16479ee": {
      "model_module": "@jupyter-widgets/controls",
      "model_module_version": "1.5.0",
      "model_name": "HTMLModel",
      "state": {
       "layout": "IPY_MODEL_d47b675919b74c128059358af5682450",
       "style": "IPY_MODEL_66703ffebb9a4e969bda2b9c41f6337a",
       "value": " 11/11 [00:00&lt;00:00, 136.17it/s]"
      }
     },
     "9f21d482edbd4b87a39a8d0c597fec64": {
      "model_module": "@jupyter-widgets/base",
      "model_module_version": "1.2.0",
      "model_name": "LayoutModel",
      "state": {}
     },
     "9f37b87dcb044efab05bc03766cb3100": {
      "model_module": "@jupyter-widgets/controls",
      "model_module_version": "1.5.0",
      "model_name": "HTMLModel",
      "state": {
       "layout": "IPY_MODEL_34560488f743428fab8b575f41d9ee93",
       "style": "IPY_MODEL_4c2006025d9c49ffaffa2fcc670bbb79",
       "value": " 99/99 [00:18&lt;00:00,  2.93it/s]"
      }
     },
     "9f4ffa99048e4b9180d0a296d96f24e6": {
      "model_module": "@jupyter-widgets/controls",
      "model_module_version": "1.5.0",
      "model_name": "ProgressStyleModel",
      "state": {
       "description_width": "initial"
      }
     },
     "9f550d4e56f149f1ae0c43bb543e1136": {
      "model_module": "@jupyter-widgets/controls",
      "model_module_version": "1.5.0",
      "model_name": "DescriptionStyleModel",
      "state": {
       "description_width": ""
      }
     },
     "9f679c5bc39141d3b1a4c77c65365431": {
      "model_module": "@jupyter-widgets/base",
      "model_module_version": "1.2.0",
      "model_name": "LayoutModel",
      "state": {}
     },
     "9f899a4f99324d3eaf34c839689277a7": {
      "model_module": "@jupyter-widgets/base",
      "model_module_version": "1.2.0",
      "model_name": "LayoutModel",
      "state": {}
     },
     "9f8d4395ab3a4ba8a8ee91b92b645460": {
      "model_module": "@jupyter-widgets/controls",
      "model_module_version": "1.5.0",
      "model_name": "FloatProgressModel",
      "state": {
       "description": "val loss: 0.3125: 100%",
       "layout": "IPY_MODEL_f98cc906d8254adba861f693bea83b5f",
       "max": 11,
       "style": "IPY_MODEL_ac3bde530a9d41458f4359cfc499b817",
       "value": 11
      }
     },
     "9f9b7078aa504fc18d00af8a248d18b4": {
      "model_module": "@jupyter-widgets/controls",
      "model_module_version": "1.5.0",
      "model_name": "ProgressStyleModel",
      "state": {
       "description_width": "initial"
      }
     },
     "9fbdb126f05142f29e30af68fb1f0a44": {
      "model_module": "@jupyter-widgets/base",
      "model_module_version": "1.2.0",
      "model_name": "LayoutModel",
      "state": {}
     },
     "a014682e46ac469dae06b9b649287ed5": {
      "model_module": "@jupyter-widgets/controls",
      "model_module_version": "1.5.0",
      "model_name": "FloatProgressModel",
      "state": {
       "bar_style": "danger",
       "description": "train loss: 0.6906:   0%",
       "layout": "IPY_MODEL_4533b1066dee433cae2a2d9cd44a327c",
       "max": 50,
       "style": "IPY_MODEL_a014978130d4403aaf34196fb9c806d9"
      }
     },
     "a014978130d4403aaf34196fb9c806d9": {
      "model_module": "@jupyter-widgets/controls",
      "model_module_version": "1.5.0",
      "model_name": "ProgressStyleModel",
      "state": {
       "description_width": "initial"
      }
     },
     "a0303ca33e1a471184f832048c08de81": {
      "model_module": "@jupyter-widgets/base",
      "model_module_version": "1.2.0",
      "model_name": "LayoutModel",
      "state": {}
     },
     "a04f7c2b6e1845ab993d1759d70e81fe": {
      "model_module": "@jupyter-widgets/controls",
      "model_module_version": "1.5.0",
      "model_name": "ProgressStyleModel",
      "state": {
       "description_width": "initial"
      }
     },
     "a091b189bb364a7f98f48518a939611f": {
      "model_module": "@jupyter-widgets/controls",
      "model_module_version": "1.5.0",
      "model_name": "FloatProgressModel",
      "state": {
       "description": "train loss: 0.0160: 100%",
       "layout": "IPY_MODEL_35e8232bc47143a4b4b18a68c50cd2b0",
       "max": 50,
       "style": "IPY_MODEL_8eb4e786efe0462289068e108792323d",
       "value": 50
      }
     },
     "a0e0abb2de084fecb95447cbadf613a7": {
      "model_module": "@jupyter-widgets/controls",
      "model_module_version": "1.5.0",
      "model_name": "HTMLModel",
      "state": {
       "layout": "IPY_MODEL_12a4e324279e42568d8f6bf7c778f708",
       "style": "IPY_MODEL_2f7dccba6ea244919d5c67418f3b9b51",
       "value": " 11/11 [00:00&lt;00:00, 200.52it/s]"
      }
     },
     "a0e3deb4ae4940dc94f345dd4578bd6e": {
      "model_module": "@jupyter-widgets/controls",
      "model_module_version": "1.5.0",
      "model_name": "HTMLModel",
      "state": {
       "layout": "IPY_MODEL_e7fe95fca36c4accb775deb6aaebbc9f",
       "style": "IPY_MODEL_595451bc1f434fd09f628c0d55cea0ba",
       "value": " 25/25 [00:00&lt;00:00, 75.23it/s]"
      }
     },
     "a11f4206ca344a11b27ccc43e5972bda": {
      "model_module": "@jupyter-widgets/base",
      "model_module_version": "1.2.0",
      "model_name": "LayoutModel",
      "state": {}
     },
     "a1756944322f4156ac7ed6e17d5ed9bb": {
      "model_module": "@jupyter-widgets/controls",
      "model_module_version": "1.5.0",
      "model_name": "FloatProgressModel",
      "state": {
       "description": "val loss: 0.0532: 100%",
       "layout": "IPY_MODEL_d7449111c6414490bc6565d6cc0ff141",
       "max": 21,
       "style": "IPY_MODEL_99d6c5969ad343c98ade8a0f43aed673",
       "value": 21
      }
     },
     "a2348e5b3f524030b3c71739d181d966": {
      "model_module": "@jupyter-widgets/controls",
      "model_module_version": "1.5.0",
      "model_name": "HTMLModel",
      "state": {
       "layout": "IPY_MODEL_0f8c9a084abf4fd5bdb774b8a111a9e0",
       "style": "IPY_MODEL_2c98871e74554479ba12c5193b6f0c44",
       "value": " 99/99 [00:27&lt;00:00,  1.93it/s]"
      }
     },
     "a23a79e0cf6e4e6e97d9623577717ef0": {
      "model_module": "@jupyter-widgets/base",
      "model_module_version": "1.2.0",
      "model_name": "LayoutModel",
      "state": {}
     },
     "a2724e8d73a240e8ae04266ec9253f95": {
      "model_module": "@jupyter-widgets/base",
      "model_module_version": "1.2.0",
      "model_name": "LayoutModel",
      "state": {}
     },
     "a27b60ca4e86460089de6c8da4e915c9": {
      "model_module": "@jupyter-widgets/controls",
      "model_module_version": "1.5.0",
      "model_name": "FloatProgressModel",
      "state": {
       "description": "train loss: 0.1618: 100%",
       "layout": "IPY_MODEL_a80b934965ce44a0bca6bdf2e887a83f",
       "max": 50,
       "style": "IPY_MODEL_24fc845e9dd0416d97e2d1bc13e5727d",
       "value": 50
      }
     },
     "a2849d11798f47e4820c364c59177571": {
      "model_module": "@jupyter-widgets/controls",
      "model_module_version": "1.5.0",
      "model_name": "HTMLModel",
      "state": {
       "layout": "IPY_MODEL_af4ed03afdba45dd99d49311c9370561",
       "style": "IPY_MODEL_34f69c8abaa245198bfbe4d771ea7707",
       "value": " 22/22 [00:00&lt;00:00, 138.98it/s]"
      }
     },
     "a2882f8c5bea48c7b57fa24314c28ac2": {
      "model_module": "@jupyter-widgets/controls",
      "model_module_version": "1.5.0",
      "model_name": "FloatProgressModel",
      "state": {
       "description": "train loss: 0.2434: 100%",
       "layout": "IPY_MODEL_013a36c4ce3f4e80bef8e2907a2e953b",
       "max": 50,
       "style": "IPY_MODEL_6f4659317fb441d69ba5b29fa56ce59b",
       "value": 50
      }
     },
     "a2a95ae3f3784fca8f6e0ab4eebf8d83": {
      "model_module": "@jupyter-widgets/base",
      "model_module_version": "1.2.0",
      "model_name": "LayoutModel",
      "state": {}
     },
     "a2b3fc927e994ad3a76d0ed0df2c079b": {
      "model_module": "@jupyter-widgets/base",
      "model_module_version": "1.2.0",
      "model_name": "LayoutModel",
      "state": {}
     },
     "a2bf08750845475ab98aa382094eb12a": {
      "model_module": "@jupyter-widgets/base",
      "model_module_version": "1.2.0",
      "model_name": "LayoutModel",
      "state": {}
     },
     "a30010c38701426bb60a6cbc7c3ef378": {
      "model_module": "@jupyter-widgets/controls",
      "model_module_version": "1.5.0",
      "model_name": "HTMLModel",
      "state": {
       "layout": "IPY_MODEL_f1f636fede1042fd8a46048832372859",
       "style": "IPY_MODEL_5d22aff5a5924b0a8173d9f5a3451483",
       "value": " 21/21 [00:00&lt;00:00, 242.02it/s]"
      }
     },
     "a30379f3c049427e8194c0ab18811bdd": {
      "model_module": "@jupyter-widgets/base",
      "model_module_version": "1.2.0",
      "model_name": "LayoutModel",
      "state": {}
     },
     "a33d75af45c8474d9cb3a39423a9dae9": {
      "model_module": "@jupyter-widgets/controls",
      "model_module_version": "1.5.0",
      "model_name": "DescriptionStyleModel",
      "state": {
       "description_width": ""
      }
     },
     "a33f739d2c8942408dee2e4561d340e3": {
      "model_module": "@jupyter-widgets/base",
      "model_module_version": "1.2.0",
      "model_name": "LayoutModel",
      "state": {}
     },
     "a34219c065b34da9a2d8b9aec06a0f4d": {
      "model_module": "@jupyter-widgets/controls",
      "model_module_version": "1.5.0",
      "model_name": "ProgressStyleModel",
      "state": {
       "description_width": "initial"
      }
     },
     "a353dfe157af46189cd4485384f332b7": {
      "model_module": "@jupyter-widgets/controls",
      "model_module_version": "1.5.0",
      "model_name": "ProgressStyleModel",
      "state": {
       "description_width": "initial"
      }
     },
     "a354f5ae51474b1fb1a9436f6e49e5b2": {
      "model_module": "@jupyter-widgets/controls",
      "model_module_version": "1.5.0",
      "model_name": "ProgressStyleModel",
      "state": {
       "description_width": "initial"
      }
     },
     "a37f669f145e4513b77769e2be0156eb": {
      "model_module": "@jupyter-widgets/controls",
      "model_module_version": "1.5.0",
      "model_name": "ProgressStyleModel",
      "state": {
       "description_width": "initial"
      }
     },
     "a38a56e7ce7647ce8bb2d3dee6a5813f": {
      "model_module": "@jupyter-widgets/controls",
      "model_module_version": "1.5.0",
      "model_name": "DescriptionStyleModel",
      "state": {
       "description_width": ""
      }
     },
     "a38be9601ec2462d93b991d3fafa7ff6": {
      "model_module": "@jupyter-widgets/controls",
      "model_module_version": "1.5.0",
      "model_name": "ProgressStyleModel",
      "state": {
       "description_width": "initial"
      }
     },
     "a391ae34bd3a400ea777d32bc715387c": {
      "model_module": "@jupyter-widgets/base",
      "model_module_version": "1.2.0",
      "model_name": "LayoutModel",
      "state": {}
     },
     "a39c837aca2247239ad6f5103d4adb41": {
      "model_module": "@jupyter-widgets/controls",
      "model_module_version": "1.5.0",
      "model_name": "DescriptionStyleModel",
      "state": {
       "description_width": ""
      }
     },
     "a3d151434da543e2b16f5f38435423a4": {
      "model_module": "@jupyter-widgets/controls",
      "model_module_version": "1.5.0",
      "model_name": "DescriptionStyleModel",
      "state": {
       "description_width": ""
      }
     },
     "a3e6352dd74b4933a5c4bd883a0e02f6": {
      "model_module": "@jupyter-widgets/base",
      "model_module_version": "1.2.0",
      "model_name": "LayoutModel",
      "state": {}
     },
     "a41727c2859c4aaab19285ee20661e6f": {
      "model_module": "@jupyter-widgets/controls",
      "model_module_version": "1.5.0",
      "model_name": "HTMLModel",
      "state": {
       "layout": "IPY_MODEL_17c1e686af9d48689260c95b7963ea91",
       "style": "IPY_MODEL_bdff0801d89a4e349caa5a8a6dd73df2",
       "value": " 50/50 [00:07&lt;00:00,  3.76it/s]"
      }
     },
     "a43a5a2b0d9546f0b023aed04b5820f3": {
      "model_module": "@jupyter-widgets/controls",
      "model_module_version": "1.5.0",
      "model_name": "DescriptionStyleModel",
      "state": {
       "description_width": ""
      }
     },
     "a476eb9840e84a8caf0dae5eb616481d": {
      "model_module": "@jupyter-widgets/controls",
      "model_module_version": "1.5.0",
      "model_name": "DescriptionStyleModel",
      "state": {
       "description_width": ""
      }
     },
     "a4914ea09eb842f09b395d3ecf551560": {
      "model_module": "@jupyter-widgets/controls",
      "model_module_version": "1.5.0",
      "model_name": "FloatProgressModel",
      "state": {
       "description": "val loss: 0.0689: 100%",
       "layout": "IPY_MODEL_a11f4206ca344a11b27ccc43e5972bda",
       "max": 21,
       "style": "IPY_MODEL_a92b1ad3eb2543c5b6ce721dd5acd9e6",
       "value": 21
      }
     },
     "a4a2ae6504c2490da9b0f4609fe1c775": {
      "model_module": "@jupyter-widgets/controls",
      "model_module_version": "1.5.0",
      "model_name": "DescriptionStyleModel",
      "state": {
       "description_width": ""
      }
     },
     "a4d0e8b19c024d53ad4285aea661b780": {
      "model_module": "@jupyter-widgets/controls",
      "model_module_version": "1.5.0",
      "model_name": "HTMLModel",
      "state": {
       "layout": "IPY_MODEL_4d7a23d33dbf41cbbe5d758ea5583ad3",
       "style": "IPY_MODEL_1d8d13c919e240d3a92c031e1435fa68",
       "value": " 11/11 [00:00&lt;00:00, 200.54it/s]"
      }
     },
     "a505729eafcc4bbe92a423b8354e4f73": {
      "model_module": "@jupyter-widgets/base",
      "model_module_version": "1.2.0",
      "model_name": "LayoutModel",
      "state": {}
     },
     "a50bb1efa4634162b9576cd2a55aa5e4": {
      "model_module": "@jupyter-widgets/controls",
      "model_module_version": "1.5.0",
      "model_name": "HTMLModel",
      "state": {
       "layout": "IPY_MODEL_939a31b8b9704128b66440f29b3f8266",
       "style": "IPY_MODEL_8530685ede214ae4bdc787dca91bc6c5",
       "value": " 99/99 [00:01&lt;00:00, 95.43it/s]"
      }
     },
     "a53d5de697ff41b2aa1c521784f6d29d": {
      "model_module": "@jupyter-widgets/base",
      "model_module_version": "1.2.0",
      "model_name": "LayoutModel",
      "state": {}
     },
     "a55052bace6348b2aea32c93384f80ff": {
      "model_module": "@jupyter-widgets/controls",
      "model_module_version": "1.5.0",
      "model_name": "FloatProgressModel",
      "state": {
       "description": "train loss: 0.0766: 100%",
       "layout": "IPY_MODEL_d9a7172f331548e98b7655ad198a6107",
       "max": 50,
       "style": "IPY_MODEL_4d6acf4e1e3f46b1b634fedeb9e4d3d6",
       "value": 50
      }
     },
     "a574a81d428c4e958d6fe2a5dfb342b7": {
      "model_module": "@jupyter-widgets/controls",
      "model_module_version": "1.5.0",
      "model_name": "HTMLModel",
      "state": {
       "layout": "IPY_MODEL_b234e7d0465149c9bf084fab21ea84b8",
       "style": "IPY_MODEL_be488ee9108642e2aefbd3c816fcf738",
       "value": " 6/6 [00:00&lt;00:00, 143.24it/s]"
      }
     },
     "a5b6f30a6bb343eb86063c585d686ab5": {
      "model_module": "@jupyter-widgets/controls",
      "model_module_version": "1.5.0",
      "model_name": "ProgressStyleModel",
      "state": {
       "description_width": "initial"
      }
     },
     "a5da6c821f784d9da587c8f7b330dbcc": {
      "model_module": "@jupyter-widgets/base",
      "model_module_version": "1.2.0",
      "model_name": "LayoutModel",
      "state": {}
     },
     "a60359aba7944e74a1071888c1c8c8ad": {
      "model_module": "@jupyter-widgets/controls",
      "model_module_version": "1.5.0",
      "model_name": "ProgressStyleModel",
      "state": {
       "description_width": "initial"
      }
     },
     "a620f2e0724c461b86d26a24ad757459": {
      "model_module": "@jupyter-widgets/controls",
      "model_module_version": "1.5.0",
      "model_name": "HTMLModel",
      "state": {
       "layout": "IPY_MODEL_2ae6f2b13e1e4dd695d2f7468a8b5340",
       "style": "IPY_MODEL_39c3ef6a19e64f289ebd3153eb8c96e9",
       "value": " 10/10 [03:40&lt;00:00, 22.01s/it]"
      }
     },
     "a648310f5afc4cf6a79016f77486943d": {
      "model_module": "@jupyter-widgets/base",
      "model_module_version": "1.2.0",
      "model_name": "LayoutModel",
      "state": {}
     },
     "a67b79051d8642c799c0dae34775cbf0": {
      "model_module": "@jupyter-widgets/base",
      "model_module_version": "1.2.0",
      "model_name": "LayoutModel",
      "state": {}
     },
     "a67c62ef755d45e49ba06268f5f0badc": {
      "model_module": "@jupyter-widgets/controls",
      "model_module_version": "1.5.0",
      "model_name": "FloatProgressModel",
      "state": {
       "description": "val loss: 0.3297: 100%",
       "layout": "IPY_MODEL_a7b1a4e4681642beb8498fc6be307e56",
       "max": 22,
       "style": "IPY_MODEL_2a45c5b18d854b268e378963c392b322",
       "value": 22
      }
     },
     "a67cf23e74174b8f8961344dfffadda3": {
      "model_module": "@jupyter-widgets/base",
      "model_module_version": "1.2.0",
      "model_name": "LayoutModel",
      "state": {}
     },
     "a699692d57e84b42ab1b31a2f8605edd": {
      "model_module": "@jupyter-widgets/controls",
      "model_module_version": "1.5.0",
      "model_name": "DescriptionStyleModel",
      "state": {
       "description_width": ""
      }
     },
     "a6ba6379e376431295d3e305ca939168": {
      "model_module": "@jupyter-widgets/base",
      "model_module_version": "1.2.0",
      "model_name": "LayoutModel",
      "state": {}
     },
     "a6c89f4d538e44ddbe169813a6fb8a1b": {
      "model_module": "@jupyter-widgets/controls",
      "model_module_version": "1.5.0",
      "model_name": "HTMLModel",
      "state": {
       "layout": "IPY_MODEL_df2a5ac730a54a70a30311c5e69bba78",
       "style": "IPY_MODEL_d1764354b63d4ea8b09d134847351ce4",
       "value": " 11/11 [00:00&lt;00:00, 136.21it/s]"
      }
     },
     "a6cf82702cb746bdb6492342e5499074": {
      "model_module": "@jupyter-widgets/controls",
      "model_module_version": "1.5.0",
      "model_name": "FloatProgressModel",
      "state": {
       "description": "val loss: 0.0886: 100%",
       "layout": "IPY_MODEL_54aae2a1813c4cb988e5311fb683ac6a",
       "max": 11,
       "style": "IPY_MODEL_20680f2a20cb434eaa75643975c107e9",
       "value": 11
      }
     },
     "a703caa36f554a7ebf367f615656945e": {
      "model_module": "@jupyter-widgets/controls",
      "model_module_version": "1.5.0",
      "model_name": "DescriptionStyleModel",
      "state": {
       "description_width": ""
      }
     },
     "a71b0d29065c40698ed860edc4edbc7f": {
      "model_module": "@jupyter-widgets/base",
      "model_module_version": "1.2.0",
      "model_name": "LayoutModel",
      "state": {}
     },
     "a77076f7fac644f68dc08d6e29800770": {
      "model_module": "@jupyter-widgets/controls",
      "model_module_version": "1.5.0",
      "model_name": "DescriptionStyleModel",
      "state": {
       "description_width": ""
      }
     },
     "a7b1a4e4681642beb8498fc6be307e56": {
      "model_module": "@jupyter-widgets/base",
      "model_module_version": "1.2.0",
      "model_name": "LayoutModel",
      "state": {}
     },
     "a7e88b3cc2864717ae353ef7739d6341": {
      "model_module": "@jupyter-widgets/controls",
      "model_module_version": "1.5.0",
      "model_name": "DescriptionStyleModel",
      "state": {
       "description_width": ""
      }
     },
     "a80b934965ce44a0bca6bdf2e887a83f": {
      "model_module": "@jupyter-widgets/base",
      "model_module_version": "1.2.0",
      "model_name": "LayoutModel",
      "state": {}
     },
     "a82630d31d094dd6b39513af90ad7752": {
      "model_module": "@jupyter-widgets/controls",
      "model_module_version": "1.5.0",
      "model_name": "ProgressStyleModel",
      "state": {
       "description_width": "initial"
      }
     },
     "a8269b9df0c24e169c8beb0dee9ace63": {
      "model_module": "@jupyter-widgets/controls",
      "model_module_version": "1.5.0",
      "model_name": "HTMLModel",
      "state": {
       "layout": "IPY_MODEL_3c50c0269b5545918ad1e862b7af85e2",
       "style": "IPY_MODEL_69bc47375ea14fff9a8ff95c1a97637f",
       "value": " 11/11 [00:00&lt;00:00, 137.87it/s]"
      }
     },
     "a869f5dff091404291704c3448451fdc": {
      "model_module": "@jupyter-widgets/base",
      "model_module_version": "1.2.0",
      "model_name": "LayoutModel",
      "state": {}
     },
     "a8a0d7ee0ace420ca7382b0e42cb78ee": {
      "model_module": "@jupyter-widgets/controls",
      "model_module_version": "1.5.0",
      "model_name": "DescriptionStyleModel",
      "state": {
       "description_width": ""
      }
     },
     "a8b1794e4e734472b8c8f2dd37a9d40d": {
      "model_module": "@jupyter-widgets/controls",
      "model_module_version": "1.5.0",
      "model_name": "HTMLModel",
      "state": {
       "layout": "IPY_MODEL_cee8e8bb22ae4ab589166e0d07115c9f",
       "style": "IPY_MODEL_1ce7e7681dba4cc8a119a7ccfef94aba",
       "value": " 11/11 [00:00&lt;00:00, 134.46it/s]"
      }
     },
     "a8c0d9936b93475d9e17dbfd75084c47": {
      "model_module": "@jupyter-widgets/base",
      "model_module_version": "1.2.0",
      "model_name": "LayoutModel",
      "state": {}
     },
     "a8d0c085f1eb4dfe9e05544e19f7a585": {
      "model_module": "@jupyter-widgets/controls",
      "model_module_version": "1.5.0",
      "model_name": "ProgressStyleModel",
      "state": {
       "description_width": "initial"
      }
     },
     "a92381b3606a427d877a8ef29a1fa22f": {
      "model_module": "@jupyter-widgets/base",
      "model_module_version": "1.2.0",
      "model_name": "LayoutModel",
      "state": {}
     },
     "a924f713262c4126b0b99b63d3435178": {
      "model_module": "@jupyter-widgets/controls",
      "model_module_version": "1.5.0",
      "model_name": "ProgressStyleModel",
      "state": {
       "description_width": "initial"
      }
     },
     "a92b1ad3eb2543c5b6ce721dd5acd9e6": {
      "model_module": "@jupyter-widgets/controls",
      "model_module_version": "1.5.0",
      "model_name": "ProgressStyleModel",
      "state": {
       "description_width": "initial"
      }
     },
     "a92d9d5532624492b7f690b4e24b7731": {
      "model_module": "@jupyter-widgets/base",
      "model_module_version": "1.2.0",
      "model_name": "LayoutModel",
      "state": {}
     },
     "a9344862aed34ebdb6eef0a06b01fecb": {
      "model_module": "@jupyter-widgets/controls",
      "model_module_version": "1.5.0",
      "model_name": "ProgressStyleModel",
      "state": {
       "description_width": "initial"
      }
     },
     "a95d46b9e3044cb9a7ced752ce27a999": {
      "model_module": "@jupyter-widgets/controls",
      "model_module_version": "1.5.0",
      "model_name": "DescriptionStyleModel",
      "state": {
       "description_width": ""
      }
     },
     "a95d82a5b4224f96bfaf88a4736ef598": {
      "model_module": "@jupyter-widgets/controls",
      "model_module_version": "1.5.0",
      "model_name": "HTMLModel",
      "state": {
       "layout": "IPY_MODEL_2da5ac7591b644a2b2eb119b87f270fb",
       "style": "IPY_MODEL_699dbe8cec054cfab20b0b2170962a10",
       "value": " 11/11 [00:00&lt;00:00, 193.52it/s]"
      }
     },
     "a9ac1fb828a04ecc98bcb023941d31e5": {
      "model_module": "@jupyter-widgets/controls",
      "model_module_version": "1.5.0",
      "model_name": "ProgressStyleModel",
      "state": {
       "description_width": "initial"
      }
     },
     "a9ac36aab972462e8a05b21ce1477b29": {
      "model_module": "@jupyter-widgets/controls",
      "model_module_version": "1.5.0",
      "model_name": "HTMLModel",
      "state": {
       "layout": "IPY_MODEL_4cd2eb07852549e8b3ce1535e7224979",
       "style": "IPY_MODEL_71cce58d2c984838881fedf5ce4a02cd",
       "value": " 11/11 [00:00&lt;00:00, 139.63it/s]"
      }
     },
     "a9c062c28caa427da0de95f89592b465": {
      "model_module": "@jupyter-widgets/controls",
      "model_module_version": "1.5.0",
      "model_name": "DescriptionStyleModel",
      "state": {
       "description_width": ""
      }
     },
     "a9c4524cbc184761899f062b30ece891": {
      "model_module": "@jupyter-widgets/base",
      "model_module_version": "1.2.0",
      "model_name": "LayoutModel",
      "state": {}
     },
     "a9e79692dfc349bc8319630b6a7d6c51": {
      "model_module": "@jupyter-widgets/controls",
      "model_module_version": "1.5.0",
      "model_name": "HTMLModel",
      "state": {
       "layout": "IPY_MODEL_e94ca5e53e5040b99848fff1c0610ef7",
       "style": "IPY_MODEL_fae5a6542c4440edbbc0d379cda024d7",
       "value": " 22/22 [00:00&lt;00:00, 188.62it/s]"
      }
     },
     "aa47621e2391409cb5241ac2a38974b8": {
      "model_module": "@jupyter-widgets/controls",
      "model_module_version": "1.5.0",
      "model_name": "ProgressStyleModel",
      "state": {
       "description_width": "initial"
      }
     },
     "aa897dc02f0246f8bd9ce957c6d04dbd": {
      "model_module": "@jupyter-widgets/base",
      "model_module_version": "1.2.0",
      "model_name": "LayoutModel",
      "state": {}
     },
     "aabcee65097e4b958ceb739153012d59": {
      "model_module": "@jupyter-widgets/controls",
      "model_module_version": "1.5.0",
      "model_name": "DescriptionStyleModel",
      "state": {
       "description_width": ""
      }
     },
     "aac00b1db6b1436195ef65e86c1946ce": {
      "model_module": "@jupyter-widgets/base",
      "model_module_version": "1.2.0",
      "model_name": "LayoutModel",
      "state": {}
     },
     "aad49c956c054754920a0b7be96a75ef": {
      "model_module": "@jupyter-widgets/base",
      "model_module_version": "1.2.0",
      "model_name": "LayoutModel",
      "state": {}
     },
     "aaea52c6d6b840d4bedf0d45d2dfd061": {
      "model_module": "@jupyter-widgets/controls",
      "model_module_version": "1.5.0",
      "model_name": "HTMLModel",
      "state": {
       "layout": "IPY_MODEL_d0c332fb814c47f09e7dd53b296c34ff",
       "style": "IPY_MODEL_ea34d2277773413cb0dcb644708a889f",
       "value": " 50/50 [00:07&lt;00:00,  3.58it/s]"
      }
     },
     "ab0a8a026e884e59b0c78b26f7fffe37": {
      "model_module": "@jupyter-widgets/controls",
      "model_module_version": "1.5.0",
      "model_name": "DescriptionStyleModel",
      "state": {
       "description_width": ""
      }
     },
     "ab278bb0b1e0497f9ace0ea03aec96b4": {
      "model_module": "@jupyter-widgets/controls",
      "model_module_version": "1.5.0",
      "model_name": "FloatProgressModel",
      "state": {
       "description": "val loss: 0.0535: 100%",
       "layout": "IPY_MODEL_b154e2f315584f50a4ed9a6cc2f2e5c6",
       "max": 21,
       "style": "IPY_MODEL_fd8b78a6dd414f309be7819a74549dd3",
       "value": 21
      }
     },
     "ab407e79c79a406a9cc2ddf2aac758e7": {
      "model_module": "@jupyter-widgets/base",
      "model_module_version": "1.2.0",
      "model_name": "LayoutModel",
      "state": {}
     },
     "ab5cd799182949c4a310730705b955ce": {
      "model_module": "@jupyter-widgets/controls",
      "model_module_version": "1.5.0",
      "model_name": "DescriptionStyleModel",
      "state": {
       "description_width": ""
      }
     },
     "ab67a8627ab8438a9bdb0db7d6fed1e0": {
      "model_module": "@jupyter-widgets/base",
      "model_module_version": "1.2.0",
      "model_name": "LayoutModel",
      "state": {}
     },
     "abaf0231d3eb406a9b5472c5b88e49c8": {
      "model_module": "@jupyter-widgets/base",
      "model_module_version": "1.2.0",
      "model_name": "LayoutModel",
      "state": {}
     },
     "abdc1b11837e4b5cb5ba432270e12c3a": {
      "model_module": "@jupyter-widgets/base",
      "model_module_version": "1.2.0",
      "model_name": "LayoutModel",
      "state": {}
     },
     "ac0488919f6e40acb4f27aa39169ed51": {
      "model_module": "@jupyter-widgets/controls",
      "model_module_version": "1.5.0",
      "model_name": "ProgressStyleModel",
      "state": {
       "description_width": "initial"
      }
     },
     "ac3bde530a9d41458f4359cfc499b817": {
      "model_module": "@jupyter-widgets/controls",
      "model_module_version": "1.5.0",
      "model_name": "ProgressStyleModel",
      "state": {
       "description_width": "initial"
      }
     },
     "ac67ecf40b9a4dce9a7862d6a32a0f36": {
      "model_module": "@jupyter-widgets/controls",
      "model_module_version": "1.5.0",
      "model_name": "HTMLModel",
      "state": {
       "layout": "IPY_MODEL_b541a129ae0f4e5c98fe37b9fb3478d1",
       "style": "IPY_MODEL_cdb78035f25a41fe9990385ba4b3a9f4",
       "value": " 50/50 [00:00&lt;00:00, 91.41it/s]"
      }
     },
     "acb272b2af9f4e5b876b8df2f59ef301": {
      "model_module": "@jupyter-widgets/base",
      "model_module_version": "1.2.0",
      "model_name": "LayoutModel",
      "state": {}
     },
     "accf505b1f924641ba68051617cb940b": {
      "model_module": "@jupyter-widgets/base",
      "model_module_version": "1.2.0",
      "model_name": "LayoutModel",
      "state": {}
     },
     "acf7c1942e344e3ca8816e8baf6d3049": {
      "model_module": "@jupyter-widgets/controls",
      "model_module_version": "1.5.0",
      "model_name": "ProgressStyleModel",
      "state": {
       "description_width": "initial"
      }
     },
     "ad4a122b04c54408b61e98266bca2947": {
      "model_module": "@jupyter-widgets/base",
      "model_module_version": "1.2.0",
      "model_name": "LayoutModel",
      "state": {}
     },
     "ad7129d594a046f286c74bc09a855200": {
      "model_module": "@jupyter-widgets/controls",
      "model_module_version": "1.5.0",
      "model_name": "FloatProgressModel",
      "state": {
       "description": "val loss: 0.4024: 100%",
       "layout": "IPY_MODEL_6416cd993bfa4606a206a721b0ffdfb9",
       "max": 11,
       "style": "IPY_MODEL_00f633747ec246e09be0e2ff70a194e1",
       "value": 11
      }
     },
     "ad78df99e0c444da90b501731bb9b71d": {
      "model_module": "@jupyter-widgets/controls",
      "model_module_version": "1.5.0",
      "model_name": "FloatProgressModel",
      "state": {
       "description": "train loss: 0.3703: 100%",
       "layout": "IPY_MODEL_e5829032342a4bc899e15cfdf4d60755",
       "max": 50,
       "style": "IPY_MODEL_feda3560983d4d62abc7e13a78bee640",
       "value": 50
      }
     },
     "ad88b6e0d3ec4b3bb25ba830597e37b2": {
      "model_module": "@jupyter-widgets/controls",
      "model_module_version": "1.5.0",
      "model_name": "FloatProgressModel",
      "state": {
       "description": "train loss: 0.8502: 100%",
       "layout": "IPY_MODEL_d0d588c7991b4b78a0b648ee7243bb9e",
       "max": 50,
       "style": "IPY_MODEL_246857414a7849dd90e207a92b31fe79",
       "value": 50
      }
     },
     "ad91c877809741a8a19274f764095316": {
      "model_module": "@jupyter-widgets/base",
      "model_module_version": "1.2.0",
      "model_name": "LayoutModel",
      "state": {}
     },
     "ade3975088374618ae90f7d9d54be8ef": {
      "model_module": "@jupyter-widgets/base",
      "model_module_version": "1.2.0",
      "model_name": "LayoutModel",
      "state": {}
     },
     "adf1721fb5684364bf0d5c7599e8bea9": {
      "model_module": "@jupyter-widgets/base",
      "model_module_version": "1.2.0",
      "model_name": "LayoutModel",
      "state": {}
     },
     "ae3edafe11f24126bd1195a59265a326": {
      "model_module": "@jupyter-widgets/base",
      "model_module_version": "1.2.0",
      "model_name": "LayoutModel",
      "state": {}
     },
     "ae784e6fe3904e2cb32de1debe3c5c1a": {
      "model_module": "@jupyter-widgets/controls",
      "model_module_version": "1.5.0",
      "model_name": "DescriptionStyleModel",
      "state": {
       "description_width": ""
      }
     },
     "aeeb3f2b91f342e1a4a57f1cda0d686f": {
      "model_module": "@jupyter-widgets/controls",
      "model_module_version": "1.5.0",
      "model_name": "DescriptionStyleModel",
      "state": {
       "description_width": ""
      }
     },
     "af0061f938514c95a99063e68d3e1ba4": {
      "model_module": "@jupyter-widgets/controls",
      "model_module_version": "1.5.0",
      "model_name": "FloatProgressModel",
      "state": {
       "description": "train loss: 0.2886: 100%",
       "layout": "IPY_MODEL_034c38e477d5487db7ef97454245a858",
       "max": 99,
       "style": "IPY_MODEL_a82630d31d094dd6b39513af90ad7752",
       "value": 99
      }
     },
     "af2deec2efdb4accaaf30ba995f51339": {
      "model_module": "@jupyter-widgets/base",
      "model_module_version": "1.2.0",
      "model_name": "LayoutModel",
      "state": {}
     },
     "af4ed03afdba45dd99d49311c9370561": {
      "model_module": "@jupyter-widgets/base",
      "model_module_version": "1.2.0",
      "model_name": "LayoutModel",
      "state": {}
     },
     "af5b91b9af5c44d496d7f3ca59e963e8": {
      "model_module": "@jupyter-widgets/controls",
      "model_module_version": "1.5.0",
      "model_name": "HTMLModel",
      "state": {
       "layout": "IPY_MODEL_adf1721fb5684364bf0d5c7599e8bea9",
       "style": "IPY_MODEL_d3e01cd93373489eba3ea7d741ae4ade",
       "value": " 99/99 [00:00&lt;00:00, 108.14it/s]"
      }
     },
     "af64e5614e064a02b8659608b46749d3": {
      "model_module": "@jupyter-widgets/base",
      "model_module_version": "1.2.0",
      "model_name": "LayoutModel",
      "state": {}
     },
     "af677cd1de504735893160e199e004a7": {
      "model_module": "@jupyter-widgets/controls",
      "model_module_version": "1.5.0",
      "model_name": "FloatProgressModel",
      "state": {
       "description": "train loss: 0.0063: 100%",
       "layout": "IPY_MODEL_e092a03c0dd648d7a9eced0fc430053a",
       "max": 99,
       "style": "IPY_MODEL_b9d744c3add6453495691fc71bb4a5da",
       "value": 99
      }
     },
     "af6b468c26ba4003a51b2ef963b4c7b5": {
      "model_module": "@jupyter-widgets/base",
      "model_module_version": "1.2.0",
      "model_name": "LayoutModel",
      "state": {}
     },
     "af916f68d58c4cabbc55cdee5d2e7eeb": {
      "model_module": "@jupyter-widgets/base",
      "model_module_version": "1.2.0",
      "model_name": "LayoutModel",
      "state": {}
     },
     "af9ceb4ef6754d3cb496ce71732b1d41": {
      "model_module": "@jupyter-widgets/base",
      "model_module_version": "1.2.0",
      "model_name": "LayoutModel",
      "state": {}
     },
     "afb62fe742814d8a867104c571f95586": {
      "model_module": "@jupyter-widgets/base",
      "model_module_version": "1.2.0",
      "model_name": "LayoutModel",
      "state": {}
     },
     "afdf2388452745199071adf0385c68c8": {
      "model_module": "@jupyter-widgets/controls",
      "model_module_version": "1.5.0",
      "model_name": "ProgressStyleModel",
      "state": {
       "description_width": "initial"
      }
     },
     "aff05fbaccd14c7097ab15bbde305c2c": {
      "model_module": "@jupyter-widgets/controls",
      "model_module_version": "1.5.0",
      "model_name": "FloatProgressModel",
      "state": {
       "description": "train loss: 0.2246: 100%",
       "layout": "IPY_MODEL_0e6d83b9fc5e41b59c9674975568703a",
       "max": 99,
       "style": "IPY_MODEL_760ee58a3cab4fad864981664b82fe31",
       "value": 99
      }
     },
     "b0001ddd472441b38b4c104f41de7e6c": {
      "model_module": "@jupyter-widgets/base",
      "model_module_version": "1.2.0",
      "model_name": "LayoutModel",
      "state": {}
     },
     "b0048d24b4c74dfdac7d485cbb408f3d": {
      "model_module": "@jupyter-widgets/controls",
      "model_module_version": "1.5.0",
      "model_name": "FloatProgressModel",
      "state": {
       "description": "train loss: 0.1263: 100%",
       "layout": "IPY_MODEL_4d75b453a04c45b1861460330adf129e",
       "max": 25,
       "style": "IPY_MODEL_0346194f080245bca662679e7ea2722a",
       "value": 25
      }
     },
     "b015b64227c94183ad83434e8f2950cf": {
      "model_module": "@jupyter-widgets/base",
      "model_module_version": "1.2.0",
      "model_name": "LayoutModel",
      "state": {}
     },
     "b066d8f17b7e4e8eb4ffa67f44189375": {
      "model_module": "@jupyter-widgets/controls",
      "model_module_version": "1.5.0",
      "model_name": "HTMLModel",
      "state": {
       "layout": "IPY_MODEL_4192d1f48c644a44978fd2909433ab46",
       "style": "IPY_MODEL_12d05e3ed0d44623bc6ad2b8d1d2a523",
       "value": " 50/50 [00:07&lt;00:00,  3.71it/s]"
      }
     },
     "b0d5aae135494f58a5f4f112f3fee86a": {
      "model_module": "@jupyter-widgets/controls",
      "model_module_version": "1.5.0",
      "model_name": "DescriptionStyleModel",
      "state": {
       "description_width": ""
      }
     },
     "b13166788cea4a77a4f688c774592328": {
      "model_module": "@jupyter-widgets/controls",
      "model_module_version": "1.5.0",
      "model_name": "HTMLModel",
      "state": {
       "layout": "IPY_MODEL_8455891c16384d9bb8dae24d264ec0bd",
       "style": "IPY_MODEL_c8b409ab9ef14a1ca96cbbeec9a70b86",
       "value": " 50/50 [00:00&lt;00:00, 95.36it/s]"
      }
     },
     "b145e8c9c37042cab938b3deecc63bd4": {
      "model_module": "@jupyter-widgets/base",
      "model_module_version": "1.2.0",
      "model_name": "LayoutModel",
      "state": {}
     },
     "b1504892b5004faa92bc462d210f8423": {
      "model_module": "@jupyter-widgets/base",
      "model_module_version": "1.2.0",
      "model_name": "LayoutModel",
      "state": {}
     },
     "b154e2f315584f50a4ed9a6cc2f2e5c6": {
      "model_module": "@jupyter-widgets/base",
      "model_module_version": "1.2.0",
      "model_name": "LayoutModel",
      "state": {}
     },
     "b1591a9a9f494dfaadcdb00c67a9af79": {
      "model_module": "@jupyter-widgets/controls",
      "model_module_version": "1.5.0",
      "model_name": "HTMLModel",
      "state": {
       "layout": "IPY_MODEL_951adbb2e3e24f9bb04ad93f2b95bab7",
       "style": "IPY_MODEL_56113754d1044138b58eb2af3bc1d391",
       "value": " 50/50 [00:00&lt;00:00, 92.53it/s]"
      }
     },
     "b16d77befcd6454583df57dfb13f8f5d": {
      "model_module": "@jupyter-widgets/base",
      "model_module_version": "1.2.0",
      "model_name": "LayoutModel",
      "state": {}
     },
     "b1adc52cb4ef4805ba027ea79cc460c1": {
      "model_module": "@jupyter-widgets/base",
      "model_module_version": "1.2.0",
      "model_name": "LayoutModel",
      "state": {}
     },
     "b21ba1e2d56b41abad2c7c8c2a5c552d": {
      "model_module": "@jupyter-widgets/base",
      "model_module_version": "1.2.0",
      "model_name": "LayoutModel",
      "state": {}
     },
     "b234e7d0465149c9bf084fab21ea84b8": {
      "model_module": "@jupyter-widgets/base",
      "model_module_version": "1.2.0",
      "model_name": "LayoutModel",
      "state": {}
     },
     "b27589f80c524d17b7f680de8b7d419e": {
      "model_module": "@jupyter-widgets/controls",
      "model_module_version": "1.5.0",
      "model_name": "FloatProgressModel",
      "state": {
       "description": "train loss: 0.1000: 100%",
       "layout": "IPY_MODEL_b9014770ce1443d49284e47832839cd4",
       "max": 25,
       "style": "IPY_MODEL_acf7c1942e344e3ca8816e8baf6d3049",
       "value": 25
      }
     },
     "b28e1335262a4ec29e069a04d9e099dc": {
      "model_module": "@jupyter-widgets/controls",
      "model_module_version": "1.5.0",
      "model_name": "ProgressStyleModel",
      "state": {
       "description_width": "initial"
      }
     },
     "b290d5f1adaa45629075ce38d947c5ab": {
      "model_module": "@jupyter-widgets/base",
      "model_module_version": "1.2.0",
      "model_name": "LayoutModel",
      "state": {}
     },
     "b2a46cbbec3841fba62a857e0d2d69d6": {
      "model_module": "@jupyter-widgets/controls",
      "model_module_version": "1.5.0",
      "model_name": "FloatProgressModel",
      "state": {
       "description": "train loss: 0.0150: 100%",
       "layout": "IPY_MODEL_8c3547933fd8402eb6054317c7510aa5",
       "max": 50,
       "style": "IPY_MODEL_cced3176deda4098828b5ed4647da1a3",
       "value": 50
      }
     },
     "b2c37788429c4dd7af8ed779001e5081": {
      "model_module": "@jupyter-widgets/base",
      "model_module_version": "1.2.0",
      "model_name": "LayoutModel",
      "state": {}
     },
     "b2cf7bc97a5743c4b7269266ff752873": {
      "model_module": "@jupyter-widgets/base",
      "model_module_version": "1.2.0",
      "model_name": "LayoutModel",
      "state": {}
     },
     "b2f39b90f3834ad8bed823ace727ca82": {
      "model_module": "@jupyter-widgets/base",
      "model_module_version": "1.2.0",
      "model_name": "LayoutModel",
      "state": {}
     },
     "b2fd0fb007d34b5ca719c33b5e90c5bc": {
      "model_module": "@jupyter-widgets/controls",
      "model_module_version": "1.5.0",
      "model_name": "ProgressStyleModel",
      "state": {
       "description_width": "initial"
      }
     },
     "b320381155d04675a15911087bc07a31": {
      "model_module": "@jupyter-widgets/controls",
      "model_module_version": "1.5.0",
      "model_name": "FloatProgressModel",
      "state": {
       "description": "train loss: 0.0078: 100%",
       "layout": "IPY_MODEL_b43e3e8e66534199baeef8e60a104514",
       "max": 50,
       "style": "IPY_MODEL_5e5a61ef62014018a677cec94039ad35",
       "value": 50
      }
     },
     "b32a36befc1c4f3ab181bc0549e315f6": {
      "model_module": "@jupyter-widgets/base",
      "model_module_version": "1.2.0",
      "model_name": "LayoutModel",
      "state": {}
     },
     "b32dcf0d8f374a2c94b160a73ff0e981": {
      "model_module": "@jupyter-widgets/controls",
      "model_module_version": "1.5.0",
      "model_name": "ProgressStyleModel",
      "state": {
       "description_width": "initial"
      }
     },
     "b3451feb0a40400e989b183a8d649154": {
      "model_module": "@jupyter-widgets/controls",
      "model_module_version": "1.5.0",
      "model_name": "HTMLModel",
      "state": {
       "layout": "IPY_MODEL_2603a6fb3fd643e091229d7eb8c54315",
       "style": "IPY_MODEL_e039fce7cf70405280eb689956f6a271",
       "value": " 11/11 [00:00&lt;00:00, 164.56it/s]"
      }
     },
     "b37f854ae8c441ddba712177a16ff78e": {
      "model_module": "@jupyter-widgets/controls",
      "model_module_version": "1.5.0",
      "model_name": "DescriptionStyleModel",
      "state": {
       "description_width": ""
      }
     },
     "b398141d931f461a82e36e1b6d05528a": {
      "model_module": "@jupyter-widgets/base",
      "model_module_version": "1.2.0",
      "model_name": "LayoutModel",
      "state": {}
     },
     "b3ae895fe9894170b65fdfdbf56c02db": {
      "model_module": "@jupyter-widgets/controls",
      "model_module_version": "1.5.0",
      "model_name": "FloatProgressModel",
      "state": {
       "description": "val loss: 0.0547: 100%",
       "layout": "IPY_MODEL_31b9399164844f9b852320e5f8b3f00f",
       "max": 21,
       "style": "IPY_MODEL_bcb53c593e5c4243ad9fabb2c09e2808",
       "value": 21
      }
     },
     "b3b5630cff2f44059fd0b8ec8e5ac279": {
      "model_module": "@jupyter-widgets/controls",
      "model_module_version": "1.5.0",
      "model_name": "ProgressStyleModel",
      "state": {
       "description_width": "initial"
      }
     },
     "b3b73e1e096b44c5b6406f5d5ab74f01": {
      "model_module": "@jupyter-widgets/controls",
      "model_module_version": "1.5.0",
      "model_name": "DescriptionStyleModel",
      "state": {
       "description_width": ""
      }
     },
     "b3bdb39951454839ba56e17f1c3d467b": {
      "model_module": "@jupyter-widgets/base",
      "model_module_version": "1.2.0",
      "model_name": "LayoutModel",
      "state": {}
     },
     "b3c0e9b66afd47048995926f6c3bd067": {
      "model_module": "@jupyter-widgets/controls",
      "model_module_version": "1.5.0",
      "model_name": "ProgressStyleModel",
      "state": {
       "description_width": "initial"
      }
     },
     "b3c23136f4634e709807cce1fa576526": {
      "model_module": "@jupyter-widgets/controls",
      "model_module_version": "1.5.0",
      "model_name": "FloatProgressModel",
      "state": {
       "description": "val loss: 0.5192: 100%",
       "layout": "IPY_MODEL_e3454297d76b4f89a926abc1cf7401f9",
       "max": 22,
       "style": "IPY_MODEL_e2e4b067d66646f68a998c77b455607b",
       "value": 22
      }
     },
     "b3f3b78ee7384b69af21e6483c8a943b": {
      "model_module": "@jupyter-widgets/base",
      "model_module_version": "1.2.0",
      "model_name": "LayoutModel",
      "state": {}
     },
     "b3f9247804c04e39bc992be9688de98e": {
      "model_module": "@jupyter-widgets/controls",
      "model_module_version": "1.5.0",
      "model_name": "HTMLModel",
      "state": {
       "layout": "IPY_MODEL_c872a8dcb8b443bd9bc87f69913606fd",
       "style": "IPY_MODEL_e0cd8ba3275641eca3ed8c9d4519864e",
       "value": " 50/50 [00:05&lt;00:00,  5.70it/s]"
      }
     },
     "b43e3e8e66534199baeef8e60a104514": {
      "model_module": "@jupyter-widgets/base",
      "model_module_version": "1.2.0",
      "model_name": "LayoutModel",
      "state": {}
     },
     "b44e1ff3eee840f59ba8a83b2f0073d1": {
      "model_module": "@jupyter-widgets/base",
      "model_module_version": "1.2.0",
      "model_name": "LayoutModel",
      "state": {}
     },
     "b44e88de2b314739aa1129af6f9f59ca": {
      "model_module": "@jupyter-widgets/base",
      "model_module_version": "1.2.0",
      "model_name": "LayoutModel",
      "state": {}
     },
     "b49aa1fff60c4ae29b31de4d8bd85c1b": {
      "model_module": "@jupyter-widgets/controls",
      "model_module_version": "1.5.0",
      "model_name": "HBoxModel",
      "state": {
       "children": [
        "IPY_MODEL_0072a5db39464511a5b1c37421766df4",
        "IPY_MODEL_8d52ba84ffde4f01a1c496918c427b10"
       ],
       "layout": "IPY_MODEL_b53dfde7249a4c6198ccc10aad239906"
      }
     },
     "b4a2846a927b4b81971ea711a0ef253e": {
      "model_module": "@jupyter-widgets/controls",
      "model_module_version": "1.5.0",
      "model_name": "ProgressStyleModel",
      "state": {
       "description_width": "initial"
      }
     },
     "b4b1da2adc114fefb501f2c700de828c": {
      "model_module": "@jupyter-widgets/controls",
      "model_module_version": "1.5.0",
      "model_name": "FloatProgressModel",
      "state": {
       "description": "val loss: 0.1499: 100%",
       "layout": "IPY_MODEL_44a0f88242bd42f5897b7923e5ab605e",
       "max": 22,
       "style": "IPY_MODEL_e1ce217f7631493bbeded59603e66b18",
       "value": 22
      }
     },
     "b4cc1db9f4834d96a9b3db363f522933": {
      "model_module": "@jupyter-widgets/controls",
      "model_module_version": "1.5.0",
      "model_name": "ProgressStyleModel",
      "state": {
       "description_width": "initial"
      }
     },
     "b4d8010c0156451fa0d6a88a7791c543": {
      "model_module": "@jupyter-widgets/controls",
      "model_module_version": "1.5.0",
      "model_name": "DescriptionStyleModel",
      "state": {
       "description_width": ""
      }
     },
     "b50f6c49df2e4304bf5f06247ca9270f": {
      "model_module": "@jupyter-widgets/base",
      "model_module_version": "1.2.0",
      "model_name": "LayoutModel",
      "state": {}
     },
     "b52510427c834f47a1e438469c47f36a": {
      "model_module": "@jupyter-widgets/base",
      "model_module_version": "1.2.0",
      "model_name": "LayoutModel",
      "state": {}
     },
     "b527a6a1ed77479fbcf82859b266260e": {
      "model_module": "@jupyter-widgets/controls",
      "model_module_version": "1.5.0",
      "model_name": "FloatProgressModel",
      "state": {
       "description": "val loss: 0.3157: 100%",
       "layout": "IPY_MODEL_4a4058b0cb834e83b99e890bffd3bda5",
       "max": 11,
       "style": "IPY_MODEL_b57afbcf238b4dfe91e230ff29959afe",
       "value": 11
      }
     },
     "b53dfde7249a4c6198ccc10aad239906": {
      "model_module": "@jupyter-widgets/base",
      "model_module_version": "1.2.0",
      "model_name": "LayoutModel",
      "state": {}
     },
     "b541a129ae0f4e5c98fe37b9fb3478d1": {
      "model_module": "@jupyter-widgets/base",
      "model_module_version": "1.2.0",
      "model_name": "LayoutModel",
      "state": {}
     },
     "b54c1bee40e74930b5d91f6b52047256": {
      "model_module": "@jupyter-widgets/controls",
      "model_module_version": "1.5.0",
      "model_name": "FloatProgressModel",
      "state": {
       "description": "train loss: 0.0111: 100%",
       "layout": "IPY_MODEL_ecbb7353568741e5bb7a1ab1e351f401",
       "max": 50,
       "style": "IPY_MODEL_11b6c9796fc141cc90ec08d31312b3e6",
       "value": 50
      }
     },
     "b56c57213f4e44b6af076ce5d5bb48fa": {
      "model_module": "@jupyter-widgets/controls",
      "model_module_version": "1.5.0",
      "model_name": "ProgressStyleModel",
      "state": {
       "description_width": "initial"
      }
     },
     "b57afbcf238b4dfe91e230ff29959afe": {
      "model_module": "@jupyter-widgets/controls",
      "model_module_version": "1.5.0",
      "model_name": "ProgressStyleModel",
      "state": {
       "description_width": "initial"
      }
     },
     "b58eb4c042254215baac8263ab9d847e": {
      "model_module": "@jupyter-widgets/controls",
      "model_module_version": "1.5.0",
      "model_name": "ProgressStyleModel",
      "state": {
       "description_width": "initial"
      }
     },
     "b58f9d8fce514170b9510c7b664654b0": {
      "model_module": "@jupyter-widgets/base",
      "model_module_version": "1.2.0",
      "model_name": "LayoutModel",
      "state": {}
     },
     "b5bd92102cc24b949db24cd0ddadd0aa": {
      "model_module": "@jupyter-widgets/controls",
      "model_module_version": "1.5.0",
      "model_name": "FloatProgressModel",
      "state": {
       "description": "val loss: 0.0648: 100%",
       "layout": "IPY_MODEL_809ffc82c22447cbb1ee6b39c934c3b8",
       "max": 21,
       "style": "IPY_MODEL_8f371617c5da44fb9879e3141f065d36",
       "value": 21
      }
     },
     "b5c5721cbd13452eae842377230bf4f5": {
      "model_module": "@jupyter-widgets/controls",
      "model_module_version": "1.5.0",
      "model_name": "HTMLModel",
      "state": {
       "layout": "IPY_MODEL_a30379f3c049427e8194c0ab18811bdd",
       "style": "IPY_MODEL_dfd5bc5d776843f2935f342759a71bfe",
       "value": " 99/99 [00:27&lt;00:00,  1.91it/s]"
      }
     },
     "b5cc01c35c7f4cbb8b6837176e093ef9": {
      "model_module": "@jupyter-widgets/base",
      "model_module_version": "1.2.0",
      "model_name": "LayoutModel",
      "state": {}
     },
     "b6235a4325464915a925db41f7be7dd1": {
      "model_module": "@jupyter-widgets/controls",
      "model_module_version": "1.5.0",
      "model_name": "FloatProgressModel",
      "state": {
       "description": "val loss: 0.4308: 100%",
       "layout": "IPY_MODEL_fb9033949cd74fa195ae32e87eb696b5",
       "max": 22,
       "style": "IPY_MODEL_0f86537c1c4a48f384419e2204377f95",
       "value": 22
      }
     },
     "b628ddbfdf6148a49759081107d6f51f": {
      "model_module": "@jupyter-widgets/controls",
      "model_module_version": "1.5.0",
      "model_name": "ProgressStyleModel",
      "state": {
       "description_width": "initial"
      }
     },
     "b62d513d93e14be79113a624e8117e5a": {
      "model_module": "@jupyter-widgets/base",
      "model_module_version": "1.2.0",
      "model_name": "LayoutModel",
      "state": {}
     },
     "b68bb852ea6c43c4a1b7717f56574345": {
      "model_module": "@jupyter-widgets/base",
      "model_module_version": "1.2.0",
      "model_name": "LayoutModel",
      "state": {}
     },
     "b6b61904fea2492aa725447a27e41e4d": {
      "model_module": "@jupyter-widgets/controls",
      "model_module_version": "1.5.0",
      "model_name": "HTMLModel",
      "state": {
       "layout": "IPY_MODEL_76ed07d7ebe64d4db157bcfcfe443f64",
       "style": "IPY_MODEL_4b862763189048058f0c2e8430a596b8",
       "value": " 50/50 [00:07&lt;00:00,  3.74it/s]"
      }
     },
     "b6e774755e3148358fccee13fd7ff018": {
      "model_module": "@jupyter-widgets/base",
      "model_module_version": "1.2.0",
      "model_name": "LayoutModel",
      "state": {}
     },
     "b6f5fd200d1d4bc9b858a06f9a3106f8": {
      "model_module": "@jupyter-widgets/controls",
      "model_module_version": "1.5.0",
      "model_name": "DescriptionStyleModel",
      "state": {
       "description_width": ""
      }
     },
     "b70445535cee46aab05fb15248c992e9": {
      "model_module": "@jupyter-widgets/controls",
      "model_module_version": "1.5.0",
      "model_name": "DescriptionStyleModel",
      "state": {
       "description_width": ""
      }
     },
     "b72d310598324cffad0c69ad955c719f": {
      "model_module": "@jupyter-widgets/controls",
      "model_module_version": "1.5.0",
      "model_name": "HTMLModel",
      "state": {
       "layout": "IPY_MODEL_3babf0c52a7d48fda4020ea660d0703d",
       "style": "IPY_MODEL_8bf7516167ee4d85a6525fadc4563c6b",
       "value": " 25/25 [00:00&lt;00:00, 76.13it/s]"
      }
     },
     "b7972143d2af41a399174f8041aa0ae5": {
      "model_module": "@jupyter-widgets/controls",
      "model_module_version": "1.5.0",
      "model_name": "HTMLModel",
      "state": {
       "layout": "IPY_MODEL_c016c1d4e7404d86814197846d9064e8",
       "style": "IPY_MODEL_5a78d24815174f12947e017d293080a4",
       "value": " 11/11 [00:00&lt;00:00, 136.12it/s]"
      }
     },
     "b7e5d78dc72d4dc4bbc9252e16bdc33e": {
      "model_module": "@jupyter-widgets/controls",
      "model_module_version": "1.5.0",
      "model_name": "FloatProgressModel",
      "state": {
       "description": "train loss: 0.8655: 100%",
       "layout": "IPY_MODEL_ea87b0719acd4ac8a42618484e43b7c9",
       "max": 99,
       "style": "IPY_MODEL_e79d2d06bb5f4d9ca7b11c5322bf66d9",
       "value": 99
      }
     },
     "b8018f5b7cdc4334b92ad6ade2aed8c8": {
      "model_module": "@jupyter-widgets/controls",
      "model_module_version": "1.5.0",
      "model_name": "ProgressStyleModel",
      "state": {
       "description_width": "initial"
      }
     },
     "b80bc16468de4025b4c128b1a749f0f5": {
      "model_module": "@jupyter-widgets/base",
      "model_module_version": "1.2.0",
      "model_name": "LayoutModel",
      "state": {}
     },
     "b810d8ead9d7469aaddd6c11254aaa8d": {
      "model_module": "@jupyter-widgets/base",
      "model_module_version": "1.2.0",
      "model_name": "LayoutModel",
      "state": {}
     },
     "b8390e97735c4c6187d44604561aac31": {
      "model_module": "@jupyter-widgets/controls",
      "model_module_version": "1.5.0",
      "model_name": "DescriptionStyleModel",
      "state": {
       "description_width": ""
      }
     },
     "b89e0c84e40b4d02b43171f6c48de9e9": {
      "model_module": "@jupyter-widgets/base",
      "model_module_version": "1.2.0",
      "model_name": "LayoutModel",
      "state": {}
     },
     "b8a43296572f4337a276947ad7ef1da9": {
      "model_module": "@jupyter-widgets/base",
      "model_module_version": "1.2.0",
      "model_name": "LayoutModel",
      "state": {}
     },
     "b8ac12f7722e4313a404e09406a298f7": {
      "model_module": "@jupyter-widgets/controls",
      "model_module_version": "1.5.0",
      "model_name": "DescriptionStyleModel",
      "state": {
       "description_width": ""
      }
     },
     "b8e4bcf83746430397b273f63691f963": {
      "model_module": "@jupyter-widgets/controls",
      "model_module_version": "1.5.0",
      "model_name": "ProgressStyleModel",
      "state": {
       "description_width": "initial"
      }
     },
     "b8e829258ed44117b2a88b7c4b21a432": {
      "model_module": "@jupyter-widgets/base",
      "model_module_version": "1.2.0",
      "model_name": "LayoutModel",
      "state": {}
     },
     "b9014770ce1443d49284e47832839cd4": {
      "model_module": "@jupyter-widgets/base",
      "model_module_version": "1.2.0",
      "model_name": "LayoutModel",
      "state": {}
     },
     "b92206495e204baca3f3cb2445a5ad19": {
      "model_module": "@jupyter-widgets/controls",
      "model_module_version": "1.5.0",
      "model_name": "ProgressStyleModel",
      "state": {
       "description_width": "initial"
      }
     },
     "b9334a82e7e346d899686dfc348aaf32": {
      "model_module": "@jupyter-widgets/base",
      "model_module_version": "1.2.0",
      "model_name": "LayoutModel",
      "state": {}
     },
     "b9595dac248f4aadbd7d41076e21152b": {
      "model_module": "@jupyter-widgets/controls",
      "model_module_version": "1.5.0",
      "model_name": "ProgressStyleModel",
      "state": {
       "description_width": "initial"
      }
     },
     "b95ab0ecb4f94f8d941166c64d62fa04": {
      "model_module": "@jupyter-widgets/controls",
      "model_module_version": "1.5.0",
      "model_name": "HBoxModel",
      "state": {
       "children": [
        "IPY_MODEL_8ed4e8ee99994f988941b289c34135f1",
        "IPY_MODEL_2faf292da19d42e98a9d77d09391adfe"
       ],
       "layout": "IPY_MODEL_0e5fb58fc6d449a39df6d7507be3135f"
      }
     },
     "b95eea9d33764d208778b20f6bb98c74": {
      "model_module": "@jupyter-widgets/base",
      "model_module_version": "1.2.0",
      "model_name": "LayoutModel",
      "state": {}
     },
     "b9814bc596974640b6150d9df99ceeed": {
      "model_module": "@jupyter-widgets/controls",
      "model_module_version": "1.5.0",
      "model_name": "ProgressStyleModel",
      "state": {
       "description_width": "initial"
      }
     },
     "b98fbfdde0eb4499b0227e2dd90458fa": {
      "model_module": "@jupyter-widgets/controls",
      "model_module_version": "1.5.0",
      "model_name": "FloatProgressModel",
      "state": {
       "description": "val loss: 0.3071: 100%",
       "layout": "IPY_MODEL_2daef7662f024eb183fbd737e64ed41f",
       "max": 11,
       "style": "IPY_MODEL_171a41a51be640f29aaff5231990a181",
       "value": 11
      }
     },
     "b993e7fea12640fa8f719cad1db89080": {
      "model_module": "@jupyter-widgets/controls",
      "model_module_version": "1.5.0",
      "model_name": "FloatProgressModel",
      "state": {
       "description": "train loss: 0.4373: 100%",
       "layout": "IPY_MODEL_242188f6651e463181a8f271add9bc10",
       "max": 50,
       "style": "IPY_MODEL_a38be9601ec2462d93b991d3fafa7ff6",
       "value": 50
      }
     },
     "b99de4395bf646f985a815fd5d1e8dc3": {
      "model_module": "@jupyter-widgets/base",
      "model_module_version": "1.2.0",
      "model_name": "LayoutModel",
      "state": {}
     },
     "b9a8372e81594a50a9c65e72e4acb191": {
      "model_module": "@jupyter-widgets/controls",
      "model_module_version": "1.5.0",
      "model_name": "HTMLModel",
      "state": {
       "layout": "IPY_MODEL_abdc1b11837e4b5cb5ba432270e12c3a",
       "style": "IPY_MODEL_279e6c7ca2554808ad195cdd415329fe",
       "value": " 50/50 [00:00&lt;00:00, 91.34it/s]"
      }
     },
     "b9b4f093b25f4d028830db04ca241201": {
      "model_module": "@jupyter-widgets/controls",
      "model_module_version": "1.5.0",
      "model_name": "DescriptionStyleModel",
      "state": {
       "description_width": ""
      }
     },
     "b9b76d72966f41f781a8720658765591": {
      "model_module": "@jupyter-widgets/base",
      "model_module_version": "1.2.0",
      "model_name": "LayoutModel",
      "state": {}
     },
     "b9d744c3add6453495691fc71bb4a5da": {
      "model_module": "@jupyter-widgets/controls",
      "model_module_version": "1.5.0",
      "model_name": "ProgressStyleModel",
      "state": {
       "description_width": "initial"
      }
     },
     "ba0f7e72714740198dd6e0728d8450fa": {
      "model_module": "@jupyter-widgets/base",
      "model_module_version": "1.2.0",
      "model_name": "LayoutModel",
      "state": {}
     },
     "ba1665331e2348909e7b9113d8807adb": {
      "model_module": "@jupyter-widgets/base",
      "model_module_version": "1.2.0",
      "model_name": "LayoutModel",
      "state": {}
     },
     "ba1a18b3ae0041a48aa14e39fbab991b": {
      "model_module": "@jupyter-widgets/base",
      "model_module_version": "1.2.0",
      "model_name": "LayoutModel",
      "state": {}
     },
     "ba3ae467ee22415882223b72671c2863": {
      "model_module": "@jupyter-widgets/controls",
      "model_module_version": "1.5.0",
      "model_name": "DescriptionStyleModel",
      "state": {
       "description_width": ""
      }
     },
     "ba5d0aa96457435091f4ee77e1a7098e": {
      "model_module": "@jupyter-widgets/controls",
      "model_module_version": "1.5.0",
      "model_name": "DescriptionStyleModel",
      "state": {
       "description_width": ""
      }
     },
     "ba7d28bdb07542fbbf869f07fcec6d02": {
      "model_module": "@jupyter-widgets/controls",
      "model_module_version": "1.5.0",
      "model_name": "DescriptionStyleModel",
      "state": {
       "description_width": ""
      }
     },
     "ba885a46c2604af9837622605f219aa3": {
      "model_module": "@jupyter-widgets/controls",
      "model_module_version": "1.5.0",
      "model_name": "FloatProgressModel",
      "state": {
       "description": "val loss: 0.2904: 100%",
       "layout": "IPY_MODEL_e1f3a36c4306413f9dc41d680253e845",
       "max": 11,
       "style": "IPY_MODEL_cadaa256ec924f2cbe68f0230679c57a",
       "value": 11
      }
     },
     "bac62694b2d540ad9c909828fe7acd6e": {
      "model_module": "@jupyter-widgets/base",
      "model_module_version": "1.2.0",
      "model_name": "LayoutModel",
      "state": {}
     },
     "bb2cf61510cc40bf915a5a1d9df898bc": {
      "model_module": "@jupyter-widgets/controls",
      "model_module_version": "1.5.0",
      "model_name": "ProgressStyleModel",
      "state": {
       "description_width": "initial"
      }
     },
     "bb677d7b648f4c9e8891018511a29e42": {
      "model_module": "@jupyter-widgets/base",
      "model_module_version": "1.2.0",
      "model_name": "LayoutModel",
      "state": {}
     },
     "bbec7fa5f94346148db6e6140f9fcdfd": {
      "model_module": "@jupyter-widgets/base",
      "model_module_version": "1.2.0",
      "model_name": "LayoutModel",
      "state": {}
     },
     "bc187417ca5f4205b03626c287bfacfd": {
      "model_module": "@jupyter-widgets/base",
      "model_module_version": "1.2.0",
      "model_name": "LayoutModel",
      "state": {}
     },
     "bc1e066a047b409db42f79ca3d8994eb": {
      "model_module": "@jupyter-widgets/controls",
      "model_module_version": "1.5.0",
      "model_name": "ProgressStyleModel",
      "state": {
       "description_width": "initial"
      }
     },
     "bc341adb62b24c60b8e3ba8560036198": {
      "model_module": "@jupyter-widgets/controls",
      "model_module_version": "1.5.0",
      "model_name": "DescriptionStyleModel",
      "state": {
       "description_width": ""
      }
     },
     "bc5033025a0b4930b34beb6f106f28bd": {
      "model_module": "@jupyter-widgets/controls",
      "model_module_version": "1.5.0",
      "model_name": "DescriptionStyleModel",
      "state": {
       "description_width": ""
      }
     },
     "bc58414f7525478a8555b0fd6ac0fcbd": {
      "model_module": "@jupyter-widgets/controls",
      "model_module_version": "1.5.0",
      "model_name": "FloatProgressModel",
      "state": {
       "bar_style": "success",
       "description": "Train Loss: 0.0886 - Val Loss: 0.0853: 100%",
       "layout": "IPY_MODEL_333efc3a74b44c7fabf701d529d09814",
       "max": 10,
       "style": "IPY_MODEL_5f88c082ba404486b6077ae9ec165212",
       "value": 10
      }
     },
     "bc6519a17cc24dc3bce24c8e77d75926": {
      "model_module": "@jupyter-widgets/controls",
      "model_module_version": "1.5.0",
      "model_name": "FloatProgressModel",
      "state": {
       "description": "train loss: 0.1745: 100%",
       "layout": "IPY_MODEL_4e0ef3e2122244fa8ed23081c6debd12",
       "max": 99,
       "style": "IPY_MODEL_bebd222405f24a90902c4e38665d89dc",
       "value": 99
      }
     },
     "bc69769deecd4c1180749fc349bc9ceb": {
      "model_module": "@jupyter-widgets/controls",
      "model_module_version": "1.5.0",
      "model_name": "ProgressStyleModel",
      "state": {
       "description_width": "initial"
      }
     },
     "bc82ddd2e037461190750c945d220615": {
      "model_module": "@jupyter-widgets/base",
      "model_module_version": "1.2.0",
      "model_name": "LayoutModel",
      "state": {}
     },
     "bcb53c593e5c4243ad9fabb2c09e2808": {
      "model_module": "@jupyter-widgets/controls",
      "model_module_version": "1.5.0",
      "model_name": "ProgressStyleModel",
      "state": {
       "description_width": "initial"
      }
     },
     "bce918c03f74405da2b71c5695478ff1": {
      "model_module": "@jupyter-widgets/base",
      "model_module_version": "1.2.0",
      "model_name": "LayoutModel",
      "state": {}
     },
     "bd2f52ae85684633bb7635c89a506c2d": {
      "model_module": "@jupyter-widgets/base",
      "model_module_version": "1.2.0",
      "model_name": "LayoutModel",
      "state": {}
     },
     "bd380701ad284bfe83f9687348bacdae": {
      "model_module": "@jupyter-widgets/controls",
      "model_module_version": "1.5.0",
      "model_name": "ProgressStyleModel",
      "state": {
       "description_width": "initial"
      }
     },
     "bd465f11c1dd4df994c5ba37bf7d100d": {
      "model_module": "@jupyter-widgets/controls",
      "model_module_version": "1.5.0",
      "model_name": "ProgressStyleModel",
      "state": {
       "description_width": "initial"
      }
     },
     "bd5437b3348045c7a6f392ebd9ba341b": {
      "model_module": "@jupyter-widgets/controls",
      "model_module_version": "1.5.0",
      "model_name": "HTMLModel",
      "state": {
       "layout": "IPY_MODEL_bc187417ca5f4205b03626c287bfacfd",
       "style": "IPY_MODEL_57dc098606e4467fbe6ad64bf18586c1",
       "value": " 22/22 [00:00&lt;00:00, 147.45it/s]"
      }
     },
     "bd5af6c17ed3499bbef6a3b41c734550": {
      "model_module": "@jupyter-widgets/base",
      "model_module_version": "1.2.0",
      "model_name": "LayoutModel",
      "state": {}
     },
     "bd76b308546649da9f5e4016a4048c06": {
      "model_module": "@jupyter-widgets/controls",
      "model_module_version": "1.5.0",
      "model_name": "ProgressStyleModel",
      "state": {
       "description_width": "initial"
      }
     },
     "bd780fb8a3b84d909a3de69ff5249c65": {
      "model_module": "@jupyter-widgets/base",
      "model_module_version": "1.2.0",
      "model_name": "LayoutModel",
      "state": {}
     },
     "bdff0801d89a4e349caa5a8a6dd73df2": {
      "model_module": "@jupyter-widgets/controls",
      "model_module_version": "1.5.0",
      "model_name": "DescriptionStyleModel",
      "state": {
       "description_width": ""
      }
     },
     "be295ee2b4ee41e1897a9bbf0763dc32": {
      "model_module": "@jupyter-widgets/base",
      "model_module_version": "1.2.0",
      "model_name": "LayoutModel",
      "state": {}
     },
     "be301703e8174b388d2614a91bb344b3": {
      "model_module": "@jupyter-widgets/controls",
      "model_module_version": "1.5.0",
      "model_name": "HTMLModel",
      "state": {
       "layout": "IPY_MODEL_af9ceb4ef6754d3cb496ce71732b1d41",
       "style": "IPY_MODEL_8bbfebf0ea1d48f49a5c5d4da78d8859",
       "value": " 25/25 [00:00&lt;00:00, 74.61it/s]"
      }
     },
     "be488ee9108642e2aefbd3c816fcf738": {
      "model_module": "@jupyter-widgets/controls",
      "model_module_version": "1.5.0",
      "model_name": "DescriptionStyleModel",
      "state": {
       "description_width": ""
      }
     },
     "be4ea20305c94a9b8142f18d049bd093": {
      "model_module": "@jupyter-widgets/controls",
      "model_module_version": "1.5.0",
      "model_name": "HTMLModel",
      "state": {
       "layout": "IPY_MODEL_07fdf858e24741ed86f30c7b957ce84f",
       "style": "IPY_MODEL_fb669c1e131b44bba07ae9da877ef7b6",
       "value": " 21/21 [00:00&lt;00:00, 247.72it/s]"
      }
     },
     "be5ead26c74f45a99a4fd84ca6b0c32c": {
      "model_module": "@jupyter-widgets/controls",
      "model_module_version": "1.5.0",
      "model_name": "HTMLModel",
      "state": {
       "layout": "IPY_MODEL_7ba9509b0ea74a26a0596ec215be3343",
       "style": "IPY_MODEL_fc322466a836414d8e938a8f112fe444",
       "value": " 22/22 [00:00&lt;00:00, 146.01it/s]"
      }
     },
     "be6ae1f907354adf9302768069898784": {
      "model_module": "@jupyter-widgets/base",
      "model_module_version": "1.2.0",
      "model_name": "LayoutModel",
      "state": {}
     },
     "be731019cc284722aa9064fec1b3b78b": {
      "model_module": "@jupyter-widgets/base",
      "model_module_version": "1.2.0",
      "model_name": "LayoutModel",
      "state": {}
     },
     "be834d416d7a4d298201422cf021f376": {
      "model_module": "@jupyter-widgets/controls",
      "model_module_version": "1.5.0",
      "model_name": "DescriptionStyleModel",
      "state": {
       "description_width": ""
      }
     },
     "bebd222405f24a90902c4e38665d89dc": {
      "model_module": "@jupyter-widgets/controls",
      "model_module_version": "1.5.0",
      "model_name": "ProgressStyleModel",
      "state": {
       "description_width": "initial"
      }
     },
     "bec86ac26fd54b208e6f5e0b1ef85466": {
      "model_module": "@jupyter-widgets/controls",
      "model_module_version": "1.5.0",
      "model_name": "DescriptionStyleModel",
      "state": {
       "description_width": ""
      }
     },
     "bed4386dac6b405ca205dc529239a629": {
      "model_module": "@jupyter-widgets/base",
      "model_module_version": "1.2.0",
      "model_name": "LayoutModel",
      "state": {}
     },
     "bedc451fe8104ffc84a3e064eb7c4937": {
      "model_module": "@jupyter-widgets/base",
      "model_module_version": "1.2.0",
      "model_name": "LayoutModel",
      "state": {}
     },
     "beeb256bb28942808e0c7eb2e80a885f": {
      "model_module": "@jupyter-widgets/controls",
      "model_module_version": "1.5.0",
      "model_name": "DescriptionStyleModel",
      "state": {
       "description_width": ""
      }
     },
     "bf002aad49ef4cb6ba2a1bcba4ab92df": {
      "model_module": "@jupyter-widgets/controls",
      "model_module_version": "1.5.0",
      "model_name": "FloatProgressModel",
      "state": {
       "description": "val loss: 0.2900: 100%",
       "layout": "IPY_MODEL_dc388a964cae42aba8b5517abd8848f0",
       "max": 11,
       "style": "IPY_MODEL_fe7d00799afd49528c00b9a235c2687a",
       "value": 11
      }
     },
     "bf06cd0daf4d4e19b1091a802ec5fc5b": {
      "model_module": "@jupyter-widgets/controls",
      "model_module_version": "1.5.0",
      "model_name": "ProgressStyleModel",
      "state": {
       "description_width": "initial"
      }
     },
     "bf1de6f2dbb3474a9a7e61eecbe713d7": {
      "model_module": "@jupyter-widgets/base",
      "model_module_version": "1.2.0",
      "model_name": "LayoutModel",
      "state": {}
     },
     "bf511e8f0a2041669f6e014df5e9a1cf": {
      "model_module": "@jupyter-widgets/controls",
      "model_module_version": "1.5.0",
      "model_name": "FloatProgressModel",
      "state": {
       "description": "val loss: 0.0667: 100%",
       "layout": "IPY_MODEL_5ffb00cce92d4986a2b0086b4942cb14",
       "max": 6,
       "style": "IPY_MODEL_3528813850904cbb97d75bd906be9d2d",
       "value": 6
      }
     },
     "bf6d5d916d3e4c41a40d05732bc8a22f": {
      "model_module": "@jupyter-widgets/base",
      "model_module_version": "1.2.0",
      "model_name": "LayoutModel",
      "state": {}
     },
     "bf6fc5519b784edbab9d7198075f4a64": {
      "model_module": "@jupyter-widgets/controls",
      "model_module_version": "1.5.0",
      "model_name": "ProgressStyleModel",
      "state": {
       "description_width": "initial"
      }
     },
     "bfdc4dacf7564c2f91808c1a95f422c1": {
      "model_module": "@jupyter-widgets/controls",
      "model_module_version": "1.5.0",
      "model_name": "ProgressStyleModel",
      "state": {
       "description_width": "initial"
      }
     },
     "c016c1d4e7404d86814197846d9064e8": {
      "model_module": "@jupyter-widgets/base",
      "model_module_version": "1.2.0",
      "model_name": "LayoutModel",
      "state": {}
     },
     "c03519532cc14cd5b8e22f69bf74f3c0": {
      "model_module": "@jupyter-widgets/base",
      "model_module_version": "1.2.0",
      "model_name": "LayoutModel",
      "state": {}
     },
     "c043f74fa52645028fc3689e9fd8dae6": {
      "model_module": "@jupyter-widgets/controls",
      "model_module_version": "1.5.0",
      "model_name": "DescriptionStyleModel",
      "state": {
       "description_width": ""
      }
     },
     "c058769aec4949309bcafe90281c3cc1": {
      "model_module": "@jupyter-widgets/controls",
      "model_module_version": "1.5.0",
      "model_name": "HTMLModel",
      "state": {
       "layout": "IPY_MODEL_ce4e3bdc1aef482cb7d2c550740f9ea7",
       "style": "IPY_MODEL_b3b73e1e096b44c5b6406f5d5ab74f01",
       "value": " 22/22 [00:00&lt;00:00, 192.83it/s]"
      }
     },
     "c079ef68c5ef4adb87a444072b8c6c46": {
      "model_module": "@jupyter-widgets/base",
      "model_module_version": "1.2.0",
      "model_name": "LayoutModel",
      "state": {}
     },
     "c081cbaf4c054afcb3646762fe39cd3d": {
      "model_module": "@jupyter-widgets/base",
      "model_module_version": "1.2.0",
      "model_name": "LayoutModel",
      "state": {}
     },
     "c0885ba5fc6d4c659470b32c44a032f3": {
      "model_module": "@jupyter-widgets/controls",
      "model_module_version": "1.5.0",
      "model_name": "DescriptionStyleModel",
      "state": {
       "description_width": ""
      }
     },
     "c097ebd8d5a5460c83716196e2a069b7": {
      "model_module": "@jupyter-widgets/base",
      "model_module_version": "1.2.0",
      "model_name": "LayoutModel",
      "state": {}
     },
     "c0be9afc1c5c4799bd9162abb4034e41": {
      "model_module": "@jupyter-widgets/controls",
      "model_module_version": "1.5.0",
      "model_name": "HTMLModel",
      "state": {
       "layout": "IPY_MODEL_6d9d8cdaf24e45bb8d26bef974c03eb4",
       "style": "IPY_MODEL_89ae90fa394b46e78e0ae58e30d1b14a",
       "value": " 11/11 [00:00&lt;00:00, 132.88it/s]"
      }
     },
     "c0e292d1c4034e3db014043a83dfe220": {
      "model_module": "@jupyter-widgets/controls",
      "model_module_version": "1.5.0",
      "model_name": "DescriptionStyleModel",
      "state": {
       "description_width": ""
      }
     },
     "c1276cdc815d4349a778048f114c653c": {
      "model_module": "@jupyter-widgets/controls",
      "model_module_version": "1.5.0",
      "model_name": "HTMLModel",
      "state": {
       "layout": "IPY_MODEL_5b2031a1536c4defb2f78dc533b4e87b",
       "style": "IPY_MODEL_3c4a788e6b7f406cbb6be2ee249b0753",
       "value": " 11/11 [00:00&lt;00:00, 134.50it/s]"
      }
     },
     "c1439e9cb11b4917b8affb1ffadfd557": {
      "model_module": "@jupyter-widgets/base",
      "model_module_version": "1.2.0",
      "model_name": "LayoutModel",
      "state": {}
     },
     "c1759ef9221d4595aa84ceff4aa0db57": {
      "model_module": "@jupyter-widgets/base",
      "model_module_version": "1.2.0",
      "model_name": "LayoutModel",
      "state": {}
     },
     "c179a42a17a2458f85bc070643003467": {
      "model_module": "@jupyter-widgets/base",
      "model_module_version": "1.2.0",
      "model_name": "LayoutModel",
      "state": {}
     },
     "c18f8e9120f64c86b392491ceb20c9df": {
      "model_module": "@jupyter-widgets/controls",
      "model_module_version": "1.5.0",
      "model_name": "FloatProgressModel",
      "state": {
       "description": "val loss: 0.3482: 100%",
       "layout": "IPY_MODEL_9203862456c54ec5b0d4b022877ee684",
       "max": 11,
       "style": "IPY_MODEL_fbcc2efaf43a4727a6078cfc2db2613c",
       "value": 11
      }
     },
     "c1929547671b4b048ab61705efe8912a": {
      "model_module": "@jupyter-widgets/controls",
      "model_module_version": "1.5.0",
      "model_name": "DescriptionStyleModel",
      "state": {
       "description_width": ""
      }
     },
     "c22e3fdeb93f4f518dc869831413f96d": {
      "model_module": "@jupyter-widgets/base",
      "model_module_version": "1.2.0",
      "model_name": "LayoutModel",
      "state": {}
     },
     "c23325f76c674569a2b019848ee308a5": {
      "model_module": "@jupyter-widgets/controls",
      "model_module_version": "1.5.0",
      "model_name": "HTMLModel",
      "state": {
       "layout": "IPY_MODEL_1a65864c2656422dbe7b10ba23e1c885",
       "style": "IPY_MODEL_693f77777f6b4e3cbd4aa8729ab2163f",
       "value": " 99/99 [00:18&lt;00:00,  2.85it/s]"
      }
     },
     "c236f7b663f445aa9cabf9ee2da80800": {
      "model_module": "@jupyter-widgets/base",
      "model_module_version": "1.2.0",
      "model_name": "LayoutModel",
      "state": {}
     },
     "c251e37d9b0f46fe9e0822576763cd83": {
      "model_module": "@jupyter-widgets/base",
      "model_module_version": "1.2.0",
      "model_name": "LayoutModel",
      "state": {}
     },
     "c2982439a1234f28b7721dfa2dcee81c": {
      "model_module": "@jupyter-widgets/base",
      "model_module_version": "1.2.0",
      "model_name": "LayoutModel",
      "state": {}
     },
     "c2a0a50258bc47d093eea247a6fbcffa": {
      "model_module": "@jupyter-widgets/base",
      "model_module_version": "1.2.0",
      "model_name": "LayoutModel",
      "state": {}
     },
     "c2a4b58470ec42b3abf3cf5d63c38639": {
      "model_module": "@jupyter-widgets/base",
      "model_module_version": "1.2.0",
      "model_name": "LayoutModel",
      "state": {}
     },
     "c2a6ec3652634b7fb601962f1f596067": {
      "model_module": "@jupyter-widgets/base",
      "model_module_version": "1.2.0",
      "model_name": "LayoutModel",
      "state": {}
     },
     "c2b0df14d5674be59c919545393879d7": {
      "model_module": "@jupyter-widgets/controls",
      "model_module_version": "1.5.0",
      "model_name": "FloatProgressModel",
      "state": {
       "description": "val loss: 0.0752: 100%",
       "layout": "IPY_MODEL_099c9064604f406781880c2bfabae27a",
       "max": 6,
       "style": "IPY_MODEL_58ffa299c03740dface57a23dee305c5",
       "value": 6
      }
     },
     "c30b3e3d52974c11beba1c4fd77bd0a6": {
      "model_module": "@jupyter-widgets/base",
      "model_module_version": "1.2.0",
      "model_name": "LayoutModel",
      "state": {}
     },
     "c346c587c5444fa6ab28f2c6d06c65bf": {
      "model_module": "@jupyter-widgets/base",
      "model_module_version": "1.2.0",
      "model_name": "LayoutModel",
      "state": {}
     },
     "c34934e97ee84e2695c2dd758978b53f": {
      "model_module": "@jupyter-widgets/controls",
      "model_module_version": "1.5.0",
      "model_name": "DescriptionStyleModel",
      "state": {
       "description_width": ""
      }
     },
     "c352dc74c2f84d63bf0465e63939c896": {
      "model_module": "@jupyter-widgets/controls",
      "model_module_version": "1.5.0",
      "model_name": "FloatProgressModel",
      "state": {
       "description": "train loss: 0.0513: 100%",
       "layout": "IPY_MODEL_19b1ef23b8e34db79a00a4e194199d18",
       "max": 50,
       "style": "IPY_MODEL_e3095edfc08b4620b160cebe108eadfd",
       "value": 50
      }
     },
     "c358bdfb152c43019b36553defba15e1": {
      "model_module": "@jupyter-widgets/base",
      "model_module_version": "1.2.0",
      "model_name": "LayoutModel",
      "state": {}
     },
     "c36eba636df64a8fbe8871150e0311ca": {
      "model_module": "@jupyter-widgets/base",
      "model_module_version": "1.2.0",
      "model_name": "LayoutModel",
      "state": {}
     },
     "c39905c9465849af91daea5014906e06": {
      "model_module": "@jupyter-widgets/base",
      "model_module_version": "1.2.0",
      "model_name": "LayoutModel",
      "state": {}
     },
     "c3d7a09f01ae49169867a0505d30525d": {
      "model_module": "@jupyter-widgets/controls",
      "model_module_version": "1.5.0",
      "model_name": "HTMLModel",
      "state": {
       "layout": "IPY_MODEL_d65f18c453c149489e070f1e09b36549",
       "style": "IPY_MODEL_ddd1d58d94164e81b44ae6d4dc372636",
       "value": " 21/21 [00:00&lt;00:00, 247.72it/s]"
      }
     },
     "c3e6b53b92d543449d17b917632d8c17": {
      "model_module": "@jupyter-widgets/base",
      "model_module_version": "1.2.0",
      "model_name": "LayoutModel",
      "state": {}
     },
     "c3f069907a4c484b9f9cb4e154ddf802": {
      "model_module": "@jupyter-widgets/controls",
      "model_module_version": "1.5.0",
      "model_name": "FloatProgressModel",
      "state": {
       "description": "val loss: 0.3572: 100%",
       "layout": "IPY_MODEL_5f9622c2e0614ce3be53f7affdeae6db",
       "max": 11,
       "style": "IPY_MODEL_b3b5630cff2f44059fd0b8ec8e5ac279",
       "value": 11
      }
     },
     "c3f5478c79264e00a58e770277c4ac32": {
      "model_module": "@jupyter-widgets/base",
      "model_module_version": "1.2.0",
      "model_name": "LayoutModel",
      "state": {}
     },
     "c3fc3003ceed43058e0ef6e02bbda27b": {
      "model_module": "@jupyter-widgets/controls",
      "model_module_version": "1.5.0",
      "model_name": "DescriptionStyleModel",
      "state": {
       "description_width": ""
      }
     },
     "c403ef488a5e42dc96b8fa64fb58f679": {
      "model_module": "@jupyter-widgets/controls",
      "model_module_version": "1.5.0",
      "model_name": "DescriptionStyleModel",
      "state": {
       "description_width": ""
      }
     },
     "c48bdd36c11843a8bf65ee43f28a4446": {
      "model_module": "@jupyter-widgets/base",
      "model_module_version": "1.2.0",
      "model_name": "LayoutModel",
      "state": {}
     },
     "c4cb743f598548b68f74c680916912eb": {
      "model_module": "@jupyter-widgets/base",
      "model_module_version": "1.2.0",
      "model_name": "LayoutModel",
      "state": {}
     },
     "c54f6954925b48529d9fb7f7447d919c": {
      "model_module": "@jupyter-widgets/controls",
      "model_module_version": "1.5.0",
      "model_name": "DescriptionStyleModel",
      "state": {
       "description_width": ""
      }
     },
     "c5525c4db6fa4a23b28cef22c2ced4e9": {
      "model_module": "@jupyter-widgets/controls",
      "model_module_version": "1.5.0",
      "model_name": "HTMLModel",
      "state": {
       "layout": "IPY_MODEL_5663bfde0a9546089dacc99cdc48def2",
       "style": "IPY_MODEL_37a8a513cd424fe1899e0ca570f084eb",
       "value": " 11/11 [00:00&lt;00:00, 190.16it/s]"
      }
     },
     "c57f732cdf474dafb236ef62395c08f5": {
      "model_module": "@jupyter-widgets/controls",
      "model_module_version": "1.5.0",
      "model_name": "FloatProgressModel",
      "state": {
       "description": "val loss: 0.4190: 100%",
       "layout": "IPY_MODEL_6ac9aaea41c24822bc3c3059b0925b2e",
       "max": 22,
       "style": "IPY_MODEL_1eb44bfe091f4091bd52327d8827825c",
       "value": 22
      }
     },
     "c595e860936a4220b299f71cfc64ddbf": {
      "model_module": "@jupyter-widgets/controls",
      "model_module_version": "1.5.0",
      "model_name": "ProgressStyleModel",
      "state": {
       "description_width": "initial"
      }
     },
     "c5ed3439778048dfb2ac01e37227266f": {
      "model_module": "@jupyter-widgets/controls",
      "model_module_version": "1.5.0",
      "model_name": "ProgressStyleModel",
      "state": {
       "description_width": "initial"
      }
     },
     "c63aadb5989946638421de3d92718176": {
      "model_module": "@jupyter-widgets/controls",
      "model_module_version": "1.5.0",
      "model_name": "HTMLModel",
      "state": {
       "layout": "IPY_MODEL_c2a6ec3652634b7fb601962f1f596067",
       "style": "IPY_MODEL_60988e91a25a4f99bc61901e6828b070",
       "value": " 11/11 [00:00&lt;00:00, 132.88it/s]"
      }
     },
     "c6c98e2b8362484aac50cf4fe47ad7d5": {
      "model_module": "@jupyter-widgets/base",
      "model_module_version": "1.2.0",
      "model_name": "LayoutModel",
      "state": {}
     },
     "c6cb413fb571478d8e2748a913284850": {
      "model_module": "@jupyter-widgets/controls",
      "model_module_version": "1.5.0",
      "model_name": "DescriptionStyleModel",
      "state": {
       "description_width": ""
      }
     },
     "c6d8714bdd234f05bdaab3983d8c8ed1": {
      "model_module": "@jupyter-widgets/base",
      "model_module_version": "1.2.0",
      "model_name": "LayoutModel",
      "state": {}
     },
     "c6f5bd9e0ed44868ac4f4961f242a4bf": {
      "model_module": "@jupyter-widgets/controls",
      "model_module_version": "1.5.0",
      "model_name": "FloatProgressModel",
      "state": {
       "description": "train loss: 0.1013: 100%",
       "layout": "IPY_MODEL_8cf90847d55c45868bf278a08f8f90f8",
       "max": 50,
       "style": "IPY_MODEL_dd9989ce217f48718104dd360a58b506",
       "value": 50
      }
     },
     "c7004b24f6d9410596d93dd21e7634a9": {
      "model_module": "@jupyter-widgets/controls",
      "model_module_version": "1.5.0",
      "model_name": "HTMLModel",
      "state": {
       "layout": "IPY_MODEL_5936263a83464affb4cced65c1c9bc41",
       "style": "IPY_MODEL_25f197d185a94136b5bb6f260f5b49eb",
       "value": " 11/11 [00:00&lt;00:00, 197.05it/s]"
      }
     },
     "c71306362c7f4f8299b8411d1815e21c": {
      "model_module": "@jupyter-widgets/controls",
      "model_module_version": "1.5.0",
      "model_name": "HTMLModel",
      "state": {
       "layout": "IPY_MODEL_188c02ba8cbe4085a68912293c8dd900",
       "style": "IPY_MODEL_a8a0d7ee0ace420ca7382b0e42cb78ee",
       "value": " 99/99 [00:27&lt;00:00,  1.92it/s]"
      }
     },
     "c71bb111be1c448fb1c189bfc5010cfd": {
      "model_module": "@jupyter-widgets/controls",
      "model_module_version": "1.5.0",
      "model_name": "ProgressStyleModel",
      "state": {
       "description_width": "initial"
      }
     },
     "c72362c742664c49b89eecfb232d48c5": {
      "model_module": "@jupyter-widgets/controls",
      "model_module_version": "1.5.0",
      "model_name": "ProgressStyleModel",
      "state": {
       "description_width": "initial"
      }
     },
     "c72ef8bab04d4bd1991a933fcc8c03c9": {
      "model_module": "@jupyter-widgets/base",
      "model_module_version": "1.2.0",
      "model_name": "LayoutModel",
      "state": {}
     },
     "c754fc1937244d98a33e52ad6c63924d": {
      "model_module": "@jupyter-widgets/controls",
      "model_module_version": "1.5.0",
      "model_name": "FloatProgressModel",
      "state": {
       "description": "train loss: 0.0241: 100%",
       "layout": "IPY_MODEL_ee568bad800046bdbec99245b3c8d06a",
       "max": 99,
       "style": "IPY_MODEL_40cd0d3099f14ec89a485e8311cbe905",
       "value": 99
      }
     },
     "c756ac82315a47a19911a674931e8168": {
      "model_module": "@jupyter-widgets/controls",
      "model_module_version": "1.5.0",
      "model_name": "FloatProgressModel",
      "state": {
       "description": "train loss: 0.0133: 100%",
       "layout": "IPY_MODEL_4f6cd61ed472425d9cc7b6a120013c04",
       "max": 50,
       "style": "IPY_MODEL_1326ee34f63a46e5b72042214c9041aa",
       "value": 50
      }
     },
     "c75abd218ff941dabc8420c7805e9169": {
      "model_module": "@jupyter-widgets/base",
      "model_module_version": "1.2.0",
      "model_name": "LayoutModel",
      "state": {}
     },
     "c77630df1e964c97999f8c045f780627": {
      "model_module": "@jupyter-widgets/base",
      "model_module_version": "1.2.0",
      "model_name": "LayoutModel",
      "state": {}
     },
     "c7993ac95a65455cb46910ff31d9db22": {
      "model_module": "@jupyter-widgets/base",
      "model_module_version": "1.2.0",
      "model_name": "LayoutModel",
      "state": {}
     },
     "c7aa79a775e241e4ad0cd61488e819a7": {
      "model_module": "@jupyter-widgets/base",
      "model_module_version": "1.2.0",
      "model_name": "LayoutModel",
      "state": {}
     },
     "c7b515b71aeb4eab85db4779b5a392cf": {
      "model_module": "@jupyter-widgets/controls",
      "model_module_version": "1.5.0",
      "model_name": "DescriptionStyleModel",
      "state": {
       "description_width": ""
      }
     },
     "c872a8dcb8b443bd9bc87f69913606fd": {
      "model_module": "@jupyter-widgets/base",
      "model_module_version": "1.2.0",
      "model_name": "LayoutModel",
      "state": {}
     },
     "c8918dc30f6e4c2fab8c0cd7357a4afb": {
      "model_module": "@jupyter-widgets/base",
      "model_module_version": "1.2.0",
      "model_name": "LayoutModel",
      "state": {}
     },
     "c8ac30220b9b45dda7f2b4fe7a4dc6bc": {
      "model_module": "@jupyter-widgets/controls",
      "model_module_version": "1.5.0",
      "model_name": "DescriptionStyleModel",
      "state": {
       "description_width": ""
      }
     },
     "c8b409ab9ef14a1ca96cbbeec9a70b86": {
      "model_module": "@jupyter-widgets/controls",
      "model_module_version": "1.5.0",
      "model_name": "DescriptionStyleModel",
      "state": {
       "description_width": ""
      }
     },
     "c8cdaae0ae2148ebafa794d1d553a519": {
      "model_module": "@jupyter-widgets/controls",
      "model_module_version": "1.5.0",
      "model_name": "HBoxModel",
      "state": {
       "children": [
        "IPY_MODEL_89120ff915c642e7855f820730900ea8",
        "IPY_MODEL_9b208408055a4d64bdbcafd76733e548"
       ],
       "layout": "IPY_MODEL_9d1c7aa679aa4fdda257bb80c2269403"
      }
     },
     "c8d358e9e14f42dabfdb273868f8465b": {
      "model_module": "@jupyter-widgets/base",
      "model_module_version": "1.2.0",
      "model_name": "LayoutModel",
      "state": {}
     },
     "c9004da6529a437d837c7ccd1e1d8244": {
      "model_module": "@jupyter-widgets/base",
      "model_module_version": "1.2.0",
      "model_name": "LayoutModel",
      "state": {}
     },
     "c948d9e7e51a406ab63212d3d4cae6a4": {
      "model_module": "@jupyter-widgets/controls",
      "model_module_version": "1.5.0",
      "model_name": "FloatProgressModel",
      "state": {
       "description": "val loss: 0.3335: 100%",
       "layout": "IPY_MODEL_370a63a9a2074fd89cd19aa15a395221",
       "max": 22,
       "style": "IPY_MODEL_d6d23298e77d49c5b5b487d2decd559e",
       "value": 22
      }
     },
     "c94e0856e95c4d61b5dd42b5bd69a81a": {
      "model_module": "@jupyter-widgets/controls",
      "model_module_version": "1.5.0",
      "model_name": "HTMLModel",
      "state": {
       "layout": "IPY_MODEL_94bfb36d676d45738f977bf45d0211d6",
       "style": "IPY_MODEL_5e23192bda864121ba772a7a5aeaef56",
       "value": " 21/21 [00:00&lt;00:00, 239.34it/s]"
      }
     },
     "c979a90204284c158f7b781ba5edd342": {
      "model_module": "@jupyter-widgets/controls",
      "model_module_version": "1.5.0",
      "model_name": "DescriptionStyleModel",
      "state": {
       "description_width": ""
      }
     },
     "c9c6ff6984084abd962378a3c55e65fd": {
      "model_module": "@jupyter-widgets/controls",
      "model_module_version": "1.5.0",
      "model_name": "HTMLModel",
      "state": {
       "layout": "IPY_MODEL_8bd378b1d90d43488b82c87b670107ed",
       "style": "IPY_MODEL_879c168226cc401ba5d6d50aa52faba1",
       "value": " 22/22 [00:00&lt;00:00, 148.87it/s]"
      }
     },
     "c9f5463d7457424a87ac1b1f6fac1e03": {
      "model_module": "@jupyter-widgets/controls",
      "model_module_version": "1.5.0",
      "model_name": "FloatProgressModel",
      "state": {
       "description": "train loss: 0.2043: 100%",
       "layout": "IPY_MODEL_f4e6967b4a2649bcaeeea526f987a178",
       "max": 50,
       "style": "IPY_MODEL_6e312fe75930402d9c94804e3f33f5d6",
       "value": 50
      }
     },
     "ca55e87f55384efbac113f94ed738e28": {
      "model_module": "@jupyter-widgets/controls",
      "model_module_version": "1.5.0",
      "model_name": "HTMLModel",
      "state": {
       "layout": "IPY_MODEL_a869f5dff091404291704c3448451fdc",
       "style": "IPY_MODEL_f7062e64b166418bb1e42868d57d9434",
       "value": " 11/11 [00:00&lt;00:00, 123.96it/s]"
      }
     },
     "ca82e8f5a9494126b59c6e13b3a87497": {
      "model_module": "@jupyter-widgets/controls",
      "model_module_version": "1.5.0",
      "model_name": "FloatProgressModel",
      "state": {
       "description": "val loss: 0.2043: 100%",
       "layout": "IPY_MODEL_1b892846b6c3404282d22cea973e0f59",
       "max": 22,
       "style": "IPY_MODEL_7b0a65e7d799443c83d418290dd2db21",
       "value": 22
      }
     },
     "ca9957f053d542eba0013a8763852fa1": {
      "model_module": "@jupyter-widgets/controls",
      "model_module_version": "1.5.0",
      "model_name": "FloatProgressModel",
      "state": {
       "description": "val loss: 0.2785: 100%",
       "layout": "IPY_MODEL_b89e0c84e40b4d02b43171f6c48de9e9",
       "max": 11,
       "style": "IPY_MODEL_66d31d75b1b34250851d831fc75b6048",
       "value": 11
      }
     },
     "cab0e314d7cb4f268b44af89ffacb662": {
      "model_module": "@jupyter-widgets/controls",
      "model_module_version": "1.5.0",
      "model_name": "HTMLModel",
      "state": {
       "layout": "IPY_MODEL_8dbb19922dc745ccb484ff880fd58886",
       "style": "IPY_MODEL_faedf676abb54604a7bba3e4699ec276",
       "value": " 10/10 [01:28&lt;00:00,  8.81s/it]"
      }
     },
     "cab670988adf4536ac3eb9d4299d40e3": {
      "model_module": "@jupyter-widgets/base",
      "model_module_version": "1.2.0",
      "model_name": "LayoutModel",
      "state": {}
     },
     "cad06360682b4cd5bc2ca403c5ea9aac": {
      "model_module": "@jupyter-widgets/base",
      "model_module_version": "1.2.0",
      "model_name": "LayoutModel",
      "state": {}
     },
     "cadaa256ec924f2cbe68f0230679c57a": {
      "model_module": "@jupyter-widgets/controls",
      "model_module_version": "1.5.0",
      "model_name": "ProgressStyleModel",
      "state": {
       "description_width": "initial"
      }
     },
     "caf01583b7cf4843b86cc16fd04497ad": {
      "model_module": "@jupyter-widgets/base",
      "model_module_version": "1.2.0",
      "model_name": "LayoutModel",
      "state": {}
     },
     "cb0ff10547154aea93b5f8436778a8b5": {
      "model_module": "@jupyter-widgets/controls",
      "model_module_version": "1.5.0",
      "model_name": "DescriptionStyleModel",
      "state": {
       "description_width": ""
      }
     },
     "cb2a224b33b445038090002954b6bfcf": {
      "model_module": "@jupyter-widgets/controls",
      "model_module_version": "1.5.0",
      "model_name": "HTMLModel",
      "state": {
       "layout": "IPY_MODEL_84e54918a442470ca524ce1ba8f297eb",
       "style": "IPY_MODEL_8ae59821eee845f3a89e4c9ec1dc150e",
       "value": " 50/50 [00:07&lt;00:00,  3.77it/s]"
      }
     },
     "cb6a95c9d4be4597b2bc298c1cb46c5e": {
      "model_module": "@jupyter-widgets/controls",
      "model_module_version": "1.5.0",
      "model_name": "ProgressStyleModel",
      "state": {
       "description_width": "initial"
      }
     },
     "cb7daa65097f47feac246e54e49c7ca7": {
      "model_module": "@jupyter-widgets/controls",
      "model_module_version": "1.5.0",
      "model_name": "HTMLModel",
      "state": {
       "layout": "IPY_MODEL_3b80151f2c57443d9f19b59484fdcc7b",
       "style": "IPY_MODEL_619def91a9fd413eab53fa64518b4d7d",
       "value": " 11/11 [00:00&lt;00:00, 204.14it/s]"
      }
     },
     "cb8fb27ecb13458894c60d865a507537": {
      "model_module": "@jupyter-widgets/base",
      "model_module_version": "1.2.0",
      "model_name": "LayoutModel",
      "state": {}
     },
     "cba6464205a9402c8879d48e046e64dc": {
      "model_module": "@jupyter-widgets/controls",
      "model_module_version": "1.5.0",
      "model_name": "HTMLModel",
      "state": {
       "layout": "IPY_MODEL_b0001ddd472441b38b4c104f41de7e6c",
       "style": "IPY_MODEL_0b87d5cab41e4f5b99f953c89651efcf",
       "value": " 50/50 [00:07&lt;00:00,  3.67it/s]"
      }
     },
     "cba95ef14af54431a7e61301235aa9e4": {
      "model_module": "@jupyter-widgets/base",
      "model_module_version": "1.2.0",
      "model_name": "LayoutModel",
      "state": {}
     },
     "cbb1fa96216c445981b70b5457b3b5a6": {
      "model_module": "@jupyter-widgets/base",
      "model_module_version": "1.2.0",
      "model_name": "LayoutModel",
      "state": {}
     },
     "cbd17223d62344a1b6d93962a4e454d6": {
      "model_module": "@jupyter-widgets/base",
      "model_module_version": "1.2.0",
      "model_name": "LayoutModel",
      "state": {}
     },
     "cbe147db947740abae11dfa2e5c7972e": {
      "model_module": "@jupyter-widgets/base",
      "model_module_version": "1.2.0",
      "model_name": "LayoutModel",
      "state": {}
     },
     "cbf30125c13642fa9512c3c70ddde911": {
      "model_module": "@jupyter-widgets/controls",
      "model_module_version": "1.5.0",
      "model_name": "ProgressStyleModel",
      "state": {
       "description_width": "initial"
      }
     },
     "cc1bb231d2004ae88fb50546a1babb42": {
      "model_module": "@jupyter-widgets/controls",
      "model_module_version": "1.5.0",
      "model_name": "DescriptionStyleModel",
      "state": {
       "description_width": ""
      }
     },
     "cc35631d83424800a232d7b3848f7a77": {
      "model_module": "@jupyter-widgets/base",
      "model_module_version": "1.2.0",
      "model_name": "LayoutModel",
      "state": {}
     },
     "cc41be43394c475a88f0ee1add17adad": {
      "model_module": "@jupyter-widgets/controls",
      "model_module_version": "1.5.0",
      "model_name": "HTMLModel",
      "state": {
       "layout": "IPY_MODEL_ea7551b6d0be489699df8bf0d7186134",
       "style": "IPY_MODEL_6707ca053fa04db4b627d112238a3811",
       "value": " 22/22 [00:00&lt;00:00, 148.92it/s]"
      }
     },
     "ccd22b7444ec433395fe27199fd4452b": {
      "model_module": "@jupyter-widgets/controls",
      "model_module_version": "1.5.0",
      "model_name": "DescriptionStyleModel",
      "state": {
       "description_width": ""
      }
     },
     "cced3176deda4098828b5ed4647da1a3": {
      "model_module": "@jupyter-widgets/controls",
      "model_module_version": "1.5.0",
      "model_name": "ProgressStyleModel",
      "state": {
       "description_width": "initial"
      }
     },
     "cd70d72770ef4ae294b4ede4060475f0": {
      "model_module": "@jupyter-widgets/base",
      "model_module_version": "1.2.0",
      "model_name": "LayoutModel",
      "state": {}
     },
     "cd8062dfbe8a40fabecabebe1eda009c": {
      "model_module": "@jupyter-widgets/controls",
      "model_module_version": "1.5.0",
      "model_name": "ProgressStyleModel",
      "state": {
       "description_width": "initial"
      }
     },
     "cd9944f149824d73940d9de9d7658713": {
      "model_module": "@jupyter-widgets/controls",
      "model_module_version": "1.5.0",
      "model_name": "DescriptionStyleModel",
      "state": {
       "description_width": ""
      }
     },
     "cdb2161447b644c189f137e54c6a5c41": {
      "model_module": "@jupyter-widgets/base",
      "model_module_version": "1.2.0",
      "model_name": "LayoutModel",
      "state": {}
     },
     "cdb2ae6367d841f19322e0c309b4bc44": {
      "model_module": "@jupyter-widgets/base",
      "model_module_version": "1.2.0",
      "model_name": "LayoutModel",
      "state": {}
     },
     "cdb78035f25a41fe9990385ba4b3a9f4": {
      "model_module": "@jupyter-widgets/controls",
      "model_module_version": "1.5.0",
      "model_name": "DescriptionStyleModel",
      "state": {
       "description_width": ""
      }
     },
     "cdbeb5e5e8574db29d249cc3ca212b40": {
      "model_module": "@jupyter-widgets/controls",
      "model_module_version": "1.5.0",
      "model_name": "ProgressStyleModel",
      "state": {
       "description_width": "initial"
      }
     },
     "ce03fd2523a74b789fda7adc4a22302e": {
      "model_module": "@jupyter-widgets/base",
      "model_module_version": "1.2.0",
      "model_name": "LayoutModel",
      "state": {}
     },
     "ce0dd9c95b354b4fa4cb87613d8183ea": {
      "model_module": "@jupyter-widgets/controls",
      "model_module_version": "1.5.0",
      "model_name": "ProgressStyleModel",
      "state": {
       "description_width": "initial"
      }
     },
     "ce144cf938364bd99cd0f1164992e3f3": {
      "model_module": "@jupyter-widgets/base",
      "model_module_version": "1.2.0",
      "model_name": "LayoutModel",
      "state": {}
     },
     "ce1cf14311db4f87a43493557bb2f3e0": {
      "model_module": "@jupyter-widgets/base",
      "model_module_version": "1.2.0",
      "model_name": "LayoutModel",
      "state": {}
     },
     "ce428bb45dfe4e4a9f3faad09e0d14d2": {
      "model_module": "@jupyter-widgets/base",
      "model_module_version": "1.2.0",
      "model_name": "LayoutModel",
      "state": {}
     },
     "ce4601e369be45e6807c785ae742a0a8": {
      "model_module": "@jupyter-widgets/controls",
      "model_module_version": "1.5.0",
      "model_name": "ProgressStyleModel",
      "state": {
       "description_width": "initial"
      }
     },
     "ce4e3bdc1aef482cb7d2c550740f9ea7": {
      "model_module": "@jupyter-widgets/base",
      "model_module_version": "1.2.0",
      "model_name": "LayoutModel",
      "state": {}
     },
     "ce65d148bc4a4a98bbb00b57a77e6817": {
      "model_module": "@jupyter-widgets/controls",
      "model_module_version": "1.5.0",
      "model_name": "HTMLModel",
      "state": {
       "layout": "IPY_MODEL_7c366a095ac9431faa46a790ba7c6e7c",
       "style": "IPY_MODEL_9915abb15145427c85586789c9810f3f",
       "value": " 99/99 [00:00&lt;00:00, 108.04it/s]"
      }
     },
     "ce82d20fb2e5400fb1be86665bc38f25": {
      "model_module": "@jupyter-widgets/controls",
      "model_module_version": "1.5.0",
      "model_name": "ProgressStyleModel",
      "state": {
       "description_width": "initial"
      }
     },
     "ce9647152d40472b82a39c98789f2573": {
      "model_module": "@jupyter-widgets/controls",
      "model_module_version": "1.5.0",
      "model_name": "HTMLModel",
      "state": {
       "layout": "IPY_MODEL_ddb6688e804a41189bbd6f56a8285a7f",
       "style": "IPY_MODEL_5be9fa074802446796f5d708a07ff846",
       "value": " 11/11 [00:00&lt;00:00, 132.88it/s]"
      }
     },
     "cecd72c92c17445b90f17c06abbe81fa": {
      "model_module": "@jupyter-widgets/controls",
      "model_module_version": "1.5.0",
      "model_name": "DescriptionStyleModel",
      "state": {
       "description_width": ""
      }
     },
     "ced66437a9a843b487b07544ff28bd46": {
      "model_module": "@jupyter-widgets/controls",
      "model_module_version": "1.5.0",
      "model_name": "FloatProgressModel",
      "state": {
       "bar_style": "danger",
       "description": "Train Loss: 0.1336 - Val Loss: 0.1700:  30%",
       "layout": "IPY_MODEL_76539ddeac3745c2bc3d07d65f5a334c",
       "max": 10,
       "style": "IPY_MODEL_e0f1a2f3510b4effa95ae0ee29fd09d1",
       "value": 3
      }
     },
     "cee0b218b4a84c5baf60b4c4ffd1a179": {
      "model_module": "@jupyter-widgets/controls",
      "model_module_version": "1.5.0",
      "model_name": "ProgressStyleModel",
      "state": {
       "description_width": "initial"
      }
     },
     "cee8e8bb22ae4ab589166e0d07115c9f": {
      "model_module": "@jupyter-widgets/base",
      "model_module_version": "1.2.0",
      "model_name": "LayoutModel",
      "state": {}
     },
     "cf1d7ec6674b401184d9558c34dd98f2": {
      "model_module": "@jupyter-widgets/base",
      "model_module_version": "1.2.0",
      "model_name": "LayoutModel",
      "state": {}
     },
     "cf3589b247794e9db2ac1bb785f74663": {
      "model_module": "@jupyter-widgets/base",
      "model_module_version": "1.2.0",
      "model_name": "LayoutModel",
      "state": {}
     },
     "cf45e7a0b06748328bfb2226a0f7526b": {
      "model_module": "@jupyter-widgets/base",
      "model_module_version": "1.2.0",
      "model_name": "LayoutModel",
      "state": {}
     },
     "cf5975d3d2774f24947a51f4f33b3ae0": {
      "model_module": "@jupyter-widgets/base",
      "model_module_version": "1.2.0",
      "model_name": "LayoutModel",
      "state": {}
     },
     "cfbb31f57958433dbd7fb043bca8e8b2": {
      "model_module": "@jupyter-widgets/base",
      "model_module_version": "1.2.0",
      "model_name": "LayoutModel",
      "state": {}
     },
     "cfdadfc2bfd44b8a9a8882572592fb86": {
      "model_module": "@jupyter-widgets/controls",
      "model_module_version": "1.5.0",
      "model_name": "DescriptionStyleModel",
      "state": {
       "description_width": ""
      }
     },
     "cfded283d3c74c8ea1a4e5ac4a872c9c": {
      "model_module": "@jupyter-widgets/controls",
      "model_module_version": "1.5.0",
      "model_name": "HTMLModel",
      "state": {
       "layout": "IPY_MODEL_c72ef8bab04d4bd1991a933fcc8c03c9",
       "style": "IPY_MODEL_3a8941133e5349b1a2f335997840bf42",
       "value": " 99/99 [00:00&lt;00:00, 105.55it/s]"
      }
     },
     "cfee65dcb52f4d0298da6c17531e4319": {
      "model_module": "@jupyter-widgets/controls",
      "model_module_version": "1.5.0",
      "model_name": "ProgressStyleModel",
      "state": {
       "description_width": "initial"
      }
     },
     "cfeea5d5f5284b33990feb0255395db0": {
      "model_module": "@jupyter-widgets/controls",
      "model_module_version": "1.5.0",
      "model_name": "HTMLModel",
      "state": {
       "layout": "IPY_MODEL_1af3f4efdc0e44f4a5a6562c88329e96",
       "style": "IPY_MODEL_521e2b4331f3462d921154788088a223",
       "value": " 11/11 [00:00&lt;00:00, 134.55it/s]"
      }
     },
     "d0217796e7bb4faab14a8ece02acbdf0": {
      "model_module": "@jupyter-widgets/controls",
      "model_module_version": "1.5.0",
      "model_name": "HTMLModel",
      "state": {
       "layout": "IPY_MODEL_a648310f5afc4cf6a79016f77486943d",
       "style": "IPY_MODEL_249b6634a5824fcbb0ac16832699f9b0",
       "value": " 50/50 [00:07&lt;00:00,  3.77it/s]"
      }
     },
     "d03b15cc6e2a4a2a86bb7628a448164a": {
      "model_module": "@jupyter-widgets/base",
      "model_module_version": "1.2.0",
      "model_name": "LayoutModel",
      "state": {}
     },
     "d05ef522e6c0432a865c6c9e1169a87b": {
      "model_module": "@jupyter-widgets/controls",
      "model_module_version": "1.5.0",
      "model_name": "HTMLModel",
      "state": {
       "layout": "IPY_MODEL_23f7bfff5ec5492ea66ce45d1ce43df0",
       "style": "IPY_MODEL_8e8965f23cae4acb96fe41008ebd9a5c",
       "value": " 99/99 [00:27&lt;00:00,  1.93it/s]"
      }
     },
     "d089c84ea3af41a9a0ae5554ae8d26e1": {
      "model_module": "@jupyter-widgets/base",
      "model_module_version": "1.2.0",
      "model_name": "LayoutModel",
      "state": {}
     },
     "d0ada24afe0b418dbbda389a7d75dc1b": {
      "model_module": "@jupyter-widgets/controls",
      "model_module_version": "1.5.0",
      "model_name": "ProgressStyleModel",
      "state": {
       "description_width": "initial"
      }
     },
     "d0bf8ed3e60b4e078e365f6ffa102903": {
      "model_module": "@jupyter-widgets/controls",
      "model_module_version": "1.5.0",
      "model_name": "ProgressStyleModel",
      "state": {
       "description_width": "initial"
      }
     },
     "d0c332fb814c47f09e7dd53b296c34ff": {
      "model_module": "@jupyter-widgets/base",
      "model_module_version": "1.2.0",
      "model_name": "LayoutModel",
      "state": {}
     },
     "d0d588c7991b4b78a0b648ee7243bb9e": {
      "model_module": "@jupyter-widgets/base",
      "model_module_version": "1.2.0",
      "model_name": "LayoutModel",
      "state": {}
     },
     "d0f638ce2ac54447817dba62d9d3ede0": {
      "model_module": "@jupyter-widgets/base",
      "model_module_version": "1.2.0",
      "model_name": "LayoutModel",
      "state": {}
     },
     "d15c2e3b5ff04413a289d2e43824d153": {
      "model_module": "@jupyter-widgets/controls",
      "model_module_version": "1.5.0",
      "model_name": "HTMLModel",
      "state": {
       "layout": "IPY_MODEL_0adc81e62a7a47769ca093410cb7f4dd",
       "style": "IPY_MODEL_a38a56e7ce7647ce8bb2d3dee6a5813f",
       "value": " 50/50 [00:07&lt;00:00,  3.74it/s]"
      }
     },
     "d16422faa51742edb2661ab9f2b194ef": {
      "model_module": "@jupyter-widgets/controls",
      "model_module_version": "1.5.0",
      "model_name": "DescriptionStyleModel",
      "state": {
       "description_width": ""
      }
     },
     "d172384322f74a6888183af9e9084965": {
      "model_module": "@jupyter-widgets/base",
      "model_module_version": "1.2.0",
      "model_name": "LayoutModel",
      "state": {}
     },
     "d1764354b63d4ea8b09d134847351ce4": {
      "model_module": "@jupyter-widgets/controls",
      "model_module_version": "1.5.0",
      "model_name": "DescriptionStyleModel",
      "state": {
       "description_width": ""
      }
     },
     "d1893c7309ed4abaa7964f454afceb57": {
      "model_module": "@jupyter-widgets/base",
      "model_module_version": "1.2.0",
      "model_name": "LayoutModel",
      "state": {}
     },
     "d1e50843b0354cc3b0d6330b51f4a063": {
      "model_module": "@jupyter-widgets/base",
      "model_module_version": "1.2.0",
      "model_name": "LayoutModel",
      "state": {}
     },
     "d1ffa53bb29845709152da585f32ef14": {
      "model_module": "@jupyter-widgets/base",
      "model_module_version": "1.2.0",
      "model_name": "LayoutModel",
      "state": {}
     },
     "d23370e080bf4f778e5f66113352008a": {
      "model_module": "@jupyter-widgets/base",
      "model_module_version": "1.2.0",
      "model_name": "LayoutModel",
      "state": {}
     },
     "d25684f0bb534000abb4ff6cda45d34d": {
      "model_module": "@jupyter-widgets/controls",
      "model_module_version": "1.5.0",
      "model_name": "ProgressStyleModel",
      "state": {
       "description_width": "initial"
      }
     },
     "d2866d6c16394a328404b6e9b809426e": {
      "model_module": "@jupyter-widgets/base",
      "model_module_version": "1.2.0",
      "model_name": "LayoutModel",
      "state": {}
     },
     "d2af00df9d1a468d99d4e1f947e39b5d": {
      "model_module": "@jupyter-widgets/controls",
      "model_module_version": "1.5.0",
      "model_name": "HTMLModel",
      "state": {
       "layout": "IPY_MODEL_44b07f4591b549319a139069f5dc3fe9",
       "style": "IPY_MODEL_4ad6bb14e3af487eb1e24a823ceec23e",
       "value": " 11/11 [00:00&lt;00:00, 136.12it/s]"
      }
     },
     "d2d0502b8ac14d15b4fcc433dcd97a96": {
      "model_module": "@jupyter-widgets/base",
      "model_module_version": "1.2.0",
      "model_name": "LayoutModel",
      "state": {}
     },
     "d2d312c9097b4298b8679f0567d542c7": {
      "model_module": "@jupyter-widgets/base",
      "model_module_version": "1.2.0",
      "model_name": "LayoutModel",
      "state": {}
     },
     "d317bac9fea242858500c329a941a45e": {
      "model_module": "@jupyter-widgets/controls",
      "model_module_version": "1.5.0",
      "model_name": "ProgressStyleModel",
      "state": {
       "description_width": "initial"
      }
     },
     "d353307838fd4448b7ddc7afd7bc9d68": {
      "model_module": "@jupyter-widgets/controls",
      "model_module_version": "1.5.0",
      "model_name": "FloatProgressModel",
      "state": {
       "description": "train loss: 0.1145: 100%",
       "layout": "IPY_MODEL_0d30c692086c4d92be8d22615b49fa46",
       "max": 50,
       "style": "IPY_MODEL_7e37bce229be4e0086b12bda9ca44a28",
       "value": 50
      }
     },
     "d3761e2824a142f59d8dd2573d9d30bd": {
      "model_module": "@jupyter-widgets/controls",
      "model_module_version": "1.5.0",
      "model_name": "FloatProgressModel",
      "state": {
       "description": "train loss: 0.5115: 100%",
       "layout": "IPY_MODEL_324628f6803a424cbdb8c87993cca86c",
       "max": 99,
       "style": "IPY_MODEL_5d4b503ebb2449f9b66461c0ef391754",
       "value": 99
      }
     },
     "d39048646c734294a9fc9eca4b1e9c80": {
      "model_module": "@jupyter-widgets/base",
      "model_module_version": "1.2.0",
      "model_name": "LayoutModel",
      "state": {}
     },
     "d3aaabfad04747429f1a266d9c693ddc": {
      "model_module": "@jupyter-widgets/controls",
      "model_module_version": "1.5.0",
      "model_name": "HTMLModel",
      "state": {
       "layout": "IPY_MODEL_268d4adb8b6d4827b2839d17a74e6066",
       "style": "IPY_MODEL_04f031e69ca4488882a7cc4bef6d0c6c",
       "value": " 50/50 [00:07&lt;00:00,  3.74it/s]"
      }
     },
     "d3d39d243bfe4274908d61863b406e9a": {
      "model_module": "@jupyter-widgets/base",
      "model_module_version": "1.2.0",
      "model_name": "LayoutModel",
      "state": {}
     },
     "d3d95f9ce4db4da7a1a6ae1072aac96e": {
      "model_module": "@jupyter-widgets/controls",
      "model_module_version": "1.5.0",
      "model_name": "HTMLModel",
      "state": {
       "layout": "IPY_MODEL_c251e37d9b0f46fe9e0822576763cd83",
       "style": "IPY_MODEL_70fa0c9b87604c1eaaaea7e0a1aaff26",
       "value": " 99/99 [00:27&lt;00:00,  1.91it/s]"
      }
     },
     "d3e01cd93373489eba3ea7d741ae4ade": {
      "model_module": "@jupyter-widgets/controls",
      "model_module_version": "1.5.0",
      "model_name": "DescriptionStyleModel",
      "state": {
       "description_width": ""
      }
     },
     "d3eef944ad6244b892c3cd3740ed5d85": {
      "model_module": "@jupyter-widgets/controls",
      "model_module_version": "1.5.0",
      "model_name": "ProgressStyleModel",
      "state": {
       "description_width": "initial"
      }
     },
     "d3f2078a2712411fa35f0df728d64db8": {
      "model_module": "@jupyter-widgets/controls",
      "model_module_version": "1.5.0",
      "model_name": "HBoxModel",
      "state": {
       "children": [
        "IPY_MODEL_48e0bde51a034c358dec458332a19b48",
        "IPY_MODEL_4a38e49d60c34d0791b0b9f40b871725"
       ],
       "layout": "IPY_MODEL_f0090f09662b41f3a122ebfc7e5c9258"
      }
     },
     "d47b675919b74c128059358af5682450": {
      "model_module": "@jupyter-widgets/base",
      "model_module_version": "1.2.0",
      "model_name": "LayoutModel",
      "state": {}
     },
     "d4c01d3b508b414fbe2b688637b6f8ee": {
      "model_module": "@jupyter-widgets/controls",
      "model_module_version": "1.5.0",
      "model_name": "ProgressStyleModel",
      "state": {
       "description_width": "initial"
      }
     },
     "d4c597f72ca04044933ed422d06c9c40": {
      "model_module": "@jupyter-widgets/base",
      "model_module_version": "1.2.0",
      "model_name": "LayoutModel",
      "state": {}
     },
     "d4fe643c27d34c6fa2db9b0538169280": {
      "model_module": "@jupyter-widgets/controls",
      "model_module_version": "1.5.0",
      "model_name": "FloatProgressModel",
      "state": {
       "description": "val loss: 0.2877: 100%",
       "layout": "IPY_MODEL_a391ae34bd3a400ea777d32bc715387c",
       "max": 22,
       "style": "IPY_MODEL_2237e505560d47b0bbb6dc710175d854",
       "value": 22
      }
     },
     "d63811c932714192b1fe52732e7833ef": {
      "model_module": "@jupyter-widgets/controls",
      "model_module_version": "1.5.0",
      "model_name": "FloatProgressModel",
      "state": {
       "description": "val loss: 0.0721: 100%",
       "layout": "IPY_MODEL_39827581f1004d6caadf94add38173dd",
       "max": 6,
       "style": "IPY_MODEL_fd00a911c13d4dc9b3f854570d439ddf",
       "value": 6
      }
     },
     "d63b236860534d0fbaef3dbfe90cd651": {
      "model_module": "@jupyter-widgets/controls",
      "model_module_version": "1.5.0",
      "model_name": "DescriptionStyleModel",
      "state": {
       "description_width": ""
      }
     },
     "d6504f0072ee4c7da27636a9f07a910f": {
      "model_module": "@jupyter-widgets/base",
      "model_module_version": "1.2.0",
      "model_name": "LayoutModel",
      "state": {}
     },
     "d65a949625ef451b8e19b5500ea99b3d": {
      "model_module": "@jupyter-widgets/base",
      "model_module_version": "1.2.0",
      "model_name": "LayoutModel",
      "state": {}
     },
     "d65bf0ed7a1944b1a8ad014eab32af30": {
      "model_module": "@jupyter-widgets/controls",
      "model_module_version": "1.5.0",
      "model_name": "HTMLModel",
      "state": {
       "layout": "IPY_MODEL_c36eba636df64a8fbe8871150e0311ca",
       "style": "IPY_MODEL_52171abb3b654ca1b5f0bf69682c51c8",
       "value": " 11/11 [00:00&lt;00:00, 141.45it/s]"
      }
     },
     "d65f18c453c149489e070f1e09b36549": {
      "model_module": "@jupyter-widgets/base",
      "model_module_version": "1.2.0",
      "model_name": "LayoutModel",
      "state": {}
     },
     "d6ab9a1488e4400c803436416e4795ac": {
      "model_module": "@jupyter-widgets/base",
      "model_module_version": "1.2.0",
      "model_name": "LayoutModel",
      "state": {}
     },
     "d6d23298e77d49c5b5b487d2decd559e": {
      "model_module": "@jupyter-widgets/controls",
      "model_module_version": "1.5.0",
      "model_name": "ProgressStyleModel",
      "state": {
       "description_width": "initial"
      }
     },
     "d6dca725d8174609b17479f52db8e6b8": {
      "model_module": "@jupyter-widgets/base",
      "model_module_version": "1.2.0",
      "model_name": "LayoutModel",
      "state": {}
     },
     "d702cfe742294730b5f605aeca92fcd2": {
      "model_module": "@jupyter-widgets/controls",
      "model_module_version": "1.5.0",
      "model_name": "ProgressStyleModel",
      "state": {
       "description_width": "initial"
      }
     },
     "d732d222f082469fb34a0f75525a2f15": {
      "model_module": "@jupyter-widgets/base",
      "model_module_version": "1.2.0",
      "model_name": "LayoutModel",
      "state": {}
     },
     "d73520dd221d4cdcbe8044035634790f": {
      "model_module": "@jupyter-widgets/controls",
      "model_module_version": "1.5.0",
      "model_name": "FloatProgressModel",
      "state": {
       "description": "val loss: 0.3055: 100%",
       "layout": "IPY_MODEL_0e2fd93c09cf4785bb06f5764e1d3297",
       "max": 11,
       "style": "IPY_MODEL_e88e719fdb8b45a1856c6db3232d6a0b",
       "value": 11
      }
     },
     "d7449111c6414490bc6565d6cc0ff141": {
      "model_module": "@jupyter-widgets/base",
      "model_module_version": "1.2.0",
      "model_name": "LayoutModel",
      "state": {}
     },
     "d778825b120a43bab00f4ce1cf7ee301": {
      "model_module": "@jupyter-widgets/base",
      "model_module_version": "1.2.0",
      "model_name": "LayoutModel",
      "state": {}
     },
     "d79165999145493eab1ab747c9547926": {
      "model_module": "@jupyter-widgets/controls",
      "model_module_version": "1.5.0",
      "model_name": "FloatProgressModel",
      "state": {
       "description": "val loss: 0.0789: 100%",
       "layout": "IPY_MODEL_cf5975d3d2774f24947a51f4f33b3ae0",
       "max": 6,
       "style": "IPY_MODEL_82a535af0d874a6ea96f1d9c882e3245",
       "value": 6
      }
     },
     "d7929cb048104efcb22dbaa384699777": {
      "model_module": "@jupyter-widgets/base",
      "model_module_version": "1.2.0",
      "model_name": "LayoutModel",
      "state": {}
     },
     "d7a8134f078e48d5b36e99ebd8af17ef": {
      "model_module": "@jupyter-widgets/controls",
      "model_module_version": "1.5.0",
      "model_name": "HBoxModel",
      "state": {
       "children": [
        "IPY_MODEL_a014682e46ac469dae06b9b649287ed5",
        "IPY_MODEL_661f6ec8d91a4b70b212d41e16efbf27"
       ],
       "layout": "IPY_MODEL_4fdb68fd2633431582e35d79cdd1b32d"
      }
     },
     "d7e56c98cd814c67918198b18c78e19d": {
      "model_module": "@jupyter-widgets/controls",
      "model_module_version": "1.5.0",
      "model_name": "FloatProgressModel",
      "state": {
       "description": "train loss: 0.0908: 100%",
       "layout": "IPY_MODEL_68643d384d6e4704a06f3b2e42cd2b01",
       "max": 99,
       "style": "IPY_MODEL_c595e860936a4220b299f71cfc64ddbf",
       "value": 99
      }
     },
     "d8a08d63778544438594e4253dea7c14": {
      "model_module": "@jupyter-widgets/controls",
      "model_module_version": "1.5.0",
      "model_name": "DescriptionStyleModel",
      "state": {
       "description_width": ""
      }
     },
     "d8a8dfb9c82f4e18b9cadb0cf97746f9": {
      "model_module": "@jupyter-widgets/base",
      "model_module_version": "1.2.0",
      "model_name": "LayoutModel",
      "state": {}
     },
     "d8f8b4fba41743489a91448c4abafd3a": {
      "model_module": "@jupyter-widgets/controls",
      "model_module_version": "1.5.0",
      "model_name": "ProgressStyleModel",
      "state": {
       "description_width": "initial"
      }
     },
     "d8ff084c163d44e592f191294d9a4d47": {
      "model_module": "@jupyter-widgets/base",
      "model_module_version": "1.2.0",
      "model_name": "LayoutModel",
      "state": {}
     },
     "d96c6ee9e8f546d4b47a290a23505bcf": {
      "model_module": "@jupyter-widgets/base",
      "model_module_version": "1.2.0",
      "model_name": "LayoutModel",
      "state": {}
     },
     "d979d949a4684e379c884f1e83c75153": {
      "model_module": "@jupyter-widgets/base",
      "model_module_version": "1.2.0",
      "model_name": "LayoutModel",
      "state": {}
     },
     "d996026f9487437cbeb5b0595bfdd573": {
      "model_module": "@jupyter-widgets/base",
      "model_module_version": "1.2.0",
      "model_name": "LayoutModel",
      "state": {}
     },
     "d9a7172f331548e98b7655ad198a6107": {
      "model_module": "@jupyter-widgets/base",
      "model_module_version": "1.2.0",
      "model_name": "LayoutModel",
      "state": {}
     },
     "d9cef961a34e4312a32dd13d713963e6": {
      "model_module": "@jupyter-widgets/controls",
      "model_module_version": "1.5.0",
      "model_name": "FloatProgressModel",
      "state": {
       "description": "val loss: 0.0776: 100%",
       "layout": "IPY_MODEL_b9334a82e7e346d899686dfc348aaf32",
       "max": 11,
       "style": "IPY_MODEL_a353dfe157af46189cd4485384f332b7",
       "value": 11
      }
     },
     "da15ec37e1dd47159cf211910e5a2ad5": {
      "model_module": "@jupyter-widgets/controls",
      "model_module_version": "1.5.0",
      "model_name": "ProgressStyleModel",
      "state": {
       "description_width": "initial"
      }
     },
     "da243812d08f4244bb1a2c3c438fb3cd": {
      "model_module": "@jupyter-widgets/base",
      "model_module_version": "1.2.0",
      "model_name": "LayoutModel",
      "state": {}
     },
     "da3d1d4ff30a41daa785acd1d2e16778": {
      "model_module": "@jupyter-widgets/controls",
      "model_module_version": "1.5.0",
      "model_name": "HTMLModel",
      "state": {
       "layout": "IPY_MODEL_d7929cb048104efcb22dbaa384699777",
       "style": "IPY_MODEL_997e034dbe294290ab8466f2ac793497",
       "value": " 21/21 [00:00&lt;00:00, 244.74it/s]"
      }
     },
     "da7900e640c74f1d8568e8f5193c9f2f": {
      "model_module": "@jupyter-widgets/controls",
      "model_module_version": "1.5.0",
      "model_name": "FloatProgressModel",
      "state": {
       "description": "train loss: 0.0202: 100%",
       "layout": "IPY_MODEL_a6ba6379e376431295d3e305ca939168",
       "max": 99,
       "style": "IPY_MODEL_bd380701ad284bfe83f9687348bacdae",
       "value": 99
      }
     },
     "dad9753441ce4dfd89ea40dad8e34796": {
      "model_module": "@jupyter-widgets/controls",
      "model_module_version": "1.5.0",
      "model_name": "FloatProgressModel",
      "state": {
       "description": "train loss: 0.2345: 100%",
       "layout": "IPY_MODEL_8fe42dcf04cf44e6ad8c42fce30fe960",
       "max": 99,
       "style": "IPY_MODEL_6852264da8b94e13b4d66c1f315d5e04",
       "value": 99
      }
     },
     "db017b8ae8be41dfb98533135b153638": {
      "model_module": "@jupyter-widgets/controls",
      "model_module_version": "1.5.0",
      "model_name": "FloatProgressModel",
      "state": {
       "description": "train loss: 0.0908: 100%",
       "layout": "IPY_MODEL_f1f7b9c8eda54fc1aa20554b654cc51a",
       "max": 25,
       "style": "IPY_MODEL_c5ed3439778048dfb2ac01e37227266f",
       "value": 25
      }
     },
     "db148ca2c92e46c896a30d8094f94b8a": {
      "model_module": "@jupyter-widgets/controls",
      "model_module_version": "1.5.0",
      "model_name": "ProgressStyleModel",
      "state": {
       "description_width": "initial"
      }
     },
     "db2fe27b136547f882ca88406911ec65": {
      "model_module": "@jupyter-widgets/base",
      "model_module_version": "1.2.0",
      "model_name": "LayoutModel",
      "state": {}
     },
     "db41c63deef843ec823bcdec418063c7": {
      "model_module": "@jupyter-widgets/controls",
      "model_module_version": "1.5.0",
      "model_name": "HTMLModel",
      "state": {
       "layout": "IPY_MODEL_5fbd202e9781498190fa7bbb4451bbe9",
       "style": "IPY_MODEL_a43a5a2b0d9546f0b023aed04b5820f3",
       "value": " 99/99 [00:00&lt;00:00, 109.24it/s]"
      }
     },
     "db7ab5e6a5ad439cb71e244e341a59b7": {
      "model_module": "@jupyter-widgets/base",
      "model_module_version": "1.2.0",
      "model_name": "LayoutModel",
      "state": {}
     },
     "dbcfe29807944bf9a04905acf8b9073a": {
      "model_module": "@jupyter-widgets/base",
      "model_module_version": "1.2.0",
      "model_name": "LayoutModel",
      "state": {}
     },
     "dbd8a46f730f40988d8d3d35fa108de3": {
      "model_module": "@jupyter-widgets/controls",
      "model_module_version": "1.5.0",
      "model_name": "HTMLModel",
      "state": {
       "layout": "IPY_MODEL_cbb1fa96216c445981b70b5457b3b5a6",
       "style": "IPY_MODEL_54e63dded8944acb87d7252e6d2c6475",
       "value": " 9/10 [04:45&lt;00:31, 31.71s/it]"
      }
     },
     "dc1c542848c649d284052656e9f249eb": {
      "model_module": "@jupyter-widgets/controls",
      "model_module_version": "1.5.0",
      "model_name": "DescriptionStyleModel",
      "state": {
       "description_width": ""
      }
     },
     "dc388a964cae42aba8b5517abd8848f0": {
      "model_module": "@jupyter-widgets/base",
      "model_module_version": "1.2.0",
      "model_name": "LayoutModel",
      "state": {}
     },
     "dc39a147fb6b45229ccf1339f671da8a": {
      "model_module": "@jupyter-widgets/base",
      "model_module_version": "1.2.0",
      "model_name": "LayoutModel",
      "state": {}
     },
     "dc56334b2618487da275599ff40fbd4d": {
      "model_module": "@jupyter-widgets/base",
      "model_module_version": "1.2.0",
      "model_name": "LayoutModel",
      "state": {}
     },
     "dc59a8a47e3b4712baff658b9ebcb891": {
      "model_module": "@jupyter-widgets/controls",
      "model_module_version": "1.5.0",
      "model_name": "FloatProgressModel",
      "state": {
       "bar_style": "danger",
       "description": "Train Loss: 0.0189 - Val Loss: 0.0531:  70%",
       "layout": "IPY_MODEL_b16d77befcd6454583df57dfb13f8f5d",
       "max": 10,
       "style": "IPY_MODEL_118c05bf5cfd40949ecbf5419fa30ffa",
       "value": 7
      }
     },
     "dc730a7707b8414188faccd458535082": {
      "model_module": "@jupyter-widgets/controls",
      "model_module_version": "1.5.0",
      "model_name": "HTMLModel",
      "state": {
       "layout": "IPY_MODEL_47f6533e06a744728e7ef6f7c1f4c1c7",
       "style": "IPY_MODEL_eea1daf237f94d0486c237fecdc629c0",
       "value": " 11/11 [00:00&lt;00:00, 139.62it/s]"
      }
     },
     "dc8e6f66be984b26932f4070260f0b4f": {
      "model_module": "@jupyter-widgets/base",
      "model_module_version": "1.2.0",
      "model_name": "LayoutModel",
      "state": {}
     },
     "dc9afd397be941c288fc09cfeaf8b275": {
      "model_module": "@jupyter-widgets/controls",
      "model_module_version": "1.5.0",
      "model_name": "ProgressStyleModel",
      "state": {
       "description_width": "initial"
      }
     },
     "dcc67bb6c10e4523998ccfaf3f2164dc": {
      "model_module": "@jupyter-widgets/controls",
      "model_module_version": "1.5.0",
      "model_name": "HTMLModel",
      "state": {
       "layout": "IPY_MODEL_285189ab094e49e5a0f8a54ab3c72d2c",
       "style": "IPY_MODEL_cc1bb231d2004ae88fb50546a1babb42",
       "value": " 99/99 [00:00&lt;00:00, 103.98it/s]"
      }
     },
     "dceb30fbc04e479aae726b3407c55501": {
      "model_module": "@jupyter-widgets/base",
      "model_module_version": "1.2.0",
      "model_name": "LayoutModel",
      "state": {}
     },
     "dd3013c4f299401f98a3b9af2151e930": {
      "model_module": "@jupyter-widgets/controls",
      "model_module_version": "1.5.0",
      "model_name": "FloatProgressModel",
      "state": {
       "description": "val loss: 0.4191: 100%",
       "layout": "IPY_MODEL_56a0e0bd56954bab99eb8f9c0a102187",
       "max": 11,
       "style": "IPY_MODEL_38a70f286d1c4b15962be622dd63e2b8",
       "value": 11
      }
     },
     "dd3f00d5849d4cb2b0f5de89c5ed3c47": {
      "model_module": "@jupyter-widgets/controls",
      "model_module_version": "1.5.0",
      "model_name": "HTMLModel",
      "state": {
       "layout": "IPY_MODEL_ade3975088374618ae90f7d9d54be8ef",
       "style": "IPY_MODEL_77e74d9ad970457c95819a8f50723370",
       "value": " 11/11 [00:00&lt;00:00, 137.87it/s]"
      }
     },
     "dd505438722746f58ab8a35e9c665c49": {
      "model_module": "@jupyter-widgets/controls",
      "model_module_version": "1.5.0",
      "model_name": "HTMLModel",
      "state": {
       "layout": "IPY_MODEL_03c9e19ef6294352a132eed20b1c333c",
       "style": "IPY_MODEL_731bc173b9c34ea887cd55d774688574",
       "value": " 11/11 [00:00&lt;00:00, 136.13it/s]"
      }
     },
     "dd61738f6d694bdc999f20f906667548": {
      "model_module": "@jupyter-widgets/controls",
      "model_module_version": "1.5.0",
      "model_name": "FloatProgressModel",
      "state": {
       "description": "val loss: 0.2845: 100%",
       "layout": "IPY_MODEL_11b648807ae042d8b3eee359a5eb514a",
       "max": 22,
       "style": "IPY_MODEL_b9814bc596974640b6150d9df99ceeed",
       "value": 22
      }
     },
     "dd7837e04d6d47bda167f1c293df4fcb": {
      "model_module": "@jupyter-widgets/controls",
      "model_module_version": "1.5.0",
      "model_name": "HBoxModel",
      "state": {
       "children": [
        "IPY_MODEL_ecf9b8e395a1427bb045ff949603584f",
        "IPY_MODEL_39b61ece3b4b4ecd8f6b65406336b6f6"
       ],
       "layout": "IPY_MODEL_afb62fe742814d8a867104c571f95586"
      }
     },
     "dd7866f02e424aacb9eb3a6fbc47e6f4": {
      "model_module": "@jupyter-widgets/base",
      "model_module_version": "1.2.0",
      "model_name": "LayoutModel",
      "state": {}
     },
     "dd9989ce217f48718104dd360a58b506": {
      "model_module": "@jupyter-widgets/controls",
      "model_module_version": "1.5.0",
      "model_name": "ProgressStyleModel",
      "state": {
       "description_width": "initial"
      }
     },
     "ddb3f34d50264520b33b49836c457534": {
      "model_module": "@jupyter-widgets/controls",
      "model_module_version": "1.5.0",
      "model_name": "FloatProgressModel",
      "state": {
       "description": "val loss: 0.3588: 100%",
       "layout": "IPY_MODEL_88a5ec216a5c4bd4a97794aadef3d1f7",
       "max": 11,
       "style": "IPY_MODEL_0d16201382e64745b26d7b9b7fd63412",
       "value": 11
      }
     },
     "ddb6688e804a41189bbd6f56a8285a7f": {
      "model_module": "@jupyter-widgets/base",
      "model_module_version": "1.2.0",
      "model_name": "LayoutModel",
      "state": {}
     },
     "ddbb018781ac4a3ca2864685a14e12fd": {
      "model_module": "@jupyter-widgets/controls",
      "model_module_version": "1.5.0",
      "model_name": "DescriptionStyleModel",
      "state": {
       "description_width": ""
      }
     },
     "ddd1d58d94164e81b44ae6d4dc372636": {
      "model_module": "@jupyter-widgets/controls",
      "model_module_version": "1.5.0",
      "model_name": "DescriptionStyleModel",
      "state": {
       "description_width": ""
      }
     },
     "ddd9ab2cda844a6a9bac9a9e4dd20c20": {
      "model_module": "@jupyter-widgets/controls",
      "model_module_version": "1.5.0",
      "model_name": "FloatProgressModel",
      "state": {
       "description": "train loss: 0.3141: 100%",
       "layout": "IPY_MODEL_947185587fb540839ce8add2f0b07d88",
       "max": 99,
       "style": "IPY_MODEL_7340991f666a4be5a90087a84e98a68e",
       "value": 99
      }
     },
     "ddf6c5f1307c4b9cbf252f417c77b987": {
      "model_module": "@jupyter-widgets/controls",
      "model_module_version": "1.5.0",
      "model_name": "HTMLModel",
      "state": {
       "layout": "IPY_MODEL_22b52191e63944479e27a9e03e17bd48",
       "style": "IPY_MODEL_ab5cd799182949c4a310730705b955ce",
       "value": " 50/50 [00:07&lt;00:00,  3.72it/s]"
      }
     },
     "de3918aa65934b55a91a704a2680a483": {
      "model_module": "@jupyter-widgets/base",
      "model_module_version": "1.2.0",
      "model_name": "LayoutModel",
      "state": {}
     },
     "de436fef242249b28c4c6d9caee80c9a": {
      "model_module": "@jupyter-widgets/controls",
      "model_module_version": "1.5.0",
      "model_name": "ProgressStyleModel",
      "state": {
       "description_width": "initial"
      }
     },
     "de595635763442b5b98df6d9edde1850": {
      "model_module": "@jupyter-widgets/controls",
      "model_module_version": "1.5.0",
      "model_name": "ProgressStyleModel",
      "state": {
       "description_width": "initial"
      }
     },
     "de7bafb9a9ad47458fde6bddab374152": {
      "model_module": "@jupyter-widgets/base",
      "model_module_version": "1.2.0",
      "model_name": "LayoutModel",
      "state": {}
     },
     "deb15d7871804971ad898db62abac298": {
      "model_module": "@jupyter-widgets/base",
      "model_module_version": "1.2.0",
      "model_name": "LayoutModel",
      "state": {}
     },
     "dec400bd732f46beaa4df9d4d1397013": {
      "model_module": "@jupyter-widgets/base",
      "model_module_version": "1.2.0",
      "model_name": "LayoutModel",
      "state": {}
     },
     "dec59f7ae8c44cbd877978996df0dfb6": {
      "model_module": "@jupyter-widgets/controls",
      "model_module_version": "1.5.0",
      "model_name": "HTMLModel",
      "state": {
       "layout": "IPY_MODEL_221f84a71245468094cc7db33b919012",
       "style": "IPY_MODEL_f75b5589b7cd4c8494d8503dd8950d18",
       "value": " 50/50 [00:07&lt;00:00,  3.78it/s]"
      }
     },
     "ded3f9a256244d86867addf470bd0eb2": {
      "model_module": "@jupyter-widgets/controls",
      "model_module_version": "1.5.0",
      "model_name": "HTMLModel",
      "state": {
       "layout": "IPY_MODEL_8d4279520a9945829dbaf49c5a533122",
       "style": "IPY_MODEL_87f6905f500b49a2ae2d7298557f1d2c",
       "value": " 11/11 [00:00&lt;00:00, 134.50it/s]"
      }
     },
     "ded9a47dab2440ab9346342b8269f7bf": {
      "model_module": "@jupyter-widgets/controls",
      "model_module_version": "1.5.0",
      "model_name": "DescriptionStyleModel",
      "state": {
       "description_width": ""
      }
     },
     "def6f0993db34bb5bbb9ab7ea3ca715e": {
      "model_module": "@jupyter-widgets/base",
      "model_module_version": "1.2.0",
      "model_name": "LayoutModel",
      "state": {}
     },
     "df07b6a2c0d64fdf8a592acbffa43bd1": {
      "model_module": "@jupyter-widgets/base",
      "model_module_version": "1.2.0",
      "model_name": "LayoutModel",
      "state": {}
     },
     "df09bc855baa44cdb94750627431bece": {
      "model_module": "@jupyter-widgets/controls",
      "model_module_version": "1.5.0",
      "model_name": "FloatProgressModel",
      "state": {
       "description": "train loss: 0.5833: 100%",
       "layout": "IPY_MODEL_e891e47473d3418483096bb837973dc0",
       "max": 50,
       "style": "IPY_MODEL_d0ada24afe0b418dbbda389a7d75dc1b",
       "value": 50
      }
     },
     "df09ca4afaeb411e97c6c4aa9a24faca": {
      "model_module": "@jupyter-widgets/controls",
      "model_module_version": "1.5.0",
      "model_name": "HTMLModel",
      "state": {
       "layout": "IPY_MODEL_82e15c0698fe4df9bcee2691262458fd",
       "style": "IPY_MODEL_4dd79e6520cd46e2bfe150d7643dc716",
       "value": " 50/50 [00:00&lt;00:00, 92.24it/s]"
      }
     },
     "df115ce0fc8b43bf91a58b0c91b298c0": {
      "model_module": "@jupyter-widgets/controls",
      "model_module_version": "1.5.0",
      "model_name": "FloatProgressModel",
      "state": {
       "description": "val loss: 0.0680: 100%",
       "layout": "IPY_MODEL_615fbf3ed24746e6b8265a9299791705",
       "max": 6,
       "style": "IPY_MODEL_5d0fe20d2ce5469f88c55c55400a21fd",
       "value": 6
      }
     },
     "df2a5ac730a54a70a30311c5e69bba78": {
      "model_module": "@jupyter-widgets/base",
      "model_module_version": "1.2.0",
      "model_name": "LayoutModel",
      "state": {}
     },
     "df3c1d4cf2624964afcfd43a68a86398": {
      "model_module": "@jupyter-widgets/controls",
      "model_module_version": "1.5.0",
      "model_name": "DescriptionStyleModel",
      "state": {
       "description_width": ""
      }
     },
     "df6d27350e6043449649794b01ce99a3": {
      "model_module": "@jupyter-widgets/controls",
      "model_module_version": "1.5.0",
      "model_name": "DescriptionStyleModel",
      "state": {
       "description_width": ""
      }
     },
     "dfa14936aaa0488097f95ded500232c6": {
      "model_module": "@jupyter-widgets/controls",
      "model_module_version": "1.5.0",
      "model_name": "ProgressStyleModel",
      "state": {
       "description_width": "initial"
      }
     },
     "dfac7a2e9966468a8547aac1deb3a775": {
      "model_module": "@jupyter-widgets/base",
      "model_module_version": "1.2.0",
      "model_name": "LayoutModel",
      "state": {}
     },
     "dfd59eb1bcba4c15b9c87dbc07b93d1b": {
      "model_module": "@jupyter-widgets/base",
      "model_module_version": "1.2.0",
      "model_name": "LayoutModel",
      "state": {}
     },
     "dfd5bc5d776843f2935f342759a71bfe": {
      "model_module": "@jupyter-widgets/controls",
      "model_module_version": "1.5.0",
      "model_name": "DescriptionStyleModel",
      "state": {
       "description_width": ""
      }
     },
     "dfee2a2b2cf1494993d4bc8c61c7e997": {
      "model_module": "@jupyter-widgets/controls",
      "model_module_version": "1.5.0",
      "model_name": "FloatProgressModel",
      "state": {
       "bar_style": "danger",
       "description": "Train Loss: 0.0748 - Val Loss: 0.0712:  90%",
       "layout": "IPY_MODEL_f80951947722439589afd14b5a66c759",
       "max": 10,
       "style": "IPY_MODEL_5472ea80501a42ca9b4aea485caf5124",
       "value": 9
      }
     },
     "dffed5d061b9433bb6d1a0c8347c73a9": {
      "model_module": "@jupyter-widgets/base",
      "model_module_version": "1.2.0",
      "model_name": "LayoutModel",
      "state": {}
     },
     "e01875ced73a4be883b4b9ddcf74d9e4": {
      "model_module": "@jupyter-widgets/controls",
      "model_module_version": "1.5.0",
      "model_name": "FloatProgressModel",
      "state": {
       "description": "train loss: 0.0118: 100%",
       "layout": "IPY_MODEL_6a91369a8e734941a0e7ef3be1959f38",
       "max": 99,
       "style": "IPY_MODEL_7cb6f636d1da472188ed42223734c04f",
       "value": 99
      }
     },
     "e02920097e8b44caaee24ba8466891db": {
      "model_module": "@jupyter-widgets/controls",
      "model_module_version": "1.5.0",
      "model_name": "HTMLModel",
      "state": {
       "layout": "IPY_MODEL_37d88292bd4e44af81baa1b70420ba03",
       "style": "IPY_MODEL_e996778653204b1a9a33b3cc2e688ad8",
       "value": " 99/99 [00:00&lt;00:00, 106.95it/s]"
      }
     },
     "e039fce7cf70405280eb689956f6a271": {
      "model_module": "@jupyter-widgets/controls",
      "model_module_version": "1.5.0",
      "model_name": "DescriptionStyleModel",
      "state": {
       "description_width": ""
      }
     },
     "e042750cb1bb4534a3ab3476f51239c0": {
      "model_module": "@jupyter-widgets/base",
      "model_module_version": "1.2.0",
      "model_name": "LayoutModel",
      "state": {}
     },
     "e05f1c9135ef4cf5b2b8b7d6fcd756b7": {
      "model_module": "@jupyter-widgets/controls",
      "model_module_version": "1.5.0",
      "model_name": "FloatProgressModel",
      "state": {
       "description": "train loss: 0.0818: 100%",
       "layout": "IPY_MODEL_a3e6352dd74b4933a5c4bd883a0e02f6",
       "max": 99,
       "style": "IPY_MODEL_729f2b2283da428eb47419533074e47f",
       "value": 99
      }
     },
     "e0674cfd737e411a9915ee428980a636": {
      "model_module": "@jupyter-widgets/controls",
      "model_module_version": "1.5.0",
      "model_name": "DescriptionStyleModel",
      "state": {
       "description_width": ""
      }
     },
     "e06e55c6e8ba4eac9758207bdee36229": {
      "model_module": "@jupyter-widgets/controls",
      "model_module_version": "1.5.0",
      "model_name": "HTMLModel",
      "state": {
       "layout": "IPY_MODEL_2ea58613dcf948589d326eed81567334",
       "style": "IPY_MODEL_c403ef488a5e42dc96b8fa64fb58f679",
       "value": " 21/21 [00:00&lt;00:00, 247.72it/s]"
      }
     },
     "e08a2356947c401fb3b57ed8455c5c10": {
      "model_module": "@jupyter-widgets/base",
      "model_module_version": "1.2.0",
      "model_name": "LayoutModel",
      "state": {}
     },
     "e092a03c0dd648d7a9eced0fc430053a": {
      "model_module": "@jupyter-widgets/base",
      "model_module_version": "1.2.0",
      "model_name": "LayoutModel",
      "state": {}
     },
     "e0aa76e94b874991bd5f0816f8d88edd": {
      "model_module": "@jupyter-widgets/controls",
      "model_module_version": "1.5.0",
      "model_name": "HBoxModel",
      "state": {
       "children": [
        "IPY_MODEL_658a84e690f74a91b0707a28a36db94c",
        "IPY_MODEL_3114665dcea5470cb8a8ceb7af94b96b"
       ],
       "layout": "IPY_MODEL_def6f0993db34bb5bbb9ab7ea3ca715e"
      }
     },
     "e0af0c01fc004a54a11b25f84fe23357": {
      "model_module": "@jupyter-widgets/base",
      "model_module_version": "1.2.0",
      "model_name": "LayoutModel",
      "state": {}
     },
     "e0cd8ba3275641eca3ed8c9d4519864e": {
      "model_module": "@jupyter-widgets/controls",
      "model_module_version": "1.5.0",
      "model_name": "DescriptionStyleModel",
      "state": {
       "description_width": ""
      }
     },
     "e0d5281e9d844ba49d5a8b05abd25d09": {
      "model_module": "@jupyter-widgets/base",
      "model_module_version": "1.2.0",
      "model_name": "LayoutModel",
      "state": {}
     },
     "e0df3f9283fa48f7b58d431e87476a59": {
      "model_module": "@jupyter-widgets/controls",
      "model_module_version": "1.5.0",
      "model_name": "FloatProgressModel",
      "state": {
       "description": "val loss: 0.0656: 100%",
       "layout": "IPY_MODEL_9e5e52e4fb1d40289b648a92eecbad30",
       "max": 6,
       "style": "IPY_MODEL_4a85959a4328470e88bd5d90f35ce696",
       "value": 6
      }
     },
     "e0e3be17e8034c8db0a24ab40c5ff9c6": {
      "model_module": "@jupyter-widgets/base",
      "model_module_version": "1.2.0",
      "model_name": "LayoutModel",
      "state": {}
     },
     "e0f1a2f3510b4effa95ae0ee29fd09d1": {
      "model_module": "@jupyter-widgets/controls",
      "model_module_version": "1.5.0",
      "model_name": "ProgressStyleModel",
      "state": {
       "description_width": "initial"
      }
     },
     "e0f4fcf5d2e14373a616c2e1b423b4e3": {
      "model_module": "@jupyter-widgets/controls",
      "model_module_version": "1.5.0",
      "model_name": "FloatProgressModel",
      "state": {
       "description": "val loss: 0.3224: 100%",
       "layout": "IPY_MODEL_df07b6a2c0d64fdf8a592acbffa43bd1",
       "max": 11,
       "style": "IPY_MODEL_41e346c5aad942178197b6d9520dea19",
       "value": 11
      }
     },
     "e104ff4176b54bc8927fb9982ce41f3b": {
      "model_module": "@jupyter-widgets/controls",
      "model_module_version": "1.5.0",
      "model_name": "HTMLModel",
      "state": {
       "layout": "IPY_MODEL_c346c587c5444fa6ab28f2c6d06c65bf",
       "style": "IPY_MODEL_096b8a3655d344aa999ded921f8d64e5",
       "value": " 11/11 [00:00&lt;00:00, 187.02it/s]"
      }
     },
     "e10d648aa63f4fc38b14b560583899b6": {
      "model_module": "@jupyter-widgets/controls",
      "model_module_version": "1.5.0",
      "model_name": "DescriptionStyleModel",
      "state": {
       "description_width": ""
      }
     },
     "e1434e450b984ae2b60545ec44c19b3d": {
      "model_module": "@jupyter-widgets/controls",
      "model_module_version": "1.5.0",
      "model_name": "ProgressStyleModel",
      "state": {
       "description_width": "initial"
      }
     },
     "e19221527dd743489557ceec81c05ec8": {
      "model_module": "@jupyter-widgets/controls",
      "model_module_version": "1.5.0",
      "model_name": "DescriptionStyleModel",
      "state": {
       "description_width": ""
      }
     },
     "e1ce217f7631493bbeded59603e66b18": {
      "model_module": "@jupyter-widgets/controls",
      "model_module_version": "1.5.0",
      "model_name": "ProgressStyleModel",
      "state": {
       "description_width": "initial"
      }
     },
     "e1f3a36c4306413f9dc41d680253e845": {
      "model_module": "@jupyter-widgets/base",
      "model_module_version": "1.2.0",
      "model_name": "LayoutModel",
      "state": {}
     },
     "e255caee6f85430e8994ed91a1453621": {
      "model_module": "@jupyter-widgets/base",
      "model_module_version": "1.2.0",
      "model_name": "LayoutModel",
      "state": {}
     },
     "e25cff7a281d49d192bd7baf86e12d6f": {
      "model_module": "@jupyter-widgets/controls",
      "model_module_version": "1.5.0",
      "model_name": "HTMLModel",
      "state": {
       "layout": "IPY_MODEL_b5cc01c35c7f4cbb8b6837176e093ef9",
       "style": "IPY_MODEL_bc341adb62b24c60b8e3ba8560036198",
       "value": " 6/6 [00:00&lt;00:00, 122.72it/s]"
      }
     },
     "e2e4b067d66646f68a998c77b455607b": {
      "model_module": "@jupyter-widgets/controls",
      "model_module_version": "1.5.0",
      "model_name": "ProgressStyleModel",
      "state": {
       "description_width": "initial"
      }
     },
     "e3095edfc08b4620b160cebe108eadfd": {
      "model_module": "@jupyter-widgets/controls",
      "model_module_version": "1.5.0",
      "model_name": "ProgressStyleModel",
      "state": {
       "description_width": "initial"
      }
     },
     "e31a984ebc88478ab350dcce67702e30": {
      "model_module": "@jupyter-widgets/base",
      "model_module_version": "1.2.0",
      "model_name": "LayoutModel",
      "state": {}
     },
     "e3454297d76b4f89a926abc1cf7401f9": {
      "model_module": "@jupyter-widgets/base",
      "model_module_version": "1.2.0",
      "model_name": "LayoutModel",
      "state": {}
     },
     "e36e4436bb0b46d49ffcbdba540fc988": {
      "model_module": "@jupyter-widgets/controls",
      "model_module_version": "1.5.0",
      "model_name": "FloatProgressModel",
      "state": {
       "description": "train loss: 0.1464: 100%",
       "layout": "IPY_MODEL_2df98a8e5abb4bebbb42487d66781623",
       "max": 99,
       "style": "IPY_MODEL_0f565d0387134aca939d48bbbd5a36a2",
       "value": 99
      }
     },
     "e3aaa3d8e8384f5d92adc0675e47ccf1": {
      "model_module": "@jupyter-widgets/controls",
      "model_module_version": "1.5.0",
      "model_name": "HTMLModel",
      "state": {
       "layout": "IPY_MODEL_724598f5649a40ff900331eb0e35fbc1",
       "style": "IPY_MODEL_c54f6954925b48529d9fb7f7447d919c",
       "value": " 11/11 [00:00&lt;00:00, 136.12it/s]"
      }
     },
     "e3be1164e04749a8aa660340ab4eab77": {
      "model_module": "@jupyter-widgets/controls",
      "model_module_version": "1.5.0",
      "model_name": "HTMLModel",
      "state": {
       "layout": "IPY_MODEL_d1893c7309ed4abaa7964f454afceb57",
       "style": "IPY_MODEL_53b51da1b1b0472497cf8fb2a27b7824",
       "value": " 99/99 [00:27&lt;00:00,  1.95it/s]"
      }
     },
     "e3c5390653984878ac566416941f6095": {
      "model_module": "@jupyter-widgets/controls",
      "model_module_version": "1.5.0",
      "model_name": "HTMLModel",
      "state": {
       "layout": "IPY_MODEL_d089c84ea3af41a9a0ae5554ae8d26e1",
       "style": "IPY_MODEL_64c3c444e7d244078e313892dff434bb",
       "value": " 22/22 [00:00&lt;00:00, 133.69it/s]"
      }
     },
     "e3db171707cc47a1b303b03a081e1379": {
      "model_module": "@jupyter-widgets/controls",
      "model_module_version": "1.5.0",
      "model_name": "HTMLModel",
      "state": {
       "layout": "IPY_MODEL_cfbb31f57958433dbd7fb043bca8e8b2",
       "style": "IPY_MODEL_3b962216fd9e4dfb9fc8b90dd3186027",
       "value": " 21/21 [00:00&lt;00:00, 250.59it/s]"
      }
     },
     "e3ea85f321bb4e6e8f7199b3b10d9dbd": {
      "model_module": "@jupyter-widgets/controls",
      "model_module_version": "1.5.0",
      "model_name": "ProgressStyleModel",
      "state": {
       "description_width": "initial"
      }
     },
     "e3f70892ac8e42c9bbf8ae0ccb1d7127": {
      "model_module": "@jupyter-widgets/controls",
      "model_module_version": "1.5.0",
      "model_name": "FloatProgressModel",
      "state": {
       "description": "train loss: 0.0511: 100%",
       "layout": "IPY_MODEL_6c26899612ed40e4897169d8bc9fc610",
       "max": 99,
       "style": "IPY_MODEL_8f9b41991daf43bd9d4a4be7d7a7a688",
       "value": 99
      }
     },
     "e43090e511f64543b2c7a9bb310e8131": {
      "model_module": "@jupyter-widgets/base",
      "model_module_version": "1.2.0",
      "model_name": "LayoutModel",
      "state": {}
     },
     "e4443391339e456daa7a70a429c7a5e3": {
      "model_module": "@jupyter-widgets/controls",
      "model_module_version": "1.5.0",
      "model_name": "FloatProgressModel",
      "state": {
       "description": "train loss: 0.1053: 100%",
       "layout": "IPY_MODEL_c236f7b663f445aa9cabf9ee2da80800",
       "max": 25,
       "style": "IPY_MODEL_4cf634e05e66439ba818d6391f59bce5",
       "value": 25
      }
     },
     "e45ed128d8c54d5bae056e4b3fb27b79": {
      "model_module": "@jupyter-widgets/base",
      "model_module_version": "1.2.0",
      "model_name": "LayoutModel",
      "state": {}
     },
     "e4810ac1e91049c0a4034e9266d696ac": {
      "model_module": "@jupyter-widgets/base",
      "model_module_version": "1.2.0",
      "model_name": "LayoutModel",
      "state": {}
     },
     "e4842d6a407d455b8b59b85358f30dfb": {
      "model_module": "@jupyter-widgets/controls",
      "model_module_version": "1.5.0",
      "model_name": "FloatProgressModel",
      "state": {
       "description": "val loss: 0.2661: 100%",
       "layout": "IPY_MODEL_e8f22cb91f5c47209fcbf5accf6fc036",
       "max": 11,
       "style": "IPY_MODEL_7267a4aad4d64e0787138373c56acd6c",
       "value": 11
      }
     },
     "e49d7e2c9fd44e2a9123e6c9367ce24a": {
      "model_module": "@jupyter-widgets/controls",
      "model_module_version": "1.5.0",
      "model_name": "ProgressStyleModel",
      "state": {
       "description_width": "initial"
      }
     },
     "e4fa52217f0148b786ae45da9db45f4c": {
      "model_module": "@jupyter-widgets/controls",
      "model_module_version": "1.5.0",
      "model_name": "DescriptionStyleModel",
      "state": {
       "description_width": ""
      }
     },
     "e50a515429504cda929cfe0c2c9a9094": {
      "model_module": "@jupyter-widgets/base",
      "model_module_version": "1.2.0",
      "model_name": "LayoutModel",
      "state": {}
     },
     "e5829032342a4bc899e15cfdf4d60755": {
      "model_module": "@jupyter-widgets/base",
      "model_module_version": "1.2.0",
      "model_name": "LayoutModel",
      "state": {}
     },
     "e5844a6e779841bdbf3c419ce73a20cf": {
      "model_module": "@jupyter-widgets/controls",
      "model_module_version": "1.5.0",
      "model_name": "HTMLModel",
      "state": {
       "layout": "IPY_MODEL_d0f638ce2ac54447817dba62d9d3ede0",
       "style": "IPY_MODEL_f314d0e3dad34e479b8407769fa28bb1",
       "value": " 50/50 [00:07&lt;00:00,  3.72it/s]"
      }
     },
     "e591a753ded24940a4d4289d36de89c8": {
      "model_module": "@jupyter-widgets/base",
      "model_module_version": "1.2.0",
      "model_name": "LayoutModel",
      "state": {}
     },
     "e5aa2c36995848dd9cde00076ae46857": {
      "model_module": "@jupyter-widgets/base",
      "model_module_version": "1.2.0",
      "model_name": "LayoutModel",
      "state": {}
     },
     "e5d92e9b6098490d8034a67e7540c9c8": {
      "model_module": "@jupyter-widgets/controls",
      "model_module_version": "1.5.0",
      "model_name": "DescriptionStyleModel",
      "state": {
       "description_width": ""
      }
     },
     "e6061472361745528e8be74881dd322d": {
      "model_module": "@jupyter-widgets/base",
      "model_module_version": "1.2.0",
      "model_name": "LayoutModel",
      "state": {}
     },
     "e61df566f54d481399331f9fa0b97fbb": {
      "model_module": "@jupyter-widgets/controls",
      "model_module_version": "1.5.0",
      "model_name": "HTMLModel",
      "state": {
       "layout": "IPY_MODEL_8d80bc84a76f4bc698b39e0322b38960",
       "style": "IPY_MODEL_1abc2788f5d04d618b68937c8c24479b",
       "value": " 99/99 [00:00&lt;00:00, 106.28it/s]"
      }
     },
     "e644fd6910494adcbacb0758bf7cf97b": {
      "model_module": "@jupyter-widgets/base",
      "model_module_version": "1.2.0",
      "model_name": "LayoutModel",
      "state": {}
     },
     "e658fc53e57a4d4bb17ac09c0dc616f8": {
      "model_module": "@jupyter-widgets/controls",
      "model_module_version": "1.5.0",
      "model_name": "FloatProgressModel",
      "state": {
       "description": "train loss: 0.3739: 100%",
       "layout": "IPY_MODEL_55a4e9756ca147b09a6fb21342722953",
       "max": 99,
       "style": "IPY_MODEL_e1434e450b984ae2b60545ec44c19b3d",
       "value": 99
      }
     },
     "e67ba1b4ce3e4c44b3b9d3b0a759fd73": {
      "model_module": "@jupyter-widgets/controls",
      "model_module_version": "1.5.0",
      "model_name": "ProgressStyleModel",
      "state": {
       "description_width": "initial"
      }
     },
     "e681806fcf3d4bf48fbc744e2717dbe4": {
      "model_module": "@jupyter-widgets/base",
      "model_module_version": "1.2.0",
      "model_name": "LayoutModel",
      "state": {}
     },
     "e68da25ff9944002b4574b6d2f00500f": {
      "model_module": "@jupyter-widgets/controls",
      "model_module_version": "1.5.0",
      "model_name": "ProgressStyleModel",
      "state": {
       "description_width": "initial"
      }
     },
     "e6b8fc0cbf604524b8a022b7f844119a": {
      "model_module": "@jupyter-widgets/controls",
      "model_module_version": "1.5.0",
      "model_name": "HTMLModel",
      "state": {
       "layout": "IPY_MODEL_d172384322f74a6888183af9e9084965",
       "style": "IPY_MODEL_0c416d5198c043e6bdfd700b5ffbd965",
       "value": " 50/50 [00:07&lt;00:00,  3.74it/s]"
      }
     },
     "e6daef5c022f4a92b0041f7342ef7459": {
      "model_module": "@jupyter-widgets/controls",
      "model_module_version": "1.5.0",
      "model_name": "FloatProgressModel",
      "state": {
       "description": "train loss: 0.0304: 100%",
       "layout": "IPY_MODEL_35748759d7fd41cc983abb67383579c8",
       "max": 50,
       "style": "IPY_MODEL_586a7656555c4d7c930dcb54e35f36bf",
       "value": 50
      }
     },
     "e71aff61099e44aaa69c785c52e3c078": {
      "model_module": "@jupyter-widgets/controls",
      "model_module_version": "1.5.0",
      "model_name": "FloatProgressModel",
      "state": {
       "description": "train loss: 0.4705: 100%",
       "layout": "IPY_MODEL_1db4396fd499472a9d9a266135a24603",
       "max": 99,
       "style": "IPY_MODEL_8af072a1677646b3aa0949c3c9d0d58d",
       "value": 99
      }
     },
     "e720539a85e24810998c7994395f70f8": {
      "model_module": "@jupyter-widgets/base",
      "model_module_version": "1.2.0",
      "model_name": "LayoutModel",
      "state": {}
     },
     "e732d19c11764dd9bc181d3346ab0835": {
      "model_module": "@jupyter-widgets/controls",
      "model_module_version": "1.5.0",
      "model_name": "DescriptionStyleModel",
      "state": {
       "description_width": ""
      }
     },
     "e768e25df8564424a94968e1f1fe0cfd": {
      "model_module": "@jupyter-widgets/controls",
      "model_module_version": "1.5.0",
      "model_name": "FloatProgressModel",
      "state": {
       "description": "val loss: 0.0709: 100%",
       "layout": "IPY_MODEL_f627e28aaf4341fd8b02ae045ac3a2c6",
       "max": 11,
       "style": "IPY_MODEL_63451277d6af46d09b1ab32a4a65fa95",
       "value": 11
      }
     },
     "e76c226b689849969bcd3015aabd0da7": {
      "model_module": "@jupyter-widgets/base",
      "model_module_version": "1.2.0",
      "model_name": "LayoutModel",
      "state": {}
     },
     "e7905a8bcae6473ab497a958eb6a49c2": {
      "model_module": "@jupyter-widgets/controls",
      "model_module_version": "1.5.0",
      "model_name": "DescriptionStyleModel",
      "state": {
       "description_width": ""
      }
     },
     "e79d2d06bb5f4d9ca7b11c5322bf66d9": {
      "model_module": "@jupyter-widgets/controls",
      "model_module_version": "1.5.0",
      "model_name": "ProgressStyleModel",
      "state": {
       "description_width": "initial"
      }
     },
     "e7c43bee5cef4e0c9f87a07835f8aa3d": {
      "model_module": "@jupyter-widgets/controls",
      "model_module_version": "1.5.0",
      "model_name": "FloatProgressModel",
      "state": {
       "description": "val loss: 0.4770: 100%",
       "layout": "IPY_MODEL_e9a4bf2777504bae87be4421cf362ac4",
       "max": 22,
       "style": "IPY_MODEL_7c1db1e5f584482db1543aa066b9e1a5",
       "value": 22
      }
     },
     "e7f69a55f5e34f48baf26d95cbfc806d": {
      "model_module": "@jupyter-widgets/controls",
      "model_module_version": "1.5.0",
      "model_name": "ProgressStyleModel",
      "state": {
       "description_width": "initial"
      }
     },
     "e7fe95fca36c4accb775deb6aaebbc9f": {
      "model_module": "@jupyter-widgets/base",
      "model_module_version": "1.2.0",
      "model_name": "LayoutModel",
      "state": {}
     },
     "e80ebd09b14e41fdb26ec0f22c48d577": {
      "model_module": "@jupyter-widgets/base",
      "model_module_version": "1.2.0",
      "model_name": "LayoutModel",
      "state": {}
     },
     "e84759da145f46eba9ac5dba9ed57542": {
      "model_module": "@jupyter-widgets/controls",
      "model_module_version": "1.5.0",
      "model_name": "HTMLModel",
      "state": {
       "layout": "IPY_MODEL_a505729eafcc4bbe92a423b8354e4f73",
       "style": "IPY_MODEL_2a4c26a4d5594e44a16d821a31b1e3a8",
       "value": " 99/99 [00:00&lt;00:00, 106.45it/s]"
      }
     },
     "e84c8630c91244a69ca55074f6b14529": {
      "model_module": "@jupyter-widgets/base",
      "model_module_version": "1.2.0",
      "model_name": "LayoutModel",
      "state": {}
     },
     "e871508ccc6c48ebbe0f5440aa23374d": {
      "model_module": "@jupyter-widgets/controls",
      "model_module_version": "1.5.0",
      "model_name": "DescriptionStyleModel",
      "state": {
       "description_width": ""
      }
     },
     "e88e719fdb8b45a1856c6db3232d6a0b": {
      "model_module": "@jupyter-widgets/controls",
      "model_module_version": "1.5.0",
      "model_name": "ProgressStyleModel",
      "state": {
       "description_width": "initial"
      }
     },
     "e891e47473d3418483096bb837973dc0": {
      "model_module": "@jupyter-widgets/base",
      "model_module_version": "1.2.0",
      "model_name": "LayoutModel",
      "state": {}
     },
     "e8c3872c858f43a99d83c59af697672f": {
      "model_module": "@jupyter-widgets/controls",
      "model_module_version": "1.5.0",
      "model_name": "FloatProgressModel",
      "state": {
       "description": "train loss: 1.0055: 100%",
       "layout": "IPY_MODEL_bf6d5d916d3e4c41a40d05732bc8a22f",
       "max": 50,
       "style": "IPY_MODEL_bfdc4dacf7564c2f91808c1a95f422c1",
       "value": 50
      }
     },
     "e8dd09415404441f912f289ebc75e968": {
      "model_module": "@jupyter-widgets/controls",
      "model_module_version": "1.5.0",
      "model_name": "FloatProgressModel",
      "state": {
       "description": "val loss: 0.3938: 100%",
       "layout": "IPY_MODEL_50296d2036a341c8a4095ead33a1de24",
       "max": 11,
       "style": "IPY_MODEL_8411840a09234536a098650be8827a56",
       "value": 11
      }
     },
     "e8eb993f04184e3db3527153139a175e": {
      "model_module": "@jupyter-widgets/controls",
      "model_module_version": "1.5.0",
      "model_name": "FloatProgressModel",
      "state": {
       "description": "val loss: 0.3311: 100%",
       "layout": "IPY_MODEL_9d597124dde14df281e86529e2078987",
       "max": 11,
       "style": "IPY_MODEL_04e1a9e1d3dd4f0294fd64b914208208",
       "value": 11
      }
     },
     "e8ecc908d1a94cbf8f69cc522eebb58a": {
      "model_module": "@jupyter-widgets/controls",
      "model_module_version": "1.5.0",
      "model_name": "DescriptionStyleModel",
      "state": {
       "description_width": ""
      }
     },
     "e8f22cb91f5c47209fcbf5accf6fc036": {
      "model_module": "@jupyter-widgets/base",
      "model_module_version": "1.2.0",
      "model_name": "LayoutModel",
      "state": {}
     },
     "e91ab587d551403fa3bcc138311e08d6": {
      "model_module": "@jupyter-widgets/controls",
      "model_module_version": "1.5.0",
      "model_name": "ProgressStyleModel",
      "state": {
       "description_width": "initial"
      }
     },
     "e93585c08b404053aa6307999d4d93a3": {
      "model_module": "@jupyter-widgets/controls",
      "model_module_version": "1.5.0",
      "model_name": "HTMLModel",
      "state": {
       "layout": "IPY_MODEL_26c3bd68dd3748c78f8db915a231feaa",
       "style": "IPY_MODEL_6937dbf401b34b04bb3a6e26ed00f310",
       "value": " 11/11 [00:00&lt;00:00, 175.07it/s]"
      }
     },
     "e93c0bbd5fe649e6933cff7e42922c2c": {
      "model_module": "@jupyter-widgets/base",
      "model_module_version": "1.2.0",
      "model_name": "LayoutModel",
      "state": {}
     },
     "e94ca5e53e5040b99848fff1c0610ef7": {
      "model_module": "@jupyter-widgets/base",
      "model_module_version": "1.2.0",
      "model_name": "LayoutModel",
      "state": {}
     },
     "e996778653204b1a9a33b3cc2e688ad8": {
      "model_module": "@jupyter-widgets/controls",
      "model_module_version": "1.5.0",
      "model_name": "DescriptionStyleModel",
      "state": {
       "description_width": ""
      }
     },
     "e99faa99dd6c47a7b47b121e684d35c6": {
      "model_module": "@jupyter-widgets/controls",
      "model_module_version": "1.5.0",
      "model_name": "HTMLModel",
      "state": {
       "layout": "IPY_MODEL_0e3ad6c507bb4f2892e6ddc7d20210fc",
       "style": "IPY_MODEL_ded9a47dab2440ab9346342b8269f7bf",
       "value": " 50/50 [00:00&lt;00:00, 92.83it/s]"
      }
     },
     "e9a4bf2777504bae87be4421cf362ac4": {
      "model_module": "@jupyter-widgets/base",
      "model_module_version": "1.2.0",
      "model_name": "LayoutModel",
      "state": {}
     },
     "e9b11e2d52344e62b3e738f6924da470": {
      "model_module": "@jupyter-widgets/controls",
      "model_module_version": "1.5.0",
      "model_name": "HTMLModel",
      "state": {
       "layout": "IPY_MODEL_467263cb33cf4a36899605e50b80c368",
       "style": "IPY_MODEL_0e7dddef473b4c0fbcc01f4445add82b",
       "value": " 11/11 [00:00&lt;00:00, 137.82it/s]"
      }
     },
     "e9c7b2063ddc4a6bb13515cbf247d7b3": {
      "model_module": "@jupyter-widgets/base",
      "model_module_version": "1.2.0",
      "model_name": "LayoutModel",
      "state": {}
     },
     "e9f408bf000e4c60bcd741f410e1c6ee": {
      "model_module": "@jupyter-widgets/controls",
      "model_module_version": "1.5.0",
      "model_name": "FloatProgressModel",
      "state": {
       "description": "train loss: 0.1486: 100%",
       "layout": "IPY_MODEL_0264c90f9b6d4fe0a61be7b6854550cb",
       "max": 50,
       "style": "IPY_MODEL_00ca2cf3070443fea20d9544e539093f",
       "value": 50
      }
     },
     "ea15ab08ee684a9c83f91ac375cd4c68": {
      "model_module": "@jupyter-widgets/base",
      "model_module_version": "1.2.0",
      "model_name": "LayoutModel",
      "state": {}
     },
     "ea34d2277773413cb0dcb644708a889f": {
      "model_module": "@jupyter-widgets/controls",
      "model_module_version": "1.5.0",
      "model_name": "DescriptionStyleModel",
      "state": {
       "description_width": ""
      }
     },
     "ea7551b6d0be489699df8bf0d7186134": {
      "model_module": "@jupyter-widgets/base",
      "model_module_version": "1.2.0",
      "model_name": "LayoutModel",
      "state": {}
     },
     "ea869734a39c4105b880510a1020bde2": {
      "model_module": "@jupyter-widgets/controls",
      "model_module_version": "1.5.0",
      "model_name": "DescriptionStyleModel",
      "state": {
       "description_width": ""
      }
     },
     "ea87b0719acd4ac8a42618484e43b7c9": {
      "model_module": "@jupyter-widgets/base",
      "model_module_version": "1.2.0",
      "model_name": "LayoutModel",
      "state": {}
     },
     "ea8a6156be254421864011749ebf187f": {
      "model_module": "@jupyter-widgets/controls",
      "model_module_version": "1.5.0",
      "model_name": "FloatProgressModel",
      "state": {
       "description": "train loss: 0.0294: 100%",
       "layout": "IPY_MODEL_b95eea9d33764d208778b20f6bb98c74",
       "max": 99,
       "style": "IPY_MODEL_f64a6c3b2f924897bc4ae34b649fe6ee",
       "value": 99
      }
     },
     "ea8be34767284f5882875a874de30d07": {
      "model_module": "@jupyter-widgets/base",
      "model_module_version": "1.2.0",
      "model_name": "LayoutModel",
      "state": {}
     },
     "ea8e73fc261044b8ad096c55a9fff588": {
      "model_module": "@jupyter-widgets/controls",
      "model_module_version": "1.5.0",
      "model_name": "ProgressStyleModel",
      "state": {
       "description_width": "initial"
      }
     },
     "ea9cb55b37354afebed1181a66cb58f4": {
      "model_module": "@jupyter-widgets/controls",
      "model_module_version": "1.5.0",
      "model_name": "HTMLModel",
      "state": {
       "layout": "IPY_MODEL_36a1b52d523849bc96fd23cc91a08df6",
       "style": "IPY_MODEL_55e21dc4929e4d8882ebb873b946a7d7",
       "value": " 99/99 [00:18&lt;00:00,  2.77it/s]"
      }
     },
     "eaa8f43d0f204fe5b7b1475383597d3b": {
      "model_module": "@jupyter-widgets/controls",
      "model_module_version": "1.5.0",
      "model_name": "HTMLModel",
      "state": {
       "layout": "IPY_MODEL_64f5e487fdc544a5b559f53b481bbb71",
       "style": "IPY_MODEL_526a6ca9b05a402a93c4820662cfa8ca",
       "value": " 50/50 [00:07&lt;00:00,  3.66it/s]"
      }
     },
     "eac2e8be02424a888b619711c9c725b3": {
      "model_module": "@jupyter-widgets/controls",
      "model_module_version": "1.5.0",
      "model_name": "HTMLModel",
      "state": {
       "layout": "IPY_MODEL_3c3b776565764cfb8adf76d0ab01cebd",
       "style": "IPY_MODEL_c7b515b71aeb4eab85db4779b5a392cf",
       "value": " 50/50 [00:07&lt;00:00,  3.64it/s]"
      }
     },
     "eaccf090979041d6b7b99c7f1414f16f": {
      "model_module": "@jupyter-widgets/controls",
      "model_module_version": "1.5.0",
      "model_name": "FloatProgressModel",
      "state": {
       "description": "train loss: 0.4886: 100%",
       "layout": "IPY_MODEL_97c91740eccc42e792db49afabead829",
       "max": 50,
       "style": "IPY_MODEL_9992883f67014907bfbea7e8f685c0c8",
       "value": 50
      }
     },
     "eb4bb5418ec741e4a9030f6140b28420": {
      "model_module": "@jupyter-widgets/controls",
      "model_module_version": "1.5.0",
      "model_name": "DescriptionStyleModel",
      "state": {
       "description_width": ""
      }
     },
     "eb928e1348054c35b9a2e22538f2bb68": {
      "model_module": "@jupyter-widgets/controls",
      "model_module_version": "1.5.0",
      "model_name": "DescriptionStyleModel",
      "state": {
       "description_width": ""
      }
     },
     "eb97343ed39648eab327973db71fe053": {
      "model_module": "@jupyter-widgets/base",
      "model_module_version": "1.2.0",
      "model_name": "LayoutModel",
      "state": {}
     },
     "ebb95c315933462aa3420dfd4beb4dbb": {
      "model_module": "@jupyter-widgets/controls",
      "model_module_version": "1.5.0",
      "model_name": "HTMLModel",
      "state": {
       "layout": "IPY_MODEL_362468142cf54a9bb4d71c0b939cd19e",
       "style": "IPY_MODEL_2e079d44f87142e88174728850ca7a70",
       "value": " 99/99 [00:27&lt;00:00,  1.93it/s]"
      }
     },
     "ec3a62487c8344298777fbe665f67196": {
      "model_module": "@jupyter-widgets/base",
      "model_module_version": "1.2.0",
      "model_name": "LayoutModel",
      "state": {}
     },
     "ec7b349aa5774b4b8c5057224cf3838b": {
      "model_module": "@jupyter-widgets/controls",
      "model_module_version": "1.5.0",
      "model_name": "FloatProgressModel",
      "state": {
       "description": "val loss: 0.0789: 100%",
       "layout": "IPY_MODEL_556eaed02dad4b47ad63fc4c5da25d34",
       "max": 21,
       "style": "IPY_MODEL_a924f713262c4126b0b99b63d3435178",
       "value": 21
      }
     },
     "ecbb7353568741e5bb7a1ab1e351f401": {
      "model_module": "@jupyter-widgets/base",
      "model_module_version": "1.2.0",
      "model_name": "LayoutModel",
      "state": {}
     },
     "ecf9b8e395a1427bb045ff949603584f": {
      "model_module": "@jupyter-widgets/controls",
      "model_module_version": "1.5.0",
      "model_name": "FloatProgressModel",
      "state": {
       "bar_style": "danger",
       "description": "Epochs:   0%",
       "layout": "IPY_MODEL_fe67d7e37a464adf95f3d18b723dc19e",
       "max": 10,
       "style": "IPY_MODEL_103cc30ac6ba472793da96b03de32de3"
      }
     },
     "ed27fe61737c4c698787cf2524ae990f": {
      "model_module": "@jupyter-widgets/controls",
      "model_module_version": "1.5.0",
      "model_name": "HTMLModel",
      "state": {
       "layout": "IPY_MODEL_707a45bc8dab45bcb3532f01be57bc34",
       "style": "IPY_MODEL_880208ba57814a168cf0a9cf9ba92f3a",
       "value": " 99/99 [00:19&lt;00:00,  2.86it/s]"
      }
     },
     "ed3d50a506d9407d8433cac24dd82925": {
      "model_module": "@jupyter-widgets/base",
      "model_module_version": "1.2.0",
      "model_name": "LayoutModel",
      "state": {}
     },
     "ed4f71791f3943568ab2fb7554d4a98d": {
      "model_module": "@jupyter-widgets/controls",
      "model_module_version": "1.5.0",
      "model_name": "HTMLModel",
      "state": {
       "layout": "IPY_MODEL_c097ebd8d5a5460c83716196e2a069b7",
       "style": "IPY_MODEL_8797c3317989429586d0ed4529a4ab7c",
       "value": " 22/22 [00:00&lt;00:00, 138.95it/s]"
      }
     },
     "ee568bad800046bdbec99245b3c8d06a": {
      "model_module": "@jupyter-widgets/base",
      "model_module_version": "1.2.0",
      "model_name": "LayoutModel",
      "state": {}
     },
     "ee807bbf07bd47c9be777f40d24e8d58": {
      "model_module": "@jupyter-widgets/controls",
      "model_module_version": "1.5.0",
      "model_name": "FloatProgressModel",
      "state": {
       "description": "val loss: 0.2721: 100%",
       "layout": "IPY_MODEL_2a71e69a96364368b17189a636bcfe4e",
       "max": 11,
       "style": "IPY_MODEL_535600aebfa743d08ed107f103f937af",
       "value": 11
      }
     },
     "ee8f64fc351749a1930b333fc7f19a3e": {
      "model_module": "@jupyter-widgets/controls",
      "model_module_version": "1.5.0",
      "model_name": "DescriptionStyleModel",
      "state": {
       "description_width": ""
      }
     },
     "eea1daf237f94d0486c237fecdc629c0": {
      "model_module": "@jupyter-widgets/controls",
      "model_module_version": "1.5.0",
      "model_name": "DescriptionStyleModel",
      "state": {
       "description_width": ""
      }
     },
     "eec0a403c2694b49adf564138a369b87": {
      "model_module": "@jupyter-widgets/base",
      "model_module_version": "1.2.0",
      "model_name": "LayoutModel",
      "state": {}
     },
     "eee3f78faee840dea439ee1e9a47e79e": {
      "model_module": "@jupyter-widgets/controls",
      "model_module_version": "1.5.0",
      "model_name": "DescriptionStyleModel",
      "state": {
       "description_width": ""
      }
     },
     "ef2dc579b6504f8b8dab7eb05fe59e43": {
      "model_module": "@jupyter-widgets/controls",
      "model_module_version": "1.5.0",
      "model_name": "HTMLModel",
      "state": {
       "layout": "IPY_MODEL_04f974f00ea848999805d4149a1113da",
       "style": "IPY_MODEL_b6f5fd200d1d4bc9b858a06f9a3106f8",
       "value": " 11/11 [00:00&lt;00:00, 193.40it/s]"
      }
     },
     "ef9829a7d44b452da21ed2ddb7ee5bd2": {
      "model_module": "@jupyter-widgets/base",
      "model_module_version": "1.2.0",
      "model_name": "LayoutModel",
      "state": {}
     },
     "efa32f062a7e43b0bc2761fc21afe6eb": {
      "model_module": "@jupyter-widgets/base",
      "model_module_version": "1.2.0",
      "model_name": "LayoutModel",
      "state": {}
     },
     "efbcd2fab8d54bdaa83711811e1292ff": {
      "model_module": "@jupyter-widgets/controls",
      "model_module_version": "1.5.0",
      "model_name": "FloatProgressModel",
      "state": {
       "bar_style": "danger",
       "description": "Train Loss: 0.0114 - Val Loss: 0.0568:  80%",
       "layout": "IPY_MODEL_3c8f915c444b4231bc48aa813007c112",
       "max": 10,
       "style": "IPY_MODEL_9ecedfdda8354102b226010d059190c6",
       "value": 8
      }
     },
     "eff188352c814fbe82d5460111feaae4": {
      "model_module": "@jupyter-widgets/controls",
      "model_module_version": "1.5.0",
      "model_name": "FloatProgressModel",
      "state": {
       "description": "train loss: 0.4393: 100%",
       "layout": "IPY_MODEL_906d9a56409a4f9f9dbba15cab88cc44",
       "max": 50,
       "style": "IPY_MODEL_d4c01d3b508b414fbe2b688637b6f8ee",
       "value": 50
      }
     },
     "effa386178bf4a9baff7c932da9fde90": {
      "model_module": "@jupyter-widgets/controls",
      "model_module_version": "1.5.0",
      "model_name": "HTMLModel",
      "state": {
       "layout": "IPY_MODEL_4b7a3d966b874a6bb9273feaec2e41a7",
       "style": "IPY_MODEL_35dda3da665d4d36bfa1cd1b84d96f3e",
       "value": " 99/99 [00:27&lt;00:00,  1.92it/s]"
      }
     },
     "f0090f09662b41f3a122ebfc7e5c9258": {
      "model_module": "@jupyter-widgets/base",
      "model_module_version": "1.2.0",
      "model_name": "LayoutModel",
      "state": {}
     },
     "f025bc7e2eb546aca322dbac8ff7ae6b": {
      "model_module": "@jupyter-widgets/base",
      "model_module_version": "1.2.0",
      "model_name": "LayoutModel",
      "state": {}
     },
     "f1206d6f3ddb4389a77523212ba899cd": {
      "model_module": "@jupyter-widgets/base",
      "model_module_version": "1.2.0",
      "model_name": "LayoutModel",
      "state": {}
     },
     "f125bf2c04974ff4b92665f5707f4d36": {
      "model_module": "@jupyter-widgets/base",
      "model_module_version": "1.2.0",
      "model_name": "LayoutModel",
      "state": {}
     },
     "f191d546b1d5428d94dd445788fa12de": {
      "model_module": "@jupyter-widgets/base",
      "model_module_version": "1.2.0",
      "model_name": "LayoutModel",
      "state": {}
     },
     "f1da9565d6eb49a08aa866d752ed691c": {
      "model_module": "@jupyter-widgets/controls",
      "model_module_version": "1.5.0",
      "model_name": "FloatProgressModel",
      "state": {
       "description": "val loss: 0.0532: 100%",
       "layout": "IPY_MODEL_be295ee2b4ee41e1897a9bbf0763dc32",
       "max": 21,
       "style": "IPY_MODEL_23279fc2d3004aafb6d5dcdcb07759cb",
       "value": 21
      }
     },
     "f1e29b8ac99449f29d56a520a30662ad": {
      "model_module": "@jupyter-widgets/controls",
      "model_module_version": "1.5.0",
      "model_name": "ProgressStyleModel",
      "state": {
       "description_width": "initial"
      }
     },
     "f1f636fede1042fd8a46048832372859": {
      "model_module": "@jupyter-widgets/base",
      "model_module_version": "1.2.0",
      "model_name": "LayoutModel",
      "state": {}
     },
     "f1f7b9c8eda54fc1aa20554b654cc51a": {
      "model_module": "@jupyter-widgets/base",
      "model_module_version": "1.2.0",
      "model_name": "LayoutModel",
      "state": {}
     },
     "f22ded897e3a46ecbacc24d13fc0c0cb": {
      "model_module": "@jupyter-widgets/base",
      "model_module_version": "1.2.0",
      "model_name": "LayoutModel",
      "state": {}
     },
     "f2468deaf1fa4864a1645dcade2b1afc": {
      "model_module": "@jupyter-widgets/controls",
      "model_module_version": "1.5.0",
      "model_name": "DescriptionStyleModel",
      "state": {
       "description_width": ""
      }
     },
     "f27e8ecf8b5a45d3937116ac32742c10": {
      "model_module": "@jupyter-widgets/controls",
      "model_module_version": "1.5.0",
      "model_name": "ProgressStyleModel",
      "state": {
       "description_width": "initial"
      }
     },
     "f2880d4ad77a43a2b7c0e3d14c8736d4": {
      "model_module": "@jupyter-widgets/controls",
      "model_module_version": "1.5.0",
      "model_name": "FloatProgressModel",
      "state": {
       "bar_style": "success",
       "description": "Train Loss: 0.0892 - Val Loss: 0.0867: 100%",
       "layout": "IPY_MODEL_82ccf81c3506453e91d319c69bd8d530",
       "max": 10,
       "style": "IPY_MODEL_aa47621e2391409cb5241ac2a38974b8",
       "value": 10
      }
     },
     "f2c14730a90e44b9b853e68636b90a27": {
      "model_module": "@jupyter-widgets/controls",
      "model_module_version": "1.5.0",
      "model_name": "HTMLModel",
      "state": {
       "layout": "IPY_MODEL_1a79dda9f0f24c6db998a6cfe84c2e4c",
       "style": "IPY_MODEL_425ef7d1e3c04e23b93408b7f6c37ce6",
       "value": " 50/50 [00:05&lt;00:00,  5.54it/s]"
      }
     },
     "f2e2d437ff6b4eef96dec97a318b204a": {
      "model_module": "@jupyter-widgets/controls",
      "model_module_version": "1.5.0",
      "model_name": "HTMLModel",
      "state": {
       "layout": "IPY_MODEL_62a1ac24ebed4c46bebee1a79324285f",
       "style": "IPY_MODEL_3de4d0d310474c2cb5769dea9b016ab5",
       "value": " 21/21 [00:00&lt;00:00, 253.61it/s]"
      }
     },
     "f30acd9f17064f6f8fd7534d9facd112": {
      "model_module": "@jupyter-widgets/base",
      "model_module_version": "1.2.0",
      "model_name": "LayoutModel",
      "state": {}
     },
     "f30cd744acf443cb8fba27d987b1bd2b": {
      "model_module": "@jupyter-widgets/base",
      "model_module_version": "1.2.0",
      "model_name": "LayoutModel",
      "state": {}
     },
     "f314d0e3dad34e479b8407769fa28bb1": {
      "model_module": "@jupyter-widgets/controls",
      "model_module_version": "1.5.0",
      "model_name": "DescriptionStyleModel",
      "state": {
       "description_width": ""
      }
     },
     "f315c39beca04c5798a8a14d0e817a03": {
      "model_module": "@jupyter-widgets/base",
      "model_module_version": "1.2.0",
      "model_name": "LayoutModel",
      "state": {}
     },
     "f326e60e56f843938ddd84206d834137": {
      "model_module": "@jupyter-widgets/controls",
      "model_module_version": "1.5.0",
      "model_name": "DescriptionStyleModel",
      "state": {
       "description_width": ""
      }
     },
     "f3406f7d0862446ca1ec77355a1a38d4": {
      "model_module": "@jupyter-widgets/base",
      "model_module_version": "1.2.0",
      "model_name": "LayoutModel",
      "state": {}
     },
     "f35277acb6624c05aa4ef0d3ca63b17e": {
      "model_module": "@jupyter-widgets/base",
      "model_module_version": "1.2.0",
      "model_name": "LayoutModel",
      "state": {}
     },
     "f35d88d521a4469292637881aec8b489": {
      "model_module": "@jupyter-widgets/controls",
      "model_module_version": "1.5.0",
      "model_name": "FloatProgressModel",
      "state": {
       "description": "val loss: 0.0666: 100%",
       "layout": "IPY_MODEL_701d9122970342f8b386e847663a8545",
       "max": 21,
       "style": "IPY_MODEL_2cbd8870387348d3bb117ae685d2c679",
       "value": 21
      }
     },
     "f3745875f88342598429a01f7ac6efe9": {
      "model_module": "@jupyter-widgets/controls",
      "model_module_version": "1.5.0",
      "model_name": "FloatProgressModel",
      "state": {
       "description": "val loss: 0.0641: 100%",
       "layout": "IPY_MODEL_019f42ee189b4dfc90e6cb1670d11a90",
       "max": 21,
       "style": "IPY_MODEL_a9ac1fb828a04ecc98bcb023941d31e5",
       "value": 21
      }
     },
     "f37bea280b5c400091d9d8c555063aae": {
      "model_module": "@jupyter-widgets/base",
      "model_module_version": "1.2.0",
      "model_name": "LayoutModel",
      "state": {}
     },
     "f380914c7d16480a8eecaf03978eef65": {
      "model_module": "@jupyter-widgets/base",
      "model_module_version": "1.2.0",
      "model_name": "LayoutModel",
      "state": {}
     },
     "f3b2a91860c64ab089a27ab66ccc6daa": {
      "model_module": "@jupyter-widgets/base",
      "model_module_version": "1.2.0",
      "model_name": "LayoutModel",
      "state": {}
     },
     "f3fc708f3ab3441c8c954a28b30234c6": {
      "model_module": "@jupyter-widgets/controls",
      "model_module_version": "1.5.0",
      "model_name": "HTMLModel",
      "state": {
       "layout": "IPY_MODEL_816951dae75b4d67b6114b12f6ab576d",
       "style": "IPY_MODEL_a95d46b9e3044cb9a7ced752ce27a999",
       "value": " 99/99 [00:27&lt;00:00,  1.92it/s]"
      }
     },
     "f43685729edc415dbc87d1102f91d060": {
      "model_module": "@jupyter-widgets/base",
      "model_module_version": "1.2.0",
      "model_name": "LayoutModel",
      "state": {}
     },
     "f44f9cc7fa8c4cc4a76a7aa398a8a2e8": {
      "model_module": "@jupyter-widgets/controls",
      "model_module_version": "1.5.0",
      "model_name": "FloatProgressModel",
      "state": {
       "description": "val loss: 0.0845: 100%",
       "layout": "IPY_MODEL_b44e88de2b314739aa1129af6f9f59ca",
       "max": 6,
       "style": "IPY_MODEL_7e89122070404e60887270ca69ff4a41",
       "value": 6
      }
     },
     "f46f2526b68f405787f1caea0ad5b745": {
      "model_module": "@jupyter-widgets/controls",
      "model_module_version": "1.5.0",
      "model_name": "HTMLModel",
      "state": {
       "layout": "IPY_MODEL_fada30e9198b41c3825e8c8e425e6c9c",
       "style": "IPY_MODEL_79c89b76ac5a4a0096ab28fe1bc8fcb5",
       "value": " 99/99 [00:01&lt;00:00, 96.46it/s]"
      }
     },
     "f4a0bc58b6af4efbaee4ebf60444bfb1": {
      "model_module": "@jupyter-widgets/controls",
      "model_module_version": "1.5.0",
      "model_name": "FloatProgressModel",
      "state": {
       "description": "val loss: 0.1009: 100%",
       "layout": "IPY_MODEL_9dab0a4a492e4338bc135c60f0a24c06",
       "max": 11,
       "style": "IPY_MODEL_23e11fbe952246bdad5066877d9bc70f",
       "value": 11
      }
     },
     "f4a2bdb1e65c44d29b474330c6e72ec1": {
      "model_module": "@jupyter-widgets/base",
      "model_module_version": "1.2.0",
      "model_name": "LayoutModel",
      "state": {}
     },
     "f4a6ea23e7d748fbb8f6edc482c66770": {
      "model_module": "@jupyter-widgets/base",
      "model_module_version": "1.2.0",
      "model_name": "LayoutModel",
      "state": {}
     },
     "f4c7ab48b06f494c9fabe6800704d373": {
      "model_module": "@jupyter-widgets/controls",
      "model_module_version": "1.5.0",
      "model_name": "HTMLModel",
      "state": {
       "layout": "IPY_MODEL_a2bf08750845475ab98aa382094eb12a",
       "style": "IPY_MODEL_33e872daebef401db2f00c9d3d6649ad",
       "value": " 50/50 [00:00&lt;00:00, 98.77it/s]"
      }
     },
     "f4d30d472fe7429d9fa7b89ca94f3df7": {
      "model_module": "@jupyter-widgets/base",
      "model_module_version": "1.2.0",
      "model_name": "LayoutModel",
      "state": {}
     },
     "f4db283f958e47239d5690318063f492": {
      "model_module": "@jupyter-widgets/controls",
      "model_module_version": "1.5.0",
      "model_name": "FloatProgressModel",
      "state": {
       "description": "train loss: 0.2011: 100%",
       "layout": "IPY_MODEL_871e468e9cc0491c8fdd7b031c83b6fd",
       "max": 50,
       "style": "IPY_MODEL_f829cb8cd7874154bf2fef5aa8cca89b",
       "value": 50
      }
     },
     "f4e6967b4a2649bcaeeea526f987a178": {
      "model_module": "@jupyter-widgets/base",
      "model_module_version": "1.2.0",
      "model_name": "LayoutModel",
      "state": {}
     },
     "f4fdbc3d1d3c4517b09b745c685cfbe1": {
      "model_module": "@jupyter-widgets/controls",
      "model_module_version": "1.5.0",
      "model_name": "FloatProgressModel",
      "state": {
       "description": "val loss: 0.5228: 100%",
       "layout": "IPY_MODEL_4c4316fc49fa40dbb607f074e65fe058",
       "max": 22,
       "style": "IPY_MODEL_41518dfea7ae4678b1271694dbf71556",
       "value": 22
      }
     },
     "f51f7022bfb644ed9814cd241671aa59": {
      "model_module": "@jupyter-widgets/controls",
      "model_module_version": "1.5.0",
      "model_name": "HTMLModel",
      "state": {
       "layout": "IPY_MODEL_793d918c1afc40c8936b976eeb11e738",
       "style": "IPY_MODEL_1a92c7e5548c46f486a93fd6a8b75ca8",
       "value": " 11/11 [00:00&lt;00:00, 193.41it/s]"
      }
     },
     "f53e937c5bb04a7c9cac6d68973a79c9": {
      "model_module": "@jupyter-widgets/controls",
      "model_module_version": "1.5.0",
      "model_name": "FloatProgressModel",
      "state": {
       "description": "train loss: 0.0420: 100%",
       "layout": "IPY_MODEL_1a2181c56b3a47ee8fc08d710e3a00fe",
       "max": 99,
       "style": "IPY_MODEL_b2fd0fb007d34b5ca719c33b5e90c5bc",
       "value": 99
      }
     },
     "f5a64b32506a48bab2d49388b21d855a": {
      "model_module": "@jupyter-widgets/controls",
      "model_module_version": "1.5.0",
      "model_name": "ProgressStyleModel",
      "state": {
       "description_width": "initial"
      }
     },
     "f5b692ed39164fe8932baa02d6c159ac": {
      "model_module": "@jupyter-widgets/controls",
      "model_module_version": "1.5.0",
      "model_name": "ProgressStyleModel",
      "state": {
       "description_width": "initial"
      }
     },
     "f5dd17490a1748929e01f8232b99cd23": {
      "model_module": "@jupyter-widgets/base",
      "model_module_version": "1.2.0",
      "model_name": "LayoutModel",
      "state": {}
     },
     "f5ebec8520f84c3aac44c4163f20c07a": {
      "model_module": "@jupyter-widgets/controls",
      "model_module_version": "1.5.0",
      "model_name": "FloatProgressModel",
      "state": {
       "bar_style": "danger",
       "description": "Train Loss: 0.0799 - Val Loss: 0.0768:  60%",
       "layout": "IPY_MODEL_cf3589b247794e9db2ac1bb785f74663",
       "max": 10,
       "style": "IPY_MODEL_7226a62eecb241f78df5af529b68a65f",
       "value": 6
      }
     },
     "f627e28aaf4341fd8b02ae045ac3a2c6": {
      "model_module": "@jupyter-widgets/base",
      "model_module_version": "1.2.0",
      "model_name": "LayoutModel",
      "state": {}
     },
     "f64a6c3b2f924897bc4ae34b649fe6ee": {
      "model_module": "@jupyter-widgets/controls",
      "model_module_version": "1.5.0",
      "model_name": "ProgressStyleModel",
      "state": {
       "description_width": "initial"
      }
     },
     "f64f53b8c7d2443aad671acb5a456240": {
      "model_module": "@jupyter-widgets/controls",
      "model_module_version": "1.5.0",
      "model_name": "DescriptionStyleModel",
      "state": {
       "description_width": ""
      }
     },
     "f662a8624009423cb967ac306960021b": {
      "model_module": "@jupyter-widgets/controls",
      "model_module_version": "1.5.0",
      "model_name": "FloatProgressModel",
      "state": {
       "description": "train loss: 0.0084: 100%",
       "layout": "IPY_MODEL_92b356be591b404b8ada8191140ed15e",
       "max": 99,
       "style": "IPY_MODEL_36012658ca704831b46843e39eaadbae",
       "value": 99
      }
     },
     "f66f1552709f456caeb3800de5f835f2": {
      "model_module": "@jupyter-widgets/base",
      "model_module_version": "1.2.0",
      "model_name": "LayoutModel",
      "state": {}
     },
     "f68ef5aea8324673b733e562ebef86be": {
      "model_module": "@jupyter-widgets/controls",
      "model_module_version": "1.5.0",
      "model_name": "ProgressStyleModel",
      "state": {
       "description_width": "initial"
      }
     },
     "f6c2b1f6fd32479ca277cd2034843d32": {
      "model_module": "@jupyter-widgets/controls",
      "model_module_version": "1.5.0",
      "model_name": "DescriptionStyleModel",
      "state": {
       "description_width": ""
      }
     },
     "f6c3d46020624e56a24f5aeae5818e58": {
      "model_module": "@jupyter-widgets/controls",
      "model_module_version": "1.5.0",
      "model_name": "HTMLModel",
      "state": {
       "layout": "IPY_MODEL_af2deec2efdb4accaaf30ba995f51339",
       "style": "IPY_MODEL_a7e88b3cc2864717ae353ef7739d6341",
       "value": " 99/99 [00:01&lt;00:00, 98.16it/s]"
      }
     },
     "f6d6d0d735444ea0aa8619fb197ff5d8": {
      "model_module": "@jupyter-widgets/base",
      "model_module_version": "1.2.0",
      "model_name": "LayoutModel",
      "state": {}
     },
     "f7062e64b166418bb1e42868d57d9434": {
      "model_module": "@jupyter-widgets/controls",
      "model_module_version": "1.5.0",
      "model_name": "DescriptionStyleModel",
      "state": {
       "description_width": ""
      }
     },
     "f75633bccd36490da8faf208275dc53e": {
      "model_module": "@jupyter-widgets/controls",
      "model_module_version": "1.5.0",
      "model_name": "FloatProgressModel",
      "state": {
       "description": "train loss: 0.0141: 100%",
       "layout": "IPY_MODEL_78f916242b174b1ab937fca66ba1a435",
       "max": 50,
       "style": "IPY_MODEL_910dbb5fb61f46e6b3a650905bc8d745",
       "value": 50
      }
     },
     "f75b5589b7cd4c8494d8503dd8950d18": {
      "model_module": "@jupyter-widgets/controls",
      "model_module_version": "1.5.0",
      "model_name": "DescriptionStyleModel",
      "state": {
       "description_width": ""
      }
     },
     "f7810cdf56aa4ab2af4945c2f8222361": {
      "model_module": "@jupyter-widgets/controls",
      "model_module_version": "1.5.0",
      "model_name": "HTMLModel",
      "state": {
       "layout": "IPY_MODEL_1dd7d3d59bf942649fea096da6fa4fa8",
       "style": "IPY_MODEL_9f550d4e56f149f1ae0c43bb543e1136",
       "value": " 22/22 [00:00&lt;00:00, 136.29it/s]"
      }
     },
     "f7b49fd4db8f4cd08066e5b69fec1253": {
      "model_module": "@jupyter-widgets/controls",
      "model_module_version": "1.5.0",
      "model_name": "ProgressStyleModel",
      "state": {
       "description_width": "initial"
      }
     },
     "f7d0f14f81b7445d8d795dc4be12c64a": {
      "model_module": "@jupyter-widgets/base",
      "model_module_version": "1.2.0",
      "model_name": "LayoutModel",
      "state": {}
     },
     "f7eed8455fca4f3e95ab0c7326d3842f": {
      "model_module": "@jupyter-widgets/base",
      "model_module_version": "1.2.0",
      "model_name": "LayoutModel",
      "state": {}
     },
     "f7f8330fd5814fa7a9d383b1e34a21cf": {
      "model_module": "@jupyter-widgets/base",
      "model_module_version": "1.2.0",
      "model_name": "LayoutModel",
      "state": {}
     },
     "f80951947722439589afd14b5a66c759": {
      "model_module": "@jupyter-widgets/base",
      "model_module_version": "1.2.0",
      "model_name": "LayoutModel",
      "state": {}
     },
     "f829cb8cd7874154bf2fef5aa8cca89b": {
      "model_module": "@jupyter-widgets/controls",
      "model_module_version": "1.5.0",
      "model_name": "ProgressStyleModel",
      "state": {
       "description_width": "initial"
      }
     },
     "f834ecdd4aaf44cc9bcdb10de1f466fb": {
      "model_module": "@jupyter-widgets/controls",
      "model_module_version": "1.5.0",
      "model_name": "HTMLModel",
      "state": {
       "layout": "IPY_MODEL_9f21d482edbd4b87a39a8d0c597fec64",
       "style": "IPY_MODEL_901910f430374c5c863466fd3ef1b4c5",
       "value": " 50/50 [00:00&lt;00:00, 92.88it/s]"
      }
     },
     "f8640ec047004874a6cadb769b14288e": {
      "model_module": "@jupyter-widgets/base",
      "model_module_version": "1.2.0",
      "model_name": "LayoutModel",
      "state": {}
     },
     "f89ecce5067b4f06a06035b1995393b0": {
      "model_module": "@jupyter-widgets/controls",
      "model_module_version": "1.5.0",
      "model_name": "DescriptionStyleModel",
      "state": {
       "description_width": ""
      }
     },
     "f8aa5e3831884f18a42a471baec1145b": {
      "model_module": "@jupyter-widgets/controls",
      "model_module_version": "1.5.0",
      "model_name": "HTMLModel",
      "state": {
       "layout": "IPY_MODEL_16004cccb7e541b690b198f84cf7f8d1",
       "style": "IPY_MODEL_7b1140764e70481897905550a8f512f2",
       "value": " 25/25 [00:00&lt;00:00, 77.40it/s]"
      }
     },
     "f8d4e50122fc4e1f96f2c6aa4e18b909": {
      "model_module": "@jupyter-widgets/controls",
      "model_module_version": "1.5.0",
      "model_name": "HTMLModel",
      "state": {
       "layout": "IPY_MODEL_90482f7b14bd41aa9b1d30409667d9a8",
       "style": "IPY_MODEL_aeeb3f2b91f342e1a4a57f1cda0d686f",
       "value": " 50/50 [00:07&lt;00:00,  3.67it/s]"
      }
     },
     "f8dd44a59bcd473caa201c6a0319dcf5": {
      "model_module": "@jupyter-widgets/controls",
      "model_module_version": "1.5.0",
      "model_name": "HTMLModel",
      "state": {
       "layout": "IPY_MODEL_c75abd218ff941dabc8420c7805e9169",
       "style": "IPY_MODEL_b0d5aae135494f58a5f4f112f3fee86a",
       "value": " 50/50 [00:07&lt;00:00,  3.82it/s]"
      }
     },
     "f9062b7ea95e457283f22869a5f800b2": {
      "model_module": "@jupyter-widgets/controls",
      "model_module_version": "1.5.0",
      "model_name": "ProgressStyleModel",
      "state": {
       "description_width": "initial"
      }
     },
     "f93f9bcaf5ec4c58bd2b5ffa0fccd3b7": {
      "model_module": "@jupyter-widgets/controls",
      "model_module_version": "1.5.0",
      "model_name": "FloatProgressModel",
      "state": {
       "description": "train loss: 0.0523: 100%",
       "layout": "IPY_MODEL_76bb3913e70b44e3a0b211554563f653",
       "max": 50,
       "style": "IPY_MODEL_bf06cd0daf4d4e19b1091a802ec5fc5b",
       "value": 50
      }
     },
     "f947b89d689b4005a857463a565a72e3": {
      "model_module": "@jupyter-widgets/base",
      "model_module_version": "1.2.0",
      "model_name": "LayoutModel",
      "state": {}
     },
     "f98c039c4a5641ce92be4545fd852e9e": {
      "model_module": "@jupyter-widgets/base",
      "model_module_version": "1.2.0",
      "model_name": "LayoutModel",
      "state": {}
     },
     "f98cc906d8254adba861f693bea83b5f": {
      "model_module": "@jupyter-widgets/base",
      "model_module_version": "1.2.0",
      "model_name": "LayoutModel",
      "state": {}
     },
     "f99e24f4a73341ba82ceedc189216c08": {
      "model_module": "@jupyter-widgets/controls",
      "model_module_version": "1.5.0",
      "model_name": "HTMLModel",
      "state": {
       "layout": "IPY_MODEL_4f8ff2b9d73c4d7f94e8dcf19adea382",
       "style": "IPY_MODEL_bec86ac26fd54b208e6f5e0b1ef85466",
       "value": " 11/11 [00:00&lt;00:00, 139.67it/s]"
      }
     },
     "f9ac03c82bc04bfb87584a2500dacac0": {
      "model_module": "@jupyter-widgets/controls",
      "model_module_version": "1.5.0",
      "model_name": "FloatProgressModel",
      "state": {
       "description": "val loss: 0.3837: 100%",
       "layout": "IPY_MODEL_2075babc8ae84aeb9410d06bae8420f5",
       "max": 11,
       "style": "IPY_MODEL_4c253f3fd51546fd8c7be63789b8339c",
       "value": 11
      }
     },
     "f9c02d39365444c188b3964a04f778c9": {
      "model_module": "@jupyter-widgets/base",
      "model_module_version": "1.2.0",
      "model_name": "LayoutModel",
      "state": {}
     },
     "f9fdfb451aca4323a97abe41e63624ea": {
      "model_module": "@jupyter-widgets/controls",
      "model_module_version": "1.5.0",
      "model_name": "FloatProgressModel",
      "state": {
       "description": "train loss: 0.5034: 100%",
       "layout": "IPY_MODEL_0b56ace50fcd43bd824c6d800b918119",
       "max": 99,
       "style": "IPY_MODEL_894887186aff4c94b8ce9d72bb4dcbbd",
       "value": 99
      }
     },
     "fa036eafa8734b37b8fcf9830d2e39ff": {
      "model_module": "@jupyter-widgets/base",
      "model_module_version": "1.2.0",
      "model_name": "LayoutModel",
      "state": {}
     },
     "fa559e53d752443bab9404b400b54d04": {
      "model_module": "@jupyter-widgets/controls",
      "model_module_version": "1.5.0",
      "model_name": "ProgressStyleModel",
      "state": {
       "description_width": "initial"
      }
     },
     "fa59ce5fedd340aea2336adba8d596d0": {
      "model_module": "@jupyter-widgets/base",
      "model_module_version": "1.2.0",
      "model_name": "LayoutModel",
      "state": {}
     },
     "fa6894df7aa349e19e711556e368dd3e": {
      "model_module": "@jupyter-widgets/controls",
      "model_module_version": "1.5.0",
      "model_name": "FloatProgressModel",
      "state": {
       "description": "train loss: 0.0065: 100%",
       "layout": "IPY_MODEL_f35277acb6624c05aa4ef0d3ca63b17e",
       "max": 99,
       "style": "IPY_MODEL_6e5e6e8c158743a2aa991c1a9d54dcb0",
       "value": 99
      }
     },
     "fa89089ca8a64281bc210e46a1a94e87": {
      "model_module": "@jupyter-widgets/base",
      "model_module_version": "1.2.0",
      "model_name": "LayoutModel",
      "state": {}
     },
     "fa934831e9f7444da41f62d138e46a98": {
      "model_module": "@jupyter-widgets/base",
      "model_module_version": "1.2.0",
      "model_name": "LayoutModel",
      "state": {}
     },
     "fada30e9198b41c3825e8c8e425e6c9c": {
      "model_module": "@jupyter-widgets/base",
      "model_module_version": "1.2.0",
      "model_name": "LayoutModel",
      "state": {}
     },
     "fae5a6542c4440edbbc0d379cda024d7": {
      "model_module": "@jupyter-widgets/controls",
      "model_module_version": "1.5.0",
      "model_name": "DescriptionStyleModel",
      "state": {
       "description_width": ""
      }
     },
     "faedf676abb54604a7bba3e4699ec276": {
      "model_module": "@jupyter-widgets/controls",
      "model_module_version": "1.5.0",
      "model_name": "DescriptionStyleModel",
      "state": {
       "description_width": ""
      }
     },
     "faf91a8c9a2a4655ae471f0a7beee048": {
      "model_module": "@jupyter-widgets/controls",
      "model_module_version": "1.5.0",
      "model_name": "ProgressStyleModel",
      "state": {
       "description_width": "initial"
      }
     },
     "fb18c657400943f090ccfb8d43de6b7e": {
      "model_module": "@jupyter-widgets/controls",
      "model_module_version": "1.5.0",
      "model_name": "HTMLModel",
      "state": {
       "layout": "IPY_MODEL_abaf0231d3eb406a9b5472c5b88e49c8",
       "style": "IPY_MODEL_ccd22b7444ec433395fe27199fd4452b",
       "value": " 50/50 [00:08&lt;00:00,  3.76it/s]"
      }
     },
     "fb669c1e131b44bba07ae9da877ef7b6": {
      "model_module": "@jupyter-widgets/controls",
      "model_module_version": "1.5.0",
      "model_name": "DescriptionStyleModel",
      "state": {
       "description_width": ""
      }
     },
     "fb9033949cd74fa195ae32e87eb696b5": {
      "model_module": "@jupyter-widgets/base",
      "model_module_version": "1.2.0",
      "model_name": "LayoutModel",
      "state": {}
     },
     "fbcc2efaf43a4727a6078cfc2db2613c": {
      "model_module": "@jupyter-widgets/controls",
      "model_module_version": "1.5.0",
      "model_name": "ProgressStyleModel",
      "state": {
       "description_width": "initial"
      }
     },
     "fbe467f15d6649a8b3846a7dda669f67": {
      "model_module": "@jupyter-widgets/base",
      "model_module_version": "1.2.0",
      "model_name": "LayoutModel",
      "state": {}
     },
     "fbe7b979612b4228a6cf7e501d5604a4": {
      "model_module": "@jupyter-widgets/controls",
      "model_module_version": "1.5.0",
      "model_name": "ProgressStyleModel",
      "state": {
       "description_width": "initial"
      }
     },
     "fbfc6ab6122042dfb475810c9868757d": {
      "model_module": "@jupyter-widgets/base",
      "model_module_version": "1.2.0",
      "model_name": "LayoutModel",
      "state": {}
     },
     "fc0f6e2b12134f1782bf33384dfba478": {
      "model_module": "@jupyter-widgets/controls",
      "model_module_version": "1.5.0",
      "model_name": "FloatProgressModel",
      "state": {
       "description": "val loss: 0.0646: 100%",
       "layout": "IPY_MODEL_91287dbfe2194971a8b13d8d8615a40e",
       "max": 11,
       "style": "IPY_MODEL_cee0b218b4a84c5baf60b4c4ffd1a179",
       "value": 11
      }
     },
     "fc322466a836414d8e938a8f112fe444": {
      "model_module": "@jupyter-widgets/controls",
      "model_module_version": "1.5.0",
      "model_name": "DescriptionStyleModel",
      "state": {
       "description_width": ""
      }
     },
     "fc37ed172c734f79a7b29b3a381f2c37": {
      "model_module": "@jupyter-widgets/controls",
      "model_module_version": "1.5.0",
      "model_name": "ProgressStyleModel",
      "state": {
       "description_width": "initial"
      }
     },
     "fc40d67f387a417d950c05fa3bb89afc": {
      "model_module": "@jupyter-widgets/controls",
      "model_module_version": "1.5.0",
      "model_name": "HTMLModel",
      "state": {
       "layout": "IPY_MODEL_c7993ac95a65455cb46910ff31d9db22",
       "style": "IPY_MODEL_5df84dbb09594292bce3d53413536375",
       "value": " 21/21 [00:00&lt;00:00, 253.70it/s]"
      }
     },
     "fc7da8b3950b488ba02209c6d0ac4583": {
      "model_module": "@jupyter-widgets/base",
      "model_module_version": "1.2.0",
      "model_name": "LayoutModel",
      "state": {}
     },
     "fcc1ba97923a4402b26bbc521b317542": {
      "model_module": "@jupyter-widgets/controls",
      "model_module_version": "1.5.0",
      "model_name": "ProgressStyleModel",
      "state": {
       "description_width": "initial"
      }
     },
     "fce88941b17742c5a49a0839ce232d3f": {
      "model_module": "@jupyter-widgets/base",
      "model_module_version": "1.2.0",
      "model_name": "LayoutModel",
      "state": {}
     },
     "fd00a911c13d4dc9b3f854570d439ddf": {
      "model_module": "@jupyter-widgets/controls",
      "model_module_version": "1.5.0",
      "model_name": "ProgressStyleModel",
      "state": {
       "description_width": "initial"
      }
     },
     "fd0c260d8f4344fb98a0e0ee3811550e": {
      "model_module": "@jupyter-widgets/base",
      "model_module_version": "1.2.0",
      "model_name": "LayoutModel",
      "state": {}
     },
     "fd889382ac014460b2d1b9c681db4bf4": {
      "model_module": "@jupyter-widgets/controls",
      "model_module_version": "1.5.0",
      "model_name": "ProgressStyleModel",
      "state": {
       "description_width": "initial"
      }
     },
     "fd8b78a6dd414f309be7819a74549dd3": {
      "model_module": "@jupyter-widgets/controls",
      "model_module_version": "1.5.0",
      "model_name": "ProgressStyleModel",
      "state": {
       "description_width": "initial"
      }
     },
     "fda0610b7c514a34acb029f0db89129a": {
      "model_module": "@jupyter-widgets/controls",
      "model_module_version": "1.5.0",
      "model_name": "FloatProgressModel",
      "state": {
       "description": "val loss: 0.1562: 100%",
       "layout": "IPY_MODEL_618d3aaa619d4640842bef4d77cc9575",
       "max": 22,
       "style": "IPY_MODEL_cb6a95c9d4be4597b2bc298c1cb46c5e",
       "value": 22
      }
     },
     "fded12a6bbbc4fafa4f9bec2ff5d557d": {
      "model_module": "@jupyter-widgets/base",
      "model_module_version": "1.2.0",
      "model_name": "LayoutModel",
      "state": {}
     },
     "fe01f4732fb947c1911c78c3edd65525": {
      "model_module": "@jupyter-widgets/controls",
      "model_module_version": "1.5.0",
      "model_name": "HTMLModel",
      "state": {
       "layout": "IPY_MODEL_d778825b120a43bab00f4ce1cf7ee301",
       "style": "IPY_MODEL_b4d8010c0156451fa0d6a88a7791c543",
       "value": " 10/10 [03:25&lt;00:00, 20.50s/it]"
      }
     },
     "fe306f3bf15a4d049bd659138491420d": {
      "model_module": "@jupyter-widgets/base",
      "model_module_version": "1.2.0",
      "model_name": "LayoutModel",
      "state": {}
     },
     "fe3cd3d683564ad4957e00003be7b631": {
      "model_module": "@jupyter-widgets/controls",
      "model_module_version": "1.5.0",
      "model_name": "DescriptionStyleModel",
      "state": {
       "description_width": ""
      }
     },
     "fe60698ed52e42b78a08b2a57cf22970": {
      "model_module": "@jupyter-widgets/base",
      "model_module_version": "1.2.0",
      "model_name": "LayoutModel",
      "state": {}
     },
     "fe67d7e37a464adf95f3d18b723dc19e": {
      "model_module": "@jupyter-widgets/base",
      "model_module_version": "1.2.0",
      "model_name": "LayoutModel",
      "state": {}
     },
     "fe7d00799afd49528c00b9a235c2687a": {
      "model_module": "@jupyter-widgets/controls",
      "model_module_version": "1.5.0",
      "model_name": "ProgressStyleModel",
      "state": {
       "description_width": "initial"
      }
     },
     "feb333dfb4cc4ea296813790b2f0361c": {
      "model_module": "@jupyter-widgets/controls",
      "model_module_version": "1.5.0",
      "model_name": "DescriptionStyleModel",
      "state": {
       "description_width": ""
      }
     },
     "fed3cf7e7f884d69a371d87860f9b115": {
      "model_module": "@jupyter-widgets/base",
      "model_module_version": "1.2.0",
      "model_name": "LayoutModel",
      "state": {}
     },
     "feda3560983d4d62abc7e13a78bee640": {
      "model_module": "@jupyter-widgets/controls",
      "model_module_version": "1.5.0",
      "model_name": "ProgressStyleModel",
      "state": {
       "description_width": "initial"
      }
     },
     "fee416bb43a24b1f96391ef2ceb7531c": {
      "model_module": "@jupyter-widgets/controls",
      "model_module_version": "1.5.0",
      "model_name": "HTMLModel",
      "state": {
       "layout": "IPY_MODEL_aad49c956c054754920a0b7be96a75ef",
       "style": "IPY_MODEL_a77076f7fac644f68dc08d6e29800770",
       "value": " 22/22 [00:00&lt;00:00, 194.69it/s]"
      }
     },
     "ff0045611ff34aa5b6b89d5d9260a2e8": {
      "model_module": "@jupyter-widgets/controls",
      "model_module_version": "1.5.0",
      "model_name": "DescriptionStyleModel",
      "state": {
       "description_width": ""
      }
     },
     "ff279214af2a4a1cbfe4489afab8204c": {
      "model_module": "@jupyter-widgets/base",
      "model_module_version": "1.2.0",
      "model_name": "LayoutModel",
      "state": {}
     },
     "ff29e5d60a904cb6bf15f023c1872b17": {
      "model_module": "@jupyter-widgets/controls",
      "model_module_version": "1.5.0",
      "model_name": "ProgressStyleModel",
      "state": {
       "description_width": "initial"
      }
     },
     "ff326309ccc6475c828db56864447cc0": {
      "model_module": "@jupyter-widgets/controls",
      "model_module_version": "1.5.0",
      "model_name": "DescriptionStyleModel",
      "state": {
       "description_width": ""
      }
     },
     "ff478998a0884df39367e4a07870f530": {
      "model_module": "@jupyter-widgets/controls",
      "model_module_version": "1.5.0",
      "model_name": "FloatProgressModel",
      "state": {
       "description": "train loss: 0.2400: 100%",
       "layout": "IPY_MODEL_00dfa0889f134cf593a8ff7ef5ee115e",
       "max": 50,
       "style": "IPY_MODEL_471342cf134647b2aa64746fc9226c2c",
       "value": 50
      }
     },
     "ff8e2a327e3e41ab8d85f437dc642efb": {
      "model_module": "@jupyter-widgets/base",
      "model_module_version": "1.2.0",
      "model_name": "LayoutModel",
      "state": {}
     },
     "ffa7c7458f3a433290a8b72a41343c36": {
      "model_module": "@jupyter-widgets/controls",
      "model_module_version": "1.5.0",
      "model_name": "DescriptionStyleModel",
      "state": {
       "description_width": ""
      }
     },
     "ffc62ca12fb64661b2e5b8a3d944e0cd": {
      "model_module": "@jupyter-widgets/controls",
      "model_module_version": "1.5.0",
      "model_name": "HTMLModel",
      "state": {
       "layout": "IPY_MODEL_92e85f2eddca42db9eb7b160fd0b95fa",
       "style": "IPY_MODEL_c34934e97ee84e2695c2dd758978b53f",
       "value": " 50/50 [00:00&lt;00:00, 81.89it/s]"
      }
     },
     "ffe926c70f254f7fba0bb174537ba7ac": {
      "model_module": "@jupyter-widgets/controls",
      "model_module_version": "1.5.0",
      "model_name": "DescriptionStyleModel",
      "state": {
       "description_width": ""
      }
     },
     "fff064c46161419ea394914602bb4426": {
      "model_module": "@jupyter-widgets/base",
      "model_module_version": "1.2.0",
      "model_name": "LayoutModel",
      "state": {}
     }
    },
    "version_major": 2,
    "version_minor": 0
   }
  }
 },
 "nbformat": 4,
 "nbformat_minor": 4
}