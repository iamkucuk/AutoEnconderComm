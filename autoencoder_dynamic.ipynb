{
 "cells": [
  {
   "cell_type": "code",
   "execution_count": 1,
   "metadata": {
    "tags": []
   },
   "outputs": [
    {
     "output_type": "stream",
     "name": "stderr",
     "text": "Using TensorFlow backend.\n"
    }
   ],
   "source": [
    "# importing libs\n",
    "import numpy as np\n",
    "import tensorflow as tf\n",
    "import keras\n",
    "from keras.layers import Input, Dense, GaussianNoise,Lambda,Dropout\n",
    "from keras.models import Model\n",
    "from keras import regularizers\n",
    "from keras.layers.normalization import BatchNormalization\n",
    "from keras.optimizers import Adam,SGD\n",
    "from keras import backend as K\n",
    "import random"
   ]
  },
  {
   "cell_type": "code",
   "execution_count": 2,
   "metadata": {
    "collapsed": true
   },
   "outputs": [],
   "source": [
    "# for reproducing reslut\n",
    "\n",
    "seed_number = 12\n",
    "tf.set_random_seed(seed_number)\n",
    "random.seed(seed_number)\n",
    "np.random.seed(seed_number)"
   ]
  },
  {
   "cell_type": "code",
   "execution_count": 3,
   "metadata": {
    "tags": []
   },
   "outputs": [
    {
     "output_type": "stream",
     "name": "stdout",
     "text": "M: 16 k: 4 n: 7\n"
    }
   ],
   "source": [
    "# defining parameters\n",
    "# define (n,k) here for (n,k) autoencoder\n",
    "# n = n_channel \n",
    "# k = log2(M)  ==> so for (7,4) autoencoder n_channel = 7 and M = 2^4 = 16 \n",
    "k = 4\n",
    "n_channel = 7\n",
    "M = 2 ** k\n",
    "R = k/n_channel\n",
    "print ('M:',M,'k:',k,'n:',n_channel)"
   ]
  },
  {
   "cell_type": "code",
   "execution_count": 4,
   "metadata": {
    "collapsed": true
   },
   "outputs": [],
   "source": [
    "#generating data of size N\n",
    "N = 8000\n",
    "label = np.random.randint(M,size=N)"
   ]
  },
  {
   "cell_type": "code",
   "execution_count": 5,
   "metadata": {
    "collapsed": true
   },
   "outputs": [],
   "source": [
    "# creating one hot encoded vectors\n",
    "data = []\n",
    "for i in label:\n",
    "    temp = np.zeros(M)\n",
    "    temp[i] = 1\n",
    "    data.append(temp)"
   ]
  },
  {
   "cell_type": "code",
   "execution_count": 6,
   "metadata": {},
   "outputs": [],
   "source": [
    "def BER(y_true, y_pred):\n",
    "    return K.mean(K.not_equal(y_true, K.round(y_pred)), axis=-1)  "
   ]
  },
  {
   "cell_type": "code",
   "execution_count": 7,
   "metadata": {
    "tags": []
   },
   "outputs": [
    {
     "output_type": "stream",
     "name": "stdout",
     "text": "(8000, 16)\n"
    }
   ],
   "source": [
    "# checking data shape\n",
    "data = np.array(data)\n",
    "print (data.shape)"
   ]
  },
  {
   "cell_type": "code",
   "execution_count": 8,
   "metadata": {
    "tags": []
   },
   "outputs": [
    {
     "output_type": "stream",
     "name": "stdout",
     "text": "10 [0. 0. 0. 0. 0. 0. 0. 0. 0. 0. 1. 0. 0. 0. 0. 0.]\n4 [0. 0. 0. 0. 1. 0. 0. 0. 0. 0. 0. 0. 0. 0. 0. 0.]\n12 [0. 0. 0. 0. 0. 0. 0. 0. 0. 0. 0. 0. 1. 0. 0. 0.]\n9 [0. 0. 0. 0. 0. 0. 0. 0. 0. 1. 0. 0. 0. 0. 0. 0.]\n8 [0. 0. 0. 0. 0. 0. 0. 0. 1. 0. 0. 0. 0. 0. 0. 0.]\n15 [0. 0. 0. 0. 0. 0. 0. 0. 0. 0. 0. 0. 0. 0. 0. 1.]\n7 [0. 0. 0. 0. 0. 0. 0. 1. 0. 0. 0. 0. 0. 0. 0. 0.]\n9 [0. 0. 0. 0. 0. 0. 0. 0. 0. 1. 0. 0. 0. 0. 0. 0.]\n7 [0. 0. 0. 0. 0. 0. 0. 1. 0. 0. 0. 0. 0. 0. 0. 0.]\n"
    }
   ],
   "source": [
    "# checking generated data with it's label\n",
    "temp_check = [17,23,45,67,89,96,72,250,350]\n",
    "for i in temp_check:\n",
    "    print(label[i],data[i])"
   ]
  },
  {
   "cell_type": "code",
   "execution_count": 9,
   "metadata": {
    "collapsed": true,
    "tags": []
   },
   "outputs": [
    {
     "output_type": "stream",
     "name": "stdout",
     "text": "WARNING:tensorflow:From C:\\Users\\Furkan\\miniconda3\\envs\\commtf\\lib\\site-packages\\tensorflow_core\\python\\ops\\resource_variable_ops.py:1630: calling BaseResourceVariable.__init__ (from tensorflow.python.ops.resource_variable_ops) with constraint is deprecated and will be removed in a future version.\nInstructions for updating:\nIf using Keras pass *_constraint arguments to layers.\n"
    }
   ],
   "source": [
    "# defining autoencoder and it's layer\n",
    "input_signal = Input(shape=(M,))\n",
    "encoded = Dense(M, activation='relu')(input_signal)\n",
    "encoded1 = Dense(n_channel, activation='linear')(encoded)\n",
    "encoded2 = BatchNormalization(scale=False, center=False)(encoded1)\n",
    "\n",
    "# encoded2 = Lambda(lambda x: x / K.sqrt(K.mean(x**2)))(encoded1) #average power constraint\n",
    "\n",
    "EbNo_train = 5.01187 #  coverted 7 db of EbNo\n",
    "encoded3 = GaussianNoise(np.sqrt(1/(2*R*EbNo_train)))(encoded2)\n",
    "\n",
    "decoded = Dense(M, activation='relu')(encoded3)\n",
    "decoded1 = Dense(M, activation='softmax')(decoded)\n",
    "autoencoder = Model(input_signal, decoded1)\n",
    "adam = Adam(lr=0.01)\n",
    "autoencoder.compile(optimizer=adam, loss='categorical_crossentropy', metrics=[BER])"
   ]
  },
  {
   "cell_type": "code",
   "execution_count": 10,
   "metadata": {
    "tags": []
   },
   "outputs": [
    {
     "output_type": "stream",
     "name": "stdout",
     "text": "Model: \"model_1\"\n_________________________________________________________________\nLayer (type)                 Output Shape              Param #   \n=================================================================\ninput_1 (InputLayer)         (None, 16)                0         \n_________________________________________________________________\ndense_1 (Dense)              (None, 16)                272       \n_________________________________________________________________\ndense_2 (Dense)              (None, 7)                 119       \n_________________________________________________________________\nbatch_normalization_1 (Batch (None, 7)                 14        \n_________________________________________________________________\ngaussian_noise_1 (GaussianNo (None, 7)                 0         \n_________________________________________________________________\ndense_3 (Dense)              (None, 16)                128       \n_________________________________________________________________\ndense_4 (Dense)              (None, 16)                272       \n=================================================================\nTotal params: 805\nTrainable params: 791\nNon-trainable params: 14\n_________________________________________________________________\nNone\n"
    }
   ],
   "source": [
    "# printing summary of layers and it's trainable parameters \n",
    "print (autoencoder.summary())"
   ]
  },
  {
   "cell_type": "code",
   "execution_count": 11,
   "metadata": {
    "collapsed": true
   },
   "outputs": [],
   "source": [
    "# for tensor board visualization\n",
    "#tbCallBack = keras.callbacks.TensorBoard(log_dir='./logs', histogram_freq=0, batch_size=32, write_graph=True, write_grads=True, write_images=False, embeddings_freq=0, embeddings_layer_names=None, embeddings_metadata=None)"
   ]
  },
  {
   "cell_type": "code",
   "execution_count": 12,
   "metadata": {
    "scrolled": true,
    "tags": [
     "outputPrepend"
    ]
   },
   "outputs": [
    {
     "output_type": "stream",
     "name": "stdout",
     "text": " 1.4062e-04\nEpoch 811/1000\n8000/8000 [==============================] - 0s 9us/step - loss: 0.0022 - BER: 7.8125e-05\nEpoch 812/1000\n8000/8000 [==============================] - 0s 9us/step - loss: 0.0034 - BER: 1.0938e-04\nEpoch 813/1000\n8000/8000 [==============================] - 0s 9us/step - loss: 0.0058 - BER: 2.0313e-04\nEpoch 814/1000\n8000/8000 [==============================] - 0s 9us/step - loss: 0.0020 - BER: 1.0938e-04\nEpoch 815/1000\n8000/8000 [==============================] - 0s 9us/step - loss: 0.0033 - BER: 1.4062e-04\nEpoch 816/1000\n8000/8000 [==============================] - 0s 9us/step - loss: 0.0020 - BER: 7.8125e-05\nEpoch 817/1000\n8000/8000 [==============================] - 0s 9us/step - loss: 0.0015 - BER: 1.0938e-04\nEpoch 818/1000\n8000/8000 [==============================] - 0s 9us/step - loss: 0.0030 - BER: 8.5937e-05\nEpoch 819/1000\n8000/8000 [==============================] - 0s 9us/step - loss: 0.0026 - BER: 4.6875e-05\nEpoch 820/1000\n8000/8000 [==============================] - 0s 9us/step - loss: 0.0027 - BER: 9.3750e-05\nEpoch 821/1000\n8000/8000 [==============================] - 0s 9us/step - loss: 0.0011 - BER: 6.2500e-05\nEpoch 822/1000\n8000/8000 [==============================] - 0s 9us/step - loss: 9.5050e-04 - BER: 6.2500e-05\nEpoch 823/1000\n8000/8000 [==============================] - 0s 9us/step - loss: 0.0030 - BER: 6.2500e-05\nEpoch 824/1000\n8000/8000 [==============================] - 0s 9us/step - loss: 0.0057 - BER: 2.0313e-04\nEpoch 825/1000\n8000/8000 [==============================] - 0s 9us/step - loss: 0.0031 - BER: 1.0938e-04\nEpoch 826/1000\n8000/8000 [==============================] - 0s 9us/step - loss: 0.0026 - BER: 7.8125e-05\nEpoch 827/1000\n8000/8000 [==============================] - 0s 9us/step - loss: 0.0030 - BER: 1.1719e-04\nEpoch 828/1000\n8000/8000 [==============================] - 0s 9us/step - loss: 0.0015 - BER: 8.5937e-05\nEpoch 829/1000\n8000/8000 [==============================] - 0s 9us/step - loss: 0.0044 - BER: 1.0938e-04\nEpoch 830/1000\n8000/8000 [==============================] - 0s 9us/step - loss: 0.0040 - BER: 1.0938e-04\nEpoch 831/1000\n8000/8000 [==============================] - 0s 9us/step - loss: 0.0030 - BER: 7.8125e-05\nEpoch 832/1000\n8000/8000 [==============================] - 0s 9us/step - loss: 0.0036 - BER: 1.5625e-04\nEpoch 833/1000\n8000/8000 [==============================] - 0s 9us/step - loss: 0.0013 - BER: 4.6875e-05\nEpoch 834/1000\n8000/8000 [==============================] - 0s 9us/step - loss: 0.0011 - BER: 3.1250e-05\nEpoch 835/1000\n8000/8000 [==============================] - 0s 9us/step - loss: 0.0057 - BER: 1.8750e-04\nEpoch 836/1000\n8000/8000 [==============================] - 0s 9us/step - loss: 0.0010 - BER: 3.1250e-05\nEpoch 837/1000\n8000/8000 [==============================] - 0s 10us/step - loss: 0.0012 - BER: 6.2500e-05\nEpoch 838/1000\n8000/8000 [==============================] - 0s 10us/step - loss: 0.0064 - BER: 1.4062e-04\nEpoch 839/1000\n8000/8000 [==============================] - 0s 9us/step - loss: 0.0057 - BER: 1.8750e-04\nEpoch 840/1000\n8000/8000 [==============================] - 0s 10us/step - loss: 0.0043 - BER: 1.1719e-04\nEpoch 841/1000\n8000/8000 [==============================] - 0s 9us/step - loss: 0.0081 - BER: 1.5625e-04\nEpoch 842/1000\n8000/8000 [==============================] - 0s 9us/step - loss: 0.0029 - BER: 9.3750e-05\nEpoch 843/1000\n8000/8000 [==============================] - 0s 9us/step - loss: 0.0025 - BER: 7.8125e-05\nEpoch 844/1000\n8000/8000 [==============================] - 0s 9us/step - loss: 0.0019 - BER: 7.8125e-05\nEpoch 845/1000\n8000/8000 [==============================] - 0s 9us/step - loss: 0.0042 - BER: 1.4062e-04\nEpoch 846/1000\n8000/8000 [==============================] - 0s 10us/step - loss: 0.0034 - BER: 1.0938e-04\nEpoch 847/1000\n8000/8000 [==============================] - 0s 9us/step - loss: 0.0065 - BER: 2.1875e-04\nEpoch 848/1000\n8000/8000 [==============================] - 0s 9us/step - loss: 0.0079 - BER: 2.3437e-04\nEpoch 849/1000\n8000/8000 [==============================] - 0s 9us/step - loss: 0.0030 - BER: 9.3750e-05\nEpoch 850/1000\n8000/8000 [==============================] - 0s 9us/step - loss: 0.0025 - BER: 1.7187e-04\nEpoch 851/1000\n8000/8000 [==============================] - 0s 9us/step - loss: 0.0041 - BER: 8.5937e-05\nEpoch 852/1000\n8000/8000 [==============================] - 0s 9us/step - loss: 0.0078 - BER: 2.1875e-04\nEpoch 853/1000\n8000/8000 [==============================] - 0s 9us/step - loss: 0.0042 - BER: 7.8125e-05\nEpoch 854/1000\n8000/8000 [==============================] - 0s 9us/step - loss: 0.0013 - BER: 7.8125e-05\nEpoch 855/1000\n8000/8000 [==============================] - 0s 9us/step - loss: 0.0065 - BER: 1.8750e-04\nEpoch 856/1000\n8000/8000 [==============================] - 0s 9us/step - loss: 0.0031 - BER: 6.2500e-05\nEpoch 857/1000\n8000/8000 [==============================] - 0s 9us/step - loss: 0.0030 - BER: 1.0938e-04\nEpoch 858/1000\n8000/8000 [==============================] - 0s 9us/step - loss: 0.0045 - BER: 1.5625e-04\nEpoch 859/1000\n8000/8000 [==============================] - 0s 9us/step - loss: 0.0029 - BER: 9.3750e-05\nEpoch 860/1000\n8000/8000 [==============================] - 0s 9us/step - loss: 0.0030 - BER: 7.8125e-05\nEpoch 861/1000\n8000/8000 [==============================] - 0s 9us/step - loss: 0.0062 - BER: 1.8750e-04\nEpoch 862/1000\n8000/8000 [==============================] - 0s 9us/step - loss: 0.0039 - BER: 7.8125e-05\nEpoch 863/1000\n8000/8000 [==============================] - 0s 9us/step - loss: 0.0032 - BER: 7.8125e-05\nEpoch 864/1000\n8000/8000 [==============================] - 0s 9us/step - loss: 0.0026 - BER: 1.0938e-04\nEpoch 865/1000\n8000/8000 [==============================] - 0s 9us/step - loss: 0.0022 - BER: 4.6875e-05\nEpoch 866/1000\n8000/8000 [==============================] - 0s 9us/step - loss: 0.0068 - BER: 1.5625e-04\nEpoch 867/1000\n8000/8000 [==============================] - 0s 9us/step - loss: 0.0026 - BER: 1.0938e-04\nEpoch 868/1000\n8000/8000 [==============================] - 0s 9us/step - loss: 0.0064 - BER: 2.0313e-04\nEpoch 869/1000\n8000/8000 [==============================] - 0s 9us/step - loss: 0.0034 - BER: 1.4062e-04\nEpoch 870/1000\n8000/8000 [==============================] - 0s 9us/step - loss: 0.0037 - BER: 1.2500e-04\nEpoch 871/1000\n8000/8000 [==============================] - 0s 9us/step - loss: 0.0019 - BER: 9.3750e-05\nEpoch 872/1000\n8000/8000 [==============================] - 0s 9us/step - loss: 0.0034 - BER: 1.5625e-04\nEpoch 873/1000\n8000/8000 [==============================] - 0s 9us/step - loss: 0.0040 - BER: 7.8125e-05\nEpoch 874/1000\n8000/8000 [==============================] - 0s 9us/step - loss: 0.0048 - BER: 1.6406e-04\nEpoch 875/1000\n8000/8000 [==============================] - 0s 9us/step - loss: 0.0047 - BER: 1.2500e-04\nEpoch 876/1000\n8000/8000 [==============================] - 0s 9us/step - loss: 0.0037 - BER: 1.0938e-04\nEpoch 877/1000\n8000/8000 [==============================] - 0s 9us/step - loss: 0.0018 - BER: 6.2500e-05\nEpoch 878/1000\n8000/8000 [==============================] - 0s 9us/step - loss: 0.0040 - BER: 1.4062e-04\nEpoch 879/1000\n8000/8000 [==============================] - 0s 9us/step - loss: 0.0035 - BER: 1.5625e-04\nEpoch 880/1000\n8000/8000 [==============================] - 0s 9us/step - loss: 0.0037 - BER: 6.2500e-05\nEpoch 881/1000\n8000/8000 [==============================] - 0s 9us/step - loss: 0.0012 - BER: 4.6875e-05\nEpoch 882/1000\n8000/8000 [==============================] - 0s 9us/step - loss: 0.0022 - BER: 4.6875e-05\nEpoch 883/1000\n8000/8000 [==============================] - 0s 9us/step - loss: 0.0016 - BER: 6.2500e-05\nEpoch 884/1000\n8000/8000 [==============================] - 0s 9us/step - loss: 8.6146e-04 - BER: 4.6875e-05\nEpoch 885/1000\n8000/8000 [==============================] - 0s 9us/step - loss: 0.0028 - BER: 9.3750e-05\nEpoch 886/1000\n8000/8000 [==============================] - 0s 9us/step - loss: 0.0017 - BER: 9.3750e-05\nEpoch 887/1000\n8000/8000 [==============================] - 0s 9us/step - loss: 0.0029 - BER: 1.0938e-04\nEpoch 888/1000\n8000/8000 [==============================] - 0s 9us/step - loss: 0.0053 - BER: 1.8750e-04\nEpoch 889/1000\n8000/8000 [==============================] - 0s 9us/step - loss: 0.0030 - BER: 1.2500e-04\nEpoch 890/1000\n8000/8000 [==============================] - 0s 9us/step - loss: 0.0017 - BER: 4.6875e-05\nEpoch 891/1000\n8000/8000 [==============================] - 0s 9us/step - loss: 0.0015 - BER: 4.6875e-05\nEpoch 892/1000\n8000/8000 [==============================] - 0s 9us/step - loss: 0.0012 - BER: 4.6875e-05\nEpoch 893/1000\n8000/8000 [==============================] - 0s 9us/step - loss: 0.0049 - BER: 9.3750e-05\nEpoch 894/1000\n8000/8000 [==============================] - 0s 9us/step - loss: 0.0059 - BER: 1.8750e-04\nEpoch 895/1000\n8000/8000 [==============================] - 0s 9us/step - loss: 0.0022 - BER: 7.8125e-05\nEpoch 896/1000\n8000/8000 [==============================] - 0s 9us/step - loss: 0.0047 - BER: 1.7969e-04\nEpoch 897/1000\n8000/8000 [==============================] - 0s 9us/step - loss: 0.0062 - BER: 1.5625e-04\nEpoch 898/1000\n8000/8000 [==============================] - 0s 9us/step - loss: 0.0014 - BER: 4.6875e-05\nEpoch 899/1000\n8000/8000 [==============================] - 0s 9us/step - loss: 0.0032 - BER: 8.5937e-05\nEpoch 900/1000\n8000/8000 [==============================] - 0s 9us/step - loss: 7.3371e-04 - BER: 1.5625e-05\nEpoch 901/1000\n8000/8000 [==============================] - 0s 9us/step - loss: 0.0021 - BER: 7.8125e-05\nEpoch 902/1000\n8000/8000 [==============================] - 0s 9us/step - loss: 0.0042 - BER: 1.2500e-04\nEpoch 903/1000\n8000/8000 [==============================] - 0s 9us/step - loss: 0.0052 - BER: 1.4062e-04\nEpoch 904/1000\n8000/8000 [==============================] - 0s 9us/step - loss: 0.0057 - BER: 1.5625e-04\nEpoch 905/1000\n8000/8000 [==============================] - 0s 9us/step - loss: 0.0019 - BER: 9.3750e-05\nEpoch 906/1000\n8000/8000 [==============================] - 0s 9us/step - loss: 0.0052 - BER: 1.7187e-04\nEpoch 907/1000\n8000/8000 [==============================] - 0s 9us/step - loss: 0.0061 - BER: 2.0313e-04\nEpoch 908/1000\n8000/8000 [==============================] - 0s 9us/step - loss: 0.0028 - BER: 1.0938e-04\nEpoch 909/1000\n8000/8000 [==============================] - 0s 9us/step - loss: 0.0034 - BER: 7.8125e-05\nEpoch 910/1000\n8000/8000 [==============================] - 0s 10us/step - loss: 0.0047 - BER: 1.7187e-04\nEpoch 911/1000\n8000/8000 [==============================] - 0s 10us/step - loss: 0.0030 - BER: 9.3750e-05\nEpoch 912/1000\n8000/8000 [==============================] - 0s 10us/step - loss: 0.0014 - BER: 1.5625e-05\nEpoch 913/1000\n8000/8000 [==============================] - 0s 9us/step - loss: 0.0027 - BER: 9.3750e-05\nEpoch 914/1000\n8000/8000 [==============================] - 0s 9us/step - loss: 0.0020 - BER: 6.2500e-05\nEpoch 915/1000\n8000/8000 [==============================] - 0s 9us/step - loss: 0.0025 - BER: 6.2500e-05\nEpoch 916/1000\n8000/8000 [==============================] - 0s 9us/step - loss: 0.0013 - BER: 4.6875e-05\nEpoch 917/1000\n8000/8000 [==============================] - 0s 9us/step - loss: 0.0037 - BER: 1.5625e-04\nEpoch 918/1000\n8000/8000 [==============================] - 0s 9us/step - loss: 0.0015 - BER: 7.8125e-05\nEpoch 919/1000\n8000/8000 [==============================] - 0s 10us/step - loss: 0.0019 - BER: 6.2500e-05\nEpoch 920/1000\n8000/8000 [==============================] - 0s 10us/step - loss: 9.8837e-04 - BER: 1.5625e-05\nEpoch 921/1000\n8000/8000 [==============================] - 0s 10us/step - loss: 0.0060 - BER: 1.7187e-04\nEpoch 922/1000\n8000/8000 [==============================] - 0s 9us/step - loss: 0.0038 - BER: 1.2500e-04\nEpoch 923/1000\n8000/8000 [==============================] - 0s 9us/step - loss: 0.0030 - BER: 8.5937e-05\nEpoch 924/1000\n8000/8000 [==============================] - 0s 9us/step - loss: 0.0022 - BER: 6.2500e-05\nEpoch 925/1000\n8000/8000 [==============================] - 0s 9us/step - loss: 0.0031 - BER: 9.3750e-05\nEpoch 926/1000\n8000/8000 [==============================] - 0s 9us/step - loss: 0.0050 - BER: 2.0313e-04\nEpoch 927/1000\n8000/8000 [==============================] - 0s 9us/step - loss: 0.0020 - BER: 9.3750e-05\nEpoch 928/1000\n8000/8000 [==============================] - 0s 9us/step - loss: 0.0017 - BER: 7.8125e-05\nEpoch 929/1000\n8000/8000 [==============================] - 0s 9us/step - loss: 0.0046 - BER: 1.7187e-04\nEpoch 930/1000\n8000/8000 [==============================] - 0s 9us/step - loss: 0.0020 - BER: 9.3750e-05\nEpoch 931/1000\n8000/8000 [==============================] - 0s 9us/step - loss: 0.0027 - BER: 9.3750e-05\nEpoch 932/1000\n8000/8000 [==============================] - 0s 9us/step - loss: 0.0023 - BER: 7.8125e-05\nEpoch 933/1000\n8000/8000 [==============================] - 0s 9us/step - loss: 0.0046 - BER: 1.7187e-04\nEpoch 934/1000\n8000/8000 [==============================] - 0s 9us/step - loss: 0.0021 - BER: 6.2500e-05\nEpoch 935/1000\n8000/8000 [==============================] - 0s 9us/step - loss: 0.0015 - BER: 7.8125e-05\nEpoch 936/1000\n8000/8000 [==============================] - 0s 9us/step - loss: 0.0024 - BER: 7.8125e-05\nEpoch 937/1000\n8000/8000 [==============================] - 0s 9us/step - loss: 0.0019 - BER: 9.3750e-05\nEpoch 938/1000\n8000/8000 [==============================] - 0s 9us/step - loss: 0.0034 - BER: 1.0938e-04\nEpoch 939/1000\n8000/8000 [==============================] - 0s 9us/step - loss: 0.0024 - BER: 1.3281e-04\nEpoch 940/1000\n8000/8000 [==============================] - 0s 9us/step - loss: 0.0057 - BER: 1.5625e-04\nEpoch 941/1000\n8000/8000 [==============================] - 0s 9us/step - loss: 0.0024 - BER: 1.2500e-04\nEpoch 942/1000\n8000/8000 [==============================] - 0s 9us/step - loss: 0.0055 - BER: 1.5625e-04\nEpoch 943/1000\n8000/8000 [==============================] - 0s 9us/step - loss: 0.0037 - BER: 1.2500e-04\nEpoch 944/1000\n8000/8000 [==============================] - 0s 9us/step - loss: 0.0056 - BER: 1.7187e-04\nEpoch 945/1000\n8000/8000 [==============================] - 0s 9us/step - loss: 0.0015 - BER: 4.6875e-05\nEpoch 946/1000\n8000/8000 [==============================] - 0s 9us/step - loss: 0.0029 - BER: 1.0938e-04\nEpoch 947/1000\n8000/8000 [==============================] - 0s 9us/step - loss: 0.0045 - BER: 9.3750e-05\nEpoch 948/1000\n8000/8000 [==============================] - 0s 9us/step - loss: 0.0038 - BER: 1.2500e-04\nEpoch 949/1000\n8000/8000 [==============================] - 0s 9us/step - loss: 0.0026 - BER: 1.0938e-04\nEpoch 950/1000\n8000/8000 [==============================] - 0s 9us/step - loss: 0.0038 - BER: 1.0938e-04\nEpoch 951/1000\n8000/8000 [==============================] - 0s 9us/step - loss: 0.0019 - BER: 7.8125e-05\nEpoch 952/1000\n8000/8000 [==============================] - 0s 9us/step - loss: 0.0026 - BER: 1.4062e-04\nEpoch 953/1000\n8000/8000 [==============================] - 0s 9us/step - loss: 0.0024 - BER: 4.6875e-05\nEpoch 954/1000\n8000/8000 [==============================] - 0s 9us/step - loss: 0.0011 - BER: 6.2500e-05\nEpoch 955/1000\n8000/8000 [==============================] - 0s 10us/step - loss: 0.0023 - BER: 9.3750e-05\nEpoch 956/1000\n8000/8000 [==============================] - 0s 10us/step - loss: 0.0038 - BER: 9.3750e-05\nEpoch 957/1000\n8000/8000 [==============================] - 0s 9us/step - loss: 0.0024 - BER: 9.3750e-05\nEpoch 958/1000\n8000/8000 [==============================] - 0s 9us/step - loss: 0.0038 - BER: 7.8125e-05\nEpoch 959/1000\n8000/8000 [==============================] - 0s 9us/step - loss: 0.0029 - BER: 6.2500e-05\nEpoch 960/1000\n8000/8000 [==============================] - 0s 9us/step - loss: 0.0050 - BER: 1.7187e-04\nEpoch 961/1000\n8000/8000 [==============================] - 0s 9us/step - loss: 0.0058 - BER: 1.7187e-04\nEpoch 962/1000\n8000/8000 [==============================] - 0s 9us/step - loss: 0.0053 - BER: 1.4062e-04\nEpoch 963/1000\n8000/8000 [==============================] - 0s 9us/step - loss: 0.0029 - BER: 9.3750e-05\nEpoch 964/1000\n8000/8000 [==============================] - 0s 10us/step - loss: 0.0063 - BER: 1.8750e-04\nEpoch 965/1000\n8000/8000 [==============================] - 0s 9us/step - loss: 0.0038 - BER: 1.0938e-04\nEpoch 966/1000\n8000/8000 [==============================] - 0s 9us/step - loss: 0.0037 - BER: 1.2500e-04\nEpoch 967/1000\n8000/8000 [==============================] - 0s 10us/step - loss: 0.0022 - BER: 6.2500e-05\nEpoch 968/1000\n8000/8000 [==============================] - 0s 10us/step - loss: 0.0050 - BER: 1.0938e-04\nEpoch 969/1000\n8000/8000 [==============================] - 0s 9us/step - loss: 0.0030 - BER: 1.0156e-04\nEpoch 970/1000\n8000/8000 [==============================] - 0s 9us/step - loss: 0.0013 - BER: 7.8125e-05\nEpoch 971/1000\n8000/8000 [==============================] - 0s 9us/step - loss: 0.0022 - BER: 1.0938e-04\nEpoch 972/1000\n8000/8000 [==============================] - 0s 9us/step - loss: 0.0020 - BER: 6.2500e-05\nEpoch 973/1000\n8000/8000 [==============================] - 0s 9us/step - loss: 0.0028 - BER: 9.3750e-05\nEpoch 974/1000\n8000/8000 [==============================] - 0s 9us/step - loss: 0.0029 - BER: 1.4062e-04\nEpoch 975/1000\n8000/8000 [==============================] - 0s 9us/step - loss: 0.0030 - BER: 1.4062e-04\nEpoch 976/1000\n8000/8000 [==============================] - 0s 9us/step - loss: 0.0027 - BER: 9.3750e-05\nEpoch 977/1000\n8000/8000 [==============================] - 0s 10us/step - loss: 0.0067 - BER: 2.3437e-04\nEpoch 978/1000\n8000/8000 [==============================] - 0s 9us/step - loss: 0.0049 - BER: 1.5625e-04\nEpoch 979/1000\n8000/8000 [==============================] - 0s 9us/step - loss: 0.0022 - BER: 7.8125e-05\nEpoch 980/1000\n8000/8000 [==============================] - 0s 9us/step - loss: 0.0031 - BER: 7.8125e-05\nEpoch 981/1000\n8000/8000 [==============================] - 0s 10us/step - loss: 0.0020 - BER: 6.2500e-05\nEpoch 982/1000\n8000/8000 [==============================] - 0s 9us/step - loss: 0.0033 - BER: 1.0938e-04\nEpoch 983/1000\n8000/8000 [==============================] - 0s 10us/step - loss: 0.0060 - BER: 2.0313e-04\nEpoch 984/1000\n8000/8000 [==============================] - 0s 10us/step - loss: 0.0057 - BER: 2.3437e-04\nEpoch 985/1000\n8000/8000 [==============================] - 0s 9us/step - loss: 0.0035 - BER: 6.2500e-05\nEpoch 986/1000\n8000/8000 [==============================] - 0s 9us/step - loss: 0.0022 - BER: 3.1250e-05\nEpoch 987/1000\n8000/8000 [==============================] - 0s 9us/step - loss: 0.0019 - BER: 1.0938e-04\nEpoch 988/1000\n8000/8000 [==============================] - 0s 9us/step - loss: 0.0040 - BER: 1.0938e-04\nEpoch 989/1000\n8000/8000 [==============================] - 0s 9us/step - loss: 0.0030 - BER: 6.2500e-05\nEpoch 990/1000\n8000/8000 [==============================] - 0s 10us/step - loss: 0.0023 - BER: 6.2500e-05\nEpoch 991/1000\n8000/8000 [==============================] - 0s 10us/step - loss: 0.0016 - BER: 7.8125e-05\nEpoch 992/1000\n8000/8000 [==============================] - 0s 9us/step - loss: 0.0048 - BER: 1.4062e-04\nEpoch 993/1000\n8000/8000 [==============================] - 0s 9us/step - loss: 0.0075 - BER: 1.8750e-04\nEpoch 994/1000\n8000/8000 [==============================] - 0s 9us/step - loss: 0.0028 - BER: 6.2500e-05\nEpoch 995/1000\n8000/8000 [==============================] - 0s 9us/step - loss: 0.0026 - BER: 8.5937e-05\nEpoch 996/1000\n8000/8000 [==============================] - 0s 9us/step - loss: 0.0041 - BER: 1.0938e-04\nEpoch 997/1000\n8000/8000 [==============================] - 0s 9us/step - loss: 0.0024 - BER: 7.8125e-05\nEpoch 998/1000\n8000/8000 [==============================] - 0s 9us/step - loss: 0.0042 - BER: 7.8125e-05\nEpoch 999/1000\n8000/8000 [==============================] - 0s 9us/step - loss: 0.0052 - BER: 1.0938e-04\nEpoch 1000/1000\n8000/8000 [==============================] - 0s 9us/step - loss: 0.0027 - BER: 9.3750e-05\n"
    },
    {
     "output_type": "execute_result",
     "data": {
      "text/plain": "<keras.callbacks.callbacks.History at 0x1ce87169630>"
     },
     "metadata": {},
     "execution_count": 12
    }
   ],
   "source": [
    "# traning auto encoder\n",
    "autoencoder.fit(data, data, \n",
    "                epochs=1000,\n",
    "                batch_size=100)"
   ]
  },
  {
   "cell_type": "code",
   "execution_count": 13,
   "metadata": {
    "collapsed": true
   },
   "outputs": [],
   "source": [
    "# saving keras model\n",
    "from keras.models import load_model\n",
    "# if you want to save model then remove below comment\n",
    "# autoencoder.save('autoencoder_v_best.model')"
   ]
  },
  {
   "cell_type": "code",
   "execution_count": 14,
   "metadata": {
    "collapsed": true
   },
   "outputs": [],
   "source": [
    "# making encoder from full autoencoder\n",
    "encoder = Model(input_signal, encoded2)"
   ]
  },
  {
   "cell_type": "code",
   "execution_count": 15,
   "metadata": {
    "collapsed": true
   },
   "outputs": [],
   "source": [
    "# making decoder from full autoencoder\n",
    "encoded_input = Input(shape=(n_channel,))\n",
    "\n",
    "deco = autoencoder.layers[-2](encoded_input)\n",
    "deco = autoencoder.layers[-1](deco)\n",
    "decoder = Model(encoded_input, deco)"
   ]
  },
  {
   "cell_type": "code",
   "execution_count": 16,
   "metadata": {
    "collapsed": true
   },
   "outputs": [],
   "source": [
    "# generating data for checking BER\n",
    "# if you're not using t-sne for visulation than set N to 70,000 for better result \n",
    "# for t-sne use less N like N = 1500\n",
    "N = 100000\n",
    "test_label = np.random.randint(M,size=N)\n",
    "test_data = []\n",
    "\n",
    "for i in test_label:\n",
    "    temp = np.zeros(M)\n",
    "    temp[i] = 1\n",
    "    test_data.append(temp)\n",
    "    \n",
    "test_data = np.array(test_data)"
   ]
  },
  {
   "cell_type": "code",
   "execution_count": 17,
   "metadata": {
    "tags": []
   },
   "outputs": [
    {
     "output_type": "stream",
     "name": "stdout",
     "text": "1.0 15\n"
    }
   ],
   "source": [
    "# checking generated data\n",
    "temp_test = 6\n",
    "print (test_data[temp_test][test_label[temp_test]],test_label[temp_test])"
   ]
  },
  {
   "cell_type": "code",
   "execution_count": 18,
   "metadata": {
    "tags": []
   },
   "outputs": [
    {
     "output_type": "stream",
     "name": "stdout",
     "text": "(16, 1, 7)\n"
    }
   ],
   "source": [
    "# for plotting learned consteallation diagram\n",
    "\n",
    "scatter_plot = []\n",
    "for i in range(0,M):\n",
    "    temp = np.zeros(M)\n",
    "    temp[i] = 1\n",
    "    scatter_plot.append(encoder.predict(np.expand_dims(temp,axis=0)))\n",
    "scatter_plot = np.array(scatter_plot)\n",
    "print (scatter_plot.shape)"
   ]
  },
  {
   "cell_type": "code",
   "execution_count": 19,
   "metadata": {},
   "outputs": [
    {
     "output_type": "execute_result",
     "data": {
      "text/plain": "'\\nx_emb = encoder.predict(test_data)\\nnoise_std = np.sqrt(1/(2*R*EbNo_train))\\nnoise = noise_std * np.random.randn(N,n_channel)\\nx_emb = x_emb + noise\\nfrom sklearn.manifold import TSNE\\nX_embedded = TSNE(learning_rate=700, n_components=2,n_iter=35000, random_state=0, perplexity=60).fit_transform(x_emb)\\nprint (X_embedded.shape)\\nX_embedded = X_embedded / 7\\nimport matplotlib.pyplot as plt\\nplt.scatter(X_embedded[:,0],X_embedded[:,1])\\n#plt.axis((-2.5,2.5,-2.5,2.5)) \\nplt.grid()\\nplt.show()\\n'"
     },
     "metadata": {},
     "execution_count": 19
    }
   ],
   "source": [
    " # use this function for ploting constellation for higher dimenson like 7-D for (7,4) autoencoder \n",
    "'''\n",
    "x_emb = encoder.predict(test_data)\n",
    "noise_std = np.sqrt(1/(2*R*EbNo_train))\n",
    "noise = noise_std * np.random.randn(N,n_channel)\n",
    "x_emb = x_emb + noise\n",
    "from sklearn.manifold import TSNE\n",
    "X_embedded = TSNE(learning_rate=700, n_components=2,n_iter=35000, random_state=0, perplexity=60).fit_transform(x_emb)\n",
    "print (X_embedded.shape)\n",
    "X_embedded = X_embedded / 7\n",
    "import matplotlib.pyplot as plt\n",
    "plt.scatter(X_embedded[:,0],X_embedded[:,1])\n",
    "#plt.axis((-2.5,2.5,-2.5,2.5)) \n",
    "plt.grid()\n",
    "plt.show()\n",
    "'''"
   ]
  },
  {
   "cell_type": "code",
   "execution_count": 20,
   "metadata": {},
   "outputs": [
    {
     "output_type": "error",
     "ename": "ValueError",
     "evalue": "cannot reshape array of size 112 into shape (16,2,1)",
     "traceback": [
      "\u001b[1;31m---------------------------------------------------------------------------\u001b[0m",
      "\u001b[1;31mValueError\u001b[0m                                Traceback (most recent call last)",
      "\u001b[1;32m<ipython-input-20-63c57f73eed8>\u001b[0m in \u001b[0;36m<module>\u001b[1;34m\u001b[0m\n\u001b[0;32m      1\u001b[0m \u001b[1;31m# ploting constellation diagram\u001b[0m\u001b[1;33m\u001b[0m\u001b[1;33m\u001b[0m\u001b[0m\n\u001b[0;32m      2\u001b[0m \u001b[1;32mimport\u001b[0m \u001b[0mmatplotlib\u001b[0m\u001b[1;33m.\u001b[0m\u001b[0mpyplot\u001b[0m \u001b[1;32mas\u001b[0m \u001b[0mplt\u001b[0m\u001b[1;33m\u001b[0m\u001b[0m\n\u001b[1;32m----> 3\u001b[1;33m \u001b[0mscatter_plot\u001b[0m \u001b[1;33m=\u001b[0m \u001b[0mscatter_plot\u001b[0m\u001b[1;33m.\u001b[0m\u001b[0mreshape\u001b[0m\u001b[1;33m(\u001b[0m\u001b[0mM\u001b[0m\u001b[1;33m,\u001b[0m\u001b[1;36m2\u001b[0m\u001b[1;33m,\u001b[0m\u001b[1;36m1\u001b[0m\u001b[1;33m)\u001b[0m\u001b[1;33m\u001b[0m\u001b[0m\n\u001b[0m\u001b[0;32m      4\u001b[0m \u001b[0mplt\u001b[0m\u001b[1;33m.\u001b[0m\u001b[0mscatter\u001b[0m\u001b[1;33m(\u001b[0m\u001b[0mscatter_plot\u001b[0m\u001b[1;33m[\u001b[0m\u001b[1;33m:\u001b[0m\u001b[1;33m,\u001b[0m\u001b[1;36m0\u001b[0m\u001b[1;33m]\u001b[0m\u001b[1;33m,\u001b[0m\u001b[0mscatter_plot\u001b[0m\u001b[1;33m[\u001b[0m\u001b[1;33m:\u001b[0m\u001b[1;33m,\u001b[0m\u001b[1;36m1\u001b[0m\u001b[1;33m]\u001b[0m\u001b[1;33m)\u001b[0m\u001b[1;33m\u001b[0m\u001b[0m\n\u001b[0;32m      5\u001b[0m \u001b[0mplt\u001b[0m\u001b[1;33m.\u001b[0m\u001b[0maxis\u001b[0m\u001b[1;33m(\u001b[0m\u001b[1;33m(\u001b[0m\u001b[1;33m-\u001b[0m\u001b[1;36m2.5\u001b[0m\u001b[1;33m,\u001b[0m\u001b[1;36m2.5\u001b[0m\u001b[1;33m,\u001b[0m\u001b[1;33m-\u001b[0m\u001b[1;36m2.5\u001b[0m\u001b[1;33m,\u001b[0m\u001b[1;36m2.5\u001b[0m\u001b[1;33m)\u001b[0m\u001b[1;33m)\u001b[0m\u001b[1;33m\u001b[0m\u001b[0m\n",
      "\u001b[1;31mValueError\u001b[0m: cannot reshape array of size 112 into shape (16,2,1)"
     ]
    }
   ],
   "source": [
    "# ploting constellation diagram\n",
    "import matplotlib.pyplot as plt\n",
    "scatter_plot = scatter_plot.reshape(M,2,1)\n",
    "plt.scatter(scatter_plot[:,0],scatter_plot[:,1])\n",
    "plt.axis((-2.5,2.5,-2.5,2.5))\n",
    "plt.grid()\n",
    "plt.show()"
   ]
  },
  {
   "cell_type": "code",
   "execution_count": 21,
   "metadata": {
    "collapsed": true
   },
   "outputs": [],
   "source": [
    "def frange(x, y, jump):\n",
    "  while x < y:\n",
    "    yield x\n",
    "    x += jump"
   ]
  },
  {
   "cell_type": "code",
   "execution_count": 22,
   "metadata": {
    "tags": []
   },
   "outputs": [
    {
     "output_type": "stream",
     "name": "stdout",
     "text": "SNR: -4 BER: 0.50718\nSNR: -3.5 BER: 0.47279\nSNR: -3.0 BER: 0.43511\nSNR: -2.5 BER: 0.39798\nSNR: -2.0 BER: 0.36021\nSNR: -1.5 BER: 0.32117\nSNR: -1.0 BER: 0.27932\nSNR: -0.5 BER: 0.24353\nSNR: 0.0 BER: 0.20339\nSNR: 0.5 BER: 0.17182\nSNR: 1.0 BER: 0.13981\nSNR: 1.5 BER: 0.10907\nSNR: 2.0 BER: 0.08206\nSNR: 2.5 BER: 0.06116\nSNR: 3.0 BER: 0.04366\nSNR: 3.5 BER: 0.03034\nSNR: 4.0 BER: 0.01931\nSNR: 4.5 BER: 0.01266\nSNR: 5.0 BER: 0.00747\nSNR: 5.5 BER: 0.00419\nSNR: 6.0 BER: 0.00231\nSNR: 6.5 BER: 0.00123\nSNR: 7.0 BER: 0.00047\nSNR: 7.5 BER: 0.00028\nSNR: 8.0 BER: 0.0001\nSNR: 8.5 BER: 3e-05\nSNR: 9.0 BER: 1e-05\nSNR: 9.5 BER: 1e-05\nSNR: 10.0 BER: 0.0\n"
    }
   ],
   "source": [
    "# calculating BER\n",
    "# this is optimized BER function so it can handle large number of N\n",
    "# previous code has another for loop which was making it slow\n",
    "EbNodB_range = list(frange(-4,10.5,0.5))\n",
    "ber = [None]*len(EbNodB_range)\n",
    "for n in range(0,len(EbNodB_range)):\n",
    "    EbNo=10.0**(EbNodB_range[n]/10.0)\n",
    "    noise_std = np.sqrt(1/(2*R*EbNo))\n",
    "    noise_mean = 0\n",
    "    no_errors = 0\n",
    "    nn = N\n",
    "    noise = noise_std * np.random.randn(nn,n_channel)\n",
    "    encoded_signal = encoder.predict(test_data) \n",
    "    final_signal = encoded_signal + noise\n",
    "    pred_final_signal =  decoder.predict(final_signal)\n",
    "    pred_output = np.argmax(pred_final_signal,axis=1)\n",
    "    no_errors = (pred_output != test_label)\n",
    "    no_errors =  no_errors.astype(int).sum()\n",
    "    ber[n] = no_errors / nn \n",
    "    print ('SNR:',EbNodB_range[n],'BER:',ber[n])\n",
    "    # use below line for generating matlab like matrix which can be copy and paste for plotting ber graph in matlab\n",
    "    #print(ber[n], \" \",end='')"
   ]
  },
  {
   "cell_type": "code",
   "execution_count": 23,
   "metadata": {},
   "outputs": [
    {
     "output_type": "execute_result",
     "data": {
      "text/plain": "<matplotlib.legend.Legend at 0x1ce8c572a90>"
     },
     "metadata": {},
     "execution_count": 23
    },
    {
     "output_type": "display_data",
     "data": {
      "text/plain": "<Figure size 432x288 with 1 Axes>",
      "image/svg+xml": "<?xml version=\"1.0\" encoding=\"utf-8\" standalone=\"no\"?>\r\n<!DOCTYPE svg PUBLIC \"-//W3C//DTD SVG 1.1//EN\"\r\n  \"http://www.w3.org/Graphics/SVG/1.1/DTD/svg11.dtd\">\r\n<!-- Created with matplotlib (https://matplotlib.org/) -->\r\n<svg height=\"262.19625pt\" version=\"1.1\" viewBox=\"0 0 393.378125 262.19625\" width=\"393.378125pt\" xmlns=\"http://www.w3.org/2000/svg\" xmlns:xlink=\"http://www.w3.org/1999/xlink\">\r\n <defs>\r\n  <style type=\"text/css\">\r\n*{stroke-linecap:butt;stroke-linejoin:round;}\r\n  </style>\r\n </defs>\r\n <g id=\"figure_1\">\r\n  <g id=\"patch_1\">\r\n   <path d=\"M 0 262.19625 \r\nL 393.378125 262.19625 \r\nL 393.378125 0 \r\nL 0 0 \r\nz\r\n\" style=\"fill:none;\"/>\r\n  </g>\r\n  <g id=\"axes_1\">\r\n   <g id=\"patch_2\">\r\n    <path d=\"M 51.378125 224.64 \r\nL 386.178125 224.64 \r\nL 386.178125 7.2 \r\nL 51.378125 7.2 \r\nz\r\n\" style=\"fill:#ffffff;\"/>\r\n   </g>\r\n   <g id=\"matplotlib.axis_1\">\r\n    <g id=\"xtick_1\">\r\n     <g id=\"line2d_1\">\r\n      <path clip-path=\"url(#p169a9e45fc)\" d=\"M 66.596307 224.64 \r\nL 66.596307 7.2 \r\n\" style=\"fill:none;stroke:#b0b0b0;stroke-linecap:square;stroke-width:0.8;\"/>\r\n     </g>\r\n     <g id=\"line2d_2\">\r\n      <defs>\r\n       <path d=\"M 0 0 \r\nL 0 3.5 \r\n\" id=\"m179960591b\" style=\"stroke:#000000;stroke-width:0.8;\"/>\r\n      </defs>\r\n      <g>\r\n       <use style=\"stroke:#000000;stroke-width:0.8;\" x=\"66.596307\" xlink:href=\"#m179960591b\" y=\"224.64\"/>\r\n      </g>\r\n     </g>\r\n     <g id=\"text_1\">\r\n      <!-- −4 -->\r\n      <defs>\r\n       <path d=\"M 10.59375 35.5 \r\nL 73.1875 35.5 \r\nL 73.1875 27.203125 \r\nL 10.59375 27.203125 \r\nz\r\n\" id=\"DejaVuSans-8722\"/>\r\n       <path d=\"M 37.796875 64.3125 \r\nL 12.890625 25.390625 \r\nL 37.796875 25.390625 \r\nz\r\nM 35.203125 72.90625 \r\nL 47.609375 72.90625 \r\nL 47.609375 25.390625 \r\nL 58.015625 25.390625 \r\nL 58.015625 17.1875 \r\nL 47.609375 17.1875 \r\nL 47.609375 0 \r\nL 37.796875 0 \r\nL 37.796875 17.1875 \r\nL 4.890625 17.1875 \r\nL 4.890625 26.703125 \r\nz\r\n\" id=\"DejaVuSans-52\"/>\r\n      </defs>\r\n      <g transform=\"translate(59.225213 239.238437)scale(0.1 -0.1)\">\r\n       <use xlink:href=\"#DejaVuSans-8722\"/>\r\n       <use x=\"83.789062\" xlink:href=\"#DejaVuSans-52\"/>\r\n      </g>\r\n     </g>\r\n    </g>\r\n    <g id=\"xtick_2\">\r\n     <g id=\"line2d_3\">\r\n      <path clip-path=\"url(#p169a9e45fc)\" d=\"M 110.076826 224.64 \r\nL 110.076826 7.2 \r\n\" style=\"fill:none;stroke:#b0b0b0;stroke-linecap:square;stroke-width:0.8;\"/>\r\n     </g>\r\n     <g id=\"line2d_4\">\r\n      <g>\r\n       <use style=\"stroke:#000000;stroke-width:0.8;\" x=\"110.076826\" xlink:href=\"#m179960591b\" y=\"224.64\"/>\r\n      </g>\r\n     </g>\r\n     <g id=\"text_2\">\r\n      <!-- −2 -->\r\n      <defs>\r\n       <path d=\"M 19.1875 8.296875 \r\nL 53.609375 8.296875 \r\nL 53.609375 0 \r\nL 7.328125 0 \r\nL 7.328125 8.296875 \r\nQ 12.9375 14.109375 22.625 23.890625 \r\nQ 32.328125 33.6875 34.8125 36.53125 \r\nQ 39.546875 41.84375 41.421875 45.53125 \r\nQ 43.3125 49.21875 43.3125 52.78125 \r\nQ 43.3125 58.59375 39.234375 62.25 \r\nQ 35.15625 65.921875 28.609375 65.921875 \r\nQ 23.96875 65.921875 18.8125 64.3125 \r\nQ 13.671875 62.703125 7.8125 59.421875 \r\nL 7.8125 69.390625 \r\nQ 13.765625 71.78125 18.9375 73 \r\nQ 24.125 74.21875 28.421875 74.21875 \r\nQ 39.75 74.21875 46.484375 68.546875 \r\nQ 53.21875 62.890625 53.21875 53.421875 \r\nQ 53.21875 48.921875 51.53125 44.890625 \r\nQ 49.859375 40.875 45.40625 35.40625 \r\nQ 44.1875 33.984375 37.640625 27.21875 \r\nQ 31.109375 20.453125 19.1875 8.296875 \r\nz\r\n\" id=\"DejaVuSans-50\"/>\r\n      </defs>\r\n      <g transform=\"translate(102.705733 239.238437)scale(0.1 -0.1)\">\r\n       <use xlink:href=\"#DejaVuSans-8722\"/>\r\n       <use x=\"83.789062\" xlink:href=\"#DejaVuSans-50\"/>\r\n      </g>\r\n     </g>\r\n    </g>\r\n    <g id=\"xtick_3\">\r\n     <g id=\"line2d_5\">\r\n      <path clip-path=\"url(#p169a9e45fc)\" d=\"M 153.557346 224.64 \r\nL 153.557346 7.2 \r\n\" style=\"fill:none;stroke:#b0b0b0;stroke-linecap:square;stroke-width:0.8;\"/>\r\n     </g>\r\n     <g id=\"line2d_6\">\r\n      <g>\r\n       <use style=\"stroke:#000000;stroke-width:0.8;\" x=\"153.557346\" xlink:href=\"#m179960591b\" y=\"224.64\"/>\r\n      </g>\r\n     </g>\r\n     <g id=\"text_3\">\r\n      <!-- 0 -->\r\n      <defs>\r\n       <path d=\"M 31.78125 66.40625 \r\nQ 24.171875 66.40625 20.328125 58.90625 \r\nQ 16.5 51.421875 16.5 36.375 \r\nQ 16.5 21.390625 20.328125 13.890625 \r\nQ 24.171875 6.390625 31.78125 6.390625 \r\nQ 39.453125 6.390625 43.28125 13.890625 \r\nQ 47.125 21.390625 47.125 36.375 \r\nQ 47.125 51.421875 43.28125 58.90625 \r\nQ 39.453125 66.40625 31.78125 66.40625 \r\nz\r\nM 31.78125 74.21875 \r\nQ 44.046875 74.21875 50.515625 64.515625 \r\nQ 56.984375 54.828125 56.984375 36.375 \r\nQ 56.984375 17.96875 50.515625 8.265625 \r\nQ 44.046875 -1.421875 31.78125 -1.421875 \r\nQ 19.53125 -1.421875 13.0625 8.265625 \r\nQ 6.59375 17.96875 6.59375 36.375 \r\nQ 6.59375 54.828125 13.0625 64.515625 \r\nQ 19.53125 74.21875 31.78125 74.21875 \r\nz\r\n\" id=\"DejaVuSans-48\"/>\r\n      </defs>\r\n      <g transform=\"translate(150.376096 239.238437)scale(0.1 -0.1)\">\r\n       <use xlink:href=\"#DejaVuSans-48\"/>\r\n      </g>\r\n     </g>\r\n    </g>\r\n    <g id=\"xtick_4\">\r\n     <g id=\"line2d_7\">\r\n      <path clip-path=\"url(#p169a9e45fc)\" d=\"M 197.037865 224.64 \r\nL 197.037865 7.2 \r\n\" style=\"fill:none;stroke:#b0b0b0;stroke-linecap:square;stroke-width:0.8;\"/>\r\n     </g>\r\n     <g id=\"line2d_8\">\r\n      <g>\r\n       <use style=\"stroke:#000000;stroke-width:0.8;\" x=\"197.037865\" xlink:href=\"#m179960591b\" y=\"224.64\"/>\r\n      </g>\r\n     </g>\r\n     <g id=\"text_4\">\r\n      <!-- 2 -->\r\n      <g transform=\"translate(193.856615 239.238437)scale(0.1 -0.1)\">\r\n       <use xlink:href=\"#DejaVuSans-50\"/>\r\n      </g>\r\n     </g>\r\n    </g>\r\n    <g id=\"xtick_5\">\r\n     <g id=\"line2d_9\">\r\n      <path clip-path=\"url(#p169a9e45fc)\" d=\"M 240.518385 224.64 \r\nL 240.518385 7.2 \r\n\" style=\"fill:none;stroke:#b0b0b0;stroke-linecap:square;stroke-width:0.8;\"/>\r\n     </g>\r\n     <g id=\"line2d_10\">\r\n      <g>\r\n       <use style=\"stroke:#000000;stroke-width:0.8;\" x=\"240.518385\" xlink:href=\"#m179960591b\" y=\"224.64\"/>\r\n      </g>\r\n     </g>\r\n     <g id=\"text_5\">\r\n      <!-- 4 -->\r\n      <g transform=\"translate(237.337135 239.238437)scale(0.1 -0.1)\">\r\n       <use xlink:href=\"#DejaVuSans-52\"/>\r\n      </g>\r\n     </g>\r\n    </g>\r\n    <g id=\"xtick_6\">\r\n     <g id=\"line2d_11\">\r\n      <path clip-path=\"url(#p169a9e45fc)\" d=\"M 283.998904 224.64 \r\nL 283.998904 7.2 \r\n\" style=\"fill:none;stroke:#b0b0b0;stroke-linecap:square;stroke-width:0.8;\"/>\r\n     </g>\r\n     <g id=\"line2d_12\">\r\n      <g>\r\n       <use style=\"stroke:#000000;stroke-width:0.8;\" x=\"283.998904\" xlink:href=\"#m179960591b\" y=\"224.64\"/>\r\n      </g>\r\n     </g>\r\n     <g id=\"text_6\">\r\n      <!-- 6 -->\r\n      <defs>\r\n       <path d=\"M 33.015625 40.375 \r\nQ 26.375 40.375 22.484375 35.828125 \r\nQ 18.609375 31.296875 18.609375 23.390625 \r\nQ 18.609375 15.53125 22.484375 10.953125 \r\nQ 26.375 6.390625 33.015625 6.390625 \r\nQ 39.65625 6.390625 43.53125 10.953125 \r\nQ 47.40625 15.53125 47.40625 23.390625 \r\nQ 47.40625 31.296875 43.53125 35.828125 \r\nQ 39.65625 40.375 33.015625 40.375 \r\nz\r\nM 52.59375 71.296875 \r\nL 52.59375 62.3125 \r\nQ 48.875 64.0625 45.09375 64.984375 \r\nQ 41.3125 65.921875 37.59375 65.921875 \r\nQ 27.828125 65.921875 22.671875 59.328125 \r\nQ 17.53125 52.734375 16.796875 39.40625 \r\nQ 19.671875 43.65625 24.015625 45.921875 \r\nQ 28.375 48.1875 33.59375 48.1875 \r\nQ 44.578125 48.1875 50.953125 41.515625 \r\nQ 57.328125 34.859375 57.328125 23.390625 \r\nQ 57.328125 12.15625 50.6875 5.359375 \r\nQ 44.046875 -1.421875 33.015625 -1.421875 \r\nQ 20.359375 -1.421875 13.671875 8.265625 \r\nQ 6.984375 17.96875 6.984375 36.375 \r\nQ 6.984375 53.65625 15.1875 63.9375 \r\nQ 23.390625 74.21875 37.203125 74.21875 \r\nQ 40.921875 74.21875 44.703125 73.484375 \r\nQ 48.484375 72.75 52.59375 71.296875 \r\nz\r\n\" id=\"DejaVuSans-54\"/>\r\n      </defs>\r\n      <g transform=\"translate(280.817654 239.238437)scale(0.1 -0.1)\">\r\n       <use xlink:href=\"#DejaVuSans-54\"/>\r\n      </g>\r\n     </g>\r\n    </g>\r\n    <g id=\"xtick_7\">\r\n     <g id=\"line2d_13\">\r\n      <path clip-path=\"url(#p169a9e45fc)\" d=\"M 327.479424 224.64 \r\nL 327.479424 7.2 \r\n\" style=\"fill:none;stroke:#b0b0b0;stroke-linecap:square;stroke-width:0.8;\"/>\r\n     </g>\r\n     <g id=\"line2d_14\">\r\n      <g>\r\n       <use style=\"stroke:#000000;stroke-width:0.8;\" x=\"327.479424\" xlink:href=\"#m179960591b\" y=\"224.64\"/>\r\n      </g>\r\n     </g>\r\n     <g id=\"text_7\">\r\n      <!-- 8 -->\r\n      <defs>\r\n       <path d=\"M 31.78125 34.625 \r\nQ 24.75 34.625 20.71875 30.859375 \r\nQ 16.703125 27.09375 16.703125 20.515625 \r\nQ 16.703125 13.921875 20.71875 10.15625 \r\nQ 24.75 6.390625 31.78125 6.390625 \r\nQ 38.8125 6.390625 42.859375 10.171875 \r\nQ 46.921875 13.96875 46.921875 20.515625 \r\nQ 46.921875 27.09375 42.890625 30.859375 \r\nQ 38.875 34.625 31.78125 34.625 \r\nz\r\nM 21.921875 38.8125 \r\nQ 15.578125 40.375 12.03125 44.71875 \r\nQ 8.5 49.078125 8.5 55.328125 \r\nQ 8.5 64.0625 14.71875 69.140625 \r\nQ 20.953125 74.21875 31.78125 74.21875 \r\nQ 42.671875 74.21875 48.875 69.140625 \r\nQ 55.078125 64.0625 55.078125 55.328125 \r\nQ 55.078125 49.078125 51.53125 44.71875 \r\nQ 48 40.375 41.703125 38.8125 \r\nQ 48.828125 37.15625 52.796875 32.3125 \r\nQ 56.78125 27.484375 56.78125 20.515625 \r\nQ 56.78125 9.90625 50.3125 4.234375 \r\nQ 43.84375 -1.421875 31.78125 -1.421875 \r\nQ 19.734375 -1.421875 13.25 4.234375 \r\nQ 6.78125 9.90625 6.78125 20.515625 \r\nQ 6.78125 27.484375 10.78125 32.3125 \r\nQ 14.796875 37.15625 21.921875 38.8125 \r\nz\r\nM 18.3125 54.390625 \r\nQ 18.3125 48.734375 21.84375 45.5625 \r\nQ 25.390625 42.390625 31.78125 42.390625 \r\nQ 38.140625 42.390625 41.71875 45.5625 \r\nQ 45.3125 48.734375 45.3125 54.390625 \r\nQ 45.3125 60.0625 41.71875 63.234375 \r\nQ 38.140625 66.40625 31.78125 66.40625 \r\nQ 25.390625 66.40625 21.84375 63.234375 \r\nQ 18.3125 60.0625 18.3125 54.390625 \r\nz\r\n\" id=\"DejaVuSans-56\"/>\r\n      </defs>\r\n      <g transform=\"translate(324.298174 239.238437)scale(0.1 -0.1)\">\r\n       <use xlink:href=\"#DejaVuSans-56\"/>\r\n      </g>\r\n     </g>\r\n    </g>\r\n    <g id=\"xtick_8\">\r\n     <g id=\"line2d_15\">\r\n      <path clip-path=\"url(#p169a9e45fc)\" d=\"M 370.959943 224.64 \r\nL 370.959943 7.2 \r\n\" style=\"fill:none;stroke:#b0b0b0;stroke-linecap:square;stroke-width:0.8;\"/>\r\n     </g>\r\n     <g id=\"line2d_16\">\r\n      <g>\r\n       <use style=\"stroke:#000000;stroke-width:0.8;\" x=\"370.959943\" xlink:href=\"#m179960591b\" y=\"224.64\"/>\r\n      </g>\r\n     </g>\r\n     <g id=\"text_8\">\r\n      <!-- 10 -->\r\n      <defs>\r\n       <path d=\"M 12.40625 8.296875 \r\nL 28.515625 8.296875 \r\nL 28.515625 63.921875 \r\nL 10.984375 60.40625 \r\nL 10.984375 69.390625 \r\nL 28.421875 72.90625 \r\nL 38.28125 72.90625 \r\nL 38.28125 8.296875 \r\nL 54.390625 8.296875 \r\nL 54.390625 0 \r\nL 12.40625 0 \r\nz\r\n\" id=\"DejaVuSans-49\"/>\r\n      </defs>\r\n      <g transform=\"translate(364.597443 239.238437)scale(0.1 -0.1)\">\r\n       <use xlink:href=\"#DejaVuSans-49\"/>\r\n       <use x=\"63.623047\" xlink:href=\"#DejaVuSans-48\"/>\r\n      </g>\r\n     </g>\r\n    </g>\r\n    <g id=\"text_9\">\r\n     <!-- SNR Range -->\r\n     <defs>\r\n      <path d=\"M 53.515625 70.515625 \r\nL 53.515625 60.890625 \r\nQ 47.90625 63.578125 42.921875 64.890625 \r\nQ 37.9375 66.21875 33.296875 66.21875 \r\nQ 25.25 66.21875 20.875 63.09375 \r\nQ 16.5 59.96875 16.5 54.203125 \r\nQ 16.5 49.359375 19.40625 46.890625 \r\nQ 22.3125 44.4375 30.421875 42.921875 \r\nL 36.375 41.703125 \r\nQ 47.40625 39.59375 52.65625 34.296875 \r\nQ 57.90625 29 57.90625 20.125 \r\nQ 57.90625 9.515625 50.796875 4.046875 \r\nQ 43.703125 -1.421875 29.984375 -1.421875 \r\nQ 24.8125 -1.421875 18.96875 -0.25 \r\nQ 13.140625 0.921875 6.890625 3.21875 \r\nL 6.890625 13.375 \r\nQ 12.890625 10.015625 18.65625 8.296875 \r\nQ 24.421875 6.59375 29.984375 6.59375 \r\nQ 38.421875 6.59375 43.015625 9.90625 \r\nQ 47.609375 13.234375 47.609375 19.390625 \r\nQ 47.609375 24.75 44.3125 27.78125 \r\nQ 41.015625 30.8125 33.5 32.328125 \r\nL 27.484375 33.5 \r\nQ 16.453125 35.6875 11.515625 40.375 \r\nQ 6.59375 45.0625 6.59375 53.421875 \r\nQ 6.59375 63.09375 13.40625 68.65625 \r\nQ 20.21875 74.21875 32.171875 74.21875 \r\nQ 37.3125 74.21875 42.625 73.28125 \r\nQ 47.953125 72.359375 53.515625 70.515625 \r\nz\r\n\" id=\"DejaVuSans-83\"/>\r\n      <path d=\"M 9.8125 72.90625 \r\nL 23.09375 72.90625 \r\nL 55.421875 11.921875 \r\nL 55.421875 72.90625 \r\nL 64.984375 72.90625 \r\nL 64.984375 0 \r\nL 51.703125 0 \r\nL 19.390625 60.984375 \r\nL 19.390625 0 \r\nL 9.8125 0 \r\nz\r\n\" id=\"DejaVuSans-78\"/>\r\n      <path d=\"M 44.390625 34.1875 \r\nQ 47.5625 33.109375 50.5625 29.59375 \r\nQ 53.5625 26.078125 56.59375 19.921875 \r\nL 66.609375 0 \r\nL 56 0 \r\nL 46.6875 18.703125 \r\nQ 43.0625 26.03125 39.671875 28.421875 \r\nQ 36.28125 30.8125 30.421875 30.8125 \r\nL 19.671875 30.8125 \r\nL 19.671875 0 \r\nL 9.8125 0 \r\nL 9.8125 72.90625 \r\nL 32.078125 72.90625 \r\nQ 44.578125 72.90625 50.734375 67.671875 \r\nQ 56.890625 62.453125 56.890625 51.90625 \r\nQ 56.890625 45.015625 53.6875 40.46875 \r\nQ 50.484375 35.9375 44.390625 34.1875 \r\nz\r\nM 19.671875 64.796875 \r\nL 19.671875 38.921875 \r\nL 32.078125 38.921875 \r\nQ 39.203125 38.921875 42.84375 42.21875 \r\nQ 46.484375 45.515625 46.484375 51.90625 \r\nQ 46.484375 58.296875 42.84375 61.546875 \r\nQ 39.203125 64.796875 32.078125 64.796875 \r\nz\r\n\" id=\"DejaVuSans-82\"/>\r\n      <path id=\"DejaVuSans-32\"/>\r\n      <path d=\"M 34.28125 27.484375 \r\nQ 23.390625 27.484375 19.1875 25 \r\nQ 14.984375 22.515625 14.984375 16.5 \r\nQ 14.984375 11.71875 18.140625 8.90625 \r\nQ 21.296875 6.109375 26.703125 6.109375 \r\nQ 34.1875 6.109375 38.703125 11.40625 \r\nQ 43.21875 16.703125 43.21875 25.484375 \r\nL 43.21875 27.484375 \r\nz\r\nM 52.203125 31.203125 \r\nL 52.203125 0 \r\nL 43.21875 0 \r\nL 43.21875 8.296875 \r\nQ 40.140625 3.328125 35.546875 0.953125 \r\nQ 30.953125 -1.421875 24.3125 -1.421875 \r\nQ 15.921875 -1.421875 10.953125 3.296875 \r\nQ 6 8.015625 6 15.921875 \r\nQ 6 25.140625 12.171875 29.828125 \r\nQ 18.359375 34.515625 30.609375 34.515625 \r\nL 43.21875 34.515625 \r\nL 43.21875 35.40625 \r\nQ 43.21875 41.609375 39.140625 45 \r\nQ 35.0625 48.390625 27.6875 48.390625 \r\nQ 23 48.390625 18.546875 47.265625 \r\nQ 14.109375 46.140625 10.015625 43.890625 \r\nL 10.015625 52.203125 \r\nQ 14.9375 54.109375 19.578125 55.046875 \r\nQ 24.21875 56 28.609375 56 \r\nQ 40.484375 56 46.34375 49.84375 \r\nQ 52.203125 43.703125 52.203125 31.203125 \r\nz\r\n\" id=\"DejaVuSans-97\"/>\r\n      <path d=\"M 54.890625 33.015625 \r\nL 54.890625 0 \r\nL 45.90625 0 \r\nL 45.90625 32.71875 \r\nQ 45.90625 40.484375 42.875 44.328125 \r\nQ 39.84375 48.1875 33.796875 48.1875 \r\nQ 26.515625 48.1875 22.3125 43.546875 \r\nQ 18.109375 38.921875 18.109375 30.90625 \r\nL 18.109375 0 \r\nL 9.078125 0 \r\nL 9.078125 54.6875 \r\nL 18.109375 54.6875 \r\nL 18.109375 46.1875 \r\nQ 21.34375 51.125 25.703125 53.5625 \r\nQ 30.078125 56 35.796875 56 \r\nQ 45.21875 56 50.046875 50.171875 \r\nQ 54.890625 44.34375 54.890625 33.015625 \r\nz\r\n\" id=\"DejaVuSans-110\"/>\r\n      <path d=\"M 45.40625 27.984375 \r\nQ 45.40625 37.75 41.375 43.109375 \r\nQ 37.359375 48.484375 30.078125 48.484375 \r\nQ 22.859375 48.484375 18.828125 43.109375 \r\nQ 14.796875 37.75 14.796875 27.984375 \r\nQ 14.796875 18.265625 18.828125 12.890625 \r\nQ 22.859375 7.515625 30.078125 7.515625 \r\nQ 37.359375 7.515625 41.375 12.890625 \r\nQ 45.40625 18.265625 45.40625 27.984375 \r\nz\r\nM 54.390625 6.78125 \r\nQ 54.390625 -7.171875 48.1875 -13.984375 \r\nQ 42 -20.796875 29.203125 -20.796875 \r\nQ 24.46875 -20.796875 20.265625 -20.09375 \r\nQ 16.0625 -19.390625 12.109375 -17.921875 \r\nL 12.109375 -9.1875 \r\nQ 16.0625 -11.328125 19.921875 -12.34375 \r\nQ 23.78125 -13.375 27.78125 -13.375 \r\nQ 36.625 -13.375 41.015625 -8.765625 \r\nQ 45.40625 -4.15625 45.40625 5.171875 \r\nL 45.40625 9.625 \r\nQ 42.625 4.78125 38.28125 2.390625 \r\nQ 33.9375 0 27.875 0 \r\nQ 17.828125 0 11.671875 7.65625 \r\nQ 5.515625 15.328125 5.515625 27.984375 \r\nQ 5.515625 40.671875 11.671875 48.328125 \r\nQ 17.828125 56 27.875 56 \r\nQ 33.9375 56 38.28125 53.609375 \r\nQ 42.625 51.21875 45.40625 46.390625 \r\nL 45.40625 54.6875 \r\nL 54.390625 54.6875 \r\nz\r\n\" id=\"DejaVuSans-103\"/>\r\n      <path d=\"M 56.203125 29.59375 \r\nL 56.203125 25.203125 \r\nL 14.890625 25.203125 \r\nQ 15.484375 15.921875 20.484375 11.0625 \r\nQ 25.484375 6.203125 34.421875 6.203125 \r\nQ 39.59375 6.203125 44.453125 7.46875 \r\nQ 49.3125 8.734375 54.109375 11.28125 \r\nL 54.109375 2.78125 \r\nQ 49.265625 0.734375 44.1875 -0.34375 \r\nQ 39.109375 -1.421875 33.890625 -1.421875 \r\nQ 20.796875 -1.421875 13.15625 6.1875 \r\nQ 5.515625 13.8125 5.515625 26.8125 \r\nQ 5.515625 40.234375 12.765625 48.109375 \r\nQ 20.015625 56 32.328125 56 \r\nQ 43.359375 56 49.78125 48.890625 \r\nQ 56.203125 41.796875 56.203125 29.59375 \r\nz\r\nM 47.21875 32.234375 \r\nQ 47.125 39.59375 43.09375 43.984375 \r\nQ 39.0625 48.390625 32.421875 48.390625 \r\nQ 24.90625 48.390625 20.390625 44.140625 \r\nQ 15.875 39.890625 15.1875 32.171875 \r\nz\r\n\" id=\"DejaVuSans-101\"/>\r\n     </defs>\r\n     <g transform=\"translate(190.954688 252.916562)scale(0.1 -0.1)\">\r\n      <use xlink:href=\"#DejaVuSans-83\"/>\r\n      <use x=\"63.476562\" xlink:href=\"#DejaVuSans-78\"/>\r\n      <use x=\"138.28125\" xlink:href=\"#DejaVuSans-82\"/>\r\n      <use x=\"207.763672\" xlink:href=\"#DejaVuSans-32\"/>\r\n      <use x=\"239.550781\" xlink:href=\"#DejaVuSans-82\"/>\r\n      <use x=\"306.783203\" xlink:href=\"#DejaVuSans-97\"/>\r\n      <use x=\"368.0625\" xlink:href=\"#DejaVuSans-110\"/>\r\n      <use x=\"431.441406\" xlink:href=\"#DejaVuSans-103\"/>\r\n      <use x=\"494.917969\" xlink:href=\"#DejaVuSans-101\"/>\r\n     </g>\r\n    </g>\r\n   </g>\r\n   <g id=\"matplotlib.axis_2\">\r\n    <g id=\"ytick_1\">\r\n     <g id=\"line2d_17\">\r\n      <path clip-path=\"url(#p169a9e45fc)\" d=\"M 51.378125 214.756364 \r\nL 386.178125 214.756364 \r\n\" style=\"fill:none;stroke:#b0b0b0;stroke-linecap:square;stroke-width:0.8;\"/>\r\n     </g>\r\n     <g id=\"line2d_18\">\r\n      <defs>\r\n       <path d=\"M 0 0 \r\nL -3.5 0 \r\n\" id=\"m4762494eae\" style=\"stroke:#000000;stroke-width:0.8;\"/>\r\n      </defs>\r\n      <g>\r\n       <use style=\"stroke:#000000;stroke-width:0.8;\" x=\"51.378125\" xlink:href=\"#m4762494eae\" y=\"214.756364\"/>\r\n      </g>\r\n     </g>\r\n     <g id=\"text_10\">\r\n      <!-- $\\mathdefault{10^{-5}}$ -->\r\n      <defs>\r\n       <path d=\"M 10.796875 72.90625 \r\nL 49.515625 72.90625 \r\nL 49.515625 64.59375 \r\nL 19.828125 64.59375 \r\nL 19.828125 46.734375 \r\nQ 21.96875 47.46875 24.109375 47.828125 \r\nQ 26.265625 48.1875 28.421875 48.1875 \r\nQ 40.625 48.1875 47.75 41.5 \r\nQ 54.890625 34.8125 54.890625 23.390625 \r\nQ 54.890625 11.625 47.5625 5.09375 \r\nQ 40.234375 -1.421875 26.90625 -1.421875 \r\nQ 22.3125 -1.421875 17.546875 -0.640625 \r\nQ 12.796875 0.140625 7.71875 1.703125 \r\nL 7.71875 11.625 \r\nQ 12.109375 9.234375 16.796875 8.0625 \r\nQ 21.484375 6.890625 26.703125 6.890625 \r\nQ 35.15625 6.890625 40.078125 11.328125 \r\nQ 45.015625 15.765625 45.015625 23.390625 \r\nQ 45.015625 31 40.078125 35.4375 \r\nQ 35.15625 39.890625 26.703125 39.890625 \r\nQ 22.75 39.890625 18.8125 39.015625 \r\nQ 14.890625 38.140625 10.796875 36.28125 \r\nz\r\n\" id=\"DejaVuSans-53\"/>\r\n      </defs>\r\n      <g transform=\"translate(20.878125 218.555582)scale(0.1 -0.1)\">\r\n       <use transform=\"translate(0 0.684375)\" xlink:href=\"#DejaVuSans-49\"/>\r\n       <use transform=\"translate(63.623047 0.684375)\" xlink:href=\"#DejaVuSans-48\"/>\r\n       <use transform=\"translate(128.203125 38.965625)scale(0.7)\" xlink:href=\"#DejaVuSans-8722\"/>\r\n       <use transform=\"translate(186.855469 38.965625)scale(0.7)\" xlink:href=\"#DejaVuSans-53\"/>\r\n      </g>\r\n     </g>\r\n    </g>\r\n    <g id=\"ytick_2\">\r\n     <g id=\"line2d_19\">\r\n      <path clip-path=\"url(#p169a9e45fc)\" d=\"M 51.378125 172.744479 \r\nL 386.178125 172.744479 \r\n\" style=\"fill:none;stroke:#b0b0b0;stroke-linecap:square;stroke-width:0.8;\"/>\r\n     </g>\r\n     <g id=\"line2d_20\">\r\n      <g>\r\n       <use style=\"stroke:#000000;stroke-width:0.8;\" x=\"51.378125\" xlink:href=\"#m4762494eae\" y=\"172.744479\"/>\r\n      </g>\r\n     </g>\r\n     <g id=\"text_11\">\r\n      <!-- $\\mathdefault{10^{-4}}$ -->\r\n      <g transform=\"translate(20.878125 176.543698)scale(0.1 -0.1)\">\r\n       <use transform=\"translate(0 0.684375)\" xlink:href=\"#DejaVuSans-49\"/>\r\n       <use transform=\"translate(63.623047 0.684375)\" xlink:href=\"#DejaVuSans-48\"/>\r\n       <use transform=\"translate(128.203125 38.965625)scale(0.7)\" xlink:href=\"#DejaVuSans-8722\"/>\r\n       <use transform=\"translate(186.855469 38.965625)scale(0.7)\" xlink:href=\"#DejaVuSans-52\"/>\r\n      </g>\r\n     </g>\r\n    </g>\r\n    <g id=\"ytick_3\">\r\n     <g id=\"line2d_21\">\r\n      <path clip-path=\"url(#p169a9e45fc)\" d=\"M 51.378125 130.732595 \r\nL 386.178125 130.732595 \r\n\" style=\"fill:none;stroke:#b0b0b0;stroke-linecap:square;stroke-width:0.8;\"/>\r\n     </g>\r\n     <g id=\"line2d_22\">\r\n      <g>\r\n       <use style=\"stroke:#000000;stroke-width:0.8;\" x=\"51.378125\" xlink:href=\"#m4762494eae\" y=\"130.732595\"/>\r\n      </g>\r\n     </g>\r\n     <g id=\"text_12\">\r\n      <!-- $\\mathdefault{10^{-3}}$ -->\r\n      <defs>\r\n       <path d=\"M 40.578125 39.3125 \r\nQ 47.65625 37.796875 51.625 33 \r\nQ 55.609375 28.21875 55.609375 21.1875 \r\nQ 55.609375 10.40625 48.1875 4.484375 \r\nQ 40.765625 -1.421875 27.09375 -1.421875 \r\nQ 22.515625 -1.421875 17.65625 -0.515625 \r\nQ 12.796875 0.390625 7.625 2.203125 \r\nL 7.625 11.71875 \r\nQ 11.71875 9.328125 16.59375 8.109375 \r\nQ 21.484375 6.890625 26.8125 6.890625 \r\nQ 36.078125 6.890625 40.9375 10.546875 \r\nQ 45.796875 14.203125 45.796875 21.1875 \r\nQ 45.796875 27.640625 41.28125 31.265625 \r\nQ 36.765625 34.90625 28.71875 34.90625 \r\nL 20.21875 34.90625 \r\nL 20.21875 43.015625 \r\nL 29.109375 43.015625 \r\nQ 36.375 43.015625 40.234375 45.921875 \r\nQ 44.09375 48.828125 44.09375 54.296875 \r\nQ 44.09375 59.90625 40.109375 62.90625 \r\nQ 36.140625 65.921875 28.71875 65.921875 \r\nQ 24.65625 65.921875 20.015625 65.03125 \r\nQ 15.375 64.15625 9.8125 62.3125 \r\nL 9.8125 71.09375 \r\nQ 15.4375 72.65625 20.34375 73.4375 \r\nQ 25.25 74.21875 29.59375 74.21875 \r\nQ 40.828125 74.21875 47.359375 69.109375 \r\nQ 53.90625 64.015625 53.90625 55.328125 \r\nQ 53.90625 49.265625 50.4375 45.09375 \r\nQ 46.96875 40.921875 40.578125 39.3125 \r\nz\r\n\" id=\"DejaVuSans-51\"/>\r\n      </defs>\r\n      <g transform=\"translate(20.878125 134.531813)scale(0.1 -0.1)\">\r\n       <use transform=\"translate(0 0.765625)\" xlink:href=\"#DejaVuSans-49\"/>\r\n       <use transform=\"translate(63.623047 0.765625)\" xlink:href=\"#DejaVuSans-48\"/>\r\n       <use transform=\"translate(128.203125 39.046875)scale(0.7)\" xlink:href=\"#DejaVuSans-8722\"/>\r\n       <use transform=\"translate(186.855469 39.046875)scale(0.7)\" xlink:href=\"#DejaVuSans-51\"/>\r\n      </g>\r\n     </g>\r\n    </g>\r\n    <g id=\"ytick_4\">\r\n     <g id=\"line2d_23\">\r\n      <path clip-path=\"url(#p169a9e45fc)\" d=\"M 51.378125 88.72071 \r\nL 386.178125 88.72071 \r\n\" style=\"fill:none;stroke:#b0b0b0;stroke-linecap:square;stroke-width:0.8;\"/>\r\n     </g>\r\n     <g id=\"line2d_24\">\r\n      <g>\r\n       <use style=\"stroke:#000000;stroke-width:0.8;\" x=\"51.378125\" xlink:href=\"#m4762494eae\" y=\"88.72071\"/>\r\n      </g>\r\n     </g>\r\n     <g id=\"text_13\">\r\n      <!-- $\\mathdefault{10^{-2}}$ -->\r\n      <g transform=\"translate(20.878125 92.519929)scale(0.1 -0.1)\">\r\n       <use transform=\"translate(0 0.765625)\" xlink:href=\"#DejaVuSans-49\"/>\r\n       <use transform=\"translate(63.623047 0.765625)\" xlink:href=\"#DejaVuSans-48\"/>\r\n       <use transform=\"translate(128.203125 39.046875)scale(0.7)\" xlink:href=\"#DejaVuSans-8722\"/>\r\n       <use transform=\"translate(186.855469 39.046875)scale(0.7)\" xlink:href=\"#DejaVuSans-50\"/>\r\n      </g>\r\n     </g>\r\n    </g>\r\n    <g id=\"ytick_5\">\r\n     <g id=\"line2d_25\">\r\n      <path clip-path=\"url(#p169a9e45fc)\" d=\"M 51.378125 46.708826 \r\nL 386.178125 46.708826 \r\n\" style=\"fill:none;stroke:#b0b0b0;stroke-linecap:square;stroke-width:0.8;\"/>\r\n     </g>\r\n     <g id=\"line2d_26\">\r\n      <g>\r\n       <use style=\"stroke:#000000;stroke-width:0.8;\" x=\"51.378125\" xlink:href=\"#m4762494eae\" y=\"46.708826\"/>\r\n      </g>\r\n     </g>\r\n     <g id=\"text_14\">\r\n      <!-- $\\mathdefault{10^{-1}}$ -->\r\n      <g transform=\"translate(20.878125 50.508045)scale(0.1 -0.1)\">\r\n       <use transform=\"translate(0 0.684375)\" xlink:href=\"#DejaVuSans-49\"/>\r\n       <use transform=\"translate(63.623047 0.684375)\" xlink:href=\"#DejaVuSans-48\"/>\r\n       <use transform=\"translate(128.203125 38.965625)scale(0.7)\" xlink:href=\"#DejaVuSans-8722\"/>\r\n       <use transform=\"translate(186.855469 38.965625)scale(0.7)\" xlink:href=\"#DejaVuSans-49\"/>\r\n      </g>\r\n     </g>\r\n    </g>\r\n    <g id=\"ytick_6\">\r\n     <g id=\"line2d_27\">\r\n      <defs>\r\n       <path d=\"M 0 0 \r\nL -2 0 \r\n\" id=\"m53c7d69934\" style=\"stroke:#000000;stroke-width:0.6;\"/>\r\n      </defs>\r\n      <g>\r\n       <use style=\"stroke:#000000;stroke-width:0.6;\" x=\"51.378125\" xlink:href=\"#m53c7d69934\" y=\"224.076648\"/>\r\n      </g>\r\n     </g>\r\n    </g>\r\n    <g id=\"ytick_7\">\r\n     <g id=\"line2d_28\">\r\n      <g>\r\n       <use style=\"stroke:#000000;stroke-width:0.6;\" x=\"51.378125\" xlink:href=\"#m53c7d69934\" y=\"221.264087\"/>\r\n      </g>\r\n     </g>\r\n    </g>\r\n    <g id=\"ytick_8\">\r\n     <g id=\"line2d_29\">\r\n      <g>\r\n       <use style=\"stroke:#000000;stroke-width:0.6;\" x=\"51.378125\" xlink:href=\"#m53c7d69934\" y=\"218.827736\"/>\r\n      </g>\r\n     </g>\r\n    </g>\r\n    <g id=\"ytick_9\">\r\n     <g id=\"line2d_30\">\r\n      <g>\r\n       <use style=\"stroke:#000000;stroke-width:0.6;\" x=\"51.378125\" xlink:href=\"#m53c7d69934\" y=\"216.678722\"/>\r\n      </g>\r\n     </g>\r\n    </g>\r\n    <g id=\"ytick_10\">\r\n     <g id=\"line2d_31\">\r\n      <g>\r\n       <use style=\"stroke:#000000;stroke-width:0.6;\" x=\"51.378125\" xlink:href=\"#m53c7d69934\" y=\"202.109526\"/>\r\n      </g>\r\n     </g>\r\n    </g>\r\n    <g id=\"ytick_11\">\r\n     <g id=\"line2d_32\">\r\n      <g>\r\n       <use style=\"stroke:#000000;stroke-width:0.6;\" x=\"51.378125\" xlink:href=\"#m53c7d69934\" y=\"194.711601\"/>\r\n      </g>\r\n     </g>\r\n    </g>\r\n    <g id=\"ytick_12\">\r\n     <g id=\"line2d_33\">\r\n      <g>\r\n       <use style=\"stroke:#000000;stroke-width:0.6;\" x=\"51.378125\" xlink:href=\"#m53c7d69934\" y=\"189.462689\"/>\r\n      </g>\r\n     </g>\r\n    </g>\r\n    <g id=\"ytick_13\">\r\n     <g id=\"line2d_34\">\r\n      <g>\r\n       <use style=\"stroke:#000000;stroke-width:0.6;\" x=\"51.378125\" xlink:href=\"#m53c7d69934\" y=\"185.391317\"/>\r\n      </g>\r\n     </g>\r\n    </g>\r\n    <g id=\"ytick_14\">\r\n     <g id=\"line2d_35\">\r\n      <g>\r\n       <use style=\"stroke:#000000;stroke-width:0.6;\" x=\"51.378125\" xlink:href=\"#m53c7d69934\" y=\"182.064763\"/>\r\n      </g>\r\n     </g>\r\n    </g>\r\n    <g id=\"ytick_15\">\r\n     <g id=\"line2d_36\">\r\n      <g>\r\n       <use style=\"stroke:#000000;stroke-width:0.6;\" x=\"51.378125\" xlink:href=\"#m53c7d69934\" y=\"179.252202\"/>\r\n      </g>\r\n     </g>\r\n    </g>\r\n    <g id=\"ytick_16\">\r\n     <g id=\"line2d_37\">\r\n      <g>\r\n       <use style=\"stroke:#000000;stroke-width:0.6;\" x=\"51.378125\" xlink:href=\"#m53c7d69934\" y=\"176.815851\"/>\r\n      </g>\r\n     </g>\r\n    </g>\r\n    <g id=\"ytick_17\">\r\n     <g id=\"line2d_38\">\r\n      <g>\r\n       <use style=\"stroke:#000000;stroke-width:0.6;\" x=\"51.378125\" xlink:href=\"#m53c7d69934\" y=\"174.666838\"/>\r\n      </g>\r\n     </g>\r\n    </g>\r\n    <g id=\"ytick_18\">\r\n     <g id=\"line2d_39\">\r\n      <g>\r\n       <use style=\"stroke:#000000;stroke-width:0.6;\" x=\"51.378125\" xlink:href=\"#m53c7d69934\" y=\"160.097642\"/>\r\n      </g>\r\n     </g>\r\n    </g>\r\n    <g id=\"ytick_19\">\r\n     <g id=\"line2d_40\">\r\n      <g>\r\n       <use style=\"stroke:#000000;stroke-width:0.6;\" x=\"51.378125\" xlink:href=\"#m53c7d69934\" y=\"152.699716\"/>\r\n      </g>\r\n     </g>\r\n    </g>\r\n    <g id=\"ytick_20\">\r\n     <g id=\"line2d_41\">\r\n      <g>\r\n       <use style=\"stroke:#000000;stroke-width:0.6;\" x=\"51.378125\" xlink:href=\"#m53c7d69934\" y=\"147.450804\"/>\r\n      </g>\r\n     </g>\r\n    </g>\r\n    <g id=\"ytick_21\">\r\n     <g id=\"line2d_42\">\r\n      <g>\r\n       <use style=\"stroke:#000000;stroke-width:0.6;\" x=\"51.378125\" xlink:href=\"#m53c7d69934\" y=\"143.379432\"/>\r\n      </g>\r\n     </g>\r\n    </g>\r\n    <g id=\"ytick_22\">\r\n     <g id=\"line2d_43\">\r\n      <g>\r\n       <use style=\"stroke:#000000;stroke-width:0.6;\" x=\"51.378125\" xlink:href=\"#m53c7d69934\" y=\"140.052879\"/>\r\n      </g>\r\n     </g>\r\n    </g>\r\n    <g id=\"ytick_23\">\r\n     <g id=\"line2d_44\">\r\n      <g>\r\n       <use style=\"stroke:#000000;stroke-width:0.6;\" x=\"51.378125\" xlink:href=\"#m53c7d69934\" y=\"137.240318\"/>\r\n      </g>\r\n     </g>\r\n    </g>\r\n    <g id=\"ytick_24\">\r\n     <g id=\"line2d_45\">\r\n      <g>\r\n       <use style=\"stroke:#000000;stroke-width:0.6;\" x=\"51.378125\" xlink:href=\"#m53c7d69934\" y=\"134.803967\"/>\r\n      </g>\r\n     </g>\r\n    </g>\r\n    <g id=\"ytick_25\">\r\n     <g id=\"line2d_46\">\r\n      <g>\r\n       <use style=\"stroke:#000000;stroke-width:0.6;\" x=\"51.378125\" xlink:href=\"#m53c7d69934\" y=\"132.654953\"/>\r\n      </g>\r\n     </g>\r\n    </g>\r\n    <g id=\"ytick_26\">\r\n     <g id=\"line2d_47\">\r\n      <g>\r\n       <use style=\"stroke:#000000;stroke-width:0.6;\" x=\"51.378125\" xlink:href=\"#m53c7d69934\" y=\"118.085757\"/>\r\n      </g>\r\n     </g>\r\n    </g>\r\n    <g id=\"ytick_27\">\r\n     <g id=\"line2d_48\">\r\n      <g>\r\n       <use style=\"stroke:#000000;stroke-width:0.6;\" x=\"51.378125\" xlink:href=\"#m53c7d69934\" y=\"110.687832\"/>\r\n      </g>\r\n     </g>\r\n    </g>\r\n    <g id=\"ytick_28\">\r\n     <g id=\"line2d_49\">\r\n      <g>\r\n       <use style=\"stroke:#000000;stroke-width:0.6;\" x=\"51.378125\" xlink:href=\"#m53c7d69934\" y=\"105.43892\"/>\r\n      </g>\r\n     </g>\r\n    </g>\r\n    <g id=\"ytick_29\">\r\n     <g id=\"line2d_50\">\r\n      <g>\r\n       <use style=\"stroke:#000000;stroke-width:0.6;\" x=\"51.378125\" xlink:href=\"#m53c7d69934\" y=\"101.367548\"/>\r\n      </g>\r\n     </g>\r\n    </g>\r\n    <g id=\"ytick_30\">\r\n     <g id=\"line2d_51\">\r\n      <g>\r\n       <use style=\"stroke:#000000;stroke-width:0.6;\" x=\"51.378125\" xlink:href=\"#m53c7d69934\" y=\"98.040994\"/>\r\n      </g>\r\n     </g>\r\n    </g>\r\n    <g id=\"ytick_31\">\r\n     <g id=\"line2d_52\">\r\n      <g>\r\n       <use style=\"stroke:#000000;stroke-width:0.6;\" x=\"51.378125\" xlink:href=\"#m53c7d69934\" y=\"95.228434\"/>\r\n      </g>\r\n     </g>\r\n    </g>\r\n    <g id=\"ytick_32\">\r\n     <g id=\"line2d_53\">\r\n      <g>\r\n       <use style=\"stroke:#000000;stroke-width:0.6;\" x=\"51.378125\" xlink:href=\"#m53c7d69934\" y=\"92.792083\"/>\r\n      </g>\r\n     </g>\r\n    </g>\r\n    <g id=\"ytick_33\">\r\n     <g id=\"line2d_54\">\r\n      <g>\r\n       <use style=\"stroke:#000000;stroke-width:0.6;\" x=\"51.378125\" xlink:href=\"#m53c7d69934\" y=\"90.643069\"/>\r\n      </g>\r\n     </g>\r\n    </g>\r\n    <g id=\"ytick_34\">\r\n     <g id=\"line2d_55\">\r\n      <g>\r\n       <use style=\"stroke:#000000;stroke-width:0.6;\" x=\"51.378125\" xlink:href=\"#m53c7d69934\" y=\"76.073873\"/>\r\n      </g>\r\n     </g>\r\n    </g>\r\n    <g id=\"ytick_35\">\r\n     <g id=\"line2d_56\">\r\n      <g>\r\n       <use style=\"stroke:#000000;stroke-width:0.6;\" x=\"51.378125\" xlink:href=\"#m53c7d69934\" y=\"68.675947\"/>\r\n      </g>\r\n     </g>\r\n    </g>\r\n    <g id=\"ytick_36\">\r\n     <g id=\"line2d_57\">\r\n      <g>\r\n       <use style=\"stroke:#000000;stroke-width:0.6;\" x=\"51.378125\" xlink:href=\"#m53c7d69934\" y=\"63.427036\"/>\r\n      </g>\r\n     </g>\r\n    </g>\r\n    <g id=\"ytick_37\">\r\n     <g id=\"line2d_58\">\r\n      <g>\r\n       <use style=\"stroke:#000000;stroke-width:0.6;\" x=\"51.378125\" xlink:href=\"#m53c7d69934\" y=\"59.355663\"/>\r\n      </g>\r\n     </g>\r\n    </g>\r\n    <g id=\"ytick_38\">\r\n     <g id=\"line2d_59\">\r\n      <g>\r\n       <use style=\"stroke:#000000;stroke-width:0.6;\" x=\"51.378125\" xlink:href=\"#m53c7d69934\" y=\"56.02911\"/>\r\n      </g>\r\n     </g>\r\n    </g>\r\n    <g id=\"ytick_39\">\r\n     <g id=\"line2d_60\">\r\n      <g>\r\n       <use style=\"stroke:#000000;stroke-width:0.6;\" x=\"51.378125\" xlink:href=\"#m53c7d69934\" y=\"53.216549\"/>\r\n      </g>\r\n     </g>\r\n    </g>\r\n    <g id=\"ytick_40\">\r\n     <g id=\"line2d_61\">\r\n      <g>\r\n       <use style=\"stroke:#000000;stroke-width:0.6;\" x=\"51.378125\" xlink:href=\"#m53c7d69934\" y=\"50.780198\"/>\r\n      </g>\r\n     </g>\r\n    </g>\r\n    <g id=\"ytick_41\">\r\n     <g id=\"line2d_62\">\r\n      <g>\r\n       <use style=\"stroke:#000000;stroke-width:0.6;\" x=\"51.378125\" xlink:href=\"#m53c7d69934\" y=\"48.631184\"/>\r\n      </g>\r\n     </g>\r\n    </g>\r\n    <g id=\"ytick_42\">\r\n     <g id=\"line2d_63\">\r\n      <g>\r\n       <use style=\"stroke:#000000;stroke-width:0.6;\" x=\"51.378125\" xlink:href=\"#m53c7d69934\" y=\"34.061988\"/>\r\n      </g>\r\n     </g>\r\n    </g>\r\n    <g id=\"ytick_43\">\r\n     <g id=\"line2d_64\">\r\n      <g>\r\n       <use style=\"stroke:#000000;stroke-width:0.6;\" x=\"51.378125\" xlink:href=\"#m53c7d69934\" y=\"26.664063\"/>\r\n      </g>\r\n     </g>\r\n    </g>\r\n    <g id=\"ytick_44\">\r\n     <g id=\"line2d_65\">\r\n      <g>\r\n       <use style=\"stroke:#000000;stroke-width:0.6;\" x=\"51.378125\" xlink:href=\"#m53c7d69934\" y=\"21.415151\"/>\r\n      </g>\r\n     </g>\r\n    </g>\r\n    <g id=\"ytick_45\">\r\n     <g id=\"line2d_66\">\r\n      <g>\r\n       <use style=\"stroke:#000000;stroke-width:0.6;\" x=\"51.378125\" xlink:href=\"#m53c7d69934\" y=\"17.343779\"/>\r\n      </g>\r\n     </g>\r\n    </g>\r\n    <g id=\"ytick_46\">\r\n     <g id=\"line2d_67\">\r\n      <g>\r\n       <use style=\"stroke:#000000;stroke-width:0.6;\" x=\"51.378125\" xlink:href=\"#m53c7d69934\" y=\"14.017225\"/>\r\n      </g>\r\n     </g>\r\n    </g>\r\n    <g id=\"ytick_47\">\r\n     <g id=\"line2d_68\">\r\n      <g>\r\n       <use style=\"stroke:#000000;stroke-width:0.6;\" x=\"51.378125\" xlink:href=\"#m53c7d69934\" y=\"11.204665\"/>\r\n      </g>\r\n     </g>\r\n    </g>\r\n    <g id=\"ytick_48\">\r\n     <g id=\"line2d_69\">\r\n      <g>\r\n       <use style=\"stroke:#000000;stroke-width:0.6;\" x=\"51.378125\" xlink:href=\"#m53c7d69934\" y=\"8.768314\"/>\r\n      </g>\r\n     </g>\r\n    </g>\r\n    <g id=\"text_15\">\r\n     <!-- Block Error Rate -->\r\n     <defs>\r\n      <path d=\"M 19.671875 34.8125 \r\nL 19.671875 8.109375 \r\nL 35.5 8.109375 \r\nQ 43.453125 8.109375 47.28125 11.40625 \r\nQ 51.125 14.703125 51.125 21.484375 \r\nQ 51.125 28.328125 47.28125 31.5625 \r\nQ 43.453125 34.8125 35.5 34.8125 \r\nz\r\nM 19.671875 64.796875 \r\nL 19.671875 42.828125 \r\nL 34.28125 42.828125 \r\nQ 41.5 42.828125 45.03125 45.53125 \r\nQ 48.578125 48.25 48.578125 53.8125 \r\nQ 48.578125 59.328125 45.03125 62.0625 \r\nQ 41.5 64.796875 34.28125 64.796875 \r\nz\r\nM 9.8125 72.90625 \r\nL 35.015625 72.90625 \r\nQ 46.296875 72.90625 52.390625 68.21875 \r\nQ 58.5 63.53125 58.5 54.890625 \r\nQ 58.5 48.1875 55.375 44.234375 \r\nQ 52.25 40.28125 46.1875 39.3125 \r\nQ 53.46875 37.75 57.5 32.78125 \r\nQ 61.53125 27.828125 61.53125 20.40625 \r\nQ 61.53125 10.640625 54.890625 5.3125 \r\nQ 48.25 0 35.984375 0 \r\nL 9.8125 0 \r\nz\r\n\" id=\"DejaVuSans-66\"/>\r\n      <path d=\"M 9.421875 75.984375 \r\nL 18.40625 75.984375 \r\nL 18.40625 0 \r\nL 9.421875 0 \r\nz\r\n\" id=\"DejaVuSans-108\"/>\r\n      <path d=\"M 30.609375 48.390625 \r\nQ 23.390625 48.390625 19.1875 42.75 \r\nQ 14.984375 37.109375 14.984375 27.296875 \r\nQ 14.984375 17.484375 19.15625 11.84375 \r\nQ 23.34375 6.203125 30.609375 6.203125 \r\nQ 37.796875 6.203125 41.984375 11.859375 \r\nQ 46.1875 17.53125 46.1875 27.296875 \r\nQ 46.1875 37.015625 41.984375 42.703125 \r\nQ 37.796875 48.390625 30.609375 48.390625 \r\nz\r\nM 30.609375 56 \r\nQ 42.328125 56 49.015625 48.375 \r\nQ 55.71875 40.765625 55.71875 27.296875 \r\nQ 55.71875 13.875 49.015625 6.21875 \r\nQ 42.328125 -1.421875 30.609375 -1.421875 \r\nQ 18.84375 -1.421875 12.171875 6.21875 \r\nQ 5.515625 13.875 5.515625 27.296875 \r\nQ 5.515625 40.765625 12.171875 48.375 \r\nQ 18.84375 56 30.609375 56 \r\nz\r\n\" id=\"DejaVuSans-111\"/>\r\n      <path d=\"M 48.78125 52.59375 \r\nL 48.78125 44.1875 \r\nQ 44.96875 46.296875 41.140625 47.34375 \r\nQ 37.3125 48.390625 33.40625 48.390625 \r\nQ 24.65625 48.390625 19.8125 42.84375 \r\nQ 14.984375 37.3125 14.984375 27.296875 \r\nQ 14.984375 17.28125 19.8125 11.734375 \r\nQ 24.65625 6.203125 33.40625 6.203125 \r\nQ 37.3125 6.203125 41.140625 7.25 \r\nQ 44.96875 8.296875 48.78125 10.40625 \r\nL 48.78125 2.09375 \r\nQ 45.015625 0.34375 40.984375 -0.53125 \r\nQ 36.96875 -1.421875 32.421875 -1.421875 \r\nQ 20.0625 -1.421875 12.78125 6.34375 \r\nQ 5.515625 14.109375 5.515625 27.296875 \r\nQ 5.515625 40.671875 12.859375 48.328125 \r\nQ 20.21875 56 33.015625 56 \r\nQ 37.15625 56 41.109375 55.140625 \r\nQ 45.0625 54.296875 48.78125 52.59375 \r\nz\r\n\" id=\"DejaVuSans-99\"/>\r\n      <path d=\"M 9.078125 75.984375 \r\nL 18.109375 75.984375 \r\nL 18.109375 31.109375 \r\nL 44.921875 54.6875 \r\nL 56.390625 54.6875 \r\nL 27.390625 29.109375 \r\nL 57.625 0 \r\nL 45.90625 0 \r\nL 18.109375 26.703125 \r\nL 18.109375 0 \r\nL 9.078125 0 \r\nz\r\n\" id=\"DejaVuSans-107\"/>\r\n      <path d=\"M 9.8125 72.90625 \r\nL 55.90625 72.90625 \r\nL 55.90625 64.59375 \r\nL 19.671875 64.59375 \r\nL 19.671875 43.015625 \r\nL 54.390625 43.015625 \r\nL 54.390625 34.71875 \r\nL 19.671875 34.71875 \r\nL 19.671875 8.296875 \r\nL 56.78125 8.296875 \r\nL 56.78125 0 \r\nL 9.8125 0 \r\nz\r\n\" id=\"DejaVuSans-69\"/>\r\n      <path d=\"M 41.109375 46.296875 \r\nQ 39.59375 47.171875 37.8125 47.578125 \r\nQ 36.03125 48 33.890625 48 \r\nQ 26.265625 48 22.1875 43.046875 \r\nQ 18.109375 38.09375 18.109375 28.8125 \r\nL 18.109375 0 \r\nL 9.078125 0 \r\nL 9.078125 54.6875 \r\nL 18.109375 54.6875 \r\nL 18.109375 46.1875 \r\nQ 20.953125 51.171875 25.484375 53.578125 \r\nQ 30.03125 56 36.53125 56 \r\nQ 37.453125 56 38.578125 55.875 \r\nQ 39.703125 55.765625 41.0625 55.515625 \r\nz\r\n\" id=\"DejaVuSans-114\"/>\r\n      <path d=\"M 18.3125 70.21875 \r\nL 18.3125 54.6875 \r\nL 36.8125 54.6875 \r\nL 36.8125 47.703125 \r\nL 18.3125 47.703125 \r\nL 18.3125 18.015625 \r\nQ 18.3125 11.328125 20.140625 9.421875 \r\nQ 21.96875 7.515625 27.59375 7.515625 \r\nL 36.8125 7.515625 \r\nL 36.8125 0 \r\nL 27.59375 0 \r\nQ 17.1875 0 13.234375 3.875 \r\nQ 9.28125 7.765625 9.28125 18.015625 \r\nL 9.28125 47.703125 \r\nL 2.6875 47.703125 \r\nL 2.6875 54.6875 \r\nL 9.28125 54.6875 \r\nL 9.28125 70.21875 \r\nz\r\n\" id=\"DejaVuSans-116\"/>\r\n     </defs>\r\n     <g transform=\"translate(14.798438 156.269219)rotate(-90)scale(0.1 -0.1)\">\r\n      <use xlink:href=\"#DejaVuSans-66\"/>\r\n      <use x=\"68.603516\" xlink:href=\"#DejaVuSans-108\"/>\r\n      <use x=\"96.386719\" xlink:href=\"#DejaVuSans-111\"/>\r\n      <use x=\"157.568359\" xlink:href=\"#DejaVuSans-99\"/>\r\n      <use x=\"212.548828\" xlink:href=\"#DejaVuSans-107\"/>\r\n      <use x=\"270.458984\" xlink:href=\"#DejaVuSans-32\"/>\r\n      <use x=\"302.246094\" xlink:href=\"#DejaVuSans-69\"/>\r\n      <use x=\"365.429688\" xlink:href=\"#DejaVuSans-114\"/>\r\n      <use x=\"404.792969\" xlink:href=\"#DejaVuSans-114\"/>\r\n      <use x=\"443.65625\" xlink:href=\"#DejaVuSans-111\"/>\r\n      <use x=\"504.837891\" xlink:href=\"#DejaVuSans-114\"/>\r\n      <use x=\"545.951172\" xlink:href=\"#DejaVuSans-32\"/>\r\n      <use x=\"577.738281\" xlink:href=\"#DejaVuSans-82\"/>\r\n      <use x=\"644.970703\" xlink:href=\"#DejaVuSans-97\"/>\r\n      <use x=\"706.25\" xlink:href=\"#DejaVuSans-116\"/>\r\n      <use x=\"745.458984\" xlink:href=\"#DejaVuSans-101\"/>\r\n     </g>\r\n    </g>\r\n   </g>\r\n   <g id=\"line2d_70\">\r\n    <defs>\r\n     <path d=\"M 0 3 \r\nC 0.795609 3 1.55874 2.683901 2.12132 2.12132 \r\nC 2.683901 1.55874 3 0.795609 3 0 \r\nC 3 -0.795609 2.683901 -1.55874 2.12132 -2.12132 \r\nC 1.55874 -2.683901 0.795609 -3 0 -3 \r\nC -0.795609 -3 -1.55874 -2.683901 -2.12132 -2.12132 \r\nC -2.683901 -1.55874 -3 -0.795609 -3 0 \r\nC -3 0.795609 -2.683901 1.55874 -2.12132 2.12132 \r\nC -1.55874 2.683901 -0.795609 3 0 3 \r\nz\r\n\" id=\"mcb7ebcc566\" style=\"stroke:#0000ff;\"/>\r\n    </defs>\r\n    <g clip-path=\"url(#p169a9e45fc)\">\r\n     <use style=\"fill:#0000ff;stroke:#0000ff;\" x=\"66.596307\" xlink:href=\"#mcb7ebcc566\" y=\"17.083636\"/>\r\n     <use style=\"fill:#0000ff;stroke:#0000ff;\" x=\"77.466437\" xlink:href=\"#mcb7ebcc566\" y=\"18.36474\"/>\r\n     <use style=\"fill:#0000ff;stroke:#0000ff;\" x=\"88.336567\" xlink:href=\"#mcb7ebcc566\" y=\"19.880076\"/>\r\n     <use style=\"fill:#0000ff;stroke:#0000ff;\" x=\"99.206696\" xlink:href=\"#mcb7ebcc566\" y=\"21.507524\"/>\r\n     <use style=\"fill:#0000ff;stroke:#0000ff;\" x=\"110.076826\" xlink:href=\"#mcb7ebcc566\" y=\"23.326869\"/>\r\n     <use style=\"fill:#0000ff;stroke:#0000ff;\" x=\"120.946956\" xlink:href=\"#mcb7ebcc566\" y=\"25.419935\"/>\r\n     <use style=\"fill:#0000ff;stroke:#0000ff;\" x=\"131.817086\" xlink:href=\"#mcb7ebcc566\" y=\"27.967239\"/>\r\n     <use style=\"fill:#0000ff;stroke:#0000ff;\" x=\"142.687216\" xlink:href=\"#mcb7ebcc566\" y=\"30.469028\"/>\r\n     <use style=\"fill:#0000ff;stroke:#0000ff;\" x=\"153.557346\" xlink:href=\"#mcb7ebcc566\" y=\"33.755318\"/>\r\n     <use style=\"fill:#0000ff;stroke:#0000ff;\" x=\"164.427476\" xlink:href=\"#mcb7ebcc566\" y=\"36.832936\"/>\r\n     <use style=\"fill:#0000ff;stroke:#0000ff;\" x=\"175.297606\" xlink:href=\"#mcb7ebcc566\" y=\"40.59449\"/>\r\n     <use style=\"fill:#0000ff;stroke:#0000ff;\" x=\"186.167735\" xlink:href=\"#mcb7ebcc566\" y=\"45.124755\"/>\r\n     <use style=\"fill:#0000ff;stroke:#0000ff;\" x=\"197.037865\" xlink:href=\"#mcb7ebcc566\" y=\"50.316323\"/>\r\n     <use style=\"fill:#0000ff;stroke:#0000ff;\" x=\"207.907995\" xlink:href=\"#mcb7ebcc566\" y=\"55.67973\"/>\r\n     <use style=\"fill:#0000ff;stroke:#0000ff;\" x=\"218.778125\" xlink:href=\"#mcb7ebcc566\" y=\"61.829587\"/>\r\n     <use style=\"fill:#0000ff;stroke:#0000ff;\" x=\"229.648255\" xlink:href=\"#mcb7ebcc566\" y=\"68.470328\"/>\r\n     <use style=\"fill:#0000ff;stroke:#0000ff;\" x=\"240.518385\" xlink:href=\"#mcb7ebcc566\" y=\"76.714458\"/>\r\n     <use style=\"fill:#0000ff;stroke:#0000ff;\" x=\"251.388515\" xlink:href=\"#mcb7ebcc566\" y=\"84.417277\"/>\r\n     <use style=\"fill:#0000ff;stroke:#0000ff;\" x=\"262.258644\" xlink:href=\"#mcb7ebcc566\" y=\"94.042751\"/>\r\n     <use style=\"fill:#0000ff;stroke:#0000ff;\" x=\"273.128774\" xlink:href=\"#mcb7ebcc566\" y=\"104.592211\"/>\r\n     <use style=\"fill:#0000ff;stroke:#0000ff;\" x=\"283.998904\" xlink:href=\"#mcb7ebcc566\" y=\"115.45657\"/>\r\n     <use style=\"fill:#0000ff;stroke:#0000ff;\" x=\"294.869034\" xlink:href=\"#mcb7ebcc566\" y=\"126.955512\"/>\r\n     <use style=\"fill:#0000ff;stroke:#0000ff;\" x=\"305.739164\" xlink:href=\"#mcb7ebcc566\" y=\"144.508382\"/>\r\n     <use style=\"fill:#0000ff;stroke:#0000ff;\" x=\"316.609294\" xlink:href=\"#mcb7ebcc566\" y=\"153.958528\"/>\r\n     <use style=\"fill:#0000ff;stroke:#0000ff;\" x=\"327.479424\" xlink:href=\"#mcb7ebcc566\" y=\"172.744479\"/>\r\n     <use style=\"fill:#0000ff;stroke:#0000ff;\" x=\"338.349554\" xlink:href=\"#mcb7ebcc566\" y=\"194.711601\"/>\r\n     <use style=\"fill:#0000ff;stroke:#0000ff;\" x=\"349.219683\" xlink:href=\"#mcb7ebcc566\" y=\"214.756364\"/>\r\n     <use style=\"fill:#0000ff;stroke:#0000ff;\" x=\"360.089813\" xlink:href=\"#mcb7ebcc566\" y=\"214.756364\"/>\r\n     <use style=\"fill:#0000ff;stroke:#0000ff;\" x=\"364.94329\" xlink:href=\"#mcb7ebcc566\" y=\"18879.13\"/>\r\n    </g>\r\n   </g>\r\n   <g id=\"patch_3\">\r\n    <path d=\"M 51.378125 224.64 \r\nL 51.378125 7.2 \r\n\" style=\"fill:none;stroke:#000000;stroke-linecap:square;stroke-linejoin:miter;stroke-width:0.8;\"/>\r\n   </g>\r\n   <g id=\"patch_4\">\r\n    <path d=\"M 386.178125 224.64 \r\nL 386.178125 7.2 \r\n\" style=\"fill:none;stroke:#000000;stroke-linecap:square;stroke-linejoin:miter;stroke-width:0.8;\"/>\r\n   </g>\r\n   <g id=\"patch_5\">\r\n    <path d=\"M 51.378125 224.64 \r\nL 386.178125 224.64 \r\n\" style=\"fill:none;stroke:#000000;stroke-linecap:square;stroke-linejoin:miter;stroke-width:0.8;\"/>\r\n   </g>\r\n   <g id=\"patch_6\">\r\n    <path d=\"M 51.378125 7.2 \r\nL 386.178125 7.2 \r\n\" style=\"fill:none;stroke:#000000;stroke-linecap:square;stroke-linejoin:miter;stroke-width:0.8;\"/>\r\n   </g>\r\n   <g id=\"legend_1\">\r\n    <g id=\"patch_7\">\r\n     <path d=\"M 259.534375 29.878125 \r\nL 379.178125 29.878125 \r\nQ 381.178125 29.878125 381.178125 27.878125 \r\nL 381.178125 14.2 \r\nQ 381.178125 12.2 379.178125 12.2 \r\nL 259.534375 12.2 \r\nQ 257.534375 12.2 257.534375 14.2 \r\nL 257.534375 27.878125 \r\nQ 257.534375 29.878125 259.534375 29.878125 \r\nz\r\n\" style=\"fill:#ffffff;opacity:0.8;stroke:#cccccc;stroke-linejoin:miter;\"/>\r\n    </g>\r\n    <g id=\"line2d_71\"/>\r\n    <g id=\"line2d_72\">\r\n     <g>\r\n      <use style=\"fill:#0000ff;stroke:#0000ff;\" x=\"271.534375\" xlink:href=\"#mcb7ebcc566\" y=\"20.298437\"/>\r\n     </g>\r\n    </g>\r\n    <g id=\"text_16\">\r\n     <!-- Autoencoder(7,4) -->\r\n     <defs>\r\n      <path d=\"M 34.1875 63.1875 \r\nL 20.796875 26.90625 \r\nL 47.609375 26.90625 \r\nz\r\nM 28.609375 72.90625 \r\nL 39.796875 72.90625 \r\nL 67.578125 0 \r\nL 57.328125 0 \r\nL 50.6875 18.703125 \r\nL 17.828125 18.703125 \r\nL 11.1875 0 \r\nL 0.78125 0 \r\nz\r\n\" id=\"DejaVuSans-65\"/>\r\n      <path d=\"M 8.5 21.578125 \r\nL 8.5 54.6875 \r\nL 17.484375 54.6875 \r\nL 17.484375 21.921875 \r\nQ 17.484375 14.15625 20.5 10.265625 \r\nQ 23.53125 6.390625 29.59375 6.390625 \r\nQ 36.859375 6.390625 41.078125 11.03125 \r\nQ 45.3125 15.671875 45.3125 23.6875 \r\nL 45.3125 54.6875 \r\nL 54.296875 54.6875 \r\nL 54.296875 0 \r\nL 45.3125 0 \r\nL 45.3125 8.40625 \r\nQ 42.046875 3.421875 37.71875 1 \r\nQ 33.40625 -1.421875 27.6875 -1.421875 \r\nQ 18.265625 -1.421875 13.375 4.4375 \r\nQ 8.5 10.296875 8.5 21.578125 \r\nz\r\nM 31.109375 56 \r\nz\r\n\" id=\"DejaVuSans-117\"/>\r\n      <path d=\"M 45.40625 46.390625 \r\nL 45.40625 75.984375 \r\nL 54.390625 75.984375 \r\nL 54.390625 0 \r\nL 45.40625 0 \r\nL 45.40625 8.203125 \r\nQ 42.578125 3.328125 38.25 0.953125 \r\nQ 33.9375 -1.421875 27.875 -1.421875 \r\nQ 17.96875 -1.421875 11.734375 6.484375 \r\nQ 5.515625 14.40625 5.515625 27.296875 \r\nQ 5.515625 40.1875 11.734375 48.09375 \r\nQ 17.96875 56 27.875 56 \r\nQ 33.9375 56 38.25 53.625 \r\nQ 42.578125 51.265625 45.40625 46.390625 \r\nz\r\nM 14.796875 27.296875 \r\nQ 14.796875 17.390625 18.875 11.75 \r\nQ 22.953125 6.109375 30.078125 6.109375 \r\nQ 37.203125 6.109375 41.296875 11.75 \r\nQ 45.40625 17.390625 45.40625 27.296875 \r\nQ 45.40625 37.203125 41.296875 42.84375 \r\nQ 37.203125 48.484375 30.078125 48.484375 \r\nQ 22.953125 48.484375 18.875 42.84375 \r\nQ 14.796875 37.203125 14.796875 27.296875 \r\nz\r\n\" id=\"DejaVuSans-100\"/>\r\n      <path d=\"M 31 75.875 \r\nQ 24.46875 64.65625 21.28125 53.65625 \r\nQ 18.109375 42.671875 18.109375 31.390625 \r\nQ 18.109375 20.125 21.3125 9.0625 \r\nQ 24.515625 -2 31 -13.1875 \r\nL 23.1875 -13.1875 \r\nQ 15.875 -1.703125 12.234375 9.375 \r\nQ 8.59375 20.453125 8.59375 31.390625 \r\nQ 8.59375 42.28125 12.203125 53.3125 \r\nQ 15.828125 64.359375 23.1875 75.875 \r\nz\r\n\" id=\"DejaVuSans-40\"/>\r\n      <path d=\"M 8.203125 72.90625 \r\nL 55.078125 72.90625 \r\nL 55.078125 68.703125 \r\nL 28.609375 0 \r\nL 18.3125 0 \r\nL 43.21875 64.59375 \r\nL 8.203125 64.59375 \r\nz\r\n\" id=\"DejaVuSans-55\"/>\r\n      <path d=\"M 11.71875 12.40625 \r\nL 22.015625 12.40625 \r\nL 22.015625 4 \r\nL 14.015625 -11.625 \r\nL 7.71875 -11.625 \r\nL 11.71875 4 \r\nz\r\n\" id=\"DejaVuSans-44\"/>\r\n      <path d=\"M 8.015625 75.875 \r\nL 15.828125 75.875 \r\nQ 23.140625 64.359375 26.78125 53.3125 \r\nQ 30.421875 42.28125 30.421875 31.390625 \r\nQ 30.421875 20.453125 26.78125 9.375 \r\nQ 23.140625 -1.703125 15.828125 -13.1875 \r\nL 8.015625 -13.1875 \r\nQ 14.5 -2 17.703125 9.0625 \r\nQ 20.90625 20.125 20.90625 31.390625 \r\nQ 20.90625 42.671875 17.703125 53.65625 \r\nQ 14.5 64.65625 8.015625 75.875 \r\nz\r\n\" id=\"DejaVuSans-41\"/>\r\n     </defs>\r\n     <g transform=\"translate(289.534375 23.798437)scale(0.1 -0.1)\">\r\n      <use xlink:href=\"#DejaVuSans-65\"/>\r\n      <use x=\"68.408203\" xlink:href=\"#DejaVuSans-117\"/>\r\n      <use x=\"131.787109\" xlink:href=\"#DejaVuSans-116\"/>\r\n      <use x=\"170.996094\" xlink:href=\"#DejaVuSans-111\"/>\r\n      <use x=\"232.177734\" xlink:href=\"#DejaVuSans-101\"/>\r\n      <use x=\"293.701172\" xlink:href=\"#DejaVuSans-110\"/>\r\n      <use x=\"357.080078\" xlink:href=\"#DejaVuSans-99\"/>\r\n      <use x=\"412.060547\" xlink:href=\"#DejaVuSans-111\"/>\r\n      <use x=\"473.242188\" xlink:href=\"#DejaVuSans-100\"/>\r\n      <use x=\"536.71875\" xlink:href=\"#DejaVuSans-101\"/>\r\n      <use x=\"598.242188\" xlink:href=\"#DejaVuSans-114\"/>\r\n      <use x=\"639.355469\" xlink:href=\"#DejaVuSans-40\"/>\r\n      <use x=\"678.369141\" xlink:href=\"#DejaVuSans-55\"/>\r\n      <use x=\"741.992188\" xlink:href=\"#DejaVuSans-44\"/>\r\n      <use x=\"773.779297\" xlink:href=\"#DejaVuSans-52\"/>\r\n      <use x=\"837.402344\" xlink:href=\"#DejaVuSans-41\"/>\r\n     </g>\r\n    </g>\r\n   </g>\r\n  </g>\r\n </g>\r\n <defs>\r\n  <clipPath id=\"p169a9e45fc\">\r\n   <rect height=\"217.44\" width=\"334.8\" x=\"51.378125\" y=\"7.2\"/>\r\n  </clipPath>\r\n </defs>\r\n</svg>\r\n",
      "image/png": "[encoded data removed]"
     },
     "metadata": {
      "needs_background": "light"
     }
    }
   ],
   "source": [
    "# ploting ber curve\n",
    "import matplotlib.pyplot as plt\n",
    "from scipy import interpolate\n",
    "plt.plot(EbNodB_range, ber, 'bo',label='Autoencoder({},{})'.format(n_channel, k))\n",
    "plt.yscale('log')\n",
    "plt.xlabel('SNR Range')\n",
    "plt.ylabel('Block Error Rate')\n",
    "plt.grid()\n",
    "plt.legend(loc='upper right',ncol = 1)"
   ]
  },
  {
   "cell_type": "code",
   "execution_count": 24,
   "metadata": {},
   "outputs": [],
   "source": [
    "# for saving figure remove below comment\n",
    "#plt.savefig('AutoEncoder_2_2_constrained_BER_matplotlib')\n",
    "plt.show()"
   ]
  }
 ],
 "metadata": {
  "anaconda-cloud": {},
  "kernelspec": {
   "display_name": "Python 3",
   "language": "python",
   "name": "python3"
  },
  "language_info": {
   "codemirror_mode": {
    "name": "ipython",
    "version": 3
   },
   "file_extension": ".py",
   "mimetype": "text/x-python",
   "name": "python",
   "nbconvert_exporter": "python",
   "pygments_lexer": "ipython3",
   "version": "3.5.3"
  }
 },
 "nbformat": 4,
 "nbformat_minor": 2
}