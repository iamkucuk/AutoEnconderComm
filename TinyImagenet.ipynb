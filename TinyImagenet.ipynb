{
 "cells": [
  {
   "cell_type": "markdown",
   "metadata": {},
   "source": [
    "# Decision Process of Network Hyper-Parameters\n",
    "## Prepared by Furkan Küçük for DataBoss Analytics Job Application\n",
    "\n",
    "Decision process of a machine learning pipeline can get very trivial. In this notebook, I will try to explain my general approach on hyper-parameter tuning. \n",
    "\n",
    "First of all, hyper-parameter decision process might take some time. This may be due to shortage of resources (like having a low-spec hardware) or time. Especially tasks on computer vision may take some time since datasets of computer vision tasks may be challenging, have clutter, hard to label etc. Besides, since computer vision tasks are relatively more complicated, it may need more complex deep learning architectures.\n",
    "\n",
    "Important note: This task is being done with a relatively low-spec hardware(Google Colab). Hence, one may need to tune hyper-parameters with pre-acquired insights. The experiments will be held with a light network architecture and will have an assumption for found parameters will apply for all conditions. However, despite this is not an accurate assumption since different hyper-parameters may perform better under different conditions, this experiments can provide a good start point for further hyper-parameter tuning."
   ]
  },
  {
   "cell_type": "code",
   "execution_count": 1,
   "metadata": {
    "pycharm": {
     "is_executing": false
    }
   },
   "outputs": [],
   "source": [
    "# imports\n",
    "import math\n",
    "import os\n",
    "import torch\n",
    "from torch import nn, optim\n",
    "from torch.optim.lr_scheduler import _LRScheduler\n",
    "from torch.utils.data import DataLoader\n",
    "from torchvision import transforms, datasets\n",
    "import torch.nn.functional as F\n",
    "from dataset_utils import alternativeSeperation\n",
    "from model_utils import ModelEngine"
   ]
  },
  {
   "cell_type": "markdown",
   "metadata": {},
   "source": [
    "Before beggining any machine learning task, one have to prepare project specific data. Tiny Imagenet dataset comes with 3 folders; for training, for validation and for testing. Training folder is well structured for PyTorch's prebuilt ImageFolder dataset handler. However, validation folder has all images in one folder, and labels of them in a text file. I implemented 2 alternatives for dealing such a task. \n",
    "- (Alternative) First one of the alternatives, is an extension for PyTorch's \"nn.Dataset\" class, gets images according to text file. This alternative introduces some overhead to system since it labels all images as the training goes. Further explaination can be obtained from class doc.\n",
    "- (Preferred) Second alternative is a function that seperates images among class folders that created correspondingly. With this function, the need of RAM usage for holding label information becomes unnecessary. This function also enables user to use PyTorch's \"ImageFolder\" implementation."
   ]
  },
  {
   "cell_type": "code",
   "execution_count": 2,
   "metadata": {
    "pycharm": {
     "is_executing": false,
     "name": "#%%\n"
    }
   },
   "outputs": [],
   "source": [
    "# alternativeSeperation()"
   ]
  },
  {
   "cell_type": "markdown",
   "metadata": {
    "pycharm": {
     "is_executing": false,
     "name": "#%%\nmd\n"
    }
   },
   "source": [
    "Definition: A loss landscape is a multi-dimensional representation of loss functions. For more information please take a look at [1].\n",
    "\n",
    "In computer vision tasks, most of the loss landscapes are not convex. This property of loss landscapes makes it hard to find the global optima. There are 3 main elements that affects the loss landscape severely; loss function, data distribution and model architecture. (Other hyper-parameters also affect loss landscapes) In computer vision, this data distribution can be adjusted slightly to lead the machine learning pipeline to find the global optima. (or at least a good local optima)\n",
    "\n",
    "- First adjustment should be channel normalization. Normalization is an important step to have an easier loss landscape. In machine learning projects, all features may have their own distributions. However, numerically, a distribution significantly different from other ones (e.g. a distribution with much larger samples) may affect loss landscape severely and decreases gradients on a dimension while increases on another one. (In other words, the optimizer may think that a feature is more important than other one) With channel normalization, one may prevent that issue. This process can be done by statistically analyzing datasets channel distribution. \n",
    "\n",
    "- Data augmentation may be nice to have tool for exploration of loss landscape. A dataset can only represent a partition of a real distribution. With data augmentation, one can slightly increase the coverage of that representation and in some ways enhance it. Some of the benefits of data augmentation are:\n",
    "    - May prevent overfitting (in some cases) for classes by changing translation, rotation, angle etc.\n",
    "    - May balance a dataset that is unbalanced so, the bias of model can be decreased.\n",
    "    - Increase of coverage may lead to better generalization.\n",
    "    \n",
    "    <br>Some ways to augment image data are:</br>\n",
    "   \n",
    "   \n",
    "    - Random cropping-resizing-rotation\n",
    "    - Horizontal and vertical flips\n",
    "    - Random erasure\n",
    "    - Hue and color shifts\n",
    "    - Shearing, tilting and skewing\n",
    "    - Adding jitter and random noise\n",
    "    - Random distortions\n",
    "    \n",
    "However, data augmentation is just replicating an image with some distortions and noise. Overdoing may harm generalization. In this project, very little amount of augmentation will be used.\n",
    "\n",
    "In this part, we will find out which augmentation performs better for our case.\n",
    "\n",
    "[1] https://arxiv.org/pdf/1712.09913.pdf"
   ]
  },
  {
   "cell_type": "code",
   "execution_count": 80,
   "metadata": {},
   "outputs": [],
   "source": [
    "normalize = transforms.Normalize(mean=[0.5, 0.5, 0.5],\n",
    "                                 std=[0.5, 0.5, 0.5])\n",
    "transformations_simple = {\n",
    "    'train': transforms.Compose([\n",
    "        transforms.CenterCrop(57),\n",
    "        transforms.ToTensor(),\n",
    "        normalize\n",
    "    ]),\n",
    "    'val': transforms.Compose([\n",
    "        transforms.CenterCrop(57),\n",
    "        transforms.ToTensor(),\n",
    "        normalize\n",
    "    ]),\n",
    "    'test': transforms.Compose([\n",
    "        transforms.CenterCrop(57),\n",
    "        transforms.ToTensor(),\n",
    "        normalize\n",
    "    ])\n",
    "}\n",
    "\n",
    "data_dir = \"data\"\n",
    "\n",
    "image_datasets_simple = {x: datasets.ImageFolder(os.path.join(data_dir, x),\n",
    "                                          transformations_simple[x])\n",
    "                  for x in ['train', 'val']}\n",
    "dataloaders_simple = {x: DataLoader(image_datasets_simple[x], batch_size=64,\n",
    "                             shuffle=True)\n",
    "               for x in ['train', 'val']}"
   ]
  },
  {
   "cell_type": "code",
   "execution_count": 81,
   "metadata": {
    "jupyter": {
     "outputs_hidden": false
    },
    "pycharm": {
     "name": "#%%\n"
    }
   },
   "outputs": [],
   "source": [
    "transformations = {\n",
    "    'train': transforms.Compose([\n",
    "        transforms.RandomCrop(57),\n",
    "        transforms.RandomHorizontalFlip(),\n",
    "        transforms.ToTensor(),\n",
    "        normalize\n",
    "    ]),\n",
    "    'val': transforms.Compose([\n",
    "        transforms.Resize(57),\n",
    "        transforms.ToTensor(),\n",
    "        normalize\n",
    "    ]),\n",
    "    'test': transforms.Compose([\n",
    "        transforms.Resize(57),\n",
    "        transforms.ToTensor(),\n",
    "        normalize\n",
    "    ])\n",
    "}\n",
    "\n",
    "image_datasets = {x: datasets.ImageFolder(os.path.join(data_dir, x),\n",
    "                                          transformations[x])\n",
    "                  for x in ['train', 'val']}\n",
    "dataloaders = {x: DataLoader(image_datasets[x], batch_size=64,\n",
    "                             shuffle=True)\n",
    "               for x in ['train', 'val']}"
   ]
  },
  {
   "cell_type": "markdown",
   "metadata": {},
   "source": [
    "One may need to create a network architecture to experiment on. As mentioned before, in this notebook, a single simple network will be created to evaluate some hyper-parameters. Due to limited hardware, optimization for some hyper-parameters will be done with this network. This approach is not accurate, as different hyper-parameters may perform better or worse under different architectures. However, this method may, at least, provide a good starting point for further optimization, as this procedure gives a rough idea on how augmentations affect the loss landscape."
   ]
  },
  {
   "cell_type": "code",
   "execution_count": 5,
   "metadata": {
    "pycharm": {
     "is_executing": false,
     "name": "#%%\n"
    }
   },
   "outputs": [],
   "source": [
    "class ConvNetExperimental(nn.Module):\n",
    "    \"\"\"\n",
    "    Initial model to experiment on.\n",
    "    \"\"\"\n",
    "    def __init__(self):\n",
    "        super(ConvNetExperimental, self).__init__()\n",
    "        self.feature_extractor = nn.Sequential(\n",
    "            nn.Conv2d(in_channels=3, out_channels=128, kernel_size=3, stride=1),\n",
    "            nn.ReLU(),  \n",
    "            nn.Conv2d(in_channels=128, out_channels=256, kernel_size=3, stride=1),\n",
    "            nn.ReLU(),\n",
    "            nn.MaxPool2d(2, 2),\n",
    "            nn.Conv2d(in_channels=256, out_channels=256, kernel_size=3, stride=1),\n",
    "            nn.ReLU(),\n",
    "            nn.MaxPool2d(2, 2),\n",
    "            nn.Conv2d(in_channels=256, out_channels=512, kernel_size=3, stride=1),\n",
    "            nn.ReLU(),\n",
    "            nn.MaxPool2d(2, 2),  \n",
    "            nn.Conv2d(in_channels=512, out_channels=384, kernel_size=3, stride=1),\n",
    "            nn.ReLU(),\n",
    "        )\n",
    "        self.fc = nn.Linear(384 * 3 * 3, 200)\n",
    "        \n",
    "    def forward(self, inputs):\n",
    "        x = self.feature_extractor(inputs)\n",
    "        return self.fc(x.view(x.size(0), -1))\n",
    "    \n",
    "# model = ConvNetExperimental()\n",
    "# out = model(torch.zeros(1, 3, 57, 57))\n",
    "# out.shape"
   ]
  },
  {
   "cell_type": "code",
   "execution_count": 6,
   "metadata": {
    "pycharm": {
     "is_executing": false,
     "name": "#%%\n"
    }
   },
   "outputs": [
    {
     "name": "stdout",
     "output_type": "stream",
     "text": [
      "Using device cuda:0\n"
     ]
    }
   ],
   "source": [
    "simple_model = ConvNetExperimental()\n",
    "simple_criterion = nn.CrossEntropyLoss()\n",
    "simple_optimizer = optim.Adam(simple_model.parameters())\n",
    "simple_engine = ModelEngine(simple_model, simple_criterion, simple_optimizer, model_name=\"SimpleModel1\")"
   ]
  },
  {
   "cell_type": "code",
   "execution_count": 7,
   "metadata": {
    "scrolled": true
   },
   "outputs": [
    {
     "data": {
      "application/vnd.jupyter.widget-view+json": {
       "model_id": "0148e6815938422886da3ae6d58ff55d",
       "version_major": 2,
       "version_minor": 0
      },
      "text/plain": [
       "HBox(children=(FloatProgress(value=0.0, description='Epochs', max=10.0, style=ProgressStyle(description_width=…"
      ]
     },
     "metadata": {},
     "output_type": "display_data"
    },
    {
     "data": {
      "application/vnd.jupyter.widget-view+json": {
       "model_id": "",
       "version_major": 2,
       "version_minor": 0
      },
      "text/plain": [
       "HBox(children=(FloatProgress(value=0.0, description='Iterations', max=1563.0, style=ProgressStyle(description_…"
      ]
     },
     "metadata": {},
     "output_type": "display_data"
    },
    {
     "data": {
      "application/vnd.jupyter.widget-view+json": {
       "model_id": "",
       "version_major": 2,
       "version_minor": 0
      },
      "text/plain": [
       "HBox(children=(FloatProgress(value=0.0, description='Iterations', max=157.0, style=ProgressStyle(description_w…"
      ]
     },
     "metadata": {},
     "output_type": "display_data"
    },
    {
     "data": {
      "application/vnd.jupyter.widget-view+json": {
       "model_id": "",
       "version_major": 2,
       "version_minor": 0
      },
      "text/plain": [
       "HBox(children=(FloatProgress(value=0.0, description='Iterations', max=1563.0, style=ProgressStyle(description_…"
      ]
     },
     "metadata": {},
     "output_type": "display_data"
    },
    {
     "data": {
      "application/vnd.jupyter.widget-view+json": {
       "model_id": "",
       "version_major": 2,
       "version_minor": 0
      },
      "text/plain": [
       "HBox(children=(FloatProgress(value=0.0, description='Iterations', max=157.0, style=ProgressStyle(description_w…"
      ]
     },
     "metadata": {},
     "output_type": "display_data"
    },
    {
     "data": {
      "application/vnd.jupyter.widget-view+json": {
       "model_id": "",
       "version_major": 2,
       "version_minor": 0
      },
      "text/plain": [
       "HBox(children=(FloatProgress(value=0.0, description='Iterations', max=1563.0, style=ProgressStyle(description_…"
      ]
     },
     "metadata": {},
     "output_type": "display_data"
    },
    {
     "data": {
      "application/vnd.jupyter.widget-view+json": {
       "model_id": "",
       "version_major": 2,
       "version_minor": 0
      },
      "text/plain": [
       "HBox(children=(FloatProgress(value=0.0, description='Iterations', max=157.0, style=ProgressStyle(description_w…"
      ]
     },
     "metadata": {},
     "output_type": "display_data"
    },
    {
     "data": {
      "application/vnd.jupyter.widget-view+json": {
       "model_id": "",
       "version_major": 2,
       "version_minor": 0
      },
      "text/plain": [
       "HBox(children=(FloatProgress(value=0.0, description='Iterations', max=1563.0, style=ProgressStyle(description_…"
      ]
     },
     "metadata": {},
     "output_type": "display_data"
    },
    {
     "data": {
      "application/vnd.jupyter.widget-view+json": {
       "model_id": "",
       "version_major": 2,
       "version_minor": 0
      },
      "text/plain": [
       "HBox(children=(FloatProgress(value=0.0, description='Iterations', max=157.0, style=ProgressStyle(description_w…"
      ]
     },
     "metadata": {},
     "output_type": "display_data"
    },
    {
     "data": {
      "application/vnd.jupyter.widget-view+json": {
       "model_id": "",
       "version_major": 2,
       "version_minor": 0
      },
      "text/plain": [
       "HBox(children=(FloatProgress(value=0.0, description='Iterations', max=1563.0, style=ProgressStyle(description_…"
      ]
     },
     "metadata": {},
     "output_type": "display_data"
    },
    {
     "data": {
      "application/vnd.jupyter.widget-view+json": {
       "model_id": "",
       "version_major": 2,
       "version_minor": 0
      },
      "text/plain": [
       "HBox(children=(FloatProgress(value=0.0, description='Iterations', max=157.0, style=ProgressStyle(description_w…"
      ]
     },
     "metadata": {},
     "output_type": "display_data"
    },
    {
     "data": {
      "application/vnd.jupyter.widget-view+json": {
       "model_id": "",
       "version_major": 2,
       "version_minor": 0
      },
      "text/plain": [
       "HBox(children=(FloatProgress(value=0.0, description='Iterations', max=1563.0, style=ProgressStyle(description_…"
      ]
     },
     "metadata": {},
     "output_type": "display_data"
    },
    {
     "data": {
      "application/vnd.jupyter.widget-view+json": {
       "model_id": "",
       "version_major": 2,
       "version_minor": 0
      },
      "text/plain": [
       "HBox(children=(FloatProgress(value=0.0, description='Iterations', max=157.0, style=ProgressStyle(description_w…"
      ]
     },
     "metadata": {},
     "output_type": "display_data"
    },
    {
     "data": {
      "application/vnd.jupyter.widget-view+json": {
       "model_id": "",
       "version_major": 2,
       "version_minor": 0
      },
      "text/plain": [
       "HBox(children=(FloatProgress(value=0.0, description='Iterations', max=1563.0, style=ProgressStyle(description_…"
      ]
     },
     "metadata": {},
     "output_type": "display_data"
    },
    {
     "data": {
      "application/vnd.jupyter.widget-view+json": {
       "model_id": "",
       "version_major": 2,
       "version_minor": 0
      },
      "text/plain": [
       "HBox(children=(FloatProgress(value=0.0, description='Iterations', max=157.0, style=ProgressStyle(description_w…"
      ]
     },
     "metadata": {},
     "output_type": "display_data"
    },
    {
     "data": {
      "application/vnd.jupyter.widget-view+json": {
       "model_id": "",
       "version_major": 2,
       "version_minor": 0
      },
      "text/plain": [
       "HBox(children=(FloatProgress(value=0.0, description='Iterations', max=1563.0, style=ProgressStyle(description_…"
      ]
     },
     "metadata": {},
     "output_type": "display_data"
    },
    {
     "data": {
      "application/vnd.jupyter.widget-view+json": {
       "model_id": "",
       "version_major": 2,
       "version_minor": 0
      },
      "text/plain": [
       "HBox(children=(FloatProgress(value=0.0, description='Iterations', max=157.0, style=ProgressStyle(description_w…"
      ]
     },
     "metadata": {},
     "output_type": "display_data"
    },
    {
     "data": {
      "application/vnd.jupyter.widget-view+json": {
       "model_id": "",
       "version_major": 2,
       "version_minor": 0
      },
      "text/plain": [
       "HBox(children=(FloatProgress(value=0.0, description='Iterations', max=1563.0, style=ProgressStyle(description_…"
      ]
     },
     "metadata": {},
     "output_type": "display_data"
    },
    {
     "data": {
      "application/vnd.jupyter.widget-view+json": {
       "model_id": "",
       "version_major": 2,
       "version_minor": 0
      },
      "text/plain": [
       "HBox(children=(FloatProgress(value=0.0, description='Iterations', max=157.0, style=ProgressStyle(description_w…"
      ]
     },
     "metadata": {},
     "output_type": "display_data"
    },
    {
     "data": {
      "application/vnd.jupyter.widget-view+json": {
       "model_id": "",
       "version_major": 2,
       "version_minor": 0
      },
      "text/plain": [
       "HBox(children=(FloatProgress(value=0.0, description='Iterations', max=1563.0, style=ProgressStyle(description_…"
      ]
     },
     "metadata": {},
     "output_type": "display_data"
    },
    {
     "data": {
      "application/vnd.jupyter.widget-view+json": {
       "model_id": "",
       "version_major": 2,
       "version_minor": 0
      },
      "text/plain": [
       "HBox(children=(FloatProgress(value=0.0, description='Iterations', max=157.0, style=ProgressStyle(description_w…"
      ]
     },
     "metadata": {},
     "output_type": "display_data"
    },
    {
     "name": "stdout",
     "output_type": "stream",
     "text": [
      "\n"
     ]
    }
   ],
   "source": [
    "simple_engine.fit(dataloaders_simple)"
   ]
  },
  {
   "cell_type": "markdown",
   "metadata": {},
   "source": [
    "The created network is rather simple, however, is able to generalize the given dataset relatively. The simplicity of network also makes the experimenting procedure faster. Please note that, the given dataset is just a center cropped version of the original dataset to 57x57 resolution. One can observe the training loss and validation loss curves from TensorBoard. From these curves, one can observe that the model has a slight overfit issue. This slight overfit may indicate a bad local optima. It is a good practice to augment the data and find the optimal augmentations for the current network architectures. As mentioned before, this may lead to a better loss landscape, thus better generalization."
   ]
  },
  {
   "cell_type": "code",
   "execution_count": 25,
   "metadata": {
    "pycharm": {
     "is_executing": false,
     "name": "#%%\n"
    }
   },
   "outputs": [
    {
     "name": "stdout",
     "output_type": "stream",
     "text": [
      "Using device cuda:0\n"
     ]
    }
   ],
   "source": [
    "augmented_model = ConvNetExperimental()\n",
    "augmented_criterion = nn.CrossEntropyLoss()\n",
    "augmented_optimizer = optim.Adam(augmented_model.parameters())\n",
    "augmented_engine = ModelEngine(augmented_model, augmented_criterion, augmented_optimizer, model_name=\"AugmentedModel1\")"
   ]
  },
  {
   "cell_type": "code",
   "execution_count": 26,
   "metadata": {},
   "outputs": [
    {
     "data": {
      "application/vnd.jupyter.widget-view+json": {
       "model_id": "bdb13fa3ce1c48dfa3379aa57e4d26ca",
       "version_major": 2,
       "version_minor": 0
      },
      "text/plain": [
       "HBox(children=(FloatProgress(value=0.0, description='Epochs', max=10.0, style=ProgressStyle(description_width=…"
      ]
     },
     "metadata": {},
     "output_type": "display_data"
    },
    {
     "data": {
      "application/vnd.jupyter.widget-view+json": {
       "model_id": "",
       "version_major": 2,
       "version_minor": 0
      },
      "text/plain": [
       "HBox(children=(FloatProgress(value=0.0, description='Iterations', max=1563.0, style=ProgressStyle(description_…"
      ]
     },
     "metadata": {},
     "output_type": "display_data"
    },
    {
     "data": {
      "application/vnd.jupyter.widget-view+json": {
       "model_id": "",
       "version_major": 2,
       "version_minor": 0
      },
      "text/plain": [
       "HBox(children=(FloatProgress(value=0.0, description='Iterations', max=157.0, style=ProgressStyle(description_w…"
      ]
     },
     "metadata": {},
     "output_type": "display_data"
    },
    {
     "data": {
      "application/vnd.jupyter.widget-view+json": {
       "model_id": "",
       "version_major": 2,
       "version_minor": 0
      },
      "text/plain": [
       "HBox(children=(FloatProgress(value=0.0, description='Iterations', max=1563.0, style=ProgressStyle(description_…"
      ]
     },
     "metadata": {},
     "output_type": "display_data"
    },
    {
     "data": {
      "application/vnd.jupyter.widget-view+json": {
       "model_id": "",
       "version_major": 2,
       "version_minor": 0
      },
      "text/plain": [
       "HBox(children=(FloatProgress(value=0.0, description='Iterations', max=157.0, style=ProgressStyle(description_w…"
      ]
     },
     "metadata": {},
     "output_type": "display_data"
    },
    {
     "data": {
      "application/vnd.jupyter.widget-view+json": {
       "model_id": "",
       "version_major": 2,
       "version_minor": 0
      },
      "text/plain": [
       "HBox(children=(FloatProgress(value=0.0, description='Iterations', max=1563.0, style=ProgressStyle(description_…"
      ]
     },
     "metadata": {},
     "output_type": "display_data"
    },
    {
     "data": {
      "application/vnd.jupyter.widget-view+json": {
       "model_id": "",
       "version_major": 2,
       "version_minor": 0
      },
      "text/plain": [
       "HBox(children=(FloatProgress(value=0.0, description='Iterations', max=157.0, style=ProgressStyle(description_w…"
      ]
     },
     "metadata": {},
     "output_type": "display_data"
    },
    {
     "data": {
      "application/vnd.jupyter.widget-view+json": {
       "model_id": "",
       "version_major": 2,
       "version_minor": 0
      },
      "text/plain": [
       "HBox(children=(FloatProgress(value=0.0, description='Iterations', max=1563.0, style=ProgressStyle(description_…"
      ]
     },
     "metadata": {},
     "output_type": "display_data"
    },
    {
     "data": {
      "application/vnd.jupyter.widget-view+json": {
       "model_id": "",
       "version_major": 2,
       "version_minor": 0
      },
      "text/plain": [
       "HBox(children=(FloatProgress(value=0.0, description='Iterations', max=157.0, style=ProgressStyle(description_w…"
      ]
     },
     "metadata": {},
     "output_type": "display_data"
    },
    {
     "data": {
      "application/vnd.jupyter.widget-view+json": {
       "model_id": "",
       "version_major": 2,
       "version_minor": 0
      },
      "text/plain": [
       "HBox(children=(FloatProgress(value=0.0, description='Iterations', max=1563.0, style=ProgressStyle(description_…"
      ]
     },
     "metadata": {},
     "output_type": "display_data"
    },
    {
     "data": {
      "application/vnd.jupyter.widget-view+json": {
       "model_id": "",
       "version_major": 2,
       "version_minor": 0
      },
      "text/plain": [
       "HBox(children=(FloatProgress(value=0.0, description='Iterations', max=157.0, style=ProgressStyle(description_w…"
      ]
     },
     "metadata": {},
     "output_type": "display_data"
    },
    {
     "data": {
      "application/vnd.jupyter.widget-view+json": {
       "model_id": "",
       "version_major": 2,
       "version_minor": 0
      },
      "text/plain": [
       "HBox(children=(FloatProgress(value=0.0, description='Iterations', max=1563.0, style=ProgressStyle(description_…"
      ]
     },
     "metadata": {},
     "output_type": "display_data"
    },
    {
     "data": {
      "application/vnd.jupyter.widget-view+json": {
       "model_id": "",
       "version_major": 2,
       "version_minor": 0
      },
      "text/plain": [
       "HBox(children=(FloatProgress(value=0.0, description='Iterations', max=157.0, style=ProgressStyle(description_w…"
      ]
     },
     "metadata": {},
     "output_type": "display_data"
    },
    {
     "data": {
      "application/vnd.jupyter.widget-view+json": {
       "model_id": "",
       "version_major": 2,
       "version_minor": 0
      },
      "text/plain": [
       "HBox(children=(FloatProgress(value=0.0, description='Iterations', max=1563.0, style=ProgressStyle(description_…"
      ]
     },
     "metadata": {},
     "output_type": "display_data"
    },
    {
     "data": {
      "application/vnd.jupyter.widget-view+json": {
       "model_id": "",
       "version_major": 2,
       "version_minor": 0
      },
      "text/plain": [
       "HBox(children=(FloatProgress(value=0.0, description='Iterations', max=157.0, style=ProgressStyle(description_w…"
      ]
     },
     "metadata": {},
     "output_type": "display_data"
    },
    {
     "data": {
      "application/vnd.jupyter.widget-view+json": {
       "model_id": "",
       "version_major": 2,
       "version_minor": 0
      },
      "text/plain": [
       "HBox(children=(FloatProgress(value=0.0, description='Iterations', max=1563.0, style=ProgressStyle(description_…"
      ]
     },
     "metadata": {},
     "output_type": "display_data"
    },
    {
     "data": {
      "application/vnd.jupyter.widget-view+json": {
       "model_id": "",
       "version_major": 2,
       "version_minor": 0
      },
      "text/plain": [
       "HBox(children=(FloatProgress(value=0.0, description='Iterations', max=157.0, style=ProgressStyle(description_w…"
      ]
     },
     "metadata": {},
     "output_type": "display_data"
    },
    {
     "data": {
      "application/vnd.jupyter.widget-view+json": {
       "model_id": "",
       "version_major": 2,
       "version_minor": 0
      },
      "text/plain": [
       "HBox(children=(FloatProgress(value=0.0, description='Iterations', max=1563.0, style=ProgressStyle(description_…"
      ]
     },
     "metadata": {},
     "output_type": "display_data"
    },
    {
     "data": {
      "application/vnd.jupyter.widget-view+json": {
       "model_id": "",
       "version_major": 2,
       "version_minor": 0
      },
      "text/plain": [
       "HBox(children=(FloatProgress(value=0.0, description='Iterations', max=157.0, style=ProgressStyle(description_w…"
      ]
     },
     "metadata": {},
     "output_type": "display_data"
    },
    {
     "data": {
      "application/vnd.jupyter.widget-view+json": {
       "model_id": "",
       "version_major": 2,
       "version_minor": 0
      },
      "text/plain": [
       "HBox(children=(FloatProgress(value=0.0, description='Iterations', max=1563.0, style=ProgressStyle(description_…"
      ]
     },
     "metadata": {},
     "output_type": "display_data"
    },
    {
     "data": {
      "application/vnd.jupyter.widget-view+json": {
       "model_id": "",
       "version_major": 2,
       "version_minor": 0
      },
      "text/plain": [
       "HBox(children=(FloatProgress(value=0.0, description='Iterations', max=157.0, style=ProgressStyle(description_w…"
      ]
     },
     "metadata": {},
     "output_type": "display_data"
    },
    {
     "name": "stdout",
     "output_type": "stream",
     "text": [
      "\n"
     ]
    }
   ],
   "source": [
    "augmented_engine.fit(dataloaders)"
   ]
  },
  {
   "cell_type": "markdown",
   "metadata": {},
   "source": [
    "Graphics named \"AugmentedModel1\" shows the learning curves for a dataset augmentation with \"randomly cropped images\". As it can be seen from TensorBoard graphics, despite of the worse training time loss values, augmentation lead to better generalization for both practices. Validation curve shows that on each epoch, randomizing may lead better or worse training sequences.\n",
    "\n",
    "Most of the regularization methods mainly aim for better generalization, despite their different approaches. However, one can say that regularization methods are mostly to \"restrict the power of the method and prevent overfitting\" on irreducible error for specific model-dataset pair. \n",
    "\n",
    "The regularization parameters are omitted for those experiments, since they are not much needed. This is because the models are not powerful enough and thus, restricting power is not the highest priority. The gap between human level is much higher than the validation and training set. \n",
    "\n",
    "Important note: Powerful models will not be investigated in this notebook as they are expensive to train and hardware for such expensive experiments is not present."
   ]
  },
  {
   "cell_type": "code",
   "execution_count": 82,
   "metadata": {},
   "outputs": [],
   "source": [
    "class ConvNetWithResidualExperimental(nn.Module):\n",
    "    \"\"\"\n",
    "    Enhanced version of the previously created ConvNet with residual connection.\n",
    "    \"\"\"\n",
    "    def __init__(self, drop_rate = 0):\n",
    "        \"\"\"\n",
    "        Initialization function\n",
    "        :param drop_rate: Drop rate for dropout layer\n",
    "        \"\"\"\n",
    "        super(ConvNetWithResidualExperimental, self).__init__()\n",
    "        self.conv1 = nn.Conv2d(in_channels=3, out_channels=64, kernel_size=3, stride=1, padding=1)\n",
    "        self.conv2 = nn.Conv2d(in_channels=64, out_channels=128, kernel_size=3, stride=1, padding=1)\n",
    "        self.conv3 = nn.Conv2d(in_channels=256, out_channels=256, kernel_size=3, stride=1, padding=1)\n",
    "        self.conv4 = nn.Conv2d(in_channels=256, out_channels=512, kernel_size=3, stride=1, padding=1)\n",
    "        self.conv5 = nn.Conv2d(in_channels=1024, out_channels=1024, kernel_size=3, stride=1)\n",
    "        self.batch_norm1 = nn.BatchNorm2d(64)\n",
    "        self.batch_norm2 = nn.BatchNorm2d(128)\n",
    "        self.batch_norm3 = nn.BatchNorm2d(256)\n",
    "        self.batch_norm4 = nn.BatchNorm2d(512)\n",
    "        self.max_pool = nn.MaxPool2d(2)\n",
    "        self.avg_pool = nn.AvgPool2d(12)\n",
    "        self.relu = nn.ReLU()\n",
    "        self.size_fix1 = nn.Conv2d(in_channels=3, out_channels=128, kernel_size=3, stride=1, padding=1)\n",
    "        self.size_fix2 = nn.Conv2d(in_channels=256, out_channels=512, kernel_size=3, stride=1, padding=1)\n",
    "        self.dropout = nn.Dropout(drop_rate)\n",
    "\n",
    "        self.fc = nn.Linear(1024, 200)\n",
    "        \n",
    "    def forward(self, inputs):\n",
    "        residual1 = inputs\n",
    "        x = self.conv1(inputs)\n",
    "        x = self.batch_norm1(x)\n",
    "        x = self.relu(x)\n",
    "        x = self.conv2(x)\n",
    "        x = self.batch_norm2(x)\n",
    "        x = self.relu(x)\n",
    "        x = torch.cat((x, self.size_fix1(residual1)), 1)\n",
    "        x = self.max_pool(x)\n",
    "        residual2 = x\n",
    "        x = self.conv3(x)\n",
    "        x = self.batch_norm3(x)\n",
    "        x = self.relu(x)\n",
    "        x = self.conv4(x)\n",
    "        x = self.batch_norm4(x)\n",
    "        x = self.relu(x)\n",
    "        x = torch.cat((x, self.size_fix2(residual2)), 1)\n",
    "        x = self.max_pool(x)\n",
    "        x = self.conv5(x)\n",
    "        x = self.avg_pool(x)\n",
    "        x = x.view(x.size(0), -1)\n",
    "        x = self.dropout(x)\n",
    "        return self.fc(x)\n",
    "    \n",
    "# model = ConvNetWithResidualExperimental()\n",
    "# out = model(torch.zeros(1, 3, 57, 57))\n",
    "# out.shape"
   ]
  },
  {
   "cell_type": "code",
   "execution_count": 83,
   "metadata": {},
   "outputs": [
    {
     "name": "stdout",
     "output_type": "stream",
     "text": [
      "Using device cuda:0\n"
     ]
    }
   ],
   "source": [
    "resnet_model = ConvNetWithResidualExperimental()\n",
    "resnet_criterion = nn.CrossEntropyLoss()\n",
    "resnet_optimizer = optim.Adam(resnet_model.parameters())\n",
    "resnet_engine = ModelEngine(resnet_model, resnet_criterion, resnet_optimizer, model_name=\"ResNetModel1\")"
   ]
  },
  {
   "cell_type": "code",
   "execution_count": 84,
   "metadata": {
    "pycharm": {
     "name": "#%%\n"
    }
   },
   "outputs": [
    {
     "data": {
      "application/vnd.jupyter.widget-view+json": {
       "model_id": "8740a95a133c4cf3b9ff0323023923dc",
       "version_major": 2,
       "version_minor": 0
      },
      "text/plain": [
       "HBox(children=(FloatProgress(value=0.0, description='Epochs', max=10.0, style=ProgressStyle(description_width=…"
      ]
     },
     "metadata": {},
     "output_type": "display_data"
    },
    {
     "data": {
      "application/vnd.jupyter.widget-view+json": {
       "model_id": "",
       "version_major": 2,
       "version_minor": 0
      },
      "text/plain": [
       "HBox(children=(FloatProgress(value=0.0, description='Iterations', max=1563.0, style=ProgressStyle(description_…"
      ]
     },
     "metadata": {},
     "output_type": "display_data"
    },
    {
     "data": {
      "application/vnd.jupyter.widget-view+json": {
       "model_id": "",
       "version_major": 2,
       "version_minor": 0
      },
      "text/plain": [
       "HBox(children=(FloatProgress(value=0.0, description='Iterations', max=157.0, style=ProgressStyle(description_w…"
      ]
     },
     "metadata": {},
     "output_type": "display_data"
    },
    {
     "data": {
      "application/vnd.jupyter.widget-view+json": {
       "model_id": "",
       "version_major": 2,
       "version_minor": 0
      },
      "text/plain": [
       "HBox(children=(FloatProgress(value=0.0, description='Iterations', max=1563.0, style=ProgressStyle(description_…"
      ]
     },
     "metadata": {},
     "output_type": "display_data"
    },
    {
     "data": {
      "application/vnd.jupyter.widget-view+json": {
       "model_id": "",
       "version_major": 2,
       "version_minor": 0
      },
      "text/plain": [
       "HBox(children=(FloatProgress(value=0.0, description='Iterations', max=157.0, style=ProgressStyle(description_w…"
      ]
     },
     "metadata": {},
     "output_type": "display_data"
    },
    {
     "data": {
      "application/vnd.jupyter.widget-view+json": {
       "model_id": "",
       "version_major": 2,
       "version_minor": 0
      },
      "text/plain": [
       "HBox(children=(FloatProgress(value=0.0, description='Iterations', max=1563.0, style=ProgressStyle(description_…"
      ]
     },
     "metadata": {},
     "output_type": "display_data"
    },
    {
     "data": {
      "application/vnd.jupyter.widget-view+json": {
       "model_id": "",
       "version_major": 2,
       "version_minor": 0
      },
      "text/plain": [
       "HBox(children=(FloatProgress(value=0.0, description='Iterations', max=157.0, style=ProgressStyle(description_w…"
      ]
     },
     "metadata": {},
     "output_type": "display_data"
    },
    {
     "data": {
      "application/vnd.jupyter.widget-view+json": {
       "model_id": "",
       "version_major": 2,
       "version_minor": 0
      },
      "text/plain": [
       "HBox(children=(FloatProgress(value=0.0, description='Iterations', max=1563.0, style=ProgressStyle(description_…"
      ]
     },
     "metadata": {},
     "output_type": "display_data"
    },
    {
     "data": {
      "application/vnd.jupyter.widget-view+json": {
       "model_id": "",
       "version_major": 2,
       "version_minor": 0
      },
      "text/plain": [
       "HBox(children=(FloatProgress(value=0.0, description='Iterations', max=157.0, style=ProgressStyle(description_w…"
      ]
     },
     "metadata": {},
     "output_type": "display_data"
    },
    {
     "data": {
      "application/vnd.jupyter.widget-view+json": {
       "model_id": "",
       "version_major": 2,
       "version_minor": 0
      },
      "text/plain": [
       "HBox(children=(FloatProgress(value=0.0, description='Iterations', max=1563.0, style=ProgressStyle(description_…"
      ]
     },
     "metadata": {},
     "output_type": "display_data"
    },
    {
     "data": {
      "application/vnd.jupyter.widget-view+json": {
       "model_id": "",
       "version_major": 2,
       "version_minor": 0
      },
      "text/plain": [
       "HBox(children=(FloatProgress(value=0.0, description='Iterations', max=157.0, style=ProgressStyle(description_w…"
      ]
     },
     "metadata": {},
     "output_type": "display_data"
    },
    {
     "data": {
      "application/vnd.jupyter.widget-view+json": {
       "model_id": "",
       "version_major": 2,
       "version_minor": 0
      },
      "text/plain": [
       "HBox(children=(FloatProgress(value=0.0, description='Iterations', max=1563.0, style=ProgressStyle(description_…"
      ]
     },
     "metadata": {},
     "output_type": "display_data"
    },
    {
     "data": {
      "application/vnd.jupyter.widget-view+json": {
       "model_id": "",
       "version_major": 2,
       "version_minor": 0
      },
      "text/plain": [
       "HBox(children=(FloatProgress(value=0.0, description='Iterations', max=157.0, style=ProgressStyle(description_w…"
      ]
     },
     "metadata": {},
     "output_type": "display_data"
    },
    {
     "data": {
      "application/vnd.jupyter.widget-view+json": {
       "model_id": "",
       "version_major": 2,
       "version_minor": 0
      },
      "text/plain": [
       "HBox(children=(FloatProgress(value=0.0, description='Iterations', max=1563.0, style=ProgressStyle(description_…"
      ]
     },
     "metadata": {},
     "output_type": "display_data"
    },
    {
     "data": {
      "application/vnd.jupyter.widget-view+json": {
       "model_id": "",
       "version_major": 2,
       "version_minor": 0
      },
      "text/plain": [
       "HBox(children=(FloatProgress(value=0.0, description='Iterations', max=157.0, style=ProgressStyle(description_w…"
      ]
     },
     "metadata": {},
     "output_type": "display_data"
    },
    {
     "data": {
      "application/vnd.jupyter.widget-view+json": {
       "model_id": "",
       "version_major": 2,
       "version_minor": 0
      },
      "text/plain": [
       "HBox(children=(FloatProgress(value=0.0, description='Iterations', max=1563.0, style=ProgressStyle(description_…"
      ]
     },
     "metadata": {},
     "output_type": "display_data"
    },
    {
     "data": {
      "application/vnd.jupyter.widget-view+json": {
       "model_id": "",
       "version_major": 2,
       "version_minor": 0
      },
      "text/plain": [
       "HBox(children=(FloatProgress(value=0.0, description='Iterations', max=157.0, style=ProgressStyle(description_w…"
      ]
     },
     "metadata": {},
     "output_type": "display_data"
    },
    {
     "data": {
      "application/vnd.jupyter.widget-view+json": {
       "model_id": "",
       "version_major": 2,
       "version_minor": 0
      },
      "text/plain": [
       "HBox(children=(FloatProgress(value=0.0, description='Iterations', max=1563.0, style=ProgressStyle(description_…"
      ]
     },
     "metadata": {},
     "output_type": "display_data"
    },
    {
     "data": {
      "application/vnd.jupyter.widget-view+json": {
       "model_id": "",
       "version_major": 2,
       "version_minor": 0
      },
      "text/plain": [
       "HBox(children=(FloatProgress(value=0.0, description='Iterations', max=157.0, style=ProgressStyle(description_w…"
      ]
     },
     "metadata": {},
     "output_type": "display_data"
    },
    {
     "data": {
      "application/vnd.jupyter.widget-view+json": {
       "model_id": "",
       "version_major": 2,
       "version_minor": 0
      },
      "text/plain": [
       "HBox(children=(FloatProgress(value=0.0, description='Iterations', max=1563.0, style=ProgressStyle(description_…"
      ]
     },
     "metadata": {},
     "output_type": "display_data"
    },
    {
     "data": {
      "application/vnd.jupyter.widget-view+json": {
       "model_id": "",
       "version_major": 2,
       "version_minor": 0
      },
      "text/plain": [
       "HBox(children=(FloatProgress(value=0.0, description='Iterations', max=157.0, style=ProgressStyle(description_w…"
      ]
     },
     "metadata": {},
     "output_type": "display_data"
    },
    {
     "name": "stdout",
     "output_type": "stream",
     "text": [
      "\n"
     ]
    }
   ],
   "source": [
    "resnet_engine.fit(dataloaders)"
   ]
  },
  {
   "cell_type": "markdown",
   "metadata": {},
   "source": [
    "The model seems to overfit on the dataset. Some measures of regularization can be adapted to solve this issue. Some of the regularization methods did not applied till now are:\n",
    "- L1-L2 regularization\n",
    "- Dropout\n",
    "- (Further) Augmentation\n",
    "- Stochastic Pooling [1]\n",
    "\n",
    "Further augmentation and stochastic pooling will not be implemented for this project due to time restrictions.\n",
    "\n",
    "L2 regularization is a widely adapted regularization method for prevent underfitting and better generalization. The simple mathematical formula of the L2 regularization is shown below."
   ]
  },
  {
   "cell_type": "markdown",
   "metadata": {},
   "source": [
    "$$Loss(\\hat{y}, y) + \\lambda * \\sum_j {\\beta_j^2}$$"
   ]
  },
  {
   "cell_type": "markdown",
   "metadata": {},
   "source": [
    "As it can be seen from the formula, by adding a penalty to each parameter( $\\beta_j$ ) for being large, this regularizer forces parameters to be as low as possible. With that way, the search space of parameters is being forced to shrink. This is also called \"weight decay\". \n",
    "\n",
    "However, L2 regularization shouldn't be applied with the classic Adam optimizer. Please take a look at second item of the \"Notes On Optimizers\" section. "
   ]
  },
  {
   "cell_type": "markdown",
   "metadata": {
    "pycharm": {
     "name": "#%% md\n"
    }
   },
   "source": [
    "## Notes On Optimizers\n",
    "- While adaptive methods (especially Adam optimizer) are widely used for experimenting and hyper-parameter tuning, a sequence of partial training procedures employing SGD optimizer by watching learning curve carefully and adapting learning rate accordingly among these training procedures performs the best for the final training. Please note that this performance may vary depending on Machine Learning Engineer's insights.\n",
    "\n",
    "- Adam optimizer is very popular as it is good for experimenting and performs on acceptable levels. While Adam performs good on practice, theoretically, Adam optimizer has a calculation error in adaptive weight decay section. However, this issue only affects  the earlier stages of the training procedure and does not impact the procedure heavily."
   ]
  },
  {
   "cell_type": "code",
   "execution_count": 47,
   "metadata": {
    "pycharm": {
     "is_executing": false,
     "name": "#%%\n"
    }
   },
   "outputs": [
    {
     "name": "stdout",
     "output_type": "stream",
     "text": [
      "Using device cuda:0\n"
     ]
    }
   ],
   "source": [
    "resnet_model = ConvNetWithResidualExperimental(.2)\n",
    "resnet_criterion = nn.CrossEntropyLoss()\n",
    "resnet_optimizer = optim.Adam(resnet_model.parameters(), weight_decay=.00001)\n",
    "resnet_engine = ModelEngine(resnet_model, resnet_criterion, resnet_optimizer, model_name=\"ResNetModel3\")"
   ]
  },
  {
   "cell_type": "code",
   "execution_count": 48,
   "metadata": {
    "pycharm": {
     "name": "#%%\n"
    },
    "scrolled": true
   },
   "outputs": [
    {
     "data": {
      "application/vnd.jupyter.widget-view+json": {
       "model_id": "edc9912610814242a54274f94f747db7",
       "version_major": 2,
       "version_minor": 0
      },
      "text/plain": [
       "HBox(children=(FloatProgress(value=0.0, description='Epochs', max=10.0, style=ProgressStyle(description_width=…"
      ]
     },
     "metadata": {},
     "output_type": "display_data"
    },
    {
     "data": {
      "application/vnd.jupyter.widget-view+json": {
       "model_id": "",
       "version_major": 2,
       "version_minor": 0
      },
      "text/plain": [
       "HBox(children=(FloatProgress(value=0.0, description='Iterations', max=1563.0, style=ProgressStyle(description_…"
      ]
     },
     "metadata": {},
     "output_type": "display_data"
    },
    {
     "data": {
      "application/vnd.jupyter.widget-view+json": {
       "model_id": "",
       "version_major": 2,
       "version_minor": 0
      },
      "text/plain": [
       "HBox(children=(FloatProgress(value=0.0, description='Iterations', max=157.0, style=ProgressStyle(description_w…"
      ]
     },
     "metadata": {},
     "output_type": "display_data"
    },
    {
     "data": {
      "application/vnd.jupyter.widget-view+json": {
       "model_id": "",
       "version_major": 2,
       "version_minor": 0
      },
      "text/plain": [
       "HBox(children=(FloatProgress(value=0.0, description='Iterations', max=1563.0, style=ProgressStyle(description_…"
      ]
     },
     "metadata": {},
     "output_type": "display_data"
    },
    {
     "data": {
      "application/vnd.jupyter.widget-view+json": {
       "model_id": "",
       "version_major": 2,
       "version_minor": 0
      },
      "text/plain": [
       "HBox(children=(FloatProgress(value=0.0, description='Iterations', max=157.0, style=ProgressStyle(description_w…"
      ]
     },
     "metadata": {},
     "output_type": "display_data"
    },
    {
     "data": {
      "application/vnd.jupyter.widget-view+json": {
       "model_id": "",
       "version_major": 2,
       "version_minor": 0
      },
      "text/plain": [
       "HBox(children=(FloatProgress(value=0.0, description='Iterations', max=1563.0, style=ProgressStyle(description_…"
      ]
     },
     "metadata": {},
     "output_type": "display_data"
    },
    {
     "data": {
      "application/vnd.jupyter.widget-view+json": {
       "model_id": "",
       "version_major": 2,
       "version_minor": 0
      },
      "text/plain": [
       "HBox(children=(FloatProgress(value=0.0, description='Iterations', max=157.0, style=ProgressStyle(description_w…"
      ]
     },
     "metadata": {},
     "output_type": "display_data"
    },
    {
     "data": {
      "application/vnd.jupyter.widget-view+json": {
       "model_id": "",
       "version_major": 2,
       "version_minor": 0
      },
      "text/plain": [
       "HBox(children=(FloatProgress(value=0.0, description='Iterations', max=1563.0, style=ProgressStyle(description_…"
      ]
     },
     "metadata": {},
     "output_type": "display_data"
    },
    {
     "data": {
      "application/vnd.jupyter.widget-view+json": {
       "model_id": "",
       "version_major": 2,
       "version_minor": 0
      },
      "text/plain": [
       "HBox(children=(FloatProgress(value=0.0, description='Iterations', max=157.0, style=ProgressStyle(description_w…"
      ]
     },
     "metadata": {},
     "output_type": "display_data"
    },
    {
     "data": {
      "application/vnd.jupyter.widget-view+json": {
       "model_id": "",
       "version_major": 2,
       "version_minor": 0
      },
      "text/plain": [
       "HBox(children=(FloatProgress(value=0.0, description='Iterations', max=1563.0, style=ProgressStyle(description_…"
      ]
     },
     "metadata": {},
     "output_type": "display_data"
    },
    {
     "data": {
      "application/vnd.jupyter.widget-view+json": {
       "model_id": "",
       "version_major": 2,
       "version_minor": 0
      },
      "text/plain": [
       "HBox(children=(FloatProgress(value=0.0, description='Iterations', max=157.0, style=ProgressStyle(description_w…"
      ]
     },
     "metadata": {},
     "output_type": "display_data"
    },
    {
     "data": {
      "application/vnd.jupyter.widget-view+json": {
       "model_id": "",
       "version_major": 2,
       "version_minor": 0
      },
      "text/plain": [
       "HBox(children=(FloatProgress(value=0.0, description='Iterations', max=1563.0, style=ProgressStyle(description_…"
      ]
     },
     "metadata": {},
     "output_type": "display_data"
    },
    {
     "data": {
      "application/vnd.jupyter.widget-view+json": {
       "model_id": "",
       "version_major": 2,
       "version_minor": 0
      },
      "text/plain": [
       "HBox(children=(FloatProgress(value=0.0, description='Iterations', max=157.0, style=ProgressStyle(description_w…"
      ]
     },
     "metadata": {},
     "output_type": "display_data"
    },
    {
     "data": {
      "application/vnd.jupyter.widget-view+json": {
       "model_id": "",
       "version_major": 2,
       "version_minor": 0
      },
      "text/plain": [
       "HBox(children=(FloatProgress(value=0.0, description='Iterations', max=1563.0, style=ProgressStyle(description_…"
      ]
     },
     "metadata": {},
     "output_type": "display_data"
    },
    {
     "data": {
      "application/vnd.jupyter.widget-view+json": {
       "model_id": "",
       "version_major": 2,
       "version_minor": 0
      },
      "text/plain": [
       "HBox(children=(FloatProgress(value=0.0, description='Iterations', max=157.0, style=ProgressStyle(description_w…"
      ]
     },
     "metadata": {},
     "output_type": "display_data"
    },
    {
     "data": {
      "application/vnd.jupyter.widget-view+json": {
       "model_id": "",
       "version_major": 2,
       "version_minor": 0
      },
      "text/plain": [
       "HBox(children=(FloatProgress(value=0.0, description='Iterations', max=1563.0, style=ProgressStyle(description_…"
      ]
     },
     "metadata": {},
     "output_type": "display_data"
    },
    {
     "data": {
      "application/vnd.jupyter.widget-view+json": {
       "model_id": "",
       "version_major": 2,
       "version_minor": 0
      },
      "text/plain": [
       "HBox(children=(FloatProgress(value=0.0, description='Iterations', max=157.0, style=ProgressStyle(description_w…"
      ]
     },
     "metadata": {},
     "output_type": "display_data"
    },
    {
     "data": {
      "application/vnd.jupyter.widget-view+json": {
       "model_id": "",
       "version_major": 2,
       "version_minor": 0
      },
      "text/plain": [
       "HBox(children=(FloatProgress(value=0.0, description='Iterations', max=1563.0, style=ProgressStyle(description_…"
      ]
     },
     "metadata": {},
     "output_type": "display_data"
    },
    {
     "data": {
      "application/vnd.jupyter.widget-view+json": {
       "model_id": "",
       "version_major": 2,
       "version_minor": 0
      },
      "text/plain": [
       "HBox(children=(FloatProgress(value=0.0, description='Iterations', max=157.0, style=ProgressStyle(description_w…"
      ]
     },
     "metadata": {},
     "output_type": "display_data"
    },
    {
     "data": {
      "application/vnd.jupyter.widget-view+json": {
       "model_id": "",
       "version_major": 2,
       "version_minor": 0
      },
      "text/plain": [
       "HBox(children=(FloatProgress(value=0.0, description='Iterations', max=1563.0, style=ProgressStyle(description_…"
      ]
     },
     "metadata": {},
     "output_type": "display_data"
    },
    {
     "data": {
      "application/vnd.jupyter.widget-view+json": {
       "model_id": "",
       "version_major": 2,
       "version_minor": 0
      },
      "text/plain": [
       "HBox(children=(FloatProgress(value=0.0, description='Iterations', max=157.0, style=ProgressStyle(description_w…"
      ]
     },
     "metadata": {},
     "output_type": "display_data"
    },
    {
     "name": "stdout",
     "output_type": "stream",
     "text": [
      "\n"
     ]
    }
   ],
   "source": [
    "resnet_engine.fit(dataloaders)"
   ]
  },
  {
   "cell_type": "markdown",
   "metadata": {
    "pycharm": {
     "is_executing": false,
     "name": "#%%\n"
    }
   },
   "source": [
    "There are some more hyper-parameters to tune after deciding on network architecture. These hyper-parameters are also to be tuned. These hyper-parameters are:\n",
    "- Loss function: A loss function has a crucial effect on loss landscape, and should be selected accordingly to the given task. Cross Entropy Loss is good with multi-class classification tasks. Logarithmic property of the function improves \"convexity\" of the loss function. Further information can be found at PyTorch's doc[1].\n",
    "- Optimizer: While the standard optimizer for any given loss function is stochastic gradient descent (SGD), an adaptive optimizer performs better on hyper-parameter tuning task. Adam optimizer is considered as a good adaptive optimizer choice for various tasks. Please take a look at \"notes on optimizers\" part for further understandings on how optimizers can be used.\n",
    "- Scheduler: A scheduler adapts learning rate of the optimizer accordingly. While adaptive optimizers mostly do not need a scheduler, a SGD optimizer with a good scheduler may outperform all other optimizers.\n",
    "\n",
    "The training procedure will be handled by \"Model Engine\" written for the given projects. This class eases the training, validation and prediction process. One can look at documentation of \"ModelEngine\" class for further information.\n",
    "\n",
    "[1] https://pytorch.org/docs/stable/nn.html#torch.nn.CrossEntropyLoss"
   ]
  },
  {
   "cell_type": "code",
   "execution_count": 85,
   "metadata": {},
   "outputs": [],
   "source": [
    "import numpy as np\n",
    "import PIL\n",
    "import cv2\n",
    "\n",
    "\n",
    "class OtsuThreshold(object):\n",
    "    \"\"\"\n",
    "    Otsu thresholding method for transforming input image with a masked image.\n",
    "    Please note that commented out partition is the numpy implementation. Since it's too slow,\n",
    "    OpenCV version is being employed.\n",
    "    \"\"\"\n",
    "    def __init__(self):\n",
    "        pass\n",
    "\n",
    "    def __call__(self, sample):\n",
    "        sample = np.array(sample)\n",
    "        gray = cv2.cvtColor(sample, cv2.COLOR_RGB2GRAY)\n",
    "        blur = cv2.GaussianBlur(gray, (5, 5), 0)\n",
    "        _, mask = cv2.threshold(blur, 0, 1, cv2.THRESH_BINARY + cv2.THRESH_OTSU)\n",
    "#         gray = 0.2989 * r + 0.5870 * g + 0.1140 * b\n",
    "\n",
    "#         pixel_number = gray.shape[0] * gray.shape[1]\n",
    "#         mean_weigth = 1.0 / pixel_number\n",
    "#         his, bins = np.histogram(gray, np.arange(0, 257))\n",
    "#         final_thresh = -1\n",
    "#         final_value = -1\n",
    "#         intensity_arr = np.arange(256)\n",
    "#         for t in bins[1:-1]:\n",
    "#             pcb = np.sum(his[:t])\n",
    "#             pcf = np.sum(his[t:])\n",
    "#             Wb = pcb * mean_weigth\n",
    "#             Wf = pcf * mean_weigth\n",
    "\n",
    "#             mub = np.sum(intensity_arr[:t] * his[:t]) / float(pcb)\n",
    "#             muf = np.sum(intensity_arr[t:] * his[t:]) / float(pcf)\n",
    "#             value = Wb * Wf * (mub - muf) ** 2\n",
    "\n",
    "#             if value > final_value:\n",
    "#                 final_thresh = t\n",
    "#                 final_value = value\n",
    "#         mask = gray.copy()\n",
    "#         mask[gray > final_thresh] = 1\n",
    "#         mask[gray < final_thresh] = 0\n",
    "        return PIL.Image.fromarray(np.uint8(sample * mask[..., None]))\n"
   ]
  },
  {
   "cell_type": "code",
   "execution_count": 86,
   "metadata": {
    "jupyter": {
     "outputs_hidden": false
    },
    "pycharm": {
     "name": "#%%\n"
    }
   },
   "outputs": [],
   "source": [
    "transformations = {\n",
    "    'train': transforms.Compose([\n",
    "        transforms.Resize(57),\n",
    "        OtsuThreshold(),\n",
    "        transforms.RandomHorizontalFlip(),\n",
    "        transforms.ToTensor(),\n",
    "        normalize\n",
    "    ]),\n",
    "    'val': transforms.Compose([\n",
    "        transforms.Resize(57),\n",
    "        OtsuThreshold(),\n",
    "        transforms.ToTensor(),\n",
    "        normalize\n",
    "    ]),\n",
    "    'test': transforms.Compose([\n",
    "        transforms.Resize(57),\n",
    "        OtsuThreshold(),\n",
    "        transforms.ToTensor(),\n",
    "        normalize\n",
    "    ])\n",
    "}\n",
    "\n",
    "image_datasets = {x: datasets.ImageFolder(os.path.join(data_dir, x),\n",
    "                                          transformations[x])\n",
    "                  for x in ['train', 'val']}\n",
    "dataloaders = {x: DataLoader(image_datasets[x], batch_size=64,\n",
    "                             shuffle=True)\n",
    "               for x in ['train', 'val']}"
   ]
  },
  {
   "cell_type": "code",
   "execution_count": 87,
   "metadata": {},
   "outputs": [],
   "source": [
    "class ConvNetWithResidualExperimental(nn.Module):\n",
    "    def __init__(self, drop_rate = 0):\n",
    "        super(ConvNetWithResidualExperimental, self).__init__()\n",
    "        self.conv1 = nn.Conv2d(in_channels=3, out_channels=64, kernel_size=3, stride=1, padding=1)\n",
    "        self.conv2 = nn.Conv2d(in_channels=64, out_channels=128, kernel_size=3, stride=1, padding=1)\n",
    "        self.conv3 = nn.Conv2d(in_channels=256, out_channels=256, kernel_size=3, stride=1, padding=1)\n",
    "        self.conv4 = nn.Conv2d(in_channels=256, out_channels=512, kernel_size=3, stride=1, padding=1)\n",
    "        self.conv5 = nn.Conv2d(in_channels=1024, out_channels=1024, kernel_size=3, stride=1)\n",
    "        self.batch_norm1 = nn.BatchNorm2d(64)\n",
    "        self.batch_norm2 = nn.BatchNorm2d(128)\n",
    "        self.batch_norm3 = nn.BatchNorm2d(256)\n",
    "        self.batch_norm4 = nn.BatchNorm2d(512)\n",
    "        self.max_pool = nn.MaxPool2d(2)\n",
    "        self.avg_pool = nn.AvgPool2d(12)\n",
    "        self.relu = nn.ReLU()\n",
    "        self.size_fix1 = nn.Conv2d(in_channels=3, out_channels=128, kernel_size=3, stride=1, padding=1)\n",
    "        self.size_fix2 = nn.Conv2d(in_channels=256, out_channels=512, kernel_size=3, stride=1, padding=1)\n",
    "        self.dropout = nn.Dropout(drop_rate)\n",
    "\n",
    "        self.fc = nn.Linear(1024, 200)\n",
    "        \n",
    "    def forward(self, inputs):\n",
    "        residual1 = inputs\n",
    "        x = self.conv1(inputs)\n",
    "        x = self.batch_norm1(x)\n",
    "        x = self.relu(x)\n",
    "        x = self.conv2(x)\n",
    "        x = self.batch_norm2(x)\n",
    "        x = self.relu(x)\n",
    "        x = torch.cat((x, self.size_fix1(residual1)), 1)\n",
    "        x = self.max_pool(x)\n",
    "        residual2 = x\n",
    "        x = self.conv3(x)\n",
    "        x = self.batch_norm3(x)\n",
    "        x = self.relu(x)\n",
    "        x = self.conv4(x)\n",
    "        x = self.batch_norm4(x)\n",
    "        x = self.relu(x)\n",
    "        x = torch.cat((x, self.size_fix2(residual2)), 1)\n",
    "        x = self.max_pool(x)\n",
    "        x = self.conv5(x)\n",
    "        x = self.avg_pool(x)\n",
    "        x = x.view(x.size(0), -1)\n",
    "        x = self.dropout(x)\n",
    "        return self.fc(x)\n",
    "    \n",
    "# model = ConvNetWithResidualExperimental()\n",
    "# out = model(torch.zeros(1, 3, 57, 57))\n",
    "# out.shape"
   ]
  },
  {
   "cell_type": "code",
   "execution_count": 89,
   "metadata": {},
   "outputs": [
    {
     "name": "stdout",
     "output_type": "stream",
     "text": [
      "Using device cuda:0\n"
     ]
    }
   ],
   "source": [
    "resnet_model = ConvNetWithResidualExperimental()\n",
    "resnet_criterion = nn.CrossEntropyLoss()\n",
    "resnet_optimizer = optim.Adam(resnet_model.parameters())\n",
    "otsu_engine = ModelEngine(resnet_model, resnet_criterion, resnet_optimizer, model_name=\"ResNetModelOtsu1\")"
   ]
  },
  {
   "cell_type": "code",
   "execution_count": 90,
   "metadata": {
    "pycharm": {
     "name": "#%%\n"
    }
   },
   "outputs": [
    {
     "data": {
      "application/vnd.jupyter.widget-view+json": {
       "model_id": "824d9b2bfaa649ada42a356f3480d612",
       "version_major": 2,
       "version_minor": 0
      },
      "text/plain": [
       "HBox(children=(FloatProgress(value=0.0, description='Epochs', max=10.0, style=ProgressStyle(description_width=…"
      ]
     },
     "metadata": {},
     "output_type": "display_data"
    },
    {
     "data": {
      "application/vnd.jupyter.widget-view+json": {
       "model_id": "",
       "version_major": 2,
       "version_minor": 0
      },
      "text/plain": [
       "HBox(children=(FloatProgress(value=0.0, description='Iterations', max=1563.0, style=ProgressStyle(description_…"
      ]
     },
     "metadata": {},
     "output_type": "display_data"
    },
    {
     "data": {
      "application/vnd.jupyter.widget-view+json": {
       "model_id": "",
       "version_major": 2,
       "version_minor": 0
      },
      "text/plain": [
       "HBox(children=(FloatProgress(value=0.0, description='Iterations', max=157.0, style=ProgressStyle(description_w…"
      ]
     },
     "metadata": {},
     "output_type": "display_data"
    },
    {
     "data": {
      "application/vnd.jupyter.widget-view+json": {
       "model_id": "",
       "version_major": 2,
       "version_minor": 0
      },
      "text/plain": [
       "HBox(children=(FloatProgress(value=0.0, description='Iterations', max=1563.0, style=ProgressStyle(description_…"
      ]
     },
     "metadata": {},
     "output_type": "display_data"
    },
    {
     "data": {
      "application/vnd.jupyter.widget-view+json": {
       "model_id": "",
       "version_major": 2,
       "version_minor": 0
      },
      "text/plain": [
       "HBox(children=(FloatProgress(value=0.0, description='Iterations', max=157.0, style=ProgressStyle(description_w…"
      ]
     },
     "metadata": {},
     "output_type": "display_data"
    },
    {
     "data": {
      "application/vnd.jupyter.widget-view+json": {
       "model_id": "",
       "version_major": 2,
       "version_minor": 0
      },
      "text/plain": [
       "HBox(children=(FloatProgress(value=0.0, description='Iterations', max=1563.0, style=ProgressStyle(description_…"
      ]
     },
     "metadata": {},
     "output_type": "display_data"
    },
    {
     "data": {
      "application/vnd.jupyter.widget-view+json": {
       "model_id": "",
       "version_major": 2,
       "version_minor": 0
      },
      "text/plain": [
       "HBox(children=(FloatProgress(value=0.0, description='Iterations', max=157.0, style=ProgressStyle(description_w…"
      ]
     },
     "metadata": {},
     "output_type": "display_data"
    },
    {
     "data": {
      "application/vnd.jupyter.widget-view+json": {
       "model_id": "",
       "version_major": 2,
       "version_minor": 0
      },
      "text/plain": [
       "HBox(children=(FloatProgress(value=0.0, description='Iterations', max=1563.0, style=ProgressStyle(description_…"
      ]
     },
     "metadata": {},
     "output_type": "display_data"
    },
    {
     "data": {
      "application/vnd.jupyter.widget-view+json": {
       "model_id": "",
       "version_major": 2,
       "version_minor": 0
      },
      "text/plain": [
       "HBox(children=(FloatProgress(value=0.0, description='Iterations', max=157.0, style=ProgressStyle(description_w…"
      ]
     },
     "metadata": {},
     "output_type": "display_data"
    },
    {
     "data": {
      "application/vnd.jupyter.widget-view+json": {
       "model_id": "",
       "version_major": 2,
       "version_minor": 0
      },
      "text/plain": [
       "HBox(children=(FloatProgress(value=0.0, description='Iterations', max=1563.0, style=ProgressStyle(description_…"
      ]
     },
     "metadata": {},
     "output_type": "display_data"
    },
    {
     "data": {
      "application/vnd.jupyter.widget-view+json": {
       "model_id": "",
       "version_major": 2,
       "version_minor": 0
      },
      "text/plain": [
       "HBox(children=(FloatProgress(value=0.0, description='Iterations', max=157.0, style=ProgressStyle(description_w…"
      ]
     },
     "metadata": {},
     "output_type": "display_data"
    },
    {
     "data": {
      "application/vnd.jupyter.widget-view+json": {
       "model_id": "",
       "version_major": 2,
       "version_minor": 0
      },
      "text/plain": [
       "HBox(children=(FloatProgress(value=0.0, description='Iterations', max=1563.0, style=ProgressStyle(description_…"
      ]
     },
     "metadata": {},
     "output_type": "display_data"
    },
    {
     "data": {
      "application/vnd.jupyter.widget-view+json": {
       "model_id": "",
       "version_major": 2,
       "version_minor": 0
      },
      "text/plain": [
       "HBox(children=(FloatProgress(value=0.0, description='Iterations', max=157.0, style=ProgressStyle(description_w…"
      ]
     },
     "metadata": {},
     "output_type": "display_data"
    },
    {
     "data": {
      "application/vnd.jupyter.widget-view+json": {
       "model_id": "",
       "version_major": 2,
       "version_minor": 0
      },
      "text/plain": [
       "HBox(children=(FloatProgress(value=0.0, description='Iterations', max=1563.0, style=ProgressStyle(description_…"
      ]
     },
     "metadata": {},
     "output_type": "display_data"
    },
    {
     "data": {
      "application/vnd.jupyter.widget-view+json": {
       "model_id": "",
       "version_major": 2,
       "version_minor": 0
      },
      "text/plain": [
       "HBox(children=(FloatProgress(value=0.0, description='Iterations', max=157.0, style=ProgressStyle(description_w…"
      ]
     },
     "metadata": {},
     "output_type": "display_data"
    },
    {
     "data": {
      "application/vnd.jupyter.widget-view+json": {
       "model_id": "",
       "version_major": 2,
       "version_minor": 0
      },
      "text/plain": [
       "HBox(children=(FloatProgress(value=0.0, description='Iterations', max=1563.0, style=ProgressStyle(description_…"
      ]
     },
     "metadata": {},
     "output_type": "display_data"
    },
    {
     "data": {
      "application/vnd.jupyter.widget-view+json": {
       "model_id": "",
       "version_major": 2,
       "version_minor": 0
      },
      "text/plain": [
       "HBox(children=(FloatProgress(value=0.0, description='Iterations', max=157.0, style=ProgressStyle(description_w…"
      ]
     },
     "metadata": {},
     "output_type": "display_data"
    },
    {
     "data": {
      "application/vnd.jupyter.widget-view+json": {
       "model_id": "",
       "version_major": 2,
       "version_minor": 0
      },
      "text/plain": [
       "HBox(children=(FloatProgress(value=0.0, description='Iterations', max=1563.0, style=ProgressStyle(description_…"
      ]
     },
     "metadata": {},
     "output_type": "display_data"
    },
    {
     "data": {
      "application/vnd.jupyter.widget-view+json": {
       "model_id": "",
       "version_major": 2,
       "version_minor": 0
      },
      "text/plain": [
       "HBox(children=(FloatProgress(value=0.0, description='Iterations', max=157.0, style=ProgressStyle(description_w…"
      ]
     },
     "metadata": {},
     "output_type": "display_data"
    },
    {
     "data": {
      "application/vnd.jupyter.widget-view+json": {
       "model_id": "",
       "version_major": 2,
       "version_minor": 0
      },
      "text/plain": [
       "HBox(children=(FloatProgress(value=0.0, description='Iterations', max=1563.0, style=ProgressStyle(description_…"
      ]
     },
     "metadata": {},
     "output_type": "display_data"
    },
    {
     "data": {
      "application/vnd.jupyter.widget-view+json": {
       "model_id": "",
       "version_major": 2,
       "version_minor": 0
      },
      "text/plain": [
       "HBox(children=(FloatProgress(value=0.0, description='Iterations', max=157.0, style=ProgressStyle(description_w…"
      ]
     },
     "metadata": {},
     "output_type": "display_data"
    },
    {
     "name": "stdout",
     "output_type": "stream",
     "text": [
      "\n"
     ]
    }
   ],
   "source": [
    "otsu_engine.fit(dataloaders)"
   ]
  }
 ],
 "metadata": {
  "kernelspec": {
   "display_name": "Python 3",
   "language": "python",
   "name": "python3"
  },
  "language_info": {
   "codemirror_mode": {
    "name": "ipython",
    "version": 3
   },
   "file_extension": ".py",
   "mimetype": "text/x-python",
   "name": "python",
   "nbconvert_exporter": "python",
   "pygments_lexer": "ipython3",
   "version": "3.7.7"
  },
  "pycharm": {
   "stem_cell": {
    "cell_type": "raw",
    "metadata": {
     "collapsed": false
    },
    "source": []
   }
  },
  "widgets": {
   "application/vnd.jupyter.widget-state+json": {
    "state": {
     "0010301ca59d41789ea09c8560830b67": {
      "model_module": "@jupyter-widgets/base",
      "model_module_version": "1.2.0",
      "model_name": "LayoutModel",
      "state": {}
     },
     "0024f800bca34e1a85ca9fdec291be31": {
      "model_module": "@jupyter-widgets/base",
      "model_module_version": "1.2.0",
      "model_name": "LayoutModel",
      "state": {}
     },
     "007a458c3040420aa4a8e6286cea256d": {
      "model_module": "@jupyter-widgets/base",
      "model_module_version": "1.2.0",
      "model_name": "LayoutModel",
      "state": {}
     },
     "00a92e0124e2436e9e5c86a16aa6c2f0": {
      "model_module": "@jupyter-widgets/controls",
      "model_module_version": "1.5.0",
      "model_name": "ProgressStyleModel",
      "state": {
       "description_width": "initial"
      }
     },
     "00bf3ca4e5d24a728436632167854f9c": {
      "model_module": "@jupyter-widgets/controls",
      "model_module_version": "1.5.0",
      "model_name": "FloatProgressModel",
      "state": {
       "description": "train loss: 2.8072: 100%",
       "layout": "IPY_MODEL_1ae409570066452b9d6c8d457653ebbd",
       "max": 1563,
       "style": "IPY_MODEL_4cdb943ccde843a381447382915e3de4",
       "value": 1563
      }
     },
     "00bf6e29b1b649f2a23db445a79f89a5": {
      "model_module": "@jupyter-widgets/controls",
      "model_module_version": "1.5.0",
      "model_name": "DescriptionStyleModel",
      "state": {
       "description_width": ""
      }
     },
     "00c3116b5fd048259aeaac43bce1b150": {
      "model_module": "@jupyter-widgets/controls",
      "model_module_version": "1.5.0",
      "model_name": "ProgressStyleModel",
      "state": {
       "description_width": "initial"
      }
     },
     "00cae04160d642288246dc4acbf45086": {
      "model_module": "@jupyter-widgets/controls",
      "model_module_version": "1.5.0",
      "model_name": "HTMLModel",
      "state": {
       "layout": "IPY_MODEL_23c08e5a8c8442a3a26d4c72cdfc8e6b",
       "style": "IPY_MODEL_2e2dda8e505e4179ab26231f6c77cd34",
       "value": " 157/157 [00:09&lt;00:00, 16.23it/s]"
      }
     },
     "00e66b685e264e15a7a21e088baf1e57": {
      "model_module": "@jupyter-widgets/base",
      "model_module_version": "1.2.0",
      "model_name": "LayoutModel",
      "state": {}
     },
     "00ec7482b3b649f1a6940a696ef0b3e1": {
      "model_module": "@jupyter-widgets/base",
      "model_module_version": "1.2.0",
      "model_name": "LayoutModel",
      "state": {}
     },
     "0110e4df8b7d4fc0b2de9a5d3774a9ec": {
      "model_module": "@jupyter-widgets/base",
      "model_module_version": "1.2.0",
      "model_name": "LayoutModel",
      "state": {}
     },
     "011bac5b748d432c8bf7fa9176171f14": {
      "model_module": "@jupyter-widgets/controls",
      "model_module_version": "1.5.0",
      "model_name": "FloatProgressModel",
      "state": {
       "bar_style": "success",
       "description": "Train Loss: 2.9913 - Val Loss: 3.5491: 100%",
       "layout": "IPY_MODEL_e0dd8caa2b7a49649e46497dee0d7e79",
       "max": 10,
       "style": "IPY_MODEL_a43fc13549b4452b8ee3ffb636e25958",
       "value": 10
      }
     },
     "0130168a65bb48a9a71c02680324d9d5": {
      "model_module": "@jupyter-widgets/base",
      "model_module_version": "1.2.0",
      "model_name": "LayoutModel",
      "state": {}
     },
     "01358cb34ee04378adf09d2ae6202ecf": {
      "model_module": "@jupyter-widgets/controls",
      "model_module_version": "1.5.0",
      "model_name": "ProgressStyleModel",
      "state": {
       "description_width": "initial"
      }
     },
     "0148e6815938422886da3ae6d58ff55d": {
      "model_module": "@jupyter-widgets/controls",
      "model_module_version": "1.5.0",
      "model_name": "HBoxModel",
      "state": {
       "children": [
        "IPY_MODEL_ddc25442d5da463789892bdbabe6e236",
        "IPY_MODEL_544641eda35d4ddf8f355abc86d11c29"
       ],
       "layout": "IPY_MODEL_5de991582dc649a5aeefc02482cdc743"
      }
     },
     "0165df6b507d4107b5fd99d852628160": {
      "model_module": "@jupyter-widgets/base",
      "model_module_version": "1.2.0",
      "model_name": "LayoutModel",
      "state": {}
     },
     "0185aa2c08084cafa9562f4028cbf04f": {
      "model_module": "@jupyter-widgets/base",
      "model_module_version": "1.2.0",
      "model_name": "LayoutModel",
      "state": {}
     },
     "01b68796863f400ebfb4bca727fecdea": {
      "model_module": "@jupyter-widgets/controls",
      "model_module_version": "1.5.0",
      "model_name": "HTMLModel",
      "state": {
       "layout": "IPY_MODEL_95c3052ef0de4f2e940c8ecdf07b6649",
       "style": "IPY_MODEL_b9c0c4c9c1ed48cfa9c93459629de602",
       "value": " 157/157 [00:15&lt;00:00, 11.78it/s]"
      }
     },
     "01b919e2666b4fc3a1ae059d3eafcd42": {
      "model_module": "@jupyter-widgets/base",
      "model_module_version": "1.2.0",
      "model_name": "LayoutModel",
      "state": {}
     },
     "01cd06ad31bf437b85bcf2b348955064": {
      "model_module": "@jupyter-widgets/controls",
      "model_module_version": "1.5.0",
      "model_name": "ProgressStyleModel",
      "state": {
       "description_width": "initial"
      }
     },
     "021db4ca937a426caa3657b6703ee599": {
      "model_module": "@jupyter-widgets/base",
      "model_module_version": "1.2.0",
      "model_name": "LayoutModel",
      "state": {}
     },
     "021f3dcb6fd0458c8b405f296c93810e": {
      "model_module": "@jupyter-widgets/base",
      "model_module_version": "1.2.0",
      "model_name": "LayoutModel",
      "state": {}
     },
     "02641c9a15f94319a555cdc2ee14f3eb": {
      "model_module": "@jupyter-widgets/controls",
      "model_module_version": "1.5.0",
      "model_name": "DescriptionStyleModel",
      "state": {
       "description_width": ""
      }
     },
     "0276162ed80045489298e39788c9e805": {
      "model_module": "@jupyter-widgets/controls",
      "model_module_version": "1.5.0",
      "model_name": "HTMLModel",
      "state": {
       "layout": "IPY_MODEL_98cf417418954f3f8af2de2be3f6e2dd",
       "style": "IPY_MODEL_55fb6b61302047f582355693b7c5615b",
       "value": " 1563/1563 [03:39&lt;00:00,  7.13it/s]"
      }
     },
     "0277a26b37284b4695b6a12e1c74fdaa": {
      "model_module": "@jupyter-widgets/base",
      "model_module_version": "1.2.0",
      "model_name": "LayoutModel",
      "state": {}
     },
     "029ecd7b65c64818b9922d65277e730b": {
      "model_module": "@jupyter-widgets/controls",
      "model_module_version": "1.5.0",
      "model_name": "FloatProgressModel",
      "state": {
       "description": "val loss: 4.1847: 100%",
       "layout": "IPY_MODEL_d6927b44eb264495a2499b85db3711d9",
       "max": 157,
       "style": "IPY_MODEL_97cf3e11f23f400cba34ab37d0e26f8d",
       "value": 157
      }
     },
     "02afedbeb4924b14b4882cabedc2bd73": {
      "model_module": "@jupyter-widgets/base",
      "model_module_version": "1.2.0",
      "model_name": "LayoutModel",
      "state": {}
     },
     "02cca7fbf2a040f987ca2bb280722fe3": {
      "model_module": "@jupyter-widgets/base",
      "model_module_version": "1.2.0",
      "model_name": "LayoutModel",
      "state": {}
     },
     "02d7ab79160a4216aa44330974005ae7": {
      "model_module": "@jupyter-widgets/controls",
      "model_module_version": "1.5.0",
      "model_name": "ProgressStyleModel",
      "state": {
       "description_width": "initial"
      }
     },
     "02f16c2608d64e5faf7ea28bda8f8baa": {
      "model_module": "@jupyter-widgets/base",
      "model_module_version": "1.2.0",
      "model_name": "LayoutModel",
      "state": {}
     },
     "02fcb4f5f50d471fa424db84780fce0f": {
      "model_module": "@jupyter-widgets/base",
      "model_module_version": "1.2.0",
      "model_name": "LayoutModel",
      "state": {}
     },
     "03326f3677334edc913bc57066187b0c": {
      "model_module": "@jupyter-widgets/controls",
      "model_module_version": "1.5.0",
      "model_name": "DescriptionStyleModel",
      "state": {
       "description_width": ""
      }
     },
     "0352547a3a4e4548a9d181378a91789d": {
      "model_module": "@jupyter-widgets/controls",
      "model_module_version": "1.5.0",
      "model_name": "ProgressStyleModel",
      "state": {
       "description_width": "initial"
      }
     },
     "03659c0f05244662b43b0ecc80dc201d": {
      "model_module": "@jupyter-widgets/base",
      "model_module_version": "1.2.0",
      "model_name": "LayoutModel",
      "state": {}
     },
     "036852f34c7749f7ae66093db3b0b050": {
      "model_module": "@jupyter-widgets/controls",
      "model_module_version": "1.5.0",
      "model_name": "DescriptionStyleModel",
      "state": {
       "description_width": ""
      }
     },
     "037fbdaa724c45b983d8b5d03c834e00": {
      "model_module": "@jupyter-widgets/base",
      "model_module_version": "1.2.0",
      "model_name": "LayoutModel",
      "state": {}
     },
     "0384d325d70741968eccd797a383a5c7": {
      "model_module": "@jupyter-widgets/controls",
      "model_module_version": "1.5.0",
      "model_name": "ProgressStyleModel",
      "state": {
       "description_width": "initial"
      }
     },
     "038c94f339e5421389b5f409cf923150": {
      "model_module": "@jupyter-widgets/controls",
      "model_module_version": "1.5.0",
      "model_name": "DescriptionStyleModel",
      "state": {
       "description_width": ""
      }
     },
     "03a660cb2c124f459f13b70aaa640a33": {
      "model_module": "@jupyter-widgets/controls",
      "model_module_version": "1.5.0",
      "model_name": "FloatProgressModel",
      "state": {
       "description": "val loss: 4.5246: 100%",
       "layout": "IPY_MODEL_b036e7d712ff4c918ba4b6e3e5a3a6ff",
       "max": 157,
       "style": "IPY_MODEL_5847470654c245a8ad26790441b46244",
       "value": 157
      }
     },
     "03a9c1625e4e4d68a6518a27a9e5b343": {
      "model_module": "@jupyter-widgets/base",
      "model_module_version": "1.2.0",
      "model_name": "LayoutModel",
      "state": {}
     },
     "03b20958d60249988bacbfec90603a65": {
      "model_module": "@jupyter-widgets/controls",
      "model_module_version": "1.5.0",
      "model_name": "HBoxModel",
      "state": {
       "children": [
        "IPY_MODEL_d3101db92e28493eb2c8920d23f0f25e",
        "IPY_MODEL_8d80b78ff7b847c691c8ddd3bbbc1dc4"
       ],
       "layout": "IPY_MODEL_6a061a539af34041ba6b3ecc38eb5ce7"
      }
     },
     "03df9c60adb3493b9ee7712ab78231a5": {
      "model_module": "@jupyter-widgets/base",
      "model_module_version": "1.2.0",
      "model_name": "LayoutModel",
      "state": {}
     },
     "03efd20a9ccc4dcf9ab56e66ee7b3fc0": {
      "model_module": "@jupyter-widgets/controls",
      "model_module_version": "1.5.0",
      "model_name": "ProgressStyleModel",
      "state": {
       "description_width": "initial"
      }
     },
     "03fab8719d4e41a4a0854dffbfb85f27": {
      "model_module": "@jupyter-widgets/controls",
      "model_module_version": "1.5.0",
      "model_name": "ProgressStyleModel",
      "state": {
       "description_width": "initial"
      }
     },
     "03ff4af7986b40ea99145993d1fe3d0c": {
      "model_module": "@jupyter-widgets/base",
      "model_module_version": "1.2.0",
      "model_name": "LayoutModel",
      "state": {}
     },
     "041f4ef689d94baf8b28f02ef9a7aa4f": {
      "model_module": "@jupyter-widgets/base",
      "model_module_version": "1.2.0",
      "model_name": "LayoutModel",
      "state": {}
     },
     "043d1a5ed7354f55b4a57cc46b2aa6c8": {
      "model_module": "@jupyter-widgets/controls",
      "model_module_version": "1.5.0",
      "model_name": "DescriptionStyleModel",
      "state": {
       "description_width": ""
      }
     },
     "0465d57e38d4435da8a5609e7cf3f21a": {
      "model_module": "@jupyter-widgets/base",
      "model_module_version": "1.2.0",
      "model_name": "LayoutModel",
      "state": {}
     },
     "04672d90e2af453690961b10659cd152": {
      "model_module": "@jupyter-widgets/base",
      "model_module_version": "1.2.0",
      "model_name": "LayoutModel",
      "state": {}
     },
     "046ce6681b5a482e8bb0ef1090d8e9bd": {
      "model_module": "@jupyter-widgets/base",
      "model_module_version": "1.2.0",
      "model_name": "LayoutModel",
      "state": {}
     },
     "04888bdb33d84257bcddb629b1f3644f": {
      "model_module": "@jupyter-widgets/controls",
      "model_module_version": "1.5.0",
      "model_name": "DescriptionStyleModel",
      "state": {
       "description_width": ""
      }
     },
     "048cb0a56f41432db730dc0b5c8fe647": {
      "model_module": "@jupyter-widgets/controls",
      "model_module_version": "1.5.0",
      "model_name": "ProgressStyleModel",
      "state": {
       "description_width": "initial"
      }
     },
     "04bc03b63879498db2db83cfb0246652": {
      "model_module": "@jupyter-widgets/controls",
      "model_module_version": "1.5.0",
      "model_name": "DescriptionStyleModel",
      "state": {
       "description_width": ""
      }
     },
     "04d5164c6f0f4739aa3ec317e6053ae0": {
      "model_module": "@jupyter-widgets/controls",
      "model_module_version": "1.5.0",
      "model_name": "ProgressStyleModel",
      "state": {
       "description_width": "initial"
      }
     },
     "04dcae7fbb0247f5baf9d4c7d68f49d3": {
      "model_module": "@jupyter-widgets/controls",
      "model_module_version": "1.5.0",
      "model_name": "DescriptionStyleModel",
      "state": {
       "description_width": ""
      }
     },
     "04de278d061b4e2bba77ddccfaf90afc": {
      "model_module": "@jupyter-widgets/controls",
      "model_module_version": "1.5.0",
      "model_name": "HTMLModel",
      "state": {
       "layout": "IPY_MODEL_94e888e7cc6048b5b185e8b7e0392427",
       "style": "IPY_MODEL_a54365727c3446aebcd64d84a049cdfe",
       "value": " 157/157 [00:09&lt;00:00, 16.06it/s]"
      }
     },
     "051934b5a0f1432b9c23824653794bb9": {
      "model_module": "@jupyter-widgets/base",
      "model_module_version": "1.2.0",
      "model_name": "LayoutModel",
      "state": {}
     },
     "051e1a5a47854235860f0e99c1484391": {
      "model_module": "@jupyter-widgets/base",
      "model_module_version": "1.2.0",
      "model_name": "LayoutModel",
      "state": {}
     },
     "05305899e3374516b9474b8f593c9cbd": {
      "model_module": "@jupyter-widgets/controls",
      "model_module_version": "1.5.0",
      "model_name": "ProgressStyleModel",
      "state": {
       "description_width": "initial"
      }
     },
     "055c0336fb654a25a7bba8236df4c73c": {
      "model_module": "@jupyter-widgets/base",
      "model_module_version": "1.2.0",
      "model_name": "LayoutModel",
      "state": {}
     },
     "0570375c401f4fc48b3260b5446fed8d": {
      "model_module": "@jupyter-widgets/controls",
      "model_module_version": "1.5.0",
      "model_name": "FloatProgressModel",
      "state": {
       "description": "val loss: 4.5534: 100%",
       "layout": "IPY_MODEL_ac4f6949b0024c599363f50b86c45b3a",
       "max": 157,
       "style": "IPY_MODEL_4ec880cf88f34ff5bb5d1392553c79d5",
       "value": 157
      }
     },
     "0571f45aad5d4f1bab497ab7b91bb8e2": {
      "model_module": "@jupyter-widgets/base",
      "model_module_version": "1.2.0",
      "model_name": "LayoutModel",
      "state": {}
     },
     "05ac43d6fc4f47d7a4bd62760d3d1be5": {
      "model_module": "@jupyter-widgets/base",
      "model_module_version": "1.2.0",
      "model_name": "LayoutModel",
      "state": {}
     },
     "05ad637209f84b0d89fd431420b9bee1": {
      "model_module": "@jupyter-widgets/base",
      "model_module_version": "1.2.0",
      "model_name": "LayoutModel",
      "state": {}
     },
     "05b655cd5cb1458e974bf5d550b203a0": {
      "model_module": "@jupyter-widgets/controls",
      "model_module_version": "1.5.0",
      "model_name": "DescriptionStyleModel",
      "state": {
       "description_width": ""
      }
     },
     "05b9f369cc8842c292dbce4f1aecec75": {
      "model_module": "@jupyter-widgets/base",
      "model_module_version": "1.2.0",
      "model_name": "LayoutModel",
      "state": {}
     },
     "05bdaa6230844d0e8609b50197d3ea27": {
      "model_module": "@jupyter-widgets/controls",
      "model_module_version": "1.5.0",
      "model_name": "DescriptionStyleModel",
      "state": {
       "description_width": ""
      }
     },
     "05c241f2dd8744718bf6bcb331c06ebe": {
      "model_module": "@jupyter-widgets/base",
      "model_module_version": "1.2.0",
      "model_name": "LayoutModel",
      "state": {}
     },
     "05cf8684d937468cad9408dbf4a2e573": {
      "model_module": "@jupyter-widgets/controls",
      "model_module_version": "1.5.0",
      "model_name": "DescriptionStyleModel",
      "state": {
       "description_width": ""
      }
     },
     "05d1e28d77c24a8699e94e861c68d48e": {
      "model_module": "@jupyter-widgets/controls",
      "model_module_version": "1.5.0",
      "model_name": "FloatProgressModel",
      "state": {
       "description": "train loss: 4.0477: 100%",
       "layout": "IPY_MODEL_5b99d0e0993d4d34b79ea0eac70595a3",
       "max": 1563,
       "style": "IPY_MODEL_c7d6f8cd15804d6d89698d5b6495d5d7",
       "value": 1563
      }
     },
     "05e177afec3b4a4285ca86f3bf4dbea8": {
      "model_module": "@jupyter-widgets/controls",
      "model_module_version": "1.5.0",
      "model_name": "HTMLModel",
      "state": {
       "layout": "IPY_MODEL_41ef868206a94e58a30a6f8f68bd2311",
       "style": "IPY_MODEL_904b1eba2e1e43a2a49c0319fad13d16",
       "value": " 1563/1563 [02:32&lt;00:00, 10.94it/s]"
      }
     },
     "062c744654a84deb92e661bb3bb0936e": {
      "model_module": "@jupyter-widgets/controls",
      "model_module_version": "1.5.0",
      "model_name": "HTMLModel",
      "state": {
       "layout": "IPY_MODEL_73803ccd863c40d0862d3d26d067c3ba",
       "style": "IPY_MODEL_bfbcec2e9a504bcc80f87d87981979f3",
       "value": " 1563/1563 [02:33&lt;00:00, 10.25it/s]"
      }
     },
     "0634bb9568a3432989e06781b9f18026": {
      "model_module": "@jupyter-widgets/base",
      "model_module_version": "1.2.0",
      "model_name": "LayoutModel",
      "state": {}
     },
     "06436f063dc849f48170a1329da31890": {
      "model_module": "@jupyter-widgets/controls",
      "model_module_version": "1.5.0",
      "model_name": "DescriptionStyleModel",
      "state": {
       "description_width": ""
      }
     },
     "0662adc53d45402d9d82c291526f5f07": {
      "model_module": "@jupyter-widgets/controls",
      "model_module_version": "1.5.0",
      "model_name": "HTMLModel",
      "state": {
       "layout": "IPY_MODEL_4017e4b21c2149e28ac5c107ac921e93",
       "style": "IPY_MODEL_671e2e3e049f4f16b7d30dc839b5e2a8",
       "value": " 1563/1563 [05:01&lt;00:00,  6.00it/s]"
      }
     },
     "066a4a174964486482cf5df4e22af38a": {
      "model_module": "@jupyter-widgets/controls",
      "model_module_version": "1.5.0",
      "model_name": "DescriptionStyleModel",
      "state": {
       "description_width": ""
      }
     },
     "068c2099d4f94685bf5a8e599ff56905": {
      "model_module": "@jupyter-widgets/base",
      "model_module_version": "1.2.0",
      "model_name": "LayoutModel",
      "state": {}
     },
     "069e16ed14e44efd8ed8420f164c355a": {
      "model_module": "@jupyter-widgets/controls",
      "model_module_version": "1.5.0",
      "model_name": "HTMLModel",
      "state": {
       "layout": "IPY_MODEL_23e127fe8d314ee5a58f3aee49b8491d",
       "style": "IPY_MODEL_24645e1aaffe4c1c98fa72d26c755eaa",
       "value": " 157/157 [00:09&lt;00:00, 15.72it/s]"
      }
     },
     "069f24a0c9454cf89e32cb67c8b820ed": {
      "model_module": "@jupyter-widgets/controls",
      "model_module_version": "1.5.0",
      "model_name": "HTMLModel",
      "state": {
       "layout": "IPY_MODEL_d3331ccb7a764d24981cdeb1f79253ce",
       "style": "IPY_MODEL_6ce48abf9d3a4c878953d2b37259ed84",
       "value": " 1563/1563 [04:58&lt;00:00,  5.87it/s]"
      }
     },
     "06b5279ed7204aecae59dadca770dd85": {
      "model_module": "@jupyter-widgets/base",
      "model_module_version": "1.2.0",
      "model_name": "LayoutModel",
      "state": {}
     },
     "06c7a469fb46430eb7271b0574577fbd": {
      "model_module": "@jupyter-widgets/controls",
      "model_module_version": "1.5.0",
      "model_name": "HTMLModel",
      "state": {
       "layout": "IPY_MODEL_a15c2a4473934c7e8a88de9f4ef9b92c",
       "style": "IPY_MODEL_cec8bbffdb4244cab5407951775f0e30",
       "value": " 10/10 [59:38&lt;00:00, 357.82s/it]"
      }
     },
     "06dbfa1dca7a4b9d9a8427a08bd73b5f": {
      "model_module": "@jupyter-widgets/base",
      "model_module_version": "1.2.0",
      "model_name": "LayoutModel",
      "state": {}
     },
     "06f0bc74c24f4324947359ed579b4846": {
      "model_module": "@jupyter-widgets/base",
      "model_module_version": "1.2.0",
      "model_name": "LayoutModel",
      "state": {}
     },
     "074436654e1b40c0bf18668e6ad2e20d": {
      "model_module": "@jupyter-widgets/controls",
      "model_module_version": "1.5.0",
      "model_name": "DescriptionStyleModel",
      "state": {
       "description_width": ""
      }
     },
     "07850e5ce1784f44a8b928eab59b623d": {
      "model_module": "@jupyter-widgets/base",
      "model_module_version": "1.2.0",
      "model_name": "LayoutModel",
      "state": {}
     },
     "078ba86498b94fd19eb5b3487663c1d0": {
      "model_module": "@jupyter-widgets/controls",
      "model_module_version": "1.5.0",
      "model_name": "DescriptionStyleModel",
      "state": {
       "description_width": ""
      }
     },
     "0796cfd3f86844a2adfe3ca79af96e84": {
      "model_module": "@jupyter-widgets/base",
      "model_module_version": "1.2.0",
      "model_name": "LayoutModel",
      "state": {}
     },
     "07a514aa64ea438485fb7653577ead5c": {
      "model_module": "@jupyter-widgets/controls",
      "model_module_version": "1.5.0",
      "model_name": "HTMLModel",
      "state": {
       "layout": "IPY_MODEL_62353b6ecfa44e96a992f357cf706e58",
       "style": "IPY_MODEL_77043cf527e6408084f67b86da3763b9",
       "value": " 157/157 [00:14&lt;00:00, 11.80it/s]"
      }
     },
     "07e43aa21df74eb382cbb45e85b38201": {
      "model_module": "@jupyter-widgets/controls",
      "model_module_version": "1.5.0",
      "model_name": "HTMLModel",
      "state": {
       "layout": "IPY_MODEL_44e7044db3c94c95b253cba0c0959732",
       "style": "IPY_MODEL_a1d9c73419f64d7685921afef97fc5f2",
       "value": " 0/1563 [00:00&lt;?, ?it/s]"
      }
     },
     "07e924ba646240ffa689b00e5b81033f": {
      "model_module": "@jupyter-widgets/controls",
      "model_module_version": "1.5.0",
      "model_name": "HTMLModel",
      "state": {
       "layout": "IPY_MODEL_5d89bfa663b2439eafe276e295b6be49",
       "style": "IPY_MODEL_b6dcf8a9bb064d249976b5010ecfe049",
       "value": " 10/10 [1:31:52&lt;00:00, 551.28s/it]"
      }
     },
     "08127954c58d48d0a5ac2cc897ddc12d": {
      "model_module": "@jupyter-widgets/controls",
      "model_module_version": "1.5.0",
      "model_name": "ProgressStyleModel",
      "state": {
       "description_width": "initial"
      }
     },
     "0823cc777f2c48bfa45cecac0a2d7ca0": {
      "model_module": "@jupyter-widgets/controls",
      "model_module_version": "1.5.0",
      "model_name": "HTMLModel",
      "state": {
       "layout": "IPY_MODEL_31d924fbf1704d838b52d1ce38f174d7",
       "style": "IPY_MODEL_9f89e011432b4f3181a7848c2f3fe0ff",
       "value": " 10/10 [2:05:35&lt;00:00, 753.56s/it]"
      }
     },
     "0841c614a45e48c98a80ddefb55d0140": {
      "model_module": "@jupyter-widgets/base",
      "model_module_version": "1.2.0",
      "model_name": "LayoutModel",
      "state": {}
     },
     "084f5855c549401fb4d9fb2389947af3": {
      "model_module": "@jupyter-widgets/base",
      "model_module_version": "1.2.0",
      "model_name": "LayoutModel",
      "state": {}
     },
     "08502d86bdeb4200a820898b6b177499": {
      "model_module": "@jupyter-widgets/base",
      "model_module_version": "1.2.0",
      "model_name": "LayoutModel",
      "state": {}
     },
     "08741ac39604461d946a8b3cb81f3c32": {
      "model_module": "@jupyter-widgets/controls",
      "model_module_version": "1.5.0",
      "model_name": "DescriptionStyleModel",
      "state": {
       "description_width": ""
      }
     },
     "089756e2596e41ab99e3a2daff3428c6": {
      "model_module": "@jupyter-widgets/base",
      "model_module_version": "1.2.0",
      "model_name": "LayoutModel",
      "state": {}
     },
     "089b3b1c2efb41ed95fa70563392cdf9": {
      "model_module": "@jupyter-widgets/controls",
      "model_module_version": "1.5.0",
      "model_name": "HTMLModel",
      "state": {
       "layout": "IPY_MODEL_b3734e72ab3943ecbd52bee4382d2930",
       "style": "IPY_MODEL_caab9400fef049dfb9401b4e41a8e933",
       "value": " 1563/1563 [06:21&lt;00:00, 25.29s/it]"
      }
     },
     "092f313199844013a40f1e49446946cd": {
      "model_module": "@jupyter-widgets/controls",
      "model_module_version": "1.5.0",
      "model_name": "ProgressStyleModel",
      "state": {
       "description_width": "initial"
      }
     },
     "0937a8a15bc8422db90b1607624344b2": {
      "model_module": "@jupyter-widgets/base",
      "model_module_version": "1.2.0",
      "model_name": "LayoutModel",
      "state": {}
     },
     "094a4e0aa3804184ade53c346cce33fa": {
      "model_module": "@jupyter-widgets/controls",
      "model_module_version": "1.5.0",
      "model_name": "DescriptionStyleModel",
      "state": {
       "description_width": ""
      }
     },
     "094edb257ae1495bb5ebe66eae327e87": {
      "model_module": "@jupyter-widgets/controls",
      "model_module_version": "1.5.0",
      "model_name": "HBoxModel",
      "state": {
       "children": [
        "IPY_MODEL_e4b5742447224a1b955e65c1c6ed96e9",
        "IPY_MODEL_fb04c8dcad3343cf90f9a024196d6f31"
       ],
       "layout": "IPY_MODEL_223c2ce42ae84d60939477d42ca7de09"
      }
     },
     "094fddafc89c4a79b205b0c839d3cd1d": {
      "model_module": "@jupyter-widgets/base",
      "model_module_version": "1.2.0",
      "model_name": "LayoutModel",
      "state": {}
     },
     "0951a558ba894f0389fcfc6d19c0ba81": {
      "model_module": "@jupyter-widgets/base",
      "model_module_version": "1.2.0",
      "model_name": "LayoutModel",
      "state": {}
     },
     "0957d5e6423c4a809cb151b1f06be875": {
      "model_module": "@jupyter-widgets/controls",
      "model_module_version": "1.5.0",
      "model_name": "DescriptionStyleModel",
      "state": {
       "description_width": ""
      }
     },
     "095a8713f66b4b34a391aea73d568ffb": {
      "model_module": "@jupyter-widgets/base",
      "model_module_version": "1.2.0",
      "model_name": "LayoutModel",
      "state": {}
     },
     "098c8ad8fccd49178aa3d3269275fe5c": {
      "model_module": "@jupyter-widgets/controls",
      "model_module_version": "1.5.0",
      "model_name": "ProgressStyleModel",
      "state": {
       "description_width": "initial"
      }
     },
     "09b84d2a31174fa6994ee8ed88e493c7": {
      "model_module": "@jupyter-widgets/base",
      "model_module_version": "1.2.0",
      "model_name": "LayoutModel",
      "state": {}
     },
     "09ef27f1c4c04c508f91e79a4af7d36a": {
      "model_module": "@jupyter-widgets/controls",
      "model_module_version": "1.5.0",
      "model_name": "FloatProgressModel",
      "state": {
       "description": "train loss: 4.0097: 100%",
       "layout": "IPY_MODEL_da4293570cb84a5da854668ec1141fcd",
       "max": 1563,
       "style": "IPY_MODEL_8fd0c0cd3382472581ecb75cac32c57c",
       "value": 1563
      }
     },
     "0a081a92de3a48b0b99c6d89e123dfe7": {
      "model_module": "@jupyter-widgets/base",
      "model_module_version": "1.2.0",
      "model_name": "LayoutModel",
      "state": {}
     },
     "0a139796a85b4580ba33624806b46423": {
      "model_module": "@jupyter-widgets/base",
      "model_module_version": "1.2.0",
      "model_name": "LayoutModel",
      "state": {}
     },
     "0a15039e37b143c7aa8332fa8a65bdee": {
      "model_module": "@jupyter-widgets/controls",
      "model_module_version": "1.5.0",
      "model_name": "FloatProgressModel",
      "state": {
       "description": "train loss: 3.7772: 100%",
       "layout": "IPY_MODEL_fdcef947995e41998fd6b9baad9b1ac1",
       "max": 1563,
       "style": "IPY_MODEL_bd3c6f5ea12e4c8c9f4e07af9f07c89d",
       "value": 1563
      }
     },
     "0a2934eea0d649dd94ec4e44ba4412ca": {
      "model_module": "@jupyter-widgets/controls",
      "model_module_version": "1.5.0",
      "model_name": "DescriptionStyleModel",
      "state": {
       "description_width": ""
      }
     },
     "0a298eb8e3964f2881098c4531429a88": {
      "model_module": "@jupyter-widgets/base",
      "model_module_version": "1.2.0",
      "model_name": "LayoutModel",
      "state": {}
     },
     "0a32584901474aef9cb7b90b3a95414c": {
      "model_module": "@jupyter-widgets/controls",
      "model_module_version": "1.5.0",
      "model_name": "ProgressStyleModel",
      "state": {
       "description_width": "initial"
      }
     },
     "0a69da6b099a438da1fbd22daf40c8ab": {
      "model_module": "@jupyter-widgets/controls",
      "model_module_version": "1.5.0",
      "model_name": "ProgressStyleModel",
      "state": {
       "description_width": "initial"
      }
     },
     "0a9fe90486cb46908d79c6262d9d2b3a": {
      "model_module": "@jupyter-widgets/controls",
      "model_module_version": "1.5.0",
      "model_name": "HTMLModel",
      "state": {
       "layout": "IPY_MODEL_aaf98abd389b4228abd86da300db92f1",
       "style": "IPY_MODEL_8821d9c8502649389fe3cfb53a762b8c",
       "value": " 157/157 [00:16&lt;00:00,  9.48it/s]"
      }
     },
     "0aa87e2deab449ca85d0d41d0e9a26ea": {
      "model_module": "@jupyter-widgets/base",
      "model_module_version": "1.2.0",
      "model_name": "LayoutModel",
      "state": {}
     },
     "0ab4e572ddbc41058dd7f0d8541c85bc": {
      "model_module": "@jupyter-widgets/base",
      "model_module_version": "1.2.0",
      "model_name": "LayoutModel",
      "state": {}
     },
     "0ab9ce583396456d9d44a28f321b8887": {
      "model_module": "@jupyter-widgets/controls",
      "model_module_version": "1.5.0",
      "model_name": "HTMLModel",
      "state": {
       "layout": "IPY_MODEL_b796c261279e43e29b3d75b7ee2b9a21",
       "style": "IPY_MODEL_56284fe6593240839f87f3a1918610d0",
       "value": " 1563/1563 [05:01&lt;00:00,  5.91it/s]"
      }
     },
     "0ac1cbe137714ba0be5668761c79d042": {
      "model_module": "@jupyter-widgets/controls",
      "model_module_version": "1.5.0",
      "model_name": "DescriptionStyleModel",
      "state": {
       "description_width": ""
      }
     },
     "0aec1b2ff6664eb784be81ca0dde3fbc": {
      "model_module": "@jupyter-widgets/base",
      "model_module_version": "1.2.0",
      "model_name": "LayoutModel",
      "state": {}
     },
     "0aec1eff19fd4eefbbcda9640dbe3187": {
      "model_module": "@jupyter-widgets/base",
      "model_module_version": "1.2.0",
      "model_name": "LayoutModel",
      "state": {}
     },
     "0afa2399aa104257bc967aea7abab069": {
      "model_module": "@jupyter-widgets/controls",
      "model_module_version": "1.5.0",
      "model_name": "DescriptionStyleModel",
      "state": {
       "description_width": ""
      }
     },
     "0b07e3ad5a5047ff81078836fbaa0110": {
      "model_module": "@jupyter-widgets/controls",
      "model_module_version": "1.5.0",
      "model_name": "HTMLModel",
      "state": {
       "layout": "IPY_MODEL_6f15502c08c742cabf675d7d4dbc44fd",
       "style": "IPY_MODEL_e621f691ecb042809065e3557ef8c076",
       "value": " 157/157 [00:14&lt;00:00, 10.63it/s]"
      }
     },
     "0b103a6049804f53a78ae092168af39c": {
      "model_module": "@jupyter-widgets/controls",
      "model_module_version": "1.5.0",
      "model_name": "FloatProgressModel",
      "state": {
       "description": "val loss: 2.7831: 100%",
       "layout": "IPY_MODEL_658f414a0fb44f8b919f0917f2a65600",
       "max": 157,
       "style": "IPY_MODEL_21bc87b2859441f39cd080d9a0395720",
       "value": 157
      }
     },
     "0b186d60122e42d49d57c45cc1af0a7f": {
      "model_module": "@jupyter-widgets/controls",
      "model_module_version": "1.5.0",
      "model_name": "DescriptionStyleModel",
      "state": {
       "description_width": ""
      }
     },
     "0b2bdcc943f44885bd87695ec5d2f7e9": {
      "model_module": "@jupyter-widgets/controls",
      "model_module_version": "1.5.0",
      "model_name": "FloatProgressModel",
      "state": {
       "description": "val loss: 5.3057: 100%",
       "layout": "IPY_MODEL_edee08d2dfb64cd78db314686dcae20c",
       "max": 157,
       "style": "IPY_MODEL_c0d0e08a7cab492ab0b1c178de300128",
       "value": 157
      }
     },
     "0b3b52c08dba460d9b45f9181e7a0367": {
      "model_module": "@jupyter-widgets/controls",
      "model_module_version": "1.5.0",
      "model_name": "HTMLModel",
      "state": {
       "layout": "IPY_MODEL_10be35d61844400e9e65b8489e61be9b",
       "style": "IPY_MODEL_b27cb01e2e5e49869aa085db5c96c51b",
       "value": " 1563/1563 [03:12&lt;00:00,  1.98it/s]"
      }
     },
     "0b45ec6f06214773a97c54ec4d9817a3": {
      "model_module": "@jupyter-widgets/base",
      "model_module_version": "1.2.0",
      "model_name": "LayoutModel",
      "state": {}
     },
     "0b53d18eb4f04131b8f847abf389b5b0": {
      "model_module": "@jupyter-widgets/controls",
      "model_module_version": "1.5.0",
      "model_name": "ProgressStyleModel",
      "state": {
       "description_width": "initial"
      }
     },
     "0b5bbac83ce649f5abba73c7aabd7f04": {
      "model_module": "@jupyter-widgets/controls",
      "model_module_version": "1.5.0",
      "model_name": "FloatProgressModel",
      "state": {
       "description": "val loss: 4.5802: 100%",
       "layout": "IPY_MODEL_d4eea3d6464e4fb3b2f5749ebbd8da8c",
       "max": 157,
       "style": "IPY_MODEL_608e00f2c84b44cbaf3624a606072e80",
       "value": 157
      }
     },
     "0b79929d725340189a6cad4c5efdcf6c": {
      "model_module": "@jupyter-widgets/controls",
      "model_module_version": "1.5.0",
      "model_name": "DescriptionStyleModel",
      "state": {
       "description_width": ""
      }
     },
     "0ba142e08c8e4d12a5348ce634d27640": {
      "model_module": "@jupyter-widgets/controls",
      "model_module_version": "1.5.0",
      "model_name": "ProgressStyleModel",
      "state": {
       "description_width": "initial"
      }
     },
     "0badf127671c4c68b29069bdc12e7f7c": {
      "model_module": "@jupyter-widgets/base",
      "model_module_version": "1.2.0",
      "model_name": "LayoutModel",
      "state": {}
     },
     "0bcbeaa53d5a4f3db2f8e686fd5f74ea": {
      "model_module": "@jupyter-widgets/base",
      "model_module_version": "1.2.0",
      "model_name": "LayoutModel",
      "state": {}
     },
     "0be291342f3f4607aa35eb1bf264bf6f": {
      "model_module": "@jupyter-widgets/controls",
      "model_module_version": "1.5.0",
      "model_name": "HTMLModel",
      "state": {
       "layout": "IPY_MODEL_a73828d2054f4c1aa29df3cc3a18e320",
       "style": "IPY_MODEL_6dfca29e74e7468d8487894a5916bdbb",
       "value": " 157/157 [00:10&lt;00:00, 15.71it/s]"
      }
     },
     "0beb4c6fc1b244619e8bfd2fd2c1ce7c": {
      "model_module": "@jupyter-widgets/controls",
      "model_module_version": "1.5.0",
      "model_name": "FloatProgressModel",
      "state": {
       "description": "train loss: 4.7419: 100%",
       "layout": "IPY_MODEL_e2d10605dfb94238ba0b0266cc9b60d6",
       "max": 1563,
       "style": "IPY_MODEL_5303c36f1ebc4d7393fc1aa4dbdcc614",
       "value": 1563
      }
     },
     "0bf56f3a2dc84b66aba00510ede90084": {
      "model_module": "@jupyter-widgets/base",
      "model_module_version": "1.2.0",
      "model_name": "LayoutModel",
      "state": {}
     },
     "0c05e881b345497b85d020be70daf301": {
      "model_module": "@jupyter-widgets/base",
      "model_module_version": "1.2.0",
      "model_name": "LayoutModel",
      "state": {}
     },
     "0c455017d4d64708a5b8549fc2f64b98": {
      "model_module": "@jupyter-widgets/controls",
      "model_module_version": "1.5.0",
      "model_name": "HTMLModel",
      "state": {
       "layout": "IPY_MODEL_d99a32876a9049f589ac9b932edf61b9",
       "style": "IPY_MODEL_c87d9fdf4e064e46a39055e37e2c2794",
       "value": " 1563/1563 [04:55&lt;00:00,  5.97it/s]"
      }
     },
     "0c53b50ffa6e452ebdec6d00595ac157": {
      "model_module": "@jupyter-widgets/base",
      "model_module_version": "1.2.0",
      "model_name": "LayoutModel",
      "state": {}
     },
     "0c5619b934d548ef90e253b8e64419e0": {
      "model_module": "@jupyter-widgets/controls",
      "model_module_version": "1.5.0",
      "model_name": "ProgressStyleModel",
      "state": {
       "description_width": "initial"
      }
     },
     "0c67666d85d44f6794d5dcd7c9dcbade": {
      "model_module": "@jupyter-widgets/controls",
      "model_module_version": "1.5.0",
      "model_name": "DescriptionStyleModel",
      "state": {
       "description_width": ""
      }
     },
     "0c7eab2b15a9422788216c6143a117f6": {
      "model_module": "@jupyter-widgets/controls",
      "model_module_version": "1.5.0",
      "model_name": "ProgressStyleModel",
      "state": {
       "description_width": "initial"
      }
     },
     "0c91fb4dde8945f4b68ac3d787d88032": {
      "model_module": "@jupyter-widgets/controls",
      "model_module_version": "1.5.0",
      "model_name": "DescriptionStyleModel",
      "state": {
       "description_width": ""
      }
     },
     "0c981e733fcf4e848a15a1be9804bde2": {
      "model_module": "@jupyter-widgets/controls",
      "model_module_version": "1.5.0",
      "model_name": "FloatProgressModel",
      "state": {
       "description": "train loss: 4.4681: 100%",
       "layout": "IPY_MODEL_e1ad37345f1343efb8fec1ec946c96c0",
       "max": 1563,
       "style": "IPY_MODEL_2c3944b2246a44a9950e289a2d1ef3b9",
       "value": 1563
      }
     },
     "0ca51056cc56408f9104d8aea24f92a4": {
      "model_module": "@jupyter-widgets/base",
      "model_module_version": "1.2.0",
      "model_name": "LayoutModel",
      "state": {}
     },
     "0cc566687b67401989ef030d88af44aa": {
      "model_module": "@jupyter-widgets/controls",
      "model_module_version": "1.5.0",
      "model_name": "HTMLModel",
      "state": {
       "layout": "IPY_MODEL_dedf378e0d3b40db80656b2b80b26483",
       "style": "IPY_MODEL_f8ece277a6eb466b8fd4d9a5195dd09d",
       "value": " 157/157 [00:12&lt;00:00, 12.67it/s]"
      }
     },
     "0cc9bf5aceb247559b61019a90e74ada": {
      "model_module": "@jupyter-widgets/controls",
      "model_module_version": "1.5.0",
      "model_name": "ProgressStyleModel",
      "state": {
       "description_width": "initial"
      }
     },
     "0cda1114975046c7b58f96400458d4fc": {
      "model_module": "@jupyter-widgets/controls",
      "model_module_version": "1.5.0",
      "model_name": "HTMLModel",
      "state": {
       "layout": "IPY_MODEL_0e4febcc49db480aa7bc6a9d4e5d19fd",
       "style": "IPY_MODEL_236553706d03465dbb27aeaef29a56df",
       "value": " 531/1563 [01:15&lt;02:30,  6.84it/s]"
      }
     },
     "0ce0119ae1f8413fb8ccae0a341f6323": {
      "model_module": "@jupyter-widgets/base",
      "model_module_version": "1.2.0",
      "model_name": "LayoutModel",
      "state": {}
     },
     "0cea092233f64c65bbb4690629da979c": {
      "model_module": "@jupyter-widgets/controls",
      "model_module_version": "1.5.0",
      "model_name": "DescriptionStyleModel",
      "state": {
       "description_width": ""
      }
     },
     "0cf2463c184649309874168eeff91913": {
      "model_module": "@jupyter-widgets/controls",
      "model_module_version": "1.5.0",
      "model_name": "FloatProgressModel",
      "state": {
       "description": "train loss: 4.6945: 100%",
       "layout": "IPY_MODEL_55e2d91cf524435d9e41aa8107483fb3",
       "max": 1563,
       "style": "IPY_MODEL_702838f003374a1c8c8745fcc6dc6b66",
       "value": 1563
      }
     },
     "0d2adaa4c40a42f7b8e3d38f7dfce855": {
      "model_module": "@jupyter-widgets/controls",
      "model_module_version": "1.5.0",
      "model_name": "ProgressStyleModel",
      "state": {
       "description_width": "initial"
      }
     },
     "0d37768d7aac4725b4ee8d29b391a857": {
      "model_module": "@jupyter-widgets/controls",
      "model_module_version": "1.5.0",
      "model_name": "HTMLModel",
      "state": {
       "layout": "IPY_MODEL_b2201f4f82454f8088114c572bbcf953",
       "style": "IPY_MODEL_adc048229e3e453984aff8c2d8ef35a4",
       "value": " 157/157 [00:11&lt;00:00,  9.39it/s]"
      }
     },
     "0d4b61ce6a2642c8b9253dca1b3bb84c": {
      "model_module": "@jupyter-widgets/base",
      "model_module_version": "1.2.0",
      "model_name": "LayoutModel",
      "state": {}
     },
     "0d53166adadf4cb7b9435b0825abe3e1": {
      "model_module": "@jupyter-widgets/controls",
      "model_module_version": "1.5.0",
      "model_name": "DescriptionStyleModel",
      "state": {
       "description_width": ""
      }
     },
     "0d56798d66b944f186a4cbee39d471da": {
      "model_module": "@jupyter-widgets/base",
      "model_module_version": "1.2.0",
      "model_name": "LayoutModel",
      "state": {}
     },
     "0d8cff46ad90435bb445a0f1828ba81a": {
      "model_module": "@jupyter-widgets/controls",
      "model_module_version": "1.5.0",
      "model_name": "FloatProgressModel",
      "state": {
       "description": "val loss: 3.7322: 100%",
       "layout": "IPY_MODEL_e65eef3e0e4b4f8093221b46b44c4be9",
       "max": 157,
       "style": "IPY_MODEL_16baf81bb66247d58689b19e443449bf",
       "value": 157
      }
     },
     "0df502494f5a4b11b438fa323b4a6e22": {
      "model_module": "@jupyter-widgets/base",
      "model_module_version": "1.2.0",
      "model_name": "LayoutModel",
      "state": {}
     },
     "0e2acdd2da8a4fc0a076dab25b24a812": {
      "model_module": "@jupyter-widgets/base",
      "model_module_version": "1.2.0",
      "model_name": "LayoutModel",
      "state": {}
     },
     "0e4079a2856f4b8b992813fc1b1c3153": {
      "model_module": "@jupyter-widgets/controls",
      "model_module_version": "1.5.0",
      "model_name": "HTMLModel",
      "state": {
       "layout": "IPY_MODEL_e0e142f9fcb348f2a0d4b4873c8b5605",
       "style": "IPY_MODEL_5c57e771dad54767ae4d67e0ff50170d",
       "value": " 157/157 [00:14&lt;00:00, 11.86it/s]"
      }
     },
     "0e47a2f84e1a44bdbdfa12e7cc6b0221": {
      "model_module": "@jupyter-widgets/controls",
      "model_module_version": "1.5.0",
      "model_name": "ProgressStyleModel",
      "state": {
       "description_width": "initial"
      }
     },
     "0e4d12fc9ff844e7af5a4a1e7a88dcc6": {
      "model_module": "@jupyter-widgets/controls",
      "model_module_version": "1.5.0",
      "model_name": "FloatProgressModel",
      "state": {
       "description": "val loss: 4.4439: 100%",
       "layout": "IPY_MODEL_1bac150e06414481bc830723815b369e",
       "max": 157,
       "style": "IPY_MODEL_6f62bc6c89174dd591387eb74e577612",
       "value": 157
      }
     },
     "0e4febcc49db480aa7bc6a9d4e5d19fd": {
      "model_module": "@jupyter-widgets/base",
      "model_module_version": "1.2.0",
      "model_name": "LayoutModel",
      "state": {}
     },
     "0e53c2e9d50140a8bd9f6f64b69ac0bc": {
      "model_module": "@jupyter-widgets/base",
      "model_module_version": "1.2.0",
      "model_name": "LayoutModel",
      "state": {}
     },
     "0e5b5934e9b244e08f408eaf58462807": {
      "model_module": "@jupyter-widgets/base",
      "model_module_version": "1.2.0",
      "model_name": "LayoutModel",
      "state": {}
     },
     "0e5b8cc45b2a4e60a9281aa8d71e3ba7": {
      "model_module": "@jupyter-widgets/controls",
      "model_module_version": "1.5.0",
      "model_name": "ProgressStyleModel",
      "state": {
       "description_width": "initial"
      }
     },
     "0e5e0a5772124d3aaea27ef67dfbd29b": {
      "model_module": "@jupyter-widgets/base",
      "model_module_version": "1.2.0",
      "model_name": "LayoutModel",
      "state": {}
     },
     "0e78850236d341928168fb3c787863ed": {
      "model_module": "@jupyter-widgets/base",
      "model_module_version": "1.2.0",
      "model_name": "LayoutModel",
      "state": {}
     },
     "0eb76caad19c48b99b04c966b06c2609": {
      "model_module": "@jupyter-widgets/controls",
      "model_module_version": "1.5.0",
      "model_name": "ProgressStyleModel",
      "state": {
       "description_width": "initial"
      }
     },
     "0edd87365d0a4e5fa5ee21b045c756ad": {
      "model_module": "@jupyter-widgets/base",
      "model_module_version": "1.2.0",
      "model_name": "LayoutModel",
      "state": {}
     },
     "0ee30788562e4c75b9bf449090da28cb": {
      "model_module": "@jupyter-widgets/base",
      "model_module_version": "1.2.0",
      "model_name": "LayoutModel",
      "state": {}
     },
     "0f19fccb76594b90929d635e1f86f907": {
      "model_module": "@jupyter-widgets/base",
      "model_module_version": "1.2.0",
      "model_name": "LayoutModel",
      "state": {}
     },
     "0f1c1e56240e4e2d853563dd00a7a59b": {
      "model_module": "@jupyter-widgets/base",
      "model_module_version": "1.2.0",
      "model_name": "LayoutModel",
      "state": {}
     },
     "0f3bf958a8504b04a627d5c7a7750bdb": {
      "model_module": "@jupyter-widgets/base",
      "model_module_version": "1.2.0",
      "model_name": "LayoutModel",
      "state": {}
     },
     "0f70dee188d74ed2a47de968b22c8b56": {
      "model_module": "@jupyter-widgets/controls",
      "model_module_version": "1.5.0",
      "model_name": "FloatProgressModel",
      "state": {
       "description": "val loss: 5.6516: 100%",
       "layout": "IPY_MODEL_599a0893e58f453589aad2dd1af0cedf",
       "max": 157,
       "style": "IPY_MODEL_acc74ae5f75641f08da1db246cef086d",
       "value": 157
      }
     },
     "0f7a39938b6e41c8a951c79a94c0b32e": {
      "model_module": "@jupyter-widgets/base",
      "model_module_version": "1.2.0",
      "model_name": "LayoutModel",
      "state": {}
     },
     "0f7ce741e129489fa42cd0b13bdf3a4d": {
      "model_module": "@jupyter-widgets/controls",
      "model_module_version": "1.5.0",
      "model_name": "FloatProgressModel",
      "state": {
       "description": "val loss: 4.1084: 100%",
       "layout": "IPY_MODEL_4575c4a64e4a499a97c5532065a2070e",
       "max": 157,
       "style": "IPY_MODEL_38da9fb022cf42ea86ae7c223a4b0bb2",
       "value": 157
      }
     },
     "0f8d454f023c484ca827b4ab8c04e9da": {
      "model_module": "@jupyter-widgets/base",
      "model_module_version": "1.2.0",
      "model_name": "LayoutModel",
      "state": {}
     },
     "0fa03ded52544051833edd54b5bfd5eb": {
      "model_module": "@jupyter-widgets/controls",
      "model_module_version": "1.5.0",
      "model_name": "FloatProgressModel",
      "state": {
       "description": "val loss: 3.9130: 100%",
       "layout": "IPY_MODEL_c11e75e4cbfa4255a18d64cee3d0c4fd",
       "max": 157,
       "style": "IPY_MODEL_93aae4fd8546415494c351718573d99c",
       "value": 157
      }
     },
     "0fa0c19dc1b34e9b9fb7b56cdc89756c": {
      "model_module": "@jupyter-widgets/controls",
      "model_module_version": "1.5.0",
      "model_name": "DescriptionStyleModel",
      "state": {
       "description_width": ""
      }
     },
     "0fbc7a016214440c85c376bda7719a22": {
      "model_module": "@jupyter-widgets/controls",
      "model_module_version": "1.5.0",
      "model_name": "ProgressStyleModel",
      "state": {
       "description_width": "initial"
      }
     },
     "0fc7172b709744f7ae7a426e32934fcb": {
      "model_module": "@jupyter-widgets/base",
      "model_module_version": "1.2.0",
      "model_name": "LayoutModel",
      "state": {}
     },
     "0fd491cb1f9f4bacbd1d97d09f03b607": {
      "model_module": "@jupyter-widgets/controls",
      "model_module_version": "1.5.0",
      "model_name": "HTMLModel",
      "state": {
       "layout": "IPY_MODEL_268c5e20d1bb41088cbbf8d4732c54ad",
       "style": "IPY_MODEL_b9db10470314414facc0537cb83afcb6",
       "value": " 0/10 [00:07&lt;?, ?it/s]"
      }
     },
     "0ff6632464fa4df7ba9d2d239fc980df": {
      "model_module": "@jupyter-widgets/controls",
      "model_module_version": "1.5.0",
      "model_name": "FloatProgressModel",
      "state": {
       "description": "val loss: 4.0130: 100%",
       "layout": "IPY_MODEL_a72597cd77714fb7a0abf2d181d3ac3b",
       "max": 157,
       "style": "IPY_MODEL_aa63072a80864725a45dc2a147250f82",
       "value": 157
      }
     },
     "0ff89fcb57014993a23c2d7c05fff389": {
      "model_module": "@jupyter-widgets/base",
      "model_module_version": "1.2.0",
      "model_name": "LayoutModel",
      "state": {}
     },
     "1011a8bd09f946f8a4e79857a3124b78": {
      "model_module": "@jupyter-widgets/base",
      "model_module_version": "1.2.0",
      "model_name": "LayoutModel",
      "state": {}
     },
     "101ff125794d4132a55e83bbbf947923": {
      "model_module": "@jupyter-widgets/base",
      "model_module_version": "1.2.0",
      "model_name": "LayoutModel",
      "state": {}
     },
     "10223bb9b3e84141939d23bc8e5c11d0": {
      "model_module": "@jupyter-widgets/controls",
      "model_module_version": "1.5.0",
      "model_name": "ProgressStyleModel",
      "state": {
       "description_width": "initial"
      }
     },
     "1075d15dfd6d49f3866c2d6c8159ac48": {
      "model_module": "@jupyter-widgets/base",
      "model_module_version": "1.2.0",
      "model_name": "LayoutModel",
      "state": {}
     },
     "1082bdaa3dfb4f6eae5edc8f6560ced7": {
      "model_module": "@jupyter-widgets/controls",
      "model_module_version": "1.5.0",
      "model_name": "ProgressStyleModel",
      "state": {
       "description_width": "initial"
      }
     },
     "108a8c0680d144bd8bb272557a805a78": {
      "model_module": "@jupyter-widgets/controls",
      "model_module_version": "1.5.0",
      "model_name": "ProgressStyleModel",
      "state": {
       "description_width": "initial"
      }
     },
     "109c1af565f24987a2b1ba1fbcd2bff3": {
      "model_module": "@jupyter-widgets/base",
      "model_module_version": "1.2.0",
      "model_name": "LayoutModel",
      "state": {}
     },
     "10a27206e4ec4dfa8a4923819a78ed94": {
      "model_module": "@jupyter-widgets/controls",
      "model_module_version": "1.5.0",
      "model_name": "FloatProgressModel",
      "state": {
       "bar_style": "success",
       "description": "Train Loss: 3.2271 - Val Loss: 3.5198: 100%",
       "layout": "IPY_MODEL_ac01ad72a6fe4cfda6724272a2356402",
       "max": 10,
       "style": "IPY_MODEL_3b77367b3e424f13be98ef7e79231c51",
       "value": 10
      }
     },
     "10bb299da9294597806e94fb451ab59f": {
      "model_module": "@jupyter-widgets/base",
      "model_module_version": "1.2.0",
      "model_name": "LayoutModel",
      "state": {}
     },
     "10be35d61844400e9e65b8489e61be9b": {
      "model_module": "@jupyter-widgets/base",
      "model_module_version": "1.2.0",
      "model_name": "LayoutModel",
      "state": {}
     },
     "10d17ca1479349c0b022a5efa4f969c4": {
      "model_module": "@jupyter-widgets/controls",
      "model_module_version": "1.5.0",
      "model_name": "FloatProgressModel",
      "state": {
       "description": "train loss: 2.8505: 100%",
       "layout": "IPY_MODEL_1ed1baa34a384c9e95924b11af91dc25",
       "max": 1563,
       "style": "IPY_MODEL_d099bcebfb9046ae86a84e50f189cffa",
       "value": 1563
      }
     },
     "10f52c98b9ff41d58430cebe378bf0ab": {
      "model_module": "@jupyter-widgets/base",
      "model_module_version": "1.2.0",
      "model_name": "LayoutModel",
      "state": {}
     },
     "10f5d5861ed04a168517013b3b4e86fd": {
      "model_module": "@jupyter-widgets/base",
      "model_module_version": "1.2.0",
      "model_name": "LayoutModel",
      "state": {}
     },
     "10f8d593f3684de1b42472695a643cf0": {
      "model_module": "@jupyter-widgets/controls",
      "model_module_version": "1.5.0",
      "model_name": "FloatProgressModel",
      "state": {
       "description": "val loss: 4.5045: 100%",
       "layout": "IPY_MODEL_2eafd0e33e2946d5ab8591e4a8f334f2",
       "max": 157,
       "style": "IPY_MODEL_53f42cee64584e9687543e4730369e99",
       "value": 157
      }
     },
     "112689cfcfc64d7d99aceeecaea4ce5f": {
      "model_module": "@jupyter-widgets/base",
      "model_module_version": "1.2.0",
      "model_name": "LayoutModel",
      "state": {}
     },
     "112e94b3190645509fde2f2423d79b0e": {
      "model_module": "@jupyter-widgets/base",
      "model_module_version": "1.2.0",
      "model_name": "LayoutModel",
      "state": {}
     },
     "114ab2e3f1614118955faf3cb76253a0": {
      "model_module": "@jupyter-widgets/controls",
      "model_module_version": "1.5.0",
      "model_name": "HBoxModel",
      "state": {
       "children": [
        "IPY_MODEL_34331d1a725f4fe48ce273cb3d47df92",
        "IPY_MODEL_eb719738317d447bb430ff60714a0828"
       ],
       "layout": "IPY_MODEL_9d339c19283c4a2aab32cdf7a1ba3317"
      }
     },
     "114e08d6678847899beaea7afe7f3fa0": {
      "model_module": "@jupyter-widgets/base",
      "model_module_version": "1.2.0",
      "model_name": "LayoutModel",
      "state": {}
     },
     "11536fe6e5ad4df68a7a3df9db88d511": {
      "model_module": "@jupyter-widgets/base",
      "model_module_version": "1.2.0",
      "model_name": "LayoutModel",
      "state": {}
     },
     "11548041057748fc99d22c5f36d83a4c": {
      "model_module": "@jupyter-widgets/base",
      "model_module_version": "1.2.0",
      "model_name": "LayoutModel",
      "state": {}
     },
     "118d3fa0d4a0494288557b7bcdc45985": {
      "model_module": "@jupyter-widgets/base",
      "model_module_version": "1.2.0",
      "model_name": "LayoutModel",
      "state": {}
     },
     "11a68824519b45e1ab419ae75ae7db86": {
      "model_module": "@jupyter-widgets/controls",
      "model_module_version": "1.5.0",
      "model_name": "ProgressStyleModel",
      "state": {
       "description_width": "initial"
      }
     },
     "11b964a36b9e4bb6812dc399d9403d7a": {
      "model_module": "@jupyter-widgets/controls",
      "model_module_version": "1.5.0",
      "model_name": "DescriptionStyleModel",
      "state": {
       "description_width": ""
      }
     },
     "11c471c549784e68a04f7585d389c5f4": {
      "model_module": "@jupyter-widgets/base",
      "model_module_version": "1.2.0",
      "model_name": "LayoutModel",
      "state": {}
     },
     "11fb11f5ce4f465d97f13a90748e34c8": {
      "model_module": "@jupyter-widgets/base",
      "model_module_version": "1.2.0",
      "model_name": "LayoutModel",
      "state": {}
     },
     "12195c0646cd41879cea2237ffcd7beb": {
      "model_module": "@jupyter-widgets/base",
      "model_module_version": "1.2.0",
      "model_name": "LayoutModel",
      "state": {}
     },
     "1233fa99acd3413dad5e7053909a7602": {
      "model_module": "@jupyter-widgets/base",
      "model_module_version": "1.2.0",
      "model_name": "LayoutModel",
      "state": {}
     },
     "12614af2c60a4b749cf19d4d743213b9": {
      "model_module": "@jupyter-widgets/controls",
      "model_module_version": "1.5.0",
      "model_name": "HTMLModel",
      "state": {
       "layout": "IPY_MODEL_b22cfd26a05c47c3809ce934a8094cc8",
       "style": "IPY_MODEL_937a9907e687461c9851b163732852ec",
       "value": " 157/157 [00:12&lt;00:00, 12.65it/s]"
      }
     },
     "129db1537a734cbc8be924260381043c": {
      "model_module": "@jupyter-widgets/controls",
      "model_module_version": "1.5.0",
      "model_name": "DescriptionStyleModel",
      "state": {
       "description_width": ""
      }
     },
     "12aeea21d760484a9caccd9f86581e89": {
      "model_module": "@jupyter-widgets/controls",
      "model_module_version": "1.5.0",
      "model_name": "DescriptionStyleModel",
      "state": {
       "description_width": ""
      }
     },
     "12b9a591cff84380b93a947019819d6e": {
      "model_module": "@jupyter-widgets/controls",
      "model_module_version": "1.5.0",
      "model_name": "FloatProgressModel",
      "state": {
       "description": "train loss: 4.9129: 100%",
       "layout": "IPY_MODEL_b56a3f48bf8c47468aa000bad1993979",
       "max": 1563,
       "style": "IPY_MODEL_a04a948c8bfb4c79aabf9294b39d5cf8",
       "value": 1563
      }
     },
     "12d0933f0dcb40b99236c649586f3b41": {
      "model_module": "@jupyter-widgets/base",
      "model_module_version": "1.2.0",
      "model_name": "LayoutModel",
      "state": {}
     },
     "12e2c683abc34dbfbce5c0d4840a1c89": {
      "model_module": "@jupyter-widgets/controls",
      "model_module_version": "1.5.0",
      "model_name": "DescriptionStyleModel",
      "state": {
       "description_width": ""
      }
     },
     "1300dfba05ab410fb749c7dc24dd967d": {
      "model_module": "@jupyter-widgets/base",
      "model_module_version": "1.2.0",
      "model_name": "LayoutModel",
      "state": {}
     },
     "13315a6d97af4bd5970c8f7f14d49523": {
      "model_module": "@jupyter-widgets/controls",
      "model_module_version": "1.5.0",
      "model_name": "HTMLModel",
      "state": {
       "layout": "IPY_MODEL_397b95fa47374246887adab8a59aee55",
       "style": "IPY_MODEL_b120d0b5e04843e8b333c71a4b5e8054",
       "value": " 157/157 [00:33&lt;00:00,  2.51s/it]"
      }
     },
     "1346f8b3bdc04ebbae24d7ccaa66d476": {
      "model_module": "@jupyter-widgets/base",
      "model_module_version": "1.2.0",
      "model_name": "LayoutModel",
      "state": {}
     },
     "136ff65bc9b44b99a1567a0a6e47bd5b": {
      "model_module": "@jupyter-widgets/base",
      "model_module_version": "1.2.0",
      "model_name": "LayoutModel",
      "state": {}
     },
     "139452cd8d244e39aee552bcbbcad069": {
      "model_module": "@jupyter-widgets/controls",
      "model_module_version": "1.5.0",
      "model_name": "FloatProgressModel",
      "state": {
       "description": "val loss: 4.3523: 100%",
       "layout": "IPY_MODEL_84659bb5c5194ccf8430e4dc8793e213",
       "max": 157,
       "style": "IPY_MODEL_33e45cf622a74add99320a88ade8e2f7",
       "value": 157
      }
     },
     "1398710cf1da45a492e0514d5c709525": {
      "model_module": "@jupyter-widgets/controls",
      "model_module_version": "1.5.0",
      "model_name": "ProgressStyleModel",
      "state": {
       "description_width": "initial"
      }
     },
     "13a7ef49a5274f45a8dc3780c8fac74f": {
      "model_module": "@jupyter-widgets/base",
      "model_module_version": "1.2.0",
      "model_name": "LayoutModel",
      "state": {}
     },
     "13b4ef7768ba4f4bb2ce7ac09a91a816": {
      "model_module": "@jupyter-widgets/base",
      "model_module_version": "1.2.0",
      "model_name": "LayoutModel",
      "state": {}
     },
     "13ba693cd9a04cfa89dfd817f3de34fd": {
      "model_module": "@jupyter-widgets/base",
      "model_module_version": "1.2.0",
      "model_name": "LayoutModel",
      "state": {}
     },
     "13e5e328ecad4dd49309878a4d414d4c": {
      "model_module": "@jupyter-widgets/base",
      "model_module_version": "1.2.0",
      "model_name": "LayoutModel",
      "state": {}
     },
     "13e6bd4922a14d2bbb7bb87fa1093ad7": {
      "model_module": "@jupyter-widgets/base",
      "model_module_version": "1.2.0",
      "model_name": "LayoutModel",
      "state": {}
     },
     "13e90ecb49614006ae52beecaae0bc42": {
      "model_module": "@jupyter-widgets/controls",
      "model_module_version": "1.5.0",
      "model_name": "FloatProgressModel",
      "state": {
       "description": "train loss: 4.2538: 100%",
       "layout": "IPY_MODEL_8d721212f73641caab3a5a608ed0f9c2",
       "max": 1563,
       "style": "IPY_MODEL_7461c8f17c46400d9ec71ed37faf2192",
       "value": 1563
      }
     },
     "13f879cab4174a068ca667b51900f8e2": {
      "model_module": "@jupyter-widgets/base",
      "model_module_version": "1.2.0",
      "model_name": "LayoutModel",
      "state": {}
     },
     "1430572481ec478aacc90ab61887ace1": {
      "model_module": "@jupyter-widgets/controls",
      "model_module_version": "1.5.0",
      "model_name": "FloatProgressModel",
      "state": {
       "bar_style": "danger",
       "description": "Train Loss: 4.5890 - Val Loss: 5.3751:  60%",
       "layout": "IPY_MODEL_f2726668ab5e44e0afc8adff20ddd20e",
       "max": 10,
       "style": "IPY_MODEL_03fab8719d4e41a4a0854dffbfb85f27",
       "value": 6
      }
     },
     "14308a1bd3444af9bb08ba6337744bc5": {
      "model_module": "@jupyter-widgets/base",
      "model_module_version": "1.2.0",
      "model_name": "LayoutModel",
      "state": {}
     },
     "1446f14eeaea4bc19851e7af045a86d7": {
      "model_module": "@jupyter-widgets/controls",
      "model_module_version": "1.5.0",
      "model_name": "DescriptionStyleModel",
      "state": {
       "description_width": ""
      }
     },
     "144cc98289fd4aefa6dc129a060601d4": {
      "model_module": "@jupyter-widgets/controls",
      "model_module_version": "1.5.0",
      "model_name": "FloatProgressModel",
      "state": {
       "bar_style": "danger",
       "description": "Train Loss: 2.9997 - Val Loss: 3.6186:  70%",
       "layout": "IPY_MODEL_76cf7b563d1243a7a2ecbcb9db628412",
       "max": 10,
       "style": "IPY_MODEL_e4581f30e06b41f1a1384082ea15f896",
       "value": 7
      }
     },
     "145047c44c974f339f6ba0af6438a6b0": {
      "model_module": "@jupyter-widgets/base",
      "model_module_version": "1.2.0",
      "model_name": "LayoutModel",
      "state": {}
     },
     "1457a15df8024bb7b6d3b845936d7bae": {
      "model_module": "@jupyter-widgets/controls",
      "model_module_version": "1.5.0",
      "model_name": "ProgressStyleModel",
      "state": {
       "description_width": "initial"
      }
     },
     "145a41c37acf43768ec313b0c487649c": {
      "model_module": "@jupyter-widgets/controls",
      "model_module_version": "1.5.0",
      "model_name": "HTMLModel",
      "state": {
       "layout": "IPY_MODEL_5a74440b0a4044a1b1a47c097435ca49",
       "style": "IPY_MODEL_0c67666d85d44f6794d5dcd7c9dcbade",
       "value": " 1563/1563 [11:48&lt;00:00, 65.87s/it]"
      }
     },
     "147e1a6968234c0f8e0e43d60fa87121": {
      "model_module": "@jupyter-widgets/controls",
      "model_module_version": "1.5.0",
      "model_name": "FloatProgressModel",
      "state": {
       "description": "train loss: 3.0774: 100%",
       "layout": "IPY_MODEL_2ca30a8af9014fd383ec95506b6bd77f",
       "max": 1563,
       "style": "IPY_MODEL_600f41327a5943cfa5e8d365c5c1b606",
       "value": 1563
      }
     },
     "14b40362f14c41348efa4ffc8d789635": {
      "model_module": "@jupyter-widgets/base",
      "model_module_version": "1.2.0",
      "model_name": "LayoutModel",
      "state": {}
     },
     "14b4f477ee7a472dbcb130bde483ae8b": {
      "model_module": "@jupyter-widgets/base",
      "model_module_version": "1.2.0",
      "model_name": "LayoutModel",
      "state": {}
     },
     "14c7e8a88a964b26999c637075c3d5f9": {
      "model_module": "@jupyter-widgets/controls",
      "model_module_version": "1.5.0",
      "model_name": "ProgressStyleModel",
      "state": {
       "description_width": "initial"
      }
     },
     "14fc7cca56a347f48373e3b150184347": {
      "model_module": "@jupyter-widgets/controls",
      "model_module_version": "1.5.0",
      "model_name": "ProgressStyleModel",
      "state": {
       "description_width": "initial"
      }
     },
     "152805706b4842fc9866e1bb906afacc": {
      "model_module": "@jupyter-widgets/base",
      "model_module_version": "1.2.0",
      "model_name": "LayoutModel",
      "state": {}
     },
     "152e6bc58a9e4aa285f809be17ace285": {
      "model_module": "@jupyter-widgets/base",
      "model_module_version": "1.2.0",
      "model_name": "LayoutModel",
      "state": {}
     },
     "15312917216b4165a2072b49970a42a3": {
      "model_module": "@jupyter-widgets/base",
      "model_module_version": "1.2.0",
      "model_name": "LayoutModel",
      "state": {}
     },
     "154e606d4ee94f60a7da4fdaded0ab73": {
      "model_module": "@jupyter-widgets/controls",
      "model_module_version": "1.5.0",
      "model_name": "FloatProgressModel",
      "state": {
       "description": "train loss: 5.0103: 100%",
       "layout": "IPY_MODEL_1565726cc4e644ebb4f455154cdb790f",
       "max": 1563,
       "style": "IPY_MODEL_95773e371f944cd594a008fb2b9d6cb0",
       "value": 1563
      }
     },
     "1565726cc4e644ebb4f455154cdb790f": {
      "model_module": "@jupyter-widgets/base",
      "model_module_version": "1.2.0",
      "model_name": "LayoutModel",
      "state": {}
     },
     "15a3f26dbdc6463485d6d79b73ab0af1": {
      "model_module": "@jupyter-widgets/controls",
      "model_module_version": "1.5.0",
      "model_name": "HBoxModel",
      "state": {
       "children": [
        "IPY_MODEL_d6c064863e0241bb804a4e84f98aeafd",
        "IPY_MODEL_d50df8a4efc84ee2bd35339847f3f5cc"
       ],
       "layout": "IPY_MODEL_0e2acdd2da8a4fc0a076dab25b24a812"
      }
     },
     "15ea413275cd471b91cb5032d021a060": {
      "model_module": "@jupyter-widgets/base",
      "model_module_version": "1.2.0",
      "model_name": "LayoutModel",
      "state": {}
     },
     "164e1a96cb6e4b08a9d4dada3d11fc31": {
      "model_module": "@jupyter-widgets/controls",
      "model_module_version": "1.5.0",
      "model_name": "ProgressStyleModel",
      "state": {
       "description_width": "initial"
      }
     },
     "1665c0a1333f4808a8c485141f16d833": {
      "model_module": "@jupyter-widgets/controls",
      "model_module_version": "1.5.0",
      "model_name": "DescriptionStyleModel",
      "state": {
       "description_width": ""
      }
     },
     "168971471a2746e09956dd289f3a1290": {
      "model_module": "@jupyter-widgets/controls",
      "model_module_version": "1.5.0",
      "model_name": "HBoxModel",
      "state": {
       "children": [
        "IPY_MODEL_863686ec032b4f1abb6f5f1da71eb4c8",
        "IPY_MODEL_e5d66612a8734c34ba56e94286b4aa43"
       ],
       "layout": "IPY_MODEL_465a0b24f0134989aaf28b99a4a9c6d9"
      }
     },
     "16baf81bb66247d58689b19e443449bf": {
      "model_module": "@jupyter-widgets/controls",
      "model_module_version": "1.5.0",
      "model_name": "ProgressStyleModel",
      "state": {
       "description_width": "initial"
      }
     },
     "16c786d5ebb24c6ea069005398d4c91d": {
      "model_module": "@jupyter-widgets/base",
      "model_module_version": "1.2.0",
      "model_name": "LayoutModel",
      "state": {}
     },
     "16d58eb3d0c24e9a90941fd2b976b30f": {
      "model_module": "@jupyter-widgets/base",
      "model_module_version": "1.2.0",
      "model_name": "LayoutModel",
      "state": {}
     },
     "16d8af5746ab41f08cbfd78697adb0fa": {
      "model_module": "@jupyter-widgets/controls",
      "model_module_version": "1.5.0",
      "model_name": "ProgressStyleModel",
      "state": {
       "description_width": "initial"
      }
     },
     "16da3194425846ddb7aeca0313a57b42": {
      "model_module": "@jupyter-widgets/base",
      "model_module_version": "1.2.0",
      "model_name": "LayoutModel",
      "state": {}
     },
     "170935497f2341c799f2f35a26873c77": {
      "model_module": "@jupyter-widgets/base",
      "model_module_version": "1.2.0",
      "model_name": "LayoutModel",
      "state": {}
     },
     "170b8df689b6429a9f60b5355ab3ba74": {
      "model_module": "@jupyter-widgets/controls",
      "model_module_version": "1.5.0",
      "model_name": "DescriptionStyleModel",
      "state": {
       "description_width": ""
      }
     },
     "17116b3a6e61443db770c600fe72a61d": {
      "model_module": "@jupyter-widgets/base",
      "model_module_version": "1.2.0",
      "model_name": "LayoutModel",
      "state": {}
     },
     "171e48507bbf44fd848049ca72e2c2f6": {
      "model_module": "@jupyter-widgets/base",
      "model_module_version": "1.2.0",
      "model_name": "LayoutModel",
      "state": {}
     },
     "173da042d0a14ab8931e8ce6f62ed461": {
      "model_module": "@jupyter-widgets/controls",
      "model_module_version": "1.5.0",
      "model_name": "HTMLModel",
      "state": {
       "layout": "IPY_MODEL_3d6310b2b75f4828bd070581765c537c",
       "style": "IPY_MODEL_98a20603d714484e8fc28407dcf3440c",
       "value": " 10/10 [22:14:49&lt;00:00, 8008.93s/it]"
      }
     },
     "1765149214e34286929b39ecf5bc10ae": {
      "model_module": "@jupyter-widgets/base",
      "model_module_version": "1.2.0",
      "model_name": "LayoutModel",
      "state": {}
     },
     "17b93e81a0f54ff595de124256700539": {
      "model_module": "@jupyter-widgets/controls",
      "model_module_version": "1.5.0",
      "model_name": "HTMLModel",
      "state": {
       "layout": "IPY_MODEL_cb6e4802eeed4c9f98f83ede2cac54ad",
       "style": "IPY_MODEL_ad22c16f333d4fd8b927b768a7fe8468",
       "value": " 10/10 [20:39:04&lt;00:00, 7434.49s/it]"
      }
     },
     "17f4bd0e8ad0442ca2476f7b2e59f106": {
      "model_module": "@jupyter-widgets/controls",
      "model_module_version": "1.5.0",
      "model_name": "FloatProgressModel",
      "state": {
       "description": "val loss: 3.4238: 100%",
       "layout": "IPY_MODEL_4339528e0bd14bb78d8950510f3b660a",
       "max": 157,
       "style": "IPY_MODEL_3a13857db8fc42ad849f6bd96c513e12",
       "value": 157
      }
     },
     "18027a493dfd491ea4c2b026380b37e2": {
      "model_module": "@jupyter-widgets/base",
      "model_module_version": "1.2.0",
      "model_name": "LayoutModel",
      "state": {}
     },
     "181a4308ee9545eb803c9d0b436b1c75": {
      "model_module": "@jupyter-widgets/base",
      "model_module_version": "1.2.0",
      "model_name": "LayoutModel",
      "state": {}
     },
     "1827053b988546a2981d4dfd8c378cd8": {
      "model_module": "@jupyter-widgets/base",
      "model_module_version": "1.2.0",
      "model_name": "LayoutModel",
      "state": {}
     },
     "182a93d57e50413583c43eedac684e91": {
      "model_module": "@jupyter-widgets/controls",
      "model_module_version": "1.5.0",
      "model_name": "HTMLModel",
      "state": {
       "layout": "IPY_MODEL_b719680b1ab1419f99d3d85c8fb666e7",
       "style": "IPY_MODEL_af9182c656b94fd6a3096e5061ccf5ba",
       "value": " 1563/1563 [05:33&lt;00:00,  5.49it/s]"
      }
     },
     "1832c33ec932458abed2f63e868df5fe": {
      "model_module": "@jupyter-widgets/controls",
      "model_module_version": "1.5.0",
      "model_name": "DescriptionStyleModel",
      "state": {
       "description_width": ""
      }
     },
     "1898ae99fee04b0d8f25333e187e38c0": {
      "model_module": "@jupyter-widgets/base",
      "model_module_version": "1.2.0",
      "model_name": "LayoutModel",
      "state": {}
     },
     "189ab0b9fc534b69bdc66a924dc961b5": {
      "model_module": "@jupyter-widgets/controls",
      "model_module_version": "1.5.0",
      "model_name": "FloatProgressModel",
      "state": {
       "bar_style": "danger",
       "description": "Train Loss: 4.0618 - Val Loss: 6.6687:  20%",
       "layout": "IPY_MODEL_4e589ba735264e99936bf71a2769e674",
       "max": 10,
       "style": "IPY_MODEL_bddee01925a346b3bd30fe9a5f9eb8f4",
       "value": 2
      }
     },
     "189abfbf1c054193813ed0b0784c30a9": {
      "model_module": "@jupyter-widgets/controls",
      "model_module_version": "1.5.0",
      "model_name": "HTMLModel",
      "state": {
       "layout": "IPY_MODEL_b3663f23db42473fbeb04c5677e3da35",
       "style": "IPY_MODEL_a1701963ebcd4697a54e90842736760b",
       "value": " 157/157 [00:14&lt;00:00, 11.91it/s]"
      }
     },
     "18af0f6f8a9b4bdf8ca756f2cf80293d": {
      "model_module": "@jupyter-widgets/controls",
      "model_module_version": "1.5.0",
      "model_name": "HTMLModel",
      "state": {
       "layout": "IPY_MODEL_e367f6f6eed04fe4beec413d1c628fcf",
       "style": "IPY_MODEL_4cc95710f2924223950c132313d065f0",
       "value": " 157/157 [00:15&lt;00:00, 11.82it/s]"
      }
     },
     "18d499dc86e044ce94e0c65942ffa1aa": {
      "model_module": "@jupyter-widgets/base",
      "model_module_version": "1.2.0",
      "model_name": "LayoutModel",
      "state": {}
     },
     "18df234d785d4cc49b006650b7f060ad": {
      "model_module": "@jupyter-widgets/base",
      "model_module_version": "1.2.0",
      "model_name": "LayoutModel",
      "state": {}
     },
     "190d33e1b42244e9b4a321b23913fbc2": {
      "model_module": "@jupyter-widgets/controls",
      "model_module_version": "1.5.0",
      "model_name": "FloatProgressModel",
      "state": {
       "description": "val loss: 3.5505: 100%",
       "layout": "IPY_MODEL_45dc1b3a5c864018a5e2f91cf9e16289",
       "max": 157,
       "style": "IPY_MODEL_6314b57b8d6d41bba4ad09531f7ad4e7",
       "value": 157
      }
     },
     "193643733e5f4d339667e7babe61c41e": {
      "model_module": "@jupyter-widgets/controls",
      "model_module_version": "1.5.0",
      "model_name": "HTMLModel",
      "state": {
       "layout": "IPY_MODEL_20af16950926445d9546c5315eeda973",
       "style": "IPY_MODEL_6a8ca29695ef49e1858132306420d9d5",
       "value": " 1563/1563 [04:56&lt;00:00,  6.07it/s]"
      }
     },
     "193bd74c68574647af33d7e08df6aa68": {
      "model_module": "@jupyter-widgets/controls",
      "model_module_version": "1.5.0",
      "model_name": "FloatProgressModel",
      "state": {
       "description": "train loss: 3.0452: 100%",
       "layout": "IPY_MODEL_ff0a3eb1afb540659225e852f5df7c56",
       "max": 1563,
       "style": "IPY_MODEL_3f2125abca4443c397294946071a30de",
       "value": 1563
      }
     },
     "19757e7b18ac46de8bdce3a2f0d399b6": {
      "model_module": "@jupyter-widgets/controls",
      "model_module_version": "1.5.0",
      "model_name": "ProgressStyleModel",
      "state": {
       "description_width": "initial"
      }
     },
     "1976e699862b4fca9fe28df7b828b9a5": {
      "model_module": "@jupyter-widgets/controls",
      "model_module_version": "1.5.0",
      "model_name": "ProgressStyleModel",
      "state": {
       "description_width": "initial"
      }
     },
     "197b558b18da4c41900d1cf1a8d3750a": {
      "model_module": "@jupyter-widgets/controls",
      "model_module_version": "1.5.0",
      "model_name": "ProgressStyleModel",
      "state": {
       "description_width": "initial"
      }
     },
     "199e2696b8c647de98ab16919d33d8da": {
      "model_module": "@jupyter-widgets/controls",
      "model_module_version": "1.5.0",
      "model_name": "HTMLModel",
      "state": {
       "layout": "IPY_MODEL_40ef8abd4edc45feb78c1e546ae1e6fd",
       "style": "IPY_MODEL_54028cae3e0f42d9ac8ecdad743d5b22",
       "value": " 6/10 [26:32&lt;15:36, 234.07s/it]"
      }
     },
     "19b94b15dfef4ee684d59379d504f807": {
      "model_module": "@jupyter-widgets/base",
      "model_module_version": "1.2.0",
      "model_name": "LayoutModel",
      "state": {}
     },
     "19bb6d64119441ffa4a9e9eb6e1a1292": {
      "model_module": "@jupyter-widgets/base",
      "model_module_version": "1.2.0",
      "model_name": "LayoutModel",
      "state": {}
     },
     "19d00e017008458abc0081cf84304714": {
      "model_module": "@jupyter-widgets/base",
      "model_module_version": "1.2.0",
      "model_name": "LayoutModel",
      "state": {}
     },
     "1a502a2f9b844128bad40d13841d5716": {
      "model_module": "@jupyter-widgets/base",
      "model_module_version": "1.2.0",
      "model_name": "LayoutModel",
      "state": {}
     },
     "1a6602e0d6ff4e6b84d137c012aba4c9": {
      "model_module": "@jupyter-widgets/controls",
      "model_module_version": "1.5.0",
      "model_name": "HTMLModel",
      "state": {
       "layout": "IPY_MODEL_ddcdb310b60b4bcd8313d3a4113c5148",
       "style": "IPY_MODEL_8b6f80c5616b43219b7cf5aa00ee139f",
       "value": " 1563/1563 [02:35&lt;00:00,  9.76it/s]"
      }
     },
     "1a6d3db328a94098a6d76b772fd92d85": {
      "model_module": "@jupyter-widgets/controls",
      "model_module_version": "1.5.0",
      "model_name": "FloatProgressModel",
      "state": {
       "description": "train loss: 3.3462: 100%",
       "layout": "IPY_MODEL_44ef0ac0782a45b9acb6984c421732e0",
       "max": 1563,
       "style": "IPY_MODEL_7897a1feec2b403ca2b2f21430303523",
       "value": 1563
      }
     },
     "1a725e810fcb4d55a2717f889d250686": {
      "model_module": "@jupyter-widgets/controls",
      "model_module_version": "1.5.0",
      "model_name": "HTMLModel",
      "state": {
       "layout": "IPY_MODEL_2aa7c2bfd6ed4770b3dba9a63f226cc3",
       "style": "IPY_MODEL_e412cfaf14f44b35bbac23a766c35a28",
       "value": " 1563/1563 [03:40&lt;00:00,  7.09it/s]"
      }
     },
     "1a7271e3c090433f88d326653de732a8": {
      "model_module": "@jupyter-widgets/controls",
      "model_module_version": "1.5.0",
      "model_name": "ProgressStyleModel",
      "state": {
       "description_width": "initial"
      }
     },
     "1aa337ac083e4f12bb3a392fa2ef33bc": {
      "model_module": "@jupyter-widgets/controls",
      "model_module_version": "1.5.0",
      "model_name": "ProgressStyleModel",
      "state": {
       "description_width": "initial"
      }
     },
     "1ae409570066452b9d6c8d457653ebbd": {
      "model_module": "@jupyter-widgets/base",
      "model_module_version": "1.2.0",
      "model_name": "LayoutModel",
      "state": {}
     },
     "1af38d15838348f5af0c29c520c90fa6": {
      "model_module": "@jupyter-widgets/controls",
      "model_module_version": "1.5.0",
      "model_name": "DescriptionStyleModel",
      "state": {
       "description_width": ""
      }
     },
     "1b01e47868ea4080b047a05ba42852ae": {
      "model_module": "@jupyter-widgets/base",
      "model_module_version": "1.2.0",
      "model_name": "LayoutModel",
      "state": {}
     },
     "1b3ac9fec1464d40bb0fad021a40b231": {
      "model_module": "@jupyter-widgets/base",
      "model_module_version": "1.2.0",
      "model_name": "LayoutModel",
      "state": {}
     },
     "1b3f98293243493e965550f13b8da0dc": {
      "model_module": "@jupyter-widgets/controls",
      "model_module_version": "1.5.0",
      "model_name": "HTMLModel",
      "state": {
       "layout": "IPY_MODEL_5923efb46b0b4ce18975a3dd2d1db271",
       "style": "IPY_MODEL_4e7fa623d004411a8861a4844d6fce3e",
       "value": " 1563/1563 [02:34&lt;00:00, 10.70it/s]"
      }
     },
     "1b4a7de0aef44bf88b4e5d6aa551df52": {
      "model_module": "@jupyter-widgets/controls",
      "model_module_version": "1.5.0",
      "model_name": "ProgressStyleModel",
      "state": {
       "description_width": "initial"
      }
     },
     "1b551e45e63f4ff4910d6ee3ad023c50": {
      "model_module": "@jupyter-widgets/base",
      "model_module_version": "1.2.0",
      "model_name": "LayoutModel",
      "state": {}
     },
     "1b5c0a01c7d746a286a47cfa081d8d54": {
      "model_module": "@jupyter-widgets/controls",
      "model_module_version": "1.5.0",
      "model_name": "ProgressStyleModel",
      "state": {
       "description_width": "initial"
      }
     },
     "1b7d9412888e479ca64ccfdfcff286ea": {
      "model_module": "@jupyter-widgets/base",
      "model_module_version": "1.2.0",
      "model_name": "LayoutModel",
      "state": {}
     },
     "1b97079b58a449c0a18cba6c7abb615b": {
      "model_module": "@jupyter-widgets/controls",
      "model_module_version": "1.5.0",
      "model_name": "HTMLModel",
      "state": {
       "layout": "IPY_MODEL_0110e4df8b7d4fc0b2de9a5d3774a9ec",
       "style": "IPY_MODEL_235e80ef2e7e4f24b466c3629d0f51e2",
       "value": " 157/157 [00:10&lt;00:00, 15.81it/s]"
      }
     },
     "1ba6d25f9c2a43ea9887bad081a70337": {
      "model_module": "@jupyter-widgets/controls",
      "model_module_version": "1.5.0",
      "model_name": "FloatProgressModel",
      "state": {
       "description": "val loss: 3.9113: 100%",
       "layout": "IPY_MODEL_3ce35c7ac0e34d1f8fac204d198c3e21",
       "max": 157,
       "style": "IPY_MODEL_197b558b18da4c41900d1cf1a8d3750a",
       "value": 157
      }
     },
     "1bac150e06414481bc830723815b369e": {
      "model_module": "@jupyter-widgets/base",
      "model_module_version": "1.2.0",
      "model_name": "LayoutModel",
      "state": {}
     },
     "1bb14f571bb04dd4a2db36f2b72588a2": {
      "model_module": "@jupyter-widgets/controls",
      "model_module_version": "1.5.0",
      "model_name": "HTMLModel",
      "state": {
       "layout": "IPY_MODEL_24321855fe3a4975b7c16065f55e0b02",
       "style": "IPY_MODEL_cd2f0f2a90d04a2999de15ab280e3794",
       "value": " 1563/1563 [02:35&lt;00:00, 10.83it/s]"
      }
     },
     "1bc0f51ed53941f49e9dba411cbc5477": {
      "model_module": "@jupyter-widgets/controls",
      "model_module_version": "1.5.0",
      "model_name": "FloatProgressModel",
      "state": {
       "description": "train loss: 4.6765: 100%",
       "layout": "IPY_MODEL_988f209ed6684118b62b8f2d4df0d607",
       "max": 1563,
       "style": "IPY_MODEL_7aa49b09535b4ecb861b56fb56219196",
       "value": 1563
      }
     },
     "1bd479ad94804c7b9eefcf418766f821": {
      "model_module": "@jupyter-widgets/base",
      "model_module_version": "1.2.0",
      "model_name": "LayoutModel",
      "state": {}
     },
     "1beb959c3db1482b9dff6be5e7aea3ce": {
      "model_module": "@jupyter-widgets/controls",
      "model_module_version": "1.5.0",
      "model_name": "FloatProgressModel",
      "state": {
       "description": "train loss: 3.9248: 100%",
       "layout": "IPY_MODEL_ed074c39e31b45a8b4e77241719d89d9",
       "max": 1563,
       "style": "IPY_MODEL_d293e101fa2d4f6ca3de4f2ce6c07019",
       "value": 1563
      }
     },
     "1c03b97a6b9c491ca7f9a177bb0506ce": {
      "model_module": "@jupyter-widgets/base",
      "model_module_version": "1.2.0",
      "model_name": "LayoutModel",
      "state": {}
     },
     "1c6958222b92454cbf4f84289e87c2b7": {
      "model_module": "@jupyter-widgets/controls",
      "model_module_version": "1.5.0",
      "model_name": "FloatProgressModel",
      "state": {
       "description": "train loss: 4.4713: 100%",
       "layout": "IPY_MODEL_3f9617f0127f458082fe1a88de036673",
       "max": 1563,
       "style": "IPY_MODEL_927d4a71b4274d40b0d990d9dca688a3",
       "value": 1563
      }
     },
     "1c73be507c574ce287a0a4140679b0d9": {
      "model_module": "@jupyter-widgets/controls",
      "model_module_version": "1.5.0",
      "model_name": "ProgressStyleModel",
      "state": {
       "description_width": "initial"
      }
     },
     "1c8f93bce7a4424db7d0b9011c22ad30": {
      "model_module": "@jupyter-widgets/controls",
      "model_module_version": "1.5.0",
      "model_name": "ProgressStyleModel",
      "state": {
       "description_width": "initial"
      }
     },
     "1cced36cd6994625a518e99607dd568a": {
      "model_module": "@jupyter-widgets/controls",
      "model_module_version": "1.5.0",
      "model_name": "HTMLModel",
      "state": {
       "layout": "IPY_MODEL_a7d36547f1e040a1a1f142b683b5d561",
       "style": "IPY_MODEL_8729939192024f13a9feb5bc6c972888",
       "value": " 157/157 [00:09&lt;00:00, 15.69it/s]"
      }
     },
     "1cdfe90ff5d84dd2ab51f11738aadc05": {
      "model_module": "@jupyter-widgets/controls",
      "model_module_version": "1.5.0",
      "model_name": "ProgressStyleModel",
      "state": {
       "description_width": "initial"
      }
     },
     "1ceb8f286bb74d3580b972dae149fb93": {
      "model_module": "@jupyter-widgets/controls",
      "model_module_version": "1.5.0",
      "model_name": "HTMLModel",
      "state": {
       "layout": "IPY_MODEL_c53975ae43484046bab8dbb700f408d6",
       "style": "IPY_MODEL_d3573dfcc092435e815cf8f97fc519f4",
       "value": " 157/157 [00:10&lt;00:00, 15.47it/s]"
      }
     },
     "1cf2b292de0a4e9794aa6b1a14415020": {
      "model_module": "@jupyter-widgets/base",
      "model_module_version": "1.2.0",
      "model_name": "LayoutModel",
      "state": {}
     },
     "1d073a08d507464d963276f4fdf8cfe4": {
      "model_module": "@jupyter-widgets/controls",
      "model_module_version": "1.5.0",
      "model_name": "ProgressStyleModel",
      "state": {
       "description_width": "initial"
      }
     },
     "1d0c0da14a714551a76bd4804b323c40": {
      "model_module": "@jupyter-widgets/controls",
      "model_module_version": "1.5.0",
      "model_name": "DescriptionStyleModel",
      "state": {
       "description_width": ""
      }
     },
     "1d0c33fd796d4031ba456be255de5f54": {
      "model_module": "@jupyter-widgets/base",
      "model_module_version": "1.2.0",
      "model_name": "LayoutModel",
      "state": {}
     },
     "1d1cb17a33ac4fc291a07f8ed6413f38": {
      "model_module": "@jupyter-widgets/base",
      "model_module_version": "1.2.0",
      "model_name": "LayoutModel",
      "state": {}
     },
     "1d3926d2d3eb4a22b6d8af7b83926445": {
      "model_module": "@jupyter-widgets/controls",
      "model_module_version": "1.5.0",
      "model_name": "ProgressStyleModel",
      "state": {
       "description_width": "initial"
      }
     },
     "1d6eb203d87e4ad28df28c009cb3179a": {
      "model_module": "@jupyter-widgets/controls",
      "model_module_version": "1.5.0",
      "model_name": "FloatProgressModel",
      "state": {
       "bar_style": "danger",
       "description": "Epochs:   0%",
       "layout": "IPY_MODEL_ff2e31febaff46bcae2b0d886ebda518",
       "max": 10,
       "style": "IPY_MODEL_b686a263d14f4b94b05deb8259f16db0"
      }
     },
     "1d8ea663d26c4d218f518320b929eb70": {
      "model_module": "@jupyter-widgets/controls",
      "model_module_version": "1.5.0",
      "model_name": "DescriptionStyleModel",
      "state": {
       "description_width": ""
      }
     },
     "1daf7c95200a46baa630cf6b07f7abbe": {
      "model_module": "@jupyter-widgets/controls",
      "model_module_version": "1.5.0",
      "model_name": "DescriptionStyleModel",
      "state": {
       "description_width": ""
      }
     },
     "1ddbb4b9f2d24987930fcd142f4bf647": {
      "model_module": "@jupyter-widgets/base",
      "model_module_version": "1.2.0",
      "model_name": "LayoutModel",
      "state": {}
     },
     "1ddeb91618324ab7ab37a58cb1ca85df": {
      "model_module": "@jupyter-widgets/controls",
      "model_module_version": "1.5.0",
      "model_name": "DescriptionStyleModel",
      "state": {
       "description_width": ""
      }
     },
     "1e40582367da496ebc5f9342eede1feb": {
      "model_module": "@jupyter-widgets/controls",
      "model_module_version": "1.5.0",
      "model_name": "HTMLModel",
      "state": {
       "layout": "IPY_MODEL_b3407fab09104972a12a211b7608630e",
       "style": "IPY_MODEL_66c2badcfb334ea3a6246c747b20cddd",
       "value": " 1563/1563 [04:57&lt;00:00,  5.90it/s]"
      }
     },
     "1e4311e95ade46c2915c6a4895009269": {
      "model_module": "@jupyter-widgets/controls",
      "model_module_version": "1.5.0",
      "model_name": "FloatProgressModel",
      "state": {
       "bar_style": "danger",
       "description": "Iterations:   0%",
       "layout": "IPY_MODEL_9cfc449bbbe046fcbe86484f830588c4",
       "max": 1563,
       "style": "IPY_MODEL_b2e8809786054bbd84f7be5d33eb0d18"
      }
     },
     "1e53739db4ae4374810b0b6e05d7e166": {
      "model_module": "@jupyter-widgets/base",
      "model_module_version": "1.2.0",
      "model_name": "LayoutModel",
      "state": {}
     },
     "1e5d9c21cce4475296bfa0f2601e11d8": {
      "model_module": "@jupyter-widgets/base",
      "model_module_version": "1.2.0",
      "model_name": "LayoutModel",
      "state": {}
     },
     "1e7a7f2983154b4ba9069c935d6ba229": {
      "model_module": "@jupyter-widgets/base",
      "model_module_version": "1.2.0",
      "model_name": "LayoutModel",
      "state": {}
     },
     "1e98aef380d044e2be550d00414b1f3e": {
      "model_module": "@jupyter-widgets/base",
      "model_module_version": "1.2.0",
      "model_name": "LayoutModel",
      "state": {}
     },
     "1e9d948b44514697935183721498b2dd": {
      "model_module": "@jupyter-widgets/controls",
      "model_module_version": "1.5.0",
      "model_name": "DescriptionStyleModel",
      "state": {
       "description_width": ""
      }
     },
     "1e9fe3e8e914462fae0f5a847fc8e50c": {
      "model_module": "@jupyter-widgets/base",
      "model_module_version": "1.2.0",
      "model_name": "LayoutModel",
      "state": {}
     },
     "1ea939900a8a4c23b266acc8dce75777": {
      "model_module": "@jupyter-widgets/controls",
      "model_module_version": "1.5.0",
      "model_name": "HTMLModel",
      "state": {
       "layout": "IPY_MODEL_5f166948dc99483ca063ec37cbd29315",
       "style": "IPY_MODEL_cb23d64e56ec4f328bbd2fa73964aeb4",
       "value": " 1563/1563 [03:43&lt;00:00,  6.93it/s]"
      }
     },
     "1eb945e99ee7403991af20cbc463500d": {
      "model_module": "@jupyter-widgets/base",
      "model_module_version": "1.2.0",
      "model_name": "LayoutModel",
      "state": {}
     },
     "1ece5019819b4d2386083c56e703abaf": {
      "model_module": "@jupyter-widgets/base",
      "model_module_version": "1.2.0",
      "model_name": "LayoutModel",
      "state": {}
     },
     "1ed1baa34a384c9e95924b11af91dc25": {
      "model_module": "@jupyter-widgets/base",
      "model_module_version": "1.2.0",
      "model_name": "LayoutModel",
      "state": {}
     },
     "1ee6c01e96b8480bb693fab342489254": {
      "model_module": "@jupyter-widgets/controls",
      "model_module_version": "1.5.0",
      "model_name": "FloatProgressModel",
      "state": {
       "description": "train loss: 3.9563: 100%",
       "layout": "IPY_MODEL_a05420e2b4a745a7a82a92ce465c84cb",
       "max": 1563,
       "style": "IPY_MODEL_14c7e8a88a964b26999c637075c3d5f9",
       "value": 1563
      }
     },
     "1f0f35e273ea4f01b5eb0b4bb3e45345": {
      "model_module": "@jupyter-widgets/base",
      "model_module_version": "1.2.0",
      "model_name": "LayoutModel",
      "state": {}
     },
     "1f1ed7d4431b4492ad0149c43f790ecf": {
      "model_module": "@jupyter-widgets/base",
      "model_module_version": "1.2.0",
      "model_name": "LayoutModel",
      "state": {}
     },
     "1f2b723191eb44dca711571b0ae1e722": {
      "model_module": "@jupyter-widgets/base",
      "model_module_version": "1.2.0",
      "model_name": "LayoutModel",
      "state": {}
     },
     "1f37c255d9084c9d97aa9f20e5764d50": {
      "model_module": "@jupyter-widgets/controls",
      "model_module_version": "1.5.0",
      "model_name": "FloatProgressModel",
      "state": {
       "description": "train loss: 2.7994: 100%",
       "layout": "IPY_MODEL_f2ffd988ea974560acb749d0b979e013",
       "max": 1563,
       "style": "IPY_MODEL_6e3437f7edbe4ef491a3b35229f37d25",
       "value": 1563
      }
     },
     "1f3f7c62341942cf86388dffae3496c0": {
      "model_module": "@jupyter-widgets/controls",
      "model_module_version": "1.5.0",
      "model_name": "DescriptionStyleModel",
      "state": {
       "description_width": ""
      }
     },
     "1f4ab1af1ec149cda39c8e1c89c7ad91": {
      "model_module": "@jupyter-widgets/controls",
      "model_module_version": "1.5.0",
      "model_name": "ProgressStyleModel",
      "state": {
       "description_width": "initial"
      }
     },
     "1f54327222554db1b6cd29c469f8691c": {
      "model_module": "@jupyter-widgets/base",
      "model_module_version": "1.2.0",
      "model_name": "LayoutModel",
      "state": {}
     },
     "1f94885957774305932c05b7e56fad16": {
      "model_module": "@jupyter-widgets/controls",
      "model_module_version": "1.5.0",
      "model_name": "ProgressStyleModel",
      "state": {
       "description_width": "initial"
      }
     },
     "1f97849ec19549c495dfd6583ec6ffdc": {
      "model_module": "@jupyter-widgets/controls",
      "model_module_version": "1.5.0",
      "model_name": "FloatProgressModel",
      "state": {
       "description": "train loss: 3.0840: 100%",
       "layout": "IPY_MODEL_ec2a91268f514353a982b5c6d75f12e9",
       "max": 1563,
       "style": "IPY_MODEL_7d0ae47121e34c6d8457b2a6ba074d57",
       "value": 1563
      }
     },
     "1fa8dbbcd01d40949d7e6b9c20db8e2c": {
      "model_module": "@jupyter-widgets/controls",
      "model_module_version": "1.5.0",
      "model_name": "DescriptionStyleModel",
      "state": {
       "description_width": ""
      }
     },
     "1fab65f87c1c4d49bbddf41306cb2508": {
      "model_module": "@jupyter-widgets/controls",
      "model_module_version": "1.5.0",
      "model_name": "ProgressStyleModel",
      "state": {
       "description_width": "initial"
      }
     },
     "1fcd07ced5cb442d8e06e556092e78f7": {
      "model_module": "@jupyter-widgets/controls",
      "model_module_version": "1.5.0",
      "model_name": "ProgressStyleModel",
      "state": {
       "description_width": "initial"
      }
     },
     "20022dffe34448e1a56518db77d4bc3f": {
      "model_module": "@jupyter-widgets/controls",
      "model_module_version": "1.5.0",
      "model_name": "DescriptionStyleModel",
      "state": {
       "description_width": ""
      }
     },
     "202362a1ba304d458b3d397c9187f0f6": {
      "model_module": "@jupyter-widgets/controls",
      "model_module_version": "1.5.0",
      "model_name": "FloatProgressModel",
      "state": {
       "description": "val loss: 4.7836: 100%",
       "layout": "IPY_MODEL_767ba0c293414dcca268a3d94e801b02",
       "max": 157,
       "style": "IPY_MODEL_f3895dc3bf8d4047812d3e2c3ad78434",
       "value": 157
      }
     },
     "20427661daa946c1b6c1e60e056b0a32": {
      "model_module": "@jupyter-widgets/controls",
      "model_module_version": "1.5.0",
      "model_name": "FloatProgressModel",
      "state": {
       "description": "train loss: 3.0244: 100%",
       "layout": "IPY_MODEL_33f1a356a92a405891668d1bc8ac7edd",
       "max": 1563,
       "style": "IPY_MODEL_fa010a312c6f4e72bafc661a1d3c82e5",
       "value": 1563
      }
     },
     "206013aebdb3486cbcc604d1cd4c0ccd": {
      "model_module": "@jupyter-widgets/controls",
      "model_module_version": "1.5.0",
      "model_name": "FloatProgressModel",
      "state": {
       "description": "train loss: 4.2459: 100%",
       "layout": "IPY_MODEL_8018a0347258498986ba6d35f3f5d538",
       "max": 1563,
       "style": "IPY_MODEL_446443412a044685ad39092b7bf3ab25",
       "value": 1563
      }
     },
     "2065d0ecd261434a8fead0e87dce9170": {
      "model_module": "@jupyter-widgets/base",
      "model_module_version": "1.2.0",
      "model_name": "LayoutModel",
      "state": {}
     },
     "207781f28c0f4404964ffe12a335a42b": {
      "model_module": "@jupyter-widgets/base",
      "model_module_version": "1.2.0",
      "model_name": "LayoutModel",
      "state": {}
     },
     "20af16950926445d9546c5315eeda973": {
      "model_module": "@jupyter-widgets/base",
      "model_module_version": "1.2.0",
      "model_name": "LayoutModel",
      "state": {}
     },
     "20bd73b57e4448018294f537945ec7fe": {
      "model_module": "@jupyter-widgets/controls",
      "model_module_version": "1.5.0",
      "model_name": "FloatProgressModel",
      "state": {
       "description": "val loss: 5.1091: 100%",
       "layout": "IPY_MODEL_b0f3ee3d552f447dba8688c23d63900f",
       "max": 157,
       "style": "IPY_MODEL_ab797ae100e84dd6be1bc3e2af56282a",
       "value": 157
      }
     },
     "20bdf13c130d4316ad93c1b44d1c3a05": {
      "model_module": "@jupyter-widgets/controls",
      "model_module_version": "1.5.0",
      "model_name": "HTMLModel",
      "state": {
       "layout": "IPY_MODEL_2820c81d78fc46518adfdbe30ef3a0ae",
       "style": "IPY_MODEL_f164a64b33ea4064966971cc773fd82a",
       "value": " 157/157 [00:10&lt;00:00, 15.30it/s]"
      }
     },
     "20bed7f399684e5baedbabd54bfdc212": {
      "model_module": "@jupyter-widgets/base",
      "model_module_version": "1.2.0",
      "model_name": "LayoutModel",
      "state": {}
     },
     "20e9081a1cea45e0927377ca337b1cbc": {
      "model_module": "@jupyter-widgets/controls",
      "model_module_version": "1.5.0",
      "model_name": "FloatProgressModel",
      "state": {
       "description": "train loss: 3.0729: 100%",
       "layout": "IPY_MODEL_cf01ce9ff27948cc961523d156db7831",
       "max": 1563,
       "style": "IPY_MODEL_7c33211c782c41908e0a4405455ab411",
       "value": 1563
      }
     },
     "20ec039e715d43aa833ebefafe1ea2c6": {
      "model_module": "@jupyter-widgets/controls",
      "model_module_version": "1.5.0",
      "model_name": "HTMLModel",
      "state": {
       "layout": "IPY_MODEL_694de72e3b084279b7a5b41b57484a20",
       "style": "IPY_MODEL_d9f49798cbd1468e9489d9b76bb0c62a",
       "value": " 1563/1563 [05:31&lt;00:00,  5.45it/s]"
      }
     },
     "20f53c5ae0194a03bdf34b78c036361e": {
      "model_module": "@jupyter-widgets/base",
      "model_module_version": "1.2.0",
      "model_name": "LayoutModel",
      "state": {}
     },
     "211f31ca4e354222ac2e1ada6de6c12b": {
      "model_module": "@jupyter-widgets/controls",
      "model_module_version": "1.5.0",
      "model_name": "HTMLModel",
      "state": {
       "layout": "IPY_MODEL_e9234312b4454a2d8e4798d4f9f59586",
       "style": "IPY_MODEL_58e28f7d79f445df826a9a67becb2abd",
       "value": " 157/157 [00:10&lt;00:00, 15.74it/s]"
      }
     },
     "215dde9406354ea28c8601843f1f01e9": {
      "model_module": "@jupyter-widgets/base",
      "model_module_version": "1.2.0",
      "model_name": "LayoutModel",
      "state": {}
     },
     "217761dbce5a483c8973f8874e7f71a3": {
      "model_module": "@jupyter-widgets/controls",
      "model_module_version": "1.5.0",
      "model_name": "ProgressStyleModel",
      "state": {
       "description_width": "initial"
      }
     },
     "21776aada0b643ca8ce592242aa67e0d": {
      "model_module": "@jupyter-widgets/controls",
      "model_module_version": "1.5.0",
      "model_name": "FloatProgressModel",
      "state": {
       "description": "train loss: 3.3787: 100%",
       "layout": "IPY_MODEL_16c786d5ebb24c6ea069005398d4c91d",
       "max": 1563,
       "style": "IPY_MODEL_d26ee458fada49ad854f1a291537dfe4",
       "value": 1563
      }
     },
     "218d54bcd86540c28dbfbaaef4a78241": {
      "model_module": "@jupyter-widgets/controls",
      "model_module_version": "1.5.0",
      "model_name": "HBoxModel",
      "state": {
       "children": [
        "IPY_MODEL_189ab0b9fc534b69bdc66a924dc961b5",
        "IPY_MODEL_30e58813447d4659b6b45c656c260c87"
       ],
       "layout": "IPY_MODEL_d32a07dd6d1d4e189f9282aa62befe95"
      }
     },
     "21a92a0035ea4fe7ad5d3affdd9757e4": {
      "model_module": "@jupyter-widgets/controls",
      "model_module_version": "1.5.0",
      "model_name": "ProgressStyleModel",
      "state": {
       "description_width": "initial"
      }
     },
     "21bc87b2859441f39cd080d9a0395720": {
      "model_module": "@jupyter-widgets/controls",
      "model_module_version": "1.5.0",
      "model_name": "ProgressStyleModel",
      "state": {
       "description_width": "initial"
      }
     },
     "21cd4ba1905841f1b44e05f0fe4a8712": {
      "model_module": "@jupyter-widgets/controls",
      "model_module_version": "1.5.0",
      "model_name": "DescriptionStyleModel",
      "state": {
       "description_width": ""
      }
     },
     "21ef101b5a424ffd8aa8d81e251d4f8a": {
      "model_module": "@jupyter-widgets/base",
      "model_module_version": "1.2.0",
      "model_name": "LayoutModel",
      "state": {}
     },
     "22266959f4a84d2f83ec81d032988cec": {
      "model_module": "@jupyter-widgets/controls",
      "model_module_version": "1.5.0",
      "model_name": "FloatProgressModel",
      "state": {
       "description": "val loss: 4.2796: 100%",
       "layout": "IPY_MODEL_5f90ec90750c4250913bcbdb40441fdf",
       "max": 157,
       "style": "IPY_MODEL_f3b7a0bdec2a4a16afd5c26b26ad83dc",
       "value": 157
      }
     },
     "223c2ce42ae84d60939477d42ca7de09": {
      "model_module": "@jupyter-widgets/base",
      "model_module_version": "1.2.0",
      "model_name": "LayoutModel",
      "state": {}
     },
     "2262ee144d30483cabd46797a632b32e": {
      "model_module": "@jupyter-widgets/controls",
      "model_module_version": "1.5.0",
      "model_name": "HTMLModel",
      "state": {
       "layout": "IPY_MODEL_3829399f022b4210a3fa464899665fe5",
       "style": "IPY_MODEL_296aab4a769a4085922ffe8615f8aae6",
       "value": " 1563/1563 [02:35&lt;00:00, 10.27it/s]"
      }
     },
     "226678eea5ba4cd19a0265b886f1185b": {
      "model_module": "@jupyter-widgets/base",
      "model_module_version": "1.2.0",
      "model_name": "LayoutModel",
      "state": {}
     },
     "228e45a3214b40e08837b56137020d0f": {
      "model_module": "@jupyter-widgets/controls",
      "model_module_version": "1.5.0",
      "model_name": "HTMLModel",
      "state": {
       "layout": "IPY_MODEL_d369b24d0f244a92894803c057d35eb0",
       "style": "IPY_MODEL_e4642193e91f4299b90307e4c5f99fe1",
       "value": " 1563/1563 [05:01&lt;00:00,  5.86it/s]"
      }
     },
     "22901d803dff430d99c280d9ecc0e0f5": {
      "model_module": "@jupyter-widgets/controls",
      "model_module_version": "1.5.0",
      "model_name": "HTMLModel",
      "state": {
       "layout": "IPY_MODEL_d2ea870e48bc40579d1f31462524d450",
       "style": "IPY_MODEL_d1534431b40e4ac4993e875f654607e4",
       "value": " 1563/1563 [02:33&lt;00:00, 11.04it/s]"
      }
     },
     "229ae893915f44fda53ee4129aa098ca": {
      "model_module": "@jupyter-widgets/base",
      "model_module_version": "1.2.0",
      "model_name": "LayoutModel",
      "state": {}
     },
     "22a7e9bc96ad43ca83d2eab163cf44b6": {
      "model_module": "@jupyter-widgets/controls",
      "model_module_version": "1.5.0",
      "model_name": "FloatProgressModel",
      "state": {
       "description": "train loss: 4.7526: 100%",
       "layout": "IPY_MODEL_a1b4eefed441420e94f6c1c3f5f66c86",
       "max": 1563,
       "style": "IPY_MODEL_5e37f3b3873b4861b2e5ae9c8773c97c",
       "value": 1563
      }
     },
     "22adcd946cd746bc86c73a8f8870c44b": {
      "model_module": "@jupyter-widgets/base",
      "model_module_version": "1.2.0",
      "model_name": "LayoutModel",
      "state": {}
     },
     "22b8851496bc46ddaf36ab9626460198": {
      "model_module": "@jupyter-widgets/controls",
      "model_module_version": "1.5.0",
      "model_name": "HTMLModel",
      "state": {
       "layout": "IPY_MODEL_6cc8a87c65eb4918a36d6a3a1d73b935",
       "style": "IPY_MODEL_4b270f1b4b79432992f5f5617c99b190",
       "value": " 157/157 [00:10&lt;00:00, 15.71it/s]"
      }
     },
     "22db556df8174128a191096a34b5623e": {
      "model_module": "@jupyter-widgets/controls",
      "model_module_version": "1.5.0",
      "model_name": "HTMLModel",
      "state": {
       "layout": "IPY_MODEL_7492d0ef21b945e692deeb42de5c73c0",
       "style": "IPY_MODEL_63f70d02362b464098648df896b110e4",
       "value": " 157/157 [00:10&lt;00:00, 15.51it/s]"
      }
     },
     "22dee08f8a764ea29e88846c59244adf": {
      "model_module": "@jupyter-widgets/controls",
      "model_module_version": "1.5.0",
      "model_name": "ProgressStyleModel",
      "state": {
       "description_width": "initial"
      }
     },
     "22f586cc8267419f880ebe3982e4da60": {
      "model_module": "@jupyter-widgets/base",
      "model_module_version": "1.2.0",
      "model_name": "LayoutModel",
      "state": {}
     },
     "22fd71fb293b4916acbc04da8f75f657": {
      "model_module": "@jupyter-widgets/base",
      "model_module_version": "1.2.0",
      "model_name": "LayoutModel",
      "state": {}
     },
     "23027772f835453a802b1a2f581affc0": {
      "model_module": "@jupyter-widgets/controls",
      "model_module_version": "1.5.0",
      "model_name": "ProgressStyleModel",
      "state": {
       "description_width": "initial"
      }
     },
     "2303d42ae718446fafa19ce62898e297": {
      "model_module": "@jupyter-widgets/controls",
      "model_module_version": "1.5.0",
      "model_name": "ProgressStyleModel",
      "state": {
       "description_width": "initial"
      }
     },
     "230aa057228d4879a5c94c72a64a612e": {
      "model_module": "@jupyter-widgets/controls",
      "model_module_version": "1.5.0",
      "model_name": "DescriptionStyleModel",
      "state": {
       "description_width": ""
      }
     },
     "23209deeb16f4949aed89d6cc8dd6e07": {
      "model_module": "@jupyter-widgets/controls",
      "model_module_version": "1.5.0",
      "model_name": "ProgressStyleModel",
      "state": {
       "description_width": "initial"
      }
     },
     "235e80ef2e7e4f24b466c3629d0f51e2": {
      "model_module": "@jupyter-widgets/controls",
      "model_module_version": "1.5.0",
      "model_name": "DescriptionStyleModel",
      "state": {
       "description_width": ""
      }
     },
     "235fa155355f4673be3ecc91111e92e4": {
      "model_module": "@jupyter-widgets/controls",
      "model_module_version": "1.5.0",
      "model_name": "HTMLModel",
      "state": {
       "layout": "IPY_MODEL_0c05e881b345497b85d020be70daf301",
       "style": "IPY_MODEL_fdb65cd6f63d44d28e855a7dadd04de5",
       "value": " 157/157 [00:15&lt;00:00, 10.48it/s]"
      }
     },
     "236553706d03465dbb27aeaef29a56df": {
      "model_module": "@jupyter-widgets/controls",
      "model_module_version": "1.5.0",
      "model_name": "DescriptionStyleModel",
      "state": {
       "description_width": ""
      }
     },
     "2366b889af3b4d649589cef0e607c189": {
      "model_module": "@jupyter-widgets/base",
      "model_module_version": "1.2.0",
      "model_name": "LayoutModel",
      "state": {}
     },
     "237bbd0a808d4f499afb852eac8d93ad": {
      "model_module": "@jupyter-widgets/controls",
      "model_module_version": "1.5.0",
      "model_name": "HTMLModel",
      "state": {
       "layout": "IPY_MODEL_8fb39416a20b477da67f1b5722d4d85f",
       "style": "IPY_MODEL_85d3d6bd08d04adb9562f7ab2db6ed5c",
       "value": " 157/157 [00:10&lt;00:00, 15.45it/s]"
      }
     },
     "239c64c37ac84d489038d60f057bd82e": {
      "model_module": "@jupyter-widgets/base",
      "model_module_version": "1.2.0",
      "model_name": "LayoutModel",
      "state": {}
     },
     "23b6f86e2a094ee3a6fd48a66390de1c": {
      "model_module": "@jupyter-widgets/base",
      "model_module_version": "1.2.0",
      "model_name": "LayoutModel",
      "state": {}
     },
     "23ba467f23234edaa89ddd62efeeeada": {
      "model_module": "@jupyter-widgets/controls",
      "model_module_version": "1.5.0",
      "model_name": "ProgressStyleModel",
      "state": {
       "description_width": "initial"
      }
     },
     "23bd00d2b8424e34840a2e96694ac567": {
      "model_module": "@jupyter-widgets/base",
      "model_module_version": "1.2.0",
      "model_name": "LayoutModel",
      "state": {}
     },
     "23c08e5a8c8442a3a26d4c72cdfc8e6b": {
      "model_module": "@jupyter-widgets/base",
      "model_module_version": "1.2.0",
      "model_name": "LayoutModel",
      "state": {}
     },
     "23dfc96145f94877a6e8e7d3605882fb": {
      "model_module": "@jupyter-widgets/controls",
      "model_module_version": "1.5.0",
      "model_name": "HTMLModel",
      "state": {
       "layout": "IPY_MODEL_fe89eea3a8f646aea4b728a579c2471e",
       "style": "IPY_MODEL_774bd5c285f84840b85ee768c8bb255e",
       "value": " 1563/1563 [02:35&lt;00:00, 10.56it/s]"
      }
     },
     "23e0a0b233444bb8817ab27148655201": {
      "model_module": "@jupyter-widgets/controls",
      "model_module_version": "1.5.0",
      "model_name": "FloatProgressModel",
      "state": {
       "description": "train loss: 3.8563: 100%",
       "layout": "IPY_MODEL_6ca51b1d68064cd8ac944ab314fa1752",
       "max": 1563,
       "style": "IPY_MODEL_eac38fe86eb04608b83525d0652eaa47",
       "value": 1563
      }
     },
     "23e127fe8d314ee5a58f3aee49b8491d": {
      "model_module": "@jupyter-widgets/base",
      "model_module_version": "1.2.0",
      "model_name": "LayoutModel",
      "state": {}
     },
     "23e8b324e768453babda72eedc9fd01a": {
      "model_module": "@jupyter-widgets/controls",
      "model_module_version": "1.5.0",
      "model_name": "FloatProgressModel",
      "state": {
       "description": "train loss: 3.0519: 100%",
       "layout": "IPY_MODEL_3836f29e902143ad80eb149ed0104126",
       "max": 1563,
       "style": "IPY_MODEL_33358f050dca41429bd3eca4fef3d3dd",
       "value": 1563
      }
     },
     "23ef1130c9fd4069968cfc56da6b0e9a": {
      "model_module": "@jupyter-widgets/base",
      "model_module_version": "1.2.0",
      "model_name": "LayoutModel",
      "state": {}
     },
     "23fdb9dc93cd47d08ba4761578510563": {
      "model_module": "@jupyter-widgets/base",
      "model_module_version": "1.2.0",
      "model_name": "LayoutModel",
      "state": {}
     },
     "24103a3973fc4766a2c5206fb57407a3": {
      "model_module": "@jupyter-widgets/base",
      "model_module_version": "1.2.0",
      "model_name": "LayoutModel",
      "state": {}
     },
     "242844dd7ae94fb59669247c150cb099": {
      "model_module": "@jupyter-widgets/base",
      "model_module_version": "1.2.0",
      "model_name": "LayoutModel",
      "state": {}
     },
     "24321855fe3a4975b7c16065f55e0b02": {
      "model_module": "@jupyter-widgets/base",
      "model_module_version": "1.2.0",
      "model_name": "LayoutModel",
      "state": {}
     },
     "244e456f313447f2b337dac2b3482b66": {
      "model_module": "@jupyter-widgets/base",
      "model_module_version": "1.2.0",
      "model_name": "LayoutModel",
      "state": {}
     },
     "245394bcbe8648b3ad862a82a0810d9b": {
      "model_module": "@jupyter-widgets/controls",
      "model_module_version": "1.5.0",
      "model_name": "HBoxModel",
      "state": {
       "children": [
        "IPY_MODEL_e26c51ff4f754a2b9d803cd28ddaa6ea",
        "IPY_MODEL_0cda1114975046c7b58f96400458d4fc"
       ],
       "layout": "IPY_MODEL_5caf4cb3a8e34e1dae48c6740efe720a"
      }
     },
     "24645e1aaffe4c1c98fa72d26c755eaa": {
      "model_module": "@jupyter-widgets/controls",
      "model_module_version": "1.5.0",
      "model_name": "DescriptionStyleModel",
      "state": {
       "description_width": ""
      }
     },
     "2484341612e24c02ae6ca3775dc009d0": {
      "model_module": "@jupyter-widgets/base",
      "model_module_version": "1.2.0",
      "model_name": "LayoutModel",
      "state": {}
     },
     "24aa79f4c48d4f8ba6dfc11eae7b699f": {
      "model_module": "@jupyter-widgets/controls",
      "model_module_version": "1.5.0",
      "model_name": "ProgressStyleModel",
      "state": {
       "description_width": "initial"
      }
     },
     "24c93dba1c514537b4bfd097d82556ae": {
      "model_module": "@jupyter-widgets/base",
      "model_module_version": "1.2.0",
      "model_name": "LayoutModel",
      "state": {}
     },
     "24d3a8eaa66f47429ca2ea2bd0b851f2": {
      "model_module": "@jupyter-widgets/base",
      "model_module_version": "1.2.0",
      "model_name": "LayoutModel",
      "state": {}
     },
     "24d6dd70d09e44fb9a86267d029d1f12": {
      "model_module": "@jupyter-widgets/base",
      "model_module_version": "1.2.0",
      "model_name": "LayoutModel",
      "state": {}
     },
     "24e1c6a154354c3ebf1ba3d00af27b6f": {
      "model_module": "@jupyter-widgets/controls",
      "model_module_version": "1.5.0",
      "model_name": "FloatProgressModel",
      "state": {
       "description": "val loss: 5.0802: 100%",
       "layout": "IPY_MODEL_e942c7b3182b4f2ea8e8fc79b5101ed6",
       "max": 157,
       "style": "IPY_MODEL_9c705ef88ac24bc180e192fd623e4383",
       "value": 157
      }
     },
     "24eb73f150704dbd96c772da78d63b15": {
      "model_module": "@jupyter-widgets/controls",
      "model_module_version": "1.5.0",
      "model_name": "HTMLModel",
      "state": {
       "layout": "IPY_MODEL_88adcb5427854afaa79bbe02f8f058ec",
       "style": "IPY_MODEL_2ce36fff6f4d49b89f3a6e33de7f3c7c",
       "value": " 1563/1563 [03:47&lt;00:00,  6.74it/s]"
      }
     },
     "2521f2bdaa5b4dc28cc6fa6825d4a4d9": {
      "model_module": "@jupyter-widgets/base",
      "model_module_version": "1.2.0",
      "model_name": "LayoutModel",
      "state": {}
     },
     "2522f712b51b4f368fab3ef623043b3f": {
      "model_module": "@jupyter-widgets/controls",
      "model_module_version": "1.5.0",
      "model_name": "DescriptionStyleModel",
      "state": {
       "description_width": ""
      }
     },
     "253f8c49b087409fa1f4ae6a6d595af5": {
      "model_module": "@jupyter-widgets/controls",
      "model_module_version": "1.5.0",
      "model_name": "ProgressStyleModel",
      "state": {
       "description_width": "initial"
      }
     },
     "254a0a28905546e59abc63be502ccaac": {
      "model_module": "@jupyter-widgets/controls",
      "model_module_version": "1.5.0",
      "model_name": "DescriptionStyleModel",
      "state": {
       "description_width": ""
      }
     },
     "254c2d909c5e4df3b8517c4e83083819": {
      "model_module": "@jupyter-widgets/controls",
      "model_module_version": "1.5.0",
      "model_name": "HTMLModel",
      "state": {
       "layout": "IPY_MODEL_f95003889d064217afd5351289d7c964",
       "style": "IPY_MODEL_abfa2d5da70140da9c8d704259fb299d",
       "value": " 109/1563 [00:23&lt;05:05,  4.77it/s]"
      }
     },
     "2555b3d1386e4f6083bda201135287c1": {
      "model_module": "@jupyter-widgets/base",
      "model_module_version": "1.2.0",
      "model_name": "LayoutModel",
      "state": {}
     },
     "25b61c8d4a4341f490d6cffb78b61bf0": {
      "model_module": "@jupyter-widgets/base",
      "model_module_version": "1.2.0",
      "model_name": "LayoutModel",
      "state": {}
     },
     "25c173289c284229bbe41a3e5e5cc44f": {
      "model_module": "@jupyter-widgets/controls",
      "model_module_version": "1.5.0",
      "model_name": "ProgressStyleModel",
      "state": {
       "description_width": "initial"
      }
     },
     "25c3a180bfb8496db9bfd708095b2f7c": {
      "model_module": "@jupyter-widgets/controls",
      "model_module_version": "1.5.0",
      "model_name": "HBoxModel",
      "state": {
       "children": [
        "IPY_MODEL_f6a813c932eb4790be2470278c1c0391",
        "IPY_MODEL_d300fc9c73184cb49dce0492ce864733"
       ],
       "layout": "IPY_MODEL_4282564ebf954e80a3ccb476fb6b81d8"
      }
     },
     "25f469afa81d4513a77a72772d30b24d": {
      "model_module": "@jupyter-widgets/controls",
      "model_module_version": "1.5.0",
      "model_name": "DescriptionStyleModel",
      "state": {
       "description_width": ""
      }
     },
     "25f964c51d61406191cd056b8a2e8f57": {
      "model_module": "@jupyter-widgets/base",
      "model_module_version": "1.2.0",
      "model_name": "LayoutModel",
      "state": {}
     },
     "260f27fdd60d4c018e4fe56f93dd43dd": {
      "model_module": "@jupyter-widgets/base",
      "model_module_version": "1.2.0",
      "model_name": "LayoutModel",
      "state": {}
     },
     "26153e5ea45448f4b2c6486e65f815e8": {
      "model_module": "@jupyter-widgets/controls",
      "model_module_version": "1.5.0",
      "model_name": "FloatProgressModel",
      "state": {
       "description": "val loss: 3.6510: 100%",
       "layout": "IPY_MODEL_0f1c1e56240e4e2d853563dd00a7a59b",
       "max": 157,
       "style": "IPY_MODEL_1f4ab1af1ec149cda39c8e1c89c7ad91",
       "value": 157
      }
     },
     "262e4524f6304f8f955185fe3c9c3509": {
      "model_module": "@jupyter-widgets/controls",
      "model_module_version": "1.5.0",
      "model_name": "FloatProgressModel",
      "state": {
       "description": "train loss: 2.7022: 100%",
       "layout": "IPY_MODEL_6802cb9f0c57435ebdf1f38f6a51ea24",
       "max": 1563,
       "style": "IPY_MODEL_5cc48da48e4e4613bd8d360ab6c653cf",
       "value": 1563
      }
     },
     "26302414829d4082a14961b8a5935c58": {
      "model_module": "@jupyter-widgets/base",
      "model_module_version": "1.2.0",
      "model_name": "LayoutModel",
      "state": {}
     },
     "2665cdf1a7734668b2fa9bf0fdf34446": {
      "model_module": "@jupyter-widgets/controls",
      "model_module_version": "1.5.0",
      "model_name": "HTMLModel",
      "state": {
       "layout": "IPY_MODEL_aca8f052103846abbb885e44cda7f9c2",
       "style": "IPY_MODEL_fdcba58c9d4244bcb35d6712d615654c",
       "value": " 157/157 [00:15&lt;00:00, 10.37it/s]"
      }
     },
     "26804d1747404b72aa1b6d3ff163e39c": {
      "model_module": "@jupyter-widgets/base",
      "model_module_version": "1.2.0",
      "model_name": "LayoutModel",
      "state": {}
     },
     "268c5e20d1bb41088cbbf8d4732c54ad": {
      "model_module": "@jupyter-widgets/base",
      "model_module_version": "1.2.0",
      "model_name": "LayoutModel",
      "state": {}
     },
     "269a1580bb744034ab57784aba3989b8": {
      "model_module": "@jupyter-widgets/base",
      "model_module_version": "1.2.0",
      "model_name": "LayoutModel",
      "state": {}
     },
     "26a17d2b681e494b90055a17af127e25": {
      "model_module": "@jupyter-widgets/base",
      "model_module_version": "1.2.0",
      "model_name": "LayoutModel",
      "state": {}
     },
     "26ae6c22cd4347e2ae63524a72fe14b8": {
      "model_module": "@jupyter-widgets/controls",
      "model_module_version": "1.5.0",
      "model_name": "HTMLModel",
      "state": {
       "layout": "IPY_MODEL_a685f118cae348a6951493e99ff35c8e",
       "style": "IPY_MODEL_8b4632005dc0492392598ec1854a9d71",
       "value": " 157/157 [00:09&lt;00:00, 15.83it/s]"
      }
     },
     "26c01d7b67e141e5bbd46b3221a87ccb": {
      "model_module": "@jupyter-widgets/base",
      "model_module_version": "1.2.0",
      "model_name": "LayoutModel",
      "state": {}
     },
     "26e9da4217f84090926f843ebfeebe73": {
      "model_module": "@jupyter-widgets/controls",
      "model_module_version": "1.5.0",
      "model_name": "FloatProgressModel",
      "state": {
       "description": "train loss: 4.0244: 100%",
       "layout": "IPY_MODEL_1827053b988546a2981d4dfd8c378cd8",
       "max": 1563,
       "style": "IPY_MODEL_8821346fad8b408ba20ecff6ee00375e",
       "value": 1563
      }
     },
     "27020610cc904004bb15554ad8986452": {
      "model_module": "@jupyter-widgets/controls",
      "model_module_version": "1.5.0",
      "model_name": "FloatProgressModel",
      "state": {
       "description": "val loss: 4.4594: 100%",
       "layout": "IPY_MODEL_d40b2e98b9c84bcb8e5062c193b0a7ad",
       "max": 157,
       "style": "IPY_MODEL_a373a0069ed54927a35118f051e96981",
       "value": 157
      }
     },
     "270774fcd4ae40bcb18e733ac57065ce": {
      "model_module": "@jupyter-widgets/controls",
      "model_module_version": "1.5.0",
      "model_name": "HTMLModel",
      "state": {
       "layout": "IPY_MODEL_fbdec6fa32814e6984995bb37023a1e0",
       "style": "IPY_MODEL_5266592b2c60487a8380a1896ae0e21d",
       "value": " 157/157 [00:16&lt;00:00,  9.53it/s]"
      }
     },
     "275510ea7323417094a4c7d227a9392c": {
      "model_module": "@jupyter-widgets/controls",
      "model_module_version": "1.5.0",
      "model_name": "HTMLModel",
      "state": {
       "layout": "IPY_MODEL_9ec75c1df6334c1e91ab151bde863c40",
       "style": "IPY_MODEL_b0ea924a75ec4851b829ba7da60df2e7",
       "value": " 157/157 [00:10&lt;00:00, 15.44it/s]"
      }
     },
     "276542f0a3644bfabd0c851a73b0e0b5": {
      "model_module": "@jupyter-widgets/controls",
      "model_module_version": "1.5.0",
      "model_name": "ProgressStyleModel",
      "state": {
       "description_width": "initial"
      }
     },
     "27669824c6b24a35ba6b820069034deb": {
      "model_module": "@jupyter-widgets/controls",
      "model_module_version": "1.5.0",
      "model_name": "FloatProgressModel",
      "state": {
       "description": "val loss: 4.8164: 100%",
       "layout": "IPY_MODEL_2c44f6800cad4f248dc68e2db27746ae",
       "max": 157,
       "style": "IPY_MODEL_62d314eb0ef04dcebee57da6e3bd9608",
       "value": 157
      }
     },
     "277025bd9c9a4f5e9ffebb3f26137f4a": {
      "model_module": "@jupyter-widgets/controls",
      "model_module_version": "1.5.0",
      "model_name": "FloatProgressModel",
      "state": {
       "description": "val loss: 4.6877: 100%",
       "layout": "IPY_MODEL_42b20a41fb254281ae9cf00453e8812e",
       "max": 157,
       "style": "IPY_MODEL_fa0cc314c5b346d4ac9e00c1daa4df15",
       "value": 157
      }
     },
     "27727857063e405498844ee3d95deb82": {
      "model_module": "@jupyter-widgets/base",
      "model_module_version": "1.2.0",
      "model_name": "LayoutModel",
      "state": {}
     },
     "27a35abf6a154edb8c23eb1fdf87d53f": {
      "model_module": "@jupyter-widgets/base",
      "model_module_version": "1.2.0",
      "model_name": "LayoutModel",
      "state": {}
     },
     "27d16a461aa84e1bb523f24be4ac3af1": {
      "model_module": "@jupyter-widgets/base",
      "model_module_version": "1.2.0",
      "model_name": "LayoutModel",
      "state": {}
     },
     "27e5681320224adaaf3d56a394e4d39a": {
      "model_module": "@jupyter-widgets/base",
      "model_module_version": "1.2.0",
      "model_name": "LayoutModel",
      "state": {}
     },
     "280025496860417cb70f7acaffdf70ca": {
      "model_module": "@jupyter-widgets/base",
      "model_module_version": "1.2.0",
      "model_name": "LayoutModel",
      "state": {}
     },
     "2819cbe4d6ae4695901577a819011da5": {
      "model_module": "@jupyter-widgets/controls",
      "model_module_version": "1.5.0",
      "model_name": "FloatProgressModel",
      "state": {
       "description": "val loss: 4.2386: 100%",
       "layout": "IPY_MODEL_58b0b4064b924a0e826f4f5d5c14db04",
       "max": 157,
       "style": "IPY_MODEL_19757e7b18ac46de8bdce3a2f0d399b6",
       "value": 157
      }
     },
     "2820c81d78fc46518adfdbe30ef3a0ae": {
      "model_module": "@jupyter-widgets/base",
      "model_module_version": "1.2.0",
      "model_name": "LayoutModel",
      "state": {}
     },
     "283188f301aa41a7ae7105d531aae3ff": {
      "model_module": "@jupyter-widgets/base",
      "model_module_version": "1.2.0",
      "model_name": "LayoutModel",
      "state": {}
     },
     "28375c89999949a7adac848843b214c6": {
      "model_module": "@jupyter-widgets/controls",
      "model_module_version": "1.5.0",
      "model_name": "HTMLModel",
      "state": {
       "layout": "IPY_MODEL_c73b0f5e7b25453eb1b3791f37198e93",
       "style": "IPY_MODEL_d68bc229ae594e81bdb11fd5a96db2ae",
       "value": " 157/157 [00:14&lt;00:00, 11.86it/s]"
      }
     },
     "28379435a60f42409b0858b7305512c1": {
      "model_module": "@jupyter-widgets/controls",
      "model_module_version": "1.5.0",
      "model_name": "FloatProgressModel",
      "state": {
       "description": "val loss: 3.5761: 100%",
       "layout": "IPY_MODEL_b20273d130b248d4a1f4ce9027cda62a",
       "max": 157,
       "style": "IPY_MODEL_253f8c49b087409fa1f4ae6a6d595af5",
       "value": 157
      }
     },
     "287a386a14ba4aef9919a7e2d7ace892": {
      "model_module": "@jupyter-widgets/controls",
      "model_module_version": "1.5.0",
      "model_name": "ProgressStyleModel",
      "state": {
       "description_width": "initial"
      }
     },
     "287b34572c8a4c4b831a56806cb1322f": {
      "model_module": "@jupyter-widgets/controls",
      "model_module_version": "1.5.0",
      "model_name": "DescriptionStyleModel",
      "state": {
       "description_width": ""
      }
     },
     "2887dcec3d334b0086ed4f97c8047340": {
      "model_module": "@jupyter-widgets/controls",
      "model_module_version": "1.5.0",
      "model_name": "FloatProgressModel",
      "state": {
       "description": "train loss: 5.2968:   7%",
       "layout": "IPY_MODEL_8366c40c586142e0aeb36960a9404e24",
       "max": 1563,
       "style": "IPY_MODEL_1f94885957774305932c05b7e56fad16",
       "value": 103
      }
     },
     "288d490ded4c4bf4ae81a9e84d07a935": {
      "model_module": "@jupyter-widgets/controls",
      "model_module_version": "1.5.0",
      "model_name": "ProgressStyleModel",
      "state": {
       "description_width": "initial"
      }
     },
     "28b96a47f493412895aca7740325a9f4": {
      "model_module": "@jupyter-widgets/controls",
      "model_module_version": "1.5.0",
      "model_name": "ProgressStyleModel",
      "state": {
       "description_width": "initial"
      }
     },
     "29021f97cc31450287068e0086f326d3": {
      "model_module": "@jupyter-widgets/controls",
      "model_module_version": "1.5.0",
      "model_name": "FloatProgressModel",
      "state": {
       "description": "val loss: 3.9559: 100%",
       "layout": "IPY_MODEL_a5e7547be7db4d5f8625d89472da2ba7",
       "max": 157,
       "style": "IPY_MODEL_11a68824519b45e1ab419ae75ae7db86",
       "value": 157
      }
     },
     "2913cd94e8a84e5c87f5506bc4689e42": {
      "model_module": "@jupyter-widgets/controls",
      "model_module_version": "1.5.0",
      "model_name": "HTMLModel",
      "state": {
       "layout": "IPY_MODEL_280025496860417cb70f7acaffdf70ca",
       "style": "IPY_MODEL_1446f14eeaea4bc19851e7af045a86d7",
       "value": " 157/157 [00:09&lt;00:00, 16.24it/s]"
      }
     },
     "29165f4a9f8b41d882fd0c6d24a0d0d3": {
      "model_module": "@jupyter-widgets/controls",
      "model_module_version": "1.5.0",
      "model_name": "HTMLModel",
      "state": {
       "layout": "IPY_MODEL_9f61a292158840918c92f2effa83837a",
       "style": "IPY_MODEL_d084906dc379470b8d4b1231f654c46a",
       "value": " 157/157 [00:10&lt;00:00, 15.37it/s]"
      }
     },
     "291744b148d04ccabd25555373743285": {
      "model_module": "@jupyter-widgets/base",
      "model_module_version": "1.2.0",
      "model_name": "LayoutModel",
      "state": {}
     },
     "292db4665ecd44ba8682e345baf6af97": {
      "model_module": "@jupyter-widgets/base",
      "model_module_version": "1.2.0",
      "model_name": "LayoutModel",
      "state": {}
     },
     "296360f1602c449890532e847a56227f": {
      "model_module": "@jupyter-widgets/base",
      "model_module_version": "1.2.0",
      "model_name": "LayoutModel",
      "state": {}
     },
     "2964deccf8124478931d1975a10241c1": {
      "model_module": "@jupyter-widgets/controls",
      "model_module_version": "1.5.0",
      "model_name": "FloatProgressModel",
      "state": {
       "bar_style": "danger",
       "description": "Epochs:   0%",
       "layout": "IPY_MODEL_89eafadf97744a1785ebfa6a30935e78",
       "max": 10,
       "style": "IPY_MODEL_95bce39789944dc59222aa1474aa9e9f"
      }
     },
     "296aab4a769a4085922ffe8615f8aae6": {
      "model_module": "@jupyter-widgets/controls",
      "model_module_version": "1.5.0",
      "model_name": "DescriptionStyleModel",
      "state": {
       "description_width": ""
      }
     },
     "2978ea25b1644fc59c967477c0de3a00": {
      "model_module": "@jupyter-widgets/controls",
      "model_module_version": "1.5.0",
      "model_name": "ProgressStyleModel",
      "state": {
       "description_width": "initial"
      }
     },
     "299271b253cd4a628c500e37673c3816": {
      "model_module": "@jupyter-widgets/controls",
      "model_module_version": "1.5.0",
      "model_name": "FloatProgressModel",
      "state": {
       "description": "val loss: 2.7685: 100%",
       "layout": "IPY_MODEL_b1b1f215b8464bf78d9efe6edda55161",
       "max": 157,
       "style": "IPY_MODEL_a07572128c414277b769f157ee92608c",
       "value": 157
      }
     },
     "29b12f77998a4baf9e9d59c100bc8524": {
      "model_module": "@jupyter-widgets/controls",
      "model_module_version": "1.5.0",
      "model_name": "DescriptionStyleModel",
      "state": {
       "description_width": ""
      }
     },
     "29b9b5f4b3dc4d919ff932fbc05f3808": {
      "model_module": "@jupyter-widgets/base",
      "model_module_version": "1.2.0",
      "model_name": "LayoutModel",
      "state": {}
     },
     "29d27141a98d450c9f3f8896c8830986": {
      "model_module": "@jupyter-widgets/base",
      "model_module_version": "1.2.0",
      "model_name": "LayoutModel",
      "state": {}
     },
     "29e8a052b11045c48075aaa5395fa144": {
      "model_module": "@jupyter-widgets/base",
      "model_module_version": "1.2.0",
      "model_name": "LayoutModel",
      "state": {}
     },
     "2a223a711e0a45c085069a1a0b1dfe42": {
      "model_module": "@jupyter-widgets/controls",
      "model_module_version": "1.5.0",
      "model_name": "HBoxModel",
      "state": {
       "children": [
        "IPY_MODEL_390f5b8c0fca4948ac257a06c5686aaf",
        "IPY_MODEL_17b93e81a0f54ff595de124256700539"
       ],
       "layout": "IPY_MODEL_951068020f764bb7b97b859459cf9f4b"
      }
     },
     "2a2870892e8244639c2d2594d8ca6b05": {
      "model_module": "@jupyter-widgets/controls",
      "model_module_version": "1.5.0",
      "model_name": "DescriptionStyleModel",
      "state": {
       "description_width": ""
      }
     },
     "2a2f6e63bcda46bdafb74b3db35f802d": {
      "model_module": "@jupyter-widgets/controls",
      "model_module_version": "1.5.0",
      "model_name": "HTMLModel",
      "state": {
       "layout": "IPY_MODEL_3fcb5b4f69db4d5aa34d343bc52f0a89",
       "style": "IPY_MODEL_1832c33ec932458abed2f63e868df5fe",
       "value": " 157/157 [00:12&lt;00:00, 12.70it/s]"
      }
     },
     "2a5caaaf97df489e855f8f1220b935ee": {
      "model_module": "@jupyter-widgets/controls",
      "model_module_version": "1.5.0",
      "model_name": "DescriptionStyleModel",
      "state": {
       "description_width": ""
      }
     },
     "2a76b9670663447b871cb52da73dee0d": {
      "model_module": "@jupyter-widgets/controls",
      "model_module_version": "1.5.0",
      "model_name": "HTMLModel",
      "state": {
       "layout": "IPY_MODEL_14308a1bd3444af9bb08ba6337744bc5",
       "style": "IPY_MODEL_3dcac98551884a2bb5f06b12222f351d",
       "value": " 1563/1563 [04:55&lt;00:00,  6.10it/s]"
      }
     },
     "2aa1d387f5954cd7b5c1305e80f9cc7b": {
      "model_module": "@jupyter-widgets/controls",
      "model_module_version": "1.5.0",
      "model_name": "ProgressStyleModel",
      "state": {
       "description_width": "initial"
      }
     },
     "2aa7c2bfd6ed4770b3dba9a63f226cc3": {
      "model_module": "@jupyter-widgets/base",
      "model_module_version": "1.2.0",
      "model_name": "LayoutModel",
      "state": {}
     },
     "2aba3ba0469242a9809e208955f7c5db": {
      "model_module": "@jupyter-widgets/controls",
      "model_module_version": "1.5.0",
      "model_name": "FloatProgressModel",
      "state": {
       "description": "train loss: 4.1100: 100%",
       "layout": "IPY_MODEL_fc9649313be148c39836dcb01fe491cc",
       "max": 1563,
       "style": "IPY_MODEL_8b524fe89c264788bb43f32413092d1a",
       "value": 1563
      }
     },
     "2ac75e853cdb47cd8ce5fffa0388bc4f": {
      "model_module": "@jupyter-widgets/controls",
      "model_module_version": "1.5.0",
      "model_name": "DescriptionStyleModel",
      "state": {
       "description_width": ""
      }
     },
     "2ad7e031ab3845bfaeae93b218b88f06": {
      "model_module": "@jupyter-widgets/controls",
      "model_module_version": "1.5.0",
      "model_name": "DescriptionStyleModel",
      "state": {
       "description_width": ""
      }
     },
     "2ae20dc7101947c3bd47d2ad6fe900c6": {
      "model_module": "@jupyter-widgets/base",
      "model_module_version": "1.2.0",
      "model_name": "LayoutModel",
      "state": {}
     },
     "2aec321ded2046a59a98132100241d7e": {
      "model_module": "@jupyter-widgets/base",
      "model_module_version": "1.2.0",
      "model_name": "LayoutModel",
      "state": {}
     },
     "2b0e964ade7240f8b437055a164a0b2e": {
      "model_module": "@jupyter-widgets/controls",
      "model_module_version": "1.5.0",
      "model_name": "ProgressStyleModel",
      "state": {
       "description_width": "initial"
      }
     },
     "2b10a07ba6ba41399be1c799e08c3e1f": {
      "model_module": "@jupyter-widgets/controls",
      "model_module_version": "1.5.0",
      "model_name": "HTMLModel",
      "state": {
       "layout": "IPY_MODEL_cb2402ed7fa045408ee335cc9a80229c",
       "style": "IPY_MODEL_7b64a6f2dc4f4ba7a9df158708f76b8f",
       "value": " 157/157 [00:16&lt;00:00,  9.47it/s]"
      }
     },
     "2b17f9865cb3449fb35d117429b170e6": {
      "model_module": "@jupyter-widgets/controls",
      "model_module_version": "1.5.0",
      "model_name": "HTMLModel",
      "state": {
       "layout": "IPY_MODEL_6d8572bcc449438e8293101799e25898",
       "style": "IPY_MODEL_1daf7c95200a46baa630cf6b07f7abbe",
       "value": " 157/157 [00:09&lt;00:00, 15.75it/s]"
      }
     },
     "2b30f0559917420c83577af980eebf0f": {
      "model_module": "@jupyter-widgets/controls",
      "model_module_version": "1.5.0",
      "model_name": "ProgressStyleModel",
      "state": {
       "description_width": "initial"
      }
     },
     "2b3e317f92aa4aaca14e296ff2c1ceb3": {
      "model_module": "@jupyter-widgets/base",
      "model_module_version": "1.2.0",
      "model_name": "LayoutModel",
      "state": {}
     },
     "2b9e3a06ced24699bf96cf78fcd604e3": {
      "model_module": "@jupyter-widgets/controls",
      "model_module_version": "1.5.0",
      "model_name": "HTMLModel",
      "state": {
       "layout": "IPY_MODEL_1f0f35e273ea4f01b5eb0b4bb3e45345",
       "style": "IPY_MODEL_d9315facb6d34a40a4abcd25f438573d",
       "value": " 157/157 [00:15&lt;00:00, 10.52it/s]"
      }
     },
     "2ba29ec8dff84ddaace8bff5cd92e4ad": {
      "model_module": "@jupyter-widgets/base",
      "model_module_version": "1.2.0",
      "model_name": "LayoutModel",
      "state": {}
     },
     "2bb87e0148ab4effa3795daa9fca0e62": {
      "model_module": "@jupyter-widgets/controls",
      "model_module_version": "1.5.0",
      "model_name": "HTMLModel",
      "state": {
       "layout": "IPY_MODEL_068c2099d4f94685bf5a8e599ff56905",
       "style": "IPY_MODEL_c0a4281a4f8a483e8dced72dcd5c2a01",
       "value": " 157/157 [00:15&lt;00:00, 11.65it/s]"
      }
     },
     "2c1a6e20499845b296b41512ef028829": {
      "model_module": "@jupyter-widgets/controls",
      "model_module_version": "1.5.0",
      "model_name": "ProgressStyleModel",
      "state": {
       "description_width": "initial"
      }
     },
     "2c206a16593342c58d5a6dd2175f4e68": {
      "model_module": "@jupyter-widgets/base",
      "model_module_version": "1.2.0",
      "model_name": "LayoutModel",
      "state": {}
     },
     "2c21402677214eeeb113cc40ef85e61b": {
      "model_module": "@jupyter-widgets/controls",
      "model_module_version": "1.5.0",
      "model_name": "ProgressStyleModel",
      "state": {
       "description_width": "initial"
      }
     },
     "2c28226c32d247b99f2a2327d1e84cf8": {
      "model_module": "@jupyter-widgets/controls",
      "model_module_version": "1.5.0",
      "model_name": "ProgressStyleModel",
      "state": {
       "description_width": "initial"
      }
     },
     "2c33e60b29ff4def86e2e1e158080631": {
      "model_module": "@jupyter-widgets/controls",
      "model_module_version": "1.5.0",
      "model_name": "ProgressStyleModel",
      "state": {
       "description_width": "initial"
      }
     },
     "2c3944b2246a44a9950e289a2d1ef3b9": {
      "model_module": "@jupyter-widgets/controls",
      "model_module_version": "1.5.0",
      "model_name": "ProgressStyleModel",
      "state": {
       "description_width": "initial"
      }
     },
     "2c3e3546387f485fb19f47e06861100a": {
      "model_module": "@jupyter-widgets/controls",
      "model_module_version": "1.5.0",
      "model_name": "FloatProgressModel",
      "state": {
       "description": "val loss: 4.2242: 100%",
       "layout": "IPY_MODEL_e55167b682304e32abfbeee75d4f28af",
       "max": 157,
       "style": "IPY_MODEL_6a7a68f294f64c1d84f685202c525b0b",
       "value": 157
      }
     },
     "2c44f6800cad4f248dc68e2db27746ae": {
      "model_module": "@jupyter-widgets/base",
      "model_module_version": "1.2.0",
      "model_name": "LayoutModel",
      "state": {}
     },
     "2c618285d6e5457f985b4dbe4a88fbc1": {
      "model_module": "@jupyter-widgets/controls",
      "model_module_version": "1.5.0",
      "model_name": "DescriptionStyleModel",
      "state": {
       "description_width": ""
      }
     },
     "2c76b133304e4f378223cf94e2becd7e": {
      "model_module": "@jupyter-widgets/base",
      "model_module_version": "1.2.0",
      "model_name": "LayoutModel",
      "state": {}
     },
     "2ca30a8af9014fd383ec95506b6bd77f": {
      "model_module": "@jupyter-widgets/base",
      "model_module_version": "1.2.0",
      "model_name": "LayoutModel",
      "state": {}
     },
     "2cb2805a95b54aceb6f22e29d52d7dd1": {
      "model_module": "@jupyter-widgets/base",
      "model_module_version": "1.2.0",
      "model_name": "LayoutModel",
      "state": {}
     },
     "2cb3792e2e754839813179d426bc4e1c": {
      "model_module": "@jupyter-widgets/controls",
      "model_module_version": "1.5.0",
      "model_name": "ProgressStyleModel",
      "state": {
       "description_width": "initial"
      }
     },
     "2cc36938a09745e79216ee02cbf20d7f": {
      "model_module": "@jupyter-widgets/controls",
      "model_module_version": "1.5.0",
      "model_name": "DescriptionStyleModel",
      "state": {
       "description_width": ""
      }
     },
     "2cdb07247e5b42428a2033413249be57": {
      "model_module": "@jupyter-widgets/controls",
      "model_module_version": "1.5.0",
      "model_name": "HBoxModel",
      "state": {
       "children": [
        "IPY_MODEL_2964deccf8124478931d1975a10241c1",
        "IPY_MODEL_f2208bca168f4419bb0f25e0cf63e297"
       ],
       "layout": "IPY_MODEL_e0cef49a4e354f5fb2314e48dcdb9511"
      }
     },
     "2cdb70c2a3fe426bb8d8ae20aed010e4": {
      "model_module": "@jupyter-widgets/controls",
      "model_module_version": "1.5.0",
      "model_name": "HTMLModel",
      "state": {
       "layout": "IPY_MODEL_846f17518a9548de88a2900412d2effb",
       "style": "IPY_MODEL_02641c9a15f94319a555cdc2ee14f3eb",
       "value": " 0/10 [01:05&lt;?, ?it/s]"
      }
     },
     "2ce36fff6f4d49b89f3a6e33de7f3c7c": {
      "model_module": "@jupyter-widgets/controls",
      "model_module_version": "1.5.0",
      "model_name": "DescriptionStyleModel",
      "state": {
       "description_width": ""
      }
     },
     "2cfbfe031cba4353b0a6a6e3065b4d81": {
      "model_module": "@jupyter-widgets/controls",
      "model_module_version": "1.5.0",
      "model_name": "FloatProgressModel",
      "state": {
       "description": "train loss: 4.5718: 100%",
       "layout": "IPY_MODEL_1e9fe3e8e914462fae0f5a847fc8e50c",
       "max": 1563,
       "style": "IPY_MODEL_c6d29a74da3e4bdbbddba62fac3f06bb",
       "value": 1563
      }
     },
     "2d02e35e41e149f3aca502ae6ef28259": {
      "model_module": "@jupyter-widgets/controls",
      "model_module_version": "1.5.0",
      "model_name": "HTMLModel",
      "state": {
       "layout": "IPY_MODEL_dc5c6692d2d742c699663868ee564731",
       "style": "IPY_MODEL_04dcae7fbb0247f5baf9d4c7d68f49d3",
       "value": " 0/10 [00:23&lt;?, ?it/s]"
      }
     },
     "2d17f286547b4e54a9b8ef7c3a8da4de": {
      "model_module": "@jupyter-widgets/base",
      "model_module_version": "1.2.0",
      "model_name": "LayoutModel",
      "state": {}
     },
     "2d23df6223784fdda0c46930a3f0b3c3": {
      "model_module": "@jupyter-widgets/controls",
      "model_module_version": "1.5.0",
      "model_name": "DescriptionStyleModel",
      "state": {
       "description_width": ""
      }
     },
     "2d5be4583d5f4c72b6ed33bd2585c984": {
      "model_module": "@jupyter-widgets/controls",
      "model_module_version": "1.5.0",
      "model_name": "FloatProgressModel",
      "state": {
       "bar_style": "danger",
       "description": "Epochs:   0%",
       "layout": "IPY_MODEL_5ee282434fa14f7b9427ba0176e267e1",
       "max": 10,
       "style": "IPY_MODEL_480c4642fdef4307bcc331316f70800e"
      }
     },
     "2d71328e31b94c4eb2b75b42b57b9b47": {
      "model_module": "@jupyter-widgets/controls",
      "model_module_version": "1.5.0",
      "model_name": "FloatProgressModel",
      "state": {
       "description": "train loss: 2.7965: 100%",
       "layout": "IPY_MODEL_7bc03f65ee54447d8c60fd83384af7b2",
       "max": 1563,
       "style": "IPY_MODEL_674567ded1a34c78a8f21dd0a4b7e709",
       "value": 1563
      }
     },
     "2d828d0b1e994a90a2e4395eadb9800f": {
      "model_module": "@jupyter-widgets/controls",
      "model_module_version": "1.5.0",
      "model_name": "ProgressStyleModel",
      "state": {
       "description_width": "initial"
      }
     },
     "2d87fccf7361466394b49d88eaf3cad4": {
      "model_module": "@jupyter-widgets/base",
      "model_module_version": "1.2.0",
      "model_name": "LayoutModel",
      "state": {}
     },
     "2dc5ef6e1e06422f92b1f826fb4da50c": {
      "model_module": "@jupyter-widgets/controls",
      "model_module_version": "1.5.0",
      "model_name": "FloatProgressModel",
      "state": {
       "description": "train loss: 3.7331: 100%",
       "layout": "IPY_MODEL_3046eb00dbfc4a258ad791f7529d2c19",
       "max": 1563,
       "style": "IPY_MODEL_e33b0b46a5404a4a996d5f3285b1dc30",
       "value": 1563
      }
     },
     "2dc657df66e84cd7a4f5dc505807dddf": {
      "model_module": "@jupyter-widgets/controls",
      "model_module_version": "1.5.0",
      "model_name": "DescriptionStyleModel",
      "state": {
       "description_width": ""
      }
     },
     "2dc96ae7d28e490497ef0e2a52cfc87c": {
      "model_module": "@jupyter-widgets/controls",
      "model_module_version": "1.5.0",
      "model_name": "FloatProgressModel",
      "state": {
       "description": "train loss: 3.3124: 100%",
       "layout": "IPY_MODEL_b6401e9b8b9b44f092f217e3a0b7f90b",
       "max": 1563,
       "style": "IPY_MODEL_0d2adaa4c40a42f7b8e3d38f7dfce855",
       "value": 1563
      }
     },
     "2dd6dbb847f446a19858e7de2c90296f": {
      "model_module": "@jupyter-widgets/controls",
      "model_module_version": "1.5.0",
      "model_name": "DescriptionStyleModel",
      "state": {
       "description_width": ""
      }
     },
     "2ddcb32b8baa4d0db5fb9ae9bb42fd98": {
      "model_module": "@jupyter-widgets/base",
      "model_module_version": "1.2.0",
      "model_name": "LayoutModel",
      "state": {}
     },
     "2e0a26cee0aa40e89394495ea94e0dbd": {
      "model_module": "@jupyter-widgets/controls",
      "model_module_version": "1.5.0",
      "model_name": "DescriptionStyleModel",
      "state": {
       "description_width": ""
      }
     },
     "2e237fde8afe456aaa098e996ab47c8b": {
      "model_module": "@jupyter-widgets/base",
      "model_module_version": "1.2.0",
      "model_name": "LayoutModel",
      "state": {}
     },
     "2e266fdb5af74480bf1fe058aee69213": {
      "model_module": "@jupyter-widgets/base",
      "model_module_version": "1.2.0",
      "model_name": "LayoutModel",
      "state": {}
     },
     "2e2dda8e505e4179ab26231f6c77cd34": {
      "model_module": "@jupyter-widgets/controls",
      "model_module_version": "1.5.0",
      "model_name": "DescriptionStyleModel",
      "state": {
       "description_width": ""
      }
     },
     "2e37349c8e394c2d96e143b21ca5712a": {
      "model_module": "@jupyter-widgets/base",
      "model_module_version": "1.2.0",
      "model_name": "LayoutModel",
      "state": {}
     },
     "2e5486eba3f742b2a30f0c643417ea94": {
      "model_module": "@jupyter-widgets/base",
      "model_module_version": "1.2.0",
      "model_name": "LayoutModel",
      "state": {}
     },
     "2e60aea221c5483a9e3ebd9cb5ee4f89": {
      "model_module": "@jupyter-widgets/controls",
      "model_module_version": "1.5.0",
      "model_name": "HTMLModel",
      "state": {
       "layout": "IPY_MODEL_b62e63d6b5c744f7b6367749bd2ee307",
       "style": "IPY_MODEL_2ac75e853cdb47cd8ce5fffa0388bc4f",
       "value": " 157/157 [00:14&lt;00:00, 11.80it/s]"
      }
     },
     "2e6f753c51b845d484cfeddd7690ba54": {
      "model_module": "@jupyter-widgets/controls",
      "model_module_version": "1.5.0",
      "model_name": "DescriptionStyleModel",
      "state": {
       "description_width": ""
      }
     },
     "2e76878e699a45188898f2ffb03adc26": {
      "model_module": "@jupyter-widgets/base",
      "model_module_version": "1.2.0",
      "model_name": "LayoutModel",
      "state": {}
     },
     "2e78e93cdbe745eebadf8c04cb6ceadd": {
      "model_module": "@jupyter-widgets/controls",
      "model_module_version": "1.5.0",
      "model_name": "FloatProgressModel",
      "state": {
       "description": "val loss: 3.3962: 100%",
       "layout": "IPY_MODEL_f6513772abde4f6cbc7e8b01a300b1fd",
       "max": 157,
       "style": "IPY_MODEL_dfe873e136094428a75545c3eeb4f82f",
       "value": 157
      }
     },
     "2e8799a7c3974929aff355b3846d225d": {
      "model_module": "@jupyter-widgets/base",
      "model_module_version": "1.2.0",
      "model_name": "LayoutModel",
      "state": {}
     },
     "2eaae4e825a7486eabe00726c37c3490": {
      "model_module": "@jupyter-widgets/base",
      "model_module_version": "1.2.0",
      "model_name": "LayoutModel",
      "state": {}
     },
     "2eafd0e33e2946d5ab8591e4a8f334f2": {
      "model_module": "@jupyter-widgets/base",
      "model_module_version": "1.2.0",
      "model_name": "LayoutModel",
      "state": {}
     },
     "2eb10449a00f462bab2733ff3a7f32b5": {
      "model_module": "@jupyter-widgets/controls",
      "model_module_version": "1.5.0",
      "model_name": "DescriptionStyleModel",
      "state": {
       "description_width": ""
      }
     },
     "2eb90ccb9ac74d43b8ff164a9d2233a4": {
      "model_module": "@jupyter-widgets/controls",
      "model_module_version": "1.5.0",
      "model_name": "FloatProgressModel",
      "state": {
       "description": "val loss: 3.7208: 100%",
       "layout": "IPY_MODEL_c5810b9d68594afaadb5e03959cc1435",
       "max": 157,
       "style": "IPY_MODEL_ca51d332b5da45458880fcdaaf4f1c02",
       "value": 157
      }
     },
     "2ec8606b6c0e4386962b9aec7c42f567": {
      "model_module": "@jupyter-widgets/controls",
      "model_module_version": "1.5.0",
      "model_name": "FloatProgressModel",
      "state": {
       "description": "val loss: 3.7317: 100%",
       "layout": "IPY_MODEL_24c93dba1c514537b4bfd097d82556ae",
       "max": 157,
       "style": "IPY_MODEL_1d073a08d507464d963276f4fdf8cfe4",
       "value": 157
      }
     },
     "2ed088142be74975be693deefc002ee0": {
      "model_module": "@jupyter-widgets/base",
      "model_module_version": "1.2.0",
      "model_name": "LayoutModel",
      "state": {}
     },
     "2ee9d65f83294fdd9ff9ad14c9d60f89": {
      "model_module": "@jupyter-widgets/controls",
      "model_module_version": "1.5.0",
      "model_name": "HBoxModel",
      "state": {
       "children": [
        "IPY_MODEL_10a27206e4ec4dfa8a4923819a78ed94",
        "IPY_MODEL_bebf90411efa4370b300bfc069147c79"
       ],
       "layout": "IPY_MODEL_fbdfd3816db54dbcbbeb86e19307c510"
      }
     },
     "2ef6e7470d35494fa8da4cba80d7fe94": {
      "model_module": "@jupyter-widgets/base",
      "model_module_version": "1.2.0",
      "model_name": "LayoutModel",
      "state": {}
     },
     "2f1188f7a9be42b9a1b24336f2dff926": {
      "model_module": "@jupyter-widgets/base",
      "model_module_version": "1.2.0",
      "model_name": "LayoutModel",
      "state": {}
     },
     "2f6fc762274f4209b8f99091edac5782": {
      "model_module": "@jupyter-widgets/base",
      "model_module_version": "1.2.0",
      "model_name": "LayoutModel",
      "state": {}
     },
     "2f7982833ce84e92bf05a5d31829f238": {
      "model_module": "@jupyter-widgets/base",
      "model_module_version": "1.2.0",
      "model_name": "LayoutModel",
      "state": {}
     },
     "2fa15f4fa4dc4af1bd6b38b80a7126b4": {
      "model_module": "@jupyter-widgets/base",
      "model_module_version": "1.2.0",
      "model_name": "LayoutModel",
      "state": {}
     },
     "2fadce62109343a683ea50500a16684e": {
      "model_module": "@jupyter-widgets/controls",
      "model_module_version": "1.5.0",
      "model_name": "FloatProgressModel",
      "state": {
       "description": "train loss: 3.4457: 100%",
       "layout": "IPY_MODEL_3702f07177e146cfa272ee5508507ae7",
       "max": 1563,
       "style": "IPY_MODEL_4897fb64a0634d1bac95539983be3089",
       "value": 1563
      }
     },
     "2faf3d877c9e45aea7c73fe6eb38b2e8": {
      "model_module": "@jupyter-widgets/controls",
      "model_module_version": "1.5.0",
      "model_name": "FloatProgressModel",
      "state": {
       "description": "val loss: 3.2621: 100%",
       "layout": "IPY_MODEL_5ce753e281354849b063cbd887db83d3",
       "max": 157,
       "style": "IPY_MODEL_5d637c5de30f4c18bfcc397f687b3dcc",
       "value": 157
      }
     },
     "301a57130a3b428ea961190eff5b9504": {
      "model_module": "@jupyter-widgets/controls",
      "model_module_version": "1.5.0",
      "model_name": "FloatProgressModel",
      "state": {
       "description": "val loss: 3.1493: 100%",
       "layout": "IPY_MODEL_8ec0dca376b94aa4afe002416ea68e76",
       "max": 157,
       "style": "IPY_MODEL_3dc340bf723945899c0307228d2ce5b8",
       "value": 157
      }
     },
     "3042914d9d1a4048947828899e0e132d": {
      "model_module": "@jupyter-widgets/base",
      "model_module_version": "1.2.0",
      "model_name": "LayoutModel",
      "state": {}
     },
     "3046eb00dbfc4a258ad791f7529d2c19": {
      "model_module": "@jupyter-widgets/base",
      "model_module_version": "1.2.0",
      "model_name": "LayoutModel",
      "state": {}
     },
     "304c76c9959243e7afeafa6b3b54325f": {
      "model_module": "@jupyter-widgets/controls",
      "model_module_version": "1.5.0",
      "model_name": "DescriptionStyleModel",
      "state": {
       "description_width": ""
      }
     },
     "30750dd2426746ae92871d282e821cb0": {
      "model_module": "@jupyter-widgets/base",
      "model_module_version": "1.2.0",
      "model_name": "LayoutModel",
      "state": {}
     },
     "3076fe3d88e94a58971890f09cfed25a": {
      "model_module": "@jupyter-widgets/base",
      "model_module_version": "1.2.0",
      "model_name": "LayoutModel",
      "state": {}
     },
     "30815844330b472abdefee2905a6f5d2": {
      "model_module": "@jupyter-widgets/controls",
      "model_module_version": "1.5.0",
      "model_name": "ProgressStyleModel",
      "state": {
       "description_width": "initial"
      }
     },
     "309ca1252b974f56b3e03c1ff6c7a334": {
      "model_module": "@jupyter-widgets/controls",
      "model_module_version": "1.5.0",
      "model_name": "DescriptionStyleModel",
      "state": {
       "description_width": ""
      }
     },
     "30bca6a9c08c4425a854125972da7388": {
      "model_module": "@jupyter-widgets/controls",
      "model_module_version": "1.5.0",
      "model_name": "ProgressStyleModel",
      "state": {
       "description_width": "initial"
      }
     },
     "30d776f5791c4456afeddb86f9c1fbd3": {
      "model_module": "@jupyter-widgets/controls",
      "model_module_version": "1.5.0",
      "model_name": "FloatProgressModel",
      "state": {
       "description": "val loss: 4.5594: 100%",
       "layout": "IPY_MODEL_be1c503663204e8e8ab31f9cf5010674",
       "max": 157,
       "style": "IPY_MODEL_7d73ba4a5e4b49d5b3e5dbd9f4147f79",
       "value": 157
      }
     },
     "30e58813447d4659b6b45c656c260c87": {
      "model_module": "@jupyter-widgets/controls",
      "model_module_version": "1.5.0",
      "model_name": "HTMLModel",
      "state": {
       "layout": "IPY_MODEL_0634bb9568a3432989e06781b9f18026",
       "style": "IPY_MODEL_858066f7ccd94449ada6ad8814baf1c6",
       "value": " 2/10 [11:20&lt;31:48, 238.62s/it]"
      }
     },
     "30f195d3b26d45758b795821b8043531": {
      "model_module": "@jupyter-widgets/controls",
      "model_module_version": "1.5.0",
      "model_name": "ProgressStyleModel",
      "state": {
       "description_width": "initial"
      }
     },
     "30f1fb2faf4542fca6956e3599c11986": {
      "model_module": "@jupyter-widgets/controls",
      "model_module_version": "1.5.0",
      "model_name": "HTMLModel",
      "state": {
       "layout": "IPY_MODEL_d45d4fc6d718499d99e8f152e4ea9ffe",
       "style": "IPY_MODEL_5dcb1bfd9e9843c197d60056e9e67620",
       "value": " 1563/1563 [02:35&lt;00:00, 11.08it/s]"
      }
     },
     "3113b0a70db84f758654e7cd0fdd9648": {
      "model_module": "@jupyter-widgets/controls",
      "model_module_version": "1.5.0",
      "model_name": "ProgressStyleModel",
      "state": {
       "description_width": "initial"
      }
     },
     "311c9dd44b99457eb89bbc9290f6a159": {
      "model_module": "@jupyter-widgets/base",
      "model_module_version": "1.2.0",
      "model_name": "LayoutModel",
      "state": {}
     },
     "3128599b8c544b279b06526322b29ee9": {
      "model_module": "@jupyter-widgets/controls",
      "model_module_version": "1.5.0",
      "model_name": "HTMLModel",
      "state": {
       "layout": "IPY_MODEL_e67e91bda9e4421c9b4a400cd5a80c6f",
       "style": "IPY_MODEL_dc3503313b0f4dffa70377f39b8d248a",
       "value": " 1563/1563 [02:34&lt;00:00, 10.24it/s]"
      }
     },
     "312cfc503d5e43cfa8217617d346d0f6": {
      "model_module": "@jupyter-widgets/controls",
      "model_module_version": "1.5.0",
      "model_name": "ProgressStyleModel",
      "state": {
       "description_width": "initial"
      }
     },
     "3131b87c65784fa3aad9c0329da65077": {
      "model_module": "@jupyter-widgets/controls",
      "model_module_version": "1.5.0",
      "model_name": "FloatProgressModel",
      "state": {
       "description": "train loss: 3.2965: 100%",
       "layout": "IPY_MODEL_5ada689d4b2b4f7daaa71c7c7c67613c",
       "max": 1563,
       "style": "IPY_MODEL_c8824873901c4400860dd757136baafc",
       "value": 1563
      }
     },
     "3137ee10c85e44aaac21e7eba0c7c6b6": {
      "model_module": "@jupyter-widgets/controls",
      "model_module_version": "1.5.0",
      "model_name": "ProgressStyleModel",
      "state": {
       "description_width": "initial"
      }
     },
     "315c6e9ff9a84492a52a9161042c5afd": {
      "model_module": "@jupyter-widgets/base",
      "model_module_version": "1.2.0",
      "model_name": "LayoutModel",
      "state": {}
     },
     "315e640b83cf4d1abc7385250ad3e710": {
      "model_module": "@jupyter-widgets/controls",
      "model_module_version": "1.5.0",
      "model_name": "DescriptionStyleModel",
      "state": {
       "description_width": ""
      }
     },
     "3175c167ccc6499d8f5a5cfe762c247b": {
      "model_module": "@jupyter-widgets/controls",
      "model_module_version": "1.5.0",
      "model_name": "DescriptionStyleModel",
      "state": {
       "description_width": ""
      }
     },
     "317a9e9a79be4386872f35098467b4f0": {
      "model_module": "@jupyter-widgets/controls",
      "model_module_version": "1.5.0",
      "model_name": "HTMLModel",
      "state": {
       "layout": "IPY_MODEL_891acaead0744fbf92feb02b983441f9",
       "style": "IPY_MODEL_567935ab3dea4f9792833de36aa3979a",
       "value": " 1563/1563 [02:36&lt;00:00, 10.99it/s]"
      }
     },
     "318946db07d448459ffffcdb19a38a05": {
      "model_module": "@jupyter-widgets/base",
      "model_module_version": "1.2.0",
      "model_name": "LayoutModel",
      "state": {}
     },
     "318c93bb5a2149c5a9836236b3838712": {
      "model_module": "@jupyter-widgets/controls",
      "model_module_version": "1.5.0",
      "model_name": "HTMLModel",
      "state": {
       "layout": "IPY_MODEL_cada474ce03d424cab750ae14441680c",
       "style": "IPY_MODEL_767ba6195dec4e1f988c32d74292b3fb",
       "value": " 1563/1563 [04:59&lt;00:00,  6.00it/s]"
      }
     },
     "3191966504f9444eada4de4a67b322cf": {
      "model_module": "@jupyter-widgets/controls",
      "model_module_version": "1.5.0",
      "model_name": "DescriptionStyleModel",
      "state": {
       "description_width": ""
      }
     },
     "3197f2ccc2cf4125af2f04158e6d4e94": {
      "model_module": "@jupyter-widgets/base",
      "model_module_version": "1.2.0",
      "model_name": "LayoutModel",
      "state": {}
     },
     "31b1bbc3e62546d7bb0deac268ac3ed4": {
      "model_module": "@jupyter-widgets/controls",
      "model_module_version": "1.5.0",
      "model_name": "ProgressStyleModel",
      "state": {
       "description_width": "initial"
      }
     },
     "31ce21b686b54713b64d2b59b401c6cd": {
      "model_module": "@jupyter-widgets/base",
      "model_module_version": "1.2.0",
      "model_name": "LayoutModel",
      "state": {}
     },
     "31d64e0f6e8a4ec28bfe2cc5da8bfccf": {
      "model_module": "@jupyter-widgets/controls",
      "model_module_version": "1.5.0",
      "model_name": "DescriptionStyleModel",
      "state": {
       "description_width": ""
      }
     },
     "31d924fbf1704d838b52d1ce38f174d7": {
      "model_module": "@jupyter-widgets/base",
      "model_module_version": "1.2.0",
      "model_name": "LayoutModel",
      "state": {}
     },
     "31fde615933d4deebf36e320c46319a6": {
      "model_module": "@jupyter-widgets/base",
      "model_module_version": "1.2.0",
      "model_name": "LayoutModel",
      "state": {}
     },
     "31fe84df3ca34b09b7db00e680ab4190": {
      "model_module": "@jupyter-widgets/base",
      "model_module_version": "1.2.0",
      "model_name": "LayoutModel",
      "state": {}
     },
     "32001b54a85348f1aa716a3ab087a37d": {
      "model_module": "@jupyter-widgets/controls",
      "model_module_version": "1.5.0",
      "model_name": "HTMLModel",
      "state": {
       "layout": "IPY_MODEL_c9c6f3aeda0c4328b6c54bac97b1050e",
       "style": "IPY_MODEL_9ed54b930d76481fb687a008a3631186",
       "value": " 157/157 [00:09&lt;00:00, 15.86it/s]"
      }
     },
     "3216539f434a45fb840aedf35a02d25e": {
      "model_module": "@jupyter-widgets/base",
      "model_module_version": "1.2.0",
      "model_name": "LayoutModel",
      "state": {}
     },
     "3239153d13ed4fbaa471e8f2885423ce": {
      "model_module": "@jupyter-widgets/controls",
      "model_module_version": "1.5.0",
      "model_name": "ProgressStyleModel",
      "state": {
       "description_width": "initial"
      }
     },
     "326f477a8a2943ff8fe7ceb3d7a1e4bf": {
      "model_module": "@jupyter-widgets/base",
      "model_module_version": "1.2.0",
      "model_name": "LayoutModel",
      "state": {}
     },
     "3289bc006ddc47038b2f58eac06339cb": {
      "model_module": "@jupyter-widgets/base",
      "model_module_version": "1.2.0",
      "model_name": "LayoutModel",
      "state": {}
     },
     "3289c41055984017bcdf53bcfb76fb0f": {
      "model_module": "@jupyter-widgets/controls",
      "model_module_version": "1.5.0",
      "model_name": "DescriptionStyleModel",
      "state": {
       "description_width": ""
      }
     },
     "328b53a57f784f6896cf9d351bd787d7": {
      "model_module": "@jupyter-widgets/base",
      "model_module_version": "1.2.0",
      "model_name": "LayoutModel",
      "state": {}
     },
     "32f37708cdc24012b86faeb83e346a26": {
      "model_module": "@jupyter-widgets/controls",
      "model_module_version": "1.5.0",
      "model_name": "FloatProgressModel",
      "state": {
       "description": "train loss: 2.6996: 100%",
       "layout": "IPY_MODEL_5ace7a82f25e430399927a498852d2f4",
       "max": 1563,
       "style": "IPY_MODEL_531727e3af5e4b5c9d56dc14ac9b778d",
       "value": 1563
      }
     },
     "332de60b7ce740e6b19022819476eb02": {
      "model_module": "@jupyter-widgets/controls",
      "model_module_version": "1.5.0",
      "model_name": "DescriptionStyleModel",
      "state": {
       "description_width": ""
      }
     },
     "33358f050dca41429bd3eca4fef3d3dd": {
      "model_module": "@jupyter-widgets/controls",
      "model_module_version": "1.5.0",
      "model_name": "ProgressStyleModel",
      "state": {
       "description_width": "initial"
      }
     },
     "3370d1b8845f4a4d88e7990426fcd286": {
      "model_module": "@jupyter-widgets/controls",
      "model_module_version": "1.5.0",
      "model_name": "HTMLModel",
      "state": {
       "layout": "IPY_MODEL_fbba8760614f447f867096373e2cb18d",
       "style": "IPY_MODEL_e46ca871b73d4339833dff915a2caeee",
       "value": " 1563/1563 [02:34&lt;00:00, 10.78it/s]"
      }
     },
     "337c17237297443eb5438934bd72f31d": {
      "model_module": "@jupyter-widgets/base",
      "model_module_version": "1.2.0",
      "model_name": "LayoutModel",
      "state": {}
     },
     "33891b0a5a2f42498163de72a6785168": {
      "model_module": "@jupyter-widgets/controls",
      "model_module_version": "1.5.0",
      "model_name": "HTMLModel",
      "state": {
       "layout": "IPY_MODEL_4ea1d64a920a4c9c95f022a94d8f342c",
       "style": "IPY_MODEL_3f1d4ea77ed94815bc8b009afe131899",
       "value": " 157/157 [00:14&lt;00:00, 11.82it/s]"
      }
     },
     "33924115dc2247ada4af8336b4984372": {
      "model_module": "@jupyter-widgets/base",
      "model_module_version": "1.2.0",
      "model_name": "LayoutModel",
      "state": {}
     },
     "339b2d82e36f4620a66b577b9505320d": {
      "model_module": "@jupyter-widgets/base",
      "model_module_version": "1.2.0",
      "model_name": "LayoutModel",
      "state": {}
     },
     "33e45cf622a74add99320a88ade8e2f7": {
      "model_module": "@jupyter-widgets/controls",
      "model_module_version": "1.5.0",
      "model_name": "ProgressStyleModel",
      "state": {
       "description_width": "initial"
      }
     },
     "33e58cc45218407fb55dd4a529eec2ad": {
      "model_module": "@jupyter-widgets/controls",
      "model_module_version": "1.5.0",
      "model_name": "HTMLModel",
      "state": {
       "layout": "IPY_MODEL_8ce0492cf8214db0bc64483af9827c28",
       "style": "IPY_MODEL_c4fb8dd2af164c7e8e6dbf7344ba32dd",
       "value": " 157/157 [00:09&lt;00:00, 16.11it/s]"
      }
     },
     "33efdac5fde946abbdb0dbfbf78dc0e0": {
      "model_module": "@jupyter-widgets/controls",
      "model_module_version": "1.5.0",
      "model_name": "HTMLModel",
      "state": {
       "layout": "IPY_MODEL_1f54327222554db1b6cd29c469f8691c",
       "style": "IPY_MODEL_074436654e1b40c0bf18668e6ad2e20d",
       "value": " 157/157 [00:10&lt;00:00, 15.60it/s]"
      }
     },
     "33f1a356a92a405891668d1bc8ac7edd": {
      "model_module": "@jupyter-widgets/base",
      "model_module_version": "1.2.0",
      "model_name": "LayoutModel",
      "state": {}
     },
     "34331d1a725f4fe48ce273cb3d47df92": {
      "model_module": "@jupyter-widgets/controls",
      "model_module_version": "1.5.0",
      "model_name": "FloatProgressModel",
      "state": {
       "bar_style": "danger",
       "description": "Train Loss: 3.5092 - Val Loss: 4.1212:  90%",
       "layout": "IPY_MODEL_b988f05ee33a4075b66ec8a8452da24f",
       "max": 10,
       "style": "IPY_MODEL_f5be1e1916194edbbf91c863a3110f3e",
       "value": 9
      }
     },
     "343795c14e2b413d9bd90864b47029ee": {
      "model_module": "@jupyter-widgets/base",
      "model_module_version": "1.2.0",
      "model_name": "LayoutModel",
      "state": {}
     },
     "345f87265bc74b0bab16a6a9aaf01f53": {
      "model_module": "@jupyter-widgets/base",
      "model_module_version": "1.2.0",
      "model_name": "LayoutModel",
      "state": {}
     },
     "34bd577cd41a43d5afc674768f187bc0": {
      "model_module": "@jupyter-widgets/controls",
      "model_module_version": "1.5.0",
      "model_name": "DescriptionStyleModel",
      "state": {
       "description_width": ""
      }
     },
     "34e0471d10104ff48556244430519780": {
      "model_module": "@jupyter-widgets/base",
      "model_module_version": "1.2.0",
      "model_name": "LayoutModel",
      "state": {}
     },
     "35240adee76b4e85b403069172a90712": {
      "model_module": "@jupyter-widgets/controls",
      "model_module_version": "1.5.0",
      "model_name": "HBoxModel",
      "state": {
       "children": [
        "IPY_MODEL_ebdafc4d770247c3be89a39951e9f65f",
        "IPY_MODEL_0fd491cb1f9f4bacbd1d97d09f03b607"
       ],
       "layout": "IPY_MODEL_89e680795e8a47abbd7b297307462ae4"
      }
     },
     "35eaf9a499b243768c918e0803ed5313": {
      "model_module": "@jupyter-widgets/base",
      "model_module_version": "1.2.0",
      "model_name": "LayoutModel",
      "state": {}
     },
     "3600c5b76e0f4758b7200e7cdadf8a4c": {
      "model_module": "@jupyter-widgets/base",
      "model_module_version": "1.2.0",
      "model_name": "LayoutModel",
      "state": {}
     },
     "3603a567a87c4be3927005b7c0da01e2": {
      "model_module": "@jupyter-widgets/controls",
      "model_module_version": "1.5.0",
      "model_name": "HTMLModel",
      "state": {
       "layout": "IPY_MODEL_909f5f133c63400f91e3f93db392dd3c",
       "style": "IPY_MODEL_3a8c97e8e19b449794558a902695befa",
       "value": " 157/157 [00:14&lt;00:00, 12.00it/s]"
      }
     },
     "36131387c082492fa0f1926bbd58717e": {
      "model_module": "@jupyter-widgets/controls",
      "model_module_version": "1.5.0",
      "model_name": "HTMLModel",
      "state": {
       "layout": "IPY_MODEL_99e9accac89643f6ab06670ee9962d8a",
       "style": "IPY_MODEL_c14b49001ae14e0ba705808c9c7a0b2f",
       "value": " 157/157 [00:09&lt;00:00, 15.77it/s]"
      }
     },
     "362f40ed83f24ff7a135e231378e8a9c": {
      "model_module": "@jupyter-widgets/controls",
      "model_module_version": "1.5.0",
      "model_name": "HTMLModel",
      "state": {
       "layout": "IPY_MODEL_6eeacbf757ed40c98c14324cea1945e1",
       "style": "IPY_MODEL_6efd91173d49461c9505a42415ef9f2e",
       "value": " 157/157 [00:16&lt;00:00,  9.40it/s]"
      }
     },
     "3640abb1fe884896a1db2891633a93b3": {
      "model_module": "@jupyter-widgets/controls",
      "model_module_version": "1.5.0",
      "model_name": "HTMLModel",
      "state": {
       "layout": "IPY_MODEL_e8a8ad34834a428889cd28314817673e",
       "style": "IPY_MODEL_63f60a7502b44d25ab761e627f7de64c",
       "value": " 157/157 [00:10&lt;00:00, 15.53it/s]"
      }
     },
     "365cd8a4d8c4419a8d9b96573657e0c9": {
      "model_module": "@jupyter-widgets/controls",
      "model_module_version": "1.5.0",
      "model_name": "FloatProgressModel",
      "state": {
       "description": "train loss: 3.9209: 100%",
       "layout": "IPY_MODEL_a72d0fb1f37a459ebfab37784d301886",
       "max": 1563,
       "style": "IPY_MODEL_03efd20a9ccc4dcf9ab56e66ee7b3fc0",
       "value": 1563
      }
     },
     "367332c67b3a48908aacbf6fb9861173": {
      "model_module": "@jupyter-widgets/base",
      "model_module_version": "1.2.0",
      "model_name": "LayoutModel",
      "state": {}
     },
     "367f09cb53c94abe9b081ceb48faa163": {
      "model_module": "@jupyter-widgets/controls",
      "model_module_version": "1.5.0",
      "model_name": "FloatProgressModel",
      "state": {
       "description": "val loss: 4.0471: 100%",
       "layout": "IPY_MODEL_c8172995a8fe4b468ee0927802ff2f60",
       "max": 157,
       "style": "IPY_MODEL_9c24617094fc47869b7ca0dd1e44cab8",
       "value": 157
      }
     },
     "36870230ea72438f9747865e7064c832": {
      "model_module": "@jupyter-widgets/controls",
      "model_module_version": "1.5.0",
      "model_name": "ProgressStyleModel",
      "state": {
       "description_width": "initial"
      }
     },
     "36949f87dd2b4f4eb408043a73720aec": {
      "model_module": "@jupyter-widgets/controls",
      "model_module_version": "1.5.0",
      "model_name": "ProgressStyleModel",
      "state": {
       "description_width": "initial"
      }
     },
     "36af802b2fab44adb63593a5b0cc0642": {
      "model_module": "@jupyter-widgets/controls",
      "model_module_version": "1.5.0",
      "model_name": "ProgressStyleModel",
      "state": {
       "description_width": "initial"
      }
     },
     "36b1d0f50ed345e58e54a77763997b86": {
      "model_module": "@jupyter-widgets/base",
      "model_module_version": "1.2.0",
      "model_name": "LayoutModel",
      "state": {}
     },
     "36e85f146151446dbdeec632e668d057": {
      "model_module": "@jupyter-widgets/base",
      "model_module_version": "1.2.0",
      "model_name": "LayoutModel",
      "state": {}
     },
     "36f5d37a89674229946d41439748e4fc": {
      "model_module": "@jupyter-widgets/base",
      "model_module_version": "1.2.0",
      "model_name": "LayoutModel",
      "state": {}
     },
     "3702f07177e146cfa272ee5508507ae7": {
      "model_module": "@jupyter-widgets/base",
      "model_module_version": "1.2.0",
      "model_name": "LayoutModel",
      "state": {}
     },
     "3712294417bf4dff8f36ec82f45effba": {
      "model_module": "@jupyter-widgets/base",
      "model_module_version": "1.2.0",
      "model_name": "LayoutModel",
      "state": {}
     },
     "37227488264d4f539cccb6ee77342f90": {
      "model_module": "@jupyter-widgets/controls",
      "model_module_version": "1.5.0",
      "model_name": "DescriptionStyleModel",
      "state": {
       "description_width": ""
      }
     },
     "3729432805104050be984c84a4e21b85": {
      "model_module": "@jupyter-widgets/controls",
      "model_module_version": "1.5.0",
      "model_name": "DescriptionStyleModel",
      "state": {
       "description_width": ""
      }
     },
     "37400e873f8d4181882bc38cf60c3848": {
      "model_module": "@jupyter-widgets/controls",
      "model_module_version": "1.5.0",
      "model_name": "FloatProgressModel",
      "state": {
       "description": "val loss: 5.6812: 100%",
       "layout": "IPY_MODEL_557274d2cd21466d94b4ffc106c9b9f3",
       "max": 157,
       "style": "IPY_MODEL_21a92a0035ea4fe7ad5d3affdd9757e4",
       "value": 157
      }
     },
     "37530998ecf14839add813c835e4549f": {
      "model_module": "@jupyter-widgets/controls",
      "model_module_version": "1.5.0",
      "model_name": "FloatProgressModel",
      "state": {
       "description": "val loss: 4.0067: 100%",
       "layout": "IPY_MODEL_1d1cb17a33ac4fc291a07f8ed6413f38",
       "max": 157,
       "style": "IPY_MODEL_0cc9bf5aceb247559b61019a90e74ada",
       "value": 157
      }
     },
     "375e3f8c94084774b7f5730dc3a1bd9f": {
      "model_module": "@jupyter-widgets/controls",
      "model_module_version": "1.5.0",
      "model_name": "DescriptionStyleModel",
      "state": {
       "description_width": ""
      }
     },
     "375ed6c6f3de4591a82101977ba9f357": {
      "model_module": "@jupyter-widgets/controls",
      "model_module_version": "1.5.0",
      "model_name": "HTMLModel",
      "state": {
       "layout": "IPY_MODEL_99a16730e9884e84bfbe46c6db24f481",
       "style": "IPY_MODEL_96507ec8ee504fa7a99775ca2f3ffb78",
       "value": " 157/157 [00:16&lt;00:00,  9.47it/s]"
      }
     },
     "37617f98b8104e08984f4b537ada4af9": {
      "model_module": "@jupyter-widgets/base",
      "model_module_version": "1.2.0",
      "model_name": "LayoutModel",
      "state": {}
     },
     "3786048aa7ef4436a97d938ae7118c0d": {
      "model_module": "@jupyter-widgets/controls",
      "model_module_version": "1.5.0",
      "model_name": "HTMLModel",
      "state": {
       "layout": "IPY_MODEL_7e35fb396e004811a952d53b8afbbc91",
       "style": "IPY_MODEL_d2805289bf084d0fa7b7b6144cb6c168",
       "value": " 157/157 [00:09&lt;00:00, 15.64it/s]"
      }
     },
     "37b4e781150148aa805f9452f5c4245c": {
      "model_module": "@jupyter-widgets/base",
      "model_module_version": "1.2.0",
      "model_name": "LayoutModel",
      "state": {}
     },
     "37b73556c5784d8bbed2ad808e0986d8": {
      "model_module": "@jupyter-widgets/controls",
      "model_module_version": "1.5.0",
      "model_name": "DescriptionStyleModel",
      "state": {
       "description_width": ""
      }
     },
     "37b9502e20e5475b98e37cb1d4f3d3ea": {
      "model_module": "@jupyter-widgets/controls",
      "model_module_version": "1.5.0",
      "model_name": "FloatProgressModel",
      "state": {
       "description": "val loss: 2.6668: 100%",
       "layout": "IPY_MODEL_f0d5b6ad8fbe43a8a67c9e6727f99b65",
       "max": 157,
       "style": "IPY_MODEL_7e45f74864514706862d7c9c5c63b364",
       "value": 157
      }
     },
     "37be9f0ee94d43858d79b250fec213f6": {
      "model_module": "@jupyter-widgets/controls",
      "model_module_version": "1.5.0",
      "model_name": "FloatProgressModel",
      "state": {
       "description": "train loss: 3.6350: 100%",
       "layout": "IPY_MODEL_5bfc3989cafb4c779b6c250a04047efb",
       "max": 1563,
       "style": "IPY_MODEL_1fab65f87c1c4d49bbddf41306cb2508",
       "value": 1563
      }
     },
     "37cb204bc4ef465eb5f69513aebad740": {
      "model_module": "@jupyter-widgets/controls",
      "model_module_version": "1.5.0",
      "model_name": "HTMLModel",
      "state": {
       "layout": "IPY_MODEL_1bd479ad94804c7b9eefcf418766f821",
       "style": "IPY_MODEL_0c91fb4dde8945f4b68ac3d787d88032",
       "value": " 1563/1563 [02:35&lt;00:00, 10.46it/s]"
      }
     },
     "37cbcca623e74dd881e7c7702f6c6f79": {
      "model_module": "@jupyter-widgets/controls",
      "model_module_version": "1.5.0",
      "model_name": "HTMLModel",
      "state": {
       "layout": "IPY_MODEL_da3a185441564d929feea61966a7421f",
       "style": "IPY_MODEL_cf64a592acde46d8b955cecb53c66296",
       "value": " 157/157 [00:10&lt;00:00, 15.42it/s]"
      }
     },
     "37f6a5389e434639910ef0af9a2f1566": {
      "model_module": "@jupyter-widgets/controls",
      "model_module_version": "1.5.0",
      "model_name": "DescriptionStyleModel",
      "state": {
       "description_width": ""
      }
     },
     "38161ecc633749e8851aaee96671fbcc": {
      "model_module": "@jupyter-widgets/controls",
      "model_module_version": "1.5.0",
      "model_name": "FloatProgressModel",
      "state": {
       "bar_style": "danger",
       "description": "train loss: 3.7434:  89%",
       "layout": "IPY_MODEL_eee8cab1da7f4542801c87598ccfa6ea",
       "max": 1563,
       "style": "IPY_MODEL_e4d934bbf1824158bbd792875dca2dfb",
       "value": 1397
      }
     },
     "381d1d93c60b4582aee386c9319c0a8d": {
      "model_module": "@jupyter-widgets/base",
      "model_module_version": "1.2.0",
      "model_name": "LayoutModel",
      "state": {}
     },
     "3829399f022b4210a3fa464899665fe5": {
      "model_module": "@jupyter-widgets/base",
      "model_module_version": "1.2.0",
      "model_name": "LayoutModel",
      "state": {}
     },
     "3836f29e902143ad80eb149ed0104126": {
      "model_module": "@jupyter-widgets/base",
      "model_module_version": "1.2.0",
      "model_name": "LayoutModel",
      "state": {}
     },
     "38411460d9814bd08cf7268015b5c27a": {
      "model_module": "@jupyter-widgets/base",
      "model_module_version": "1.2.0",
      "model_name": "LayoutModel",
      "state": {}
     },
     "385ce8c673c04658b5a6a206a9b3dd8b": {
      "model_module": "@jupyter-widgets/controls",
      "model_module_version": "1.5.0",
      "model_name": "HTMLModel",
      "state": {
       "layout": "IPY_MODEL_20bed7f399684e5baedbabd54bfdc212",
       "style": "IPY_MODEL_cdf76532019940aaa04e3a6ea0b74621",
       "value": " 1563/1563 [02:32&lt;00:00,  9.99it/s]"
      }
     },
     "38707a6caac84068aff1889d9179ce2c": {
      "model_module": "@jupyter-widgets/base",
      "model_module_version": "1.2.0",
      "model_name": "LayoutModel",
      "state": {}
     },
     "38844b402fd64ee29cf7ce59fb2e19dd": {
      "model_module": "@jupyter-widgets/base",
      "model_module_version": "1.2.0",
      "model_name": "LayoutModel",
      "state": {}
     },
     "389f36f24710490499cbe1ae33532e1a": {
      "model_module": "@jupyter-widgets/base",
      "model_module_version": "1.2.0",
      "model_name": "LayoutModel",
      "state": {}
     },
     "38bd852248114e379f9184aec13fdf50": {
      "model_module": "@jupyter-widgets/base",
      "model_module_version": "1.2.0",
      "model_name": "LayoutModel",
      "state": {}
     },
     "38d6a23ab7e241e099b7063543e5d50f": {
      "model_module": "@jupyter-widgets/base",
      "model_module_version": "1.2.0",
      "model_name": "LayoutModel",
      "state": {}
     },
     "38da9fb022cf42ea86ae7c223a4b0bb2": {
      "model_module": "@jupyter-widgets/controls",
      "model_module_version": "1.5.0",
      "model_name": "ProgressStyleModel",
      "state": {
       "description_width": "initial"
      }
     },
     "38f2332732b14f5a868c1111a03861b0": {
      "model_module": "@jupyter-widgets/controls",
      "model_module_version": "1.5.0",
      "model_name": "HTMLModel",
      "state": {
       "layout": "IPY_MODEL_c11230f5e721453db13f4a179af3042c",
       "style": "IPY_MODEL_7445881bc9694a1580d0da369cb80988",
       "value": " 1563/1563 [02:34&lt;00:00, 10.20it/s]"
      }
     },
     "38fc1eddbfa940f5aa3fcc76a18de0b9": {
      "model_module": "@jupyter-widgets/base",
      "model_module_version": "1.2.0",
      "model_name": "LayoutModel",
      "state": {}
     },
     "38fd7ecc1fc64ac48c4b2049e01514e8": {
      "model_module": "@jupyter-widgets/controls",
      "model_module_version": "1.5.0",
      "model_name": "FloatProgressModel",
      "state": {
       "description": "train loss: 2.8733: 100%",
       "layout": "IPY_MODEL_da72b8317ecf41e1a482855bf9ccfeae",
       "max": 1563,
       "style": "IPY_MODEL_10223bb9b3e84141939d23bc8e5c11d0",
       "value": 1563
      }
     },
     "38fee85afb65449dacbcc0837647488f": {
      "model_module": "@jupyter-widgets/controls",
      "model_module_version": "1.5.0",
      "model_name": "ProgressStyleModel",
      "state": {
       "description_width": "initial"
      }
     },
     "39001a6ff02d4eb99fb55bff8c1ded50": {
      "model_module": "@jupyter-widgets/controls",
      "model_module_version": "1.5.0",
      "model_name": "FloatProgressModel",
      "state": {
       "bar_style": "danger",
       "description": "train loss: 3.5495:  30%",
       "layout": "IPY_MODEL_0e53c2e9d50140a8bd9f6f64b69ac0bc",
       "max": 1563,
       "style": "IPY_MODEL_f143d66acf914fddbce34f47a5132398",
       "value": 475
      }
     },
     "390f5b8c0fca4948ac257a06c5686aaf": {
      "model_module": "@jupyter-widgets/controls",
      "model_module_version": "1.5.0",
      "model_name": "FloatProgressModel",
      "state": {
       "bar_style": "success",
       "description": "Train Loss: 3.1597 - Val Loss: 4.0273: 100%",
       "layout": "IPY_MODEL_a758ac9d84d94f56abda2e23758657f7",
       "max": 10,
       "style": "IPY_MODEL_65b1aa4ca30f4b8ab6f07044d1d61371",
       "value": 10
      }
     },
     "392b388dc7604adf8f5c6042a2c40786": {
      "model_module": "@jupyter-widgets/controls",
      "model_module_version": "1.5.0",
      "model_name": "HTMLModel",
      "state": {
       "layout": "IPY_MODEL_c51be587a16045b388be6580cb5a5e49",
       "style": "IPY_MODEL_46b101420b9d4502a952b21591c4f1ee",
       "value": " 157/157 [00:09&lt;00:00, 15.58it/s]"
      }
     },
     "392e3da4531845d9975489a0bc29f6ba": {
      "model_module": "@jupyter-widgets/controls",
      "model_module_version": "1.5.0",
      "model_name": "DescriptionStyleModel",
      "state": {
       "description_width": ""
      }
     },
     "394274b36c4f416d960d1c069922e486": {
      "model_module": "@jupyter-widgets/base",
      "model_module_version": "1.2.0",
      "model_name": "LayoutModel",
      "state": {}
     },
     "3948e34c8670450eb9f2d57de3837b9e": {
      "model_module": "@jupyter-widgets/controls",
      "model_module_version": "1.5.0",
      "model_name": "DescriptionStyleModel",
      "state": {
       "description_width": ""
      }
     },
     "397184e51c76453e8488d5b8641452f6": {
      "model_module": "@jupyter-widgets/controls",
      "model_module_version": "1.5.0",
      "model_name": "DescriptionStyleModel",
      "state": {
       "description_width": ""
      }
     },
     "397512e3878e48c7bb0d0c58f861f418": {
      "model_module": "@jupyter-widgets/base",
      "model_module_version": "1.2.0",
      "model_name": "LayoutModel",
      "state": {}
     },
     "397b95fa47374246887adab8a59aee55": {
      "model_module": "@jupyter-widgets/base",
      "model_module_version": "1.2.0",
      "model_name": "LayoutModel",
      "state": {}
     },
     "39a468fc6a484156a3a8128dc4dc5e29": {
      "model_module": "@jupyter-widgets/controls",
      "model_module_version": "1.5.0",
      "model_name": "FloatProgressModel",
      "state": {
       "description": "val loss: 4.5555: 100%",
       "layout": "IPY_MODEL_7c3768a9f8f945f7be1a6ca64e983075",
       "max": 157,
       "style": "IPY_MODEL_a2a5a4419eaf461f8daf9d3820eb87f1",
       "value": 157
      }
     },
     "39abf0dcb95b40f0a7e3d337d6f6c856": {
      "model_module": "@jupyter-widgets/controls",
      "model_module_version": "1.5.0",
      "model_name": "ProgressStyleModel",
      "state": {
       "description_width": "initial"
      }
     },
     "39bd82e41de9468fa95d3d92d3986da6": {
      "model_module": "@jupyter-widgets/controls",
      "model_module_version": "1.5.0",
      "model_name": "ProgressStyleModel",
      "state": {
       "description_width": "initial"
      }
     },
     "39dfe7bee5a84e8a8c72a5cd47cb786d": {
      "model_module": "@jupyter-widgets/controls",
      "model_module_version": "1.5.0",
      "model_name": "DescriptionStyleModel",
      "state": {
       "description_width": ""
      }
     },
     "39e24bea3e8c437295e5f3582661f50a": {
      "model_module": "@jupyter-widgets/base",
      "model_module_version": "1.2.0",
      "model_name": "LayoutModel",
      "state": {}
     },
     "39e5c5bf7893422296e4ba75f8fcbb72": {
      "model_module": "@jupyter-widgets/base",
      "model_module_version": "1.2.0",
      "model_name": "LayoutModel",
      "state": {}
     },
     "39ed6fdddfb24a79a9902ebb7f675237": {
      "model_module": "@jupyter-widgets/base",
      "model_module_version": "1.2.0",
      "model_name": "LayoutModel",
      "state": {}
     },
     "39f56d9f428e4f70aa3fbe3cb28a0048": {
      "model_module": "@jupyter-widgets/controls",
      "model_module_version": "1.5.0",
      "model_name": "HBoxModel",
      "state": {
       "children": [
        "IPY_MODEL_e44e91f796cc4af38c8b5c142ea607e5",
        "IPY_MODEL_7cb7357368d745e18601e4ba38aa092e"
       ],
       "layout": "IPY_MODEL_56268ea25ac14d86ba8108b94d0889be"
      }
     },
     "3a0ee2e3aba84588b1d8dbacbd5eea14": {
      "model_module": "@jupyter-widgets/base",
      "model_module_version": "1.2.0",
      "model_name": "LayoutModel",
      "state": {}
     },
     "3a13857db8fc42ad849f6bd96c513e12": {
      "model_module": "@jupyter-widgets/controls",
      "model_module_version": "1.5.0",
      "model_name": "ProgressStyleModel",
      "state": {
       "description_width": "initial"
      }
     },
     "3a174f03218d428497a84a6476cd9e96": {
      "model_module": "@jupyter-widgets/base",
      "model_module_version": "1.2.0",
      "model_name": "LayoutModel",
      "state": {}
     },
     "3a227319e87c4940924bbb908d4c1d90": {
      "model_module": "@jupyter-widgets/controls",
      "model_module_version": "1.5.0",
      "model_name": "HTMLModel",
      "state": {
       "layout": "IPY_MODEL_9b700ed1a9c44cd7996dfd7b5f777d85",
       "style": "IPY_MODEL_d4b306e0371f4e0fb890d767ce54bb86",
       "value": " 1563/1563 [04:59&lt;00:00,  5.99it/s]"
      }
     },
     "3a36948ec9294dafb030d13088e64309": {
      "model_module": "@jupyter-widgets/base",
      "model_module_version": "1.2.0",
      "model_name": "LayoutModel",
      "state": {}
     },
     "3a39fc34eafa4c5e85c652f295c9fb58": {
      "model_module": "@jupyter-widgets/controls",
      "model_module_version": "1.5.0",
      "model_name": "HTMLModel",
      "state": {
       "layout": "IPY_MODEL_6b89dac965e14ff3899f1cec07e406e4",
       "style": "IPY_MODEL_0d53166adadf4cb7b9435b0825abe3e1",
       "value": " 1563/1563 [02:32&lt;00:00, 11.06it/s]"
      }
     },
     "3a3ca51923714a209dfdc1bfd28473d9": {
      "model_module": "@jupyter-widgets/controls",
      "model_module_version": "1.5.0",
      "model_name": "FloatProgressModel",
      "state": {
       "description": "val loss: 3.7597: 100%",
       "layout": "IPY_MODEL_993e7ef5296a4115a41348f28c8b74df",
       "max": 157,
       "style": "IPY_MODEL_fba941ac78bd4041bc3107c129a73830",
       "value": 157
      }
     },
     "3a42f9c0b22c4ed6aca843b1fc3855a2": {
      "model_module": "@jupyter-widgets/controls",
      "model_module_version": "1.5.0",
      "model_name": "FloatProgressModel",
      "state": {
       "description": "train loss: 3.5240: 100%",
       "layout": "IPY_MODEL_e6efa0526d0d4451b7ff25e867073201",
       "max": 1563,
       "style": "IPY_MODEL_a3f92fa7d3804dfdbf88edb6b560cbf2",
       "value": 1563
      }
     },
     "3a4dc9bc92c74a28bd98bdfdae2f60cf": {
      "model_module": "@jupyter-widgets/base",
      "model_module_version": "1.2.0",
      "model_name": "LayoutModel",
      "state": {}
     },
     "3a5bdf5b53604d2ba98a9f102263d929": {
      "model_module": "@jupyter-widgets/controls",
      "model_module_version": "1.5.0",
      "model_name": "DescriptionStyleModel",
      "state": {
       "description_width": ""
      }
     },
     "3a6189df1ee0478bbaa632f9a080e123": {
      "model_module": "@jupyter-widgets/controls",
      "model_module_version": "1.5.0",
      "model_name": "FloatProgressModel",
      "state": {
       "description": "val loss: 4.5161: 100%",
       "layout": "IPY_MODEL_47f5fbb0651c4e99a835bd3265371840",
       "max": 157,
       "style": "IPY_MODEL_a3f3b5526b8449d295ed7d5edd7ac5f0",
       "value": 157
      }
     },
     "3a68fe142361422c8b6d1c7019e1760d": {
      "model_module": "@jupyter-widgets/base",
      "model_module_version": "1.2.0",
      "model_name": "LayoutModel",
      "state": {}
     },
     "3a8c97e8e19b449794558a902695befa": {
      "model_module": "@jupyter-widgets/controls",
      "model_module_version": "1.5.0",
      "model_name": "DescriptionStyleModel",
      "state": {
       "description_width": ""
      }
     },
     "3a924e7418e44245a24fe37ff62259d0": {
      "model_module": "@jupyter-widgets/controls",
      "model_module_version": "1.5.0",
      "model_name": "HTMLModel",
      "state": {
       "layout": "IPY_MODEL_4a01ac8e78b2418eb54d0c98d614000f",
       "style": "IPY_MODEL_2a5caaaf97df489e855f8f1220b935ee",
       "value": " 1563/1563 [04:52&lt;00:00,  6.01it/s]"
      }
     },
     "3aa21fc2105f47edb6ef5a1ff1ff42e3": {
      "model_module": "@jupyter-widgets/controls",
      "model_module_version": "1.5.0",
      "model_name": "FloatProgressModel",
      "state": {
       "description": "val loss: 2.9336: 100%",
       "layout": "IPY_MODEL_31fde615933d4deebf36e320c46319a6",
       "max": 157,
       "style": "IPY_MODEL_731cd4372b9d47baa683415417a08c64",
       "value": 157
      }
     },
     "3aa932a1252d45c9ba72c2a98e3849ef": {
      "model_module": "@jupyter-widgets/base",
      "model_module_version": "1.2.0",
      "model_name": "LayoutModel",
      "state": {}
     },
     "3ad3f426a9ea4ca0ac698593a86b6dbc": {
      "model_module": "@jupyter-widgets/controls",
      "model_module_version": "1.5.0",
      "model_name": "DescriptionStyleModel",
      "state": {
       "description_width": ""
      }
     },
     "3afb2c9991474d3da7bada01390bb9c3": {
      "model_module": "@jupyter-widgets/controls",
      "model_module_version": "1.5.0",
      "model_name": "FloatProgressModel",
      "state": {
       "description": "train loss: 4.3322: 100%",
       "layout": "IPY_MODEL_434c285cae834c8b8ef0675d45f27f45",
       "max": 1563,
       "style": "IPY_MODEL_5029fff295854ccf93f96a2b753a5220",
       "value": 1563
      }
     },
     "3b0849270eaf44338222f341b471cc24": {
      "model_module": "@jupyter-widgets/base",
      "model_module_version": "1.2.0",
      "model_name": "LayoutModel",
      "state": {}
     },
     "3b0983728aa844188ad119632ed2c7e4": {
      "model_module": "@jupyter-widgets/base",
      "model_module_version": "1.2.0",
      "model_name": "LayoutModel",
      "state": {}
     },
     "3b16a84174d94d4a8954684c0779bb65": {
      "model_module": "@jupyter-widgets/base",
      "model_module_version": "1.2.0",
      "model_name": "LayoutModel",
      "state": {}
     },
     "3b20ca7ab766438fb95171a376088fad": {
      "model_module": "@jupyter-widgets/base",
      "model_module_version": "1.2.0",
      "model_name": "LayoutModel",
      "state": {}
     },
     "3b34cc3d0eb94fe2b1d055109c76695f": {
      "model_module": "@jupyter-widgets/base",
      "model_module_version": "1.2.0",
      "model_name": "LayoutModel",
      "state": {}
     },
     "3b362817d8bf4a6f8d0fa262e6d7c442": {
      "model_module": "@jupyter-widgets/controls",
      "model_module_version": "1.5.0",
      "model_name": "HTMLModel",
      "state": {
       "layout": "IPY_MODEL_7dfdbcf1a4d14aab810b9ac0f586cd76",
       "style": "IPY_MODEL_ee409e1a31bd4098bad94327018a9a04",
       "value": " 1563/1563 [03:46&lt;00:00,  6.72it/s]"
      }
     },
     "3b66800250e24ffe8529f124dba91d2e": {
      "model_module": "@jupyter-widgets/base",
      "model_module_version": "1.2.0",
      "model_name": "LayoutModel",
      "state": {}
     },
     "3b73d36e129d465dbab741d9c1c2e66c": {
      "model_module": "@jupyter-widgets/controls",
      "model_module_version": "1.5.0",
      "model_name": "HTMLModel",
      "state": {
       "layout": "IPY_MODEL_9dc0e6389e7d477a97e0c3deccefd114",
       "style": "IPY_MODEL_3c07ae679dd64bf8a58a811dd89a529a",
       "value": " 1563/1563 [02:34&lt;00:00,  9.98it/s]"
      }
     },
     "3b77367b3e424f13be98ef7e79231c51": {
      "model_module": "@jupyter-widgets/controls",
      "model_module_version": "1.5.0",
      "model_name": "ProgressStyleModel",
      "state": {
       "description_width": "initial"
      }
     },
     "3b7869e6bc294925a30b3cb4e4396993": {
      "model_module": "@jupyter-widgets/controls",
      "model_module_version": "1.5.0",
      "model_name": "HTMLModel",
      "state": {
       "layout": "IPY_MODEL_efd1d6bad3b24a778bdd5f322b469d7c",
       "style": "IPY_MODEL_73eae5f175944eec9363cb08f9aff7f1",
       "value": " 157/157 [00:14&lt;00:00, 11.90it/s]"
      }
     },
     "3bdb3ab9b78f431183a5a9bf16992349": {
      "model_module": "@jupyter-widgets/controls",
      "model_module_version": "1.5.0",
      "model_name": "ProgressStyleModel",
      "state": {
       "description_width": "initial"
      }
     },
     "3c07ae679dd64bf8a58a811dd89a529a": {
      "model_module": "@jupyter-widgets/controls",
      "model_module_version": "1.5.0",
      "model_name": "DescriptionStyleModel",
      "state": {
       "description_width": ""
      }
     },
     "3c234604fc9749ae8bab63c07f7bdc95": {
      "model_module": "@jupyter-widgets/base",
      "model_module_version": "1.2.0",
      "model_name": "LayoutModel",
      "state": {}
     },
     "3c2d0c8456d74219b697ce643a76e823": {
      "model_module": "@jupyter-widgets/base",
      "model_module_version": "1.2.0",
      "model_name": "LayoutModel",
      "state": {}
     },
     "3c554bb6d08d40488902c327d24ebe3e": {
      "model_module": "@jupyter-widgets/base",
      "model_module_version": "1.2.0",
      "model_name": "LayoutModel",
      "state": {}
     },
     "3c91a35a089b46bfabd80720671f83a4": {
      "model_module": "@jupyter-widgets/controls",
      "model_module_version": "1.5.0",
      "model_name": "DescriptionStyleModel",
      "state": {
       "description_width": ""
      }
     },
     "3cd0aee0845a422ab8f89d369dd94bc3": {
      "model_module": "@jupyter-widgets/base",
      "model_module_version": "1.2.0",
      "model_name": "LayoutModel",
      "state": {}
     },
     "3cdbf0fc03d54060a9a2cc503bb706dd": {
      "model_module": "@jupyter-widgets/base",
      "model_module_version": "1.2.0",
      "model_name": "LayoutModel",
      "state": {}
     },
     "3ce35c7ac0e34d1f8fac204d198c3e21": {
      "model_module": "@jupyter-widgets/base",
      "model_module_version": "1.2.0",
      "model_name": "LayoutModel",
      "state": {}
     },
     "3d62a58cba274fa1951db0dbe9645057": {
      "model_module": "@jupyter-widgets/controls",
      "model_module_version": "1.5.0",
      "model_name": "HTMLModel",
      "state": {
       "layout": "IPY_MODEL_8a6cade9b56846f79267b1bf699ac8bb",
       "style": "IPY_MODEL_39dfe7bee5a84e8a8c72a5cd47cb786d",
       "value": " 1563/1563 [05:31&lt;00:00,  5.43it/s]"
      }
     },
     "3d6310b2b75f4828bd070581765c537c": {
      "model_module": "@jupyter-widgets/base",
      "model_module_version": "1.2.0",
      "model_name": "LayoutModel",
      "state": {}
     },
     "3d7f6bcfd2ef4e17becb3565f576a64b": {
      "model_module": "@jupyter-widgets/controls",
      "model_module_version": "1.5.0",
      "model_name": "DescriptionStyleModel",
      "state": {
       "description_width": ""
      }
     },
     "3d9e435681ca43b39c1a220cf46404e0": {
      "model_module": "@jupyter-widgets/controls",
      "model_module_version": "1.5.0",
      "model_name": "FloatProgressModel",
      "state": {
       "description": "val loss: 3.1146: 100%",
       "layout": "IPY_MODEL_f1a19a7607244b56844634ee1ff08b2c",
       "max": 157,
       "style": "IPY_MODEL_9103a39434ad44d48e2cc8e9c9fa0018",
       "value": 157
      }
     },
     "3dc12bdc7158411f963abbd74fc1c9d0": {
      "model_module": "@jupyter-widgets/controls",
      "model_module_version": "1.5.0",
      "model_name": "DescriptionStyleModel",
      "state": {
       "description_width": ""
      }
     },
     "3dc340bf723945899c0307228d2ce5b8": {
      "model_module": "@jupyter-widgets/controls",
      "model_module_version": "1.5.0",
      "model_name": "ProgressStyleModel",
      "state": {
       "description_width": "initial"
      }
     },
     "3dc47b4a30b046c8a513175eda2a4b77": {
      "model_module": "@jupyter-widgets/controls",
      "model_module_version": "1.5.0",
      "model_name": "FloatProgressModel",
      "state": {
       "description": "val loss: 4.4676: 100%",
       "layout": "IPY_MODEL_6ba7be8fa6254032a8d65c27ed688d58",
       "max": 157,
       "style": "IPY_MODEL_99c8c210d32d465d9c4b2f8301c13b1b",
       "value": 157
      }
     },
     "3dcac98551884a2bb5f06b12222f351d": {
      "model_module": "@jupyter-widgets/controls",
      "model_module_version": "1.5.0",
      "model_name": "DescriptionStyleModel",
      "state": {
       "description_width": ""
      }
     },
     "3debcc8c8041485da7954782eef38b83": {
      "model_module": "@jupyter-widgets/controls",
      "model_module_version": "1.5.0",
      "model_name": "ProgressStyleModel",
      "state": {
       "description_width": "initial"
      }
     },
     "3dfb83ce3f0942429ae137b223862389": {
      "model_module": "@jupyter-widgets/controls",
      "model_module_version": "1.5.0",
      "model_name": "ProgressStyleModel",
      "state": {
       "description_width": "initial"
      }
     },
     "3e089ef6025e488283e73260f271a890": {
      "model_module": "@jupyter-widgets/controls",
      "model_module_version": "1.5.0",
      "model_name": "ProgressStyleModel",
      "state": {
       "description_width": "initial"
      }
     },
     "3e4470cb81e644e180edb8c6cca41ea1": {
      "model_module": "@jupyter-widgets/controls",
      "model_module_version": "1.5.0",
      "model_name": "HTMLModel",
      "state": {
       "layout": "IPY_MODEL_a00f206c663f41f8b6a551dd7f667da4",
       "style": "IPY_MODEL_2e0a26cee0aa40e89394495ea94e0dbd",
       "value": " 157/157 [00:10&lt;00:00, 15.67it/s]"
      }
     },
     "3e6fe3f66d234744b5bfe87bee0bbb17": {
      "model_module": "@jupyter-widgets/base",
      "model_module_version": "1.2.0",
      "model_name": "LayoutModel",
      "state": {}
     },
     "3e8819f1d26446f0adfc3ab7d5d6ed1b": {
      "model_module": "@jupyter-widgets/base",
      "model_module_version": "1.2.0",
      "model_name": "LayoutModel",
      "state": {}
     },
     "3e894fe56bea4cbea4f0832ae1aa8389": {
      "model_module": "@jupyter-widgets/base",
      "model_module_version": "1.2.0",
      "model_name": "LayoutModel",
      "state": {}
     },
     "3ea36dd77b8047a8b9779ad69ee0439b": {
      "model_module": "@jupyter-widgets/base",
      "model_module_version": "1.2.0",
      "model_name": "LayoutModel",
      "state": {}
     },
     "3f1d4ea77ed94815bc8b009afe131899": {
      "model_module": "@jupyter-widgets/controls",
      "model_module_version": "1.5.0",
      "model_name": "DescriptionStyleModel",
      "state": {
       "description_width": ""
      }
     },
     "3f2125abca4443c397294946071a30de": {
      "model_module": "@jupyter-widgets/controls",
      "model_module_version": "1.5.0",
      "model_name": "ProgressStyleModel",
      "state": {
       "description_width": "initial"
      }
     },
     "3f3906c0d1a6462f95f9f67fe247d011": {
      "model_module": "@jupyter-widgets/controls",
      "model_module_version": "1.5.0",
      "model_name": "HTMLModel",
      "state": {
       "layout": "IPY_MODEL_9709cc6750d74e11ad6b9ab2ecad7cc3",
       "style": "IPY_MODEL_e078062d08ae4ee7b75301ec368d048c",
       "value": " 157/157 [00:09&lt;00:00, 15.69it/s]"
      }
     },
     "3f5279a8bd2c46d09a7b6fb13ebbf11b": {
      "model_module": "@jupyter-widgets/controls",
      "model_module_version": "1.5.0",
      "model_name": "DescriptionStyleModel",
      "state": {
       "description_width": ""
      }
     },
     "3f70c4e4bce94ee3aab005837a9f9157": {
      "model_module": "@jupyter-widgets/controls",
      "model_module_version": "1.5.0",
      "model_name": "DescriptionStyleModel",
      "state": {
       "description_width": ""
      }
     },
     "3f9617f0127f458082fe1a88de036673": {
      "model_module": "@jupyter-widgets/base",
      "model_module_version": "1.2.0",
      "model_name": "LayoutModel",
      "state": {}
     },
     "3fcb5b4f69db4d5aa34d343bc52f0a89": {
      "model_module": "@jupyter-widgets/base",
      "model_module_version": "1.2.0",
      "model_name": "LayoutModel",
      "state": {}
     },
     "3fe70836802641ea97a9f67998f2563b": {
      "model_module": "@jupyter-widgets/controls",
      "model_module_version": "1.5.0",
      "model_name": "ProgressStyleModel",
      "state": {
       "description_width": "initial"
      }
     },
     "4003019771d04c6c89ac68cabf25317a": {
      "model_module": "@jupyter-widgets/controls",
      "model_module_version": "1.5.0",
      "model_name": "DescriptionStyleModel",
      "state": {
       "description_width": ""
      }
     },
     "4011be46e0b745f39eceb4f5c70412de": {
      "model_module": "@jupyter-widgets/controls",
      "model_module_version": "1.5.0",
      "model_name": "HTMLModel",
      "state": {
       "layout": "IPY_MODEL_73b15c3acd964a9e8e48a358f71b802f",
       "style": "IPY_MODEL_468de2282cc1400c82a5c0c5da300edb",
       "value": " 1563/1563 [03:46&lt;00:00,  6.94it/s]"
      }
     },
     "4017e4b21c2149e28ac5c107ac921e93": {
      "model_module": "@jupyter-widgets/base",
      "model_module_version": "1.2.0",
      "model_name": "LayoutModel",
      "state": {}
     },
     "4021664cabb14b2cbfaa075b2a2f32bf": {
      "model_module": "@jupyter-widgets/controls",
      "model_module_version": "1.5.0",
      "model_name": "FloatProgressModel",
      "state": {
       "description": "train loss: 3.2299: 100%",
       "layout": "IPY_MODEL_4793930cda554713b55977bcc0b1fdf6",
       "max": 1563,
       "style": "IPY_MODEL_6e962f28a8db4030a1e07bb96a115d0b",
       "value": 1563
      }
     },
     "40742c14713a4806b723db52255a2d35": {
      "model_module": "@jupyter-widgets/controls",
      "model_module_version": "1.5.0",
      "model_name": "DescriptionStyleModel",
      "state": {
       "description_width": ""
      }
     },
     "4088638e897649b08b29f1273035cc58": {
      "model_module": "@jupyter-widgets/base",
      "model_module_version": "1.2.0",
      "model_name": "LayoutModel",
      "state": {}
     },
     "4095fee1d4624346836d79e285c8a35b": {
      "model_module": "@jupyter-widgets/base",
      "model_module_version": "1.2.0",
      "model_name": "LayoutModel",
      "state": {}
     },
     "40a42c5a55eb4780913a1fe001be92a6": {
      "model_module": "@jupyter-widgets/controls",
      "model_module_version": "1.5.0",
      "model_name": "FloatProgressModel",
      "state": {
       "description": "val loss: 3.3798: 100%",
       "layout": "IPY_MODEL_539908f96bd348fd8d8c9ab416c379e9",
       "max": 157,
       "style": "IPY_MODEL_d503f1c73d9b48dfa2a8ef19f123f064",
       "value": 157
      }
     },
     "40ae91e7c0254f0b88e20ee79f3510e9": {
      "model_module": "@jupyter-widgets/controls",
      "model_module_version": "1.5.0",
      "model_name": "ProgressStyleModel",
      "state": {
       "description_width": "initial"
      }
     },
     "40bc2a4702b24adebb51450f1b3daabf": {
      "model_module": "@jupyter-widgets/base",
      "model_module_version": "1.2.0",
      "model_name": "LayoutModel",
      "state": {}
     },
     "40cafb01be0640fc870a6a32ea7e3f9a": {
      "model_module": "@jupyter-widgets/base",
      "model_module_version": "1.2.0",
      "model_name": "LayoutModel",
      "state": {}
     },
     "40ed2fdfeff44d85ae2a2e04f9a2a23e": {
      "model_module": "@jupyter-widgets/controls",
      "model_module_version": "1.5.0",
      "model_name": "FloatProgressModel",
      "state": {
       "description": "val loss: 4.2393: 100%",
       "layout": "IPY_MODEL_a14efb87c9c84574819da4da2bd6ad68",
       "max": 157,
       "style": "IPY_MODEL_b613cef7f13849bc8ab9fd336920ac16",
       "value": 157
      }
     },
     "40ef8abd4edc45feb78c1e546ae1e6fd": {
      "model_module": "@jupyter-widgets/base",
      "model_module_version": "1.2.0",
      "model_name": "LayoutModel",
      "state": {}
     },
     "41236b3534be4f6e9f786e21ab8efb78": {
      "model_module": "@jupyter-widgets/base",
      "model_module_version": "1.2.0",
      "model_name": "LayoutModel",
      "state": {}
     },
     "412f8cfca1b944da9fe7c547caf9c2e5": {
      "model_module": "@jupyter-widgets/base",
      "model_module_version": "1.2.0",
      "model_name": "LayoutModel",
      "state": {}
     },
     "415262d1bfbb4f0fa052395ee9cf377a": {
      "model_module": "@jupyter-widgets/base",
      "model_module_version": "1.2.0",
      "model_name": "LayoutModel",
      "state": {}
     },
     "4157b6f5b96d423a8d777d29f162410f": {
      "model_module": "@jupyter-widgets/controls",
      "model_module_version": "1.5.0",
      "model_name": "HTMLModel",
      "state": {
       "layout": "IPY_MODEL_88434df1b16444e49b56b1e78f9294b0",
       "style": "IPY_MODEL_2e6f753c51b845d484cfeddd7690ba54",
       "value": " 1563/1563 [02:34&lt;00:00, 10.84it/s]"
      }
     },
     "417eb5f8c45a4eddaf65d33915dae6ca": {
      "model_module": "@jupyter-widgets/controls",
      "model_module_version": "1.5.0",
      "model_name": "FloatProgressModel",
      "state": {
       "description": "train loss: 3.0507: 100%",
       "layout": "IPY_MODEL_e466e1824a194a4eb1a2c9b94222af50",
       "max": 1563,
       "style": "IPY_MODEL_b8a8777fe2d14abb90eb7c32b32b6327",
       "value": 1563
      }
     },
     "418fe938f07b4916b1f368f36c857840": {
      "model_module": "@jupyter-widgets/base",
      "model_module_version": "1.2.0",
      "model_name": "LayoutModel",
      "state": {}
     },
     "41cac1316b4f44bdb2e8df4328fb4ac0": {
      "model_module": "@jupyter-widgets/base",
      "model_module_version": "1.2.0",
      "model_name": "LayoutModel",
      "state": {}
     },
     "41ef868206a94e58a30a6f8f68bd2311": {
      "model_module": "@jupyter-widgets/base",
      "model_module_version": "1.2.0",
      "model_name": "LayoutModel",
      "state": {}
     },
     "4239a25e070648fabea64f53811f9c6b": {
      "model_module": "@jupyter-widgets/controls",
      "model_module_version": "1.5.0",
      "model_name": "HTMLModel",
      "state": {
       "layout": "IPY_MODEL_10f5d5861ed04a168517013b3b4e86fd",
       "style": "IPY_MODEL_d12c14dee1104737bf612bd6acfdaae2",
       "value": " 1563/1563 [05:33&lt;00:00,  5.60it/s]"
      }
     },
     "4245d42875a74821b23afb99c5593ef3": {
      "model_module": "@jupyter-widgets/controls",
      "model_module_version": "1.5.0",
      "model_name": "HTMLModel",
      "state": {
       "layout": "IPY_MODEL_f0e4597da849423daadd8be0f90892de",
       "style": "IPY_MODEL_12aeea21d760484a9caccd9f86581e89",
       "value": " 157/157 [00:09&lt;00:00, 15.69it/s]"
      }
     },
     "4278d7f993394426855cb25104823c9e": {
      "model_module": "@jupyter-widgets/controls",
      "model_module_version": "1.5.0",
      "model_name": "HTMLModel",
      "state": {
       "layout": "IPY_MODEL_bdd2d9651224435ab69f1a1118b7a03d",
       "style": "IPY_MODEL_cbcee18146a944579e535b98cedabcb1",
       "value": " 1563/1563 [02:35&lt;00:00, 10.43it/s]"
      }
     },
     "427a71483e184f01ab3b707715437955": {
      "model_module": "@jupyter-widgets/controls",
      "model_module_version": "1.5.0",
      "model_name": "FloatProgressModel",
      "state": {
       "description": "val loss: 3.4054: 100%",
       "layout": "IPY_MODEL_dfb5df2c05d548eeb11408ea3f0e6221",
       "max": 157,
       "style": "IPY_MODEL_451874e58b914c6383fa5f2e0d4a97b4",
       "value": 157
      }
     },
     "4282564ebf954e80a3ccb476fb6b81d8": {
      "model_module": "@jupyter-widgets/base",
      "model_module_version": "1.2.0",
      "model_name": "LayoutModel",
      "state": {}
     },
     "42a68f5d94e44f6793e65370706068b4": {
      "model_module": "@jupyter-widgets/base",
      "model_module_version": "1.2.0",
      "model_name": "LayoutModel",
      "state": {}
     },
     "42b20a41fb254281ae9cf00453e8812e": {
      "model_module": "@jupyter-widgets/base",
      "model_module_version": "1.2.0",
      "model_name": "LayoutModel",
      "state": {}
     },
     "42fd77ba70c94c38942d7863de783b64": {
      "model_module": "@jupyter-widgets/controls",
      "model_module_version": "1.5.0",
      "model_name": "ProgressStyleModel",
      "state": {
       "description_width": "initial"
      }
     },
     "43136ff96cf44d86b33ba087591d3036": {
      "model_module": "@jupyter-widgets/base",
      "model_module_version": "1.2.0",
      "model_name": "LayoutModel",
      "state": {}
     },
     "432980380382408a90d96268173045e8": {
      "model_module": "@jupyter-widgets/controls",
      "model_module_version": "1.5.0",
      "model_name": "HTMLModel",
      "state": {
       "layout": "IPY_MODEL_9dcf6b0d25e64e278ef99437be20c68a",
       "style": "IPY_MODEL_37227488264d4f539cccb6ee77342f90",
       "value": " 157/157 [00:10&lt;00:00, 15.35it/s]"
      }
     },
     "4339528e0bd14bb78d8950510f3b660a": {
      "model_module": "@jupyter-widgets/base",
      "model_module_version": "1.2.0",
      "model_name": "LayoutModel",
      "state": {}
     },
     "434c285cae834c8b8ef0675d45f27f45": {
      "model_module": "@jupyter-widgets/base",
      "model_module_version": "1.2.0",
      "model_name": "LayoutModel",
      "state": {}
     },
     "43690d4ce9404d8ab5e45135208ebf08": {
      "model_module": "@jupyter-widgets/controls",
      "model_module_version": "1.5.0",
      "model_name": "DescriptionStyleModel",
      "state": {
       "description_width": ""
      }
     },
     "437a33f26d524ce1ac9556df6100a0c6": {
      "model_module": "@jupyter-widgets/controls",
      "model_module_version": "1.5.0",
      "model_name": "ProgressStyleModel",
      "state": {
       "description_width": "initial"
      }
     },
     "438aa5ac53ac442bb5bb795222d68188": {
      "model_module": "@jupyter-widgets/base",
      "model_module_version": "1.2.0",
      "model_name": "LayoutModel",
      "state": {}
     },
     "43906f98e80d4e5bb66151302dc03443": {
      "model_module": "@jupyter-widgets/base",
      "model_module_version": "1.2.0",
      "model_name": "LayoutModel",
      "state": {}
     },
     "43953865968a47a5922aedd4ecac3c26": {
      "model_module": "@jupyter-widgets/controls",
      "model_module_version": "1.5.0",
      "model_name": "DescriptionStyleModel",
      "state": {
       "description_width": ""
      }
     },
     "43aeef9d7b9a4f1f82d2d7335bab38c5": {
      "model_module": "@jupyter-widgets/controls",
      "model_module_version": "1.5.0",
      "model_name": "ProgressStyleModel",
      "state": {
       "description_width": "initial"
      }
     },
     "43af14360af54377987a71e8208c4728": {
      "model_module": "@jupyter-widgets/controls",
      "model_module_version": "1.5.0",
      "model_name": "HBoxModel",
      "state": {
       "children": [
        "IPY_MODEL_011bac5b748d432c8bf7fa9176171f14",
        "IPY_MODEL_0823cc777f2c48bfa45cecac0a2d7ca0"
       ],
       "layout": "IPY_MODEL_e0dc00166a1c4a1f8b0e710b6f5d0d15"
      }
     },
     "43db99e3ce3f4945beddcc813336a792": {
      "model_module": "@jupyter-widgets/controls",
      "model_module_version": "1.5.0",
      "model_name": "DescriptionStyleModel",
      "state": {
       "description_width": ""
      }
     },
     "43e5aebcfc464357bab94b563c2f8d88": {
      "model_module": "@jupyter-widgets/controls",
      "model_module_version": "1.5.0",
      "model_name": "ProgressStyleModel",
      "state": {
       "description_width": "initial"
      }
     },
     "440baa18aa62477695939d8b14433b19": {
      "model_module": "@jupyter-widgets/base",
      "model_module_version": "1.2.0",
      "model_name": "LayoutModel",
      "state": {}
     },
     "441232044d7f4cf2b922f3b9a33dab0c": {
      "model_module": "@jupyter-widgets/base",
      "model_module_version": "1.2.0",
      "model_name": "LayoutModel",
      "state": {}
     },
     "4419312d4cbc4217a9e3ad187b711e40": {
      "model_module": "@jupyter-widgets/controls",
      "model_module_version": "1.5.0",
      "model_name": "ProgressStyleModel",
      "state": {
       "description_width": "initial"
      }
     },
     "4451467c671649ea8a77158af68f79b8": {
      "model_module": "@jupyter-widgets/base",
      "model_module_version": "1.2.0",
      "model_name": "LayoutModel",
      "state": {}
     },
     "4451b51398cb43f1adc3d2630e5e5459": {
      "model_module": "@jupyter-widgets/controls",
      "model_module_version": "1.5.0",
      "model_name": "HTMLModel",
      "state": {
       "layout": "IPY_MODEL_ddcbc9aad07a467fb548eeeb60fc35ec",
       "style": "IPY_MODEL_3191966504f9444eada4de4a67b322cf",
       "value": " 1563/1563 [05:00&lt;00:00,  5.94it/s]"
      }
     },
     "4451f242faa744c6b8df372a882319c2": {
      "model_module": "@jupyter-widgets/base",
      "model_module_version": "1.2.0",
      "model_name": "LayoutModel",
      "state": {}
     },
     "445effc0174c4a1f8b600d8db9ab1e59": {
      "model_module": "@jupyter-widgets/controls",
      "model_module_version": "1.5.0",
      "model_name": "DescriptionStyleModel",
      "state": {
       "description_width": ""
      }
     },
     "4460c79ef9d7430f9673ad9772f2e732": {
      "model_module": "@jupyter-widgets/controls",
      "model_module_version": "1.5.0",
      "model_name": "FloatProgressModel",
      "state": {
       "description": "train loss: 3.0436: 100%",
       "layout": "IPY_MODEL_2555b3d1386e4f6083bda201135287c1",
       "max": 1563,
       "style": "IPY_MODEL_1c73be507c574ce287a0a4140679b0d9",
       "value": 1563
      }
     },
     "446443412a044685ad39092b7bf3ab25": {
      "model_module": "@jupyter-widgets/controls",
      "model_module_version": "1.5.0",
      "model_name": "ProgressStyleModel",
      "state": {
       "description_width": "initial"
      }
     },
     "446f19c0d06341c99f58b4f1c19de127": {
      "model_module": "@jupyter-widgets/base",
      "model_module_version": "1.2.0",
      "model_name": "LayoutModel",
      "state": {}
     },
     "449b8e9a72904689b1bb8c7fd0bbd871": {
      "model_module": "@jupyter-widgets/base",
      "model_module_version": "1.2.0",
      "model_name": "LayoutModel",
      "state": {}
     },
     "44a7edef0a854d52b77c3c7024acdfda": {
      "model_module": "@jupyter-widgets/base",
      "model_module_version": "1.2.0",
      "model_name": "LayoutModel",
      "state": {}
     },
     "44af5eb6d14c4bdea0f651488f24689e": {
      "model_module": "@jupyter-widgets/controls",
      "model_module_version": "1.5.0",
      "model_name": "HTMLModel",
      "state": {
       "layout": "IPY_MODEL_adf6a2f6d1374a3db27b492f297bffa4",
       "style": "IPY_MODEL_7e2ea766b27b4ff4a4e2274a3890867c",
       "value": " 157/157 [00:09&lt;00:00, 16.40it/s]"
      }
     },
     "44ba6f4bdd284da7808e2b24459cf38b": {
      "model_module": "@jupyter-widgets/base",
      "model_module_version": "1.2.0",
      "model_name": "LayoutModel",
      "state": {}
     },
     "44bf03e6f638413ca41232fad6f457ae": {
      "model_module": "@jupyter-widgets/controls",
      "model_module_version": "1.5.0",
      "model_name": "HTMLModel",
      "state": {
       "layout": "IPY_MODEL_021f3dcb6fd0458c8b405f296c93810e",
       "style": "IPY_MODEL_bf877a44ee2b4574a239dd1581ce8286",
       "value": " 157/157 [00:09&lt;00:00, 16.30it/s]"
      }
     },
     "44e7044db3c94c95b253cba0c0959732": {
      "model_module": "@jupyter-widgets/base",
      "model_module_version": "1.2.0",
      "model_name": "LayoutModel",
      "state": {}
     },
     "44ef0ac0782a45b9acb6984c421732e0": {
      "model_module": "@jupyter-widgets/base",
      "model_module_version": "1.2.0",
      "model_name": "LayoutModel",
      "state": {}
     },
     "451874e58b914c6383fa5f2e0d4a97b4": {
      "model_module": "@jupyter-widgets/controls",
      "model_module_version": "1.5.0",
      "model_name": "ProgressStyleModel",
      "state": {
       "description_width": "initial"
      }
     },
     "451e0efa2c2043eb8b9349ebd1ed3cab": {
      "model_module": "@jupyter-widgets/controls",
      "model_module_version": "1.5.0",
      "model_name": "HTMLModel",
      "state": {
       "layout": "IPY_MODEL_e05d73aa2a57410d87de415476ea0540",
       "style": "IPY_MODEL_2dc657df66e84cd7a4f5dc505807dddf",
       "value": " 1563/1563 [02:34&lt;00:00, 10.30it/s]"
      }
     },
     "451fbcaee5e5481da9522cbd98a430e9": {
      "model_module": "@jupyter-widgets/base",
      "model_module_version": "1.2.0",
      "model_name": "LayoutModel",
      "state": {}
     },
     "45232e6fd7f24525b01db5c27a8b2ac4": {
      "model_module": "@jupyter-widgets/controls",
      "model_module_version": "1.5.0",
      "model_name": "ProgressStyleModel",
      "state": {
       "description_width": "initial"
      }
     },
     "4525c86b30c84f9a9ed7d451eff0c556": {
      "model_module": "@jupyter-widgets/base",
      "model_module_version": "1.2.0",
      "model_name": "LayoutModel",
      "state": {}
     },
     "453146e36e8249f193b8a684825eec8a": {
      "model_module": "@jupyter-widgets/base",
      "model_module_version": "1.2.0",
      "model_name": "LayoutModel",
      "state": {}
     },
     "4534162ad85040d09c2fe843ac9ef199": {
      "model_module": "@jupyter-widgets/base",
      "model_module_version": "1.2.0",
      "model_name": "LayoutModel",
      "state": {}
     },
     "453fe100cbe64f5b86a9e796461dce75": {
      "model_module": "@jupyter-widgets/controls",
      "model_module_version": "1.5.0",
      "model_name": "FloatProgressModel",
      "state": {
       "description": "train loss: 3.2077: 100%",
       "layout": "IPY_MODEL_abbb0d833bdd40ccb262829b8171a8cf",
       "max": 1563,
       "style": "IPY_MODEL_aea491edaa6d4fb0aedc887e677de823",
       "value": 1563
      }
     },
     "45613e4ab6e64f789dee5493997b47d5": {
      "model_module": "@jupyter-widgets/base",
      "model_module_version": "1.2.0",
      "model_name": "LayoutModel",
      "state": {}
     },
     "4562fdc382724315a0424ee8d90e7999": {
      "model_module": "@jupyter-widgets/controls",
      "model_module_version": "1.5.0",
      "model_name": "DescriptionStyleModel",
      "state": {
       "description_width": ""
      }
     },
     "4575c4a64e4a499a97c5532065a2070e": {
      "model_module": "@jupyter-widgets/base",
      "model_module_version": "1.2.0",
      "model_name": "LayoutModel",
      "state": {}
     },
     "458b781c010b47d681b00abdb07b9873": {
      "model_module": "@jupyter-widgets/controls",
      "model_module_version": "1.5.0",
      "model_name": "ProgressStyleModel",
      "state": {
       "description_width": "initial"
      }
     },
     "458fa85d2b604c699c2a548e260b518b": {
      "model_module": "@jupyter-widgets/controls",
      "model_module_version": "1.5.0",
      "model_name": "ProgressStyleModel",
      "state": {
       "description_width": "initial"
      }
     },
     "45b7d1077e814c4f94ac60eb9640ed53": {
      "model_module": "@jupyter-widgets/base",
      "model_module_version": "1.2.0",
      "model_name": "LayoutModel",
      "state": {}
     },
     "45c5727399cb475ab43bfac44acd02f9": {
      "model_module": "@jupyter-widgets/controls",
      "model_module_version": "1.5.0",
      "model_name": "ProgressStyleModel",
      "state": {
       "description_width": "initial"
      }
     },
     "45ccd644630d4d8b8c75fdbdcb221c47": {
      "model_module": "@jupyter-widgets/controls",
      "model_module_version": "1.5.0",
      "model_name": "ProgressStyleModel",
      "state": {
       "description_width": "initial"
      }
     },
     "45d3fd14f11346c9872c098ae3568a4e": {
      "model_module": "@jupyter-widgets/controls",
      "model_module_version": "1.5.0",
      "model_name": "DescriptionStyleModel",
      "state": {
       "description_width": ""
      }
     },
     "45dc1b3a5c864018a5e2f91cf9e16289": {
      "model_module": "@jupyter-widgets/base",
      "model_module_version": "1.2.0",
      "model_name": "LayoutModel",
      "state": {}
     },
     "4610ae83815647e69f20323ec64d64ca": {
      "model_module": "@jupyter-widgets/base",
      "model_module_version": "1.2.0",
      "model_name": "LayoutModel",
      "state": {}
     },
     "4611402a674d494685f89a3160c9f12b": {
      "model_module": "@jupyter-widgets/controls",
      "model_module_version": "1.5.0",
      "model_name": "ProgressStyleModel",
      "state": {
       "description_width": "initial"
      }
     },
     "4636ab43352748e3b0fae61195ee68a6": {
      "model_module": "@jupyter-widgets/controls",
      "model_module_version": "1.5.0",
      "model_name": "FloatProgressModel",
      "state": {
       "bar_style": "danger",
       "description": "train loss: 3.0952:   2%",
       "layout": "IPY_MODEL_3aa932a1252d45c9ba72c2a98e3849ef",
       "max": 1563,
       "style": "IPY_MODEL_e75121532e324ff784e179093612aea6",
       "value": 24
      }
     },
     "463e6c199b5f4ca9bbc5976d5b973adf": {
      "model_module": "@jupyter-widgets/base",
      "model_module_version": "1.2.0",
      "model_name": "LayoutModel",
      "state": {}
     },
     "4647ef0dbd6745238400d451e8ff2738": {
      "model_module": "@jupyter-widgets/controls",
      "model_module_version": "1.5.0",
      "model_name": "ProgressStyleModel",
      "state": {
       "description_width": "initial"
      }
     },
     "464a6d13eaee467f9afb7d59df113306": {
      "model_module": "@jupyter-widgets/base",
      "model_module_version": "1.2.0",
      "model_name": "LayoutModel",
      "state": {}
     },
     "464ebe6772214c0d8adbebd3371a0176": {
      "model_module": "@jupyter-widgets/base",
      "model_module_version": "1.2.0",
      "model_name": "LayoutModel",
      "state": {}
     },
     "46561102e8044e97ad13731fe5f2b05d": {
      "model_module": "@jupyter-widgets/base",
      "model_module_version": "1.2.0",
      "model_name": "LayoutModel",
      "state": {}
     },
     "465a0b24f0134989aaf28b99a4a9c6d9": {
      "model_module": "@jupyter-widgets/base",
      "model_module_version": "1.2.0",
      "model_name": "LayoutModel",
      "state": {}
     },
     "4660edd31df8412db2c2b809c051e3ac": {
      "model_module": "@jupyter-widgets/controls",
      "model_module_version": "1.5.0",
      "model_name": "HBoxModel",
      "state": {
       "children": [
        "IPY_MODEL_c5c903ccc89b461ba48a242ed95b5ca0",
        "IPY_MODEL_7f5fe179f7204dcbb86e75c52f8399d0"
       ],
       "layout": "IPY_MODEL_94a7311c1993492fb1ea8e4faeb39511"
      }
     },
     "4660f6fa20b54374b5ef2cff3615a67c": {
      "model_module": "@jupyter-widgets/base",
      "model_module_version": "1.2.0",
      "model_name": "LayoutModel",
      "state": {}
     },
     "4678a25a327743019725b26155ede2ed": {
      "model_module": "@jupyter-widgets/base",
      "model_module_version": "1.2.0",
      "model_name": "LayoutModel",
      "state": {}
     },
     "468de2282cc1400c82a5c0c5da300edb": {
      "model_module": "@jupyter-widgets/controls",
      "model_module_version": "1.5.0",
      "model_name": "DescriptionStyleModel",
      "state": {
       "description_width": ""
      }
     },
     "46b101420b9d4502a952b21591c4f1ee": {
      "model_module": "@jupyter-widgets/controls",
      "model_module_version": "1.5.0",
      "model_name": "DescriptionStyleModel",
      "state": {
       "description_width": ""
      }
     },
     "46b481abca28441591fbd15331ceb76e": {
      "model_module": "@jupyter-widgets/base",
      "model_module_version": "1.2.0",
      "model_name": "LayoutModel",
      "state": {}
     },
     "46e7a974908b43a3bfb7d34a68cca0ac": {
      "model_module": "@jupyter-widgets/base",
      "model_module_version": "1.2.0",
      "model_name": "LayoutModel",
      "state": {}
     },
     "470d1ac486c54f7893053478ce8abeae": {
      "model_module": "@jupyter-widgets/controls",
      "model_module_version": "1.5.0",
      "model_name": "FloatProgressModel",
      "state": {
       "description": "train loss: 3.3543: 100%",
       "layout": "IPY_MODEL_5d0b203691ae42b9a20b0ad40ea56199",
       "max": 1563,
       "style": "IPY_MODEL_67587fd4c46a43fcaea80f54f0c55a8d",
       "value": 1563
      }
     },
     "470f8c07e3824c1583d9f81d51ec1247": {
      "model_module": "@jupyter-widgets/controls",
      "model_module_version": "1.5.0",
      "model_name": "HTMLModel",
      "state": {
       "layout": "IPY_MODEL_89e61ae1f8d54e1b9a4fc3c0015e08f7",
       "style": "IPY_MODEL_79693df146dd4627b47a3449cef9f058",
       "value": " 157/157 [00:14&lt;00:00, 11.81it/s]"
      }
     },
     "47107ead8ce143bca53d1ebf11bee93c": {
      "model_module": "@jupyter-widgets/base",
      "model_module_version": "1.2.0",
      "model_name": "LayoutModel",
      "state": {}
     },
     "472f9d3ae4fa4253a2ea3f9021884422": {
      "model_module": "@jupyter-widgets/base",
      "model_module_version": "1.2.0",
      "model_name": "LayoutModel",
      "state": {}
     },
     "4793930cda554713b55977bcc0b1fdf6": {
      "model_module": "@jupyter-widgets/base",
      "model_module_version": "1.2.0",
      "model_name": "LayoutModel",
      "state": {}
     },
     "47b7c19d7c5b4d3782df3dc58b781378": {
      "model_module": "@jupyter-widgets/controls",
      "model_module_version": "1.5.0",
      "model_name": "ProgressStyleModel",
      "state": {
       "description_width": "initial"
      }
     },
     "47c93ef9b3a34688869dc8870fc6b790": {
      "model_module": "@jupyter-widgets/controls",
      "model_module_version": "1.5.0",
      "model_name": "ProgressStyleModel",
      "state": {
       "description_width": "initial"
      }
     },
     "47f5fbb0651c4e99a835bd3265371840": {
      "model_module": "@jupyter-widgets/base",
      "model_module_version": "1.2.0",
      "model_name": "LayoutModel",
      "state": {}
     },
     "47ff298c6819411abb5cdf9e074732ed": {
      "model_module": "@jupyter-widgets/base",
      "model_module_version": "1.2.0",
      "model_name": "LayoutModel",
      "state": {}
     },
     "47ffb05b1dd34c599d4eee5e05c0c09f": {
      "model_module": "@jupyter-widgets/controls",
      "model_module_version": "1.5.0",
      "model_name": "HTMLModel",
      "state": {
       "layout": "IPY_MODEL_40cafb01be0640fc870a6a32ea7e3f9a",
       "style": "IPY_MODEL_711dd46274ea4ca48177b0a55bda49c5",
       "value": " 1563/1563 [05:02&lt;00:00,  5.93it/s]"
      }
     },
     "48068c1a72bb4dbda437c31c7db45f78": {
      "model_module": "@jupyter-widgets/controls",
      "model_module_version": "1.5.0",
      "model_name": "HTMLModel",
      "state": {
       "layout": "IPY_MODEL_bd64763131d74aa2b29a2f1f8a2605cf",
       "style": "IPY_MODEL_fb9bd8d4b5dd48d7bf942fb86b99d1f1",
       "value": " 157/157 [00:15&lt;00:00, 10.45it/s]"
      }
     },
     "480c4642fdef4307bcc331316f70800e": {
      "model_module": "@jupyter-widgets/controls",
      "model_module_version": "1.5.0",
      "model_name": "ProgressStyleModel",
      "state": {
       "description_width": "initial"
      }
     },
     "4827ce32161d4acf80f2049b18d39c80": {
      "model_module": "@jupyter-widgets/base",
      "model_module_version": "1.2.0",
      "model_name": "LayoutModel",
      "state": {}
     },
     "483abc31e7b440b6845135779cf42a7c": {
      "model_module": "@jupyter-widgets/base",
      "model_module_version": "1.2.0",
      "model_name": "LayoutModel",
      "state": {}
     },
     "483f64d8ae6249fbb911502386d38e4c": {
      "model_module": "@jupyter-widgets/base",
      "model_module_version": "1.2.0",
      "model_name": "LayoutModel",
      "state": {}
     },
     "4850b623d9ac4060909779f8653c74c4": {
      "model_module": "@jupyter-widgets/base",
      "model_module_version": "1.2.0",
      "model_name": "LayoutModel",
      "state": {}
     },
     "486386c409b6471f996282a14f618c80": {
      "model_module": "@jupyter-widgets/controls",
      "model_module_version": "1.5.0",
      "model_name": "HTMLModel",
      "state": {
       "layout": "IPY_MODEL_0571f45aad5d4f1bab497ab7b91bb8e2",
       "style": "IPY_MODEL_b1ca4e2b1ffb42a0992eadc190a9d88f",
       "value": " 1563/1563 [02:36&lt;00:00, 10.77it/s]"
      }
     },
     "4870ea049beb4276919d8f0910610bad": {
      "model_module": "@jupyter-widgets/base",
      "model_module_version": "1.2.0",
      "model_name": "LayoutModel",
      "state": {}
     },
     "487c660097d640afbd437a56533afb3e": {
      "model_module": "@jupyter-widgets/base",
      "model_module_version": "1.2.0",
      "model_name": "LayoutModel",
      "state": {}
     },
     "487d57be88e6472bb66ca5ac6176e4fe": {
      "model_module": "@jupyter-widgets/base",
      "model_module_version": "1.2.0",
      "model_name": "LayoutModel",
      "state": {}
     },
     "4886185cddca452bb4e45c623526fc9d": {
      "model_module": "@jupyter-widgets/base",
      "model_module_version": "1.2.0",
      "model_name": "LayoutModel",
      "state": {}
     },
     "488ce46a765f419da6758a5d09dc506b": {
      "model_module": "@jupyter-widgets/controls",
      "model_module_version": "1.5.0",
      "model_name": "DescriptionStyleModel",
      "state": {
       "description_width": ""
      }
     },
     "4897fb64a0634d1bac95539983be3089": {
      "model_module": "@jupyter-widgets/controls",
      "model_module_version": "1.5.0",
      "model_name": "ProgressStyleModel",
      "state": {
       "description_width": "initial"
      }
     },
     "489a380bc0dc45ed92d80b66db979753": {
      "model_module": "@jupyter-widgets/controls",
      "model_module_version": "1.5.0",
      "model_name": "DescriptionStyleModel",
      "state": {
       "description_width": ""
      }
     },
     "489f39d840ca42748874c1d247aaa993": {
      "model_module": "@jupyter-widgets/controls",
      "model_module_version": "1.5.0",
      "model_name": "HTMLModel",
      "state": {
       "layout": "IPY_MODEL_e281684f1166487eaef44f8f4ff88550",
       "style": "IPY_MODEL_d6c3473d7c0d47f2a144330e196f0e4d",
       "value": " 157/157 [00:10&lt;00:00, 15.50it/s]"
      }
     },
     "489fd42fa8a1487db2ccfa0263052538": {
      "model_module": "@jupyter-widgets/base",
      "model_module_version": "1.2.0",
      "model_name": "LayoutModel",
      "state": {}
     },
     "48f8986217fb495a86357dc145ea5b38": {
      "model_module": "@jupyter-widgets/controls",
      "model_module_version": "1.5.0",
      "model_name": "ProgressStyleModel",
      "state": {
       "description_width": "initial"
      }
     },
     "48ffb444ccbe4e26a57365dd7778846e": {
      "model_module": "@jupyter-widgets/controls",
      "model_module_version": "1.5.0",
      "model_name": "DescriptionStyleModel",
      "state": {
       "description_width": ""
      }
     },
     "491981c6c3024c9ea75180186d3b2d20": {
      "model_module": "@jupyter-widgets/controls",
      "model_module_version": "1.5.0",
      "model_name": "DescriptionStyleModel",
      "state": {
       "description_width": ""
      }
     },
     "491ccbb6837c45b1979dd09252a13fd9": {
      "model_module": "@jupyter-widgets/base",
      "model_module_version": "1.2.0",
      "model_name": "LayoutModel",
      "state": {}
     },
     "4933c57cb66a47879645ee70c9f24286": {
      "model_module": "@jupyter-widgets/controls",
      "model_module_version": "1.5.0",
      "model_name": "HTMLModel",
      "state": {
       "layout": "IPY_MODEL_3197f2ccc2cf4125af2f04158e6d4e94",
       "style": "IPY_MODEL_a2f7d80e0d5840a0b06e55f115df63b7",
       "value": " 3/10 [12:58&lt;27:48, 238.35s/it]"
      }
     },
     "493809f7cb8d42b695b8d6ca979ab536": {
      "model_module": "@jupyter-widgets/controls",
      "model_module_version": "1.5.0",
      "model_name": "DescriptionStyleModel",
      "state": {
       "description_width": ""
      }
     },
     "4969724fbe224e8b99c11ffec0fbb4af": {
      "model_module": "@jupyter-widgets/controls",
      "model_module_version": "1.5.0",
      "model_name": "DescriptionStyleModel",
      "state": {
       "description_width": ""
      }
     },
     "4973f5df19524b27a255f76c4e809c3f": {
      "model_module": "@jupyter-widgets/controls",
      "model_module_version": "1.5.0",
      "model_name": "HTMLModel",
      "state": {
       "layout": "IPY_MODEL_f78928cb5e1b4a66ae121fe95a44761d",
       "style": "IPY_MODEL_c40dbf9544b14977a0382fcf52987af9",
       "value": " 1563/1563 [02:31&lt;00:00, 11.04it/s]"
      }
     },
     "498935ad0ff745728e1b9c2a2159b55a": {
      "model_module": "@jupyter-widgets/controls",
      "model_module_version": "1.5.0",
      "model_name": "FloatProgressModel",
      "state": {
       "description": "val loss: 3.4846: 100%",
       "layout": "IPY_MODEL_4827ce32161d4acf80f2049b18d39c80",
       "max": 157,
       "style": "IPY_MODEL_5e41e4de4f7d4e74a8e0ec55c5d16ae8",
       "value": 157
      }
     },
     "49aa90f4828d463c9496ecef85f948ad": {
      "model_module": "@jupyter-widgets/controls",
      "model_module_version": "1.5.0",
      "model_name": "FloatProgressModel",
      "state": {
       "description": "train loss: 3.4137: 100%",
       "layout": "IPY_MODEL_3c2d0c8456d74219b697ce643a76e823",
       "max": 1563,
       "style": "IPY_MODEL_e61bbb5e710a49529da1597ab1bc3ecd",
       "value": 1563
      }
     },
     "49b357e26c814c7ca5ba8b511bebfa90": {
      "model_module": "@jupyter-widgets/base",
      "model_module_version": "1.2.0",
      "model_name": "LayoutModel",
      "state": {}
     },
     "49da32ae765e47f4852300bca38a2ceb": {
      "model_module": "@jupyter-widgets/controls",
      "model_module_version": "1.5.0",
      "model_name": "DescriptionStyleModel",
      "state": {
       "description_width": ""
      }
     },
     "49db62b24e3c4dd38f4280f9303e324e": {
      "model_module": "@jupyter-widgets/base",
      "model_module_version": "1.2.0",
      "model_name": "LayoutModel",
      "state": {}
     },
     "49ed488e78c94ddba9e1b9be7fc5d09b": {
      "model_module": "@jupyter-widgets/base",
      "model_module_version": "1.2.0",
      "model_name": "LayoutModel",
      "state": {}
     },
     "4a01ac8e78b2418eb54d0c98d614000f": {
      "model_module": "@jupyter-widgets/base",
      "model_module_version": "1.2.0",
      "model_name": "LayoutModel",
      "state": {}
     },
     "4a2ac6a50bd34a2a8c519d0f9dca5c51": {
      "model_module": "@jupyter-widgets/controls",
      "model_module_version": "1.5.0",
      "model_name": "FloatProgressModel",
      "state": {
       "description": "val loss: 4.3782: 100%",
       "layout": "IPY_MODEL_089756e2596e41ab99e3a2daff3428c6",
       "max": 157,
       "style": "IPY_MODEL_0fbc7a016214440c85c376bda7719a22",
       "value": 157
      }
     },
     "4a3e6e8ac146436fad0634c145074f4d": {
      "model_module": "@jupyter-widgets/controls",
      "model_module_version": "1.5.0",
      "model_name": "FloatProgressModel",
      "state": {
       "description": "train loss: 3.7616: 100%",
       "layout": "IPY_MODEL_39e5c5bf7893422296e4ba75f8fcbb72",
       "max": 1563,
       "style": "IPY_MODEL_e0cdcc0e32744967ad18ec4429551742",
       "value": 1563
      }
     },
     "4a588e8fc9384a7589d3f03f251d0afb": {
      "model_module": "@jupyter-widgets/base",
      "model_module_version": "1.2.0",
      "model_name": "LayoutModel",
      "state": {}
     },
     "4a6d5a065e824b5e9f0e1b6237e769cd": {
      "model_module": "@jupyter-widgets/base",
      "model_module_version": "1.2.0",
      "model_name": "LayoutModel",
      "state": {}
     },
     "4a80023d71134ceb8f8ebce839c1917b": {
      "model_module": "@jupyter-widgets/controls",
      "model_module_version": "1.5.0",
      "model_name": "ProgressStyleModel",
      "state": {
       "description_width": "initial"
      }
     },
     "4ae6eb9a643e4709bb5c091b866c99bb": {
      "model_module": "@jupyter-widgets/controls",
      "model_module_version": "1.5.0",
      "model_name": "FloatProgressModel",
      "state": {
       "description": "train loss: 3.9390: 100%",
       "layout": "IPY_MODEL_c235229a126341e591f5313f1e575365",
       "max": 1563,
       "style": "IPY_MODEL_38fee85afb65449dacbcc0837647488f",
       "value": 1563
      }
     },
     "4b0b24474366436790d7d36a7989643e": {
      "model_module": "@jupyter-widgets/controls",
      "model_module_version": "1.5.0",
      "model_name": "FloatProgressModel",
      "state": {
       "description": "train loss: 3.3059: 100%",
       "layout": "IPY_MODEL_bddaabe2ada247a580a14e6378d85c63",
       "max": 1563,
       "style": "IPY_MODEL_6e970edf7f8b49bfbdd2f7db25eba428",
       "value": 1563
      }
     },
     "4b270f1b4b79432992f5f5617c99b190": {
      "model_module": "@jupyter-widgets/controls",
      "model_module_version": "1.5.0",
      "model_name": "DescriptionStyleModel",
      "state": {
       "description_width": ""
      }
     },
     "4b2eb0eea2ae48f09c449a2bd168cbd9": {
      "model_module": "@jupyter-widgets/controls",
      "model_module_version": "1.5.0",
      "model_name": "HTMLModel",
      "state": {
       "layout": "IPY_MODEL_0d4b61ce6a2642c8b9253dca1b3bb84c",
       "style": "IPY_MODEL_7c2cabf9eabc41faa9ebaefe08b71275",
       "value": " 1563/1563 [02:35&lt;00:00, 10.69it/s]"
      }
     },
     "4b4014f1bc17494f9786f472d551eff2": {
      "model_module": "@jupyter-widgets/base",
      "model_module_version": "1.2.0",
      "model_name": "LayoutModel",
      "state": {}
     },
     "4b4872d3483146ca8e85765f8b1f65b9": {
      "model_module": "@jupyter-widgets/controls",
      "model_module_version": "1.5.0",
      "model_name": "HTMLModel",
      "state": {
       "layout": "IPY_MODEL_626757306aa046f59268275bfee92278",
       "style": "IPY_MODEL_bba00e6f4bba467396a3d814a7a66732",
       "value": " 1563/1563 [02:36&lt;00:00, 10.22it/s]"
      }
     },
     "4b4cf99e1244404aaa6023dc625f76e5": {
      "model_module": "@jupyter-widgets/controls",
      "model_module_version": "1.5.0",
      "model_name": "HTMLModel",
      "state": {
       "layout": "IPY_MODEL_5645bee54714476bae9fbfd5b1168b68",
       "style": "IPY_MODEL_0afa2399aa104257bc967aea7abab069",
       "value": " 1563/1563 [04:56&lt;00:00,  5.96it/s]"
      }
     },
     "4b562a04e03a45248ec60bdaf8f36d1b": {
      "model_module": "@jupyter-widgets/controls",
      "model_module_version": "1.5.0",
      "model_name": "DescriptionStyleModel",
      "state": {
       "description_width": ""
      }
     },
     "4b576e1b11db4d8ea2407ee6536c8392": {
      "model_module": "@jupyter-widgets/controls",
      "model_module_version": "1.5.0",
      "model_name": "ProgressStyleModel",
      "state": {
       "description_width": "initial"
      }
     },
     "4babc31582d04b35b2bc9acb7c6115d6": {
      "model_module": "@jupyter-widgets/base",
      "model_module_version": "1.2.0",
      "model_name": "LayoutModel",
      "state": {}
     },
     "4bbc08dfce1f42f0b94af14637aa4583": {
      "model_module": "@jupyter-widgets/base",
      "model_module_version": "1.2.0",
      "model_name": "LayoutModel",
      "state": {}
     },
     "4c0b25ed6c5444eabdd5bac6b0596cbc": {
      "model_module": "@jupyter-widgets/controls",
      "model_module_version": "1.5.0",
      "model_name": "HTMLModel",
      "state": {
       "layout": "IPY_MODEL_36b1d0f50ed345e58e54a77763997b86",
       "style": "IPY_MODEL_860b7f4f6e6744358c9a8d5d173a88f0",
       "value": " 0/10 [00:00&lt;?, ?it/s]"
      }
     },
     "4c28dee6a70d467dbea79048b7d1becd": {
      "model_module": "@jupyter-widgets/controls",
      "model_module_version": "1.5.0",
      "model_name": "ProgressStyleModel",
      "state": {
       "description_width": "initial"
      }
     },
     "4c368c227cdc4a72abde7f0c87397ca8": {
      "model_module": "@jupyter-widgets/base",
      "model_module_version": "1.2.0",
      "model_name": "LayoutModel",
      "state": {}
     },
     "4c5407f04f5c4ed7a905af80fc581ee3": {
      "model_module": "@jupyter-widgets/controls",
      "model_module_version": "1.5.0",
      "model_name": "ProgressStyleModel",
      "state": {
       "description_width": "initial"
      }
     },
     "4c5452cc093744d2bcd9e4f237e52d2b": {
      "model_module": "@jupyter-widgets/base",
      "model_module_version": "1.2.0",
      "model_name": "LayoutModel",
      "state": {}
     },
     "4c5f52bfbeec49928d315135b3e24091": {
      "model_module": "@jupyter-widgets/controls",
      "model_module_version": "1.5.0",
      "model_name": "FloatProgressModel",
      "state": {
       "description": "val loss: 4.5317: 100%",
       "layout": "IPY_MODEL_86b2d8b5f4434653b61d59da33518f6a",
       "max": 157,
       "style": "IPY_MODEL_ea9671f0665843e6b71402cd21c90b1e",
       "value": 157
      }
     },
     "4c61c5a461274e2d97d0a63c7e5fe1de": {
      "model_module": "@jupyter-widgets/base",
      "model_module_version": "1.2.0",
      "model_name": "LayoutModel",
      "state": {}
     },
     "4c6bbe378f92405dae7d95f668dffa30": {
      "model_module": "@jupyter-widgets/base",
      "model_module_version": "1.2.0",
      "model_name": "LayoutModel",
      "state": {}
     },
     "4c9fae9266264bb987baeab57a72a381": {
      "model_module": "@jupyter-widgets/controls",
      "model_module_version": "1.5.0",
      "model_name": "DescriptionStyleModel",
      "state": {
       "description_width": ""
      }
     },
     "4cc95710f2924223950c132313d065f0": {
      "model_module": "@jupyter-widgets/controls",
      "model_module_version": "1.5.0",
      "model_name": "DescriptionStyleModel",
      "state": {
       "description_width": ""
      }
     },
     "4cdb943ccde843a381447382915e3de4": {
      "model_module": "@jupyter-widgets/controls",
      "model_module_version": "1.5.0",
      "model_name": "ProgressStyleModel",
      "state": {
       "description_width": "initial"
      }
     },
     "4cf23cfbd3954befb70b34f0445adb3f": {
      "model_module": "@jupyter-widgets/base",
      "model_module_version": "1.2.0",
      "model_name": "LayoutModel",
      "state": {}
     },
     "4d983b456fa44e1f9b93a1e11a48e9d7": {
      "model_module": "@jupyter-widgets/base",
      "model_module_version": "1.2.0",
      "model_name": "LayoutModel",
      "state": {}
     },
     "4dac9cb7d9ce4849b23a6fd280c3a315": {
      "model_module": "@jupyter-widgets/base",
      "model_module_version": "1.2.0",
      "model_name": "LayoutModel",
      "state": {}
     },
     "4db57a431fc6494fb17987fb2b4205d7": {
      "model_module": "@jupyter-widgets/controls",
      "model_module_version": "1.5.0",
      "model_name": "HTMLModel",
      "state": {
       "layout": "IPY_MODEL_972ad4cb711442cd9565bbf1f6bf074a",
       "style": "IPY_MODEL_49da32ae765e47f4852300bca38a2ceb",
       "value": " 157/157 [00:09&lt;00:00, 15.64it/s]"
      }
     },
     "4e589ba735264e99936bf71a2769e674": {
      "model_module": "@jupyter-widgets/base",
      "model_module_version": "1.2.0",
      "model_name": "LayoutModel",
      "state": {}
     },
     "4e6aac2968aa4a7cb63922a92e6497e3": {
      "model_module": "@jupyter-widgets/controls",
      "model_module_version": "1.5.0",
      "model_name": "HTMLModel",
      "state": {
       "layout": "IPY_MODEL_56514e63f55e4f2f8f5619dc0d17d41f",
       "style": "IPY_MODEL_d904a7676dfa477d97175f1c04398ccf",
       "value": " 1563/1563 [02:32&lt;00:00, 10.67it/s]"
      }
     },
     "4e7fa623d004411a8861a4844d6fce3e": {
      "model_module": "@jupyter-widgets/controls",
      "model_module_version": "1.5.0",
      "model_name": "DescriptionStyleModel",
      "state": {
       "description_width": ""
      }
     },
     "4ea1d64a920a4c9c95f022a94d8f342c": {
      "model_module": "@jupyter-widgets/base",
      "model_module_version": "1.2.0",
      "model_name": "LayoutModel",
      "state": {}
     },
     "4eb1d388a7b74316a748e0e8c99e1c9f": {
      "model_module": "@jupyter-widgets/controls",
      "model_module_version": "1.5.0",
      "model_name": "DescriptionStyleModel",
      "state": {
       "description_width": ""
      }
     },
     "4eb5108032d74b2180bd90898e1f88da": {
      "model_module": "@jupyter-widgets/base",
      "model_module_version": "1.2.0",
      "model_name": "LayoutModel",
      "state": {}
     },
     "4ec0f89f68e74282becaf1d6a57a924c": {
      "model_module": "@jupyter-widgets/base",
      "model_module_version": "1.2.0",
      "model_name": "LayoutModel",
      "state": {}
     },
     "4ec880cf88f34ff5bb5d1392553c79d5": {
      "model_module": "@jupyter-widgets/controls",
      "model_module_version": "1.5.0",
      "model_name": "ProgressStyleModel",
      "state": {
       "description_width": "initial"
      }
     },
     "4ed493b270e14f1ba043ff0ac0d70ea8": {
      "model_module": "@jupyter-widgets/controls",
      "model_module_version": "1.5.0",
      "model_name": "HTMLModel",
      "state": {
       "layout": "IPY_MODEL_fa2782d3d1d44c4e896286fe159d8e8b",
       "style": "IPY_MODEL_c3dc7eb799dd4220a257bbbc325cd54e",
       "value": " 475/1563 [00:47&lt;01:53,  9.55it/s]"
      }
     },
     "4ed84c347ddf4a329e225bee3703f4f6": {
      "model_module": "@jupyter-widgets/base",
      "model_module_version": "1.2.0",
      "model_name": "LayoutModel",
      "state": {}
     },
     "4efa2ca654b84cfeae15e851476149b8": {
      "model_module": "@jupyter-widgets/base",
      "model_module_version": "1.2.0",
      "model_name": "LayoutModel",
      "state": {}
     },
     "4f1543e4c3784ca89d3b9ab601a45a70": {
      "model_module": "@jupyter-widgets/base",
      "model_module_version": "1.2.0",
      "model_name": "LayoutModel",
      "state": {}
     },
     "4f1a7dd89cf34b9687525245be965848": {
      "model_module": "@jupyter-widgets/controls",
      "model_module_version": "1.5.0",
      "model_name": "ProgressStyleModel",
      "state": {
       "description_width": "initial"
      }
     },
     "4f246f2f5dff43a7822743c145ccd877": {
      "model_module": "@jupyter-widgets/controls",
      "model_module_version": "1.5.0",
      "model_name": "HBoxModel",
      "state": {
       "children": [
        "IPY_MODEL_4636ab43352748e3b0fae61195ee68a6",
        "IPY_MODEL_7aa55db1d5e442a9a33ec962616f4179"
       ],
       "layout": "IPY_MODEL_0951a558ba894f0389fcfc6d19c0ba81"
      }
     },
     "4f2e5cd2bb5b4ab29f4c95e3263b591d": {
      "model_module": "@jupyter-widgets/base",
      "model_module_version": "1.2.0",
      "model_name": "LayoutModel",
      "state": {}
     },
     "4f3157fad5f3410f809bfdbf066866bc": {
      "model_module": "@jupyter-widgets/controls",
      "model_module_version": "1.5.0",
      "model_name": "HTMLModel",
      "state": {
       "layout": "IPY_MODEL_c7311bf4b0754b62b7ad01628cf2ed53",
       "style": "IPY_MODEL_9b00376b86f647299c79ca0f4a3b85b9",
       "value": " 1563/1563 [04:55&lt;00:00,  6.07it/s]"
      }
     },
     "4f3218ce75b04cfeb7b13fd5416c5083": {
      "model_module": "@jupyter-widgets/controls",
      "model_module_version": "1.5.0",
      "model_name": "HTMLModel",
      "state": {
       "layout": "IPY_MODEL_27d16a461aa84e1bb523f24be4ac3af1",
       "style": "IPY_MODEL_9f075460821e4a0f825ecd739112ab52",
       "value": " 0/10 [00:05&lt;?, ?it/s]"
      }
     },
     "4f38c515371e4e7da54c2ec8838cda22": {
      "model_module": "@jupyter-widgets/controls",
      "model_module_version": "1.5.0",
      "model_name": "FloatProgressModel",
      "state": {
       "description": "val loss: 4.5387: 100%",
       "layout": "IPY_MODEL_118d3fa0d4a0494288557b7bcdc45985",
       "max": 157,
       "style": "IPY_MODEL_7c90939ea5e4414ca2abda9373b1d6d6",
       "value": 157
      }
     },
     "4f7791407dcc4bc587e959b20aaed772": {
      "model_module": "@jupyter-widgets/base",
      "model_module_version": "1.2.0",
      "model_name": "LayoutModel",
      "state": {}
     },
     "4fd9e5dbec3440cc8785ee9ae533ec42": {
      "model_module": "@jupyter-widgets/base",
      "model_module_version": "1.2.0",
      "model_name": "LayoutModel",
      "state": {}
     },
     "4fed8c0cb7744edf927e2d1e7aff4842": {
      "model_module": "@jupyter-widgets/base",
      "model_module_version": "1.2.0",
      "model_name": "LayoutModel",
      "state": {}
     },
     "4ff9140ea11848d9a9d600f688953c8b": {
      "model_module": "@jupyter-widgets/controls",
      "model_module_version": "1.5.0",
      "model_name": "DescriptionStyleModel",
      "state": {
       "description_width": ""
      }
     },
     "5029fff295854ccf93f96a2b753a5220": {
      "model_module": "@jupyter-widgets/controls",
      "model_module_version": "1.5.0",
      "model_name": "ProgressStyleModel",
      "state": {
       "description_width": "initial"
      }
     },
     "50754c27f5cf45819bac42e337c45c1f": {
      "model_module": "@jupyter-widgets/controls",
      "model_module_version": "1.5.0",
      "model_name": "FloatProgressModel",
      "state": {
       "bar_style": "danger",
       "description": "Train Loss: 4.6964 - Val Loss: 4.9665:  30%",
       "layout": "IPY_MODEL_5cbd160b52c344de9467141c192c4b91",
       "max": 10,
       "style": "IPY_MODEL_933d341480824d7c8d34cca0ec79ba08",
       "value": 3
      }
     },
     "507d37ddf2564c5584691965e4fe4d46": {
      "model_module": "@jupyter-widgets/controls",
      "model_module_version": "1.5.0",
      "model_name": "FloatProgressModel",
      "state": {
       "description": "train loss: 3.5635: 100%",
       "layout": "IPY_MODEL_3e6fe3f66d234744b5bfe87bee0bbb17",
       "max": 1563,
       "style": "IPY_MODEL_74f53a690e5540fd93aaefa0806e499c",
       "value": 1563
      }
     },
     "507de071d80f438e89c0a0c739c35816": {
      "model_module": "@jupyter-widgets/controls",
      "model_module_version": "1.5.0",
      "model_name": "FloatProgressModel",
      "state": {
       "description": "train loss: 2.4259: 100%",
       "layout": "IPY_MODEL_007a458c3040420aa4a8e6286cea256d",
       "max": 1563,
       "style": "IPY_MODEL_edea2e55ec01422c93632fd01c40dc2e",
       "value": 1563
      }
     },
     "508e9c8673d1449e999db5dfb3bd17b9": {
      "model_module": "@jupyter-widgets/controls",
      "model_module_version": "1.5.0",
      "model_name": "DescriptionStyleModel",
      "state": {
       "description_width": ""
      }
     },
     "509b8cf5eaf44707bfc2503db49613ac": {
      "model_module": "@jupyter-widgets/controls",
      "model_module_version": "1.5.0",
      "model_name": "HTMLModel",
      "state": {
       "layout": "IPY_MODEL_1765149214e34286929b39ecf5bc10ae",
       "style": "IPY_MODEL_575b8cfc5e4c44a397b3247e27419107",
       "value": " 1563/1563 [07:25&lt;00:00, 21.39s/it]"
      }
     },
     "50a4523d9e8d42bf9eb2fceed610b9fc": {
      "model_module": "@jupyter-widgets/base",
      "model_module_version": "1.2.0",
      "model_name": "LayoutModel",
      "state": {}
     },
     "50b34812b5a84e379560ef8fe01275ea": {
      "model_module": "@jupyter-widgets/base",
      "model_module_version": "1.2.0",
      "model_name": "LayoutModel",
      "state": {}
     },
     "50ce4edd99cd440f8fcec9e03858c34e": {
      "model_module": "@jupyter-widgets/controls",
      "model_module_version": "1.5.0",
      "model_name": "HTMLModel",
      "state": {
       "layout": "IPY_MODEL_451fbcaee5e5481da9522cbd98a430e9",
       "style": "IPY_MODEL_40742c14713a4806b723db52255a2d35",
       "value": " 157/157 [00:15&lt;00:00, 11.68it/s]"
      }
     },
     "50e2f5a194de4064a2139a3b37b50dcf": {
      "model_module": "@jupyter-widgets/controls",
      "model_module_version": "1.5.0",
      "model_name": "ProgressStyleModel",
      "state": {
       "description_width": "initial"
      }
     },
     "50e8ad788ebe44a0b551d3405e5462cd": {
      "model_module": "@jupyter-widgets/base",
      "model_module_version": "1.2.0",
      "model_name": "LayoutModel",
      "state": {}
     },
     "51057ed8a2aa4c468082abd3be8928cd": {
      "model_module": "@jupyter-widgets/controls",
      "model_module_version": "1.5.0",
      "model_name": "FloatProgressModel",
      "state": {
       "description": "train loss: 3.9179: 100%",
       "layout": "IPY_MODEL_6b9a2d3b0bd8484d9a1164373c35d7c2",
       "max": 1563,
       "style": "IPY_MODEL_ef254d499d82422586a3a3cfdd91fc40",
       "value": 1563
      }
     },
     "510a24ecc9684ac788057246a1cde9d0": {
      "model_module": "@jupyter-widgets/controls",
      "model_module_version": "1.5.0",
      "model_name": "HTMLModel",
      "state": {
       "layout": "IPY_MODEL_4cf23cfbd3954befb70b34f0445adb3f",
       "style": "IPY_MODEL_ae8c81ad186849eaaf258d2a9d5daacd",
       "value": " 157/157 [00:12&lt;00:00, 13.91it/s]"
      }
     },
     "51107b284fed480790f4fda19a5a579c": {
      "model_module": "@jupyter-widgets/controls",
      "model_module_version": "1.5.0",
      "model_name": "DescriptionStyleModel",
      "state": {
       "description_width": ""
      }
     },
     "512eea85a592490bacfd54253ecb6a24": {
      "model_module": "@jupyter-widgets/base",
      "model_module_version": "1.2.0",
      "model_name": "LayoutModel",
      "state": {}
     },
     "5138af182610488b9a95b1e35945a782": {
      "model_module": "@jupyter-widgets/controls",
      "model_module_version": "1.5.0",
      "model_name": "DescriptionStyleModel",
      "state": {
       "description_width": ""
      }
     },
     "51a0f464d4de4aedb86fe9cb9fdac702": {
      "model_module": "@jupyter-widgets/base",
      "model_module_version": "1.2.0",
      "model_name": "LayoutModel",
      "state": {}
     },
     "51b19833c48140b1bfd6b058313811f9": {
      "model_module": "@jupyter-widgets/base",
      "model_module_version": "1.2.0",
      "model_name": "LayoutModel",
      "state": {}
     },
     "51b39ea437d74c7da05d9ebb9b2e67b0": {
      "model_module": "@jupyter-widgets/controls",
      "model_module_version": "1.5.0",
      "model_name": "ProgressStyleModel",
      "state": {
       "description_width": "initial"
      }
     },
     "51d78b5100f24c8b8a8c89fba983841b": {
      "model_module": "@jupyter-widgets/base",
      "model_module_version": "1.2.0",
      "model_name": "LayoutModel",
      "state": {}
     },
     "51f3a651f774413bbcbdecb589779ac5": {
      "model_module": "@jupyter-widgets/controls",
      "model_module_version": "1.5.0",
      "model_name": "HTMLModel",
      "state": {
       "layout": "IPY_MODEL_c1b01fb20653434880503b74b2fc40e0",
       "style": "IPY_MODEL_d8578470ff0a4f9cb10588a26e28e6a2",
       "value": " 1563/1563 [05:31&lt;00:00,  5.52it/s]"
      }
     },
     "5202ab802c4244499d1a38a6ef47103e": {
      "model_module": "@jupyter-widgets/controls",
      "model_module_version": "1.5.0",
      "model_name": "FloatProgressModel",
      "state": {
       "description": "val loss: 3.9318: 100%",
       "layout": "IPY_MODEL_0ab4e572ddbc41058dd7f0d8541c85bc",
       "max": 157,
       "style": "IPY_MODEL_e73fbc67f6eb496998d971869420d5d8",
       "value": 157
      }
     },
     "5205b09f307f4982b08a0da900bd52c6": {
      "model_module": "@jupyter-widgets/base",
      "model_module_version": "1.2.0",
      "model_name": "LayoutModel",
      "state": {}
     },
     "52087f95ac774abcbba78bccfeb43c0d": {
      "model_module": "@jupyter-widgets/base",
      "model_module_version": "1.2.0",
      "model_name": "LayoutModel",
      "state": {}
     },
     "521edb0d8f1b482099b58f3c9e425969": {
      "model_module": "@jupyter-widgets/base",
      "model_module_version": "1.2.0",
      "model_name": "LayoutModel",
      "state": {}
     },
     "5220d9391ea041e8a9b512fb00e45454": {
      "model_module": "@jupyter-widgets/base",
      "model_module_version": "1.2.0",
      "model_name": "LayoutModel",
      "state": {}
     },
     "52237717e9a54fe29520e674ebb43ab8": {
      "model_module": "@jupyter-widgets/controls",
      "model_module_version": "1.5.0",
      "model_name": "ProgressStyleModel",
      "state": {
       "description_width": "initial"
      }
     },
     "522ab47872c242cc8caf636cb5854262": {
      "model_module": "@jupyter-widgets/controls",
      "model_module_version": "1.5.0",
      "model_name": "DescriptionStyleModel",
      "state": {
       "description_width": ""
      }
     },
     "522c7f62544042b78f4d91ec8d06a514": {
      "model_module": "@jupyter-widgets/controls",
      "model_module_version": "1.5.0",
      "model_name": "ProgressStyleModel",
      "state": {
       "description_width": "initial"
      }
     },
     "5245b7b1b5234d389b0e06b346eeceb3": {
      "model_module": "@jupyter-widgets/base",
      "model_module_version": "1.2.0",
      "model_name": "LayoutModel",
      "state": {}
     },
     "5258aaff30424b19a61771356ba93a93": {
      "model_module": "@jupyter-widgets/controls",
      "model_module_version": "1.5.0",
      "model_name": "HTMLModel",
      "state": {
       "layout": "IPY_MODEL_932ccdf9ff28441a9e6d2474cc332c4e",
       "style": "IPY_MODEL_445effc0174c4a1f8b600d8db9ab1e59",
       "value": " 1563/1563 [02:35&lt;00:00, 10.85it/s]"
      }
     },
     "5266592b2c60487a8380a1896ae0e21d": {
      "model_module": "@jupyter-widgets/controls",
      "model_module_version": "1.5.0",
      "model_name": "DescriptionStyleModel",
      "state": {
       "description_width": ""
      }
     },
     "52817e5a0887490797ba39c20c5d9518": {
      "model_module": "@jupyter-widgets/base",
      "model_module_version": "1.2.0",
      "model_name": "LayoutModel",
      "state": {}
     },
     "52ddf9a62cb44c1e9b9aad4d7ede5d5c": {
      "model_module": "@jupyter-widgets/controls",
      "model_module_version": "1.5.0",
      "model_name": "FloatProgressModel",
      "state": {
       "description": "val loss: 4.0871: 100%",
       "layout": "IPY_MODEL_feea494c7cc7436e819c1552a1bf615c",
       "max": 157,
       "style": "IPY_MODEL_312cfc503d5e43cfa8217617d346d0f6",
       "value": 157
      }
     },
     "52de7e987700467ca6fe5d7f4ce301f4": {
      "model_module": "@jupyter-widgets/base",
      "model_module_version": "1.2.0",
      "model_name": "LayoutModel",
      "state": {}
     },
     "5303c36f1ebc4d7393fc1aa4dbdcc614": {
      "model_module": "@jupyter-widgets/controls",
      "model_module_version": "1.5.0",
      "model_name": "ProgressStyleModel",
      "state": {
       "description_width": "initial"
      }
     },
     "5314766e2cdf4bccaa27a0687c3fd0d8": {
      "model_module": "@jupyter-widgets/controls",
      "model_module_version": "1.5.0",
      "model_name": "DescriptionStyleModel",
      "state": {
       "description_width": ""
      }
     },
     "531727e3af5e4b5c9d56dc14ac9b778d": {
      "model_module": "@jupyter-widgets/controls",
      "model_module_version": "1.5.0",
      "model_name": "ProgressStyleModel",
      "state": {
       "description_width": "initial"
      }
     },
     "5349fcba4ed248eea9404248d91621f4": {
      "model_module": "@jupyter-widgets/base",
      "model_module_version": "1.2.0",
      "model_name": "LayoutModel",
      "state": {}
     },
     "535372bf77174558b9301be3abc9d4ab": {
      "model_module": "@jupyter-widgets/controls",
      "model_module_version": "1.5.0",
      "model_name": "ProgressStyleModel",
      "state": {
       "description_width": "initial"
      }
     },
     "536c97d8d02244fe81eb9bda738f76aa": {
      "model_module": "@jupyter-widgets/controls",
      "model_module_version": "1.5.0",
      "model_name": "HTMLModel",
      "state": {
       "layout": "IPY_MODEL_804492cda5684266a06d520f1233edca",
       "style": "IPY_MODEL_9f375d3ab7df4cd69394e854aeb97fa9",
       "value": " 157/157 [00:16&lt;00:00,  9.44it/s]"
      }
     },
     "53737f239b004dd49721ac9986456f0f": {
      "model_module": "@jupyter-widgets/controls",
      "model_module_version": "1.5.0",
      "model_name": "FloatProgressModel",
      "state": {
       "description": "val loss: 4.0969: 100%",
       "layout": "IPY_MODEL_27e5681320224adaaf3d56a394e4d39a",
       "max": 157,
       "style": "IPY_MODEL_24aa79f4c48d4f8ba6dfc11eae7b699f",
       "value": 157
      }
     },
     "5374b7721b8e49578b27cd4d60fbd968": {
      "model_module": "@jupyter-widgets/controls",
      "model_module_version": "1.5.0",
      "model_name": "HTMLModel",
      "state": {
       "layout": "IPY_MODEL_91708a311c534caea230a0ee74494468",
       "style": "IPY_MODEL_08741ac39604461d946a8b3cb81f3c32",
       "value": " 1563/1563 [04:57&lt;00:00,  5.90it/s]"
      }
     },
     "5377cbbc17c34cad9d18c0323a1c406f": {
      "model_module": "@jupyter-widgets/controls",
      "model_module_version": "1.5.0",
      "model_name": "HTMLModel",
      "state": {
       "layout": "IPY_MODEL_6103500e74dc462381765d7e2742cdba",
       "style": "IPY_MODEL_e3c9c2f843924afc804d4b979da65356",
       "value": " 1563/1563 [05:29&lt;00:00,  5.48it/s]"
      }
     },
     "538f2234451c4db6b29cec6c72690bb3": {
      "model_module": "@jupyter-widgets/controls",
      "model_module_version": "1.5.0",
      "model_name": "DescriptionStyleModel",
      "state": {
       "description_width": ""
      }
     },
     "539908f96bd348fd8d8c9ab416c379e9": {
      "model_module": "@jupyter-widgets/base",
      "model_module_version": "1.2.0",
      "model_name": "LayoutModel",
      "state": {}
     },
     "53a9cd45e1b449b790d584d9dea75c17": {
      "model_module": "@jupyter-widgets/controls",
      "model_module_version": "1.5.0",
      "model_name": "ProgressStyleModel",
      "state": {
       "description_width": "initial"
      }
     },
     "53f42cee64584e9687543e4730369e99": {
      "model_module": "@jupyter-widgets/controls",
      "model_module_version": "1.5.0",
      "model_name": "ProgressStyleModel",
      "state": {
       "description_width": "initial"
      }
     },
     "53f8e3db018b497e888bf50a7fba4eb5": {
      "model_module": "@jupyter-widgets/controls",
      "model_module_version": "1.5.0",
      "model_name": "DescriptionStyleModel",
      "state": {
       "description_width": ""
      }
     },
     "53fee271d84d4b1b8b10e96e93b7b0e8": {
      "model_module": "@jupyter-widgets/controls",
      "model_module_version": "1.5.0",
      "model_name": "FloatProgressModel",
      "state": {
       "description": "train loss: 3.3395: 100%",
       "layout": "IPY_MODEL_2065d0ecd261434a8fead0e87dce9170",
       "max": 1563,
       "style": "IPY_MODEL_3113b0a70db84f758654e7cd0fdd9648",
       "value": 1563
      }
     },
     "54028cae3e0f42d9ac8ecdad743d5b22": {
      "model_module": "@jupyter-widgets/controls",
      "model_module_version": "1.5.0",
      "model_name": "DescriptionStyleModel",
      "state": {
       "description_width": ""
      }
     },
     "5407fd2ab09b413784645ba2dd83c6bf": {
      "model_module": "@jupyter-widgets/controls",
      "model_module_version": "1.5.0",
      "model_name": "FloatProgressModel",
      "state": {
       "description": "val loss: 3.8709: 100%",
       "layout": "IPY_MODEL_ec1b844f5aad49fe9c8cebf3efe407d0",
       "max": 157,
       "style": "IPY_MODEL_dabee36c6a3a403e95c12d560e894932",
       "value": 157
      }
     },
     "542746e5727b47eba4dcf4524e99d411": {
      "model_module": "@jupyter-widgets/controls",
      "model_module_version": "1.5.0",
      "model_name": "FloatProgressModel",
      "state": {
       "description": "val loss: 2.5764: 100%",
       "layout": "IPY_MODEL_f4802efbce8d43669f959306bfcf3837",
       "max": 157,
       "style": "IPY_MODEL_681f6b59f5e148299a783d1146c3c326",
       "value": 157
      }
     },
     "542d9be2031149fd9cdb44338f9cf29d": {
      "model_module": "@jupyter-widgets/controls",
      "model_module_version": "1.5.0",
      "model_name": "DescriptionStyleModel",
      "state": {
       "description_width": ""
      }
     },
     "544641eda35d4ddf8f355abc86d11c29": {
      "model_module": "@jupyter-widgets/controls",
      "model_module_version": "1.5.0",
      "model_name": "HTMLModel",
      "state": {
       "layout": "IPY_MODEL_58f7726e07c14b809110c6df2e585e43",
       "style": "IPY_MODEL_2ad7e031ab3845bfaeae93b218b88f06",
       "value": " 10/10 [3:00:11&lt;00:00, 1081.17s/it]"
      }
     },
     "544abc1fb77e4260b89b9994fc3b5eda": {
      "model_module": "@jupyter-widgets/controls",
      "model_module_version": "1.5.0",
      "model_name": "HTMLModel",
      "state": {
       "layout": "IPY_MODEL_0a081a92de3a48b0b99c6d89e123dfe7",
       "style": "IPY_MODEL_83d9fee37a864742bf3b46b54ae70472",
       "value": " 1563/1563 [02:34&lt;00:00, 10.15it/s]"
      }
     },
     "5465eb4be19b4aa2aa8e7c14d76f2881": {
      "model_module": "@jupyter-widgets/controls",
      "model_module_version": "1.5.0",
      "model_name": "FloatProgressModel",
      "state": {
       "description": "train loss: 3.0427: 100%",
       "layout": "IPY_MODEL_f450bde339a84676aa759997df8906cb",
       "max": 1563,
       "style": "IPY_MODEL_a21b8fe294bf410c83d4535a994e4ea3",
       "value": 1563
      }
     },
     "54e23bde95964269b93fcb27a375618f": {
      "model_module": "@jupyter-widgets/base",
      "model_module_version": "1.2.0",
      "model_name": "LayoutModel",
      "state": {}
     },
     "54f80e4c0dcc4eff8a5abc56c9e64c72": {
      "model_module": "@jupyter-widgets/controls",
      "model_module_version": "1.5.0",
      "model_name": "HTMLModel",
      "state": {
       "layout": "IPY_MODEL_464a6d13eaee467f9afb7d59df113306",
       "style": "IPY_MODEL_491981c6c3024c9ea75180186d3b2d20",
       "value": " 103/1563 [00:10&lt;02:27,  9.92it/s]"
      }
     },
     "54ff4aced271470c90febabca804eae3": {
      "model_module": "@jupyter-widgets/base",
      "model_module_version": "1.2.0",
      "model_name": "LayoutModel",
      "state": {}
     },
     "5505e5e9b828414ab1727a26159c7e51": {
      "model_module": "@jupyter-widgets/base",
      "model_module_version": "1.2.0",
      "model_name": "LayoutModel",
      "state": {}
     },
     "552d19b622ba431bad2c7f617570b6cb": {
      "model_module": "@jupyter-widgets/controls",
      "model_module_version": "1.5.0",
      "model_name": "HTMLModel",
      "state": {
       "layout": "IPY_MODEL_109c1af565f24987a2b1ba1fbcd2bff3",
       "style": "IPY_MODEL_73870b1bfe864a008ac7754ecf3d1ca7",
       "value": " 1563/1563 [05:32&lt;00:00,  5.46it/s]"
      }
     },
     "553c4d85187d49298537cc3c98bd7b16": {
      "model_module": "@jupyter-widgets/controls",
      "model_module_version": "1.5.0",
      "model_name": "ProgressStyleModel",
      "state": {
       "description_width": "initial"
      }
     },
     "5563c882dbf84680b01c4747f7037f93": {
      "model_module": "@jupyter-widgets/base",
      "model_module_version": "1.2.0",
      "model_name": "LayoutModel",
      "state": {}
     },
     "557274d2cd21466d94b4ffc106c9b9f3": {
      "model_module": "@jupyter-widgets/base",
      "model_module_version": "1.2.0",
      "model_name": "LayoutModel",
      "state": {}
     },
     "55888cc9eb61405aa65c3a75ed7e7306": {
      "model_module": "@jupyter-widgets/controls",
      "model_module_version": "1.5.0",
      "model_name": "FloatProgressModel",
      "state": {
       "bar_style": "danger",
       "description": "train loss: 3.9055:  39%",
       "layout": "IPY_MODEL_4c5452cc093744d2bcd9e4f237e52d2b",
       "max": 1563,
       "style": "IPY_MODEL_715db48b624b47d88e8126b369f477b7",
       "value": 605
      }
     },
     "55988a974c39421593e95b042d5dfadb": {
      "model_module": "@jupyter-widgets/controls",
      "model_module_version": "1.5.0",
      "model_name": "FloatProgressModel",
      "state": {
       "description": "val loss: 3.2685: 100%",
       "layout": "IPY_MODEL_c61fd22c3d7c409ba6adb14b5521b587",
       "max": 157,
       "style": "IPY_MODEL_87080bf602de41f6830fd1c84e237037",
       "value": 157
      }
     },
     "55a9d528e21844dda2fb3a0730978d22": {
      "model_module": "@jupyter-widgets/controls",
      "model_module_version": "1.5.0",
      "model_name": "ProgressStyleModel",
      "state": {
       "description_width": "initial"
      }
     },
     "55cb3ebe862a4b6aadc47ddfeab713d7": {
      "model_module": "@jupyter-widgets/base",
      "model_module_version": "1.2.0",
      "model_name": "LayoutModel",
      "state": {}
     },
     "55cdb1fdadff4e91ba5d507e07bce4b7": {
      "model_module": "@jupyter-widgets/controls",
      "model_module_version": "1.5.0",
      "model_name": "FloatProgressModel",
      "state": {
       "description": "val loss: 3.7483: 100%",
       "layout": "IPY_MODEL_0badf127671c4c68b29069bdc12e7f7c",
       "max": 157,
       "style": "IPY_MODEL_55e84e9248214a95a6bbdd4ef52741b2",
       "value": 157
      }
     },
     "55d7f1acf6734fc5bec4de78c8663c9a": {
      "model_module": "@jupyter-widgets/base",
      "model_module_version": "1.2.0",
      "model_name": "LayoutModel",
      "state": {}
     },
     "55dbe4e559544fd493c6cbb4f13a2738": {
      "model_module": "@jupyter-widgets/base",
      "model_module_version": "1.2.0",
      "model_name": "LayoutModel",
      "state": {}
     },
     "55e2d91cf524435d9e41aa8107483fb3": {
      "model_module": "@jupyter-widgets/base",
      "model_module_version": "1.2.0",
      "model_name": "LayoutModel",
      "state": {}
     },
     "55e84e9248214a95a6bbdd4ef52741b2": {
      "model_module": "@jupyter-widgets/controls",
      "model_module_version": "1.5.0",
      "model_name": "ProgressStyleModel",
      "state": {
       "description_width": "initial"
      }
     },
     "55fb6b61302047f582355693b7c5615b": {
      "model_module": "@jupyter-widgets/controls",
      "model_module_version": "1.5.0",
      "model_name": "DescriptionStyleModel",
      "state": {
       "description_width": ""
      }
     },
     "5606303e8161406b91788f307405b4cb": {
      "model_module": "@jupyter-widgets/controls",
      "model_module_version": "1.5.0",
      "model_name": "HBoxModel",
      "state": {
       "children": [
        "IPY_MODEL_9a487f42a3874868a632f1a799375b02",
        "IPY_MODEL_81e0e445aa094571b3a6391d96e67c57"
       ],
       "layout": "IPY_MODEL_db9600719f434996ae5b9629bedb3624"
      }
     },
     "561c784253fd418ab5855df822ef80b6": {
      "model_module": "@jupyter-widgets/controls",
      "model_module_version": "1.5.0",
      "model_name": "FloatProgressModel",
      "state": {
       "description": "val loss: 4.1519: 100%",
       "layout": "IPY_MODEL_3b16a84174d94d4a8954684c0779bb65",
       "max": 157,
       "style": "IPY_MODEL_981f95e332b4402db5aecb6d03f507ad",
       "value": 157
      }
     },
     "56268ea25ac14d86ba8108b94d0889be": {
      "model_module": "@jupyter-widgets/base",
      "model_module_version": "1.2.0",
      "model_name": "LayoutModel",
      "state": {}
     },
     "56284fe6593240839f87f3a1918610d0": {
      "model_module": "@jupyter-widgets/controls",
      "model_module_version": "1.5.0",
      "model_name": "DescriptionStyleModel",
      "state": {
       "description_width": ""
      }
     },
     "563714fafd6841649e67a284e726d7e4": {
      "model_module": "@jupyter-widgets/base",
      "model_module_version": "1.2.0",
      "model_name": "LayoutModel",
      "state": {}
     },
     "5645bee54714476bae9fbfd5b1168b68": {
      "model_module": "@jupyter-widgets/base",
      "model_module_version": "1.2.0",
      "model_name": "LayoutModel",
      "state": {}
     },
     "564cf15780b14ee19f2a373279e2ee22": {
      "model_module": "@jupyter-widgets/controls",
      "model_module_version": "1.5.0",
      "model_name": "FloatProgressModel",
      "state": {
       "description": "train loss: 3.0196: 100%",
       "layout": "IPY_MODEL_5349fcba4ed248eea9404248d91621f4",
       "max": 1563,
       "style": "IPY_MODEL_68eb825ccf5a4d058d4af4d90e55e559",
       "value": 1563
      }
     },
     "56514e63f55e4f2f8f5619dc0d17d41f": {
      "model_module": "@jupyter-widgets/base",
      "model_module_version": "1.2.0",
      "model_name": "LayoutModel",
      "state": {}
     },
     "56618856083549baa182b00b1e9882b2": {
      "model_module": "@jupyter-widgets/base",
      "model_module_version": "1.2.0",
      "model_name": "LayoutModel",
      "state": {}
     },
     "567935ab3dea4f9792833de36aa3979a": {
      "model_module": "@jupyter-widgets/controls",
      "model_module_version": "1.5.0",
      "model_name": "DescriptionStyleModel",
      "state": {
       "description_width": ""
      }
     },
     "56870b0fb5094caca480ecf057093784": {
      "model_module": "@jupyter-widgets/base",
      "model_module_version": "1.2.0",
      "model_name": "LayoutModel",
      "state": {}
     },
     "56931c76447d47358d0e7b4ce3c361ca": {
      "model_module": "@jupyter-widgets/base",
      "model_module_version": "1.2.0",
      "model_name": "LayoutModel",
      "state": {}
     },
     "5698343619cf46679a31babfb6c97cdf": {
      "model_module": "@jupyter-widgets/controls",
      "model_module_version": "1.5.0",
      "model_name": "ProgressStyleModel",
      "state": {
       "description_width": "initial"
      }
     },
     "56af808709f9491ebc52b35303713130": {
      "model_module": "@jupyter-widgets/base",
      "model_module_version": "1.2.0",
      "model_name": "LayoutModel",
      "state": {}
     },
     "56cbe9c98e924def83d4219d81f086be": {
      "model_module": "@jupyter-widgets/controls",
      "model_module_version": "1.5.0",
      "model_name": "HTMLModel",
      "state": {
       "layout": "IPY_MODEL_81cbd56017fe4299ba2571fd3eebd650",
       "style": "IPY_MODEL_edd38aae9e3a4b9e827b530cfffc7b4c",
       "value": " 0/10 [00:40&lt;?, ?it/s]"
      }
     },
     "56d485805a6c46478cbd049f3b758c50": {
      "model_module": "@jupyter-widgets/controls",
      "model_module_version": "1.5.0",
      "model_name": "FloatProgressModel",
      "state": {
       "bar_style": "danger",
       "description": "train loss: 5.2960:   3%",
       "layout": "IPY_MODEL_ab23bd4aab41455abf4af995070c78b1",
       "max": 1563,
       "style": "IPY_MODEL_a6e79aa386ca40f18e477e9185eba1ca",
       "value": 50
      }
     },
     "56dec59ee9ed42329cb8703e72466dd3": {
      "model_module": "@jupyter-widgets/controls",
      "model_module_version": "1.5.0",
      "model_name": "DescriptionStyleModel",
      "state": {
       "description_width": ""
      }
     },
     "56e57e3f9e0b4c719d9ed8b69f10a530": {
      "model_module": "@jupyter-widgets/controls",
      "model_module_version": "1.5.0",
      "model_name": "HTMLModel",
      "state": {
       "layout": "IPY_MODEL_60bfb9f1ef5d40b68caf6868ff830956",
       "style": "IPY_MODEL_375e3f8c94084774b7f5730dc3a1bd9f",
       "value": " 157/157 [00:09&lt;00:00, 15.81it/s]"
      }
     },
     "575b8cfc5e4c44a397b3247e27419107": {
      "model_module": "@jupyter-widgets/controls",
      "model_module_version": "1.5.0",
      "model_name": "DescriptionStyleModel",
      "state": {
       "description_width": ""
      }
     },
     "57743cf5162f462586e613b92edf3697": {
      "model_module": "@jupyter-widgets/base",
      "model_module_version": "1.2.0",
      "model_name": "LayoutModel",
      "state": {}
     },
     "57de1913f75d4b7cb0eb3fe4fa689c55": {
      "model_module": "@jupyter-widgets/controls",
      "model_module_version": "1.5.0",
      "model_name": "HTMLModel",
      "state": {
       "layout": "IPY_MODEL_38411460d9814bd08cf7268015b5c27a",
       "style": "IPY_MODEL_6567ba60a6fc4448aa39e58a0d67b7a1",
       "value": " 157/157 [00:15&lt;00:00, 10.55it/s]"
      }
     },
     "58098814d5a9400f89a93029388d06d4": {
      "model_module": "@jupyter-widgets/controls",
      "model_module_version": "1.5.0",
      "model_name": "HTMLModel",
      "state": {
       "layout": "IPY_MODEL_3a4dc9bc92c74a28bd98bdfdae2f60cf",
       "style": "IPY_MODEL_2cc36938a09745e79216ee02cbf20d7f",
       "value": " 157/157 [00:14&lt;00:00, 11.70it/s]"
      }
     },
     "582305c856584ce885faee5d77d2352f": {
      "model_module": "@jupyter-widgets/base",
      "model_module_version": "1.2.0",
      "model_name": "LayoutModel",
      "state": {}
     },
     "5836a6eca6eb40d28cf01267b3c49013": {
      "model_module": "@jupyter-widgets/controls",
      "model_module_version": "1.5.0",
      "model_name": "HTMLModel",
      "state": {
       "layout": "IPY_MODEL_00e66b685e264e15a7a21e088baf1e57",
       "style": "IPY_MODEL_3d7f6bcfd2ef4e17becb3565f576a64b",
       "value": " 1563/1563 [04:59&lt;00:00,  5.81it/s]"
      }
     },
     "5847470654c245a8ad26790441b46244": {
      "model_module": "@jupyter-widgets/controls",
      "model_module_version": "1.5.0",
      "model_name": "ProgressStyleModel",
      "state": {
       "description_width": "initial"
      }
     },
     "58533af546ca4942a4fb36b7a866d1d9": {
      "model_module": "@jupyter-widgets/controls",
      "model_module_version": "1.5.0",
      "model_name": "FloatProgressModel",
      "state": {
       "description": "train loss: 2.9246: 100%",
       "layout": "IPY_MODEL_ff72ecdc466b46c795ef3c9251d6fe7d",
       "max": 1563,
       "style": "IPY_MODEL_0eb76caad19c48b99b04c966b06c2609",
       "value": 1563
      }
     },
     "586e807a45124d87be38ee9e7cb78639": {
      "model_module": "@jupyter-widgets/controls",
      "model_module_version": "1.5.0",
      "model_name": "DescriptionStyleModel",
      "state": {
       "description_width": ""
      }
     },
     "58a95c1cd1ff4ea4a4ff87a22451bcf6": {
      "model_module": "@jupyter-widgets/controls",
      "model_module_version": "1.5.0",
      "model_name": "HTMLModel",
      "state": {
       "layout": "IPY_MODEL_8bd9344b67a14ab5812aa4b9831b93b8",
       "style": "IPY_MODEL_6496dd90fa284fe99b6d456e55e1a6a3",
       "value": " 1563/1563 [02:35&lt;00:00, 11.17it/s]"
      }
     },
     "58b0b4064b924a0e826f4f5d5c14db04": {
      "model_module": "@jupyter-widgets/base",
      "model_module_version": "1.2.0",
      "model_name": "LayoutModel",
      "state": {}
     },
     "58b6dcd716d043a08542660468dfcd4a": {
      "model_module": "@jupyter-widgets/controls",
      "model_module_version": "1.5.0",
      "model_name": "FloatProgressModel",
      "state": {
       "description": "val loss: 5.5247: 100%",
       "layout": "IPY_MODEL_367332c67b3a48908aacbf6fb9861173",
       "max": 157,
       "style": "IPY_MODEL_1b5c0a01c7d746a286a47cfa081d8d54",
       "value": 157
      }
     },
     "58cada6c6b984b59bca40260d3a51915": {
      "model_module": "@jupyter-widgets/base",
      "model_module_version": "1.2.0",
      "model_name": "LayoutModel",
      "state": {}
     },
     "58db647b108b466d8c3ce96e4f39cbdc": {
      "model_module": "@jupyter-widgets/controls",
      "model_module_version": "1.5.0",
      "model_name": "FloatProgressModel",
      "state": {
       "description": "val loss: 3.7178: 100%",
       "layout": "IPY_MODEL_f621aaf07f2b41098d8cc81548450147",
       "max": 157,
       "style": "IPY_MODEL_c5e5db8506b6434faa81421e685a1267",
       "value": 157
      }
     },
     "58e28f7d79f445df826a9a67becb2abd": {
      "model_module": "@jupyter-widgets/controls",
      "model_module_version": "1.5.0",
      "model_name": "DescriptionStyleModel",
      "state": {
       "description_width": ""
      }
     },
     "58f706794c7445479c17edfebcfabe24": {
      "model_module": "@jupyter-widgets/controls",
      "model_module_version": "1.5.0",
      "model_name": "HTMLModel",
      "state": {
       "layout": "IPY_MODEL_29e8a052b11045c48075aaa5395fa144",
       "style": "IPY_MODEL_1e9d948b44514697935183721498b2dd",
       "value": " 157/157 [00:10&lt;00:00, 15.62it/s]"
      }
     },
     "58f741be09b242baaa1eac4df9bedd80": {
      "model_module": "@jupyter-widgets/controls",
      "model_module_version": "1.5.0",
      "model_name": "DescriptionStyleModel",
      "state": {
       "description_width": ""
      }
     },
     "58f7726e07c14b809110c6df2e585e43": {
      "model_module": "@jupyter-widgets/base",
      "model_module_version": "1.2.0",
      "model_name": "LayoutModel",
      "state": {}
     },
     "5906bf7249ae48e6b6137e99e03f6471": {
      "model_module": "@jupyter-widgets/controls",
      "model_module_version": "1.5.0",
      "model_name": "HTMLModel",
      "state": {
       "layout": "IPY_MODEL_c768bf0ec324424bb2f6e6ede96fbffb",
       "style": "IPY_MODEL_5ac653619fe240ab9290261f3a058a85",
       "value": " 157/157 [00:15&lt;00:00, 10.48it/s]"
      }
     },
     "591836362fd54bedac9107962d03bfc2": {
      "model_module": "@jupyter-widgets/base",
      "model_module_version": "1.2.0",
      "model_name": "LayoutModel",
      "state": {}
     },
     "5923efb46b0b4ce18975a3dd2d1db271": {
      "model_module": "@jupyter-widgets/base",
      "model_module_version": "1.2.0",
      "model_name": "LayoutModel",
      "state": {}
     },
     "5929d8c5687e4061afbadbf673bb1e45": {
      "model_module": "@jupyter-widgets/controls",
      "model_module_version": "1.5.0",
      "model_name": "HTMLModel",
      "state": {
       "layout": "IPY_MODEL_e92f5cd5e81041b9a578fb2250a7a424",
       "style": "IPY_MODEL_87c570967b6e4fc4925ead0334d0f0eb",
       "value": " 1563/1563 [04:54&lt;00:00,  6.07it/s]"
      }
     },
     "5945b5da4abe44ea94b7079be0c251a0": {
      "model_module": "@jupyter-widgets/base",
      "model_module_version": "1.2.0",
      "model_name": "LayoutModel",
      "state": {}
     },
     "59496774759e4f3fa34f1ddeab4ef1f5": {
      "model_module": "@jupyter-widgets/controls",
      "model_module_version": "1.5.0",
      "model_name": "HTMLModel",
      "state": {
       "layout": "IPY_MODEL_23b6f86e2a094ee3a6fd48a66390de1c",
       "style": "IPY_MODEL_1665c0a1333f4808a8c485141f16d833",
       "value": " 1563/1563 [05:01&lt;00:00,  5.84it/s]"
      }
     },
     "595fc3e6105e41099d127ea69bf4ea84": {
      "model_module": "@jupyter-widgets/base",
      "model_module_version": "1.2.0",
      "model_name": "LayoutModel",
      "state": {}
     },
     "596b09353e03490fb3aabb13359e95d7": {
      "model_module": "@jupyter-widgets/controls",
      "model_module_version": "1.5.0",
      "model_name": "HTMLModel",
      "state": {
       "layout": "IPY_MODEL_6683b76b7f5547978368c918e404f80e",
       "style": "IPY_MODEL_d554eeaf049546c0a2e17b28426bb2ea",
       "value": " 157/157 [00:10&lt;00:00, 15.68it/s]"
      }
     },
     "59856c8f0766495aadca95bd54a4d2db": {
      "model_module": "@jupyter-widgets/controls",
      "model_module_version": "1.5.0",
      "model_name": "FloatProgressModel",
      "state": {
       "description": "val loss: 3.7447: 100%",
       "layout": "IPY_MODEL_296360f1602c449890532e847a56227f",
       "max": 157,
       "style": "IPY_MODEL_f81f2c8231e04ff1a060ab826149bcad",
       "value": 157
      }
     },
     "598f38bcc87c41aeab73d6f1115da4b2": {
      "model_module": "@jupyter-widgets/base",
      "model_module_version": "1.2.0",
      "model_name": "LayoutModel",
      "state": {}
     },
     "59902cb6f4f24b69b43ede779145e74d": {
      "model_module": "@jupyter-widgets/base",
      "model_module_version": "1.2.0",
      "model_name": "LayoutModel",
      "state": {}
     },
     "599a0893e58f453589aad2dd1af0cedf": {
      "model_module": "@jupyter-widgets/base",
      "model_module_version": "1.2.0",
      "model_name": "LayoutModel",
      "state": {}
     },
     "59b776bc137445b7981e3ae80134183a": {
      "model_module": "@jupyter-widgets/base",
      "model_module_version": "1.2.0",
      "model_name": "LayoutModel",
      "state": {}
     },
     "5a053e42941a49358c6a69f8ec2cc7c4": {
      "model_module": "@jupyter-widgets/base",
      "model_module_version": "1.2.0",
      "model_name": "LayoutModel",
      "state": {}
     },
     "5a12e87c057044349545249523f385f8": {
      "model_module": "@jupyter-widgets/base",
      "model_module_version": "1.2.0",
      "model_name": "LayoutModel",
      "state": {}
     },
     "5a181c4405bf48529424c2a92b727332": {
      "model_module": "@jupyter-widgets/controls",
      "model_module_version": "1.5.0",
      "model_name": "FloatProgressModel",
      "state": {
       "description": "train loss: 3.6166: 100%",
       "layout": "IPY_MODEL_ca16e6c4db194fa48e522ba95a27dac3",
       "max": 1563,
       "style": "IPY_MODEL_4c28dee6a70d467dbea79048b7d1becd",
       "value": 1563
      }
     },
     "5a1b3cd5eaa74ce6aeadd1409755e344": {
      "model_module": "@jupyter-widgets/controls",
      "model_module_version": "1.5.0",
      "model_name": "FloatProgressModel",
      "state": {
       "description": "train loss: 3.7385: 100%",
       "layout": "IPY_MODEL_17116b3a6e61443db770c600fe72a61d",
       "max": 1563,
       "style": "IPY_MODEL_1fcd07ced5cb442d8e06e556092e78f7",
       "value": 1563
      }
     },
     "5a1f61731a5640b38278c6e1c208ec7a": {
      "model_module": "@jupyter-widgets/controls",
      "model_module_version": "1.5.0",
      "model_name": "FloatProgressModel",
      "state": {
       "description": "val loss: 3.6660: 100%",
       "layout": "IPY_MODEL_0ff89fcb57014993a23c2d7c05fff389",
       "max": 157,
       "style": "IPY_MODEL_4c5407f04f5c4ed7a905af80fc581ee3",
       "value": 157
      }
     },
     "5a3fb5151ea74dc780410eea35060e75": {
      "model_module": "@jupyter-widgets/base",
      "model_module_version": "1.2.0",
      "model_name": "LayoutModel",
      "state": {}
     },
     "5a5b78af2b5c4e91a03727d105dc1111": {
      "model_module": "@jupyter-widgets/base",
      "model_module_version": "1.2.0",
      "model_name": "LayoutModel",
      "state": {}
     },
     "5a710311b2a74495b3dcf2dea99dce46": {
      "model_module": "@jupyter-widgets/controls",
      "model_module_version": "1.5.0",
      "model_name": "HTMLModel",
      "state": {
       "layout": "IPY_MODEL_9669c5778fa44a1094f252afcf535f77",
       "style": "IPY_MODEL_8cdd7ec53d95467ba95fdbe332bb58a9",
       "value": " 1563/1563 [02:35&lt;00:00, 10.95it/s]"
      }
     },
     "5a7105f0eb0f46f3a9c67ed4c5602afa": {
      "model_module": "@jupyter-widgets/controls",
      "model_module_version": "1.5.0",
      "model_name": "ProgressStyleModel",
      "state": {
       "description_width": "initial"
      }
     },
     "5a74440b0a4044a1b1a47c097435ca49": {
      "model_module": "@jupyter-widgets/base",
      "model_module_version": "1.2.0",
      "model_name": "LayoutModel",
      "state": {}
     },
     "5a8566b985bf45c49c4ac271ac1cee54": {
      "model_module": "@jupyter-widgets/base",
      "model_module_version": "1.2.0",
      "model_name": "LayoutModel",
      "state": {}
     },
     "5a9e9353b3b74d2dbc7f89dd3f751c36": {
      "model_module": "@jupyter-widgets/controls",
      "model_module_version": "1.5.0",
      "model_name": "DescriptionStyleModel",
      "state": {
       "description_width": ""
      }
     },
     "5aa0d7791f5b4d69a6dd3c2e79a4e343": {
      "model_module": "@jupyter-widgets/base",
      "model_module_version": "1.2.0",
      "model_name": "LayoutModel",
      "state": {}
     },
     "5ac653619fe240ab9290261f3a058a85": {
      "model_module": "@jupyter-widgets/controls",
      "model_module_version": "1.5.0",
      "model_name": "DescriptionStyleModel",
      "state": {
       "description_width": ""
      }
     },
     "5ace7a82f25e430399927a498852d2f4": {
      "model_module": "@jupyter-widgets/base",
      "model_module_version": "1.2.0",
      "model_name": "LayoutModel",
      "state": {}
     },
     "5ada689d4b2b4f7daaa71c7c7c67613c": {
      "model_module": "@jupyter-widgets/base",
      "model_module_version": "1.2.0",
      "model_name": "LayoutModel",
      "state": {}
     },
     "5b08250a95ef40a4899049129b602221": {
      "model_module": "@jupyter-widgets/controls",
      "model_module_version": "1.5.0",
      "model_name": "HTMLModel",
      "state": {
       "layout": "IPY_MODEL_b933085315ba421ca71c9622993bc157",
       "style": "IPY_MODEL_bf57e4c1a20d48d4ad4027286545ec8e",
       "value": " 157/157 [00:09&lt;00:00, 15.68it/s]"
      }
     },
     "5b1a840be6d34e2da4b32c96dac6a37f": {
      "model_module": "@jupyter-widgets/base",
      "model_module_version": "1.2.0",
      "model_name": "LayoutModel",
      "state": {}
     },
     "5b289a23fb9d4b95a724bc4e7e434b49": {
      "model_module": "@jupyter-widgets/base",
      "model_module_version": "1.2.0",
      "model_name": "LayoutModel",
      "state": {}
     },
     "5b3369adc9144d2a81b37a87448b1f9f": {
      "model_module": "@jupyter-widgets/base",
      "model_module_version": "1.2.0",
      "model_name": "LayoutModel",
      "state": {}
     },
     "5b6262bf0d594aedaa022e2a441c16d8": {
      "model_module": "@jupyter-widgets/base",
      "model_module_version": "1.2.0",
      "model_name": "LayoutModel",
      "state": {}
     },
     "5b64cab5684b476fa989f0773c7c9271": {
      "model_module": "@jupyter-widgets/controls",
      "model_module_version": "1.5.0",
      "model_name": "ProgressStyleModel",
      "state": {
       "description_width": "initial"
      }
     },
     "5b963404ba8c476e8aee70e24e3983a3": {
      "model_module": "@jupyter-widgets/base",
      "model_module_version": "1.2.0",
      "model_name": "LayoutModel",
      "state": {}
     },
     "5b99d0e0993d4d34b79ea0eac70595a3": {
      "model_module": "@jupyter-widgets/base",
      "model_module_version": "1.2.0",
      "model_name": "LayoutModel",
      "state": {}
     },
     "5ba74681614e4a5da3f8522016611ff1": {
      "model_module": "@jupyter-widgets/base",
      "model_module_version": "1.2.0",
      "model_name": "LayoutModel",
      "state": {}
     },
     "5baae3fc3f47418a9916e7c407c14228": {
      "model_module": "@jupyter-widgets/controls",
      "model_module_version": "1.5.0",
      "model_name": "FloatProgressModel",
      "state": {
       "description": "val loss: 4.0628: 100%",
       "layout": "IPY_MODEL_f7e91b18d36e4b9f8fe083a2ee40a023",
       "max": 157,
       "style": "IPY_MODEL_cddd63649490488c9ff6ba337779f1f1",
       "value": 157
      }
     },
     "5bb71368e8bb424f9ae2ffb547d249bf": {
      "model_module": "@jupyter-widgets/base",
      "model_module_version": "1.2.0",
      "model_name": "LayoutModel",
      "state": {}
     },
     "5bee806cc9ec4c1b8a3b465f7ead628a": {
      "model_module": "@jupyter-widgets/base",
      "model_module_version": "1.2.0",
      "model_name": "LayoutModel",
      "state": {}
     },
     "5bfc0da560364966bdc419b6c55b91c2": {
      "model_module": "@jupyter-widgets/controls",
      "model_module_version": "1.5.0",
      "model_name": "HTMLModel",
      "state": {
       "layout": "IPY_MODEL_9aa5bfe25cc843328afbf07dd56bae19",
       "style": "IPY_MODEL_be33153429a94149847f0a280f275418",
       "value": " 157/157 [00:14&lt;00:00, 10.63it/s]"
      }
     },
     "5bfc3989cafb4c779b6c250a04047efb": {
      "model_module": "@jupyter-widgets/base",
      "model_module_version": "1.2.0",
      "model_name": "LayoutModel",
      "state": {}
     },
     "5c04b993e4a145d2b8e7b2031db92e64": {
      "model_module": "@jupyter-widgets/controls",
      "model_module_version": "1.5.0",
      "model_name": "HTMLModel",
      "state": {
       "layout": "IPY_MODEL_b538d844505a400ba43b9dfe9afde5eb",
       "style": "IPY_MODEL_f93e228804eb4cdf8dc0dc543156db41",
       "value": " 157/157 [00:14&lt;00:00, 11.85it/s]"
      }
     },
     "5c21e67331a24acb81d567bd7e34dea1": {
      "model_module": "@jupyter-widgets/base",
      "model_module_version": "1.2.0",
      "model_name": "LayoutModel",
      "state": {}
     },
     "5c57e771dad54767ae4d67e0ff50170d": {
      "model_module": "@jupyter-widgets/controls",
      "model_module_version": "1.5.0",
      "model_name": "DescriptionStyleModel",
      "state": {
       "description_width": ""
      }
     },
     "5c6c74260f044e6b8beb941e7f4979d2": {
      "model_module": "@jupyter-widgets/controls",
      "model_module_version": "1.5.0",
      "model_name": "HBoxModel",
      "state": {
       "children": [
        "IPY_MODEL_39001a6ff02d4eb99fb55bff8c1ded50",
        "IPY_MODEL_4ed493b270e14f1ba043ff0ac0d70ea8"
       ],
       "layout": "IPY_MODEL_0a139796a85b4580ba33624806b46423"
      }
     },
     "5c7d54bc3e30492da75722eb6bc5780d": {
      "model_module": "@jupyter-widgets/base",
      "model_module_version": "1.2.0",
      "model_name": "LayoutModel",
      "state": {}
     },
     "5c8e7f833557485fb49f8e219c694ad7": {
      "model_module": "@jupyter-widgets/controls",
      "model_module_version": "1.5.0",
      "model_name": "HTMLModel",
      "state": {
       "layout": "IPY_MODEL_4451f242faa744c6b8df372a882319c2",
       "style": "IPY_MODEL_6bba117609774f3ea56d2b3ad411f812",
       "value": " 1563/1563 [02:34&lt;00:00, 10.82it/s]"
      }
     },
     "5c9ab897ee064a6681051e442b3636cb": {
      "model_module": "@jupyter-widgets/controls",
      "model_module_version": "1.5.0",
      "model_name": "DescriptionStyleModel",
      "state": {
       "description_width": ""
      }
     },
     "5ca32aa65fab4181b4c2cc5aa82bee18": {
      "model_module": "@jupyter-widgets/controls",
      "model_module_version": "1.5.0",
      "model_name": "ProgressStyleModel",
      "state": {
       "description_width": "initial"
      }
     },
     "5caf4cb3a8e34e1dae48c6740efe720a": {
      "model_module": "@jupyter-widgets/base",
      "model_module_version": "1.2.0",
      "model_name": "LayoutModel",
      "state": {}
     },
     "5cb75b3b15684a968f5476486ec6e9d0": {
      "model_module": "@jupyter-widgets/controls",
      "model_module_version": "1.5.0",
      "model_name": "DescriptionStyleModel",
      "state": {
       "description_width": ""
      }
     },
     "5cbaaba8eda34a67bd626a7fdd1b3480": {
      "model_module": "@jupyter-widgets/controls",
      "model_module_version": "1.5.0",
      "model_name": "DescriptionStyleModel",
      "state": {
       "description_width": ""
      }
     },
     "5cbd160b52c344de9467141c192c4b91": {
      "model_module": "@jupyter-widgets/base",
      "model_module_version": "1.2.0",
      "model_name": "LayoutModel",
      "state": {}
     },
     "5cbfa61283464bdb95eff56f183de3e1": {
      "model_module": "@jupyter-widgets/controls",
      "model_module_version": "1.5.0",
      "model_name": "HTMLModel",
      "state": {
       "layout": "IPY_MODEL_24103a3973fc4766a2c5206fb57407a3",
       "style": "IPY_MODEL_ef364db3926345c8b63b08f001e0f68a",
       "value": " 157/157 [00:09&lt;00:00, 16.16it/s]"
      }
     },
     "5cc48da48e4e4613bd8d360ab6c653cf": {
      "model_module": "@jupyter-widgets/controls",
      "model_module_version": "1.5.0",
      "model_name": "ProgressStyleModel",
      "state": {
       "description_width": "initial"
      }
     },
     "5cdd94bbc5624376bf726310aa85f9b1": {
      "model_module": "@jupyter-widgets/controls",
      "model_module_version": "1.5.0",
      "model_name": "FloatProgressModel",
      "state": {
       "description": "val loss: 4.4110: 100%",
       "layout": "IPY_MODEL_74dcd5a5a09d46ceb03856e764fafe6d",
       "max": 157,
       "style": "IPY_MODEL_e702b309af9c45d6a97d2803afc354ac",
       "value": 157
      }
     },
     "5ce753e281354849b063cbd887db83d3": {
      "model_module": "@jupyter-widgets/base",
      "model_module_version": "1.2.0",
      "model_name": "LayoutModel",
      "state": {}
     },
     "5d0b203691ae42b9a20b0ad40ea56199": {
      "model_module": "@jupyter-widgets/base",
      "model_module_version": "1.2.0",
      "model_name": "LayoutModel",
      "state": {}
     },
     "5d0bb6da52a44d30b70d4887a300ddc8": {
      "model_module": "@jupyter-widgets/controls",
      "model_module_version": "1.5.0",
      "model_name": "HTMLModel",
      "state": {
       "layout": "IPY_MODEL_c1bdd712fd2e46749b3656b6cc3163f7",
       "style": "IPY_MODEL_d527038d89224dfd820a1d611ae59db6",
       "value": " 1563/1563 [02:35&lt;00:00, 10.90it/s]"
      }
     },
     "5d0c14cd49364d8faa40cdac586f5ce9": {
      "model_module": "@jupyter-widgets/controls",
      "model_module_version": "1.5.0",
      "model_name": "ProgressStyleModel",
      "state": {
       "description_width": "initial"
      }
     },
     "5d3cdb250b8747a1b51c9cddcb04bb5e": {
      "model_module": "@jupyter-widgets/controls",
      "model_module_version": "1.5.0",
      "model_name": "FloatProgressModel",
      "state": {
       "description": "train loss: 3.5710: 100%",
       "layout": "IPY_MODEL_30750dd2426746ae92871d282e821cb0",
       "max": 1563,
       "style": "IPY_MODEL_0ba142e08c8e4d12a5348ce634d27640",
       "value": 1563
      }
     },
     "5d4e523ce8ef4766b95e6158360e6ddd": {
      "model_module": "@jupyter-widgets/controls",
      "model_module_version": "1.5.0",
      "model_name": "DescriptionStyleModel",
      "state": {
       "description_width": ""
      }
     },
     "5d637c5de30f4c18bfcc397f687b3dcc": {
      "model_module": "@jupyter-widgets/controls",
      "model_module_version": "1.5.0",
      "model_name": "ProgressStyleModel",
      "state": {
       "description_width": "initial"
      }
     },
     "5d65a0a323ab4837b98146b607b8ee1a": {
      "model_module": "@jupyter-widgets/controls",
      "model_module_version": "1.5.0",
      "model_name": "HTMLModel",
      "state": {
       "layout": "IPY_MODEL_d9e2adba21f146cba6fb4aabcd7b7b85",
       "style": "IPY_MODEL_0a2934eea0d649dd94ec4e44ba4412ca",
       "value": " 157/157 [00:45&lt;00:00,  4.71s/it]"
      }
     },
     "5d89bfa663b2439eafe276e295b6be49": {
      "model_module": "@jupyter-widgets/base",
      "model_module_version": "1.2.0",
      "model_name": "LayoutModel",
      "state": {}
     },
     "5d9337571bbf4137adb26b40bdbdb63b": {
      "model_module": "@jupyter-widgets/controls",
      "model_module_version": "1.5.0",
      "model_name": "DescriptionStyleModel",
      "state": {
       "description_width": ""
      }
     },
     "5dab8780159c4a6883fbaafecb19eb03": {
      "model_module": "@jupyter-widgets/base",
      "model_module_version": "1.2.0",
      "model_name": "LayoutModel",
      "state": {}
     },
     "5dc251fa12aa453ab99fd26444139997": {
      "model_module": "@jupyter-widgets/base",
      "model_module_version": "1.2.0",
      "model_name": "LayoutModel",
      "state": {}
     },
     "5dcb1bfd9e9843c197d60056e9e67620": {
      "model_module": "@jupyter-widgets/controls",
      "model_module_version": "1.5.0",
      "model_name": "DescriptionStyleModel",
      "state": {
       "description_width": ""
      }
     },
     "5de991582dc649a5aeefc02482cdc743": {
      "model_module": "@jupyter-widgets/base",
      "model_module_version": "1.2.0",
      "model_name": "LayoutModel",
      "state": {}
     },
     "5df63973d74540fda9fbfdd29c0e94cb": {
      "model_module": "@jupyter-widgets/base",
      "model_module_version": "1.2.0",
      "model_name": "LayoutModel",
      "state": {}
     },
     "5df6c61e6d4c4edeaa71bde2cfea423b": {
      "model_module": "@jupyter-widgets/controls",
      "model_module_version": "1.5.0",
      "model_name": "ProgressStyleModel",
      "state": {
       "description_width": "initial"
      }
     },
     "5dfda14093c647d89c81e3d1384ba2a5": {
      "model_module": "@jupyter-widgets/controls",
      "model_module_version": "1.5.0",
      "model_name": "FloatProgressModel",
      "state": {
       "description": "train loss: 3.1832: 100%",
       "layout": "IPY_MODEL_a0d1df3fc4d446dc89b3f0ab3336e10d",
       "max": 1563,
       "style": "IPY_MODEL_ace9c1003742415592b8fc76ed39ad2d",
       "value": 1563
      }
     },
     "5e07c6043d9045e6b1153cc7562d86fb": {
      "model_module": "@jupyter-widgets/controls",
      "model_module_version": "1.5.0",
      "model_name": "FloatProgressModel",
      "state": {
       "description": "train loss: 3.4488: 100%",
       "layout": "IPY_MODEL_08502d86bdeb4200a820898b6b177499",
       "max": 1563,
       "style": "IPY_MODEL_47b7c19d7c5b4d3782df3dc58b781378",
       "value": 1563
      }
     },
     "5e0e5a3de7f04d66807a0369d4f5f35f": {
      "model_module": "@jupyter-widgets/base",
      "model_module_version": "1.2.0",
      "model_name": "LayoutModel",
      "state": {}
     },
     "5e26e233921146ac9089b8c9590e799d": {
      "model_module": "@jupyter-widgets/base",
      "model_module_version": "1.2.0",
      "model_name": "LayoutModel",
      "state": {}
     },
     "5e332779d5af4d97915a2443d83862f2": {
      "model_module": "@jupyter-widgets/controls",
      "model_module_version": "1.5.0",
      "model_name": "ProgressStyleModel",
      "state": {
       "description_width": "initial"
      }
     },
     "5e37f3b3873b4861b2e5ae9c8773c97c": {
      "model_module": "@jupyter-widgets/controls",
      "model_module_version": "1.5.0",
      "model_name": "ProgressStyleModel",
      "state": {
       "description_width": "initial"
      }
     },
     "5e41e4de4f7d4e74a8e0ec55c5d16ae8": {
      "model_module": "@jupyter-widgets/controls",
      "model_module_version": "1.5.0",
      "model_name": "ProgressStyleModel",
      "state": {
       "description_width": "initial"
      }
     },
     "5e58e8a94b5b45bca64527244365b359": {
      "model_module": "@jupyter-widgets/controls",
      "model_module_version": "1.5.0",
      "model_name": "FloatProgressModel",
      "state": {
       "description": "train loss: 3.1353: 100%",
       "layout": "IPY_MODEL_6cd373a6de17499190854d98fe9a9831",
       "max": 1563,
       "style": "IPY_MODEL_cde5be2c460342669eb5b6fc5a23935d",
       "value": 1563
      }
     },
     "5e60014970eb48a9926f329b02a61482": {
      "model_module": "@jupyter-widgets/controls",
      "model_module_version": "1.5.0",
      "model_name": "HTMLModel",
      "state": {
       "layout": "IPY_MODEL_0277a26b37284b4695b6a12e1c74fdaa",
       "style": "IPY_MODEL_094a4e0aa3804184ade53c346cce33fa",
       "value": " 157/157 [00:16&lt;00:00,  9.54it/s]"
      }
     },
     "5e7b6df880e946049dec4d5cbfd0810a": {
      "model_module": "@jupyter-widgets/base",
      "model_module_version": "1.2.0",
      "model_name": "LayoutModel",
      "state": {}
     },
     "5e92678e6bf644549f1970387e018741": {
      "model_module": "@jupyter-widgets/controls",
      "model_module_version": "1.5.0",
      "model_name": "HTMLModel",
      "state": {
       "layout": "IPY_MODEL_89e10e650aa548e9baf75444739c6da0",
       "style": "IPY_MODEL_48ffb444ccbe4e26a57365dd7778846e",
       "value": " 157/157 [00:14&lt;00:00, 11.83it/s]"
      }
     },
     "5e9f20f1fc994380a687d98510ea9a52": {
      "model_module": "@jupyter-widgets/controls",
      "model_module_version": "1.5.0",
      "model_name": "HTMLModel",
      "state": {
       "layout": "IPY_MODEL_13ba693cd9a04cfa89dfd817f3de34fd",
       "style": "IPY_MODEL_ae744ee15593406b8cdf95aed011e3ae",
       "value": " 1563/1563 [05:00&lt;00:00,  5.94it/s]"
      }
     },
     "5ea09868ef6c4ea9ac5ec206b9fb91e0": {
      "model_module": "@jupyter-widgets/base",
      "model_module_version": "1.2.0",
      "model_name": "LayoutModel",
      "state": {}
     },
     "5ebdadd8ee8c4ddfbe7b22ce6d48bed1": {
      "model_module": "@jupyter-widgets/controls",
      "model_module_version": "1.5.0",
      "model_name": "FloatProgressModel",
      "state": {
       "description": "train loss: 3.4186: 100%",
       "layout": "IPY_MODEL_dede4492f87b4bdea8b72fa7f1c11e74",
       "max": 1563,
       "style": "IPY_MODEL_04d5164c6f0f4739aa3ec317e6053ae0",
       "value": 1563
      }
     },
     "5ec8c080071046d8b0c67c40cf6b67bc": {
      "model_module": "@jupyter-widgets/controls",
      "model_module_version": "1.5.0",
      "model_name": "DescriptionStyleModel",
      "state": {
       "description_width": ""
      }
     },
     "5ec9c72f70a946bd8d14d60865b8e307": {
      "model_module": "@jupyter-widgets/controls",
      "model_module_version": "1.5.0",
      "model_name": "FloatProgressModel",
      "state": {
       "description": "val loss: 3.7725: 100%",
       "layout": "IPY_MODEL_cf379f62af8440229412df7b30965531",
       "max": 157,
       "style": "IPY_MODEL_0352547a3a4e4548a9d181378a91789d",
       "value": 157
      }
     },
     "5ee282434fa14f7b9427ba0176e267e1": {
      "model_module": "@jupyter-widgets/base",
      "model_module_version": "1.2.0",
      "model_name": "LayoutModel",
      "state": {}
     },
     "5efa3f0741bd49b698cde13ecaf38a74": {
      "model_module": "@jupyter-widgets/base",
      "model_module_version": "1.2.0",
      "model_name": "LayoutModel",
      "state": {}
     },
     "5f070e759f3d4365b082d0ea03aa8656": {
      "model_module": "@jupyter-widgets/controls",
      "model_module_version": "1.5.0",
      "model_name": "ProgressStyleModel",
      "state": {
       "description_width": "initial"
      }
     },
     "5f10eaa6bdd44e68b64f64ec7ead9b41": {
      "model_module": "@jupyter-widgets/base",
      "model_module_version": "1.2.0",
      "model_name": "LayoutModel",
      "state": {}
     },
     "5f166948dc99483ca063ec37cbd29315": {
      "model_module": "@jupyter-widgets/base",
      "model_module_version": "1.2.0",
      "model_name": "LayoutModel",
      "state": {}
     },
     "5f2fdf81242e468e8ccf739449adbb0f": {
      "model_module": "@jupyter-widgets/controls",
      "model_module_version": "1.5.0",
      "model_name": "FloatProgressModel",
      "state": {
       "description": "val loss: 4.0632: 100%",
       "layout": "IPY_MODEL_21ef101b5a424ffd8aa8d81e251d4f8a",
       "max": 157,
       "style": "IPY_MODEL_23ba467f23234edaa89ddd62efeeeada",
       "value": 157
      }
     },
     "5f35bdb6dbee469481652a553d7f77cb": {
      "model_module": "@jupyter-widgets/controls",
      "model_module_version": "1.5.0",
      "model_name": "DescriptionStyleModel",
      "state": {
       "description_width": ""
      }
     },
     "5f5580a70b2d45f897743ab985992594": {
      "model_module": "@jupyter-widgets/controls",
      "model_module_version": "1.5.0",
      "model_name": "HBoxModel",
      "state": {
       "children": [
        "IPY_MODEL_b106ddbd8b164249afc97c8209a9bcfc",
        "IPY_MODEL_ee5729d5b3264f0d9345b61219a7a197"
       ],
       "layout": "IPY_MODEL_438aa5ac53ac442bb5bb795222d68188"
      }
     },
     "5f697a9d04814934a0ff7364fafd15d6": {
      "model_module": "@jupyter-widgets/base",
      "model_module_version": "1.2.0",
      "model_name": "LayoutModel",
      "state": {}
     },
     "5f76c45259f3410bb36630097acc9ebe": {
      "model_module": "@jupyter-widgets/controls",
      "model_module_version": "1.5.0",
      "model_name": "FloatProgressModel",
      "state": {
       "description": "val loss: 4.6952: 100%",
       "layout": "IPY_MODEL_b27321db39b642cf8ed0a3ae2a77e99b",
       "max": 157,
       "style": "IPY_MODEL_22dee08f8a764ea29e88846c59244adf",
       "value": 157
      }
     },
     "5f8377d0ec674d3eb977fdc626e59bc8": {
      "model_module": "@jupyter-widgets/controls",
      "model_module_version": "1.5.0",
      "model_name": "FloatProgressModel",
      "state": {
       "description": "train loss: 4.8887: 100%",
       "layout": "IPY_MODEL_6ea5e15a9b8b4fcab3360675a239d984",
       "max": 1563,
       "style": "IPY_MODEL_ea1d2ee3868d49a0803fd7686b405348",
       "value": 1563
      }
     },
     "5f90ec90750c4250913bcbdb40441fdf": {
      "model_module": "@jupyter-widgets/base",
      "model_module_version": "1.2.0",
      "model_name": "LayoutModel",
      "state": {}
     },
     "5fa415cf66f84755a7e3a398ec99fffb": {
      "model_module": "@jupyter-widgets/controls",
      "model_module_version": "1.5.0",
      "model_name": "FloatProgressModel",
      "state": {
       "description": "val loss: 4.8551: 100%",
       "layout": "IPY_MODEL_1011a8bd09f946f8a4e79857a3124b78",
       "max": 157,
       "style": "IPY_MODEL_6e45ab8623264a2caf45c6f8690e105a",
       "value": 157
      }
     },
     "5fa66ebaa1fb493abbf66a83b0dad53f": {
      "model_module": "@jupyter-widgets/controls",
      "model_module_version": "1.5.0",
      "model_name": "FloatProgressModel",
      "state": {
       "description": "train loss: 4.2657: 100%",
       "layout": "IPY_MODEL_6a59b3f6513a489d9c85ff18cd1ddb53",
       "max": 1563,
       "style": "IPY_MODEL_01358cb34ee04378adf09d2ae6202ecf",
       "value": 1563
      }
     },
     "5fb10ef038184d1aaaf5b43ea808fc8a": {
      "model_module": "@jupyter-widgets/base",
      "model_module_version": "1.2.0",
      "model_name": "LayoutModel",
      "state": {}
     },
     "5fe670a20dcb45f2be565853d95b98ae": {
      "model_module": "@jupyter-widgets/controls",
      "model_module_version": "1.5.0",
      "model_name": "HTMLModel",
      "state": {
       "layout": "IPY_MODEL_e2e6216bc83c44feb36dfd41f9af2d22",
       "style": "IPY_MODEL_1fa8dbbcd01d40949d7e6b9c20db8e2c",
       "value": " 1563/1563 [04:58&lt;00:00,  5.87it/s]"
      }
     },
     "5fed322244b24412800bdbf1288a8ba9": {
      "model_module": "@jupyter-widgets/controls",
      "model_module_version": "1.5.0",
      "model_name": "ProgressStyleModel",
      "state": {
       "description_width": "initial"
      }
     },
     "5ff50bb59ebf40c8b723cdd7ea7edc6c": {
      "model_module": "@jupyter-widgets/controls",
      "model_module_version": "1.5.0",
      "model_name": "ProgressStyleModel",
      "state": {
       "description_width": "initial"
      }
     },
     "5ffc08bfc2a841e1b52ad9f7c91e35ba": {
      "model_module": "@jupyter-widgets/base",
      "model_module_version": "1.2.0",
      "model_name": "LayoutModel",
      "state": {}
     },
     "60007061f1974ce08f9079b88bea32eb": {
      "model_module": "@jupyter-widgets/controls",
      "model_module_version": "1.5.0",
      "model_name": "DescriptionStyleModel",
      "state": {
       "description_width": ""
      }
     },
     "6000823887a546129e474ba13164f9cf": {
      "model_module": "@jupyter-widgets/base",
      "model_module_version": "1.2.0",
      "model_name": "LayoutModel",
      "state": {}
     },
     "6007882f7d4146acb807a1530d798902": {
      "model_module": "@jupyter-widgets/controls",
      "model_module_version": "1.5.0",
      "model_name": "ProgressStyleModel",
      "state": {
       "description_width": "initial"
      }
     },
     "600f41327a5943cfa5e8d365c5c1b606": {
      "model_module": "@jupyter-widgets/controls",
      "model_module_version": "1.5.0",
      "model_name": "ProgressStyleModel",
      "state": {
       "description_width": "initial"
      }
     },
     "6014e06484c24269b93bebda22458e87": {
      "model_module": "@jupyter-widgets/controls",
      "model_module_version": "1.5.0",
      "model_name": "FloatProgressModel",
      "state": {
       "description": "val loss: 3.2719: 100%",
       "layout": "IPY_MODEL_e3b49c9b77c84bdc809a6a8b44732d5b",
       "max": 157,
       "style": "IPY_MODEL_64aadde2cdcc4b4e92e135cacd81e713",
       "value": 157
      }
     },
     "602d013fa42247369ca03f2801b259d3": {
      "model_module": "@jupyter-widgets/base",
      "model_module_version": "1.2.0",
      "model_name": "LayoutModel",
      "state": {}
     },
     "60339ce286cb4254b7defec695c41cb2": {
      "model_module": "@jupyter-widgets/base",
      "model_module_version": "1.2.0",
      "model_name": "LayoutModel",
      "state": {}
     },
     "60669417b0994bac8481a176600eed1c": {
      "model_module": "@jupyter-widgets/controls",
      "model_module_version": "1.5.0",
      "model_name": "FloatProgressModel",
      "state": {
       "description": "train loss: 3.2986: 100%",
       "layout": "IPY_MODEL_453146e36e8249f193b8a684825eec8a",
       "max": 1563,
       "style": "IPY_MODEL_6534ea5a5e3c4a39ad42634bd82e7178",
       "value": 1563
      }
     },
     "608e00f2c84b44cbaf3624a606072e80": {
      "model_module": "@jupyter-widgets/controls",
      "model_module_version": "1.5.0",
      "model_name": "ProgressStyleModel",
      "state": {
       "description_width": "initial"
      }
     },
     "60bfb9f1ef5d40b68caf6868ff830956": {
      "model_module": "@jupyter-widgets/base",
      "model_module_version": "1.2.0",
      "model_name": "LayoutModel",
      "state": {}
     },
     "60cd182571254a59bd7ee7d3763a029f": {
      "model_module": "@jupyter-widgets/controls",
      "model_module_version": "1.5.0",
      "model_name": "DescriptionStyleModel",
      "state": {
       "description_width": ""
      }
     },
     "6103500e74dc462381765d7e2742cdba": {
      "model_module": "@jupyter-widgets/base",
      "model_module_version": "1.2.0",
      "model_name": "LayoutModel",
      "state": {}
     },
     "611a1a9130214e47bd690d81a085ee6e": {
      "model_module": "@jupyter-widgets/controls",
      "model_module_version": "1.5.0",
      "model_name": "ProgressStyleModel",
      "state": {
       "description_width": "initial"
      }
     },
     "616f1d996c6f4b4a9edfcb0874690104": {
      "model_module": "@jupyter-widgets/controls",
      "model_module_version": "1.5.0",
      "model_name": "HTMLModel",
      "state": {
       "layout": "IPY_MODEL_a288caa779d948aab4b0ba52609a899e",
       "style": "IPY_MODEL_4eb1d388a7b74316a748e0e8c99e1c9f",
       "value": " 157/157 [00:14&lt;00:00, 11.64it/s]"
      }
     },
     "616f1e61508f45b9bc10b7c41554d04d": {
      "model_module": "@jupyter-widgets/controls",
      "model_module_version": "1.5.0",
      "model_name": "DescriptionStyleModel",
      "state": {
       "description_width": ""
      }
     },
     "617350b19f0f45ed91bd958f0da27835": {
      "model_module": "@jupyter-widgets/controls",
      "model_module_version": "1.5.0",
      "model_name": "HTMLModel",
      "state": {
       "layout": "IPY_MODEL_55dbe4e559544fd493c6cbb4f13a2738",
       "style": "IPY_MODEL_80e175900871482d84695855fa59f802",
       "value": " 1563/1563 [02:34&lt;00:00, 10.64it/s]"
      }
     },
     "6185a4cd7204490ba18f9aa589b2a512": {
      "model_module": "@jupyter-widgets/controls",
      "model_module_version": "1.5.0",
      "model_name": "HTMLModel",
      "state": {
       "layout": "IPY_MODEL_b406482e1510469caa9d4bf4a819975b",
       "style": "IPY_MODEL_e9c7da4beaf8412db1940dde58c20638",
       "value": " 1563/1563 [05:00&lt;00:00,  5.84it/s]"
      }
     },
     "61a2af308f36497cbeb5a1cfe2269d7b": {
      "model_module": "@jupyter-widgets/base",
      "model_module_version": "1.2.0",
      "model_name": "LayoutModel",
      "state": {}
     },
     "61b8d4c57ebb45b1bec0615b95faba58": {
      "model_module": "@jupyter-widgets/base",
      "model_module_version": "1.2.0",
      "model_name": "LayoutModel",
      "state": {}
     },
     "61dfdb09a3cd4a498b3b94a48481d9e6": {
      "model_module": "@jupyter-widgets/base",
      "model_module_version": "1.2.0",
      "model_name": "LayoutModel",
      "state": {}
     },
     "621943e288844e76be64aa59f7aa3edb": {
      "model_module": "@jupyter-widgets/controls",
      "model_module_version": "1.5.0",
      "model_name": "FloatProgressModel",
      "state": {
       "description": "train loss: 4.1486: 100%",
       "layout": "IPY_MODEL_269a1580bb744034ab57784aba3989b8",
       "max": 1563,
       "style": "IPY_MODEL_7af6179edbe24a479eeef81a9c868cc0",
       "value": 1563
      }
     },
     "62353b6ecfa44e96a992f357cf706e58": {
      "model_module": "@jupyter-widgets/base",
      "model_module_version": "1.2.0",
      "model_name": "LayoutModel",
      "state": {}
     },
     "626757306aa046f59268275bfee92278": {
      "model_module": "@jupyter-widgets/base",
      "model_module_version": "1.2.0",
      "model_name": "LayoutModel",
      "state": {}
     },
     "62711d23027c487c86f9e32b05fa165e": {
      "model_module": "@jupyter-widgets/controls",
      "model_module_version": "1.5.0",
      "model_name": "FloatProgressModel",
      "state": {
       "description": "val loss: 4.0707: 100%",
       "layout": "IPY_MODEL_0c53b50ffa6e452ebdec6d00595ac157",
       "max": 157,
       "style": "IPY_MODEL_cd7014f32b104f898b302573261f9f52",
       "value": 157
      }
     },
     "628dd7c18a0b44198633fc08143b3110": {
      "model_module": "@jupyter-widgets/base",
      "model_module_version": "1.2.0",
      "model_name": "LayoutModel",
      "state": {}
     },
     "629e3343ea8b49b7bd8b76ba628e6302": {
      "model_module": "@jupyter-widgets/base",
      "model_module_version": "1.2.0",
      "model_name": "LayoutModel",
      "state": {}
     },
     "62c736c16b0546bd89bdc9a92ddc4cb2": {
      "model_module": "@jupyter-widgets/base",
      "model_module_version": "1.2.0",
      "model_name": "LayoutModel",
      "state": {}
     },
     "62d13952612742c9b819e2d3937fbfe7": {
      "model_module": "@jupyter-widgets/controls",
      "model_module_version": "1.5.0",
      "model_name": "FloatProgressModel",
      "state": {
       "description": "train loss: 4.7870: 100%",
       "layout": "IPY_MODEL_3a174f03218d428497a84a6476cd9e96",
       "max": 1563,
       "style": "IPY_MODEL_1976e699862b4fca9fe28df7b828b9a5",
       "value": 1563
      }
     },
     "62d314eb0ef04dcebee57da6e3bd9608": {
      "model_module": "@jupyter-widgets/controls",
      "model_module_version": "1.5.0",
      "model_name": "ProgressStyleModel",
      "state": {
       "description_width": "initial"
      }
     },
     "62e78d7f886742a9abcf4b42f8732173": {
      "model_module": "@jupyter-widgets/controls",
      "model_module_version": "1.5.0",
      "model_name": "DescriptionStyleModel",
      "state": {
       "description_width": ""
      }
     },
     "62f2b89329004a64a0c3f40e0e496180": {
      "model_module": "@jupyter-widgets/controls",
      "model_module_version": "1.5.0",
      "model_name": "ProgressStyleModel",
      "state": {
       "description_width": "initial"
      }
     },
     "630e368c98884beab72952c4d8e33f9c": {
      "model_module": "@jupyter-widgets/base",
      "model_module_version": "1.2.0",
      "model_name": "LayoutModel",
      "state": {}
     },
     "6314b57b8d6d41bba4ad09531f7ad4e7": {
      "model_module": "@jupyter-widgets/controls",
      "model_module_version": "1.5.0",
      "model_name": "ProgressStyleModel",
      "state": {
       "description_width": "initial"
      }
     },
     "633fea2df74b497c910f99c3216ec4c5": {
      "model_module": "@jupyter-widgets/controls",
      "model_module_version": "1.5.0",
      "model_name": "FloatProgressModel",
      "state": {
       "description": "train loss: 3.6563: 100%",
       "layout": "IPY_MODEL_fe2a9a9384664a26ba7a047929931f89",
       "max": 1563,
       "style": "IPY_MODEL_5ca32aa65fab4181b4c2cc5aa82bee18",
       "value": 1563
      }
     },
     "6346602a49e4466a952bbf8f589077ed": {
      "model_module": "@jupyter-widgets/controls",
      "model_module_version": "1.5.0",
      "model_name": "FloatProgressModel",
      "state": {
       "description": "train loss: 4.7420: 100%",
       "layout": "IPY_MODEL_07850e5ce1784f44a8b928eab59b623d",
       "max": 1563,
       "style": "IPY_MODEL_6f88b3ea1ae44ee8a986ee0ba28fbdfc",
       "value": 1563
      }
     },
     "6353de959ee3481e93e25dc73516ab4b": {
      "model_module": "@jupyter-widgets/base",
      "model_module_version": "1.2.0",
      "model_name": "LayoutModel",
      "state": {}
     },
     "638fe18876cb45f5ae92760fcc5e5c44": {
      "model_module": "@jupyter-widgets/controls",
      "model_module_version": "1.5.0",
      "model_name": "HTMLModel",
      "state": {
       "layout": "IPY_MODEL_7395473f68fe49f6922e273dece5039b",
       "style": "IPY_MODEL_5138af182610488b9a95b1e35945a782",
       "value": " 1563/1563 [02:35&lt;00:00,  9.94it/s]"
      }
     },
     "63aa3c3ecfc04286bad82b5f151cdf6c": {
      "model_module": "@jupyter-widgets/controls",
      "model_module_version": "1.5.0",
      "model_name": "FloatProgressModel",
      "state": {
       "bar_style": "danger",
       "description": "train loss: 4.6139:  53%",
       "layout": "IPY_MODEL_f3faeaf1add1498d8706e7357a17ecce",
       "max": 1563,
       "style": "IPY_MODEL_e83d3a8545b64fb488e04238017f33e2",
       "value": 827
      }
     },
     "63b521251f894d128d36df10bec781ef": {
      "model_module": "@jupyter-widgets/base",
      "model_module_version": "1.2.0",
      "model_name": "LayoutModel",
      "state": {}
     },
     "63b55aecedaa473b95c2d8c22301c199": {
      "model_module": "@jupyter-widgets/base",
      "model_module_version": "1.2.0",
      "model_name": "LayoutModel",
      "state": {}
     },
     "63c9fd852817446688a64e38cf23fbd1": {
      "model_module": "@jupyter-widgets/controls",
      "model_module_version": "1.5.0",
      "model_name": "ProgressStyleModel",
      "state": {
       "description_width": "initial"
      }
     },
     "63dfeb0a974d4e029448b597812c5fd2": {
      "model_module": "@jupyter-widgets/base",
      "model_module_version": "1.2.0",
      "model_name": "LayoutModel",
      "state": {}
     },
     "63f107d138c4460a86449f036d5314fa": {
      "model_module": "@jupyter-widgets/base",
      "model_module_version": "1.2.0",
      "model_name": "LayoutModel",
      "state": {}
     },
     "63f60a7502b44d25ab761e627f7de64c": {
      "model_module": "@jupyter-widgets/controls",
      "model_module_version": "1.5.0",
      "model_name": "DescriptionStyleModel",
      "state": {
       "description_width": ""
      }
     },
     "63f70d02362b464098648df896b110e4": {
      "model_module": "@jupyter-widgets/controls",
      "model_module_version": "1.5.0",
      "model_name": "DescriptionStyleModel",
      "state": {
       "description_width": ""
      }
     },
     "63ffde3349954db5ab174601b8914b7a": {
      "model_module": "@jupyter-widgets/controls",
      "model_module_version": "1.5.0",
      "model_name": "HTMLModel",
      "state": {
       "layout": "IPY_MODEL_e5582886a30b45388c8a18085654b2f0",
       "style": "IPY_MODEL_fbb86e4013e84cad87a6383f187061b9",
       "value": " 1563/1563 [05:32&lt;00:00,  5.50it/s]"
      }
     },
     "6405e95389da4b529416f113ce694aa6": {
      "model_module": "@jupyter-widgets/controls",
      "model_module_version": "1.5.0",
      "model_name": "FloatProgressModel",
      "state": {
       "bar_style": "danger",
       "description": "Epochs:   0%",
       "layout": "IPY_MODEL_521edb0d8f1b482099b58f3c9e425969",
       "max": 10,
       "style": "IPY_MODEL_1b4a7de0aef44bf88b4e5d6aa551df52"
      }
     },
     "6421953b7d974a058fee6892547e9e51": {
      "model_module": "@jupyter-widgets/controls",
      "model_module_version": "1.5.0",
      "model_name": "HTMLModel",
      "state": {
       "layout": "IPY_MODEL_adb987651f954baba83083e03619a15b",
       "style": "IPY_MODEL_3175c167ccc6499d8f5a5cfe762c247b",
       "value": " 1563/1563 [05:33&lt;00:00,  5.45it/s]"
      }
     },
     "64299ef5939e498c8800beeccd8e4d1f": {
      "model_module": "@jupyter-widgets/base",
      "model_module_version": "1.2.0",
      "model_name": "LayoutModel",
      "state": {}
     },
     "643cb05d55b045dabd80c0c786151284": {
      "model_module": "@jupyter-widgets/controls",
      "model_module_version": "1.5.0",
      "model_name": "ProgressStyleModel",
      "state": {
       "description_width": "initial"
      }
     },
     "644d8b0201bf41d888aed17a3787e442": {
      "model_module": "@jupyter-widgets/base",
      "model_module_version": "1.2.0",
      "model_name": "LayoutModel",
      "state": {}
     },
     "645308a235bf4ea08f5d731792ec31ab": {
      "model_module": "@jupyter-widgets/base",
      "model_module_version": "1.2.0",
      "model_name": "LayoutModel",
      "state": {}
     },
     "645617027bb5400596e2b493cecca4ef": {
      "model_module": "@jupyter-widgets/base",
      "model_module_version": "1.2.0",
      "model_name": "LayoutModel",
      "state": {}
     },
     "646224a315794d9494444985a583e161": {
      "model_module": "@jupyter-widgets/base",
      "model_module_version": "1.2.0",
      "model_name": "LayoutModel",
      "state": {}
     },
     "64826748e7a642629620139dff6b000a": {
      "model_module": "@jupyter-widgets/controls",
      "model_module_version": "1.5.0",
      "model_name": "HBoxModel",
      "state": {
       "children": [
        "IPY_MODEL_bbb76deba8e64147bb91b2b6c16c9797",
        "IPY_MODEL_4f3218ce75b04cfeb7b13fd5416c5083"
       ],
       "layout": "IPY_MODEL_ffb098f76fc94cc6a8a9ae792878077b"
      }
     },
     "6484c14b54854e85a88d4ed2e8115859": {
      "model_module": "@jupyter-widgets/base",
      "model_module_version": "1.2.0",
      "model_name": "LayoutModel",
      "state": {}
     },
     "6496dd90fa284fe99b6d456e55e1a6a3": {
      "model_module": "@jupyter-widgets/controls",
      "model_module_version": "1.5.0",
      "model_name": "DescriptionStyleModel",
      "state": {
       "description_width": ""
      }
     },
     "64a283e5b17d4da5b4d4ba4ddab4df25": {
      "model_module": "@jupyter-widgets/controls",
      "model_module_version": "1.5.0",
      "model_name": "ProgressStyleModel",
      "state": {
       "description_width": "initial"
      }
     },
     "64aadde2cdcc4b4e92e135cacd81e713": {
      "model_module": "@jupyter-widgets/controls",
      "model_module_version": "1.5.0",
      "model_name": "ProgressStyleModel",
      "state": {
       "description_width": "initial"
      }
     },
     "64d97bb5693e43e8a0ac3f03e329849b": {
      "model_module": "@jupyter-widgets/controls",
      "model_module_version": "1.5.0",
      "model_name": "FloatProgressModel",
      "state": {
       "description": "train loss: 4.1635: 100%",
       "layout": "IPY_MODEL_0e78850236d341928168fb3c787863ed",
       "max": 1563,
       "style": "IPY_MODEL_3e089ef6025e488283e73260f271a890",
       "value": 1563
      }
     },
     "64e6a6c41c6a40c2800d2a68de33ee03": {
      "model_module": "@jupyter-widgets/controls",
      "model_module_version": "1.5.0",
      "model_name": "HTMLModel",
      "state": {
       "layout": "IPY_MODEL_7eb64a1c57d24a6db5ef7c81a5ee5901",
       "style": "IPY_MODEL_03326f3677334edc913bc57066187b0c",
       "value": " 1563/1563 [02:35&lt;00:00, 10.74it/s]"
      }
     },
     "64e892e755d448ccb00e2989f8e817d0": {
      "model_module": "@jupyter-widgets/controls",
      "model_module_version": "1.5.0",
      "model_name": "DescriptionStyleModel",
      "state": {
       "description_width": ""
      }
     },
     "64f178f3be9347cab2bb8c875c0f6d11": {
      "model_module": "@jupyter-widgets/controls",
      "model_module_version": "1.5.0",
      "model_name": "FloatProgressModel",
      "state": {
       "description": "train loss: 3.4930: 100%",
       "layout": "IPY_MODEL_de58b56da2fc4adc83019442584c2138",
       "max": 1563,
       "style": "IPY_MODEL_39bd82e41de9468fa95d3d92d3986da6",
       "value": 1563
      }
     },
     "64fcc1ad9c864661b754a5f71ffb74c7": {
      "model_module": "@jupyter-widgets/base",
      "model_module_version": "1.2.0",
      "model_name": "LayoutModel",
      "state": {}
     },
     "650cf78f264a41f4b1c2885248b73758": {
      "model_module": "@jupyter-widgets/base",
      "model_module_version": "1.2.0",
      "model_name": "LayoutModel",
      "state": {}
     },
     "6534ea5a5e3c4a39ad42634bd82e7178": {
      "model_module": "@jupyter-widgets/controls",
      "model_module_version": "1.5.0",
      "model_name": "ProgressStyleModel",
      "state": {
       "description_width": "initial"
      }
     },
     "6536b029ad03431683b33943012b2bb2": {
      "model_module": "@jupyter-widgets/controls",
      "model_module_version": "1.5.0",
      "model_name": "DescriptionStyleModel",
      "state": {
       "description_width": ""
      }
     },
     "653b6595bcdf4f5c9346f39ad16111cc": {
      "model_module": "@jupyter-widgets/base",
      "model_module_version": "1.2.0",
      "model_name": "LayoutModel",
      "state": {}
     },
     "655a8c98328944e08c91228587da5e0f": {
      "model_module": "@jupyter-widgets/base",
      "model_module_version": "1.2.0",
      "model_name": "LayoutModel",
      "state": {}
     },
     "655f35ad550e483c8a6971cebfe05e70": {
      "model_module": "@jupyter-widgets/controls",
      "model_module_version": "1.5.0",
      "model_name": "HTMLModel",
      "state": {
       "layout": "IPY_MODEL_13e6bd4922a14d2bbb7bb87fa1093ad7",
       "style": "IPY_MODEL_a8ab741919b841c0890eb58245fee59c",
       "value": " 157/157 [00:09&lt;00:00, 15.62it/s]"
      }
     },
     "6567ba60a6fc4448aa39e58a0d67b7a1": {
      "model_module": "@jupyter-widgets/controls",
      "model_module_version": "1.5.0",
      "model_name": "DescriptionStyleModel",
      "state": {
       "description_width": ""
      }
     },
     "656ed797dde84ae48cc5bfcba392db99": {
      "model_module": "@jupyter-widgets/controls",
      "model_module_version": "1.5.0",
      "model_name": "ProgressStyleModel",
      "state": {
       "description_width": "initial"
      }
     },
     "658f414a0fb44f8b919f0917f2a65600": {
      "model_module": "@jupyter-widgets/base",
      "model_module_version": "1.2.0",
      "model_name": "LayoutModel",
      "state": {}
     },
     "659ce0efd4e04c7a9d81ada1e2ccce40": {
      "model_module": "@jupyter-widgets/controls",
      "model_module_version": "1.5.0",
      "model_name": "FloatProgressModel",
      "state": {
       "description": "train loss: 4.2106: 100%",
       "layout": "IPY_MODEL_6912e6ab91994b51ac68c53b3442fec3",
       "max": 1563,
       "style": "IPY_MODEL_45ccd644630d4d8b8c75fdbdcb221c47",
       "value": 1563
      }
     },
     "659de343f15747748625c5748996a174": {
      "model_module": "@jupyter-widgets/controls",
      "model_module_version": "1.5.0",
      "model_name": "ProgressStyleModel",
      "state": {
       "description_width": "initial"
      }
     },
     "65a8b714b8874e7a828ba121ddaadddb": {
      "model_module": "@jupyter-widgets/base",
      "model_module_version": "1.2.0",
      "model_name": "LayoutModel",
      "state": {}
     },
     "65b1aa4ca30f4b8ab6f07044d1d61371": {
      "model_module": "@jupyter-widgets/controls",
      "model_module_version": "1.5.0",
      "model_name": "ProgressStyleModel",
      "state": {
       "description_width": "initial"
      }
     },
     "65dd8f69618543f0bba29b74b942fa59": {
      "model_module": "@jupyter-widgets/controls",
      "model_module_version": "1.5.0",
      "model_name": "FloatProgressModel",
      "state": {
       "description": "train loss: 3.5810: 100%",
       "layout": "IPY_MODEL_cad3a28b9631497d8f5d136b0c73ace7",
       "max": 1563,
       "style": "IPY_MODEL_30815844330b472abdefee2905a6f5d2",
       "value": 1563
      }
     },
     "65e2ebe2cd0c41f2adaea42d5580f886": {
      "model_module": "@jupyter-widgets/base",
      "model_module_version": "1.2.0",
      "model_name": "LayoutModel",
      "state": {}
     },
     "65e5920326b44cf28fca76ec057a4109": {
      "model_module": "@jupyter-widgets/base",
      "model_module_version": "1.2.0",
      "model_name": "LayoutModel",
      "state": {}
     },
     "66431e513ca147d18ccd0e54e9b3198e": {
      "model_module": "@jupyter-widgets/base",
      "model_module_version": "1.2.0",
      "model_name": "LayoutModel",
      "state": {}
     },
     "6655f21aa0084eb38e692e76d4b02ea7": {
      "model_module": "@jupyter-widgets/base",
      "model_module_version": "1.2.0",
      "model_name": "LayoutModel",
      "state": {}
     },
     "666212c3d0e1498890dbc0bd47fbfc9b": {
      "model_module": "@jupyter-widgets/base",
      "model_module_version": "1.2.0",
      "model_name": "LayoutModel",
      "state": {}
     },
     "6683b76b7f5547978368c918e404f80e": {
      "model_module": "@jupyter-widgets/base",
      "model_module_version": "1.2.0",
      "model_name": "LayoutModel",
      "state": {}
     },
     "66c2badcfb334ea3a6246c747b20cddd": {
      "model_module": "@jupyter-widgets/controls",
      "model_module_version": "1.5.0",
      "model_name": "DescriptionStyleModel",
      "state": {
       "description_width": ""
      }
     },
     "66cabedb1f694859997cdeed7fe3913e": {
      "model_module": "@jupyter-widgets/base",
      "model_module_version": "1.2.0",
      "model_name": "LayoutModel",
      "state": {}
     },
     "66d6e884d1b94c589be4c222a6c44120": {
      "model_module": "@jupyter-widgets/base",
      "model_module_version": "1.2.0",
      "model_name": "LayoutModel",
      "state": {}
     },
     "66da80f3a6a64b8696315134a388a48a": {
      "model_module": "@jupyter-widgets/controls",
      "model_module_version": "1.5.0",
      "model_name": "DescriptionStyleModel",
      "state": {
       "description_width": ""
      }
     },
     "671e2e3e049f4f16b7d30dc839b5e2a8": {
      "model_module": "@jupyter-widgets/controls",
      "model_module_version": "1.5.0",
      "model_name": "DescriptionStyleModel",
      "state": {
       "description_width": ""
      }
     },
     "674567ded1a34c78a8f21dd0a4b7e709": {
      "model_module": "@jupyter-widgets/controls",
      "model_module_version": "1.5.0",
      "model_name": "ProgressStyleModel",
      "state": {
       "description_width": "initial"
      }
     },
     "674fad581d2e4add9dc9c47c8bb840b3": {
      "model_module": "@jupyter-widgets/base",
      "model_module_version": "1.2.0",
      "model_name": "LayoutModel",
      "state": {}
     },
     "67587fd4c46a43fcaea80f54f0c55a8d": {
      "model_module": "@jupyter-widgets/controls",
      "model_module_version": "1.5.0",
      "model_name": "ProgressStyleModel",
      "state": {
       "description_width": "initial"
      }
     },
     "677589820fbf45aca8b62ce9331473e7": {
      "model_module": "@jupyter-widgets/controls",
      "model_module_version": "1.5.0",
      "model_name": "ProgressStyleModel",
      "state": {
       "description_width": "initial"
      }
     },
     "678c3b5b0d7f4c3e89129a43d6ae5441": {
      "model_module": "@jupyter-widgets/controls",
      "model_module_version": "1.5.0",
      "model_name": "FloatProgressModel",
      "state": {
       "description": "val loss: 4.2254: 100%",
       "layout": "IPY_MODEL_6be10e6130cf486ba18627d5fbc134d7",
       "max": 157,
       "style": "IPY_MODEL_6e3497618d8946b7bcd92d0bb216ba91",
       "value": 157
      }
     },
     "678f6078092c4d0eab0a6f036a8879df": {
      "model_module": "@jupyter-widgets/base",
      "model_module_version": "1.2.0",
      "model_name": "LayoutModel",
      "state": {}
     },
     "679a021ee11e434a99f94fecb06540ca": {
      "model_module": "@jupyter-widgets/controls",
      "model_module_version": "1.5.0",
      "model_name": "ProgressStyleModel",
      "state": {
       "description_width": "initial"
      }
     },
     "679bee8cdb7b42bb9b8f6b6118a3475e": {
      "model_module": "@jupyter-widgets/controls",
      "model_module_version": "1.5.0",
      "model_name": "FloatProgressModel",
      "state": {
       "description": "train loss: 3.7952: 100%",
       "layout": "IPY_MODEL_b217d3b21f9a4e2d8ba3d140fca40bcc",
       "max": 1563,
       "style": "IPY_MODEL_7fb0dabb667f4c44ad62d50681235d3a",
       "value": 1563
      }
     },
     "67c9f2025c2145dcb2a478093fb79af4": {
      "model_module": "@jupyter-widgets/controls",
      "model_module_version": "1.5.0",
      "model_name": "ProgressStyleModel",
      "state": {
       "description_width": "initial"
      }
     },
     "6802cb9f0c57435ebdf1f38f6a51ea24": {
      "model_module": "@jupyter-widgets/base",
      "model_module_version": "1.2.0",
      "model_name": "LayoutModel",
      "state": {}
     },
     "681f6b59f5e148299a783d1146c3c326": {
      "model_module": "@jupyter-widgets/controls",
      "model_module_version": "1.5.0",
      "model_name": "ProgressStyleModel",
      "state": {
       "description_width": "initial"
      }
     },
     "683bd8d8a869465ca637904e476f273a": {
      "model_module": "@jupyter-widgets/controls",
      "model_module_version": "1.5.0",
      "model_name": "ProgressStyleModel",
      "state": {
       "description_width": "initial"
      }
     },
     "68415dab06dd4d48a81538e2ab4ef443": {
      "model_module": "@jupyter-widgets/controls",
      "model_module_version": "1.5.0",
      "model_name": "DescriptionStyleModel",
      "state": {
       "description_width": ""
      }
     },
     "6846633f66194c23b3863ff60d650c03": {
      "model_module": "@jupyter-widgets/controls",
      "model_module_version": "1.5.0",
      "model_name": "DescriptionStyleModel",
      "state": {
       "description_width": ""
      }
     },
     "6851aeb2fe7647e1a2fca5d820224bcf": {
      "model_module": "@jupyter-widgets/base",
      "model_module_version": "1.2.0",
      "model_name": "LayoutModel",
      "state": {}
     },
     "68526ba5d85e4d33b1ffbac5fe2b6b95": {
      "model_module": "@jupyter-widgets/base",
      "model_module_version": "1.2.0",
      "model_name": "LayoutModel",
      "state": {}
     },
     "68a3d97d7b3549da8d5efea286d18418": {
      "model_module": "@jupyter-widgets/base",
      "model_module_version": "1.2.0",
      "model_name": "LayoutModel",
      "state": {}
     },
     "68b17eb4bf114583b2dff074324137c7": {
      "model_module": "@jupyter-widgets/controls",
      "model_module_version": "1.5.0",
      "model_name": "FloatProgressModel",
      "state": {
       "description": "train loss: 4.3910: 100%",
       "layout": "IPY_MODEL_c045f3276e4647239a352478ca8c1e6f",
       "max": 1563,
       "style": "IPY_MODEL_437a33f26d524ce1ac9556df6100a0c6",
       "value": 1563
      }
     },
     "68c20d6a07544a76b3bc7449986cb997": {
      "model_module": "@jupyter-widgets/base",
      "model_module_version": "1.2.0",
      "model_name": "LayoutModel",
      "state": {}
     },
     "68d737ec796f49cbb51e2af477e4a265": {
      "model_module": "@jupyter-widgets/base",
      "model_module_version": "1.2.0",
      "model_name": "LayoutModel",
      "state": {}
     },
     "68eb825ccf5a4d058d4af4d90e55e559": {
      "model_module": "@jupyter-widgets/controls",
      "model_module_version": "1.5.0",
      "model_name": "ProgressStyleModel",
      "state": {
       "description_width": "initial"
      }
     },
     "690212477c2a4f299cc6fa87676ec697": {
      "model_module": "@jupyter-widgets/base",
      "model_module_version": "1.2.0",
      "model_name": "LayoutModel",
      "state": {}
     },
     "6906e6c18e37424bbd9301153edd559c": {
      "model_module": "@jupyter-widgets/controls",
      "model_module_version": "1.5.0",
      "model_name": "HTMLModel",
      "state": {
       "layout": "IPY_MODEL_51a0f464d4de4aedb86fe9cb9fdac702",
       "style": "IPY_MODEL_f61dffbf2a074cbb9eafb0a62ceb9248",
       "value": " 1563/1563 [05:02&lt;00:00,  5.88it/s]"
      }
     },
     "690c379112bd4c269a1985d7ee5d3350": {
      "model_module": "@jupyter-widgets/base",
      "model_module_version": "1.2.0",
      "model_name": "LayoutModel",
      "state": {}
     },
     "6912e6ab91994b51ac68c53b3442fec3": {
      "model_module": "@jupyter-widgets/base",
      "model_module_version": "1.2.0",
      "model_name": "LayoutModel",
      "state": {}
     },
     "693e58009ba4496a8c3048471b644067": {
      "model_module": "@jupyter-widgets/controls",
      "model_module_version": "1.5.0",
      "model_name": "FloatProgressModel",
      "state": {
       "bar_style": "success",
       "description": "Train Loss: 3.3571 - Val Loss: 3.5561: 100%",
       "layout": "IPY_MODEL_2d87fccf7361466394b49d88eaf3cad4",
       "max": 10,
       "style": "IPY_MODEL_048cb0a56f41432db730dc0b5c8fe647",
       "value": 10
      }
     },
     "694de72e3b084279b7a5b41b57484a20": {
      "model_module": "@jupyter-widgets/base",
      "model_module_version": "1.2.0",
      "model_name": "LayoutModel",
      "state": {}
     },
     "695034a38ff1426c82645a7c2c65b04d": {
      "model_module": "@jupyter-widgets/controls",
      "model_module_version": "1.5.0",
      "model_name": "ProgressStyleModel",
      "state": {
       "description_width": "initial"
      }
     },
     "696d35be4f074cac916069a173f74ed9": {
      "model_module": "@jupyter-widgets/controls",
      "model_module_version": "1.5.0",
      "model_name": "ProgressStyleModel",
      "state": {
       "description_width": "initial"
      }
     },
     "6977bffad6134b8abd403e5d9f472a23": {
      "model_module": "@jupyter-widgets/base",
      "model_module_version": "1.2.0",
      "model_name": "LayoutModel",
      "state": {}
     },
     "69beb11c6ad14743a1d1c8b456521bd1": {
      "model_module": "@jupyter-widgets/controls",
      "model_module_version": "1.5.0",
      "model_name": "FloatProgressModel",
      "state": {
       "description": "val loss: 3.1606: 100%",
       "layout": "IPY_MODEL_0f3bf958a8504b04a627d5c7a7750bdb",
       "max": 157,
       "style": "IPY_MODEL_0a32584901474aef9cb7b90b3a95414c",
       "value": 157
      }
     },
     "69f59bd4fb57407e9593b00d8f719334": {
      "model_module": "@jupyter-widgets/controls",
      "model_module_version": "1.5.0",
      "model_name": "FloatProgressModel",
      "state": {
       "description": "train loss: 3.3189: 100%",
       "layout": "IPY_MODEL_963400aaf3fb46b38972c96005f131c5",
       "max": 1563,
       "style": "IPY_MODEL_d19df15c071248ab8461bae94ccaa607",
       "value": 1563
      }
     },
     "6a007ab1ab7e499b87663cf01f1b1ab4": {
      "model_module": "@jupyter-widgets/controls",
      "model_module_version": "1.5.0",
      "model_name": "HTMLModel",
      "state": {
       "layout": "IPY_MODEL_92f65b8dbab248e4af0fb074aef3f770",
       "style": "IPY_MODEL_3a5bdf5b53604d2ba98a9f102263d929",
       "value": " 1563/1563 [03:40&lt;00:00,  7.17it/s]"
      }
     },
     "6a061a539af34041ba6b3ecc38eb5ce7": {
      "model_module": "@jupyter-widgets/base",
      "model_module_version": "1.2.0",
      "model_name": "LayoutModel",
      "state": {}
     },
     "6a117d11bc3e45a5ae96a696429b84f4": {
      "model_module": "@jupyter-widgets/controls",
      "model_module_version": "1.5.0",
      "model_name": "DescriptionStyleModel",
      "state": {
       "description_width": ""
      }
     },
     "6a59b3f6513a489d9c85ff18cd1ddb53": {
      "model_module": "@jupyter-widgets/base",
      "model_module_version": "1.2.0",
      "model_name": "LayoutModel",
      "state": {}
     },
     "6a61cd7c9090451dae38bda1631bc3bc": {
      "model_module": "@jupyter-widgets/controls",
      "model_module_version": "1.5.0",
      "model_name": "FloatProgressModel",
      "state": {
       "description": "train loss: 4.8572: 100%",
       "layout": "IPY_MODEL_00ec7482b3b649f1a6940a696ef0b3e1",
       "max": 1563,
       "style": "IPY_MODEL_64a283e5b17d4da5b4d4ba4ddab4df25",
       "value": 1563
      }
     },
     "6a6c628ac91e4bf19cc0618aa84bd882": {
      "model_module": "@jupyter-widgets/controls",
      "model_module_version": "1.5.0",
      "model_name": "HTMLModel",
      "state": {
       "layout": "IPY_MODEL_ec3ee0e0dfe743a895b91acecffd99ed",
       "style": "IPY_MODEL_586e807a45124d87be38ee9e7cb78639",
       "value": " 157/157 [00:10&lt;00:00, 15.59it/s]"
      }
     },
     "6a7a68f294f64c1d84f685202c525b0b": {
      "model_module": "@jupyter-widgets/controls",
      "model_module_version": "1.5.0",
      "model_name": "ProgressStyleModel",
      "state": {
       "description_width": "initial"
      }
     },
     "6a8ca29695ef49e1858132306420d9d5": {
      "model_module": "@jupyter-widgets/controls",
      "model_module_version": "1.5.0",
      "model_name": "DescriptionStyleModel",
      "state": {
       "description_width": ""
      }
     },
     "6a9cd31c52484b3e962f73b2d16f751d": {
      "model_module": "@jupyter-widgets/controls",
      "model_module_version": "1.5.0",
      "model_name": "HTMLModel",
      "state": {
       "layout": "IPY_MODEL_799dee7d02ec418c8a804c6d0b402dba",
       "style": "IPY_MODEL_7376c13e5cfb450aae8f145d7b595c01",
       "value": " 1563/1563 [02:34&lt;00:00, 10.23it/s]"
      }
     },
     "6ab7929f667044769e9f0a369ad4e275": {
      "model_module": "@jupyter-widgets/base",
      "model_module_version": "1.2.0",
      "model_name": "LayoutModel",
      "state": {}
     },
     "6ad4335e455a434fbc9288a2a814399a": {
      "model_module": "@jupyter-widgets/base",
      "model_module_version": "1.2.0",
      "model_name": "LayoutModel",
      "state": {}
     },
     "6b0e2e66af7c4e4898a1866f5b161153": {
      "model_module": "@jupyter-widgets/controls",
      "model_module_version": "1.5.0",
      "model_name": "HTMLModel",
      "state": {
       "layout": "IPY_MODEL_cced3db6b6704f40940416a9a0174860",
       "style": "IPY_MODEL_309ca1252b974f56b3e03c1ff6c7a334",
       "value": " 1563/1563 [02:34&lt;00:00,  9.80it/s]"
      }
     },
     "6b1244e062aa404f8685c6add3da499c": {
      "model_module": "@jupyter-widgets/base",
      "model_module_version": "1.2.0",
      "model_name": "LayoutModel",
      "state": {}
     },
     "6b25898cc5de40fda919d7916c7ee386": {
      "model_module": "@jupyter-widgets/controls",
      "model_module_version": "1.5.0",
      "model_name": "HTMLModel",
      "state": {
       "layout": "IPY_MODEL_bd9fcc8eac2f451e8234161f0c899d0a",
       "style": "IPY_MODEL_53f8e3db018b497e888bf50a7fba4eb5",
       "value": " 1563/1563 [05:33&lt;00:00,  5.39it/s]"
      }
     },
     "6b361fc2a514442c80d85b2761addcc5": {
      "model_module": "@jupyter-widgets/controls",
      "model_module_version": "1.5.0",
      "model_name": "FloatProgressModel",
      "state": {
       "description": "train loss: 3.7443: 100%",
       "layout": "IPY_MODEL_cf7e943dd7f9474b8627511ebe0c1957",
       "max": 1563,
       "style": "IPY_MODEL_c36a54639a694c0aa3d9624e3750fbe4",
       "value": 1563
      }
     },
     "6b43b938de504d1d8bf4d2e0c368dfd4": {
      "model_module": "@jupyter-widgets/controls",
      "model_module_version": "1.5.0",
      "model_name": "HTMLModel",
      "state": {
       "layout": "IPY_MODEL_d7dd4721894d4b689879aee8dc96a2ee",
       "style": "IPY_MODEL_e6b850f600314109b3dc78a3ff43c079",
       "value": " 157/157 [00:16&lt;00:00,  9.47it/s]"
      }
     },
     "6b548889feab457da52f92c97e11664f": {
      "model_module": "@jupyter-widgets/base",
      "model_module_version": "1.2.0",
      "model_name": "LayoutModel",
      "state": {}
     },
     "6b66822ed9cf45b69e4d50ca3898bd4d": {
      "model_module": "@jupyter-widgets/controls",
      "model_module_version": "1.5.0",
      "model_name": "HTMLModel",
      "state": {
       "layout": "IPY_MODEL_a54d5abc36534e398cc3e32df67188c8",
       "style": "IPY_MODEL_4ff9140ea11848d9a9d600f688953c8b",
       "value": " 1563/1563 [05:31&lt;00:00,  5.53it/s]"
      }
     },
     "6b89dac965e14ff3899f1cec07e406e4": {
      "model_module": "@jupyter-widgets/base",
      "model_module_version": "1.2.0",
      "model_name": "LayoutModel",
      "state": {}
     },
     "6b93fff380384c80870035fa068fb6e4": {
      "model_module": "@jupyter-widgets/base",
      "model_module_version": "1.2.0",
      "model_name": "LayoutModel",
      "state": {}
     },
     "6b9466153bc842aeb21f70df95d7dd1f": {
      "model_module": "@jupyter-widgets/controls",
      "model_module_version": "1.5.0",
      "model_name": "FloatProgressModel",
      "state": {
       "description": "val loss: 3.7758: 100%",
       "layout": "IPY_MODEL_d9f1a660fe214f7591da76ad2101b78e",
       "max": 157,
       "style": "IPY_MODEL_0a69da6b099a438da1fbd22daf40c8ab",
       "value": 157
      }
     },
     "6b9a2d3b0bd8484d9a1164373c35d7c2": {
      "model_module": "@jupyter-widgets/base",
      "model_module_version": "1.2.0",
      "model_name": "LayoutModel",
      "state": {}
     },
     "6ba7be8fa6254032a8d65c27ed688d58": {
      "model_module": "@jupyter-widgets/base",
      "model_module_version": "1.2.0",
      "model_name": "LayoutModel",
      "state": {}
     },
     "6baefb6e26904733b7bccf6bcf61d37a": {
      "model_module": "@jupyter-widgets/controls",
      "model_module_version": "1.5.0",
      "model_name": "ProgressStyleModel",
      "state": {
       "description_width": "initial"
      }
     },
     "6bba117609774f3ea56d2b3ad411f812": {
      "model_module": "@jupyter-widgets/controls",
      "model_module_version": "1.5.0",
      "model_name": "DescriptionStyleModel",
      "state": {
       "description_width": ""
      }
     },
     "6be10e6130cf486ba18627d5fbc134d7": {
      "model_module": "@jupyter-widgets/base",
      "model_module_version": "1.2.0",
      "model_name": "LayoutModel",
      "state": {}
     },
     "6be61e158fe94ceeaaebc7f10db4b708": {
      "model_module": "@jupyter-widgets/controls",
      "model_module_version": "1.5.0",
      "model_name": "DescriptionStyleModel",
      "state": {
       "description_width": ""
      }
     },
     "6be7c79ef3d84c61ae79f7fd52e43c85": {
      "model_module": "@jupyter-widgets/base",
      "model_module_version": "1.2.0",
      "model_name": "LayoutModel",
      "state": {}
     },
     "6c094f63647b4b88bbfc35e9e832e37c": {
      "model_module": "@jupyter-widgets/controls",
      "model_module_version": "1.5.0",
      "model_name": "HBoxModel",
      "state": {
       "children": [
        "IPY_MODEL_72833764cb2849798a775cba0993cabb",
        "IPY_MODEL_d888507c2515462fa3723a0d27e0429f"
       ],
       "layout": "IPY_MODEL_e48edca152ce47d9bb98872d432a42be"
      }
     },
     "6c09ef84ce7646ee90d7fad4eb53e225": {
      "model_module": "@jupyter-widgets/base",
      "model_module_version": "1.2.0",
      "model_name": "LayoutModel",
      "state": {}
     },
     "6c16f355438741879ace92a663bfade5": {
      "model_module": "@jupyter-widgets/controls",
      "model_module_version": "1.5.0",
      "model_name": "ProgressStyleModel",
      "state": {
       "description_width": "initial"
      }
     },
     "6c2cd70e17cc427dba6996a232346a6c": {
      "model_module": "@jupyter-widgets/base",
      "model_module_version": "1.2.0",
      "model_name": "LayoutModel",
      "state": {}
     },
     "6c4aa1ed00ae48bdbf5fe76e0468df97": {
      "model_module": "@jupyter-widgets/base",
      "model_module_version": "1.2.0",
      "model_name": "LayoutModel",
      "state": {}
     },
     "6c5f403d616a4d9f8f6f99434678c1a1": {
      "model_module": "@jupyter-widgets/controls",
      "model_module_version": "1.5.0",
      "model_name": "HTMLModel",
      "state": {
       "layout": "IPY_MODEL_b143bd8122e64359ae72e9ffb29c6b63",
       "style": "IPY_MODEL_5314766e2cdf4bccaa27a0687c3fd0d8",
       "value": " 1563/1563 [02:32&lt;00:00, 11.18it/s]"
      }
     },
     "6c7d27b914ba41afa17ebee981bac597": {
      "model_module": "@jupyter-widgets/controls",
      "model_module_version": "1.5.0",
      "model_name": "FloatProgressModel",
      "state": {
       "description": "val loss: 3.4689: 100%",
       "layout": "IPY_MODEL_9e27d78fab9c453bbb90ed2feed411cb",
       "max": 157,
       "style": "IPY_MODEL_d4d3525c5c4146a4a7cd170aba435bed",
       "value": 157
      }
     },
     "6c8592b2b6ec4bd6966c6e06be0a663e": {
      "model_module": "@jupyter-widgets/base",
      "model_module_version": "1.2.0",
      "model_name": "LayoutModel",
      "state": {}
     },
     "6c904f7543994ce98e2c3754c32e0ef2": {
      "model_module": "@jupyter-widgets/controls",
      "model_module_version": "1.5.0",
      "model_name": "HBoxModel",
      "state": {
       "children": [
        "IPY_MODEL_144cc98289fd4aefa6dc129a060601d4",
        "IPY_MODEL_826cbcd0a81343aaae9f3e750de06e73"
       ],
       "layout": "IPY_MODEL_f4010db0de7942e69815a543f4ff17eb"
      }
     },
     "6ca51b1d68064cd8ac944ab314fa1752": {
      "model_module": "@jupyter-widgets/base",
      "model_module_version": "1.2.0",
      "model_name": "LayoutModel",
      "state": {}
     },
     "6cbfef37611a4638a727e29bd278b4b4": {
      "model_module": "@jupyter-widgets/controls",
      "model_module_version": "1.5.0",
      "model_name": "DescriptionStyleModel",
      "state": {
       "description_width": ""
      }
     },
     "6cc8a87c65eb4918a36d6a3a1d73b935": {
      "model_module": "@jupyter-widgets/base",
      "model_module_version": "1.2.0",
      "model_name": "LayoutModel",
      "state": {}
     },
     "6cd373a6de17499190854d98fe9a9831": {
      "model_module": "@jupyter-widgets/base",
      "model_module_version": "1.2.0",
      "model_name": "LayoutModel",
      "state": {}
     },
     "6ce48abf9d3a4c878953d2b37259ed84": {
      "model_module": "@jupyter-widgets/controls",
      "model_module_version": "1.5.0",
      "model_name": "DescriptionStyleModel",
      "state": {
       "description_width": ""
      }
     },
     "6d0c4db9c7e24b7cb9d9050a59c3da9e": {
      "model_module": "@jupyter-widgets/controls",
      "model_module_version": "1.5.0",
      "model_name": "ProgressStyleModel",
      "state": {
       "description_width": "initial"
      }
     },
     "6d3cd5ec857d48b2ad7752f272076b1c": {
      "model_module": "@jupyter-widgets/base",
      "model_module_version": "1.2.0",
      "model_name": "LayoutModel",
      "state": {}
     },
     "6d5e5126c8714caa9652923930a32d8e": {
      "model_module": "@jupyter-widgets/controls",
      "model_module_version": "1.5.0",
      "model_name": "DescriptionStyleModel",
      "state": {
       "description_width": ""
      }
     },
     "6d78c63f85804e06b3966999d116fa31": {
      "model_module": "@jupyter-widgets/base",
      "model_module_version": "1.2.0",
      "model_name": "LayoutModel",
      "state": {}
     },
     "6d7fc50787e749978e9925c0679cfc20": {
      "model_module": "@jupyter-widgets/base",
      "model_module_version": "1.2.0",
      "model_name": "LayoutModel",
      "state": {}
     },
     "6d8572bcc449438e8293101799e25898": {
      "model_module": "@jupyter-widgets/base",
      "model_module_version": "1.2.0",
      "model_name": "LayoutModel",
      "state": {}
     },
     "6d95df9da45e476684be058ada9b5641": {
      "model_module": "@jupyter-widgets/base",
      "model_module_version": "1.2.0",
      "model_name": "LayoutModel",
      "state": {}
     },
     "6db1483a121146929794a51da1fd8bac": {
      "model_module": "@jupyter-widgets/controls",
      "model_module_version": "1.5.0",
      "model_name": "HTMLModel",
      "state": {
       "layout": "IPY_MODEL_e0d5cc808c634689a62a79101d05eadb",
       "style": "IPY_MODEL_9bee739d77034e9f9b7fadc18fef5b2f",
       "value": " 1563/1563 [05:33&lt;00:00,  5.47it/s]"
      }
     },
     "6dd5fa8cf3ec4f07a967ff8f97234ca5": {
      "model_module": "@jupyter-widgets/controls",
      "model_module_version": "1.5.0",
      "model_name": "DescriptionStyleModel",
      "state": {
       "description_width": ""
      }
     },
     "6dfca29e74e7468d8487894a5916bdbb": {
      "model_module": "@jupyter-widgets/controls",
      "model_module_version": "1.5.0",
      "model_name": "DescriptionStyleModel",
      "state": {
       "description_width": ""
      }
     },
     "6e24681e99314d78a5eca159f1a425d5": {
      "model_module": "@jupyter-widgets/controls",
      "model_module_version": "1.5.0",
      "model_name": "HTMLModel",
      "state": {
       "layout": "IPY_MODEL_feff4d65dcbe456aadebd852987d7d5d",
       "style": "IPY_MODEL_d0c6067b510c4274a8e0401e82670d6e",
       "value": " 1563/1563 [03:47&lt;00:00,  7.55it/s]"
      }
     },
     "6e3437f7edbe4ef491a3b35229f37d25": {
      "model_module": "@jupyter-widgets/controls",
      "model_module_version": "1.5.0",
      "model_name": "ProgressStyleModel",
      "state": {
       "description_width": "initial"
      }
     },
     "6e3497618d8946b7bcd92d0bb216ba91": {
      "model_module": "@jupyter-widgets/controls",
      "model_module_version": "1.5.0",
      "model_name": "ProgressStyleModel",
      "state": {
       "description_width": "initial"
      }
     },
     "6e45ab8623264a2caf45c6f8690e105a": {
      "model_module": "@jupyter-widgets/controls",
      "model_module_version": "1.5.0",
      "model_name": "ProgressStyleModel",
      "state": {
       "description_width": "initial"
      }
     },
     "6e8f88e26bd148dba8a13b1cee45b049": {
      "model_module": "@jupyter-widgets/controls",
      "model_module_version": "1.5.0",
      "model_name": "DescriptionStyleModel",
      "state": {
       "description_width": ""
      }
     },
     "6e962f28a8db4030a1e07bb96a115d0b": {
      "model_module": "@jupyter-widgets/controls",
      "model_module_version": "1.5.0",
      "model_name": "ProgressStyleModel",
      "state": {
       "description_width": "initial"
      }
     },
     "6e970edf7f8b49bfbdd2f7db25eba428": {
      "model_module": "@jupyter-widgets/controls",
      "model_module_version": "1.5.0",
      "model_name": "ProgressStyleModel",
      "state": {
       "description_width": "initial"
      }
     },
     "6ea5e15a9b8b4fcab3360675a239d984": {
      "model_module": "@jupyter-widgets/base",
      "model_module_version": "1.2.0",
      "model_name": "LayoutModel",
      "state": {}
     },
     "6ea787f7eb6841288d7677784f198c85": {
      "model_module": "@jupyter-widgets/base",
      "model_module_version": "1.2.0",
      "model_name": "LayoutModel",
      "state": {}
     },
     "6eaa92933f884db78edb89d6b40a931b": {
      "model_module": "@jupyter-widgets/controls",
      "model_module_version": "1.5.0",
      "model_name": "FloatProgressModel",
      "state": {
       "description": "train loss: 4.2511: 100%",
       "layout": "IPY_MODEL_80f73b6941d445b4a68f42663f4683c5",
       "max": 1563,
       "style": "IPY_MODEL_2cb3792e2e754839813179d426bc4e1c",
       "value": 1563
      }
     },
     "6eafac4d22bc488a9648a034d5be9186": {
      "model_module": "@jupyter-widgets/base",
      "model_module_version": "1.2.0",
      "model_name": "LayoutModel",
      "state": {}
     },
     "6ec8344f6fb8408dbbde9642a9abeb0e": {
      "model_module": "@jupyter-widgets/controls",
      "model_module_version": "1.5.0",
      "model_name": "FloatProgressModel",
      "state": {
       "description": "train loss: 3.3437: 100%",
       "layout": "IPY_MODEL_ea8ea3b8afe5493787e16e0df73867e2",
       "max": 1563,
       "style": "IPY_MODEL_522c7f62544042b78f4d91ec8d06a514",
       "value": 1563
      }
     },
     "6edbdf240cf447cb9aa920e6048fc8f0": {
      "model_module": "@jupyter-widgets/controls",
      "model_module_version": "1.5.0",
      "model_name": "ProgressStyleModel",
      "state": {
       "description_width": "initial"
      }
     },
     "6edfe8a4a5284307b8d9ec7f9657852f": {
      "model_module": "@jupyter-widgets/base",
      "model_module_version": "1.2.0",
      "model_name": "LayoutModel",
      "state": {}
     },
     "6ee33e6900a14fe2976ab4f84b74ffca": {
      "model_module": "@jupyter-widgets/base",
      "model_module_version": "1.2.0",
      "model_name": "LayoutModel",
      "state": {}
     },
     "6ee4b79134764c059bb3fa3a7753250d": {
      "model_module": "@jupyter-widgets/base",
      "model_module_version": "1.2.0",
      "model_name": "LayoutModel",
      "state": {}
     },
     "6eeacbf757ed40c98c14324cea1945e1": {
      "model_module": "@jupyter-widgets/base",
      "model_module_version": "1.2.0",
      "model_name": "LayoutModel",
      "state": {}
     },
     "6efd8846586d45d78b803bc6fb98d12e": {
      "model_module": "@jupyter-widgets/base",
      "model_module_version": "1.2.0",
      "model_name": "LayoutModel",
      "state": {}
     },
     "6efd91173d49461c9505a42415ef9f2e": {
      "model_module": "@jupyter-widgets/controls",
      "model_module_version": "1.5.0",
      "model_name": "DescriptionStyleModel",
      "state": {
       "description_width": ""
      }
     },
     "6f147880411e4aa994b4dc3976b9ac88": {
      "model_module": "@jupyter-widgets/base",
      "model_module_version": "1.2.0",
      "model_name": "LayoutModel",
      "state": {}
     },
     "6f15502c08c742cabf675d7d4dbc44fd": {
      "model_module": "@jupyter-widgets/base",
      "model_module_version": "1.2.0",
      "model_name": "LayoutModel",
      "state": {}
     },
     "6f381238cad34616be33c13305ce24ab": {
      "model_module": "@jupyter-widgets/base",
      "model_module_version": "1.2.0",
      "model_name": "LayoutModel",
      "state": {}
     },
     "6f469a612db949979667fbd5a9c9742e": {
      "model_module": "@jupyter-widgets/base",
      "model_module_version": "1.2.0",
      "model_name": "LayoutModel",
      "state": {}
     },
     "6f587ac51ddc4ae4ae4f8c2149a68ab3": {
      "model_module": "@jupyter-widgets/controls",
      "model_module_version": "1.5.0",
      "model_name": "ProgressStyleModel",
      "state": {
       "description_width": "initial"
      }
     },
     "6f5a1db7820c46cfafda82d0414eacb4": {
      "model_module": "@jupyter-widgets/base",
      "model_module_version": "1.2.0",
      "model_name": "LayoutModel",
      "state": {}
     },
     "6f62bc6c89174dd591387eb74e577612": {
      "model_module": "@jupyter-widgets/controls",
      "model_module_version": "1.5.0",
      "model_name": "ProgressStyleModel",
      "state": {
       "description_width": "initial"
      }
     },
     "6f638d4f1753425e8ef576835a993687": {
      "model_module": "@jupyter-widgets/controls",
      "model_module_version": "1.5.0",
      "model_name": "DescriptionStyleModel",
      "state": {
       "description_width": ""
      }
     },
     "6f88b3ea1ae44ee8a986ee0ba28fbdfc": {
      "model_module": "@jupyter-widgets/controls",
      "model_module_version": "1.5.0",
      "model_name": "ProgressStyleModel",
      "state": {
       "description_width": "initial"
      }
     },
     "6f8a5d54abc84aa0a2a1c55e1c7ac20e": {
      "model_module": "@jupyter-widgets/controls",
      "model_module_version": "1.5.0",
      "model_name": "FloatProgressModel",
      "state": {
       "description": "train loss: 2.8892: 100%",
       "layout": "IPY_MODEL_cebddf98a58b4d7fb566c00d48f79194",
       "max": 1563,
       "style": "IPY_MODEL_83b453cb707a471fada67cc6aff45bde",
       "value": 1563
      }
     },
     "6fd6513748b845cfbe533d4b4fbb5816": {
      "model_module": "@jupyter-widgets/controls",
      "model_module_version": "1.5.0",
      "model_name": "ProgressStyleModel",
      "state": {
       "description_width": "initial"
      }
     },
     "6febba9dd40f49de9424ea5f825b3090": {
      "model_module": "@jupyter-widgets/controls",
      "model_module_version": "1.5.0",
      "model_name": "DescriptionStyleModel",
      "state": {
       "description_width": ""
      }
     },
     "6fee8d9edae04e63a28c871ef62fbb06": {
      "model_module": "@jupyter-widgets/controls",
      "model_module_version": "1.5.0",
      "model_name": "DescriptionStyleModel",
      "state": {
       "description_width": ""
      }
     },
     "702838f003374a1c8c8745fcc6dc6b66": {
      "model_module": "@jupyter-widgets/controls",
      "model_module_version": "1.5.0",
      "model_name": "ProgressStyleModel",
      "state": {
       "description_width": "initial"
      }
     },
     "702ce9fbb131469dabe8791d7931276d": {
      "model_module": "@jupyter-widgets/base",
      "model_module_version": "1.2.0",
      "model_name": "LayoutModel",
      "state": {}
     },
     "7032ee57572e4c3c9070a5f734b24fde": {
      "model_module": "@jupyter-widgets/controls",
      "model_module_version": "1.5.0",
      "model_name": "HTMLModel",
      "state": {
       "layout": "IPY_MODEL_74eaa0a743184e12ae7af621745e08b9",
       "style": "IPY_MODEL_f3234225e1264f398cea0954fa861f70",
       "value": " 157/157 [00:12&lt;00:00, 12.71it/s]"
      }
     },
     "70416b14b3a84653b8419c55294e9e5d": {
      "model_module": "@jupyter-widgets/base",
      "model_module_version": "1.2.0",
      "model_name": "LayoutModel",
      "state": {}
     },
     "7044eafb161547f5b89f57dd67029347": {
      "model_module": "@jupyter-widgets/controls",
      "model_module_version": "1.5.0",
      "model_name": "HTMLModel",
      "state": {
       "layout": "IPY_MODEL_c82b0ab866fc4df9bcc61f373a40dde5",
       "style": "IPY_MODEL_1ddeb91618324ab7ab37a58cb1ca85df",
       "value": " 449/1563 [01:03&lt;02:39,  6.99it/s]"
      }
     },
     "704bf1c7c5054cf7bc8ed895979f0e35": {
      "model_module": "@jupyter-widgets/controls",
      "model_module_version": "1.5.0",
      "model_name": "FloatProgressModel",
      "state": {
       "description": "train loss: 3.5018: 100%",
       "layout": "IPY_MODEL_ee429137e2024ee6be5c2449b98616ef",
       "max": 1563,
       "style": "IPY_MODEL_40ae91e7c0254f0b88e20ee79f3510e9",
       "value": 1563
      }
     },
     "70833d52bb0c4e328de1703eab04f3b9": {
      "model_module": "@jupyter-widgets/base",
      "model_module_version": "1.2.0",
      "model_name": "LayoutModel",
      "state": {}
     },
     "708520d0c77e4686a169e8cef0cd31df": {
      "model_module": "@jupyter-widgets/controls",
      "model_module_version": "1.5.0",
      "model_name": "ProgressStyleModel",
      "state": {
       "description_width": "initial"
      }
     },
     "709848b7506f43238dccfb9340f4d0f2": {
      "model_module": "@jupyter-widgets/base",
      "model_module_version": "1.2.0",
      "model_name": "LayoutModel",
      "state": {}
     },
     "70adaadf0c314893a61a770249dba83e": {
      "model_module": "@jupyter-widgets/controls",
      "model_module_version": "1.5.0",
      "model_name": "FloatProgressModel",
      "state": {
       "description": "train loss: 4.3403: 100%",
       "layout": "IPY_MODEL_e467745875b7418db5ebbf166b4fef14",
       "max": 1563,
       "style": "IPY_MODEL_7fc3b9d15f05418cbf4281c11c0eafd7",
       "value": 1563
      }
     },
     "70d8f4cc84eb4a3da23c0946257f020b": {
      "model_module": "@jupyter-widgets/base",
      "model_module_version": "1.2.0",
      "model_name": "LayoutModel",
      "state": {}
     },
     "711dd46274ea4ca48177b0a55bda49c5": {
      "model_module": "@jupyter-widgets/controls",
      "model_module_version": "1.5.0",
      "model_name": "DescriptionStyleModel",
      "state": {
       "description_width": ""
      }
     },
     "7120a8308497458aa19c652bf25bad96": {
      "model_module": "@jupyter-widgets/base",
      "model_module_version": "1.2.0",
      "model_name": "LayoutModel",
      "state": {}
     },
     "714069086fd746f98e84bae3101d54a8": {
      "model_module": "@jupyter-widgets/base",
      "model_module_version": "1.2.0",
      "model_name": "LayoutModel",
      "state": {}
     },
     "715d9d57d5ab4778bd8243e991bebd28": {
      "model_module": "@jupyter-widgets/base",
      "model_module_version": "1.2.0",
      "model_name": "LayoutModel",
      "state": {}
     },
     "715db48b624b47d88e8126b369f477b7": {
      "model_module": "@jupyter-widgets/controls",
      "model_module_version": "1.5.0",
      "model_name": "ProgressStyleModel",
      "state": {
       "description_width": "initial"
      }
     },
     "7168bc3ed48343d3b0170e58d4799665": {
      "model_module": "@jupyter-widgets/base",
      "model_module_version": "1.2.0",
      "model_name": "LayoutModel",
      "state": {}
     },
     "71695e7f4c6a4b738c3b736f781e95a2": {
      "model_module": "@jupyter-widgets/controls",
      "model_module_version": "1.5.0",
      "model_name": "HTMLModel",
      "state": {
       "layout": "IPY_MODEL_5fb10ef038184d1aaaf5b43ea808fc8a",
       "style": "IPY_MODEL_11b964a36b9e4bb6812dc399d9403d7a",
       "value": " 1563/1563 [05:33&lt;00:00,  5.44it/s]"
      }
     },
     "7181c6361f9b439c952f6615b4cf7af8": {
      "model_module": "@jupyter-widgets/controls",
      "model_module_version": "1.5.0",
      "model_name": "DescriptionStyleModel",
      "state": {
       "description_width": ""
      }
     },
     "71870650d7074f9ab0d2c40aeaa5c35d": {
      "model_module": "@jupyter-widgets/base",
      "model_module_version": "1.2.0",
      "model_name": "LayoutModel",
      "state": {}
     },
     "718e6a3b67914cf599cb5b098d882c21": {
      "model_module": "@jupyter-widgets/controls",
      "model_module_version": "1.5.0",
      "model_name": "ProgressStyleModel",
      "state": {
       "description_width": "initial"
      }
     },
     "7197b8279252406ca9e957887db86351": {
      "model_module": "@jupyter-widgets/controls",
      "model_module_version": "1.5.0",
      "model_name": "FloatProgressModel",
      "state": {
       "description": "val loss: 4.2187: 100%",
       "layout": "IPY_MODEL_12195c0646cd41879cea2237ffcd7beb",
       "max": 157,
       "style": "IPY_MODEL_f0da90a64b2a4a6187ffc4abb674b29b",
       "value": 157
      }
     },
     "71a6cf51727d4fedb8a796131c37dd25": {
      "model_module": "@jupyter-widgets/controls",
      "model_module_version": "1.5.0",
      "model_name": "DescriptionStyleModel",
      "state": {
       "description_width": ""
      }
     },
     "7206a74861a14cc090ea56cd6e6060c3": {
      "model_module": "@jupyter-widgets/controls",
      "model_module_version": "1.5.0",
      "model_name": "ProgressStyleModel",
      "state": {
       "description_width": "initial"
      }
     },
     "72334e98bd4747c09be19ccdd405b27d": {
      "model_module": "@jupyter-widgets/base",
      "model_module_version": "1.2.0",
      "model_name": "LayoutModel",
      "state": {}
     },
     "724f3a98004a48079376765504403ee1": {
      "model_module": "@jupyter-widgets/controls",
      "model_module_version": "1.5.0",
      "model_name": "ProgressStyleModel",
      "state": {
       "description_width": "initial"
      }
     },
     "725541da771f415eb18d73bb87dbe2f5": {
      "model_module": "@jupyter-widgets/controls",
      "model_module_version": "1.5.0",
      "model_name": "ProgressStyleModel",
      "state": {
       "description_width": "initial"
      }
     },
     "726c4872534d4e2585d8db4b3b888fce": {
      "model_module": "@jupyter-widgets/base",
      "model_module_version": "1.2.0",
      "model_name": "LayoutModel",
      "state": {}
     },
     "72833764cb2849798a775cba0993cabb": {
      "model_module": "@jupyter-widgets/controls",
      "model_module_version": "1.5.0",
      "model_name": "FloatProgressModel",
      "state": {
       "bar_style": "danger",
       "description": "Train Loss: 3.8457 - Val Loss: 4.2409:  80%",
       "layout": "IPY_MODEL_46561102e8044e97ad13731fe5f2b05d",
       "max": 10,
       "style": "IPY_MODEL_7e01f9cd01cd490b8504966f0f85a12a",
       "value": 8
      }
     },
     "728a1037f9004d0381551a01e73b0f99": {
      "model_module": "@jupyter-widgets/base",
      "model_module_version": "1.2.0",
      "model_name": "LayoutModel",
      "state": {}
     },
     "729b098841824c09a5875545df6f2738": {
      "model_module": "@jupyter-widgets/controls",
      "model_module_version": "1.5.0",
      "model_name": "FloatProgressModel",
      "state": {
       "description": "val loss: 4.8989: 100%",
       "layout": "IPY_MODEL_582305c856584ce885faee5d77d2352f",
       "max": 157,
       "style": "IPY_MODEL_dc5c09ccdb5f4679bc26a19af6deb33f",
       "value": 157
      }
     },
     "72a5c3f3728a4359b5f97f728265e8c0": {
      "model_module": "@jupyter-widgets/controls",
      "model_module_version": "1.5.0",
      "model_name": "DescriptionStyleModel",
      "state": {
       "description_width": ""
      }
     },
     "72c743fdd4094e7ab284f7a394d770dd": {
      "model_module": "@jupyter-widgets/base",
      "model_module_version": "1.2.0",
      "model_name": "LayoutModel",
      "state": {}
     },
     "72cd876876a041e2a8427202c9f87ab4": {
      "model_module": "@jupyter-widgets/base",
      "model_module_version": "1.2.0",
      "model_name": "LayoutModel",
      "state": {}
     },
     "72f0c71ce3ca45ca9018456f6a94fd15": {
      "model_module": "@jupyter-widgets/controls",
      "model_module_version": "1.5.0",
      "model_name": "ProgressStyleModel",
      "state": {
       "description_width": "initial"
      }
     },
     "731cd4372b9d47baa683415417a08c64": {
      "model_module": "@jupyter-widgets/controls",
      "model_module_version": "1.5.0",
      "model_name": "ProgressStyleModel",
      "state": {
       "description_width": "initial"
      }
     },
     "73312e17724540e1a3243df95c9cc235": {
      "model_module": "@jupyter-widgets/base",
      "model_module_version": "1.2.0",
      "model_name": "LayoutModel",
      "state": {}
     },
     "737315a7ced6462aba89c09bee86e558": {
      "model_module": "@jupyter-widgets/base",
      "model_module_version": "1.2.0",
      "model_name": "LayoutModel",
      "state": {}
     },
     "7376c13e5cfb450aae8f145d7b595c01": {
      "model_module": "@jupyter-widgets/controls",
      "model_module_version": "1.5.0",
      "model_name": "DescriptionStyleModel",
      "state": {
       "description_width": ""
      }
     },
     "737fea2a4b064ad3b31b8504a2aa71e0": {
      "model_module": "@jupyter-widgets/base",
      "model_module_version": "1.2.0",
      "model_name": "LayoutModel",
      "state": {}
     },
     "73803ccd863c40d0862d3d26d067c3ba": {
      "model_module": "@jupyter-widgets/base",
      "model_module_version": "1.2.0",
      "model_name": "LayoutModel",
      "state": {}
     },
     "73870b1bfe864a008ac7754ecf3d1ca7": {
      "model_module": "@jupyter-widgets/controls",
      "model_module_version": "1.5.0",
      "model_name": "DescriptionStyleModel",
      "state": {
       "description_width": ""
      }
     },
     "738f17583dac4edfbffc9cd98154153f": {
      "model_module": "@jupyter-widgets/controls",
      "model_module_version": "1.5.0",
      "model_name": "ProgressStyleModel",
      "state": {
       "description_width": "initial"
      }
     },
     "7395473f68fe49f6922e273dece5039b": {
      "model_module": "@jupyter-widgets/base",
      "model_module_version": "1.2.0",
      "model_name": "LayoutModel",
      "state": {}
     },
     "739679659be243e5b434e583b8766c61": {
      "model_module": "@jupyter-widgets/controls",
      "model_module_version": "1.5.0",
      "model_name": "HTMLModel",
      "state": {
       "layout": "IPY_MODEL_29d27141a98d450c9f3f8896c8830986",
       "style": "IPY_MODEL_4c9fae9266264bb987baeab57a72a381",
       "value": " 10/10 [59:20&lt;00:00, 356.00s/it]"
      }
     },
     "73b15c3acd964a9e8e48a358f71b802f": {
      "model_module": "@jupyter-widgets/base",
      "model_module_version": "1.2.0",
      "model_name": "LayoutModel",
      "state": {}
     },
     "73be6f12aaa74e2090848e81b280a752": {
      "model_module": "@jupyter-widgets/base",
      "model_module_version": "1.2.0",
      "model_name": "LayoutModel",
      "state": {}
     },
     "73c9db66d1434d7699d4adb85d7331cc": {
      "model_module": "@jupyter-widgets/base",
      "model_module_version": "1.2.0",
      "model_name": "LayoutModel",
      "state": {}
     },
     "73e154a32ff14679a7e595c1fdb93d83": {
      "model_module": "@jupyter-widgets/controls",
      "model_module_version": "1.5.0",
      "model_name": "DescriptionStyleModel",
      "state": {
       "description_width": ""
      }
     },
     "73eae5f175944eec9363cb08f9aff7f1": {
      "model_module": "@jupyter-widgets/controls",
      "model_module_version": "1.5.0",
      "model_name": "DescriptionStyleModel",
      "state": {
       "description_width": ""
      }
     },
     "7407ef325ac74b8b8364e8d5568e5cb0": {
      "model_module": "@jupyter-widgets/controls",
      "model_module_version": "1.5.0",
      "model_name": "HTMLModel",
      "state": {
       "layout": "IPY_MODEL_381d1d93c60b4582aee386c9319c0a8d",
       "style": "IPY_MODEL_f2b8a50cbf614c7c86abe77667598e0c",
       "value": " 157/157 [00:10&lt;00:00, 15.53it/s]"
      }
     },
     "74089cafefde426199ab774d40bba10f": {
      "model_module": "@jupyter-widgets/base",
      "model_module_version": "1.2.0",
      "model_name": "LayoutModel",
      "state": {}
     },
     "74103f249b154e7eb11cedac00cf058c": {
      "model_module": "@jupyter-widgets/base",
      "model_module_version": "1.2.0",
      "model_name": "LayoutModel",
      "state": {}
     },
     "742621c8597241aa942110a9381ccb60": {
      "model_module": "@jupyter-widgets/controls",
      "model_module_version": "1.5.0",
      "model_name": "FloatProgressModel",
      "state": {
       "description": "val loss: 4.4805: 100%",
       "layout": "IPY_MODEL_3a68fe142361422c8b6d1c7019e1760d",
       "max": 157,
       "style": "IPY_MODEL_2978ea25b1644fc59c967477c0de3a00",
       "value": 157
      }
     },
     "743e66a02796451dba0d3b286b86c6d6": {
      "model_module": "@jupyter-widgets/base",
      "model_module_version": "1.2.0",
      "model_name": "LayoutModel",
      "state": {}
     },
     "7445881bc9694a1580d0da369cb80988": {
      "model_module": "@jupyter-widgets/controls",
      "model_module_version": "1.5.0",
      "model_name": "DescriptionStyleModel",
      "state": {
       "description_width": ""
      }
     },
     "745e0b278b214f73af916682ac72d7bc": {
      "model_module": "@jupyter-widgets/base",
      "model_module_version": "1.2.0",
      "model_name": "LayoutModel",
      "state": {}
     },
     "7461c8f17c46400d9ec71ed37faf2192": {
      "model_module": "@jupyter-widgets/controls",
      "model_module_version": "1.5.0",
      "model_name": "ProgressStyleModel",
      "state": {
       "description_width": "initial"
      }
     },
     "746619f83ea0457fa0952c9d3235cb91": {
      "model_module": "@jupyter-widgets/controls",
      "model_module_version": "1.5.0",
      "model_name": "DescriptionStyleModel",
      "state": {
       "description_width": ""
      }
     },
     "7491913cee634703b36cde9afb401581": {
      "model_module": "@jupyter-widgets/controls",
      "model_module_version": "1.5.0",
      "model_name": "FloatProgressModel",
      "state": {
       "description": "val loss: 4.5345: 100%",
       "layout": "IPY_MODEL_737fea2a4b064ad3b31b8504a2aa71e0",
       "max": 157,
       "style": "IPY_MODEL_5a7105f0eb0f46f3a9c67ed4c5602afa",
       "value": 157
      }
     },
     "7491baa38bc6455d84991c570b75a686": {
      "model_module": "@jupyter-widgets/controls",
      "model_module_version": "1.5.0",
      "model_name": "HTMLModel",
      "state": {
       "layout": "IPY_MODEL_79b01fcb65544cf89649349dcf7fe6ad",
       "style": "IPY_MODEL_0fa0c19dc1b34e9b9fb7b56cdc89756c",
       "value": " 1563/1563 [04:53&lt;00:00,  5.94it/s]"
      }
     },
     "7492d0ef21b945e692deeb42de5c73c0": {
      "model_module": "@jupyter-widgets/base",
      "model_module_version": "1.2.0",
      "model_name": "LayoutModel",
      "state": {}
     },
     "74a2a31cbb5e44a38ef3622fb4d3aca3": {
      "model_module": "@jupyter-widgets/controls",
      "model_module_version": "1.5.0",
      "model_name": "HTMLModel",
      "state": {
       "layout": "IPY_MODEL_2f7982833ce84e92bf05a5d31829f238",
       "style": "IPY_MODEL_493809f7cb8d42b695b8d6ca979ab536",
       "value": " 157/157 [00:15&lt;00:00, 10.53it/s]"
      }
     },
     "74c28784292141689141f1eec4ae83f8": {
      "model_module": "@jupyter-widgets/controls",
      "model_module_version": "1.5.0",
      "model_name": "HTMLModel",
      "state": {
       "layout": "IPY_MODEL_e7f0c98156c64f5a8e5ef2a4f1edf43b",
       "style": "IPY_MODEL_2d23df6223784fdda0c46930a3f0b3c3",
       "value": " 1563/1563 [04:58&lt;00:00,  5.86it/s]"
      }
     },
     "74c40330db4840bf99a18470e0495f31": {
      "model_module": "@jupyter-widgets/base",
      "model_module_version": "1.2.0",
      "model_name": "LayoutModel",
      "state": {}
     },
     "74c61de2c10849ccb256b48e157a17c4": {
      "model_module": "@jupyter-widgets/controls",
      "model_module_version": "1.5.0",
      "model_name": "DescriptionStyleModel",
      "state": {
       "description_width": ""
      }
     },
     "74dbb5a2baf34bfe93ad938736b69e29": {
      "model_module": "@jupyter-widgets/controls",
      "model_module_version": "1.5.0",
      "model_name": "DescriptionStyleModel",
      "state": {
       "description_width": ""
      }
     },
     "74dcd5a5a09d46ceb03856e764fafe6d": {
      "model_module": "@jupyter-widgets/base",
      "model_module_version": "1.2.0",
      "model_name": "LayoutModel",
      "state": {}
     },
     "74e02fb0a61e49c4b9c63ac760076267": {
      "model_module": "@jupyter-widgets/controls",
      "model_module_version": "1.5.0",
      "model_name": "FloatProgressModel",
      "state": {
       "description": "train loss: 3.1223: 100%",
       "layout": "IPY_MODEL_d284697d6ec640dbac8316d75db663c7",
       "max": 1563,
       "style": "IPY_MODEL_c83cb8919e0e4ee0beeb6cdab551fdb3",
       "value": 1563
      }
     },
     "74e43a5d919844b1a481bdf1e022826d": {
      "model_module": "@jupyter-widgets/controls",
      "model_module_version": "1.5.0",
      "model_name": "ProgressStyleModel",
      "state": {
       "description_width": "initial"
      }
     },
     "74e79d5b35944a21b4b9fb9d17c586a3": {
      "model_module": "@jupyter-widgets/controls",
      "model_module_version": "1.5.0",
      "model_name": "HTMLModel",
      "state": {
       "layout": "IPY_MODEL_fe2e4b75efb54be788a7fbd2cdaa5d6d",
       "style": "IPY_MODEL_3ad3f426a9ea4ca0ac698593a86b6dbc",
       "value": " 157/157 [00:09&lt;00:00, 15.73it/s]"
      }
     },
     "74eaa0a743184e12ae7af621745e08b9": {
      "model_module": "@jupyter-widgets/base",
      "model_module_version": "1.2.0",
      "model_name": "LayoutModel",
      "state": {}
     },
     "74ec669307bf4518ace1a626e0491d3c": {
      "model_module": "@jupyter-widgets/base",
      "model_module_version": "1.2.0",
      "model_name": "LayoutModel",
      "state": {}
     },
     "74f53a690e5540fd93aaefa0806e499c": {
      "model_module": "@jupyter-widgets/controls",
      "model_module_version": "1.5.0",
      "model_name": "ProgressStyleModel",
      "state": {
       "description_width": "initial"
      }
     },
     "756e51b6567a4b198626fc962ed0c2e8": {
      "model_module": "@jupyter-widgets/base",
      "model_module_version": "1.2.0",
      "model_name": "LayoutModel",
      "state": {}
     },
     "757d4097629649aea3896aea0ffeefa3": {
      "model_module": "@jupyter-widgets/controls",
      "model_module_version": "1.5.0",
      "model_name": "FloatProgressModel",
      "state": {
       "description": "val loss: 3.0826: 100%",
       "layout": "IPY_MODEL_a0a4a4c4715e48b8b1176944a65b62b9",
       "max": 157,
       "style": "IPY_MODEL_5e332779d5af4d97915a2443d83862f2",
       "value": 157
      }
     },
     "758574e518884145b59018662209ee2c": {
      "model_module": "@jupyter-widgets/controls",
      "model_module_version": "1.5.0",
      "model_name": "DescriptionStyleModel",
      "state": {
       "description_width": ""
      }
     },
     "758c198710744fd3b4c5000ed64b6245": {
      "model_module": "@jupyter-widgets/controls",
      "model_module_version": "1.5.0",
      "model_name": "HBoxModel",
      "state": {
       "children": [
        "IPY_MODEL_55888cc9eb61405aa65c3a75ed7e7306",
        "IPY_MODEL_ac08d481fd074fb88e2ab682dbf6f900"
       ],
       "layout": "IPY_MODEL_7e388dbe792841db98459745256b3e64"
      }
     },
     "75f5078f4b33430c808c15851ac0618f": {
      "model_module": "@jupyter-widgets/controls",
      "model_module_version": "1.5.0",
      "model_name": "DescriptionStyleModel",
      "state": {
       "description_width": ""
      }
     },
     "75fbe8aad5684485bb3034f7d03eb463": {
      "model_module": "@jupyter-widgets/controls",
      "model_module_version": "1.5.0",
      "model_name": "ProgressStyleModel",
      "state": {
       "description_width": "initial"
      }
     },
     "75fc831321b243319057d9d43c72fba4": {
      "model_module": "@jupyter-widgets/controls",
      "model_module_version": "1.5.0",
      "model_name": "FloatProgressModel",
      "state": {
       "description": "val loss: 3.4370: 100%",
       "layout": "IPY_MODEL_f5fc2796a56140d78426f1a3d39b3ddf",
       "max": 157,
       "style": "IPY_MODEL_5f070e759f3d4365b082d0ea03aa8656",
       "value": 157
      }
     },
     "761c947a812b42e8ae1e20c63547aa3f": {
      "model_module": "@jupyter-widgets/controls",
      "model_module_version": "1.5.0",
      "model_name": "FloatProgressModel",
      "state": {
       "description": "val loss: 3.8559: 100%",
       "layout": "IPY_MODEL_06b5279ed7204aecae59dadca770dd85",
       "max": 157,
       "style": "IPY_MODEL_53a9cd45e1b449b790d584d9dea75c17",
       "value": 157
      }
     },
     "767ba0c293414dcca268a3d94e801b02": {
      "model_module": "@jupyter-widgets/base",
      "model_module_version": "1.2.0",
      "model_name": "LayoutModel",
      "state": {}
     },
     "767ba6195dec4e1f988c32d74292b3fb": {
      "model_module": "@jupyter-widgets/controls",
      "model_module_version": "1.5.0",
      "model_name": "DescriptionStyleModel",
      "state": {
       "description_width": ""
      }
     },
     "768b1d9c5121405885bc830bcbe20b69": {
      "model_module": "@jupyter-widgets/base",
      "model_module_version": "1.2.0",
      "model_name": "LayoutModel",
      "state": {}
     },
     "769cde29bf3a4fb4b3a23b2036c57374": {
      "model_module": "@jupyter-widgets/base",
      "model_module_version": "1.2.0",
      "model_name": "LayoutModel",
      "state": {}
     },
     "76b2fa08ca4f48b687c362cf89778dd0": {
      "model_module": "@jupyter-widgets/base",
      "model_module_version": "1.2.0",
      "model_name": "LayoutModel",
      "state": {}
     },
     "76cf7b563d1243a7a2ecbcb9db628412": {
      "model_module": "@jupyter-widgets/base",
      "model_module_version": "1.2.0",
      "model_name": "LayoutModel",
      "state": {}
     },
     "76e3ae6bdaeb4ab69fd04aea9bf7d332": {
      "model_module": "@jupyter-widgets/base",
      "model_module_version": "1.2.0",
      "model_name": "LayoutModel",
      "state": {}
     },
     "76e4b41c098e441490417c2397f9e89b": {
      "model_module": "@jupyter-widgets/controls",
      "model_module_version": "1.5.0",
      "model_name": "HTMLModel",
      "state": {
       "layout": "IPY_MODEL_d51990f2f7054ff9a98f6b1231249efd",
       "style": "IPY_MODEL_0b186d60122e42d49d57c45cc1af0a7f",
       "value": " 827/1563 [22:17:19&lt;01:12, 10.17it/s]"
      }
     },
     "77043cf527e6408084f67b86da3763b9": {
      "model_module": "@jupyter-widgets/controls",
      "model_module_version": "1.5.0",
      "model_name": "DescriptionStyleModel",
      "state": {
       "description_width": ""
      }
     },
     "7706aebe2e3146448f77ebe17775030f": {
      "model_module": "@jupyter-widgets/base",
      "model_module_version": "1.2.0",
      "model_name": "LayoutModel",
      "state": {}
     },
     "7707e77d06094ed4bc57af65e4616338": {
      "model_module": "@jupyter-widgets/base",
      "model_module_version": "1.2.0",
      "model_name": "LayoutModel",
      "state": {}
     },
     "7712bb909c28424fb77a0acf785a7d49": {
      "model_module": "@jupyter-widgets/base",
      "model_module_version": "1.2.0",
      "model_name": "LayoutModel",
      "state": {}
     },
     "772c77c307b04bff9078361938ba8450": {
      "model_module": "@jupyter-widgets/controls",
      "model_module_version": "1.5.0",
      "model_name": "HTMLModel",
      "state": {
       "layout": "IPY_MODEL_653b6595bcdf4f5c9346f39ad16111cc",
       "style": "IPY_MODEL_a537c699bca7406bada8e5a1ac565f84",
       "value": " 157/157 [00:10&lt;00:00, 15.44it/s]"
      }
     },
     "772da334ae7f4d4c8edbd1abcbbe87b2": {
      "model_module": "@jupyter-widgets/controls",
      "model_module_version": "1.5.0",
      "model_name": "ProgressStyleModel",
      "state": {
       "description_width": "initial"
      }
     },
     "774bd5c285f84840b85ee768c8bb255e": {
      "model_module": "@jupyter-widgets/controls",
      "model_module_version": "1.5.0",
      "model_name": "DescriptionStyleModel",
      "state": {
       "description_width": ""
      }
     },
     "775d7879503b4c0e8eeb10617c2d6c97": {
      "model_module": "@jupyter-widgets/controls",
      "model_module_version": "1.5.0",
      "model_name": "HBoxModel",
      "state": {
       "children": [
        "IPY_MODEL_87b3e059ef574bca920a01e12b58cb33",
        "IPY_MODEL_cf9f27e6e8b94a8ea381a46d8d39817c"
       ],
       "layout": "IPY_MODEL_d4efce9f0cee4fbdb3ca7024ada46812"
      }
     },
     "778be9feb0464bcdbdd14118d2346105": {
      "model_module": "@jupyter-widgets/base",
      "model_module_version": "1.2.0",
      "model_name": "LayoutModel",
      "state": {}
     },
     "778f17c09c144965a6d065170f33494c": {
      "model_module": "@jupyter-widgets/controls",
      "model_module_version": "1.5.0",
      "model_name": "HTMLModel",
      "state": {
       "layout": "IPY_MODEL_3a0ee2e3aba84588b1d8dbacbd5eea14",
       "style": "IPY_MODEL_913b1f9f46c143cab39fa5a04a901947",
       "value": " 1563/1563 [02:35&lt;00:00, 10.19it/s]"
      }
     },
     "77922ca189b749eea9979a586d74a14b": {
      "model_module": "@jupyter-widgets/controls",
      "model_module_version": "1.5.0",
      "model_name": "FloatProgressModel",
      "state": {
       "description": "train loss: 3.8149: 100%",
       "layout": "IPY_MODEL_e4652b4c25d548f8ad7e3235a33d3bb0",
       "max": 1563,
       "style": "IPY_MODEL_77c6af1c57cf4119931eab6923a7c08b",
       "value": 1563
      }
     },
     "77c6af1c57cf4119931eab6923a7c08b": {
      "model_module": "@jupyter-widgets/controls",
      "model_module_version": "1.5.0",
      "model_name": "ProgressStyleModel",
      "state": {
       "description_width": "initial"
      }
     },
     "77e1e6c2d01240b5b2483cde733eb253": {
      "model_module": "@jupyter-widgets/base",
      "model_module_version": "1.2.0",
      "model_name": "LayoutModel",
      "state": {}
     },
     "7813d86a37634d5d97f10ed6c685d026": {
      "model_module": "@jupyter-widgets/base",
      "model_module_version": "1.2.0",
      "model_name": "LayoutModel",
      "state": {}
     },
     "783b19500a664c4b96cc0a6f3d3e027f": {
      "model_module": "@jupyter-widgets/controls",
      "model_module_version": "1.5.0",
      "model_name": "HTMLModel",
      "state": {
       "layout": "IPY_MODEL_4dac9cb7d9ce4849b23a6fd280c3a315",
       "style": "IPY_MODEL_2a2870892e8244639c2d2594d8ca6b05",
       "value": " 1563/1563 [04:52&lt;00:00,  6.01it/s]"
      }
     },
     "785ee7ea09494e618a0c94670de5e233": {
      "model_module": "@jupyter-widgets/base",
      "model_module_version": "1.2.0",
      "model_name": "LayoutModel",
      "state": {}
     },
     "7860a52b1dce42c4b82cdbb5e5aa3ec7": {
      "model_module": "@jupyter-widgets/base",
      "model_module_version": "1.2.0",
      "model_name": "LayoutModel",
      "state": {}
     },
     "7897a1feec2b403ca2b2f21430303523": {
      "model_module": "@jupyter-widgets/controls",
      "model_module_version": "1.5.0",
      "model_name": "ProgressStyleModel",
      "state": {
       "description_width": "initial"
      }
     },
     "78b8650878964d9693f7e040db5c9fb8": {
      "model_module": "@jupyter-widgets/base",
      "model_module_version": "1.2.0",
      "model_name": "LayoutModel",
      "state": {}
     },
     "79014618cd6c488e89373ecb7727e32e": {
      "model_module": "@jupyter-widgets/controls",
      "model_module_version": "1.5.0",
      "model_name": "HTMLModel",
      "state": {
       "layout": "IPY_MODEL_c37c7e60a4dc4cbb932d1ac5bcbbe18a",
       "style": "IPY_MODEL_6f638d4f1753425e8ef576835a993687",
       "value": " 157/157 [00:10&lt;00:00, 15.49it/s]"
      }
     },
     "7914823a25d14c9c987878dd8d26fd65": {
      "model_module": "@jupyter-widgets/base",
      "model_module_version": "1.2.0",
      "model_name": "LayoutModel",
      "state": {}
     },
     "794eefa8dc81424f8f03d7afce09fc75": {
      "model_module": "@jupyter-widgets/base",
      "model_module_version": "1.2.0",
      "model_name": "LayoutModel",
      "state": {}
     },
     "7950707c69714c3a92fa00031c998a00": {
      "model_module": "@jupyter-widgets/controls",
      "model_module_version": "1.5.0",
      "model_name": "FloatProgressModel",
      "state": {
       "description": "train loss: 4.3494: 100%",
       "layout": "IPY_MODEL_c12fb2b69c694c1b97901137eafa14df",
       "max": 1563,
       "style": "IPY_MODEL_c6a6434b6090470ab169ad8ea6bebc8d",
       "value": 1563
      }
     },
     "795195fd9f424a1ba15f7931749cf8b3": {
      "model_module": "@jupyter-widgets/base",
      "model_module_version": "1.2.0",
      "model_name": "LayoutModel",
      "state": {}
     },
     "79537969b9e747d9ac144aefbb91372d": {
      "model_module": "@jupyter-widgets/controls",
      "model_module_version": "1.5.0",
      "model_name": "ProgressStyleModel",
      "state": {
       "description_width": "initial"
      }
     },
     "79693df146dd4627b47a3449cef9f058": {
      "model_module": "@jupyter-widgets/controls",
      "model_module_version": "1.5.0",
      "model_name": "DescriptionStyleModel",
      "state": {
       "description_width": ""
      }
     },
     "799dee7d02ec418c8a804c6d0b402dba": {
      "model_module": "@jupyter-widgets/base",
      "model_module_version": "1.2.0",
      "model_name": "LayoutModel",
      "state": {}
     },
     "79b01fcb65544cf89649349dcf7fe6ad": {
      "model_module": "@jupyter-widgets/base",
      "model_module_version": "1.2.0",
      "model_name": "LayoutModel",
      "state": {}
     },
     "79c6416ee8594c25865ae8ecb6e3924e": {
      "model_module": "@jupyter-widgets/controls",
      "model_module_version": "1.5.0",
      "model_name": "FloatProgressModel",
      "state": {
       "bar_style": "success",
       "description": "Train Loss: 2.8287 - Val Loss: 3.5878: 100%",
       "layout": "IPY_MODEL_5505e5e9b828414ab1727a26159c7e51",
       "max": 10,
       "style": "IPY_MODEL_bbfbefb975d241e0a8e5bcf1f7497d2e",
       "value": 10
      }
     },
     "79f70f946fd64f2b97642465de6150c2": {
      "model_module": "@jupyter-widgets/controls",
      "model_module_version": "1.5.0",
      "model_name": "DescriptionStyleModel",
      "state": {
       "description_width": ""
      }
     },
     "79fc04e4aa65418bbd97d35b40d42629": {
      "model_module": "@jupyter-widgets/base",
      "model_module_version": "1.2.0",
      "model_name": "LayoutModel",
      "state": {}
     },
     "7a25bfc07cd2486a867ba0d913e311ae": {
      "model_module": "@jupyter-widgets/controls",
      "model_module_version": "1.5.0",
      "model_name": "HTMLModel",
      "state": {
       "layout": "IPY_MODEL_5b1a840be6d34e2da4b32c96dac6a37f",
       "style": "IPY_MODEL_6536b029ad03431683b33943012b2bb2",
       "value": " 1563/1563 [05:32&lt;00:00,  5.49it/s]"
      }
     },
     "7a3e4a1376b8434eb8c87e06b4a321f0": {
      "model_module": "@jupyter-widgets/controls",
      "model_module_version": "1.5.0",
      "model_name": "FloatProgressModel",
      "state": {
       "description": "val loss: 5.1323: 100%",
       "layout": "IPY_MODEL_cf62cd7b6155490dbdfef29063c031b3",
       "max": 157,
       "style": "IPY_MODEL_643cb05d55b045dabd80c0c786151284",
       "value": 157
      }
     },
     "7a4b339924b7401099931ac8bc1d9a3b": {
      "model_module": "@jupyter-widgets/controls",
      "model_module_version": "1.5.0",
      "model_name": "HTMLModel",
      "state": {
       "layout": "IPY_MODEL_f5fe146440264145849e3dbd729232f1",
       "style": "IPY_MODEL_86eaa65696094783bda9b335ea7a3d9d",
       "value": " 157/157 [00:10&lt;00:00, 15.67it/s]"
      }
     },
     "7a8c322dbe274f2e9c2536fc71bbc923": {
      "model_module": "@jupyter-widgets/controls",
      "model_module_version": "1.5.0",
      "model_name": "FloatProgressModel",
      "state": {
       "description": "val loss: 2.9692: 100%",
       "layout": "IPY_MODEL_7813d86a37634d5d97f10ed6c685d026",
       "max": 157,
       "style": "IPY_MODEL_51b39ea437d74c7da05d9ebb9b2e67b0",
       "value": 157
      }
     },
     "7aa2a43ab5344548acb82cc81f02c8c3": {
      "model_module": "@jupyter-widgets/controls",
      "model_module_version": "1.5.0",
      "model_name": "HBoxModel",
      "state": {
       "children": [
        "IPY_MODEL_6405e95389da4b529416f113ce694aa6",
        "IPY_MODEL_56cbe9c98e924def83d4219d81f086be"
       ],
       "layout": "IPY_MODEL_92193f987b5f43c78c238de55cc63a4a"
      }
     },
     "7aa49b09535b4ecb861b56fb56219196": {
      "model_module": "@jupyter-widgets/controls",
      "model_module_version": "1.5.0",
      "model_name": "ProgressStyleModel",
      "state": {
       "description_width": "initial"
      }
     },
     "7aa55db1d5e442a9a33ec962616f4179": {
      "model_module": "@jupyter-widgets/controls",
      "model_module_version": "1.5.0",
      "model_name": "HTMLModel",
      "state": {
       "layout": "IPY_MODEL_094fddafc89c4a79b205b0c839d3cd1d",
       "style": "IPY_MODEL_d8d0fe1e4f7a4d7894797392ae793717",
       "value": " 24/1563 [00:02&lt;02:34,  9.94it/s]"
      }
     },
     "7ab0bee42da7435daf17454bd8f5c820": {
      "model_module": "@jupyter-widgets/controls",
      "model_module_version": "1.5.0",
      "model_name": "DescriptionStyleModel",
      "state": {
       "description_width": ""
      }
     },
     "7ab679c9321a44d6840d40f65aff24aa": {
      "model_module": "@jupyter-widgets/controls",
      "model_module_version": "1.5.0",
      "model_name": "FloatProgressModel",
      "state": {
       "description": "train loss: 3.6473: 100%",
       "layout": "IPY_MODEL_bae5c1b7ee6d41e4bdd47d1308130793",
       "max": 1563,
       "style": "IPY_MODEL_9a2a38d1a3404c4480d2c45a297a0944",
       "value": 1563
      }
     },
     "7ab95f2a8238480bb5a42d78486df3bf": {
      "model_module": "@jupyter-widgets/controls",
      "model_module_version": "1.5.0",
      "model_name": "HTMLModel",
      "state": {
       "layout": "IPY_MODEL_1e98aef380d044e2be550d00414b1f3e",
       "style": "IPY_MODEL_f3a773aa184e40c6a2451ddb7d40851d",
       "value": " 157/157 [00:14&lt;00:00, 11.81it/s]"
      }
     },
     "7aebdfa6a3ad4a51b0660e7bd101c020": {
      "model_module": "@jupyter-widgets/base",
      "model_module_version": "1.2.0",
      "model_name": "LayoutModel",
      "state": {}
     },
     "7af6179edbe24a479eeef81a9c868cc0": {
      "model_module": "@jupyter-widgets/controls",
      "model_module_version": "1.5.0",
      "model_name": "ProgressStyleModel",
      "state": {
       "description_width": "initial"
      }
     },
     "7b02d28783f74cee9e86b7cb929572cc": {
      "model_module": "@jupyter-widgets/base",
      "model_module_version": "1.2.0",
      "model_name": "LayoutModel",
      "state": {}
     },
     "7b1b95e94fc642f9a468344dfb29f646": {
      "model_module": "@jupyter-widgets/controls",
      "model_module_version": "1.5.0",
      "model_name": "FloatProgressModel",
      "state": {
       "description": "train loss: 3.3312: 100%",
       "layout": "IPY_MODEL_a2a102b4f073485c856d68a246ea648c",
       "max": 1563,
       "style": "IPY_MODEL_c4f47a150f0547c38c0547f697995c09",
       "value": 1563
      }
     },
     "7b2605839c92402c9b22b78aaf56697a": {
      "model_module": "@jupyter-widgets/base",
      "model_module_version": "1.2.0",
      "model_name": "LayoutModel",
      "state": {}
     },
     "7b64a6f2dc4f4ba7a9df158708f76b8f": {
      "model_module": "@jupyter-widgets/controls",
      "model_module_version": "1.5.0",
      "model_name": "DescriptionStyleModel",
      "state": {
       "description_width": ""
      }
     },
     "7b65e39fb4fc4cd0aa3c48d29f69bc28": {
      "model_module": "@jupyter-widgets/controls",
      "model_module_version": "1.5.0",
      "model_name": "ProgressStyleModel",
      "state": {
       "description_width": "initial"
      }
     },
     "7b7e8d3f372745159077d928c7c5001d": {
      "model_module": "@jupyter-widgets/base",
      "model_module_version": "1.2.0",
      "model_name": "LayoutModel",
      "state": {}
     },
     "7b8d2a5caf2b40708477ac817e3a4dfb": {
      "model_module": "@jupyter-widgets/controls",
      "model_module_version": "1.5.0",
      "model_name": "HTMLModel",
      "state": {
       "layout": "IPY_MODEL_f74a8c279bbf49f6a462597d8e451826",
       "style": "IPY_MODEL_dd75a3630ecf425c94268dcd3c69bd38",
       "value": " 157/157 [00:09&lt;00:00, 15.93it/s]"
      }
     },
     "7ba4272b42854636823a3264ca6bd489": {
      "model_module": "@jupyter-widgets/controls",
      "model_module_version": "1.5.0",
      "model_name": "HTMLModel",
      "state": {
       "layout": "IPY_MODEL_b37442d1d92a47d2a2c2791ae0053404",
       "style": "IPY_MODEL_c0017a98bd86470586b705777d607698",
       "value": " 157/157 [00:14&lt;00:00, 11.86it/s]"
      }
     },
     "7bc03f65ee54447d8c60fd83384af7b2": {
      "model_module": "@jupyter-widgets/base",
      "model_module_version": "1.2.0",
      "model_name": "LayoutModel",
      "state": {}
     },
     "7bed2582977f448d911a940084578ffb": {
      "model_module": "@jupyter-widgets/controls",
      "model_module_version": "1.5.0",
      "model_name": "HTMLModel",
      "state": {
       "layout": "IPY_MODEL_55d7f1acf6734fc5bec4de78c8663c9a",
       "style": "IPY_MODEL_af2e131e0da14b9a8fe6a99c311be73f",
       "value": " 157/157 [00:15&lt;00:00, 11.66it/s]"
      }
     },
     "7c04e10c848d4903816b3b0b9777baa5": {
      "model_module": "@jupyter-widgets/controls",
      "model_module_version": "1.5.0",
      "model_name": "HTMLModel",
      "state": {
       "layout": "IPY_MODEL_b6ae52d7ad3948398ccd332bc0bfc813",
       "style": "IPY_MODEL_9844f7c95ef740099aea276336536882",
       "value": " 1563/1563 [02:34&lt;00:00, 10.72it/s]"
      }
     },
     "7c26b5e2f2b54583856fd7f796819e94": {
      "model_module": "@jupyter-widgets/controls",
      "model_module_version": "1.5.0",
      "model_name": "HTMLModel",
      "state": {
       "layout": "IPY_MODEL_6000823887a546129e474ba13164f9cf",
       "style": "IPY_MODEL_a52e84cf862543fdbb35e7b16a3493d7",
       "value": " 1563/1563 [03:45&lt;00:00,  6.91it/s]"
      }
     },
     "7c2c264e63c84b34b087238e118d45a3": {
      "model_module": "@jupyter-widgets/base",
      "model_module_version": "1.2.0",
      "model_name": "LayoutModel",
      "state": {}
     },
     "7c2cabf9eabc41faa9ebaefe08b71275": {
      "model_module": "@jupyter-widgets/controls",
      "model_module_version": "1.5.0",
      "model_name": "DescriptionStyleModel",
      "state": {
       "description_width": ""
      }
     },
     "7c33211c782c41908e0a4405455ab411": {
      "model_module": "@jupyter-widgets/controls",
      "model_module_version": "1.5.0",
      "model_name": "ProgressStyleModel",
      "state": {
       "description_width": "initial"
      }
     },
     "7c3768a9f8f945f7be1a6ca64e983075": {
      "model_module": "@jupyter-widgets/base",
      "model_module_version": "1.2.0",
      "model_name": "LayoutModel",
      "state": {}
     },
     "7c4aecd630b947da97645b6e615f58be": {
      "model_module": "@jupyter-widgets/controls",
      "model_module_version": "1.5.0",
      "model_name": "FloatProgressModel",
      "state": {
       "description": "train loss: 3.4322: 100%",
       "layout": "IPY_MODEL_6977bffad6134b8abd403e5d9f472a23",
       "max": 1563,
       "style": "IPY_MODEL_cf3ead10617941d7823aa330e4d9595b",
       "value": 1563
      }
     },
     "7c6cc93aa88f4e48ba294d8f70fbf18d": {
      "model_module": "@jupyter-widgets/controls",
      "model_module_version": "1.5.0",
      "model_name": "ProgressStyleModel",
      "state": {
       "description_width": "initial"
      }
     },
     "7c842dfb1f37401dae9da504cb36d090": {
      "model_module": "@jupyter-widgets/controls",
      "model_module_version": "1.5.0",
      "model_name": "HTMLModel",
      "state": {
       "layout": "IPY_MODEL_03df9c60adb3493b9ee7712ab78231a5",
       "style": "IPY_MODEL_f5058ee7e58e4a12b2eb5326ced6f54b",
       "value": " 1563/1563 [02:34&lt;00:00,  9.97it/s]"
      }
     },
     "7c90939ea5e4414ca2abda9373b1d6d6": {
      "model_module": "@jupyter-widgets/controls",
      "model_module_version": "1.5.0",
      "model_name": "ProgressStyleModel",
      "state": {
       "description_width": "initial"
      }
     },
     "7ca882445ce3403c9ab8e20d245fa266": {
      "model_module": "@jupyter-widgets/controls",
      "model_module_version": "1.5.0",
      "model_name": "ProgressStyleModel",
      "state": {
       "description_width": "initial"
      }
     },
     "7ca97aaa1f7f46f5b5f299bf8b8a1729": {
      "model_module": "@jupyter-widgets/controls",
      "model_module_version": "1.5.0",
      "model_name": "HTMLModel",
      "state": {
       "layout": "IPY_MODEL_56931c76447d47358d0e7b4ce3c361ca",
       "style": "IPY_MODEL_230aa057228d4879a5c94c72a64a612e",
       "value": " 1563/1563 [05:02&lt;00:00,  5.92it/s]"
      }
     },
     "7caf0e6a9c9b4fa38b75871e0c239b54": {
      "model_module": "@jupyter-widgets/controls",
      "model_module_version": "1.5.0",
      "model_name": "HBoxModel",
      "state": {
       "children": [
        "IPY_MODEL_63aa3c3ecfc04286bad82b5f151cdf6c",
        "IPY_MODEL_76e4b41c098e441490417c2397f9e89b"
       ],
       "layout": "IPY_MODEL_15ea413275cd471b91cb5032d021a060"
      }
     },
     "7cb0b66c94324e6783c3a2e6951445b9": {
      "model_module": "@jupyter-widgets/controls",
      "model_module_version": "1.5.0",
      "model_name": "DescriptionStyleModel",
      "state": {
       "description_width": ""
      }
     },
     "7cb7357368d745e18601e4ba38aa092e": {
      "model_module": "@jupyter-widgets/controls",
      "model_module_version": "1.5.0",
      "model_name": "HTMLModel",
      "state": {
       "layout": "IPY_MODEL_d39ad73ce22443c6a0f118b341bbcd57",
       "style": "IPY_MODEL_cff67528093b425dad7a4173a9854f30",
       "value": " 0/10 [00:00&lt;?, ?it/s]"
      }
     },
     "7cdde070f7dc49bdb2413c26b9f8f278": {
      "model_module": "@jupyter-widgets/controls",
      "model_module_version": "1.5.0",
      "model_name": "DescriptionStyleModel",
      "state": {
       "description_width": ""
      }
     },
     "7ce961c024674fa7909025966bf088b6": {
      "model_module": "@jupyter-widgets/controls",
      "model_module_version": "1.5.0",
      "model_name": "FloatProgressModel",
      "state": {
       "description": "train loss: 3.2908: 100%",
       "layout": "IPY_MODEL_839d709df3ae42b0b026a125e6bdd878",
       "max": 1563,
       "style": "IPY_MODEL_d0486b2a9ec34c3993d561ad42997fda",
       "value": 1563
      }
     },
     "7ceaf05fb4d44b34823342d56c1eff8f": {
      "model_module": "@jupyter-widgets/controls",
      "model_module_version": "1.5.0",
      "model_name": "HTMLModel",
      "state": {
       "layout": "IPY_MODEL_f3298cc8d0734a16958ea13484f66469",
       "style": "IPY_MODEL_43690d4ce9404d8ab5e45135208ebf08",
       "value": " 157/157 [00:15&lt;00:00, 11.80it/s]"
      }
     },
     "7d0ae47121e34c6d8457b2a6ba074d57": {
      "model_module": "@jupyter-widgets/controls",
      "model_module_version": "1.5.0",
      "model_name": "ProgressStyleModel",
      "state": {
       "description_width": "initial"
      }
     },
     "7d0aec3fb9bc4df397e0079258709298": {
      "model_module": "@jupyter-widgets/base",
      "model_module_version": "1.2.0",
      "model_name": "LayoutModel",
      "state": {}
     },
     "7d73ba4a5e4b49d5b3e5dbd9f4147f79": {
      "model_module": "@jupyter-widgets/controls",
      "model_module_version": "1.5.0",
      "model_name": "ProgressStyleModel",
      "state": {
       "description_width": "initial"
      }
     },
     "7d7e6d75bf2f4a7ba7edf0ed2f5aec2f": {
      "model_module": "@jupyter-widgets/controls",
      "model_module_version": "1.5.0",
      "model_name": "HBoxModel",
      "state": {
       "children": [
        "IPY_MODEL_dda2dacbf154429195fededf96f8ec65",
        "IPY_MODEL_173da042d0a14ab8931e8ce6f62ed461"
       ],
       "layout": "IPY_MODEL_70416b14b3a84653b8419c55294e9e5d"
      }
     },
     "7d8edbc7e80b4fb199c1da84b15fa5ed": {
      "model_module": "@jupyter-widgets/controls",
      "model_module_version": "1.5.0",
      "model_name": "FloatProgressModel",
      "state": {
       "description": "val loss: 3.6967: 100%",
       "layout": "IPY_MODEL_b49eb0811f9e40c687cb457362a00137",
       "max": 157,
       "style": "IPY_MODEL_9763adf59c7346a9be0302bdd3542342",
       "value": 157
      }
     },
     "7dbb915938be4d59a1f654d6a2fad7ca": {
      "model_module": "@jupyter-widgets/controls",
      "model_module_version": "1.5.0",
      "model_name": "FloatProgressModel",
      "state": {
       "description": "train loss: 3.0581: 100%",
       "layout": "IPY_MODEL_81419cfeafe5431fa5a1635dd7b09605",
       "max": 1563,
       "style": "IPY_MODEL_7b65e39fb4fc4cd0aa3c48d29f69bc28",
       "value": 1563
      }
     },
     "7ddb2fa508bd4bb895c9b2a665f09587": {
      "model_module": "@jupyter-widgets/controls",
      "model_module_version": "1.5.0",
      "model_name": "HTMLModel",
      "state": {
       "layout": "IPY_MODEL_e2de56a44ad94b2e8d658384679e1d0d",
       "style": "IPY_MODEL_5c9ab897ee064a6681051e442b3636cb",
       "value": " 157/157 [00:15&lt;00:00, 11.74it/s]"
      }
     },
     "7ddc6cff9bca45f7a1ee973fc9082ef6": {
      "model_module": "@jupyter-widgets/controls",
      "model_module_version": "1.5.0",
      "model_name": "FloatProgressModel",
      "state": {
       "bar_style": "danger",
       "description": "train loss: 4.5542:  29%",
       "layout": "IPY_MODEL_a698b2a3ea62414dbd37e4fe194eb1c3",
       "max": 1563,
       "style": "IPY_MODEL_86789637b2ee4810bb7234ece962c018",
       "value": 449
      }
     },
     "7de29f0d6463496486dc7e867fc507c5": {
      "model_module": "@jupyter-widgets/controls",
      "model_module_version": "1.5.0",
      "model_name": "DescriptionStyleModel",
      "state": {
       "description_width": ""
      }
     },
     "7dfdbcf1a4d14aab810b9ac0f586cd76": {
      "model_module": "@jupyter-widgets/base",
      "model_module_version": "1.2.0",
      "model_name": "LayoutModel",
      "state": {}
     },
     "7e01f9cd01cd490b8504966f0f85a12a": {
      "model_module": "@jupyter-widgets/controls",
      "model_module_version": "1.5.0",
      "model_name": "ProgressStyleModel",
      "state": {
       "description_width": "initial"
      }
     },
     "7e0bbe60439247b1beb06536c1d4bb89": {
      "model_module": "@jupyter-widgets/controls",
      "model_module_version": "1.5.0",
      "model_name": "HTMLModel",
      "state": {
       "layout": "IPY_MODEL_f8e8bdd108154bb9a91a4d1aa57ae87a",
       "style": "IPY_MODEL_e930c5b900fd44afa7392a16cdbc0c23",
       "value": " 157/157 [00:15&lt;00:00, 11.75it/s]"
      }
     },
     "7e25f73045cb4502ab50d6932bc43f87": {
      "model_module": "@jupyter-widgets/controls",
      "model_module_version": "1.5.0",
      "model_name": "ProgressStyleModel",
      "state": {
       "description_width": "initial"
      }
     },
     "7e2ea766b27b4ff4a4e2274a3890867c": {
      "model_module": "@jupyter-widgets/controls",
      "model_module_version": "1.5.0",
      "model_name": "DescriptionStyleModel",
      "state": {
       "description_width": ""
      }
     },
     "7e339e822611466eb44c205630da0f54": {
      "model_module": "@jupyter-widgets/controls",
      "model_module_version": "1.5.0",
      "model_name": "DescriptionStyleModel",
      "state": {
       "description_width": ""
      }
     },
     "7e35e5a5e805488ab6dde3ff77d770dd": {
      "model_module": "@jupyter-widgets/base",
      "model_module_version": "1.2.0",
      "model_name": "LayoutModel",
      "state": {}
     },
     "7e35fb396e004811a952d53b8afbbc91": {
      "model_module": "@jupyter-widgets/base",
      "model_module_version": "1.2.0",
      "model_name": "LayoutModel",
      "state": {}
     },
     "7e388dbe792841db98459745256b3e64": {
      "model_module": "@jupyter-widgets/base",
      "model_module_version": "1.2.0",
      "model_name": "LayoutModel",
      "state": {}
     },
     "7e3c01ba4d4240288c742b239f6342f9": {
      "model_module": "@jupyter-widgets/controls",
      "model_module_version": "1.5.0",
      "model_name": "HTMLModel",
      "state": {
       "layout": "IPY_MODEL_8d26d3b9f3934423bffd1f8a98be7995",
       "style": "IPY_MODEL_3dc12bdc7158411f963abbd74fc1c9d0",
       "value": " 1563/1563 [02:34&lt;00:00, 10.06it/s]"
      }
     },
     "7e44ffde93924dda967c91467e706dd0": {
      "model_module": "@jupyter-widgets/base",
      "model_module_version": "1.2.0",
      "model_name": "LayoutModel",
      "state": {}
     },
     "7e45f74864514706862d7c9c5c63b364": {
      "model_module": "@jupyter-widgets/controls",
      "model_module_version": "1.5.0",
      "model_name": "ProgressStyleModel",
      "state": {
       "description_width": "initial"
      }
     },
     "7e892c9339b54cef8df72b6b90a6e875": {
      "model_module": "@jupyter-widgets/controls",
      "model_module_version": "1.5.0",
      "model_name": "DescriptionStyleModel",
      "state": {
       "description_width": ""
      }
     },
     "7eb64a1c57d24a6db5ef7c81a5ee5901": {
      "model_module": "@jupyter-widgets/base",
      "model_module_version": "1.2.0",
      "model_name": "LayoutModel",
      "state": {}
     },
     "7eb983f9a66341ed8e638307530975c5": {
      "model_module": "@jupyter-widgets/controls",
      "model_module_version": "1.5.0",
      "model_name": "HBoxModel",
      "state": {
       "children": [
        "IPY_MODEL_2d5be4583d5f4c72b6ed33bd2585c984",
        "IPY_MODEL_2d02e35e41e149f3aca502ae6ef28259"
       ],
       "layout": "IPY_MODEL_c14ef0fe8ca74046afe97e753d94781b"
      }
     },
     "7ec3a92df1964fb8a196497ed6a51360": {
      "model_module": "@jupyter-widgets/controls",
      "model_module_version": "1.5.0",
      "model_name": "FloatProgressModel",
      "state": {
       "description": "train loss: 3.4029: 100%",
       "layout": "IPY_MODEL_d5ff56af52d646d79c6cee50d4d5f484",
       "max": 1563,
       "style": "IPY_MODEL_bbc3032e26e64915b4c77ca9b7e0903d",
       "value": 1563
      }
     },
     "7ed3af347ca844f89071e3f59b20bc19": {
      "model_module": "@jupyter-widgets/controls",
      "model_module_version": "1.5.0",
      "model_name": "HBoxModel",
      "state": {
       "children": [
        "IPY_MODEL_81897fe5e2fc482781892abaeef266b0",
        "IPY_MODEL_be2fdde12e5244abb8c3ddaa2e397254"
       ],
       "layout": "IPY_MODEL_d39ed148b20a4347811be1494ec035ce"
      }
     },
     "7f028c31d2374dc7a3e247d85d3377ba": {
      "model_module": "@jupyter-widgets/base",
      "model_module_version": "1.2.0",
      "model_name": "LayoutModel",
      "state": {}
     },
     "7f1ca0cdb19b4f18942fca9658b886f9": {
      "model_module": "@jupyter-widgets/controls",
      "model_module_version": "1.5.0",
      "model_name": "DescriptionStyleModel",
      "state": {
       "description_width": ""
      }
     },
     "7f24b7fab7444ebb8199de275dd50d17": {
      "model_module": "@jupyter-widgets/base",
      "model_module_version": "1.2.0",
      "model_name": "LayoutModel",
      "state": {}
     },
     "7f308d9fdc874fa5be748b45272b56d5": {
      "model_module": "@jupyter-widgets/controls",
      "model_module_version": "1.5.0",
      "model_name": "FloatProgressModel",
      "state": {
       "description": "val loss: 5.1022: 100%",
       "layout": "IPY_MODEL_7d0aec3fb9bc4df397e0079258709298",
       "max": 157,
       "style": "IPY_MODEL_853df3470b8046918ed03f4a80b5ba98",
       "value": 157
      }
     },
     "7f340185c5e54230a12655092c3ec452": {
      "model_module": "@jupyter-widgets/base",
      "model_module_version": "1.2.0",
      "model_name": "LayoutModel",
      "state": {}
     },
     "7f5fe179f7204dcbb86e75c52f8399d0": {
      "model_module": "@jupyter-widgets/controls",
      "model_module_version": "1.5.0",
      "model_name": "HTMLModel",
      "state": {
       "layout": "IPY_MODEL_101ff125794d4132a55e83bbbf947923",
       "style": "IPY_MODEL_616f1e61508f45b9bc10b7c41554d04d",
       "value": " 654/1563 [01:19&lt;01:29, 10.13it/s]"
      }
     },
     "7f670d63afed48568341e410765bc3f9": {
      "model_module": "@jupyter-widgets/controls",
      "model_module_version": "1.5.0",
      "model_name": "FloatProgressModel",
      "state": {
       "description": "val loss: 3.7677: 100%",
       "layout": "IPY_MODEL_7b02d28783f74cee9e86b7cb929572cc",
       "max": 157,
       "style": "IPY_MODEL_9bbadb4196504a7998fad42b20577f4c",
       "value": 157
      }
     },
     "7f70c0c407994f868099787ab9eadac2": {
      "model_module": "@jupyter-widgets/base",
      "model_module_version": "1.2.0",
      "model_name": "LayoutModel",
      "state": {}
     },
     "7fa6300f182a4527843b4faac45d254a": {
      "model_module": "@jupyter-widgets/controls",
      "model_module_version": "1.5.0",
      "model_name": "HTMLModel",
      "state": {
       "layout": "IPY_MODEL_cd505c73035f40a1ac3fbc3e75cbb8e0",
       "style": "IPY_MODEL_66da80f3a6a64b8696315134a388a48a",
       "value": " 1563/1563 [05:33&lt;00:00,  5.42it/s]"
      }
     },
     "7fb0dabb667f4c44ad62d50681235d3a": {
      "model_module": "@jupyter-widgets/controls",
      "model_module_version": "1.5.0",
      "model_name": "ProgressStyleModel",
      "state": {
       "description_width": "initial"
      }
     },
     "7fc3b9d15f05418cbf4281c11c0eafd7": {
      "model_module": "@jupyter-widgets/controls",
      "model_module_version": "1.5.0",
      "model_name": "ProgressStyleModel",
      "state": {
       "description_width": "initial"
      }
     },
     "8018a0347258498986ba6d35f3f5d538": {
      "model_module": "@jupyter-widgets/base",
      "model_module_version": "1.2.0",
      "model_name": "LayoutModel",
      "state": {}
     },
     "802fe31eb84d4152a09f7c79bfc54e22": {
      "model_module": "@jupyter-widgets/base",
      "model_module_version": "1.2.0",
      "model_name": "LayoutModel",
      "state": {}
     },
     "804492cda5684266a06d520f1233edca": {
      "model_module": "@jupyter-widgets/base",
      "model_module_version": "1.2.0",
      "model_name": "LayoutModel",
      "state": {}
     },
     "80627810da4846269d7dbe19273c2edc": {
      "model_module": "@jupyter-widgets/controls",
      "model_module_version": "1.5.0",
      "model_name": "ProgressStyleModel",
      "state": {
       "description_width": "initial"
      }
     },
     "8067005050ec4542905f0893ecabc651": {
      "model_module": "@jupyter-widgets/base",
      "model_module_version": "1.2.0",
      "model_name": "LayoutModel",
      "state": {}
     },
     "8073f3dca9af4f62b6b34ab463e1cd6b": {
      "model_module": "@jupyter-widgets/controls",
      "model_module_version": "1.5.0",
      "model_name": "DescriptionStyleModel",
      "state": {
       "description_width": ""
      }
     },
     "8082d617afed434096d84c184734d3ef": {
      "model_module": "@jupyter-widgets/controls",
      "model_module_version": "1.5.0",
      "model_name": "HTMLModel",
      "state": {
       "layout": "IPY_MODEL_e89df7447d2d48669010eca90d17442e",
       "style": "IPY_MODEL_7f1ca0cdb19b4f18942fca9658b886f9",
       "value": " 157/157 [00:14&lt;00:00, 10.61it/s]"
      }
     },
     "808d80c82ed146549561110ed8a861e3": {
      "model_module": "@jupyter-widgets/controls",
      "model_module_version": "1.5.0",
      "model_name": "HTMLModel",
      "state": {
       "layout": "IPY_MODEL_ec24e1d893a74901879872b7c412fdbf",
       "style": "IPY_MODEL_ed6dbd856c48411c82cc438db7eccc88",
       "value": " 157/157 [00:14&lt;00:00, 11.82it/s]"
      }
     },
     "80aa129127c4459090920d1fdb5290d2": {
      "model_module": "@jupyter-widgets/controls",
      "model_module_version": "1.5.0",
      "model_name": "HTMLModel",
      "state": {
       "layout": "IPY_MODEL_62c736c16b0546bd89bdc9a92ddc4cb2",
       "style": "IPY_MODEL_20022dffe34448e1a56518db77d4bc3f",
       "value": " 1292/1563 [03:02&lt;00:38,  6.96it/s]"
      }
     },
     "80d005676a2b4c55815bfe093f14eb99": {
      "model_module": "@jupyter-widgets/base",
      "model_module_version": "1.2.0",
      "model_name": "LayoutModel",
      "state": {}
     },
     "80e175900871482d84695855fa59f802": {
      "model_module": "@jupyter-widgets/controls",
      "model_module_version": "1.5.0",
      "model_name": "DescriptionStyleModel",
      "state": {
       "description_width": ""
      }
     },
     "80f73b6941d445b4a68f42663f4683c5": {
      "model_module": "@jupyter-widgets/base",
      "model_module_version": "1.2.0",
      "model_name": "LayoutModel",
      "state": {}
     },
     "8116e0e4da0443b199d05191e8c3c8f8": {
      "model_module": "@jupyter-widgets/controls",
      "model_module_version": "1.5.0",
      "model_name": "HTMLModel",
      "state": {
       "layout": "IPY_MODEL_0f19fccb76594b90929d635e1f86f907",
       "style": "IPY_MODEL_51107b284fed480790f4fda19a5a579c",
       "value": " 1563/1563 [02:32&lt;00:00, 10.41it/s]"
      }
     },
     "812c22b567724b29803a4698c955a001": {
      "model_module": "@jupyter-widgets/base",
      "model_module_version": "1.2.0",
      "model_name": "LayoutModel",
      "state": {}
     },
     "813876b0003844a3b8ee7a1e59e8745d": {
      "model_module": "@jupyter-widgets/controls",
      "model_module_version": "1.5.0",
      "model_name": "HTMLModel",
      "state": {
       "layout": "IPY_MODEL_f0818ab7146a4d088395d30102745fe3",
       "style": "IPY_MODEL_ad67377c977940f7adc2b331737024c8",
       "value": " 157/157 [00:14&lt;00:00, 11.90it/s]"
      }
     },
     "813ae373a9dd4b509bc8c5d72f3023fe": {
      "model_module": "@jupyter-widgets/controls",
      "model_module_version": "1.5.0",
      "model_name": "ProgressStyleModel",
      "state": {
       "description_width": "initial"
      }
     },
     "81419cfeafe5431fa5a1635dd7b09605": {
      "model_module": "@jupyter-widgets/base",
      "model_module_version": "1.2.0",
      "model_name": "LayoutModel",
      "state": {}
     },
     "815f8d2396ab413d8c8424dadd6050d6": {
      "model_module": "@jupyter-widgets/controls",
      "model_module_version": "1.5.0",
      "model_name": "FloatProgressModel",
      "state": {
       "description": "train loss: 4.7131: 100%",
       "layout": "IPY_MODEL_2e8799a7c3974929aff355b3846d225d",
       "max": 1563,
       "style": "IPY_MODEL_a43bf378099c4e14b36739100c6cd322",
       "value": 1563
      }
     },
     "8173818f268543e890321c9f6fabd5a9": {
      "model_module": "@jupyter-widgets/controls",
      "model_module_version": "1.5.0",
      "model_name": "FloatProgressModel",
      "state": {
       "description": "train loss: 3.9480: 100%",
       "layout": "IPY_MODEL_d19b79413e8741169882108afc3c681e",
       "max": 1563,
       "style": "IPY_MODEL_1cdfe90ff5d84dd2ab51f11738aadc05",
       "value": 1563
      }
     },
     "81897fe5e2fc482781892abaeef266b0": {
      "model_module": "@jupyter-widgets/controls",
      "model_module_version": "1.5.0",
      "model_name": "FloatProgressModel",
      "state": {
       "bar_style": "danger",
       "description": "train loss: 6.9742:   7%",
       "layout": "IPY_MODEL_0f7a39938b6e41c8a951c79a94c0b32e",
       "max": 1563,
       "style": "IPY_MODEL_287a386a14ba4aef9919a7e2d7ace892",
       "value": 109
      }
     },
     "8189a46afca1461f9bb380bcb32b70d4": {
      "model_module": "@jupyter-widgets/controls",
      "model_module_version": "1.5.0",
      "model_name": "DescriptionStyleModel",
      "state": {
       "description_width": ""
      }
     },
     "81968dda50c94d29b07590de9bef6e86": {
      "model_module": "@jupyter-widgets/controls",
      "model_module_version": "1.5.0",
      "model_name": "FloatProgressModel",
      "state": {
       "description": "train loss: 4.0440: 100%",
       "layout": "IPY_MODEL_f53a929a19d84ac58ab39acce4609047",
       "max": 1563,
       "style": "IPY_MODEL_ea783c95205d4f54a39c9f78c8ee8ce2",
       "value": 1563
      }
     },
     "81a0cf65259d4246a44f062f6b082666": {
      "model_module": "@jupyter-widgets/controls",
      "model_module_version": "1.5.0",
      "model_name": "ProgressStyleModel",
      "state": {
       "description_width": "initial"
      }
     },
     "81cbd56017fe4299ba2571fd3eebd650": {
      "model_module": "@jupyter-widgets/base",
      "model_module_version": "1.2.0",
      "model_name": "LayoutModel",
      "state": {}
     },
     "81e04cdd42914559b655f3912ee1e46f": {
      "model_module": "@jupyter-widgets/controls",
      "model_module_version": "1.5.0",
      "model_name": "FloatProgressModel",
      "state": {
       "description": "val loss: 3.5826: 100%",
       "layout": "IPY_MODEL_b22eae084bbc490cbd4944f4bf7a11ca",
       "max": 157,
       "style": "IPY_MODEL_ca6b643217f2465cbe07ea51ca061123",
       "value": 157
      }
     },
     "81e0e445aa094571b3a6391d96e67c57": {
      "model_module": "@jupyter-widgets/controls",
      "model_module_version": "1.5.0",
      "model_name": "HTMLModel",
      "state": {
       "layout": "IPY_MODEL_926121221fd44f7a88e16c3d0cf76f22",
       "style": "IPY_MODEL_c78d8164f3924b69a41a42214959f8fa",
       "value": " 363/1563 [01:08&lt;03:48,  5.25it/s]"
      }
     },
     "81fa9aabd268406cb39a7613c9deb7d0": {
      "model_module": "@jupyter-widgets/base",
      "model_module_version": "1.2.0",
      "model_name": "LayoutModel",
      "state": {}
     },
     "82150f1d8ffe4b45a48c379e50893d8d": {
      "model_module": "@jupyter-widgets/controls",
      "model_module_version": "1.5.0",
      "model_name": "ProgressStyleModel",
      "state": {
       "description_width": "initial"
      }
     },
     "8239a109a1264af8906d42bd8d323df7": {
      "model_module": "@jupyter-widgets/base",
      "model_module_version": "1.2.0",
      "model_name": "LayoutModel",
      "state": {}
     },
     "824c5c847b3d4ad3b1f566641fa18ebb": {
      "model_module": "@jupyter-widgets/controls",
      "model_module_version": "1.5.0",
      "model_name": "ProgressStyleModel",
      "state": {
       "description_width": "initial"
      }
     },
     "824d9b2bfaa649ada42a356f3480d612": {
      "model_module": "@jupyter-widgets/controls",
      "model_module_version": "1.5.0",
      "model_name": "HBoxModel",
      "state": {
       "children": [
        "IPY_MODEL_693e58009ba4496a8c3048471b644067",
        "IPY_MODEL_e1676d8d53b94be0aa691d2244fc1def"
       ],
       "layout": "IPY_MODEL_80d005676a2b4c55815bfe093f14eb99"
      }
     },
     "82564f08a66844c087cd0473a4519480": {
      "model_module": "@jupyter-widgets/controls",
      "model_module_version": "1.5.0",
      "model_name": "FloatProgressModel",
      "state": {
       "description": "val loss: 3.5326: 100%",
       "layout": "IPY_MODEL_72cd876876a041e2a8427202c9f87ab4",
       "max": 157,
       "style": "IPY_MODEL_01cd06ad31bf437b85bcf2b348955064",
       "value": 157
      }
     },
     "825feffc994748deb69c68885a3f9066": {
      "model_module": "@jupyter-widgets/base",
      "model_module_version": "1.2.0",
      "model_name": "LayoutModel",
      "state": {}
     },
     "826cbcd0a81343aaae9f3e750de06e73": {
      "model_module": "@jupyter-widgets/controls",
      "model_module_version": "1.5.0",
      "model_name": "HTMLModel",
      "state": {
       "layout": "IPY_MODEL_8e791dbf3641491a8ff3996a72b944fb",
       "style": "IPY_MODEL_936abec2fe5842da876105c6bdde09a9",
       "value": " 7/10 [22:49:29&lt;9:46:55, 11738.46s/it]"
      }
     },
     "827fec17fbdb443db25f7af495da3939": {
      "model_module": "@jupyter-widgets/controls",
      "model_module_version": "1.5.0",
      "model_name": "HTMLModel",
      "state": {
       "layout": "IPY_MODEL_b060e9a2a6e94f79a0dd69132149b1be",
       "style": "IPY_MODEL_958e07b9570442879f82972c51465e7b",
       "value": " 157/157 [00:14&lt;00:00, 11.80it/s]"
      }
     },
     "828c34755ba740bebb62ad911f0b5eee": {
      "model_module": "@jupyter-widgets/controls",
      "model_module_version": "1.5.0",
      "model_name": "FloatProgressModel",
      "state": {
       "description": "train loss: 3.9328: 100%",
       "layout": "IPY_MODEL_051934b5a0f1432b9c23824653794bb9",
       "max": 1563,
       "style": "IPY_MODEL_fe6efe9315ea437fb972b46e58528655",
       "value": 1563
      }
     },
     "82c9aa821d064beca363fc16b10d6b5b": {
      "model_module": "@jupyter-widgets/controls",
      "model_module_version": "1.5.0",
      "model_name": "HTMLModel",
      "state": {
       "layout": "IPY_MODEL_c91e006e1d06416c951e3739539acf07",
       "style": "IPY_MODEL_b85fee8e4d67471897969afdbaafc359",
       "value": " 157/157 [00:10&lt;00:00, 15.54it/s]"
      }
     },
     "82f9015088cd438fbff01b896e758646": {
      "model_module": "@jupyter-widgets/base",
      "model_module_version": "1.2.0",
      "model_name": "LayoutModel",
      "state": {}
     },
     "83191f0403564a49b744566e4ae7f3c4": {
      "model_module": "@jupyter-widgets/controls",
      "model_module_version": "1.5.0",
      "model_name": "HTMLModel",
      "state": {
       "layout": "IPY_MODEL_49b357e26c814c7ca5ba8b511bebfa90",
       "style": "IPY_MODEL_c55db6157403449b9d4a9726cc56b2c2",
       "value": " 157/157 [00:10&lt;00:00, 15.84it/s]"
      }
     },
     "832afc6f6fd34ddc8f499296ad769124": {
      "model_module": "@jupyter-widgets/base",
      "model_module_version": "1.2.0",
      "model_name": "LayoutModel",
      "state": {}
     },
     "8366c40c586142e0aeb36960a9404e24": {
      "model_module": "@jupyter-widgets/base",
      "model_module_version": "1.2.0",
      "model_name": "LayoutModel",
      "state": {}
     },
     "8371e0fa3d124e06ad813864629018b8": {
      "model_module": "@jupyter-widgets/base",
      "model_module_version": "1.2.0",
      "model_name": "LayoutModel",
      "state": {}
     },
     "837d591e47da457abb6da600ec06857a": {
      "model_module": "@jupyter-widgets/base",
      "model_module_version": "1.2.0",
      "model_name": "LayoutModel",
      "state": {}
     },
     "839d709df3ae42b0b026a125e6bdd878": {
      "model_module": "@jupyter-widgets/base",
      "model_module_version": "1.2.0",
      "model_name": "LayoutModel",
      "state": {}
     },
     "839fed7b381a4e8badf6849067041057": {
      "model_module": "@jupyter-widgets/controls",
      "model_module_version": "1.5.0",
      "model_name": "HTMLModel",
      "state": {
       "layout": "IPY_MODEL_872ed949d144414f912f50f9ec864cbd",
       "style": "IPY_MODEL_45d3fd14f11346c9872c098ae3568a4e",
       "value": " 3/10 [22:25:31&lt;52:19:33, 26910.45s/it]"
      }
     },
     "83b453cb707a471fada67cc6aff45bde": {
      "model_module": "@jupyter-widgets/controls",
      "model_module_version": "1.5.0",
      "model_name": "ProgressStyleModel",
      "state": {
       "description_width": "initial"
      }
     },
     "83d9fee37a864742bf3b46b54ae70472": {
      "model_module": "@jupyter-widgets/controls",
      "model_module_version": "1.5.0",
      "model_name": "DescriptionStyleModel",
      "state": {
       "description_width": ""
      }
     },
     "83ebeabb22ab463a853fabcc93cc1c7b": {
      "model_module": "@jupyter-widgets/controls",
      "model_module_version": "1.5.0",
      "model_name": "DescriptionStyleModel",
      "state": {
       "description_width": ""
      }
     },
     "83f527c3ec2741b49bd33f0244ca552c": {
      "model_module": "@jupyter-widgets/controls",
      "model_module_version": "1.5.0",
      "model_name": "DescriptionStyleModel",
      "state": {
       "description_width": ""
      }
     },
     "84014ffdf72647bd8ab653805c82de4e": {
      "model_module": "@jupyter-widgets/controls",
      "model_module_version": "1.5.0",
      "model_name": "ProgressStyleModel",
      "state": {
       "description_width": "initial"
      }
     },
     "8419743be6c14575b84d675e48c87e1c": {
      "model_module": "@jupyter-widgets/controls",
      "model_module_version": "1.5.0",
      "model_name": "ProgressStyleModel",
      "state": {
       "description_width": "initial"
      }
     },
     "8431017249574e9cb26c6aa5d47aab9d": {
      "model_module": "@jupyter-widgets/controls",
      "model_module_version": "1.5.0",
      "model_name": "DescriptionStyleModel",
      "state": {
       "description_width": ""
      }
     },
     "8434c79abbe2477190997cdc8aec74bc": {
      "model_module": "@jupyter-widgets/base",
      "model_module_version": "1.2.0",
      "model_name": "LayoutModel",
      "state": {}
     },
     "843bf403bd70462d90891222292a0a34": {
      "model_module": "@jupyter-widgets/controls",
      "model_module_version": "1.5.0",
      "model_name": "ProgressStyleModel",
      "state": {
       "description_width": "initial"
      }
     },
     "84444f54e5984a34a46cc143fe894003": {
      "model_module": "@jupyter-widgets/controls",
      "model_module_version": "1.5.0",
      "model_name": "HTMLModel",
      "state": {
       "layout": "IPY_MODEL_a8a2167a01d14402b408672950061cad",
       "style": "IPY_MODEL_5cb75b3b15684a968f5476486ec6e9d0",
       "value": " 1563/1563 [02:33&lt;00:00, 11.06it/s]"
      }
     },
     "84659bb5c5194ccf8430e4dc8793e213": {
      "model_module": "@jupyter-widgets/base",
      "model_module_version": "1.2.0",
      "model_name": "LayoutModel",
      "state": {}
     },
     "846f17518a9548de88a2900412d2effb": {
      "model_module": "@jupyter-widgets/base",
      "model_module_version": "1.2.0",
      "model_name": "LayoutModel",
      "state": {}
     },
     "84797f38441e40dababaeabf2c354b64": {
      "model_module": "@jupyter-widgets/base",
      "model_module_version": "1.2.0",
      "model_name": "LayoutModel",
      "state": {}
     },
     "84b998fd05de4e879bd6d25755f607eb": {
      "model_module": "@jupyter-widgets/base",
      "model_module_version": "1.2.0",
      "model_name": "LayoutModel",
      "state": {}
     },
     "84ce51a0e4de4ddbb17c708a6763b438": {
      "model_module": "@jupyter-widgets/controls",
      "model_module_version": "1.5.0",
      "model_name": "ProgressStyleModel",
      "state": {
       "description_width": "initial"
      }
     },
     "84daacb36c1245e59a3a3973fc303aed": {
      "model_module": "@jupyter-widgets/base",
      "model_module_version": "1.2.0",
      "model_name": "LayoutModel",
      "state": {}
     },
     "853de5cb84504c6785aa1caebff15d48": {
      "model_module": "@jupyter-widgets/controls",
      "model_module_version": "1.5.0",
      "model_name": "ProgressStyleModel",
      "state": {
       "description_width": "initial"
      }
     },
     "853df3470b8046918ed03f4a80b5ba98": {
      "model_module": "@jupyter-widgets/controls",
      "model_module_version": "1.5.0",
      "model_name": "ProgressStyleModel",
      "state": {
       "description_width": "initial"
      }
     },
     "8541eb4e178844138abff359fe48e65c": {
      "model_module": "@jupyter-widgets/controls",
      "model_module_version": "1.5.0",
      "model_name": "HTMLModel",
      "state": {
       "layout": "IPY_MODEL_f08db28264dc4e1898ea206f6febe7d1",
       "style": "IPY_MODEL_d0792cd8c6af4f389a45a81c4ef258cb",
       "value": " 1563/1563 [04:55&lt;00:00,  5.94it/s]"
      }
     },
     "85493d57bbe9496aac67c148568b197c": {
      "model_module": "@jupyter-widgets/controls",
      "model_module_version": "1.5.0",
      "model_name": "HTMLModel",
      "state": {
       "layout": "IPY_MODEL_8f1f5ce3e71a4242a3985dd4d3e4d59f",
       "style": "IPY_MODEL_31d64e0f6e8a4ec28bfe2cc5da8bfccf",
       "value": " 0/10 [01:22&lt;?, ?it/s]"
      }
     },
     "854c2e410f9f4d60a182f160e5334c20": {
      "model_module": "@jupyter-widgets/base",
      "model_module_version": "1.2.0",
      "model_name": "LayoutModel",
      "state": {}
     },
     "8575012173c545d8857920648c486306": {
      "model_module": "@jupyter-widgets/controls",
      "model_module_version": "1.5.0",
      "model_name": "DescriptionStyleModel",
      "state": {
       "description_width": ""
      }
     },
     "858066f7ccd94449ada6ad8814baf1c6": {
      "model_module": "@jupyter-widgets/controls",
      "model_module_version": "1.5.0",
      "model_name": "DescriptionStyleModel",
      "state": {
       "description_width": ""
      }
     },
     "85d3d6bd08d04adb9562f7ab2db6ed5c": {
      "model_module": "@jupyter-widgets/controls",
      "model_module_version": "1.5.0",
      "model_name": "DescriptionStyleModel",
      "state": {
       "description_width": ""
      }
     },
     "85e10882a16944dd94356f8e226c8027": {
      "model_module": "@jupyter-widgets/base",
      "model_module_version": "1.2.0",
      "model_name": "LayoutModel",
      "state": {}
     },
     "8604e3b5c1b34fad85750ce80b566107": {
      "model_module": "@jupyter-widgets/controls",
      "model_module_version": "1.5.0",
      "model_name": "HTMLModel",
      "state": {
       "layout": "IPY_MODEL_e384aba0a4a14fc892ead565329ec24b",
       "style": "IPY_MODEL_7e339e822611466eb44c205630da0f54",
       "value": " 1563/1563 [04:53&lt;00:00,  6.04it/s]"
      }
     },
     "860a3e40d439485ea8790749969bbc0c": {
      "model_module": "@jupyter-widgets/controls",
      "model_module_version": "1.5.0",
      "model_name": "HTMLModel",
      "state": {
       "layout": "IPY_MODEL_0ee30788562e4c75b9bf449090da28cb",
       "style": "IPY_MODEL_e8571702ea9b45aea726d7e190b75c8c",
       "value": " 1563/1563 [02:34&lt;00:00, 10.88it/s]"
      }
     },
     "860b7f4f6e6744358c9a8d5d173a88f0": {
      "model_module": "@jupyter-widgets/controls",
      "model_module_version": "1.5.0",
      "model_name": "DescriptionStyleModel",
      "state": {
       "description_width": ""
      }
     },
     "862a66b5bc32445d8849a47950371cca": {
      "model_module": "@jupyter-widgets/base",
      "model_module_version": "1.2.0",
      "model_name": "LayoutModel",
      "state": {}
     },
     "863686ec032b4f1abb6f5f1da71eb4c8": {
      "model_module": "@jupyter-widgets/controls",
      "model_module_version": "1.5.0",
      "model_name": "FloatProgressModel",
      "state": {
       "bar_style": "success",
       "description": "Train Loss: 2.6639 - Val Loss: 3.4946: 100%",
       "layout": "IPY_MODEL_5dc251fa12aa453ab99fd26444139997",
       "max": 10,
       "style": "IPY_MODEL_f6a61563ac274b8aa9a88a709934c091",
       "value": 10
      }
     },
     "8645e760bd4743998fa6ea6e076586b0": {
      "model_module": "@jupyter-widgets/controls",
      "model_module_version": "1.5.0",
      "model_name": "HTMLModel",
      "state": {
       "layout": "IPY_MODEL_5dab8780159c4a6883fbaafecb19eb03",
       "style": "IPY_MODEL_6dd5fa8cf3ec4f07a967ff8f97234ca5",
       "value": " 157/157 [00:15&lt;00:00, 11.64it/s]"
      }
     },
     "86789637b2ee4810bb7234ece962c018": {
      "model_module": "@jupyter-widgets/controls",
      "model_module_version": "1.5.0",
      "model_name": "ProgressStyleModel",
      "state": {
       "description_width": "initial"
      }
     },
     "8689004b9d374abbb4840179da24dc79": {
      "model_module": "@jupyter-widgets/base",
      "model_module_version": "1.2.0",
      "model_name": "LayoutModel",
      "state": {}
     },
     "86aff485a3384d3d8307dc258ef8dcc5": {
      "model_module": "@jupyter-widgets/controls",
      "model_module_version": "1.5.0",
      "model_name": "ProgressStyleModel",
      "state": {
       "description_width": "initial"
      }
     },
     "86b2d8b5f4434653b61d59da33518f6a": {
      "model_module": "@jupyter-widgets/base",
      "model_module_version": "1.2.0",
      "model_name": "LayoutModel",
      "state": {}
     },
     "86b8c81d74cd4c368950e2b37765dfe4": {
      "model_module": "@jupyter-widgets/controls",
      "model_module_version": "1.5.0",
      "model_name": "FloatProgressModel",
      "state": {
       "bar_style": "success",
       "description": "Train Loss: 3.0081 - Val Loss: 3.7244: 100%",
       "layout": "IPY_MODEL_cf93be0943124a6f83e7082800aa89b0",
       "max": 10,
       "style": "IPY_MODEL_f39374d6d4a14efcad2abbbdc40487d6",
       "value": 10
      }
     },
     "86cb8833abe148879006eef20ce0f99b": {
      "model_module": "@jupyter-widgets/controls",
      "model_module_version": "1.5.0",
      "model_name": "FloatProgressModel",
      "state": {
       "description": "train loss: 2.5027: 100%",
       "layout": "IPY_MODEL_a5499732328a4ac09efc818defdd05c4",
       "max": 1563,
       "style": "IPY_MODEL_553c4d85187d49298537cc3c98bd7b16",
       "value": 1563
      }
     },
     "86cc2c56a5074d2795ee3837315e285f": {
      "model_module": "@jupyter-widgets/controls",
      "model_module_version": "1.5.0",
      "model_name": "DescriptionStyleModel",
      "state": {
       "description_width": ""
      }
     },
     "86d0c5b67a3a49b1b2f4fbcb6cc2f5b6": {
      "model_module": "@jupyter-widgets/base",
      "model_module_version": "1.2.0",
      "model_name": "LayoutModel",
      "state": {}
     },
     "86eaa65696094783bda9b335ea7a3d9d": {
      "model_module": "@jupyter-widgets/controls",
      "model_module_version": "1.5.0",
      "model_name": "DescriptionStyleModel",
      "state": {
       "description_width": ""
      }
     },
     "87065ea987374d7d8b574da0c6de60dc": {
      "model_module": "@jupyter-widgets/controls",
      "model_module_version": "1.5.0",
      "model_name": "HTMLModel",
      "state": {
       "layout": "IPY_MODEL_61dfdb09a3cd4a498b3b94a48481d9e6",
       "style": "IPY_MODEL_489a380bc0dc45ed92d80b66db979753",
       "value": " 157/157 [00:10&lt;00:00, 15.69it/s]"
      }
     },
     "87080bf602de41f6830fd1c84e237037": {
      "model_module": "@jupyter-widgets/controls",
      "model_module_version": "1.5.0",
      "model_name": "ProgressStyleModel",
      "state": {
       "description_width": "initial"
      }
     },
     "8729939192024f13a9feb5bc6c972888": {
      "model_module": "@jupyter-widgets/controls",
      "model_module_version": "1.5.0",
      "model_name": "DescriptionStyleModel",
      "state": {
       "description_width": ""
      }
     },
     "872ed949d144414f912f50f9ec864cbd": {
      "model_module": "@jupyter-widgets/base",
      "model_module_version": "1.2.0",
      "model_name": "LayoutModel",
      "state": {}
     },
     "8740a95a133c4cf3b9ff0323023923dc": {
      "model_module": "@jupyter-widgets/controls",
      "model_module_version": "1.5.0",
      "model_name": "HBoxModel",
      "state": {
       "children": [
        "IPY_MODEL_d92a2eea76f94a98aee893000980ff52",
        "IPY_MODEL_ea4c9266b0f24220a864fd7f7545e801"
       ],
       "layout": "IPY_MODEL_b5048026f8b04fb19e6f5d67e6920513"
      }
     },
     "874fa3fb3a9a4be584a8f2c93f835461": {
      "model_module": "@jupyter-widgets/controls",
      "model_module_version": "1.5.0",
      "model_name": "FloatProgressModel",
      "state": {
       "description": "val loss: 4.3404: 100%",
       "layout": "IPY_MODEL_74ec669307bf4518ace1a626e0491d3c",
       "max": 157,
       "style": "IPY_MODEL_42fd77ba70c94c38942d7863de783b64",
       "value": 157
      }
     },
     "8796eb4224744140a89dfee63468d65f": {
      "model_module": "@jupyter-widgets/controls",
      "model_module_version": "1.5.0",
      "model_name": "HTMLModel",
      "state": {
       "layout": "IPY_MODEL_45b7d1077e814c4f94ac60eb9640ed53",
       "style": "IPY_MODEL_b8c6ee25ea41445e829253d04b401218",
       "value": " 1563/1563 [02:32&lt;00:00, 10.95it/s]"
      }
     },
     "8798df6467dc4c20b7dc23ad7e4c1925": {
      "model_module": "@jupyter-widgets/controls",
      "model_module_version": "1.5.0",
      "model_name": "HTMLModel",
      "state": {
       "layout": "IPY_MODEL_2366b889af3b4d649589cef0e607c189",
       "style": "IPY_MODEL_d0bccfe45e814cf7a10b0cf876d6dc82",
       "value": " 1563/1563 [04:59&lt;00:00,  5.96it/s]"
      }
     },
     "87b3e059ef574bca920a01e12b58cb33": {
      "model_module": "@jupyter-widgets/controls",
      "model_module_version": "1.5.0",
      "model_name": "FloatProgressModel",
      "state": {
       "bar_style": "danger",
       "description": "train loss: 2.8230:   5%",
       "layout": "IPY_MODEL_6b548889feab457da52f92c97e11664f",
       "max": 1563,
       "style": "IPY_MODEL_458fa85d2b604c699c2a548e260b518b",
       "value": 85
      }
     },
     "87c570967b6e4fc4925ead0334d0f0eb": {
      "model_module": "@jupyter-widgets/controls",
      "model_module_version": "1.5.0",
      "model_name": "DescriptionStyleModel",
      "state": {
       "description_width": ""
      }
     },
     "87c5bf4234594e28b795f135c614c32e": {
      "model_module": "@jupyter-widgets/controls",
      "model_module_version": "1.5.0",
      "model_name": "DescriptionStyleModel",
      "state": {
       "description_width": ""
      }
     },
     "87d0ef85b9214c8aa1dc0110e41f41d1": {
      "model_module": "@jupyter-widgets/base",
      "model_module_version": "1.2.0",
      "model_name": "LayoutModel",
      "state": {}
     },
     "87fe69e51fd34034933a667f623c8457": {
      "model_module": "@jupyter-widgets/controls",
      "model_module_version": "1.5.0",
      "model_name": "ProgressStyleModel",
      "state": {
       "description_width": "initial"
      }
     },
     "8815b94753ac4e96bdeec2532c252e7b": {
      "model_module": "@jupyter-widgets/controls",
      "model_module_version": "1.5.0",
      "model_name": "FloatProgressModel",
      "state": {
       "description": "val loss: 4.8175: 100%",
       "layout": "IPY_MODEL_65e2ebe2cd0c41f2adaea42d5580f886",
       "max": 157,
       "style": "IPY_MODEL_d892abf343ce4112b85fe18812902f25",
       "value": 157
      }
     },
     "8821346fad8b408ba20ecff6ee00375e": {
      "model_module": "@jupyter-widgets/controls",
      "model_module_version": "1.5.0",
      "model_name": "ProgressStyleModel",
      "state": {
       "description_width": "initial"
      }
     },
     "8821d9c8502649389fe3cfb53a762b8c": {
      "model_module": "@jupyter-widgets/controls",
      "model_module_version": "1.5.0",
      "model_name": "DescriptionStyleModel",
      "state": {
       "description_width": ""
      }
     },
     "8840ea1b8da14e608746ff78c0c1d56d": {
      "model_module": "@jupyter-widgets/controls",
      "model_module_version": "1.5.0",
      "model_name": "FloatProgressModel",
      "state": {
       "description": "train loss: 4.1162: 100%",
       "layout": "IPY_MODEL_932477cdc1884ff8a4e8848149fd713e",
       "max": 1563,
       "style": "IPY_MODEL_c14a6bdb595646d2a0c39c883879211a",
       "value": 1563
      }
     },
     "88434df1b16444e49b56b1e78f9294b0": {
      "model_module": "@jupyter-widgets/base",
      "model_module_version": "1.2.0",
      "model_name": "LayoutModel",
      "state": {}
     },
     "88643764e7c14a8b935d4f8fb8075e54": {
      "model_module": "@jupyter-widgets/base",
      "model_module_version": "1.2.0",
      "model_name": "LayoutModel",
      "state": {}
     },
     "88adcb5427854afaa79bbe02f8f058ec": {
      "model_module": "@jupyter-widgets/base",
      "model_module_version": "1.2.0",
      "model_name": "LayoutModel",
      "state": {}
     },
     "88b6241ff4f146a58d8f89cdc26c3ff9": {
      "model_module": "@jupyter-widgets/controls",
      "model_module_version": "1.5.0",
      "model_name": "HTMLModel",
      "state": {
       "layout": "IPY_MODEL_01b919e2666b4fc3a1ae059d3eafcd42",
       "style": "IPY_MODEL_bbdf16a8789747d495fa8e132caf3566",
       "value": " 1563/1563 [05:01&lt;00:00,  5.96it/s]"
      }
     },
     "88d7830b62da4602ba89ed5be4973855": {
      "model_module": "@jupyter-widgets/controls",
      "model_module_version": "1.5.0",
      "model_name": "ProgressStyleModel",
      "state": {
       "description_width": "initial"
      }
     },
     "891350d20e194c5ab72858a8f012f2f1": {
      "model_module": "@jupyter-widgets/controls",
      "model_module_version": "1.5.0",
      "model_name": "HTMLModel",
      "state": {
       "layout": "IPY_MODEL_f451a60e0e6f48be940e0cb9f564ea50",
       "style": "IPY_MODEL_488ce46a765f419da6758a5d09dc506b",
       "value": " 1563/1563 [04:52&lt;00:00,  6.03it/s]"
      }
     },
     "891acaead0744fbf92feb02b983441f9": {
      "model_module": "@jupyter-widgets/base",
      "model_module_version": "1.2.0",
      "model_name": "LayoutModel",
      "state": {}
     },
     "891e1099e5c1439fa8a1a3e475042896": {
      "model_module": "@jupyter-widgets/base",
      "model_module_version": "1.2.0",
      "model_name": "LayoutModel",
      "state": {}
     },
     "892a4789a6c4482bb0fe0b5115082979": {
      "model_module": "@jupyter-widgets/controls",
      "model_module_version": "1.5.0",
      "model_name": "HTMLModel",
      "state": {
       "layout": "IPY_MODEL_5b3369adc9144d2a81b37a87448b1f9f",
       "style": "IPY_MODEL_8986afd21c0c49bab1853a65f8c71c2b",
       "value": " 0/10 [00:00&lt;?, ?it/s]"
      }
     },
     "8933a69698274c0f86301d683c8bb583": {
      "model_module": "@jupyter-widgets/controls",
      "model_module_version": "1.5.0",
      "model_name": "FloatProgressModel",
      "state": {
       "description": "train loss: 3.2450: 100%",
       "layout": "IPY_MODEL_2ddcb32b8baa4d0db5fb9ae9bb42fd98",
       "max": 1563,
       "style": "IPY_MODEL_b324dd2291df44c383eed3046f1062a5",
       "value": 1563
      }
     },
     "89782622fa67419ca96d5ca6cbd6113d": {
      "model_module": "@jupyter-widgets/base",
      "model_module_version": "1.2.0",
      "model_name": "LayoutModel",
      "state": {}
     },
     "8986afd21c0c49bab1853a65f8c71c2b": {
      "model_module": "@jupyter-widgets/controls",
      "model_module_version": "1.5.0",
      "model_name": "DescriptionStyleModel",
      "state": {
       "description_width": ""
      }
     },
     "899149c6b14543b88690f4ec61d18c93": {
      "model_module": "@jupyter-widgets/controls",
      "model_module_version": "1.5.0",
      "model_name": "FloatProgressModel",
      "state": {
       "description": "val loss: 4.5282: 100%",
       "layout": "IPY_MODEL_785ee7ea09494e618a0c94670de5e233",
       "max": 157,
       "style": "IPY_MODEL_ef42d53878d648ada93e5a46caa95c0a",
       "value": 157
      }
     },
     "899603c9eb6046f582cfe8f682aeee81": {
      "model_module": "@jupyter-widgets/controls",
      "model_module_version": "1.5.0",
      "model_name": "FloatProgressModel",
      "state": {
       "description": "val loss: 4.1997: 100%",
       "layout": "IPY_MODEL_19bb6d64119441ffa4a9e9eb6e1a1292",
       "max": 157,
       "style": "IPY_MODEL_458b781c010b47d681b00abdb07b9873",
       "value": 157
      }
     },
     "89e10e650aa548e9baf75444739c6da0": {
      "model_module": "@jupyter-widgets/base",
      "model_module_version": "1.2.0",
      "model_name": "LayoutModel",
      "state": {}
     },
     "89e4af2deb13492ea3e02b48cc55010d": {
      "model_module": "@jupyter-widgets/base",
      "model_module_version": "1.2.0",
      "model_name": "LayoutModel",
      "state": {}
     },
     "89e61ae1f8d54e1b9a4fc3c0015e08f7": {
      "model_module": "@jupyter-widgets/base",
      "model_module_version": "1.2.0",
      "model_name": "LayoutModel",
      "state": {}
     },
     "89e680795e8a47abbd7b297307462ae4": {
      "model_module": "@jupyter-widgets/base",
      "model_module_version": "1.2.0",
      "model_name": "LayoutModel",
      "state": {}
     },
     "89eafadf97744a1785ebfa6a30935e78": {
      "model_module": "@jupyter-widgets/base",
      "model_module_version": "1.2.0",
      "model_name": "LayoutModel",
      "state": {}
     },
     "89ecf063677b43ef9fff0fa127ad87d8": {
      "model_module": "@jupyter-widgets/base",
      "model_module_version": "1.2.0",
      "model_name": "LayoutModel",
      "state": {}
     },
     "8a302a06ce5844ee9bbf99ca07896d30": {
      "model_module": "@jupyter-widgets/controls",
      "model_module_version": "1.5.0",
      "model_name": "FloatProgressModel",
      "state": {
       "description": "val loss: 4.0199: 100%",
       "layout": "IPY_MODEL_93d6adbb6c0a4f5ba700ba08c89124f1",
       "max": 157,
       "style": "IPY_MODEL_43e5aebcfc464357bab94b563c2f8d88",
       "value": 157
      }
     },
     "8a3c6db2a3264aba8550bf609209f403": {
      "model_module": "@jupyter-widgets/base",
      "model_module_version": "1.2.0",
      "model_name": "LayoutModel",
      "state": {}
     },
     "8a6cade9b56846f79267b1bf699ac8bb": {
      "model_module": "@jupyter-widgets/base",
      "model_module_version": "1.2.0",
      "model_name": "LayoutModel",
      "state": {}
     },
     "8a70610e815642d9809e4d72df2aa591": {
      "model_module": "@jupyter-widgets/controls",
      "model_module_version": "1.5.0",
      "model_name": "DescriptionStyleModel",
      "state": {
       "description_width": ""
      }
     },
     "8ab2afd064f8442d8cfdf9628957bfb4": {
      "model_module": "@jupyter-widgets/base",
      "model_module_version": "1.2.0",
      "model_name": "LayoutModel",
      "state": {}
     },
     "8ac77a43b2f44ebea9b14bd66cedd851": {
      "model_module": "@jupyter-widgets/controls",
      "model_module_version": "1.5.0",
      "model_name": "ProgressStyleModel",
      "state": {
       "description_width": "initial"
      }
     },
     "8ad736c1352545cc98b1f245dd384906": {
      "model_module": "@jupyter-widgets/controls",
      "model_module_version": "1.5.0",
      "model_name": "FloatProgressModel",
      "state": {
       "description": "train loss: 3.8372: 100%",
       "layout": "IPY_MODEL_cf49f97268454628ae68af2906977123",
       "max": 1563,
       "style": "IPY_MODEL_6007882f7d4146acb807a1530d798902",
       "value": 1563
      }
     },
     "8b02525ea60c41bc868f1023992e3458": {
      "model_module": "@jupyter-widgets/controls",
      "model_module_version": "1.5.0",
      "model_name": "HTMLModel",
      "state": {
       "layout": "IPY_MODEL_41236b3534be4f6e9f786e21ab8efb78",
       "style": "IPY_MODEL_d32e98b0c32c475ba9abca5a29e34bdf",
       "value": " 1563/1563 [04:55&lt;00:00,  5.85it/s]"
      }
     },
     "8b0363211be548a889b36709d92a1bf4": {
      "model_module": "@jupyter-widgets/controls",
      "model_module_version": "1.5.0",
      "model_name": "HBoxModel",
      "state": {
       "children": [
        "IPY_MODEL_1e4311e95ade46c2915c6a4895009269",
        "IPY_MODEL_07e43aa21df74eb382cbb45e85b38201"
       ],
       "layout": "IPY_MODEL_56870b0fb5094caca480ecf057093784"
      }
     },
     "8b1eb93fd343407fa55c1e2e97754970": {
      "model_module": "@jupyter-widgets/base",
      "model_module_version": "1.2.0",
      "model_name": "LayoutModel",
      "state": {}
     },
     "8b40f8898e2b4504914a7c45126d508a": {
      "model_module": "@jupyter-widgets/controls",
      "model_module_version": "1.5.0",
      "model_name": "DescriptionStyleModel",
      "state": {
       "description_width": ""
      }
     },
     "8b4632005dc0492392598ec1854a9d71": {
      "model_module": "@jupyter-widgets/controls",
      "model_module_version": "1.5.0",
      "model_name": "DescriptionStyleModel",
      "state": {
       "description_width": ""
      }
     },
     "8b524fe89c264788bb43f32413092d1a": {
      "model_module": "@jupyter-widgets/controls",
      "model_module_version": "1.5.0",
      "model_name": "ProgressStyleModel",
      "state": {
       "description_width": "initial"
      }
     },
     "8b6f80c5616b43219b7cf5aa00ee139f": {
      "model_module": "@jupyter-widgets/controls",
      "model_module_version": "1.5.0",
      "model_name": "DescriptionStyleModel",
      "state": {
       "description_width": ""
      }
     },
     "8bd9344b67a14ab5812aa4b9831b93b8": {
      "model_module": "@jupyter-widgets/base",
      "model_module_version": "1.2.0",
      "model_name": "LayoutModel",
      "state": {}
     },
     "8bf85b8acbd24ae5818dc38228ccc784": {
      "model_module": "@jupyter-widgets/controls",
      "model_module_version": "1.5.0",
      "model_name": "HTMLModel",
      "state": {
       "layout": "IPY_MODEL_46e7a974908b43a3bfb7d34a68cca0ac",
       "style": "IPY_MODEL_37b73556c5784d8bbed2ad808e0986d8",
       "value": " 1563/1563 [02:35&lt;00:00, 10.79it/s]"
      }
     },
     "8c0e974a0838470892adc99db1ed61d9": {
      "model_module": "@jupyter-widgets/controls",
      "model_module_version": "1.5.0",
      "model_name": "DescriptionStyleModel",
      "state": {
       "description_width": ""
      }
     },
     "8c6919cb52104edb82acd6ec4ec74eb7": {
      "model_module": "@jupyter-widgets/base",
      "model_module_version": "1.2.0",
      "model_name": "LayoutModel",
      "state": {}
     },
     "8c8bf0bb44064213942a328a128523d2": {
      "model_module": "@jupyter-widgets/controls",
      "model_module_version": "1.5.0",
      "model_name": "FloatProgressModel",
      "state": {
       "description": "train loss: 4.2788: 100%",
       "layout": "IPY_MODEL_41cac1316b4f44bdb2e8df4328fb4ac0",
       "max": 1563,
       "style": "IPY_MODEL_3239153d13ed4fbaa471e8f2885423ce",
       "value": 1563
      }
     },
     "8c8e71bc5af740638f6d8853cf91a745": {
      "model_module": "@jupyter-widgets/base",
      "model_module_version": "1.2.0",
      "model_name": "LayoutModel",
      "state": {}
     },
     "8c9b4363532b44d0bdd6eabc1768026b": {
      "model_module": "@jupyter-widgets/controls",
      "model_module_version": "1.5.0",
      "model_name": "ProgressStyleModel",
      "state": {
       "description_width": "initial"
      }
     },
     "8ca311063ff040d0837f33a17a9dd9c7": {
      "model_module": "@jupyter-widgets/controls",
      "model_module_version": "1.5.0",
      "model_name": "HTMLModel",
      "state": {
       "layout": "IPY_MODEL_4eb5108032d74b2180bd90898e1f88da",
       "style": "IPY_MODEL_d9f52dad27c84a9cb136579a05c529c5",
       "value": " 157/157 [00:14&lt;00:00, 11.83it/s]"
      }
     },
     "8cbcf598218242189612e863fa520170": {
      "model_module": "@jupyter-widgets/controls",
      "model_module_version": "1.5.0",
      "model_name": "DescriptionStyleModel",
      "state": {
       "description_width": ""
      }
     },
     "8cc0121122db4546ad2063957b8012d4": {
      "model_module": "@jupyter-widgets/base",
      "model_module_version": "1.2.0",
      "model_name": "LayoutModel",
      "state": {}
     },
     "8cccfc158a874d8e87e01a7c00760929": {
      "model_module": "@jupyter-widgets/controls",
      "model_module_version": "1.5.0",
      "model_name": "FloatProgressModel",
      "state": {
       "description": "train loss: 3.3903: 100%",
       "layout": "IPY_MODEL_e5a21a2203f542e589ef81c29bfb548e",
       "max": 1563,
       "style": "IPY_MODEL_84ce51a0e4de4ddbb17c708a6763b438",
       "value": 1563
      }
     },
     "8cdd7ec53d95467ba95fdbe332bb58a9": {
      "model_module": "@jupyter-widgets/controls",
      "model_module_version": "1.5.0",
      "model_name": "DescriptionStyleModel",
      "state": {
       "description_width": ""
      }
     },
     "8ce0492cf8214db0bc64483af9827c28": {
      "model_module": "@jupyter-widgets/base",
      "model_module_version": "1.2.0",
      "model_name": "LayoutModel",
      "state": {}
     },
     "8d26d3b9f3934423bffd1f8a98be7995": {
      "model_module": "@jupyter-widgets/base",
      "model_module_version": "1.2.0",
      "model_name": "LayoutModel",
      "state": {}
     },
     "8d31e07f4c0b4ac28d636c95d5657571": {
      "model_module": "@jupyter-widgets/controls",
      "model_module_version": "1.5.0",
      "model_name": "HTMLModel",
      "state": {
       "layout": "IPY_MODEL_170935497f2341c799f2f35a26873c77",
       "style": "IPY_MODEL_06436f063dc849f48170a1329da31890",
       "value": " 157/157 [00:14&lt;00:00, 11.87it/s]"
      }
     },
     "8d3dde877b3b4dbcb6c0168e6d3eb028": {
      "model_module": "@jupyter-widgets/controls",
      "model_module_version": "1.5.0",
      "model_name": "DescriptionStyleModel",
      "state": {
       "description_width": ""
      }
     },
     "8d721212f73641caab3a5a608ed0f9c2": {
      "model_module": "@jupyter-widgets/base",
      "model_module_version": "1.2.0",
      "model_name": "LayoutModel",
      "state": {}
     },
     "8d72e0d21d504b408405c39b34af77b7": {
      "model_module": "@jupyter-widgets/base",
      "model_module_version": "1.2.0",
      "model_name": "LayoutModel",
      "state": {}
     },
     "8d80b78ff7b847c691c8ddd3bbbc1dc4": {
      "model_module": "@jupyter-widgets/controls",
      "model_module_version": "1.5.0",
      "model_name": "HTMLModel",
      "state": {
       "layout": "IPY_MODEL_fa0f0581074c44c88233bd0acacfa23f",
       "style": "IPY_MODEL_be16c63548774296b33c68d8edd40c4a",
       "value": " 9/10 [25:31&lt;02:45, 165.20s/it]"
      }
     },
     "8d968d7b2eea45c78f5eff044f940158": {
      "model_module": "@jupyter-widgets/controls",
      "model_module_version": "1.5.0",
      "model_name": "HTMLModel",
      "state": {
       "layout": "IPY_MODEL_9fdde75f400f4b68aa254aba0932b06b",
       "style": "IPY_MODEL_3f70c4e4bce94ee3aab005837a9f9157",
       "value": " 157/157 [00:15&lt;00:00, 11.69it/s]"
      }
     },
     "8e1708358d3c4da3b2294d3b72aed349": {
      "model_module": "@jupyter-widgets/controls",
      "model_module_version": "1.5.0",
      "model_name": "FloatProgressModel",
      "state": {
       "description": "train loss: 3.6796: 100%",
       "layout": "IPY_MODEL_ce465c9bd59b426c8da76384d5c6b797",
       "max": 1563,
       "style": "IPY_MODEL_939131f2476d419aaf84be6c0b4130fd",
       "value": 1563
      }
     },
     "8e3b3d2119984f1196a82d3400459a25": {
      "model_module": "@jupyter-widgets/controls",
      "model_module_version": "1.5.0",
      "model_name": "DescriptionStyleModel",
      "state": {
       "description_width": ""
      }
     },
     "8e41c05aa046479aabc84c93264657d9": {
      "model_module": "@jupyter-widgets/base",
      "model_module_version": "1.2.0",
      "model_name": "LayoutModel",
      "state": {}
     },
     "8e4b171a23574826a117cc5d12411c1e": {
      "model_module": "@jupyter-widgets/controls",
      "model_module_version": "1.5.0",
      "model_name": "FloatProgressModel",
      "state": {
       "description": "val loss: 3.9147: 100%",
       "layout": "IPY_MODEL_812c22b567724b29803a4698c955a001",
       "max": 157,
       "style": "IPY_MODEL_3fe70836802641ea97a9f67998f2563b",
       "value": 157
      }
     },
     "8e51741dd6cf4da1b20256bde687568a": {
      "model_module": "@jupyter-widgets/controls",
      "model_module_version": "1.5.0",
      "model_name": "HTMLModel",
      "state": {
       "layout": "IPY_MODEL_76e3ae6bdaeb4ab69fd04aea9bf7d332",
       "style": "IPY_MODEL_993686c04de547bcb1472e55f599541f",
       "value": " 1563/1563 [02:35&lt;00:00, 10.57it/s]"
      }
     },
     "8e5e92e21af84e708be7c595bd0eb878": {
      "model_module": "@jupyter-widgets/controls",
      "model_module_version": "1.5.0",
      "model_name": "HTMLModel",
      "state": {
       "layout": "IPY_MODEL_f109845e57c14459b27cad42f2dfa9a4",
       "style": "IPY_MODEL_2eb10449a00f462bab2733ff3a7f32b5",
       "value": " 374/1563 [00:37&lt;02:04,  9.58it/s]"
      }
     },
     "8e791dbf3641491a8ff3996a72b944fb": {
      "model_module": "@jupyter-widgets/base",
      "model_module_version": "1.2.0",
      "model_name": "LayoutModel",
      "state": {}
     },
     "8e896cc699f9433bb20ba90dce33969c": {
      "model_module": "@jupyter-widgets/controls",
      "model_module_version": "1.5.0",
      "model_name": "HTMLModel",
      "state": {
       "layout": "IPY_MODEL_5e0e5a3de7f04d66807a0369d4f5f35f",
       "style": "IPY_MODEL_043d1a5ed7354f55b4a57cc46b2aa6c8",
       "value": " 1563/1563 [02:34&lt;00:00, 10.32it/s]"
      }
     },
     "8ec0dca376b94aa4afe002416ea68e76": {
      "model_module": "@jupyter-widgets/base",
      "model_module_version": "1.2.0",
      "model_name": "LayoutModel",
      "state": {}
     },
     "8ed00134003d4bdf8da3ad6cd1288f8e": {
      "model_module": "@jupyter-widgets/controls",
      "model_module_version": "1.5.0",
      "model_name": "FloatProgressModel",
      "state": {
       "description": "train loss: 3.3208: 100%",
       "layout": "IPY_MODEL_c2d11373256a4c4f82be9f1682024809",
       "max": 1563,
       "style": "IPY_MODEL_696d35be4f074cac916069a173f74ed9",
       "value": 1563
      }
     },
     "8ed2f3639673403991edd8cc664ad4d8": {
      "model_module": "@jupyter-widgets/controls",
      "model_module_version": "1.5.0",
      "model_name": "FloatProgressModel",
      "state": {
       "description": "train loss: 4.1762: 100%",
       "layout": "IPY_MODEL_cf8053bfb25e469eb851cf7152214b59",
       "max": 1563,
       "style": "IPY_MODEL_092f313199844013a40f1e49446946cd",
       "value": 1563
      }
     },
     "8f012992e15d4362b7bcd84a02f345e1": {
      "model_module": "@jupyter-widgets/base",
      "model_module_version": "1.2.0",
      "model_name": "LayoutModel",
      "state": {}
     },
     "8f0f224af6e442cd84e22eb144eb7de4": {
      "model_module": "@jupyter-widgets/controls",
      "model_module_version": "1.5.0",
      "model_name": "FloatProgressModel",
      "state": {
       "description": "val loss: 4.6841: 100%",
       "layout": "IPY_MODEL_adc3e53d9a4c4a66b4ece91343df76f7",
       "max": 157,
       "style": "IPY_MODEL_7e25f73045cb4502ab50d6932bc43f87",
       "value": 157
      }
     },
     "8f1f5ce3e71a4242a3985dd4d3e4d59f": {
      "model_module": "@jupyter-widgets/base",
      "model_module_version": "1.2.0",
      "model_name": "LayoutModel",
      "state": {}
     },
     "8f2a57848cef454d9c2f76874cc636b0": {
      "model_module": "@jupyter-widgets/controls",
      "model_module_version": "1.5.0",
      "model_name": "HBoxModel",
      "state": {
       "children": [
        "IPY_MODEL_1d6eb203d87e4ad28df28c009cb3179a",
        "IPY_MODEL_2cdb70c2a3fe426bb8d8ae20aed010e4"
       ],
       "layout": "IPY_MODEL_c69bcf489a484958a801669b9729df3f"
      }
     },
     "8f612ae4a40746f6bb8172f57b9c0835": {
      "model_module": "@jupyter-widgets/controls",
      "model_module_version": "1.5.0",
      "model_name": "DescriptionStyleModel",
      "state": {
       "description_width": ""
      }
     },
     "8f6acfcb147249cd93bdd3d50ca3fdef": {
      "model_module": "@jupyter-widgets/base",
      "model_module_version": "1.2.0",
      "model_name": "LayoutModel",
      "state": {}
     },
     "8f6c7b395c4b47479c970cc3a5d7a957": {
      "model_module": "@jupyter-widgets/controls",
      "model_module_version": "1.5.0",
      "model_name": "HTMLModel",
      "state": {
       "layout": "IPY_MODEL_31fe84df3ca34b09b7db00e680ab4190",
       "style": "IPY_MODEL_fe761c4f3a094c26b722894ab23fb946",
       "value": " 1563/1563 [03:43&lt;00:00,  7.06it/s]"
      }
     },
     "8f70e46bfd5b47cf890bf9b3b82417d4": {
      "model_module": "@jupyter-widgets/base",
      "model_module_version": "1.2.0",
      "model_name": "LayoutModel",
      "state": {}
     },
     "8f71740540294e5196a77caa4c786471": {
      "model_module": "@jupyter-widgets/controls",
      "model_module_version": "1.5.0",
      "model_name": "HTMLModel",
      "state": {
       "layout": "IPY_MODEL_483f64d8ae6249fbb911502386d38e4c",
       "style": "IPY_MODEL_8073f3dca9af4f62b6b34ab463e1cd6b",
       "value": " 1563/1563 [05:31&lt;00:00,  5.47it/s]"
      }
     },
     "8f86205d92aa4b4eb9b0fc1c31be291e": {
      "model_module": "@jupyter-widgets/controls",
      "model_module_version": "1.5.0",
      "model_name": "DescriptionStyleModel",
      "state": {
       "description_width": ""
      }
     },
     "8f96e1b7ad804038aacf010efe318962": {
      "model_module": "@jupyter-widgets/base",
      "model_module_version": "1.2.0",
      "model_name": "LayoutModel",
      "state": {}
     },
     "8fb39416a20b477da67f1b5722d4d85f": {
      "model_module": "@jupyter-widgets/base",
      "model_module_version": "1.2.0",
      "model_name": "LayoutModel",
      "state": {}
     },
     "8fc153e44e474b7581383d72c9aa572a": {
      "model_module": "@jupyter-widgets/controls",
      "model_module_version": "1.5.0",
      "model_name": "FloatProgressModel",
      "state": {
       "description": "val loss: 4.3891: 100%",
       "layout": "IPY_MODEL_d37393925b5547a292d32b08ebd3ec79",
       "max": 157,
       "style": "IPY_MODEL_16d8af5746ab41f08cbfd78697adb0fa",
       "value": 157
      }
     },
     "8fd0c0cd3382472581ecb75cac32c57c": {
      "model_module": "@jupyter-widgets/controls",
      "model_module_version": "1.5.0",
      "model_name": "ProgressStyleModel",
      "state": {
       "description_width": "initial"
      }
     },
     "9008e77cd82b4bc99bc5b0c7c5775eeb": {
      "model_module": "@jupyter-widgets/controls",
      "model_module_version": "1.5.0",
      "model_name": "HTMLModel",
      "state": {
       "layout": "IPY_MODEL_f07c6a78132046a0bca5a74e235363a7",
       "style": "IPY_MODEL_d888cf13310a42cbb8a014c5d5c20e9c",
       "value": " 1563/1563 [02:35&lt;00:00, 10.60it/s]"
      }
     },
     "900b38a5a91f4be3805e200d226520f7": {
      "model_module": "@jupyter-widgets/base",
      "model_module_version": "1.2.0",
      "model_name": "LayoutModel",
      "state": {}
     },
     "90261ba3772c41ad8bffddf40ba547ea": {
      "model_module": "@jupyter-widgets/base",
      "model_module_version": "1.2.0",
      "model_name": "LayoutModel",
      "state": {}
     },
     "9044c4e575d240bfaedd13064a8b61c2": {
      "model_module": "@jupyter-widgets/controls",
      "model_module_version": "1.5.0",
      "model_name": "ProgressStyleModel",
      "state": {
       "description_width": "initial"
      }
     },
     "904b1eba2e1e43a2a49c0319fad13d16": {
      "model_module": "@jupyter-widgets/controls",
      "model_module_version": "1.5.0",
      "model_name": "DescriptionStyleModel",
      "state": {
       "description_width": ""
      }
     },
     "90571894aabc4a7b8730396de1278439": {
      "model_module": "@jupyter-widgets/controls",
      "model_module_version": "1.5.0",
      "model_name": "FloatProgressModel",
      "state": {
       "description": "train loss: 4.7512: 100%",
       "layout": "IPY_MODEL_397512e3878e48c7bb0d0c58f861f418",
       "max": 1563,
       "style": "IPY_MODEL_fdd32368c63a476bb14f96a45fb9d30d",
       "value": 1563
      }
     },
     "9065f2b164a3421381169d9fe66876e7": {
      "model_module": "@jupyter-widgets/base",
      "model_module_version": "1.2.0",
      "model_name": "LayoutModel",
      "state": {}
     },
     "906d11d1b9684e30989f2f8c1830741f": {
      "model_module": "@jupyter-widgets/controls",
      "model_module_version": "1.5.0",
      "model_name": "ProgressStyleModel",
      "state": {
       "description_width": "initial"
      }
     },
     "909f5f133c63400f91e3f93db392dd3c": {
      "model_module": "@jupyter-widgets/base",
      "model_module_version": "1.2.0",
      "model_name": "LayoutModel",
      "state": {}
     },
     "90a6ae46b8f14b589eff6bce9a1eab65": {
      "model_module": "@jupyter-widgets/controls",
      "model_module_version": "1.5.0",
      "model_name": "DescriptionStyleModel",
      "state": {
       "description_width": ""
      }
     },
     "90aa9ec2f60e4c919b88be7a66a35e02": {
      "model_module": "@jupyter-widgets/base",
      "model_module_version": "1.2.0",
      "model_name": "LayoutModel",
      "state": {}
     },
     "90c027fb6474415ea2b820cca81c4206": {
      "model_module": "@jupyter-widgets/controls",
      "model_module_version": "1.5.0",
      "model_name": "ProgressStyleModel",
      "state": {
       "description_width": "initial"
      }
     },
     "90c19cd7abef47b8b168605332af6205": {
      "model_module": "@jupyter-widgets/base",
      "model_module_version": "1.2.0",
      "model_name": "LayoutModel",
      "state": {}
     },
     "90d9a371006c40b2ba7b91fe60f4a200": {
      "model_module": "@jupyter-widgets/controls",
      "model_module_version": "1.5.0",
      "model_name": "DescriptionStyleModel",
      "state": {
       "description_width": ""
      }
     },
     "90dc411d4e5040248e854690f10c058e": {
      "model_module": "@jupyter-widgets/base",
      "model_module_version": "1.2.0",
      "model_name": "LayoutModel",
      "state": {}
     },
     "9103a39434ad44d48e2cc8e9c9fa0018": {
      "model_module": "@jupyter-widgets/controls",
      "model_module_version": "1.5.0",
      "model_name": "ProgressStyleModel",
      "state": {
       "description_width": "initial"
      }
     },
     "910af3d7513f4c87b88ee07e80946542": {
      "model_module": "@jupyter-widgets/base",
      "model_module_version": "1.2.0",
      "model_name": "LayoutModel",
      "state": {}
     },
     "911ebb4977104bb39fde3a8eaf4f3f79": {
      "model_module": "@jupyter-widgets/controls",
      "model_module_version": "1.5.0",
      "model_name": "DescriptionStyleModel",
      "state": {
       "description_width": ""
      }
     },
     "912d1d8637434f5faa65f3c1f44cc292": {
      "model_module": "@jupyter-widgets/base",
      "model_module_version": "1.2.0",
      "model_name": "LayoutModel",
      "state": {}
     },
     "913b1f9f46c143cab39fa5a04a901947": {
      "model_module": "@jupyter-widgets/controls",
      "model_module_version": "1.5.0",
      "model_name": "DescriptionStyleModel",
      "state": {
       "description_width": ""
      }
     },
     "914ed94ef85440d7b8a5cfeda02bdf8e": {
      "model_module": "@jupyter-widgets/controls",
      "model_module_version": "1.5.0",
      "model_name": "FloatProgressModel",
      "state": {
       "description": "val loss: 4.6049: 100%",
       "layout": "IPY_MODEL_5ba74681614e4a5da3f8522016611ff1",
       "max": 157,
       "style": "IPY_MODEL_fee9d0ba0dea474790fadb662cde2ef3",
       "value": 157
      }
     },
     "91708a311c534caea230a0ee74494468": {
      "model_module": "@jupyter-widgets/base",
      "model_module_version": "1.2.0",
      "model_name": "LayoutModel",
      "state": {}
     },
     "918be28470d64aa09751382e3eadc7f3": {
      "model_module": "@jupyter-widgets/controls",
      "model_module_version": "1.5.0",
      "model_name": "DescriptionStyleModel",
      "state": {
       "description_width": ""
      }
     },
     "91becfa7d59a428189a7815097923ca1": {
      "model_module": "@jupyter-widgets/controls",
      "model_module_version": "1.5.0",
      "model_name": "ProgressStyleModel",
      "state": {
       "description_width": "initial"
      }
     },
     "91dd1b4292af4ae5816107164e522aa6": {
      "model_module": "@jupyter-widgets/controls",
      "model_module_version": "1.5.0",
      "model_name": "ProgressStyleModel",
      "state": {
       "description_width": "initial"
      }
     },
     "91e0dcea20eb4b7f90b35aede8d60d88": {
      "model_module": "@jupyter-widgets/controls",
      "model_module_version": "1.5.0",
      "model_name": "FloatProgressModel",
      "state": {
       "description": "val loss: 4.7063: 100%",
       "layout": "IPY_MODEL_c2b7ada65d5b4c24bddc9fd1882e9178",
       "max": 157,
       "style": "IPY_MODEL_5fed322244b24412800bdbf1288a8ba9",
       "value": 157
      }
     },
     "91e29ae16ff94f70964b9de2c43d9d0e": {
      "model_module": "@jupyter-widgets/controls",
      "model_module_version": "1.5.0",
      "model_name": "HTMLModel",
      "state": {
       "layout": "IPY_MODEL_65e5920326b44cf28fca76ec057a4109",
       "style": "IPY_MODEL_87c5bf4234594e28b795f135c614c32e",
       "value": " 1563/1563 [02:35&lt;00:00, 10.71it/s]"
      }
     },
     "920fba055bb2475db75d333c0dbdfdb3": {
      "model_module": "@jupyter-widgets/base",
      "model_module_version": "1.2.0",
      "model_name": "LayoutModel",
      "state": {}
     },
     "92193f987b5f43c78c238de55cc63a4a": {
      "model_module": "@jupyter-widgets/base",
      "model_module_version": "1.2.0",
      "model_name": "LayoutModel",
      "state": {}
     },
     "925b89c2b3b3402e84fb6f7d3d41d104": {
      "model_module": "@jupyter-widgets/controls",
      "model_module_version": "1.5.0",
      "model_name": "DescriptionStyleModel",
      "state": {
       "description_width": ""
      }
     },
     "926121221fd44f7a88e16c3d0cf76f22": {
      "model_module": "@jupyter-widgets/base",
      "model_module_version": "1.2.0",
      "model_name": "LayoutModel",
      "state": {}
     },
     "927d4a71b4274d40b0d990d9dca688a3": {
      "model_module": "@jupyter-widgets/controls",
      "model_module_version": "1.5.0",
      "model_name": "ProgressStyleModel",
      "state": {
       "description_width": "initial"
      }
     },
     "92baea2dcf33488eab6c62a94bb10046": {
      "model_module": "@jupyter-widgets/controls",
      "model_module_version": "1.5.0",
      "model_name": "HTMLModel",
      "state": {
       "layout": "IPY_MODEL_73312e17724540e1a3243df95c9cc235",
       "style": "IPY_MODEL_5d4e523ce8ef4766b95e6158360e6ddd",
       "value": " 1563/1563 [02:34&lt;00:00, 10.79it/s]"
      }
     },
     "92bfc3bcd1d342c399203cbb8b51a0ac": {
      "model_module": "@jupyter-widgets/base",
      "model_module_version": "1.2.0",
      "model_name": "LayoutModel",
      "state": {}
     },
     "92f65b8dbab248e4af0fb074aef3f770": {
      "model_module": "@jupyter-widgets/base",
      "model_module_version": "1.2.0",
      "model_name": "LayoutModel",
      "state": {}
     },
     "930d345f22aa491e98b3277f0adda4d8": {
      "model_module": "@jupyter-widgets/controls",
      "model_module_version": "1.5.0",
      "model_name": "ProgressStyleModel",
      "state": {
       "description_width": "initial"
      }
     },
     "9318222bdfa14d43b4f7ef588edd1f7a": {
      "model_module": "@jupyter-widgets/controls",
      "model_module_version": "1.5.0",
      "model_name": "FloatProgressModel",
      "state": {
       "description": "val loss: 4.2742: 100%",
       "layout": "IPY_MODEL_0fc7172b709744f7ae7a426e32934fcb",
       "max": 157,
       "style": "IPY_MODEL_ef6593bbd42b4dd9bf15bb7b23977893",
       "value": 157
      }
     },
     "93191d7510284624920d89b56f6e3873": {
      "model_module": "@jupyter-widgets/controls",
      "model_module_version": "1.5.0",
      "model_name": "HTMLModel",
      "state": {
       "layout": "IPY_MODEL_9496f8bf7a7441479b8420a132ae8d15",
       "style": "IPY_MODEL_b4fd431c43f24ac08ee15bc3dc6642ef",
       "value": " 157/157 [00:15&lt;00:00, 10.50it/s]"
      }
     },
     "932477cdc1884ff8a4e8848149fd713e": {
      "model_module": "@jupyter-widgets/base",
      "model_module_version": "1.2.0",
      "model_name": "LayoutModel",
      "state": {}
     },
     "932ccdf9ff28441a9e6d2474cc332c4e": {
      "model_module": "@jupyter-widgets/base",
      "model_module_version": "1.2.0",
      "model_name": "LayoutModel",
      "state": {}
     },
     "933133d34acb48dfa782a35a440da7cd": {
      "model_module": "@jupyter-widgets/controls",
      "model_module_version": "1.5.0",
      "model_name": "FloatProgressModel",
      "state": {
       "description": "train loss: 3.5204: 100%",
       "layout": "IPY_MODEL_9c1ed44d6d964fbb91fbbb48c2d43de8",
       "max": 1563,
       "style": "IPY_MODEL_00a92e0124e2436e9e5c86a16aa6c2f0",
       "value": 1563
      }
     },
     "9336e691379a498b8b1f4b286e507b20": {
      "model_module": "@jupyter-widgets/controls",
      "model_module_version": "1.5.0",
      "model_name": "FloatProgressModel",
      "state": {
       "description": "train loss: 3.4495: 100%",
       "layout": "IPY_MODEL_4525c86b30c84f9a9ed7d451eff0c556",
       "max": 1563,
       "style": "IPY_MODEL_82150f1d8ffe4b45a48c379e50893d8d",
       "value": 1563
      }
     },
     "933d341480824d7c8d34cca0ec79ba08": {
      "model_module": "@jupyter-widgets/controls",
      "model_module_version": "1.5.0",
      "model_name": "ProgressStyleModel",
      "state": {
       "description_width": "initial"
      }
     },
     "9344ae1213024e48a5f24b0c53aecf16": {
      "model_module": "@jupyter-widgets/base",
      "model_module_version": "1.2.0",
      "model_name": "LayoutModel",
      "state": {}
     },
     "935883553a3b4d44847e39f2504e8750": {
      "model_module": "@jupyter-widgets/controls",
      "model_module_version": "1.5.0",
      "model_name": "ProgressStyleModel",
      "state": {
       "description_width": "initial"
      }
     },
     "93642422888e4be09075cd17c023a515": {
      "model_module": "@jupyter-widgets/controls",
      "model_module_version": "1.5.0",
      "model_name": "HBoxModel",
      "state": {
       "children": [
        "IPY_MODEL_1430572481ec478aacc90ab61887ace1",
        "IPY_MODEL_199e2696b8c647de98ab16919d33d8da"
       ],
       "layout": "IPY_MODEL_745e0b278b214f73af916682ac72d7bc"
      }
     },
     "936abec2fe5842da876105c6bdde09a9": {
      "model_module": "@jupyter-widgets/controls",
      "model_module_version": "1.5.0",
      "model_name": "DescriptionStyleModel",
      "state": {
       "description_width": ""
      }
     },
     "937a9907e687461c9851b163732852ec": {
      "model_module": "@jupyter-widgets/controls",
      "model_module_version": "1.5.0",
      "model_name": "DescriptionStyleModel",
      "state": {
       "description_width": ""
      }
     },
     "939131f2476d419aaf84be6c0b4130fd": {
      "model_module": "@jupyter-widgets/controls",
      "model_module_version": "1.5.0",
      "model_name": "ProgressStyleModel",
      "state": {
       "description_width": "initial"
      }
     },
     "939fc1e5af9f4f5f97f5fe7cbd47d6fa": {
      "model_module": "@jupyter-widgets/controls",
      "model_module_version": "1.5.0",
      "model_name": "FloatProgressModel",
      "state": {
       "description": "val loss: 3.8496: 100%",
       "layout": "IPY_MODEL_c5eb3c98aac8422290cefd78cf117d1d",
       "max": 157,
       "style": "IPY_MODEL_e04aff6b5e9543d49d47dda6a8426574",
       "value": 157
      }
     },
     "93aae4fd8546415494c351718573d99c": {
      "model_module": "@jupyter-widgets/controls",
      "model_module_version": "1.5.0",
      "model_name": "ProgressStyleModel",
      "state": {
       "description_width": "initial"
      }
     },
     "93c5cc7d41fa4a4abf74bb1bd4f0b09c": {
      "model_module": "@jupyter-widgets/base",
      "model_module_version": "1.2.0",
      "model_name": "LayoutModel",
      "state": {}
     },
     "93d6adbb6c0a4f5ba700ba08c89124f1": {
      "model_module": "@jupyter-widgets/base",
      "model_module_version": "1.2.0",
      "model_name": "LayoutModel",
      "state": {}
     },
     "93d9ddc21b3c4d19bc44e2f1950c5e14": {
      "model_module": "@jupyter-widgets/controls",
      "model_module_version": "1.5.0",
      "model_name": "ProgressStyleModel",
      "state": {
       "description_width": "initial"
      }
     },
     "93fdff6db36442d1a6d16621d950e359": {
      "model_module": "@jupyter-widgets/controls",
      "model_module_version": "1.5.0",
      "model_name": "ProgressStyleModel",
      "state": {
       "description_width": "initial"
      }
     },
     "9429ed12374447c3ae8e0f02d62449e7": {
      "model_module": "@jupyter-widgets/controls",
      "model_module_version": "1.5.0",
      "model_name": "DescriptionStyleModel",
      "state": {
       "description_width": ""
      }
     },
     "944626f8b49144e99c98368a05dcbf3f": {
      "model_module": "@jupyter-widgets/base",
      "model_module_version": "1.2.0",
      "model_name": "LayoutModel",
      "state": {}
     },
     "9447d340420c42ed86cc2e500ea66ba6": {
      "model_module": "@jupyter-widgets/base",
      "model_module_version": "1.2.0",
      "model_name": "LayoutModel",
      "state": {}
     },
     "9454b37bc10e41e9a48f601f5dbbe4a4": {
      "model_module": "@jupyter-widgets/controls",
      "model_module_version": "1.5.0",
      "model_name": "FloatProgressModel",
      "state": {
       "description": "val loss: 5.1310: 100%",
       "layout": "IPY_MODEL_1f1ed7d4431b4492ad0149c43f790ecf",
       "max": 157,
       "style": "IPY_MODEL_a4e54db8b049450986f5d569f54cf629",
       "value": 157
      }
     },
     "9472a8ffa75540cc98f197c6979afe41": {
      "model_module": "@jupyter-widgets/controls",
      "model_module_version": "1.5.0",
      "model_name": "FloatProgressModel",
      "state": {
       "description": "train loss: 4.8706: 100%",
       "layout": "IPY_MODEL_c100213d384840669757930b1b8fd341",
       "max": 1563,
       "style": "IPY_MODEL_a557b6cd324a42c081a64b9f7b742ae9",
       "value": 1563
      }
     },
     "94856c797005486c9ac3be3b80a77cb0": {
      "model_module": "@jupyter-widgets/base",
      "model_module_version": "1.2.0",
      "model_name": "LayoutModel",
      "state": {}
     },
     "9496f8bf7a7441479b8420a132ae8d15": {
      "model_module": "@jupyter-widgets/base",
      "model_module_version": "1.2.0",
      "model_name": "LayoutModel",
      "state": {}
     },
     "94a7311c1993492fb1ea8e4faeb39511": {
      "model_module": "@jupyter-widgets/base",
      "model_module_version": "1.2.0",
      "model_name": "LayoutModel",
      "state": {}
     },
     "94bda0f0f7234daabb29098e63a085b7": {
      "model_module": "@jupyter-widgets/controls",
      "model_module_version": "1.5.0",
      "model_name": "HTMLModel",
      "state": {
       "layout": "IPY_MODEL_891e1099e5c1439fa8a1a3e475042896",
       "style": "IPY_MODEL_8e3b3d2119984f1196a82d3400459a25",
       "value": " 157/157 [00:09&lt;00:00, 16.18it/s]"
      }
     },
     "94e888e7cc6048b5b185e8b7e0392427": {
      "model_module": "@jupyter-widgets/base",
      "model_module_version": "1.2.0",
      "model_name": "LayoutModel",
      "state": {}
     },
     "9502bbc8f6dd4b8fa243fb01b110488a": {
      "model_module": "@jupyter-widgets/base",
      "model_module_version": "1.2.0",
      "model_name": "LayoutModel",
      "state": {}
     },
     "951068020f764bb7b97b859459cf9f4b": {
      "model_module": "@jupyter-widgets/base",
      "model_module_version": "1.2.0",
      "model_name": "LayoutModel",
      "state": {}
     },
     "954943d28f0e4b758d4a728db5e0de3a": {
      "model_module": "@jupyter-widgets/controls",
      "model_module_version": "1.5.0",
      "model_name": "HTMLModel",
      "state": {
       "layout": "IPY_MODEL_63b521251f894d128d36df10bec781ef",
       "style": "IPY_MODEL_29b12f77998a4baf9e9d59c100bc8524",
       "value": " 157/157 [00:16&lt;00:00,  9.58it/s]"
      }
     },
     "95494eaf137b47279d024fd7c69a233a": {
      "model_module": "@jupyter-widgets/controls",
      "model_module_version": "1.5.0",
      "model_name": "FloatProgressModel",
      "state": {
       "description": "val loss: 4.7785: 100%",
       "layout": "IPY_MODEL_0165df6b507d4107b5fd99d852628160",
       "max": 157,
       "style": "IPY_MODEL_e60b8932f00f4bcebe892047a2b115a0",
       "value": 157
      }
     },
     "955fc5e314b74ecba8d442add4b37390": {
      "model_module": "@jupyter-widgets/controls",
      "model_module_version": "1.5.0",
      "model_name": "HTMLModel",
      "state": {
       "layout": "IPY_MODEL_5ffc08bfc2a841e1b52ad9f7c91e35ba",
       "style": "IPY_MODEL_c938e691f26844a4b5a1f4a1b774dac1",
       "value": " 157/157 [00:10&lt;00:00, 15.42it/s]"
      }
     },
     "95652a8a8ee940f18c324b7ddaff24fa": {
      "model_module": "@jupyter-widgets/controls",
      "model_module_version": "1.5.0",
      "model_name": "DescriptionStyleModel",
      "state": {
       "description_width": ""
      }
     },
     "95773e371f944cd594a008fb2b9d6cb0": {
      "model_module": "@jupyter-widgets/controls",
      "model_module_version": "1.5.0",
      "model_name": "ProgressStyleModel",
      "state": {
       "description_width": "initial"
      }
     },
     "958e07b9570442879f82972c51465e7b": {
      "model_module": "@jupyter-widgets/controls",
      "model_module_version": "1.5.0",
      "model_name": "DescriptionStyleModel",
      "state": {
       "description_width": ""
      }
     },
     "958ec9d3a6f64b388235b0bbb4f6084c": {
      "model_module": "@jupyter-widgets/controls",
      "model_module_version": "1.5.0",
      "model_name": "FloatProgressModel",
      "state": {
       "description": "train loss: 3.1033: 100%",
       "layout": "IPY_MODEL_7860a52b1dce42c4b82cdbb5e5aa3ec7",
       "max": 1563,
       "style": "IPY_MODEL_67c9f2025c2145dcb2a478093fb79af4",
       "value": 1563
      }
     },
     "958f0d31b7124c77b4d126afbb5543c3": {
      "model_module": "@jupyter-widgets/base",
      "model_module_version": "1.2.0",
      "model_name": "LayoutModel",
      "state": {}
     },
     "959b0c3f5b674ca3b8f952a3da7ada40": {
      "model_module": "@jupyter-widgets/base",
      "model_module_version": "1.2.0",
      "model_name": "LayoutModel",
      "state": {}
     },
     "95b0fc92738940b4afbb983e1551bf43": {
      "model_module": "@jupyter-widgets/base",
      "model_module_version": "1.2.0",
      "model_name": "LayoutModel",
      "state": {}
     },
     "95b8ee5021884348a413313d0a69c169": {
      "model_module": "@jupyter-widgets/controls",
      "model_module_version": "1.5.0",
      "model_name": "HTMLModel",
      "state": {
       "layout": "IPY_MODEL_7e35e5a5e805488ab6dde3ff77d770dd",
       "style": "IPY_MODEL_f5edebf41d974c0ba1ef9bc4b97c5992",
       "value": " 157/157 [00:15&lt;00:00, 10.32it/s]"
      }
     },
     "95bce39789944dc59222aa1474aa9e9f": {
      "model_module": "@jupyter-widgets/controls",
      "model_module_version": "1.5.0",
      "model_name": "ProgressStyleModel",
      "state": {
       "description_width": "initial"
      }
     },
     "95c3052ef0de4f2e940c8ecdf07b6649": {
      "model_module": "@jupyter-widgets/base",
      "model_module_version": "1.2.0",
      "model_name": "LayoutModel",
      "state": {}
     },
     "95dd742d4c5c42de9518d8ce510d7fa7": {
      "model_module": "@jupyter-widgets/base",
      "model_module_version": "1.2.0",
      "model_name": "LayoutModel",
      "state": {}
     },
     "95e35ae4b30547e1927c5659cae4a7e9": {
      "model_module": "@jupyter-widgets/controls",
      "model_module_version": "1.5.0",
      "model_name": "FloatProgressModel",
      "state": {
       "description": "val loss: 5.2246: 100%",
       "layout": "IPY_MODEL_89e4af2deb13492ea3e02b48cc55010d",
       "max": 157,
       "style": "IPY_MODEL_6baefb6e26904733b7bccf6bcf61d37a",
       "value": 157
      }
     },
     "95eb09f90632480a83e1caa54a08a81b": {
      "model_module": "@jupyter-widgets/controls",
      "model_module_version": "1.5.0",
      "model_name": "HTMLModel",
      "state": {
       "layout": "IPY_MODEL_0edd87365d0a4e5fa5ee21b045c756ad",
       "style": "IPY_MODEL_129db1537a734cbc8be924260381043c",
       "value": " 1563/1563 [05:00&lt;00:00,  6.04it/s]"
      }
     },
     "962b7679d78d483392a180933858fc39": {
      "model_module": "@jupyter-widgets/base",
      "model_module_version": "1.2.0",
      "model_name": "LayoutModel",
      "state": {}
     },
     "963400aaf3fb46b38972c96005f131c5": {
      "model_module": "@jupyter-widgets/base",
      "model_module_version": "1.2.0",
      "model_name": "LayoutModel",
      "state": {}
     },
     "9642d34ba23f431c8c91230605e49201": {
      "model_module": "@jupyter-widgets/base",
      "model_module_version": "1.2.0",
      "model_name": "LayoutModel",
      "state": {}
     },
     "96507ec8ee504fa7a99775ca2f3ffb78": {
      "model_module": "@jupyter-widgets/controls",
      "model_module_version": "1.5.0",
      "model_name": "DescriptionStyleModel",
      "state": {
       "description_width": ""
      }
     },
     "96676f74f0b54692bc470eafc77a97ad": {
      "model_module": "@jupyter-widgets/controls",
      "model_module_version": "1.5.0",
      "model_name": "HTMLModel",
      "state": {
       "layout": "IPY_MODEL_a4e6a2dd7e294b658bd0e7e7aa570612",
       "style": "IPY_MODEL_9429ed12374447c3ae8e0f02d62449e7",
       "value": " 157/157 [00:12&lt;00:00, 12.75it/s]"
      }
     },
     "9669c5778fa44a1094f252afcf535f77": {
      "model_module": "@jupyter-widgets/base",
      "model_module_version": "1.2.0",
      "model_name": "LayoutModel",
      "state": {}
     },
     "96909df52ec54fd4b27cdc538ddf1d67": {
      "model_module": "@jupyter-widgets/controls",
      "model_module_version": "1.5.0",
      "model_name": "FloatProgressModel",
      "state": {
       "description": "val loss: 3.1580: 100%",
       "layout": "IPY_MODEL_df6b9145fdfc43b3b541c89b86c075dd",
       "max": 157,
       "style": "IPY_MODEL_bee89c02e7e54bf288b713e53df66923",
       "value": 157
      }
     },
     "969c8d37b37e424fa14e5bcd74006640": {
      "model_module": "@jupyter-widgets/controls",
      "model_module_version": "1.5.0",
      "model_name": "FloatProgressModel",
      "state": {
       "description": "train loss: 3.7746: 100%",
       "layout": "IPY_MODEL_c0da2584b36240a79175674f1152bd2f",
       "max": 1563,
       "style": "IPY_MODEL_4611402a674d494685f89a3160c9f12b",
       "value": 1563
      }
     },
     "96a27e4de90b4cf9bde73d95fd1e9fd0": {
      "model_module": "@jupyter-widgets/controls",
      "model_module_version": "1.5.0",
      "model_name": "HTMLModel",
      "state": {
       "layout": "IPY_MODEL_e755f4200ca5422a96b2b4f36fdde5df",
       "style": "IPY_MODEL_ec54cd29c0e846ea8a7675ab5841abc2",
       "value": " 1563/1563 [02:34&lt;00:00, 10.49it/s]"
      }
     },
     "96c47132ae0d447a8ac9b3a1d35fe14e": {
      "model_module": "@jupyter-widgets/controls",
      "model_module_version": "1.5.0",
      "model_name": "HTMLModel",
      "state": {
       "layout": "IPY_MODEL_9be19604b4e946ac8fab746cb00d3540",
       "style": "IPY_MODEL_7de29f0d6463496486dc7e867fc507c5",
       "value": " 157/157 [00:14&lt;00:00, 11.93it/s]"
      }
     },
     "96c57b9d369d4f61aad827b497361aba": {
      "model_module": "@jupyter-widgets/base",
      "model_module_version": "1.2.0",
      "model_name": "LayoutModel",
      "state": {}
     },
     "96c76278d8f147b8a48f9d5b55e17b1a": {
      "model_module": "@jupyter-widgets/base",
      "model_module_version": "1.2.0",
      "model_name": "LayoutModel",
      "state": {}
     },
     "96fa29416d534c5b8b2f309fadb52812": {
      "model_module": "@jupyter-widgets/controls",
      "model_module_version": "1.5.0",
      "model_name": "HTMLModel",
      "state": {
       "layout": "IPY_MODEL_8ab2afd064f8442d8cfdf9628957bfb4",
       "style": "IPY_MODEL_1d8ea663d26c4d218f518320b929eb70",
       "value": " 157/157 [00:09&lt;00:00, 15.72it/s]"
      }
     },
     "96fc61e8901344d6a53fda0839cf3fbb": {
      "model_module": "@jupyter-widgets/controls",
      "model_module_version": "1.5.0",
      "model_name": "ProgressStyleModel",
      "state": {
       "description_width": "initial"
      }
     },
     "9709cc6750d74e11ad6b9ab2ecad7cc3": {
      "model_module": "@jupyter-widgets/base",
      "model_module_version": "1.2.0",
      "model_name": "LayoutModel",
      "state": {}
     },
     "971103ccedce40bbb25e4b78f84ac8ee": {
      "model_module": "@jupyter-widgets/base",
      "model_module_version": "1.2.0",
      "model_name": "LayoutModel",
      "state": {}
     },
     "9716555b64524fcd8aab3330592455e7": {
      "model_module": "@jupyter-widgets/base",
      "model_module_version": "1.2.0",
      "model_name": "LayoutModel",
      "state": {}
     },
     "9721510199ba4d67b9d05c0d04d1c1cf": {
      "model_module": "@jupyter-widgets/base",
      "model_module_version": "1.2.0",
      "model_name": "LayoutModel",
      "state": {}
     },
     "972ad4cb711442cd9565bbf1f6bf074a": {
      "model_module": "@jupyter-widgets/base",
      "model_module_version": "1.2.0",
      "model_name": "LayoutModel",
      "state": {}
     },
     "9750d7a8ea064f8dbf84c6b942c561b0": {
      "model_module": "@jupyter-widgets/controls",
      "model_module_version": "1.5.0",
      "model_name": "DescriptionStyleModel",
      "state": {
       "description_width": ""
      }
     },
     "9763adf59c7346a9be0302bdd3542342": {
      "model_module": "@jupyter-widgets/controls",
      "model_module_version": "1.5.0",
      "model_name": "ProgressStyleModel",
      "state": {
       "description_width": "initial"
      }
     },
     "976637c1bc2e4012988e61f9aba1b27c": {
      "model_module": "@jupyter-widgets/controls",
      "model_module_version": "1.5.0",
      "model_name": "HTMLModel",
      "state": {
       "layout": "IPY_MODEL_5b6262bf0d594aedaa022e2a441c16d8",
       "style": "IPY_MODEL_f1965ce7dca143fe9d50d7c6a303af17",
       "value": " 157/157 [00:15&lt;00:00, 10.48it/s]"
      }
     },
     "9771d5586fc343c0ba7f7d8b37ec3a65": {
      "model_module": "@jupyter-widgets/controls",
      "model_module_version": "1.5.0",
      "model_name": "DescriptionStyleModel",
      "state": {
       "description_width": ""
      }
     },
     "979e0953207641f2ace50fda20253beb": {
      "model_module": "@jupyter-widgets/controls",
      "model_module_version": "1.5.0",
      "model_name": "HTMLModel",
      "state": {
       "layout": "IPY_MODEL_3600c5b76e0f4758b7200e7cdadf8a4c",
       "style": "IPY_MODEL_ba5d7cfde17e486f94b12bfad0bf5f3b",
       "value": " 157/157 [00:09&lt;00:00, 15.62it/s]"
      }
     },
     "97b0637871dd4f2a9ad3e25a7f149ffb": {
      "model_module": "@jupyter-widgets/controls",
      "model_module_version": "1.5.0",
      "model_name": "FloatProgressModel",
      "state": {
       "description": "train loss: 3.7578: 100%",
       "layout": "IPY_MODEL_6851aeb2fe7647e1a2fca5d820224bcf",
       "max": 1563,
       "style": "IPY_MODEL_96fc61e8901344d6a53fda0839cf3fbb",
       "value": 1563
      }
     },
     "97cf3e11f23f400cba34ab37d0e26f8d": {
      "model_module": "@jupyter-widgets/controls",
      "model_module_version": "1.5.0",
      "model_name": "ProgressStyleModel",
      "state": {
       "description_width": "initial"
      }
     },
     "97e80c75e8e946b8975d7852ec04b707": {
      "model_module": "@jupyter-widgets/base",
      "model_module_version": "1.2.0",
      "model_name": "LayoutModel",
      "state": {}
     },
     "9801a0b997a1486abdef58dfa2ce9971": {
      "model_module": "@jupyter-widgets/base",
      "model_module_version": "1.2.0",
      "model_name": "LayoutModel",
      "state": {}
     },
     "981f95e332b4402db5aecb6d03f507ad": {
      "model_module": "@jupyter-widgets/controls",
      "model_module_version": "1.5.0",
      "model_name": "ProgressStyleModel",
      "state": {
       "description_width": "initial"
      }
     },
     "9844f7c95ef740099aea276336536882": {
      "model_module": "@jupyter-widgets/controls",
      "model_module_version": "1.5.0",
      "model_name": "DescriptionStyleModel",
      "state": {
       "description_width": ""
      }
     },
     "98586d41655742ce9df12c5f88a7b906": {
      "model_module": "@jupyter-widgets/controls",
      "model_module_version": "1.5.0",
      "model_name": "HTMLModel",
      "state": {
       "layout": "IPY_MODEL_d02f82632bfe44d5942577f3845b67d0",
       "style": "IPY_MODEL_62e78d7f886742a9abcf4b42f8732173",
       "value": " 157/157 [00:16&lt;00:00,  9.47it/s]"
      }
     },
     "988f209ed6684118b62b8f2d4df0d607": {
      "model_module": "@jupyter-widgets/base",
      "model_module_version": "1.2.0",
      "model_name": "LayoutModel",
      "state": {}
     },
     "98a20603d714484e8fc28407dcf3440c": {
      "model_module": "@jupyter-widgets/controls",
      "model_module_version": "1.5.0",
      "model_name": "DescriptionStyleModel",
      "state": {
       "description_width": ""
      }
     },
     "98a8d4335264404f8daeb301a6e3ed43": {
      "model_module": "@jupyter-widgets/base",
      "model_module_version": "1.2.0",
      "model_name": "LayoutModel",
      "state": {}
     },
     "98cf417418954f3f8af2de2be3f6e2dd": {
      "model_module": "@jupyter-widgets/base",
      "model_module_version": "1.2.0",
      "model_name": "LayoutModel",
      "state": {}
     },
     "98e095c276fc4704934bd5c714ff619d": {
      "model_module": "@jupyter-widgets/base",
      "model_module_version": "1.2.0",
      "model_name": "LayoutModel",
      "state": {}
     },
     "98ebaab28da04e469e51c1deaf01fbd7": {
      "model_module": "@jupyter-widgets/base",
      "model_module_version": "1.2.0",
      "model_name": "LayoutModel",
      "state": {}
     },
     "990346146c7441a9b116e44029c239ef": {
      "model_module": "@jupyter-widgets/base",
      "model_module_version": "1.2.0",
      "model_name": "LayoutModel",
      "state": {}
     },
     "990394f833144b9290079d25d2ae9f84": {
      "model_module": "@jupyter-widgets/base",
      "model_module_version": "1.2.0",
      "model_name": "LayoutModel",
      "state": {}
     },
     "9907bba40e1c4c928dcab70cadff18d3": {
      "model_module": "@jupyter-widgets/base",
      "model_module_version": "1.2.0",
      "model_name": "LayoutModel",
      "state": {}
     },
     "992445735bfe4deea9ecd96a2e58e4b4": {
      "model_module": "@jupyter-widgets/base",
      "model_module_version": "1.2.0",
      "model_name": "LayoutModel",
      "state": {}
     },
     "9933df94363d40729e1b7a10c623f5c2": {
      "model_module": "@jupyter-widgets/controls",
      "model_module_version": "1.5.0",
      "model_name": "DescriptionStyleModel",
      "state": {
       "description_width": ""
      }
     },
     "993686c04de547bcb1472e55f599541f": {
      "model_module": "@jupyter-widgets/controls",
      "model_module_version": "1.5.0",
      "model_name": "DescriptionStyleModel",
      "state": {
       "description_width": ""
      }
     },
     "9939812963ab4b369a3c3452facc2b49": {
      "model_module": "@jupyter-widgets/controls",
      "model_module_version": "1.5.0",
      "model_name": "HTMLModel",
      "state": {
       "layout": "IPY_MODEL_b29c528fc99443959f7dae85dcff3fdb",
       "style": "IPY_MODEL_9750d7a8ea064f8dbf84c6b942c561b0",
       "value": " 157/157 [00:10&lt;00:00, 15.58it/s]"
      }
     },
     "993e7ef5296a4115a41348f28c8b74df": {
      "model_module": "@jupyter-widgets/base",
      "model_module_version": "1.2.0",
      "model_name": "LayoutModel",
      "state": {}
     },
     "99a16730e9884e84bfbe46c6db24f481": {
      "model_module": "@jupyter-widgets/base",
      "model_module_version": "1.2.0",
      "model_name": "LayoutModel",
      "state": {}
     },
     "99c8c210d32d465d9c4b2f8301c13b1b": {
      "model_module": "@jupyter-widgets/controls",
      "model_module_version": "1.5.0",
      "model_name": "ProgressStyleModel",
      "state": {
       "description_width": "initial"
      }
     },
     "99e9accac89643f6ab06670ee9962d8a": {
      "model_module": "@jupyter-widgets/base",
      "model_module_version": "1.2.0",
      "model_name": "LayoutModel",
      "state": {}
     },
     "99f6afb3761e4b3d9382934654a5aee5": {
      "model_module": "@jupyter-widgets/controls",
      "model_module_version": "1.5.0",
      "model_name": "HTMLModel",
      "state": {
       "layout": "IPY_MODEL_26302414829d4082a14961b8a5935c58",
       "style": "IPY_MODEL_170b8df689b6429a9f60b5355ab3ba74",
       "value": " 1563/1563 [04:59&lt;00:00,  5.86it/s]"
      }
     },
     "9a15b1b6f8e2487295dcb7b80123633f": {
      "model_module": "@jupyter-widgets/base",
      "model_module_version": "1.2.0",
      "model_name": "LayoutModel",
      "state": {}
     },
     "9a1ef88de43c4ad1b0378aa998e6708a": {
      "model_module": "@jupyter-widgets/controls",
      "model_module_version": "1.5.0",
      "model_name": "FloatProgressModel",
      "state": {
       "description": "val loss: 4.0687: 100%",
       "layout": "IPY_MODEL_d54deba926a74014aa43ef9e603d3ad5",
       "max": 157,
       "style": "IPY_MODEL_1082bdaa3dfb4f6eae5edc8f6560ced7",
       "value": 157
      }
     },
     "9a226a8d71d8470b88dfebd8b0608df4": {
      "model_module": "@jupyter-widgets/controls",
      "model_module_version": "1.5.0",
      "model_name": "HBoxModel",
      "state": {
       "children": [
        "IPY_MODEL_b7491d1b5d524bd7829810ac313b9ea5",
        "IPY_MODEL_06c7a469fb46430eb7271b0574577fbd"
       ],
       "layout": "IPY_MODEL_c8e51cf899f04a948658e2553c852527"
      }
     },
     "9a2a38d1a3404c4480d2c45a297a0944": {
      "model_module": "@jupyter-widgets/controls",
      "model_module_version": "1.5.0",
      "model_name": "ProgressStyleModel",
      "state": {
       "description_width": "initial"
      }
     },
     "9a3e92d572c446399878d548badd8d0b": {
      "model_module": "@jupyter-widgets/base",
      "model_module_version": "1.2.0",
      "model_name": "LayoutModel",
      "state": {}
     },
     "9a451bf60653413ebb943fa6e84f5b42": {
      "model_module": "@jupyter-widgets/base",
      "model_module_version": "1.2.0",
      "model_name": "LayoutModel",
      "state": {}
     },
     "9a487f42a3874868a632f1a799375b02": {
      "model_module": "@jupyter-widgets/controls",
      "model_module_version": "1.5.0",
      "model_name": "FloatProgressModel",
      "state": {
       "bar_style": "danger",
       "description": "train loss: 3.6402:  23%",
       "layout": "IPY_MODEL_e8461980a8414bc5b775b946f03548c4",
       "max": 1563,
       "style": "IPY_MODEL_daf3a9891b374830ac2bddc6fbd1b11b",
       "value": 363
      }
     },
     "9a4ec9989f794237ad351781b3603033": {
      "model_module": "@jupyter-widgets/controls",
      "model_module_version": "1.5.0",
      "model_name": "FloatProgressModel",
      "state": {
       "description": "val loss: 4.4787: 100%",
       "layout": "IPY_MODEL_44a7edef0a854d52b77c3c7024acdfda",
       "max": 157,
       "style": "IPY_MODEL_91dd1b4292af4ae5816107164e522aa6",
       "value": 157
      }
     },
     "9a56faaa252949d495ac3208e7e471e5": {
      "model_module": "@jupyter-widgets/controls",
      "model_module_version": "1.5.0",
      "model_name": "HTMLModel",
      "state": {
       "layout": "IPY_MODEL_1e7a7f2983154b4ba9069c935d6ba229",
       "style": "IPY_MODEL_8f612ae4a40746f6bb8172f57b9c0835",
       "value": " 1563/1563 [02:35&lt;00:00,  9.71it/s]"
      }
     },
     "9a8b16790a6d4f9a83c7e7d014d022c8": {
      "model_module": "@jupyter-widgets/controls",
      "model_module_version": "1.5.0",
      "model_name": "HTMLModel",
      "state": {
       "layout": "IPY_MODEL_046ce6681b5a482e8bb0ef1090d8e9bd",
       "style": "IPY_MODEL_72a5c3f3728a4359b5f97f728265e8c0",
       "value": " 157/157 [00:14&lt;00:00, 11.66it/s]"
      }
     },
     "9a9505c85a3d4147a4fd6bc830806b13": {
      "model_module": "@jupyter-widgets/base",
      "model_module_version": "1.2.0",
      "model_name": "LayoutModel",
      "state": {}
     },
     "9aa5bfe25cc843328afbf07dd56bae19": {
      "model_module": "@jupyter-widgets/base",
      "model_module_version": "1.2.0",
      "model_name": "LayoutModel",
      "state": {}
     },
     "9aa7ecd5d2d24d6682bd89c7f2263567": {
      "model_module": "@jupyter-widgets/controls",
      "model_module_version": "1.5.0",
      "model_name": "ProgressStyleModel",
      "state": {
       "description_width": "initial"
      }
     },
     "9ad25ae351a24a3d95089b6369591e88": {
      "model_module": "@jupyter-widgets/controls",
      "model_module_version": "1.5.0",
      "model_name": "DescriptionStyleModel",
      "state": {
       "description_width": ""
      }
     },
     "9af36aa2fe28425cb7290b6644daa94c": {
      "model_module": "@jupyter-widgets/base",
      "model_module_version": "1.2.0",
      "model_name": "LayoutModel",
      "state": {}
     },
     "9b00376b86f647299c79ca0f4a3b85b9": {
      "model_module": "@jupyter-widgets/controls",
      "model_module_version": "1.5.0",
      "model_name": "DescriptionStyleModel",
      "state": {
       "description_width": ""
      }
     },
     "9b700ed1a9c44cd7996dfd7b5f777d85": {
      "model_module": "@jupyter-widgets/base",
      "model_module_version": "1.2.0",
      "model_name": "LayoutModel",
      "state": {}
     },
     "9baea4a801724f8687d7c8198a2a1d43": {
      "model_module": "@jupyter-widgets/base",
      "model_module_version": "1.2.0",
      "model_name": "LayoutModel",
      "state": {}
     },
     "9bbadb4196504a7998fad42b20577f4c": {
      "model_module": "@jupyter-widgets/controls",
      "model_module_version": "1.5.0",
      "model_name": "ProgressStyleModel",
      "state": {
       "description_width": "initial"
      }
     },
     "9bd6131078be439bb31e92e484b29776": {
      "model_module": "@jupyter-widgets/controls",
      "model_module_version": "1.5.0",
      "model_name": "HTMLModel",
      "state": {
       "layout": "IPY_MODEL_645308a235bf4ea08f5d731792ec31ab",
       "style": "IPY_MODEL_5f35bdb6dbee469481652a553d7f77cb",
       "value": " 1563/1563 [02:34&lt;00:00, 10.41it/s]"
      }
     },
     "9be19604b4e946ac8fab746cb00d3540": {
      "model_module": "@jupyter-widgets/base",
      "model_module_version": "1.2.0",
      "model_name": "LayoutModel",
      "state": {}
     },
     "9bee739d77034e9f9b7fadc18fef5b2f": {
      "model_module": "@jupyter-widgets/controls",
      "model_module_version": "1.5.0",
      "model_name": "DescriptionStyleModel",
      "state": {
       "description_width": ""
      }
     },
     "9c0f26764cd94e33b174605a9cc156d3": {
      "model_module": "@jupyter-widgets/controls",
      "model_module_version": "1.5.0",
      "model_name": "HTMLModel",
      "state": {
       "layout": "IPY_MODEL_0bf56f3a2dc84b66aba00510ede90084",
       "style": "IPY_MODEL_a4198d46c7374e72882be4395192e22d",
       "value": " 157/157 [00:16&lt;00:00,  9.61it/s]"
      }
     },
     "9c0fd4e2451f42bfb0388fbcb8e50348": {
      "model_module": "@jupyter-widgets/controls",
      "model_module_version": "1.5.0",
      "model_name": "HTMLModel",
      "state": {
       "layout": "IPY_MODEL_f3fa67b2c426415b8e5dd02db163a080",
       "style": "IPY_MODEL_68415dab06dd4d48a81538e2ab4ef443",
       "value": " 157/157 [00:10&lt;00:00, 15.52it/s]"
      }
     },
     "9c15f0bd61054af090f67a789158ac81": {
      "model_module": "@jupyter-widgets/base",
      "model_module_version": "1.2.0",
      "model_name": "LayoutModel",
      "state": {}
     },
     "9c1ed44d6d964fbb91fbbb48c2d43de8": {
      "model_module": "@jupyter-widgets/base",
      "model_module_version": "1.2.0",
      "model_name": "LayoutModel",
      "state": {}
     },
     "9c24617094fc47869b7ca0dd1e44cab8": {
      "model_module": "@jupyter-widgets/controls",
      "model_module_version": "1.5.0",
      "model_name": "ProgressStyleModel",
      "state": {
       "description_width": "initial"
      }
     },
     "9c273d834af4455285d80bf96f07b92e": {
      "model_module": "@jupyter-widgets/controls",
      "model_module_version": "1.5.0",
      "model_name": "FloatProgressModel",
      "state": {
       "description": "train loss: 2.7298: 100%",
       "layout": "IPY_MODEL_47107ead8ce143bca53d1ebf11bee93c",
       "max": 1563,
       "style": "IPY_MODEL_f10dde068ecd4ce684b78d454a69d2f5",
       "value": 1563
      }
     },
     "9c2809c04dc646ca9c5e0783ebe3a308": {
      "model_module": "@jupyter-widgets/controls",
      "model_module_version": "1.5.0",
      "model_name": "FloatProgressModel",
      "state": {
       "description": "train loss: 3.7937: 100%",
       "layout": "IPY_MODEL_7914823a25d14c9c987878dd8d26fd65",
       "max": 1563,
       "style": "IPY_MODEL_90c027fb6474415ea2b820cca81c4206",
       "value": 1563
      }
     },
     "9c420bb88c6f440da16611d65e2f4673": {
      "model_module": "@jupyter-widgets/controls",
      "model_module_version": "1.5.0",
      "model_name": "DescriptionStyleModel",
      "state": {
       "description_width": ""
      }
     },
     "9c458d60a5934628a4ba19848d038860": {
      "model_module": "@jupyter-widgets/base",
      "model_module_version": "1.2.0",
      "model_name": "LayoutModel",
      "state": {}
     },
     "9c4a90895bd345cb9fc17a0393274f7c": {
      "model_module": "@jupyter-widgets/base",
      "model_module_version": "1.2.0",
      "model_name": "LayoutModel",
      "state": {}
     },
     "9c5b40647ec840fd870bbfe37eb20c9b": {
      "model_module": "@jupyter-widgets/controls",
      "model_module_version": "1.5.0",
      "model_name": "HTMLModel",
      "state": {
       "layout": "IPY_MODEL_f56d20db9a86486390684225ffe032ca",
       "style": "IPY_MODEL_a406a2d7dc6d4999a739e3562aac5138",
       "value": " 1563/1563 [04:59&lt;00:00,  5.91it/s]"
      }
     },
     "9c67057da781496c9707e350a550cbe2": {
      "model_module": "@jupyter-widgets/base",
      "model_module_version": "1.2.0",
      "model_name": "LayoutModel",
      "state": {}
     },
     "9c6abd5966d34803aee779e393696ebb": {
      "model_module": "@jupyter-widgets/base",
      "model_module_version": "1.2.0",
      "model_name": "LayoutModel",
      "state": {}
     },
     "9c705ef88ac24bc180e192fd623e4383": {
      "model_module": "@jupyter-widgets/controls",
      "model_module_version": "1.5.0",
      "model_name": "ProgressStyleModel",
      "state": {
       "description_width": "initial"
      }
     },
     "9c75b176a3a24c8798325c1b1a373dfe": {
      "model_module": "@jupyter-widgets/controls",
      "model_module_version": "1.5.0",
      "model_name": "HTMLModel",
      "state": {
       "layout": "IPY_MODEL_b9b27f206f1140fe8a618916139493ba",
       "style": "IPY_MODEL_05cf8684d937468cad9408dbf4a2e573",
       "value": " 157/157 [00:14&lt;00:00, 11.85it/s]"
      }
     },
     "9ca8c80a88f34a7e82e86b9a5bdc89f8": {
      "model_module": "@jupyter-widgets/controls",
      "model_module_version": "1.5.0",
      "model_name": "HTMLModel",
      "state": {
       "layout": "IPY_MODEL_489fd42fa8a1487db2ccfa0263052538",
       "style": "IPY_MODEL_3f5279a8bd2c46d09a7b6fb13ebbf11b",
       "value": " 1563/1563 [02:32&lt;00:00, 10.74it/s]"
      }
     },
     "9cc841a3715347fa9fb02ac702ae8891": {
      "model_module": "@jupyter-widgets/controls",
      "model_module_version": "1.5.0",
      "model_name": "ProgressStyleModel",
      "state": {
       "description_width": "initial"
      }
     },
     "9cdf412e8aa2429c9033b6c3fcf1e464": {
      "model_module": "@jupyter-widgets/controls",
      "model_module_version": "1.5.0",
      "model_name": "ProgressStyleModel",
      "state": {
       "description_width": "initial"
      }
     },
     "9cfc449bbbe046fcbe86484f830588c4": {
      "model_module": "@jupyter-widgets/base",
      "model_module_version": "1.2.0",
      "model_name": "LayoutModel",
      "state": {}
     },
     "9d103a1d1fea4fe9960f52c19dcea779": {
      "model_module": "@jupyter-widgets/controls",
      "model_module_version": "1.5.0",
      "model_name": "ProgressStyleModel",
      "state": {
       "description_width": "initial"
      }
     },
     "9d339c19283c4a2aab32cdf7a1ba3317": {
      "model_module": "@jupyter-widgets/base",
      "model_module_version": "1.2.0",
      "model_name": "LayoutModel",
      "state": {}
     },
     "9d4869c970a94f4595873be7028509ff": {
      "model_module": "@jupyter-widgets/base",
      "model_module_version": "1.2.0",
      "model_name": "LayoutModel",
      "state": {}
     },
     "9d87045200934901981a3580b258cc2f": {
      "model_module": "@jupyter-widgets/base",
      "model_module_version": "1.2.0",
      "model_name": "LayoutModel",
      "state": {}
     },
     "9db154ed802b4a63a8e1f25357bc6c68": {
      "model_module": "@jupyter-widgets/controls",
      "model_module_version": "1.5.0",
      "model_name": "FloatProgressModel",
      "state": {
       "description": "train loss: 4.8478: 100%",
       "layout": "IPY_MODEL_0024f800bca34e1a85ca9fdec291be31",
       "max": 1563,
       "style": "IPY_MODEL_b5d820cab7aa45628ebf557e17164ed8",
       "value": 1563
      }
     },
     "9dc0e6389e7d477a97e0c3deccefd114": {
      "model_module": "@jupyter-widgets/base",
      "model_module_version": "1.2.0",
      "model_name": "LayoutModel",
      "state": {}
     },
     "9dcf6b0d25e64e278ef99437be20c68a": {
      "model_module": "@jupyter-widgets/base",
      "model_module_version": "1.2.0",
      "model_name": "LayoutModel",
      "state": {}
     },
     "9dd004fcf7784edd83c61458c241e850": {
      "model_module": "@jupyter-widgets/base",
      "model_module_version": "1.2.0",
      "model_name": "LayoutModel",
      "state": {}
     },
     "9ddf03992b66428f80687cb20b1cdfe3": {
      "model_module": "@jupyter-widgets/base",
      "model_module_version": "1.2.0",
      "model_name": "LayoutModel",
      "state": {}
     },
     "9defbc1e714e44e58ab3149831bd5063": {
      "model_module": "@jupyter-widgets/controls",
      "model_module_version": "1.5.0",
      "model_name": "FloatProgressModel",
      "state": {
       "description": "val loss: 2.8950: 100%",
       "layout": "IPY_MODEL_ddf63f8ee5b44430a9796bc7a2f334c6",
       "max": 157,
       "style": "IPY_MODEL_c0c7429492624ff2ac59aa497e3f8f36",
       "value": 157
      }
     },
     "9df6e4429f584a19975b0d44eb85defc": {
      "model_module": "@jupyter-widgets/controls",
      "model_module_version": "1.5.0",
      "model_name": "FloatProgressModel",
      "state": {
       "description": "val loss: 4.7346: 100%",
       "layout": "IPY_MODEL_992445735bfe4deea9ecd96a2e58e4b4",
       "max": 157,
       "style": "IPY_MODEL_bda2cc09d9be4fe3a7b7fc7a9cec5dd2",
       "value": 157
      }
     },
     "9e0aa0cb54f345209ccb1dbdb23095fe": {
      "model_module": "@jupyter-widgets/base",
      "model_module_version": "1.2.0",
      "model_name": "LayoutModel",
      "state": {}
     },
     "9e0afd8d568a4db38c11ef2a7a0606d2": {
      "model_module": "@jupyter-widgets/controls",
      "model_module_version": "1.5.0",
      "model_name": "FloatProgressModel",
      "state": {
       "description": "train loss: 2.7914: 100%",
       "layout": "IPY_MODEL_ee1613c7881440958d511a123920d5a7",
       "max": 1563,
       "style": "IPY_MODEL_824c5c847b3d4ad3b1f566641fa18ebb",
       "value": 1563
      }
     },
     "9e27d78fab9c453bbb90ed2feed411cb": {
      "model_module": "@jupyter-widgets/base",
      "model_module_version": "1.2.0",
      "model_name": "LayoutModel",
      "state": {}
     },
     "9e32401f4f0a4d1285c4c978801ee2b4": {
      "model_module": "@jupyter-widgets/controls",
      "model_module_version": "1.5.0",
      "model_name": "HTMLModel",
      "state": {
       "layout": "IPY_MODEL_0f8d454f023c484ca827b4ab8c04e9da",
       "style": "IPY_MODEL_cbf0633e98ea41739666306fff0a1588",
       "value": " 1563/1563 [02:35&lt;00:00, 10.08it/s]"
      }
     },
     "9e4a4ab9022b45f0b4cab6b9cee0b38a": {
      "model_module": "@jupyter-widgets/base",
      "model_module_version": "1.2.0",
      "model_name": "LayoutModel",
      "state": {}
     },
     "9e893f93fb6940ae922c22b2601607e8": {
      "model_module": "@jupyter-widgets/controls",
      "model_module_version": "1.5.0",
      "model_name": "HTMLModel",
      "state": {
       "layout": "IPY_MODEL_f4ce0d7809dc4815b8d766f01c28bcc5",
       "style": "IPY_MODEL_ec5f7f358570440eb0b82e6b383597dd",
       "value": " 157/157 [00:10&lt;00:00, 15.44it/s]"
      }
     },
     "9ec75c1df6334c1e91ab151bde863c40": {
      "model_module": "@jupyter-widgets/base",
      "model_module_version": "1.2.0",
      "model_name": "LayoutModel",
      "state": {}
     },
     "9ed54b930d76481fb687a008a3631186": {
      "model_module": "@jupyter-widgets/controls",
      "model_module_version": "1.5.0",
      "model_name": "DescriptionStyleModel",
      "state": {
       "description_width": ""
      }
     },
     "9ed94bab9dd14909af43cc1304d17360": {
      "model_module": "@jupyter-widgets/controls",
      "model_module_version": "1.5.0",
      "model_name": "HTMLModel",
      "state": {
       "layout": "IPY_MODEL_ecad0216cb714a69b9960b6e99a5a116",
       "style": "IPY_MODEL_7e892c9339b54cef8df72b6b90a6e875",
       "value": " 157/157 [00:10&lt;00:00, 16.06it/s]"
      }
     },
     "9f075460821e4a0f825ecd739112ab52": {
      "model_module": "@jupyter-widgets/controls",
      "model_module_version": "1.5.0",
      "model_name": "DescriptionStyleModel",
      "state": {
       "description_width": ""
      }
     },
     "9f3552204f3645ad850f794d1234b267": {
      "model_module": "@jupyter-widgets/controls",
      "model_module_version": "1.5.0",
      "model_name": "HTMLModel",
      "state": {
       "layout": "IPY_MODEL_c45d214e33ef4610a5291a89b6777c10",
       "style": "IPY_MODEL_8b40f8898e2b4504914a7c45126d508a",
       "value": " 157/157 [00:16&lt;00:00,  9.45it/s]"
      }
     },
     "9f375d3ab7df4cd69394e854aeb97fa9": {
      "model_module": "@jupyter-widgets/controls",
      "model_module_version": "1.5.0",
      "model_name": "DescriptionStyleModel",
      "state": {
       "description_width": ""
      }
     },
     "9f57a04bc87942d9aa10217f4f364443": {
      "model_module": "@jupyter-widgets/controls",
      "model_module_version": "1.5.0",
      "model_name": "FloatProgressModel",
      "state": {
       "description": "train loss: 3.4213: 100%",
       "layout": "IPY_MODEL_6ad4335e455a434fbc9288a2a814399a",
       "max": 1563,
       "style": "IPY_MODEL_47c93ef9b3a34688869dc8870fc6b790",
       "value": 1563
      }
     },
     "9f61a292158840918c92f2effa83837a": {
      "model_module": "@jupyter-widgets/base",
      "model_module_version": "1.2.0",
      "model_name": "LayoutModel",
      "state": {}
     },
     "9f89e011432b4f3181a7848c2f3fe0ff": {
      "model_module": "@jupyter-widgets/controls",
      "model_module_version": "1.5.0",
      "model_name": "DescriptionStyleModel",
      "state": {
       "description_width": ""
      }
     },
     "9f9f910cc5ab4c5dab96e4e9a82c8d2f": {
      "model_module": "@jupyter-widgets/controls",
      "model_module_version": "1.5.0",
      "model_name": "DescriptionStyleModel",
      "state": {
       "description_width": ""
      }
     },
     "9fa1036c6e014fedb644b147a081e03c": {
      "model_module": "@jupyter-widgets/controls",
      "model_module_version": "1.5.0",
      "model_name": "HTMLModel",
      "state": {
       "layout": "IPY_MODEL_630e368c98884beab72952c4d8e33f9c",
       "style": "IPY_MODEL_0957d5e6423c4a809cb151b1f06be875",
       "value": " 157/157 [00:12&lt;00:00, 12.57it/s]"
      }
     },
     "9fa5bbaa53c5421aaeedcf2612d015e3": {
      "model_module": "@jupyter-widgets/controls",
      "model_module_version": "1.5.0",
      "model_name": "HTMLModel",
      "state": {
       "layout": "IPY_MODEL_958f0d31b7124c77b4d126afbb5543c3",
       "style": "IPY_MODEL_6846633f66194c23b3863ff60d650c03",
       "value": " 157/157 [00:10&lt;00:00, 15.49it/s]"
      }
     },
     "9fdde75f400f4b68aa254aba0932b06b": {
      "model_module": "@jupyter-widgets/base",
      "model_module_version": "1.2.0",
      "model_name": "LayoutModel",
      "state": {}
     },
     "9fe366404b2342eba048f49e925bd952": {
      "model_module": "@jupyter-widgets/base",
      "model_module_version": "1.2.0",
      "model_name": "LayoutModel",
      "state": {}
     },
     "a00f206c663f41f8b6a551dd7f667da4": {
      "model_module": "@jupyter-widgets/base",
      "model_module_version": "1.2.0",
      "model_name": "LayoutModel",
      "state": {}
     },
     "a0107e2a865848878936c05cc35fad60": {
      "model_module": "@jupyter-widgets/controls",
      "model_module_version": "1.5.0",
      "model_name": "HTMLModel",
      "state": {
       "layout": "IPY_MODEL_3b0849270eaf44338222f341b471cc24",
       "style": "IPY_MODEL_5d9337571bbf4137adb26b40bdbdb63b",
       "value": " 157/157 [00:09&lt;00:00, 16.17it/s]"
      }
     },
     "a0321683371c4f03b4f443c6e425b0ed": {
      "model_module": "@jupyter-widgets/controls",
      "model_module_version": "1.5.0",
      "model_name": "FloatProgressModel",
      "state": {
       "description": "val loss: 4.9322: 100%",
       "layout": "IPY_MODEL_d955f0c86355485087b649ec8d8d75ba",
       "max": 157,
       "style": "IPY_MODEL_36949f87dd2b4f4eb408043a73720aec",
       "value": 157
      }
     },
     "a0325959945c4ff2b75290342bc78da6": {
      "model_module": "@jupyter-widgets/controls",
      "model_module_version": "1.5.0",
      "model_name": "FloatProgressModel",
      "state": {
       "description": "train loss: 3.4635: 100%",
       "layout": "IPY_MODEL_98a8d4335264404f8daeb301a6e3ed43",
       "max": 1563,
       "style": "IPY_MODEL_6c16f355438741879ace92a663bfade5",
       "value": 1563
      }
     },
     "a04a948c8bfb4c79aabf9294b39d5cf8": {
      "model_module": "@jupyter-widgets/controls",
      "model_module_version": "1.5.0",
      "model_name": "ProgressStyleModel",
      "state": {
       "description_width": "initial"
      }
     },
     "a05420e2b4a745a7a82a92ce465c84cb": {
      "model_module": "@jupyter-widgets/base",
      "model_module_version": "1.2.0",
      "model_name": "LayoutModel",
      "state": {}
     },
     "a07572128c414277b769f157ee92608c": {
      "model_module": "@jupyter-widgets/controls",
      "model_module_version": "1.5.0",
      "model_name": "ProgressStyleModel",
      "state": {
       "description_width": "initial"
      }
     },
     "a07f8c662c5e46de9c9120bd2b2d3d2f": {
      "model_module": "@jupyter-widgets/base",
      "model_module_version": "1.2.0",
      "model_name": "LayoutModel",
      "state": {}
     },
     "a0a22a411180409f8caef408d8a88d63": {
      "model_module": "@jupyter-widgets/base",
      "model_module_version": "1.2.0",
      "model_name": "LayoutModel",
      "state": {}
     },
     "a0a4a4c4715e48b8b1176944a65b62b9": {
      "model_module": "@jupyter-widgets/base",
      "model_module_version": "1.2.0",
      "model_name": "LayoutModel",
      "state": {}
     },
     "a0c205961dfd4b52b94569b6bc75f8eb": {
      "model_module": "@jupyter-widgets/base",
      "model_module_version": "1.2.0",
      "model_name": "LayoutModel",
      "state": {}
     },
     "a0d1df3fc4d446dc89b3f0ab3336e10d": {
      "model_module": "@jupyter-widgets/base",
      "model_module_version": "1.2.0",
      "model_name": "LayoutModel",
      "state": {}
     },
     "a0e4e0540d984b139c5465005ef687b4": {
      "model_module": "@jupyter-widgets/base",
      "model_module_version": "1.2.0",
      "model_name": "LayoutModel",
      "state": {}
     },
     "a122d598cf914bfd8841714c72e5b6d7": {
      "model_module": "@jupyter-widgets/base",
      "model_module_version": "1.2.0",
      "model_name": "LayoutModel",
      "state": {}
     },
     "a14efb87c9c84574819da4da2bd6ad68": {
      "model_module": "@jupyter-widgets/base",
      "model_module_version": "1.2.0",
      "model_name": "LayoutModel",
      "state": {}
     },
     "a15c2a4473934c7e8a88de9f4ef9b92c": {
      "model_module": "@jupyter-widgets/base",
      "model_module_version": "1.2.0",
      "model_name": "LayoutModel",
      "state": {}
     },
     "a160f13face247a6b4fca6374219d1e8": {
      "model_module": "@jupyter-widgets/controls",
      "model_module_version": "1.5.0",
      "model_name": "FloatProgressModel",
      "state": {
       "description": "val loss: 3.5020: 100%",
       "layout": "IPY_MODEL_9dd004fcf7784edd83c61458c241e850",
       "max": 157,
       "style": "IPY_MODEL_e2b1055a549640c0a097b40fafadd3bc",
       "value": 157
      }
     },
     "a1701963ebcd4697a54e90842736760b": {
      "model_module": "@jupyter-widgets/controls",
      "model_module_version": "1.5.0",
      "model_name": "DescriptionStyleModel",
      "state": {
       "description_width": ""
      }
     },
     "a1936d5ae2474304bd98e1e740910977": {
      "model_module": "@jupyter-widgets/controls",
      "model_module_version": "1.5.0",
      "model_name": "FloatProgressModel",
      "state": {
       "description": "train loss: 4.5301: 100%",
       "layout": "IPY_MODEL_487c660097d640afbd437a56533afb3e",
       "max": 1563,
       "style": "IPY_MODEL_cac4b30a6b8a48fda2ac7f330172ea98",
       "value": 1563
      }
     },
     "a1b4eefed441420e94f6c1c3f5f66c86": {
      "model_module": "@jupyter-widgets/base",
      "model_module_version": "1.2.0",
      "model_name": "LayoutModel",
      "state": {}
     },
     "a1ca26c76f6a44c3a8e3c332f03b3115": {
      "model_module": "@jupyter-widgets/controls",
      "model_module_version": "1.5.0",
      "model_name": "HTMLModel",
      "state": {
       "layout": "IPY_MODEL_2f6fc762274f4209b8f99091edac5782",
       "style": "IPY_MODEL_bded6f61880c4549b7877ec8d0e46bb5",
       "value": " 1563/1563 [05:31&lt;00:00,  5.50it/s]"
      }
     },
     "a1d9c73419f64d7685921afef97fc5f2": {
      "model_module": "@jupyter-widgets/controls",
      "model_module_version": "1.5.0",
      "model_name": "DescriptionStyleModel",
      "state": {
       "description_width": ""
      }
     },
     "a21b8fe294bf410c83d4535a994e4ea3": {
      "model_module": "@jupyter-widgets/controls",
      "model_module_version": "1.5.0",
      "model_name": "ProgressStyleModel",
      "state": {
       "description_width": "initial"
      }
     },
     "a231cb7755e945da9472c79db3e25590": {
      "model_module": "@jupyter-widgets/controls",
      "model_module_version": "1.5.0",
      "model_name": "HTMLModel",
      "state": {
       "layout": "IPY_MODEL_b660bf0dad0b43e5a31a8fbc3370aa3f",
       "style": "IPY_MODEL_6fee8d9edae04e63a28c871ef62fbb06",
       "value": " 1563/1563 [02:33&lt;00:00, 11.12it/s]"
      }
     },
     "a23a1d86f518460582578c2ba7e559bb": {
      "model_module": "@jupyter-widgets/controls",
      "model_module_version": "1.5.0",
      "model_name": "ProgressStyleModel",
      "state": {
       "description_width": "initial"
      }
     },
     "a24fa1d5b18942f79d7586f7f5943f29": {
      "model_module": "@jupyter-widgets/base",
      "model_module_version": "1.2.0",
      "model_name": "LayoutModel",
      "state": {}
     },
     "a25353e305584170a1bf681599d9bb28": {
      "model_module": "@jupyter-widgets/controls",
      "model_module_version": "1.5.0",
      "model_name": "HTMLModel",
      "state": {
       "layout": "IPY_MODEL_e6d9e97c66e34ae19747f9ff409ec53e",
       "style": "IPY_MODEL_c7ee1a69b1f247f3afb45ebd1f2f15e0",
       "value": " 3/10 [08:21&lt;19:22, 166.04s/it]"
      }
     },
     "a2721b2c6c0f42dbbcd9f0c8a29d380b": {
      "model_module": "@jupyter-widgets/controls",
      "model_module_version": "1.5.0",
      "model_name": "HTMLModel",
      "state": {
       "layout": "IPY_MODEL_05b9f369cc8842c292dbce4f1aecec75",
       "style": "IPY_MODEL_2c618285d6e5457f985b4dbe4a88fbc1",
       "value": " 1563/1563 [04:57&lt;00:00,  6.02it/s]"
      }
     },
     "a27eee814a3140bf92782e7800708241": {
      "model_module": "@jupyter-widgets/controls",
      "model_module_version": "1.5.0",
      "model_name": "DescriptionStyleModel",
      "state": {
       "description_width": ""
      }
     },
     "a283300d37fa49bcade0e4707eb65960": {
      "model_module": "@jupyter-widgets/base",
      "model_module_version": "1.2.0",
      "model_name": "LayoutModel",
      "state": {}
     },
     "a2851e315a21463dbbd6fa13db186bb6": {
      "model_module": "@jupyter-widgets/base",
      "model_module_version": "1.2.0",
      "model_name": "LayoutModel",
      "state": {}
     },
     "a288caa779d948aab4b0ba52609a899e": {
      "model_module": "@jupyter-widgets/base",
      "model_module_version": "1.2.0",
      "model_name": "LayoutModel",
      "state": {}
     },
     "a28928c8fb69489aa69da88bb524e8d9": {
      "model_module": "@jupyter-widgets/controls",
      "model_module_version": "1.5.0",
      "model_name": "DescriptionStyleModel",
      "state": {
       "description_width": ""
      }
     },
     "a2973763c43b45d797ac815f7a195da6": {
      "model_module": "@jupyter-widgets/controls",
      "model_module_version": "1.5.0",
      "model_name": "HTMLModel",
      "state": {
       "layout": "IPY_MODEL_90c19cd7abef47b8b168605332af6205",
       "style": "IPY_MODEL_6febba9dd40f49de9424ea5f825b3090",
       "value": " 1563/1563 [02:34&lt;00:00,  9.83it/s]"
      }
     },
     "a2a102b4f073485c856d68a246ea648c": {
      "model_module": "@jupyter-widgets/base",
      "model_module_version": "1.2.0",
      "model_name": "LayoutModel",
      "state": {}
     },
     "a2a5a4419eaf461f8daf9d3820eb87f1": {
      "model_module": "@jupyter-widgets/controls",
      "model_module_version": "1.5.0",
      "model_name": "ProgressStyleModel",
      "state": {
       "description_width": "initial"
      }
     },
     "a2b1fe9553134007b18b45fd78d8629b": {
      "model_module": "@jupyter-widgets/controls",
      "model_module_version": "1.5.0",
      "model_name": "DescriptionStyleModel",
      "state": {
       "description_width": ""
      }
     },
     "a2b8a79ef1974d4f926af57dc31d7b8a": {
      "model_module": "@jupyter-widgets/controls",
      "model_module_version": "1.5.0",
      "model_name": "ProgressStyleModel",
      "state": {
       "description_width": "initial"
      }
     },
     "a2be5b234052481ca0f0368c4c796132": {
      "model_module": "@jupyter-widgets/base",
      "model_module_version": "1.2.0",
      "model_name": "LayoutModel",
      "state": {}
     },
     "a2dc60f3ac6246cca0ebe44fcbe6b2a7": {
      "model_module": "@jupyter-widgets/controls",
      "model_module_version": "1.5.0",
      "model_name": "HTMLModel",
      "state": {
       "layout": "IPY_MODEL_d71ba32b39da45478005d1f25eee2312",
       "style": "IPY_MODEL_e7f231daaabd4ab59261dc54488f5115",
       "value": " 1563/1563 [02:35&lt;00:00, 10.85it/s]"
      }
     },
     "a2f7d80e0d5840a0b06e55f115df63b7": {
      "model_module": "@jupyter-widgets/controls",
      "model_module_version": "1.5.0",
      "model_name": "DescriptionStyleModel",
      "state": {
       "description_width": ""
      }
     },
     "a314b3a5676c4487921ad7b4953dcc04": {
      "model_module": "@jupyter-widgets/controls",
      "model_module_version": "1.5.0",
      "model_name": "FloatProgressModel",
      "state": {
       "description": "val loss: 3.3614: 100%",
       "layout": "IPY_MODEL_e6c2f7812e9b43b9807743ed10469167",
       "max": 157,
       "style": "IPY_MODEL_164e1a96cb6e4b08a9d4dada3d11fc31",
       "value": 157
      }
     },
     "a333048965dd49659390be449f95f840": {
      "model_module": "@jupyter-widgets/controls",
      "model_module_version": "1.5.0",
      "model_name": "HTMLModel",
      "state": {
       "layout": "IPY_MODEL_7712bb909c28424fb77a0acf785a7d49",
       "style": "IPY_MODEL_c1b55eb61b7e4707bd35b9bfa217d7dd",
       "value": " 157/157 [00:10&lt;00:00, 15.48it/s]"
      }
     },
     "a355392478eb4654b86e6107c9fbff2c": {
      "model_module": "@jupyter-widgets/base",
      "model_module_version": "1.2.0",
      "model_name": "LayoutModel",
      "state": {}
     },
     "a36b441c037a42be9eaa40743eada955": {
      "model_module": "@jupyter-widgets/controls",
      "model_module_version": "1.5.0",
      "model_name": "FloatProgressModel",
      "state": {
       "description": "val loss: 4.0572: 100%",
       "layout": "IPY_MODEL_fb22cb9f35dd4c7da7172d1d7e2d5aa8",
       "max": 157,
       "style": "IPY_MODEL_30f195d3b26d45758b795821b8043531",
       "value": 157
      }
     },
     "a36dff092f9b495f98bba4ca0f230dbd": {
      "model_module": "@jupyter-widgets/base",
      "model_module_version": "1.2.0",
      "model_name": "LayoutModel",
      "state": {}
     },
     "a373a0069ed54927a35118f051e96981": {
      "model_module": "@jupyter-widgets/controls",
      "model_module_version": "1.5.0",
      "model_name": "ProgressStyleModel",
      "state": {
       "description_width": "initial"
      }
     },
     "a383ec326cbb4ce7b64e6458dde158b9": {
      "model_module": "@jupyter-widgets/controls",
      "model_module_version": "1.5.0",
      "model_name": "HTMLModel",
      "state": {
       "layout": "IPY_MODEL_2f1188f7a9be42b9a1b24336f2dff926",
       "style": "IPY_MODEL_74dbb5a2baf34bfe93ad938736b69e29",
       "value": " 1563/1563 [02:42&lt;00:00,  9.25it/s]"
      }
     },
     "a39d2d4c8dc348958b27faf18d9feb9f": {
      "model_module": "@jupyter-widgets/controls",
      "model_module_version": "1.5.0",
      "model_name": "FloatProgressModel",
      "state": {
       "description": "train loss: 3.5190: 100%",
       "layout": "IPY_MODEL_487d57be88e6472bb66ca5ac6176e4fe",
       "max": 1563,
       "style": "IPY_MODEL_656ed797dde84ae48cc5bfcba392db99",
       "value": 1563
      }
     },
     "a39deda6663844d7b96420d35a468c91": {
      "model_module": "@jupyter-widgets/base",
      "model_module_version": "1.2.0",
      "model_name": "LayoutModel",
      "state": {}
     },
     "a3e24a1d5dbe49b585db1f671e4b29c9": {
      "model_module": "@jupyter-widgets/controls",
      "model_module_version": "1.5.0",
      "model_name": "HTMLModel",
      "state": {
       "layout": "IPY_MODEL_22adcd946cd746bc86c73a8f8870c44b",
       "style": "IPY_MODEL_f8c9e38cbfdf45ba82e6bc2146e927fe",
       "value": " 1563/1563 [04:54&lt;00:00,  5.95it/s]"
      }
     },
     "a3f3b5526b8449d295ed7d5edd7ac5f0": {
      "model_module": "@jupyter-widgets/controls",
      "model_module_version": "1.5.0",
      "model_name": "ProgressStyleModel",
      "state": {
       "description_width": "initial"
      }
     },
     "a3f92fa7d3804dfdbf88edb6b560cbf2": {
      "model_module": "@jupyter-widgets/controls",
      "model_module_version": "1.5.0",
      "model_name": "ProgressStyleModel",
      "state": {
       "description_width": "initial"
      }
     },
     "a3fd56cb6bec44e0aef769eba81a2233": {
      "model_module": "@jupyter-widgets/controls",
      "model_module_version": "1.5.0",
      "model_name": "HTMLModel",
      "state": {
       "layout": "IPY_MODEL_f53e2ed404544643891725029b71e1ba",
       "style": "IPY_MODEL_cad0a828597a455281784ecef81401e4",
       "value": " 157/157 [00:10&lt;00:00, 15.34it/s]"
      }
     },
     "a406a2d7dc6d4999a739e3562aac5138": {
      "model_module": "@jupyter-widgets/controls",
      "model_module_version": "1.5.0",
      "model_name": "DescriptionStyleModel",
      "state": {
       "description_width": ""
      }
     },
     "a413cedea7eb4fe98c258ddb3ec5745f": {
      "model_module": "@jupyter-widgets/controls",
      "model_module_version": "1.5.0",
      "model_name": "FloatProgressModel",
      "state": {
       "description": "val loss: 4.1012: 100%",
       "layout": "IPY_MODEL_c129886d464e424192b766d6260602aa",
       "max": 157,
       "style": "IPY_MODEL_62f2b89329004a64a0c3f40e0e496180",
       "value": 157
      }
     },
     "a4198d46c7374e72882be4395192e22d": {
      "model_module": "@jupyter-widgets/controls",
      "model_module_version": "1.5.0",
      "model_name": "DescriptionStyleModel",
      "state": {
       "description_width": ""
      }
     },
     "a43bf378099c4e14b36739100c6cd322": {
      "model_module": "@jupyter-widgets/controls",
      "model_module_version": "1.5.0",
      "model_name": "ProgressStyleModel",
      "state": {
       "description_width": "initial"
      }
     },
     "a43fc13549b4452b8ee3ffb636e25958": {
      "model_module": "@jupyter-widgets/controls",
      "model_module_version": "1.5.0",
      "model_name": "ProgressStyleModel",
      "state": {
       "description_width": "initial"
      }
     },
     "a4b307fae55c4606aa87d6ba14541bf8": {
      "model_module": "@jupyter-widgets/controls",
      "model_module_version": "1.5.0",
      "model_name": "HBoxModel",
      "state": {
       "children": [
        "IPY_MODEL_c6252d6dc0fe42fb8f44e8374898965e",
        "IPY_MODEL_892a4789a6c4482bb0fe0b5115082979"
       ],
       "layout": "IPY_MODEL_2e5486eba3f742b2a30f0c643417ea94"
      }
     },
     "a4e54db8b049450986f5d569f54cf629": {
      "model_module": "@jupyter-widgets/controls",
      "model_module_version": "1.5.0",
      "model_name": "ProgressStyleModel",
      "state": {
       "description_width": "initial"
      }
     },
     "a4e6a2dd7e294b658bd0e7e7aa570612": {
      "model_module": "@jupyter-widgets/base",
      "model_module_version": "1.2.0",
      "model_name": "LayoutModel",
      "state": {}
     },
     "a4e9abb544d24de99d194a5be7d210f2": {
      "model_module": "@jupyter-widgets/base",
      "model_module_version": "1.2.0",
      "model_name": "LayoutModel",
      "state": {}
     },
     "a4f4db778f084a46b4bcf5b8ed026839": {
      "model_module": "@jupyter-widgets/controls",
      "model_module_version": "1.5.0",
      "model_name": "ProgressStyleModel",
      "state": {
       "description_width": "initial"
      }
     },
     "a52e84cf862543fdbb35e7b16a3493d7": {
      "model_module": "@jupyter-widgets/controls",
      "model_module_version": "1.5.0",
      "model_name": "DescriptionStyleModel",
      "state": {
       "description_width": ""
      }
     },
     "a537c699bca7406bada8e5a1ac565f84": {
      "model_module": "@jupyter-widgets/controls",
      "model_module_version": "1.5.0",
      "model_name": "DescriptionStyleModel",
      "state": {
       "description_width": ""
      }
     },
     "a54365727c3446aebcd64d84a049cdfe": {
      "model_module": "@jupyter-widgets/controls",
      "model_module_version": "1.5.0",
      "model_name": "DescriptionStyleModel",
      "state": {
       "description_width": ""
      }
     },
     "a5499732328a4ac09efc818defdd05c4": {
      "model_module": "@jupyter-widgets/base",
      "model_module_version": "1.2.0",
      "model_name": "LayoutModel",
      "state": {}
     },
     "a54d5abc36534e398cc3e32df67188c8": {
      "model_module": "@jupyter-widgets/base",
      "model_module_version": "1.2.0",
      "model_name": "LayoutModel",
      "state": {}
     },
     "a5526c547c1044689d425bb3db62a77b": {
      "model_module": "@jupyter-widgets/base",
      "model_module_version": "1.2.0",
      "model_name": "LayoutModel",
      "state": {}
     },
     "a557b6cd324a42c081a64b9f7b742ae9": {
      "model_module": "@jupyter-widgets/controls",
      "model_module_version": "1.5.0",
      "model_name": "ProgressStyleModel",
      "state": {
       "description_width": "initial"
      }
     },
     "a577a2baeecc4dbda219ba727496124d": {
      "model_module": "@jupyter-widgets/controls",
      "model_module_version": "1.5.0",
      "model_name": "FloatProgressModel",
      "state": {
       "description": "val loss: 3.1994: 100%",
       "layout": "IPY_MODEL_ef8885659ea043bd9f552be19b25626c",
       "max": 157,
       "style": "IPY_MODEL_9044c4e575d240bfaedd13064a8b61c2",
       "value": 157
      }
     },
     "a58591584cde42ff8058ab2523184223": {
      "model_module": "@jupyter-widgets/controls",
      "model_module_version": "1.5.0",
      "model_name": "ProgressStyleModel",
      "state": {
       "description_width": "initial"
      }
     },
     "a5e7547be7db4d5f8625d89472da2ba7": {
      "model_module": "@jupyter-widgets/base",
      "model_module_version": "1.2.0",
      "model_name": "LayoutModel",
      "state": {}
     },
     "a5f60b0861b348cc8649dd832d3267b8": {
      "model_module": "@jupyter-widgets/controls",
      "model_module_version": "1.5.0",
      "model_name": "DescriptionStyleModel",
      "state": {
       "description_width": ""
      }
     },
     "a5fb3a75d9bd4f8cadbbea7fef421cf7": {
      "model_module": "@jupyter-widgets/controls",
      "model_module_version": "1.5.0",
      "model_name": "DescriptionStyleModel",
      "state": {
       "description_width": ""
      }
     },
     "a626198b69be42e8acec06720898709c": {
      "model_module": "@jupyter-widgets/base",
      "model_module_version": "1.2.0",
      "model_name": "LayoutModel",
      "state": {}
     },
     "a67d4ad5c290462088d4047bc5840e0b": {
      "model_module": "@jupyter-widgets/controls",
      "model_module_version": "1.5.0",
      "model_name": "FloatProgressModel",
      "state": {
       "description": "train loss: 3.7044: 100%",
       "layout": "IPY_MODEL_990394f833144b9290079d25d2ae9f84",
       "max": 1563,
       "style": "IPY_MODEL_d3a884099402438fb2da34f93b333bbf",
       "value": 1563
      }
     },
     "a685f118cae348a6951493e99ff35c8e": {
      "model_module": "@jupyter-widgets/base",
      "model_module_version": "1.2.0",
      "model_name": "LayoutModel",
      "state": {}
     },
     "a698b2a3ea62414dbd37e4fe194eb1c3": {
      "model_module": "@jupyter-widgets/base",
      "model_module_version": "1.2.0",
      "model_name": "LayoutModel",
      "state": {}
     },
     "a6c974b07d5c471a9c0cce0580b1cbbe": {
      "model_module": "@jupyter-widgets/controls",
      "model_module_version": "1.5.0",
      "model_name": "FloatProgressModel",
      "state": {
       "description": "val loss: 3.7107: 100%",
       "layout": "IPY_MODEL_6c4aa1ed00ae48bdbf5fe76e0468df97",
       "max": 157,
       "style": "IPY_MODEL_45232e6fd7f24525b01db5c27a8b2ac4",
       "value": 157
      }
     },
     "a6cd77e99ff74462adfd708935b0a5b3": {
      "model_module": "@jupyter-widgets/controls",
      "model_module_version": "1.5.0",
      "model_name": "HTMLModel",
      "state": {
       "layout": "IPY_MODEL_1b551e45e63f4ff4910d6ee3ad023c50",
       "style": "IPY_MODEL_cdf1493620134a6bae6dfe642254e82f",
       "value": " 1563/1563 [05:00&lt;00:00,  5.93it/s]"
      }
     },
     "a6e79aa386ca40f18e477e9185eba1ca": {
      "model_module": "@jupyter-widgets/controls",
      "model_module_version": "1.5.0",
      "model_name": "ProgressStyleModel",
      "state": {
       "description_width": "initial"
      }
     },
     "a6ee214a9d4641aaa807cabcf51f42e6": {
      "model_module": "@jupyter-widgets/base",
      "model_module_version": "1.2.0",
      "model_name": "LayoutModel",
      "state": {}
     },
     "a6f372aadbe24bfebab40dbc46c8a886": {
      "model_module": "@jupyter-widgets/controls",
      "model_module_version": "1.5.0",
      "model_name": "HTMLModel",
      "state": {
       "layout": "IPY_MODEL_7707e77d06094ed4bc57af65e4616338",
       "style": "IPY_MODEL_2dd6dbb847f446a19858e7de2c90296f",
       "value": " 157/157 [00:10&lt;00:00, 15.55it/s]"
      }
     },
     "a7033efdb35641ea8a836794322d4085": {
      "model_module": "@jupyter-widgets/base",
      "model_module_version": "1.2.0",
      "model_name": "LayoutModel",
      "state": {}
     },
     "a71d676f2c8847778e4dc3ee9787b36b": {
      "model_module": "@jupyter-widgets/base",
      "model_module_version": "1.2.0",
      "model_name": "LayoutModel",
      "state": {}
     },
     "a72597cd77714fb7a0abf2d181d3ac3b": {
      "model_module": "@jupyter-widgets/base",
      "model_module_version": "1.2.0",
      "model_name": "LayoutModel",
      "state": {}
     },
     "a72d0fb1f37a459ebfab37784d301886": {
      "model_module": "@jupyter-widgets/base",
      "model_module_version": "1.2.0",
      "model_name": "LayoutModel",
      "state": {}
     },
     "a73828d2054f4c1aa29df3cc3a18e320": {
      "model_module": "@jupyter-widgets/base",
      "model_module_version": "1.2.0",
      "model_name": "LayoutModel",
      "state": {}
     },
     "a73ed76143f247f0a6ba65435ca5d158": {
      "model_module": "@jupyter-widgets/controls",
      "model_module_version": "1.5.0",
      "model_name": "DescriptionStyleModel",
      "state": {
       "description_width": ""
      }
     },
     "a758ac9d84d94f56abda2e23758657f7": {
      "model_module": "@jupyter-widgets/base",
      "model_module_version": "1.2.0",
      "model_name": "LayoutModel",
      "state": {}
     },
     "a759bbfd7e224c2eb3b5182acf8a71f3": {
      "model_module": "@jupyter-widgets/controls",
      "model_module_version": "1.5.0",
      "model_name": "FloatProgressModel",
      "state": {
       "description": "val loss: 4.3947: 100%",
       "layout": "IPY_MODEL_d8e7176f7ce7464d8a2e5fbd4fd9cf75",
       "max": 157,
       "style": "IPY_MODEL_8ac77a43b2f44ebea9b14bd66cedd851",
       "value": 157
      }
     },
     "a776e7aa534e4c36916c065dd9636b18": {
      "model_module": "@jupyter-widgets/base",
      "model_module_version": "1.2.0",
      "model_name": "LayoutModel",
      "state": {}
     },
     "a7d36547f1e040a1a1f142b683b5d561": {
      "model_module": "@jupyter-widgets/base",
      "model_module_version": "1.2.0",
      "model_name": "LayoutModel",
      "state": {}
     },
     "a7ed4e28eeb64a32b92f37108a6a2362": {
      "model_module": "@jupyter-widgets/base",
      "model_module_version": "1.2.0",
      "model_name": "LayoutModel",
      "state": {}
     },
     "a7ee9c163e3c4d31ba24469a15d76c44": {
      "model_module": "@jupyter-widgets/base",
      "model_module_version": "1.2.0",
      "model_name": "LayoutModel",
      "state": {}
     },
     "a8a2167a01d14402b408672950061cad": {
      "model_module": "@jupyter-widgets/base",
      "model_module_version": "1.2.0",
      "model_name": "LayoutModel",
      "state": {}
     },
     "a8a4fa5a0ca64de4b2879d319d7cdac5": {
      "model_module": "@jupyter-widgets/controls",
      "model_module_version": "1.5.0",
      "model_name": "FloatProgressModel",
      "state": {
       "description": "val loss: 3.4602: 100%",
       "layout": "IPY_MODEL_b52cf1591d284df985d2bd11b9edf904",
       "max": 157,
       "style": "IPY_MODEL_108a8c0680d144bd8bb272557a805a78",
       "value": 157
      }
     },
     "a8ab741919b841c0890eb58245fee59c": {
      "model_module": "@jupyter-widgets/controls",
      "model_module_version": "1.5.0",
      "model_name": "DescriptionStyleModel",
      "state": {
       "description_width": ""
      }
     },
     "a8f14d68f4c34843bf11e4dea42d7aa8": {
      "model_module": "@jupyter-widgets/base",
      "model_module_version": "1.2.0",
      "model_name": "LayoutModel",
      "state": {}
     },
     "a8f589ea486d4bad988c385e3734cc79": {
      "model_module": "@jupyter-widgets/base",
      "model_module_version": "1.2.0",
      "model_name": "LayoutModel",
      "state": {}
     },
     "a91bc3d9275848a7b5fbb9a03f9aab06": {
      "model_module": "@jupyter-widgets/base",
      "model_module_version": "1.2.0",
      "model_name": "LayoutModel",
      "state": {}
     },
     "a925da4b841f4c97968187bc3a12b889": {
      "model_module": "@jupyter-widgets/base",
      "model_module_version": "1.2.0",
      "model_name": "LayoutModel",
      "state": {}
     },
     "a933d7ad9e0949d1b9c70e87c194ac34": {
      "model_module": "@jupyter-widgets/base",
      "model_module_version": "1.2.0",
      "model_name": "LayoutModel",
      "state": {}
     },
     "a94f9ab171204bb7be711580330c8921": {
      "model_module": "@jupyter-widgets/base",
      "model_module_version": "1.2.0",
      "model_name": "LayoutModel",
      "state": {}
     },
     "a992fe3434d44a43adb8c284121711c5": {
      "model_module": "@jupyter-widgets/controls",
      "model_module_version": "1.5.0",
      "model_name": "DescriptionStyleModel",
      "state": {
       "description_width": ""
      }
     },
     "a9aed2b6735943a9b555be2fc7464f64": {
      "model_module": "@jupyter-widgets/controls",
      "model_module_version": "1.5.0",
      "model_name": "HTMLModel",
      "state": {
       "layout": "IPY_MODEL_b83478b7a213451c849c794b01455991",
       "style": "IPY_MODEL_a27eee814a3140bf92782e7800708241",
       "value": " 157/157 [00:12&lt;00:00, 12.81it/s]"
      }
     },
     "a9afe42aa5a043e0bdd4ac4ddad1d351": {
      "model_module": "@jupyter-widgets/controls",
      "model_module_version": "1.5.0",
      "model_name": "FloatProgressModel",
      "state": {
       "description": "train loss: 3.0632: 100%",
       "layout": "IPY_MODEL_971103ccedce40bbb25e4b78f84ac8ee",
       "max": 1563,
       "style": "IPY_MODEL_1398710cf1da45a492e0514d5c709525",
       "value": 1563
      }
     },
     "a9bb2fa6835449a8a893472e82033d68": {
      "model_module": "@jupyter-widgets/base",
      "model_module_version": "1.2.0",
      "model_name": "LayoutModel",
      "state": {}
     },
     "a9cd04a2e2224692a4c74a74f1996966": {
      "model_module": "@jupyter-widgets/controls",
      "model_module_version": "1.5.0",
      "model_name": "FloatProgressModel",
      "state": {
       "description": "train loss: 4.4919: 100%",
       "layout": "IPY_MODEL_4886185cddca452bb4e45c623526fc9d",
       "max": 1563,
       "style": "IPY_MODEL_b0c1eea303284c9796c995ad537e8aad",
       "value": 1563
      }
     },
     "a9d72810195d41e3b753868d5eb6f209": {
      "model_module": "@jupyter-widgets/controls",
      "model_module_version": "1.5.0",
      "model_name": "FloatProgressModel",
      "state": {
       "description": "train loss: 3.5672: 100%",
       "layout": "IPY_MODEL_f9812733bfc847c996b4ff02b528b17b",
       "max": 1563,
       "style": "IPY_MODEL_0c7eab2b15a9422788216c6143a117f6",
       "value": 1563
      }
     },
     "aa288bb890314f94934eca92b4f74a56": {
      "model_module": "@jupyter-widgets/base",
      "model_module_version": "1.2.0",
      "model_name": "LayoutModel",
      "state": {}
     },
     "aa3082762d3748df878687683fe438f9": {
      "model_module": "@jupyter-widgets/controls",
      "model_module_version": "1.5.0",
      "model_name": "FloatProgressModel",
      "state": {
       "bar_style": "danger",
       "description": "Epochs:   0%",
       "layout": "IPY_MODEL_a283300d37fa49bcade0e4707eb65960",
       "max": 10,
       "style": "IPY_MODEL_52237717e9a54fe29520e674ebb43ab8"
      }
     },
     "aa5ceddafdaf4c648bf44a3055828fc0": {
      "model_module": "@jupyter-widgets/controls",
      "model_module_version": "1.5.0",
      "model_name": "HTMLModel",
      "state": {
       "layout": "IPY_MODEL_8d72e0d21d504b408405c39b34af77b7",
       "style": "IPY_MODEL_5a9e9353b3b74d2dbc7f89dd3f751c36",
       "value": " 157/157 [00:16&lt;00:00,  9.52it/s]"
      }
     },
     "aa63072a80864725a45dc2a147250f82": {
      "model_module": "@jupyter-widgets/controls",
      "model_module_version": "1.5.0",
      "model_name": "ProgressStyleModel",
      "state": {
       "description_width": "initial"
      }
     },
     "aa717bdc8451487db0062daea43907cb": {
      "model_module": "@jupyter-widgets/base",
      "model_module_version": "1.2.0",
      "model_name": "LayoutModel",
      "state": {}
     },
     "aa9e240e5bec4ec8bc8b5aa7efab7539": {
      "model_module": "@jupyter-widgets/base",
      "model_module_version": "1.2.0",
      "model_name": "LayoutModel",
      "state": {}
     },
     "aab3a0a289a949328717319ffc59b21b": {
      "model_module": "@jupyter-widgets/controls",
      "model_module_version": "1.5.0",
      "model_name": "DescriptionStyleModel",
      "state": {
       "description_width": ""
      }
     },
     "aaf98abd389b4228abd86da300db92f1": {
      "model_module": "@jupyter-widgets/base",
      "model_module_version": "1.2.0",
      "model_name": "LayoutModel",
      "state": {}
     },
     "ab23bd4aab41455abf4af995070c78b1": {
      "model_module": "@jupyter-widgets/base",
      "model_module_version": "1.2.0",
      "model_name": "LayoutModel",
      "state": {}
     },
     "ab2f0371a121493593aeaac9391e64c1": {
      "model_module": "@jupyter-widgets/controls",
      "model_module_version": "1.5.0",
      "model_name": "HTMLModel",
      "state": {
       "layout": "IPY_MODEL_5205b09f307f4982b08a0da900bd52c6",
       "style": "IPY_MODEL_508e9c8673d1449e999db5dfb3bd17b9",
       "value": " 157/157 [00:09&lt;00:00, 16.51it/s]"
      }
     },
     "ab3591a6547f4ac2af543e17a16bfb15": {
      "model_module": "@jupyter-widgets/base",
      "model_module_version": "1.2.0",
      "model_name": "LayoutModel",
      "state": {}
     },
     "ab4d4a9f73d144a3a8ff742386eacedb": {
      "model_module": "@jupyter-widgets/controls",
      "model_module_version": "1.5.0",
      "model_name": "FloatProgressModel",
      "state": {
       "description": "val loss: 4.9101: 100%",
       "layout": "IPY_MODEL_f8102078a852419cbc507fedefc3ece5",
       "max": 157,
       "style": "IPY_MODEL_87fe69e51fd34034933a667f623c8457",
       "value": 157
      }
     },
     "ab5361275b694f12be913967c4ade987": {
      "model_module": "@jupyter-widgets/base",
      "model_module_version": "1.2.0",
      "model_name": "LayoutModel",
      "state": {}
     },
     "ab6d6468e91142a1af2bdaf37b49c223": {
      "model_module": "@jupyter-widgets/controls",
      "model_module_version": "1.5.0",
      "model_name": "HBoxModel",
      "state": {
       "children": [
        "IPY_MODEL_d40af8fd540241a9872fc2068f846cd3",
        "IPY_MODEL_cd62004f74254a89af6729446769c47e"
       ],
       "layout": "IPY_MODEL_9907bba40e1c4c928dcab70cadff18d3"
      }
     },
     "ab6f594a930349f6857bdb4c45d96abd": {
      "model_module": "@jupyter-widgets/controls",
      "model_module_version": "1.5.0",
      "model_name": "HBoxModel",
      "state": {
       "children": [
        "IPY_MODEL_38161ecc633749e8851aaee96671fbcc",
        "IPY_MODEL_fd5154d8eeb14feaaa7d6ed9782b5e5d"
       ],
       "layout": "IPY_MODEL_11536fe6e5ad4df68a7a3df9db88d511"
      }
     },
     "ab797ae100e84dd6be1bc3e2af56282a": {
      "model_module": "@jupyter-widgets/controls",
      "model_module_version": "1.5.0",
      "model_name": "ProgressStyleModel",
      "state": {
       "description_width": "initial"
      }
     },
     "ab7a5317bd7f41c48ceb3b77a05c9174": {
      "model_module": "@jupyter-widgets/controls",
      "model_module_version": "1.5.0",
      "model_name": "FloatProgressModel",
      "state": {
       "description": "train loss: 3.0498: 100%",
       "layout": "IPY_MODEL_339b2d82e36f4620a66b577b9505320d",
       "max": 1563,
       "style": "IPY_MODEL_cc108e4f5fe44d1c8bef014a5ba82096",
       "value": 1563
      }
     },
     "aba0fbea4bd64c8f99269112e0877d37": {
      "model_module": "@jupyter-widgets/controls",
      "model_module_version": "1.5.0",
      "model_name": "FloatProgressModel",
      "state": {
       "description": "train loss: 3.8766: 100%",
       "layout": "IPY_MODEL_dc73b01100a144d6b4eec9672e948aec",
       "max": 1563,
       "style": "IPY_MODEL_853de5cb84504c6785aa1caebff15d48",
       "value": 1563
      }
     },
     "abb54057f3be4c4c80f60efab551921f": {
      "model_module": "@jupyter-widgets/controls",
      "model_module_version": "1.5.0",
      "model_name": "ProgressStyleModel",
      "state": {
       "description_width": "initial"
      }
     },
     "abbb0d833bdd40ccb262829b8171a8cf": {
      "model_module": "@jupyter-widgets/base",
      "model_module_version": "1.2.0",
      "model_name": "LayoutModel",
      "state": {}
     },
     "abead29fc5c14ca29ea2ec477190825c": {
      "model_module": "@jupyter-widgets/base",
      "model_module_version": "1.2.0",
      "model_name": "LayoutModel",
      "state": {}
     },
     "abfa2d5da70140da9c8d704259fb299d": {
      "model_module": "@jupyter-widgets/controls",
      "model_module_version": "1.5.0",
      "model_name": "DescriptionStyleModel",
      "state": {
       "description_width": ""
      }
     },
     "ac01ad72a6fe4cfda6724272a2356402": {
      "model_module": "@jupyter-widgets/base",
      "model_module_version": "1.2.0",
      "model_name": "LayoutModel",
      "state": {}
     },
     "ac08d481fd074fb88e2ab682dbf6f900": {
      "model_module": "@jupyter-widgets/controls",
      "model_module_version": "1.5.0",
      "model_name": "HTMLModel",
      "state": {
       "layout": "IPY_MODEL_52de7e987700467ca6fe5d7f4ce301f4",
       "style": "IPY_MODEL_4562fdc382724315a0424ee8d90e7999",
       "value": " 605/1563 [01:09&lt;01:35, 10.04it/s]"
      }
     },
     "ac20367b66694c05a09b061e4ee8d5dc": {
      "model_module": "@jupyter-widgets/controls",
      "model_module_version": "1.5.0",
      "model_name": "HTMLModel",
      "state": {
       "layout": "IPY_MODEL_0796cfd3f86844a2adfe3ca79af96e84",
       "style": "IPY_MODEL_60cd182571254a59bd7ee7d3763a029f",
       "value": " 157/157 [00:10&lt;00:00, 15.67it/s]"
      }
     },
     "ac279517db5b4ddfaab127a22820ed29": {
      "model_module": "@jupyter-widgets/controls",
      "model_module_version": "1.5.0",
      "model_name": "HTMLModel",
      "state": {
       "layout": "IPY_MODEL_0bcbeaa53d5a4f3db2f8e686fd5f74ea",
       "style": "IPY_MODEL_a73ed76143f247f0a6ba65435ca5d158",
       "value": " 1563/1563 [02:32&lt;00:00, 10.24it/s]"
      }
     },
     "ac3a3b89ca6d41649710588b8f3f70e7": {
      "model_module": "@jupyter-widgets/base",
      "model_module_version": "1.2.0",
      "model_name": "LayoutModel",
      "state": {}
     },
     "ac4f6949b0024c599363f50b86c45b3a": {
      "model_module": "@jupyter-widgets/base",
      "model_module_version": "1.2.0",
      "model_name": "LayoutModel",
      "state": {}
     },
     "ac8a882d74fe42a59bc52cb03d2b5cb4": {
      "model_module": "@jupyter-widgets/base",
      "model_module_version": "1.2.0",
      "model_name": "LayoutModel",
      "state": {}
     },
     "ac8b49d996c94391a584b52ee06e3243": {
      "model_module": "@jupyter-widgets/controls",
      "model_module_version": "1.5.0",
      "model_name": "FloatProgressModel",
      "state": {
       "description": "val loss: 4.9329: 100%",
       "layout": "IPY_MODEL_fe941724a83e4ffa826fdf8cf56c706e",
       "max": 157,
       "style": "IPY_MODEL_d77ff5ee406c4e71ae6eb922bc214b2e",
       "value": 157
      }
     },
     "aca8f052103846abbb885e44cda7f9c2": {
      "model_module": "@jupyter-widgets/base",
      "model_module_version": "1.2.0",
      "model_name": "LayoutModel",
      "state": {}
     },
     "acc74ae5f75641f08da1db246cef086d": {
      "model_module": "@jupyter-widgets/controls",
      "model_module_version": "1.5.0",
      "model_name": "ProgressStyleModel",
      "state": {
       "description_width": "initial"
      }
     },
     "accf865b4c3b4079b0418bd12fc0f8ee": {
      "model_module": "@jupyter-widgets/controls",
      "model_module_version": "1.5.0",
      "model_name": "FloatProgressModel",
      "state": {
       "description": "val loss: 3.7001: 100%",
       "layout": "IPY_MODEL_4534162ad85040d09c2fe843ac9ef199",
       "max": 157,
       "style": "IPY_MODEL_6d0c4db9c7e24b7cb9d9050a59c3da9e",
       "value": 157
      }
     },
     "ace9c1003742415592b8fc76ed39ad2d": {
      "model_module": "@jupyter-widgets/controls",
      "model_module_version": "1.5.0",
      "model_name": "ProgressStyleModel",
      "state": {
       "description_width": "initial"
      }
     },
     "aceb62784d3943408c7f17086f1aa5df": {
      "model_module": "@jupyter-widgets/base",
      "model_module_version": "1.2.0",
      "model_name": "LayoutModel",
      "state": {}
     },
     "acfd4cc39c2c46ef800873ed784edc0a": {
      "model_module": "@jupyter-widgets/controls",
      "model_module_version": "1.5.0",
      "model_name": "HTMLModel",
      "state": {
       "layout": "IPY_MODEL_328b53a57f784f6896cf9d351bd787d7",
       "style": "IPY_MODEL_066a4a174964486482cf5df4e22af38a",
       "value": " 157/157 [00:12&lt;00:00, 12.59it/s]"
      }
     },
     "ad22c16f333d4fd8b927b768a7fe8468": {
      "model_module": "@jupyter-widgets/controls",
      "model_module_version": "1.5.0",
      "model_name": "DescriptionStyleModel",
      "state": {
       "description_width": ""
      }
     },
     "ad4fb16bd54a44d187cb56cf1ffbdae5": {
      "model_module": "@jupyter-widgets/controls",
      "model_module_version": "1.5.0",
      "model_name": "FloatProgressModel",
      "state": {
       "bar_style": "danger",
       "description": "Train Loss: 3.5827 - Val Loss: 4.1733:  30%",
       "layout": "IPY_MODEL_3c554bb6d08d40488902c327d24ebe3e",
       "max": 10,
       "style": "IPY_MODEL_4b576e1b11db4d8ea2407ee6536c8392",
       "value": 3
      }
     },
     "ad67377c977940f7adc2b331737024c8": {
      "model_module": "@jupyter-widgets/controls",
      "model_module_version": "1.5.0",
      "model_name": "DescriptionStyleModel",
      "state": {
       "description_width": ""
      }
     },
     "adb987651f954baba83083e03619a15b": {
      "model_module": "@jupyter-widgets/base",
      "model_module_version": "1.2.0",
      "model_name": "LayoutModel",
      "state": {}
     },
     "adc048229e3e453984aff8c2d8ef35a4": {
      "model_module": "@jupyter-widgets/controls",
      "model_module_version": "1.5.0",
      "model_name": "DescriptionStyleModel",
      "state": {
       "description_width": ""
      }
     },
     "adc3e53d9a4c4a66b4ece91343df76f7": {
      "model_module": "@jupyter-widgets/base",
      "model_module_version": "1.2.0",
      "model_name": "LayoutModel",
      "state": {}
     },
     "adcfa295724d42949e142bd9e12fa37c": {
      "model_module": "@jupyter-widgets/base",
      "model_module_version": "1.2.0",
      "model_name": "LayoutModel",
      "state": {}
     },
     "addde26cb5f14296a1a514479843985e": {
      "model_module": "@jupyter-widgets/base",
      "model_module_version": "1.2.0",
      "model_name": "LayoutModel",
      "state": {}
     },
     "ade85120e5514b26951f8887fe54a88b": {
      "model_module": "@jupyter-widgets/controls",
      "model_module_version": "1.5.0",
      "model_name": "FloatProgressModel",
      "state": {
       "bar_style": "danger",
       "description": "train loss: 5.2971:  24%",
       "layout": "IPY_MODEL_5ea09868ef6c4ea9ac5ec206b9fb91e0",
       "max": 1563,
       "style": "IPY_MODEL_4f1a7dd89cf34b9687525245be965848",
       "value": 374
      }
     },
     "adf010dfaf8942ca85841861381b672a": {
      "model_module": "@jupyter-widgets/base",
      "model_module_version": "1.2.0",
      "model_name": "LayoutModel",
      "state": {}
     },
     "adf2801cb39a41b9b3fe665aaab96287": {
      "model_module": "@jupyter-widgets/controls",
      "model_module_version": "1.5.0",
      "model_name": "HTMLModel",
      "state": {
       "layout": "IPY_MODEL_326f477a8a2943ff8fe7ceb3d7a1e4bf",
       "style": "IPY_MODEL_8d3dde877b3b4dbcb6c0168e6d3eb028",
       "value": " 1563/1563 [02:35&lt;00:00, 10.30it/s]"
      }
     },
     "adf6a2f6d1374a3db27b492f297bffa4": {
      "model_module": "@jupyter-widgets/base",
      "model_module_version": "1.2.0",
      "model_name": "LayoutModel",
      "state": {}
     },
     "ae0d263e9cdb4dcfb51f4f2721e48852": {
      "model_module": "@jupyter-widgets/controls",
      "model_module_version": "1.5.0",
      "model_name": "HTMLModel",
      "state": {
       "layout": "IPY_MODEL_4babc31582d04b35b2bc9acb7c6115d6",
       "style": "IPY_MODEL_c5d24da94b674672bea31bcb9d42a9e6",
       "value": " 157/157 [00:10&lt;00:00, 15.43it/s]"
      }
     },
     "ae22389d83c34c36807db6ea6be2b8de": {
      "model_module": "@jupyter-widgets/controls",
      "model_module_version": "1.5.0",
      "model_name": "FloatProgressModel",
      "state": {
       "description": "val loss: 4.0501: 100%",
       "layout": "IPY_MODEL_4c61c5a461274e2d97d0a63c7e5fe1de",
       "max": 157,
       "style": "IPY_MODEL_fb71ecfd5e9d495eae0ca19a14422753",
       "value": 157
      }
     },
     "ae303c58ad4149e7b009c28845b2a298": {
      "model_module": "@jupyter-widgets/controls",
      "model_module_version": "1.5.0",
      "model_name": "FloatProgressModel",
      "state": {
       "description": "val loss: 4.0639: 100%",
       "layout": "IPY_MODEL_13f879cab4174a068ca667b51900f8e2",
       "max": 157,
       "style": "IPY_MODEL_c999f8e824b345a2af265dd247bdf93c",
       "value": 157
      }
     },
     "ae554888d62f4f5e82b2cf1aa8dadaf2": {
      "model_module": "@jupyter-widgets/base",
      "model_module_version": "1.2.0",
      "model_name": "LayoutModel",
      "state": {}
     },
     "ae5823cff5744c7cbf89da9baceea7d3": {
      "model_module": "@jupyter-widgets/controls",
      "model_module_version": "1.5.0",
      "model_name": "ProgressStyleModel",
      "state": {
       "description_width": "initial"
      }
     },
     "ae744ee15593406b8cdf95aed011e3ae": {
      "model_module": "@jupyter-widgets/controls",
      "model_module_version": "1.5.0",
      "model_name": "DescriptionStyleModel",
      "state": {
       "description_width": ""
      }
     },
     "ae7c733b6b16459ea75ae21fe0acd3cf": {
      "model_module": "@jupyter-widgets/controls",
      "model_module_version": "1.5.0",
      "model_name": "DescriptionStyleModel",
      "state": {
       "description_width": ""
      }
     },
     "ae824cebe4754cba826fcae1341f990e": {
      "model_module": "@jupyter-widgets/base",
      "model_module_version": "1.2.0",
      "model_name": "LayoutModel",
      "state": {}
     },
     "ae8c81ad186849eaaf258d2a9d5daacd": {
      "model_module": "@jupyter-widgets/controls",
      "model_module_version": "1.5.0",
      "model_name": "DescriptionStyleModel",
      "state": {
       "description_width": ""
      }
     },
     "aea491edaa6d4fb0aedc887e677de823": {
      "model_module": "@jupyter-widgets/controls",
      "model_module_version": "1.5.0",
      "model_name": "ProgressStyleModel",
      "state": {
       "description_width": "initial"
      }
     },
     "aebbba5d933c498e8e277203f1c5e679": {
      "model_module": "@jupyter-widgets/base",
      "model_module_version": "1.2.0",
      "model_name": "LayoutModel",
      "state": {}
     },
     "aec5572a577b4be8b7428c9655f6d5f6": {
      "model_module": "@jupyter-widgets/controls",
      "model_module_version": "1.5.0",
      "model_name": "HBoxModel",
      "state": {
       "children": [
        "IPY_MODEL_bbb32c23e9da4a6fb582e77969c5f585",
        "IPY_MODEL_cdfb5a3985fc470dab70499ee716f736"
       ],
       "layout": "IPY_MODEL_76b2fa08ca4f48b687c362cf89778dd0"
      }
     },
     "aedbc08b45aa4f8d84912cf767a20d4e": {
      "model_module": "@jupyter-widgets/base",
      "model_module_version": "1.2.0",
      "model_name": "LayoutModel",
      "state": {}
     },
     "af208c9886ed40ec9993024791e603df": {
      "model_module": "@jupyter-widgets/controls",
      "model_module_version": "1.5.0",
      "model_name": "HTMLModel",
      "state": {
       "layout": "IPY_MODEL_70833d52bb0c4e328de1703eab04f3b9",
       "style": "IPY_MODEL_e16231275ff2491c9a2b01067bef5926",
       "value": " 1563/1563 [02:36&lt;00:00, 10.31it/s]"
      }
     },
     "af2e131e0da14b9a8fe6a99c311be73f": {
      "model_module": "@jupyter-widgets/controls",
      "model_module_version": "1.5.0",
      "model_name": "DescriptionStyleModel",
      "state": {
       "description_width": ""
      }
     },
     "af419a52a2e64d2c88dea4641785ffa1": {
      "model_module": "@jupyter-widgets/base",
      "model_module_version": "1.2.0",
      "model_name": "LayoutModel",
      "state": {}
     },
     "af6ca4a645ec41fdbf3b7605b4985aef": {
      "model_module": "@jupyter-widgets/controls",
      "model_module_version": "1.5.0",
      "model_name": "HTMLModel",
      "state": {
       "layout": "IPY_MODEL_f4df760d334e4b8f828a2eab86d1cc33",
       "style": "IPY_MODEL_90d9a371006c40b2ba7b91fe60f4a200",
       "value": " 1563/1563 [04:55&lt;00:00,  5.37it/s]"
      }
     },
     "af9182c656b94fd6a3096e5061ccf5ba": {
      "model_module": "@jupyter-widgets/controls",
      "model_module_version": "1.5.0",
      "model_name": "DescriptionStyleModel",
      "state": {
       "description_width": ""
      }
     },
     "afa04e06047d4899b0e0cdc34da9bb72": {
      "model_module": "@jupyter-widgets/base",
      "model_module_version": "1.2.0",
      "model_name": "LayoutModel",
      "state": {}
     },
     "afddb2f8d4d04204a3108a806cbbe00d": {
      "model_module": "@jupyter-widgets/controls",
      "model_module_version": "1.5.0",
      "model_name": "DescriptionStyleModel",
      "state": {
       "description_width": ""
      }
     },
     "afe6c90d4ae9437fa89078ed8e72171b": {
      "model_module": "@jupyter-widgets/controls",
      "model_module_version": "1.5.0",
      "model_name": "FloatProgressModel",
      "state": {
       "description": "train loss: 4.2425: 100%",
       "layout": "IPY_MODEL_23ef1130c9fd4069968cfc56da6b0e9a",
       "max": 1563,
       "style": "IPY_MODEL_25c173289c284229bbe41a3e5e5cc44f",
       "value": 1563
      }
     },
     "afedb9c2217646f0955ec25707ea4949": {
      "model_module": "@jupyter-widgets/controls",
      "model_module_version": "1.5.0",
      "model_name": "HTMLModel",
      "state": {
       "layout": "IPY_MODEL_4b4014f1bc17494f9786f472d551eff2",
       "style": "IPY_MODEL_392e3da4531845d9975489a0bc29f6ba",
       "value": " 157/157 [00:10&lt;00:00, 15.74it/s]"
      }
     },
     "b036e7d712ff4c918ba4b6e3e5a3a6ff": {
      "model_module": "@jupyter-widgets/base",
      "model_module_version": "1.2.0",
      "model_name": "LayoutModel",
      "state": {}
     },
     "b03f16ec78a84cda99fcd205c66c17e4": {
      "model_module": "@jupyter-widgets/base",
      "model_module_version": "1.2.0",
      "model_name": "LayoutModel",
      "state": {}
     },
     "b041e2be44db441ca9e9b06daff8ffc3": {
      "model_module": "@jupyter-widgets/controls",
      "model_module_version": "1.5.0",
      "model_name": "ProgressStyleModel",
      "state": {
       "description_width": "initial"
      }
     },
     "b060e9a2a6e94f79a0dd69132149b1be": {
      "model_module": "@jupyter-widgets/base",
      "model_module_version": "1.2.0",
      "model_name": "LayoutModel",
      "state": {}
     },
     "b09eb1891af5430f9b914755ea754bc4": {
      "model_module": "@jupyter-widgets/base",
      "model_module_version": "1.2.0",
      "model_name": "LayoutModel",
      "state": {}
     },
     "b0c1eea303284c9796c995ad537e8aad": {
      "model_module": "@jupyter-widgets/controls",
      "model_module_version": "1.5.0",
      "model_name": "ProgressStyleModel",
      "state": {
       "description_width": "initial"
      }
     },
     "b0e324891afe417db1f28bca235ba89d": {
      "model_module": "@jupyter-widgets/controls",
      "model_module_version": "1.5.0",
      "model_name": "HTMLModel",
      "state": {
       "layout": "IPY_MODEL_e6c16097ae874f0584d22b7f6eacb1a4",
       "style": "IPY_MODEL_1f3f7c62341942cf86388dffae3496c0",
       "value": " 1563/1563 [05:33&lt;00:00,  5.49it/s]"
      }
     },
     "b0ea924a75ec4851b829ba7da60df2e7": {
      "model_module": "@jupyter-widgets/controls",
      "model_module_version": "1.5.0",
      "model_name": "DescriptionStyleModel",
      "state": {
       "description_width": ""
      }
     },
     "b0f3ee3d552f447dba8688c23d63900f": {
      "model_module": "@jupyter-widgets/base",
      "model_module_version": "1.2.0",
      "model_name": "LayoutModel",
      "state": {}
     },
     "b106ddbd8b164249afc97c8209a9bcfc": {
      "model_module": "@jupyter-widgets/controls",
      "model_module_version": "1.5.0",
      "model_name": "FloatProgressModel",
      "state": {
       "bar_style": "danger",
       "description": "Iterations:   0%",
       "layout": "IPY_MODEL_d2e316b7a1ed49189cf876013c0566ad",
       "max": 1563,
       "style": "IPY_MODEL_708520d0c77e4686a169e8cef0cd31df"
      }
     },
     "b11255887c644b1d84f69da4315d85bb": {
      "model_module": "@jupyter-widgets/controls",
      "model_module_version": "1.5.0",
      "model_name": "FloatProgressModel",
      "state": {
       "description": "val loss: 3.9466: 100%",
       "layout": "IPY_MODEL_a9bb2fa6835449a8a893472e82033d68",
       "max": 157,
       "style": "IPY_MODEL_3bdb3ab9b78f431183a5a9bf16992349",
       "value": 157
      }
     },
     "b120a2d1c70c44ac8ff0431682ce1537": {
      "model_module": "@jupyter-widgets/controls",
      "model_module_version": "1.5.0",
      "model_name": "FloatProgressModel",
      "state": {
       "description": "train loss: 4.5562: 100%",
       "layout": "IPY_MODEL_8371e0fa3d124e06ad813864629018b8",
       "max": 1563,
       "style": "IPY_MODEL_dd94992bb86c4a8ba9a36420643fa3b5",
       "value": 1563
      }
     },
     "b120d0b5e04843e8b333c71a4b5e8054": {
      "model_module": "@jupyter-widgets/controls",
      "model_module_version": "1.5.0",
      "model_name": "DescriptionStyleModel",
      "state": {
       "description_width": ""
      }
     },
     "b13d58bf881040cd80fc6199d3755165": {
      "model_module": "@jupyter-widgets/controls",
      "model_module_version": "1.5.0",
      "model_name": "FloatProgressModel",
      "state": {
       "description": "val loss: 3.9908: 100%",
       "layout": "IPY_MODEL_de0763b3bd5f41fb9c9d882aad2e3b31",
       "max": 157,
       "style": "IPY_MODEL_cac50cc749f7424c9c44dce3ab4b5b64",
       "value": 157
      }
     },
     "b143bd8122e64359ae72e9ffb29c6b63": {
      "model_module": "@jupyter-widgets/base",
      "model_module_version": "1.2.0",
      "model_name": "LayoutModel",
      "state": {}
     },
     "b14da3f00a8d448ea23a5e5b21e07bfe": {
      "model_module": "@jupyter-widgets/controls",
      "model_module_version": "1.5.0",
      "model_name": "FloatProgressModel",
      "state": {
       "description": "train loss: 4.0878: 100%",
       "layout": "IPY_MODEL_cd68909d850c401a8b306f8020d07af4",
       "max": 1563,
       "style": "IPY_MODEL_e206000c0401474aa6861740f52feb6d",
       "value": 1563
      }
     },
     "b15c0c6423a5401b9155701cd262e888": {
      "model_module": "@jupyter-widgets/controls",
      "model_module_version": "1.5.0",
      "model_name": "ProgressStyleModel",
      "state": {
       "description_width": "initial"
      }
     },
     "b176b6039f734da18a37b8afd6f5a0f9": {
      "model_module": "@jupyter-widgets/base",
      "model_module_version": "1.2.0",
      "model_name": "LayoutModel",
      "state": {}
     },
     "b181f92854df48adb9d5355237edba8f": {
      "model_module": "@jupyter-widgets/controls",
      "model_module_version": "1.5.0",
      "model_name": "FloatProgressModel",
      "state": {
       "description": "train loss: 2.8702: 100%",
       "layout": "IPY_MODEL_b36bb92989644c76b9e767b26b6ab251",
       "max": 1563,
       "style": "IPY_MODEL_86aff485a3384d3d8307dc258ef8dcc5",
       "value": 1563
      }
     },
     "b1abb56ee1d246c993e44efc17387e82": {
      "model_module": "@jupyter-widgets/controls",
      "model_module_version": "1.5.0",
      "model_name": "HTMLModel",
      "state": {
       "layout": "IPY_MODEL_c07b41ddfa6a41ceaff9657ae5597711",
       "style": "IPY_MODEL_3c91a35a089b46bfabd80720671f83a4",
       "value": " 157/157 [00:09&lt;00:00, 15.65it/s]"
      }
     },
     "b1b1f215b8464bf78d9efe6edda55161": {
      "model_module": "@jupyter-widgets/base",
      "model_module_version": "1.2.0",
      "model_name": "LayoutModel",
      "state": {}
     },
     "b1c8ff2f32674ce6a5e0c92218486966": {
      "model_module": "@jupyter-widgets/base",
      "model_module_version": "1.2.0",
      "model_name": "LayoutModel",
      "state": {}
     },
     "b1ca4e2b1ffb42a0992eadc190a9d88f": {
      "model_module": "@jupyter-widgets/controls",
      "model_module_version": "1.5.0",
      "model_name": "DescriptionStyleModel",
      "state": {
       "description_width": ""
      }
     },
     "b1d0b588a59e44a6a13d24b9f30a156d": {
      "model_module": "@jupyter-widgets/controls",
      "model_module_version": "1.5.0",
      "model_name": "FloatProgressModel",
      "state": {
       "description": "val loss: 4.4670: 100%",
       "layout": "IPY_MODEL_43906f98e80d4e5bb66151302dc03443",
       "max": 157,
       "style": "IPY_MODEL_b244d9662cff43ca8032ee7a429cf6cf",
       "value": 157
      }
     },
     "b1d2917a7ca242ebb1b59a11fdc08e85": {
      "model_module": "@jupyter-widgets/controls",
      "model_module_version": "1.5.0",
      "model_name": "HTMLModel",
      "state": {
       "layout": "IPY_MODEL_ab3591a6547f4ac2af543e17a16bfb15",
       "style": "IPY_MODEL_4969724fbe224e8b99c11ffec0fbb4af",
       "value": " 157/157 [00:09&lt;00:00, 16.15it/s]"
      }
     },
     "b1da805f6b674b379021e5c8ee3cddf6": {
      "model_module": "@jupyter-widgets/base",
      "model_module_version": "1.2.0",
      "model_name": "LayoutModel",
      "state": {}
     },
     "b1fa7019393041b48ff2635557c24439": {
      "model_module": "@jupyter-widgets/base",
      "model_module_version": "1.2.0",
      "model_name": "LayoutModel",
      "state": {}
     },
     "b20273d130b248d4a1f4ce9027cda62a": {
      "model_module": "@jupyter-widgets/base",
      "model_module_version": "1.2.0",
      "model_name": "LayoutModel",
      "state": {}
     },
     "b217d3b21f9a4e2d8ba3d140fca40bcc": {
      "model_module": "@jupyter-widgets/base",
      "model_module_version": "1.2.0",
      "model_name": "LayoutModel",
      "state": {}
     },
     "b2201f4f82454f8088114c572bbcf953": {
      "model_module": "@jupyter-widgets/base",
      "model_module_version": "1.2.0",
      "model_name": "LayoutModel",
      "state": {}
     },
     "b22cfd26a05c47c3809ce934a8094cc8": {
      "model_module": "@jupyter-widgets/base",
      "model_module_version": "1.2.0",
      "model_name": "LayoutModel",
      "state": {}
     },
     "b22eae084bbc490cbd4944f4bf7a11ca": {
      "model_module": "@jupyter-widgets/base",
      "model_module_version": "1.2.0",
      "model_name": "LayoutModel",
      "state": {}
     },
     "b244d9662cff43ca8032ee7a429cf6cf": {
      "model_module": "@jupyter-widgets/controls",
      "model_module_version": "1.5.0",
      "model_name": "ProgressStyleModel",
      "state": {
       "description_width": "initial"
      }
     },
     "b26d5a2c193f45519454f3b873fcf8a8": {
      "model_module": "@jupyter-widgets/base",
      "model_module_version": "1.2.0",
      "model_name": "LayoutModel",
      "state": {}
     },
     "b27321db39b642cf8ed0a3ae2a77e99b": {
      "model_module": "@jupyter-widgets/base",
      "model_module_version": "1.2.0",
      "model_name": "LayoutModel",
      "state": {}
     },
     "b27707cb9b914c1fb7b09a61545146b9": {
      "model_module": "@jupyter-widgets/base",
      "model_module_version": "1.2.0",
      "model_name": "LayoutModel",
      "state": {}
     },
     "b27cb01e2e5e49869aa085db5c96c51b": {
      "model_module": "@jupyter-widgets/controls",
      "model_module_version": "1.5.0",
      "model_name": "DescriptionStyleModel",
      "state": {
       "description_width": ""
      }
     },
     "b2850abcc8f64933bd04d434b59e3595": {
      "model_module": "@jupyter-widgets/controls",
      "model_module_version": "1.5.0",
      "model_name": "HTMLModel",
      "state": {
       "layout": "IPY_MODEL_9344ae1213024e48a5f24b0c53aecf16",
       "style": "IPY_MODEL_dbbedf47d1d04b85810d97b7de3668bf",
       "value": " 1563/1563 [02:32&lt;00:00, 10.56it/s]"
      }
     },
     "b29c528fc99443959f7dae85dcff3fdb": {
      "model_module": "@jupyter-widgets/base",
      "model_module_version": "1.2.0",
      "model_name": "LayoutModel",
      "state": {}
     },
     "b2b22f2453954805b3fd6ac503ae31eb": {
      "model_module": "@jupyter-widgets/controls",
      "model_module_version": "1.5.0",
      "model_name": "FloatProgressModel",
      "state": {
       "description": "val loss: 3.9857: 100%",
       "layout": "IPY_MODEL_77e1e6c2d01240b5b2483cde733eb253",
       "max": 157,
       "style": "IPY_MODEL_8c9b4363532b44d0bdd6eabc1768026b",
       "value": 157
      }
     },
     "b2bbc4dbb640413daaf2248f5c6abfbc": {
      "model_module": "@jupyter-widgets/controls",
      "model_module_version": "1.5.0",
      "model_name": "ProgressStyleModel",
      "state": {
       "description_width": "initial"
      }
     },
     "b2e8809786054bbd84f7be5d33eb0d18": {
      "model_module": "@jupyter-widgets/controls",
      "model_module_version": "1.5.0",
      "model_name": "ProgressStyleModel",
      "state": {
       "description_width": "initial"
      }
     },
     "b3200afc016345c782608ac93c832229": {
      "model_module": "@jupyter-widgets/base",
      "model_module_version": "1.2.0",
      "model_name": "LayoutModel",
      "state": {}
     },
     "b324dd2291df44c383eed3046f1062a5": {
      "model_module": "@jupyter-widgets/controls",
      "model_module_version": "1.5.0",
      "model_name": "ProgressStyleModel",
      "state": {
       "description_width": "initial"
      }
     },
     "b3407fab09104972a12a211b7608630e": {
      "model_module": "@jupyter-widgets/base",
      "model_module_version": "1.2.0",
      "model_name": "LayoutModel",
      "state": {}
     },
     "b3663f23db42473fbeb04c5677e3da35": {
      "model_module": "@jupyter-widgets/base",
      "model_module_version": "1.2.0",
      "model_name": "LayoutModel",
      "state": {}
     },
     "b36bb92989644c76b9e767b26b6ab251": {
      "model_module": "@jupyter-widgets/base",
      "model_module_version": "1.2.0",
      "model_name": "LayoutModel",
      "state": {}
     },
     "b36efdc8ea6e4d798a770166b4661016": {
      "model_module": "@jupyter-widgets/controls",
      "model_module_version": "1.5.0",
      "model_name": "FloatProgressModel",
      "state": {
       "description": "val loss: 4.4916: 100%",
       "layout": "IPY_MODEL_38fc1eddbfa940f5aa3fcc76a18de0b9",
       "max": 157,
       "style": "IPY_MODEL_02d7ab79160a4216aa44330974005ae7",
       "value": 157
      }
     },
     "b3734e72ab3943ecbd52bee4382d2930": {
      "model_module": "@jupyter-widgets/base",
      "model_module_version": "1.2.0",
      "model_name": "LayoutModel",
      "state": {}
     },
     "b37442d1d92a47d2a2c2791ae0053404": {
      "model_module": "@jupyter-widgets/base",
      "model_module_version": "1.2.0",
      "model_name": "LayoutModel",
      "state": {}
     },
     "b3768fb2566d482f93443e06271fa1b1": {
      "model_module": "@jupyter-widgets/controls",
      "model_module_version": "1.5.0",
      "model_name": "FloatProgressModel",
      "state": {
       "description": "val loss: 4.0076: 100%",
       "layout": "IPY_MODEL_768b1d9c5121405885bc830bcbe20b69",
       "max": 157,
       "style": "IPY_MODEL_0384d325d70741968eccd797a383a5c7",
       "value": 157
      }
     },
     "b3d84fc525274d748cb67b1c0c383fd8": {
      "model_module": "@jupyter-widgets/controls",
      "model_module_version": "1.5.0",
      "model_name": "HTMLModel",
      "state": {
       "layout": "IPY_MODEL_b176b6039f734da18a37b8afd6f5a0f9",
       "style": "IPY_MODEL_bbdd0572100a41c2b528e5cc5c1b8676",
       "value": " 157/157 [00:09&lt;00:00, 16.11it/s]"
      }
     },
     "b3f4b9fcaf8f44e080d55f82e22bcb1f": {
      "model_module": "@jupyter-widgets/base",
      "model_module_version": "1.2.0",
      "model_name": "LayoutModel",
      "state": {}
     },
     "b406482e1510469caa9d4bf4a819975b": {
      "model_module": "@jupyter-widgets/base",
      "model_module_version": "1.2.0",
      "model_name": "LayoutModel",
      "state": {}
     },
     "b435f0392b5e4742b5f26a93919d76e5": {
      "model_module": "@jupyter-widgets/controls",
      "model_module_version": "1.5.0",
      "model_name": "FloatProgressModel",
      "state": {
       "description": "val loss: 3.7304: 100%",
       "layout": "IPY_MODEL_fe9d21a33ff54d91a2f74d07d4d6b866",
       "max": 157,
       "style": "IPY_MODEL_0c5619b934d548ef90e253b8e64419e0",
       "value": 157
      }
     },
     "b452da416ffd4070b12943954757eb06": {
      "model_module": "@jupyter-widgets/controls",
      "model_module_version": "1.5.0",
      "model_name": "DescriptionStyleModel",
      "state": {
       "description_width": ""
      }
     },
     "b49eb0811f9e40c687cb457362a00137": {
      "model_module": "@jupyter-widgets/base",
      "model_module_version": "1.2.0",
      "model_name": "LayoutModel",
      "state": {}
     },
     "b4be8db7554b46d7891a18052e64b46c": {
      "model_module": "@jupyter-widgets/controls",
      "model_module_version": "1.5.0",
      "model_name": "FloatProgressModel",
      "state": {
       "description": "val loss: 4.4762: 100%",
       "layout": "IPY_MODEL_726c4872534d4e2585d8db4b3b888fce",
       "max": 157,
       "style": "IPY_MODEL_a58591584cde42ff8058ab2523184223",
       "value": 157
      }
     },
     "b4d0c64adb5c43a7bb2d1388922958be": {
      "model_module": "@jupyter-widgets/base",
      "model_module_version": "1.2.0",
      "model_name": "LayoutModel",
      "state": {}
     },
     "b4d7ed2e94c24abd97e08ae2a6e8db44": {
      "model_module": "@jupyter-widgets/controls",
      "model_module_version": "1.5.0",
      "model_name": "FloatProgressModel",
      "state": {
       "description": "val loss: 3.5616: 100%",
       "layout": "IPY_MODEL_3b0983728aa844188ad119632ed2c7e4",
       "max": 157,
       "style": "IPY_MODEL_79537969b9e747d9ac144aefbb91372d",
       "value": 157
      }
     },
     "b4e152e2730244eb8df4dabb7a82a135": {
      "model_module": "@jupyter-widgets/controls",
      "model_module_version": "1.5.0",
      "model_name": "DescriptionStyleModel",
      "state": {
       "description_width": ""
      }
     },
     "b4fd431c43f24ac08ee15bc3dc6642ef": {
      "model_module": "@jupyter-widgets/controls",
      "model_module_version": "1.5.0",
      "model_name": "DescriptionStyleModel",
      "state": {
       "description_width": ""
      }
     },
     "b5048026f8b04fb19e6f5d67e6920513": {
      "model_module": "@jupyter-widgets/base",
      "model_module_version": "1.2.0",
      "model_name": "LayoutModel",
      "state": {}
     },
     "b52cf1591d284df985d2bd11b9edf904": {
      "model_module": "@jupyter-widgets/base",
      "model_module_version": "1.2.0",
      "model_name": "LayoutModel",
      "state": {}
     },
     "b538d844505a400ba43b9dfe9afde5eb": {
      "model_module": "@jupyter-widgets/base",
      "model_module_version": "1.2.0",
      "model_name": "LayoutModel",
      "state": {}
     },
     "b5484aef35774af4923f71500a052733": {
      "model_module": "@jupyter-widgets/controls",
      "model_module_version": "1.5.0",
      "model_name": "FloatProgressModel",
      "state": {
       "description": "train loss: 3.8191: 100%",
       "layout": "IPY_MODEL_d713abb7ac5343908686c68d72cfd67e",
       "max": 1563,
       "style": "IPY_MODEL_74e43a5d919844b1a481bdf1e022826d",
       "value": 1563
      }
     },
     "b56a3f48bf8c47468aa000bad1993979": {
      "model_module": "@jupyter-widgets/base",
      "model_module_version": "1.2.0",
      "model_name": "LayoutModel",
      "state": {}
     },
     "b5738e16bf7a4649a407825a47c0f642": {
      "model_module": "@jupyter-widgets/controls",
      "model_module_version": "1.5.0",
      "model_name": "FloatProgressModel",
      "state": {
       "description": "train loss: 4.3594: 100%",
       "layout": "IPY_MODEL_5945b5da4abe44ea94b7079be0c251a0",
       "max": 1563,
       "style": "IPY_MODEL_1a7271e3c090433f88d326653de732a8",
       "value": 1563
      }
     },
     "b5c76fb87b4f4997aaee67b7458ad1a3": {
      "model_module": "@jupyter-widgets/controls",
      "model_module_version": "1.5.0",
      "model_name": "DescriptionStyleModel",
      "state": {
       "description_width": ""
      }
     },
     "b5d820cab7aa45628ebf557e17164ed8": {
      "model_module": "@jupyter-widgets/controls",
      "model_module_version": "1.5.0",
      "model_name": "ProgressStyleModel",
      "state": {
       "description_width": "initial"
      }
     },
     "b6081f6c486340888a947bc24743430c": {
      "model_module": "@jupyter-widgets/controls",
      "model_module_version": "1.5.0",
      "model_name": "HBoxModel",
      "state": {
       "children": [
        "IPY_MODEL_2887dcec3d334b0086ed4f97c8047340",
        "IPY_MODEL_54f80e4c0dcc4eff8a5abc56c9e64c72"
       ],
       "layout": "IPY_MODEL_aceb62784d3943408c7f17086f1aa5df"
      }
     },
     "b613cef7f13849bc8ab9fd336920ac16": {
      "model_module": "@jupyter-widgets/controls",
      "model_module_version": "1.5.0",
      "model_name": "ProgressStyleModel",
      "state": {
       "description_width": "initial"
      }
     },
     "b62e327b2dfc449d83b88b2ae0370d28": {
      "model_module": "@jupyter-widgets/base",
      "model_module_version": "1.2.0",
      "model_name": "LayoutModel",
      "state": {}
     },
     "b62e63d6b5c744f7b6367749bd2ee307": {
      "model_module": "@jupyter-widgets/base",
      "model_module_version": "1.2.0",
      "model_name": "LayoutModel",
      "state": {}
     },
     "b6401e9b8b9b44f092f217e3a0b7f90b": {
      "model_module": "@jupyter-widgets/base",
      "model_module_version": "1.2.0",
      "model_name": "LayoutModel",
      "state": {}
     },
     "b658570d7a0847b086ab6db12ca93a52": {
      "model_module": "@jupyter-widgets/controls",
      "model_module_version": "1.5.0",
      "model_name": "HBoxModel",
      "state": {
       "children": [
        "IPY_MODEL_56d485805a6c46478cbd049f3b758c50",
        "IPY_MODEL_bd59744ed0d34adea607d38174838733"
       ],
       "layout": "IPY_MODEL_c71e9b7e930b499ebd54172a158f735b"
      }
     },
     "b660bf0dad0b43e5a31a8fbc3370aa3f": {
      "model_module": "@jupyter-widgets/base",
      "model_module_version": "1.2.0",
      "model_name": "LayoutModel",
      "state": {}
     },
     "b6623acb65744aecbcfd129bf24e5b45": {
      "model_module": "@jupyter-widgets/controls",
      "model_module_version": "1.5.0",
      "model_name": "DescriptionStyleModel",
      "state": {
       "description_width": ""
      }
     },
     "b686a263d14f4b94b05deb8259f16db0": {
      "model_module": "@jupyter-widgets/controls",
      "model_module_version": "1.5.0",
      "model_name": "ProgressStyleModel",
      "state": {
       "description_width": "initial"
      }
     },
     "b6a3dee74fb44e31b5e616978a02bb81": {
      "model_module": "@jupyter-widgets/base",
      "model_module_version": "1.2.0",
      "model_name": "LayoutModel",
      "state": {}
     },
     "b6ae52d7ad3948398ccd332bc0bfc813": {
      "model_module": "@jupyter-widgets/base",
      "model_module_version": "1.2.0",
      "model_name": "LayoutModel",
      "state": {}
     },
     "b6b6619c9d7b46c19883b2e4416d6a74": {
      "model_module": "@jupyter-widgets/controls",
      "model_module_version": "1.5.0",
      "model_name": "ProgressStyleModel",
      "state": {
       "description_width": "initial"
      }
     },
     "b6d97102e5264ebfaddc8d0f159b4eea": {
      "model_module": "@jupyter-widgets/base",
      "model_module_version": "1.2.0",
      "model_name": "LayoutModel",
      "state": {}
     },
     "b6dcf8a9bb064d249976b5010ecfe049": {
      "model_module": "@jupyter-widgets/controls",
      "model_module_version": "1.5.0",
      "model_name": "DescriptionStyleModel",
      "state": {
       "description_width": ""
      }
     },
     "b719680b1ab1419f99d3d85c8fb666e7": {
      "model_module": "@jupyter-widgets/base",
      "model_module_version": "1.2.0",
      "model_name": "LayoutModel",
      "state": {}
     },
     "b7463e92895d48f184237b7f541d6432": {
      "model_module": "@jupyter-widgets/base",
      "model_module_version": "1.2.0",
      "model_name": "LayoutModel",
      "state": {}
     },
     "b7491d1b5d524bd7829810ac313b9ea5": {
      "model_module": "@jupyter-widgets/controls",
      "model_module_version": "1.5.0",
      "model_name": "FloatProgressModel",
      "state": {
       "bar_style": "success",
       "description": "Train Loss: 4.2409 - Val Loss: 3.5422: 100%",
       "layout": "IPY_MODEL_63f107d138c4460a86449f036d5314fa",
       "max": 10,
       "style": "IPY_MODEL_c7bb5373e0a143389e908e8243bc9427",
       "value": 10
      }
     },
     "b756929d3b234618b5047ed59a780de0": {
      "model_module": "@jupyter-widgets/controls",
      "model_module_version": "1.5.0",
      "model_name": "HTMLModel",
      "state": {
       "layout": "IPY_MODEL_563714fafd6841649e67a284e726d7e4",
       "style": "IPY_MODEL_e64195a7f03f40518b4c63feacc8e5cc",
       "value": " 10/10 [42:34&lt;00:00, 255.49s/it]"
      }
     },
     "b75800b997e4413298a1c66aa2c24212": {
      "model_module": "@jupyter-widgets/controls",
      "model_module_version": "1.5.0",
      "model_name": "HTMLModel",
      "state": {
       "layout": "IPY_MODEL_311c9dd44b99457eb89bbc9290f6a159",
       "style": "IPY_MODEL_3729432805104050be984c84a4e21b85",
       "value": " 157/157 [00:14&lt;00:00, 11.89it/s]"
      }
     },
     "b796c261279e43e29b3d75b7ee2b9a21": {
      "model_module": "@jupyter-widgets/base",
      "model_module_version": "1.2.0",
      "model_name": "LayoutModel",
      "state": {}
     },
     "b7c7e4a7662244c9a5c97f0b3378b14c": {
      "model_module": "@jupyter-widgets/controls",
      "model_module_version": "1.5.0",
      "model_name": "FloatProgressModel",
      "state": {
       "description": "train loss: 3.4397: 100%",
       "layout": "IPY_MODEL_9801a0b997a1486abdef58dfa2ce9971",
       "max": 1563,
       "style": "IPY_MODEL_9cdf412e8aa2429c9033b6c3fcf1e464",
       "value": 1563
      }
     },
     "b7dffe9267cd4304b16a2937f83dfabe": {
      "model_module": "@jupyter-widgets/controls",
      "model_module_version": "1.5.0",
      "model_name": "DescriptionStyleModel",
      "state": {
       "description_width": ""
      }
     },
     "b83478b7a213451c849c794b01455991": {
      "model_module": "@jupyter-widgets/base",
      "model_module_version": "1.2.0",
      "model_name": "LayoutModel",
      "state": {}
     },
     "b852bef9421940d7a72f0a6c40aeb2e2": {
      "model_module": "@jupyter-widgets/base",
      "model_module_version": "1.2.0",
      "model_name": "LayoutModel",
      "state": {}
     },
     "b857472ab15c4c8aa0810ceccb0cee8f": {
      "model_module": "@jupyter-widgets/controls",
      "model_module_version": "1.5.0",
      "model_name": "FloatProgressModel",
      "state": {
       "description": "val loss: 3.4468: 100%",
       "layout": "IPY_MODEL_babde2294b984323bb7305806237d96a",
       "max": 157,
       "style": "IPY_MODEL_36870230ea72438f9747865e7064c832",
       "value": 157
      }
     },
     "b85fee8e4d67471897969afdbaafc359": {
      "model_module": "@jupyter-widgets/controls",
      "model_module_version": "1.5.0",
      "model_name": "DescriptionStyleModel",
      "state": {
       "description_width": ""
      }
     },
     "b86f794127e9433e9a1fa085404e2675": {
      "model_module": "@jupyter-widgets/base",
      "model_module_version": "1.2.0",
      "model_name": "LayoutModel",
      "state": {}
     },
     "b8833b5e60814669869a62692dca3cb4": {
      "model_module": "@jupyter-widgets/base",
      "model_module_version": "1.2.0",
      "model_name": "LayoutModel",
      "state": {}
     },
     "b8982a4c514045f79d783ada04f900b3": {
      "model_module": "@jupyter-widgets/base",
      "model_module_version": "1.2.0",
      "model_name": "LayoutModel",
      "state": {}
     },
     "b8a3129f51ee40f4b815eaf9967038a4": {
      "model_module": "@jupyter-widgets/controls",
      "model_module_version": "1.5.0",
      "model_name": "ProgressStyleModel",
      "state": {
       "description_width": "initial"
      }
     },
     "b8a8777fe2d14abb90eb7c32b32b6327": {
      "model_module": "@jupyter-widgets/controls",
      "model_module_version": "1.5.0",
      "model_name": "ProgressStyleModel",
      "state": {
       "description_width": "initial"
      }
     },
     "b8c6ee25ea41445e829253d04b401218": {
      "model_module": "@jupyter-widgets/controls",
      "model_module_version": "1.5.0",
      "model_name": "DescriptionStyleModel",
      "state": {
       "description_width": ""
      }
     },
     "b8ea98ee7f874801adadcb5cbca453e0": {
      "model_module": "@jupyter-widgets/base",
      "model_module_version": "1.2.0",
      "model_name": "LayoutModel",
      "state": {}
     },
     "b8ff07c3deb44eb081ed09b007dd4073": {
      "model_module": "@jupyter-widgets/controls",
      "model_module_version": "1.5.0",
      "model_name": "FloatProgressModel",
      "state": {
       "description": "val loss: 3.1086: 100%",
       "layout": "IPY_MODEL_6c8592b2b6ec4bd6966c6e06be0a663e",
       "max": 157,
       "style": "IPY_MODEL_1457a15df8024bb7b6d3b845936d7bae",
       "value": 157
      }
     },
     "b901e4738d3f4cfa9c2236a3468b3820": {
      "model_module": "@jupyter-widgets/base",
      "model_module_version": "1.2.0",
      "model_name": "LayoutModel",
      "state": {}
     },
     "b923ebeae5b54b009691988dedb7975e": {
      "model_module": "@jupyter-widgets/base",
      "model_module_version": "1.2.0",
      "model_name": "LayoutModel",
      "state": {}
     },
     "b928b469446046c7aadb020a269c5d55": {
      "model_module": "@jupyter-widgets/controls",
      "model_module_version": "1.5.0",
      "model_name": "HTMLModel",
      "state": {
       "layout": "IPY_MODEL_464ebe6772214c0d8adbebd3371a0176",
       "style": "IPY_MODEL_58f741be09b242baaa1eac4df9bedd80",
       "value": " 157/157 [00:10&lt;00:00, 15.61it/s]"
      }
     },
     "b929dbfceacb4514b51f827f78b4aef3": {
      "model_module": "@jupyter-widgets/controls",
      "model_module_version": "1.5.0",
      "model_name": "HTMLModel",
      "state": {
       "layout": "IPY_MODEL_2d17f286547b4e54a9b8ef7c3a8da4de",
       "style": "IPY_MODEL_c452b1f8b7614bc283429db83ab075f1",
       "value": " 157/157 [00:14&lt;00:00, 11.77it/s]"
      }
     },
     "b933085315ba421ca71c9622993bc157": {
      "model_module": "@jupyter-widgets/base",
      "model_module_version": "1.2.0",
      "model_name": "LayoutModel",
      "state": {}
     },
     "b95578e090614994a6f3f5ddcd4490d4": {
      "model_module": "@jupyter-widgets/base",
      "model_module_version": "1.2.0",
      "model_name": "LayoutModel",
      "state": {}
     },
     "b95b5f471c9744a1a216eb50f7a7316e": {
      "model_module": "@jupyter-widgets/controls",
      "model_module_version": "1.5.0",
      "model_name": "FloatProgressModel",
      "state": {
       "description": "train loss: 2.8570: 100%",
       "layout": "IPY_MODEL_7f340185c5e54230a12655092c3ec452",
       "max": 1563,
       "style": "IPY_MODEL_93fdff6db36442d1a6d16621d950e359",
       "value": 1563
      }
     },
     "b988f05ee33a4075b66ec8a8452da24f": {
      "model_module": "@jupyter-widgets/base",
      "model_module_version": "1.2.0",
      "model_name": "LayoutModel",
      "state": {}
     },
     "b9b27f206f1140fe8a618916139493ba": {
      "model_module": "@jupyter-widgets/base",
      "model_module_version": "1.2.0",
      "model_name": "LayoutModel",
      "state": {}
     },
     "b9c02e354cad49fba4f53c3116cf41fe": {
      "model_module": "@jupyter-widgets/controls",
      "model_module_version": "1.5.0",
      "model_name": "ProgressStyleModel",
      "state": {
       "description_width": "initial"
      }
     },
     "b9c0c4c9c1ed48cfa9c93459629de602": {
      "model_module": "@jupyter-widgets/controls",
      "model_module_version": "1.5.0",
      "model_name": "DescriptionStyleModel",
      "state": {
       "description_width": ""
      }
     },
     "b9ca35ddda2e49b98898c46bccfb6257": {
      "model_module": "@jupyter-widgets/controls",
      "model_module_version": "1.5.0",
      "model_name": "FloatProgressModel",
      "state": {
       "description": "train loss: 2.9508: 100%",
       "layout": "IPY_MODEL_cc77abc39848469e9be199e01650edda",
       "max": 1563,
       "style": "IPY_MODEL_fefbd60fe9f8475480c72ce3955bfd50",
       "value": 1563
      }
     },
     "b9d628211c9d477185601bf54a17c438": {
      "model_module": "@jupyter-widgets/base",
      "model_module_version": "1.2.0",
      "model_name": "LayoutModel",
      "state": {}
     },
     "b9db10470314414facc0537cb83afcb6": {
      "model_module": "@jupyter-widgets/controls",
      "model_module_version": "1.5.0",
      "model_name": "DescriptionStyleModel",
      "state": {
       "description_width": ""
      }
     },
     "b9eb94eb3bd044e0aed9e5725923ac3a": {
      "model_module": "@jupyter-widgets/base",
      "model_module_version": "1.2.0",
      "model_name": "LayoutModel",
      "state": {}
     },
     "b9facb9e254f4dafbe90236aa9399c5a": {
      "model_module": "@jupyter-widgets/controls",
      "model_module_version": "1.5.0",
      "model_name": "FloatProgressModel",
      "state": {
       "description": "train loss: 3.1867: 100%",
       "layout": "IPY_MODEL_0a298eb8e3964f2881098c4531429a88",
       "max": 1563,
       "style": "IPY_MODEL_2c21402677214eeeb113cc40ef85e61b",
       "value": 1563
      }
     },
     "ba08b140d1ea47c5a5c917588bccfe51": {
      "model_module": "@jupyter-widgets/controls",
      "model_module_version": "1.5.0",
      "model_name": "HBoxModel",
      "state": {
       "children": [
        "IPY_MODEL_aa3082762d3748df878687683fe438f9",
        "IPY_MODEL_4c0b25ed6c5444eabdd5bac6b0596cbc"
       ],
       "layout": "IPY_MODEL_bd1c40339c0743cf98f99bcb363ac16f"
      }
     },
     "ba48ecb86c094339a16ce8922c488ac3": {
      "model_module": "@jupyter-widgets/controls",
      "model_module_version": "1.5.0",
      "model_name": "HTMLModel",
      "state": {
       "layout": "IPY_MODEL_4088638e897649b08b29f1273035cc58",
       "style": "IPY_MODEL_332de60b7ce740e6b19022819476eb02",
       "value": " 157/157 [00:09&lt;00:00, 16.23it/s]"
      }
     },
     "ba4de2048c0b4be0ba03809a3c87811e": {
      "model_module": "@jupyter-widgets/base",
      "model_module_version": "1.2.0",
      "model_name": "LayoutModel",
      "state": {}
     },
     "ba5d7cfde17e486f94b12bfad0bf5f3b": {
      "model_module": "@jupyter-widgets/controls",
      "model_module_version": "1.5.0",
      "model_name": "DescriptionStyleModel",
      "state": {
       "description_width": ""
      }
     },
     "ba61936dbfab43699e1edf9f49e4e292": {
      "model_module": "@jupyter-widgets/controls",
      "model_module_version": "1.5.0",
      "model_name": "HTMLModel",
      "state": {
       "layout": "IPY_MODEL_d5ef9e9c9d5d4c2ca63263bd2b6db12c",
       "style": "IPY_MODEL_a28928c8fb69489aa69da88bb524e8d9",
       "value": " 157/157 [00:10&lt;00:00, 15.68it/s]"
      }
     },
     "ba83bf69db8f4feb9b91ac1a5ac052f7": {
      "model_module": "@jupyter-widgets/controls",
      "model_module_version": "1.5.0",
      "model_name": "FloatProgressModel",
      "state": {
       "description": "val loss: 4.3791: 100%",
       "layout": "IPY_MODEL_58cada6c6b984b59bca40260d3a51915",
       "max": 157,
       "style": "IPY_MODEL_43aeef9d7b9a4f1f82d2d7335bab38c5",
       "value": 157
      }
     },
     "baa252345d2440aeac89b00ad3b535c5": {
      "model_module": "@jupyter-widgets/base",
      "model_module_version": "1.2.0",
      "model_name": "LayoutModel",
      "state": {}
     },
     "bab38e41bc3a4adba7dca0158995ce0e": {
      "model_module": "@jupyter-widgets/controls",
      "model_module_version": "1.5.0",
      "model_name": "FloatProgressModel",
      "state": {
       "description": "train loss: 3.3704: 100%",
       "layout": "IPY_MODEL_b9eb94eb3bd044e0aed9e5725923ac3a",
       "max": 1563,
       "style": "IPY_MODEL_738f17583dac4edfbffc9cd98154153f",
       "value": 1563
      }
     },
     "babde2294b984323bb7305806237d96a": {
      "model_module": "@jupyter-widgets/base",
      "model_module_version": "1.2.0",
      "model_name": "LayoutModel",
      "state": {}
     },
     "bac3079ee0df4eed90e35bb87c54271e": {
      "model_module": "@jupyter-widgets/controls",
      "model_module_version": "1.5.0",
      "model_name": "DescriptionStyleModel",
      "state": {
       "description_width": ""
      }
     },
     "bada5ceaa4e940dda34e6ba2a95220d8": {
      "model_module": "@jupyter-widgets/controls",
      "model_module_version": "1.5.0",
      "model_name": "FloatProgressModel",
      "state": {
       "description": "train loss: 3.7506: 100%",
       "layout": "IPY_MODEL_31ce21b686b54713b64d2b59b401c6cd",
       "max": 1563,
       "style": "IPY_MODEL_2aa1d387f5954cd7b5c1305e80f9cc7b",
       "value": 1563
      }
     },
     "bae5c1b7ee6d41e4bdd47d1308130793": {
      "model_module": "@jupyter-widgets/base",
      "model_module_version": "1.2.0",
      "model_name": "LayoutModel",
      "state": {}
     },
     "bae7e4b5665646f0bf64ecb6f1f33eec": {
      "model_module": "@jupyter-widgets/controls",
      "model_module_version": "1.5.0",
      "model_name": "FloatProgressModel",
      "state": {
       "description": "val loss: 4.5751: 100%",
       "layout": "IPY_MODEL_47ff298c6819411abb5cdf9e074732ed",
       "max": 157,
       "style": "IPY_MODEL_63c9fd852817446688a64e38cf23fbd1",
       "value": 157
      }
     },
     "bafeb35003aa41f3878a0227dd256bc8": {
      "model_module": "@jupyter-widgets/base",
      "model_module_version": "1.2.0",
      "model_name": "LayoutModel",
      "state": {}
     },
     "bb40f60bc43c4b19bdd3323aa02f7769": {
      "model_module": "@jupyter-widgets/controls",
      "model_module_version": "1.5.0",
      "model_name": "HTMLModel",
      "state": {
       "layout": "IPY_MODEL_a5526c547c1044689d425bb3db62a77b",
       "style": "IPY_MODEL_254a0a28905546e59abc63be502ccaac",
       "value": " 157/157 [00:15&lt;00:00, 11.63it/s]"
      }
     },
     "bb76e00242544f959f9dca2239904408": {
      "model_module": "@jupyter-widgets/controls",
      "model_module_version": "1.5.0",
      "model_name": "HTMLModel",
      "state": {
       "layout": "IPY_MODEL_05c241f2dd8744718bf6bcb331c06ebe",
       "style": "IPY_MODEL_758574e518884145b59018662209ee2c",
       "value": " 157/157 [00:16&lt;00:00,  9.55it/s]"
      }
     },
     "bba00e6f4bba467396a3d814a7a66732": {
      "model_module": "@jupyter-widgets/controls",
      "model_module_version": "1.5.0",
      "model_name": "DescriptionStyleModel",
      "state": {
       "description_width": ""
      }
     },
     "bbb32c23e9da4a6fb582e77969c5f585": {
      "model_module": "@jupyter-widgets/controls",
      "model_module_version": "1.5.0",
      "model_name": "FloatProgressModel",
      "state": {
       "bar_style": "danger",
       "description": "train loss: 5.8713:   6%",
       "layout": "IPY_MODEL_7f24b7fab7444ebb8199de275dd50d17",
       "max": 1563,
       "style": "IPY_MODEL_7206a74861a14cc090ea56cd6e6060c3",
       "value": 90
      }
     },
     "bbb76deba8e64147bb91b2b6c16c9797": {
      "model_module": "@jupyter-widgets/controls",
      "model_module_version": "1.5.0",
      "model_name": "FloatProgressModel",
      "state": {
       "bar_style": "danger",
       "description": "Epochs:   0%",
       "layout": "IPY_MODEL_26c01d7b67e141e5bbd46b3221a87ccb",
       "max": 10,
       "style": "IPY_MODEL_659de343f15747748625c5748996a174"
      }
     },
     "bbc3032e26e64915b4c77ca9b7e0903d": {
      "model_module": "@jupyter-widgets/controls",
      "model_module_version": "1.5.0",
      "model_name": "ProgressStyleModel",
      "state": {
       "description_width": "initial"
      }
     },
     "bbdd0572100a41c2b528e5cc5c1b8676": {
      "model_module": "@jupyter-widgets/controls",
      "model_module_version": "1.5.0",
      "model_name": "DescriptionStyleModel",
      "state": {
       "description_width": ""
      }
     },
     "bbdf16a8789747d495fa8e132caf3566": {
      "model_module": "@jupyter-widgets/controls",
      "model_module_version": "1.5.0",
      "model_name": "DescriptionStyleModel",
      "state": {
       "description_width": ""
      }
     },
     "bbfbefb975d241e0a8e5bcf1f7497d2e": {
      "model_module": "@jupyter-widgets/controls",
      "model_module_version": "1.5.0",
      "model_name": "ProgressStyleModel",
      "state": {
       "description_width": "initial"
      }
     },
     "bc1631bade124864aa1d0d2af0ce1086": {
      "model_module": "@jupyter-widgets/base",
      "model_module_version": "1.2.0",
      "model_name": "LayoutModel",
      "state": {}
     },
     "bc170c04f9844034a5be707e713d1b7e": {
      "model_module": "@jupyter-widgets/controls",
      "model_module_version": "1.5.0",
      "model_name": "FloatProgressModel",
      "state": {
       "description": "val loss: 2.8277: 100%",
       "layout": "IPY_MODEL_1b01e47868ea4080b047a05ba42852ae",
       "max": 157,
       "style": "IPY_MODEL_718e6a3b67914cf599cb5b098d882c21",
       "value": 157
      }
     },
     "bca6eb0967f0458caa2444ec5035410f": {
      "model_module": "@jupyter-widgets/controls",
      "model_module_version": "1.5.0",
      "model_name": "HTMLModel",
      "state": {
       "layout": "IPY_MODEL_87d0ef85b9214c8aa1dc0110e41f41d1",
       "style": "IPY_MODEL_bebfad73158a42ae88577f49bc758b5a",
       "value": " 1563/1563 [02:33&lt;00:00, 10.84it/s]"
      }
     },
     "bcd4b08c79bc4f0c87190ccf7d2e4bbe": {
      "model_module": "@jupyter-widgets/controls",
      "model_module_version": "1.5.0",
      "model_name": "FloatProgressModel",
      "state": {
       "description": "train loss: 2.6142: 100%",
       "layout": "IPY_MODEL_cdd591c4c57c48ee84545f0e41f904ef",
       "max": 1563,
       "style": "IPY_MODEL_1aa337ac083e4f12bb3a392fa2ef33bc",
       "value": 1563
      }
     },
     "bd1c40339c0743cf98f99bcb363ac16f": {
      "model_module": "@jupyter-widgets/base",
      "model_module_version": "1.2.0",
      "model_name": "LayoutModel",
      "state": {}
     },
     "bd359725e076486d9c8d1f9f213cef73": {
      "model_module": "@jupyter-widgets/controls",
      "model_module_version": "1.5.0",
      "model_name": "ProgressStyleModel",
      "state": {
       "description_width": "initial"
      }
     },
     "bd3c6f5ea12e4c8c9f4e07af9f07c89d": {
      "model_module": "@jupyter-widgets/controls",
      "model_module_version": "1.5.0",
      "model_name": "ProgressStyleModel",
      "state": {
       "description_width": "initial"
      }
     },
     "bd59744ed0d34adea607d38174838733": {
      "model_module": "@jupyter-widgets/controls",
      "model_module_version": "1.5.0",
      "model_name": "HTMLModel",
      "state": {
       "layout": "IPY_MODEL_6f381238cad34616be33c13305ce24ab",
       "style": "IPY_MODEL_12e2c683abc34dbfbce5c0d4840a1c89",
       "value": " 50/1563 [00:20&lt;02:28, 10.19it/s]"
      }
     },
     "bd64763131d74aa2b29a2f1f8a2605cf": {
      "model_module": "@jupyter-widgets/base",
      "model_module_version": "1.2.0",
      "model_name": "LayoutModel",
      "state": {}
     },
     "bd7311475de743bba6f7fc610cda4129": {
      "model_module": "@jupyter-widgets/controls",
      "model_module_version": "1.5.0",
      "model_name": "HTMLModel",
      "state": {
       "layout": "IPY_MODEL_a0c205961dfd4b52b94569b6bc75f8eb",
       "style": "IPY_MODEL_0cea092233f64c65bbb4690629da979c",
       "value": " 157/157 [00:16&lt;00:00,  9.53it/s]"
      }
     },
     "bd744f93748e44268c7d5178e43c42f2": {
      "model_module": "@jupyter-widgets/base",
      "model_module_version": "1.2.0",
      "model_name": "LayoutModel",
      "state": {}
     },
     "bd7e474e3da747fcb7f3d4ad747c2851": {
      "model_module": "@jupyter-widgets/controls",
      "model_module_version": "1.5.0",
      "model_name": "DescriptionStyleModel",
      "state": {
       "description_width": ""
      }
     },
     "bd8dcd3833f94e61a44f49f1eb157cb8": {
      "model_module": "@jupyter-widgets/controls",
      "model_module_version": "1.5.0",
      "model_name": "HTMLModel",
      "state": {
       "layout": "IPY_MODEL_743e66a02796451dba0d3b286b86c6d6",
       "style": "IPY_MODEL_3948e34c8670450eb9f2d57de3837b9e",
       "value": " 1563/1563 [02:31&lt;00:00, 10.66it/s]"
      }
     },
     "bd9fcc8eac2f451e8234161f0c899d0a": {
      "model_module": "@jupyter-widgets/base",
      "model_module_version": "1.2.0",
      "model_name": "LayoutModel",
      "state": {}
     },
     "bda2cc09d9be4fe3a7b7fc7a9cec5dd2": {
      "model_module": "@jupyter-widgets/controls",
      "model_module_version": "1.5.0",
      "model_name": "ProgressStyleModel",
      "state": {
       "description_width": "initial"
      }
     },
     "bda47ccfe3f742af9c484f8b2454b292": {
      "model_module": "@jupyter-widgets/controls",
      "model_module_version": "1.5.0",
      "model_name": "ProgressStyleModel",
      "state": {
       "description_width": "initial"
      }
     },
     "bdb13fa3ce1c48dfa3379aa57e4d26ca": {
      "model_module": "@jupyter-widgets/controls",
      "model_module_version": "1.5.0",
      "model_name": "HBoxModel",
      "state": {
       "children": [
        "IPY_MODEL_cac6629aee75481f85e05a6398f7a34f",
        "IPY_MODEL_ed2ad0f57c074e66b6d872bee74c0bee"
       ],
       "layout": "IPY_MODEL_66d6e884d1b94c589be4c222a6c44120"
      }
     },
     "bdb27afc3f334fc9ba20e4253b05c9de": {
      "model_module": "@jupyter-widgets/base",
      "model_module_version": "1.2.0",
      "model_name": "LayoutModel",
      "state": {}
     },
     "bdb3e6b12539493ab7d2f7c8ddb53104": {
      "model_module": "@jupyter-widgets/base",
      "model_module_version": "1.2.0",
      "model_name": "LayoutModel",
      "state": {}
     },
     "bdd2d9651224435ab69f1a1118b7a03d": {
      "model_module": "@jupyter-widgets/base",
      "model_module_version": "1.2.0",
      "model_name": "LayoutModel",
      "state": {}
     },
     "bddaabe2ada247a580a14e6378d85c63": {
      "model_module": "@jupyter-widgets/base",
      "model_module_version": "1.2.0",
      "model_name": "LayoutModel",
      "state": {}
     },
     "bddee01925a346b3bd30fe9a5f9eb8f4": {
      "model_module": "@jupyter-widgets/controls",
      "model_module_version": "1.5.0",
      "model_name": "ProgressStyleModel",
      "state": {
       "description_width": "initial"
      }
     },
     "bded6f61880c4549b7877ec8d0e46bb5": {
      "model_module": "@jupyter-widgets/controls",
      "model_module_version": "1.5.0",
      "model_name": "DescriptionStyleModel",
      "state": {
       "description_width": ""
      }
     },
     "be16c63548774296b33c68d8edd40c4a": {
      "model_module": "@jupyter-widgets/controls",
      "model_module_version": "1.5.0",
      "model_name": "DescriptionStyleModel",
      "state": {
       "description_width": ""
      }
     },
     "be1c503663204e8e8ab31f9cf5010674": {
      "model_module": "@jupyter-widgets/base",
      "model_module_version": "1.2.0",
      "model_name": "LayoutModel",
      "state": {}
     },
     "be2fdde12e5244abb8c3ddaa2e397254": {
      "model_module": "@jupyter-widgets/controls",
      "model_module_version": "1.5.0",
      "model_name": "HTMLModel",
      "state": {
       "layout": "IPY_MODEL_ca283ccd7a8a4ba2a944b8927eab0b7e",
       "style": "IPY_MODEL_9c420bb88c6f440da16611d65e2f4673",
       "value": " 109/1563 [01:40&lt;22:12,  1.09it/s]"
      }
     },
     "be33153429a94149847f0a280f275418": {
      "model_module": "@jupyter-widgets/controls",
      "model_module_version": "1.5.0",
      "model_name": "DescriptionStyleModel",
      "state": {
       "description_width": ""
      }
     },
     "be58084b047249cabc08e2eac74bb169": {
      "model_module": "@jupyter-widgets/controls",
      "model_module_version": "1.5.0",
      "model_name": "FloatProgressModel",
      "state": {
       "description": "val loss: 4.0302: 100%",
       "layout": "IPY_MODEL_af419a52a2e64d2c88dea4641785ffa1",
       "max": 157,
       "style": "IPY_MODEL_da176ca55ecc4f9fae64ded99a254a77",
       "value": 157
      }
     },
     "be5ac1b0d0324c4d885d4756b74d1513": {
      "model_module": "@jupyter-widgets/base",
      "model_module_version": "1.2.0",
      "model_name": "LayoutModel",
      "state": {}
     },
     "bebf90411efa4370b300bfc069147c79": {
      "model_module": "@jupyter-widgets/controls",
      "model_module_version": "1.5.0",
      "model_name": "HTMLModel",
      "state": {
       "layout": "IPY_MODEL_2484341612e24c02ae6ca3775dc009d0",
       "style": "IPY_MODEL_afddb2f8d4d04204a3108a806cbbe00d",
       "value": " 10/10 [56:49&lt;00:00, 340.98s/it]"
      }
     },
     "bebfad73158a42ae88577f49bc758b5a": {
      "model_module": "@jupyter-widgets/controls",
      "model_module_version": "1.5.0",
      "model_name": "DescriptionStyleModel",
      "state": {
       "description_width": ""
      }
     },
     "bee4c17fe5d147639e270fda9f3bc5e7": {
      "model_module": "@jupyter-widgets/base",
      "model_module_version": "1.2.0",
      "model_name": "LayoutModel",
      "state": {}
     },
     "bee89c02e7e54bf288b713e53df66923": {
      "model_module": "@jupyter-widgets/controls",
      "model_module_version": "1.5.0",
      "model_name": "ProgressStyleModel",
      "state": {
       "description_width": "initial"
      }
     },
     "bef062e9eb014824b52bc8a4a285e774": {
      "model_module": "@jupyter-widgets/base",
      "model_module_version": "1.2.0",
      "model_name": "LayoutModel",
      "state": {}
     },
     "bef5c318a8eb469ba89aa04800585cfc": {
      "model_module": "@jupyter-widgets/base",
      "model_module_version": "1.2.0",
      "model_name": "LayoutModel",
      "state": {}
     },
     "befa8224dc264ae0999494ddebf5d3a3": {
      "model_module": "@jupyter-widgets/controls",
      "model_module_version": "1.5.0",
      "model_name": "DescriptionStyleModel",
      "state": {
       "description_width": ""
      }
     },
     "bf57e4c1a20d48d4ad4027286545ec8e": {
      "model_module": "@jupyter-widgets/controls",
      "model_module_version": "1.5.0",
      "model_name": "DescriptionStyleModel",
      "state": {
       "description_width": ""
      }
     },
     "bf5d46765d67463eb592577ca57d913c": {
      "model_module": "@jupyter-widgets/controls",
      "model_module_version": "1.5.0",
      "model_name": "FloatProgressModel",
      "state": {
       "description": "train loss: 2.4167: 100%",
       "layout": "IPY_MODEL_7168bc3ed48343d3b0170e58d4799665",
       "max": 1563,
       "style": "IPY_MODEL_f60f20f60748405381eac256535a9dca",
       "value": 1563
      }
     },
     "bf6b23a0228843d9ba03d3e3f61a990c": {
      "model_module": "@jupyter-widgets/base",
      "model_module_version": "1.2.0",
      "model_name": "LayoutModel",
      "state": {}
     },
     "bf877a44ee2b4574a239dd1581ce8286": {
      "model_module": "@jupyter-widgets/controls",
      "model_module_version": "1.5.0",
      "model_name": "DescriptionStyleModel",
      "state": {
       "description_width": ""
      }
     },
     "bfb45f02f36d4ee49017459b1564e773": {
      "model_module": "@jupyter-widgets/controls",
      "model_module_version": "1.5.0",
      "model_name": "HTMLModel",
      "state": {
       "layout": "IPY_MODEL_25f964c51d61406191cd056b8a2e8f57",
       "style": "IPY_MODEL_6d5e5126c8714caa9652923930a32d8e",
       "value": " 157/157 [00:14&lt;00:00, 11.86it/s]"
      }
     },
     "bfbcec2e9a504bcc80f87d87981979f3": {
      "model_module": "@jupyter-widgets/controls",
      "model_module_version": "1.5.0",
      "model_name": "DescriptionStyleModel",
      "state": {
       "description_width": ""
      }
     },
     "bfd87dd746e845f2a80001fd02ab0da9": {
      "model_module": "@jupyter-widgets/base",
      "model_module_version": "1.2.0",
      "model_name": "LayoutModel",
      "state": {}
     },
     "c0017a98bd86470586b705777d607698": {
      "model_module": "@jupyter-widgets/controls",
      "model_module_version": "1.5.0",
      "model_name": "DescriptionStyleModel",
      "state": {
       "description_width": ""
      }
     },
     "c005714d3d274d9d8e9a95f9b66113a7": {
      "model_module": "@jupyter-widgets/controls",
      "model_module_version": "1.5.0",
      "model_name": "ProgressStyleModel",
      "state": {
       "description_width": "initial"
      }
     },
     "c02bba762bc24a7594ba5a18a4c85ec7": {
      "model_module": "@jupyter-widgets/controls",
      "model_module_version": "1.5.0",
      "model_name": "HTMLModel",
      "state": {
       "layout": "IPY_MODEL_06dbfa1dca7a4b9d9a8427a08bd73b5f",
       "style": "IPY_MODEL_74c61de2c10849ccb256b48e157a17c4",
       "value": " 1563/1563 [05:29&lt;00:00,  5.48it/s]"
      }
     },
     "c0361a6fd9df4680b1c44ee527eb7d34": {
      "model_module": "@jupyter-widgets/controls",
      "model_module_version": "1.5.0",
      "model_name": "HTMLModel",
      "state": {
       "layout": "IPY_MODEL_291744b148d04ccabd25555373743285",
       "style": "IPY_MODEL_d463f83913cc4fda9499a1b157c66152",
       "value": " 1563/1563 [02:34&lt;00:00, 10.36it/s]"
      }
     },
     "c036ac046c3a4e94a50e42402ccf9c04": {
      "model_module": "@jupyter-widgets/controls",
      "model_module_version": "1.5.0",
      "model_name": "FloatProgressModel",
      "state": {
       "description": "val loss: 5.5797: 100%",
       "layout": "IPY_MODEL_394274b36c4f416d960d1c069922e486",
       "max": 157,
       "style": "IPY_MODEL_ae5823cff5744c7cbf89da9baceea7d3",
       "value": 157
      }
     },
     "c0406771288d41828586ad8a4fb28963": {
      "model_module": "@jupyter-widgets/base",
      "model_module_version": "1.2.0",
      "model_name": "LayoutModel",
      "state": {}
     },
     "c045f3276e4647239a352478ca8c1e6f": {
      "model_module": "@jupyter-widgets/base",
      "model_module_version": "1.2.0",
      "model_name": "LayoutModel",
      "state": {}
     },
     "c07b41ddfa6a41ceaff9657ae5597711": {
      "model_module": "@jupyter-widgets/base",
      "model_module_version": "1.2.0",
      "model_name": "LayoutModel",
      "state": {}
     },
     "c0a4281a4f8a483e8dced72dcd5c2a01": {
      "model_module": "@jupyter-widgets/controls",
      "model_module_version": "1.5.0",
      "model_name": "DescriptionStyleModel",
      "state": {
       "description_width": ""
      }
     },
     "c0c7429492624ff2ac59aa497e3f8f36": {
      "model_module": "@jupyter-widgets/controls",
      "model_module_version": "1.5.0",
      "model_name": "ProgressStyleModel",
      "state": {
       "description_width": "initial"
      }
     },
     "c0cdfcc1954a49c9ab6db413251cd98f": {
      "model_module": "@jupyter-widgets/controls",
      "model_module_version": "1.5.0",
      "model_name": "HTMLModel",
      "state": {
       "layout": "IPY_MODEL_cd779b2eabcb4bc29d8ebd79650790c9",
       "style": "IPY_MODEL_9f9f910cc5ab4c5dab96e4e9a82c8d2f",
       "value": " 157/157 [00:15&lt;00:00, 11.80it/s]"
      }
     },
     "c0d0e08a7cab492ab0b1c178de300128": {
      "model_module": "@jupyter-widgets/controls",
      "model_module_version": "1.5.0",
      "model_name": "ProgressStyleModel",
      "state": {
       "description_width": "initial"
      }
     },
     "c0da2584b36240a79175674f1152bd2f": {
      "model_module": "@jupyter-widgets/base",
      "model_module_version": "1.2.0",
      "model_name": "LayoutModel",
      "state": {}
     },
     "c0ef2cf65bc14028a1bb3367cf6f84ba": {
      "model_module": "@jupyter-widgets/controls",
      "model_module_version": "1.5.0",
      "model_name": "ProgressStyleModel",
      "state": {
       "description_width": "initial"
      }
     },
     "c100213d384840669757930b1b8fd341": {
      "model_module": "@jupyter-widgets/base",
      "model_module_version": "1.2.0",
      "model_name": "LayoutModel",
      "state": {}
     },
     "c11230f5e721453db13f4a179af3042c": {
      "model_module": "@jupyter-widgets/base",
      "model_module_version": "1.2.0",
      "model_name": "LayoutModel",
      "state": {}
     },
     "c118b5e55d09462794dd578bc37e5ec8": {
      "model_module": "@jupyter-widgets/controls",
      "model_module_version": "1.5.0",
      "model_name": "HTMLModel",
      "state": {
       "layout": "IPY_MODEL_19b94b15dfef4ee684d59379d504f807",
       "style": "IPY_MODEL_7cdde070f7dc49bdb2413c26b9f8f278",
       "value": " 1563/1563 [04:57&lt;00:00,  6.01it/s]"
      }
     },
     "c11e75e4cbfa4255a18d64cee3d0c4fd": {
      "model_module": "@jupyter-widgets/base",
      "model_module_version": "1.2.0",
      "model_name": "LayoutModel",
      "state": {}
     },
     "c129886d464e424192b766d6260602aa": {
      "model_module": "@jupyter-widgets/base",
      "model_module_version": "1.2.0",
      "model_name": "LayoutModel",
      "state": {}
     },
     "c12fb2b69c694c1b97901137eafa14df": {
      "model_module": "@jupyter-widgets/base",
      "model_module_version": "1.2.0",
      "model_name": "LayoutModel",
      "state": {}
     },
     "c13729184ae849d6ae288c0dac4c6855": {
      "model_module": "@jupyter-widgets/base",
      "model_module_version": "1.2.0",
      "model_name": "LayoutModel",
      "state": {}
     },
     "c1471d29ec5b442792e6f45be14e6a03": {
      "model_module": "@jupyter-widgets/base",
      "model_module_version": "1.2.0",
      "model_name": "LayoutModel",
      "state": {}
     },
     "c14a6bdb595646d2a0c39c883879211a": {
      "model_module": "@jupyter-widgets/controls",
      "model_module_version": "1.5.0",
      "model_name": "ProgressStyleModel",
      "state": {
       "description_width": "initial"
      }
     },
     "c14b49001ae14e0ba705808c9c7a0b2f": {
      "model_module": "@jupyter-widgets/controls",
      "model_module_version": "1.5.0",
      "model_name": "DescriptionStyleModel",
      "state": {
       "description_width": ""
      }
     },
     "c14ef0fe8ca74046afe97e753d94781b": {
      "model_module": "@jupyter-widgets/base",
      "model_module_version": "1.2.0",
      "model_name": "LayoutModel",
      "state": {}
     },
     "c15a4b374ca44ec7bfb16f2c9dded41c": {
      "model_module": "@jupyter-widgets/base",
      "model_module_version": "1.2.0",
      "model_name": "LayoutModel",
      "state": {}
     },
     "c18cda94c0184ab1bd26ec35ed75f51b": {
      "model_module": "@jupyter-widgets/controls",
      "model_module_version": "1.5.0",
      "model_name": "FloatProgressModel",
      "state": {
       "description": "val loss: 4.5711: 100%",
       "layout": "IPY_MODEL_900b38a5a91f4be3805e200d226520f7",
       "max": 157,
       "style": "IPY_MODEL_6f587ac51ddc4ae4ae4f8c2149a68ab3",
       "value": 157
      }
     },
     "c1b01fb20653434880503b74b2fc40e0": {
      "model_module": "@jupyter-widgets/base",
      "model_module_version": "1.2.0",
      "model_name": "LayoutModel",
      "state": {}
     },
     "c1b2344ea85d4ffaada619b402026453": {
      "model_module": "@jupyter-widgets/base",
      "model_module_version": "1.2.0",
      "model_name": "LayoutModel",
      "state": {}
     },
     "c1b55eb61b7e4707bd35b9bfa217d7dd": {
      "model_module": "@jupyter-widgets/controls",
      "model_module_version": "1.5.0",
      "model_name": "DescriptionStyleModel",
      "state": {
       "description_width": ""
      }
     },
     "c1bdd712fd2e46749b3656b6cc3163f7": {
      "model_module": "@jupyter-widgets/base",
      "model_module_version": "1.2.0",
      "model_name": "LayoutModel",
      "state": {}
     },
     "c1c2bfea7ac04362b6b677e72f6ed08d": {
      "model_module": "@jupyter-widgets/controls",
      "model_module_version": "1.5.0",
      "model_name": "ProgressStyleModel",
      "state": {
       "description_width": "initial"
      }
     },
     "c1d7e7d40b7646b6a749e29822b5e4a7": {
      "model_module": "@jupyter-widgets/controls",
      "model_module_version": "1.5.0",
      "model_name": "HTMLModel",
      "state": {
       "layout": "IPY_MODEL_e27abb483bb04531978b95971db0a29d",
       "style": "IPY_MODEL_6e8f88e26bd148dba8a13b1cee45b049",
       "value": " 157/157 [00:10&lt;00:00, 15.75it/s]"
      }
     },
     "c1db4102685c4a9c8fe8e374f432c125": {
      "model_module": "@jupyter-widgets/controls",
      "model_module_version": "1.5.0",
      "model_name": "FloatProgressModel",
      "state": {
       "description": "val loss: 4.5751: 100%",
       "layout": "IPY_MODEL_b3200afc016345c782608ac93c832229",
       "max": 157,
       "style": "IPY_MODEL_23209deeb16f4949aed89d6cc8dd6e07",
       "value": 157
      }
     },
     "c1f4b856dd4d4869988e96c1c671961b": {
      "model_module": "@jupyter-widgets/controls",
      "model_module_version": "1.5.0",
      "model_name": "FloatProgressModel",
      "state": {
       "description": "val loss: 3.9365: 100%",
       "layout": "IPY_MODEL_9baea4a801724f8687d7c8198a2a1d43",
       "max": 157,
       "style": "IPY_MODEL_611a1a9130214e47bd690d81a085ee6e",
       "value": 157
      }
     },
     "c21d5d53581445ff935a75a0b32c34e1": {
      "model_module": "@jupyter-widgets/controls",
      "model_module_version": "1.5.0",
      "model_name": "FloatProgressModel",
      "state": {
       "bar_style": "danger",
       "description": "Epochs:   0%",
       "layout": "IPY_MODEL_1eb945e99ee7403991af20cbc463500d",
       "max": 10,
       "style": "IPY_MODEL_f34353e56f2d4b9aa54cdfd5da923a22"
      }
     },
     "c21e264e3086474bb4831ed0b258e35b": {
      "model_module": "@jupyter-widgets/base",
      "model_module_version": "1.2.0",
      "model_name": "LayoutModel",
      "state": {}
     },
     "c22f5c24bb1f4b83a0be5fca48e6aca2": {
      "model_module": "@jupyter-widgets/controls",
      "model_module_version": "1.5.0",
      "model_name": "FloatProgressModel",
      "state": {
       "description": "train loss: 4.0624: 100%",
       "layout": "IPY_MODEL_71870650d7074f9ab0d2c40aeaa5c35d",
       "max": 1563,
       "style": "IPY_MODEL_e4b0a11c55174d70a8741325d65a37ff",
       "value": 1563
      }
     },
     "c234f1d7c9854cafb82e80326c2fcab0": {
      "model_module": "@jupyter-widgets/controls",
      "model_module_version": "1.5.0",
      "model_name": "FloatProgressModel",
      "state": {
       "description": "train loss: 2.9477: 100%",
       "layout": "IPY_MODEL_16da3194425846ddb7aeca0313a57b42",
       "max": 1563,
       "style": "IPY_MODEL_4419312d4cbc4217a9e3ad187b711e40",
       "value": 1563
      }
     },
     "c235229a126341e591f5313f1e575365": {
      "model_module": "@jupyter-widgets/base",
      "model_module_version": "1.2.0",
      "model_name": "LayoutModel",
      "state": {}
     },
     "c2862c28470e4b8190e83610540d7962": {
      "model_module": "@jupyter-widgets/base",
      "model_module_version": "1.2.0",
      "model_name": "LayoutModel",
      "state": {}
     },
     "c2b7ada65d5b4c24bddc9fd1882e9178": {
      "model_module": "@jupyter-widgets/base",
      "model_module_version": "1.2.0",
      "model_name": "LayoutModel",
      "state": {}
     },
     "c2d11373256a4c4f82be9f1682024809": {
      "model_module": "@jupyter-widgets/base",
      "model_module_version": "1.2.0",
      "model_name": "LayoutModel",
      "state": {}
     },
     "c2e5a1f8ea944fce884970df7c8423a0": {
      "model_module": "@jupyter-widgets/base",
      "model_module_version": "1.2.0",
      "model_name": "LayoutModel",
      "state": {}
     },
     "c34b009c6cf14f0c8f13a08566cc0d93": {
      "model_module": "@jupyter-widgets/base",
      "model_module_version": "1.2.0",
      "model_name": "LayoutModel",
      "state": {}
     },
     "c3579aae328344b9952cc25bb9cbb12c": {
      "model_module": "@jupyter-widgets/base",
      "model_module_version": "1.2.0",
      "model_name": "LayoutModel",
      "state": {}
     },
     "c3617c577c82421f8800070ec89329c9": {
      "model_module": "@jupyter-widgets/controls",
      "model_module_version": "1.5.0",
      "model_name": "HTMLModel",
      "state": {
       "layout": "IPY_MODEL_756e51b6567a4b198626fc962ed0c2e8",
       "style": "IPY_MODEL_315e640b83cf4d1abc7385250ad3e710",
       "value": " 1563/1563 [02:34&lt;00:00, 10.57it/s]"
      }
     },
     "c36a54639a694c0aa3d9624e3750fbe4": {
      "model_module": "@jupyter-widgets/controls",
      "model_module_version": "1.5.0",
      "model_name": "ProgressStyleModel",
      "state": {
       "description_width": "initial"
      }
     },
     "c37c7e60a4dc4cbb932d1ac5bcbbe18a": {
      "model_module": "@jupyter-widgets/base",
      "model_module_version": "1.2.0",
      "model_name": "LayoutModel",
      "state": {}
     },
     "c3a6f8b9a3984fc3b159581413a2b881": {
      "model_module": "@jupyter-widgets/controls",
      "model_module_version": "1.5.0",
      "model_name": "HBoxModel",
      "state": {
       "children": [
        "IPY_MODEL_f97ec7f4c041452ba73e54081f244079",
        "IPY_MODEL_e0efb9969b72466aa910cdc548108264"
       ],
       "layout": "IPY_MODEL_0ca51056cc56408f9104d8aea24f92a4"
      }
     },
     "c3cd73155a0540f0b05d546016bbf311": {
      "model_module": "@jupyter-widgets/base",
      "model_module_version": "1.2.0",
      "model_name": "LayoutModel",
      "state": {}
     },
     "c3dc7eb799dd4220a257bbbc325cd54e": {
      "model_module": "@jupyter-widgets/controls",
      "model_module_version": "1.5.0",
      "model_name": "DescriptionStyleModel",
      "state": {
       "description_width": ""
      }
     },
     "c3e5b3f26dd044d0b9e698ce1c54c608": {
      "model_module": "@jupyter-widgets/base",
      "model_module_version": "1.2.0",
      "model_name": "LayoutModel",
      "state": {}
     },
     "c40dbf9544b14977a0382fcf52987af9": {
      "model_module": "@jupyter-widgets/controls",
      "model_module_version": "1.5.0",
      "model_name": "DescriptionStyleModel",
      "state": {
       "description_width": ""
      }
     },
     "c452b1f8b7614bc283429db83ab075f1": {
      "model_module": "@jupyter-widgets/controls",
      "model_module_version": "1.5.0",
      "model_name": "DescriptionStyleModel",
      "state": {
       "description_width": ""
      }
     },
     "c45d214e33ef4610a5291a89b6777c10": {
      "model_module": "@jupyter-widgets/base",
      "model_module_version": "1.2.0",
      "model_name": "LayoutModel",
      "state": {}
     },
     "c477c834734c48feb644b280fbb28d6e": {
      "model_module": "@jupyter-widgets/controls",
      "model_module_version": "1.5.0",
      "model_name": "HTMLModel",
      "state": {
       "layout": "IPY_MODEL_389f36f24710490499cbe1ae33532e1a",
       "style": "IPY_MODEL_8a70610e815642d9809e4d72df2aa591",
       "value": " 157/157 [00:10&lt;00:00, 15.52it/s]"
      }
     },
     "c488ef79df8d45e29ed304e4ff68990d": {
      "model_module": "@jupyter-widgets/base",
      "model_module_version": "1.2.0",
      "model_name": "LayoutModel",
      "state": {}
     },
     "c48dd2b571484c4a991c55e233238e5e": {
      "model_module": "@jupyter-widgets/controls",
      "model_module_version": "1.5.0",
      "model_name": "HTMLModel",
      "state": {
       "layout": "IPY_MODEL_114e08d6678847899beaea7afe7f3fa0",
       "style": "IPY_MODEL_d780f7ac6dbe4409a2e66426ba8bc895",
       "value": " 1563/1563 [02:35&lt;00:00, 10.07it/s]"
      }
     },
     "c4c7fa0b9dd346eeb72c1da9fd6902a4": {
      "model_module": "@jupyter-widgets/base",
      "model_module_version": "1.2.0",
      "model_name": "LayoutModel",
      "state": {}
     },
     "c4d1013357a4457ba8879b570b6bf367": {
      "model_module": "@jupyter-widgets/base",
      "model_module_version": "1.2.0",
      "model_name": "LayoutModel",
      "state": {}
     },
     "c4e4e6180080415db1a56e480a64ad2b": {
      "model_module": "@jupyter-widgets/controls",
      "model_module_version": "1.5.0",
      "model_name": "HTMLModel",
      "state": {
       "layout": "IPY_MODEL_95dd742d4c5c42de9518d8ce510d7fa7",
       "style": "IPY_MODEL_79f70f946fd64f2b97642465de6150c2",
       "value": " 1563/1563 [04:58&lt;00:00,  5.85it/s]"
      }
     },
     "c4f47a150f0547c38c0547f697995c09": {
      "model_module": "@jupyter-widgets/controls",
      "model_module_version": "1.5.0",
      "model_name": "ProgressStyleModel",
      "state": {
       "description_width": "initial"
      }
     },
     "c4fb8dd2af164c7e8e6dbf7344ba32dd": {
      "model_module": "@jupyter-widgets/controls",
      "model_module_version": "1.5.0",
      "model_name": "DescriptionStyleModel",
      "state": {
       "description_width": ""
      }
     },
     "c51be587a16045b388be6580cb5a5e49": {
      "model_module": "@jupyter-widgets/base",
      "model_module_version": "1.2.0",
      "model_name": "LayoutModel",
      "state": {}
     },
     "c52c3f286802483bac949a5f15fea969": {
      "model_module": "@jupyter-widgets/controls",
      "model_module_version": "1.5.0",
      "model_name": "ProgressStyleModel",
      "state": {
       "description_width": "initial"
      }
     },
     "c53975ae43484046bab8dbb700f408d6": {
      "model_module": "@jupyter-widgets/base",
      "model_module_version": "1.2.0",
      "model_name": "LayoutModel",
      "state": {}
     },
     "c55db6157403449b9d4a9726cc56b2c2": {
      "model_module": "@jupyter-widgets/controls",
      "model_module_version": "1.5.0",
      "model_name": "DescriptionStyleModel",
      "state": {
       "description_width": ""
      }
     },
     "c5810b9d68594afaadb5e03959cc1435": {
      "model_module": "@jupyter-widgets/base",
      "model_module_version": "1.2.0",
      "model_name": "LayoutModel",
      "state": {}
     },
     "c5814015595c4edeb36fd9d0e4506b12": {
      "model_module": "@jupyter-widgets/base",
      "model_module_version": "1.2.0",
      "model_name": "LayoutModel",
      "state": {}
     },
     "c5b833ad10424de59a4c8c04b76d5618": {
      "model_module": "@jupyter-widgets/base",
      "model_module_version": "1.2.0",
      "model_name": "LayoutModel",
      "state": {}
     },
     "c5c903ccc89b461ba48a242ed95b5ca0": {
      "model_module": "@jupyter-widgets/controls",
      "model_module_version": "1.5.0",
      "model_name": "FloatProgressModel",
      "state": {
       "bar_style": "danger",
       "description": "train loss: 5.2912:  42%",
       "layout": "IPY_MODEL_abead29fc5c14ca29ea2ec477190825c",
       "max": 1563,
       "style": "IPY_MODEL_843bf403bd70462d90891222292a0a34",
       "value": 654
      }
     },
     "c5d24da94b674672bea31bcb9d42a9e6": {
      "model_module": "@jupyter-widgets/controls",
      "model_module_version": "1.5.0",
      "model_name": "DescriptionStyleModel",
      "state": {
       "description_width": ""
      }
     },
     "c5e5a0ccc1074801911faabec70792c3": {
      "model_module": "@jupyter-widgets/base",
      "model_module_version": "1.2.0",
      "model_name": "LayoutModel",
      "state": {}
     },
     "c5e5db8506b6434faa81421e685a1267": {
      "model_module": "@jupyter-widgets/controls",
      "model_module_version": "1.5.0",
      "model_name": "ProgressStyleModel",
      "state": {
       "description_width": "initial"
      }
     },
     "c5eb3c98aac8422290cefd78cf117d1d": {
      "model_module": "@jupyter-widgets/base",
      "model_module_version": "1.2.0",
      "model_name": "LayoutModel",
      "state": {}
     },
     "c5ee2861992c401b9e12b9dda4da8291": {
      "model_module": "@jupyter-widgets/controls",
      "model_module_version": "1.5.0",
      "model_name": "HTMLModel",
      "state": {
       "layout": "IPY_MODEL_b27707cb9b914c1fb7b09a61545146b9",
       "style": "IPY_MODEL_05b655cd5cb1458e974bf5d550b203a0",
       "value": " 1563/1563 [05:00&lt;00:00,  5.97it/s]"
      }
     },
     "c6043d53d9bc48f59b05569a5b6ced34": {
      "model_module": "@jupyter-widgets/controls",
      "model_module_version": "1.5.0",
      "model_name": "ProgressStyleModel",
      "state": {
       "description_width": "initial"
      }
     },
     "c609ca2b0b4242eca402d38778e63c46": {
      "model_module": "@jupyter-widgets/base",
      "model_module_version": "1.2.0",
      "model_name": "LayoutModel",
      "state": {}
     },
     "c61fd22c3d7c409ba6adb14b5521b587": {
      "model_module": "@jupyter-widgets/base",
      "model_module_version": "1.2.0",
      "model_name": "LayoutModel",
      "state": {}
     },
     "c6252d6dc0fe42fb8f44e8374898965e": {
      "model_module": "@jupyter-widgets/controls",
      "model_module_version": "1.5.0",
      "model_name": "FloatProgressModel",
      "state": {
       "bar_style": "danger",
       "description": "Epochs:   0%",
       "layout": "IPY_MODEL_ee565489cb40409590b8c23c3dece7ef",
       "max": 10,
       "style": "IPY_MODEL_08127954c58d48d0a5ac2cc897ddc12d"
      }
     },
     "c649d4dbccc64ce3a650771f17bd3a6e": {
      "model_module": "@jupyter-widgets/controls",
      "model_module_version": "1.5.0",
      "model_name": "HTMLModel",
      "state": {
       "layout": "IPY_MODEL_c4c7fa0b9dd346eeb72c1da9fd6902a4",
       "style": "IPY_MODEL_3289c41055984017bcdf53bcfb76fb0f",
       "value": " 157/157 [00:10&lt;00:00, 15.31it/s]"
      }
     },
     "c69bcf489a484958a801669b9729df3f": {
      "model_module": "@jupyter-widgets/base",
      "model_module_version": "1.2.0",
      "model_name": "LayoutModel",
      "state": {}
     },
     "c6a5c2aff1d34a5e962e4b05a868b391": {
      "model_module": "@jupyter-widgets/controls",
      "model_module_version": "1.5.0",
      "model_name": "FloatProgressModel",
      "state": {
       "description": "val loss: 3.8468: 100%",
       "layout": "IPY_MODEL_f127d8485d57451492a3e9b310124c29",
       "max": 157,
       "style": "IPY_MODEL_f13eb65480834bf99638a5213e5b4f01",
       "value": 157
      }
     },
     "c6a6434b6090470ab169ad8ea6bebc8d": {
      "model_module": "@jupyter-widgets/controls",
      "model_module_version": "1.5.0",
      "model_name": "ProgressStyleModel",
      "state": {
       "description_width": "initial"
      }
     },
     "c6b78a8f5eed492a8d1ff67206ad4e4c": {
      "model_module": "@jupyter-widgets/controls",
      "model_module_version": "1.5.0",
      "model_name": "DescriptionStyleModel",
      "state": {
       "description_width": ""
      }
     },
     "c6b9efafcd2e4567b2dc56ca7d93e587": {
      "model_module": "@jupyter-widgets/controls",
      "model_module_version": "1.5.0",
      "model_name": "HTMLModel",
      "state": {
       "layout": "IPY_MODEL_041f4ef689d94baf8b28f02ef9a7aa4f",
       "style": "IPY_MODEL_036852f34c7749f7ae66093db3b0b050",
       "value": " 1563/1563 [04:59&lt;00:00,  5.88it/s]"
      }
     },
     "c6c0ba8e83624a28936a7f22e2c9f7c1": {
      "model_module": "@jupyter-widgets/controls",
      "model_module_version": "1.5.0",
      "model_name": "FloatProgressModel",
      "state": {
       "description": "val loss: 4.3706: 100%",
       "layout": "IPY_MODEL_3216539f434a45fb840aedf35a02d25e",
       "max": 157,
       "style": "IPY_MODEL_e21538a2200e46a28ea2ff3ae05f0d40",
       "value": 157
      }
     },
     "c6ccf46f59f14324a6fb56ef0085aca0": {
      "model_module": "@jupyter-widgets/controls",
      "model_module_version": "1.5.0",
      "model_name": "ProgressStyleModel",
      "state": {
       "description_width": "initial"
      }
     },
     "c6cd36fd56e44db4872f2a75284b3d07": {
      "model_module": "@jupyter-widgets/controls",
      "model_module_version": "1.5.0",
      "model_name": "FloatProgressModel",
      "state": {
       "description": "val loss: 3.8939: 100%",
       "layout": "IPY_MODEL_b6d97102e5264ebfaddc8d0f159b4eea",
       "max": 157,
       "style": "IPY_MODEL_c1c2bfea7ac04362b6b677e72f6ed08d",
       "value": 157
      }
     },
     "c6d29a74da3e4bdbbddba62fac3f06bb": {
      "model_module": "@jupyter-widgets/controls",
      "model_module_version": "1.5.0",
      "model_name": "ProgressStyleModel",
      "state": {
       "description_width": "initial"
      }
     },
     "c6fbcee8534c421297f85023e9f1b13c": {
      "model_module": "@jupyter-widgets/controls",
      "model_module_version": "1.5.0",
      "model_name": "FloatProgressModel",
      "state": {
       "description": "train loss: 4.0824: 100%",
       "layout": "IPY_MODEL_e1edbae0a40d46cd921e638781011857",
       "max": 1563,
       "style": "IPY_MODEL_c005714d3d274d9d8e9a95f9b66113a7",
       "value": 1563
      }
     },
     "c70fd2f5827d497f852ce83e830d5b6d": {
      "model_module": "@jupyter-widgets/controls",
      "model_module_version": "1.5.0",
      "model_name": "ProgressStyleModel",
      "state": {
       "description_width": "initial"
      }
     },
     "c71e9b7e930b499ebd54172a158f735b": {
      "model_module": "@jupyter-widgets/base",
      "model_module_version": "1.2.0",
      "model_name": "LayoutModel",
      "state": {}
     },
     "c71eda409dfe49ba8d0b4f537d17efac": {
      "model_module": "@jupyter-widgets/controls",
      "model_module_version": "1.5.0",
      "model_name": "HTMLModel",
      "state": {
       "layout": "IPY_MODEL_e458ccc9cc114b17bfa3a60773e4663d",
       "style": "IPY_MODEL_04bc03b63879498db2db83cfb0246652",
       "value": " 1563/1563 [02:34&lt;00:00, 10.83it/s]"
      }
     },
     "c7311bf4b0754b62b7ad01628cf2ed53": {
      "model_module": "@jupyter-widgets/base",
      "model_module_version": "1.2.0",
      "model_name": "LayoutModel",
      "state": {}
     },
     "c73b0f5e7b25453eb1b3791f37198e93": {
      "model_module": "@jupyter-widgets/base",
      "model_module_version": "1.2.0",
      "model_name": "LayoutModel",
      "state": {}
     },
     "c768bf0ec324424bb2f6e6ede96fbffb": {
      "model_module": "@jupyter-widgets/base",
      "model_module_version": "1.2.0",
      "model_name": "LayoutModel",
      "state": {}
     },
     "c78d8164f3924b69a41a42214959f8fa": {
      "model_module": "@jupyter-widgets/controls",
      "model_module_version": "1.5.0",
      "model_name": "DescriptionStyleModel",
      "state": {
       "description_width": ""
      }
     },
     "c7bb5373e0a143389e908e8243bc9427": {
      "model_module": "@jupyter-widgets/controls",
      "model_module_version": "1.5.0",
      "model_name": "ProgressStyleModel",
      "state": {
       "description_width": "initial"
      }
     },
     "c7cb579ff1c44f5fa75f4c463a512809": {
      "model_module": "@jupyter-widgets/controls",
      "model_module_version": "1.5.0",
      "model_name": "FloatProgressModel",
      "state": {
       "description": "train loss: 4.3754: 100%",
       "layout": "IPY_MODEL_207781f28c0f4404964ffe12a335a42b",
       "max": 1563,
       "style": "IPY_MODEL_2b0e964ade7240f8b437055a164a0b2e",
       "value": 1563
      }
     },
     "c7cbf72921d34ebea223737dd4d22d68": {
      "model_module": "@jupyter-widgets/controls",
      "model_module_version": "1.5.0",
      "model_name": "HTMLModel",
      "state": {
       "layout": "IPY_MODEL_4850b623d9ac4060909779f8653c74c4",
       "style": "IPY_MODEL_a992fe3434d44a43adb8c284121711c5",
       "value": " 157/157 [00:14&lt;00:00, 11.91it/s]"
      }
     },
     "c7d6f8cd15804d6d89698d5b6495d5d7": {
      "model_module": "@jupyter-widgets/controls",
      "model_module_version": "1.5.0",
      "model_name": "ProgressStyleModel",
      "state": {
       "description_width": "initial"
      }
     },
     "c7e84cb9f9db4b24af2105c4aa98ff25": {
      "model_module": "@jupyter-widgets/controls",
      "model_module_version": "1.5.0",
      "model_name": "FloatProgressModel",
      "state": {
       "description": "train loss: 3.4870: 100%",
       "layout": "IPY_MODEL_c15a4b374ca44ec7bfb16f2c9dded41c",
       "max": 1563,
       "style": "IPY_MODEL_2303d42ae718446fafa19ce62898e297",
       "value": 1563
      }
     },
     "c7ee1a69b1f247f3afb45ebd1f2f15e0": {
      "model_module": "@jupyter-widgets/controls",
      "model_module_version": "1.5.0",
      "model_name": "DescriptionStyleModel",
      "state": {
       "description_width": ""
      }
     },
     "c7fd59e7ad4b49c39f4a488fd9a4e201": {
      "model_module": "@jupyter-widgets/controls",
      "model_module_version": "1.5.0",
      "model_name": "FloatProgressModel",
      "state": {
       "description": "train loss: 4.5416: 100%",
       "layout": "IPY_MODEL_b7463e92895d48f184237b7f541d6432",
       "max": 1563,
       "style": "IPY_MODEL_3dfb83ce3f0942429ae137b223862389",
       "value": 1563
      }
     },
     "c8119c08b2ca4cfdadf93b6c3bdd87b5": {
      "model_module": "@jupyter-widgets/base",
      "model_module_version": "1.2.0",
      "model_name": "LayoutModel",
      "state": {}
     },
     "c8172995a8fe4b468ee0927802ff2f60": {
      "model_module": "@jupyter-widgets/base",
      "model_module_version": "1.2.0",
      "model_name": "LayoutModel",
      "state": {}
     },
     "c81da1a4effc4981970f79cf8876cb59": {
      "model_module": "@jupyter-widgets/base",
      "model_module_version": "1.2.0",
      "model_name": "LayoutModel",
      "state": {}
     },
     "c82b0ab866fc4df9bcc61f373a40dde5": {
      "model_module": "@jupyter-widgets/base",
      "model_module_version": "1.2.0",
      "model_name": "LayoutModel",
      "state": {}
     },
     "c83cb8919e0e4ee0beeb6cdab551fdb3": {
      "model_module": "@jupyter-widgets/controls",
      "model_module_version": "1.5.0",
      "model_name": "ProgressStyleModel",
      "state": {
       "description_width": "initial"
      }
     },
     "c87d9fdf4e064e46a39055e37e2c2794": {
      "model_module": "@jupyter-widgets/controls",
      "model_module_version": "1.5.0",
      "model_name": "DescriptionStyleModel",
      "state": {
       "description_width": ""
      }
     },
     "c8824873901c4400860dd757136baafc": {
      "model_module": "@jupyter-widgets/controls",
      "model_module_version": "1.5.0",
      "model_name": "ProgressStyleModel",
      "state": {
       "description_width": "initial"
      }
     },
     "c8d91ad3339141179c69979a9c06adc2": {
      "model_module": "@jupyter-widgets/controls",
      "model_module_version": "1.5.0",
      "model_name": "HTMLModel",
      "state": {
       "layout": "IPY_MODEL_c3cd73155a0540f0b05d546016bbf311",
       "style": "IPY_MODEL_0b79929d725340189a6cad4c5efdcf6c",
       "value": " 157/157 [00:09&lt;00:00, 16.22it/s]"
      }
     },
     "c8dc6de18fcc42398b96106621c30c4e": {
      "model_module": "@jupyter-widgets/controls",
      "model_module_version": "1.5.0",
      "model_name": "FloatProgressModel",
      "state": {
       "description": "val loss: 5.2555: 100%",
       "layout": "IPY_MODEL_a925da4b841f4c97968187bc3a12b889",
       "max": 157,
       "style": "IPY_MODEL_de6f122c392d4e9aa9fc7487e25bafad",
       "value": 157
      }
     },
     "c8e51cf899f04a948658e2553c852527": {
      "model_module": "@jupyter-widgets/base",
      "model_module_version": "1.2.0",
      "model_name": "LayoutModel",
      "state": {}
     },
     "c8ea36e7ae1a4449835734fffec48790": {
      "model_module": "@jupyter-widgets/base",
      "model_module_version": "1.2.0",
      "model_name": "LayoutModel",
      "state": {}
     },
     "c903c00c287c4287841f762474a4500d": {
      "model_module": "@jupyter-widgets/base",
      "model_module_version": "1.2.0",
      "model_name": "LayoutModel",
      "state": {}
     },
     "c91e006e1d06416c951e3739539acf07": {
      "model_module": "@jupyter-widgets/base",
      "model_module_version": "1.2.0",
      "model_name": "LayoutModel",
      "state": {}
     },
     "c938e691f26844a4b5a1f4a1b774dac1": {
      "model_module": "@jupyter-widgets/controls",
      "model_module_version": "1.5.0",
      "model_name": "DescriptionStyleModel",
      "state": {
       "description_width": ""
      }
     },
     "c94dc6fb84c840eca30cb2e89ca699dc": {
      "model_module": "@jupyter-widgets/base",
      "model_module_version": "1.2.0",
      "model_name": "LayoutModel",
      "state": {}
     },
     "c96c8afeb6dc4cf696598bfb1c4a99f5": {
      "model_module": "@jupyter-widgets/base",
      "model_module_version": "1.2.0",
      "model_name": "LayoutModel",
      "state": {}
     },
     "c998b4fa3da64d4cb4add3867a69531b": {
      "model_module": "@jupyter-widgets/base",
      "model_module_version": "1.2.0",
      "model_name": "LayoutModel",
      "state": {}
     },
     "c999f8e824b345a2af265dd247bdf93c": {
      "model_module": "@jupyter-widgets/controls",
      "model_module_version": "1.5.0",
      "model_name": "ProgressStyleModel",
      "state": {
       "description_width": "initial"
      }
     },
     "c9a181a20e434d9492121e50fde8e7d2": {
      "model_module": "@jupyter-widgets/base",
      "model_module_version": "1.2.0",
      "model_name": "LayoutModel",
      "state": {}
     },
     "c9c6f3aeda0c4328b6c54bac97b1050e": {
      "model_module": "@jupyter-widgets/base",
      "model_module_version": "1.2.0",
      "model_name": "LayoutModel",
      "state": {}
     },
     "c9c877e2895849f5a8ec732acbbc7f59": {
      "model_module": "@jupyter-widgets/controls",
      "model_module_version": "1.5.0",
      "model_name": "HTMLModel",
      "state": {
       "layout": "IPY_MODEL_a2be5b234052481ca0f0368c4c796132",
       "style": "IPY_MODEL_918be28470d64aa09751382e3eadc7f3",
       "value": " 1563/1563 [05:00&lt;00:00,  5.90it/s]"
      }
     },
     "c9d6c5f4db5b4df48911039c615aac6c": {
      "model_module": "@jupyter-widgets/base",
      "model_module_version": "1.2.0",
      "model_name": "LayoutModel",
      "state": {}
     },
     "ca158ac388f6467190b4e113ad30b2ac": {
      "model_module": "@jupyter-widgets/controls",
      "model_module_version": "1.5.0",
      "model_name": "HTMLModel",
      "state": {
       "layout": "IPY_MODEL_9af36aa2fe28425cb7290b6644daa94c",
       "style": "IPY_MODEL_e0f9318b4f5248cd842cabf150e18939",
       "value": " 1563/1563 [05:01&lt;00:00,  5.95it/s]"
      }
     },
     "ca16e6c4db194fa48e522ba95a27dac3": {
      "model_module": "@jupyter-widgets/base",
      "model_module_version": "1.2.0",
      "model_name": "LayoutModel",
      "state": {}
     },
     "ca283ccd7a8a4ba2a944b8927eab0b7e": {
      "model_module": "@jupyter-widgets/base",
      "model_module_version": "1.2.0",
      "model_name": "LayoutModel",
      "state": {}
     },
     "ca51d332b5da45458880fcdaaf4f1c02": {
      "model_module": "@jupyter-widgets/controls",
      "model_module_version": "1.5.0",
      "model_name": "ProgressStyleModel",
      "state": {
       "description_width": "initial"
      }
     },
     "ca6b643217f2465cbe07ea51ca061123": {
      "model_module": "@jupyter-widgets/controls",
      "model_module_version": "1.5.0",
      "model_name": "ProgressStyleModel",
      "state": {
       "description_width": "initial"
      }
     },
     "ca78ac4a0a0f4168a9581ba5de467a31": {
      "model_module": "@jupyter-widgets/base",
      "model_module_version": "1.2.0",
      "model_name": "LayoutModel",
      "state": {}
     },
     "ca8bebc8a42e489a903a531a2064a4c6": {
      "model_module": "@jupyter-widgets/controls",
      "model_module_version": "1.5.0",
      "model_name": "HTMLModel",
      "state": {
       "layout": "IPY_MODEL_aa9e240e5bec4ec8bc8b5aa7efab7539",
       "style": "IPY_MODEL_cc876af250934df488b1c73a94a28989",
       "value": " 1563/1563 [03:46&lt;00:00,  6.95it/s]"
      }
     },
     "caab9400fef049dfb9401b4e41a8e933": {
      "model_module": "@jupyter-widgets/controls",
      "model_module_version": "1.5.0",
      "model_name": "DescriptionStyleModel",
      "state": {
       "description_width": ""
      }
     },
     "cab036200f274491bc4285868181f141": {
      "model_module": "@jupyter-widgets/controls",
      "model_module_version": "1.5.0",
      "model_name": "HTMLModel",
      "state": {
       "layout": "IPY_MODEL_90261ba3772c41ad8bffddf40ba547ea",
       "style": "IPY_MODEL_ae7c733b6b16459ea75ae21fe0acd3cf",
       "value": " 1563/1563 [04:59&lt;00:00,  5.93it/s]"
      }
     },
     "cac341fa764240f8b88567990f582bea": {
      "model_module": "@jupyter-widgets/controls",
      "model_module_version": "1.5.0",
      "model_name": "FloatProgressModel",
      "state": {
       "bar_style": "danger",
       "description": "train loss: 6.2164:   7%",
       "layout": "IPY_MODEL_b26d5a2c193f45519454f3b873fcf8a8",
       "max": 1563,
       "style": "IPY_MODEL_fe2ec1ec020b49e886f82e2732897df3",
       "value": 109
      }
     },
     "cac4b30a6b8a48fda2ac7f330172ea98": {
      "model_module": "@jupyter-widgets/controls",
      "model_module_version": "1.5.0",
      "model_name": "ProgressStyleModel",
      "state": {
       "description_width": "initial"
      }
     },
     "cac50cc749f7424c9c44dce3ab4b5b64": {
      "model_module": "@jupyter-widgets/controls",
      "model_module_version": "1.5.0",
      "model_name": "ProgressStyleModel",
      "state": {
       "description_width": "initial"
      }
     },
     "cac6629aee75481f85e05a6398f7a34f": {
      "model_module": "@jupyter-widgets/controls",
      "model_module_version": "1.5.0",
      "model_name": "FloatProgressModel",
      "state": {
       "bar_style": "success",
       "description": "Train Loss: 3.1957 - Val Loss: 3.6365: 100%",
       "layout": "IPY_MODEL_962b7679d78d483392a180933858fc39",
       "max": 10,
       "style": "IPY_MODEL_5b64cab5684b476fa989f0773c7c9271",
       "value": 10
      }
     },
     "cad0a828597a455281784ecef81401e4": {
      "model_module": "@jupyter-widgets/controls",
      "model_module_version": "1.5.0",
      "model_name": "DescriptionStyleModel",
      "state": {
       "description_width": ""
      }
     },
     "cad3a28b9631497d8f5d136b0c73ace7": {
      "model_module": "@jupyter-widgets/base",
      "model_module_version": "1.2.0",
      "model_name": "LayoutModel",
      "state": {}
     },
     "cad9816194f24f07888107476896e298": {
      "model_module": "@jupyter-widgets/controls",
      "model_module_version": "1.5.0",
      "model_name": "DescriptionStyleModel",
      "state": {
       "description_width": ""
      }
     },
     "cada474ce03d424cab750ae14441680c": {
      "model_module": "@jupyter-widgets/base",
      "model_module_version": "1.2.0",
      "model_name": "LayoutModel",
      "state": {}
     },
     "cae0f83dca784471b7c5d3148106dbbb": {
      "model_module": "@jupyter-widgets/controls",
      "model_module_version": "1.5.0",
      "model_name": "FloatProgressModel",
      "state": {
       "description": "train loss: 4.4992: 100%",
       "layout": "IPY_MODEL_5c21e67331a24acb81d567bd7e34dea1",
       "max": 1563,
       "style": "IPY_MODEL_fe0956c6504b432b84fc245d11c331bf",
       "value": 1563
      }
     },
     "cb05e818fd1a421592c3a5dee69d8064": {
      "model_module": "@jupyter-widgets/base",
      "model_module_version": "1.2.0",
      "model_name": "LayoutModel",
      "state": {}
     },
     "cb23d64e56ec4f328bbd2fa73964aeb4": {
      "model_module": "@jupyter-widgets/controls",
      "model_module_version": "1.5.0",
      "model_name": "DescriptionStyleModel",
      "state": {
       "description_width": ""
      }
     },
     "cb2402ed7fa045408ee335cc9a80229c": {
      "model_module": "@jupyter-widgets/base",
      "model_module_version": "1.2.0",
      "model_name": "LayoutModel",
      "state": {}
     },
     "cb408c5e2a3246169b2e3763f015cd70": {
      "model_module": "@jupyter-widgets/controls",
      "model_module_version": "1.5.0",
      "model_name": "ProgressStyleModel",
      "state": {
       "description_width": "initial"
      }
     },
     "cb686a621b08439fa6f3d9e26522f353": {
      "model_module": "@jupyter-widgets/controls",
      "model_module_version": "1.5.0",
      "model_name": "HTMLModel",
      "state": {
       "layout": "IPY_MODEL_a122d598cf914bfd8841714c72e5b6d7",
       "style": "IPY_MODEL_4003019771d04c6c89ac68cabf25317a",
       "value": " 1563/1563 [02:35&lt;00:00, 10.83it/s]"
      }
     },
     "cb6e4802eeed4c9f98f83ede2cac54ad": {
      "model_module": "@jupyter-widgets/base",
      "model_module_version": "1.2.0",
      "model_name": "LayoutModel",
      "state": {}
     },
     "cb6e8ba1b23a4f0bb84843b70e98a57b": {
      "model_module": "@jupyter-widgets/controls",
      "model_module_version": "1.5.0",
      "model_name": "FloatProgressModel",
      "state": {
       "description": "val loss: 3.9313: 100%",
       "layout": "IPY_MODEL_0465d57e38d4435da8a5609e7cf3f21a",
       "max": 157,
       "style": "IPY_MODEL_5d0c14cd49364d8faa40cdac586f5ce9",
       "value": 157
      }
     },
     "cb72d9fb79fd43f7be747ead7fd2c617": {
      "model_module": "@jupyter-widgets/controls",
      "model_module_version": "1.5.0",
      "model_name": "HTMLModel",
      "state": {
       "layout": "IPY_MODEL_2ae20dc7101947c3bd47d2ad6fe900c6",
       "style": "IPY_MODEL_37f6a5389e434639910ef0af9a2f1566",
       "value": " 1563/1563 [02:34&lt;00:00, 10.71it/s]"
      }
     },
     "cbcb4f7686494f9a8f3333e90b2bea90": {
      "model_module": "@jupyter-widgets/controls",
      "model_module_version": "1.5.0",
      "model_name": "FloatProgressModel",
      "state": {
       "description": "train loss: 2.9359: 100%",
       "layout": "IPY_MODEL_02f16c2608d64e5faf7ea28bda8f8baa",
       "max": 1563,
       "style": "IPY_MODEL_bda47ccfe3f742af9c484f8b2454b292",
       "value": 1563
      }
     },
     "cbcee18146a944579e535b98cedabcb1": {
      "model_module": "@jupyter-widgets/controls",
      "model_module_version": "1.5.0",
      "model_name": "DescriptionStyleModel",
      "state": {
       "description_width": ""
      }
     },
     "cbf0633e98ea41739666306fff0a1588": {
      "model_module": "@jupyter-widgets/controls",
      "model_module_version": "1.5.0",
      "model_name": "DescriptionStyleModel",
      "state": {
       "description_width": ""
      }
     },
     "cc108e4f5fe44d1c8bef014a5ba82096": {
      "model_module": "@jupyter-widgets/controls",
      "model_module_version": "1.5.0",
      "model_name": "ProgressStyleModel",
      "state": {
       "description_width": "initial"
      }
     },
     "cc1d2e0af6f24f688e4e92891e25cd08": {
      "model_module": "@jupyter-widgets/controls",
      "model_module_version": "1.5.0",
      "model_name": "HBoxModel",
      "state": {
       "children": [
        "IPY_MODEL_c21d5d53581445ff935a75a0b32c34e1",
        "IPY_MODEL_85493d57bbe9496aac67c148568b197c"
       ],
       "layout": "IPY_MODEL_13e5e328ecad4dd49309878a4d414d4c"
      }
     },
     "cc686d9d11924ef1b9f2070b21f7cb6e": {
      "model_module": "@jupyter-widgets/controls",
      "model_module_version": "1.5.0",
      "model_name": "FloatProgressModel",
      "state": {
       "description": "val loss: 4.7834: 100%",
       "layout": "IPY_MODEL_2ba29ec8dff84ddaace8bff5cd92e4ad",
       "max": 157,
       "style": "IPY_MODEL_c70fd2f5827d497f852ce83e830d5b6d",
       "value": 157
      }
     },
     "cc77abc39848469e9be199e01650edda": {
      "model_module": "@jupyter-widgets/base",
      "model_module_version": "1.2.0",
      "model_name": "LayoutModel",
      "state": {}
     },
     "cc839a0afd1141c39c17f1ac981f604e": {
      "model_module": "@jupyter-widgets/base",
      "model_module_version": "1.2.0",
      "model_name": "LayoutModel",
      "state": {}
     },
     "cc876af250934df488b1c73a94a28989": {
      "model_module": "@jupyter-widgets/controls",
      "model_module_version": "1.5.0",
      "model_name": "DescriptionStyleModel",
      "state": {
       "description_width": ""
      }
     },
     "cc957cfc13e849d5bb2f0804ef13dcdf": {
      "model_module": "@jupyter-widgets/base",
      "model_module_version": "1.2.0",
      "model_name": "LayoutModel",
      "state": {}
     },
     "cc9c6313c0b042bcac2043c10c47967d": {
      "model_module": "@jupyter-widgets/controls",
      "model_module_version": "1.5.0",
      "model_name": "DescriptionStyleModel",
      "state": {
       "description_width": ""
      }
     },
     "cced3db6b6704f40940416a9a0174860": {
      "model_module": "@jupyter-widgets/base",
      "model_module_version": "1.2.0",
      "model_name": "LayoutModel",
      "state": {}
     },
     "ccee667b7e974e1d8baddb1c9489a367": {
      "model_module": "@jupyter-widgets/base",
      "model_module_version": "1.2.0",
      "model_name": "LayoutModel",
      "state": {}
     },
     "cd2f0f2a90d04a2999de15ab280e3794": {
      "model_module": "@jupyter-widgets/controls",
      "model_module_version": "1.5.0",
      "model_name": "DescriptionStyleModel",
      "state": {
       "description_width": ""
      }
     },
     "cd505c73035f40a1ac3fbc3e75cbb8e0": {
      "model_module": "@jupyter-widgets/base",
      "model_module_version": "1.2.0",
      "model_name": "LayoutModel",
      "state": {}
     },
     "cd58a74d954a43178bb60948cabf70ff": {
      "model_module": "@jupyter-widgets/base",
      "model_module_version": "1.2.0",
      "model_name": "LayoutModel",
      "state": {}
     },
     "cd62004f74254a89af6729446769c47e": {
      "model_module": "@jupyter-widgets/controls",
      "model_module_version": "1.5.0",
      "model_name": "HTMLModel",
      "state": {
       "layout": "IPY_MODEL_37617f98b8104e08984f4b537ada4af9",
       "style": "IPY_MODEL_04888bdb33d84257bcddb629b1f3644f",
       "value": " 408/1563 [00:40&lt;01:55,  9.98it/s]"
      }
     },
     "cd68909d850c401a8b306f8020d07af4": {
      "model_module": "@jupyter-widgets/base",
      "model_module_version": "1.2.0",
      "model_name": "LayoutModel",
      "state": {}
     },
     "cd7014f32b104f898b302573261f9f52": {
      "model_module": "@jupyter-widgets/controls",
      "model_module_version": "1.5.0",
      "model_name": "ProgressStyleModel",
      "state": {
       "description_width": "initial"
      }
     },
     "cd720c7a8c074342814206eb217a8505": {
      "model_module": "@jupyter-widgets/controls",
      "model_module_version": "1.5.0",
      "model_name": "FloatProgressModel",
      "state": {
       "description": "val loss: 4.6696: 100%",
       "layout": "IPY_MODEL_f3f93d86e1914c6595a98f04ff3f28c0",
       "max": 157,
       "style": "IPY_MODEL_098c8ad8fccd49178aa3d3269275fe5c",
       "value": 157
      }
     },
     "cd779b2eabcb4bc29d8ebd79650790c9": {
      "model_module": "@jupyter-widgets/base",
      "model_module_version": "1.2.0",
      "model_name": "LayoutModel",
      "state": {}
     },
     "cdb6cdfc63fe40bf9838943ab6b40a6d": {
      "model_module": "@jupyter-widgets/controls",
      "model_module_version": "1.5.0",
      "model_name": "DescriptionStyleModel",
      "state": {
       "description_width": ""
      }
     },
     "cdd591c4c57c48ee84545f0e41f904ef": {
      "model_module": "@jupyter-widgets/base",
      "model_module_version": "1.2.0",
      "model_name": "LayoutModel",
      "state": {}
     },
     "cddd63649490488c9ff6ba337779f1f1": {
      "model_module": "@jupyter-widgets/controls",
      "model_module_version": "1.5.0",
      "model_name": "ProgressStyleModel",
      "state": {
       "description_width": "initial"
      }
     },
     "cde5be2c460342669eb5b6fc5a23935d": {
      "model_module": "@jupyter-widgets/controls",
      "model_module_version": "1.5.0",
      "model_name": "ProgressStyleModel",
      "state": {
       "description_width": "initial"
      }
     },
     "cdeb0c59b9d84e4b9e9483dffee7b894": {
      "model_module": "@jupyter-widgets/controls",
      "model_module_version": "1.5.0",
      "model_name": "FloatProgressModel",
      "state": {
       "description": "train loss: 3.5081: 100%",
       "layout": "IPY_MODEL_73c9db66d1434d7699d4adb85d7331cc",
       "max": 1563,
       "style": "IPY_MODEL_e7c06c9df6934d9fa2cbf311a4008421",
       "value": 1563
      }
     },
     "cdf1493620134a6bae6dfe642254e82f": {
      "model_module": "@jupyter-widgets/controls",
      "model_module_version": "1.5.0",
      "model_name": "DescriptionStyleModel",
      "state": {
       "description_width": ""
      }
     },
     "cdf76532019940aaa04e3a6ea0b74621": {
      "model_module": "@jupyter-widgets/controls",
      "model_module_version": "1.5.0",
      "model_name": "DescriptionStyleModel",
      "state": {
       "description_width": ""
      }
     },
     "cdfb5a3985fc470dab70499ee716f736": {
      "model_module": "@jupyter-widgets/controls",
      "model_module_version": "1.5.0",
      "model_name": "HTMLModel",
      "state": {
       "layout": "IPY_MODEL_171e48507bbf44fd848049ca72e2c2f6",
       "style": "IPY_MODEL_9933df94363d40729e1b7a10c623f5c2",
       "value": " 90/1563 [01:22&lt;22:14,  1.10it/s]"
      }
     },
     "ce0338c7bf0d4b298b52268943a82d00": {
      "model_module": "@jupyter-widgets/controls",
      "model_module_version": "1.5.0",
      "model_name": "HTMLModel",
      "state": {
       "layout": "IPY_MODEL_3712294417bf4dff8f36ec82f45effba",
       "style": "IPY_MODEL_dedaad6d0e9d4bb2ba9b1d28dff41237",
       "value": " 157/157 [00:10&lt;00:00, 15.58it/s]"
      }
     },
     "ce0bacf37c544d828388ac988c5ace45": {
      "model_module": "@jupyter-widgets/controls",
      "model_module_version": "1.5.0",
      "model_name": "FloatProgressModel",
      "state": {
       "description": "val loss: 4.1622: 100%",
       "layout": "IPY_MODEL_9d4869c970a94f4595873be7028509ff",
       "max": 157,
       "style": "IPY_MODEL_84014ffdf72647bd8ab653805c82de4e",
       "value": 157
      }
     },
     "ce3515a30e9d415abda620fec741b403": {
      "model_module": "@jupyter-widgets/base",
      "model_module_version": "1.2.0",
      "model_name": "LayoutModel",
      "state": {}
     },
     "ce35a4f5f0244a60b732a0b8b8123709": {
      "model_module": "@jupyter-widgets/base",
      "model_module_version": "1.2.0",
      "model_name": "LayoutModel",
      "state": {}
     },
     "ce465c9bd59b426c8da76384d5c6b797": {
      "model_module": "@jupyter-widgets/base",
      "model_module_version": "1.2.0",
      "model_name": "LayoutModel",
      "state": {}
     },
     "cebddf98a58b4d7fb566c00d48f79194": {
      "model_module": "@jupyter-widgets/base",
      "model_module_version": "1.2.0",
      "model_name": "LayoutModel",
      "state": {}
     },
     "cec6c88a192c424ea760bcb96d3d5d63": {
      "model_module": "@jupyter-widgets/controls",
      "model_module_version": "1.5.0",
      "model_name": "FloatProgressModel",
      "state": {
       "description": "train loss: 4.1096: 100%",
       "layout": "IPY_MODEL_90aa9ec2f60e4c919b88be7a66a35e02",
       "max": 1563,
       "style": "IPY_MODEL_2c33e60b29ff4def86e2e1e158080631",
       "value": 1563
      }
     },
     "cec8bbffdb4244cab5407951775f0e30": {
      "model_module": "@jupyter-widgets/controls",
      "model_module_version": "1.5.0",
      "model_name": "DescriptionStyleModel",
      "state": {
       "description_width": ""
      }
     },
     "cf01ce9ff27948cc961523d156db7831": {
      "model_module": "@jupyter-widgets/base",
      "model_module_version": "1.2.0",
      "model_name": "LayoutModel",
      "state": {}
     },
     "cf379f62af8440229412df7b30965531": {
      "model_module": "@jupyter-widgets/base",
      "model_module_version": "1.2.0",
      "model_name": "LayoutModel",
      "state": {}
     },
     "cf3ead10617941d7823aa330e4d9595b": {
      "model_module": "@jupyter-widgets/controls",
      "model_module_version": "1.5.0",
      "model_name": "ProgressStyleModel",
      "state": {
       "description_width": "initial"
      }
     },
     "cf4918c8d8ef495ab8f3d18b64617b69": {
      "model_module": "@jupyter-widgets/base",
      "model_module_version": "1.2.0",
      "model_name": "LayoutModel",
      "state": {}
     },
     "cf49f97268454628ae68af2906977123": {
      "model_module": "@jupyter-widgets/base",
      "model_module_version": "1.2.0",
      "model_name": "LayoutModel",
      "state": {}
     },
     "cf60b13c8ee84fa8a4bacf0ef07c5a08": {
      "model_module": "@jupyter-widgets/base",
      "model_module_version": "1.2.0",
      "model_name": "LayoutModel",
      "state": {}
     },
     "cf62cd7b6155490dbdfef29063c031b3": {
      "model_module": "@jupyter-widgets/base",
      "model_module_version": "1.2.0",
      "model_name": "LayoutModel",
      "state": {}
     },
     "cf64a592acde46d8b955cecb53c66296": {
      "model_module": "@jupyter-widgets/controls",
      "model_module_version": "1.5.0",
      "model_name": "DescriptionStyleModel",
      "state": {
       "description_width": ""
      }
     },
     "cf6a20e02c37446bac505a5b75bc387b": {
      "model_module": "@jupyter-widgets/controls",
      "model_module_version": "1.5.0",
      "model_name": "FloatProgressModel",
      "state": {
       "description": "train loss: 4.1453: 100%",
       "layout": "IPY_MODEL_b09eb1891af5430f9b914755ea754bc4",
       "max": 1563,
       "style": "IPY_MODEL_3debcc8c8041485da7954782eef38b83",
       "value": 1563
      }
     },
     "cf6e3169e6984d0f807639ba33c17542": {
      "model_module": "@jupyter-widgets/controls",
      "model_module_version": "1.5.0",
      "model_name": "FloatProgressModel",
      "state": {
       "description": "val loss: 4.1011: 100%",
       "layout": "IPY_MODEL_e85d6eb287f545acac499b0cf7c6c8f3",
       "max": 157,
       "style": "IPY_MODEL_5698343619cf46679a31babfb6c97cdf",
       "value": 157
      }
     },
     "cf717ff28d7d4e2cad703303ece33740": {
      "model_module": "@jupyter-widgets/base",
      "model_module_version": "1.2.0",
      "model_name": "LayoutModel",
      "state": {}
     },
     "cf7c527249a64b9d9e64683007e1673f": {
      "model_module": "@jupyter-widgets/controls",
      "model_module_version": "1.5.0",
      "model_name": "DescriptionStyleModel",
      "state": {
       "description_width": ""
      }
     },
     "cf7e943dd7f9474b8627511ebe0c1957": {
      "model_module": "@jupyter-widgets/base",
      "model_module_version": "1.2.0",
      "model_name": "LayoutModel",
      "state": {}
     },
     "cf8053bfb25e469eb851cf7152214b59": {
      "model_module": "@jupyter-widgets/base",
      "model_module_version": "1.2.0",
      "model_name": "LayoutModel",
      "state": {}
     },
     "cf814167f6e744b5a434bc39243c0c97": {
      "model_module": "@jupyter-widgets/controls",
      "model_module_version": "1.5.0",
      "model_name": "HTMLModel",
      "state": {
       "layout": "IPY_MODEL_c9d6c5f4db5b4df48911039c615aac6c",
       "style": "IPY_MODEL_911ebb4977104bb39fde3a8eaf4f3f79",
       "value": " 1563/1563 [05:31&lt;00:00,  5.50it/s]"
      }
     },
     "cf93be0943124a6f83e7082800aa89b0": {
      "model_module": "@jupyter-widgets/base",
      "model_module_version": "1.2.0",
      "model_name": "LayoutModel",
      "state": {}
     },
     "cf9f27e6e8b94a8ea381a46d8d39817c": {
      "model_module": "@jupyter-widgets/controls",
      "model_module_version": "1.5.0",
      "model_name": "HTMLModel",
      "state": {
       "layout": "IPY_MODEL_8c6919cb52104edb82acd6ec4ec74eb7",
       "style": "IPY_MODEL_95652a8a8ee940f18c324b7ddaff24fa",
       "value": " 85/1563 [22:26:06&lt;02:24, 10.25it/s]"
      }
     },
     "cfa0dd3a86804d24ae1bbed66efb115a": {
      "model_module": "@jupyter-widgets/controls",
      "model_module_version": "1.5.0",
      "model_name": "HTMLModel",
      "state": {
       "layout": "IPY_MODEL_5220d9391ea041e8a9b512fb00e45454",
       "style": "IPY_MODEL_60007061f1974ce08f9079b88bea32eb",
       "value": " 157/157 [00:16&lt;00:00,  9.51it/s]"
      }
     },
     "cfb546ce68da450c827e455e82dcc75e": {
      "model_module": "@jupyter-widgets/controls",
      "model_module_version": "1.5.0",
      "model_name": "FloatProgressModel",
      "state": {
       "description": "train loss: 3.1250: 100%",
       "layout": "IPY_MODEL_97e80c75e8e946b8975d7852ec04b707",
       "max": 1563,
       "style": "IPY_MODEL_48f8986217fb495a86357dc145ea5b38",
       "value": 1563
      }
     },
     "cfe1b127bd114220b4dd7cf9741ce68f": {
      "model_module": "@jupyter-widgets/base",
      "model_module_version": "1.2.0",
      "model_name": "LayoutModel",
      "state": {}
     },
     "cfe36229c8294c3a8eac1be68ca1a50f": {
      "model_module": "@jupyter-widgets/controls",
      "model_module_version": "1.5.0",
      "model_name": "HBoxModel",
      "state": {
       "children": [
        "IPY_MODEL_de288334d5dd443fa6a6c8d6da2e4d6c",
        "IPY_MODEL_80aa129127c4459090920d1fdb5290d2"
       ],
       "layout": "IPY_MODEL_472f9d3ae4fa4253a2ea3f9021884422"
      }
     },
     "cff67528093b425dad7a4173a9854f30": {
      "model_module": "@jupyter-widgets/controls",
      "model_module_version": "1.5.0",
      "model_name": "DescriptionStyleModel",
      "state": {
       "description_width": ""
      }
     },
     "d0077422ed2c4b0ea0d2728392c6816c": {
      "model_module": "@jupyter-widgets/controls",
      "model_module_version": "1.5.0",
      "model_name": "HTMLModel",
      "state": {
       "layout": "IPY_MODEL_c21e264e3086474bb4831ed0b258e35b",
       "style": "IPY_MODEL_43953865968a47a5922aedd4ecac3c26",
       "value": " 1563/1563 [05:00&lt;00:00,  5.91it/s]"
      }
     },
     "d00abde1d3c94600bc81ebda2ff1c6d5": {
      "model_module": "@jupyter-widgets/base",
      "model_module_version": "1.2.0",
      "model_name": "LayoutModel",
      "state": {}
     },
     "d01441a5145c4a30b9318ea0549bab13": {
      "model_module": "@jupyter-widgets/base",
      "model_module_version": "1.2.0",
      "model_name": "LayoutModel",
      "state": {}
     },
     "d0200650f7524d4394bebaee84205bb6": {
      "model_module": "@jupyter-widgets/base",
      "model_module_version": "1.2.0",
      "model_name": "LayoutModel",
      "state": {}
     },
     "d02f27f0a9004889b51779172fa65b1a": {
      "model_module": "@jupyter-widgets/controls",
      "model_module_version": "1.5.0",
      "model_name": "HTMLModel",
      "state": {
       "layout": "IPY_MODEL_45613e4ab6e64f789dee5493997b47d5",
       "style": "IPY_MODEL_6cbfef37611a4638a727e29bd278b4b4",
       "value": " 157/157 [00:10&lt;00:00, 15.33it/s]"
      }
     },
     "d02f82632bfe44d5942577f3845b67d0": {
      "model_module": "@jupyter-widgets/base",
      "model_module_version": "1.2.0",
      "model_name": "LayoutModel",
      "state": {}
     },
     "d03210b8d8b446f2a50464d76b1dc95a": {
      "model_module": "@jupyter-widgets/controls",
      "model_module_version": "1.5.0",
      "model_name": "FloatProgressModel",
      "state": {
       "description": "train loss: 3.4557: 100%",
       "layout": "IPY_MODEL_1300dfba05ab410fb749c7dc24dd967d",
       "max": 1563,
       "style": "IPY_MODEL_276542f0a3644bfabd0c851a73b0e0b5",
       "value": 1563
      }
     },
     "d0486b2a9ec34c3993d561ad42997fda": {
      "model_module": "@jupyter-widgets/controls",
      "model_module_version": "1.5.0",
      "model_name": "ProgressStyleModel",
      "state": {
       "description_width": "initial"
      }
     },
     "d05180c3d7904b1d83e749bfd582d628": {
      "model_module": "@jupyter-widgets/controls",
      "model_module_version": "1.5.0",
      "model_name": "HTMLModel",
      "state": {
       "layout": "IPY_MODEL_215dde9406354ea28c8601843f1f01e9",
       "style": "IPY_MODEL_b452da416ffd4070b12943954757eb06",
       "value": " 1563/1563 [02:34&lt;00:00, 10.06it/s]"
      }
     },
     "d0540934104b4a75a0d43310217c4f09": {
      "model_module": "@jupyter-widgets/controls",
      "model_module_version": "1.5.0",
      "model_name": "FloatProgressModel",
      "state": {
       "description": "val loss: 3.4978: 100%",
       "layout": "IPY_MODEL_c3e5b3f26dd044d0b9e698ce1c54c608",
       "max": 157,
       "style": "IPY_MODEL_dc32c92ae31c48d9b7601af17bc399f6",
       "value": 157
      }
     },
     "d069435df3f84d38a09b794cecf192e0": {
      "model_module": "@jupyter-widgets/base",
      "model_module_version": "1.2.0",
      "model_name": "LayoutModel",
      "state": {}
     },
     "d0792cd8c6af4f389a45a81c4ef258cb": {
      "model_module": "@jupyter-widgets/controls",
      "model_module_version": "1.5.0",
      "model_name": "DescriptionStyleModel",
      "state": {
       "description_width": ""
      }
     },
     "d084906dc379470b8d4b1231f654c46a": {
      "model_module": "@jupyter-widgets/controls",
      "model_module_version": "1.5.0",
      "model_name": "DescriptionStyleModel",
      "state": {
       "description_width": ""
      }
     },
     "d08fc36d61d44676b57ebb167dca73ae": {
      "model_module": "@jupyter-widgets/controls",
      "model_module_version": "1.5.0",
      "model_name": "FloatProgressModel",
      "state": {
       "description": "train loss: 4.2216: 100%",
       "layout": "IPY_MODEL_7e44ffde93924dda967c91467e706dd0",
       "max": 1563,
       "style": "IPY_MODEL_0e47a2f84e1a44bdbdfa12e7cc6b0221",
       "value": 1563
      }
     },
     "d099bcebfb9046ae86a84e50f189cffa": {
      "model_module": "@jupyter-widgets/controls",
      "model_module_version": "1.5.0",
      "model_name": "ProgressStyleModel",
      "state": {
       "description_width": "initial"
      }
     },
     "d0bccfe45e814cf7a10b0cf876d6dc82": {
      "model_module": "@jupyter-widgets/controls",
      "model_module_version": "1.5.0",
      "model_name": "DescriptionStyleModel",
      "state": {
       "description_width": ""
      }
     },
     "d0c6067b510c4274a8e0401e82670d6e": {
      "model_module": "@jupyter-widgets/controls",
      "model_module_version": "1.5.0",
      "model_name": "DescriptionStyleModel",
      "state": {
       "description_width": ""
      }
     },
     "d0edcd3e64c440b78fd282130af134e4": {
      "model_module": "@jupyter-widgets/controls",
      "model_module_version": "1.5.0",
      "model_name": "ProgressStyleModel",
      "state": {
       "description_width": "initial"
      }
     },
     "d10d7f389bdb41a5b800a1fb0dc0d229": {
      "model_module": "@jupyter-widgets/base",
      "model_module_version": "1.2.0",
      "model_name": "LayoutModel",
      "state": {}
     },
     "d119a351b7dc4b82a2fd9ff9572dd75c": {
      "model_module": "@jupyter-widgets/controls",
      "model_module_version": "1.5.0",
      "model_name": "FloatProgressModel",
      "state": {
       "description": "train loss: 4.5908: 100%",
       "layout": "IPY_MODEL_315c6e9ff9a84492a52a9161042c5afd",
       "max": 1563,
       "style": "IPY_MODEL_217761dbce5a483c8973f8874e7f71a3",
       "value": 1563
      }
     },
     "d12a46f38038439b9c90cc1b6ee0200a": {
      "model_module": "@jupyter-widgets/base",
      "model_module_version": "1.2.0",
      "model_name": "LayoutModel",
      "state": {}
     },
     "d12a850a5d4448b4870b5a153d264b32": {
      "model_module": "@jupyter-widgets/controls",
      "model_module_version": "1.5.0",
      "model_name": "FloatProgressModel",
      "state": {
       "description": "val loss: 3.8024: 100%",
       "layout": "IPY_MODEL_68a3d97d7b3549da8d5efea286d18418",
       "max": 157,
       "style": "IPY_MODEL_36af802b2fab44adb63593a5b0cc0642",
       "value": 157
      }
     },
     "d12c14dee1104737bf612bd6acfdaae2": {
      "model_module": "@jupyter-widgets/controls",
      "model_module_version": "1.5.0",
      "model_name": "DescriptionStyleModel",
      "state": {
       "description_width": ""
      }
     },
     "d1534431b40e4ac4993e875f654607e4": {
      "model_module": "@jupyter-widgets/controls",
      "model_module_version": "1.5.0",
      "model_name": "DescriptionStyleModel",
      "state": {
       "description_width": ""
      }
     },
     "d15d50d857df4767a2f875f2d47f9f62": {
      "model_module": "@jupyter-widgets/base",
      "model_module_version": "1.2.0",
      "model_name": "LayoutModel",
      "state": {}
     },
     "d19a7684209543719f93413e78292210": {
      "model_module": "@jupyter-widgets/controls",
      "model_module_version": "1.5.0",
      "model_name": "ProgressStyleModel",
      "state": {
       "description_width": "initial"
      }
     },
     "d19b79413e8741169882108afc3c681e": {
      "model_module": "@jupyter-widgets/base",
      "model_module_version": "1.2.0",
      "model_name": "LayoutModel",
      "state": {}
     },
     "d19df15c071248ab8461bae94ccaa607": {
      "model_module": "@jupyter-widgets/controls",
      "model_module_version": "1.5.0",
      "model_name": "ProgressStyleModel",
      "state": {
       "description_width": "initial"
      }
     },
     "d1b1b6778f1047aeb70b998338f07bd6": {
      "model_module": "@jupyter-widgets/base",
      "model_module_version": "1.2.0",
      "model_name": "LayoutModel",
      "state": {}
     },
     "d1b87078d9c546068f3b93bf7946b072": {
      "model_module": "@jupyter-widgets/base",
      "model_module_version": "1.2.0",
      "model_name": "LayoutModel",
      "state": {}
     },
     "d1dc3c1f22054bcf921c11e933ae22b8": {
      "model_module": "@jupyter-widgets/controls",
      "model_module_version": "1.5.0",
      "model_name": "HTMLModel",
      "state": {
       "layout": "IPY_MODEL_769cde29bf3a4fb4b3a23b2036c57374",
       "style": "IPY_MODEL_a5fb3a75d9bd4f8cadbbea7fef421cf7",
       "value": " 1563/1563 [02:35&lt;00:00, 10.85it/s]"
      }
     },
     "d25699ee8f874ef8b592866528f43fef": {
      "model_module": "@jupyter-widgets/controls",
      "model_module_version": "1.5.0",
      "model_name": "DescriptionStyleModel",
      "state": {
       "description_width": ""
      }
     },
     "d26ee458fada49ad854f1a291537dfe4": {
      "model_module": "@jupyter-widgets/controls",
      "model_module_version": "1.5.0",
      "model_name": "ProgressStyleModel",
      "state": {
       "description_width": "initial"
      }
     },
     "d2805289bf084d0fa7b7b6144cb6c168": {
      "model_module": "@jupyter-widgets/controls",
      "model_module_version": "1.5.0",
      "model_name": "DescriptionStyleModel",
      "state": {
       "description_width": ""
      }
     },
     "d284697d6ec640dbac8316d75db663c7": {
      "model_module": "@jupyter-widgets/base",
      "model_module_version": "1.2.0",
      "model_name": "LayoutModel",
      "state": {}
     },
     "d293e101fa2d4f6ca3de4f2ce6c07019": {
      "model_module": "@jupyter-widgets/controls",
      "model_module_version": "1.5.0",
      "model_name": "ProgressStyleModel",
      "state": {
       "description_width": "initial"
      }
     },
     "d294d0e8deca4bdbb153972a21b2ebcc": {
      "model_module": "@jupyter-widgets/controls",
      "model_module_version": "1.5.0",
      "model_name": "HTMLModel",
      "state": {
       "layout": "IPY_MODEL_40bc2a4702b24adebb51450f1b3daabf",
       "style": "IPY_MODEL_9771d5586fc343c0ba7f7d8b37ec3a65",
       "value": " 157/157 [00:09&lt;00:00, 16.27it/s]"
      }
     },
     "d2ad822bd46c4a3e88dbed737a6888e7": {
      "model_module": "@jupyter-widgets/controls",
      "model_module_version": "1.5.0",
      "model_name": "HTMLModel",
      "state": {
       "layout": "IPY_MODEL_d15d50d857df4767a2f875f2d47f9f62",
       "style": "IPY_MODEL_75f5078f4b33430c808c15851ac0618f",
       "value": " 1563/1563 [02:32&lt;00:00, 10.07it/s]"
      }
     },
     "d2bbf2ad648941d38a2364392a14165c": {
      "model_module": "@jupyter-widgets/base",
      "model_module_version": "1.2.0",
      "model_name": "LayoutModel",
      "state": {}
     },
     "d2e316b7a1ed49189cf876013c0566ad": {
      "model_module": "@jupyter-widgets/base",
      "model_module_version": "1.2.0",
      "model_name": "LayoutModel",
      "state": {}
     },
     "d2ea870e48bc40579d1f31462524d450": {
      "model_module": "@jupyter-widgets/base",
      "model_module_version": "1.2.0",
      "model_name": "LayoutModel",
      "state": {}
     },
     "d2f730bb26cb445c9ebc03e9af3c5784": {
      "model_module": "@jupyter-widgets/controls",
      "model_module_version": "1.5.0",
      "model_name": "HBoxModel",
      "state": {
       "children": [
        "IPY_MODEL_e76c9354853644ecadb412f0296d471d",
        "IPY_MODEL_b756929d3b234618b5047ed59a780de0"
       ],
       "layout": "IPY_MODEL_5245b7b1b5234d389b0e06b346eeceb3"
      }
     },
     "d2fc009223014c9898a9c2ea47d931ce": {
      "model_module": "@jupyter-widgets/controls",
      "model_module_version": "1.5.0",
      "model_name": "FloatProgressModel",
      "state": {
       "description": "train loss: 3.1480: 100%",
       "layout": "IPY_MODEL_6ab7929f667044769e9f0a369ad4e275",
       "max": 1563,
       "style": "IPY_MODEL_39abf0dcb95b40f0a7e3d337d6f6c856",
       "value": 1563
      }
     },
     "d300fc9c73184cb49dce0492ce864733": {
      "model_module": "@jupyter-widgets/controls",
      "model_module_version": "1.5.0",
      "model_name": "HTMLModel",
      "state": {
       "layout": "IPY_MODEL_f1ab5e741b01457987cc6e46778c7a41",
       "style": "IPY_MODEL_d719507d378f425fabb074713bbf8666",
       "value": " 10/10 [27:53&lt;00:00, 167.32s/it]"
      }
     },
     "d3101db92e28493eb2c8920d23f0f25e": {
      "model_module": "@jupyter-widgets/controls",
      "model_module_version": "1.5.0",
      "model_name": "FloatProgressModel",
      "state": {
       "bar_style": "danger",
       "description": "Train Loss: 3.6760 - Val Loss: 4.2826:  90%",
       "layout": "IPY_MODEL_d982d4750b794753a8d458f89e0d95a1",
       "max": 10,
       "style": "IPY_MODEL_b9c02e354cad49fba4f53c3116cf41fe",
       "value": 9
      }
     },
     "d32a07dd6d1d4e189f9282aa62befe95": {
      "model_module": "@jupyter-widgets/base",
      "model_module_version": "1.2.0",
      "model_name": "LayoutModel",
      "state": {}
     },
     "d32e98b0c32c475ba9abca5a29e34bdf": {
      "model_module": "@jupyter-widgets/controls",
      "model_module_version": "1.5.0",
      "model_name": "DescriptionStyleModel",
      "state": {
       "description_width": ""
      }
     },
     "d32fe3daf3654fc2908b561bd6ff0f67": {
      "model_module": "@jupyter-widgets/controls",
      "model_module_version": "1.5.0",
      "model_name": "FloatProgressModel",
      "state": {
       "description": "train loss: 3.9961: 100%",
       "layout": "IPY_MODEL_e4bc7ee73ea44abab29028c5e6072f76",
       "max": 1563,
       "style": "IPY_MODEL_2b30f0559917420c83577af980eebf0f",
       "value": 1563
      }
     },
     "d3331ccb7a764d24981cdeb1f79253ce": {
      "model_module": "@jupyter-widgets/base",
      "model_module_version": "1.2.0",
      "model_name": "LayoutModel",
      "state": {}
     },
     "d3573dfcc092435e815cf8f97fc519f4": {
      "model_module": "@jupyter-widgets/controls",
      "model_module_version": "1.5.0",
      "model_name": "DescriptionStyleModel",
      "state": {
       "description_width": ""
      }
     },
     "d369b24d0f244a92894803c057d35eb0": {
      "model_module": "@jupyter-widgets/base",
      "model_module_version": "1.2.0",
      "model_name": "LayoutModel",
      "state": {}
     },
     "d37393925b5547a292d32b08ebd3ec79": {
      "model_module": "@jupyter-widgets/base",
      "model_module_version": "1.2.0",
      "model_name": "LayoutModel",
      "state": {}
     },
     "d39ad73ce22443c6a0f118b341bbcd57": {
      "model_module": "@jupyter-widgets/base",
      "model_module_version": "1.2.0",
      "model_name": "LayoutModel",
      "state": {}
     },
     "d39ed148b20a4347811be1494ec035ce": {
      "model_module": "@jupyter-widgets/base",
      "model_module_version": "1.2.0",
      "model_name": "LayoutModel",
      "state": {}
     },
     "d3a884099402438fb2da34f93b333bbf": {
      "model_module": "@jupyter-widgets/controls",
      "model_module_version": "1.5.0",
      "model_name": "ProgressStyleModel",
      "state": {
       "description_width": "initial"
      }
     },
     "d3c90451da9e4865978ef2021b8a39df": {
      "model_module": "@jupyter-widgets/controls",
      "model_module_version": "1.5.0",
      "model_name": "HTMLModel",
      "state": {
       "layout": "IPY_MODEL_50a4523d9e8d42bf9eb2fceed610b9fc",
       "style": "IPY_MODEL_f4b86b5ee1a640bc833f5b8bf6a9f3ca",
       "value": " 1563/1563 [05:00&lt;00:00,  5.95it/s]"
      }
     },
     "d3cb74aa44744ff1a58bb65e301e4fed": {
      "model_module": "@jupyter-widgets/controls",
      "model_module_version": "1.5.0",
      "model_name": "HBoxModel",
      "state": {
       "children": [
        "IPY_MODEL_d8fe79cc567f48b48b7c4bfebe317450",
        "IPY_MODEL_839fed7b381a4e8badf6849067041057"
       ],
       "layout": "IPY_MODEL_98e095c276fc4704934bd5c714ff619d"
      }
     },
     "d3e97f77f24f47eab6a7a172ebd2f124": {
      "model_module": "@jupyter-widgets/controls",
      "model_module_version": "1.5.0",
      "model_name": "FloatProgressModel",
      "state": {
       "description": "val loss: 2.3871: 100%",
       "layout": "IPY_MODEL_f1663670b2ff4fe68f032752a4dc13b4",
       "max": 157,
       "style": "IPY_MODEL_6fd6513748b845cfbe533d4b4fbb5816",
       "value": 157
      }
     },
     "d40af8fd540241a9872fc2068f846cd3": {
      "model_module": "@jupyter-widgets/controls",
      "model_module_version": "1.5.0",
      "model_name": "FloatProgressModel",
      "state": {
       "bar_style": "danger",
       "description": "train loss: 5.3009:  26%",
       "layout": "IPY_MODEL_8f70e46bfd5b47cf890bf9b3b82417d4",
       "max": 1563,
       "style": "IPY_MODEL_0e5b8cc45b2a4e60a9281aa8d71e3ba7",
       "value": 408
      }
     },
     "d40b2e98b9c84bcb8e5062c193b0a7ad": {
      "model_module": "@jupyter-widgets/base",
      "model_module_version": "1.2.0",
      "model_name": "LayoutModel",
      "state": {}
     },
     "d415813f803f466abd80efcecf8556f9": {
      "model_module": "@jupyter-widgets/controls",
      "model_module_version": "1.5.0",
      "model_name": "HTMLModel",
      "state": {
       "layout": "IPY_MODEL_3cdbf0fc03d54060a9a2cc503bb706dd",
       "style": "IPY_MODEL_eb5f58f13b844359be1d14846d341765",
       "value": " 1563/1563 [02:34&lt;00:00, 10.33it/s]"
      }
     },
     "d42909890a354f15acdef4ed559b5dc6": {
      "model_module": "@jupyter-widgets/controls",
      "model_module_version": "1.5.0",
      "model_name": "FloatProgressModel",
      "state": {
       "description": "val loss: 4.7339: 100%",
       "layout": "IPY_MODEL_0e5e0a5772124d3aaea27ef67dfbd29b",
       "max": 157,
       "style": "IPY_MODEL_4647ef0dbd6745238400d451e8ff2738",
       "value": 157
      }
     },
     "d44fc205ac5544bcaf7f101b878a8adf": {
      "model_module": "@jupyter-widgets/base",
      "model_module_version": "1.2.0",
      "model_name": "LayoutModel",
      "state": {}
     },
     "d45d4fc6d718499d99e8f152e4ea9ffe": {
      "model_module": "@jupyter-widgets/base",
      "model_module_version": "1.2.0",
      "model_name": "LayoutModel",
      "state": {}
     },
     "d463f83913cc4fda9499a1b157c66152": {
      "model_module": "@jupyter-widgets/controls",
      "model_module_version": "1.5.0",
      "model_name": "DescriptionStyleModel",
      "state": {
       "description_width": ""
      }
     },
     "d4b306e0371f4e0fb890d767ce54bb86": {
      "model_module": "@jupyter-widgets/controls",
      "model_module_version": "1.5.0",
      "model_name": "DescriptionStyleModel",
      "state": {
       "description_width": ""
      }
     },
     "d4d3525c5c4146a4a7cd170aba435bed": {
      "model_module": "@jupyter-widgets/controls",
      "model_module_version": "1.5.0",
      "model_name": "ProgressStyleModel",
      "state": {
       "description_width": "initial"
      }
     },
     "d4ebf745c58e44e78fb578f41e30a09f": {
      "model_module": "@jupyter-widgets/base",
      "model_module_version": "1.2.0",
      "model_name": "LayoutModel",
      "state": {}
     },
     "d4eea3d6464e4fb3b2f5749ebbd8da8c": {
      "model_module": "@jupyter-widgets/base",
      "model_module_version": "1.2.0",
      "model_name": "LayoutModel",
      "state": {}
     },
     "d4efce9f0cee4fbdb3ca7024ada46812": {
      "model_module": "@jupyter-widgets/base",
      "model_module_version": "1.2.0",
      "model_name": "LayoutModel",
      "state": {}
     },
     "d4f00e995fe84915a8048b4d869b690e": {
      "model_module": "@jupyter-widgets/controls",
      "model_module_version": "1.5.0",
      "model_name": "FloatProgressModel",
      "state": {
       "description": "train loss: 4.4977: 100%",
       "layout": "IPY_MODEL_d0200650f7524d4394bebaee84205bb6",
       "max": 1563,
       "style": "IPY_MODEL_14fc7cca56a347f48373e3b150184347",
       "value": 1563
      }
     },
     "d4f652d4a48046238a2b0c889723d0b5": {
      "model_module": "@jupyter-widgets/controls",
      "model_module_version": "1.5.0",
      "model_name": "ProgressStyleModel",
      "state": {
       "description_width": "initial"
      }
     },
     "d503f1c73d9b48dfa2a8ef19f123f064": {
      "model_module": "@jupyter-widgets/controls",
      "model_module_version": "1.5.0",
      "model_name": "ProgressStyleModel",
      "state": {
       "description_width": "initial"
      }
     },
     "d50df8a4efc84ee2bd35339847f3f5cc": {
      "model_module": "@jupyter-widgets/controls",
      "model_module_version": "1.5.0",
      "model_name": "HTMLModel",
      "state": {
       "layout": "IPY_MODEL_239c64c37ac84d489038d60f057bd82e",
       "style": "IPY_MODEL_746619f83ea0457fa0952c9d3235cb91",
       "value": " 1/10 [13:50&lt;1:53:11, 754.65s/it]"
      }
     },
     "d51990f2f7054ff9a98f6b1231249efd": {
      "model_module": "@jupyter-widgets/base",
      "model_module_version": "1.2.0",
      "model_name": "LayoutModel",
      "state": {}
     },
     "d527038d89224dfd820a1d611ae59db6": {
      "model_module": "@jupyter-widgets/controls",
      "model_module_version": "1.5.0",
      "model_name": "DescriptionStyleModel",
      "state": {
       "description_width": ""
      }
     },
     "d530d1aee8664de0a32b69f4592b4bdb": {
      "model_module": "@jupyter-widgets/base",
      "model_module_version": "1.2.0",
      "model_name": "LayoutModel",
      "state": {}
     },
     "d542687fd702447abe96e4ec73863181": {
      "model_module": "@jupyter-widgets/base",
      "model_module_version": "1.2.0",
      "model_name": "LayoutModel",
      "state": {}
     },
     "d54deba926a74014aa43ef9e603d3ad5": {
      "model_module": "@jupyter-widgets/base",
      "model_module_version": "1.2.0",
      "model_name": "LayoutModel",
      "state": {}
     },
     "d554eeaf049546c0a2e17b28426bb2ea": {
      "model_module": "@jupyter-widgets/controls",
      "model_module_version": "1.5.0",
      "model_name": "DescriptionStyleModel",
      "state": {
       "description_width": ""
      }
     },
     "d570b4e06818416db2540b7a5d45b1da": {
      "model_module": "@jupyter-widgets/base",
      "model_module_version": "1.2.0",
      "model_name": "LayoutModel",
      "state": {}
     },
     "d5973881963f4aa09bf0e6d03fc714cb": {
      "model_module": "@jupyter-widgets/base",
      "model_module_version": "1.2.0",
      "model_name": "LayoutModel",
      "state": {}
     },
     "d5b8aa1cde774c6e90b6b35caf1c53c0": {
      "model_module": "@jupyter-widgets/base",
      "model_module_version": "1.2.0",
      "model_name": "LayoutModel",
      "state": {}
     },
     "d5d5f0ae30d742478654bc0dcd204981": {
      "model_module": "@jupyter-widgets/controls",
      "model_module_version": "1.5.0",
      "model_name": "HTMLModel",
      "state": {
       "layout": "IPY_MODEL_d64322456aaa4f65a0eeaf3b1ced6e67",
       "style": "IPY_MODEL_f2bdce98a1704e7899e36abc93fdc38a",
       "value": " 157/157 [00:12&lt;00:00, 12.69it/s]"
      }
     },
     "d5ef6e9fb06148629a9d4b2eead541ec": {
      "model_module": "@jupyter-widgets/base",
      "model_module_version": "1.2.0",
      "model_name": "LayoutModel",
      "state": {}
     },
     "d5ef9e9c9d5d4c2ca63263bd2b6db12c": {
      "model_module": "@jupyter-widgets/base",
      "model_module_version": "1.2.0",
      "model_name": "LayoutModel",
      "state": {}
     },
     "d5ff56af52d646d79c6cee50d4d5f484": {
      "model_module": "@jupyter-widgets/base",
      "model_module_version": "1.2.0",
      "model_name": "LayoutModel",
      "state": {}
     },
     "d60086da605f4336a26d41c1094cd7c6": {
      "model_module": "@jupyter-widgets/controls",
      "model_module_version": "1.5.0",
      "model_name": "HTMLModel",
      "state": {
       "layout": "IPY_MODEL_05ac43d6fc4f47d7a4bd62760d3d1be5",
       "style": "IPY_MODEL_078ba86498b94fd19eb5b3487663c1d0",
       "value": " 157/157 [00:16&lt;00:00,  9.59it/s]"
      }
     },
     "d613a64427f14d63a156a4774ce2e6d5": {
      "model_module": "@jupyter-widgets/base",
      "model_module_version": "1.2.0",
      "model_name": "LayoutModel",
      "state": {}
     },
     "d64322456aaa4f65a0eeaf3b1ced6e67": {
      "model_module": "@jupyter-widgets/base",
      "model_module_version": "1.2.0",
      "model_name": "LayoutModel",
      "state": {}
     },
     "d6478828699143fe96f22847fa8dc82b": {
      "model_module": "@jupyter-widgets/controls",
      "model_module_version": "1.5.0",
      "model_name": "DescriptionStyleModel",
      "state": {
       "description_width": ""
      }
     },
     "d64fc9a563874555b3920fbea8ba8ae2": {
      "model_module": "@jupyter-widgets/controls",
      "model_module_version": "1.5.0",
      "model_name": "HTMLModel",
      "state": {
       "layout": "IPY_MODEL_d70555101a814902887a5947e7ddc287",
       "style": "IPY_MODEL_bac3079ee0df4eed90e35bb87c54271e",
       "value": " 157/157 [00:14&lt;00:00, 10.64it/s]"
      }
     },
     "d65d2ad0dc7448f4a2c3940ad1e2246e": {
      "model_module": "@jupyter-widgets/controls",
      "model_module_version": "1.5.0",
      "model_name": "FloatProgressModel",
      "state": {
       "description": "train loss: 2.6935: 100%",
       "layout": "IPY_MODEL_81fa9aabd268406cb39a7613c9deb7d0",
       "max": 1563,
       "style": "IPY_MODEL_b041e2be44db441ca9e9b06daff8ffc3",
       "value": 1563
      }
     },
     "d67b1dbd706741a89a72c47f302f6875": {
      "model_module": "@jupyter-widgets/controls",
      "model_module_version": "1.5.0",
      "model_name": "HTMLModel",
      "state": {
       "layout": "IPY_MODEL_10bb299da9294597806e94fb451ab59f",
       "style": "IPY_MODEL_8575012173c545d8857920648c486306",
       "value": " 1563/1563 [04:58&lt;00:00,  6.03it/s]"
      }
     },
     "d68573491a784a77ab53b300ceb3cde8": {
      "model_module": "@jupyter-widgets/controls",
      "model_module_version": "1.5.0",
      "model_name": "DescriptionStyleModel",
      "state": {
       "description_width": ""
      }
     },
     "d68bc229ae594e81bdb11fd5a96db2ae": {
      "model_module": "@jupyter-widgets/controls",
      "model_module_version": "1.5.0",
      "model_name": "DescriptionStyleModel",
      "state": {
       "description_width": ""
      }
     },
     "d6927b44eb264495a2499b85db3711d9": {
      "model_module": "@jupyter-widgets/base",
      "model_module_version": "1.2.0",
      "model_name": "LayoutModel",
      "state": {}
     },
     "d6c00f935c3d4cc5a2718f1e0a83c997": {
      "model_module": "@jupyter-widgets/base",
      "model_module_version": "1.2.0",
      "model_name": "LayoutModel",
      "state": {}
     },
     "d6c064863e0241bb804a4e84f98aeafd": {
      "model_module": "@jupyter-widgets/controls",
      "model_module_version": "1.5.0",
      "model_name": "FloatProgressModel",
      "state": {
       "bar_style": "danger",
       "description": "Train Loss: 4.3667 - Val Loss: 5.8590:  10%",
       "layout": "IPY_MODEL_3a36948ec9294dafb030d13088e64309",
       "max": 10,
       "style": "IPY_MODEL_8419743be6c14575b84d675e48c87e1c",
       "value": 1
      }
     },
     "d6c3473d7c0d47f2a144330e196f0e4d": {
      "model_module": "@jupyter-widgets/controls",
      "model_module_version": "1.5.0",
      "model_name": "DescriptionStyleModel",
      "state": {
       "description_width": ""
      }
     },
     "d6d13fc88f344796957c3f14c876d777": {
      "model_module": "@jupyter-widgets/base",
      "model_module_version": "1.2.0",
      "model_name": "LayoutModel",
      "state": {}
     },
     "d6e9c7837fb74594a639746fb2de371c": {
      "model_module": "@jupyter-widgets/controls",
      "model_module_version": "1.5.0",
      "model_name": "FloatProgressModel",
      "state": {
       "description": "train loss: 4.8707: 100%",
       "layout": "IPY_MODEL_63dfeb0a974d4e029448b597812c5fd2",
       "max": 1563,
       "style": "IPY_MODEL_c0ef2cf65bc14028a1bb3367cf6f84ba",
       "value": 1563
      }
     },
     "d6f9aa2759014b53959323919e7b12e4": {
      "model_module": "@jupyter-widgets/base",
      "model_module_version": "1.2.0",
      "model_name": "LayoutModel",
      "state": {}
     },
     "d70555101a814902887a5947e7ddc287": {
      "model_module": "@jupyter-widgets/base",
      "model_module_version": "1.2.0",
      "model_name": "LayoutModel",
      "state": {}
     },
     "d713abb7ac5343908686c68d72cfd67e": {
      "model_module": "@jupyter-widgets/base",
      "model_module_version": "1.2.0",
      "model_name": "LayoutModel",
      "state": {}
     },
     "d719507d378f425fabb074713bbf8666": {
      "model_module": "@jupyter-widgets/controls",
      "model_module_version": "1.5.0",
      "model_name": "DescriptionStyleModel",
      "state": {
       "description_width": ""
      }
     },
     "d71ba32b39da45478005d1f25eee2312": {
      "model_module": "@jupyter-widgets/base",
      "model_module_version": "1.2.0",
      "model_name": "LayoutModel",
      "state": {}
     },
     "d7276e72155c4ff896bf9a3e1fe73423": {
      "model_module": "@jupyter-widgets/controls",
      "model_module_version": "1.5.0",
      "model_name": "HTMLModel",
      "state": {
       "layout": "IPY_MODEL_4ed84c347ddf4a329e225bee3703f4f6",
       "style": "IPY_MODEL_6a117d11bc3e45a5ae96a696429b84f4",
       "value": " 157/157 [00:09&lt;00:00, 16.42it/s]"
      }
     },
     "d75ba1c5c8c8449aabca69e486fc29b9": {
      "model_module": "@jupyter-widgets/base",
      "model_module_version": "1.2.0",
      "model_name": "LayoutModel",
      "state": {}
     },
     "d75ef3cdbea7491e832cfb3b9dbd41b7": {
      "model_module": "@jupyter-widgets/base",
      "model_module_version": "1.2.0",
      "model_name": "LayoutModel",
      "state": {}
     },
     "d77ff5ee406c4e71ae6eb922bc214b2e": {
      "model_module": "@jupyter-widgets/controls",
      "model_module_version": "1.5.0",
      "model_name": "ProgressStyleModel",
      "state": {
       "description_width": "initial"
      }
     },
     "d780f7ac6dbe4409a2e66426ba8bc895": {
      "model_module": "@jupyter-widgets/controls",
      "model_module_version": "1.5.0",
      "model_name": "DescriptionStyleModel",
      "state": {
       "description_width": ""
      }
     },
     "d7848c5c0481478ebd7c1a307565edd3": {
      "model_module": "@jupyter-widgets/controls",
      "model_module_version": "1.5.0",
      "model_name": "FloatProgressModel",
      "state": {
       "description": "train loss: 3.5030: 100%",
       "layout": "IPY_MODEL_7aebdfa6a3ad4a51b0660e7bd101c020",
       "max": 1563,
       "style": "IPY_MODEL_91becfa7d59a428189a7815097923ca1",
       "value": 1563
      }
     },
     "d7892223278546b6a3178438a12d2771": {
      "model_module": "@jupyter-widgets/controls",
      "model_module_version": "1.5.0",
      "model_name": "HTMLModel",
      "state": {
       "layout": "IPY_MODEL_1ece5019819b4d2386083c56e703abaf",
       "style": "IPY_MODEL_8431017249574e9cb26c6aa5d47aab9d",
       "value": " 1563/1563 [02:34&lt;00:00, 10.97it/s]"
      }
     },
     "d78e3a09896f44fbab5da5081a7aff35": {
      "model_module": "@jupyter-widgets/base",
      "model_module_version": "1.2.0",
      "model_name": "LayoutModel",
      "state": {}
     },
     "d797595a74524159a7ecb76ab2e549e4": {
      "model_module": "@jupyter-widgets/base",
      "model_module_version": "1.2.0",
      "model_name": "LayoutModel",
      "state": {}
     },
     "d7dd4721894d4b689879aee8dc96a2ee": {
      "model_module": "@jupyter-widgets/base",
      "model_module_version": "1.2.0",
      "model_name": "LayoutModel",
      "state": {}
     },
     "d7e8dccc18544fbb879cd7160f8baf71": {
      "model_module": "@jupyter-widgets/controls",
      "model_module_version": "1.5.0",
      "model_name": "DescriptionStyleModel",
      "state": {
       "description_width": ""
      }
     },
     "d81410c5787b404b945e1d6741f5eff3": {
      "model_module": "@jupyter-widgets/base",
      "model_module_version": "1.2.0",
      "model_name": "LayoutModel",
      "state": {}
     },
     "d828ef1bde1242f69f29b1572673a468": {
      "model_module": "@jupyter-widgets/controls",
      "model_module_version": "1.5.0",
      "model_name": "HTMLModel",
      "state": {
       "layout": "IPY_MODEL_c8ea36e7ae1a4449835734fffec48790",
       "style": "IPY_MODEL_aab3a0a289a949328717319ffc59b21b",
       "value": " 157/157 [00:16&lt;00:00,  9.53it/s]"
      }
     },
     "d84c5afb4af540ad8df3f8e5cf449e5f": {
      "model_module": "@jupyter-widgets/controls",
      "model_module_version": "1.5.0",
      "model_name": "FloatProgressModel",
      "state": {
       "description": "val loss: 3.8361: 100%",
       "layout": "IPY_MODEL_4870ea049beb4276919d8f0910610bad",
       "max": 157,
       "style": "IPY_MODEL_81a0cf65259d4246a44f062f6b082666",
       "value": 157
      }
     },
     "d8578470ff0a4f9cb10588a26e28e6a2": {
      "model_module": "@jupyter-widgets/controls",
      "model_module_version": "1.5.0",
      "model_name": "DescriptionStyleModel",
      "state": {
       "description_width": ""
      }
     },
     "d888507c2515462fa3723a0d27e0429f": {
      "model_module": "@jupyter-widgets/controls",
      "model_module_version": "1.5.0",
      "model_name": "HTMLModel",
      "state": {
       "layout": "IPY_MODEL_4bbc08dfce1f42f0b94af14637aa4583",
       "style": "IPY_MODEL_038c94f339e5421389b5f409cf923150",
       "value": " 8/10 [22:56&lt;05:29, 164.68s/it]"
      }
     },
     "d888cf13310a42cbb8a014c5d5c20e9c": {
      "model_module": "@jupyter-widgets/controls",
      "model_module_version": "1.5.0",
      "model_name": "DescriptionStyleModel",
      "state": {
       "description_width": ""
      }
     },
     "d892abf343ce4112b85fe18812902f25": {
      "model_module": "@jupyter-widgets/controls",
      "model_module_version": "1.5.0",
      "model_name": "ProgressStyleModel",
      "state": {
       "description_width": "initial"
      }
     },
     "d8d0fe1e4f7a4d7894797392ae793717": {
      "model_module": "@jupyter-widgets/controls",
      "model_module_version": "1.5.0",
      "model_name": "DescriptionStyleModel",
      "state": {
       "description_width": ""
      }
     },
     "d8e7176f7ce7464d8a2e5fbd4fd9cf75": {
      "model_module": "@jupyter-widgets/base",
      "model_module_version": "1.2.0",
      "model_name": "LayoutModel",
      "state": {}
     },
     "d8fe79cc567f48b48b7c4bfebe317450": {
      "model_module": "@jupyter-widgets/controls",
      "model_module_version": "1.5.0",
      "model_name": "FloatProgressModel",
      "state": {
       "bar_style": "danger",
       "description": "Train Loss: 4.3339 - Val Loss: 4.4084:  30%",
       "layout": "IPY_MODEL_2ed088142be74975be693deefc002ee0",
       "max": 10,
       "style": "IPY_MODEL_906d11d1b9684e30989f2f8c1830741f",
       "value": 3
      }
     },
     "d904a7676dfa477d97175f1c04398ccf": {
      "model_module": "@jupyter-widgets/controls",
      "model_module_version": "1.5.0",
      "model_name": "DescriptionStyleModel",
      "state": {
       "description_width": ""
      }
     },
     "d9091657481b419989ba3947b65e9a0a": {
      "model_module": "@jupyter-widgets/controls",
      "model_module_version": "1.5.0",
      "model_name": "HTMLModel",
      "state": {
       "layout": "IPY_MODEL_ebb1e8f610734e83b71fd4242b2f1b9c",
       "style": "IPY_MODEL_d6478828699143fe96f22847fa8dc82b",
       "value": " 1563/1563 [04:58&lt;00:00,  5.88it/s]"
      }
     },
     "d929ca646a784909bc8b3100b24ae22c": {
      "model_module": "@jupyter-widgets/base",
      "model_module_version": "1.2.0",
      "model_name": "LayoutModel",
      "state": {}
     },
     "d92a2eea76f94a98aee893000980ff52": {
      "model_module": "@jupyter-widgets/controls",
      "model_module_version": "1.5.0",
      "model_name": "FloatProgressModel",
      "state": {
       "bar_style": "success",
       "description": "Train Loss: 2.7580 - Val Loss: 3.7680: 100%",
       "layout": "IPY_MODEL_09b84d2a31174fa6994ee8ed88e493c7",
       "max": 10,
       "style": "IPY_MODEL_7ca882445ce3403c9ab8e20d245fa266",
       "value": 10
      }
     },
     "d9315facb6d34a40a4abcd25f438573d": {
      "model_module": "@jupyter-widgets/controls",
      "model_module_version": "1.5.0",
      "model_name": "DescriptionStyleModel",
      "state": {
       "description_width": ""
      }
     },
     "d955f0c86355485087b649ec8d8d75ba": {
      "model_module": "@jupyter-widgets/base",
      "model_module_version": "1.2.0",
      "model_name": "LayoutModel",
      "state": {}
     },
     "d95abcfdd67044738d944e8f19624266": {
      "model_module": "@jupyter-widgets/base",
      "model_module_version": "1.2.0",
      "model_name": "LayoutModel",
      "state": {}
     },
     "d982d4750b794753a8d458f89e0d95a1": {
      "model_module": "@jupyter-widgets/base",
      "model_module_version": "1.2.0",
      "model_name": "LayoutModel",
      "state": {}
     },
     "d9881c7eb9b4417889b91adb56909fe7": {
      "model_module": "@jupyter-widgets/controls",
      "model_module_version": "1.5.0",
      "model_name": "ProgressStyleModel",
      "state": {
       "description_width": "initial"
      }
     },
     "d99a32876a9049f589ac9b932edf61b9": {
      "model_module": "@jupyter-widgets/base",
      "model_module_version": "1.2.0",
      "model_name": "LayoutModel",
      "state": {}
     },
     "d9daa8d8337546d088e8c6be67448ac5": {
      "model_module": "@jupyter-widgets/base",
      "model_module_version": "1.2.0",
      "model_name": "LayoutModel",
      "state": {}
     },
     "d9e2adba21f146cba6fb4aabcd7b7b85": {
      "model_module": "@jupyter-widgets/base",
      "model_module_version": "1.2.0",
      "model_name": "LayoutModel",
      "state": {}
     },
     "d9f1a660fe214f7591da76ad2101b78e": {
      "model_module": "@jupyter-widgets/base",
      "model_module_version": "1.2.0",
      "model_name": "LayoutModel",
      "state": {}
     },
     "d9f49798cbd1468e9489d9b76bb0c62a": {
      "model_module": "@jupyter-widgets/controls",
      "model_module_version": "1.5.0",
      "model_name": "DescriptionStyleModel",
      "state": {
       "description_width": ""
      }
     },
     "d9f52dad27c84a9cb136579a05c529c5": {
      "model_module": "@jupyter-widgets/controls",
      "model_module_version": "1.5.0",
      "model_name": "DescriptionStyleModel",
      "state": {
       "description_width": ""
      }
     },
     "da15ffe9a5054beebea9b4a49ff4a5fa": {
      "model_module": "@jupyter-widgets/controls",
      "model_module_version": "1.5.0",
      "model_name": "HTMLModel",
      "state": {
       "layout": "IPY_MODEL_e7092d37c73b4106bd3c683afaa96dc1",
       "style": "IPY_MODEL_a5f60b0861b348cc8649dd832d3267b8",
       "value": " 157/157 [00:10&lt;00:00, 15.66it/s]"
      }
     },
     "da176ca55ecc4f9fae64ded99a254a77": {
      "model_module": "@jupyter-widgets/controls",
      "model_module_version": "1.5.0",
      "model_name": "ProgressStyleModel",
      "state": {
       "description_width": "initial"
      }
     },
     "da3a185441564d929feea61966a7421f": {
      "model_module": "@jupyter-widgets/base",
      "model_module_version": "1.2.0",
      "model_name": "LayoutModel",
      "state": {}
     },
     "da4293570cb84a5da854668ec1141fcd": {
      "model_module": "@jupyter-widgets/base",
      "model_module_version": "1.2.0",
      "model_name": "LayoutModel",
      "state": {}
     },
     "da72b8317ecf41e1a482855bf9ccfeae": {
      "model_module": "@jupyter-widgets/base",
      "model_module_version": "1.2.0",
      "model_name": "LayoutModel",
      "state": {}
     },
     "da77cf6938054ccb85910f0109180715": {
      "model_module": "@jupyter-widgets/controls",
      "model_module_version": "1.5.0",
      "model_name": "HTMLModel",
      "state": {
       "layout": "IPY_MODEL_de0ab4a3b43349f79d88472a173a1205",
       "style": "IPY_MODEL_5ec8c080071046d8b0c67c40cf6b67bc",
       "value": " 157/157 [00:10&lt;00:00, 15.53it/s]"
      }
     },
     "dabee36c6a3a403e95c12d560e894932": {
      "model_module": "@jupyter-widgets/controls",
      "model_module_version": "1.5.0",
      "model_name": "ProgressStyleModel",
      "state": {
       "description_width": "initial"
      }
     },
     "dacf22e961ca4035a254adeba99ef903": {
      "model_module": "@jupyter-widgets/base",
      "model_module_version": "1.2.0",
      "model_name": "LayoutModel",
      "state": {}
     },
     "daf3a9891b374830ac2bddc6fbd1b11b": {
      "model_module": "@jupyter-widgets/controls",
      "model_module_version": "1.5.0",
      "model_name": "ProgressStyleModel",
      "state": {
       "description_width": "initial"
      }
     },
     "db086f57dbb44671993667f80590f446": {
      "model_module": "@jupyter-widgets/controls",
      "model_module_version": "1.5.0",
      "model_name": "FloatProgressModel",
      "state": {
       "description": "train loss: 4.7653: 100%",
       "layout": "IPY_MODEL_dff56694e24b45eeb9166ca89f03fb67",
       "max": 1563,
       "style": "IPY_MODEL_c6ccf46f59f14324a6fb56ef0085aca0",
       "value": 1563
      }
     },
     "db36f620ed9442ba89626e453aabe327": {
      "model_module": "@jupyter-widgets/base",
      "model_module_version": "1.2.0",
      "model_name": "LayoutModel",
      "state": {}
     },
     "db4c69a15ede41008c6f5b12499c1c47": {
      "model_module": "@jupyter-widgets/controls",
      "model_module_version": "1.5.0",
      "model_name": "HBoxModel",
      "state": {
       "children": [
        "IPY_MODEL_cac341fa764240f8b88567990f582bea",
        "IPY_MODEL_254c2d909c5e4df3b8517c4e83083819"
       ],
       "layout": "IPY_MODEL_690212477c2a4f299cc6fa87676ec697"
      }
     },
     "db5494bad5cd42d9a9396c98f216aef2": {
      "model_module": "@jupyter-widgets/controls",
      "model_module_version": "1.5.0",
      "model_name": "FloatProgressModel",
      "state": {
       "description": "val loss: 4.8922: 100%",
       "layout": "IPY_MODEL_8239a109a1264af8906d42bd8d323df7",
       "max": 157,
       "style": "IPY_MODEL_725541da771f415eb18d73bb87dbe2f5",
       "value": 157
      }
     },
     "db8f72ee94444d7c93b451f0b14fa9ac": {
      "model_module": "@jupyter-widgets/controls",
      "model_module_version": "1.5.0",
      "model_name": "FloatProgressModel",
      "state": {
       "description": "train loss: 3.8434: 100%",
       "layout": "IPY_MODEL_690c379112bd4c269a1985d7ee5d3350",
       "max": 1563,
       "style": "IPY_MODEL_75fbe8aad5684485bb3034f7d03eb463",
       "value": 1563
      }
     },
     "db9600719f434996ae5b9629bedb3624": {
      "model_module": "@jupyter-widgets/base",
      "model_module_version": "1.2.0",
      "model_name": "LayoutModel",
      "state": {}
     },
     "dbb9b4057ae640d0a27febf680a93f12": {
      "model_module": "@jupyter-widgets/controls",
      "model_module_version": "1.5.0",
      "model_name": "HTMLModel",
      "state": {
       "layout": "IPY_MODEL_9d87045200934901981a3580b258cc2f",
       "style": "IPY_MODEL_2522f712b51b4f368fab3ef623043b3f",
       "value": " 1563/1563 [02:34&lt;00:00, 10.81it/s]"
      }
     },
     "dbbedf47d1d04b85810d97b7de3668bf": {
      "model_module": "@jupyter-widgets/controls",
      "model_module_version": "1.5.0",
      "model_name": "DescriptionStyleModel",
      "state": {
       "description_width": ""
      }
     },
     "dc26970e176f4ac2b8151b8cb322408e": {
      "model_module": "@jupyter-widgets/base",
      "model_module_version": "1.2.0",
      "model_name": "LayoutModel",
      "state": {}
     },
     "dc32c92ae31c48d9b7601af17bc399f6": {
      "model_module": "@jupyter-widgets/controls",
      "model_module_version": "1.5.0",
      "model_name": "ProgressStyleModel",
      "state": {
       "description_width": "initial"
      }
     },
     "dc3503313b0f4dffa70377f39b8d248a": {
      "model_module": "@jupyter-widgets/controls",
      "model_module_version": "1.5.0",
      "model_name": "DescriptionStyleModel",
      "state": {
       "description_width": ""
      }
     },
     "dc40dd319b184144b72c8e597c065a9f": {
      "model_module": "@jupyter-widgets/controls",
      "model_module_version": "1.5.0",
      "model_name": "HTMLModel",
      "state": {
       "layout": "IPY_MODEL_dd5c110a82e6409ab848f8e5045dcdc9",
       "style": "IPY_MODEL_1af38d15838348f5af0c29c520c90fa6",
       "value": " 157/157 [00:16&lt;00:00,  9.33it/s]"
      }
     },
     "dc5c09ccdb5f4679bc26a19af6deb33f": {
      "model_module": "@jupyter-widgets/controls",
      "model_module_version": "1.5.0",
      "model_name": "ProgressStyleModel",
      "state": {
       "description_width": "initial"
      }
     },
     "dc5c6692d2d742c699663868ee564731": {
      "model_module": "@jupyter-widgets/base",
      "model_module_version": "1.2.0",
      "model_name": "LayoutModel",
      "state": {}
     },
     "dc73b01100a144d6b4eec9672e948aec": {
      "model_module": "@jupyter-widgets/base",
      "model_module_version": "1.2.0",
      "model_name": "LayoutModel",
      "state": {}
     },
     "dcd7e910d0184da39e02285e10921c00": {
      "model_module": "@jupyter-widgets/controls",
      "model_module_version": "1.5.0",
      "model_name": "DescriptionStyleModel",
      "state": {
       "description_width": ""
      }
     },
     "dd1835294c6a4778adfb206e26117e4b": {
      "model_module": "@jupyter-widgets/controls",
      "model_module_version": "1.5.0",
      "model_name": "DescriptionStyleModel",
      "state": {
       "description_width": ""
      }
     },
     "dd2aa4bb28e9456080b40f021d332d81": {
      "model_module": "@jupyter-widgets/controls",
      "model_module_version": "1.5.0",
      "model_name": "FloatProgressModel",
      "state": {
       "description": "train loss: 3.3427: 100%",
       "layout": "IPY_MODEL_24d6dd70d09e44fb9a86267d029d1f12",
       "max": 1563,
       "style": "IPY_MODEL_eff3525e68374d4faebf53cb14aaff54",
       "value": 1563
      }
     },
     "dd5c110a82e6409ab848f8e5045dcdc9": {
      "model_module": "@jupyter-widgets/base",
      "model_module_version": "1.2.0",
      "model_name": "LayoutModel",
      "state": {}
     },
     "dd75a3630ecf425c94268dcd3c69bd38": {
      "model_module": "@jupyter-widgets/controls",
      "model_module_version": "1.5.0",
      "model_name": "DescriptionStyleModel",
      "state": {
       "description_width": ""
      }
     },
     "dd7e5a81d4a34b968b97c281fea66d6c": {
      "model_module": "@jupyter-widgets/base",
      "model_module_version": "1.2.0",
      "model_name": "LayoutModel",
      "state": {}
     },
     "dd94992bb86c4a8ba9a36420643fa3b5": {
      "model_module": "@jupyter-widgets/controls",
      "model_module_version": "1.5.0",
      "model_name": "ProgressStyleModel",
      "state": {
       "description_width": "initial"
      }
     },
     "dda2dacbf154429195fededf96f8ec65": {
      "model_module": "@jupyter-widgets/controls",
      "model_module_version": "1.5.0",
      "model_name": "FloatProgressModel",
      "state": {
       "bar_style": "success",
       "description": "Train Loss: 3.1862 - Val Loss: 3.7255: 100%",
       "layout": "IPY_MODEL_d12a46f38038439b9c90cc1b6ee0200a",
       "max": 10,
       "style": "IPY_MODEL_31b1bbc3e62546d7bb0deac268ac3ed4",
       "value": 10
      }
     },
     "ddc25442d5da463789892bdbabe6e236": {
      "model_module": "@jupyter-widgets/controls",
      "model_module_version": "1.5.0",
      "model_name": "FloatProgressModel",
      "state": {
       "bar_style": "success",
       "description": "Train Loss: 2.8875 - Val Loss: 3.6595: 100%",
       "layout": "IPY_MODEL_25b61c8d4a4341f490d6cffb78b61bf0",
       "max": 10,
       "style": "IPY_MODEL_bd359725e076486d9c8d1f9f213cef73",
       "value": 10
      }
     },
     "ddcbc9aad07a467fb548eeeb60fc35ec": {
      "model_module": "@jupyter-widgets/base",
      "model_module_version": "1.2.0",
      "model_name": "LayoutModel",
      "state": {}
     },
     "ddcdb310b60b4bcd8313d3a4113c5148": {
      "model_module": "@jupyter-widgets/base",
      "model_module_version": "1.2.0",
      "model_name": "LayoutModel",
      "state": {}
     },
     "ddf63f8ee5b44430a9796bc7a2f334c6": {
      "model_module": "@jupyter-widgets/base",
      "model_module_version": "1.2.0",
      "model_name": "LayoutModel",
      "state": {}
     },
     "de0763b3bd5f41fb9c9d882aad2e3b31": {
      "model_module": "@jupyter-widgets/base",
      "model_module_version": "1.2.0",
      "model_name": "LayoutModel",
      "state": {}
     },
     "de0ab4a3b43349f79d88472a173a1205": {
      "model_module": "@jupyter-widgets/base",
      "model_module_version": "1.2.0",
      "model_name": "LayoutModel",
      "state": {}
     },
     "de171cea6a0c4d3086515c1cd3cd1aaa": {
      "model_module": "@jupyter-widgets/controls",
      "model_module_version": "1.5.0",
      "model_name": "FloatProgressModel",
      "state": {
       "description": "val loss: 3.2743: 100%",
       "layout": "IPY_MODEL_d5ef6e9fb06148629a9d4b2eead541ec",
       "max": 157,
       "style": "IPY_MODEL_a23a1d86f518460582578c2ba7e559bb",
       "value": 157
      }
     },
     "de1ddf700edc42fc96f0c4efd4e84a45": {
      "model_module": "@jupyter-widgets/base",
      "model_module_version": "1.2.0",
      "model_name": "LayoutModel",
      "state": {}
     },
     "de1ecadf01ec4ee891094629a3458d48": {
      "model_module": "@jupyter-widgets/controls",
      "model_module_version": "1.5.0",
      "model_name": "HTMLModel",
      "state": {
       "layout": "IPY_MODEL_82f9015088cd438fbff01b896e758646",
       "style": "IPY_MODEL_304c76c9959243e7afeafa6b3b54325f",
       "value": " 157/157 [00:09&lt;00:00, 16.03it/s]"
      }
     },
     "de288334d5dd443fa6a6c8d6da2e4d6c": {
      "model_module": "@jupyter-widgets/controls",
      "model_module_version": "1.5.0",
      "model_name": "FloatProgressModel",
      "state": {
       "bar_style": "danger",
       "description": "train loss: 4.8303:  83%",
       "layout": "IPY_MODEL_152805706b4842fc9866e1bb906afacc",
       "max": 1563,
       "style": "IPY_MODEL_05305899e3374516b9474b8f593c9cbd",
       "value": 1292
      }
     },
     "de30267d8cdb45bcbc10de8e71fc49cb": {
      "model_module": "@jupyter-widgets/base",
      "model_module_version": "1.2.0",
      "model_name": "LayoutModel",
      "state": {}
     },
     "de451fa76dbc4a1599bc219b8fbd6fd7": {
      "model_module": "@jupyter-widgets/controls",
      "model_module_version": "1.5.0",
      "model_name": "HBoxModel",
      "state": {
       "children": [
        "IPY_MODEL_7ddc6cff9bca45f7a1ee973fc9082ef6",
        "IPY_MODEL_7044eafb161547f5b89f57dd67029347"
       ],
       "layout": "IPY_MODEL_fe924ed386a74fe5980940689b7d9380"
      }
     },
     "de58b56da2fc4adc83019442584c2138": {
      "model_module": "@jupyter-widgets/base",
      "model_module_version": "1.2.0",
      "model_name": "LayoutModel",
      "state": {}
     },
     "de5cf7546e5e4af993395e169fdea031": {
      "model_module": "@jupyter-widgets/controls",
      "model_module_version": "1.5.0",
      "model_name": "FloatProgressModel",
      "state": {
       "description": "train loss: 2.3643: 100%",
       "layout": "IPY_MODEL_9447d340420c42ed86cc2e500ea66ba6",
       "max": 1563,
       "style": "IPY_MODEL_c52c3f286802483bac949a5f15fea969",
       "value": 1563
      }
     },
     "de6d338074f94c87a58169c281d547b1": {
      "model_module": "@jupyter-widgets/controls",
      "model_module_version": "1.5.0",
      "model_name": "HTMLModel",
      "state": {
       "layout": "IPY_MODEL_244e456f313447f2b337dac2b3482b66",
       "style": "IPY_MODEL_90a6ae46b8f14b589eff6bce9a1eab65",
       "value": " 1563/1563 [02:34&lt;00:00, 10.87it/s]"
      }
     },
     "de6f122c392d4e9aa9fc7487e25bafad": {
      "model_module": "@jupyter-widgets/controls",
      "model_module_version": "1.5.0",
      "model_name": "ProgressStyleModel",
      "state": {
       "description_width": "initial"
      }
     },
     "de72f3f8ec604b18aeb24b35651e301f": {
      "model_module": "@jupyter-widgets/controls",
      "model_module_version": "1.5.0",
      "model_name": "FloatProgressModel",
      "state": {
       "description": "train loss: 4.5893: 100%",
       "layout": "IPY_MODEL_449b8e9a72904689b1bb8c7fd0bbd871",
       "max": 1563,
       "style": "IPY_MODEL_724f3a98004a48079376765504403ee1",
       "value": 1563
      }
     },
     "dedaad6d0e9d4bb2ba9b1d28dff41237": {
      "model_module": "@jupyter-widgets/controls",
      "model_module_version": "1.5.0",
      "model_name": "DescriptionStyleModel",
      "state": {
       "description_width": ""
      }
     },
     "dede4492f87b4bdea8b72fa7f1c11e74": {
      "model_module": "@jupyter-widgets/base",
      "model_module_version": "1.2.0",
      "model_name": "LayoutModel",
      "state": {}
     },
     "dedf378e0d3b40db80656b2b80b26483": {
      "model_module": "@jupyter-widgets/base",
      "model_module_version": "1.2.0",
      "model_name": "LayoutModel",
      "state": {}
     },
     "df1865d093ac4db3b5ce4332979b1404": {
      "model_module": "@jupyter-widgets/controls",
      "model_module_version": "1.5.0",
      "model_name": "HTMLModel",
      "state": {
       "layout": "IPY_MODEL_a6ee214a9d4641aaa807cabcf51f42e6",
       "style": "IPY_MODEL_b6623acb65744aecbcfd129bf24e5b45",
       "value": " 1563/1563 [02:35&lt;00:00, 10.06it/s]"
      }
     },
     "df6849f48abd471780ec77e500f29c94": {
      "model_module": "@jupyter-widgets/controls",
      "model_module_version": "1.5.0",
      "model_name": "FloatProgressModel",
      "state": {
       "description": "train loss: 3.5375: 100%",
       "layout": "IPY_MODEL_650cf78f264a41f4b1c2885248b73758",
       "max": 1563,
       "style": "IPY_MODEL_d4f652d4a48046238a2b0c889723d0b5",
       "value": 1563
      }
     },
     "df6b9145fdfc43b3b541c89b86c075dd": {
      "model_module": "@jupyter-widgets/base",
      "model_module_version": "1.2.0",
      "model_name": "LayoutModel",
      "state": {}
     },
     "df8752cc0f6c4c5caa18b6731fb3d750": {
      "model_module": "@jupyter-widgets/base",
      "model_module_version": "1.2.0",
      "model_name": "LayoutModel",
      "state": {}
     },
     "dfa578f72ec14ad395d7da107f08a0ff": {
      "model_module": "@jupyter-widgets/controls",
      "model_module_version": "1.5.0",
      "model_name": "HTMLModel",
      "state": {
       "layout": "IPY_MODEL_b62e327b2dfc449d83b88b2ae0370d28",
       "style": "IPY_MODEL_cf7c527249a64b9d9e64683007e1673f",
       "value": " 1563/1563 [02:34&lt;00:00,  9.79it/s]"
      }
     },
     "dfb5df2c05d548eeb11408ea3f0e6221": {
      "model_module": "@jupyter-widgets/base",
      "model_module_version": "1.2.0",
      "model_name": "LayoutModel",
      "state": {}
     },
     "dfde3e38c924462d89c2ffff4de2da11": {
      "model_module": "@jupyter-widgets/controls",
      "model_module_version": "1.5.0",
      "model_name": "FloatProgressModel",
      "state": {
       "description": "train loss: 5.2874: 100%",
       "layout": "IPY_MODEL_802fe31eb84d4152a09f7c79bfc54e22",
       "max": 1563,
       "style": "IPY_MODEL_d0edcd3e64c440b78fd282130af134e4",
       "value": 1563
      }
     },
     "dfe3b98c02dc45de99bced87a7954e71": {
      "model_module": "@jupyter-widgets/controls",
      "model_module_version": "1.5.0",
      "model_name": "FloatProgressModel",
      "state": {
       "description": "train loss: 3.4598: 100%",
       "layout": "IPY_MODEL_a24fa1d5b18942f79d7586f7f5943f29",
       "max": 1563,
       "style": "IPY_MODEL_72f0c71ce3ca45ca9018456f6a94fd15",
       "value": 1563
      }
     },
     "dfe873e136094428a75545c3eeb4f82f": {
      "model_module": "@jupyter-widgets/controls",
      "model_module_version": "1.5.0",
      "model_name": "ProgressStyleModel",
      "state": {
       "description_width": "initial"
      }
     },
     "dfec64da7f2848ae811a56dde4e531ba": {
      "model_module": "@jupyter-widgets/base",
      "model_module_version": "1.2.0",
      "model_name": "LayoutModel",
      "state": {}
     },
     "dff56694e24b45eeb9166ca89f03fb67": {
      "model_module": "@jupyter-widgets/base",
      "model_module_version": "1.2.0",
      "model_name": "LayoutModel",
      "state": {}
     },
     "e049496ae557434a8726e6d117fa92f6": {
      "model_module": "@jupyter-widgets/controls",
      "model_module_version": "1.5.0",
      "model_name": "HTMLModel",
      "state": {
       "layout": "IPY_MODEL_bdb27afc3f334fc9ba20e4253b05c9de",
       "style": "IPY_MODEL_a2b1fe9553134007b18b45fd78d8629b",
       "value": " 157/157 [00:16&lt;00:00,  9.43it/s]"
      }
     },
     "e04aff6b5e9543d49d47dda6a8426574": {
      "model_module": "@jupyter-widgets/controls",
      "model_module_version": "1.5.0",
      "model_name": "ProgressStyleModel",
      "state": {
       "description_width": "initial"
      }
     },
     "e05d73aa2a57410d87de415476ea0540": {
      "model_module": "@jupyter-widgets/base",
      "model_module_version": "1.2.0",
      "model_name": "LayoutModel",
      "state": {}
     },
     "e06c2feafb7146528b584ddffa06f977": {
      "model_module": "@jupyter-widgets/controls",
      "model_module_version": "1.5.0",
      "model_name": "FloatProgressModel",
      "state": {
       "description": "val loss: 5.0481: 100%",
       "layout": "IPY_MODEL_1075d15dfd6d49f3866c2d6c8159ac48",
       "max": 157,
       "style": "IPY_MODEL_683bd8d8a869465ca637904e476f273a",
       "value": 157
      }
     },
     "e078062d08ae4ee7b75301ec368d048c": {
      "model_module": "@jupyter-widgets/controls",
      "model_module_version": "1.5.0",
      "model_name": "DescriptionStyleModel",
      "state": {
       "description_width": ""
      }
     },
     "e07a812e256c4a8098b44c0209e6f1c3": {
      "model_module": "@jupyter-widgets/base",
      "model_module_version": "1.2.0",
      "model_name": "LayoutModel",
      "state": {}
     },
     "e0a4b3ded3f348f0988682dda1066b0b": {
      "model_module": "@jupyter-widgets/controls",
      "model_module_version": "1.5.0",
      "model_name": "FloatProgressModel",
      "state": {
       "description": "val loss: 3.9133: 100%",
       "layout": "IPY_MODEL_5e26e233921146ac9089b8c9590e799d",
       "max": 157,
       "style": "IPY_MODEL_eb2fd30147424a768588a48beb2df257",
       "value": 157
      }
     },
     "e0cdcc0e32744967ad18ec4429551742": {
      "model_module": "@jupyter-widgets/controls",
      "model_module_version": "1.5.0",
      "model_name": "ProgressStyleModel",
      "state": {
       "description_width": "initial"
      }
     },
     "e0cef49a4e354f5fb2314e48dcdb9511": {
      "model_module": "@jupyter-widgets/base",
      "model_module_version": "1.2.0",
      "model_name": "LayoutModel",
      "state": {}
     },
     "e0d5cc808c634689a62a79101d05eadb": {
      "model_module": "@jupyter-widgets/base",
      "model_module_version": "1.2.0",
      "model_name": "LayoutModel",
      "state": {}
     },
     "e0dc00166a1c4a1f8b0e710b6f5d0d15": {
      "model_module": "@jupyter-widgets/base",
      "model_module_version": "1.2.0",
      "model_name": "LayoutModel",
      "state": {}
     },
     "e0dd8caa2b7a49649e46497dee0d7e79": {
      "model_module": "@jupyter-widgets/base",
      "model_module_version": "1.2.0",
      "model_name": "LayoutModel",
      "state": {}
     },
     "e0e142f9fcb348f2a0d4b4873c8b5605": {
      "model_module": "@jupyter-widgets/base",
      "model_module_version": "1.2.0",
      "model_name": "LayoutModel",
      "state": {}
     },
     "e0efb9969b72466aa910cdc548108264": {
      "model_module": "@jupyter-widgets/controls",
      "model_module_version": "1.5.0",
      "model_name": "HTMLModel",
      "state": {
       "layout": "IPY_MODEL_862a66b5bc32445d8849a47950371cca",
       "style": "IPY_MODEL_cad9816194f24f07888107476896e298",
       "value": " 77/1563 [00:27&lt;02:25, 10.23it/s]"
      }
     },
     "e0f9318b4f5248cd842cabf150e18939": {
      "model_module": "@jupyter-widgets/controls",
      "model_module_version": "1.5.0",
      "model_name": "DescriptionStyleModel",
      "state": {
       "description_width": ""
      }
     },
     "e154c43f494d49e0a0c3c399cd5c73cd": {
      "model_module": "@jupyter-widgets/controls",
      "model_module_version": "1.5.0",
      "model_name": "HTMLModel",
      "state": {
       "layout": "IPY_MODEL_645617027bb5400596e2b493cecca4ef",
       "style": "IPY_MODEL_8cbcf598218242189612e863fa520170",
       "value": " 157/157 [00:14&lt;00:00, 11.72it/s]"
      }
     },
     "e15918d4588246ee8b41c407faad502c": {
      "model_module": "@jupyter-widgets/controls",
      "model_module_version": "1.5.0",
      "model_name": "FloatProgressModel",
      "state": {
       "description": "train loss: 3.9267: 100%",
       "layout": "IPY_MODEL_27727857063e405498844ee3d95deb82",
       "max": 1563,
       "style": "IPY_MODEL_ffa18d8304f043c6a2eb6947e894774b",
       "value": 1563
      }
     },
     "e16231275ff2491c9a2b01067bef5926": {
      "model_module": "@jupyter-widgets/controls",
      "model_module_version": "1.5.0",
      "model_name": "DescriptionStyleModel",
      "state": {
       "description_width": ""
      }
     },
     "e1676d8d53b94be0aa691d2244fc1def": {
      "model_module": "@jupyter-widgets/controls",
      "model_module_version": "1.5.0",
      "model_name": "HTMLModel",
      "state": {
       "layout": "IPY_MODEL_d10d7f389bdb41a5b800a1fb0dc0d229",
       "style": "IPY_MODEL_f4869bbfab214e9683af95e391c54452",
       "value": " 10/10 [58:06&lt;00:00, 348.63s/it]"
      }
     },
     "e1ad37345f1343efb8fec1ec946c96c0": {
      "model_module": "@jupyter-widgets/base",
      "model_module_version": "1.2.0",
      "model_name": "LayoutModel",
      "state": {}
     },
     "e1c2f0ea6b9342629d2a098a4ca021f8": {
      "model_module": "@jupyter-widgets/controls",
      "model_module_version": "1.5.0",
      "model_name": "HTMLModel",
      "state": {
       "layout": "IPY_MODEL_a4e9abb544d24de99d194a5be7d210f2",
       "style": "IPY_MODEL_b4e152e2730244eb8df4dabb7a82a135",
       "value": " 157/157 [00:10&lt;00:00, 15.56it/s]"
      }
     },
     "e1edbae0a40d46cd921e638781011857": {
      "model_module": "@jupyter-widgets/base",
      "model_module_version": "1.2.0",
      "model_name": "LayoutModel",
      "state": {}
     },
     "e206000c0401474aa6861740f52feb6d": {
      "model_module": "@jupyter-widgets/controls",
      "model_module_version": "1.5.0",
      "model_name": "ProgressStyleModel",
      "state": {
       "description_width": "initial"
      }
     },
     "e21538a2200e46a28ea2ff3ae05f0d40": {
      "model_module": "@jupyter-widgets/controls",
      "model_module_version": "1.5.0",
      "model_name": "ProgressStyleModel",
      "state": {
       "description_width": "initial"
      }
     },
     "e227126c9df14f12a7a2916c20b2f10a": {
      "model_module": "@jupyter-widgets/base",
      "model_module_version": "1.2.0",
      "model_name": "LayoutModel",
      "state": {}
     },
     "e26c51ff4f754a2b9d803cd28ddaa6ea": {
      "model_module": "@jupyter-widgets/controls",
      "model_module_version": "1.5.0",
      "model_name": "FloatProgressModel",
      "state": {
       "bar_style": "danger",
       "description": "train loss: 3.6797:  34%",
       "layout": "IPY_MODEL_49ed488e78c94ddba9e1b9be7fc5d09b",
       "max": 1563,
       "style": "IPY_MODEL_ece8578e70f54c348f1112cef02ef397",
       "value": 531
      }
     },
     "e27abb483bb04531978b95971db0a29d": {
      "model_module": "@jupyter-widgets/base",
      "model_module_version": "1.2.0",
      "model_name": "LayoutModel",
      "state": {}
     },
     "e281684f1166487eaef44f8f4ff88550": {
      "model_module": "@jupyter-widgets/base",
      "model_module_version": "1.2.0",
      "model_name": "LayoutModel",
      "state": {}
     },
     "e2965b7923f04e8283151e873396bd22": {
      "model_module": "@jupyter-widgets/controls",
      "model_module_version": "1.5.0",
      "model_name": "HTMLModel",
      "state": {
       "layout": "IPY_MODEL_6f5a1db7820c46cfafda82d0414eacb4",
       "style": "IPY_MODEL_538f2234451c4db6b29cec6c72690bb3",
       "value": " 157/157 [00:10&lt;00:00, 15.72it/s]"
      }
     },
     "e2b1055a549640c0a097b40fafadd3bc": {
      "model_module": "@jupyter-widgets/controls",
      "model_module_version": "1.5.0",
      "model_name": "ProgressStyleModel",
      "state": {
       "description_width": "initial"
      }
     },
     "e2b4b0a9f0c741388c1ea68f2ededecf": {
      "model_module": "@jupyter-widgets/base",
      "model_module_version": "1.2.0",
      "model_name": "LayoutModel",
      "state": {}
     },
     "e2bbde6591d2400091118b8de0ee7c50": {
      "model_module": "@jupyter-widgets/controls",
      "model_module_version": "1.5.0",
      "model_name": "FloatProgressModel",
      "state": {
       "description": "val loss: 5.0089: 100%",
       "layout": "IPY_MODEL_f13db0d869be4615ad1efb9d5665e977",
       "max": 157,
       "style": "IPY_MODEL_00c3116b5fd048259aeaac43bce1b150",
       "value": 157
      }
     },
     "e2bc8c5c5e9046718a7c419085e2f5c9": {
      "model_module": "@jupyter-widgets/controls",
      "model_module_version": "1.5.0",
      "model_name": "FloatProgressModel",
      "state": {
       "description": "val loss: 5.4042: 100%",
       "layout": "IPY_MODEL_3e894fe56bea4cbea4f0832ae1aa8389",
       "max": 157,
       "style": "IPY_MODEL_b15c0c6423a5401b9155701cd262e888",
       "value": 157
      }
     },
     "e2be9d1fddf043f8ae52c3f8d9c5c83d": {
      "model_module": "@jupyter-widgets/controls",
      "model_module_version": "1.5.0",
      "model_name": "HBoxModel",
      "state": {
       "children": [
        "IPY_MODEL_ad4fb16bd54a44d187cb56cf1ffbdae5",
        "IPY_MODEL_a25353e305584170a1bf681599d9bb28"
       ],
       "layout": "IPY_MODEL_61b8d4c57ebb45b1bec0615b95faba58"
      }
     },
     "e2d10605dfb94238ba0b0266cc9b60d6": {
      "model_module": "@jupyter-widgets/base",
      "model_module_version": "1.2.0",
      "model_name": "LayoutModel",
      "state": {}
     },
     "e2de56a44ad94b2e8d658384679e1d0d": {
      "model_module": "@jupyter-widgets/base",
      "model_module_version": "1.2.0",
      "model_name": "LayoutModel",
      "state": {}
     },
     "e2df0542a69f4f16b57cda972c236397": {
      "model_module": "@jupyter-widgets/controls",
      "model_module_version": "1.5.0",
      "model_name": "HTMLModel",
      "state": {
       "layout": "IPY_MODEL_0185aa2c08084cafa9562f4028cbf04f",
       "style": "IPY_MODEL_287b34572c8a4c4b831a56806cb1322f",
       "value": " 1563/1563 [02:30&lt;00:00,  9.77it/s]"
      }
     },
     "e2e6216bc83c44feb36dfd41f9af2d22": {
      "model_module": "@jupyter-widgets/base",
      "model_module_version": "1.2.0",
      "model_name": "LayoutModel",
      "state": {}
     },
     "e2f7854ddac64376b080b5833652f011": {
      "model_module": "@jupyter-widgets/base",
      "model_module_version": "1.2.0",
      "model_name": "LayoutModel",
      "state": {}
     },
     "e33b0b46a5404a4a996d5f3285b1dc30": {
      "model_module": "@jupyter-widgets/controls",
      "model_module_version": "1.5.0",
      "model_name": "ProgressStyleModel",
      "state": {
       "description_width": "initial"
      }
     },
     "e367f6f6eed04fe4beec413d1c628fcf": {
      "model_module": "@jupyter-widgets/base",
      "model_module_version": "1.2.0",
      "model_name": "LayoutModel",
      "state": {}
     },
     "e384aba0a4a14fc892ead565329ec24b": {
      "model_module": "@jupyter-widgets/base",
      "model_module_version": "1.2.0",
      "model_name": "LayoutModel",
      "state": {}
     },
     "e3b49c9b77c84bdc809a6a8b44732d5b": {
      "model_module": "@jupyter-widgets/base",
      "model_module_version": "1.2.0",
      "model_name": "LayoutModel",
      "state": {}
     },
     "e3c9c2f843924afc804d4b979da65356": {
      "model_module": "@jupyter-widgets/controls",
      "model_module_version": "1.5.0",
      "model_name": "DescriptionStyleModel",
      "state": {
       "description_width": ""
      }
     },
     "e3f5e130ab1d4bb68c8919dcfc3aebe0": {
      "model_module": "@jupyter-widgets/base",
      "model_module_version": "1.2.0",
      "model_name": "LayoutModel",
      "state": {}
     },
     "e412cfaf14f44b35bbac23a766c35a28": {
      "model_module": "@jupyter-widgets/controls",
      "model_module_version": "1.5.0",
      "model_name": "DescriptionStyleModel",
      "state": {
       "description_width": ""
      }
     },
     "e44e91f796cc4af38c8b5c142ea607e5": {
      "model_module": "@jupyter-widgets/controls",
      "model_module_version": "1.5.0",
      "model_name": "FloatProgressModel",
      "state": {
       "description": "Epochs:   0%",
       "layout": "IPY_MODEL_16d58eb3d0c24e9a90941fd2b976b30f",
       "max": 10,
       "style": "IPY_MODEL_50e2f5a194de4064a2139a3b37b50dcf"
      }
     },
     "e4581f30e06b41f1a1384082ea15f896": {
      "model_module": "@jupyter-widgets/controls",
      "model_module_version": "1.5.0",
      "model_name": "ProgressStyleModel",
      "state": {
       "description_width": "initial"
      }
     },
     "e458ccc9cc114b17bfa3a60773e4663d": {
      "model_module": "@jupyter-widgets/base",
      "model_module_version": "1.2.0",
      "model_name": "LayoutModel",
      "state": {}
     },
     "e4642193e91f4299b90307e4c5f99fe1": {
      "model_module": "@jupyter-widgets/controls",
      "model_module_version": "1.5.0",
      "model_name": "DescriptionStyleModel",
      "state": {
       "description_width": ""
      }
     },
     "e4652b4c25d548f8ad7e3235a33d3bb0": {
      "model_module": "@jupyter-widgets/base",
      "model_module_version": "1.2.0",
      "model_name": "LayoutModel",
      "state": {}
     },
     "e466e1824a194a4eb1a2c9b94222af50": {
      "model_module": "@jupyter-widgets/base",
      "model_module_version": "1.2.0",
      "model_name": "LayoutModel",
      "state": {}
     },
     "e467745875b7418db5ebbf166b4fef14": {
      "model_module": "@jupyter-widgets/base",
      "model_module_version": "1.2.0",
      "model_name": "LayoutModel",
      "state": {}
     },
     "e46ca871b73d4339833dff915a2caeee": {
      "model_module": "@jupyter-widgets/controls",
      "model_module_version": "1.5.0",
      "model_name": "DescriptionStyleModel",
      "state": {
       "description_width": ""
      }
     },
     "e47500e09c73475db43ce5b99d415a6d": {
      "model_module": "@jupyter-widgets/controls",
      "model_module_version": "1.5.0",
      "model_name": "DescriptionStyleModel",
      "state": {
       "description_width": ""
      }
     },
     "e47b2642c91a47c6942e19b7857a5fdb": {
      "model_module": "@jupyter-widgets/controls",
      "model_module_version": "1.5.0",
      "model_name": "HTMLModel",
      "state": {
       "layout": "IPY_MODEL_23fdb9dc93cd47d08ba4761578510563",
       "style": "IPY_MODEL_00bf6e29b1b649f2a23db445a79f89a5",
       "value": " 157/157 [00:10&lt;00:00, 15.73it/s]"
      }
     },
     "e48606f4c9b04c719606c8f9654b1148": {
      "model_module": "@jupyter-widgets/base",
      "model_module_version": "1.2.0",
      "model_name": "LayoutModel",
      "state": {}
     },
     "e48edca152ce47d9bb98872d432a42be": {
      "model_module": "@jupyter-widgets/base",
      "model_module_version": "1.2.0",
      "model_name": "LayoutModel",
      "state": {}
     },
     "e4a37ae83e0842e7a4589e7089ffa048": {
      "model_module": "@jupyter-widgets/controls",
      "model_module_version": "1.5.0",
      "model_name": "HTMLModel",
      "state": {
       "layout": "IPY_MODEL_f8c7fab5532e488585cb2dd6e78020eb",
       "style": "IPY_MODEL_7181c6361f9b439c952f6615b4cf7af8",
       "value": " 1563/1563 [02:36&lt;00:00,  9.92it/s]"
      }
     },
     "e4af5cb0c751444eac070d5daa5a56d7": {
      "model_module": "@jupyter-widgets/controls",
      "model_module_version": "1.5.0",
      "model_name": "FloatProgressModel",
      "state": {
       "description": "val loss: 4.2475: 100%",
       "layout": "IPY_MODEL_a626198b69be42e8acec06720898709c",
       "max": 157,
       "style": "IPY_MODEL_b8a3129f51ee40f4b815eaf9967038a4",
       "value": 157
      }
     },
     "e4b0a11c55174d70a8741325d65a37ff": {
      "model_module": "@jupyter-widgets/controls",
      "model_module_version": "1.5.0",
      "model_name": "ProgressStyleModel",
      "state": {
       "description_width": "initial"
      }
     },
     "e4b5742447224a1b955e65c1c6ed96e9": {
      "model_module": "@jupyter-widgets/controls",
      "model_module_version": "1.5.0",
      "model_name": "FloatProgressModel",
      "state": {
       "bar_style": "danger",
       "description": "Epochs:   0%",
       "layout": "IPY_MODEL_6eafac4d22bc488a9648a034d5be9186",
       "max": 10,
       "style": "IPY_MODEL_0b53d18eb4f04131b8f847abf389b5b0"
      }
     },
     "e4b9236c4e4549b3b6831e11ecd5327a": {
      "model_module": "@jupyter-widgets/base",
      "model_module_version": "1.2.0",
      "model_name": "LayoutModel",
      "state": {}
     },
     "e4bc7ee73ea44abab29028c5e6072f76": {
      "model_module": "@jupyter-widgets/base",
      "model_module_version": "1.2.0",
      "model_name": "LayoutModel",
      "state": {}
     },
     "e4d300699d774aa3a9afc3bd7b3f0eb2": {
      "model_module": "@jupyter-widgets/base",
      "model_module_version": "1.2.0",
      "model_name": "LayoutModel",
      "state": {}
     },
     "e4d934bbf1824158bbd792875dca2dfb": {
      "model_module": "@jupyter-widgets/controls",
      "model_module_version": "1.5.0",
      "model_name": "ProgressStyleModel",
      "state": {
       "description_width": "initial"
      }
     },
     "e55167b682304e32abfbeee75d4f28af": {
      "model_module": "@jupyter-widgets/base",
      "model_module_version": "1.2.0",
      "model_name": "LayoutModel",
      "state": {}
     },
     "e5582886a30b45388c8a18085654b2f0": {
      "model_module": "@jupyter-widgets/base",
      "model_module_version": "1.2.0",
      "model_name": "LayoutModel",
      "state": {}
     },
     "e5a21a2203f542e589ef81c29bfb548e": {
      "model_module": "@jupyter-widgets/base",
      "model_module_version": "1.2.0",
      "model_name": "LayoutModel",
      "state": {}
     },
     "e5a941543f60462dbd9ac30042596072": {
      "model_module": "@jupyter-widgets/controls",
      "model_module_version": "1.5.0",
      "model_name": "ProgressStyleModel",
      "state": {
       "description_width": "initial"
      }
     },
     "e5d66612a8734c34ba56e94286b4aa43": {
      "model_module": "@jupyter-widgets/controls",
      "model_module_version": "1.5.0",
      "model_name": "HTMLModel",
      "state": {
       "layout": "IPY_MODEL_60339ce286cb4254b7defec695c41cb2",
       "style": "IPY_MODEL_9ad25ae351a24a3d95089b6369591e88",
       "value": " 10/10 [4:02:07&lt;00:00, 1452.72s/it]"
      }
     },
     "e60b8932f00f4bcebe892047a2b115a0": {
      "model_module": "@jupyter-widgets/controls",
      "model_module_version": "1.5.0",
      "model_name": "ProgressStyleModel",
      "state": {
       "description_width": "initial"
      }
     },
     "e6165cebf39044ff8e3c05951d29c79d": {
      "model_module": "@jupyter-widgets/controls",
      "model_module_version": "1.5.0",
      "model_name": "DescriptionStyleModel",
      "state": {
       "description_width": ""
      }
     },
     "e61bbb5e710a49529da1597ab1bc3ecd": {
      "model_module": "@jupyter-widgets/controls",
      "model_module_version": "1.5.0",
      "model_name": "ProgressStyleModel",
      "state": {
       "description_width": "initial"
      }
     },
     "e621f691ecb042809065e3557ef8c076": {
      "model_module": "@jupyter-widgets/controls",
      "model_module_version": "1.5.0",
      "model_name": "DescriptionStyleModel",
      "state": {
       "description_width": ""
      }
     },
     "e64195a7f03f40518b4c63feacc8e5cc": {
      "model_module": "@jupyter-widgets/controls",
      "model_module_version": "1.5.0",
      "model_name": "DescriptionStyleModel",
      "state": {
       "description_width": ""
      }
     },
     "e6437087584d406981d500552a11c14b": {
      "model_module": "@jupyter-widgets/controls",
      "model_module_version": "1.5.0",
      "model_name": "DescriptionStyleModel",
      "state": {
       "description_width": ""
      }
     },
     "e6465004249245448e27a6430c479d48": {
      "model_module": "@jupyter-widgets/base",
      "model_module_version": "1.2.0",
      "model_name": "LayoutModel",
      "state": {}
     },
     "e65eef3e0e4b4f8093221b46b44c4be9": {
      "model_module": "@jupyter-widgets/base",
      "model_module_version": "1.2.0",
      "model_name": "LayoutModel",
      "state": {}
     },
     "e6644a29fabc49e7b1a14a5a680ae0d5": {
      "model_module": "@jupyter-widgets/controls",
      "model_module_version": "1.5.0",
      "model_name": "HTMLModel",
      "state": {
       "layout": "IPY_MODEL_ce3515a30e9d415abda620fec741b403",
       "style": "IPY_MODEL_ff5e87d62e344d6393ef0fdb9714b447",
       "value": " 157/157 [00:10&lt;00:00, 15.49it/s]"
      }
     },
     "e67e91bda9e4421c9b4a400cd5a80c6f": {
      "model_module": "@jupyter-widgets/base",
      "model_module_version": "1.2.0",
      "model_name": "LayoutModel",
      "state": {}
     },
     "e68a1b40c1f74785b380e8661d6dd30d": {
      "model_module": "@jupyter-widgets/controls",
      "model_module_version": "1.5.0",
      "model_name": "FloatProgressModel",
      "state": {
       "description": "val loss: 3.9152: 100%",
       "layout": "IPY_MODEL_318946db07d448459ffffcdb19a38a05",
       "max": 157,
       "style": "IPY_MODEL_b2bbc4dbb640413daaf2248f5c6abfbc",
       "value": 157
      }
     },
     "e6b850f600314109b3dc78a3ff43c079": {
      "model_module": "@jupyter-widgets/controls",
      "model_module_version": "1.5.0",
      "model_name": "DescriptionStyleModel",
      "state": {
       "description_width": ""
      }
     },
     "e6be241aadd2471d82ee8bfb3ef90e81": {
      "model_module": "@jupyter-widgets/controls",
      "model_module_version": "1.5.0",
      "model_name": "FloatProgressModel",
      "state": {
       "description": "train loss: 2.9380: 100%",
       "layout": "IPY_MODEL_c2862c28470e4b8190e83610540d7962",
       "max": 1563,
       "style": "IPY_MODEL_5ff50bb59ebf40c8b723cdd7ea7edc6c",
       "value": 1563
      }
     },
     "e6c16097ae874f0584d22b7f6eacb1a4": {
      "model_module": "@jupyter-widgets/base",
      "model_module_version": "1.2.0",
      "model_name": "LayoutModel",
      "state": {}
     },
     "e6c2f7812e9b43b9807743ed10469167": {
      "model_module": "@jupyter-widgets/base",
      "model_module_version": "1.2.0",
      "model_name": "LayoutModel",
      "state": {}
     },
     "e6d9e97c66e34ae19747f9ff409ec53e": {
      "model_module": "@jupyter-widgets/base",
      "model_module_version": "1.2.0",
      "model_name": "LayoutModel",
      "state": {}
     },
     "e6e783d42c2540b6a092c035ffa61108": {
      "model_module": "@jupyter-widgets/base",
      "model_module_version": "1.2.0",
      "model_name": "LayoutModel",
      "state": {}
     },
     "e6efa0526d0d4451b7ff25e867073201": {
      "model_module": "@jupyter-widgets/base",
      "model_module_version": "1.2.0",
      "model_name": "LayoutModel",
      "state": {}
     },
     "e702b309af9c45d6a97d2803afc354ac": {
      "model_module": "@jupyter-widgets/controls",
      "model_module_version": "1.5.0",
      "model_name": "ProgressStyleModel",
      "state": {
       "description_width": "initial"
      }
     },
     "e7092d37c73b4106bd3c683afaa96dc1": {
      "model_module": "@jupyter-widgets/base",
      "model_module_version": "1.2.0",
      "model_name": "LayoutModel",
      "state": {}
     },
     "e70b12aa903e4751a57eefe4d361098b": {
      "model_module": "@jupyter-widgets/base",
      "model_module_version": "1.2.0",
      "model_name": "LayoutModel",
      "state": {}
     },
     "e71d08c8a27140f597a9068acf78a9fb": {
      "model_module": "@jupyter-widgets/base",
      "model_module_version": "1.2.0",
      "model_name": "LayoutModel",
      "state": {}
     },
     "e73fbc67f6eb496998d971869420d5d8": {
      "model_module": "@jupyter-widgets/controls",
      "model_module_version": "1.5.0",
      "model_name": "ProgressStyleModel",
      "state": {
       "description_width": "initial"
      }
     },
     "e75121532e324ff784e179093612aea6": {
      "model_module": "@jupyter-widgets/controls",
      "model_module_version": "1.5.0",
      "model_name": "ProgressStyleModel",
      "state": {
       "description_width": "initial"
      }
     },
     "e755f4200ca5422a96b2b4f36fdde5df": {
      "model_module": "@jupyter-widgets/base",
      "model_module_version": "1.2.0",
      "model_name": "LayoutModel",
      "state": {}
     },
     "e76bd1d200fd427881b5605f6279a1bd": {
      "model_module": "@jupyter-widgets/controls",
      "model_module_version": "1.5.0",
      "model_name": "FloatProgressModel",
      "state": {
       "description": "train loss: 4.1099: 100%",
       "layout": "IPY_MODEL_95b0fc92738940b4afbb983e1551bf43",
       "max": 1563,
       "style": "IPY_MODEL_772da334ae7f4d4c8edbd1abcbbe87b2",
       "value": 1563
      }
     },
     "e76c9354853644ecadb412f0296d471d": {
      "model_module": "@jupyter-widgets/controls",
      "model_module_version": "1.5.0",
      "model_name": "FloatProgressModel",
      "state": {
       "bar_style": "success",
       "description": "Train Loss: 3.1958 - Val Loss: 3.8677: 100%",
       "layout": "IPY_MODEL_ee6e69bfc0b948e98a6cfd552acf8d93",
       "max": 10,
       "style": "IPY_MODEL_cb408c5e2a3246169b2e3763f015cd70",
       "value": 10
      }
     },
     "e7c06c9df6934d9fa2cbf311a4008421": {
      "model_module": "@jupyter-widgets/controls",
      "model_module_version": "1.5.0",
      "model_name": "ProgressStyleModel",
      "state": {
       "description_width": "initial"
      }
     },
     "e7c3227bfc644da1810cd38fe5891d3a": {
      "model_module": "@jupyter-widgets/base",
      "model_module_version": "1.2.0",
      "model_name": "LayoutModel",
      "state": {}
     },
     "e7c80805968541ea8b367f0de7f13f25": {
      "model_module": "@jupyter-widgets/base",
      "model_module_version": "1.2.0",
      "model_name": "LayoutModel",
      "state": {}
     },
     "e7e06569feaa416dabb280e1098aee59": {
      "model_module": "@jupyter-widgets/controls",
      "model_module_version": "1.5.0",
      "model_name": "FloatProgressModel",
      "state": {
       "description": "val loss: 3.3503: 100%",
       "layout": "IPY_MODEL_b03f16ec78a84cda99fcd205c66c17e4",
       "max": 157,
       "style": "IPY_MODEL_930d345f22aa491e98b3277f0adda4d8",
       "value": 157
      }
     },
     "e7f0c98156c64f5a8e5ef2a4f1edf43b": {
      "model_module": "@jupyter-widgets/base",
      "model_module_version": "1.2.0",
      "model_name": "LayoutModel",
      "state": {}
     },
     "e7f231daaabd4ab59261dc54488f5115": {
      "model_module": "@jupyter-widgets/controls",
      "model_module_version": "1.5.0",
      "model_name": "DescriptionStyleModel",
      "state": {
       "description_width": ""
      }
     },
     "e806b80da7314a6d8fda7c439ae633aa": {
      "model_module": "@jupyter-widgets/controls",
      "model_module_version": "1.5.0",
      "model_name": "FloatProgressModel",
      "state": {
       "description": "val loss: 3.8999: 100%",
       "layout": "IPY_MODEL_145047c44c974f339f6ba0af6438a6b0",
       "max": 157,
       "style": "IPY_MODEL_45c5727399cb475ab43bfac44acd02f9",
       "value": 157
      }
     },
     "e82927a9397845678d242c962de8900c": {
      "model_module": "@jupyter-widgets/controls",
      "model_module_version": "1.5.0",
      "model_name": "FloatProgressModel",
      "state": {
       "description": "train loss: 3.3667: 100%",
       "layout": "IPY_MODEL_7706aebe2e3146448f77ebe17775030f",
       "max": 1563,
       "style": "IPY_MODEL_2c1a6e20499845b296b41512ef028829",
       "value": 1563
      }
     },
     "e83d3a8545b64fb488e04238017f33e2": {
      "model_module": "@jupyter-widgets/controls",
      "model_module_version": "1.5.0",
      "model_name": "ProgressStyleModel",
      "state": {
       "description_width": "initial"
      }
     },
     "e83ff7fd89f24f4ebf9e45edae51b1c1": {
      "model_module": "@jupyter-widgets/controls",
      "model_module_version": "1.5.0",
      "model_name": "FloatProgressModel",
      "state": {
       "description": "train loss: 3.6175: 100%",
       "layout": "IPY_MODEL_418fe938f07b4916b1f368f36c857840",
       "max": 1563,
       "style": "IPY_MODEL_b6b6619c9d7b46c19883b2e4416d6a74",
       "value": 1563
      }
     },
     "e8461980a8414bc5b775b946f03548c4": {
      "model_module": "@jupyter-widgets/base",
      "model_module_version": "1.2.0",
      "model_name": "LayoutModel",
      "state": {}
     },
     "e8571702ea9b45aea726d7e190b75c8c": {
      "model_module": "@jupyter-widgets/controls",
      "model_module_version": "1.5.0",
      "model_name": "DescriptionStyleModel",
      "state": {
       "description_width": ""
      }
     },
     "e85d6eb287f545acac499b0cf7c6c8f3": {
      "model_module": "@jupyter-widgets/base",
      "model_module_version": "1.2.0",
      "model_name": "LayoutModel",
      "state": {}
     },
     "e86add9586be4cddafcc6404a941e6bb": {
      "model_module": "@jupyter-widgets/base",
      "model_module_version": "1.2.0",
      "model_name": "LayoutModel",
      "state": {}
     },
     "e892be735d864cbb8092dd71b719d122": {
      "model_module": "@jupyter-widgets/base",
      "model_module_version": "1.2.0",
      "model_name": "LayoutModel",
      "state": {}
     },
     "e89df7447d2d48669010eca90d17442e": {
      "model_module": "@jupyter-widgets/base",
      "model_module_version": "1.2.0",
      "model_name": "LayoutModel",
      "state": {}
     },
     "e8a8ad34834a428889cd28314817673e": {
      "model_module": "@jupyter-widgets/base",
      "model_module_version": "1.2.0",
      "model_name": "LayoutModel",
      "state": {}
     },
     "e9234312b4454a2d8e4798d4f9f59586": {
      "model_module": "@jupyter-widgets/base",
      "model_module_version": "1.2.0",
      "model_name": "LayoutModel",
      "state": {}
     },
     "e92f5cd5e81041b9a578fb2250a7a424": {
      "model_module": "@jupyter-widgets/base",
      "model_module_version": "1.2.0",
      "model_name": "LayoutModel",
      "state": {}
     },
     "e930c5b900fd44afa7392a16cdbc0c23": {
      "model_module": "@jupyter-widgets/controls",
      "model_module_version": "1.5.0",
      "model_name": "DescriptionStyleModel",
      "state": {
       "description_width": ""
      }
     },
     "e942c7b3182b4f2ea8e8fc79b5101ed6": {
      "model_module": "@jupyter-widgets/base",
      "model_module_version": "1.2.0",
      "model_name": "LayoutModel",
      "state": {}
     },
     "e95990a233b14802b8a4da773219a77a": {
      "model_module": "@jupyter-widgets/controls",
      "model_module_version": "1.5.0",
      "model_name": "HBoxModel",
      "state": {
       "children": [
        "IPY_MODEL_ade85120e5514b26951f8887fe54a88b",
        "IPY_MODEL_8e5e92e21af84e708be7c595bd0eb878"
       ],
       "layout": "IPY_MODEL_1ddbb4b9f2d24987930fcd142f4bf647"
      }
     },
     "e9c7da4beaf8412db1940dde58c20638": {
      "model_module": "@jupyter-widgets/controls",
      "model_module_version": "1.5.0",
      "model_name": "DescriptionStyleModel",
      "state": {
       "description_width": ""
      }
     },
     "ea06cca26aaa4a038d4cac98290815ba": {
      "model_module": "@jupyter-widgets/base",
      "model_module_version": "1.2.0",
      "model_name": "LayoutModel",
      "state": {}
     },
     "ea1197e002b14543bd27b6c0ae9a0cac": {
      "model_module": "@jupyter-widgets/base",
      "model_module_version": "1.2.0",
      "model_name": "LayoutModel",
      "state": {}
     },
     "ea1d2ee3868d49a0803fd7686b405348": {
      "model_module": "@jupyter-widgets/controls",
      "model_module_version": "1.5.0",
      "model_name": "ProgressStyleModel",
      "state": {
       "description_width": "initial"
      }
     },
     "ea4c9266b0f24220a864fd7f7545e801": {
      "model_module": "@jupyter-widgets/controls",
      "model_module_version": "1.5.0",
      "model_name": "HTMLModel",
      "state": {
       "layout": "IPY_MODEL_dacf22e961ca4035a254adeba99ef903",
       "style": "IPY_MODEL_d7e8dccc18544fbb879cd7160f8baf71",
       "value": " 10/10 [52:31&lt;00:00, 315.16s/it]"
      }
     },
     "ea783c95205d4f54a39c9f78c8ee8ce2": {
      "model_module": "@jupyter-widgets/controls",
      "model_module_version": "1.5.0",
      "model_name": "ProgressStyleModel",
      "state": {
       "description_width": "initial"
      }
     },
     "ea8ea3b8afe5493787e16e0df73867e2": {
      "model_module": "@jupyter-widgets/base",
      "model_module_version": "1.2.0",
      "model_name": "LayoutModel",
      "state": {}
     },
     "ea9671f0665843e6b71402cd21c90b1e": {
      "model_module": "@jupyter-widgets/controls",
      "model_module_version": "1.5.0",
      "model_name": "ProgressStyleModel",
      "state": {
       "description_width": "initial"
      }
     },
     "eac38fe86eb04608b83525d0652eaa47": {
      "model_module": "@jupyter-widgets/controls",
      "model_module_version": "1.5.0",
      "model_name": "ProgressStyleModel",
      "state": {
       "description_width": "initial"
      }
     },
     "eacac61691fd48f1a1d5d31303c72865": {
      "model_module": "@jupyter-widgets/base",
      "model_module_version": "1.2.0",
      "model_name": "LayoutModel",
      "state": {}
     },
     "ead4d56639f3437eaee0b73601d86c24": {
      "model_module": "@jupyter-widgets/base",
      "model_module_version": "1.2.0",
      "model_name": "LayoutModel",
      "state": {}
     },
     "eae1d9a504ac4735ae0d6e7f9389dbdd": {
      "model_module": "@jupyter-widgets/base",
      "model_module_version": "1.2.0",
      "model_name": "LayoutModel",
      "state": {}
     },
     "eb2fd30147424a768588a48beb2df257": {
      "model_module": "@jupyter-widgets/controls",
      "model_module_version": "1.5.0",
      "model_name": "ProgressStyleModel",
      "state": {
       "description_width": "initial"
      }
     },
     "eb5f58f13b844359be1d14846d341765": {
      "model_module": "@jupyter-widgets/controls",
      "model_module_version": "1.5.0",
      "model_name": "DescriptionStyleModel",
      "state": {
       "description_width": ""
      }
     },
     "eb719738317d447bb430ff60714a0828": {
      "model_module": "@jupyter-widgets/controls",
      "model_module_version": "1.5.0",
      "model_name": "HTMLModel",
      "state": {
       "layout": "IPY_MODEL_24d3a8eaa66f47429ca2ea2bd0b851f2",
       "style": "IPY_MODEL_8c0e974a0838470892adc99db1ed61d9",
       "value": " 9/10 [47:33&lt;05:08, 308.62s/it]"
      }
     },
     "ebb1e8f610734e83b71fd4242b2f1b9c": {
      "model_module": "@jupyter-widgets/base",
      "model_module_version": "1.2.0",
      "model_name": "LayoutModel",
      "state": {}
     },
     "ebc2cf394bac4d8b843a556b8a7cf2ba": {
      "model_module": "@jupyter-widgets/base",
      "model_module_version": "1.2.0",
      "model_name": "LayoutModel",
      "state": {}
     },
     "ebdafc4d770247c3be89a39951e9f65f": {
      "model_module": "@jupyter-widgets/controls",
      "model_module_version": "1.5.0",
      "model_name": "FloatProgressModel",
      "state": {
       "bar_style": "danger",
       "description": "Epochs:   0%",
       "layout": "IPY_MODEL_1b3ac9fec1464d40bb0fad021a40b231",
       "max": 10,
       "style": "IPY_MODEL_d9881c7eb9b4417889b91adb56909fe7"
      }
     },
     "ec1a885fb6fa4126b7adf14913083186": {
      "model_module": "@jupyter-widgets/controls",
      "model_module_version": "1.5.0",
      "model_name": "HTMLModel",
      "state": {
       "layout": "IPY_MODEL_3042914d9d1a4048947828899e0e132d",
       "style": "IPY_MODEL_bd7e474e3da747fcb7f3d4ad747c2851",
       "value": " 1563/1563 [02:35&lt;00:00,  9.68it/s]"
      }
     },
     "ec1b844f5aad49fe9c8cebf3efe407d0": {
      "model_module": "@jupyter-widgets/base",
      "model_module_version": "1.2.0",
      "model_name": "LayoutModel",
      "state": {}
     },
     "ec1dc1fa5e574afc842e20302d5ebc4b": {
      "model_module": "@jupyter-widgets/controls",
      "model_module_version": "1.5.0",
      "model_name": "FloatProgressModel",
      "state": {
       "description": "val loss: 5.3395: 100%",
       "layout": "IPY_MODEL_3c234604fc9749ae8bab63c07f7bdc95",
       "max": 157,
       "style": "IPY_MODEL_88d7830b62da4602ba89ed5be4973855",
       "value": 157
      }
     },
     "ec24e1d893a74901879872b7c412fdbf": {
      "model_module": "@jupyter-widgets/base",
      "model_module_version": "1.2.0",
      "model_name": "LayoutModel",
      "state": {}
     },
     "ec2a91268f514353a982b5c6d75f12e9": {
      "model_module": "@jupyter-widgets/base",
      "model_module_version": "1.2.0",
      "model_name": "LayoutModel",
      "state": {}
     },
     "ec3ee0e0dfe743a895b91acecffd99ed": {
      "model_module": "@jupyter-widgets/base",
      "model_module_version": "1.2.0",
      "model_name": "LayoutModel",
      "state": {}
     },
     "ec54cd29c0e846ea8a7675ab5841abc2": {
      "model_module": "@jupyter-widgets/controls",
      "model_module_version": "1.5.0",
      "model_name": "DescriptionStyleModel",
      "state": {
       "description_width": ""
      }
     },
     "ec5f7f358570440eb0b82e6b383597dd": {
      "model_module": "@jupyter-widgets/controls",
      "model_module_version": "1.5.0",
      "model_name": "DescriptionStyleModel",
      "state": {
       "description_width": ""
      }
     },
     "ec6764443d034159b96c00766b80269e": {
      "model_module": "@jupyter-widgets/controls",
      "model_module_version": "1.5.0",
      "model_name": "FloatProgressModel",
      "state": {
       "description": "train loss: 4.0353: 100%",
       "layout": "IPY_MODEL_26a17d2b681e494b90055a17af127e25",
       "max": 1563,
       "style": "IPY_MODEL_535372bf77174558b9301be3abc9d4ab",
       "value": 1563
      }
     },
     "ec6be064a1944635abf716e076a3c33c": {
      "model_module": "@jupyter-widgets/controls",
      "model_module_version": "1.5.0",
      "model_name": "FloatProgressModel",
      "state": {
       "description": "val loss: 3.6718: 100%",
       "layout": "IPY_MODEL_491ccbb6837c45b1979dd09252a13fd9",
       "max": 157,
       "style": "IPY_MODEL_28b96a47f493412895aca7740325a9f4",
       "value": 157
      }
     },
     "ec8ae01e98e84460ba40953174882092": {
      "model_module": "@jupyter-widgets/controls",
      "model_module_version": "1.5.0",
      "model_name": "FloatProgressModel",
      "state": {
       "description": "train loss: 3.6302: 100%",
       "layout": "IPY_MODEL_136ff65bc9b44b99a1567a0a6e47bd5b",
       "max": 1563,
       "style": "IPY_MODEL_677589820fbf45aca8b62ce9331473e7",
       "value": 1563
      }
     },
     "ec943e68eaa54a14882b3bba0f9cfbc8": {
      "model_module": "@jupyter-widgets/controls",
      "model_module_version": "1.5.0",
      "model_name": "HTMLModel",
      "state": {
       "layout": "IPY_MODEL_5a5b78af2b5c4e91a03727d105dc1111",
       "style": "IPY_MODEL_c6b78a8f5eed492a8d1ff67206ad4e4c",
       "value": " 1563/1563 [02:31&lt;00:00, 11.23it/s]"
      }
     },
     "ecad0216cb714a69b9960b6e99a5a116": {
      "model_module": "@jupyter-widgets/base",
      "model_module_version": "1.2.0",
      "model_name": "LayoutModel",
      "state": {}
     },
     "ece8578e70f54c348f1112cef02ef397": {
      "model_module": "@jupyter-widgets/controls",
      "model_module_version": "1.5.0",
      "model_name": "ProgressStyleModel",
      "state": {
       "description_width": "initial"
      }
     },
     "ed074c39e31b45a8b4e77241719d89d9": {
      "model_module": "@jupyter-widgets/base",
      "model_module_version": "1.2.0",
      "model_name": "LayoutModel",
      "state": {}
     },
     "ed08533cac0144409e6c07399a883cf4": {
      "model_module": "@jupyter-widgets/base",
      "model_module_version": "1.2.0",
      "model_name": "LayoutModel",
      "state": {}
     },
     "ed099b2443bd47bd9a05ac1afb2a5153": {
      "model_module": "@jupyter-widgets/controls",
      "model_module_version": "1.5.0",
      "model_name": "FloatProgressModel",
      "state": {
       "description": "val loss: 4.8170: 100%",
       "layout": "IPY_MODEL_52817e5a0887490797ba39c20c5d9518",
       "max": 157,
       "style": "IPY_MODEL_2c28226c32d247b99f2a2327d1e84cf8",
       "value": 157
      }
     },
     "ed2ad0f57c074e66b6d872bee74c0bee": {
      "model_module": "@jupyter-widgets/controls",
      "model_module_version": "1.5.0",
      "model_name": "HTMLModel",
      "state": {
       "layout": "IPY_MODEL_8067005050ec4542905f0893ecabc651",
       "style": "IPY_MODEL_dd1835294c6a4778adfb206e26117e4b",
       "value": " 10/10 [5:49:31&lt;00:00, 2097.12s/it]"
      }
     },
     "ed61cbfd62c241e39d7175d35148411f": {
      "model_module": "@jupyter-widgets/base",
      "model_module_version": "1.2.0",
      "model_name": "LayoutModel",
      "state": {}
     },
     "ed6dbd856c48411c82cc438db7eccc88": {
      "model_module": "@jupyter-widgets/controls",
      "model_module_version": "1.5.0",
      "model_name": "DescriptionStyleModel",
      "state": {
       "description_width": ""
      }
     },
     "edb75a81e6ac459a827c8f7e31818825": {
      "model_module": "@jupyter-widgets/controls",
      "model_module_version": "1.5.0",
      "model_name": "FloatProgressModel",
      "state": {
       "description": "val loss: 4.9309: 100%",
       "layout": "IPY_MODEL_c94dc6fb84c840eca30cb2e89ca699dc",
       "max": 157,
       "style": "IPY_MODEL_edcb399f4d1843ad91daebf5194efcc8",
       "value": 157
      }
     },
     "edc9912610814242a54274f94f747db7": {
      "model_module": "@jupyter-widgets/controls",
      "model_module_version": "1.5.0",
      "model_name": "HBoxModel",
      "state": {
       "children": [
        "IPY_MODEL_79c6416ee8594c25865ae8ecb6e3924e",
        "IPY_MODEL_739679659be243e5b434e583b8766c61"
       ],
       "layout": "IPY_MODEL_bf6b23a0228843d9ba03d3e3f61a990c"
      }
     },
     "edcb399f4d1843ad91daebf5194efcc8": {
      "model_module": "@jupyter-widgets/controls",
      "model_module_version": "1.5.0",
      "model_name": "ProgressStyleModel",
      "state": {
       "description_width": "initial"
      }
     },
     "edd38aae9e3a4b9e827b530cfffc7b4c": {
      "model_module": "@jupyter-widgets/controls",
      "model_module_version": "1.5.0",
      "model_name": "DescriptionStyleModel",
      "state": {
       "description_width": ""
      }
     },
     "edd842029ef14b20b7a0621037dc063f": {
      "model_module": "@jupyter-widgets/base",
      "model_module_version": "1.2.0",
      "model_name": "LayoutModel",
      "state": {}
     },
     "edea2e55ec01422c93632fd01c40dc2e": {
      "model_module": "@jupyter-widgets/controls",
      "model_module_version": "1.5.0",
      "model_name": "ProgressStyleModel",
      "state": {
       "description_width": "initial"
      }
     },
     "edee08d2dfb64cd78db314686dcae20c": {
      "model_module": "@jupyter-widgets/base",
      "model_module_version": "1.2.0",
      "model_name": "LayoutModel",
      "state": {}
     },
     "ee1613c7881440958d511a123920d5a7": {
      "model_module": "@jupyter-widgets/base",
      "model_module_version": "1.2.0",
      "model_name": "LayoutModel",
      "state": {}
     },
     "ee16e8a80f294f75bf943fdbb2f98998": {
      "model_module": "@jupyter-widgets/base",
      "model_module_version": "1.2.0",
      "model_name": "LayoutModel",
      "state": {}
     },
     "ee294ed1301b43d5b45446e41efdebbf": {
      "model_module": "@jupyter-widgets/controls",
      "model_module_version": "1.5.0",
      "model_name": "HTMLModel",
      "state": {
       "layout": "IPY_MODEL_0aa87e2deab449ca85d0d41d0e9a26ea",
       "style": "IPY_MODEL_8f86205d92aa4b4eb9b0fc1c31be291e",
       "value": " 157/157 [00:15&lt;00:00, 11.57it/s]"
      }
     },
     "ee409e1a31bd4098bad94327018a9a04": {
      "model_module": "@jupyter-widgets/controls",
      "model_module_version": "1.5.0",
      "model_name": "DescriptionStyleModel",
      "state": {
       "description_width": ""
      }
     },
     "ee429137e2024ee6be5c2449b98616ef": {
      "model_module": "@jupyter-widgets/base",
      "model_module_version": "1.2.0",
      "model_name": "LayoutModel",
      "state": {}
     },
     "ee50c14f496948eab7f232f8d5b4dd7c": {
      "model_module": "@jupyter-widgets/controls",
      "model_module_version": "1.5.0",
      "model_name": "FloatProgressModel",
      "state": {
       "description": "val loss: 4.0279: 100%",
       "layout": "IPY_MODEL_9642d34ba23f431c8c91230605e49201",
       "max": 157,
       "style": "IPY_MODEL_4a80023d71134ceb8f8ebce839c1917b",
       "value": 157
      }
     },
     "ee565489cb40409590b8c23c3dece7ef": {
      "model_module": "@jupyter-widgets/base",
      "model_module_version": "1.2.0",
      "model_name": "LayoutModel",
      "state": {}
     },
     "ee5729d5b3264f0d9345b61219a7a197": {
      "model_module": "@jupyter-widgets/controls",
      "model_module_version": "1.5.0",
      "model_name": "HTMLModel",
      "state": {
       "layout": "IPY_MODEL_72334e98bd4747c09be19ccdd405b27d",
       "style": "IPY_MODEL_6be61e158fe94ceeaaebc7f10db4b708",
       "value": " 0/1563 [00:00&lt;?, ?it/s]"
      }
     },
     "ee5f7dfcb15f4b80ba0bd956c329f528": {
      "model_module": "@jupyter-widgets/base",
      "model_module_version": "1.2.0",
      "model_name": "LayoutModel",
      "state": {}
     },
     "ee643deeaa26406fafa7b79672fe29ea": {
      "model_module": "@jupyter-widgets/base",
      "model_module_version": "1.2.0",
      "model_name": "LayoutModel",
      "state": {}
     },
     "ee66f72f5f2043718c43eeeff3f1c076": {
      "model_module": "@jupyter-widgets/base",
      "model_module_version": "1.2.0",
      "model_name": "LayoutModel",
      "state": {}
     },
     "ee6dfe583b7e46f98361d6bbe8658652": {
      "model_module": "@jupyter-widgets/controls",
      "model_module_version": "1.5.0",
      "model_name": "ProgressStyleModel",
      "state": {
       "description_width": "initial"
      }
     },
     "ee6e69bfc0b948e98a6cfd552acf8d93": {
      "model_module": "@jupyter-widgets/base",
      "model_module_version": "1.2.0",
      "model_name": "LayoutModel",
      "state": {}
     },
     "ee9d24ec1c154ff684de062519604c17": {
      "model_module": "@jupyter-widgets/controls",
      "model_module_version": "1.5.0",
      "model_name": "HTMLModel",
      "state": {
       "layout": "IPY_MODEL_dc26970e176f4ac2b8151b8cb322408e",
       "style": "IPY_MODEL_83ebeabb22ab463a853fabcc93cc1c7b",
       "value": " 1563/1563 [02:36&lt;00:00, 10.80it/s]"
      }
     },
     "eed0a83f1b4745f287ae6f54ea9325d4": {
      "model_module": "@jupyter-widgets/controls",
      "model_module_version": "1.5.0",
      "model_name": "HTMLModel",
      "state": {
       "layout": "IPY_MODEL_343795c14e2b413d9bd90864b47029ee",
       "style": "IPY_MODEL_8189a46afca1461f9bb380bcb32b70d4",
       "value": " 1563/1563 [02:33&lt;00:00, 10.84it/s]"
      }
     },
     "eee8cab1da7f4542801c87598ccfa6ea": {
      "model_module": "@jupyter-widgets/base",
      "model_module_version": "1.2.0",
      "model_name": "LayoutModel",
      "state": {}
     },
     "eeee321de5dc4e3197b98a8987874053": {
      "model_module": "@jupyter-widgets/controls",
      "model_module_version": "1.5.0",
      "model_name": "HBoxModel",
      "state": {
       "children": [
        "IPY_MODEL_50754c27f5cf45819bac42e337c45c1f",
        "IPY_MODEL_4933c57cb66a47879645ee70c9f24286"
       ],
       "layout": "IPY_MODEL_3e8819f1d26446f0adfc3ab7d5d6ed1b"
      }
     },
     "ef254d499d82422586a3a3cfdd91fc40": {
      "model_module": "@jupyter-widgets/controls",
      "model_module_version": "1.5.0",
      "model_name": "ProgressStyleModel",
      "state": {
       "description_width": "initial"
      }
     },
     "ef364db3926345c8b63b08f001e0f68a": {
      "model_module": "@jupyter-widgets/controls",
      "model_module_version": "1.5.0",
      "model_name": "DescriptionStyleModel",
      "state": {
       "description_width": ""
      }
     },
     "ef42d53878d648ada93e5a46caa95c0a": {
      "model_module": "@jupyter-widgets/controls",
      "model_module_version": "1.5.0",
      "model_name": "ProgressStyleModel",
      "state": {
       "description_width": "initial"
      }
     },
     "ef6593bbd42b4dd9bf15bb7b23977893": {
      "model_module": "@jupyter-widgets/controls",
      "model_module_version": "1.5.0",
      "model_name": "ProgressStyleModel",
      "state": {
       "description_width": "initial"
      }
     },
     "ef8885659ea043bd9f552be19b25626c": {
      "model_module": "@jupyter-widgets/base",
      "model_module_version": "1.2.0",
      "model_name": "LayoutModel",
      "state": {}
     },
     "ef8c8339d52d42ef9ca7b87960a6d7b9": {
      "model_module": "@jupyter-widgets/controls",
      "model_module_version": "1.5.0",
      "model_name": "FloatProgressModel",
      "state": {
       "description": "train loss: 3.1013: 100%",
       "layout": "IPY_MODEL_837d591e47da457abb6da600ec06857a",
       "max": 1563,
       "style": "IPY_MODEL_1d3926d2d3eb4a22b6d8af7b83926445",
       "value": 1563
      }
     },
     "efd1d6bad3b24a778bdd5f322b469d7c": {
      "model_module": "@jupyter-widgets/base",
      "model_module_version": "1.2.0",
      "model_name": "LayoutModel",
      "state": {}
     },
     "efe05724ce4a435e8738c77af2f458a2": {
      "model_module": "@jupyter-widgets/base",
      "model_module_version": "1.2.0",
      "model_name": "LayoutModel",
      "state": {}
     },
     "efed6356c97a4415bdc4ef77df074817": {
      "model_module": "@jupyter-widgets/controls",
      "model_module_version": "1.5.0",
      "model_name": "HTMLModel",
      "state": {
       "layout": "IPY_MODEL_e3f5e130ab1d4bb68c8919dcfc3aebe0",
       "style": "IPY_MODEL_542d9be2031149fd9cdb44338f9cf29d",
       "value": " 1563/1563 [02:34&lt;00:00,  9.83it/s]"
      }
     },
     "eff3525e68374d4faebf53cb14aaff54": {
      "model_module": "@jupyter-widgets/controls",
      "model_module_version": "1.5.0",
      "model_name": "ProgressStyleModel",
      "state": {
       "description_width": "initial"
      }
     },
     "f0117be2152643a6b7eb26054e8d63df": {
      "model_module": "@jupyter-widgets/base",
      "model_module_version": "1.2.0",
      "model_name": "LayoutModel",
      "state": {}
     },
     "f0508d95513a477b94865b345e766582": {
      "model_module": "@jupyter-widgets/base",
      "model_module_version": "1.2.0",
      "model_name": "LayoutModel",
      "state": {}
     },
     "f07c6a78132046a0bca5a74e235363a7": {
      "model_module": "@jupyter-widgets/base",
      "model_module_version": "1.2.0",
      "model_name": "LayoutModel",
      "state": {}
     },
     "f07f9f6d6adc4aeca6c156bfb1bea616": {
      "model_module": "@jupyter-widgets/controls",
      "model_module_version": "1.5.0",
      "model_name": "ProgressStyleModel",
      "state": {
       "description_width": "initial"
      }
     },
     "f0818ab7146a4d088395d30102745fe3": {
      "model_module": "@jupyter-widgets/base",
      "model_module_version": "1.2.0",
      "model_name": "LayoutModel",
      "state": {}
     },
     "f08db28264dc4e1898ea206f6febe7d1": {
      "model_module": "@jupyter-widgets/base",
      "model_module_version": "1.2.0",
      "model_name": "LayoutModel",
      "state": {}
     },
     "f09b12b4c4e142b58859265d26d3d24f": {
      "model_module": "@jupyter-widgets/controls",
      "model_module_version": "1.5.0",
      "model_name": "HTMLModel",
      "state": {
       "layout": "IPY_MODEL_4451467c671649ea8a77158af68f79b8",
       "style": "IPY_MODEL_83f527c3ec2741b49bd33f0244ca552c",
       "value": " 1563/1563 [05:00&lt;00:00,  5.87it/s]"
      }
     },
     "f0d5b6ad8fbe43a8a67c9e6727f99b65": {
      "model_module": "@jupyter-widgets/base",
      "model_module_version": "1.2.0",
      "model_name": "LayoutModel",
      "state": {}
     },
     "f0d7b079506a4db7adbd82b7df20cd66": {
      "model_module": "@jupyter-widgets/controls",
      "model_module_version": "1.5.0",
      "model_name": "FloatProgressModel",
      "state": {
       "description": "train loss: 4.9663: 100%",
       "layout": "IPY_MODEL_94856c797005486c9ac3be3b80a77cb0",
       "max": 1563,
       "style": "IPY_MODEL_f07f9f6d6adc4aeca6c156bfb1bea616",
       "value": 1563
      }
     },
     "f0da90a64b2a4a6187ffc4abb674b29b": {
      "model_module": "@jupyter-widgets/controls",
      "model_module_version": "1.5.0",
      "model_name": "ProgressStyleModel",
      "state": {
       "description_width": "initial"
      }
     },
     "f0e39177fc36455bba5a03163da6a5ab": {
      "model_module": "@jupyter-widgets/controls",
      "model_module_version": "1.5.0",
      "model_name": "HTMLModel",
      "state": {
       "layout": "IPY_MODEL_f868b1565bc345479f12ec3dd866dd5e",
       "style": "IPY_MODEL_b7dffe9267cd4304b16a2937f83dfabe",
       "value": " 1563/1563 [02:33&lt;00:00, 10.33it/s]"
      }
     },
     "f0e4597da849423daadd8be0f90892de": {
      "model_module": "@jupyter-widgets/base",
      "model_module_version": "1.2.0",
      "model_name": "LayoutModel",
      "state": {}
     },
     "f109845e57c14459b27cad42f2dfa9a4": {
      "model_module": "@jupyter-widgets/base",
      "model_module_version": "1.2.0",
      "model_name": "LayoutModel",
      "state": {}
     },
     "f10dde068ecd4ce684b78d454a69d2f5": {
      "model_module": "@jupyter-widgets/controls",
      "model_module_version": "1.5.0",
      "model_name": "ProgressStyleModel",
      "state": {
       "description_width": "initial"
      }
     },
     "f10df99d6ca24e46b1d6907cf007d0d5": {
      "model_module": "@jupyter-widgets/controls",
      "model_module_version": "1.5.0",
      "model_name": "HTMLModel",
      "state": {
       "layout": "IPY_MODEL_d75ba1c5c8c8449aabca69e486fc29b9",
       "style": "IPY_MODEL_4b562a04e03a45248ec60bdaf8f36d1b",
       "value": " 1563/1563 [02:34&lt;00:00, 10.23it/s]"
      }
     },
     "f127d8485d57451492a3e9b310124c29": {
      "model_module": "@jupyter-widgets/base",
      "model_module_version": "1.2.0",
      "model_name": "LayoutModel",
      "state": {}
     },
     "f13db0d869be4615ad1efb9d5665e977": {
      "model_module": "@jupyter-widgets/base",
      "model_module_version": "1.2.0",
      "model_name": "LayoutModel",
      "state": {}
     },
     "f13eb65480834bf99638a5213e5b4f01": {
      "model_module": "@jupyter-widgets/controls",
      "model_module_version": "1.5.0",
      "model_name": "ProgressStyleModel",
      "state": {
       "description_width": "initial"
      }
     },
     "f143d66acf914fddbce34f47a5132398": {
      "model_module": "@jupyter-widgets/controls",
      "model_module_version": "1.5.0",
      "model_name": "ProgressStyleModel",
      "state": {
       "description_width": "initial"
      }
     },
     "f164a64b33ea4064966971cc773fd82a": {
      "model_module": "@jupyter-widgets/controls",
      "model_module_version": "1.5.0",
      "model_name": "DescriptionStyleModel",
      "state": {
       "description_width": ""
      }
     },
     "f1663670b2ff4fe68f032752a4dc13b4": {
      "model_module": "@jupyter-widgets/base",
      "model_module_version": "1.2.0",
      "model_name": "LayoutModel",
      "state": {}
     },
     "f176ada7ea0549f9950b4dbba75d913d": {
      "model_module": "@jupyter-widgets/base",
      "model_module_version": "1.2.0",
      "model_name": "LayoutModel",
      "state": {}
     },
     "f188ecce82b84197ac65c495c47a147c": {
      "model_module": "@jupyter-widgets/base",
      "model_module_version": "1.2.0",
      "model_name": "LayoutModel",
      "state": {}
     },
     "f1965ce7dca143fe9d50d7c6a303af17": {
      "model_module": "@jupyter-widgets/controls",
      "model_module_version": "1.5.0",
      "model_name": "DescriptionStyleModel",
      "state": {
       "description_width": ""
      }
     },
     "f1a19a7607244b56844634ee1ff08b2c": {
      "model_module": "@jupyter-widgets/base",
      "model_module_version": "1.2.0",
      "model_name": "LayoutModel",
      "state": {}
     },
     "f1ab5e741b01457987cc6e46778c7a41": {
      "model_module": "@jupyter-widgets/base",
      "model_module_version": "1.2.0",
      "model_name": "LayoutModel",
      "state": {}
     },
     "f2127fd82bec4304a9f152d6d5f58a60": {
      "model_module": "@jupyter-widgets/controls",
      "model_module_version": "1.5.0",
      "model_name": "HTMLModel",
      "state": {
       "layout": "IPY_MODEL_5b963404ba8c476e8aee70e24e3983a3",
       "style": "IPY_MODEL_56dec59ee9ed42329cb8703e72466dd3",
       "value": " 157/157 [00:15&lt;00:00, 11.70it/s]"
      }
     },
     "f21ffb0b2bc442299f07fe4c0609723e": {
      "model_module": "@jupyter-widgets/base",
      "model_module_version": "1.2.0",
      "model_name": "LayoutModel",
      "state": {}
     },
     "f2208bca168f4419bb0f25e0cf63e297": {
      "model_module": "@jupyter-widgets/controls",
      "model_module_version": "1.5.0",
      "model_name": "HTMLModel",
      "state": {
       "layout": "IPY_MODEL_d613a64427f14d63a156a4774ce2e6d5",
       "style": "IPY_MODEL_0ac1cbe137714ba0be5668761c79d042",
       "value": " 0/10 [01:40&lt;?, ?it/s]"
      }
     },
     "f223bef70eaa4bf99764043671f07ec3": {
      "model_module": "@jupyter-widgets/base",
      "model_module_version": "1.2.0",
      "model_name": "LayoutModel",
      "state": {}
     },
     "f236bda9025f42b39169e3488124077a": {
      "model_module": "@jupyter-widgets/controls",
      "model_module_version": "1.5.0",
      "model_name": "FloatProgressModel",
      "state": {
       "description": "val loss: 3.6539: 100%",
       "layout": "IPY_MODEL_efe05724ce4a435e8738c77af2f458a2",
       "max": 157,
       "style": "IPY_MODEL_80627810da4846269d7dbe19273c2edc",
       "value": 157
      }
     },
     "f242a8b0410649b4b1569319c9714643": {
      "model_module": "@jupyter-widgets/controls",
      "model_module_version": "1.5.0",
      "model_name": "ProgressStyleModel",
      "state": {
       "description_width": "initial"
      }
     },
     "f257bd1d70ea4d2181014e7445e32317": {
      "model_module": "@jupyter-widgets/controls",
      "model_module_version": "1.5.0",
      "model_name": "FloatProgressModel",
      "state": {
       "description": "train loss: 2.6994: 100%",
       "layout": "IPY_MODEL_52087f95ac774abcbba78bccfeb43c0d",
       "max": 1563,
       "style": "IPY_MODEL_a2b8a79ef1974d4f926af57dc31d7b8a",
       "value": 1563
      }
     },
     "f2726668ab5e44e0afc8adff20ddd20e": {
      "model_module": "@jupyter-widgets/base",
      "model_module_version": "1.2.0",
      "model_name": "LayoutModel",
      "state": {}
     },
     "f2878c83ae584538814c97784baf84be": {
      "model_module": "@jupyter-widgets/controls",
      "model_module_version": "1.5.0",
      "model_name": "HTMLModel",
      "state": {
       "layout": "IPY_MODEL_8a3c6db2a3264aba8550bf609209f403",
       "style": "IPY_MODEL_522ab47872c242cc8caf636cb5854262",
       "value": " 157/157 [00:10&lt;00:00, 15.78it/s]"
      }
     },
     "f2b48a633afe476b83aa7e33dd2f1346": {
      "model_module": "@jupyter-widgets/controls",
      "model_module_version": "1.5.0",
      "model_name": "FloatProgressModel",
      "state": {
       "description": "train loss: 4.5668: 100%",
       "layout": "IPY_MODEL_084f5855c549401fb4d9fb2389947af3",
       "max": 1563,
       "style": "IPY_MODEL_d19a7684209543719f93413e78292210",
       "value": 1563
      }
     },
     "f2b8a50cbf614c7c86abe77667598e0c": {
      "model_module": "@jupyter-widgets/controls",
      "model_module_version": "1.5.0",
      "model_name": "DescriptionStyleModel",
      "state": {
       "description_width": ""
      }
     },
     "f2bdce98a1704e7899e36abc93fdc38a": {
      "model_module": "@jupyter-widgets/controls",
      "model_module_version": "1.5.0",
      "model_name": "DescriptionStyleModel",
      "state": {
       "description_width": ""
      }
     },
     "f2c9c865e86b4074bb91cbde9ab16fb9": {
      "model_module": "@jupyter-widgets/controls",
      "model_module_version": "1.5.0",
      "model_name": "HTMLModel",
      "state": {
       "layout": "IPY_MODEL_3b34cc3d0eb94fe2b1d055109c76695f",
       "style": "IPY_MODEL_fa317174721543cda1206782bc955269",
       "value": " 1563/1563 [04:55&lt;00:00,  5.88it/s]"
      }
     },
     "f2ffd988ea974560acb749d0b979e013": {
      "model_module": "@jupyter-widgets/base",
      "model_module_version": "1.2.0",
      "model_name": "LayoutModel",
      "state": {}
     },
     "f3234225e1264f398cea0954fa861f70": {
      "model_module": "@jupyter-widgets/controls",
      "model_module_version": "1.5.0",
      "model_name": "DescriptionStyleModel",
      "state": {
       "description_width": ""
      }
     },
     "f3298cc8d0734a16958ea13484f66469": {
      "model_module": "@jupyter-widgets/base",
      "model_module_version": "1.2.0",
      "model_name": "LayoutModel",
      "state": {}
     },
     "f34353e56f2d4b9aa54cdfd5da923a22": {
      "model_module": "@jupyter-widgets/controls",
      "model_module_version": "1.5.0",
      "model_name": "ProgressStyleModel",
      "state": {
       "description_width": "initial"
      }
     },
     "f34a0df585c7427fa02de02cd40ef27e": {
      "model_module": "@jupyter-widgets/controls",
      "model_module_version": "1.5.0",
      "model_name": "FloatProgressModel",
      "state": {
       "description": "val loss: 4.0246: 100%",
       "layout": "IPY_MODEL_36f5d37a89674229946d41439748e4fc",
       "max": 157,
       "style": "IPY_MODEL_f5ecc9b4eb484f4896e14794ec47c9b7",
       "value": 157
      }
     },
     "f36bf0e805684e1b9c2d1a8d08a216b9": {
      "model_module": "@jupyter-widgets/controls",
      "model_module_version": "1.5.0",
      "model_name": "HTMLModel",
      "state": {
       "layout": "IPY_MODEL_88643764e7c14a8b935d4f8fb8075e54",
       "style": "IPY_MODEL_f9a16cc525be42e0bec3ecb7598a7d6f",
       "value": " 1563/1563 [02:36&lt;00:00, 10.75it/s]"
      }
     },
     "f3774f5796854ebebf9481c99a64efd0": {
      "model_module": "@jupyter-widgets/base",
      "model_module_version": "1.2.0",
      "model_name": "LayoutModel",
      "state": {}
     },
     "f3895dc3bf8d4047812d3e2c3ad78434": {
      "model_module": "@jupyter-widgets/controls",
      "model_module_version": "1.5.0",
      "model_name": "ProgressStyleModel",
      "state": {
       "description_width": "initial"
      }
     },
     "f39374d6d4a14efcad2abbbdc40487d6": {
      "model_module": "@jupyter-widgets/controls",
      "model_module_version": "1.5.0",
      "model_name": "ProgressStyleModel",
      "state": {
       "description_width": "initial"
      }
     },
     "f393ad1f1a2d48fb85fff0f1f4b713cc": {
      "model_module": "@jupyter-widgets/controls",
      "model_module_version": "1.5.0",
      "model_name": "FloatProgressModel",
      "state": {
       "description": "val loss: 4.3055: 100%",
       "layout": "IPY_MODEL_b9d628211c9d477185601bf54a17c438",
       "max": 157,
       "style": "IPY_MODEL_55a9d528e21844dda2fb3a0730978d22",
       "value": 157
      }
     },
     "f3a773aa184e40c6a2451ddb7d40851d": {
      "model_module": "@jupyter-widgets/controls",
      "model_module_version": "1.5.0",
      "model_name": "DescriptionStyleModel",
      "state": {
       "description_width": ""
      }
     },
     "f3b7a0bdec2a4a16afd5c26b26ad83dc": {
      "model_module": "@jupyter-widgets/controls",
      "model_module_version": "1.5.0",
      "model_name": "ProgressStyleModel",
      "state": {
       "description_width": "initial"
      }
     },
     "f3f93d86e1914c6595a98f04ff3f28c0": {
      "model_module": "@jupyter-widgets/base",
      "model_module_version": "1.2.0",
      "model_name": "LayoutModel",
      "state": {}
     },
     "f3fa67b2c426415b8e5dd02db163a080": {
      "model_module": "@jupyter-widgets/base",
      "model_module_version": "1.2.0",
      "model_name": "LayoutModel",
      "state": {}
     },
     "f3faeaf1add1498d8706e7357a17ecce": {
      "model_module": "@jupyter-widgets/base",
      "model_module_version": "1.2.0",
      "model_name": "LayoutModel",
      "state": {}
     },
     "f4010db0de7942e69815a543f4ff17eb": {
      "model_module": "@jupyter-widgets/base",
      "model_module_version": "1.2.0",
      "model_name": "LayoutModel",
      "state": {}
     },
     "f44a3af24af14e2ab150f0f905e68653": {
      "model_module": "@jupyter-widgets/controls",
      "model_module_version": "1.5.0",
      "model_name": "HTMLModel",
      "state": {
       "layout": "IPY_MODEL_d95abcfdd67044738d944e8f19624266",
       "style": "IPY_MODEL_86cc2c56a5074d2795ee3837315e285f",
       "value": " 1563/1563 [02:34&lt;00:00, 10.23it/s]"
      }
     },
     "f450bde339a84676aa759997df8906cb": {
      "model_module": "@jupyter-widgets/base",
      "model_module_version": "1.2.0",
      "model_name": "LayoutModel",
      "state": {}
     },
     "f451a60e0e6f48be940e0cb9f564ea50": {
      "model_module": "@jupyter-widgets/base",
      "model_module_version": "1.2.0",
      "model_name": "LayoutModel",
      "state": {}
     },
     "f4802efbce8d43669f959306bfcf3837": {
      "model_module": "@jupyter-widgets/base",
      "model_module_version": "1.2.0",
      "model_name": "LayoutModel",
      "state": {}
     },
     "f4869bbfab214e9683af95e391c54452": {
      "model_module": "@jupyter-widgets/controls",
      "model_module_version": "1.5.0",
      "model_name": "DescriptionStyleModel",
      "state": {
       "description_width": ""
      }
     },
     "f4b86b5ee1a640bc833f5b8bf6a9f3ca": {
      "model_module": "@jupyter-widgets/controls",
      "model_module_version": "1.5.0",
      "model_name": "DescriptionStyleModel",
      "state": {
       "description_width": ""
      }
     },
     "f4ce0d7809dc4815b8d766f01c28bcc5": {
      "model_module": "@jupyter-widgets/base",
      "model_module_version": "1.2.0",
      "model_name": "LayoutModel",
      "state": {}
     },
     "f4daff9f6b574e589bd8f1be24ff2522": {
      "model_module": "@jupyter-widgets/controls",
      "model_module_version": "1.5.0",
      "model_name": "HTMLModel",
      "state": {
       "layout": "IPY_MODEL_795195fd9f424a1ba15f7931749cf8b3",
       "style": "IPY_MODEL_cc9c6313c0b042bcac2043c10c47967d",
       "value": " 157/157 [00:36&lt;00:00,  7.91s/it]"
      }
     },
     "f4df760d334e4b8f828a2eab86d1cc33": {
      "model_module": "@jupyter-widgets/base",
      "model_module_version": "1.2.0",
      "model_name": "LayoutModel",
      "state": {}
     },
     "f4ec8a1ddd01448685a91bbff69558bb": {
      "model_module": "@jupyter-widgets/base",
      "model_module_version": "1.2.0",
      "model_name": "LayoutModel",
      "state": {}
     },
     "f4ef2f0bfcd64456bdbc757464c6a875": {
      "model_module": "@jupyter-widgets/controls",
      "model_module_version": "1.5.0",
      "model_name": "HTMLModel",
      "state": {
       "layout": "IPY_MODEL_440baa18aa62477695939d8b14433b19",
       "style": "IPY_MODEL_f7adc7f10109421bbff561c9d88a73d4",
       "value": " 157/157 [00:12&lt;00:00, 12.71it/s]"
      }
     },
     "f5058ee7e58e4a12b2eb5326ced6f54b": {
      "model_module": "@jupyter-widgets/controls",
      "model_module_version": "1.5.0",
      "model_name": "DescriptionStyleModel",
      "state": {
       "description_width": ""
      }
     },
     "f5164b7974e947718fcfd98ecdaf1c2e": {
      "model_module": "@jupyter-widgets/controls",
      "model_module_version": "1.5.0",
      "model_name": "HTMLModel",
      "state": {
       "layout": "IPY_MODEL_19d00e017008458abc0081cf84304714",
       "style": "IPY_MODEL_73e154a32ff14679a7e595c1fdb93d83",
       "value": " 1563/1563 [04:59&lt;00:00,  5.97it/s]"
      }
     },
     "f538a7094ca14ddeb06f118f4c7ed14b": {
      "model_module": "@jupyter-widgets/controls",
      "model_module_version": "1.5.0",
      "model_name": "FloatProgressModel",
      "state": {
       "description": "val loss: 2.7905: 100%",
       "layout": "IPY_MODEL_9716555b64524fcd8aab3330592455e7",
       "max": 157,
       "style": "IPY_MODEL_93d9ddc21b3c4d19bc44e2f1950c5e14",
       "value": 157
      }
     },
     "f53a929a19d84ac58ab39acce4609047": {
      "model_module": "@jupyter-widgets/base",
      "model_module_version": "1.2.0",
      "model_name": "LayoutModel",
      "state": {}
     },
     "f53e2ed404544643891725029b71e1ba": {
      "model_module": "@jupyter-widgets/base",
      "model_module_version": "1.2.0",
      "model_name": "LayoutModel",
      "state": {}
     },
     "f5596efee22f4f12a975462175449a4d": {
      "model_module": "@jupyter-widgets/controls",
      "model_module_version": "1.5.0",
      "model_name": "HTMLModel",
      "state": {
       "layout": "IPY_MODEL_1d0c33fd796d4031ba456be255de5f54",
       "style": "IPY_MODEL_cdb6cdfc63fe40bf9838943ab6b40a6d",
       "value": " 157/157 [00:09&lt;00:00, 15.68it/s]"
      }
     },
     "f56d20db9a86486390684225ffe032ca": {
      "model_module": "@jupyter-widgets/base",
      "model_module_version": "1.2.0",
      "model_name": "LayoutModel",
      "state": {}
     },
     "f5be1e1916194edbbf91c863a3110f3e": {
      "model_module": "@jupyter-widgets/controls",
      "model_module_version": "1.5.0",
      "model_name": "ProgressStyleModel",
      "state": {
       "description_width": "initial"
      }
     },
     "f5bf4bc4723a45428425c970e464f067": {
      "model_module": "@jupyter-widgets/controls",
      "model_module_version": "1.5.0",
      "model_name": "HTMLModel",
      "state": {
       "layout": "IPY_MODEL_4ec0f89f68e74282becaf1d6a57a924c",
       "style": "IPY_MODEL_397184e51c76453e8488d5b8641452f6",
       "value": " 157/157 [00:10&lt;00:00, 15.84it/s]"
      }
     },
     "f5e4a38382314358aec6a803e7c20d3d": {
      "model_module": "@jupyter-widgets/controls",
      "model_module_version": "1.5.0",
      "model_name": "FloatProgressModel",
      "state": {
       "description": "val loss: 3.0388: 100%",
       "layout": "IPY_MODEL_7120a8308497458aa19c652bf25bad96",
       "max": 157,
       "style": "IPY_MODEL_935883553a3b4d44847e39f2504e8750",
       "value": 157
      }
     },
     "f5ecc9b4eb484f4896e14794ec47c9b7": {
      "model_module": "@jupyter-widgets/controls",
      "model_module_version": "1.5.0",
      "model_name": "ProgressStyleModel",
      "state": {
       "description_width": "initial"
      }
     },
     "f5edebf41d974c0ba1ef9bc4b97c5992": {
      "model_module": "@jupyter-widgets/controls",
      "model_module_version": "1.5.0",
      "model_name": "DescriptionStyleModel",
      "state": {
       "description_width": ""
      }
     },
     "f5fc2796a56140d78426f1a3d39b3ddf": {
      "model_module": "@jupyter-widgets/base",
      "model_module_version": "1.2.0",
      "model_name": "LayoutModel",
      "state": {}
     },
     "f5fe146440264145849e3dbd729232f1": {
      "model_module": "@jupyter-widgets/base",
      "model_module_version": "1.2.0",
      "model_name": "LayoutModel",
      "state": {}
     },
     "f60f20f60748405381eac256535a9dca": {
      "model_module": "@jupyter-widgets/controls",
      "model_module_version": "1.5.0",
      "model_name": "ProgressStyleModel",
      "state": {
       "description_width": "initial"
      }
     },
     "f61dffbf2a074cbb9eafb0a62ceb9248": {
      "model_module": "@jupyter-widgets/controls",
      "model_module_version": "1.5.0",
      "model_name": "DescriptionStyleModel",
      "state": {
       "description_width": ""
      }
     },
     "f621aaf07f2b41098d8cc81548450147": {
      "model_module": "@jupyter-widgets/base",
      "model_module_version": "1.2.0",
      "model_name": "LayoutModel",
      "state": {}
     },
     "f62c2190d8ab4e0a9dc65d21599493c3": {
      "model_module": "@jupyter-widgets/controls",
      "model_module_version": "1.5.0",
      "model_name": "FloatProgressModel",
      "state": {
       "description": "val loss: 4.4606: 100%",
       "layout": "IPY_MODEL_d570b4e06818416db2540b7a5d45b1da",
       "max": 157,
       "style": "IPY_MODEL_7c6cc93aa88f4e48ba294d8f70fbf18d",
       "value": 157
      }
     },
     "f62d85fa3b2041da926cc7be07402efd": {
      "model_module": "@jupyter-widgets/base",
      "model_module_version": "1.2.0",
      "model_name": "LayoutModel",
      "state": {}
     },
     "f63a73678e6e46a2af1418a93fa67b14": {
      "model_module": "@jupyter-widgets/controls",
      "model_module_version": "1.5.0",
      "model_name": "DescriptionStyleModel",
      "state": {
       "description_width": ""
      }
     },
     "f6513772abde4f6cbc7e8b01a300b1fd": {
      "model_module": "@jupyter-widgets/base",
      "model_module_version": "1.2.0",
      "model_name": "LayoutModel",
      "state": {}
     },
     "f677f839082b4ebbab18adc5c7c9bac6": {
      "model_module": "@jupyter-widgets/controls",
      "model_module_version": "1.5.0",
      "model_name": "FloatProgressModel",
      "state": {
       "description": "val loss: 4.4411: 100%",
       "layout": "IPY_MODEL_441232044d7f4cf2b922f3b9a33dab0c",
       "max": 157,
       "style": "IPY_MODEL_abb54057f3be4c4c80f60efab551921f",
       "value": 157
      }
     },
     "f681814621ee40b590f139a9c0de6792": {
      "model_module": "@jupyter-widgets/base",
      "model_module_version": "1.2.0",
      "model_name": "LayoutModel",
      "state": {}
     },
     "f6a61563ac274b8aa9a88a709934c091": {
      "model_module": "@jupyter-widgets/controls",
      "model_module_version": "1.5.0",
      "model_name": "ProgressStyleModel",
      "state": {
       "description_width": "initial"
      }
     },
     "f6a813c932eb4790be2470278c1c0391": {
      "model_module": "@jupyter-widgets/controls",
      "model_module_version": "1.5.0",
      "model_name": "FloatProgressModel",
      "state": {
       "bar_style": "success",
       "description": "Train Loss: 2.7726 - Val Loss: 3.6599: 100%",
       "layout": "IPY_MODEL_65a8b714b8874e7a828ba121ddaadddb",
       "max": 10,
       "style": "IPY_MODEL_a4f4db778f084a46b4bcf5b8ed026839",
       "value": 10
      }
     },
     "f6b5d8c718dc4b72a902328bd9320130": {
      "model_module": "@jupyter-widgets/base",
      "model_module_version": "1.2.0",
      "model_name": "LayoutModel",
      "state": {}
     },
     "f6f36e4c18be44f68b1a67af06d886d1": {
      "model_module": "@jupyter-widgets/controls",
      "model_module_version": "1.5.0",
      "model_name": "FloatProgressModel",
      "state": {
       "description": "val loss: 2.8795: 100%",
       "layout": "IPY_MODEL_49db62b24e3c4dd38f4280f9303e324e",
       "max": 157,
       "style": "IPY_MODEL_fb21efc741a84902955a3a6ad374dc60",
       "value": 157
      }
     },
     "f74a8c279bbf49f6a462597d8e451826": {
      "model_module": "@jupyter-widgets/base",
      "model_module_version": "1.2.0",
      "model_name": "LayoutModel",
      "state": {}
     },
     "f75efae8bdea45cf8d2c3325fe025c6c": {
      "model_module": "@jupyter-widgets/controls",
      "model_module_version": "1.5.0",
      "model_name": "FloatProgressModel",
      "state": {
       "description": "train loss: 3.6791: 100%",
       "layout": "IPY_MODEL_1e53739db4ae4374810b0b6e05d7e166",
       "max": 1563,
       "style": "IPY_MODEL_679a021ee11e434a99f94fecb06540ca",
       "value": 1563
      }
     },
     "f76a2ce81c694f4ead77f381e2c22a0c": {
      "model_module": "@jupyter-widgets/controls",
      "model_module_version": "1.5.0",
      "model_name": "FloatProgressModel",
      "state": {
       "description": "val loss: 5.5386: 100%",
       "layout": "IPY_MODEL_f223bef70eaa4bf99764043671f07ec3",
       "max": 157,
       "style": "IPY_MODEL_2d828d0b1e994a90a2e4395eadb9800f",
       "value": 157
      }
     },
     "f78928cb5e1b4a66ae121fe95a44761d": {
      "model_module": "@jupyter-widgets/base",
      "model_module_version": "1.2.0",
      "model_name": "LayoutModel",
      "state": {}
     },
     "f7adc7f10109421bbff561c9d88a73d4": {
      "model_module": "@jupyter-widgets/controls",
      "model_module_version": "1.5.0",
      "model_name": "DescriptionStyleModel",
      "state": {
       "description_width": ""
      }
     },
     "f7c13139eada46adab84a94791aa1f75": {
      "model_module": "@jupyter-widgets/controls",
      "model_module_version": "1.5.0",
      "model_name": "ProgressStyleModel",
      "state": {
       "description_width": "initial"
      }
     },
     "f7e786cd24404b21b46b396b1e8e596b": {
      "model_module": "@jupyter-widgets/controls",
      "model_module_version": "1.5.0",
      "model_name": "FloatProgressModel",
      "state": {
       "description": "val loss: 5.3569: 100%",
       "layout": "IPY_MODEL_2e37349c8e394c2d96e143b21ca5712a",
       "max": 157,
       "style": "IPY_MODEL_f242a8b0410649b4b1569319c9714643",
       "value": 157
      }
     },
     "f7e91b18d36e4b9f8fe083a2ee40a023": {
      "model_module": "@jupyter-widgets/base",
      "model_module_version": "1.2.0",
      "model_name": "LayoutModel",
      "state": {}
     },
     "f8102078a852419cbc507fedefc3ece5": {
      "model_module": "@jupyter-widgets/base",
      "model_module_version": "1.2.0",
      "model_name": "LayoutModel",
      "state": {}
     },
     "f81f2c8231e04ff1a060ab826149bcad": {
      "model_module": "@jupyter-widgets/controls",
      "model_module_version": "1.5.0",
      "model_name": "ProgressStyleModel",
      "state": {
       "description_width": "initial"
      }
     },
     "f8428964bd26489885e1dd7fb2684794": {
      "model_module": "@jupyter-widgets/controls",
      "model_module_version": "1.5.0",
      "model_name": "HTMLModel",
      "state": {
       "layout": "IPY_MODEL_832afc6f6fd34ddc8f499296ad769124",
       "style": "IPY_MODEL_ff20dda7c0c54c7e85cf684373458683",
       "value": " 1563/1563 [05:00&lt;00:00,  5.90it/s]"
      }
     },
     "f868b1565bc345479f12ec3dd866dd5e": {
      "model_module": "@jupyter-widgets/base",
      "model_module_version": "1.2.0",
      "model_name": "LayoutModel",
      "state": {}
     },
     "f88d8c1b3adf4089add4a8473ceeec08": {
      "model_module": "@jupyter-widgets/controls",
      "model_module_version": "1.5.0",
      "model_name": "HTMLModel",
      "state": {
       "layout": "IPY_MODEL_cf4918c8d8ef495ab8f3d18b64617b69",
       "style": "IPY_MODEL_e6165cebf39044ff8e3c05951d29c79d",
       "value": " 157/157 [00:09&lt;00:00, 15.72it/s]"
      }
     },
     "f8c423ab53dd4386afd53f315ba7f633": {
      "model_module": "@jupyter-widgets/controls",
      "model_module_version": "1.5.0",
      "model_name": "FloatProgressModel",
      "state": {
       "description": "val loss: 5.0456: 100%",
       "layout": "IPY_MODEL_c1b2344ea85d4ffaada619b402026453",
       "max": 157,
       "style": "IPY_MODEL_30bca6a9c08c4425a854125972da7388",
       "value": 157
      }
     },
     "f8c7fab5532e488585cb2dd6e78020eb": {
      "model_module": "@jupyter-widgets/base",
      "model_module_version": "1.2.0",
      "model_name": "LayoutModel",
      "state": {}
     },
     "f8c9e38cbfdf45ba82e6bc2146e927fe": {
      "model_module": "@jupyter-widgets/controls",
      "model_module_version": "1.5.0",
      "model_name": "DescriptionStyleModel",
      "state": {
       "description_width": ""
      }
     },
     "f8d7fc0be86e4b9b96c8c5ef77506273": {
      "model_module": "@jupyter-widgets/base",
      "model_module_version": "1.2.0",
      "model_name": "LayoutModel",
      "state": {}
     },
     "f8e8bdd108154bb9a91a4d1aa57ae87a": {
      "model_module": "@jupyter-widgets/base",
      "model_module_version": "1.2.0",
      "model_name": "LayoutModel",
      "state": {}
     },
     "f8ece277a6eb466b8fd4d9a5195dd09d": {
      "model_module": "@jupyter-widgets/controls",
      "model_module_version": "1.5.0",
      "model_name": "DescriptionStyleModel",
      "state": {
       "description_width": ""
      }
     },
     "f920416be62045ed9c201f86eadcbf9f": {
      "model_module": "@jupyter-widgets/base",
      "model_module_version": "1.2.0",
      "model_name": "LayoutModel",
      "state": {}
     },
     "f93e228804eb4cdf8dc0dc543156db41": {
      "model_module": "@jupyter-widgets/controls",
      "model_module_version": "1.5.0",
      "model_name": "DescriptionStyleModel",
      "state": {
       "description_width": ""
      }
     },
     "f95003889d064217afd5351289d7c964": {
      "model_module": "@jupyter-widgets/base",
      "model_module_version": "1.2.0",
      "model_name": "LayoutModel",
      "state": {}
     },
     "f97ec7f4c041452ba73e54081f244079": {
      "model_module": "@jupyter-widgets/controls",
      "model_module_version": "1.5.0",
      "model_name": "FloatProgressModel",
      "state": {
       "bar_style": "danger",
       "description": "train loss: 5.3005:   5%",
       "layout": "IPY_MODEL_e892be735d864cbb8092dd71b719d122",
       "max": 1563,
       "style": "IPY_MODEL_695034a38ff1426c82645a7c2c65b04d",
       "value": 77
      }
     },
     "f9812733bfc847c996b4ff02b528b17b": {
      "model_module": "@jupyter-widgets/base",
      "model_module_version": "1.2.0",
      "model_name": "LayoutModel",
      "state": {}
     },
     "f9a16cc525be42e0bec3ecb7598a7d6f": {
      "model_module": "@jupyter-widgets/controls",
      "model_module_version": "1.5.0",
      "model_name": "DescriptionStyleModel",
      "state": {
       "description_width": ""
      }
     },
     "f9ac780f32244dcbbaf8519b33279a1f": {
      "model_module": "@jupyter-widgets/controls",
      "model_module_version": "1.5.0",
      "model_name": "FloatProgressModel",
      "state": {
       "description": "train loss: 3.4011: 100%",
       "layout": "IPY_MODEL_6d78c63f85804e06b3966999d116fa31",
       "max": 1563,
       "style": "IPY_MODEL_9d103a1d1fea4fe9960f52c19dcea779",
       "value": 1563
      }
     },
     "f9cc1ae56b3644be9eec97c0d203429e": {
      "model_module": "@jupyter-widgets/controls",
      "model_module_version": "1.5.0",
      "model_name": "HTMLModel",
      "state": {
       "layout": "IPY_MODEL_1f2b723191eb44dca711571b0ae1e722",
       "style": "IPY_MODEL_d68573491a784a77ab53b300ceb3cde8",
       "value": " 1563/1563 [02:36&lt;00:00, 10.04it/s]"
      }
     },
     "f9cf3a32b73048878786d7aebfcb3c68": {
      "model_module": "@jupyter-widgets/controls",
      "model_module_version": "1.5.0",
      "model_name": "HTMLModel",
      "state": {
       "layout": "IPY_MODEL_d530d1aee8664de0a32b69f4592b4bdb",
       "style": "IPY_MODEL_21cd4ba1905841f1b44e05f0fe4a8712",
       "value": " 157/157 [00:09&lt;00:00, 15.84it/s]"
      }
     },
     "fa010a312c6f4e72bafc661a1d3c82e5": {
      "model_module": "@jupyter-widgets/controls",
      "model_module_version": "1.5.0",
      "model_name": "ProgressStyleModel",
      "state": {
       "description_width": "initial"
      }
     },
     "fa0cc314c5b346d4ac9e00c1daa4df15": {
      "model_module": "@jupyter-widgets/controls",
      "model_module_version": "1.5.0",
      "model_name": "ProgressStyleModel",
      "state": {
       "description_width": "initial"
      }
     },
     "fa0f0581074c44c88233bd0acacfa23f": {
      "model_module": "@jupyter-widgets/base",
      "model_module_version": "1.2.0",
      "model_name": "LayoutModel",
      "state": {}
     },
     "fa153e0feb604c25b2a48f640c628bc0": {
      "model_module": "@jupyter-widgets/controls",
      "model_module_version": "1.5.0",
      "model_name": "HTMLModel",
      "state": {
       "layout": "IPY_MODEL_f8d7fc0be86e4b9b96c8c5ef77506273",
       "style": "IPY_MODEL_64e892e755d448ccb00e2989f8e817d0",
       "value": " 157/157 [00:14&lt;00:00, 10.51it/s]"
      }
     },
     "fa2782d3d1d44c4e896286fe159d8e8b": {
      "model_module": "@jupyter-widgets/base",
      "model_module_version": "1.2.0",
      "model_name": "LayoutModel",
      "state": {}
     },
     "fa317174721543cda1206782bc955269": {
      "model_module": "@jupyter-widgets/controls",
      "model_module_version": "1.5.0",
      "model_name": "DescriptionStyleModel",
      "state": {
       "description_width": ""
      }
     },
     "fa45782a6df640ad9e2a75f52ce8caca": {
      "model_module": "@jupyter-widgets/controls",
      "model_module_version": "1.5.0",
      "model_name": "FloatProgressModel",
      "state": {
       "description": "val loss: 2.8947: 100%",
       "layout": "IPY_MODEL_d6c00f935c3d4cc5a2718f1e0a83c997",
       "max": 157,
       "style": "IPY_MODEL_23027772f835453a802b1a2f581affc0",
       "value": 157
      }
     },
     "fa46137894b1493e98ecf125b09b4363": {
      "model_module": "@jupyter-widgets/base",
      "model_module_version": "1.2.0",
      "model_name": "LayoutModel",
      "state": {}
     },
     "fa4fb541b13b4d30a0ea99ba8289a08f": {
      "model_module": "@jupyter-widgets/controls",
      "model_module_version": "1.5.0",
      "model_name": "HTMLModel",
      "state": {
       "layout": "IPY_MODEL_9721510199ba4d67b9d05c0d04d1c1cf",
       "style": "IPY_MODEL_e47500e09c73475db43ce5b99d415a6d",
       "value": " 1563/1563 [05:00&lt;00:00,  5.87it/s]"
      }
     },
     "fa7b6372e2bf46cfb18a596d5ccd6d41": {
      "model_module": "@jupyter-widgets/controls",
      "model_module_version": "1.5.0",
      "model_name": "HTMLModel",
      "state": {
       "layout": "IPY_MODEL_50e8ad788ebe44a0b551d3405e5462cd",
       "style": "IPY_MODEL_7ab0bee42da7435daf17454bd8f5c820",
       "value": " 1563/1563 [02:31&lt;00:00, 10.34it/s]"
      }
     },
     "fad343cf1b034339a1490fc707872116": {
      "model_module": "@jupyter-widgets/controls",
      "model_module_version": "1.5.0",
      "model_name": "HTMLModel",
      "state": {
       "layout": "IPY_MODEL_9c67057da781496c9707e350a550cbe2",
       "style": "IPY_MODEL_925b89c2b3b3402e84fb6f7d3d41d104",
       "value": " 157/157 [00:10&lt;00:00, 15.65it/s]"
      }
     },
     "fb04c8dcad3343cf90f9a024196d6f31": {
      "model_module": "@jupyter-widgets/controls",
      "model_module_version": "1.5.0",
      "model_name": "HTMLModel",
      "state": {
       "layout": "IPY_MODEL_4660f6fa20b54374b5ef2cff3615a67c",
       "style": "IPY_MODEL_e6437087584d406981d500552a11c14b",
       "value": " 0/10 [00:37&lt;?, ?it/s]"
      }
     },
     "fb21b099cb4742df96d4e94fef71c15b": {
      "model_module": "@jupyter-widgets/base",
      "model_module_version": "1.2.0",
      "model_name": "LayoutModel",
      "state": {}
     },
     "fb21efc741a84902955a3a6ad374dc60": {
      "model_module": "@jupyter-widgets/controls",
      "model_module_version": "1.5.0",
      "model_name": "ProgressStyleModel",
      "state": {
       "description_width": "initial"
      }
     },
     "fb22cb9f35dd4c7da7172d1d7e2d5aa8": {
      "model_module": "@jupyter-widgets/base",
      "model_module_version": "1.2.0",
      "model_name": "LayoutModel",
      "state": {}
     },
     "fb688da3bf41406fba3f6052f53dc5f5": {
      "model_module": "@jupyter-widgets/controls",
      "model_module_version": "1.5.0",
      "model_name": "HTMLModel",
      "state": {
       "layout": "IPY_MODEL_3cd0aee0845a422ab8f89d369dd94bc3",
       "style": "IPY_MODEL_05bdaa6230844d0e8609b50197d3ea27",
       "value": " 157/157 [00:09&lt;00:00, 16.31it/s]"
      }
     },
     "fb6c30bc743347c6815d00598ebb71b5": {
      "model_module": "@jupyter-widgets/base",
      "model_module_version": "1.2.0",
      "model_name": "LayoutModel",
      "state": {}
     },
     "fb71ecfd5e9d495eae0ca19a14422753": {
      "model_module": "@jupyter-widgets/controls",
      "model_module_version": "1.5.0",
      "model_name": "ProgressStyleModel",
      "state": {
       "description_width": "initial"
      }
     },
     "fb9bd8d4b5dd48d7bf942fb86b99d1f1": {
      "model_module": "@jupyter-widgets/controls",
      "model_module_version": "1.5.0",
      "model_name": "DescriptionStyleModel",
      "state": {
       "description_width": ""
      }
     },
     "fb9cf39af41640e28b3b42844466fda3": {
      "model_module": "@jupyter-widgets/base",
      "model_module_version": "1.2.0",
      "model_name": "LayoutModel",
      "state": {}
     },
     "fba941ac78bd4041bc3107c129a73830": {
      "model_module": "@jupyter-widgets/controls",
      "model_module_version": "1.5.0",
      "model_name": "ProgressStyleModel",
      "state": {
       "description_width": "initial"
      }
     },
     "fbb86e4013e84cad87a6383f187061b9": {
      "model_module": "@jupyter-widgets/controls",
      "model_module_version": "1.5.0",
      "model_name": "DescriptionStyleModel",
      "state": {
       "description_width": ""
      }
     },
     "fbba8760614f447f867096373e2cb18d": {
      "model_module": "@jupyter-widgets/base",
      "model_module_version": "1.2.0",
      "model_name": "LayoutModel",
      "state": {}
     },
     "fbcc70ae6c6f4fb1838045714511585c": {
      "model_module": "@jupyter-widgets/controls",
      "model_module_version": "1.5.0",
      "model_name": "FloatProgressModel",
      "state": {
       "description": "train loss: 3.9566: 100%",
       "layout": "IPY_MODEL_bafeb35003aa41f3878a0227dd256bc8",
       "max": 1563,
       "style": "IPY_MODEL_3137ee10c85e44aaac21e7eba0c7c6b6",
       "value": 1563
      }
     },
     "fbdec6fa32814e6984995bb37023a1e0": {
      "model_module": "@jupyter-widgets/base",
      "model_module_version": "1.2.0",
      "model_name": "LayoutModel",
      "state": {}
     },
     "fbdfd3816db54dbcbbeb86e19307c510": {
      "model_module": "@jupyter-widgets/base",
      "model_module_version": "1.2.0",
      "model_name": "LayoutModel",
      "state": {}
     },
     "fbe22ec721eb488ca863b0a1d200963c": {
      "model_module": "@jupyter-widgets/controls",
      "model_module_version": "1.5.0",
      "model_name": "HTMLModel",
      "state": {
       "layout": "IPY_MODEL_2cb2805a95b54aceb6f22e29d52d7dd1",
       "style": "IPY_MODEL_1d0c0da14a714551a76bd4804b323c40",
       "value": " 1563/1563 [02:35&lt;00:00,  9.99it/s]"
      }
     },
     "fbf1b46de4964b1ca1a49a935f73cbae": {
      "model_module": "@jupyter-widgets/base",
      "model_module_version": "1.2.0",
      "model_name": "LayoutModel",
      "state": {}
     },
     "fbfd24b9ff8746e0905e4a25a1ebac3d": {
      "model_module": "@jupyter-widgets/controls",
      "model_module_version": "1.5.0",
      "model_name": "HTMLModel",
      "state": {
       "layout": "IPY_MODEL_598f38bcc87c41aeab73d6f1115da4b2",
       "style": "IPY_MODEL_befa8224dc264ae0999494ddebf5d3a3",
       "value": " 1563/1563 [03:24&lt;00:00,  1.85it/s]"
      }
     },
     "fc1c943ff4014877ba91cd2b7d93144f": {
      "model_module": "@jupyter-widgets/controls",
      "model_module_version": "1.5.0",
      "model_name": "FloatProgressModel",
      "state": {
       "description": "val loss: 4.7951: 100%",
       "layout": "IPY_MODEL_adf010dfaf8942ca85841861381b672a",
       "max": 157,
       "style": "IPY_MODEL_9aa7ecd5d2d24d6682bd89c7f2263567",
       "value": 157
      }
     },
     "fc3ddea486c34b67972bbc06c2410ef8": {
      "model_module": "@jupyter-widgets/base",
      "model_module_version": "1.2.0",
      "model_name": "LayoutModel",
      "state": {}
     },
     "fc663d9825ff4bada83ef65e65a7096b": {
      "model_module": "@jupyter-widgets/controls",
      "model_module_version": "1.5.0",
      "model_name": "FloatProgressModel",
      "state": {
       "description": "val loss: 3.0036: 100%",
       "layout": "IPY_MODEL_02cca7fbf2a040f987ca2bb280722fe3",
       "max": 157,
       "style": "IPY_MODEL_5df6c61e6d4c4edeaa71bde2cfea423b",
       "value": 157
      }
     },
     "fc6af41690064b6ebce72979735d7cbf": {
      "model_module": "@jupyter-widgets/controls",
      "model_module_version": "1.5.0",
      "model_name": "HTMLModel",
      "state": {
       "layout": "IPY_MODEL_2c206a16593342c58d5a6dd2175f4e68",
       "style": "IPY_MODEL_dcd7e910d0184da39e02285e10921c00",
       "value": " 1563/1563 [04:55&lt;00:00,  6.05it/s]"
      }
     },
     "fc7343bdb45f4a90bae4d9e7ede35bd0": {
      "model_module": "@jupyter-widgets/controls",
      "model_module_version": "1.5.0",
      "model_name": "HTMLModel",
      "state": {
       "layout": "IPY_MODEL_4d983b456fa44e1f9b93a1e11a48e9d7",
       "style": "IPY_MODEL_f63a73678e6e46a2af1418a93fa67b14",
       "value": " 1563/1563 [02:32&lt;00:00,  9.82it/s]"
      }
     },
     "fc9649313be148c39836dcb01fe491cc": {
      "model_module": "@jupyter-widgets/base",
      "model_module_version": "1.2.0",
      "model_name": "LayoutModel",
      "state": {}
     },
     "fca7fa48c770472088bca82ab21a1d50": {
      "model_module": "@jupyter-widgets/controls",
      "model_module_version": "1.5.0",
      "model_name": "FloatProgressModel",
      "state": {
       "description": "train loss: 4.8998: 100%",
       "layout": "IPY_MODEL_a8f14d68f4c34843bf11e4dea42d7aa8",
       "max": 1563,
       "style": "IPY_MODEL_813ae373a9dd4b509bc8c5d72f3023fe",
       "value": 1563
      }
     },
     "fcdfde07f06f4ddbb11dd2f3f26445b4": {
      "model_module": "@jupyter-widgets/base",
      "model_module_version": "1.2.0",
      "model_name": "LayoutModel",
      "state": {}
     },
     "fcef17ed2f994b778ee3b8c347726c79": {
      "model_module": "@jupyter-widgets/controls",
      "model_module_version": "1.5.0",
      "model_name": "FloatProgressModel",
      "state": {
       "description": "val loss: 4.0750: 100%",
       "layout": "IPY_MODEL_eae1d9a504ac4735ae0d6e7f9389dbdd",
       "max": 157,
       "style": "IPY_MODEL_6edbdf240cf447cb9aa920e6048fc8f0",
       "value": 157
      }
     },
     "fd1220bf87324d3f89ecad69daa7c145": {
      "model_module": "@jupyter-widgets/controls",
      "model_module_version": "1.5.0",
      "model_name": "FloatProgressModel",
      "state": {
       "description": "val loss: 3.6675: 100%",
       "layout": "IPY_MODEL_f3774f5796854ebebf9481c99a64efd0",
       "max": 157,
       "style": "IPY_MODEL_c6043d53d9bc48f59b05569a5b6ced34",
       "value": 157
      }
     },
     "fd2d65ffa86647a2a861e343e2099def": {
      "model_module": "@jupyter-widgets/controls",
      "model_module_version": "1.5.0",
      "model_name": "HBoxModel",
      "state": {
       "children": [
        "IPY_MODEL_86b8c81d74cd4c368950e2b37765dfe4",
        "IPY_MODEL_07e924ba646240ffa689b00e5b81033f"
       ],
       "layout": "IPY_MODEL_f21ffb0b2bc442299f07fe4c0609723e"
      }
     },
     "fd5154d8eeb14feaaa7d6ed9782b5e5d": {
      "model_module": "@jupyter-widgets/controls",
      "model_module_version": "1.5.0",
      "model_name": "HTMLModel",
      "state": {
       "layout": "IPY_MODEL_446f19c0d06341c99f58b4f1c19de127",
       "style": "IPY_MODEL_34bd577cd41a43d5afc674768f187bc0",
       "value": " 1397/1563 [03:22&lt;00:24,  6.66it/s]"
      }
     },
     "fd70c23cc6c94c22a12d829525c84f59": {
      "model_module": "@jupyter-widgets/base",
      "model_module_version": "1.2.0",
      "model_name": "LayoutModel",
      "state": {}
     },
     "fd7659d04acb49898a7ec093f5300b03": {
      "model_module": "@jupyter-widgets/controls",
      "model_module_version": "1.5.0",
      "model_name": "FloatProgressModel",
      "state": {
       "description": "train loss: 3.1958: 100%",
       "layout": "IPY_MODEL_ae824cebe4754cba826fcae1341f990e",
       "max": 1563,
       "style": "IPY_MODEL_288d490ded4c4bf4ae81a9e84d07a935",
       "value": 1563
      }
     },
     "fd7e72dc540c4fe8aafcfe263e765246": {
      "model_module": "@jupyter-widgets/controls",
      "model_module_version": "1.5.0",
      "model_name": "HTMLModel",
      "state": {
       "layout": "IPY_MODEL_7f028c31d2374dc7a3e247d85d3377ba",
       "style": "IPY_MODEL_5cbaaba8eda34a67bd626a7fdd1b3480",
       "value": " 157/157 [00:10&lt;00:00, 15.74it/s]"
      }
     },
     "fd8034226b7c4b25ad1a732a58afc5fd": {
      "model_module": "@jupyter-widgets/controls",
      "model_module_version": "1.5.0",
      "model_name": "FloatProgressModel",
      "state": {
       "description": "train loss: 3.6515: 100%",
       "layout": "IPY_MODEL_e70b12aa903e4751a57eefe4d361098b",
       "max": 1563,
       "style": "IPY_MODEL_e5a941543f60462dbd9ac30042596072",
       "value": 1563
      }
     },
     "fd8d970d35b540098dca0d95a0a1325f": {
      "model_module": "@jupyter-widgets/controls",
      "model_module_version": "1.5.0",
      "model_name": "HTMLModel",
      "state": {
       "layout": "IPY_MODEL_6d95df9da45e476684be058ada9b5641",
       "style": "IPY_MODEL_43db99e3ce3f4945beddcc813336a792",
       "value": " 1563/1563 [02:32&lt;00:00, 10.34it/s]"
      }
     },
     "fdb37a1aa05b46c7af9fee5df0d0367a": {
      "model_module": "@jupyter-widgets/controls",
      "model_module_version": "1.5.0",
      "model_name": "FloatProgressModel",
      "state": {
       "description": "val loss: 4.7855: 100%",
       "layout": "IPY_MODEL_aebbba5d933c498e8e277203f1c5e679",
       "max": 157,
       "style": "IPY_MODEL_1c8f93bce7a4424db7d0b9011c22ad30",
       "value": 157
      }
     },
     "fdb65cd6f63d44d28e855a7dadd04de5": {
      "model_module": "@jupyter-widgets/controls",
      "model_module_version": "1.5.0",
      "model_name": "DescriptionStyleModel",
      "state": {
       "description_width": ""
      }
     },
     "fdc3456dca1d42ff8d22f7bbaa085c68": {
      "model_module": "@jupyter-widgets/controls",
      "model_module_version": "1.5.0",
      "model_name": "FloatProgressModel",
      "state": {
       "description": "train loss: 2.8352: 100%",
       "layout": "IPY_MODEL_be5ac1b0d0324c4d885d4756b74d1513",
       "max": 1563,
       "style": "IPY_MODEL_ee6dfe583b7e46f98361d6bbe8658652",
       "value": 1563
      }
     },
     "fdcba58c9d4244bcb35d6712d615654c": {
      "model_module": "@jupyter-widgets/controls",
      "model_module_version": "1.5.0",
      "model_name": "DescriptionStyleModel",
      "state": {
       "description_width": ""
      }
     },
     "fdcef947995e41998fd6b9baad9b1ac1": {
      "model_module": "@jupyter-widgets/base",
      "model_module_version": "1.2.0",
      "model_name": "LayoutModel",
      "state": {}
     },
     "fdd32368c63a476bb14f96a45fb9d30d": {
      "model_module": "@jupyter-widgets/controls",
      "model_module_version": "1.5.0",
      "model_name": "ProgressStyleModel",
      "state": {
       "description_width": "initial"
      }
     },
     "fe0956c6504b432b84fc245d11c331bf": {
      "model_module": "@jupyter-widgets/controls",
      "model_module_version": "1.5.0",
      "model_name": "ProgressStyleModel",
      "state": {
       "description_width": "initial"
      }
     },
     "fe2476e9f0c940509bc95a93042427aa": {
      "model_module": "@jupyter-widgets/controls",
      "model_module_version": "1.5.0",
      "model_name": "HTMLModel",
      "state": {
       "layout": "IPY_MODEL_5f10eaa6bdd44e68b64f64ec7ead9b41",
       "style": "IPY_MODEL_71a6cf51727d4fedb8a796131c37dd25",
       "value": " 157/157 [00:10&lt;00:00, 15.83it/s]"
      }
     },
     "fe2a9a9384664a26ba7a047929931f89": {
      "model_module": "@jupyter-widgets/base",
      "model_module_version": "1.2.0",
      "model_name": "LayoutModel",
      "state": {}
     },
     "fe2e4b75efb54be788a7fbd2cdaa5d6d": {
      "model_module": "@jupyter-widgets/base",
      "model_module_version": "1.2.0",
      "model_name": "LayoutModel",
      "state": {}
     },
     "fe2ec1ec020b49e886f82e2732897df3": {
      "model_module": "@jupyter-widgets/controls",
      "model_module_version": "1.5.0",
      "model_name": "ProgressStyleModel",
      "state": {
       "description_width": "initial"
      }
     },
     "fe38d626edcb43779c4042d022b3fe4d": {
      "model_module": "@jupyter-widgets/base",
      "model_module_version": "1.2.0",
      "model_name": "LayoutModel",
      "state": {}
     },
     "fe4feba0a483449886410a840c06bbd7": {
      "model_module": "@jupyter-widgets/controls",
      "model_module_version": "1.5.0",
      "model_name": "HTMLModel",
      "state": {
       "layout": "IPY_MODEL_4c368c227cdc4a72abde7f0c87397ca8",
       "style": "IPY_MODEL_7cb0b66c94324e6783c3a2e6951445b9",
       "value": " 157/157 [00:15&lt;00:00, 10.57it/s]"
      }
     },
     "fe668aa808a248b6a18431016ebb8fd3": {
      "model_module": "@jupyter-widgets/base",
      "model_module_version": "1.2.0",
      "model_name": "LayoutModel",
      "state": {}
     },
     "fe672c33a58d4a67ad910a2b40090020": {
      "model_module": "@jupyter-widgets/base",
      "model_module_version": "1.2.0",
      "model_name": "LayoutModel",
      "state": {}
     },
     "fe6efe9315ea437fb972b46e58528655": {
      "model_module": "@jupyter-widgets/controls",
      "model_module_version": "1.5.0",
      "model_name": "ProgressStyleModel",
      "state": {
       "description_width": "initial"
      }
     },
     "fe761c4f3a094c26b722894ab23fb946": {
      "model_module": "@jupyter-widgets/controls",
      "model_module_version": "1.5.0",
      "model_name": "DescriptionStyleModel",
      "state": {
       "description_width": ""
      }
     },
     "fe7c87c7344a49f8a7d54430d20a9f0f": {
      "model_module": "@jupyter-widgets/controls",
      "model_module_version": "1.5.0",
      "model_name": "HTMLModel",
      "state": {
       "layout": "IPY_MODEL_854c2e410f9f4d60a182f160e5334c20",
       "style": "IPY_MODEL_b5c76fb87b4f4997aaee67b7458ad1a3",
       "value": " 1563/1563 [04:59&lt;00:00,  5.93it/s]"
      }
     },
     "fe89eea3a8f646aea4b728a579c2471e": {
      "model_module": "@jupyter-widgets/base",
      "model_module_version": "1.2.0",
      "model_name": "LayoutModel",
      "state": {}
     },
     "fe924ed386a74fe5980940689b7d9380": {
      "model_module": "@jupyter-widgets/base",
      "model_module_version": "1.2.0",
      "model_name": "LayoutModel",
      "state": {}
     },
     "fe941724a83e4ffa826fdf8cf56c706e": {
      "model_module": "@jupyter-widgets/base",
      "model_module_version": "1.2.0",
      "model_name": "LayoutModel",
      "state": {}
     },
     "fe9d21a33ff54d91a2f74d07d4d6b866": {
      "model_module": "@jupyter-widgets/base",
      "model_module_version": "1.2.0",
      "model_name": "LayoutModel",
      "state": {}
     },
     "feb0c3b93d944b40a052b48024d9f77d": {
      "model_module": "@jupyter-widgets/base",
      "model_module_version": "1.2.0",
      "model_name": "LayoutModel",
      "state": {}
     },
     "fec2e04b391b44e08fdcf61e6e8a24f8": {
      "model_module": "@jupyter-widgets/base",
      "model_module_version": "1.2.0",
      "model_name": "LayoutModel",
      "state": {}
     },
     "fee9d0ba0dea474790fadb662cde2ef3": {
      "model_module": "@jupyter-widgets/controls",
      "model_module_version": "1.5.0",
      "model_name": "ProgressStyleModel",
      "state": {
       "description_width": "initial"
      }
     },
     "feea494c7cc7436e819c1552a1bf615c": {
      "model_module": "@jupyter-widgets/base",
      "model_module_version": "1.2.0",
      "model_name": "LayoutModel",
      "state": {}
     },
     "fefbd60fe9f8475480c72ce3955bfd50": {
      "model_module": "@jupyter-widgets/controls",
      "model_module_version": "1.5.0",
      "model_name": "ProgressStyleModel",
      "state": {
       "description_width": "initial"
      }
     },
     "fefe874acb934cbbbb1ba1fae69a6f56": {
      "model_module": "@jupyter-widgets/base",
      "model_module_version": "1.2.0",
      "model_name": "LayoutModel",
      "state": {}
     },
     "feff4d65dcbe456aadebd852987d7d5d": {
      "model_module": "@jupyter-widgets/base",
      "model_module_version": "1.2.0",
      "model_name": "LayoutModel",
      "state": {}
     },
     "ff0a3eb1afb540659225e852f5df7c56": {
      "model_module": "@jupyter-widgets/base",
      "model_module_version": "1.2.0",
      "model_name": "LayoutModel",
      "state": {}
     },
     "ff20dda7c0c54c7e85cf684373458683": {
      "model_module": "@jupyter-widgets/controls",
      "model_module_version": "1.5.0",
      "model_name": "DescriptionStyleModel",
      "state": {
       "description_width": ""
      }
     },
     "ff231594859f4b4ca6772e06c26e4403": {
      "model_module": "@jupyter-widgets/controls",
      "model_module_version": "1.5.0",
      "model_name": "FloatProgressModel",
      "state": {
       "description": "val loss: 4.8308: 100%",
       "layout": "IPY_MODEL_aa717bdc8451487db0062daea43907cb",
       "max": 157,
       "style": "IPY_MODEL_9cc841a3715347fa9fb02ac702ae8891",
       "value": 157
      }
     },
     "ff2e31febaff46bcae2b0d886ebda518": {
      "model_module": "@jupyter-widgets/base",
      "model_module_version": "1.2.0",
      "model_name": "LayoutModel",
      "state": {}
     },
     "ff4c8b8d301c45e8927f34d8667e2d22": {
      "model_module": "@jupyter-widgets/controls",
      "model_module_version": "1.5.0",
      "model_name": "HTMLModel",
      "state": {
       "layout": "IPY_MODEL_6f147880411e4aa994b4dc3976b9ac88",
       "style": "IPY_MODEL_d25699ee8f874ef8b592866528f43fef",
       "value": " 157/157 [00:10&lt;00:00, 15.52it/s]"
      }
     },
     "ff5e87d62e344d6393ef0fdb9714b447": {
      "model_module": "@jupyter-widgets/controls",
      "model_module_version": "1.5.0",
      "model_name": "DescriptionStyleModel",
      "state": {
       "description_width": ""
      }
     },
     "ff72ecdc466b46c795ef3c9251d6fe7d": {
      "model_module": "@jupyter-widgets/base",
      "model_module_version": "1.2.0",
      "model_name": "LayoutModel",
      "state": {}
     },
     "ff8f853995634fcb9f2a957967910098": {
      "model_module": "@jupyter-widgets/controls",
      "model_module_version": "1.5.0",
      "model_name": "FloatProgressModel",
      "state": {
       "description": "train loss: 3.6058: 100%",
       "layout": "IPY_MODEL_d1b1b6778f1047aeb70b998338f07bd6",
       "max": 1563,
       "style": "IPY_MODEL_f7c13139eada46adab84a94791aa1f75",
       "value": 1563
      }
     },
     "ffa18d8304f043c6a2eb6947e894774b": {
      "model_module": "@jupyter-widgets/controls",
      "model_module_version": "1.5.0",
      "model_name": "ProgressStyleModel",
      "state": {
       "description_width": "initial"
      }
     },
     "ffb098f76fc94cc6a8a9ae792878077b": {
      "model_module": "@jupyter-widgets/base",
      "model_module_version": "1.2.0",
      "model_name": "LayoutModel",
      "state": {}
     },
     "ffe4f4e8421c4db889ca40b560f66ce4": {
      "model_module": "@jupyter-widgets/controls",
      "model_module_version": "1.5.0",
      "model_name": "HTMLModel",
      "state": {
       "layout": "IPY_MODEL_920fba055bb2475db75d333c0dbdfdb3",
       "style": "IPY_MODEL_25f469afa81d4513a77a72772d30b24d",
       "value": " 157/157 [00:09&lt;00:00, 16.33it/s]"
      }
     }
    },
    "version_major": 2,
    "version_minor": 0
   }
  }
 },
 "nbformat": 4,
 "nbformat_minor": 4
}
